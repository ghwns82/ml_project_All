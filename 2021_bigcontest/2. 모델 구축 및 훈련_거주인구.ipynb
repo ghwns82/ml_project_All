{
 "cells": [
  {
   "cell_type": "markdown",
   "metadata": {},
   "source": [
    "# 필요한 데이터 추출"
   ]
  },
  {
   "cell_type": "code",
   "execution_count": 4,
   "metadata": {
    "ExecuteTime": {
     "end_time": "2021-09-15T00:20:21.897663Z",
     "start_time": "2021-09-15T00:20:21.886664Z"
    }
   },
   "outputs": [
    {
     "data": {
      "text/plain": [
       "['데이터/01_제공데이터_update(210811)/01_음식물쓰레기_FOOD_WASTE_210811_update.CSV',\n",
       " '데이터/01_제공데이터_update(210811)/02-1_내국인유동인구_KOREAN.CSV',\n",
       " '데이터/01_제공데이터_update(210811)/02-2_장기체류 외국인 유동인구_LONG_TERM_FRGN.CSV',\n",
       " '데이터/01_제공데이터_update(210811)/02-3_단기체류 외국인 유동인구_SHORT_TERM_FRGN.CSV',\n",
       " '데이터/01_제공데이터_update(210811)/03_거주인구_RESIDENT_POP.CSV',\n",
       " '데이터/01_제공데이터_update(210811)/04_음식관련 카드소비_CARD_SPENDING.CSV']"
      ]
     },
     "execution_count": 4,
     "metadata": {},
     "output_type": "execute_result"
    }
   ],
   "source": [
    "import os\n",
    "\n",
    "my_path=\"데이터/01_제공데이터_update(210811)\"\n",
    "my_paths = [ my_path + \"/\"+i for i in os.listdir(my_path)]\n",
    "my_paths"
   ]
  },
  {
   "cell_type": "code",
   "execution_count": 5,
   "metadata": {
    "ExecuteTime": {
     "end_time": "2021-09-15T00:20:21.906668Z",
     "start_time": "2021-09-15T00:20:21.899665Z"
    }
   },
   "outputs": [],
   "source": [
    "import pandas as pd\n",
    "import numpy as np"
   ]
  },
  {
   "cell_type": "code",
   "execution_count": 6,
   "metadata": {
    "ExecuteTime": {
     "end_time": "2021-09-15T00:20:25.113866Z",
     "start_time": "2021-09-15T00:20:21.909665Z"
    }
   },
   "outputs": [],
   "source": [
    "df_1=pd.read_csv(my_paths[0], encoding='euc-kr')\n",
    "df_3=pd.read_csv(my_paths[4], encoding='euc-kr')"
   ]
  },
  {
   "cell_type": "code",
   "execution_count": 7,
   "metadata": {
    "ExecuteTime": {
     "end_time": "2021-09-15T00:20:25.150830Z",
     "start_time": "2021-09-15T00:20:25.116829Z"
    }
   },
   "outputs": [
    {
     "data": {
      "text/html": [
       "<div>\n",
       "<style scoped>\n",
       "    .dataframe tbody tr th:only-of-type {\n",
       "        vertical-align: middle;\n",
       "    }\n",
       "\n",
       "    .dataframe tbody tr th {\n",
       "        vertical-align: top;\n",
       "    }\n",
       "\n",
       "    .dataframe thead th {\n",
       "        text-align: right;\n",
       "    }\n",
       "</style>\n",
       "<table border=\"1\" class=\"dataframe\">\n",
       "  <thead>\n",
       "    <tr style=\"text-align: right;\">\n",
       "      <th></th>\n",
       "      <th>base_date</th>\n",
       "      <th>city</th>\n",
       "      <th>emd_cd</th>\n",
       "      <th>emd_nm</th>\n",
       "      <th>em_area_cd</th>\n",
       "      <th>em_cnt</th>\n",
       "      <th>em_g</th>\n",
       "      <th>pay_amt</th>\n",
       "    </tr>\n",
       "  </thead>\n",
       "  <tbody>\n",
       "    <tr>\n",
       "      <th>0</th>\n",
       "      <td>2018-01-01</td>\n",
       "      <td>제주시</td>\n",
       "      <td>50110670</td>\n",
       "      <td>외도동</td>\n",
       "      <td>W6X062</td>\n",
       "      <td>2</td>\n",
       "      <td>15500</td>\n",
       "      <td>464</td>\n",
       "    </tr>\n",
       "    <tr>\n",
       "      <th>1</th>\n",
       "      <td>2018-01-01</td>\n",
       "      <td>제주시</td>\n",
       "      <td>50110630</td>\n",
       "      <td>아라동</td>\n",
       "      <td>W6XA97</td>\n",
       "      <td>25</td>\n",
       "      <td>59800</td>\n",
       "      <td>1787</td>\n",
       "    </tr>\n",
       "    <tr>\n",
       "      <th>2</th>\n",
       "      <td>2018-01-01</td>\n",
       "      <td>제주시</td>\n",
       "      <td>50110630</td>\n",
       "      <td>아라동</td>\n",
       "      <td>W6XA96</td>\n",
       "      <td>8</td>\n",
       "      <td>25350</td>\n",
       "      <td>758</td>\n",
       "    </tr>\n",
       "    <tr>\n",
       "      <th>3</th>\n",
       "      <td>2018-01-01</td>\n",
       "      <td>제주시</td>\n",
       "      <td>50110630</td>\n",
       "      <td>아라동</td>\n",
       "      <td>W6XA95</td>\n",
       "      <td>12</td>\n",
       "      <td>30000</td>\n",
       "      <td>898</td>\n",
       "    </tr>\n",
       "    <tr>\n",
       "      <th>4</th>\n",
       "      <td>2018-01-01</td>\n",
       "      <td>제주시</td>\n",
       "      <td>50110630</td>\n",
       "      <td>아라동</td>\n",
       "      <td>W6XA94</td>\n",
       "      <td>14</td>\n",
       "      <td>44050</td>\n",
       "      <td>1317</td>\n",
       "    </tr>\n",
       "    <tr>\n",
       "      <th>...</th>\n",
       "      <td>...</td>\n",
       "      <td>...</td>\n",
       "      <td>...</td>\n",
       "      <td>...</td>\n",
       "      <td>...</td>\n",
       "      <td>...</td>\n",
       "      <td>...</td>\n",
       "      <td>...</td>\n",
       "    </tr>\n",
       "    <tr>\n",
       "      <th>2211440</th>\n",
       "      <td>2021-06-30</td>\n",
       "      <td>제주시</td>\n",
       "      <td>50110250</td>\n",
       "      <td>한림읍</td>\n",
       "      <td>W6XEB4</td>\n",
       "      <td>12</td>\n",
       "      <td>58250</td>\n",
       "      <td>1743</td>\n",
       "    </tr>\n",
       "    <tr>\n",
       "      <th>2211441</th>\n",
       "      <td>2021-06-30</td>\n",
       "      <td>제주시</td>\n",
       "      <td>50110250</td>\n",
       "      <td>한림읍</td>\n",
       "      <td>W6XEB7</td>\n",
       "      <td>15</td>\n",
       "      <td>111000</td>\n",
       "      <td>3326</td>\n",
       "    </tr>\n",
       "    <tr>\n",
       "      <th>2211442</th>\n",
       "      <td>2021-06-30</td>\n",
       "      <td>제주시</td>\n",
       "      <td>50110250</td>\n",
       "      <td>한림읍</td>\n",
       "      <td>W6XEB8</td>\n",
       "      <td>21</td>\n",
       "      <td>48300</td>\n",
       "      <td>1444</td>\n",
       "    </tr>\n",
       "    <tr>\n",
       "      <th>2211443</th>\n",
       "      <td>2021-06-30</td>\n",
       "      <td>제주시</td>\n",
       "      <td>50110250</td>\n",
       "      <td>한림읍</td>\n",
       "      <td>W6XEA2</td>\n",
       "      <td>5</td>\n",
       "      <td>22050</td>\n",
       "      <td>661</td>\n",
       "    </tr>\n",
       "    <tr>\n",
       "      <th>2211444</th>\n",
       "      <td>2021-06-30</td>\n",
       "      <td>제주시</td>\n",
       "      <td>50110640</td>\n",
       "      <td>오라동</td>\n",
       "      <td>W6XAD5</td>\n",
       "      <td>2</td>\n",
       "      <td>2900</td>\n",
       "      <td>87</td>\n",
       "    </tr>\n",
       "  </tbody>\n",
       "</table>\n",
       "<p>2211445 rows × 8 columns</p>\n",
       "</div>"
      ],
      "text/plain": [
       "          base_date city    emd_cd emd_nm em_area_cd  em_cnt    em_g  pay_amt\n",
       "0        2018-01-01  제주시  50110670    외도동     W6X062       2   15500      464\n",
       "1        2018-01-01  제주시  50110630    아라동     W6XA97      25   59800     1787\n",
       "2        2018-01-01  제주시  50110630    아라동     W6XA96       8   25350      758\n",
       "3        2018-01-01  제주시  50110630    아라동     W6XA95      12   30000      898\n",
       "4        2018-01-01  제주시  50110630    아라동     W6XA94      14   44050     1317\n",
       "...             ...  ...       ...    ...        ...     ...     ...      ...\n",
       "2211440  2021-06-30  제주시  50110250    한림읍     W6XEB4      12   58250     1743\n",
       "2211441  2021-06-30  제주시  50110250    한림읍     W6XEB7      15  111000     3326\n",
       "2211442  2021-06-30  제주시  50110250    한림읍     W6XEB8      21   48300     1444\n",
       "2211443  2021-06-30  제주시  50110250    한림읍     W6XEA2       5   22050      661\n",
       "2211444  2021-06-30  제주시  50110640    오라동     W6XAD5       2    2900       87\n",
       "\n",
       "[2211445 rows x 8 columns]"
      ]
     },
     "execution_count": 7,
     "metadata": {},
     "output_type": "execute_result"
    }
   ],
   "source": [
    "df_1"
   ]
  },
  {
   "cell_type": "code",
   "execution_count": 8,
   "metadata": {
    "ExecuteTime": {
     "end_time": "2021-09-15T00:20:25.186829Z",
     "start_time": "2021-09-15T00:20:25.153831Z"
    }
   },
   "outputs": [
    {
     "data": {
      "text/html": [
       "<div>\n",
       "<style scoped>\n",
       "    .dataframe tbody tr th:only-of-type {\n",
       "        vertical-align: middle;\n",
       "    }\n",
       "\n",
       "    .dataframe tbody tr th {\n",
       "        vertical-align: top;\n",
       "    }\n",
       "\n",
       "    .dataframe thead th {\n",
       "        text-align: right;\n",
       "    }\n",
       "</style>\n",
       "<table border=\"1\" class=\"dataframe\">\n",
       "  <thead>\n",
       "    <tr style=\"text-align: right;\">\n",
       "      <th></th>\n",
       "      <th>base_year</th>\n",
       "      <th>base_month</th>\n",
       "      <th>city</th>\n",
       "      <th>emd_cd</th>\n",
       "      <th>emd_nm</th>\n",
       "      <th>sex</th>\n",
       "      <th>resid_reg_pop</th>\n",
       "      <th>foreign_pop</th>\n",
       "      <th>total_pop</th>\n",
       "    </tr>\n",
       "  </thead>\n",
       "  <tbody>\n",
       "    <tr>\n",
       "      <th>0</th>\n",
       "      <td>2018</td>\n",
       "      <td>1</td>\n",
       "      <td>제주시</td>\n",
       "      <td>50110590</td>\n",
       "      <td>건입동</td>\n",
       "      <td>남성</td>\n",
       "      <td>5085</td>\n",
       "      <td>146</td>\n",
       "      <td>5231</td>\n",
       "    </tr>\n",
       "    <tr>\n",
       "      <th>1</th>\n",
       "      <td>2018</td>\n",
       "      <td>1</td>\n",
       "      <td>제주시</td>\n",
       "      <td>50110590</td>\n",
       "      <td>건입동</td>\n",
       "      <td>여성</td>\n",
       "      <td>4715</td>\n",
       "      <td>82</td>\n",
       "      <td>4797</td>\n",
       "    </tr>\n",
       "    <tr>\n",
       "      <th>2</th>\n",
       "      <td>2018</td>\n",
       "      <td>1</td>\n",
       "      <td>제주시</td>\n",
       "      <td>50110256</td>\n",
       "      <td>구좌읍</td>\n",
       "      <td>남성</td>\n",
       "      <td>7965</td>\n",
       "      <td>368</td>\n",
       "      <td>8333</td>\n",
       "    </tr>\n",
       "    <tr>\n",
       "      <th>3</th>\n",
       "      <td>2018</td>\n",
       "      <td>1</td>\n",
       "      <td>제주시</td>\n",
       "      <td>50110256</td>\n",
       "      <td>구좌읍</td>\n",
       "      <td>여성</td>\n",
       "      <td>7609</td>\n",
       "      <td>184</td>\n",
       "      <td>7793</td>\n",
       "    </tr>\n",
       "    <tr>\n",
       "      <th>4</th>\n",
       "      <td>2018</td>\n",
       "      <td>1</td>\n",
       "      <td>서귀포시</td>\n",
       "      <td>50130253</td>\n",
       "      <td>남원읍</td>\n",
       "      <td>남성</td>\n",
       "      <td>9806</td>\n",
       "      <td>428</td>\n",
       "      <td>10234</td>\n",
       "    </tr>\n",
       "    <tr>\n",
       "      <th>...</th>\n",
       "      <td>...</td>\n",
       "      <td>...</td>\n",
       "      <td>...</td>\n",
       "      <td>...</td>\n",
       "      <td>...</td>\n",
       "      <td>...</td>\n",
       "      <td>...</td>\n",
       "      <td>...</td>\n",
       "      <td>...</td>\n",
       "    </tr>\n",
       "    <tr>\n",
       "      <th>3607</th>\n",
       "      <td>2021</td>\n",
       "      <td>6</td>\n",
       "      <td>제주시</td>\n",
       "      <td>50110250</td>\n",
       "      <td>한림읍</td>\n",
       "      <td>여성</td>\n",
       "      <td>10341</td>\n",
       "      <td>1140</td>\n",
       "      <td>11481</td>\n",
       "    </tr>\n",
       "    <tr>\n",
       "      <th>3608</th>\n",
       "      <td>2021</td>\n",
       "      <td>6</td>\n",
       "      <td>제주시</td>\n",
       "      <td>50110600</td>\n",
       "      <td>화북동</td>\n",
       "      <td>남성</td>\n",
       "      <td>12062</td>\n",
       "      <td>169</td>\n",
       "      <td>12231</td>\n",
       "    </tr>\n",
       "    <tr>\n",
       "      <th>3609</th>\n",
       "      <td>2021</td>\n",
       "      <td>6</td>\n",
       "      <td>제주시</td>\n",
       "      <td>50110600</td>\n",
       "      <td>화북동</td>\n",
       "      <td>여성</td>\n",
       "      <td>12238</td>\n",
       "      <td>161</td>\n",
       "      <td>12399</td>\n",
       "    </tr>\n",
       "    <tr>\n",
       "      <th>3610</th>\n",
       "      <td>2021</td>\n",
       "      <td>6</td>\n",
       "      <td>서귀포시</td>\n",
       "      <td>50130550</td>\n",
       "      <td>효돈동</td>\n",
       "      <td>남성</td>\n",
       "      <td>2660</td>\n",
       "      <td>39</td>\n",
       "      <td>2699</td>\n",
       "    </tr>\n",
       "    <tr>\n",
       "      <th>3611</th>\n",
       "      <td>2021</td>\n",
       "      <td>6</td>\n",
       "      <td>서귀포시</td>\n",
       "      <td>50130550</td>\n",
       "      <td>효돈동</td>\n",
       "      <td>여성</td>\n",
       "      <td>2597</td>\n",
       "      <td>18</td>\n",
       "      <td>2615</td>\n",
       "    </tr>\n",
       "  </tbody>\n",
       "</table>\n",
       "<p>3612 rows × 9 columns</p>\n",
       "</div>"
      ],
      "text/plain": [
       "      base_year  base_month  city    emd_cd emd_nm sex  resid_reg_pop  \\\n",
       "0          2018           1   제주시  50110590    건입동  남성           5085   \n",
       "1          2018           1   제주시  50110590    건입동  여성           4715   \n",
       "2          2018           1   제주시  50110256    구좌읍  남성           7965   \n",
       "3          2018           1   제주시  50110256    구좌읍  여성           7609   \n",
       "4          2018           1  서귀포시  50130253    남원읍  남성           9806   \n",
       "...         ...         ...   ...       ...    ...  ..            ...   \n",
       "3607       2021           6   제주시  50110250    한림읍  여성          10341   \n",
       "3608       2021           6   제주시  50110600    화북동  남성          12062   \n",
       "3609       2021           6   제주시  50110600    화북동  여성          12238   \n",
       "3610       2021           6  서귀포시  50130550    효돈동  남성           2660   \n",
       "3611       2021           6  서귀포시  50130550    효돈동  여성           2597   \n",
       "\n",
       "      foreign_pop  total_pop  \n",
       "0             146       5231  \n",
       "1              82       4797  \n",
       "2             368       8333  \n",
       "3             184       7793  \n",
       "4             428      10234  \n",
       "...           ...        ...  \n",
       "3607         1140      11481  \n",
       "3608          169      12231  \n",
       "3609          161      12399  \n",
       "3610           39       2699  \n",
       "3611           18       2615  \n",
       "\n",
       "[3612 rows x 9 columns]"
      ]
     },
     "execution_count": 8,
     "metadata": {},
     "output_type": "execute_result"
    }
   ],
   "source": [
    "df_3"
   ]
  },
  {
   "cell_type": "code",
   "execution_count": 9,
   "metadata": {
    "ExecuteTime": {
     "end_time": "2021-09-15T00:20:25.312876Z",
     "start_time": "2021-09-15T00:20:25.189830Z"
    }
   },
   "outputs": [],
   "source": [
    "df_3_back_up= df_3.copy()\n",
    "df_1_back_up= df_1.copy()"
   ]
  },
  {
   "cell_type": "code",
   "execution_count": 10,
   "metadata": {
    "ExecuteTime": {
     "end_time": "2021-09-15T00:20:25.429126Z",
     "start_time": "2021-09-15T00:20:25.314828Z"
    }
   },
   "outputs": [],
   "source": [
    "# df_3=df_3_back_up.copy()\n",
    "df_1=df_1_back_up.copy()"
   ]
  },
  {
   "cell_type": "code",
   "execution_count": 11,
   "metadata": {
    "ExecuteTime": {
     "end_time": "2021-09-15T00:20:25.439841Z",
     "start_time": "2021-09-15T00:20:25.430830Z"
    }
   },
   "outputs": [],
   "source": [
    "df_3=df_3.drop([\"city\",\"emd_cd\",\"sex\"], axis=1)"
   ]
  },
  {
   "cell_type": "code",
   "execution_count": 12,
   "metadata": {
    "ExecuteTime": {
     "end_time": "2021-09-15T00:20:25.470379Z",
     "start_time": "2021-09-15T00:20:25.444832Z"
    }
   },
   "outputs": [],
   "source": [
    "df_3 = df_3.astype({\n",
    "    'base_year':\"str\",\n",
    "    'base_month':\"str\",\n",
    "})\n",
    "df_3['base_month'] = df_3['base_month'].str.zfill(2)"
   ]
  },
  {
   "cell_type": "code",
   "execution_count": 13,
   "metadata": {
    "ExecuteTime": {
     "end_time": "2021-09-15T00:20:25.547374Z",
     "start_time": "2021-09-15T00:20:25.475376Z"
    }
   },
   "outputs": [
    {
     "data": {
      "text/html": [
       "<div>\n",
       "<style scoped>\n",
       "    .dataframe tbody tr th:only-of-type {\n",
       "        vertical-align: middle;\n",
       "    }\n",
       "\n",
       "    .dataframe tbody tr th {\n",
       "        vertical-align: top;\n",
       "    }\n",
       "\n",
       "    .dataframe thead th {\n",
       "        text-align: right;\n",
       "    }\n",
       "</style>\n",
       "<table border=\"1\" class=\"dataframe\">\n",
       "  <thead>\n",
       "    <tr style=\"text-align: right;\">\n",
       "      <th></th>\n",
       "      <th>base_year</th>\n",
       "      <th>base_month</th>\n",
       "      <th>emd_nm</th>\n",
       "      <th>resid_reg_pop</th>\n",
       "      <th>foreign_pop</th>\n",
       "      <th>total_pop</th>\n",
       "      <th>base_date</th>\n",
       "    </tr>\n",
       "  </thead>\n",
       "  <tbody>\n",
       "    <tr>\n",
       "      <th>0</th>\n",
       "      <td>2018</td>\n",
       "      <td>01</td>\n",
       "      <td>건입동</td>\n",
       "      <td>5085</td>\n",
       "      <td>146</td>\n",
       "      <td>5231</td>\n",
       "      <td>2018-01</td>\n",
       "    </tr>\n",
       "    <tr>\n",
       "      <th>1</th>\n",
       "      <td>2018</td>\n",
       "      <td>01</td>\n",
       "      <td>건입동</td>\n",
       "      <td>4715</td>\n",
       "      <td>82</td>\n",
       "      <td>4797</td>\n",
       "      <td>2018-01</td>\n",
       "    </tr>\n",
       "    <tr>\n",
       "      <th>2</th>\n",
       "      <td>2018</td>\n",
       "      <td>01</td>\n",
       "      <td>구좌읍</td>\n",
       "      <td>7965</td>\n",
       "      <td>368</td>\n",
       "      <td>8333</td>\n",
       "      <td>2018-01</td>\n",
       "    </tr>\n",
       "    <tr>\n",
       "      <th>3</th>\n",
       "      <td>2018</td>\n",
       "      <td>01</td>\n",
       "      <td>구좌읍</td>\n",
       "      <td>7609</td>\n",
       "      <td>184</td>\n",
       "      <td>7793</td>\n",
       "      <td>2018-01</td>\n",
       "    </tr>\n",
       "    <tr>\n",
       "      <th>4</th>\n",
       "      <td>2018</td>\n",
       "      <td>01</td>\n",
       "      <td>남원읍</td>\n",
       "      <td>9806</td>\n",
       "      <td>428</td>\n",
       "      <td>10234</td>\n",
       "      <td>2018-01</td>\n",
       "    </tr>\n",
       "    <tr>\n",
       "      <th>...</th>\n",
       "      <td>...</td>\n",
       "      <td>...</td>\n",
       "      <td>...</td>\n",
       "      <td>...</td>\n",
       "      <td>...</td>\n",
       "      <td>...</td>\n",
       "      <td>...</td>\n",
       "    </tr>\n",
       "    <tr>\n",
       "      <th>3607</th>\n",
       "      <td>2021</td>\n",
       "      <td>06</td>\n",
       "      <td>한림읍</td>\n",
       "      <td>10341</td>\n",
       "      <td>1140</td>\n",
       "      <td>11481</td>\n",
       "      <td>2021-06</td>\n",
       "    </tr>\n",
       "    <tr>\n",
       "      <th>3608</th>\n",
       "      <td>2021</td>\n",
       "      <td>06</td>\n",
       "      <td>화북동</td>\n",
       "      <td>12062</td>\n",
       "      <td>169</td>\n",
       "      <td>12231</td>\n",
       "      <td>2021-06</td>\n",
       "    </tr>\n",
       "    <tr>\n",
       "      <th>3609</th>\n",
       "      <td>2021</td>\n",
       "      <td>06</td>\n",
       "      <td>화북동</td>\n",
       "      <td>12238</td>\n",
       "      <td>161</td>\n",
       "      <td>12399</td>\n",
       "      <td>2021-06</td>\n",
       "    </tr>\n",
       "    <tr>\n",
       "      <th>3610</th>\n",
       "      <td>2021</td>\n",
       "      <td>06</td>\n",
       "      <td>효돈동</td>\n",
       "      <td>2660</td>\n",
       "      <td>39</td>\n",
       "      <td>2699</td>\n",
       "      <td>2021-06</td>\n",
       "    </tr>\n",
       "    <tr>\n",
       "      <th>3611</th>\n",
       "      <td>2021</td>\n",
       "      <td>06</td>\n",
       "      <td>효돈동</td>\n",
       "      <td>2597</td>\n",
       "      <td>18</td>\n",
       "      <td>2615</td>\n",
       "      <td>2021-06</td>\n",
       "    </tr>\n",
       "  </tbody>\n",
       "</table>\n",
       "<p>3612 rows × 7 columns</p>\n",
       "</div>"
      ],
      "text/plain": [
       "     base_year base_month emd_nm  resid_reg_pop  foreign_pop  total_pop  \\\n",
       "0         2018         01    건입동           5085          146       5231   \n",
       "1         2018         01    건입동           4715           82       4797   \n",
       "2         2018         01    구좌읍           7965          368       8333   \n",
       "3         2018         01    구좌읍           7609          184       7793   \n",
       "4         2018         01    남원읍           9806          428      10234   \n",
       "...        ...        ...    ...            ...          ...        ...   \n",
       "3607      2021         06    한림읍          10341         1140      11481   \n",
       "3608      2021         06    화북동          12062          169      12231   \n",
       "3609      2021         06    화북동          12238          161      12399   \n",
       "3610      2021         06    효돈동           2660           39       2699   \n",
       "3611      2021         06    효돈동           2597           18       2615   \n",
       "\n",
       "     base_date  \n",
       "0      2018-01  \n",
       "1      2018-01  \n",
       "2      2018-01  \n",
       "3      2018-01  \n",
       "4      2018-01  \n",
       "...        ...  \n",
       "3607   2021-06  \n",
       "3608   2021-06  \n",
       "3609   2021-06  \n",
       "3610   2021-06  \n",
       "3611   2021-06  \n",
       "\n",
       "[3612 rows x 7 columns]"
      ]
     },
     "execution_count": 13,
     "metadata": {},
     "output_type": "execute_result"
    }
   ],
   "source": [
    "df_3[\"base_date\"]= df_3['base_year'] +\"-\"+ df_3['base_month']\n",
    "df_3"
   ]
  },
  {
   "cell_type": "code",
   "execution_count": 14,
   "metadata": {
    "ExecuteTime": {
     "end_time": "2021-09-15T00:20:25.581375Z",
     "start_time": "2021-09-15T00:20:25.550380Z"
    }
   },
   "outputs": [
    {
     "data": {
      "text/html": [
       "<div>\n",
       "<style scoped>\n",
       "    .dataframe tbody tr th:only-of-type {\n",
       "        vertical-align: middle;\n",
       "    }\n",
       "\n",
       "    .dataframe tbody tr th {\n",
       "        vertical-align: top;\n",
       "    }\n",
       "\n",
       "    .dataframe thead th {\n",
       "        text-align: right;\n",
       "    }\n",
       "</style>\n",
       "<table border=\"1\" class=\"dataframe\">\n",
       "  <thead>\n",
       "    <tr style=\"text-align: right;\">\n",
       "      <th></th>\n",
       "      <th>base_date</th>\n",
       "      <th>emd_nm</th>\n",
       "      <th>resid_reg_pop</th>\n",
       "      <th>foreign_pop</th>\n",
       "      <th>total_pop</th>\n",
       "    </tr>\n",
       "  </thead>\n",
       "  <tbody>\n",
       "    <tr>\n",
       "      <th>0</th>\n",
       "      <td>2018-01</td>\n",
       "      <td>건입동</td>\n",
       "      <td>9800</td>\n",
       "      <td>228</td>\n",
       "      <td>10028</td>\n",
       "    </tr>\n",
       "    <tr>\n",
       "      <th>1</th>\n",
       "      <td>2018-01</td>\n",
       "      <td>구좌읍</td>\n",
       "      <td>15574</td>\n",
       "      <td>552</td>\n",
       "      <td>16126</td>\n",
       "    </tr>\n",
       "    <tr>\n",
       "      <th>2</th>\n",
       "      <td>2018-01</td>\n",
       "      <td>남원읍</td>\n",
       "      <td>19112</td>\n",
       "      <td>628</td>\n",
       "      <td>19740</td>\n",
       "    </tr>\n",
       "    <tr>\n",
       "      <th>3</th>\n",
       "      <td>2018-01</td>\n",
       "      <td>노형동</td>\n",
       "      <td>53369</td>\n",
       "      <td>1589</td>\n",
       "      <td>54958</td>\n",
       "    </tr>\n",
       "    <tr>\n",
       "      <th>4</th>\n",
       "      <td>2018-01</td>\n",
       "      <td>대륜동</td>\n",
       "      <td>13473</td>\n",
       "      <td>178</td>\n",
       "      <td>13651</td>\n",
       "    </tr>\n",
       "    <tr>\n",
       "      <th>...</th>\n",
       "      <td>...</td>\n",
       "      <td>...</td>\n",
       "      <td>...</td>\n",
       "      <td>...</td>\n",
       "      <td>...</td>\n",
       "    </tr>\n",
       "    <tr>\n",
       "      <th>1801</th>\n",
       "      <td>2021-06</td>\n",
       "      <td>표선면</td>\n",
       "      <td>12347</td>\n",
       "      <td>334</td>\n",
       "      <td>12681</td>\n",
       "    </tr>\n",
       "    <tr>\n",
       "      <th>1802</th>\n",
       "      <td>2021-06</td>\n",
       "      <td>한경면</td>\n",
       "      <td>9158</td>\n",
       "      <td>337</td>\n",
       "      <td>9495</td>\n",
       "    </tr>\n",
       "    <tr>\n",
       "      <th>1803</th>\n",
       "      <td>2021-06</td>\n",
       "      <td>한림읍</td>\n",
       "      <td>21232</td>\n",
       "      <td>3230</td>\n",
       "      <td>24462</td>\n",
       "    </tr>\n",
       "    <tr>\n",
       "      <th>1804</th>\n",
       "      <td>2021-06</td>\n",
       "      <td>화북동</td>\n",
       "      <td>24300</td>\n",
       "      <td>330</td>\n",
       "      <td>24630</td>\n",
       "    </tr>\n",
       "    <tr>\n",
       "      <th>1805</th>\n",
       "      <td>2021-06</td>\n",
       "      <td>효돈동</td>\n",
       "      <td>5257</td>\n",
       "      <td>57</td>\n",
       "      <td>5314</td>\n",
       "    </tr>\n",
       "  </tbody>\n",
       "</table>\n",
       "<p>1806 rows × 5 columns</p>\n",
       "</div>"
      ],
      "text/plain": [
       "     base_date emd_nm  resid_reg_pop  foreign_pop  total_pop\n",
       "0      2018-01    건입동           9800          228      10028\n",
       "1      2018-01    구좌읍          15574          552      16126\n",
       "2      2018-01    남원읍          19112          628      19740\n",
       "3      2018-01    노형동          53369         1589      54958\n",
       "4      2018-01    대륜동          13473          178      13651\n",
       "...        ...    ...            ...          ...        ...\n",
       "1801   2021-06    표선면          12347          334      12681\n",
       "1802   2021-06    한경면           9158          337       9495\n",
       "1803   2021-06    한림읍          21232         3230      24462\n",
       "1804   2021-06    화북동          24300          330      24630\n",
       "1805   2021-06    효돈동           5257           57       5314\n",
       "\n",
       "[1806 rows x 5 columns]"
      ]
     },
     "execution_count": 14,
     "metadata": {},
     "output_type": "execute_result"
    }
   ],
   "source": [
    "df_3 = pd.DataFrame(df_3.groupby([\"base_date\",\"emd_nm\"]).sum())\n",
    "df_3 = df_3.reset_index()\n",
    "df_3"
   ]
  },
  {
   "cell_type": "code",
   "execution_count": 15,
   "metadata": {
    "ExecuteTime": {
     "end_time": "2021-09-15T00:20:26.476379Z",
     "start_time": "2021-09-15T00:20:25.583377Z"
    }
   },
   "outputs": [
    {
     "data": {
      "text/html": [
       "<div>\n",
       "<style scoped>\n",
       "    .dataframe tbody tr th:only-of-type {\n",
       "        vertical-align: middle;\n",
       "    }\n",
       "\n",
       "    .dataframe tbody tr th {\n",
       "        vertical-align: top;\n",
       "    }\n",
       "\n",
       "    .dataframe thead th {\n",
       "        text-align: right;\n",
       "    }\n",
       "</style>\n",
       "<table border=\"1\" class=\"dataframe\">\n",
       "  <thead>\n",
       "    <tr style=\"text-align: right;\">\n",
       "      <th></th>\n",
       "      <th>base_date</th>\n",
       "      <th>emd_nm</th>\n",
       "      <th>em_g</th>\n",
       "    </tr>\n",
       "  </thead>\n",
       "  <tbody>\n",
       "    <tr>\n",
       "      <th>0</th>\n",
       "      <td>2018-01</td>\n",
       "      <td>외도동</td>\n",
       "      <td>15500</td>\n",
       "    </tr>\n",
       "    <tr>\n",
       "      <th>1</th>\n",
       "      <td>2018-01</td>\n",
       "      <td>아라동</td>\n",
       "      <td>59800</td>\n",
       "    </tr>\n",
       "    <tr>\n",
       "      <th>2</th>\n",
       "      <td>2018-01</td>\n",
       "      <td>아라동</td>\n",
       "      <td>25350</td>\n",
       "    </tr>\n",
       "    <tr>\n",
       "      <th>3</th>\n",
       "      <td>2018-01</td>\n",
       "      <td>아라동</td>\n",
       "      <td>30000</td>\n",
       "    </tr>\n",
       "    <tr>\n",
       "      <th>4</th>\n",
       "      <td>2018-01</td>\n",
       "      <td>아라동</td>\n",
       "      <td>44050</td>\n",
       "    </tr>\n",
       "    <tr>\n",
       "      <th>...</th>\n",
       "      <td>...</td>\n",
       "      <td>...</td>\n",
       "      <td>...</td>\n",
       "    </tr>\n",
       "    <tr>\n",
       "      <th>2211440</th>\n",
       "      <td>2021-06</td>\n",
       "      <td>한림읍</td>\n",
       "      <td>58250</td>\n",
       "    </tr>\n",
       "    <tr>\n",
       "      <th>2211441</th>\n",
       "      <td>2021-06</td>\n",
       "      <td>한림읍</td>\n",
       "      <td>111000</td>\n",
       "    </tr>\n",
       "    <tr>\n",
       "      <th>2211442</th>\n",
       "      <td>2021-06</td>\n",
       "      <td>한림읍</td>\n",
       "      <td>48300</td>\n",
       "    </tr>\n",
       "    <tr>\n",
       "      <th>2211443</th>\n",
       "      <td>2021-06</td>\n",
       "      <td>한림읍</td>\n",
       "      <td>22050</td>\n",
       "    </tr>\n",
       "    <tr>\n",
       "      <th>2211444</th>\n",
       "      <td>2021-06</td>\n",
       "      <td>오라동</td>\n",
       "      <td>2900</td>\n",
       "    </tr>\n",
       "  </tbody>\n",
       "</table>\n",
       "<p>2211445 rows × 3 columns</p>\n",
       "</div>"
      ],
      "text/plain": [
       "        base_date emd_nm    em_g\n",
       "0         2018-01    외도동   15500\n",
       "1         2018-01    아라동   59800\n",
       "2         2018-01    아라동   25350\n",
       "3         2018-01    아라동   30000\n",
       "4         2018-01    아라동   44050\n",
       "...           ...    ...     ...\n",
       "2211440   2021-06    한림읍   58250\n",
       "2211441   2021-06    한림읍  111000\n",
       "2211442   2021-06    한림읍   48300\n",
       "2211443   2021-06    한림읍   22050\n",
       "2211444   2021-06    오라동    2900\n",
       "\n",
       "[2211445 rows x 3 columns]"
      ]
     },
     "execution_count": 15,
     "metadata": {},
     "output_type": "execute_result"
    }
   ],
   "source": [
    "df_1=df_1.drop([\"city\", \"emd_cd\", \"em_area_cd\", \"em_cnt\",\"pay_amt\"], axis=1)\n",
    "df_1['base_date'] = df_1['base_date'].str[:-3]\n",
    "df_1"
   ]
  },
  {
   "cell_type": "code",
   "execution_count": 16,
   "metadata": {
    "ExecuteTime": {
     "end_time": "2021-09-15T00:20:26.911384Z",
     "start_time": "2021-09-15T00:20:26.479376Z"
    }
   },
   "outputs": [
    {
     "data": {
      "text/html": [
       "<div>\n",
       "<style scoped>\n",
       "    .dataframe tbody tr th:only-of-type {\n",
       "        vertical-align: middle;\n",
       "    }\n",
       "\n",
       "    .dataframe tbody tr th {\n",
       "        vertical-align: top;\n",
       "    }\n",
       "\n",
       "    .dataframe thead th {\n",
       "        text-align: right;\n",
       "    }\n",
       "</style>\n",
       "<table border=\"1\" class=\"dataframe\">\n",
       "  <thead>\n",
       "    <tr style=\"text-align: right;\">\n",
       "      <th></th>\n",
       "      <th></th>\n",
       "      <th>em_g</th>\n",
       "    </tr>\n",
       "    <tr>\n",
       "      <th>emd_nm</th>\n",
       "      <th>base_date</th>\n",
       "      <th></th>\n",
       "    </tr>\n",
       "  </thead>\n",
       "  <tbody>\n",
       "    <tr>\n",
       "      <th rowspan=\"5\" valign=\"top\">건입동</th>\n",
       "      <th>2018-01</th>\n",
       "      <td>45646550</td>\n",
       "    </tr>\n",
       "    <tr>\n",
       "      <th>2018-02</th>\n",
       "      <td>42953550</td>\n",
       "    </tr>\n",
       "    <tr>\n",
       "      <th>2018-03</th>\n",
       "      <td>46422450</td>\n",
       "    </tr>\n",
       "    <tr>\n",
       "      <th>2018-04</th>\n",
       "      <td>42438700</td>\n",
       "    </tr>\n",
       "    <tr>\n",
       "      <th>2018-05</th>\n",
       "      <td>44893300</td>\n",
       "    </tr>\n",
       "    <tr>\n",
       "      <th>...</th>\n",
       "      <th>...</th>\n",
       "      <td>...</td>\n",
       "    </tr>\n",
       "    <tr>\n",
       "      <th rowspan=\"5\" valign=\"top\">효돈동</th>\n",
       "      <th>2021-02</th>\n",
       "      <td>26128400</td>\n",
       "    </tr>\n",
       "    <tr>\n",
       "      <th>2021-03</th>\n",
       "      <td>26845400</td>\n",
       "    </tr>\n",
       "    <tr>\n",
       "      <th>2021-04</th>\n",
       "      <td>25200200</td>\n",
       "    </tr>\n",
       "    <tr>\n",
       "      <th>2021-05</th>\n",
       "      <td>21724850</td>\n",
       "    </tr>\n",
       "    <tr>\n",
       "      <th>2021-06</th>\n",
       "      <td>27554100</td>\n",
       "    </tr>\n",
       "  </tbody>\n",
       "</table>\n",
       "<p>1666 rows × 1 columns</p>\n",
       "</div>"
      ],
      "text/plain": [
       "                      em_g\n",
       "emd_nm base_date          \n",
       "건입동    2018-01    45646550\n",
       "       2018-02    42953550\n",
       "       2018-03    46422450\n",
       "       2018-04    42438700\n",
       "       2018-05    44893300\n",
       "...                    ...\n",
       "효돈동    2021-02    26128400\n",
       "       2021-03    26845400\n",
       "       2021-04    25200200\n",
       "       2021-05    21724850\n",
       "       2021-06    27554100\n",
       "\n",
       "[1666 rows x 1 columns]"
      ]
     },
     "execution_count": 16,
     "metadata": {},
     "output_type": "execute_result"
    }
   ],
   "source": [
    "left_df=pd.DataFrame(df_1.groupby(['emd_nm', 'base_date'])['em_g'].sum())\n",
    "left_df"
   ]
  },
  {
   "cell_type": "code",
   "execution_count": 17,
   "metadata": {
    "ExecuteTime": {
     "end_time": "2021-09-15T00:20:26.956391Z",
     "start_time": "2021-09-15T00:20:26.913384Z"
    }
   },
   "outputs": [
    {
     "data": {
      "text/html": [
       "<div>\n",
       "<style scoped>\n",
       "    .dataframe tbody tr th:only-of-type {\n",
       "        vertical-align: middle;\n",
       "    }\n",
       "\n",
       "    .dataframe tbody tr th {\n",
       "        vertical-align: top;\n",
       "    }\n",
       "\n",
       "    .dataframe thead th {\n",
       "        text-align: right;\n",
       "    }\n",
       "</style>\n",
       "<table border=\"1\" class=\"dataframe\">\n",
       "  <thead>\n",
       "    <tr style=\"text-align: right;\">\n",
       "      <th></th>\n",
       "      <th>emd_nm</th>\n",
       "      <th>base_date</th>\n",
       "      <th>em_g</th>\n",
       "      <th>resid_reg_pop</th>\n",
       "      <th>foreign_pop</th>\n",
       "      <th>total_pop</th>\n",
       "    </tr>\n",
       "  </thead>\n",
       "  <tbody>\n",
       "    <tr>\n",
       "      <th>0</th>\n",
       "      <td>건입동</td>\n",
       "      <td>2018-01</td>\n",
       "      <td>45646550</td>\n",
       "      <td>9800.0</td>\n",
       "      <td>228.0</td>\n",
       "      <td>10028.0</td>\n",
       "    </tr>\n",
       "    <tr>\n",
       "      <th>1</th>\n",
       "      <td>건입동</td>\n",
       "      <td>2018-02</td>\n",
       "      <td>42953550</td>\n",
       "      <td>9814.0</td>\n",
       "      <td>224.0</td>\n",
       "      <td>10038.0</td>\n",
       "    </tr>\n",
       "    <tr>\n",
       "      <th>2</th>\n",
       "      <td>건입동</td>\n",
       "      <td>2018-03</td>\n",
       "      <td>46422450</td>\n",
       "      <td>9783.0</td>\n",
       "      <td>222.0</td>\n",
       "      <td>10005.0</td>\n",
       "    </tr>\n",
       "    <tr>\n",
       "      <th>3</th>\n",
       "      <td>건입동</td>\n",
       "      <td>2018-04</td>\n",
       "      <td>42438700</td>\n",
       "      <td>9788.0</td>\n",
       "      <td>229.0</td>\n",
       "      <td>10017.0</td>\n",
       "    </tr>\n",
       "    <tr>\n",
       "      <th>4</th>\n",
       "      <td>건입동</td>\n",
       "      <td>2018-05</td>\n",
       "      <td>44893300</td>\n",
       "      <td>9800.0</td>\n",
       "      <td>238.0</td>\n",
       "      <td>10038.0</td>\n",
       "    </tr>\n",
       "    <tr>\n",
       "      <th>...</th>\n",
       "      <td>...</td>\n",
       "      <td>...</td>\n",
       "      <td>...</td>\n",
       "      <td>...</td>\n",
       "      <td>...</td>\n",
       "      <td>...</td>\n",
       "    </tr>\n",
       "    <tr>\n",
       "      <th>1661</th>\n",
       "      <td>효돈동</td>\n",
       "      <td>2021-02</td>\n",
       "      <td>26128400</td>\n",
       "      <td>5289.0</td>\n",
       "      <td>65.0</td>\n",
       "      <td>5354.0</td>\n",
       "    </tr>\n",
       "    <tr>\n",
       "      <th>1662</th>\n",
       "      <td>효돈동</td>\n",
       "      <td>2021-03</td>\n",
       "      <td>26845400</td>\n",
       "      <td>5262.0</td>\n",
       "      <td>61.0</td>\n",
       "      <td>5323.0</td>\n",
       "    </tr>\n",
       "    <tr>\n",
       "      <th>1663</th>\n",
       "      <td>효돈동</td>\n",
       "      <td>2021-04</td>\n",
       "      <td>25200200</td>\n",
       "      <td>5267.0</td>\n",
       "      <td>59.0</td>\n",
       "      <td>5326.0</td>\n",
       "    </tr>\n",
       "    <tr>\n",
       "      <th>1664</th>\n",
       "      <td>효돈동</td>\n",
       "      <td>2021-05</td>\n",
       "      <td>21724850</td>\n",
       "      <td>5266.0</td>\n",
       "      <td>60.0</td>\n",
       "      <td>5326.0</td>\n",
       "    </tr>\n",
       "    <tr>\n",
       "      <th>1665</th>\n",
       "      <td>효돈동</td>\n",
       "      <td>2021-06</td>\n",
       "      <td>27554100</td>\n",
       "      <td>5257.0</td>\n",
       "      <td>57.0</td>\n",
       "      <td>5314.0</td>\n",
       "    </tr>\n",
       "  </tbody>\n",
       "</table>\n",
       "<p>1634 rows × 6 columns</p>\n",
       "</div>"
      ],
      "text/plain": [
       "     emd_nm base_date      em_g  resid_reg_pop  foreign_pop  total_pop\n",
       "0       건입동   2018-01  45646550         9800.0        228.0    10028.0\n",
       "1       건입동   2018-02  42953550         9814.0        224.0    10038.0\n",
       "2       건입동   2018-03  46422450         9783.0        222.0    10005.0\n",
       "3       건입동   2018-04  42438700         9788.0        229.0    10017.0\n",
       "4       건입동   2018-05  44893300         9800.0        238.0    10038.0\n",
       "...     ...       ...       ...            ...          ...        ...\n",
       "1661    효돈동   2021-02  26128400         5289.0         65.0     5354.0\n",
       "1662    효돈동   2021-03  26845400         5262.0         61.0     5323.0\n",
       "1663    효돈동   2021-04  25200200         5267.0         59.0     5326.0\n",
       "1664    효돈동   2021-05  21724850         5266.0         60.0     5326.0\n",
       "1665    효돈동   2021-06  27554100         5257.0         57.0     5314.0\n",
       "\n",
       "[1634 rows x 6 columns]"
      ]
     },
     "execution_count": 17,
     "metadata": {},
     "output_type": "execute_result"
    }
   ],
   "source": [
    "waste_resd_df = pd.merge(left=left_df, right= df_3, how=\"left\", on=[\"emd_nm\",\"base_date\"])\n",
    "idx=waste_resd_df[waste_resd_df['emd_nm']=='알수없음'].index\n",
    "df=waste_resd_df.drop(idx)\n",
    "df"
   ]
  },
  {
   "cell_type": "markdown",
   "metadata": {},
   "source": [
    "# 모델로 학습"
   ]
  },
  {
   "cell_type": "markdown",
   "metadata": {},
   "source": [
    "## 데이터 준비"
   ]
  },
  {
   "cell_type": "code",
   "execution_count": 18,
   "metadata": {
    "ExecuteTime": {
     "end_time": "2021-09-15T00:20:28.513916Z",
     "start_time": "2021-09-15T00:20:26.961406Z"
    }
   },
   "outputs": [],
   "source": [
    "from sklearn.model_selection import train_test_split\n",
    "from sklearn.metrics import mean_squared_error\n",
    "\n",
    "from sklearn.linear_model import Ridge\n",
    "from sklearn.linear_model import Lasso\n",
    "\n",
    "from sklearn.preprocessing import PolynomialFeatures\n",
    "from sklearn.linear_model import LinearRegression\n",
    "from sklearn.ensemble import RandomForestRegressor"
   ]
  },
  {
   "cell_type": "code",
   "execution_count": 19,
   "metadata": {
    "ExecuteTime": {
     "end_time": "2021-09-15T00:20:28.525908Z",
     "start_time": "2021-09-15T00:20:28.515902Z"
    }
   },
   "outputs": [
    {
     "data": {
      "text/plain": [
       "((1634, 3), (1634,))"
      ]
     },
     "execution_count": 19,
     "metadata": {},
     "output_type": "execute_result"
    }
   ],
   "source": [
    "target = df['em_g']\n",
    "data = df[df.drop(['em_g','emd_nm','base_date'],axis=1).columns]\n",
    "data.shape, target.shape"
   ]
  },
  {
   "cell_type": "code",
   "execution_count": 20,
   "metadata": {
    "ExecuteTime": {
     "end_time": "2021-09-15T00:20:28.544904Z",
     "start_time": "2021-09-15T00:20:28.530905Z"
    }
   },
   "outputs": [
    {
     "data": {
      "text/plain": [
       "((1307, 3), (327, 3), (1307,), (327,))"
      ]
     },
     "execution_count": 20,
     "metadata": {},
     "output_type": "execute_result"
    }
   ],
   "source": [
    "x_train, x_test, y_train, y_test = train_test_split(data, target, test_size=0.2, random_state=34)\n",
    "x_train.shape,x_test.shape,y_train.shape,y_test.shape"
   ]
  },
  {
   "cell_type": "code",
   "execution_count": 21,
   "metadata": {
    "ExecuteTime": {
     "end_time": "2021-09-15T00:20:28.615917Z",
     "start_time": "2021-09-15T00:20:28.547904Z"
    }
   },
   "outputs": [
    {
     "name": "stdout",
     "output_type": "stream",
     "text": [
      "(1307, 10) (327, 10) (1307,) (327,)\n",
      "(1307, 20) (327, 20) (1307,) (327,)\n",
      "(1307, 35) (327, 35) (1307,) (327,)\n",
      "(1307, 56) (327, 56) (1307,) (327,)\n",
      "(1307, 84) (327, 84) (1307,) (327,)\n"
     ]
    }
   ],
   "source": [
    "poly = PolynomialFeatures(2) # 2~6차\n",
    "poly_x = pd.DataFrame(poly.fit_transform(data.values), columns=poly.get_feature_names(data.columns))\n",
    "x2_train, x2_test, y2_train, y2_test = train_test_split(poly_x, target, test_size=0.2, random_state=34)\n",
    "print(x2_train.shape,x2_test.shape,y2_train.shape,y2_test.shape)\n",
    "\n",
    "poly = PolynomialFeatures(3) # 2~6차\n",
    "poly_x = pd.DataFrame(poly.fit_transform(data.values), columns=poly.get_feature_names(data.columns))\n",
    "x3_train, x3_test, y3_train, y3_test = train_test_split(poly_x, target, test_size=0.2, random_state=34)\n",
    "print(x3_train.shape,x3_test.shape,y3_train.shape,y3_test.shape)\n",
    "\n",
    "poly = PolynomialFeatures(4) # 2~6차\n",
    "poly_x = pd.DataFrame(poly.fit_transform(data.values), columns=poly.get_feature_names(data.columns))\n",
    "x4_train, x4_test, y4_train, y4_test = train_test_split(poly_x, target, test_size=0.2, random_state=34)\n",
    "print(x4_train.shape,x4_test.shape,y4_train.shape,y4_test.shape)\n",
    "\n",
    "poly = PolynomialFeatures(5) # 2~6차\n",
    "poly_x = pd.DataFrame(poly.fit_transform(data.values), columns=poly.get_feature_names(data.columns))\n",
    "x5_train, x5_test, y5_train, y5_test = train_test_split(poly_x, target, test_size=0.2, random_state=34)\n",
    "print(x5_train.shape,x5_test.shape,y5_train.shape,y5_test.shape)\n",
    "\n",
    "poly = PolynomialFeatures(6) # 2~6차\n",
    "poly_x = pd.DataFrame(poly.fit_transform(data.values), columns=poly.get_feature_names(data.columns))\n",
    "x6_train, x6_test, y6_train, y6_test = train_test_split(poly_x, target, test_size=0.2, random_state=34)\n",
    "print(x6_train.shape,x6_test.shape,y6_train.shape,y6_test.shape)"
   ]
  },
  {
   "cell_type": "markdown",
   "metadata": {},
   "source": [
    "## LR L1"
   ]
  },
  {
   "cell_type": "code",
   "execution_count": 22,
   "metadata": {
    "ExecuteTime": {
     "end_time": "2021-09-15T00:20:28.998473Z",
     "start_time": "2021-09-15T00:20:28.621905Z"
    }
   },
   "outputs": [
    {
     "name": "stderr",
     "output_type": "stream",
     "text": [
      "C:\\Users\\HojunLee\\anaconda3\\lib\\site-packages\\sklearn\\linear_model\\_coordinate_descent.py:529: ConvergenceWarning: Objective did not converge. You might want to increase the number of iterations. Duality gap: 2416286195908352.0, tolerance: 455988236796947.4\n",
      "  model = cd_fast.enet_coordinate_descent(\n",
      "C:\\Users\\HojunLee\\anaconda3\\lib\\site-packages\\sklearn\\linear_model\\_coordinate_descent.py:529: ConvergenceWarning: Objective did not converge. You might want to increase the number of iterations. Duality gap: 2016777941874048.0, tolerance: 455988236796947.4\n",
      "  model = cd_fast.enet_coordinate_descent(\n",
      "C:\\Users\\HojunLee\\anaconda3\\lib\\site-packages\\sklearn\\linear_model\\_coordinate_descent.py:529: ConvergenceWarning: Objective did not converge. You might want to increase the number of iterations. Duality gap: 3.0761865834036826e+17, tolerance: 455988236796947.4\n",
      "  model = cd_fast.enet_coordinate_descent(\n",
      "C:\\Users\\HojunLee\\anaconda3\\lib\\site-packages\\sklearn\\linear_model\\_coordinate_descent.py:529: ConvergenceWarning: Objective did not converge. You might want to increase the number of iterations. Duality gap: 3.017344088541938e+17, tolerance: 455988236796947.4\n",
      "  model = cd_fast.enet_coordinate_descent(\n",
      "C:\\Users\\HojunLee\\anaconda3\\lib\\site-packages\\sklearn\\linear_model\\_coordinate_descent.py:529: ConvergenceWarning: Objective did not converge. You might want to increase the number of iterations. Duality gap: 2.803600970506094e+17, tolerance: 455988236796947.4\n",
      "  model = cd_fast.enet_coordinate_descent(\n",
      "C:\\Users\\HojunLee\\anaconda3\\lib\\site-packages\\sklearn\\linear_model\\_coordinate_descent.py:529: ConvergenceWarning: Objective did not converge. You might want to increase the number of iterations. Duality gap: 2.7256436819987968e+17, tolerance: 455988236796947.4\n",
      "  model = cd_fast.enet_coordinate_descent(\n"
     ]
    },
    {
     "data": {
      "text/plain": [
       "Lasso(alpha=0.001, normalize=True)"
      ]
     },
     "execution_count": 22,
     "metadata": {},
     "output_type": "execute_result"
    }
   ],
   "source": [
    "model_L1 = Lasso(alpha=0.001, max_iter=1000, normalize=True)\n",
    "model_L1.fit(x_train, y_train)\n",
    "model_L2 = Lasso(alpha=0.001, max_iter=1000, normalize=True)\n",
    "model_L2.fit(x2_train, y2_train)\n",
    "model_L3 = Lasso(alpha=0.001, max_iter=1000, normalize=True)\n",
    "model_L3.fit(x3_train, y3_train)\n",
    "model_L4 = Lasso(alpha=0.001, max_iter=1000, normalize=True)\n",
    "model_L4.fit(x4_train, y4_train)\n",
    "model_L5 = Lasso(alpha=0.001, max_iter=1000, normalize=True)\n",
    "model_L5.fit(x5_train, y5_train)\n",
    "model_L6 = Lasso(alpha=0.001, max_iter=1000, normalize=True)\n",
    "model_L6.fit(x6_train, y6_train)"
   ]
  },
  {
   "cell_type": "code",
   "execution_count": 23,
   "metadata": {
    "ExecuteTime": {
     "end_time": "2021-09-15T00:20:29.039476Z",
     "start_time": "2021-09-15T00:20:29.001469Z"
    }
   },
   "outputs": [
    {
     "name": "stdout",
     "output_type": "stream",
     "text": [
      "0.776032421094115\n",
      "0.8051862678091081\n",
      "0.8444469317318847\n",
      "0.8477060028621093\n",
      "0.8613274115575063\n",
      "0.8671096518187369\n"
     ]
    }
   ],
   "source": [
    "print(\n",
    "model_L1.score(x_test,y_test),\n",
    "model_L2.score(x2_test,y2_test),\n",
    "model_L3.score(x3_test,y3_test),\n",
    "model_L4.score(x4_test,y4_test),\n",
    "model_L5.score(x5_test,y5_test),\n",
    "model_L6.score(x6_test,y6_test),\n",
    "sep=\"\\n\"\n",
    ")"
   ]
  },
  {
   "cell_type": "markdown",
   "metadata": {},
   "source": [
    "## LR L2"
   ]
  },
  {
   "cell_type": "code",
   "execution_count": 24,
   "metadata": {
    "ExecuteTime": {
     "end_time": "2021-09-15T00:20:29.124471Z",
     "start_time": "2021-09-15T00:20:29.043472Z"
    }
   },
   "outputs": [
    {
     "data": {
      "text/plain": [
       "Ridge(alpha=0.001, max_iter=1000, normalize=True)"
      ]
     },
     "execution_count": 24,
     "metadata": {},
     "output_type": "execute_result"
    }
   ],
   "source": [
    "model_R1 = Ridge(alpha=0.001, max_iter=1000, normalize=True)\n",
    "model_R1.fit(x_train, y_train)\n",
    "model_R2 = Ridge(alpha=0.001, max_iter=1000, normalize=True)\n",
    "model_R2.fit(x2_train, y2_train)\n",
    "model_R3 = Ridge(alpha=0.001, max_iter=1000, normalize=True)\n",
    "model_R3.fit(x3_train, y3_train)\n",
    "model_R4 = Ridge(alpha=0.001, max_iter=1000, normalize=True)\n",
    "model_R4.fit(x4_train, y4_train)\n",
    "model_R5 = Ridge(alpha=0.001, max_iter=1000, normalize=True)\n",
    "model_R5.fit(x5_train, y5_train)\n",
    "model_R6 = Ridge(alpha=0.001, max_iter=1000, normalize=True)\n",
    "model_R6.fit(x6_train, y6_train)"
   ]
  },
  {
   "cell_type": "code",
   "execution_count": 25,
   "metadata": {
    "ExecuteTime": {
     "end_time": "2021-09-15T00:20:29.165473Z",
     "start_time": "2021-09-15T00:20:29.127471Z"
    }
   },
   "outputs": [
    {
     "name": "stdout",
     "output_type": "stream",
     "text": [
      "0.7761115564499295\n",
      "0.8052358119246634\n",
      "0.8423135604724297\n",
      "0.846006073839059\n",
      "0.8558792791343346\n",
      "0.8613249528065802\n"
     ]
    }
   ],
   "source": [
    "print(\n",
    "model_R1.score(x_test,y_test),\n",
    "model_R2.score(x2_test,y2_test),\n",
    "model_R3.score(x3_test,y3_test),\n",
    "model_R4.score(x4_test,y4_test),\n",
    "model_R5.score(x5_test,y5_test),\n",
    "model_R6.score(x6_test,y6_test),\n",
    "sep=\"\\n\"\n",
    ")"
   ]
  },
  {
   "cell_type": "markdown",
   "metadata": {},
   "source": [
    "## Random Forest"
   ]
  },
  {
   "cell_type": "code",
   "execution_count": 26,
   "metadata": {
    "ExecuteTime": {
     "end_time": "2021-09-15T00:20:29.686068Z",
     "start_time": "2021-09-15T00:20:29.168470Z"
    },
    "scrolled": true
   },
   "outputs": [
    {
     "data": {
      "text/plain": [
       "0.9530081583372987"
      ]
     },
     "execution_count": 26,
     "metadata": {},
     "output_type": "execute_result"
    }
   ],
   "source": [
    "model_randomForest = RandomForestRegressor() # 생성할 트리 개수가 얼만큼이 좋은지 모르겠음\n",
    "model_randomForest.fit(x_train, y_train)\n",
    "model_randomForest.score(x_test,y_test)"
   ]
  },
  {
   "cell_type": "markdown",
   "metadata": {},
   "source": [
    "# 저장"
   ]
  },
  {
   "cell_type": "code",
   "execution_count": 27,
   "metadata": {
    "ExecuteTime": {
     "end_time": "2021-09-15T00:20:29.694069Z",
     "start_time": "2021-09-15T00:20:29.690070Z"
    }
   },
   "outputs": [],
   "source": [
    "import joblib"
   ]
  },
  {
   "cell_type": "code",
   "execution_count": 28,
   "metadata": {
    "ExecuteTime": {
     "end_time": "2021-09-15T00:20:29.783511Z",
     "start_time": "2021-09-15T00:20:29.697083Z"
    }
   },
   "outputs": [
    {
     "data": {
      "text/plain": [
       "['모델/거주인구 분석_RF.pkl']"
      ]
     },
     "execution_count": 28,
     "metadata": {},
     "output_type": "execute_result"
    }
   ],
   "source": [
    "joblib.dump(model_randomForest, '모델/거주인구 분석_RF.pkl')"
   ]
  },
  {
   "cell_type": "code",
   "execution_count": 29,
   "metadata": {
    "ExecuteTime": {
     "end_time": "2021-09-15T00:20:29.812460Z",
     "start_time": "2021-09-15T00:20:29.786467Z"
    }
   },
   "outputs": [],
   "source": [
    "df.to_csv(\"csv/거주인구 분석.csv\",  index=False)"
   ]
  }
 ],
 "metadata": {
  "kernelspec": {
   "display_name": "Python 3",
   "language": "python",
   "name": "python3"
  },
  "language_info": {
   "codemirror_mode": {
    "name": "ipython",
    "version": 3
   },
   "file_extension": ".py",
   "mimetype": "text/x-python",
   "name": "python",
   "nbconvert_exporter": "python",
   "pygments_lexer": "ipython3",
   "version": "3.8.3"
  },
  "toc": {
   "base_numbering": 1,
   "nav_menu": {},
   "number_sections": true,
   "sideBar": true,
   "skip_h1_title": false,
   "title_cell": "Table of Contents",
   "title_sidebar": "Contents",
   "toc_cell": false,
   "toc_position": {},
   "toc_section_display": true,
   "toc_window_display": false
  }
 },
 "nbformat": 4,
 "nbformat_minor": 4
}
