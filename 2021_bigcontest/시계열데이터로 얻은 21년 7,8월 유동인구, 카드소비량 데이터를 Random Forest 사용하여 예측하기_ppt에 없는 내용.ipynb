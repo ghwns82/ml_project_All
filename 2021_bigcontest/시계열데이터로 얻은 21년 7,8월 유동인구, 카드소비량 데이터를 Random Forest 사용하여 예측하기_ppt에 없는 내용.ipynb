{
 "cells": [
  {
   "cell_type": "code",
   "execution_count": 1,
   "metadata": {
    "ExecuteTime": {
     "end_time": "2021-09-15T00:34:37.176930Z",
     "start_time": "2021-09-15T00:34:35.272932Z"
    }
   },
   "outputs": [],
   "source": [
    "import pandas as pd\n",
    "import numpy as np\n",
    "from datetime import datetime\n",
    "from scipy import stats\n",
    "from math import ceil\n",
    "from sklearn.model_selection import train_test_split\n",
    "from sklearn.preprocessing import StandardScaler\n",
    "from fbprophet import Prophet"
   ]
  },
  {
   "cell_type": "code",
   "execution_count": 3,
   "metadata": {
    "ExecuteTime": {
     "end_time": "2021-09-15T01:10:09.810964Z",
     "start_time": "2021-09-15T01:10:06.200832Z"
    }
   },
   "outputs": [],
   "source": [
    "df = pd.read_csv(\"csv/총 분석.csv\")\n",
    "df_1=pd.read_csv('데이터/01_제공데이터_update(210811)/01_음식물쓰레기_FOOD_WASTE_210811_update.CSV',low_memory=False,encoding='euc-kr')\n",
    "예상데이터=pd.read_csv('csv/시계열총데이터최종본.CSV',encoding='euc-kr')"
   ]
  },
  {
   "cell_type": "markdown",
   "metadata": {},
   "source": [
    "## * 실수형을 소수점 둘째자리까지 표현"
   ]
  },
  {
   "cell_type": "code",
   "execution_count": 3,
   "metadata": {
    "ExecuteTime": {
     "end_time": "2021-09-15T00:34:39.489897Z",
     "start_time": "2021-09-15T00:34:39.474954Z"
    }
   },
   "outputs": [],
   "source": [
    "pd.options.display.float_format='{:.2f}'.format"
   ]
  },
  {
   "cell_type": "markdown",
   "metadata": {},
   "source": [
    "## * Random Forest로 학습"
   ]
  },
  {
   "cell_type": "code",
   "execution_count": 4,
   "metadata": {
    "ExecuteTime": {
     "end_time": "2021-09-15T00:34:40.535395Z",
     "start_time": "2021-09-15T00:34:39.490898Z"
    }
   },
   "outputs": [
    {
     "data": {
      "text/plain": [
       "RandomForestRegressor()"
      ]
     },
     "execution_count": 4,
     "metadata": {},
     "output_type": "execute_result"
    }
   ],
   "source": [
    "from sklearn.ensemble import RandomForestRegressor\n",
    "\n",
    "data_y=df['em_g']\n",
    "X_features=df.drop(['em_g','emd_nm','base_date','resid_reg_pop','foreign_pop','total_pop'],axis=1)\n",
    "X_train,X_test,y_train,y_test=train_test_split(X_features,data_y,test_size=0.3,random_state=777)\n",
    "scaler = StandardScaler()\n",
    "scaled_val = scaler.fit_transform(X_features)\n",
    "scaled_x = pd.DataFrame(scaled_val, columns=X_features.columns)\n",
    "model_randomForest = RandomForestRegressor() # 생성할 트리 개수가 얼만큼이 좋은지 모르겠음\n",
    "model_randomForest.fit(X_train, y_train.values.ravel())"
   ]
  },
  {
   "cell_type": "code",
   "execution_count": 5,
   "metadata": {
    "ExecuteTime": {
     "end_time": "2021-09-15T00:34:40.566771Z",
     "start_time": "2021-09-15T00:34:40.536397Z"
    }
   },
   "outputs": [
    {
     "data": {
      "text/plain": [
       "0.9713929744942831"
      ]
     },
     "execution_count": 5,
     "metadata": {},
     "output_type": "execute_result"
    }
   ],
   "source": [
    "model_randomForest.score(X_test,y_test)"
   ]
  },
  {
   "cell_type": "markdown",
   "metadata": {},
   "source": [
    "## * 예상데이터에서 사용할 7,8월 데이터를 저장"
   ]
  },
  {
   "cell_type": "code",
   "execution_count": 6,
   "metadata": {
    "ExecuteTime": {
     "end_time": "2021-09-15T00:34:40.581773Z",
     "start_time": "2021-09-15T00:34:40.567772Z"
    }
   },
   "outputs": [],
   "source": [
    "예상7월=예상데이터[['내국인7R','내국인7W','내국인7V','내국인관광7W','내국인관광7V','장기외국인7R','장기외국인7W','장기외국인7V',\n",
    "          '단기외국인7V','간식7','농축수산물7','마트/슈퍼마켓7','배달7','부페7','식품7','아시아음식7','양식7','주점및주류판매7',\n",
    "          '패스트푸드7','한식7']]\n",
    "예상7월.columns=['내국인R', '내국인W', '내국인V', '내국인관광W','내국인관광V', '장기외국인R', '장기외국인W', '장기외국인V', '단기외국인V', '간식', '농축수산물', '마트/슈퍼마켓', '배달', '부페', '식품','아시아음식', '양식', '주점및주류판매', '패스트푸드', '한식']"
   ]
  },
  {
   "cell_type": "code",
   "execution_count": 7,
   "metadata": {
    "ExecuteTime": {
     "end_time": "2021-09-15T00:34:40.597773Z",
     "start_time": "2021-09-15T00:34:40.582773Z"
    }
   },
   "outputs": [],
   "source": [
    "예상8월=예상데이터[['내국인8R','내국인8W','내국인8V','내국인관광8W','내국인관광8V','장기외국인8R','장기외국인8W','장기외국인8V',\n",
    "          '단기외국인8V','간식8','농축수산물8','마트/슈퍼마켓8','배달8','부페8','식품8','아시아음식8','양식8','주점및주류판매8',\n",
    "          '패스트푸드8','한식8']]\n",
    "예상8월.columns=['내국인R', '내국인W', '내국인V', '내국인관광W','내국인관광V', '장기외국인R', '장기외국인W', '장기외국인V', '단기외국인V', '간식', '농축수산물', '마트/슈퍼마켓', '배달', '부페', '식품','아시아음식', '양식', '주점및주류판매', '패스트푸드', '한식']"
   ]
  },
  {
   "cell_type": "markdown",
   "metadata": {},
   "source": [
    "## * 위에서 학습한 모델로 7,8월 예측"
   ]
  },
  {
   "cell_type": "code",
   "execution_count": 8,
   "metadata": {
    "ExecuteTime": {
     "end_time": "2021-09-15T00:34:40.629771Z",
     "start_time": "2021-09-15T00:34:40.598772Z"
    }
   },
   "outputs": [],
   "source": [
    "predict7=model_randomForest.predict(예상7월)\n",
    "predict8=model_randomForest.predict(예상8월)"
   ]
  },
  {
   "cell_type": "code",
   "execution_count": 9,
   "metadata": {
    "ExecuteTime": {
     "end_time": "2021-09-15T00:34:40.644783Z",
     "start_time": "2021-09-15T00:34:40.630772Z"
    }
   },
   "outputs": [],
   "source": [
    "마을list=sorted(df['emd_nm'].unique())"
   ]
  },
  {
   "cell_type": "code",
   "execution_count": 10,
   "metadata": {
    "ExecuteTime": {
     "end_time": "2021-09-15T00:34:40.660819Z",
     "start_time": "2021-09-15T00:34:40.645788Z"
    }
   },
   "outputs": [],
   "source": [
    "predict7=pd.DataFrame(predict7)\n",
    "predict8=pd.DataFrame(predict8)\n",
    "predict7.index=마을list\n",
    "predict8.index=마을list"
   ]
  },
  {
   "cell_type": "code",
   "execution_count": 11,
   "metadata": {
    "ExecuteTime": {
     "end_time": "2021-09-15T00:34:40.676854Z",
     "start_time": "2021-09-15T00:34:40.661820Z"
    },
    "scrolled": false
   },
   "outputs": [],
   "source": [
    "predict7.columns=['7월예측 em_g']"
   ]
  },
  {
   "cell_type": "code",
   "execution_count": 12,
   "metadata": {
    "ExecuteTime": {
     "end_time": "2021-09-15T00:34:40.692876Z",
     "start_time": "2021-09-15T00:34:40.677855Z"
    }
   },
   "outputs": [],
   "source": [
    "predict8.columns=['8월예측 em_g']"
   ]
  },
  {
   "cell_type": "code",
   "execution_count": 13,
   "metadata": {
    "ExecuteTime": {
     "end_time": "2021-09-15T00:34:40.708883Z",
     "start_time": "2021-09-15T00:34:40.693879Z"
    }
   },
   "outputs": [],
   "source": [
    "예상7_8월=pd.concat([predict7,predict8],axis=1)"
   ]
  },
  {
   "cell_type": "markdown",
   "metadata": {},
   "source": [
    "## * 알수없음 같은경우는 시계열 예측으로 7,8월 쓰레기양 예측"
   ]
  },
  {
   "cell_type": "code",
   "execution_count": 14,
   "metadata": {
    "ExecuteTime": {
     "end_time": "2021-09-15T00:34:40.820406Z",
     "start_time": "2021-09-15T00:34:40.709889Z"
    }
   },
   "outputs": [],
   "source": [
    "알수없음쓰레기양=df_1[df_1['emd_nm']=='알수없음']\n",
    "알수없음쓰레기양=알수없음쓰레기양.drop(['city','emd_cd','emd_nm','em_cnt','pay_amt','em_area_cd'],axis=1)\n",
    "알수없음쓰레기양=알수없음쓰레기양.reset_index()\n",
    "알수없음쓰레기양=알수없음쓰레기양.drop('index',axis=1)"
   ]
  },
  {
   "cell_type": "code",
   "execution_count": 15,
   "metadata": {
    "ExecuteTime": {
     "end_time": "2021-09-15T00:34:44.014202Z",
     "start_time": "2021-09-15T00:34:40.821408Z"
    }
   },
   "outputs": [
    {
     "name": "stderr",
     "output_type": "stream",
     "text": [
      "INFO:numexpr.utils:NumExpr defaulting to 6 threads.\n"
     ]
    }
   ],
   "source": [
    "알수없음쓰레기양.columns=['ds','y']\n",
    "알수없음쓰레기양\n",
    "m=Prophet(daily_seasonality=True)\n",
    "m.fit(알수없음쓰레기양)\n",
    "future=m.make_future_dataframe(periods=62)\n",
    "pre_future=m.predict(future)"
   ]
  },
  {
   "cell_type": "code",
   "execution_count": 16,
   "metadata": {
    "ExecuteTime": {
     "end_time": "2021-09-15T00:34:44.030201Z",
     "start_time": "2021-09-15T00:34:44.015203Z"
    }
   },
   "outputs": [],
   "source": [
    "쓰레기예측량=pre_future[['ds','yhat']].tail(62)\n",
    "쓰레기예측량=쓰레기예측량.reset_index()\n",
    "쓰레기7월예측량=쓰레기예측량[(쓰레기예측량['index']<944)]\n",
    "쓰레기8월예측량=쓰레기예측량[(쓰레기예측량['index']>=944)]\n",
    "쓰레기7월예측량=pd.DataFrame(쓰레기7월예측량)\n",
    "쓰레기8월예측량=pd.DataFrame(쓰레기8월예측량)"
   ]
  },
  {
   "cell_type": "code",
   "execution_count": 17,
   "metadata": {
    "ExecuteTime": {
     "end_time": "2021-09-15T00:34:44.046201Z",
     "start_time": "2021-09-15T00:34:44.031203Z"
    }
   },
   "outputs": [],
   "source": [
    "쓰레기7월예측량=쓰레기7월예측량.drop(['index','ds'],axis=1)\n",
    "쓰레기8월예측량=쓰레기8월예측량.drop(['index','ds'],axis=1)"
   ]
  },
  {
   "cell_type": "code",
   "execution_count": 18,
   "metadata": {
    "ExecuteTime": {
     "end_time": "2021-09-15T00:34:44.062236Z",
     "start_time": "2021-09-15T00:34:44.047203Z"
    }
   },
   "outputs": [],
   "source": [
    "쓰레기7월예측량=쓰레기7월예측량.sum()\n",
    "쓰레기8월예측량=쓰레기8월예측량.sum()"
   ]
  },
  {
   "cell_type": "markdown",
   "metadata": {},
   "source": [
    "## * 시계열로 예측한 알수없음 쓰레기양도 7,8월 예측 데이터 셋에 삽입"
   ]
  },
  {
   "cell_type": "code",
   "execution_count": 19,
   "metadata": {
    "ExecuteTime": {
     "end_time": "2021-09-15T00:34:44.078239Z",
     "start_time": "2021-09-15T00:34:44.063237Z"
    }
   },
   "outputs": [],
   "source": [
    "쓰레기7월예측량=pd.DataFrame(쓰레기7월예측량)\n",
    "쓰레기8월예측량=pd.DataFrame(쓰레기8월예측량)"
   ]
  },
  {
   "cell_type": "code",
   "execution_count": 20,
   "metadata": {
    "ExecuteTime": {
     "end_time": "2021-09-15T00:34:44.093576Z",
     "start_time": "2021-09-15T00:34:44.079236Z"
    }
   },
   "outputs": [],
   "source": [
    "쓰레기7월예측량.columns=['7월예측 em_g']\n",
    "쓰레기7월예측량.index=['알수없음']\n",
    "쓰레기8월예측량.columns=['8월예측 em_g']\n",
    "쓰레기8월예측량.index=['알수없음']"
   ]
  },
  {
   "cell_type": "code",
   "execution_count": 21,
   "metadata": {
    "ExecuteTime": {
     "end_time": "2021-09-15T00:34:44.108848Z",
     "start_time": "2021-09-15T00:34:44.094581Z"
    }
   },
   "outputs": [],
   "source": [
    "예상7월=pd.concat([predict7,쓰레기7월예측량])\n",
    "예상8월=pd.concat([predict8,쓰레기8월예측량])"
   ]
  },
  {
   "cell_type": "code",
   "execution_count": null,
   "metadata": {},
   "outputs": [],
   "source": []
  }
 ],
 "metadata": {
  "kernelspec": {
   "display_name": "Python 3",
   "language": "python",
   "name": "python3"
  },
  "language_info": {
   "codemirror_mode": {
    "name": "ipython",
    "version": 3
   },
   "file_extension": ".py",
   "mimetype": "text/x-python",
   "name": "python",
   "nbconvert_exporter": "python",
   "pygments_lexer": "ipython3",
   "version": "3.8.3"
  },
  "toc": {
   "base_numbering": 1,
   "nav_menu": {},
   "number_sections": true,
   "sideBar": true,
   "skip_h1_title": false,
   "title_cell": "Table of Contents",
   "title_sidebar": "Contents",
   "toc_cell": false,
   "toc_position": {},
   "toc_section_display": true,
   "toc_window_display": false
  }
 },
 "nbformat": 4,
 "nbformat_minor": 4
}
