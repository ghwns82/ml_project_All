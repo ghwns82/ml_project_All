{
 "cells": [
  {
   "cell_type": "markdown",
   "metadata": {},
   "source": [
    "# 필요한 데이터 추출"
   ]
  },
  {
   "cell_type": "code",
   "execution_count": 4,
   "metadata": {
    "ExecuteTime": {
     "end_time": "2021-09-15T00:23:18.383550Z",
     "start_time": "2021-09-15T00:23:18.374537Z"
    }
   },
   "outputs": [
    {
     "data": {
      "text/plain": [
       "['데이터/01_제공데이터_update(210811)/01_음식물쓰레기_FOOD_WASTE_210811_update.CSV',\n",
       " '데이터/01_제공데이터_update(210811)/02-1_내국인유동인구_KOREAN.CSV',\n",
       " '데이터/01_제공데이터_update(210811)/02-2_장기체류 외국인 유동인구_LONG_TERM_FRGN.CSV',\n",
       " '데이터/01_제공데이터_update(210811)/02-3_단기체류 외국인 유동인구_SHORT_TERM_FRGN.CSV',\n",
       " '데이터/01_제공데이터_update(210811)/03_거주인구_RESIDENT_POP.CSV',\n",
       " '데이터/01_제공데이터_update(210811)/04_음식관련 카드소비_CARD_SPENDING.CSV']"
      ]
     },
     "execution_count": 4,
     "metadata": {},
     "output_type": "execute_result"
    }
   ],
   "source": [
    "import os\n",
    "\n",
    "my_path=\"데이터/01_제공데이터_update(210811)\"\n",
    "my_paths = [ my_path + \"/\"+i for i in os.listdir(my_path)]\n",
    "my_paths"
   ]
  },
  {
   "cell_type": "code",
   "execution_count": 5,
   "metadata": {
    "ExecuteTime": {
     "end_time": "2021-09-15T00:23:18.393536Z",
     "start_time": "2021-09-15T00:23:18.386538Z"
    }
   },
   "outputs": [],
   "source": [
    "import pandas as pd\n",
    "import numpy as np"
   ]
  },
  {
   "cell_type": "code",
   "execution_count": 21,
   "metadata": {
    "ExecuteTime": {
     "end_time": "2021-09-15T00:38:15.596363Z",
     "start_time": "2021-09-15T00:35:32.913893Z"
    },
    "scrolled": false
   },
   "outputs": [
    {
     "name": "stderr",
     "output_type": "stream",
     "text": [
      "C:\\Users\\HojunLee\\anaconda3\\lib\\site-packages\\IPython\\core\\interactiveshell.py:3071: DtypeWarning: Columns (2) have mixed types.Specify dtype option on import or set low_memory=False.\n",
      "  has_raised = await self.run_ast_nodes(code_ast.body, cell_name,\n"
     ]
    }
   ],
   "source": [
    "df_1=pd.read_csv(my_paths[0], encoding='euc-kr')\n",
    "df_2_1=pd.read_csv(my_paths[1], encoding='euc-kr')\n",
    "df_2_2=pd.read_csv(my_paths[2], encoding='euc-kr')\n",
    "df_2_3=pd.read_csv(my_paths[3], encoding='euc-kr')"
   ]
  },
  {
   "cell_type": "code",
   "execution_count": 22,
   "metadata": {
    "ExecuteTime": {
     "end_time": "2021-09-15T00:38:41.311669Z",
     "start_time": "2021-09-15T00:38:15.601333Z"
    }
   },
   "outputs": [],
   "source": [
    "df_2_1[\"base_date\"]=pd.to_datetime(df_2_1['base_date'])\n",
    "df_2_1['Year']=df_2_1['base_date'].dt.year\n",
    "df_2_1['Month']=df_2_1['base_date'].dt.month\n",
    "\n",
    "df_2_2[\"base_date\"]=pd.to_datetime(df_2_2['base_date'])\n",
    "df_2_2['Year']=df_2_2['base_date'].dt.year\n",
    "df_2_2['Month']=df_2_2['base_date'].dt.month\n",
    "\n",
    "df_2_3[\"base_date\"]=pd.to_datetime(df_2_3['base_date'])\n",
    "df_2_3['Year']=df_2_3['base_date'].dt.year\n",
    "df_2_3['Month']=df_2_3['base_date'].dt.month"
   ]
  },
  {
   "cell_type": "code",
   "execution_count": 24,
   "metadata": {
    "ExecuteTime": {
     "end_time": "2021-09-15T00:38:58.776793Z",
     "start_time": "2021-09-15T00:38:41.325672Z"
    }
   },
   "outputs": [],
   "source": [
    "df_2_1_제주=df_2_1[df_2_1['resd']=='제주']\n",
    "df_2_1_그외=df_2_1[df_2_1['resd']=='그외']"
   ]
  },
  {
   "cell_type": "code",
   "execution_count": 25,
   "metadata": {
    "ExecuteTime": {
     "end_time": "2021-09-15T00:39:17.517389Z",
     "start_time": "2021-09-15T00:38:58.779760Z"
    }
   },
   "outputs": [
    {
     "data": {
      "text/html": [
       "<div>\n",
       "<style scoped>\n",
       "    .dataframe tbody tr th:only-of-type {\n",
       "        vertical-align: middle;\n",
       "    }\n",
       "\n",
       "    .dataframe tbody tr th {\n",
       "        vertical-align: top;\n",
       "    }\n",
       "\n",
       "    .dataframe thead th {\n",
       "        text-align: right;\n",
       "    }\n",
       "</style>\n",
       "<table border=\"1\" class=\"dataframe\">\n",
       "  <thead>\n",
       "    <tr style=\"text-align: right;\">\n",
       "      <th></th>\n",
       "      <th>Year</th>\n",
       "      <th>Month</th>\n",
       "      <th>emd_nm</th>\n",
       "      <th>resd_pop_cnt</th>\n",
       "      <th>work_pop_cnt</th>\n",
       "      <th>visit_pop_cnt</th>\n",
       "    </tr>\n",
       "  </thead>\n",
       "  <tbody>\n",
       "    <tr>\n",
       "      <th>0</th>\n",
       "      <td>2018</td>\n",
       "      <td>1</td>\n",
       "      <td>건입동</td>\n",
       "      <td>6634.385743</td>\n",
       "      <td>853.143169</td>\n",
       "      <td>4394.226701</td>\n",
       "    </tr>\n",
       "    <tr>\n",
       "      <th>1</th>\n",
       "      <td>2018</td>\n",
       "      <td>1</td>\n",
       "      <td>구좌읍</td>\n",
       "      <td>10751.059765</td>\n",
       "      <td>819.083626</td>\n",
       "      <td>2524.198609</td>\n",
       "    </tr>\n",
       "    <tr>\n",
       "      <th>2</th>\n",
       "      <td>2018</td>\n",
       "      <td>1</td>\n",
       "      <td>남원읍</td>\n",
       "      <td>11624.075800</td>\n",
       "      <td>787.079521</td>\n",
       "      <td>3023.966455</td>\n",
       "    </tr>\n",
       "    <tr>\n",
       "      <th>3</th>\n",
       "      <td>2018</td>\n",
       "      <td>1</td>\n",
       "      <td>노형동</td>\n",
       "      <td>48798.691607</td>\n",
       "      <td>4403.744917</td>\n",
       "      <td>13686.256064</td>\n",
       "    </tr>\n",
       "    <tr>\n",
       "      <th>4</th>\n",
       "      <td>2018</td>\n",
       "      <td>1</td>\n",
       "      <td>대륜동</td>\n",
       "      <td>11121.290470</td>\n",
       "      <td>961.279589</td>\n",
       "      <td>4246.676715</td>\n",
       "    </tr>\n",
       "    <tr>\n",
       "      <th>...</th>\n",
       "      <td>...</td>\n",
       "      <td>...</td>\n",
       "      <td>...</td>\n",
       "      <td>...</td>\n",
       "      <td>...</td>\n",
       "      <td>...</td>\n",
       "    </tr>\n",
       "    <tr>\n",
       "      <th>1717</th>\n",
       "      <td>2021</td>\n",
       "      <td>6</td>\n",
       "      <td>표선면</td>\n",
       "      <td>10331.692764</td>\n",
       "      <td>689.110686</td>\n",
       "      <td>2227.452513</td>\n",
       "    </tr>\n",
       "    <tr>\n",
       "      <th>1718</th>\n",
       "      <td>2021</td>\n",
       "      <td>6</td>\n",
       "      <td>한경면</td>\n",
       "      <td>7149.598525</td>\n",
       "      <td>514.862133</td>\n",
       "      <td>1785.017288</td>\n",
       "    </tr>\n",
       "    <tr>\n",
       "      <th>1719</th>\n",
       "      <td>2021</td>\n",
       "      <td>6</td>\n",
       "      <td>한림읍</td>\n",
       "      <td>20015.878783</td>\n",
       "      <td>1464.381657</td>\n",
       "      <td>4071.582216</td>\n",
       "    </tr>\n",
       "    <tr>\n",
       "      <th>1720</th>\n",
       "      <td>2021</td>\n",
       "      <td>6</td>\n",
       "      <td>화북동</td>\n",
       "      <td>24796.636769</td>\n",
       "      <td>1616.807904</td>\n",
       "      <td>7632.003908</td>\n",
       "    </tr>\n",
       "    <tr>\n",
       "      <th>1721</th>\n",
       "      <td>2021</td>\n",
       "      <td>6</td>\n",
       "      <td>효돈동</td>\n",
       "      <td>3880.141514</td>\n",
       "      <td>172.792983</td>\n",
       "      <td>1028.800535</td>\n",
       "    </tr>\n",
       "  </tbody>\n",
       "</table>\n",
       "<p>1722 rows × 6 columns</p>\n",
       "</div>"
      ],
      "text/plain": [
       "      Year  Month emd_nm  resd_pop_cnt  work_pop_cnt  visit_pop_cnt\n",
       "0     2018      1    건입동   6634.385743    853.143169    4394.226701\n",
       "1     2018      1    구좌읍  10751.059765    819.083626    2524.198609\n",
       "2     2018      1    남원읍  11624.075800    787.079521    3023.966455\n",
       "3     2018      1    노형동  48798.691607   4403.744917   13686.256064\n",
       "4     2018      1    대륜동  11121.290470    961.279589    4246.676715\n",
       "...    ...    ...    ...           ...           ...            ...\n",
       "1717  2021      6    표선면  10331.692764    689.110686    2227.452513\n",
       "1718  2021      6    한경면   7149.598525    514.862133    1785.017288\n",
       "1719  2021      6    한림읍  20015.878783   1464.381657    4071.582216\n",
       "1720  2021      6    화북동  24796.636769   1616.807904    7632.003908\n",
       "1721  2021      6    효돈동   3880.141514    172.792983    1028.800535\n",
       "\n",
       "[1722 rows x 6 columns]"
      ]
     },
     "execution_count": 25,
     "metadata": {},
     "output_type": "execute_result"
    }
   ],
   "source": [
    "df_2_1_제주=df_2_1_제주.drop(df_2_1_제주[(df_2_1_제주['emd_nm']=='알수없음')|(df_2_1_제주['emd_nm']=='추자면')|(df_2_1_제주['emd_nm']=='우도면')].index)\n",
    "\n",
    "내국인거주유동인구=df_2_1_제주.groupby(['Year','Month','emd_nm'])[['resd_pop_cnt','work_pop_cnt','visit_pop_cnt']].mean()*18\n",
    "내국인거주유동인구=내국인거주유동인구.reset_index()\n",
    "내국인거주유동인구"
   ]
  },
  {
   "cell_type": "code",
   "execution_count": 26,
   "metadata": {
    "ExecuteTime": {
     "end_time": "2021-09-15T00:39:38.895510Z",
     "start_time": "2021-09-15T00:39:17.521375Z"
    }
   },
   "outputs": [
    {
     "data": {
      "text/html": [
       "<div>\n",
       "<style scoped>\n",
       "    .dataframe tbody tr th:only-of-type {\n",
       "        vertical-align: middle;\n",
       "    }\n",
       "\n",
       "    .dataframe tbody tr th {\n",
       "        vertical-align: top;\n",
       "    }\n",
       "\n",
       "    .dataframe thead th {\n",
       "        text-align: right;\n",
       "    }\n",
       "</style>\n",
       "<table border=\"1\" class=\"dataframe\">\n",
       "  <thead>\n",
       "    <tr style=\"text-align: right;\">\n",
       "      <th></th>\n",
       "      <th>Year</th>\n",
       "      <th>Month</th>\n",
       "      <th>emd_nm</th>\n",
       "      <th>work_pop_cnt</th>\n",
       "      <th>visit_pop_cnt</th>\n",
       "    </tr>\n",
       "  </thead>\n",
       "  <tbody>\n",
       "    <tr>\n",
       "      <th>0</th>\n",
       "      <td>2018</td>\n",
       "      <td>1</td>\n",
       "      <td>건입동</td>\n",
       "      <td>93.411009</td>\n",
       "      <td>2253.836991</td>\n",
       "    </tr>\n",
       "    <tr>\n",
       "      <th>1</th>\n",
       "      <td>2018</td>\n",
       "      <td>1</td>\n",
       "      <td>구좌읍</td>\n",
       "      <td>194.158283</td>\n",
       "      <td>4330.264092</td>\n",
       "    </tr>\n",
       "    <tr>\n",
       "      <th>2</th>\n",
       "      <td>2018</td>\n",
       "      <td>1</td>\n",
       "      <td>남원읍</td>\n",
       "      <td>143.623268</td>\n",
       "      <td>4442.467249</td>\n",
       "    </tr>\n",
       "    <tr>\n",
       "      <th>3</th>\n",
       "      <td>2018</td>\n",
       "      <td>1</td>\n",
       "      <td>노형동</td>\n",
       "      <td>424.598301</td>\n",
       "      <td>6837.728176</td>\n",
       "    </tr>\n",
       "    <tr>\n",
       "      <th>4</th>\n",
       "      <td>2018</td>\n",
       "      <td>1</td>\n",
       "      <td>대륜동</td>\n",
       "      <td>128.113466</td>\n",
       "      <td>4624.612552</td>\n",
       "    </tr>\n",
       "    <tr>\n",
       "      <th>...</th>\n",
       "      <td>...</td>\n",
       "      <td>...</td>\n",
       "      <td>...</td>\n",
       "      <td>...</td>\n",
       "      <td>...</td>\n",
       "    </tr>\n",
       "    <tr>\n",
       "      <th>1717</th>\n",
       "      <td>2021</td>\n",
       "      <td>6</td>\n",
       "      <td>표선면</td>\n",
       "      <td>214.218649</td>\n",
       "      <td>4048.353335</td>\n",
       "    </tr>\n",
       "    <tr>\n",
       "      <th>1718</th>\n",
       "      <td>2021</td>\n",
       "      <td>6</td>\n",
       "      <td>한경면</td>\n",
       "      <td>107.343674</td>\n",
       "      <td>2332.464297</td>\n",
       "    </tr>\n",
       "    <tr>\n",
       "      <th>1719</th>\n",
       "      <td>2021</td>\n",
       "      <td>6</td>\n",
       "      <td>한림읍</td>\n",
       "      <td>413.853811</td>\n",
       "      <td>6899.167136</td>\n",
       "    </tr>\n",
       "    <tr>\n",
       "      <th>1720</th>\n",
       "      <td>2021</td>\n",
       "      <td>6</td>\n",
       "      <td>화북동</td>\n",
       "      <td>208.598656</td>\n",
       "      <td>1446.253715</td>\n",
       "    </tr>\n",
       "    <tr>\n",
       "      <th>1721</th>\n",
       "      <td>2021</td>\n",
       "      <td>6</td>\n",
       "      <td>효돈동</td>\n",
       "      <td>30.645732</td>\n",
       "      <td>661.193506</td>\n",
       "    </tr>\n",
       "  </tbody>\n",
       "</table>\n",
       "<p>1722 rows × 5 columns</p>\n",
       "</div>"
      ],
      "text/plain": [
       "      Year  Month emd_nm  work_pop_cnt  visit_pop_cnt\n",
       "0     2018      1    건입동     93.411009    2253.836991\n",
       "1     2018      1    구좌읍    194.158283    4330.264092\n",
       "2     2018      1    남원읍    143.623268    4442.467249\n",
       "3     2018      1    노형동    424.598301    6837.728176\n",
       "4     2018      1    대륜동    128.113466    4624.612552\n",
       "...    ...    ...    ...           ...            ...\n",
       "1717  2021      6    표선면    214.218649    4048.353335\n",
       "1718  2021      6    한경면    107.343674    2332.464297\n",
       "1719  2021      6    한림읍    413.853811    6899.167136\n",
       "1720  2021      6    화북동    208.598656    1446.253715\n",
       "1721  2021      6    효돈동     30.645732     661.193506\n",
       "\n",
       "[1722 rows x 5 columns]"
      ]
     },
     "execution_count": 26,
     "metadata": {},
     "output_type": "execute_result"
    }
   ],
   "source": [
    "내국인관광유동인구=df_2_1_그외.drop(df_2_1_그외[(df_2_1_그외['emd_nm']=='알수없음')|(df_2_1_그외['emd_nm']=='추자면')|(df_2_1_그외['emd_nm']=='우도면')].index)\n",
    "\n",
    "\n",
    "내국인관광유동인구=내국인관광유동인구.groupby(['Year','Month','emd_nm'])[['resd_pop_cnt','work_pop_cnt','visit_pop_cnt']].mean()*18\n",
    "내국인관광유동인구=내국인관광유동인구.reset_index()\n",
    "내국인관광유동인구=내국인관광유동인구.drop('resd_pop_cnt',axis=1)\n",
    "내국인관광유동인구"
   ]
  },
  {
   "cell_type": "code",
   "execution_count": 27,
   "metadata": {
    "ExecuteTime": {
     "end_time": "2021-09-15T00:39:54.917748Z",
     "start_time": "2021-09-15T00:39:38.898481Z"
    }
   },
   "outputs": [
    {
     "data": {
      "text/html": [
       "<div>\n",
       "<style scoped>\n",
       "    .dataframe tbody tr th:only-of-type {\n",
       "        vertical-align: middle;\n",
       "    }\n",
       "\n",
       "    .dataframe tbody tr th {\n",
       "        vertical-align: top;\n",
       "    }\n",
       "\n",
       "    .dataframe thead th {\n",
       "        text-align: right;\n",
       "    }\n",
       "</style>\n",
       "<table border=\"1\" class=\"dataframe\">\n",
       "  <thead>\n",
       "    <tr style=\"text-align: right;\">\n",
       "      <th></th>\n",
       "      <th>Year</th>\n",
       "      <th>Month</th>\n",
       "      <th>emd_nm</th>\n",
       "      <th>resd_pop_cnt</th>\n",
       "      <th>work_pop_cnt</th>\n",
       "      <th>visit_pop_cnt</th>\n",
       "    </tr>\n",
       "  </thead>\n",
       "  <tbody>\n",
       "    <tr>\n",
       "      <th>0</th>\n",
       "      <td>2018</td>\n",
       "      <td>1</td>\n",
       "      <td>건입동</td>\n",
       "      <td>163.093121</td>\n",
       "      <td>27.144504</td>\n",
       "      <td>184.660254</td>\n",
       "    </tr>\n",
       "    <tr>\n",
       "      <th>1</th>\n",
       "      <td>2018</td>\n",
       "      <td>1</td>\n",
       "      <td>구좌읍</td>\n",
       "      <td>255.778296</td>\n",
       "      <td>40.276986</td>\n",
       "      <td>153.384000</td>\n",
       "    </tr>\n",
       "    <tr>\n",
       "      <th>2</th>\n",
       "      <td>2018</td>\n",
       "      <td>1</td>\n",
       "      <td>남원읍</td>\n",
       "      <td>288.951820</td>\n",
       "      <td>43.206341</td>\n",
       "      <td>218.063492</td>\n",
       "    </tr>\n",
       "    <tr>\n",
       "      <th>3</th>\n",
       "      <td>2018</td>\n",
       "      <td>1</td>\n",
       "      <td>노형동</td>\n",
       "      <td>1292.023268</td>\n",
       "      <td>110.859093</td>\n",
       "      <td>385.681928</td>\n",
       "    </tr>\n",
       "    <tr>\n",
       "      <th>4</th>\n",
       "      <td>2018</td>\n",
       "      <td>1</td>\n",
       "      <td>대륜동</td>\n",
       "      <td>147.053194</td>\n",
       "      <td>13.896311</td>\n",
       "      <td>171.822528</td>\n",
       "    </tr>\n",
       "    <tr>\n",
       "      <th>...</th>\n",
       "      <td>...</td>\n",
       "      <td>...</td>\n",
       "      <td>...</td>\n",
       "      <td>...</td>\n",
       "      <td>...</td>\n",
       "      <td>...</td>\n",
       "    </tr>\n",
       "    <tr>\n",
       "      <th>1717</th>\n",
       "      <td>2021</td>\n",
       "      <td>6</td>\n",
       "      <td>표선면</td>\n",
       "      <td>129.481625</td>\n",
       "      <td>11.738374</td>\n",
       "      <td>98.368480</td>\n",
       "    </tr>\n",
       "    <tr>\n",
       "      <th>1718</th>\n",
       "      <td>2021</td>\n",
       "      <td>6</td>\n",
       "      <td>한경면</td>\n",
       "      <td>212.334862</td>\n",
       "      <td>8.806442</td>\n",
       "      <td>225.290512</td>\n",
       "    </tr>\n",
       "    <tr>\n",
       "      <th>1719</th>\n",
       "      <td>2021</td>\n",
       "      <td>6</td>\n",
       "      <td>한림읍</td>\n",
       "      <td>596.535460</td>\n",
       "      <td>37.609323</td>\n",
       "      <td>291.497778</td>\n",
       "    </tr>\n",
       "    <tr>\n",
       "      <th>1720</th>\n",
       "      <td>2021</td>\n",
       "      <td>6</td>\n",
       "      <td>화북동</td>\n",
       "      <td>234.070831</td>\n",
       "      <td>28.579051</td>\n",
       "      <td>68.653132</td>\n",
       "    </tr>\n",
       "    <tr>\n",
       "      <th>1721</th>\n",
       "      <td>2021</td>\n",
       "      <td>6</td>\n",
       "      <td>효돈동</td>\n",
       "      <td>89.266496</td>\n",
       "      <td>5.234106</td>\n",
       "      <td>56.919068</td>\n",
       "    </tr>\n",
       "  </tbody>\n",
       "</table>\n",
       "<p>1722 rows × 6 columns</p>\n",
       "</div>"
      ],
      "text/plain": [
       "      Year  Month emd_nm  resd_pop_cnt  work_pop_cnt  visit_pop_cnt\n",
       "0     2018      1    건입동    163.093121     27.144504     184.660254\n",
       "1     2018      1    구좌읍    255.778296     40.276986     153.384000\n",
       "2     2018      1    남원읍    288.951820     43.206341     218.063492\n",
       "3     2018      1    노형동   1292.023268    110.859093     385.681928\n",
       "4     2018      1    대륜동    147.053194     13.896311     171.822528\n",
       "...    ...    ...    ...           ...           ...            ...\n",
       "1717  2021      6    표선면    129.481625     11.738374      98.368480\n",
       "1718  2021      6    한경면    212.334862      8.806442     225.290512\n",
       "1719  2021      6    한림읍    596.535460     37.609323     291.497778\n",
       "1720  2021      6    화북동    234.070831     28.579051      68.653132\n",
       "1721  2021      6    효돈동     89.266496      5.234106      56.919068\n",
       "\n",
       "[1722 rows x 6 columns]"
      ]
     },
     "execution_count": 27,
     "metadata": {},
     "output_type": "execute_result"
    }
   ],
   "source": [
    "장기체류외국인=df_2_2.drop(df_2_2[(df_2_2['emd_nm']=='알수없음')|(df_2_2['emd_nm']=='추자면')|(df_2_2['emd_nm']=='우도면')].index)\n",
    "\n",
    "장기체류외국인=장기체류외국인.groupby(['Year','Month','emd_nm'])[['resd_pop_cnt','work_pop_cnt','visit_pop_cnt']].mean()*19\n",
    "장기체류외국인=장기체류외국인.reset_index()\n",
    "장기체류외국인"
   ]
  },
  {
   "cell_type": "code",
   "execution_count": 28,
   "metadata": {
    "ExecuteTime": {
     "end_time": "2021-09-15T00:39:58.805064Z",
     "start_time": "2021-09-15T00:39:54.925737Z"
    }
   },
   "outputs": [
    {
     "data": {
      "text/html": [
       "<div>\n",
       "<style scoped>\n",
       "    .dataframe tbody tr th:only-of-type {\n",
       "        vertical-align: middle;\n",
       "    }\n",
       "\n",
       "    .dataframe tbody tr th {\n",
       "        vertical-align: top;\n",
       "    }\n",
       "\n",
       "    .dataframe thead th {\n",
       "        text-align: right;\n",
       "    }\n",
       "</style>\n",
       "<table border=\"1\" class=\"dataframe\">\n",
       "  <thead>\n",
       "    <tr style=\"text-align: right;\">\n",
       "      <th></th>\n",
       "      <th>Year</th>\n",
       "      <th>Month</th>\n",
       "      <th>emd_nm</th>\n",
       "      <th>visit_pop_cnt</th>\n",
       "    </tr>\n",
       "  </thead>\n",
       "  <tbody>\n",
       "    <tr>\n",
       "      <th>0</th>\n",
       "      <td>2018</td>\n",
       "      <td>1</td>\n",
       "      <td>건입동</td>\n",
       "      <td>342.767185</td>\n",
       "    </tr>\n",
       "    <tr>\n",
       "      <th>1</th>\n",
       "      <td>2018</td>\n",
       "      <td>1</td>\n",
       "      <td>구좌읍</td>\n",
       "      <td>274.760955</td>\n",
       "    </tr>\n",
       "    <tr>\n",
       "      <th>2</th>\n",
       "      <td>2018</td>\n",
       "      <td>1</td>\n",
       "      <td>남원읍</td>\n",
       "      <td>1048.302685</td>\n",
       "    </tr>\n",
       "    <tr>\n",
       "      <th>3</th>\n",
       "      <td>2018</td>\n",
       "      <td>1</td>\n",
       "      <td>노형동</td>\n",
       "      <td>830.035215</td>\n",
       "    </tr>\n",
       "    <tr>\n",
       "      <th>4</th>\n",
       "      <td>2018</td>\n",
       "      <td>1</td>\n",
       "      <td>대륜동</td>\n",
       "      <td>259.061016</td>\n",
       "    </tr>\n",
       "    <tr>\n",
       "      <th>...</th>\n",
       "      <td>...</td>\n",
       "      <td>...</td>\n",
       "      <td>...</td>\n",
       "      <td>...</td>\n",
       "    </tr>\n",
       "    <tr>\n",
       "      <th>1717</th>\n",
       "      <td>2021</td>\n",
       "      <td>6</td>\n",
       "      <td>표선면</td>\n",
       "      <td>18.731057</td>\n",
       "    </tr>\n",
       "    <tr>\n",
       "      <th>1718</th>\n",
       "      <td>2021</td>\n",
       "      <td>6</td>\n",
       "      <td>한경면</td>\n",
       "      <td>9.151097</td>\n",
       "    </tr>\n",
       "    <tr>\n",
       "      <th>1719</th>\n",
       "      <td>2021</td>\n",
       "      <td>6</td>\n",
       "      <td>한림읍</td>\n",
       "      <td>16.992049</td>\n",
       "    </tr>\n",
       "    <tr>\n",
       "      <th>1720</th>\n",
       "      <td>2021</td>\n",
       "      <td>6</td>\n",
       "      <td>화북동</td>\n",
       "      <td>7.764423</td>\n",
       "    </tr>\n",
       "    <tr>\n",
       "      <th>1721</th>\n",
       "      <td>2021</td>\n",
       "      <td>6</td>\n",
       "      <td>효돈동</td>\n",
       "      <td>6.959309</td>\n",
       "    </tr>\n",
       "  </tbody>\n",
       "</table>\n",
       "<p>1722 rows × 4 columns</p>\n",
       "</div>"
      ],
      "text/plain": [
       "      Year  Month emd_nm  visit_pop_cnt\n",
       "0     2018      1    건입동     342.767185\n",
       "1     2018      1    구좌읍     274.760955\n",
       "2     2018      1    남원읍    1048.302685\n",
       "3     2018      1    노형동     830.035215\n",
       "4     2018      1    대륜동     259.061016\n",
       "...    ...    ...    ...            ...\n",
       "1717  2021      6    표선면      18.731057\n",
       "1718  2021      6    한경면       9.151097\n",
       "1719  2021      6    한림읍      16.992049\n",
       "1720  2021      6    화북동       7.764423\n",
       "1721  2021      6    효돈동       6.959309\n",
       "\n",
       "[1722 rows x 4 columns]"
      ]
     },
     "execution_count": 28,
     "metadata": {},
     "output_type": "execute_result"
    }
   ],
   "source": [
    "# 19는 나라 개수이다\n",
    "단기체류외국인=df_2_3.drop(df_2_3[(df_2_3['emd_nm']=='알수없음')|(df_2_3['emd_nm']=='추자면')|(df_2_3['emd_nm']=='우도면')].index)\n",
    "\n",
    "단기체류외국인=단기체류외국인.groupby(['Year','Month','emd_nm'])[['visit_pop_cnt']].mean()*19\n",
    "단기체류외국인=단기체류외국인.reset_index()\n",
    "단기체류외국인"
   ]
  },
  {
   "cell_type": "code",
   "execution_count": 29,
   "metadata": {
    "ExecuteTime": {
     "end_time": "2021-09-15T00:39:58.815023Z",
     "start_time": "2021-09-15T00:39:58.808242Z"
    }
   },
   "outputs": [],
   "source": [
    "내국인거주유동인구.columns=['Year','Month','emd_nm','내국인R','내국인W','내국인V']\n",
    "내국인관광유동인구.columns=['Year','Month','emd_nm','내국인관광W','내국인관광V']\n",
    "장기체류외국인.columns=['Year','Month','emd_nm','장기외국인R','장기외국인W','장기외국인V']\n",
    "단기체류외국인.columns=['Year','Month','emd_nm','단기외국인V']"
   ]
  },
  {
   "cell_type": "code",
   "execution_count": 30,
   "metadata": {
    "ExecuteTime": {
     "end_time": "2021-09-15T00:39:58.839334Z",
     "start_time": "2021-09-15T00:39:58.818022Z"
    }
   },
   "outputs": [],
   "source": [
    "내국인관광유동인구=내국인관광유동인구.drop(['Year','Month','emd_nm'],axis=1)\n",
    "장기체류외국인=장기체류외국인.drop(['Year','Month','emd_nm'],axis=1)\n",
    "단기체류외국인=단기체류외국인.drop(['Year','Month','emd_nm'],axis=1)"
   ]
  },
  {
   "cell_type": "code",
   "execution_count": 31,
   "metadata": {
    "ExecuteTime": {
     "end_time": "2021-09-15T00:39:58.873303Z",
     "start_time": "2021-09-15T00:39:58.842298Z"
    }
   },
   "outputs": [
    {
     "data": {
      "text/html": [
       "<div>\n",
       "<style scoped>\n",
       "    .dataframe tbody tr th:only-of-type {\n",
       "        vertical-align: middle;\n",
       "    }\n",
       "\n",
       "    .dataframe tbody tr th {\n",
       "        vertical-align: top;\n",
       "    }\n",
       "\n",
       "    .dataframe thead th {\n",
       "        text-align: right;\n",
       "    }\n",
       "</style>\n",
       "<table border=\"1\" class=\"dataframe\">\n",
       "  <thead>\n",
       "    <tr style=\"text-align: right;\">\n",
       "      <th></th>\n",
       "      <th>Year</th>\n",
       "      <th>Month</th>\n",
       "      <th>emd_nm</th>\n",
       "      <th>내국인R</th>\n",
       "      <th>내국인W</th>\n",
       "      <th>내국인V</th>\n",
       "      <th>내국인관광W</th>\n",
       "      <th>내국인관광V</th>\n",
       "      <th>장기외국인R</th>\n",
       "      <th>장기외국인W</th>\n",
       "      <th>장기외국인V</th>\n",
       "      <th>단기외국인V</th>\n",
       "    </tr>\n",
       "  </thead>\n",
       "  <tbody>\n",
       "    <tr>\n",
       "      <th>0</th>\n",
       "      <td>2018</td>\n",
       "      <td>1</td>\n",
       "      <td>건입동</td>\n",
       "      <td>6634.385743</td>\n",
       "      <td>853.143169</td>\n",
       "      <td>4394.226701</td>\n",
       "      <td>93.411009</td>\n",
       "      <td>2253.836991</td>\n",
       "      <td>163.093121</td>\n",
       "      <td>27.144504</td>\n",
       "      <td>184.660254</td>\n",
       "      <td>342.767185</td>\n",
       "    </tr>\n",
       "    <tr>\n",
       "      <th>1</th>\n",
       "      <td>2018</td>\n",
       "      <td>1</td>\n",
       "      <td>구좌읍</td>\n",
       "      <td>10751.059765</td>\n",
       "      <td>819.083626</td>\n",
       "      <td>2524.198609</td>\n",
       "      <td>194.158283</td>\n",
       "      <td>4330.264092</td>\n",
       "      <td>255.778296</td>\n",
       "      <td>40.276986</td>\n",
       "      <td>153.384000</td>\n",
       "      <td>274.760955</td>\n",
       "    </tr>\n",
       "    <tr>\n",
       "      <th>2</th>\n",
       "      <td>2018</td>\n",
       "      <td>1</td>\n",
       "      <td>남원읍</td>\n",
       "      <td>11624.075800</td>\n",
       "      <td>787.079521</td>\n",
       "      <td>3023.966455</td>\n",
       "      <td>143.623268</td>\n",
       "      <td>4442.467249</td>\n",
       "      <td>288.951820</td>\n",
       "      <td>43.206341</td>\n",
       "      <td>218.063492</td>\n",
       "      <td>1048.302685</td>\n",
       "    </tr>\n",
       "    <tr>\n",
       "      <th>3</th>\n",
       "      <td>2018</td>\n",
       "      <td>1</td>\n",
       "      <td>노형동</td>\n",
       "      <td>48798.691607</td>\n",
       "      <td>4403.744917</td>\n",
       "      <td>13686.256064</td>\n",
       "      <td>424.598301</td>\n",
       "      <td>6837.728176</td>\n",
       "      <td>1292.023268</td>\n",
       "      <td>110.859093</td>\n",
       "      <td>385.681928</td>\n",
       "      <td>830.035215</td>\n",
       "    </tr>\n",
       "    <tr>\n",
       "      <th>4</th>\n",
       "      <td>2018</td>\n",
       "      <td>1</td>\n",
       "      <td>대륜동</td>\n",
       "      <td>11121.290470</td>\n",
       "      <td>961.279589</td>\n",
       "      <td>4246.676715</td>\n",
       "      <td>128.113466</td>\n",
       "      <td>4624.612552</td>\n",
       "      <td>147.053194</td>\n",
       "      <td>13.896311</td>\n",
       "      <td>171.822528</td>\n",
       "      <td>259.061016</td>\n",
       "    </tr>\n",
       "    <tr>\n",
       "      <th>...</th>\n",
       "      <td>...</td>\n",
       "      <td>...</td>\n",
       "      <td>...</td>\n",
       "      <td>...</td>\n",
       "      <td>...</td>\n",
       "      <td>...</td>\n",
       "      <td>...</td>\n",
       "      <td>...</td>\n",
       "      <td>...</td>\n",
       "      <td>...</td>\n",
       "      <td>...</td>\n",
       "      <td>...</td>\n",
       "    </tr>\n",
       "    <tr>\n",
       "      <th>1717</th>\n",
       "      <td>2021</td>\n",
       "      <td>6</td>\n",
       "      <td>표선면</td>\n",
       "      <td>10331.692764</td>\n",
       "      <td>689.110686</td>\n",
       "      <td>2227.452513</td>\n",
       "      <td>214.218649</td>\n",
       "      <td>4048.353335</td>\n",
       "      <td>129.481625</td>\n",
       "      <td>11.738374</td>\n",
       "      <td>98.368480</td>\n",
       "      <td>18.731057</td>\n",
       "    </tr>\n",
       "    <tr>\n",
       "      <th>1718</th>\n",
       "      <td>2021</td>\n",
       "      <td>6</td>\n",
       "      <td>한경면</td>\n",
       "      <td>7149.598525</td>\n",
       "      <td>514.862133</td>\n",
       "      <td>1785.017288</td>\n",
       "      <td>107.343674</td>\n",
       "      <td>2332.464297</td>\n",
       "      <td>212.334862</td>\n",
       "      <td>8.806442</td>\n",
       "      <td>225.290512</td>\n",
       "      <td>9.151097</td>\n",
       "    </tr>\n",
       "    <tr>\n",
       "      <th>1719</th>\n",
       "      <td>2021</td>\n",
       "      <td>6</td>\n",
       "      <td>한림읍</td>\n",
       "      <td>20015.878783</td>\n",
       "      <td>1464.381657</td>\n",
       "      <td>4071.582216</td>\n",
       "      <td>413.853811</td>\n",
       "      <td>6899.167136</td>\n",
       "      <td>596.535460</td>\n",
       "      <td>37.609323</td>\n",
       "      <td>291.497778</td>\n",
       "      <td>16.992049</td>\n",
       "    </tr>\n",
       "    <tr>\n",
       "      <th>1720</th>\n",
       "      <td>2021</td>\n",
       "      <td>6</td>\n",
       "      <td>화북동</td>\n",
       "      <td>24796.636769</td>\n",
       "      <td>1616.807904</td>\n",
       "      <td>7632.003908</td>\n",
       "      <td>208.598656</td>\n",
       "      <td>1446.253715</td>\n",
       "      <td>234.070831</td>\n",
       "      <td>28.579051</td>\n",
       "      <td>68.653132</td>\n",
       "      <td>7.764423</td>\n",
       "    </tr>\n",
       "    <tr>\n",
       "      <th>1721</th>\n",
       "      <td>2021</td>\n",
       "      <td>6</td>\n",
       "      <td>효돈동</td>\n",
       "      <td>3880.141514</td>\n",
       "      <td>172.792983</td>\n",
       "      <td>1028.800535</td>\n",
       "      <td>30.645732</td>\n",
       "      <td>661.193506</td>\n",
       "      <td>89.266496</td>\n",
       "      <td>5.234106</td>\n",
       "      <td>56.919068</td>\n",
       "      <td>6.959309</td>\n",
       "    </tr>\n",
       "  </tbody>\n",
       "</table>\n",
       "<p>1722 rows × 12 columns</p>\n",
       "</div>"
      ],
      "text/plain": [
       "      Year  Month emd_nm          내국인R         내국인W          내국인V      내국인관광W  \\\n",
       "0     2018      1    건입동   6634.385743   853.143169   4394.226701   93.411009   \n",
       "1     2018      1    구좌읍  10751.059765   819.083626   2524.198609  194.158283   \n",
       "2     2018      1    남원읍  11624.075800   787.079521   3023.966455  143.623268   \n",
       "3     2018      1    노형동  48798.691607  4403.744917  13686.256064  424.598301   \n",
       "4     2018      1    대륜동  11121.290470   961.279589   4246.676715  128.113466   \n",
       "...    ...    ...    ...           ...          ...           ...         ...   \n",
       "1717  2021      6    표선면  10331.692764   689.110686   2227.452513  214.218649   \n",
       "1718  2021      6    한경면   7149.598525   514.862133   1785.017288  107.343674   \n",
       "1719  2021      6    한림읍  20015.878783  1464.381657   4071.582216  413.853811   \n",
       "1720  2021      6    화북동  24796.636769  1616.807904   7632.003908  208.598656   \n",
       "1721  2021      6    효돈동   3880.141514   172.792983   1028.800535   30.645732   \n",
       "\n",
       "           내국인관광V       장기외국인R      장기외국인W      장기외국인V       단기외국인V  \n",
       "0     2253.836991   163.093121   27.144504  184.660254   342.767185  \n",
       "1     4330.264092   255.778296   40.276986  153.384000   274.760955  \n",
       "2     4442.467249   288.951820   43.206341  218.063492  1048.302685  \n",
       "3     6837.728176  1292.023268  110.859093  385.681928   830.035215  \n",
       "4     4624.612552   147.053194   13.896311  171.822528   259.061016  \n",
       "...           ...          ...         ...         ...          ...  \n",
       "1717  4048.353335   129.481625   11.738374   98.368480    18.731057  \n",
       "1718  2332.464297   212.334862    8.806442  225.290512     9.151097  \n",
       "1719  6899.167136   596.535460   37.609323  291.497778    16.992049  \n",
       "1720  1446.253715   234.070831   28.579051   68.653132     7.764423  \n",
       "1721   661.193506    89.266496    5.234106   56.919068     6.959309  \n",
       "\n",
       "[1722 rows x 12 columns]"
      ]
     },
     "execution_count": 31,
     "metadata": {},
     "output_type": "execute_result"
    }
   ],
   "source": [
    "유동인구_df=pd.concat([내국인거주유동인구,내국인관광유동인구,장기체류외국인,단기체류외국인],axis=1)\n",
    "유동인구_df"
   ]
  },
  {
   "cell_type": "code",
   "execution_count": 32,
   "metadata": {
    "ExecuteTime": {
     "end_time": "2021-09-15T00:39:58.927294Z",
     "start_time": "2021-09-15T00:39:58.876297Z"
    }
   },
   "outputs": [
    {
     "data": {
      "text/html": [
       "<div>\n",
       "<style scoped>\n",
       "    .dataframe tbody tr th:only-of-type {\n",
       "        vertical-align: middle;\n",
       "    }\n",
       "\n",
       "    .dataframe tbody tr th {\n",
       "        vertical-align: top;\n",
       "    }\n",
       "\n",
       "    .dataframe thead th {\n",
       "        text-align: right;\n",
       "    }\n",
       "</style>\n",
       "<table border=\"1\" class=\"dataframe\">\n",
       "  <thead>\n",
       "    <tr style=\"text-align: right;\">\n",
       "      <th></th>\n",
       "      <th>emd_nm</th>\n",
       "      <th>내국인R</th>\n",
       "      <th>내국인W</th>\n",
       "      <th>내국인V</th>\n",
       "      <th>내국인관광W</th>\n",
       "      <th>내국인관광V</th>\n",
       "      <th>장기외국인R</th>\n",
       "      <th>장기외국인W</th>\n",
       "      <th>장기외국인V</th>\n",
       "      <th>단기외국인V</th>\n",
       "      <th>base_date</th>\n",
       "    </tr>\n",
       "  </thead>\n",
       "  <tbody>\n",
       "    <tr>\n",
       "      <th>0</th>\n",
       "      <td>건입동</td>\n",
       "      <td>6634.385743</td>\n",
       "      <td>853.143169</td>\n",
       "      <td>4394.226701</td>\n",
       "      <td>93.411009</td>\n",
       "      <td>2253.836991</td>\n",
       "      <td>163.093121</td>\n",
       "      <td>27.144504</td>\n",
       "      <td>184.660254</td>\n",
       "      <td>342.767185</td>\n",
       "      <td>2018-01</td>\n",
       "    </tr>\n",
       "    <tr>\n",
       "      <th>1</th>\n",
       "      <td>구좌읍</td>\n",
       "      <td>10751.059765</td>\n",
       "      <td>819.083626</td>\n",
       "      <td>2524.198609</td>\n",
       "      <td>194.158283</td>\n",
       "      <td>4330.264092</td>\n",
       "      <td>255.778296</td>\n",
       "      <td>40.276986</td>\n",
       "      <td>153.384000</td>\n",
       "      <td>274.760955</td>\n",
       "      <td>2018-01</td>\n",
       "    </tr>\n",
       "    <tr>\n",
       "      <th>2</th>\n",
       "      <td>남원읍</td>\n",
       "      <td>11624.075800</td>\n",
       "      <td>787.079521</td>\n",
       "      <td>3023.966455</td>\n",
       "      <td>143.623268</td>\n",
       "      <td>4442.467249</td>\n",
       "      <td>288.951820</td>\n",
       "      <td>43.206341</td>\n",
       "      <td>218.063492</td>\n",
       "      <td>1048.302685</td>\n",
       "      <td>2018-01</td>\n",
       "    </tr>\n",
       "    <tr>\n",
       "      <th>3</th>\n",
       "      <td>노형동</td>\n",
       "      <td>48798.691607</td>\n",
       "      <td>4403.744917</td>\n",
       "      <td>13686.256064</td>\n",
       "      <td>424.598301</td>\n",
       "      <td>6837.728176</td>\n",
       "      <td>1292.023268</td>\n",
       "      <td>110.859093</td>\n",
       "      <td>385.681928</td>\n",
       "      <td>830.035215</td>\n",
       "      <td>2018-01</td>\n",
       "    </tr>\n",
       "    <tr>\n",
       "      <th>4</th>\n",
       "      <td>대륜동</td>\n",
       "      <td>11121.290470</td>\n",
       "      <td>961.279589</td>\n",
       "      <td>4246.676715</td>\n",
       "      <td>128.113466</td>\n",
       "      <td>4624.612552</td>\n",
       "      <td>147.053194</td>\n",
       "      <td>13.896311</td>\n",
       "      <td>171.822528</td>\n",
       "      <td>259.061016</td>\n",
       "      <td>2018-01</td>\n",
       "    </tr>\n",
       "    <tr>\n",
       "      <th>...</th>\n",
       "      <td>...</td>\n",
       "      <td>...</td>\n",
       "      <td>...</td>\n",
       "      <td>...</td>\n",
       "      <td>...</td>\n",
       "      <td>...</td>\n",
       "      <td>...</td>\n",
       "      <td>...</td>\n",
       "      <td>...</td>\n",
       "      <td>...</td>\n",
       "      <td>...</td>\n",
       "    </tr>\n",
       "    <tr>\n",
       "      <th>1717</th>\n",
       "      <td>표선면</td>\n",
       "      <td>10331.692764</td>\n",
       "      <td>689.110686</td>\n",
       "      <td>2227.452513</td>\n",
       "      <td>214.218649</td>\n",
       "      <td>4048.353335</td>\n",
       "      <td>129.481625</td>\n",
       "      <td>11.738374</td>\n",
       "      <td>98.368480</td>\n",
       "      <td>18.731057</td>\n",
       "      <td>2021-06</td>\n",
       "    </tr>\n",
       "    <tr>\n",
       "      <th>1718</th>\n",
       "      <td>한경면</td>\n",
       "      <td>7149.598525</td>\n",
       "      <td>514.862133</td>\n",
       "      <td>1785.017288</td>\n",
       "      <td>107.343674</td>\n",
       "      <td>2332.464297</td>\n",
       "      <td>212.334862</td>\n",
       "      <td>8.806442</td>\n",
       "      <td>225.290512</td>\n",
       "      <td>9.151097</td>\n",
       "      <td>2021-06</td>\n",
       "    </tr>\n",
       "    <tr>\n",
       "      <th>1719</th>\n",
       "      <td>한림읍</td>\n",
       "      <td>20015.878783</td>\n",
       "      <td>1464.381657</td>\n",
       "      <td>4071.582216</td>\n",
       "      <td>413.853811</td>\n",
       "      <td>6899.167136</td>\n",
       "      <td>596.535460</td>\n",
       "      <td>37.609323</td>\n",
       "      <td>291.497778</td>\n",
       "      <td>16.992049</td>\n",
       "      <td>2021-06</td>\n",
       "    </tr>\n",
       "    <tr>\n",
       "      <th>1720</th>\n",
       "      <td>화북동</td>\n",
       "      <td>24796.636769</td>\n",
       "      <td>1616.807904</td>\n",
       "      <td>7632.003908</td>\n",
       "      <td>208.598656</td>\n",
       "      <td>1446.253715</td>\n",
       "      <td>234.070831</td>\n",
       "      <td>28.579051</td>\n",
       "      <td>68.653132</td>\n",
       "      <td>7.764423</td>\n",
       "      <td>2021-06</td>\n",
       "    </tr>\n",
       "    <tr>\n",
       "      <th>1721</th>\n",
       "      <td>효돈동</td>\n",
       "      <td>3880.141514</td>\n",
       "      <td>172.792983</td>\n",
       "      <td>1028.800535</td>\n",
       "      <td>30.645732</td>\n",
       "      <td>661.193506</td>\n",
       "      <td>89.266496</td>\n",
       "      <td>5.234106</td>\n",
       "      <td>56.919068</td>\n",
       "      <td>6.959309</td>\n",
       "      <td>2021-06</td>\n",
       "    </tr>\n",
       "  </tbody>\n",
       "</table>\n",
       "<p>1722 rows × 11 columns</p>\n",
       "</div>"
      ],
      "text/plain": [
       "     emd_nm          내국인R         내국인W          내국인V      내국인관광W       내국인관광V  \\\n",
       "0       건입동   6634.385743   853.143169   4394.226701   93.411009  2253.836991   \n",
       "1       구좌읍  10751.059765   819.083626   2524.198609  194.158283  4330.264092   \n",
       "2       남원읍  11624.075800   787.079521   3023.966455  143.623268  4442.467249   \n",
       "3       노형동  48798.691607  4403.744917  13686.256064  424.598301  6837.728176   \n",
       "4       대륜동  11121.290470   961.279589   4246.676715  128.113466  4624.612552   \n",
       "...     ...           ...          ...           ...         ...          ...   \n",
       "1717    표선면  10331.692764   689.110686   2227.452513  214.218649  4048.353335   \n",
       "1718    한경면   7149.598525   514.862133   1785.017288  107.343674  2332.464297   \n",
       "1719    한림읍  20015.878783  1464.381657   4071.582216  413.853811  6899.167136   \n",
       "1720    화북동  24796.636769  1616.807904   7632.003908  208.598656  1446.253715   \n",
       "1721    효돈동   3880.141514   172.792983   1028.800535   30.645732   661.193506   \n",
       "\n",
       "           장기외국인R      장기외국인W      장기외국인V       단기외국인V base_date  \n",
       "0      163.093121   27.144504  184.660254   342.767185   2018-01  \n",
       "1      255.778296   40.276986  153.384000   274.760955   2018-01  \n",
       "2      288.951820   43.206341  218.063492  1048.302685   2018-01  \n",
       "3     1292.023268  110.859093  385.681928   830.035215   2018-01  \n",
       "4      147.053194   13.896311  171.822528   259.061016   2018-01  \n",
       "...           ...         ...         ...          ...       ...  \n",
       "1717   129.481625   11.738374   98.368480    18.731057   2021-06  \n",
       "1718   212.334862    8.806442  225.290512     9.151097   2021-06  \n",
       "1719   596.535460   37.609323  291.497778    16.992049   2021-06  \n",
       "1720   234.070831   28.579051   68.653132     7.764423   2021-06  \n",
       "1721    89.266496    5.234106   56.919068     6.959309   2021-06  \n",
       "\n",
       "[1722 rows x 11 columns]"
      ]
     },
     "execution_count": 32,
     "metadata": {},
     "output_type": "execute_result"
    }
   ],
   "source": [
    "유동인구_df = 유동인구_df.astype({\n",
    "    'Year':\"str\",\n",
    "    'Month':\"str\",\n",
    "})\n",
    "유동인구_df['Month'] = 유동인구_df['Month'].str.zfill(2)\n",
    "유동인구_df[\"base_date\"]= 유동인구_df['Year'] +\"-\"+ 유동인구_df['Month']\n",
    "유동인구_df=유동인구_df.drop([\"Year\",\"Month\"],axis=1)\n",
    "유동인구_df"
   ]
  },
  {
   "cell_type": "code",
   "execution_count": 33,
   "metadata": {
    "ExecuteTime": {
     "end_time": "2021-09-15T00:40:00.596876Z",
     "start_time": "2021-09-15T00:39:58.929299Z"
    }
   },
   "outputs": [
    {
     "data": {
      "text/html": [
       "<div>\n",
       "<style scoped>\n",
       "    .dataframe tbody tr th:only-of-type {\n",
       "        vertical-align: middle;\n",
       "    }\n",
       "\n",
       "    .dataframe tbody tr th {\n",
       "        vertical-align: top;\n",
       "    }\n",
       "\n",
       "    .dataframe thead th {\n",
       "        text-align: right;\n",
       "    }\n",
       "</style>\n",
       "<table border=\"1\" class=\"dataframe\">\n",
       "  <thead>\n",
       "    <tr style=\"text-align: right;\">\n",
       "      <th></th>\n",
       "      <th></th>\n",
       "      <th>em_g</th>\n",
       "    </tr>\n",
       "    <tr>\n",
       "      <th>emd_nm</th>\n",
       "      <th>base_date</th>\n",
       "      <th></th>\n",
       "    </tr>\n",
       "  </thead>\n",
       "  <tbody>\n",
       "    <tr>\n",
       "      <th rowspan=\"5\" valign=\"top\">건입동</th>\n",
       "      <th>2018-01</th>\n",
       "      <td>45646550</td>\n",
       "    </tr>\n",
       "    <tr>\n",
       "      <th>2018-02</th>\n",
       "      <td>42953550</td>\n",
       "    </tr>\n",
       "    <tr>\n",
       "      <th>2018-03</th>\n",
       "      <td>46422450</td>\n",
       "    </tr>\n",
       "    <tr>\n",
       "      <th>2018-04</th>\n",
       "      <td>42438700</td>\n",
       "    </tr>\n",
       "    <tr>\n",
       "      <th>2018-05</th>\n",
       "      <td>44893300</td>\n",
       "    </tr>\n",
       "    <tr>\n",
       "      <th>...</th>\n",
       "      <th>...</th>\n",
       "      <td>...</td>\n",
       "    </tr>\n",
       "    <tr>\n",
       "      <th rowspan=\"5\" valign=\"top\">효돈동</th>\n",
       "      <th>2021-02</th>\n",
       "      <td>26128400</td>\n",
       "    </tr>\n",
       "    <tr>\n",
       "      <th>2021-03</th>\n",
       "      <td>26845400</td>\n",
       "    </tr>\n",
       "    <tr>\n",
       "      <th>2021-04</th>\n",
       "      <td>25200200</td>\n",
       "    </tr>\n",
       "    <tr>\n",
       "      <th>2021-05</th>\n",
       "      <td>21724850</td>\n",
       "    </tr>\n",
       "    <tr>\n",
       "      <th>2021-06</th>\n",
       "      <td>27554100</td>\n",
       "    </tr>\n",
       "  </tbody>\n",
       "</table>\n",
       "<p>1666 rows × 1 columns</p>\n",
       "</div>"
      ],
      "text/plain": [
       "                      em_g\n",
       "emd_nm base_date          \n",
       "건입동    2018-01    45646550\n",
       "       2018-02    42953550\n",
       "       2018-03    46422450\n",
       "       2018-04    42438700\n",
       "       2018-05    44893300\n",
       "...                    ...\n",
       "효돈동    2021-02    26128400\n",
       "       2021-03    26845400\n",
       "       2021-04    25200200\n",
       "       2021-05    21724850\n",
       "       2021-06    27554100\n",
       "\n",
       "[1666 rows x 1 columns]"
      ]
     },
     "execution_count": 33,
     "metadata": {},
     "output_type": "execute_result"
    }
   ],
   "source": [
    "df_1=df_1.drop([\"city\", \"emd_cd\", \"em_area_cd\", \"em_cnt\",\"pay_amt\"], axis=1)\n",
    "df_1['base_date'] = df_1['base_date'].str[:-3]\n",
    "left_df=pd.DataFrame(df_1.groupby(['emd_nm', 'base_date'])['em_g'].sum())\n",
    "left_df"
   ]
  },
  {
   "cell_type": "code",
   "execution_count": 34,
   "metadata": {
    "ExecuteTime": {
     "end_time": "2021-09-15T00:40:00.656057Z",
     "start_time": "2021-09-15T00:40:00.598880Z"
    }
   },
   "outputs": [
    {
     "data": {
      "text/html": [
       "<div>\n",
       "<style scoped>\n",
       "    .dataframe tbody tr th:only-of-type {\n",
       "        vertical-align: middle;\n",
       "    }\n",
       "\n",
       "    .dataframe tbody tr th {\n",
       "        vertical-align: top;\n",
       "    }\n",
       "\n",
       "    .dataframe thead th {\n",
       "        text-align: right;\n",
       "    }\n",
       "</style>\n",
       "<table border=\"1\" class=\"dataframe\">\n",
       "  <thead>\n",
       "    <tr style=\"text-align: right;\">\n",
       "      <th></th>\n",
       "      <th>emd_nm</th>\n",
       "      <th>base_date</th>\n",
       "      <th>em_g</th>\n",
       "      <th>내국인R</th>\n",
       "      <th>내국인W</th>\n",
       "      <th>내국인V</th>\n",
       "      <th>내국인관광W</th>\n",
       "      <th>내국인관광V</th>\n",
       "      <th>장기외국인R</th>\n",
       "      <th>장기외국인W</th>\n",
       "      <th>장기외국인V</th>\n",
       "      <th>단기외국인V</th>\n",
       "    </tr>\n",
       "  </thead>\n",
       "  <tbody>\n",
       "    <tr>\n",
       "      <th>0</th>\n",
       "      <td>건입동</td>\n",
       "      <td>2018-01</td>\n",
       "      <td>45646550</td>\n",
       "      <td>6634.385743</td>\n",
       "      <td>853.143169</td>\n",
       "      <td>4394.226701</td>\n",
       "      <td>93.411009</td>\n",
       "      <td>2253.836991</td>\n",
       "      <td>163.093121</td>\n",
       "      <td>27.144504</td>\n",
       "      <td>184.660254</td>\n",
       "      <td>342.767185</td>\n",
       "    </tr>\n",
       "    <tr>\n",
       "      <th>1</th>\n",
       "      <td>건입동</td>\n",
       "      <td>2018-02</td>\n",
       "      <td>42953550</td>\n",
       "      <td>6792.429996</td>\n",
       "      <td>792.931207</td>\n",
       "      <td>4527.444740</td>\n",
       "      <td>72.605952</td>\n",
       "      <td>2086.436947</td>\n",
       "      <td>157.634191</td>\n",
       "      <td>25.059835</td>\n",
       "      <td>183.592907</td>\n",
       "      <td>407.349539</td>\n",
       "    </tr>\n",
       "    <tr>\n",
       "      <th>2</th>\n",
       "      <td>건입동</td>\n",
       "      <td>2018-03</td>\n",
       "      <td>46422450</td>\n",
       "      <td>6255.543504</td>\n",
       "      <td>844.365122</td>\n",
       "      <td>4492.754083</td>\n",
       "      <td>106.277464</td>\n",
       "      <td>1956.448967</td>\n",
       "      <td>157.744661</td>\n",
       "      <td>29.840575</td>\n",
       "      <td>179.973544</td>\n",
       "      <td>414.803235</td>\n",
       "    </tr>\n",
       "    <tr>\n",
       "      <th>3</th>\n",
       "      <td>건입동</td>\n",
       "      <td>2018-04</td>\n",
       "      <td>42438700</td>\n",
       "      <td>6147.776649</td>\n",
       "      <td>939.940213</td>\n",
       "      <td>4525.147147</td>\n",
       "      <td>90.625671</td>\n",
       "      <td>2200.409723</td>\n",
       "      <td>133.786537</td>\n",
       "      <td>23.023440</td>\n",
       "      <td>227.216227</td>\n",
       "      <td>492.573132</td>\n",
       "    </tr>\n",
       "    <tr>\n",
       "      <th>4</th>\n",
       "      <td>건입동</td>\n",
       "      <td>2018-05</td>\n",
       "      <td>44893300</td>\n",
       "      <td>6110.920450</td>\n",
       "      <td>911.932184</td>\n",
       "      <td>4673.567634</td>\n",
       "      <td>108.137345</td>\n",
       "      <td>2097.448691</td>\n",
       "      <td>158.017456</td>\n",
       "      <td>24.926140</td>\n",
       "      <td>184.512309</td>\n",
       "      <td>503.145429</td>\n",
       "    </tr>\n",
       "    <tr>\n",
       "      <th>...</th>\n",
       "      <td>...</td>\n",
       "      <td>...</td>\n",
       "      <td>...</td>\n",
       "      <td>...</td>\n",
       "      <td>...</td>\n",
       "      <td>...</td>\n",
       "      <td>...</td>\n",
       "      <td>...</td>\n",
       "      <td>...</td>\n",
       "      <td>...</td>\n",
       "      <td>...</td>\n",
       "      <td>...</td>\n",
       "    </tr>\n",
       "    <tr>\n",
       "      <th>1661</th>\n",
       "      <td>효돈동</td>\n",
       "      <td>2021-02</td>\n",
       "      <td>26128400</td>\n",
       "      <td>4067.873085</td>\n",
       "      <td>232.546457</td>\n",
       "      <td>1159.486708</td>\n",
       "      <td>25.547514</td>\n",
       "      <td>651.440943</td>\n",
       "      <td>107.642637</td>\n",
       "      <td>4.878595</td>\n",
       "      <td>55.161607</td>\n",
       "      <td>7.359677</td>\n",
       "    </tr>\n",
       "    <tr>\n",
       "      <th>1662</th>\n",
       "      <td>효돈동</td>\n",
       "      <td>2021-03</td>\n",
       "      <td>26845400</td>\n",
       "      <td>3820.298081</td>\n",
       "      <td>177.335442</td>\n",
       "      <td>1031.145764</td>\n",
       "      <td>27.071834</td>\n",
       "      <td>556.202510</td>\n",
       "      <td>95.738687</td>\n",
       "      <td>7.235740</td>\n",
       "      <td>59.334480</td>\n",
       "      <td>17.995356</td>\n",
       "    </tr>\n",
       "    <tr>\n",
       "      <th>1663</th>\n",
       "      <td>효돈동</td>\n",
       "      <td>2021-04</td>\n",
       "      <td>25200200</td>\n",
       "      <td>3798.216557</td>\n",
       "      <td>204.331082</td>\n",
       "      <td>986.355817</td>\n",
       "      <td>34.296987</td>\n",
       "      <td>669.338692</td>\n",
       "      <td>98.359823</td>\n",
       "      <td>6.412340</td>\n",
       "      <td>60.850661</td>\n",
       "      <td>16.514391</td>\n",
       "    </tr>\n",
       "    <tr>\n",
       "      <th>1664</th>\n",
       "      <td>효돈동</td>\n",
       "      <td>2021-05</td>\n",
       "      <td>21724850</td>\n",
       "      <td>3913.006223</td>\n",
       "      <td>177.050383</td>\n",
       "      <td>1005.330990</td>\n",
       "      <td>29.105367</td>\n",
       "      <td>685.551231</td>\n",
       "      <td>67.814038</td>\n",
       "      <td>3.943131</td>\n",
       "      <td>73.774356</td>\n",
       "      <td>14.754432</td>\n",
       "    </tr>\n",
       "    <tr>\n",
       "      <th>1665</th>\n",
       "      <td>효돈동</td>\n",
       "      <td>2021-06</td>\n",
       "      <td>27554100</td>\n",
       "      <td>3880.141514</td>\n",
       "      <td>172.792983</td>\n",
       "      <td>1028.800535</td>\n",
       "      <td>30.645732</td>\n",
       "      <td>661.193506</td>\n",
       "      <td>89.266496</td>\n",
       "      <td>5.234106</td>\n",
       "      <td>56.919068</td>\n",
       "      <td>6.959309</td>\n",
       "    </tr>\n",
       "  </tbody>\n",
       "</table>\n",
       "<p>1634 rows × 12 columns</p>\n",
       "</div>"
      ],
      "text/plain": [
       "     emd_nm base_date      em_g         내국인R        내국인W         내국인V  \\\n",
       "0       건입동   2018-01  45646550  6634.385743  853.143169  4394.226701   \n",
       "1       건입동   2018-02  42953550  6792.429996  792.931207  4527.444740   \n",
       "2       건입동   2018-03  46422450  6255.543504  844.365122  4492.754083   \n",
       "3       건입동   2018-04  42438700  6147.776649  939.940213  4525.147147   \n",
       "4       건입동   2018-05  44893300  6110.920450  911.932184  4673.567634   \n",
       "...     ...       ...       ...          ...         ...          ...   \n",
       "1661    효돈동   2021-02  26128400  4067.873085  232.546457  1159.486708   \n",
       "1662    효돈동   2021-03  26845400  3820.298081  177.335442  1031.145764   \n",
       "1663    효돈동   2021-04  25200200  3798.216557  204.331082   986.355817   \n",
       "1664    효돈동   2021-05  21724850  3913.006223  177.050383  1005.330990   \n",
       "1665    효돈동   2021-06  27554100  3880.141514  172.792983  1028.800535   \n",
       "\n",
       "          내국인관광W       내국인관광V      장기외국인R     장기외국인W      장기외국인V      단기외국인V  \n",
       "0      93.411009  2253.836991  163.093121  27.144504  184.660254  342.767185  \n",
       "1      72.605952  2086.436947  157.634191  25.059835  183.592907  407.349539  \n",
       "2     106.277464  1956.448967  157.744661  29.840575  179.973544  414.803235  \n",
       "3      90.625671  2200.409723  133.786537  23.023440  227.216227  492.573132  \n",
       "4     108.137345  2097.448691  158.017456  24.926140  184.512309  503.145429  \n",
       "...          ...          ...         ...        ...         ...         ...  \n",
       "1661   25.547514   651.440943  107.642637   4.878595   55.161607    7.359677  \n",
       "1662   27.071834   556.202510   95.738687   7.235740   59.334480   17.995356  \n",
       "1663   34.296987   669.338692   98.359823   6.412340   60.850661   16.514391  \n",
       "1664   29.105367   685.551231   67.814038   3.943131   73.774356   14.754432  \n",
       "1665   30.645732   661.193506   89.266496   5.234106   56.919068    6.959309  \n",
       "\n",
       "[1634 rows x 12 columns]"
      ]
     },
     "execution_count": 34,
     "metadata": {},
     "output_type": "execute_result"
    }
   ],
   "source": [
    "df = pd.merge(left=left_df, right= 유동인구_df, how=\"left\", on=[\"emd_nm\",\"base_date\"])\n",
    "df=df.drop(df[df['emd_nm']=='알수없음'].index)\n",
    "df"
   ]
  },
  {
   "cell_type": "markdown",
   "metadata": {},
   "source": [
    "# 모델로 학습"
   ]
  },
  {
   "cell_type": "markdown",
   "metadata": {},
   "source": [
    "## 데이터 준비"
   ]
  },
  {
   "cell_type": "code",
   "execution_count": 35,
   "metadata": {
    "ExecuteTime": {
     "end_time": "2021-09-15T00:44:44.526030Z",
     "start_time": "2021-09-15T00:44:42.472271Z"
    }
   },
   "outputs": [],
   "source": [
    "from sklearn.model_selection import train_test_split\n",
    "from sklearn.metrics import mean_squared_error\n",
    "\n",
    "from sklearn.linear_model import Ridge\n",
    "from sklearn.linear_model import Lasso\n",
    "\n",
    "from sklearn.preprocessing import PolynomialFeatures\n",
    "from sklearn.linear_model import LinearRegression\n",
    "from sklearn.ensemble import RandomForestRegressor"
   ]
  },
  {
   "cell_type": "code",
   "execution_count": 36,
   "metadata": {
    "ExecuteTime": {
     "end_time": "2021-09-15T00:44:44.542755Z",
     "start_time": "2021-09-15T00:44:44.527732Z"
    }
   },
   "outputs": [
    {
     "data": {
      "text/plain": [
       "((1634, 9), (1634,))"
      ]
     },
     "execution_count": 36,
     "metadata": {},
     "output_type": "execute_result"
    }
   ],
   "source": [
    "target = df['em_g']\n",
    "data = df[df.drop(['em_g','emd_nm','base_date'],axis=1).columns]\n",
    "data.shape, target.shape"
   ]
  },
  {
   "cell_type": "code",
   "execution_count": 37,
   "metadata": {
    "ExecuteTime": {
     "end_time": "2021-09-15T00:44:44.564764Z",
     "start_time": "2021-09-15T00:44:44.546738Z"
    }
   },
   "outputs": [
    {
     "data": {
      "text/plain": [
       "((1307, 9), (327, 9), (1307,), (327,))"
      ]
     },
     "execution_count": 37,
     "metadata": {},
     "output_type": "execute_result"
    }
   ],
   "source": [
    "x_train, x_test, y_train, y_test = train_test_split(data, target, test_size=0.2, random_state=34)\n",
    "x_train.shape,x_test.shape,y_train.shape,y_test.shape"
   ]
  },
  {
   "cell_type": "code",
   "execution_count": 38,
   "metadata": {
    "ExecuteTime": {
     "end_time": "2021-09-15T00:44:44.954749Z",
     "start_time": "2021-09-15T00:44:44.568738Z"
    }
   },
   "outputs": [
    {
     "name": "stdout",
     "output_type": "stream",
     "text": [
      "(1307, 55) (327, 55) (1307,) (327,)\n",
      "(1307, 220) (327, 220) (1307,) (327,)\n",
      "(1307, 715) (327, 715) (1307,) (327,)\n",
      "(1307, 2002) (327, 2002) (1307,) (327,)\n",
      "(1307, 5005) (327, 5005) (1307,) (327,)\n"
     ]
    }
   ],
   "source": [
    "poly = PolynomialFeatures(2) # 2~6차\n",
    "poly_x = pd.DataFrame(poly.fit_transform(data.values), columns=poly.get_feature_names(data.columns))\n",
    "x2_train, x2_test, y2_train, y2_test = train_test_split(poly_x, target, test_size=0.2, random_state=34)\n",
    "print(x2_train.shape,x2_test.shape,y2_train.shape,y2_test.shape)\n",
    "\n",
    "poly = PolynomialFeatures(3) # 2~6차\n",
    "poly_x = pd.DataFrame(poly.fit_transform(data.values), columns=poly.get_feature_names(data.columns))\n",
    "x3_train, x3_test, y3_train, y3_test = train_test_split(poly_x, target, test_size=0.2, random_state=34)\n",
    "print(x3_train.shape,x3_test.shape,y3_train.shape,y3_test.shape)\n",
    "\n",
    "poly = PolynomialFeatures(4) # 2~6차\n",
    "poly_x = pd.DataFrame(poly.fit_transform(data.values), columns=poly.get_feature_names(data.columns))\n",
    "x4_train, x4_test, y4_train, y4_test = train_test_split(poly_x, target, test_size=0.2, random_state=34)\n",
    "print(x4_train.shape,x4_test.shape,y4_train.shape,y4_test.shape)\n",
    "\n",
    "poly = PolynomialFeatures(5) # 2~6차\n",
    "poly_x = pd.DataFrame(poly.fit_transform(data.values), columns=poly.get_feature_names(data.columns))\n",
    "x5_train, x5_test, y5_train, y5_test = train_test_split(poly_x, target, test_size=0.2, random_state=34)\n",
    "print(x5_train.shape,x5_test.shape,y5_train.shape,y5_test.shape)\n",
    "\n",
    "poly = PolynomialFeatures(6) # 2~6차\n",
    "poly_x = pd.DataFrame(poly.fit_transform(data.values), columns=poly.get_feature_names(data.columns))\n",
    "x6_train, x6_test, y6_train, y6_test = train_test_split(poly_x, target, test_size=0.2, random_state=34)\n",
    "print(x6_train.shape,x6_test.shape,y6_train.shape,y6_test.shape)"
   ]
  },
  {
   "cell_type": "markdown",
   "metadata": {},
   "source": [
    "## LR L1"
   ]
  },
  {
   "cell_type": "code",
   "execution_count": 39,
   "metadata": {
    "ExecuteTime": {
     "end_time": "2021-09-15T00:44:55.844808Z",
     "start_time": "2021-09-15T00:44:44.956747Z"
    }
   },
   "outputs": [
    {
     "name": "stderr",
     "output_type": "stream",
     "text": [
      "C:\\Users\\HojunLee\\anaconda3\\lib\\site-packages\\sklearn\\linear_model\\_coordinate_descent.py:529: ConvergenceWarning: Objective did not converge. You might want to increase the number of iterations. Duality gap: 2.203040544782063e+17, tolerance: 455988236796947.4\n",
      "  model = cd_fast.enet_coordinate_descent(\n",
      "C:\\Users\\HojunLee\\anaconda3\\lib\\site-packages\\sklearn\\linear_model\\_coordinate_descent.py:529: ConvergenceWarning: Objective did not converge. You might want to increase the number of iterations. Duality gap: 1.4379145767846218e+17, tolerance: 455988236796947.4\n",
      "  model = cd_fast.enet_coordinate_descent(\n",
      "C:\\Users\\HojunLee\\anaconda3\\lib\\site-packages\\sklearn\\linear_model\\_coordinate_descent.py:529: ConvergenceWarning: Objective did not converge. You might want to increase the number of iterations. Duality gap: 1.3034655404670349e+17, tolerance: 455988236796947.4\n",
      "  model = cd_fast.enet_coordinate_descent(\n",
      "C:\\Users\\HojunLee\\anaconda3\\lib\\site-packages\\sklearn\\linear_model\\_coordinate_descent.py:529: ConvergenceWarning: Objective did not converge. You might want to increase the number of iterations. Duality gap: 1.1914864375535658e+17, tolerance: 455988236796947.4\n",
      "  model = cd_fast.enet_coordinate_descent(\n",
      "C:\\Users\\HojunLee\\anaconda3\\lib\\site-packages\\sklearn\\linear_model\\_coordinate_descent.py:529: ConvergenceWarning: Objective did not converge. You might want to increase the number of iterations. Duality gap: 1.1052073062515309e+17, tolerance: 455988236796947.4\n",
      "  model = cd_fast.enet_coordinate_descent(\n"
     ]
    },
    {
     "data": {
      "text/plain": [
       "Lasso(alpha=0.001, normalize=True)"
      ]
     },
     "execution_count": 39,
     "metadata": {},
     "output_type": "execute_result"
    }
   ],
   "source": [
    "model_L1 = Lasso(alpha=0.001, max_iter=1000, normalize=True)\n",
    "model_L1.fit(x_train, y_train)\n",
    "model_L2 = Lasso(alpha=0.001, max_iter=1000, normalize=True)\n",
    "model_L2.fit(x2_train, y2_train)\n",
    "model_L3 = Lasso(alpha=0.001, max_iter=1000, normalize=True)\n",
    "model_L3.fit(x3_train, y3_train)\n",
    "model_L4 = Lasso(alpha=0.001, max_iter=1000, normalize=True)\n",
    "model_L4.fit(x4_train, y4_train)\n",
    "model_L5 = Lasso(alpha=0.001, max_iter=1000, normalize=True)\n",
    "model_L5.fit(x5_train, y5_train)\n",
    "model_L6 = Lasso(alpha=0.001, max_iter=1000, normalize=True)\n",
    "model_L6.fit(x6_train, y6_train)"
   ]
  },
  {
   "cell_type": "code",
   "execution_count": 40,
   "metadata": {
    "ExecuteTime": {
     "end_time": "2021-09-15T00:44:55.968842Z",
     "start_time": "2021-09-15T00:44:55.848807Z"
    }
   },
   "outputs": [
    {
     "name": "stdout",
     "output_type": "stream",
     "text": [
      "0.81508832830993\n",
      "0.898075140694954\n",
      "0.9301459942442997\n",
      "0.9151984050290067\n",
      "0.9009583366811529\n",
      "0.839708821502132\n"
     ]
    }
   ],
   "source": [
    "print(\n",
    "model_L1.score(x_test,y_test),\n",
    "model_L2.score(x2_test,y2_test),\n",
    "model_L3.score(x3_test,y3_test),\n",
    "model_L4.score(x4_test,y4_test),\n",
    "model_L5.score(x5_test,y5_test),\n",
    "model_L6.score(x6_test,y6_test),\n",
    "sep=\"\\n\"\n",
    ")"
   ]
  },
  {
   "cell_type": "markdown",
   "metadata": {},
   "source": [
    "## LR L2"
   ]
  },
  {
   "cell_type": "code",
   "execution_count": 41,
   "metadata": {
    "ExecuteTime": {
     "end_time": "2021-09-15T00:44:56.635124Z",
     "start_time": "2021-09-15T00:44:55.972844Z"
    }
   },
   "outputs": [
    {
     "data": {
      "text/plain": [
       "Ridge(alpha=0.001, max_iter=1000, normalize=True)"
      ]
     },
     "execution_count": 41,
     "metadata": {},
     "output_type": "execute_result"
    }
   ],
   "source": [
    "model_R1 = Ridge(alpha=0.001, max_iter=1000, normalize=True)\n",
    "model_R1.fit(x_train, y_train)\n",
    "model_R2 = Ridge(alpha=0.001, max_iter=1000, normalize=True)\n",
    "model_R2.fit(x2_train, y2_train)\n",
    "model_R3 = Ridge(alpha=0.001, max_iter=1000, normalize=True)\n",
    "model_R3.fit(x3_train, y3_train)\n",
    "model_R4 = Ridge(alpha=0.001, max_iter=1000, normalize=True)\n",
    "model_R4.fit(x4_train, y4_train)\n",
    "model_R5 = Ridge(alpha=0.001, max_iter=1000, normalize=True)\n",
    "model_R5.fit(x5_train, y5_train)\n",
    "model_R6 = Ridge(alpha=0.001, max_iter=1000, normalize=True)\n",
    "model_R6.fit(x6_train, y6_train)"
   ]
  },
  {
   "cell_type": "code",
   "execution_count": 42,
   "metadata": {
    "ExecuteTime": {
     "end_time": "2021-09-15T00:44:56.769124Z",
     "start_time": "2021-09-15T00:44:56.638121Z"
    }
   },
   "outputs": [
    {
     "name": "stdout",
     "output_type": "stream",
     "text": [
      "0.8151312501840494\n",
      "0.9001110002612236\n",
      "0.9310939723686896\n",
      "0.9213767152305414\n",
      "0.9121014448669119\n",
      "0.8954375591106718\n"
     ]
    }
   ],
   "source": [
    "print(\n",
    "model_R1.score(x_test,y_test),\n",
    "model_R2.score(x2_test,y2_test),\n",
    "model_R3.score(x3_test,y3_test),\n",
    "model_R4.score(x4_test,y4_test),\n",
    "model_R5.score(x5_test,y5_test),\n",
    "model_R6.score(x6_test,y6_test),\n",
    "sep=\"\\n\"\n",
    ")"
   ]
  },
  {
   "cell_type": "markdown",
   "metadata": {},
   "source": [
    "## Random Forest"
   ]
  },
  {
   "cell_type": "code",
   "execution_count": 43,
   "metadata": {
    "ExecuteTime": {
     "end_time": "2021-09-15T00:44:57.845234Z",
     "start_time": "2021-09-15T00:44:56.772122Z"
    },
    "scrolled": true
   },
   "outputs": [
    {
     "data": {
      "text/plain": [
       "0.9656692531227591"
      ]
     },
     "execution_count": 43,
     "metadata": {},
     "output_type": "execute_result"
    }
   ],
   "source": [
    "model_randomForest = RandomForestRegressor() # 생성할 트리 개수가 얼만큼이 좋은지 모르겠음\n",
    "model_randomForest.fit(x_train, y_train)\n",
    "model_randomForest.score(x_test,y_test)"
   ]
  },
  {
   "cell_type": "code",
   "execution_count": 44,
   "metadata": {
    "ExecuteTime": {
     "end_time": "2021-09-15T00:44:57.982291Z",
     "start_time": "2021-09-15T00:44:57.847229Z"
    }
   },
   "outputs": [
    {
     "name": "stdout",
     "output_type": "stream",
     "text": [
      "내국인V 0.42045192789581937\n",
      "내국인R 0.33345229021403977\n",
      "내국인W 0.13455557560139458\n",
      "내국인관광V 0.052534093439814036\n",
      "단기외국인V 0.018621352729870543\n",
      "장기외국인W 0.014542498962570935\n",
      "장기외국인V 0.010709902588044426\n",
      "장기외국인R 0.007691399257456379\n",
      "내국인관광W 0.007440959310989995\n"
     ]
    }
   ],
   "source": [
    "for i in sorted([(model_randomForest.feature_importances_[i], data.columns[i]) for i, v in enumerate(data.columns)], reverse=True):\n",
    "    print(i[1], i[0])"
   ]
  },
  {
   "cell_type": "markdown",
   "metadata": {},
   "source": [
    "# 저장"
   ]
  },
  {
   "cell_type": "code",
   "execution_count": 45,
   "metadata": {
    "ExecuteTime": {
     "end_time": "2021-09-15T00:44:57.990289Z",
     "start_time": "2021-09-15T00:44:57.985291Z"
    }
   },
   "outputs": [],
   "source": [
    "import joblib"
   ]
  },
  {
   "cell_type": "code",
   "execution_count": 46,
   "metadata": {
    "ExecuteTime": {
     "end_time": "2021-09-15T00:44:58.073211Z",
     "start_time": "2021-09-15T00:44:57.993290Z"
    }
   },
   "outputs": [
    {
     "data": {
      "text/plain": [
       "['모델/유동인구 분석_RF.pkl']"
      ]
     },
     "execution_count": 46,
     "metadata": {},
     "output_type": "execute_result"
    }
   ],
   "source": [
    "joblib.dump(model_randomForest, '모델/유동인구 분석_RF.pkl')"
   ]
  },
  {
   "cell_type": "code",
   "execution_count": 47,
   "metadata": {
    "ExecuteTime": {
     "end_time": "2021-09-15T00:44:58.144401Z",
     "start_time": "2021-09-15T00:44:58.075848Z"
    }
   },
   "outputs": [],
   "source": [
    "df.to_csv(\"csv/유동인구 분석.csv\",  index=False)"
   ]
  }
 ],
 "metadata": {
  "kernelspec": {
   "display_name": "Python 3",
   "language": "python",
   "name": "python3"
  },
  "language_info": {
   "codemirror_mode": {
    "name": "ipython",
    "version": 3
   },
   "file_extension": ".py",
   "mimetype": "text/x-python",
   "name": "python",
   "nbconvert_exporter": "python",
   "pygments_lexer": "ipython3",
   "version": "3.8.3"
  },
  "toc": {
   "base_numbering": 1,
   "nav_menu": {},
   "number_sections": true,
   "sideBar": true,
   "skip_h1_title": false,
   "title_cell": "Table of Contents",
   "title_sidebar": "Contents",
   "toc_cell": false,
   "toc_position": {},
   "toc_section_display": true,
   "toc_window_display": false
  }
 },
 "nbformat": 4,
 "nbformat_minor": 4
}
