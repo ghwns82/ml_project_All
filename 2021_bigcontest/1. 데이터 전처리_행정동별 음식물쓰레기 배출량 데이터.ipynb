{
 "cells": [
  {
   "cell_type": "code",
   "execution_count": 1,
   "metadata": {
    "ExecuteTime": {
     "end_time": "2021-09-15T01:30:46.379900Z",
     "start_time": "2021-09-15T01:30:46.364899Z"
    }
   },
   "outputs": [
    {
     "data": {
      "text/plain": [
       "['데이터/01_제공데이터_update(210811)/01_음식물쓰레기_FOOD_WASTE_210811_update.CSV',\n",
       " '데이터/01_제공데이터_update(210811)/02-1_내국인유동인구_KOREAN.CSV',\n",
       " '데이터/01_제공데이터_update(210811)/02-2_장기체류 외국인 유동인구_LONG_TERM_FRGN.CSV',\n",
       " '데이터/01_제공데이터_update(210811)/02-3_단기체류 외국인 유동인구_SHORT_TERM_FRGN.CSV',\n",
       " '데이터/01_제공데이터_update(210811)/03_거주인구_RESIDENT_POP.CSV',\n",
       " '데이터/01_제공데이터_update(210811)/04_음식관련 카드소비_CARD_SPENDING.CSV']"
      ]
     },
     "execution_count": 1,
     "metadata": {},
     "output_type": "execute_result"
    }
   ],
   "source": [
    "import os\n",
    "\n",
    "my_path=\"데이터/01_제공데이터_update(210811)\"\n",
    "my_paths = [ my_path + \"/\"+i for i in os.listdir(my_path)]\n",
    "my_paths"
   ]
  },
  {
   "cell_type": "code",
   "execution_count": 2,
   "metadata": {
    "ExecuteTime": {
     "end_time": "2021-09-15T01:30:53.321287Z",
     "start_time": "2021-09-15T01:30:52.627286Z"
    }
   },
   "outputs": [],
   "source": [
    "import pandas as pd\n",
    "import numpy as np"
   ]
  },
  {
   "cell_type": "code",
   "execution_count": 20,
   "metadata": {
    "ExecuteTime": {
     "end_time": "2021-09-15T01:36:20.867341Z",
     "start_time": "2021-09-15T01:36:17.665432Z"
    }
   },
   "outputs": [
    {
     "name": "stderr",
     "output_type": "stream",
     "text": [
      "C:\\Users\\HojunLee\\anaconda3\\lib\\site-packages\\IPython\\core\\interactiveshell.py:3071: DtypeWarning: Columns (2) have mixed types.Specify dtype option on import or set low_memory=False.\n",
      "  has_raised = await self.run_ast_nodes(code_ast.body, cell_name,\n"
     ]
    }
   ],
   "source": [
    "df_1=pd.read_csv(my_paths[0], encoding='euc-kr')"
   ]
  },
  {
   "cell_type": "code",
   "execution_count": 21,
   "metadata": {
    "ExecuteTime": {
     "end_time": "2021-09-15T01:36:21.683312Z",
     "start_time": "2021-09-15T01:36:20.869310Z"
    }
   },
   "outputs": [],
   "source": [
    "df_1[\"base_date\"]=pd.to_datetime(df_1['base_date'])\n",
    "df_1['Year']=df_1['base_date'].dt.year\n",
    "df_1['Month']=df_1['base_date'].dt.month"
   ]
  },
  {
   "cell_type": "code",
   "execution_count": 23,
   "metadata": {
    "ExecuteTime": {
     "end_time": "2021-09-15T01:36:43.590094Z",
     "start_time": "2021-09-15T01:36:43.550129Z"
    }
   },
   "outputs": [
    {
     "data": {
      "text/html": [
       "<div>\n",
       "<style scoped>\n",
       "    .dataframe tbody tr th:only-of-type {\n",
       "        vertical-align: middle;\n",
       "    }\n",
       "\n",
       "    .dataframe tbody tr th {\n",
       "        vertical-align: top;\n",
       "    }\n",
       "\n",
       "    .dataframe thead th {\n",
       "        text-align: right;\n",
       "    }\n",
       "</style>\n",
       "<table border=\"1\" class=\"dataframe\">\n",
       "  <thead>\n",
       "    <tr style=\"text-align: right;\">\n",
       "      <th></th>\n",
       "      <th>Year</th>\n",
       "      <th>Month</th>\n",
       "      <th>emd_nm</th>\n",
       "      <th>em_g</th>\n",
       "    </tr>\n",
       "  </thead>\n",
       "  <tbody>\n",
       "    <tr>\n",
       "      <th>0</th>\n",
       "      <td>2018</td>\n",
       "      <td>1</td>\n",
       "      <td>건입동</td>\n",
       "      <td>45646550</td>\n",
       "    </tr>\n",
       "    <tr>\n",
       "      <th>1</th>\n",
       "      <td>2018</td>\n",
       "      <td>1</td>\n",
       "      <td>남원읍</td>\n",
       "      <td>42437700</td>\n",
       "    </tr>\n",
       "    <tr>\n",
       "      <th>2</th>\n",
       "      <td>2018</td>\n",
       "      <td>1</td>\n",
       "      <td>노형동</td>\n",
       "      <td>265018400</td>\n",
       "    </tr>\n",
       "    <tr>\n",
       "      <th>3</th>\n",
       "      <td>2018</td>\n",
       "      <td>1</td>\n",
       "      <td>대륜동</td>\n",
       "      <td>57612600</td>\n",
       "    </tr>\n",
       "    <tr>\n",
       "      <th>4</th>\n",
       "      <td>2018</td>\n",
       "      <td>1</td>\n",
       "      <td>대정읍</td>\n",
       "      <td>38885550</td>\n",
       "    </tr>\n",
       "    <tr>\n",
       "      <th>...</th>\n",
       "      <td>...</td>\n",
       "      <td>...</td>\n",
       "      <td>...</td>\n",
       "      <td>...</td>\n",
       "    </tr>\n",
       "    <tr>\n",
       "      <th>1661</th>\n",
       "      <td>2021</td>\n",
       "      <td>6</td>\n",
       "      <td>표선면</td>\n",
       "      <td>42453750</td>\n",
       "    </tr>\n",
       "    <tr>\n",
       "      <th>1662</th>\n",
       "      <td>2021</td>\n",
       "      <td>6</td>\n",
       "      <td>한경면</td>\n",
       "      <td>27060150</td>\n",
       "    </tr>\n",
       "    <tr>\n",
       "      <th>1663</th>\n",
       "      <td>2021</td>\n",
       "      <td>6</td>\n",
       "      <td>한림읍</td>\n",
       "      <td>82746990</td>\n",
       "    </tr>\n",
       "    <tr>\n",
       "      <th>1664</th>\n",
       "      <td>2021</td>\n",
       "      <td>6</td>\n",
       "      <td>화북동</td>\n",
       "      <td>110750050</td>\n",
       "    </tr>\n",
       "    <tr>\n",
       "      <th>1665</th>\n",
       "      <td>2021</td>\n",
       "      <td>6</td>\n",
       "      <td>효돈동</td>\n",
       "      <td>27554100</td>\n",
       "    </tr>\n",
       "  </tbody>\n",
       "</table>\n",
       "<p>1666 rows × 4 columns</p>\n",
       "</div>"
      ],
      "text/plain": [
       "      Year  Month emd_nm       em_g\n",
       "0     2018      1    건입동   45646550\n",
       "1     2018      1    남원읍   42437700\n",
       "2     2018      1    노형동  265018400\n",
       "3     2018      1    대륜동   57612600\n",
       "4     2018      1    대정읍   38885550\n",
       "...    ...    ...    ...        ...\n",
       "1661  2021      6    표선면   42453750\n",
       "1662  2021      6    한경면   27060150\n",
       "1663  2021      6    한림읍   82746990\n",
       "1664  2021      6    화북동  110750050\n",
       "1665  2021      6    효돈동   27554100\n",
       "\n",
       "[1666 rows x 4 columns]"
      ]
     },
     "execution_count": 23,
     "metadata": {},
     "output_type": "execute_result"
    }
   ],
   "source": [
    "df_1 = pd.DataFrame(df_1.groupby(['Year','Month','emd_nm'])[\"em_g\"].sum())\n",
    "df_1 = df_1.reset_index()\n",
    "df_1"
   ]
  }
 ],
 "metadata": {
  "kernelspec": {
   "display_name": "Python 3",
   "language": "python",
   "name": "python3"
  },
  "language_info": {
   "codemirror_mode": {
    "name": "ipython",
    "version": 3
   },
   "file_extension": ".py",
   "mimetype": "text/x-python",
   "name": "python",
   "nbconvert_exporter": "python",
   "pygments_lexer": "ipython3",
   "version": "3.8.3"
  },
  "toc": {
   "base_numbering": 1,
   "nav_menu": {},
   "number_sections": true,
   "sideBar": true,
   "skip_h1_title": false,
   "title_cell": "Table of Contents",
   "title_sidebar": "Contents",
   "toc_cell": false,
   "toc_position": {},
   "toc_section_display": true,
   "toc_window_display": false
  }
 },
 "nbformat": 4,
 "nbformat_minor": 4
}
