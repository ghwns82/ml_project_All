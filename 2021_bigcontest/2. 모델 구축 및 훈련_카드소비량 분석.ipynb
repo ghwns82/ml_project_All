{
 "cells": [
  {
   "cell_type": "markdown",
   "metadata": {},
   "source": [
    "# 필요한 데이터 추출"
   ]
  },
  {
   "cell_type": "code",
   "execution_count": 1,
   "metadata": {
    "ExecuteTime": {
     "end_time": "2021-09-15T00:23:40.155489Z",
     "start_time": "2021-09-15T00:23:40.138487Z"
    }
   },
   "outputs": [
    {
     "data": {
      "text/plain": [
       "['데이터/01_제공데이터_update(210811)/01_음식물쓰레기_FOOD_WASTE_210811_update.CSV',\n",
       " '데이터/01_제공데이터_update(210811)/02-1_내국인유동인구_KOREAN.CSV',\n",
       " '데이터/01_제공데이터_update(210811)/02-2_장기체류 외국인 유동인구_LONG_TERM_FRGN.CSV',\n",
       " '데이터/01_제공데이터_update(210811)/02-3_단기체류 외국인 유동인구_SHORT_TERM_FRGN.CSV',\n",
       " '데이터/01_제공데이터_update(210811)/03_거주인구_RESIDENT_POP.CSV',\n",
       " '데이터/01_제공데이터_update(210811)/04_음식관련 카드소비_CARD_SPENDING.CSV']"
      ]
     },
     "execution_count": 1,
     "metadata": {},
     "output_type": "execute_result"
    }
   ],
   "source": [
    "import os\n",
    "\n",
    "my_path=\"데이터/01_제공데이터_update(210811)\"\n",
    "my_paths = [ my_path + \"/\"+i for i in os.listdir(my_path)]\n",
    "my_paths"
   ]
  },
  {
   "cell_type": "code",
   "execution_count": 2,
   "metadata": {
    "ExecuteTime": {
     "end_time": "2021-09-15T00:23:41.088518Z",
     "start_time": "2021-09-15T00:23:40.158495Z"
    }
   },
   "outputs": [],
   "source": [
    "import pandas as pd\n",
    "import numpy as np"
   ]
  },
  {
   "cell_type": "code",
   "execution_count": 3,
   "metadata": {
    "ExecuteTime": {
     "end_time": "2021-09-15T00:23:46.538525Z",
     "start_time": "2021-09-15T00:23:41.090519Z"
    },
    "scrolled": true
   },
   "outputs": [
    {
     "name": "stderr",
     "output_type": "stream",
     "text": [
      "C:\\Users\\HojunLee\\anaconda3\\lib\\site-packages\\IPython\\core\\interactiveshell.py:3071: DtypeWarning: Columns (2) have mixed types.Specify dtype option on import or set low_memory=False.\n",
      "  has_raised = await self.run_ast_nodes(code_ast.body, cell_name,\n"
     ]
    }
   ],
   "source": [
    "df_1=pd.read_csv(my_paths[0], encoding='euc-kr')\n",
    "df_4=pd.read_csv(my_paths[5], encoding='euc-kr')"
   ]
  },
  {
   "cell_type": "code",
   "execution_count": 4,
   "metadata": {
    "ExecuteTime": {
     "end_time": "2021-09-15T00:23:46.572496Z",
     "start_time": "2021-09-15T00:23:46.541494Z"
    }
   },
   "outputs": [
    {
     "data": {
      "text/html": [
       "<div>\n",
       "<style scoped>\n",
       "    .dataframe tbody tr th:only-of-type {\n",
       "        vertical-align: middle;\n",
       "    }\n",
       "\n",
       "    .dataframe tbody tr th {\n",
       "        vertical-align: top;\n",
       "    }\n",
       "\n",
       "    .dataframe thead th {\n",
       "        text-align: right;\n",
       "    }\n",
       "</style>\n",
       "<table border=\"1\" class=\"dataframe\">\n",
       "  <thead>\n",
       "    <tr style=\"text-align: right;\">\n",
       "      <th></th>\n",
       "      <th>base_date</th>\n",
       "      <th>city</th>\n",
       "      <th>emd_cd</th>\n",
       "      <th>emd_nm</th>\n",
       "      <th>em_area_cd</th>\n",
       "      <th>em_cnt</th>\n",
       "      <th>em_g</th>\n",
       "      <th>pay_amt</th>\n",
       "    </tr>\n",
       "  </thead>\n",
       "  <tbody>\n",
       "    <tr>\n",
       "      <th>0</th>\n",
       "      <td>2018-01-01</td>\n",
       "      <td>제주시</td>\n",
       "      <td>50110670</td>\n",
       "      <td>외도동</td>\n",
       "      <td>W6X062</td>\n",
       "      <td>2</td>\n",
       "      <td>15500</td>\n",
       "      <td>464</td>\n",
       "    </tr>\n",
       "    <tr>\n",
       "      <th>1</th>\n",
       "      <td>2018-01-01</td>\n",
       "      <td>제주시</td>\n",
       "      <td>50110630</td>\n",
       "      <td>아라동</td>\n",
       "      <td>W6XA97</td>\n",
       "      <td>25</td>\n",
       "      <td>59800</td>\n",
       "      <td>1787</td>\n",
       "    </tr>\n",
       "    <tr>\n",
       "      <th>2</th>\n",
       "      <td>2018-01-01</td>\n",
       "      <td>제주시</td>\n",
       "      <td>50110630</td>\n",
       "      <td>아라동</td>\n",
       "      <td>W6XA96</td>\n",
       "      <td>8</td>\n",
       "      <td>25350</td>\n",
       "      <td>758</td>\n",
       "    </tr>\n",
       "    <tr>\n",
       "      <th>3</th>\n",
       "      <td>2018-01-01</td>\n",
       "      <td>제주시</td>\n",
       "      <td>50110630</td>\n",
       "      <td>아라동</td>\n",
       "      <td>W6XA95</td>\n",
       "      <td>12</td>\n",
       "      <td>30000</td>\n",
       "      <td>898</td>\n",
       "    </tr>\n",
       "    <tr>\n",
       "      <th>4</th>\n",
       "      <td>2018-01-01</td>\n",
       "      <td>제주시</td>\n",
       "      <td>50110630</td>\n",
       "      <td>아라동</td>\n",
       "      <td>W6XA94</td>\n",
       "      <td>14</td>\n",
       "      <td>44050</td>\n",
       "      <td>1317</td>\n",
       "    </tr>\n",
       "    <tr>\n",
       "      <th>...</th>\n",
       "      <td>...</td>\n",
       "      <td>...</td>\n",
       "      <td>...</td>\n",
       "      <td>...</td>\n",
       "      <td>...</td>\n",
       "      <td>...</td>\n",
       "      <td>...</td>\n",
       "      <td>...</td>\n",
       "    </tr>\n",
       "    <tr>\n",
       "      <th>2211440</th>\n",
       "      <td>2021-06-30</td>\n",
       "      <td>제주시</td>\n",
       "      <td>50110250</td>\n",
       "      <td>한림읍</td>\n",
       "      <td>W6XEB4</td>\n",
       "      <td>12</td>\n",
       "      <td>58250</td>\n",
       "      <td>1743</td>\n",
       "    </tr>\n",
       "    <tr>\n",
       "      <th>2211441</th>\n",
       "      <td>2021-06-30</td>\n",
       "      <td>제주시</td>\n",
       "      <td>50110250</td>\n",
       "      <td>한림읍</td>\n",
       "      <td>W6XEB7</td>\n",
       "      <td>15</td>\n",
       "      <td>111000</td>\n",
       "      <td>3326</td>\n",
       "    </tr>\n",
       "    <tr>\n",
       "      <th>2211442</th>\n",
       "      <td>2021-06-30</td>\n",
       "      <td>제주시</td>\n",
       "      <td>50110250</td>\n",
       "      <td>한림읍</td>\n",
       "      <td>W6XEB8</td>\n",
       "      <td>21</td>\n",
       "      <td>48300</td>\n",
       "      <td>1444</td>\n",
       "    </tr>\n",
       "    <tr>\n",
       "      <th>2211443</th>\n",
       "      <td>2021-06-30</td>\n",
       "      <td>제주시</td>\n",
       "      <td>50110250</td>\n",
       "      <td>한림읍</td>\n",
       "      <td>W6XEA2</td>\n",
       "      <td>5</td>\n",
       "      <td>22050</td>\n",
       "      <td>661</td>\n",
       "    </tr>\n",
       "    <tr>\n",
       "      <th>2211444</th>\n",
       "      <td>2021-06-30</td>\n",
       "      <td>제주시</td>\n",
       "      <td>50110640</td>\n",
       "      <td>오라동</td>\n",
       "      <td>W6XAD5</td>\n",
       "      <td>2</td>\n",
       "      <td>2900</td>\n",
       "      <td>87</td>\n",
       "    </tr>\n",
       "  </tbody>\n",
       "</table>\n",
       "<p>2211445 rows × 8 columns</p>\n",
       "</div>"
      ],
      "text/plain": [
       "          base_date city    emd_cd emd_nm em_area_cd  em_cnt    em_g  pay_amt\n",
       "0        2018-01-01  제주시  50110670    외도동     W6X062       2   15500      464\n",
       "1        2018-01-01  제주시  50110630    아라동     W6XA97      25   59800     1787\n",
       "2        2018-01-01  제주시  50110630    아라동     W6XA96       8   25350      758\n",
       "3        2018-01-01  제주시  50110630    아라동     W6XA95      12   30000      898\n",
       "4        2018-01-01  제주시  50110630    아라동     W6XA94      14   44050     1317\n",
       "...             ...  ...       ...    ...        ...     ...     ...      ...\n",
       "2211440  2021-06-30  제주시  50110250    한림읍     W6XEB4      12   58250     1743\n",
       "2211441  2021-06-30  제주시  50110250    한림읍     W6XEB7      15  111000     3326\n",
       "2211442  2021-06-30  제주시  50110250    한림읍     W6XEB8      21   48300     1444\n",
       "2211443  2021-06-30  제주시  50110250    한림읍     W6XEA2       5   22050      661\n",
       "2211444  2021-06-30  제주시  50110640    오라동     W6XAD5       2    2900       87\n",
       "\n",
       "[2211445 rows x 8 columns]"
      ]
     },
     "execution_count": 4,
     "metadata": {},
     "output_type": "execute_result"
    }
   ],
   "source": [
    "df_1"
   ]
  },
  {
   "cell_type": "code",
   "execution_count": 5,
   "metadata": {
    "ExecuteTime": {
     "end_time": "2021-09-15T00:23:46.597498Z",
     "start_time": "2021-09-15T00:23:46.575493Z"
    }
   },
   "outputs": [
    {
     "data": {
      "text/html": [
       "<div>\n",
       "<style scoped>\n",
       "    .dataframe tbody tr th:only-of-type {\n",
       "        vertical-align: middle;\n",
       "    }\n",
       "\n",
       "    .dataframe tbody tr th {\n",
       "        vertical-align: top;\n",
       "    }\n",
       "\n",
       "    .dataframe thead th {\n",
       "        text-align: right;\n",
       "    }\n",
       "</style>\n",
       "<table border=\"1\" class=\"dataframe\">\n",
       "  <thead>\n",
       "    <tr style=\"text-align: right;\">\n",
       "      <th></th>\n",
       "      <th>base_date</th>\n",
       "      <th>city</th>\n",
       "      <th>emd_cd</th>\n",
       "      <th>emd_nm</th>\n",
       "      <th>mct_cat_cd</th>\n",
       "      <th>mct_cat_nm</th>\n",
       "      <th>use_cnt</th>\n",
       "      <th>use_amt</th>\n",
       "    </tr>\n",
       "  </thead>\n",
       "  <tbody>\n",
       "    <tr>\n",
       "      <th>0</th>\n",
       "      <td>2018-01-06</td>\n",
       "      <td>제주시</td>\n",
       "      <td>50110650</td>\n",
       "      <td>연동</td>\n",
       "      <td>C00100</td>\n",
       "      <td>한식</td>\n",
       "      <td>3643</td>\n",
       "      <td>127777300</td>\n",
       "    </tr>\n",
       "    <tr>\n",
       "      <th>1</th>\n",
       "      <td>2018-01-09</td>\n",
       "      <td>제주시</td>\n",
       "      <td>50110650</td>\n",
       "      <td>연동</td>\n",
       "      <td>C00500</td>\n",
       "      <td>패스트푸드</td>\n",
       "      <td>432</td>\n",
       "      <td>6711675</td>\n",
       "    </tr>\n",
       "    <tr>\n",
       "      <th>2</th>\n",
       "      <td>2018-01-15</td>\n",
       "      <td>제주시</td>\n",
       "      <td>50110650</td>\n",
       "      <td>연동</td>\n",
       "      <td>C01200</td>\n",
       "      <td>농축수산물</td>\n",
       "      <td>236</td>\n",
       "      <td>16089579</td>\n",
       "    </tr>\n",
       "    <tr>\n",
       "      <th>3</th>\n",
       "      <td>2018-01-15</td>\n",
       "      <td>제주시</td>\n",
       "      <td>50110650</td>\n",
       "      <td>연동</td>\n",
       "      <td>A00200</td>\n",
       "      <td>마트/슈퍼마켓</td>\n",
       "      <td>4031</td>\n",
       "      <td>121979867</td>\n",
       "    </tr>\n",
       "    <tr>\n",
       "      <th>4</th>\n",
       "      <td>2018-01-20</td>\n",
       "      <td>제주시</td>\n",
       "      <td>50110650</td>\n",
       "      <td>연동</td>\n",
       "      <td>C01000</td>\n",
       "      <td>식품</td>\n",
       "      <td>633</td>\n",
       "      <td>30410674</td>\n",
       "    </tr>\n",
       "    <tr>\n",
       "      <th>...</th>\n",
       "      <td>...</td>\n",
       "      <td>...</td>\n",
       "      <td>...</td>\n",
       "      <td>...</td>\n",
       "      <td>...</td>\n",
       "      <td>...</td>\n",
       "      <td>...</td>\n",
       "      <td>...</td>\n",
       "    </tr>\n",
       "    <tr>\n",
       "      <th>544800</th>\n",
       "      <td>2020-10-16</td>\n",
       "      <td>제주시</td>\n",
       "      <td>XXXXXXXX</td>\n",
       "      <td>알수없음</td>\n",
       "      <td>C01400</td>\n",
       "      <td>배달</td>\n",
       "      <td>5</td>\n",
       "      <td>127250</td>\n",
       "    </tr>\n",
       "    <tr>\n",
       "      <th>544801</th>\n",
       "      <td>2019-08-31</td>\n",
       "      <td>서귀포시</td>\n",
       "      <td>XXXXXXXX</td>\n",
       "      <td>알수없음</td>\n",
       "      <td>C01400</td>\n",
       "      <td>배달</td>\n",
       "      <td>5</td>\n",
       "      <td>39974</td>\n",
       "    </tr>\n",
       "    <tr>\n",
       "      <th>544802</th>\n",
       "      <td>2020-10-03</td>\n",
       "      <td>서귀포시</td>\n",
       "      <td>XXXXXXXX</td>\n",
       "      <td>알수없음</td>\n",
       "      <td>C01400</td>\n",
       "      <td>배달</td>\n",
       "      <td>10</td>\n",
       "      <td>329832</td>\n",
       "    </tr>\n",
       "    <tr>\n",
       "      <th>544803</th>\n",
       "      <td>2020-10-23</td>\n",
       "      <td>서귀포시</td>\n",
       "      <td>XXXXXXXX</td>\n",
       "      <td>알수없음</td>\n",
       "      <td>C01400</td>\n",
       "      <td>배달</td>\n",
       "      <td>5</td>\n",
       "      <td>68715</td>\n",
       "    </tr>\n",
       "    <tr>\n",
       "      <th>544804</th>\n",
       "      <td>2020-12-21</td>\n",
       "      <td>제주시</td>\n",
       "      <td>XXXXXXXX</td>\n",
       "      <td>알수없음</td>\n",
       "      <td>C01400</td>\n",
       "      <td>배달</td>\n",
       "      <td>10</td>\n",
       "      <td>187452</td>\n",
       "    </tr>\n",
       "  </tbody>\n",
       "</table>\n",
       "<p>544805 rows × 8 columns</p>\n",
       "</div>"
      ],
      "text/plain": [
       "         base_date  city    emd_cd emd_nm mct_cat_cd mct_cat_nm  use_cnt  \\\n",
       "0       2018-01-06   제주시  50110650     연동     C00100         한식     3643   \n",
       "1       2018-01-09   제주시  50110650     연동     C00500      패스트푸드      432   \n",
       "2       2018-01-15   제주시  50110650     연동     C01200      농축수산물      236   \n",
       "3       2018-01-15   제주시  50110650     연동     A00200    마트/슈퍼마켓     4031   \n",
       "4       2018-01-20   제주시  50110650     연동     C01000         식품      633   \n",
       "...            ...   ...       ...    ...        ...        ...      ...   \n",
       "544800  2020-10-16   제주시  XXXXXXXX   알수없음     C01400         배달        5   \n",
       "544801  2019-08-31  서귀포시  XXXXXXXX   알수없음     C01400         배달        5   \n",
       "544802  2020-10-03  서귀포시  XXXXXXXX   알수없음     C01400         배달       10   \n",
       "544803  2020-10-23  서귀포시  XXXXXXXX   알수없음     C01400         배달        5   \n",
       "544804  2020-12-21   제주시  XXXXXXXX   알수없음     C01400         배달       10   \n",
       "\n",
       "          use_amt  \n",
       "0       127777300  \n",
       "1         6711675  \n",
       "2        16089579  \n",
       "3       121979867  \n",
       "4        30410674  \n",
       "...           ...  \n",
       "544800     127250  \n",
       "544801      39974  \n",
       "544802     329832  \n",
       "544803      68715  \n",
       "544804     187452  \n",
       "\n",
       "[544805 rows x 8 columns]"
      ]
     },
     "execution_count": 5,
     "metadata": {},
     "output_type": "execute_result"
    }
   ],
   "source": [
    "df_4"
   ]
  },
  {
   "cell_type": "code",
   "execution_count": 6,
   "metadata": {
    "ExecuteTime": {
     "end_time": "2021-09-15T00:23:46.748540Z",
     "start_time": "2021-09-15T00:23:46.600493Z"
    }
   },
   "outputs": [],
   "source": [
    "df_4_back_up= df_4.copy()\n",
    "df_1_back_up= df_1.copy()"
   ]
  },
  {
   "cell_type": "code",
   "execution_count": 7,
   "metadata": {
    "ExecuteTime": {
     "end_time": "2021-09-15T00:23:46.879489Z",
     "start_time": "2021-09-15T00:23:46.752491Z"
    }
   },
   "outputs": [],
   "source": [
    "# df_4=df_4_back_up.copy()\n",
    "df_1=df_1_back_up.copy()"
   ]
  },
  {
   "cell_type": "code",
   "execution_count": 8,
   "metadata": {
    "ExecuteTime": {
     "end_time": "2021-09-15T00:23:48.639542Z",
     "start_time": "2021-09-15T00:23:46.882493Z"
    }
   },
   "outputs": [
    {
     "data": {
      "text/html": [
       "<div>\n",
       "<style scoped>\n",
       "    .dataframe tbody tr th:only-of-type {\n",
       "        vertical-align: middle;\n",
       "    }\n",
       "\n",
       "    .dataframe tbody tr th {\n",
       "        vertical-align: top;\n",
       "    }\n",
       "\n",
       "    .dataframe thead th {\n",
       "        text-align: right;\n",
       "    }\n",
       "</style>\n",
       "<table border=\"1\" class=\"dataframe\">\n",
       "  <thead>\n",
       "    <tr style=\"text-align: right;\">\n",
       "      <th></th>\n",
       "      <th>emd_nm</th>\n",
       "      <th>base_date</th>\n",
       "      <th>em_g</th>\n",
       "      <th>간식</th>\n",
       "      <th>농축수산물</th>\n",
       "      <th>마트/슈퍼마켓</th>\n",
       "      <th>배달</th>\n",
       "      <th>부페</th>\n",
       "      <th>식품</th>\n",
       "      <th>아시아음식</th>\n",
       "      <th>양식</th>\n",
       "      <th>주점및주류판매</th>\n",
       "      <th>패스트푸드</th>\n",
       "      <th>한식</th>\n",
       "    </tr>\n",
       "  </thead>\n",
       "  <tbody>\n",
       "    <tr>\n",
       "      <th>0</th>\n",
       "      <td>건입동</td>\n",
       "      <td>2018-01</td>\n",
       "      <td>45646550</td>\n",
       "      <td>4540.0</td>\n",
       "      <td>1699.0</td>\n",
       "      <td>17547.0</td>\n",
       "      <td>585.0</td>\n",
       "      <td>55.0</td>\n",
       "      <td>5675.0</td>\n",
       "      <td>1961.0</td>\n",
       "      <td>1103.0</td>\n",
       "      <td>443.0</td>\n",
       "      <td>3430.0</td>\n",
       "      <td>20645.0</td>\n",
       "    </tr>\n",
       "    <tr>\n",
       "      <th>1</th>\n",
       "      <td>건입동</td>\n",
       "      <td>2018-02</td>\n",
       "      <td>42953550</td>\n",
       "      <td>3813.0</td>\n",
       "      <td>1857.0</td>\n",
       "      <td>15277.0</td>\n",
       "      <td>534.0</td>\n",
       "      <td>35.0</td>\n",
       "      <td>5133.0</td>\n",
       "      <td>1619.0</td>\n",
       "      <td>1028.0</td>\n",
       "      <td>371.0</td>\n",
       "      <td>3265.0</td>\n",
       "      <td>16989.0</td>\n",
       "    </tr>\n",
       "    <tr>\n",
       "      <th>2</th>\n",
       "      <td>건입동</td>\n",
       "      <td>2018-03</td>\n",
       "      <td>46422450</td>\n",
       "      <td>4531.0</td>\n",
       "      <td>1706.0</td>\n",
       "      <td>17327.0</td>\n",
       "      <td>714.0</td>\n",
       "      <td>25.0</td>\n",
       "      <td>6675.0</td>\n",
       "      <td>2303.0</td>\n",
       "      <td>1063.0</td>\n",
       "      <td>464.0</td>\n",
       "      <td>3865.0</td>\n",
       "      <td>21845.0</td>\n",
       "    </tr>\n",
       "    <tr>\n",
       "      <th>3</th>\n",
       "      <td>건입동</td>\n",
       "      <td>2018-04</td>\n",
       "      <td>42438700</td>\n",
       "      <td>4442.0</td>\n",
       "      <td>1821.0</td>\n",
       "      <td>18584.0</td>\n",
       "      <td>685.0</td>\n",
       "      <td>120.0</td>\n",
       "      <td>7334.0</td>\n",
       "      <td>2111.0</td>\n",
       "      <td>1141.0</td>\n",
       "      <td>455.0</td>\n",
       "      <td>3763.0</td>\n",
       "      <td>22796.0</td>\n",
       "    </tr>\n",
       "    <tr>\n",
       "      <th>4</th>\n",
       "      <td>건입동</td>\n",
       "      <td>2018-05</td>\n",
       "      <td>44893300</td>\n",
       "      <td>5044.0</td>\n",
       "      <td>2148.0</td>\n",
       "      <td>19218.0</td>\n",
       "      <td>719.0</td>\n",
       "      <td>110.0</td>\n",
       "      <td>8087.0</td>\n",
       "      <td>2472.0</td>\n",
       "      <td>1170.0</td>\n",
       "      <td>475.0</td>\n",
       "      <td>3839.0</td>\n",
       "      <td>24151.0</td>\n",
       "    </tr>\n",
       "    <tr>\n",
       "      <th>...</th>\n",
       "      <td>...</td>\n",
       "      <td>...</td>\n",
       "      <td>...</td>\n",
       "      <td>...</td>\n",
       "      <td>...</td>\n",
       "      <td>...</td>\n",
       "      <td>...</td>\n",
       "      <td>...</td>\n",
       "      <td>...</td>\n",
       "      <td>...</td>\n",
       "      <td>...</td>\n",
       "      <td>...</td>\n",
       "      <td>...</td>\n",
       "      <td>...</td>\n",
       "    </tr>\n",
       "    <tr>\n",
       "      <th>1661</th>\n",
       "      <td>효돈동</td>\n",
       "      <td>2021-02</td>\n",
       "      <td>26128400</td>\n",
       "      <td>1256.0</td>\n",
       "      <td>921.0</td>\n",
       "      <td>7503.0</td>\n",
       "      <td>829.0</td>\n",
       "      <td>5.0</td>\n",
       "      <td>4057.0</td>\n",
       "      <td>678.0</td>\n",
       "      <td>210.0</td>\n",
       "      <td>95.0</td>\n",
       "      <td>1238.0</td>\n",
       "      <td>5726.0</td>\n",
       "    </tr>\n",
       "    <tr>\n",
       "      <th>1662</th>\n",
       "      <td>효돈동</td>\n",
       "      <td>2021-03</td>\n",
       "      <td>26845400</td>\n",
       "      <td>1362.0</td>\n",
       "      <td>1244.0</td>\n",
       "      <td>8631.0</td>\n",
       "      <td>946.0</td>\n",
       "      <td>0.0</td>\n",
       "      <td>4175.0</td>\n",
       "      <td>699.0</td>\n",
       "      <td>261.0</td>\n",
       "      <td>165.0</td>\n",
       "      <td>1343.0</td>\n",
       "      <td>7410.0</td>\n",
       "    </tr>\n",
       "    <tr>\n",
       "      <th>1663</th>\n",
       "      <td>효돈동</td>\n",
       "      <td>2021-04</td>\n",
       "      <td>25200200</td>\n",
       "      <td>1237.0</td>\n",
       "      <td>1181.0</td>\n",
       "      <td>8423.0</td>\n",
       "      <td>1130.0</td>\n",
       "      <td>0.0</td>\n",
       "      <td>4139.0</td>\n",
       "      <td>780.0</td>\n",
       "      <td>195.0</td>\n",
       "      <td>110.0</td>\n",
       "      <td>1192.0</td>\n",
       "      <td>7318.0</td>\n",
       "    </tr>\n",
       "    <tr>\n",
       "      <th>1664</th>\n",
       "      <td>효돈동</td>\n",
       "      <td>2021-05</td>\n",
       "      <td>21724850</td>\n",
       "      <td>1313.0</td>\n",
       "      <td>946.0</td>\n",
       "      <td>8659.0</td>\n",
       "      <td>1355.0</td>\n",
       "      <td>0.0</td>\n",
       "      <td>4297.0</td>\n",
       "      <td>645.0</td>\n",
       "      <td>220.0</td>\n",
       "      <td>145.0</td>\n",
       "      <td>1398.0</td>\n",
       "      <td>6265.0</td>\n",
       "    </tr>\n",
       "    <tr>\n",
       "      <th>1665</th>\n",
       "      <td>효돈동</td>\n",
       "      <td>2021-06</td>\n",
       "      <td>27554100</td>\n",
       "      <td>1135.0</td>\n",
       "      <td>940.0</td>\n",
       "      <td>8783.0</td>\n",
       "      <td>995.0</td>\n",
       "      <td>0.0</td>\n",
       "      <td>4219.0</td>\n",
       "      <td>720.0</td>\n",
       "      <td>225.0</td>\n",
       "      <td>105.0</td>\n",
       "      <td>1205.0</td>\n",
       "      <td>6258.0</td>\n",
       "    </tr>\n",
       "  </tbody>\n",
       "</table>\n",
       "<p>1634 rows × 14 columns</p>\n",
       "</div>"
      ],
      "text/plain": [
       "     emd_nm base_date      em_g      간식   농축수산물  마트/슈퍼마켓      배달     부페  \\\n",
       "0       건입동   2018-01  45646550  4540.0  1699.0  17547.0   585.0   55.0   \n",
       "1       건입동   2018-02  42953550  3813.0  1857.0  15277.0   534.0   35.0   \n",
       "2       건입동   2018-03  46422450  4531.0  1706.0  17327.0   714.0   25.0   \n",
       "3       건입동   2018-04  42438700  4442.0  1821.0  18584.0   685.0  120.0   \n",
       "4       건입동   2018-05  44893300  5044.0  2148.0  19218.0   719.0  110.0   \n",
       "...     ...       ...       ...     ...     ...      ...     ...    ...   \n",
       "1661    효돈동   2021-02  26128400  1256.0   921.0   7503.0   829.0    5.0   \n",
       "1662    효돈동   2021-03  26845400  1362.0  1244.0   8631.0   946.0    0.0   \n",
       "1663    효돈동   2021-04  25200200  1237.0  1181.0   8423.0  1130.0    0.0   \n",
       "1664    효돈동   2021-05  21724850  1313.0   946.0   8659.0  1355.0    0.0   \n",
       "1665    효돈동   2021-06  27554100  1135.0   940.0   8783.0   995.0    0.0   \n",
       "\n",
       "          식품   아시아음식      양식  주점및주류판매   패스트푸드       한식  \n",
       "0     5675.0  1961.0  1103.0    443.0  3430.0  20645.0  \n",
       "1     5133.0  1619.0  1028.0    371.0  3265.0  16989.0  \n",
       "2     6675.0  2303.0  1063.0    464.0  3865.0  21845.0  \n",
       "3     7334.0  2111.0  1141.0    455.0  3763.0  22796.0  \n",
       "4     8087.0  2472.0  1170.0    475.0  3839.0  24151.0  \n",
       "...      ...     ...     ...      ...     ...      ...  \n",
       "1661  4057.0   678.0   210.0     95.0  1238.0   5726.0  \n",
       "1662  4175.0   699.0   261.0    165.0  1343.0   7410.0  \n",
       "1663  4139.0   780.0   195.0    110.0  1192.0   7318.0  \n",
       "1664  4297.0   645.0   220.0    145.0  1398.0   6265.0  \n",
       "1665  4219.0   720.0   225.0    105.0  1205.0   6258.0  \n",
       "\n",
       "[1634 rows x 14 columns]"
      ]
     },
     "execution_count": 8,
     "metadata": {},
     "output_type": "execute_result"
    }
   ],
   "source": [
    "left_df=df_1.drop([\"city\", \"emd_cd\", \"em_area_cd\", \"em_cnt\",\"pay_amt\"], axis=1)\n",
    "left_df=pd.DataFrame(left_df.groupby(['emd_nm', 'base_date'])['em_g'].sum())\n",
    "\n",
    "df=df_4.drop([\"city\", \"emd_cd\", \"mct_cat_cd\", \"use_amt\"], axis=1)\n",
    "df = pd.get_dummies(df, columns=['mct_cat_nm'])\n",
    "df = df[df[\"emd_nm\"] != \"알수없음\"]\n",
    "df[\"간식\"] = df[\"mct_cat_nm_간식\"]*df[\"use_cnt\"]\n",
    "df[\"농축수산물\"] = df[\"mct_cat_nm_농축수산물\"]*df[\"use_cnt\"]\n",
    "df[\"마트/슈퍼마켓\"] = df[\"mct_cat_nm_마트/슈퍼마켓\"]*df[\"use_cnt\"]\n",
    "df[\"배달\"] = df[\"mct_cat_nm_배달\"]*df[\"use_cnt\"]\n",
    "df[\"부페\"] = df[\"mct_cat_nm_부페\"]*df[\"use_cnt\"]\n",
    "df[\"식품\"] = df[\"mct_cat_nm_식품\"]*df[\"use_cnt\"]\n",
    "df[\"아시아음식\"] = df[\"mct_cat_nm_아시아음식\"]*df[\"use_cnt\"]\n",
    "df[\"양식\"] = df[\"mct_cat_nm_양식\"]*df[\"use_cnt\"]\n",
    "df[\"주점및주류판매\"] = df[\"mct_cat_nm_주점및주류판매\"]*df[\"use_cnt\"]\n",
    "df[\"패스트푸드\"] = df[\"mct_cat_nm_패스트푸드\"]*df[\"use_cnt\"]\n",
    "df[\"한식\"] = df[\"mct_cat_nm_한식\"]*df[\"use_cnt\"]\n",
    "df = df.drop([\n",
    "    \"mct_cat_nm_간식\",\"mct_cat_nm_농축수산물\",\"mct_cat_nm_마트/슈퍼마켓\", \"mct_cat_nm_배달\"\n",
    "    ,\"mct_cat_nm_부페\", \"mct_cat_nm_식품\", \"mct_cat_nm_아시아음식\",\"mct_cat_nm_양식\",\n",
    "    \"mct_cat_nm_주점및주류판매\",\"mct_cat_nm_패스트푸드\", \"mct_cat_nm_한식\", \"use_cnt\"\n",
    "], axis=1)\n",
    "\n",
    "right_df = pd.DataFrame(df.groupby([\"emd_nm\",\"base_date\"]).sum())\n",
    "\n",
    "\n",
    "waste_card_df = pd.merge(left=left_df, right= right_df, how=\"left\", on=[\"emd_nm\",\"base_date\"])\n",
    "waste_card_df=waste_card_df.reset_index()\n",
    "waste_card_df[\"base_date\"]=waste_card_df[\"base_date\"].str[:-3]\n",
    "waste_card_df_by_month = pd.DataFrame(waste_card_df.groupby([\"emd_nm\",\"base_date\"]).sum())\n",
    "waste_card_df_by_month=waste_card_df_by_month.reset_index()\n",
    "df= waste_card_df_by_month.drop(waste_card_df_by_month[waste_card_df_by_month[\"emd_nm\"]==\"알수없음\"].index)\n",
    "df"
   ]
  },
  {
   "cell_type": "code",
   "execution_count": 9,
   "metadata": {
    "ExecuteTime": {
     "end_time": "2021-09-15T00:23:48.658557Z",
     "start_time": "2021-09-15T00:23:48.641546Z"
    }
   },
   "outputs": [
    {
     "data": {
      "text/html": [
       "<div>\n",
       "<style scoped>\n",
       "    .dataframe tbody tr th:only-of-type {\n",
       "        vertical-align: middle;\n",
       "    }\n",
       "\n",
       "    .dataframe tbody tr th {\n",
       "        vertical-align: top;\n",
       "    }\n",
       "\n",
       "    .dataframe thead th {\n",
       "        text-align: right;\n",
       "    }\n",
       "</style>\n",
       "<table border=\"1\" class=\"dataframe\">\n",
       "  <thead>\n",
       "    <tr style=\"text-align: right;\">\n",
       "      <th></th>\n",
       "      <th>emd_nm</th>\n",
       "      <th>base_date</th>\n",
       "      <th>em_g</th>\n",
       "      <th>간식</th>\n",
       "      <th>농축수산물</th>\n",
       "      <th>마트/슈퍼마켓</th>\n",
       "      <th>배달</th>\n",
       "      <th>부페</th>\n",
       "      <th>식품</th>\n",
       "      <th>아시아음식</th>\n",
       "      <th>양식</th>\n",
       "      <th>주점및주류판매</th>\n",
       "      <th>패스트푸드</th>\n",
       "      <th>한식</th>\n",
       "    </tr>\n",
       "  </thead>\n",
       "  <tbody>\n",
       "  </tbody>\n",
       "</table>\n",
       "</div>"
      ],
      "text/plain": [
       "Empty DataFrame\n",
       "Columns: [emd_nm, base_date, em_g, 간식, 농축수산물, 마트/슈퍼마켓, 배달, 부페, 식품, 아시아음식, 양식, 주점및주류판매, 패스트푸드, 한식]\n",
       "Index: []"
      ]
     },
     "execution_count": 9,
     "metadata": {},
     "output_type": "execute_result"
    }
   ],
   "source": [
    "df[df[\"emd_nm\"]==\"알수없음\"]"
   ]
  },
  {
   "cell_type": "markdown",
   "metadata": {},
   "source": [
    "# 모델로 학습"
   ]
  },
  {
   "cell_type": "markdown",
   "metadata": {},
   "source": [
    "## 데이터 준비"
   ]
  },
  {
   "cell_type": "code",
   "execution_count": 10,
   "metadata": {
    "ExecuteTime": {
     "end_time": "2021-09-15T00:23:49.832539Z",
     "start_time": "2021-09-15T00:23:48.661541Z"
    }
   },
   "outputs": [],
   "source": [
    "from sklearn.model_selection import train_test_split\n",
    "from sklearn.metrics import mean_squared_error\n",
    "\n",
    "from sklearn.linear_model import Ridge\n",
    "from sklearn.linear_model import Lasso\n",
    "\n",
    "from sklearn.preprocessing import PolynomialFeatures\n",
    "from sklearn.linear_model import LinearRegression\n",
    "from sklearn.ensemble import RandomForestRegressor"
   ]
  },
  {
   "cell_type": "code",
   "execution_count": 11,
   "metadata": {
    "ExecuteTime": {
     "end_time": "2021-09-15T00:23:49.845542Z",
     "start_time": "2021-09-15T00:23:49.834540Z"
    }
   },
   "outputs": [
    {
     "data": {
      "text/plain": [
       "((1634, 11), (1634,))"
      ]
     },
     "execution_count": 11,
     "metadata": {},
     "output_type": "execute_result"
    }
   ],
   "source": [
    "target = df['em_g']\n",
    "data = df[df.drop(['em_g','emd_nm','base_date'],axis=1).columns]\n",
    "data.shape, target.shape"
   ]
  },
  {
   "cell_type": "code",
   "execution_count": 12,
   "metadata": {
    "ExecuteTime": {
     "end_time": "2021-09-15T00:23:49.861542Z",
     "start_time": "2021-09-15T00:23:49.848541Z"
    }
   },
   "outputs": [
    {
     "data": {
      "text/plain": [
       "((1307, 11), (327, 11), (1307,), (327,))"
      ]
     },
     "execution_count": 12,
     "metadata": {},
     "output_type": "execute_result"
    }
   ],
   "source": [
    "x_train, x_test, y_train, y_test = train_test_split(data, target, test_size=0.2, random_state=34)\n",
    "x_train.shape,x_test.shape,y_train.shape,y_test.shape"
   ]
  },
  {
   "cell_type": "code",
   "execution_count": 13,
   "metadata": {
    "ExecuteTime": {
     "end_time": "2021-09-15T00:23:50.675427Z",
     "start_time": "2021-09-15T00:23:49.864542Z"
    }
   },
   "outputs": [
    {
     "name": "stdout",
     "output_type": "stream",
     "text": [
      "(1307, 78) (327, 78) (1307,) (327,)\n",
      "(1307, 364) (327, 364) (1307,) (327,)\n",
      "(1307, 1365) (327, 1365) (1307,) (327,)\n",
      "(1307, 4368) (327, 4368) (1307,) (327,)\n",
      "(1307, 12376) (327, 12376) (1307,) (327,)\n"
     ]
    }
   ],
   "source": [
    "poly = PolynomialFeatures(2) # 2~6차\n",
    "poly_x = pd.DataFrame(poly.fit_transform(data.values), columns=poly.get_feature_names(data.columns))\n",
    "x2_train, x2_test, y2_train, y2_test = train_test_split(poly_x, target, test_size=0.2, random_state=34)\n",
    "print(x2_train.shape,x2_test.shape,y2_train.shape,y2_test.shape)\n",
    "\n",
    "poly = PolynomialFeatures(3) # 2~6차\n",
    "poly_x = pd.DataFrame(poly.fit_transform(data.values), columns=poly.get_feature_names(data.columns))\n",
    "x3_train, x3_test, y3_train, y3_test = train_test_split(poly_x, target, test_size=0.2, random_state=34)\n",
    "print(x3_train.shape,x3_test.shape,y3_train.shape,y3_test.shape)\n",
    "\n",
    "poly = PolynomialFeatures(4) # 2~6차\n",
    "poly_x = pd.DataFrame(poly.fit_transform(data.values), columns=poly.get_feature_names(data.columns))\n",
    "x4_train, x4_test, y4_train, y4_test = train_test_split(poly_x, target, test_size=0.2, random_state=34)\n",
    "print(x4_train.shape,x4_test.shape,y4_train.shape,y4_test.shape)\n",
    "\n",
    "poly = PolynomialFeatures(5) # 2~6차\n",
    "poly_x = pd.DataFrame(poly.fit_transform(data.values), columns=poly.get_feature_names(data.columns))\n",
    "x5_train, x5_test, y5_train, y5_test = train_test_split(poly_x, target, test_size=0.2, random_state=34)\n",
    "print(x5_train.shape,x5_test.shape,y5_train.shape,y5_test.shape)\n",
    "\n",
    "poly = PolynomialFeatures(6) # 2~6차\n",
    "poly_x = pd.DataFrame(poly.fit_transform(data.values), columns=poly.get_feature_names(data.columns))\n",
    "x6_train, x6_test, y6_train, y6_test = train_test_split(poly_x, target, test_size=0.2, random_state=34)\n",
    "print(x6_train.shape,x6_test.shape,y6_train.shape,y6_test.shape)"
   ]
  },
  {
   "cell_type": "markdown",
   "metadata": {},
   "source": [
    "## LR L1"
   ]
  },
  {
   "cell_type": "code",
   "execution_count": 14,
   "metadata": {
    "ExecuteTime": {
     "end_time": "2021-09-15T00:24:24.222173Z",
     "start_time": "2021-09-15T00:23:50.677431Z"
    }
   },
   "outputs": [
    {
     "name": "stderr",
     "output_type": "stream",
     "text": [
      "C:\\Users\\HojunLee\\anaconda3\\lib\\site-packages\\sklearn\\linear_model\\_coordinate_descent.py:529: ConvergenceWarning: Objective did not converge. You might want to increase the number of iterations. Duality gap: 1.7219519695120906e+17, tolerance: 455988236796947.4\n",
      "  model = cd_fast.enet_coordinate_descent(\n",
      "C:\\Users\\HojunLee\\anaconda3\\lib\\site-packages\\sklearn\\linear_model\\_coordinate_descent.py:529: ConvergenceWarning: Objective did not converge. You might want to increase the number of iterations. Duality gap: 1.1444880472606606e+17, tolerance: 455988236796947.4\n",
      "  model = cd_fast.enet_coordinate_descent(\n",
      "C:\\Users\\HojunLee\\anaconda3\\lib\\site-packages\\sklearn\\linear_model\\_coordinate_descent.py:529: ConvergenceWarning: Objective did not converge. You might want to increase the number of iterations. Duality gap: 9.451037973505424e+16, tolerance: 455988236796947.4\n",
      "  model = cd_fast.enet_coordinate_descent(\n",
      "C:\\Users\\HojunLee\\anaconda3\\lib\\site-packages\\sklearn\\linear_model\\_coordinate_descent.py:529: ConvergenceWarning: Objective did not converge. You might want to increase the number of iterations. Duality gap: 8.736847258661856e+16, tolerance: 455988236796947.4\n",
      "  model = cd_fast.enet_coordinate_descent(\n",
      "C:\\Users\\HojunLee\\anaconda3\\lib\\site-packages\\sklearn\\linear_model\\_coordinate_descent.py:529: ConvergenceWarning: Objective did not converge. You might want to increase the number of iterations. Duality gap: 8.239706142592502e+16, tolerance: 455988236796947.4\n",
      "  model = cd_fast.enet_coordinate_descent(\n",
      "C:\\Users\\HojunLee\\anaconda3\\lib\\site-packages\\sklearn\\linear_model\\_coordinate_descent.py:529: ConvergenceWarning: Objective did not converge. You might want to increase the number of iterations. Duality gap: 7.941937161655563e+16, tolerance: 455988236796947.4\n",
      "  model = cd_fast.enet_coordinate_descent(\n"
     ]
    },
    {
     "data": {
      "text/plain": [
       "Lasso(alpha=0.001, normalize=True)"
      ]
     },
     "execution_count": 14,
     "metadata": {},
     "output_type": "execute_result"
    }
   ],
   "source": [
    "model_L1 = Lasso(alpha=0.001, max_iter=1000, normalize=True)\n",
    "model_L1.fit(x_train, y_train)\n",
    "model_L2 = Lasso(alpha=0.001, max_iter=1000, normalize=True)\n",
    "model_L2.fit(x2_train, y2_train)\n",
    "model_L3 = Lasso(alpha=0.001, max_iter=1000, normalize=True)\n",
    "model_L3.fit(x3_train, y3_train)\n",
    "model_L4 = Lasso(alpha=0.001, max_iter=1000, normalize=True)\n",
    "model_L4.fit(x4_train, y4_train)\n",
    "model_L5 = Lasso(alpha=0.001, max_iter=1000, normalize=True)\n",
    "model_L5.fit(x5_train, y5_train)\n",
    "model_L6 = Lasso(alpha=0.001, max_iter=1000, normalize=True)\n",
    "model_L6.fit(x6_train, y6_train)"
   ]
  },
  {
   "cell_type": "code",
   "execution_count": 15,
   "metadata": {
    "ExecuteTime": {
     "end_time": "2021-09-15T00:24:24.495172Z",
     "start_time": "2021-09-15T00:24:24.225172Z"
    }
   },
   "outputs": [
    {
     "name": "stdout",
     "output_type": "stream",
     "text": [
      "0.9116561690127699\n",
      "0.9387699640655383\n",
      "0.9459556647489648\n",
      "0.9471863568866777\n",
      "0.9430011251228174\n",
      "0.9301878158354923\n"
     ]
    }
   ],
   "source": [
    "print(\n",
    "model_L1.score(x_test,y_test),\n",
    "model_L2.score(x2_test,y2_test),\n",
    "model_L3.score(x3_test,y3_test),\n",
    "model_L4.score(x4_test,y4_test),\n",
    "model_L5.score(x5_test,y5_test),\n",
    "model_L6.score(x6_test,y6_test),\n",
    "sep=\"\\n\"\n",
    ")"
   ]
  },
  {
   "cell_type": "markdown",
   "metadata": {},
   "source": [
    "## LR L2"
   ]
  },
  {
   "cell_type": "code",
   "execution_count": 16,
   "metadata": {
    "ExecuteTime": {
     "end_time": "2021-09-15T00:24:25.921210Z",
     "start_time": "2021-09-15T00:24:24.497176Z"
    }
   },
   "outputs": [
    {
     "data": {
      "text/plain": [
       "Ridge(alpha=0.001, max_iter=1000, normalize=True)"
      ]
     },
     "execution_count": 16,
     "metadata": {},
     "output_type": "execute_result"
    }
   ],
   "source": [
    "model_R1 = Ridge(alpha=0.001, max_iter=1000, normalize=True)\n",
    "model_R1.fit(x_train, y_train)\n",
    "model_R2 = Ridge(alpha=0.001, max_iter=1000, normalize=True)\n",
    "model_R2.fit(x2_train, y2_train)\n",
    "model_R3 = Ridge(alpha=0.001, max_iter=1000, normalize=True)\n",
    "model_R3.fit(x3_train, y3_train)\n",
    "model_R4 = Ridge(alpha=0.001, max_iter=1000, normalize=True)\n",
    "model_R4.fit(x4_train, y4_train)\n",
    "model_R5 = Ridge(alpha=0.001, max_iter=1000, normalize=True)\n",
    "model_R5.fit(x5_train, y5_train)\n",
    "model_R6 = Ridge(alpha=0.001, max_iter=1000, normalize=True)\n",
    "model_R6.fit(x6_train, y6_train)"
   ]
  },
  {
   "cell_type": "code",
   "execution_count": 17,
   "metadata": {
    "ExecuteTime": {
     "end_time": "2021-09-15T00:24:26.145210Z",
     "start_time": "2021-09-15T00:24:25.924211Z"
    }
   },
   "outputs": [
    {
     "name": "stdout",
     "output_type": "stream",
     "text": [
      "0.9118957617535459\n",
      "0.9374655396432262\n",
      "0.9463823104785165\n",
      "0.9474170427987999\n",
      "0.9428554682444124\n",
      "0.9033063214326413\n"
     ]
    }
   ],
   "source": [
    "print(\n",
    "model_R1.score(x_test,y_test),\n",
    "model_R2.score(x2_test,y2_test),\n",
    "model_R3.score(x3_test,y3_test),\n",
    "model_R4.score(x4_test,y4_test),\n",
    "model_R5.score(x5_test,y5_test),\n",
    "model_R6.score(x6_test,y6_test),\n",
    "sep=\"\\n\"\n",
    ")"
   ]
  },
  {
   "cell_type": "markdown",
   "metadata": {},
   "source": [
    "## Random Forest"
   ]
  },
  {
   "cell_type": "code",
   "execution_count": 18,
   "metadata": {
    "ExecuteTime": {
     "end_time": "2021-09-15T00:24:27.348213Z",
     "start_time": "2021-09-15T00:24:26.148210Z"
    },
    "scrolled": true
   },
   "outputs": [
    {
     "data": {
      "text/plain": [
       "0.9669904942401504"
      ]
     },
     "execution_count": 18,
     "metadata": {},
     "output_type": "execute_result"
    }
   ],
   "source": [
    "model_randomForest = RandomForestRegressor() # 생성할 트리 개수가 얼만큼이 좋은지 모르겠음\n",
    "model_randomForest.fit(x_train, y_train)\n",
    "model_randomForest.score(x_test,y_test)"
   ]
  },
  {
   "cell_type": "markdown",
   "metadata": {},
   "source": [
    "# 저장"
   ]
  },
  {
   "cell_type": "code",
   "execution_count": 19,
   "metadata": {
    "ExecuteTime": {
     "end_time": "2021-09-15T00:24:27.355222Z",
     "start_time": "2021-09-15T00:24:27.350207Z"
    }
   },
   "outputs": [],
   "source": [
    "import joblib"
   ]
  },
  {
   "cell_type": "code",
   "execution_count": 20,
   "metadata": {
    "ExecuteTime": {
     "end_time": "2021-09-15T00:24:27.442209Z",
     "start_time": "2021-09-15T00:24:27.358208Z"
    }
   },
   "outputs": [
    {
     "data": {
      "text/plain": [
       "['모델/카드소비량 분석_RF.pkl']"
      ]
     },
     "execution_count": 20,
     "metadata": {},
     "output_type": "execute_result"
    }
   ],
   "source": [
    "joblib.dump(model_randomForest, '모델/카드소비량 분석_RF.pkl')"
   ]
  },
  {
   "cell_type": "code",
   "execution_count": 21,
   "metadata": {
    "ExecuteTime": {
     "end_time": "2021-09-15T00:24:27.480260Z",
     "start_time": "2021-09-15T00:24:27.444211Z"
    }
   },
   "outputs": [],
   "source": [
    "df.to_csv(\"csv/카드소비량 분석.csv\",  index=False)"
   ]
  }
 ],
 "metadata": {
  "kernelspec": {
   "display_name": "Python 3",
   "language": "python",
   "name": "python3"
  },
  "language_info": {
   "codemirror_mode": {
    "name": "ipython",
    "version": 3
   },
   "file_extension": ".py",
   "mimetype": "text/x-python",
   "name": "python",
   "nbconvert_exporter": "python",
   "pygments_lexer": "ipython3",
   "version": "3.8.3"
  },
  "toc": {
   "base_numbering": 1,
   "nav_menu": {},
   "number_sections": true,
   "sideBar": true,
   "skip_h1_title": false,
   "title_cell": "Table of Contents",
   "title_sidebar": "Contents",
   "toc_cell": false,
   "toc_position": {},
   "toc_section_display": true,
   "toc_window_display": false
  }
 },
 "nbformat": 4,
 "nbformat_minor": 4
}
