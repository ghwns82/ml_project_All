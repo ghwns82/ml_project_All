{
 "cells": [
  {
   "cell_type": "code",
   "execution_count": 1,
   "metadata": {},
   "outputs": [],
   "source": [
    "import pandas as pd\n",
    "import numpy as np\n",
    "import matplotlib.pyplot as plt\n",
    "from matplotlib import font_manager, rc\n",
    "font_name = font_manager.FontProperties(fname=\"c:/Windows/Fonts/malgun.ttf\").get_name()\n",
    "rc('font', family=font_name)"
   ]
  },
  {
   "cell_type": "code",
   "execution_count": 2,
   "metadata": {},
   "outputs": [],
   "source": [
    "def open_df(name):\n",
    "    data=open(name,'rt')\n",
    "    df_data=pd.read_csv(data,low_memory=False)\n",
    "    return df_data"
   ]
  },
  {
   "cell_type": "code",
   "execution_count": 3,
   "metadata": {},
   "outputs": [],
   "source": [
    "df_1=open_df('../데이터/01_제공데이터_update(210811)/01_음식물쓰레기_FOOD_WASTE_210811_update.CSV')"
   ]
  },
  {
   "cell_type": "code",
   "execution_count": 4,
   "metadata": {},
   "outputs": [],
   "source": [
    "df_2_1=pd.read_csv('../데이터/01_제공데이터_update(210811)/02-1_내국인유동인구_KOREAN.CSV',encoding='euc-kr')"
   ]
  },
  {
   "cell_type": "code",
   "execution_count": 5,
   "metadata": {},
   "outputs": [],
   "source": [
    "df_2_2=open_df('../데이터/01_제공데이터_update(210811)/02-2_장기체류 외국인 유동인구_LONG_TERM_FRGN.CSV')"
   ]
  },
  {
   "cell_type": "code",
   "execution_count": 6,
   "metadata": {},
   "outputs": [],
   "source": [
    "df_4=open_df('../데이터/01_제공데이터_update(210811)/04_음식관련 카드소비_CARD_SPENDING.CSV')"
   ]
  },
  {
   "cell_type": "code",
   "execution_count": 7,
   "metadata": {},
   "outputs": [],
   "source": [
    "df_2_3=open_df('../데이터/01_제공데이터_update(210811)/02-3_단기체류 외국인 유동인구_SHORT_TERM_FRGN.CSV')\n",
    "df_3=open_df('../데이터/01_제공데이터_update(210811)/03_거주인구_RESIDENT_POP.CSV')"
   ]
  },
  {
   "cell_type": "code",
   "execution_count": 8,
   "metadata": {},
   "outputs": [],
   "source": [
    "df_1[\"base_date\"]=pd.to_datetime(df_1['base_date'])\n",
    "df_1['Year']=df_1['base_date'].dt.year\n",
    "df_1['Month']=df_1['base_date'].dt.month\n",
    "df_2_1[\"base_date\"]=pd.to_datetime(df_2_1['base_date'])\n",
    "df_2_1['Year']=df_2_1['base_date'].dt.year\n",
    "df_2_1['Month']=df_2_1['base_date'].dt.month\n",
    "df_2_2[\"base_date\"]=pd.to_datetime(df_2_2['base_date'])\n",
    "df_2_2['Year']=df_2_2['base_date'].dt.year\n",
    "df_2_2['Month']=df_2_2['base_date'].dt.month\n",
    "df_2_3[\"base_date\"]=pd.to_datetime(df_2_3['base_date'])\n",
    "df_2_3['Year']=df_2_3['base_date'].dt.year\n",
    "df_2_3['Month']=df_2_3['base_date'].dt.month"
   ]
  },
  {
   "cell_type": "markdown",
   "metadata": {},
   "source": [
    "# 유동인구 데이터"
   ]
  },
  {
   "cell_type": "markdown",
   "metadata": {},
   "source": [
    "## 누적 막대그래프를 이용한 유동인구 데이터"
   ]
  },
  {
   "cell_type": "markdown",
   "metadata": {},
   "source": [
    "### 거주인구, 근무인구, 방문인구(내국인, 장기체류, 단기체류 구분 없음)"
   ]
  },
  {
   "cell_type": "code",
   "execution_count": 9,
   "metadata": {},
   "outputs": [
    {
     "name": "stderr",
     "output_type": "stream",
     "text": [
      "<ipython-input-9-abc814ca25f0>:1: FutureWarning: Indexing with multiple keys (implicitly converted to a tuple of keys) will be deprecated, use a list instead.\n",
      "  연도별내국인거주유동인구=df_2_1[df_2_1['resd']=='제주'].groupby(['Year'])['resd_pop_cnt','work_pop_cnt','visit_pop_cnt'].sum()\n",
      "<ipython-input-9-abc814ca25f0>:2: FutureWarning: Indexing with multiple keys (implicitly converted to a tuple of keys) will be deprecated, use a list instead.\n",
      "  연도별내국인관광유동인구=df_2_1[df_2_1['resd']=='그외'].groupby(['Year'])['work_pop_cnt','visit_pop_cnt'].sum()\n",
      "<ipython-input-9-abc814ca25f0>:3: FutureWarning: Indexing with multiple keys (implicitly converted to a tuple of keys) will be deprecated, use a list instead.\n",
      "  연도별장기체류외국인유동인구=df_2_2.groupby(['Year'])['resd_pop_cnt','work_pop_cnt','visit_pop_cnt'].sum()\n"
     ]
    },
    {
     "data": {
      "text/plain": [
       "<AxesSubplot:ylabel='Year'>"
      ]
     },
     "execution_count": 9,
     "metadata": {},
     "output_type": "execute_result"
    },
    {
     "data": {
      "image/png": "[encoded data removed]",
      "text/plain": [
       "<Figure size 432x288 with 1 Axes>"
      ]
     },
     "metadata": {
      "needs_background": "light"
     },
     "output_type": "display_data"
    },
    {
     "data": {
      "image/png": "[encoded data removed]",
      "text/plain": [
       "<Figure size 432x288 with 1 Axes>"
      ]
     },
     "metadata": {
      "needs_background": "light"
     },
     "output_type": "display_data"
    },
    {
     "data": {
      "image/png": "[encoded data removed]",
      "text/plain": [
       "<Figure size 432x288 with 1 Axes>"
      ]
     },
     "metadata": {
      "needs_background": "light"
     },
     "output_type": "display_data"
    },
    {
     "data": {
      "image/png": "[encoded data removed]",
      "text/plain": [
       "<Figure size 432x288 with 1 Axes>"
      ]
     },
     "metadata": {
      "needs_background": "light"
     },
     "output_type": "display_data"
    }
   ],
   "source": [
    "연도별내국인거주유동인구=df_2_1[df_2_1['resd']=='제주'].groupby(['Year'])['resd_pop_cnt','work_pop_cnt','visit_pop_cnt'].sum()\n",
    "연도별내국인관광유동인구=df_2_1[df_2_1['resd']=='그외'].groupby(['Year'])['work_pop_cnt','visit_pop_cnt'].sum()\n",
    "연도별장기체류외국인유동인구=df_2_2.groupby(['Year'])['resd_pop_cnt','work_pop_cnt','visit_pop_cnt'].sum()\n",
    "연도별단기체류외국인유동인구=pd.DataFrame(df_2_3.groupby(['Year'])['visit_pop_cnt'].sum())\n",
    "\n",
    "#누적막대그래프\n",
    "연도별내국인거주유동인구.plot(kind=\"barh\",stacked=True)\n",
    "연도별내국인관광유동인구.plot(kind=\"barh\",stacked=True)\n",
    "연도별장기체류외국인유동인구.plot(kind=\"barh\",stacked=True)\n",
    "연도별단기체류외국인유동인구.plot(kind=\"barh\",stacked=True)"
   ]
  },
  {
   "cell_type": "code",
   "execution_count": 10,
   "metadata": {},
   "outputs": [
    {
     "name": "stderr",
     "output_type": "stream",
     "text": [
      "<ipython-input-10-53bb63243932>:3: FutureWarning: Indexing with multiple keys (implicitly converted to a tuple of keys) will be deprecated, use a list instead.\n",
      "  연도별유동인구총합_df=연도별유동인구총합.groupby(['Year'])['resd_pop_cnt','work_pop_cnt','visit_pop_cnt'].sum()\n"
     ]
    },
    {
     "data": {
      "text/html": [
       "<div>\n",
       "<style scoped>\n",
       "    .dataframe tbody tr th:only-of-type {\n",
       "        vertical-align: middle;\n",
       "    }\n",
       "\n",
       "    .dataframe tbody tr th {\n",
       "        vertical-align: top;\n",
       "    }\n",
       "\n",
       "    .dataframe thead th {\n",
       "        text-align: right;\n",
       "    }\n",
       "</style>\n",
       "<table border=\"1\" class=\"dataframe\">\n",
       "  <thead>\n",
       "    <tr style=\"text-align: right;\">\n",
       "      <th></th>\n",
       "      <th>resd_pop_cnt</th>\n",
       "      <th>work_pop_cnt</th>\n",
       "      <th>visit_pop_cnt</th>\n",
       "    </tr>\n",
       "    <tr>\n",
       "      <th>Year</th>\n",
       "      <th></th>\n",
       "      <th></th>\n",
       "      <th></th>\n",
       "    </tr>\n",
       "  </thead>\n",
       "  <tbody>\n",
       "    <tr>\n",
       "      <th>2018</th>\n",
       "      <td>4.567631e+09</td>\n",
       "      <td>5.320153e+08</td>\n",
       "      <td>2.912026e+09</td>\n",
       "    </tr>\n",
       "    <tr>\n",
       "      <th>2019</th>\n",
       "      <td>4.608218e+09</td>\n",
       "      <td>5.341879e+08</td>\n",
       "      <td>3.011777e+09</td>\n",
       "    </tr>\n",
       "    <tr>\n",
       "      <th>2020</th>\n",
       "      <td>4.962676e+09</td>\n",
       "      <td>4.733263e+08</td>\n",
       "      <td>2.686271e+09</td>\n",
       "    </tr>\n",
       "    <tr>\n",
       "      <th>2021</th>\n",
       "      <td>2.667908e+09</td>\n",
       "      <td>2.377611e+08</td>\n",
       "      <td>1.397095e+09</td>\n",
       "    </tr>\n",
       "  </tbody>\n",
       "</table>\n",
       "</div>"
      ],
      "text/plain": [
       "      resd_pop_cnt  work_pop_cnt  visit_pop_cnt\n",
       "Year                                           \n",
       "2018  4.567631e+09  5.320153e+08   2.912026e+09\n",
       "2019  4.608218e+09  5.341879e+08   3.011777e+09\n",
       "2020  4.962676e+09  4.733263e+08   2.686271e+09\n",
       "2021  2.667908e+09  2.377611e+08   1.397095e+09"
      ]
     },
     "execution_count": 10,
     "metadata": {},
     "output_type": "execute_result"
    }
   ],
   "source": [
    "연도별유동인구총합=pd.concat([연도별내국인거주유동인구,연도별내국인관광유동인구,연도별장기체류외국인유동인구,연도별단기체류외국인유동인구])\n",
    "연도별유동인구총합=연도별유동인구총합.fillna(0)\n",
    "연도별유동인구총합_df=연도별유동인구총합.groupby(['Year'])['resd_pop_cnt','work_pop_cnt','visit_pop_cnt'].sum()\n",
    "연도별유동인구총합_df"
   ]
  },
  {
   "cell_type": "code",
   "execution_count": 11,
   "metadata": {},
   "outputs": [
    {
     "data": {
      "text/plain": [
       "Text(0.5, 1.0, '연도별 유동인구 총합')"
      ]
     },
     "execution_count": 11,
     "metadata": {},
     "output_type": "execute_result"
    },
    {
     "data": {
      "image/png": "[encoded data removed]",
      "text/plain": [
       "<Figure size 432x288 with 1 Axes>"
      ]
     },
     "metadata": {
      "needs_background": "light"
     },
     "output_type": "display_data"
    }
   ],
   "source": [
    "연도별유동인구총합_df.plot(kind=\"barh\",stacked=True)\n",
    "plt.title('연도별 유동인구 총합')"
   ]
  },
  {
   "cell_type": "markdown",
   "metadata": {},
   "source": [
    "### 세부적으로 모두 구분(\"내국인_거주\",\"내국인_근무\",\"내국인_방문\",\"장기체류_거주\",\"장기체류_근무\",\"장기체류_방문\",\"단기체류_방문\")"
   ]
  },
  {
   "cell_type": "code",
   "execution_count": 12,
   "metadata": {},
   "outputs": [
    {
     "data": {
      "image/png": "[encoded data removed]",
      "text/plain": [
       "<Figure size 792x504 with 1 Axes>"
      ]
     },
     "metadata": {
      "needs_background": "light"
     },
     "output_type": "display_data"
    }
   ],
   "source": [
    "연도별유동인구총합=pd.concat([연도별내국인거주유동인구,연도별내국인관광유동인구,연도별장기체류외국인유동인구,연도별단기체류외국인유동인구],axis=1)\n",
    "연도별유동인구총합=연도별유동인구총합.fillna(0)\n",
    "연도별유동인구총합.columns=[\"내국인거주_거주\",\"내국인거주_근무\",\"내국인거주_방문\",\"내국인관광_근무\",\"내국인관광_방문\",\"장기체류_거주\",\"장기체류_근무\",\"장기체류_방문\",\"단기체류_방문\"]\n",
    "연도별유동인구총합.plot(kind=\"barh\",stacked=True,figsize=(11,7))\n",
    "plt.title(\"연도별 유동인구 총합\")\n",
    "plt.legend(bbox_to_anchor=(1.195,0.7))\n",
    "plt.show()"
   ]
  },
  {
   "cell_type": "code",
   "execution_count": null,
   "metadata": {},
   "outputs": [],
   "source": []
  }
 ],
 "metadata": {
  "kernelspec": {
   "display_name": "Python 3",
   "language": "python",
   "name": "python3"
  },
  "language_info": {
   "codemirror_mode": {
    "name": "ipython",
    "version": 3
   },
   "file_extension": ".py",
   "mimetype": "text/x-python",
   "name": "python",
   "nbconvert_exporter": "python",
   "pygments_lexer": "ipython3",
   "version": "3.8.3"
  },
  "toc": {
   "base_numbering": 1,
   "nav_menu": {},
   "number_sections": true,
   "sideBar": true,
   "skip_h1_title": false,
   "title_cell": "Table of Contents",
   "title_sidebar": "Contents",
   "toc_cell": false,
   "toc_position": {},
   "toc_section_display": true,
   "toc_window_display": false
  }
 },
 "nbformat": 4,
 "nbformat_minor": 5
}
