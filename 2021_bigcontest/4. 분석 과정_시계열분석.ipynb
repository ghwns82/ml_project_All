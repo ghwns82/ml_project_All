{
 "cells": [
  {
   "cell_type": "code",
   "execution_count": 1,
   "metadata": {
    "ExecuteTime": {
     "end_time": "2021-09-14T09:37:58.822576Z",
     "start_time": "2021-09-14T09:37:56.394764Z"
    }
   },
   "outputs": [],
   "source": [
    "from datetime import datetime\n",
    "import pandas as pd\n",
    "import numpy as np\n",
    "from scipy import stats\n",
    "from math import ceil\n"
   ]
  },
  {
   "cell_type": "code",
   "execution_count": 2,
   "metadata": {
    "ExecuteTime": {
     "end_time": "2021-09-14T09:37:58.838575Z",
     "start_time": "2021-09-14T09:37:58.823577Z"
    }
   },
   "outputs": [],
   "source": [
    "def open_df(name):\n",
    "    data=open(name,'rt')\n",
    "    df_data=pd.read_csv(data,low_memory=False)\n",
    "    return df_data"
   ]
  },
  {
   "cell_type": "code",
   "execution_count": 3,
   "metadata": {
    "ExecuteTime": {
     "end_time": "2021-09-14T09:39:34.347837Z",
     "start_time": "2021-09-14T09:38:35.080289Z"
    }
   },
   "outputs": [],
   "source": [
    "df_2_1=pd.read_csv('02-1_내국인유동인구_KOREAN.CSV',encoding='euc-kr')"
   ]
  },
  {
   "cell_type": "code",
   "execution_count": 4,
   "metadata": {
    "ExecuteTime": {
     "end_time": "2021-09-14T09:40:08.041420Z",
     "start_time": "2021-09-14T09:39:34.348828Z"
    }
   },
   "outputs": [],
   "source": [
    "df_2_2=open_df('02-2_장기체류 외국인 유동인구_LONG_TERM_FRGN.CSV')"
   ]
  },
  {
   "cell_type": "code",
   "execution_count": 5,
   "metadata": {
    "ExecuteTime": {
     "end_time": "2021-09-14T09:40:14.227408Z",
     "start_time": "2021-09-14T09:40:08.042421Z"
    }
   },
   "outputs": [],
   "source": [
    "df_2_3=open_df('02-3_단기체류 외국인 유동인구_SHORT_TERM_FRGN.CSV')"
   ]
  },
  {
   "cell_type": "code",
   "execution_count": 6,
   "metadata": {
    "ExecuteTime": {
     "end_time": "2021-09-14T09:40:14.973408Z",
     "start_time": "2021-09-14T09:40:14.228410Z"
    }
   },
   "outputs": [],
   "source": [
    "df_4=open_df('04_음식관련 카드소비_CARD_SPENDING.CSV')"
   ]
  },
  {
   "cell_type": "code",
   "execution_count": 7,
   "metadata": {
    "ExecuteTime": {
     "end_time": "2021-09-14T09:41:11.170677Z",
     "start_time": "2021-09-14T09:41:09.629299Z"
    }
   },
   "outputs": [],
   "source": [
    "from fbprophet import Prophet"
   ]
  },
  {
   "cell_type": "code",
   "execution_count": 8,
   "metadata": {
    "ExecuteTime": {
     "end_time": "2021-09-14T09:41:13.375684Z",
     "start_time": "2021-09-14T09:41:11.171693Z"
    }
   },
   "outputs": [],
   "source": [
    "동네리스트=sorted(df_2_1['emd_nm'].unique())"
   ]
  },
  {
   "cell_type": "markdown",
   "metadata": {},
   "source": [
    "### * 내국인도 실제 거주민과 그게 아닌 사람들로 구분.\n",
    "### * 실제 거주민이 아닌 경우는 관광객이거나 일을 하러 온 사람이므로."
   ]
  },
  {
   "cell_type": "code",
   "execution_count": 9,
   "metadata": {
    "ExecuteTime": {
     "end_time": "2021-09-14T09:41:27.015681Z",
     "start_time": "2021-09-14T09:41:13.376684Z"
    }
   },
   "outputs": [],
   "source": [
    "내국인=df_2_1[df_2_1['resd']=='제주']\n",
    "내국인관광=df_2_1[df_2_1['resd']=='그외']\n",
    "내국인관광=내국인관광.reset_index()\n",
    "내국인=내국인.reset_index()"
   ]
  },
  {
   "cell_type": "code",
   "execution_count": 10,
   "metadata": {
    "ExecuteTime": {
     "end_time": "2021-09-14T09:41:27.031681Z",
     "start_time": "2021-09-14T09:41:27.016684Z"
    }
   },
   "outputs": [],
   "source": [
    "장기외국인=df_2_2\n",
    "단기외국인=df_2_3"
   ]
  },
  {
   "cell_type": "code",
   "execution_count": 11,
   "metadata": {
    "ExecuteTime": {
     "end_time": "2021-09-14T09:42:14.859693Z",
     "start_time": "2021-09-14T09:41:27.032682Z"
    }
   },
   "outputs": [],
   "source": [
    "for i in 동네리스트:\n",
    "    k=내국인[내국인['emd_nm']==i]\n",
    "    globals()['{}내국인'.format(i)]=k"
   ]
  },
  {
   "cell_type": "code",
   "execution_count": 12,
   "metadata": {
    "ExecuteTime": {
     "end_time": "2021-09-14T09:43:03.676271Z",
     "start_time": "2021-09-14T09:42:14.889693Z"
    }
   },
   "outputs": [],
   "source": [
    "for i in 동네리스트:\n",
    "    k=내국인관광[내국인관광['emd_nm']==i]\n",
    "    globals()['{}내국인관광'.format(i)]=k"
   ]
  },
  {
   "cell_type": "code",
   "execution_count": 13,
   "metadata": {
    "ExecuteTime": {
     "end_time": "2021-09-14T09:44:20.568083Z",
     "start_time": "2021-09-14T09:43:03.716003Z"
    }
   },
   "outputs": [],
   "source": [
    "for i in 동네리스트:\n",
    "    k=장기외국인[장기외국인['emd_nm']==i]\n",
    "    globals()['{}장기외국인'.format(i)]=k"
   ]
  },
  {
   "cell_type": "code",
   "execution_count": 14,
   "metadata": {
    "ExecuteTime": {
     "end_time": "2021-09-14T09:45:05.102824Z",
     "start_time": "2021-09-14T09:44:20.648655Z"
    }
   },
   "outputs": [],
   "source": [
    "for i in 동네리스트:\n",
    "    k=단기외국인[단기외국인['emd_nm']==i]\n",
    "    globals()['{}단기외국인'.format(i)]=k"
   ]
  },
  {
   "cell_type": "markdown",
   "metadata": {
    "ExecuteTime": {
     "end_time": "2021-09-14T13:34:57.797146Z",
     "start_time": "2021-09-14T13:34:57.782155Z"
    }
   },
   "source": [
    "* 제주도에 거주하는 내국인 , 제주도에 거주하지 않는 내국인\n",
    "* 장기체류 외국인\n",
    "* 단기체류 외국인\n",
    "* 위 데이터를 동별로 전역변수로 설정해줌"
   ]
  },
  {
   "cell_type": "markdown",
   "metadata": {},
   "source": [
    "### * 제주도 거주 내국인의 resd_pop, work_pop, visit_pop을 따로 전역변수에 저장"
   ]
  },
  {
   "cell_type": "code",
   "execution_count": 15,
   "metadata": {
    "ExecuteTime": {
     "end_time": "2021-09-14T09:48:41.128113Z",
     "start_time": "2021-09-14T09:45:05.532239Z"
    }
   },
   "outputs": [],
   "source": [
    "for i in 동네리스트:\n",
    "    k=pd.DataFrame(globals()['{}내국인'.format(i)])\n",
    "    k=k.groupby(['base_date'])['resd_pop_cnt'].mean()*18\n",
    "    k=k.reset_index()\n",
    "    k.columns=['ds','y']\n",
    "    globals()['내국인R_{}'.format(i)]=k\n",
    "    \n",
    "for i in 동네리스트:\n",
    "    m=Prophet(daily_seasonality=True)\n",
    "    k=globals()['내국인R_{}'.format(i)]\n",
    "    m.fit(k)\n",
    "    future=m.make_future_dataframe(periods=62)\n",
    "    pre_future=m.predict(future)\n",
    "    globals()['예상내국인R_{}'.format(i)]=pre_future"
   ]
  },
  {
   "cell_type": "code",
   "execution_count": 16,
   "metadata": {
    "ExecuteTime": {
     "end_time": "2021-09-14T09:50:22.257933Z",
     "start_time": "2021-09-14T09:48:41.144113Z"
    }
   },
   "outputs": [],
   "source": [
    "for i in 동네리스트:\n",
    "    k=pd.DataFrame(globals()['{}내국인'.format(i)])\n",
    "    k=k.groupby(['base_date'])['work_pop_cnt'].mean()*18\n",
    "    k=k.reset_index()\n",
    "    k.columns=['ds','y']\n",
    "    globals()['내국인W_{}'.format(i)]=k\n",
    "    \n",
    "for i in 동네리스트:\n",
    "    m=Prophet(daily_seasonality=True)\n",
    "    k=globals()['내국인W_{}'.format(i)]\n",
    "    m.fit(k)\n",
    "    future=m.make_future_dataframe(periods=62)\n",
    "    pre_future=m.predict(future)\n",
    "    globals()['예상내국인W_{}'.format(i)]=pre_future"
   ]
  },
  {
   "cell_type": "code",
   "execution_count": 17,
   "metadata": {
    "ExecuteTime": {
     "end_time": "2021-09-14T09:52:04.432395Z",
     "start_time": "2021-09-14T09:50:22.264933Z"
    }
   },
   "outputs": [],
   "source": [
    "for i in 동네리스트:\n",
    "    k=pd.DataFrame(globals()['{}내국인'.format(i)])\n",
    "    k=k.groupby(['base_date'])['visit_pop_cnt'].mean()*18\n",
    "    k=k.reset_index()\n",
    "    k.columns=['ds','y']\n",
    "    globals()['내국인V_{}'.format(i)]=k\n",
    "\n",
    "for i in 동네리스트:\n",
    "    m=Prophet(daily_seasonality=True)\n",
    "    k=globals()['내국인V_{}'.format(i)]\n",
    "    m.fit(k)\n",
    "    future=m.make_future_dataframe(periods=62)\n",
    "    pre_future=m.predict(future)\n",
    "    globals()['예상내국인V_{}'.format(i)]=pre_future "
   ]
  },
  {
   "cell_type": "markdown",
   "metadata": {},
   "source": [
    "### * 제주도 거주하지 않는 내국인의 resd_pop, work_pop, visit_pop을 따로 전역변수에 저장"
   ]
  },
  {
   "cell_type": "code",
   "execution_count": 18,
   "metadata": {
    "ExecuteTime": {
     "end_time": "2021-09-14T09:53:49.111784Z",
     "start_time": "2021-09-14T09:52:04.437398Z"
    }
   },
   "outputs": [],
   "source": [
    "for i in 동네리스트:\n",
    "    k=pd.DataFrame(globals()['{}내국인관광'.format(i)])\n",
    "    k=k.groupby(['base_date'])['work_pop_cnt'].mean()*18\n",
    "    k=k.reset_index()\n",
    "    k.columns=['ds','y']\n",
    "    globals()['내국인관광W_{}'.format(i)]=k\n",
    "    \n",
    "for i in 동네리스트:\n",
    "    m=Prophet(daily_seasonality=True)\n",
    "    k=globals()['내국인관광W_{}'.format(i)]\n",
    "    m.fit(k)\n",
    "    future=m.make_future_dataframe(periods=62)\n",
    "    pre_future=m.predict(future)\n",
    "    globals()['예상내국인관광W_{}'.format(i)]=pre_future"
   ]
  },
  {
   "cell_type": "code",
   "execution_count": 19,
   "metadata": {
    "ExecuteTime": {
     "end_time": "2021-09-14T09:55:26.122738Z",
     "start_time": "2021-09-14T09:53:49.112774Z"
    }
   },
   "outputs": [],
   "source": [
    "for i in 동네리스트:\n",
    "    k=pd.DataFrame(globals()['{}내국인관광'.format(i)])\n",
    "    k=k.groupby(['base_date'])['visit_pop_cnt'].mean()*19\n",
    "    k=k.reset_index()\n",
    "    k.columns=['ds','y']\n",
    "    globals()['내국인관광V_{}'.format(i)]=k\n",
    "    \n",
    "for i in 동네리스트:\n",
    "    m=Prophet(daily_seasonality=True)\n",
    "    k=globals()['내국인관광V_{}'.format(i)]\n",
    "    m.fit(k)\n",
    "    future=m.make_future_dataframe(periods=62)\n",
    "    pre_future=m.predict(future)\n",
    "    globals()['예상내국인관광V_{}'.format(i)]=pre_future"
   ]
  },
  {
   "cell_type": "markdown",
   "metadata": {},
   "source": [
    "### * 장기외국인의 resd_pop, work_pop, visit_pop을 따로 전역변수에 저장"
   ]
  },
  {
   "cell_type": "code",
   "execution_count": 20,
   "metadata": {
    "ExecuteTime": {
     "end_time": "2021-09-14T09:57:08.820927Z",
     "start_time": "2021-09-14T09:55:26.159738Z"
    }
   },
   "outputs": [],
   "source": [
    "for i in 동네리스트:\n",
    "    k=pd.DataFrame(globals()['{}장기외국인'.format(i)])\n",
    "    k=k.groupby(['base_date'])['resd_pop_cnt'].mean()*19\n",
    "    k=k.reset_index()\n",
    "    k.columns=['ds','y']\n",
    "    globals()['장기외국인R_{}'.format(i)]=k\n",
    "    \n",
    "for i in 동네리스트:\n",
    "    m=Prophet(daily_seasonality=True)\n",
    "    k=globals()['장기외국인R_{}'.format(i)]\n",
    "    m.fit(k)\n",
    "    future=m.make_future_dataframe(periods=62)\n",
    "    pre_future=m.predict(future)\n",
    "    globals()['예상장기외국인R_{}'.format(i)]=pre_future"
   ]
  },
  {
   "cell_type": "code",
   "execution_count": 21,
   "metadata": {
    "ExecuteTime": {
     "end_time": "2021-09-14T09:58:43.252858Z",
     "start_time": "2021-09-14T09:57:08.827931Z"
    }
   },
   "outputs": [],
   "source": [
    "for i in 동네리스트:\n",
    "    k=pd.DataFrame(globals()['{}장기외국인'.format(i)])\n",
    "    k=k.groupby(['base_date'])['work_pop_cnt'].mean()*19\n",
    "    k=k.reset_index()\n",
    "    k.columns=['ds','y']\n",
    "    globals()['장기외국인W_{}'.format(i)]=k\n",
    "    \n",
    "for i in 동네리스트:\n",
    "    m=Prophet(daily_seasonality=True)\n",
    "    k=globals()['장기외국인W_{}'.format(i)]\n",
    "    m.fit(k)\n",
    "    future=m.make_future_dataframe(periods=62)\n",
    "    pre_future=m.predict(future)\n",
    "    globals()['예상장기외국인W_{}'.format(i)]=pre_future"
   ]
  },
  {
   "cell_type": "code",
   "execution_count": 22,
   "metadata": {
    "ExecuteTime": {
     "end_time": "2021-09-14T10:00:17.534408Z",
     "start_time": "2021-09-14T09:58:43.253848Z"
    }
   },
   "outputs": [],
   "source": [
    "for i in 동네리스트:\n",
    "    k=pd.DataFrame(globals()['{}장기외국인'.format(i)])\n",
    "    k=k.groupby(['base_date'])['visit_pop_cnt'].mean()*19\n",
    "    k=k.reset_index()\n",
    "    k.columns=['ds','y']\n",
    "    globals()['장기외국인V_{}'.format(i)]=k\n",
    "    \n",
    "for i in 동네리스트:\n",
    "    m=Prophet(daily_seasonality=True)\n",
    "    k=globals()['장기외국인V_{}'.format(i)]\n",
    "    m.fit(k)\n",
    "    future=m.make_future_dataframe(periods=62)\n",
    "    pre_future=m.predict(future)\n",
    "    globals()['예상장기외국인V_{}'.format(i)]=pre_future"
   ]
  },
  {
   "cell_type": "markdown",
   "metadata": {},
   "source": [
    "### * 단기외국인 visit_pop을 따로 전역변수에 저장"
   ]
  },
  {
   "cell_type": "code",
   "execution_count": 23,
   "metadata": {
    "ExecuteTime": {
     "end_time": "2021-09-14T10:02:06.604708Z",
     "start_time": "2021-09-14T10:00:17.535409Z"
    }
   },
   "outputs": [],
   "source": [
    "for i in 동네리스트:\n",
    "    k=pd.DataFrame(globals()['{}단기외국인'.format(i)])\n",
    "    k=k.groupby(['base_date'])['visit_pop_cnt'].mean()*19\n",
    "    k=k.reset_index()\n",
    "    k.columns=['ds','y']\n",
    "    globals()['단기외국인V_{}'.format(i)]=k\n",
    "    \n",
    "for i in 동네리스트:\n",
    "    m=Prophet(daily_seasonality=True)\n",
    "    k=globals()['단기외국인V_{}'.format(i)]\n",
    "    m.fit(k)\n",
    "    future=m.make_future_dataframe(periods=62)\n",
    "    pre_future=m.predict(future)\n",
    "    globals()['예상단기외국인V_{}'.format(i)]=pre_future"
   ]
  },
  {
   "cell_type": "markdown",
   "metadata": {},
   "source": [
    "### * 카드 예측값 \n",
    "\n",
    "### * 원핫인코딩과 결제 횟수를 이용해서 새로운 카드 데이터를 만듦"
   ]
  },
  {
   "cell_type": "code",
   "execution_count": 24,
   "metadata": {
    "ExecuteTime": {
     "end_time": "2021-09-14T10:02:07.502490Z",
     "start_time": "2021-09-14T10:02:06.605708Z"
    }
   },
   "outputs": [
    {
     "data": {
      "text/html": [
       "<div>\n",
       "<style scoped>\n",
       "    .dataframe tbody tr th:only-of-type {\n",
       "        vertical-align: middle;\n",
       "    }\n",
       "\n",
       "    .dataframe tbody tr th {\n",
       "        vertical-align: top;\n",
       "    }\n",
       "\n",
       "    .dataframe thead th {\n",
       "        text-align: right;\n",
       "    }\n",
       "</style>\n",
       "<table border=\"1\" class=\"dataframe\">\n",
       "  <thead>\n",
       "    <tr style=\"text-align: right;\">\n",
       "      <th></th>\n",
       "      <th>base_date</th>\n",
       "      <th>emd_nm</th>\n",
       "      <th>간식</th>\n",
       "      <th>농축수산물</th>\n",
       "      <th>마트/슈퍼마켓</th>\n",
       "      <th>배달</th>\n",
       "      <th>부페</th>\n",
       "      <th>식품</th>\n",
       "      <th>아시아음식</th>\n",
       "      <th>양식</th>\n",
       "      <th>주점및주류판매</th>\n",
       "      <th>패스트푸드</th>\n",
       "      <th>한식</th>\n",
       "    </tr>\n",
       "  </thead>\n",
       "  <tbody>\n",
       "    <tr>\n",
       "      <th>0</th>\n",
       "      <td>2018-01-01</td>\n",
       "      <td>건입동</td>\n",
       "      <td>79</td>\n",
       "      <td>34</td>\n",
       "      <td>589</td>\n",
       "      <td>5</td>\n",
       "      <td>0</td>\n",
       "      <td>152</td>\n",
       "      <td>44</td>\n",
       "      <td>49</td>\n",
       "      <td>10</td>\n",
       "      <td>93</td>\n",
       "      <td>751</td>\n",
       "    </tr>\n",
       "    <tr>\n",
       "      <th>1</th>\n",
       "      <td>2018-01-01</td>\n",
       "      <td>구좌읍</td>\n",
       "      <td>79</td>\n",
       "      <td>25</td>\n",
       "      <td>329</td>\n",
       "      <td>5</td>\n",
       "      <td>0</td>\n",
       "      <td>231</td>\n",
       "      <td>25</td>\n",
       "      <td>10</td>\n",
       "      <td>0</td>\n",
       "      <td>39</td>\n",
       "      <td>437</td>\n",
       "    </tr>\n",
       "    <tr>\n",
       "      <th>2</th>\n",
       "      <td>2018-01-01</td>\n",
       "      <td>남원읍</td>\n",
       "      <td>108</td>\n",
       "      <td>54</td>\n",
       "      <td>466</td>\n",
       "      <td>25</td>\n",
       "      <td>5</td>\n",
       "      <td>295</td>\n",
       "      <td>34</td>\n",
       "      <td>15</td>\n",
       "      <td>5</td>\n",
       "      <td>93</td>\n",
       "      <td>481</td>\n",
       "    </tr>\n",
       "    <tr>\n",
       "      <th>3</th>\n",
       "      <td>2018-01-01</td>\n",
       "      <td>노형동</td>\n",
       "      <td>1007</td>\n",
       "      <td>216</td>\n",
       "      <td>4905</td>\n",
       "      <td>123</td>\n",
       "      <td>15</td>\n",
       "      <td>943</td>\n",
       "      <td>363</td>\n",
       "      <td>236</td>\n",
       "      <td>54</td>\n",
       "      <td>987</td>\n",
       "      <td>3658</td>\n",
       "    </tr>\n",
       "    <tr>\n",
       "      <th>4</th>\n",
       "      <td>2018-01-01</td>\n",
       "      <td>대륜동</td>\n",
       "      <td>128</td>\n",
       "      <td>29</td>\n",
       "      <td>859</td>\n",
       "      <td>20</td>\n",
       "      <td>0</td>\n",
       "      <td>142</td>\n",
       "      <td>64</td>\n",
       "      <td>34</td>\n",
       "      <td>15</td>\n",
       "      <td>167</td>\n",
       "      <td>574</td>\n",
       "    </tr>\n",
       "    <tr>\n",
       "      <th>...</th>\n",
       "      <td>...</td>\n",
       "      <td>...</td>\n",
       "      <td>...</td>\n",
       "      <td>...</td>\n",
       "      <td>...</td>\n",
       "      <td>...</td>\n",
       "      <td>...</td>\n",
       "      <td>...</td>\n",
       "      <td>...</td>\n",
       "      <td>...</td>\n",
       "      <td>...</td>\n",
       "      <td>...</td>\n",
       "      <td>...</td>\n",
       "    </tr>\n",
       "    <tr>\n",
       "      <th>54906</th>\n",
       "      <td>2021-06-30</td>\n",
       "      <td>표선면</td>\n",
       "      <td>60</td>\n",
       "      <td>35</td>\n",
       "      <td>423</td>\n",
       "      <td>75</td>\n",
       "      <td>0</td>\n",
       "      <td>236</td>\n",
       "      <td>20</td>\n",
       "      <td>35</td>\n",
       "      <td>10</td>\n",
       "      <td>45</td>\n",
       "      <td>397</td>\n",
       "    </tr>\n",
       "    <tr>\n",
       "      <th>54907</th>\n",
       "      <td>2021-06-30</td>\n",
       "      <td>한경면</td>\n",
       "      <td>80</td>\n",
       "      <td>20</td>\n",
       "      <td>423</td>\n",
       "      <td>40</td>\n",
       "      <td>0</td>\n",
       "      <td>241</td>\n",
       "      <td>40</td>\n",
       "      <td>25</td>\n",
       "      <td>5</td>\n",
       "      <td>70</td>\n",
       "      <td>342</td>\n",
       "    </tr>\n",
       "    <tr>\n",
       "      <th>54908</th>\n",
       "      <td>2021-06-30</td>\n",
       "      <td>한림읍</td>\n",
       "      <td>136</td>\n",
       "      <td>80</td>\n",
       "      <td>669</td>\n",
       "      <td>257</td>\n",
       "      <td>5</td>\n",
       "      <td>599</td>\n",
       "      <td>106</td>\n",
       "      <td>80</td>\n",
       "      <td>0</td>\n",
       "      <td>166</td>\n",
       "      <td>946</td>\n",
       "    </tr>\n",
       "    <tr>\n",
       "      <th>54909</th>\n",
       "      <td>2021-06-30</td>\n",
       "      <td>화북동</td>\n",
       "      <td>362</td>\n",
       "      <td>352</td>\n",
       "      <td>1645</td>\n",
       "      <td>644</td>\n",
       "      <td>0</td>\n",
       "      <td>513</td>\n",
       "      <td>146</td>\n",
       "      <td>50</td>\n",
       "      <td>15</td>\n",
       "      <td>282</td>\n",
       "      <td>1635</td>\n",
       "    </tr>\n",
       "    <tr>\n",
       "      <th>54910</th>\n",
       "      <td>2021-06-30</td>\n",
       "      <td>효돈동</td>\n",
       "      <td>15</td>\n",
       "      <td>45</td>\n",
       "      <td>322</td>\n",
       "      <td>15</td>\n",
       "      <td>0</td>\n",
       "      <td>151</td>\n",
       "      <td>25</td>\n",
       "      <td>5</td>\n",
       "      <td>0</td>\n",
       "      <td>30</td>\n",
       "      <td>106</td>\n",
       "    </tr>\n",
       "  </tbody>\n",
       "</table>\n",
       "<p>54911 rows × 13 columns</p>\n",
       "</div>"
      ],
      "text/plain": [
       "        base_date emd_nm    간식  농축수산물  마트/슈퍼마켓   배달  부페   식품  아시아음식   양식  \\\n",
       "0      2018-01-01    건입동    79     34      589    5   0  152     44   49   \n",
       "1      2018-01-01    구좌읍    79     25      329    5   0  231     25   10   \n",
       "2      2018-01-01    남원읍   108     54      466   25   5  295     34   15   \n",
       "3      2018-01-01    노형동  1007    216     4905  123  15  943    363  236   \n",
       "4      2018-01-01    대륜동   128     29      859   20   0  142     64   34   \n",
       "...           ...    ...   ...    ...      ...  ...  ..  ...    ...  ...   \n",
       "54906  2021-06-30    표선면    60     35      423   75   0  236     20   35   \n",
       "54907  2021-06-30    한경면    80     20      423   40   0  241     40   25   \n",
       "54908  2021-06-30    한림읍   136     80      669  257   5  599    106   80   \n",
       "54909  2021-06-30    화북동   362    352     1645  644   0  513    146   50   \n",
       "54910  2021-06-30    효돈동    15     45      322   15   0  151     25    5   \n",
       "\n",
       "       주점및주류판매  패스트푸드    한식  \n",
       "0           10     93   751  \n",
       "1            0     39   437  \n",
       "2            5     93   481  \n",
       "3           54    987  3658  \n",
       "4           15    167   574  \n",
       "...        ...    ...   ...  \n",
       "54906       10     45   397  \n",
       "54907        5     70   342  \n",
       "54908        0    166   946  \n",
       "54909       15    282  1635  \n",
       "54910        0     30   106  \n",
       "\n",
       "[54911 rows x 13 columns]"
      ]
     },
     "execution_count": 24,
     "metadata": {},
     "output_type": "execute_result"
    }
   ],
   "source": [
    "df=df_4.drop([\"city\", \"emd_cd\", \"mct_cat_cd\", \"use_amt\"], axis=1)\n",
    "df = pd.get_dummies(df, columns=['mct_cat_nm'])\n",
    "df = df[df[\"emd_nm\"] != \"알수없음\"]\n",
    "df[\"간식\"] = df[\"mct_cat_nm_간식\"]*df[\"use_cnt\"]\n",
    "df[\"농축수산물\"] = df[\"mct_cat_nm_농축수산물\"]*df[\"use_cnt\"]\n",
    "df[\"마트/슈퍼마켓\"] = df[\"mct_cat_nm_마트/슈퍼마켓\"]*df[\"use_cnt\"]\n",
    "df[\"배달\"] = df[\"mct_cat_nm_배달\"]*df[\"use_cnt\"]\n",
    "df[\"부페\"] = df[\"mct_cat_nm_부페\"]*df[\"use_cnt\"]\n",
    "df[\"식품\"] = df[\"mct_cat_nm_식품\"]*df[\"use_cnt\"]\n",
    "df[\"아시아음식\"] = df[\"mct_cat_nm_아시아음식\"]*df[\"use_cnt\"]\n",
    "df[\"양식\"] = df[\"mct_cat_nm_양식\"]*df[\"use_cnt\"]\n",
    "df[\"주점및주류판매\"] = df[\"mct_cat_nm_주점및주류판매\"]*df[\"use_cnt\"]\n",
    "df[\"패스트푸드\"] = df[\"mct_cat_nm_패스트푸드\"]*df[\"use_cnt\"]\n",
    "df[\"한식\"] = df[\"mct_cat_nm_한식\"]*df[\"use_cnt\"]\n",
    "df = df.drop([\n",
    "    \"mct_cat_nm_간식\",\"mct_cat_nm_농축수산물\",\"mct_cat_nm_마트/슈퍼마켓\", \"mct_cat_nm_배달\"\n",
    "    ,\"mct_cat_nm_부페\", \"mct_cat_nm_식품\", \"mct_cat_nm_아시아음식\",\"mct_cat_nm_양식\",\n",
    "    \"mct_cat_nm_주점및주류판매\",\"mct_cat_nm_패스트푸드\", \"mct_cat_nm_한식\", \"use_cnt\"\n",
    "], axis=1)\n",
    "카드=df.groupby(['base_date','emd_nm']).sum()\n",
    "카드=카드.reset_index()\n",
    "카드"
   ]
  },
  {
   "cell_type": "code",
   "execution_count": 25,
   "metadata": {
    "ExecuteTime": {
     "end_time": "2021-09-14T10:02:07.644488Z",
     "start_time": "2021-09-14T10:02:07.503489Z"
    }
   },
   "outputs": [],
   "source": [
    "for i in 동네리스트:\n",
    "    k=카드[카드['emd_nm']==i]\n",
    "    globals()['{}카드'.format(i)]=k"
   ]
  },
  {
   "cell_type": "code",
   "execution_count": 26,
   "metadata": {
    "ExecuteTime": {
     "end_time": "2021-09-14T10:02:07.818266Z",
     "start_time": "2021-09-14T10:02:07.664489Z"
    }
   },
   "outputs": [],
   "source": [
    "카드목록=df.columns[2:]"
   ]
  },
  {
   "cell_type": "markdown",
   "metadata": {},
   "source": [
    "### * 사용한 품목을 동네별로 전역변수를 만들어줌"
   ]
  },
  {
   "cell_type": "code",
   "execution_count": 27,
   "metadata": {
    "ExecuteTime": {
     "end_time": "2021-09-14T10:02:08.643700Z",
     "start_time": "2021-09-14T10:02:07.834263Z"
    }
   },
   "outputs": [],
   "source": [
    "for t in 카드목록:     \n",
    "    for i in 동네리스트:\n",
    "        k=pd.DataFrame(globals()['{}카드'.format(i)])\n",
    "        k=k.groupby(['base_date'])[t].sum()\n",
    "        k=k.reset_index()\n",
    "        k.columns=['ds','y']\n",
    "        globals()['{}카드_{}'.format(i,t)]=k\n"
   ]
  },
  {
   "cell_type": "code",
   "execution_count": 30,
   "metadata": {
    "ExecuteTime": {
     "end_time": "2021-09-14T10:44:46.901427Z",
     "start_time": "2021-09-14T10:29:58.480011Z"
    }
   },
   "outputs": [],
   "source": [
    "for t in 카드목록:    \n",
    "    for i in 동네리스트:\n",
    "        m=Prophet(daily_seasonality=True)\n",
    "        k=globals()['{}카드_{}'.format(i,t)]\n",
    "        m.fit(k)\n",
    "        future=m.make_future_dataframe(periods=62)\n",
    "        pre_future=m.predict(future)\n",
    "        globals()['예상{}카드_{}'.format(i,t)]=pre_future"
   ]
  },
  {
   "cell_type": "markdown",
   "metadata": {
    "ExecuteTime": {
     "end_time": "2021-09-14T00:24:57.622945Z",
     "start_time": "2021-09-14T00:24:57.567924Z"
    }
   },
   "source": [
    "### * 사용하고자 하는 값은 7월 1일~ 8월 31일 이므로 tail(62)를 사용해서 데이터를 저장\n",
    "### * 위에서 저장한 예측값들을 전부 7월 8월 예측값으로 나누어 DataFrame형식으로 저장\n",
    "### * 그리고 빈 DataFrame 총데이터에 전부 concat"
   ]
  },
  {
   "cell_type": "code",
   "execution_count": 31,
   "metadata": {
    "ExecuteTime": {
     "end_time": "2021-09-14T10:47:53.663450Z",
     "start_time": "2021-09-14T10:47:53.651452Z"
    }
   },
   "outputs": [],
   "source": [
    "총데이터=pd.DataFrame()"
   ]
  },
  {
   "cell_type": "code",
   "execution_count": 32,
   "metadata": {
    "ExecuteTime": {
     "end_time": "2021-09-14T10:47:54.266361Z",
     "start_time": "2021-09-14T10:47:54.182360Z"
    }
   },
   "outputs": [],
   "source": [
    "데이터=pd.DataFrame()\n",
    "for i in 동네리스트:\n",
    "    넣을값=globals()['예상내국인R_{}'.format(i)]['yhat'].tail(62)\n",
    "    넣을값=pd.DataFrame(넣을값)\n",
    "    넣을값.columns=[i]\n",
    "    데이터=pd.concat([데이터,넣을값],axis=1)\n",
    "거주민데이터R=데이터.reset_index()\n",
    "\n",
    "거주민7월예측데이터R=거주민데이터R[(거주민데이터R['index']>=1277) & (거주민데이터R['index']<1308)]\n",
    "거주민7월예측데이터R=거주민7월예측데이터R.drop('index',axis=1)\n",
    "거주민7월예측데이터R=거주민7월예측데이터R.mean()\n",
    "거주민7월예측데이터R=pd.DataFrame(거주민7월예측데이터R)\n",
    "거주민8월예측데이터R=거주민데이터R[(거주민데이터R['index']>=1308)]\n",
    "거주민8월예측데이터R=거주민8월예측데이터R.drop('index',axis=1)\n",
    "거주민8월예측데이터R=거주민8월예측데이터R.mean()\n",
    "거주민8월예측데이터R=pd.DataFrame(거주민8월예측데이터R)\n",
    "\n",
    "총데이터=pd.concat([총데이터,거주민7월예측데이터R,거주민8월예측데이터R],axis=1)"
   ]
  },
  {
   "cell_type": "code",
   "execution_count": 33,
   "metadata": {
    "ExecuteTime": {
     "end_time": "2021-09-14T10:47:54.646123Z",
     "start_time": "2021-09-14T10:47:54.533071Z"
    }
   },
   "outputs": [],
   "source": [
    "데이터=pd.DataFrame()\n",
    "\n",
    "for i in 동네리스트:\n",
    "    넣을값=globals()['예상내국인W_{}'.format(i)]['yhat'].tail(62)\n",
    "    넣을값=pd.DataFrame(넣을값)\n",
    "    넣을값.columns=[i]\n",
    "    데이터=pd.concat([데이터,넣을값],axis=1)\n",
    "거주민데이터W=데이터.reset_index()\n",
    "\n",
    "거주민7월예측데이터W=거주민데이터W[(거주민데이터W['index']>=1277) & (거주민데이터W['index']<1308)]\n",
    "거주민7월예측데이터W=거주민7월예측데이터W.drop('index',axis=1)\n",
    "거주민7월예측데이터W=거주민7월예측데이터W.mean()\n",
    "거주민7월예측데이터W=pd.DataFrame(거주민7월예측데이터W)\n",
    "거주민8월예측데이터W=거주민데이터W[(거주민데이터W['index']>=1308)]\n",
    "거주민8월예측데이터W=거주민8월예측데이터W.drop('index',axis=1)\n",
    "거주민8월예측데이터W=거주민8월예측데이터W.mean()\n",
    "거주민8월예측데이터W=pd.DataFrame(거주민8월예측데이터W)\n",
    "\n",
    "총데이터=pd.concat([총데이터,거주민7월예측데이터W,거주민8월예측데이터W],axis=1)"
   ]
  },
  {
   "cell_type": "code",
   "execution_count": 34,
   "metadata": {
    "ExecuteTime": {
     "end_time": "2021-09-14T10:47:55.075299Z",
     "start_time": "2021-09-14T10:47:54.968299Z"
    }
   },
   "outputs": [],
   "source": [
    "데이터=pd.DataFrame()\n",
    "\n",
    "for i in 동네리스트:\n",
    "    넣을값=globals()['예상내국인V_{}'.format(i)]['yhat'].tail(62)\n",
    "    넣을값=pd.DataFrame(넣을값)\n",
    "    넣을값.columns=[i]\n",
    "    데이터=pd.concat([데이터,넣을값],axis=1)\n",
    "거주민데이터V=데이터.reset_index()\n",
    "\n",
    "거주민7월예측데이터V=거주민데이터V[(거주민데이터V['index']>=1277) & (거주민데이터V['index']<1308)]\n",
    "거주민7월예측데이터V=거주민7월예측데이터V.drop('index',axis=1)\n",
    "거주민7월예측데이터V=거주민7월예측데이터V.mean()\n",
    "거주민7월예측데이터V=pd.DataFrame(거주민7월예측데이터V)\n",
    "거주민8월예측데이터V=거주민데이터V[(거주민데이터V['index']>=1308)]\n",
    "거주민8월예측데이터V=거주민8월예측데이터V.drop('index',axis=1)\n",
    "거주민8월예측데이터V=거주민8월예측데이터V.mean()\n",
    "거주민8월예측데이터V=pd.DataFrame(거주민8월예측데이터V)\n",
    "\n",
    "총데이터=pd.concat([총데이터,거주민7월예측데이터V,거주민8월예측데이터V],axis=1)"
   ]
  },
  {
   "cell_type": "code",
   "execution_count": 35,
   "metadata": {
    "ExecuteTime": {
     "end_time": "2021-09-14T10:47:55.441343Z",
     "start_time": "2021-09-14T10:47:55.352344Z"
    }
   },
   "outputs": [],
   "source": [
    "데이터=pd.DataFrame()\n",
    "\n",
    "for i in 동네리스트:\n",
    "    넣을값=globals()['예상내국인관광W_{}'.format(i)]['yhat'].tail(62)\n",
    "    넣을값=pd.DataFrame(넣을값)\n",
    "    넣을값.columns=[i]\n",
    "    데이터=pd.concat([데이터,넣을값],axis=1)\n",
    "내국인관광데이터W=데이터.reset_index()\n",
    "\n",
    "내국인관광7월예측데이터W=내국인관광데이터W[(내국인관광데이터W['index']>=1277) & (내국인관광데이터W['index']<1308)]\n",
    "내국인관광7월예측데이터W=내국인관광7월예측데이터W.drop('index',axis=1)\n",
    "내국인관광7월예측데이터W=내국인관광7월예측데이터W.mean()\n",
    "내국인관광7월예측데이터W=pd.DataFrame(내국인관광7월예측데이터W)\n",
    "내국인관광8월예측데이터W=내국인관광데이터W[(내국인관광데이터W['index']>=1308)]\n",
    "내국인관광8월예측데이터W=내국인관광8월예측데이터W.drop('index',axis=1)\n",
    "내국인관광8월예측데이터W=내국인관광8월예측데이터W.mean()\n",
    "내국인관광8월예측데이터W=pd.DataFrame(내국인관광8월예측데이터W)\n",
    "\n",
    "총데이터=pd.concat([총데이터,내국인관광7월예측데이터W,내국인관광8월예측데이터W],axis=1)"
   ]
  },
  {
   "cell_type": "code",
   "execution_count": 36,
   "metadata": {
    "ExecuteTime": {
     "end_time": "2021-09-14T10:47:56.028409Z",
     "start_time": "2021-09-14T10:47:55.934410Z"
    }
   },
   "outputs": [],
   "source": [
    "데이터=pd.DataFrame()\n",
    "for i in 동네리스트:\n",
    "    넣을값=globals()['예상내국인관광V_{}'.format(i)]['yhat'].tail(62)\n",
    "    넣을값=pd.DataFrame(넣을값)\n",
    "    넣을값.columns=[i]\n",
    "    데이터=pd.concat([데이터,넣을값],axis=1)\n",
    "내국인관광데이터V=데이터.reset_index()\n",
    "\n",
    "내국인관광7월예측데이터V=내국인관광데이터V[(내국인관광데이터V['index']>=1277) & (내국인관광데이터V['index']<1308)]\n",
    "내국인관광7월예측데이터V=내국인관광7월예측데이터V.drop('index',axis=1)\n",
    "내국인관광7월예측데이터V=내국인관광7월예측데이터V.mean()\n",
    "내국인관광7월예측데이터V=pd.DataFrame(내국인관광7월예측데이터V)\n",
    "내국인관광8월예측데이터V=내국인관광데이터V[(내국인관광데이터V['index']>=1308)]\n",
    "내국인관광8월예측데이터V=내국인관광8월예측데이터V.drop('index',axis=1)\n",
    "내국인관광8월예측데이터V=내국인관광8월예측데이터V.mean()\n",
    "내국인관광8월예측데이터V=pd.DataFrame(내국인관광8월예측데이터V)\n",
    "\n",
    "총데이터=pd.concat([총데이터,내국인관광7월예측데이터V,내국인관광8월예측데이터V],axis=1)"
   ]
  },
  {
   "cell_type": "markdown",
   "metadata": {
    "ExecuteTime": {
     "end_time": "2021-09-14T02:11:02.574624Z",
     "start_time": "2021-09-14T02:11:02.553636Z"
    }
   },
   "source": [
    "## 외국인"
   ]
  },
  {
   "cell_type": "code",
   "execution_count": 37,
   "metadata": {
    "ExecuteTime": {
     "end_time": "2021-09-14T10:47:57.297498Z",
     "start_time": "2021-09-14T10:47:57.227500Z"
    }
   },
   "outputs": [],
   "source": [
    "데이터=pd.DataFrame()\n",
    "for i in 동네리스트:\n",
    "    넣을값=globals()['예상장기외국인R_{}'.format(i)]['yhat'].tail(62)\n",
    "    넣을값=pd.DataFrame(넣을값)\n",
    "    넣을값.columns=[i]\n",
    "    데이터=pd.concat([데이터,넣을값],axis=1)\n",
    "장기외국인데이터R=데이터.reset_index()\n",
    "\n",
    "장기외국인데이터7월예측데이터R=장기외국인데이터R[(장기외국인데이터R['index']>=1277) & (장기외국인데이터R['index']<1308)]\n",
    "장기외국인데이터7월예측데이터R=장기외국인데이터7월예측데이터R.drop('index',axis=1)\n",
    "장기외국인데이터7월예측데이터R=장기외국인데이터7월예측데이터R.mean()\n",
    "장기외국인데이터7월예측데이터R=pd.DataFrame(장기외국인데이터7월예측데이터R)\n",
    "장기외국인데이터8월예측데이터R=장기외국인데이터R[(장기외국인데이터R['index']>=1308)]\n",
    "장기외국인데이터8월예측데이터R=장기외국인데이터8월예측데이터R.drop('index',axis=1)\n",
    "장기외국인데이터8월예측데이터R=장기외국인데이터8월예측데이터R.mean()\n",
    "장기외국인데이터8월예측데이터R=pd.DataFrame(장기외국인데이터8월예측데이터R)\n",
    "\n",
    "총데이터=pd.concat([총데이터,장기외국인데이터7월예측데이터R,장기외국인데이터8월예측데이터R],axis=1)"
   ]
  },
  {
   "cell_type": "code",
   "execution_count": 38,
   "metadata": {
    "ExecuteTime": {
     "end_time": "2021-09-14T10:47:58.056920Z",
     "start_time": "2021-09-14T10:47:58.017920Z"
    }
   },
   "outputs": [],
   "source": [
    "데이터=pd.DataFrame()\n",
    "for i in 동네리스트:\n",
    "    넣을값=globals()['예상장기외국인W_{}'.format(i)]['yhat'].tail(62)\n",
    "    넣을값=pd.DataFrame(넣을값)\n",
    "    넣을값.columns=[i]\n",
    "    데이터=pd.concat([데이터,넣을값],axis=1)\n",
    "장기외국인데이터W=데이터.reset_index()\n",
    "\n",
    "장기외국인데이터7월예측데이터W=장기외국인데이터W[(장기외국인데이터W['index']>=1277) & (장기외국인데이터W['index']<1308)]\n",
    "장기외국인데이터7월예측데이터W=장기외국인데이터7월예측데이터W.drop('index',axis=1)\n",
    "장기외국인데이터7월예측데이터W=장기외국인데이터7월예측데이터W.mean()\n",
    "장기외국인데이터7월예측데이터W=pd.DataFrame(장기외국인데이터7월예측데이터W)\n",
    "장기외국인데이터8월예측데이터W=장기외국인데이터W[(장기외국인데이터W['index']>=1308)]\n",
    "장기외국인데이터8월예측데이터W=장기외국인데이터8월예측데이터W.drop('index',axis=1)\n",
    "장기외국인데이터8월예측데이터W=장기외국인데이터8월예측데이터W.mean()\n",
    "장기외국인데이터8월예측데이터W=pd.DataFrame(장기외국인데이터8월예측데이터W)\n",
    "\n",
    "총데이터=pd.concat([총데이터,장기외국인데이터7월예측데이터W,장기외국인데이터8월예측데이터W],axis=1)"
   ]
  },
  {
   "cell_type": "code",
   "execution_count": 39,
   "metadata": {
    "ExecuteTime": {
     "end_time": "2021-09-14T10:47:58.376132Z",
     "start_time": "2021-09-14T10:47:58.339130Z"
    }
   },
   "outputs": [],
   "source": [
    "데이터=pd.DataFrame()\n",
    "for i in 동네리스트:\n",
    "    넣을값=globals()['예상장기외국인V_{}'.format(i)]['yhat'].tail(62)\n",
    "    넣을값=pd.DataFrame(넣을값)\n",
    "    넣을값.columns=[i]\n",
    "    데이터=pd.concat([데이터,넣을값],axis=1)\n",
    "장기외국인데이터V=데이터.reset_index()\n",
    "\n",
    "장기외국인데이터7월예측데이터V=장기외국인데이터V[(장기외국인데이터V['index']>=1277) & (장기외국인데이터V['index']<1308)]\n",
    "장기외국인데이터7월예측데이터V=장기외국인데이터7월예측데이터V.drop('index',axis=1)\n",
    "장기외국인데이터7월예측데이터V=장기외국인데이터7월예측데이터V.mean()\n",
    "장기외국인데이터7월예측데이터V=pd.DataFrame(내국인관광7월예측데이터V)\n",
    "장기외국인데이터8월예측데이터V=장기외국인데이터V[(장기외국인데이터V['index']>=1308)]\n",
    "장기외국인데이터8월예측데이터V=장기외국인데이터8월예측데이터V.drop('index',axis=1)\n",
    "장기외국인데이터8월예측데이터V=장기외국인데이터8월예측데이터V.mean()\n",
    "장기외국인데이터8월예측데이터V=pd.DataFrame(장기외국인데이터8월예측데이터V)\n",
    "\n",
    "총데이터=pd.concat([총데이터,장기외국인데이터7월예측데이터V,장기외국인데이터8월예측데이터V],axis=1)"
   ]
  },
  {
   "cell_type": "code",
   "execution_count": 40,
   "metadata": {
    "ExecuteTime": {
     "end_time": "2021-09-14T10:47:58.661129Z",
     "start_time": "2021-09-14T10:47:58.586130Z"
    }
   },
   "outputs": [],
   "source": [
    "데이터=pd.DataFrame()\n",
    "for i in 동네리스트:\n",
    "    넣을값=globals()['예상단기외국인V_{}'.format(i)]['yhat'].tail(62)\n",
    "    넣을값=pd.DataFrame(넣을값)\n",
    "    넣을값.columns=[i]\n",
    "    데이터=pd.concat([데이터,넣을값],axis=1)\n",
    "단기외국인데이터V=데이터.reset_index()\n",
    "\n",
    "단기외국인데이터7월예측데이터V=단기외국인데이터V[(단기외국인데이터V['index']>=1277) & (단기외국인데이터V['index']<1308)]\n",
    "단기외국인데이터7월예측데이터V=단기외국인데이터7월예측데이터V.drop('index',axis=1)\n",
    "단기외국인데이터7월예측데이터V=단기외국인데이터7월예측데이터V.mean()\n",
    "단기외국인데이터7월예측데이터V=pd.DataFrame(단기외국인데이터7월예측데이터V)\n",
    "단기외국인데이터8월예측데이터V=단기외국인데이터V[(단기외국인데이터V['index']>=1308)]\n",
    "단기외국인데이터8월예측데이터V=단기외국인데이터8월예측데이터V.drop('index',axis=1)\n",
    "단기외국인데이터8월예측데이터V=단기외국인데이터8월예측데이터V.mean()\n",
    "단기외국인데이터8월예측데이터V=pd.DataFrame(단기외국인데이터8월예측데이터V)\n",
    "\n",
    "총데이터=pd.concat([총데이터,단기외국인데이터7월예측데이터V,단기외국인데이터8월예측데이터V],axis=1)"
   ]
  },
  {
   "cell_type": "markdown",
   "metadata": {},
   "source": [
    "## * 카드를 사용한 목적별 그리고 동네별로 DataFrame을 뽑고 완료"
   ]
  },
  {
   "cell_type": "code",
   "execution_count": 42,
   "metadata": {
    "ExecuteTime": {
     "end_time": "2021-09-14T10:48:09.496144Z",
     "start_time": "2021-09-14T10:48:09.484132Z"
    }
   },
   "outputs": [
    {
     "data": {
      "text/plain": [
       "Index(['간식', '농축수산물', '마트/슈퍼마켓', '배달', '부페', '식품', '아시아음식', '양식', '주점및주류판매',\n",
       "       '패스트푸드', '한식'],\n",
       "      dtype='object')"
      ]
     },
     "execution_count": 42,
     "metadata": {},
     "output_type": "execute_result"
    }
   ],
   "source": [
    "카드목록"
   ]
  },
  {
   "cell_type": "code",
   "execution_count": 43,
   "metadata": {
    "ExecuteTime": {
     "end_time": "2021-09-14T10:48:10.387192Z",
     "start_time": "2021-09-14T10:48:10.319192Z"
    }
   },
   "outputs": [],
   "source": [
    "데이터=pd.DataFrame()\n",
    "\n",
    "for i in 동네리스트:\n",
    "    넣을값=globals()['예상{}카드_간식'.format(i)]['yhat'].tail(62)\n",
    "    넣을값=pd.DataFrame(넣을값)\n",
    "    넣을값.columns=[i]\n",
    "    데이터=pd.concat([데이터,넣을값],axis=1)\n",
    "간식데이터=데이터.reset_index()\n",
    "\n",
    "간식데이터7=간식데이터[(간식데이터['index']>=1277) & (간식데이터['index']<1308)]\n",
    "간식데이터7=간식데이터7.drop('index',axis=1)\n",
    "간식데이터7=간식데이터7.sum()\n",
    "간식데이터7=pd.DataFrame(간식데이터7)\n",
    "간식데이터8=간식데이터[(간식데이터['index']>=1308)]\n",
    "간식데이터8=간식데이터8.drop('index',axis=1)\n",
    "간식데이터8=간식데이터8.sum()\n",
    "간식데이터8=pd.DataFrame(간식데이터8)\n",
    "총데이터=pd.concat([총데이터,간식데이터7,간식데이터8],axis=1)"
   ]
  },
  {
   "cell_type": "code",
   "execution_count": 44,
   "metadata": {
    "ExecuteTime": {
     "end_time": "2021-09-14T10:48:11.238914Z",
     "start_time": "2021-09-14T10:48:11.199913Z"
    }
   },
   "outputs": [],
   "source": [
    "데이터=pd.DataFrame()\n",
    "\n",
    "for i in 동네리스트:\n",
    "    넣을값=globals()['예상{}카드_농축수산물'.format(i)]['yhat'].tail(62)\n",
    "    넣을값=pd.DataFrame(넣을값)\n",
    "    넣을값.columns=[i]\n",
    "    데이터=pd.concat([데이터,넣을값],axis=1)\n",
    "농축수산물데이터=데이터.reset_index()\n",
    "\n",
    "농축수산물데이터7=농축수산물데이터[(농축수산물데이터['index']>=1277) & (농축수산물데이터['index']<1308)]\n",
    "농축수산물데이터7=농축수산물데이터7.drop('index',axis=1)\n",
    "농축수산물데이터7=농축수산물데이터7.sum()\n",
    "농축수산물데이터7=pd.DataFrame(농축수산물데이터7)\n",
    "농축수산물데이터8=농축수산물데이터[(농축수산물데이터['index']>=1308)]\n",
    "농축수산물데이터8=농축수산물데이터8.drop('index',axis=1)\n",
    "농축수산물데이터8=농축수산물데이터8.sum()\n",
    "농축수산물데이터8=pd.DataFrame(농축수산물데이터8)\n",
    "총데이터=pd.concat([총데이터,농축수산물데이터7,농축수산물데이터8],axis=1)"
   ]
  },
  {
   "cell_type": "code",
   "execution_count": 45,
   "metadata": {
    "ExecuteTime": {
     "end_time": "2021-09-14T10:48:11.638970Z",
     "start_time": "2021-09-14T10:48:11.601970Z"
    }
   },
   "outputs": [],
   "source": [
    "데이터=pd.DataFrame()\n",
    "\n",
    "for i in 동네리스트:\n",
    "    넣을값=globals()['예상{}카드_마트/슈퍼마켓'.format(i)]['yhat'].tail(62)\n",
    "    넣을값=pd.DataFrame(넣을값)\n",
    "    넣을값.columns=[i]\n",
    "    데이터=pd.concat([데이터,넣을값],axis=1)\n",
    "마트_슈퍼=데이터.reset_index()\n",
    "\n",
    "마트_슈퍼7=마트_슈퍼[(마트_슈퍼['index']>=1277) & (마트_슈퍼['index']<1308)]\n",
    "마트_슈퍼7=마트_슈퍼7.drop('index',axis=1)\n",
    "마트_슈퍼7=마트_슈퍼7.sum()\n",
    "마트_슈퍼7=pd.DataFrame(마트_슈퍼7)\n",
    "마트_슈퍼8=마트_슈퍼[(마트_슈퍼['index']>=1308)]\n",
    "마트_슈퍼8=마트_슈퍼8.drop('index',axis=1)\n",
    "마트_슈퍼8=마트_슈퍼8.sum()\n",
    "마트_슈퍼8=pd.DataFrame(마트_슈퍼8)\n",
    "총데이터=pd.concat([총데이터,마트_슈퍼7,마트_슈퍼8],axis=1)"
   ]
  },
  {
   "cell_type": "code",
   "execution_count": 46,
   "metadata": {
    "ExecuteTime": {
     "end_time": "2021-09-14T10:48:12.195660Z",
     "start_time": "2021-09-14T10:48:12.149669Z"
    }
   },
   "outputs": [],
   "source": [
    "데이터=pd.DataFrame()\n",
    "\n",
    "for i in 동네리스트:\n",
    "    넣을값=globals()['예상{}카드_배달'.format(i)]['yhat'].tail(62)\n",
    "    넣을값=pd.DataFrame(넣을값)\n",
    "    넣을값.columns=[i]\n",
    "    데이터=pd.concat([데이터,넣을값],axis=1)\n",
    "배달=데이터.reset_index()\n",
    "\n",
    "배달7=배달[(배달['index']>=1277) & (배달['index']<1308)]\n",
    "배달7=배달7.drop('index',axis=1)\n",
    "배달7=배달7.sum()\n",
    "배달7=pd.DataFrame(배달7)\n",
    "배달8=배달[(배달['index']>=1308)]\n",
    "배달8=배달8.drop('index',axis=1)\n",
    "배달8=배달8.sum()\n",
    "배달8=pd.DataFrame(배달8)\n",
    "총데이터=pd.concat([총데이터,배달7,배달8],axis=1)"
   ]
  },
  {
   "cell_type": "code",
   "execution_count": 47,
   "metadata": {
    "ExecuteTime": {
     "end_time": "2021-09-14T10:48:12.704710Z",
     "start_time": "2021-09-14T10:48:12.668711Z"
    }
   },
   "outputs": [],
   "source": [
    "데이터=pd.DataFrame()\n",
    "\n",
    "for i in 동네리스트:\n",
    "    넣을값=globals()['예상{}카드_부페'.format(i)]['yhat'].tail(62)\n",
    "    넣을값=pd.DataFrame(넣을값)\n",
    "    넣을값.columns=[i]\n",
    "    데이터=pd.concat([데이터,넣을값],axis=1)\n",
    "부페=데이터.reset_index()\n",
    "\n",
    "부페7=부페[(부페['index']>=1277) & (부페['index']<1308)]\n",
    "부페7=부페7.drop('index',axis=1)\n",
    "부페7=부페7.sum()\n",
    "부페7=pd.DataFrame(부페7)\n",
    "부페8=부페[(부페['index']>=1308)]\n",
    "부페8=부페8.drop('index',axis=1)\n",
    "부페8=부페8.sum()\n",
    "부페8=pd.DataFrame(부페8)\n",
    "총데이터=pd.concat([총데이터,부페7,부페8],axis=1)"
   ]
  },
  {
   "cell_type": "code",
   "execution_count": 48,
   "metadata": {
    "ExecuteTime": {
     "end_time": "2021-09-14T10:48:13.399190Z",
     "start_time": "2021-09-14T10:48:13.361190Z"
    }
   },
   "outputs": [],
   "source": [
    "데이터=pd.DataFrame()\n",
    "\n",
    "for i in 동네리스트:\n",
    "    넣을값=globals()['예상{}카드_식품'.format(i)]['yhat'].tail(62)\n",
    "    넣을값=pd.DataFrame(넣을값)\n",
    "    넣을값.columns=[i]\n",
    "    데이터=pd.concat([데이터,넣을값],axis=1)\n",
    "식품=데이터.reset_index()\n",
    "\n",
    "식품7=식품[(식품['index']>=1277) & (식품['index']<1308)]\n",
    "식품7=식품7.drop('index',axis=1)\n",
    "식품7=식품7.sum()\n",
    "식품7=pd.DataFrame(식품7)\n",
    "식품8=식품[(식품['index']>=1308)]\n",
    "식품8=식품8.drop('index',axis=1)\n",
    "식품8=식품8.sum()\n",
    "식품8=pd.DataFrame(식품8)\n",
    "총데이터=pd.concat([총데이터,식품7,식품8],axis=1)"
   ]
  },
  {
   "cell_type": "code",
   "execution_count": 49,
   "metadata": {
    "ExecuteTime": {
     "end_time": "2021-09-14T10:48:14.050528Z",
     "start_time": "2021-09-14T10:48:14.015529Z"
    }
   },
   "outputs": [],
   "source": [
    "데이터=pd.DataFrame()\n",
    "\n",
    "for i in 동네리스트:\n",
    "    넣을값=globals()['예상{}카드_아시아음식'.format(i)]['yhat'].tail(62)\n",
    "    넣을값=pd.DataFrame(넣을값)\n",
    "    넣을값.columns=[i]\n",
    "    데이터=pd.concat([데이터,넣을값],axis=1)\n",
    "아시아음식=데이터.reset_index()\n",
    "\n",
    "아시아음식7=아시아음식[(아시아음식['index']>=1277) & (아시아음식['index']<1308)]\n",
    "아시아음식7=아시아음식7.drop('index',axis=1)\n",
    "아시아음식7=아시아음식7.sum()\n",
    "아시아음식7=pd.DataFrame(아시아음식7)\n",
    "아시아음식8=아시아음식[(아시아음식['index']>=1308)]\n",
    "아시아음식8=아시아음식8.drop('index',axis=1)\n",
    "아시아음식8=아시아음식8.sum()\n",
    "아시아음식8=pd.DataFrame(아시아음식8)\n",
    "총데이터=pd.concat([총데이터,아시아음식7,아시아음식8],axis=1)"
   ]
  },
  {
   "cell_type": "code",
   "execution_count": 50,
   "metadata": {
    "ExecuteTime": {
     "end_time": "2021-09-14T10:48:14.764149Z",
     "start_time": "2021-09-14T10:48:14.715149Z"
    }
   },
   "outputs": [],
   "source": [
    "데이터=pd.DataFrame()\n",
    "\n",
    "for i in 동네리스트:\n",
    "    넣을값=globals()['예상{}카드_양식'.format(i)]['yhat'].tail(62)\n",
    "    넣을값=pd.DataFrame(넣을값)\n",
    "    넣을값.columns=[i]\n",
    "    데이터=pd.concat([데이터,넣을값],axis=1)\n",
    "양식=데이터.reset_index()\n",
    "\n",
    "양식7=양식[(양식['index']>=1277) & (양식['index']<1308)]\n",
    "양식7=양식7.drop('index',axis=1)\n",
    "양식7=양식7.sum()\n",
    "양식7=pd.DataFrame(양식7)\n",
    "양식8=양식[(양식['index']>=1308)]\n",
    "양식8=양식8.drop('index',axis=1)\n",
    "양식8=양식8.sum()\n",
    "양식8=pd.DataFrame(양식8)\n",
    "총데이터=pd.concat([총데이터,양식7,양식8],axis=1)"
   ]
  },
  {
   "cell_type": "code",
   "execution_count": 51,
   "metadata": {
    "ExecuteTime": {
     "end_time": "2021-09-14T10:48:15.174512Z",
     "start_time": "2021-09-14T10:48:15.117513Z"
    }
   },
   "outputs": [],
   "source": [
    "데이터=pd.DataFrame()\n",
    "\n",
    "for i in 동네리스트:\n",
    "    넣을값=globals()['예상{}카드_주점및주류판매'.format(i)]['yhat'].tail(62)\n",
    "    넣을값=pd.DataFrame(넣을값)\n",
    "    넣을값.columns=[i]\n",
    "    데이터=pd.concat([데이터,넣을값],axis=1)\n",
    "주점및주류판매=데이터.reset_index()\n",
    "\n",
    "주점및주류판매7=주점및주류판매[(주점및주류판매['index']>=1277) & (주점및주류판매['index']<1308)]\n",
    "주점및주류판매7=주점및주류판매7.drop('index',axis=1)\n",
    "주점및주류판매7=주점및주류판매7.sum()\n",
    "주점및주류판매7=pd.DataFrame(주점및주류판매7)\n",
    "주점및주류판매8=주점및주류판매[(주점및주류판매['index']>=1308)]\n",
    "주점및주류판매8=주점및주류판매8.drop('index',axis=1)\n",
    "주점및주류판매8=주점및주류판매8.sum()\n",
    "주점및주류판매8=pd.DataFrame(주점및주류판매8)\n",
    "총데이터=pd.concat([총데이터,주점및주류판매7,주점및주류판매8],axis=1)"
   ]
  },
  {
   "cell_type": "code",
   "execution_count": 52,
   "metadata": {
    "ExecuteTime": {
     "end_time": "2021-09-14T10:48:15.733097Z",
     "start_time": "2021-09-14T10:48:15.690096Z"
    }
   },
   "outputs": [],
   "source": [
    "데이터=pd.DataFrame()\n",
    "\n",
    "for i in 동네리스트:\n",
    "    넣을값=globals()['예상{}카드_패스트푸드'.format(i)]['yhat'].tail(62)\n",
    "    넣을값=pd.DataFrame(넣을값)\n",
    "    넣을값.columns=[i]\n",
    "    데이터=pd.concat([데이터,넣을값],axis=1)\n",
    "패스트푸드=데이터.reset_index()\n",
    "\n",
    "패스트푸드7=패스트푸드[(패스트푸드['index']>=1277) & (패스트푸드['index']<1308)]\n",
    "패스트푸드7=패스트푸드7.drop('index',axis=1)\n",
    "패스트푸드7=패스트푸드7.sum()\n",
    "패스트푸드7=pd.DataFrame(패스트푸드7)\n",
    "패스트푸드8=패스트푸드[(패스트푸드['index']>=1308)]\n",
    "패스트푸드8=패스트푸드8.drop('index',axis=1)\n",
    "패스트푸드8=패스트푸드8.sum()\n",
    "패스트푸드8=pd.DataFrame(패스트푸드8)\n",
    "총데이터=pd.concat([총데이터,패스트푸드7,패스트푸드8],axis=1)"
   ]
  },
  {
   "cell_type": "code",
   "execution_count": 53,
   "metadata": {
    "ExecuteTime": {
     "end_time": "2021-09-14T10:48:16.142741Z",
     "start_time": "2021-09-14T10:48:16.095740Z"
    }
   },
   "outputs": [],
   "source": [
    "데이터=pd.DataFrame()\n",
    "\n",
    "for i in 동네리스트:\n",
    "    넣을값=globals()['예상{}카드_한식'.format(i)]['yhat'].tail(62)\n",
    "    넣을값=pd.DataFrame(넣을값)\n",
    "    넣을값.columns=[i]\n",
    "    데이터=pd.concat([데이터,넣을값],axis=1)\n",
    "한식=데이터.reset_index()\n",
    "\n",
    "한식7=한식[(한식['index']>=1277) & (한식['index']<1308)]\n",
    "한식7=한식7.drop('index',axis=1)\n",
    "한식7=한식7.sum()\n",
    "한식7=pd.DataFrame(한식7)\n",
    "한식8=한식[(한식['index']>=1308)]\n",
    "한식8=한식8.drop('index',axis=1)\n",
    "한식8=한식8.sum()\n",
    "한식8=pd.DataFrame(한식8)\n",
    "총데이터=pd.concat([총데이터,한식7,한식8],axis=1)"
   ]
  },
  {
   "cell_type": "code",
   "execution_count": 54,
   "metadata": {
    "ExecuteTime": {
     "end_time": "2021-09-14T10:48:17.236687Z",
     "start_time": "2021-09-14T10:48:17.225686Z"
    }
   },
   "outputs": [],
   "source": [
    "\n",
    "총데이터.columns=['내국인7R','내국인8R','내국인7W','내국인8W','내국인7V','내국인8V','내국인관광7W',\n",
    "              '내국인관광8W','내국인관광7V','내국인관광8V','장기외국인7R','장기외국인8R','장기외국인7W',\n",
    "              '장기외국인8W','장기외국인7V','장기외국인8V','단기외국인7V','단기외국인8V',\n",
    "      '간식7','간식8', '농축수산물7','농축수산물8', '마트/슈퍼마켓7', '마트/슈퍼마켓8','배달7', '배달8','부페7','부페8',\n",
    "              '식품7','식품8', '아시아음식7','아시아음식8', '양식7', '양식8', '주점및주류판매7','주점및주류판매8',\n",
    "       '패스트푸드7','패스트푸드8', '한식7' ,'한식8' ]\n",
    "총데이터=총데이터.drop(['우도면','추자면'])\n"
   ]
  },
  {
   "cell_type": "markdown",
   "metadata": {},
   "source": [
    "### * 혹시 결측값이 있는지 확인해주고 0으로 채워줌\n",
    "### * null 값을 확인했을 때 0개"
   ]
  },
  {
   "cell_type": "code",
   "execution_count": 55,
   "metadata": {
    "ExecuteTime": {
     "end_time": "2021-09-14T10:48:18.046306Z",
     "start_time": "2021-09-14T10:48:18.032306Z"
    }
   },
   "outputs": [],
   "source": [
    "총데이터=총데이터.fillna(0)"
   ]
  },
  {
   "cell_type": "code",
   "execution_count": 56,
   "metadata": {
    "ExecuteTime": {
     "end_time": "2021-09-14T10:48:31.213426Z",
     "start_time": "2021-09-14T10:48:31.198418Z"
    }
   },
   "outputs": [
    {
     "data": {
      "text/plain": [
       "내국인7R       0\n",
       "내국인8R       0\n",
       "내국인7W       0\n",
       "내국인8W       0\n",
       "내국인7V       0\n",
       "내국인8V       0\n",
       "내국인관광7W     0\n",
       "내국인관광8W     0\n",
       "내국인관광7V     0\n",
       "내국인관광8V     0\n",
       "장기외국인7R     0\n",
       "장기외국인8R     0\n",
       "장기외국인7W     0\n",
       "장기외국인8W     0\n",
       "장기외국인7V     0\n",
       "장기외국인8V     0\n",
       "단기외국인7V     0\n",
       "단기외국인8V     0\n",
       "간식7         0\n",
       "간식8         0\n",
       "농축수산물7      0\n",
       "농축수산물8      0\n",
       "마트/슈퍼마켓7    0\n",
       "마트/슈퍼마켓8    0\n",
       "배달7         0\n",
       "배달8         0\n",
       "부페7         0\n",
       "부페8         0\n",
       "식품7         0\n",
       "식품8         0\n",
       "아시아음식7      0\n",
       "아시아음식8      0\n",
       "양식7         0\n",
       "양식8         0\n",
       "주점및주류판매7    0\n",
       "주점및주류판매8    0\n",
       "패스트푸드7      0\n",
       "패스트푸드8      0\n",
       "한식7         0\n",
       "한식8         0\n",
       "dtype: int64"
      ]
     },
     "execution_count": 56,
     "metadata": {},
     "output_type": "execute_result"
    }
   ],
   "source": [
    "총데이터.isnull().sum()"
   ]
  },
  {
   "cell_type": "markdown",
   "metadata": {},
   "source": [
    "### * 모든 값들은 0이거나 양수여야함 그래서 음수값이 나오면 0으로 대체"
   ]
  },
  {
   "cell_type": "code",
   "execution_count": 57,
   "metadata": {
    "ExecuteTime": {
     "end_time": "2021-09-14T10:48:32.245206Z",
     "start_time": "2021-09-14T10:48:32.203206Z"
    }
   },
   "outputs": [],
   "source": [
    "for i in  list(총데이터.index):\n",
    "    for col in 총데이터.columns:\n",
    "        if 총데이터.loc[i, col] <0:\n",
    "            총데이터.loc[i, col]=0"
   ]
  },
  {
   "cell_type": "code",
   "execution_count": 58,
   "metadata": {
    "ExecuteTime": {
     "end_time": "2021-09-14T10:48:42.745220Z",
     "start_time": "2021-09-14T10:48:42.691230Z"
    }
   },
   "outputs": [],
   "source": [
    "총데이터.to_csv('csv/시계열총데이터최종본.CSV',encoding='euc-kr') #csv파일로 생성"
   ]
  },
  {
   "cell_type": "code",
   "execution_count": null,
   "metadata": {},
   "outputs": [],
   "source": []
  }
 ],
 "metadata": {
  "kernelspec": {
   "display_name": "Python 3",
   "language": "python",
   "name": "python3"
  },
  "language_info": {
   "codemirror_mode": {
    "name": "ipython",
    "version": 3
   },
   "file_extension": ".py",
   "mimetype": "text/x-python",
   "name": "python",
   "nbconvert_exporter": "python",
   "pygments_lexer": "ipython3",
   "version": "3.8.3"
  },
  "toc": {
   "base_numbering": 1,
   "nav_menu": {},
   "number_sections": true,
   "sideBar": true,
   "skip_h1_title": false,
   "title_cell": "Table of Contents",
   "title_sidebar": "Contents",
   "toc_cell": false,
   "toc_position": {},
   "toc_section_display": true,
   "toc_window_display": false
  }
 },
 "nbformat": 4,
 "nbformat_minor": 5
}
