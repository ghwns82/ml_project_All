{
 "cells": [
  {
   "cell_type": "code",
   "execution_count": 1,
   "id": "16c9615a",
   "metadata": {
    "ExecuteTime": {
     "end_time": "2022-12-19T05:48:00.057593Z",
     "start_time": "2022-12-19T05:48:00.046341Z"
    }
   },
   "outputs": [],
   "source": [
    "import warnings\n",
    "warnings.filterwarnings(action=\"ignore\")"
   ]
  },
  {
   "cell_type": "code",
   "execution_count": 2,
   "id": "ada8fb42",
   "metadata": {
    "ExecuteTime": {
     "end_time": "2022-12-19T05:48:03.699961Z",
     "start_time": "2022-12-19T05:48:00.059135Z"
    }
   },
   "outputs": [
    {
     "name": "stderr",
     "output_type": "stream",
     "text": [
      "2022-12-19 14:48:00.064656: I tensorflow/core/platform/cpu_feature_guard.cc:193] This TensorFlow binary is optimized with oneAPI Deep Neural Network Library (oneDNN) to use the following CPU instructions in performance-critical operations:  AVX2 FMA\n",
      "To enable them in other operations, rebuild TensorFlow with the appropriate compiler flags.\n",
      "2022-12-19 14:48:00.350910: W tensorflow/compiler/xla/stream_executor/platform/default/dso_loader.cc:64] Could not load dynamic library 'libcudart.so.11.0'; dlerror: libcudart.so.11.0: cannot open shared object file: No such file or directory\n",
      "2022-12-19 14:48:00.350987: I tensorflow/compiler/xla/stream_executor/cuda/cudart_stub.cc:29] Ignore above cudart dlerror if you do not have a GPU set up on your machine.\n",
      "2022-12-19 14:48:01.755253: W tensorflow/compiler/xla/stream_executor/platform/default/dso_loader.cc:64] Could not load dynamic library 'libnvinfer.so.7'; dlerror: libnvinfer.so.7: cannot open shared object file: No such file or directory\n",
      "2022-12-19 14:48:01.756916: W tensorflow/compiler/xla/stream_executor/platform/default/dso_loader.cc:64] Could not load dynamic library 'libnvinfer_plugin.so.7'; dlerror: libnvinfer_plugin.so.7: cannot open shared object file: No such file or directory\n",
      "2022-12-19 14:48:01.756989: W tensorflow/compiler/tf2tensorrt/utils/py_utils.cc:38] TF-TRT Warning: Cannot dlopen some TensorRT libraries. If you would like to use Nvidia GPU with TensorRT, please make sure the missing libraries mentioned above are installed properly.\n"
     ]
    }
   ],
   "source": [
    "import tensorflow as tf\n",
    "from keras import backend as K\n",
    "from keras.optimizers import Adadelta\n",
    "from keras.callbacks import EarlyStopping, ModelCheckpoint\n",
    "\n",
    "# 경로 참 더럽네\n",
    "from CRNNKerasmaster.parameter import *\n",
    "from CRNNKerasmaster.Model import get_Model\n",
    "from CRNNKerasmaster.Image_Generator import TextImageGenerator\n",
    "\n",
    "import cv2\n",
    "import itertools, os, time\n",
    "import numpy as np\n",
    "import argparse\n",
    "import easydict\n",
    "from datetime import datetime\n",
    "\n",
    "K.set_learning_phase(0)"
   ]
  },
  {
   "cell_type": "code",
   "execution_count": 3,
   "id": "6edf41c6",
   "metadata": {
    "ExecuteTime": {
     "end_time": "2022-12-19T05:48:03.708989Z",
     "start_time": "2022-12-19T05:48:03.701237Z"
    }
   },
   "outputs": [],
   "source": [
    "Region = {\"A\": \"서울 \", \"B\": \"경기 \", \"C\": \"인천 \", \"D\": \"강원 \", \"E\": \"충남 \", \"F\": \"대전 \",\n",
    "          \"G\": \"충북 \", \"H\": \"부산 \", \"I\": \"울산 \", \"J\": \"대구 \", \"K\": \"경북 \", \"L\": \"경남 \",\n",
    "          \"M\": \"전남 \", \"N\": \"광주 \", \"O\": \"전북 \", \"P\": \"제주 \"}\n",
    "Hangul = {\"dk\": \"아\", \"dj\": \"어\", \"dh\": \"오\", \"dn\": \"우\", \"qk\": \"바\", \"qj\": \"버\", \"qh\": \"보\", \"qn\": \"부\",\n",
    "          \"ek\": \"다\", \"ej\": \"더\", \"eh\": \"도\", \"en\": \"두\", \"rk\": \"가\", \"rj\": \"거\", \"rh\": \"고\", \"rn\": \"구\",\n",
    "          \"wk\": \"자\", \"wj\": \"저\", \"wh\": \"조\", \"wn\": \"주\", \"ak\": \"마\", \"aj\": \"머\", \"ah\": \"모\", \"an\": \"무\",\n",
    "          \"sk\": \"나\", \"sj\": \"너\", \"sh\": \"노\", \"sn\": \"누\", \"fk\": \"라\", \"fj\": \"러\", \"fh\": \"로\", \"fn\": \"루\",\n",
    "          \"tk\": \"사\", \"tj\": \"서\", \"th\": \"소\", \"tn\": \"수\", \"gj\": \"허\"}"
   ]
  },
  {
   "cell_type": "code",
   "execution_count": 4,
   "id": "6d48baa8",
   "metadata": {
    "ExecuteTime": {
     "end_time": "2022-12-19T05:48:03.716896Z",
     "start_time": "2022-12-19T05:48:03.712999Z"
    }
   },
   "outputs": [],
   "source": [
    "def decode_label(out):\n",
    "    # out : (1, 32, 42)\n",
    "    out_best = list(np.argmax(out[0, 2:], axis=1))  # get max index -> len = 32\n",
    "    out_best = [k for k, g in itertools.groupby(out_best)]  # remove overlap value\n",
    "    outstr = ''\n",
    "    for i in out_best:\n",
    "        if i < len(letters):\n",
    "            outstr += letters[i]\n",
    "    return outstr"
   ]
  },
  {
   "cell_type": "code",
   "execution_count": 5,
   "id": "c10abf26",
   "metadata": {
    "ExecuteTime": {
     "end_time": "2022-12-19T05:48:03.723770Z",
     "start_time": "2022-12-19T05:48:03.718800Z"
    }
   },
   "outputs": [],
   "source": [
    "def label_to_hangul(label):  # eng -> hangul\n",
    "    region = label[0]\n",
    "    two_num = label[1:3]\n",
    "    hangul = label[3:5]\n",
    "    four_num = label[5:]\n",
    "\n",
    "    try:\n",
    "        region = Region[region] if region != 'Z' else ''\n",
    "    except:\n",
    "        pass\n",
    "    try:\n",
    "        hangul = Hangul[hangul]\n",
    "    except:\n",
    "        pass\n",
    "    return region + two_num + hangul + four_num"
   ]
  },
  {
   "cell_type": "code",
   "execution_count": 11,
   "id": "823e8291",
   "metadata": {
    "ExecuteTime": {
     "end_time": "2022-12-19T05:56:18.508778Z",
     "start_time": "2022-12-19T05:56:18.482035Z"
    }
   },
   "outputs": [
    {
     "data": {
      "text/plain": [
       "['.ipynb_checkpoints',\n",
       " 'CRNNKerasmaster',\n",
       " 'LSTM+BN5--2022_12_19_14_22_52.hdf5',\n",
       " 'LSTM+BN5--2022_12_19_14_47_37.hdf5',\n",
       " 'LSTM+BN5.hdf5',\n",
       " 'predict_9text.ipynb',\n",
       " 'predict_car.ipynb',\n",
       " 'train_car.ipynb']"
      ]
     },
     "execution_count": 11,
     "metadata": {},
     "output_type": "execute_result"
    }
   ],
   "source": [
    "os.listdir('./')"
   ]
  },
  {
   "cell_type": "code",
   "execution_count": 12,
   "id": "3534fbb3",
   "metadata": {
    "ExecuteTime": {
     "end_time": "2022-12-19T05:56:29.689308Z",
     "start_time": "2022-12-19T05:56:29.684117Z"
    }
   },
   "outputs": [],
   "source": [
    "args = easydict.EasyDict({\n",
    "    \"weight\":\"LSTM+BN5--2022_12_19_14_47_37.hdf5\",\n",
    "    \"test_img\":\"./CRNNKerasmaster/DB/test/\"\n",
    "})"
   ]
  },
  {
   "cell_type": "code",
   "execution_count": 13,
   "id": "7065f34a",
   "metadata": {
    "ExecuteTime": {
     "end_time": "2022-12-19T05:56:32.304170Z",
     "start_time": "2022-12-19T05:56:30.149678Z"
    }
   },
   "outputs": [
    {
     "name": "stdout",
     "output_type": "stream",
     "text": [
      "...Previous weight data...\n"
     ]
    }
   ],
   "source": [
    "# Get CRNN model\n",
    "model = get_Model(training=False)\n",
    "\n",
    "try:\n",
    "    model.load_weights(args.weight)\n",
    "    print(\"...Previous weight data...\")\n",
    "except:\n",
    "    raise Exception(\"No weight file!\")"
   ]
  },
  {
   "cell_type": "code",
   "execution_count": 14,
   "id": "793375f7",
   "metadata": {
    "ExecuteTime": {
     "end_time": "2022-12-19T05:56:32.458235Z",
     "start_time": "2022-12-19T05:56:32.452479Z"
    }
   },
   "outputs": [],
   "source": [
    "test_dir =args.test_img\n",
    "test_imgs = os.listdir(args.test_img)\n",
    "total = 0\n",
    "acc = 0\n",
    "letter_total = 0\n",
    "letter_acc = 0"
   ]
  },
  {
   "cell_type": "code",
   "execution_count": 15,
   "id": "2df27975",
   "metadata": {
    "ExecuteTime": {
     "end_time": "2022-12-19T05:56:35.283977Z",
     "start_time": "2022-12-19T05:56:32.568883Z"
    }
   },
   "outputs": [
    {
     "name": "stdout",
     "output_type": "stream",
     "text": [
      "1/1 [==============================] - 2s 2s/step\n",
      "Predicted: 부산 99우8954  /  True: 부산 99우8954\n",
      "1/1 [==============================] - 0s 118ms/step\n",
      "Predicted: 경남 37마0112  /  True: 경남 37마0112\n",
      "1/1 [==============================] - 0s 78ms/step\n",
      "Predicted: 광주 86오0507  /  True: 광주 86오0507\n",
      "1/1 [==============================] - 0s 53ms/step\n",
      "Predicted: 전북 61누2386  /  True: 전북 61누2386\n",
      "1/1 [==============================] - 0s 86ms/step\n",
      "Predicted: 제주 57아3309  /  True: 제주 57아3309\n",
      "Time :  0.5411811351776123\n",
      "ACC :  1.0\n",
      "letter ACC :  1.0\n"
     ]
    }
   ],
   "source": [
    "start = time.time()\n",
    "for test_img in test_imgs:\n",
    "    img = cv2.imread(test_dir + test_img, cv2.IMREAD_GRAYSCALE)\n",
    "\n",
    "    img_pred = img.astype(np.float32)\n",
    "    img_pred = cv2.resize(img_pred, (128, 64))\n",
    "    img_pred = (img_pred / 255.0) * 2.0 - 1.0\n",
    "    img_pred = img_pred.T\n",
    "    img_pred = np.expand_dims(img_pred, axis=-1)\n",
    "    img_pred = np.expand_dims(img_pred, axis=0)\n",
    "\n",
    "    net_out_value = model.predict(img_pred)\n",
    "\n",
    "    pred_texts = decode_label(net_out_value)\n",
    "    \n",
    "    for i in range(min(len(pred_texts), len(test_img[0:-4]))):\n",
    "        if pred_texts[i] == test_img[i]:\n",
    "            letter_acc += 1\n",
    "    letter_total += max(len(pred_texts), len(test_img[0:-4]))\n",
    "\n",
    "    if pred_texts == test_img[0:-4]:\n",
    "        acc += 1\n",
    "    total += 1\n",
    "    print('Predicted: %s  /  True: %s' % (label_to_hangul(pred_texts), label_to_hangul(test_img[0:-4])))\n",
    "    \n",
    "\n",
    "end = time.time()\n",
    "total_time = (end - start)\n",
    "print(\"Time : \",total_time / total)\n",
    "print(\"ACC : \", acc / total)\n",
    "print(\"letter ACC : \", letter_acc / letter_total)"
   ]
  },
  {
   "cell_type": "code",
   "execution_count": null,
   "id": "c570437d",
   "metadata": {},
   "outputs": [],
   "source": []
  }
 ],
 "metadata": {
  "kernelspec": {
   "display_name": "Python 3 (ipykernel)",
   "language": "python",
   "name": "python3"
  },
  "language_info": {
   "codemirror_mode": {
    "name": "ipython",
    "version": 3
   },
   "file_extension": ".py",
   "mimetype": "text/x-python",
   "name": "python",
   "nbconvert_exporter": "python",
   "pygments_lexer": "ipython3",
   "version": "3.8.10"
  },
  "toc": {
   "base_numbering": 1,
   "nav_menu": {},
   "number_sections": true,
   "sideBar": true,
   "skip_h1_title": false,
   "title_cell": "Table of Contents",
   "title_sidebar": "Contents",
   "toc_cell": false,
   "toc_position": {},
   "toc_section_display": true,
   "toc_window_display": false
  },
  "varInspector": {
   "cols": {
    "lenName": 16,
    "lenType": 16,
    "lenVar": 40
   },
   "kernels_config": {
    "python": {
     "delete_cmd_postfix": "",
     "delete_cmd_prefix": "del ",
     "library": "var_list.py",
     "varRefreshCmd": "print(var_dic_list())"
    },
    "r": {
     "delete_cmd_postfix": ") ",
     "delete_cmd_prefix": "rm(",
     "library": "var_list.r",
     "varRefreshCmd": "cat(var_dic_list()) "
    }
   },
   "types_to_exclude": [
    "module",
    "function",
    "builtin_function_or_method",
    "instance",
    "_Feature"
   ],
   "window_display": false
  }
 },
 "nbformat": 4,
 "nbformat_minor": 5
}
