{
 "cells": [
  {
   "cell_type": "code",
   "execution_count": 5,
   "id": "8289d681",
   "metadata": {},
   "outputs": [],
   "source": [
    "import os\n",
    "import shutil"
   ]
  },
  {
   "cell_type": "code",
   "execution_count": 3,
   "id": "d6514d57",
   "metadata": {},
   "outputs": [
    {
     "name": "stdout",
     "output_type": "stream",
     "text": [
      "\u001b[0m\u001b[34;42m64x64x20\u001b[0m/  \u001b[01;32m64x64x20.zip\u001b[0m*  \u001b[34;42mnew2\u001b[0m/  \u001b[34;42mnew3\u001b[0m/  \u001b[34;42mtest\u001b[0m/  \u001b[34;42mtrain\u001b[0m/\r\n"
     ]
    }
   ],
   "source": [
    "pwd"
   ]
  },
  {
   "cell_type": "code",
   "execution_count": 11,
   "id": "7a6a52f4",
   "metadata": {},
   "outputs": [
    {
     "name": "stdout",
     "output_type": "stream",
     "text": [
      "/mnt/d/Jupyter/Capstone2\n"
     ]
    }
   ],
   "source": [
    "cd .."
   ]
  },
  {
   "cell_type": "code",
   "execution_count": 12,
   "id": "9f9261e0",
   "metadata": {},
   "outputs": [
    {
     "name": "stdout",
     "output_type": "stream",
     "text": [
      "/mnt/d/Jupyter/Capstone2/test\n"
     ]
    }
   ],
   "source": [
    "cd test"
   ]
  },
  {
   "cell_type": "code",
   "execution_count": 13,
   "id": "5463a817",
   "metadata": {},
   "outputs": [],
   "source": [
    "path = ''"
   ]
  },
  {
   "cell_type": "code",
   "execution_count": null,
   "id": "5f8fea1e",
   "metadata": {},
   "outputs": [],
   "source": [
    "root = './labeled_data_100/'\n",
    "for file in os.listdir(root):\n",
    "    filename, fileext = os.path.splitext(file)\n",
    "    new_file = f'{filename[:9]:<9}'+fileext\n",
    "    os.rename(root+file, root+new_file)"
   ]
  },
  {
   "cell_type": "code",
   "execution_count": 14,
   "id": "fc054cea",
   "metadata": {},
   "outputs": [],
   "source": [
    "root = './new3/'\n",
    "for a,dirs,files in os.walk(root):\n",
    "    for file in files:\n",
    "        filename, fileext = os.path.splitext(file)\n",
    "        if fileext!='.jpg':\n",
    "            continue\n",
    "        if len(filename)>20:\n",
    "            continue\n",
    "        new_file = f'{filename[:20]:<20}'+fileext\n",
    "        shutil.copy(a+'/'+file, \n",
    "                  '/mnt/d/Jupyter/Capstone2/new_label_20/'+new_file)"
   ]
  },
  {
   "cell_type": "code",
   "execution_count": 8,
   "id": "84229627",
   "metadata": {},
   "outputs": [
    {
     "data": {
      "text/plain": [
       "'./new3//휴게음식점    .jpg'"
      ]
     },
     "execution_count": 8,
     "metadata": {},
     "output_type": "execute_result"
    }
   ],
   "source": [
    "a+'/'+file"
   ]
  },
  {
   "cell_type": "code",
   "execution_count": null,
   "id": "cb3870de",
   "metadata": {},
   "outputs": [],
   "source": [
    "for file in os.listdir(root):\n",
    "    print(file, len(os.path.splitext(file)[0]))`a"
   ]
  },
  {
   "cell_type": "code",
   "execution_count": 10,
   "id": "1a411d71",
   "metadata": {},
   "outputs": [
    {
     "data": {
      "text/plain": [
       "24"
      ]
     },
     "execution_count": 10,
     "metadata": {},
     "output_type": "execute_result"
    }
   ],
   "source": [
    "len(new_file)"
   ]
  }
 ],
 "metadata": {
  "kernelspec": {
   "display_name": "Python 3 (ipykernel)",
   "language": "python",
   "name": "python3"
  },
  "language_info": {
   "codemirror_mode": {
    "name": "ipython",
    "version": 3
   },
   "file_extension": ".py",
   "mimetype": "text/x-python",
   "name": "python",
   "nbconvert_exporter": "python",
   "pygments_lexer": "ipython3",
   "version": "3.8.10"
  }
 },
 "nbformat": 4,
 "nbformat_minor": 5
}
