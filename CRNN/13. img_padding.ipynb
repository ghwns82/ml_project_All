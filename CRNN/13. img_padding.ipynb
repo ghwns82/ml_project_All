{
 "cells": [
  {
   "cell_type": "markdown",
   "id": "9660965a",
   "metadata": {},
   "source": [
    "80, 60"
   ]
  },
  {
   "cell_type": "code",
   "execution_count": 6,
   "id": "88ebe2a1",
   "metadata": {},
   "outputs": [],
   "source": [
    "import cv2\n",
    "import matplotlib.pyplot as plt\n",
    "import numpy as np\n",
    "import os"
   ]
  },
  {
   "cell_type": "code",
   "execution_count": 17,
   "id": "bea86690",
   "metadata": {},
   "outputs": [
    {
     "name": "stdout",
     "output_type": "stream",
     "text": [
      "/mnt/d/Jupyter/Capstone2\n"
     ]
    }
   ],
   "source": [
    "cd .."
   ]
  },
  {
   "cell_type": "code",
   "execution_count": 14,
   "id": "e81749aa",
   "metadata": {},
   "outputs": [
    {
     "name": "stdout",
     "output_type": "stream",
     "text": [
      "[Errno 2] No such file or directory: 'Capstone2'\n",
      "/mnt/d/Jupyter/Capstone2\n"
     ]
    }
   ],
   "source": [
    "cd Capstone2"
   ]
  },
  {
   "cell_type": "code",
   "execution_count": 18,
   "id": "2f7c48d5",
   "metadata": {},
   "outputs": [
    {
     "name": "stdout",
     "output_type": "stream",
     "text": [
      "/mnt/d/Jupyter/Capstone2/train\n"
     ]
    }
   ],
   "source": [
    "cd train"
   ]
  },
  {
   "cell_type": "code",
   "execution_count": 19,
   "id": "68fb4344",
   "metadata": {
    "scrolled": true
   },
   "outputs": [],
   "source": [
    "for file in os.listdir('./'):\n",
    "    if file=='new3':\n",
    "        continue\n",
    "    img_len=len(file[:-4].strip())\n",
    "    img=cv2.imread(file,cv2.IMREAD_GRAYSCALE)\n",
    "    img=cv2.resize(img.astype('float32'),(64*img_len,64))\n",
    "    zero=np.zeros((64,64*(20-img_len)))\n",
    "    res=np.concatenate([img,zero],axis=1)\n",
    "    cv2.imwrite(f'./new3/{file}',res)"
   ]
  },
  {
   "cell_type": "code",
   "execution_count": null,
   "id": "904da0bf",
   "metadata": {},
   "outputs": [],
   "source": []
  }
 ],
 "metadata": {
  "kernelspec": {
   "display_name": "Python 3 (ipykernel)",
   "language": "python",
   "name": "python3"
  },
  "language_info": {
   "codemirror_mode": {
    "name": "ipython",
    "version": 3
   },
   "file_extension": ".py",
   "mimetype": "text/x-python",
   "name": "python",
   "nbconvert_exporter": "python",
   "pygments_lexer": "ipython3",
   "version": "3.8.10"
  }
 },
 "nbformat": 4,
 "nbformat_minor": 5
}
