{
 "cells": [
  {
   "cell_type": "markdown",
   "id": "662ca576",
   "metadata": {},
   "source": [
    "## 요약 정리\n",
    "\n",
    "dropna로 결측치를 삭제했더니 너무 많은 행이나, 인덱스가 삭제됨.\n",
    "* 원본   :   (1394216, 17)\n",
    "* axis=0 : (118688, 17)\n",
    "* axis=1 : (1394216, 3)\n",
    "상관관계를 분석해봤더니 상관관계 있는 특징정보가 없다.\n",
    "결론 : 특정 행만 기준을 잡아 삭제해야 한다."
   ]
  },
  {
   "cell_type": "code",
   "execution_count": 13,
   "id": "b56791cb",
   "metadata": {
    "ExecuteTime": {
     "end_time": "2022-10-08T11:31:39.676005Z",
     "start_time": "2022-10-08T11:31:39.671551Z"
    }
   },
   "outputs": [],
   "source": [
    "import pandas as pd\n",
    "import numpy as np\n",
    "import os\n",
    "import random\n",
    "\n",
    "import matplotlib.pyplot as plt\n",
    "import seaborn as sb\n",
    "\n",
    "from sklearn.ensemble import RandomForestClassifier\n",
    "from sklearn.model_selection import train_test_split"
   ]
  },
  {
   "cell_type": "code",
   "execution_count": 2,
   "id": "54cf7d65",
   "metadata": {
    "ExecuteTime": {
     "end_time": "2022-10-08T11:24:45.672782Z",
     "start_time": "2022-10-08T11:24:15.311166Z"
    }
   },
   "outputs": [],
   "source": [
    "user_df = pd.read_csv('./data/user_spec.csv')\n",
    "loan_df = pd.read_csv('./data/loan_result.csv')\n",
    "log_df = pd.read_csv('./data/log_data.csv' )"
   ]
  },
  {
   "cell_type": "code",
   "execution_count": 57,
   "id": "33ed8d64",
   "metadata": {
    "ExecuteTime": {
     "end_time": "2022-10-08T11:17:45.707969Z",
     "start_time": "2022-10-08T11:17:45.696333Z"
    }
   },
   "outputs": [],
   "source": [
    "user_df['age'] = 2022-user_df['birth_year']"
   ]
  },
  {
   "cell_type": "code",
   "execution_count": 39,
   "id": "7ece22a8",
   "metadata": {
    "ExecuteTime": {
     "end_time": "2022-10-08T11:00:45.345398Z",
     "start_time": "2022-10-08T11:00:45.338100Z"
    }
   },
   "outputs": [
    {
     "data": {
      "text/plain": [
       "(1394216, 17)"
      ]
     },
     "execution_count": 39,
     "metadata": {},
     "output_type": "execute_result"
    }
   ],
   "source": [
    "user_df.shape"
   ]
  },
  {
   "cell_type": "code",
   "execution_count": 46,
   "id": "9e567955",
   "metadata": {
    "ExecuteTime": {
     "end_time": "2022-10-08T11:04:02.257662Z",
     "start_time": "2022-10-08T11:04:01.732102Z"
    }
   },
   "outputs": [],
   "source": [
    "tmp = user_df.dropna(axis=0)"
   ]
  },
  {
   "cell_type": "code",
   "execution_count": 47,
   "id": "8e767acf",
   "metadata": {
    "ExecuteTime": {
     "end_time": "2022-10-08T11:04:06.735973Z",
     "start_time": "2022-10-08T11:04:06.728221Z"
    }
   },
   "outputs": [
    {
     "data": {
      "text/plain": [
       "(118688, 17)"
      ]
     },
     "execution_count": 47,
     "metadata": {},
     "output_type": "execute_result"
    }
   ],
   "source": [
    "tmp.shape"
   ]
  },
  {
   "cell_type": "code",
   "execution_count": 48,
   "id": "aff82399",
   "metadata": {
    "ExecuteTime": {
     "end_time": "2022-10-08T11:04:39.022744Z",
     "start_time": "2022-10-08T11:04:38.879976Z"
    }
   },
   "outputs": [
    {
     "data": {
      "text/html": [
       "<div>\n",
       "<style scoped>\n",
       "    .dataframe tbody tr th:only-of-type {\n",
       "        vertical-align: middle;\n",
       "    }\n",
       "\n",
       "    .dataframe tbody tr th {\n",
       "        vertical-align: top;\n",
       "    }\n",
       "\n",
       "    .dataframe thead th {\n",
       "        text-align: right;\n",
       "    }\n",
       "</style>\n",
       "<table border=\"1\" class=\"dataframe\">\n",
       "  <thead>\n",
       "    <tr style=\"text-align: right;\">\n",
       "      <th></th>\n",
       "      <th>application_id</th>\n",
       "      <th>user_id</th>\n",
       "      <th>birth_year</th>\n",
       "      <th>gender</th>\n",
       "      <th>credit_score</th>\n",
       "      <th>yearly_income</th>\n",
       "      <th>company_enter_month</th>\n",
       "      <th>desired_amount</th>\n",
       "      <th>personal_rehabilitation_yn</th>\n",
       "      <th>personal_rehabilitation_complete_yn</th>\n",
       "      <th>existing_loan_cnt</th>\n",
       "      <th>existing_loan_amt</th>\n",
       "    </tr>\n",
       "  </thead>\n",
       "  <tbody>\n",
       "    <tr>\n",
       "      <th>application_id</th>\n",
       "      <td>1.000000</td>\n",
       "      <td>-0.003945</td>\n",
       "      <td>0.000791</td>\n",
       "      <td>-0.002190</td>\n",
       "      <td>-0.001692</td>\n",
       "      <td>0.000555</td>\n",
       "      <td>-0.000641</td>\n",
       "      <td>0.001540</td>\n",
       "      <td>-0.000381</td>\n",
       "      <td>-0.000843</td>\n",
       "      <td>0.000811</td>\n",
       "      <td>-0.003538</td>\n",
       "    </tr>\n",
       "    <tr>\n",
       "      <th>user_id</th>\n",
       "      <td>-0.003945</td>\n",
       "      <td>1.000000</td>\n",
       "      <td>-0.009176</td>\n",
       "      <td>0.002725</td>\n",
       "      <td>0.012431</td>\n",
       "      <td>0.011753</td>\n",
       "      <td>0.006039</td>\n",
       "      <td>0.000920</td>\n",
       "      <td>0.005362</td>\n",
       "      <td>0.004934</td>\n",
       "      <td>-0.015219</td>\n",
       "      <td>0.008395</td>\n",
       "    </tr>\n",
       "    <tr>\n",
       "      <th>birth_year</th>\n",
       "      <td>0.000791</td>\n",
       "      <td>-0.009176</td>\n",
       "      <td>1.000000</td>\n",
       "      <td>-0.001111</td>\n",
       "      <td>0.005315</td>\n",
       "      <td>-0.114333</td>\n",
       "      <td>-0.001240</td>\n",
       "      <td>-0.044340</td>\n",
       "      <td>-0.241131</td>\n",
       "      <td>-0.064479</td>\n",
       "      <td>-0.098104</td>\n",
       "      <td>-0.258315</td>\n",
       "    </tr>\n",
       "    <tr>\n",
       "      <th>gender</th>\n",
       "      <td>-0.002190</td>\n",
       "      <td>0.002725</td>\n",
       "      <td>-0.001111</td>\n",
       "      <td>1.000000</td>\n",
       "      <td>0.005591</td>\n",
       "      <td>0.049655</td>\n",
       "      <td>-0.001935</td>\n",
       "      <td>0.020209</td>\n",
       "      <td>0.022978</td>\n",
       "      <td>0.006067</td>\n",
       "      <td>0.021048</td>\n",
       "      <td>0.077300</td>\n",
       "    </tr>\n",
       "    <tr>\n",
       "      <th>credit_score</th>\n",
       "      <td>-0.001692</td>\n",
       "      <td>0.012431</td>\n",
       "      <td>0.005315</td>\n",
       "      <td>0.005591</td>\n",
       "      <td>1.000000</td>\n",
       "      <td>0.053107</td>\n",
       "      <td>-0.001455</td>\n",
       "      <td>0.071833</td>\n",
       "      <td>-0.360053</td>\n",
       "      <td>-0.081419</td>\n",
       "      <td>-0.080825</td>\n",
       "      <td>0.158519</td>\n",
       "    </tr>\n",
       "    <tr>\n",
       "      <th>yearly_income</th>\n",
       "      <td>0.000555</td>\n",
       "      <td>0.011753</td>\n",
       "      <td>-0.114333</td>\n",
       "      <td>0.049655</td>\n",
       "      <td>0.053107</td>\n",
       "      <td>1.000000</td>\n",
       "      <td>0.006007</td>\n",
       "      <td>0.036594</td>\n",
       "      <td>-0.000024</td>\n",
       "      <td>0.001144</td>\n",
       "      <td>0.012833</td>\n",
       "      <td>0.127002</td>\n",
       "    </tr>\n",
       "    <tr>\n",
       "      <th>company_enter_month</th>\n",
       "      <td>-0.000641</td>\n",
       "      <td>0.006039</td>\n",
       "      <td>-0.001240</td>\n",
       "      <td>-0.001935</td>\n",
       "      <td>-0.001455</td>\n",
       "      <td>0.006007</td>\n",
       "      <td>1.000000</td>\n",
       "      <td>0.001952</td>\n",
       "      <td>-0.001801</td>\n",
       "      <td>-0.006445</td>\n",
       "      <td>-0.007713</td>\n",
       "      <td>-0.001249</td>\n",
       "    </tr>\n",
       "    <tr>\n",
       "      <th>desired_amount</th>\n",
       "      <td>0.001540</td>\n",
       "      <td>0.000920</td>\n",
       "      <td>-0.044340</td>\n",
       "      <td>0.020209</td>\n",
       "      <td>0.071833</td>\n",
       "      <td>0.036594</td>\n",
       "      <td>0.001952</td>\n",
       "      <td>1.000000</td>\n",
       "      <td>0.004035</td>\n",
       "      <td>0.009415</td>\n",
       "      <td>-0.022587</td>\n",
       "      <td>0.055543</td>\n",
       "    </tr>\n",
       "    <tr>\n",
       "      <th>personal_rehabilitation_yn</th>\n",
       "      <td>-0.000381</td>\n",
       "      <td>0.005362</td>\n",
       "      <td>-0.241131</td>\n",
       "      <td>0.022978</td>\n",
       "      <td>-0.360053</td>\n",
       "      <td>-0.000024</td>\n",
       "      <td>-0.001801</td>\n",
       "      <td>0.004035</td>\n",
       "      <td>1.000000</td>\n",
       "      <td>0.306477</td>\n",
       "      <td>-0.089781</td>\n",
       "      <td>-0.074946</td>\n",
       "    </tr>\n",
       "    <tr>\n",
       "      <th>personal_rehabilitation_complete_yn</th>\n",
       "      <td>-0.000843</td>\n",
       "      <td>0.004934</td>\n",
       "      <td>-0.064479</td>\n",
       "      <td>0.006067</td>\n",
       "      <td>-0.081419</td>\n",
       "      <td>0.001144</td>\n",
       "      <td>-0.006445</td>\n",
       "      <td>0.009415</td>\n",
       "      <td>0.306477</td>\n",
       "      <td>1.000000</td>\n",
       "      <td>-0.032692</td>\n",
       "      <td>-0.021919</td>\n",
       "    </tr>\n",
       "    <tr>\n",
       "      <th>existing_loan_cnt</th>\n",
       "      <td>0.000811</td>\n",
       "      <td>-0.015219</td>\n",
       "      <td>-0.098104</td>\n",
       "      <td>0.021048</td>\n",
       "      <td>-0.080825</td>\n",
       "      <td>0.012833</td>\n",
       "      <td>-0.007713</td>\n",
       "      <td>-0.022587</td>\n",
       "      <td>-0.089781</td>\n",
       "      <td>-0.032692</td>\n",
       "      <td>1.000000</td>\n",
       "      <td>0.238511</td>\n",
       "    </tr>\n",
       "    <tr>\n",
       "      <th>existing_loan_amt</th>\n",
       "      <td>-0.003538</td>\n",
       "      <td>0.008395</td>\n",
       "      <td>-0.258315</td>\n",
       "      <td>0.077300</td>\n",
       "      <td>0.158519</td>\n",
       "      <td>0.127002</td>\n",
       "      <td>-0.001249</td>\n",
       "      <td>0.055543</td>\n",
       "      <td>-0.074946</td>\n",
       "      <td>-0.021919</td>\n",
       "      <td>0.238511</td>\n",
       "      <td>1.000000</td>\n",
       "    </tr>\n",
       "  </tbody>\n",
       "</table>\n",
       "</div>"
      ],
      "text/plain": [
       "                                     application_id   user_id  birth_year  \\\n",
       "application_id                             1.000000 -0.003945    0.000791   \n",
       "user_id                                   -0.003945  1.000000   -0.009176   \n",
       "birth_year                                 0.000791 -0.009176    1.000000   \n",
       "gender                                    -0.002190  0.002725   -0.001111   \n",
       "credit_score                              -0.001692  0.012431    0.005315   \n",
       "yearly_income                              0.000555  0.011753   -0.114333   \n",
       "company_enter_month                       -0.000641  0.006039   -0.001240   \n",
       "desired_amount                             0.001540  0.000920   -0.044340   \n",
       "personal_rehabilitation_yn                -0.000381  0.005362   -0.241131   \n",
       "personal_rehabilitation_complete_yn       -0.000843  0.004934   -0.064479   \n",
       "existing_loan_cnt                          0.000811 -0.015219   -0.098104   \n",
       "existing_loan_amt                         -0.003538  0.008395   -0.258315   \n",
       "\n",
       "                                       gender  credit_score  yearly_income  \\\n",
       "application_id                      -0.002190     -0.001692       0.000555   \n",
       "user_id                              0.002725      0.012431       0.011753   \n",
       "birth_year                          -0.001111      0.005315      -0.114333   \n",
       "gender                               1.000000      0.005591       0.049655   \n",
       "credit_score                         0.005591      1.000000       0.053107   \n",
       "yearly_income                        0.049655      0.053107       1.000000   \n",
       "company_enter_month                 -0.001935     -0.001455       0.006007   \n",
       "desired_amount                       0.020209      0.071833       0.036594   \n",
       "personal_rehabilitation_yn           0.022978     -0.360053      -0.000024   \n",
       "personal_rehabilitation_complete_yn  0.006067     -0.081419       0.001144   \n",
       "existing_loan_cnt                    0.021048     -0.080825       0.012833   \n",
       "existing_loan_amt                    0.077300      0.158519       0.127002   \n",
       "\n",
       "                                     company_enter_month  desired_amount  \\\n",
       "application_id                                 -0.000641        0.001540   \n",
       "user_id                                         0.006039        0.000920   \n",
       "birth_year                                     -0.001240       -0.044340   \n",
       "gender                                         -0.001935        0.020209   \n",
       "credit_score                                   -0.001455        0.071833   \n",
       "yearly_income                                   0.006007        0.036594   \n",
       "company_enter_month                             1.000000        0.001952   \n",
       "desired_amount                                  0.001952        1.000000   \n",
       "personal_rehabilitation_yn                     -0.001801        0.004035   \n",
       "personal_rehabilitation_complete_yn            -0.006445        0.009415   \n",
       "existing_loan_cnt                              -0.007713       -0.022587   \n",
       "existing_loan_amt                              -0.001249        0.055543   \n",
       "\n",
       "                                     personal_rehabilitation_yn  \\\n",
       "application_id                                        -0.000381   \n",
       "user_id                                                0.005362   \n",
       "birth_year                                            -0.241131   \n",
       "gender                                                 0.022978   \n",
       "credit_score                                          -0.360053   \n",
       "yearly_income                                         -0.000024   \n",
       "company_enter_month                                   -0.001801   \n",
       "desired_amount                                         0.004035   \n",
       "personal_rehabilitation_yn                             1.000000   \n",
       "personal_rehabilitation_complete_yn                    0.306477   \n",
       "existing_loan_cnt                                     -0.089781   \n",
       "existing_loan_amt                                     -0.074946   \n",
       "\n",
       "                                     personal_rehabilitation_complete_yn  \\\n",
       "application_id                                                 -0.000843   \n",
       "user_id                                                         0.004934   \n",
       "birth_year                                                     -0.064479   \n",
       "gender                                                          0.006067   \n",
       "credit_score                                                   -0.081419   \n",
       "yearly_income                                                   0.001144   \n",
       "company_enter_month                                            -0.006445   \n",
       "desired_amount                                                  0.009415   \n",
       "personal_rehabilitation_yn                                      0.306477   \n",
       "personal_rehabilitation_complete_yn                             1.000000   \n",
       "existing_loan_cnt                                              -0.032692   \n",
       "existing_loan_amt                                              -0.021919   \n",
       "\n",
       "                                     existing_loan_cnt  existing_loan_amt  \n",
       "application_id                                0.000811          -0.003538  \n",
       "user_id                                      -0.015219           0.008395  \n",
       "birth_year                                   -0.098104          -0.258315  \n",
       "gender                                        0.021048           0.077300  \n",
       "credit_score                                 -0.080825           0.158519  \n",
       "yearly_income                                 0.012833           0.127002  \n",
       "company_enter_month                          -0.007713          -0.001249  \n",
       "desired_amount                               -0.022587           0.055543  \n",
       "personal_rehabilitation_yn                   -0.089781          -0.074946  \n",
       "personal_rehabilitation_complete_yn          -0.032692          -0.021919  \n",
       "existing_loan_cnt                             1.000000           0.238511  \n",
       "existing_loan_amt                             0.238511           1.000000  "
      ]
     },
     "execution_count": 48,
     "metadata": {},
     "output_type": "execute_result"
    }
   ],
   "source": [
    "tmp.dropna(axis=0).corr()"
   ]
  },
  {
   "cell_type": "code",
   "execution_count": 49,
   "id": "0bb95a1f",
   "metadata": {
    "ExecuteTime": {
     "end_time": "2022-10-08T11:04:51.750544Z",
     "start_time": "2022-10-08T11:04:51.425488Z"
    }
   },
   "outputs": [
    {
     "data": {
      "text/plain": [
       "(1394216, 3)"
      ]
     },
     "execution_count": 49,
     "metadata": {},
     "output_type": "execute_result"
    }
   ],
   "source": [
    "tmp = user_df.dropna(axis=1)\n",
    "tmp.shape"
   ]
  },
  {
   "cell_type": "code",
   "execution_count": 50,
   "id": "f999349e",
   "metadata": {
    "ExecuteTime": {
     "end_time": "2022-10-08T11:13:12.229362Z",
     "start_time": "2022-10-08T11:13:11.883899Z"
    }
   },
   "outputs": [
    {
     "data": {
      "text/plain": [
       "application_id                               0\n",
       "user_id                                      0\n",
       "birth_year                               12961\n",
       "gender                                   12961\n",
       "insert_time                                  0\n",
       "credit_score                            105115\n",
       "yearly_income                               90\n",
       "income_type                                 85\n",
       "company_enter_month                     171760\n",
       "employment_type                             85\n",
       "houseown_type                               85\n",
       "desired_amount                              85\n",
       "purpose                                     85\n",
       "personal_rehabilitation_yn              587461\n",
       "personal_rehabilitation_complete_yn    1203354\n",
       "existing_loan_cnt                       198556\n",
       "existing_loan_amt                       313774\n",
       "dtype: int64"
      ]
     },
     "execution_count": 50,
     "metadata": {},
     "output_type": "execute_result"
    }
   ],
   "source": [
    "user_df.isnull().sum()"
   ]
  },
  {
   "cell_type": "code",
   "execution_count": 65,
   "id": "d9bd973b",
   "metadata": {
    "ExecuteTime": {
     "end_time": "2022-10-08T11:22:42.906932Z",
     "start_time": "2022-10-08T11:22:42.221163Z"
    }
   },
   "outputs": [],
   "source": [
    "tmp=user_df.drop(['application_id',\n",
    "                  'user_id',\n",
    "                  'birth_year',\n",
    "                  'personal_rehabilitation_complete_yn'], axis=1)\n",
    "tmp.dropna(axis=0, inplace = True)"
   ]
  },
  {
   "cell_type": "code",
   "execution_count": 66,
   "id": "990b0671",
   "metadata": {
    "ExecuteTime": {
     "end_time": "2022-10-08T11:22:43.628663Z",
     "start_time": "2022-10-08T11:22:43.443217Z"
    }
   },
   "outputs": [
    {
     "data": {
      "text/html": [
       "<div>\n",
       "<style scoped>\n",
       "    .dataframe tbody tr th:only-of-type {\n",
       "        vertical-align: middle;\n",
       "    }\n",
       "\n",
       "    .dataframe tbody tr th {\n",
       "        vertical-align: top;\n",
       "    }\n",
       "\n",
       "    .dataframe thead th {\n",
       "        text-align: right;\n",
       "    }\n",
       "</style>\n",
       "<table border=\"1\" class=\"dataframe\">\n",
       "  <thead>\n",
       "    <tr style=\"text-align: right;\">\n",
       "      <th></th>\n",
       "      <th>gender</th>\n",
       "      <th>credit_score</th>\n",
       "      <th>yearly_income</th>\n",
       "      <th>company_enter_month</th>\n",
       "      <th>desired_amount</th>\n",
       "      <th>personal_rehabilitation_yn</th>\n",
       "      <th>existing_loan_cnt</th>\n",
       "      <th>existing_loan_amt</th>\n",
       "      <th>age</th>\n",
       "    </tr>\n",
       "  </thead>\n",
       "  <tbody>\n",
       "    <tr>\n",
       "      <th>gender</th>\n",
       "      <td>1.00</td>\n",
       "      <td>0.03</td>\n",
       "      <td>0.05</td>\n",
       "      <td>-0.00</td>\n",
       "      <td>0.02</td>\n",
       "      <td>-0.01</td>\n",
       "      <td>0.01</td>\n",
       "      <td>0.09</td>\n",
       "      <td>-0.05</td>\n",
       "    </tr>\n",
       "    <tr>\n",
       "      <th>credit_score</th>\n",
       "      <td>0.03</td>\n",
       "      <td>1.00</td>\n",
       "      <td>0.05</td>\n",
       "      <td>0.00</td>\n",
       "      <td>0.08</td>\n",
       "      <td>-0.19</td>\n",
       "      <td>-0.13</td>\n",
       "      <td>0.16</td>\n",
       "      <td>0.06</td>\n",
       "    </tr>\n",
       "    <tr>\n",
       "      <th>yearly_income</th>\n",
       "      <td>0.05</td>\n",
       "      <td>0.05</td>\n",
       "      <td>1.00</td>\n",
       "      <td>0.00</td>\n",
       "      <td>0.15</td>\n",
       "      <td>-0.01</td>\n",
       "      <td>0.02</td>\n",
       "      <td>0.11</td>\n",
       "      <td>0.07</td>\n",
       "    </tr>\n",
       "    <tr>\n",
       "      <th>company_enter_month</th>\n",
       "      <td>-0.00</td>\n",
       "      <td>0.00</td>\n",
       "      <td>0.00</td>\n",
       "      <td>1.00</td>\n",
       "      <td>0.00</td>\n",
       "      <td>-0.00</td>\n",
       "      <td>-0.01</td>\n",
       "      <td>0.00</td>\n",
       "      <td>-0.00</td>\n",
       "    </tr>\n",
       "    <tr>\n",
       "      <th>desired_amount</th>\n",
       "      <td>0.02</td>\n",
       "      <td>0.08</td>\n",
       "      <td>0.15</td>\n",
       "      <td>0.00</td>\n",
       "      <td>1.00</td>\n",
       "      <td>-0.00</td>\n",
       "      <td>-0.03</td>\n",
       "      <td>0.05</td>\n",
       "      <td>0.02</td>\n",
       "    </tr>\n",
       "    <tr>\n",
       "      <th>personal_rehabilitation_yn</th>\n",
       "      <td>-0.01</td>\n",
       "      <td>-0.19</td>\n",
       "      <td>-0.01</td>\n",
       "      <td>-0.00</td>\n",
       "      <td>-0.00</td>\n",
       "      <td>1.00</td>\n",
       "      <td>-0.05</td>\n",
       "      <td>-0.05</td>\n",
       "      <td>0.02</td>\n",
       "    </tr>\n",
       "    <tr>\n",
       "      <th>existing_loan_cnt</th>\n",
       "      <td>0.01</td>\n",
       "      <td>-0.13</td>\n",
       "      <td>0.02</td>\n",
       "      <td>-0.01</td>\n",
       "      <td>-0.03</td>\n",
       "      <td>-0.05</td>\n",
       "      <td>1.00</td>\n",
       "      <td>0.27</td>\n",
       "      <td>0.10</td>\n",
       "    </tr>\n",
       "    <tr>\n",
       "      <th>existing_loan_amt</th>\n",
       "      <td>0.09</td>\n",
       "      <td>0.16</td>\n",
       "      <td>0.11</td>\n",
       "      <td>0.00</td>\n",
       "      <td>0.05</td>\n",
       "      <td>-0.05</td>\n",
       "      <td>0.27</td>\n",
       "      <td>1.00</td>\n",
       "      <td>0.17</td>\n",
       "    </tr>\n",
       "    <tr>\n",
       "      <th>age</th>\n",
       "      <td>-0.05</td>\n",
       "      <td>0.06</td>\n",
       "      <td>0.07</td>\n",
       "      <td>-0.00</td>\n",
       "      <td>0.02</td>\n",
       "      <td>0.02</td>\n",
       "      <td>0.10</td>\n",
       "      <td>0.17</td>\n",
       "      <td>1.00</td>\n",
       "    </tr>\n",
       "  </tbody>\n",
       "</table>\n",
       "</div>"
      ],
      "text/plain": [
       "                            gender  credit_score  yearly_income  \\\n",
       "gender                        1.00          0.03           0.05   \n",
       "credit_score                  0.03          1.00           0.05   \n",
       "yearly_income                 0.05          0.05           1.00   \n",
       "company_enter_month          -0.00          0.00           0.00   \n",
       "desired_amount                0.02          0.08           0.15   \n",
       "personal_rehabilitation_yn   -0.01         -0.19          -0.01   \n",
       "existing_loan_cnt             0.01         -0.13           0.02   \n",
       "existing_loan_amt             0.09          0.16           0.11   \n",
       "age                          -0.05          0.06           0.07   \n",
       "\n",
       "                            company_enter_month  desired_amount  \\\n",
       "gender                                    -0.00            0.02   \n",
       "credit_score                               0.00            0.08   \n",
       "yearly_income                              0.00            0.15   \n",
       "company_enter_month                        1.00            0.00   \n",
       "desired_amount                             0.00            1.00   \n",
       "personal_rehabilitation_yn                -0.00           -0.00   \n",
       "existing_loan_cnt                         -0.01           -0.03   \n",
       "existing_loan_amt                          0.00            0.05   \n",
       "age                                       -0.00            0.02   \n",
       "\n",
       "                            personal_rehabilitation_yn  existing_loan_cnt  \\\n",
       "gender                                           -0.01               0.01   \n",
       "credit_score                                     -0.19              -0.13   \n",
       "yearly_income                                    -0.01               0.02   \n",
       "company_enter_month                              -0.00              -0.01   \n",
       "desired_amount                                   -0.00              -0.03   \n",
       "personal_rehabilitation_yn                        1.00              -0.05   \n",
       "existing_loan_cnt                                -0.05               1.00   \n",
       "existing_loan_amt                                -0.05               0.27   \n",
       "age                                               0.02               0.10   \n",
       "\n",
       "                            existing_loan_amt   age  \n",
       "gender                                   0.09 -0.05  \n",
       "credit_score                             0.16  0.06  \n",
       "yearly_income                            0.11  0.07  \n",
       "company_enter_month                      0.00 -0.00  \n",
       "desired_amount                           0.05  0.02  \n",
       "personal_rehabilitation_yn              -0.05  0.02  \n",
       "existing_loan_cnt                        0.27  0.10  \n",
       "existing_loan_amt                        1.00  0.17  \n",
       "age                                      0.17  1.00  "
      ]
     },
     "execution_count": 66,
     "metadata": {},
     "output_type": "execute_result"
    }
   ],
   "source": [
    "tmp.corr()"
   ]
  },
  {
   "cell_type": "code",
   "execution_count": 67,
   "id": "8a1391ad",
   "metadata": {
    "ExecuteTime": {
     "end_time": "2022-10-08T11:22:53.409534Z",
     "start_time": "2022-10-08T11:22:52.445064Z"
    }
   },
   "outputs": [
    {
     "data": {
      "text/plain": [
       "<AxesSubplot:>"
      ]
     },
     "execution_count": 67,
     "metadata": {},
     "output_type": "execute_result"
    },
    {
     "data": {
      "image/png": "[encoded data removed]",
      "text/plain": [
       "<Figure size 432x288 with 2 Axes>"
      ]
     },
     "metadata": {
      "needs_background": "light"
     },
     "output_type": "display_data"
    }
   ],
   "source": [
    "pd.options.display.float_format = '{:.2f}'.format\n",
    "sb.heatmap(tmp.corr(),\n",
    "           annot = True, #실제 값 화면에 나타내기\n",
    "           cmap = 'Greens', #색상\n",
    "           vmin = -1, vmax=1 , #컬러차트 영역 -1 ~ +1\n",
    "           fmt=\".2f\"\n",
    "          )"
   ]
  }
 ],
 "metadata": {
  "kernelspec": {
   "display_name": "Python 3 (ipykernel)",
   "language": "python",
   "name": "python3"
  },
  "language_info": {
   "codemirror_mode": {
    "name": "ipython",
    "version": 3
   },
   "file_extension": ".py",
   "mimetype": "text/x-python",
   "name": "python",
   "nbconvert_exporter": "python",
   "pygments_lexer": "ipython3",
   "version": "3.8.10"
  },
  "toc": {
   "base_numbering": 1,
   "nav_menu": {},
   "number_sections": true,
   "sideBar": true,
   "skip_h1_title": false,
   "title_cell": "Table of Contents",
   "title_sidebar": "Contents",
   "toc_cell": false,
   "toc_position": {},
   "toc_section_display": true,
   "toc_window_display": false
  }
 },
 "nbformat": 4,
 "nbformat_minor": 5
}
