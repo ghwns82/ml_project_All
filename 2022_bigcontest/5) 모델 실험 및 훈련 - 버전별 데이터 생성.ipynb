{
 "cells": [
  {
   "cell_type": "code",
   "execution_count": 2,
   "id": "39bacd38",
   "metadata": {
    "ExecuteTime": {
     "end_time": "2022-10-13T18:43:20.840375Z",
     "start_time": "2022-10-13T18:43:19.727899Z"
    }
   },
   "outputs": [],
   "source": [
    "import pandas as pd\n",
    "import numpy as np\n",
    "import os\n",
    "import random\n",
    "from copy import deepcopy\n",
    "import math\n",
    "from itertools import product\n",
    "import pickle\n",
    "import joblib\n",
    "from tqdm import tqdm\n",
    "\n",
    "import matplotlib.pyplot as plt\n",
    "import seaborn as sb\n",
    "\n",
    "from sklearn.ensemble import RandomForestClassifier\n",
    "from sklearn.model_selection import train_test_split\n",
    "from sklearn.metrics import f1_score, confusion_matrix, ConfusionMatrixDisplay"
   ]
  },
  {
   "cell_type": "code",
   "execution_count": 12,
   "id": "e7139747",
   "metadata": {
    "ExecuteTime": {
     "end_time": "2022-10-13T14:25:03.683615Z",
     "start_time": "2022-10-13T14:24:57.666960Z"
    }
   },
   "outputs": [],
   "source": [
    "loan_df = pd.read_csv('./data/loan_result.csv')"
   ]
  },
  {
   "cell_type": "code",
   "execution_count": 7,
   "id": "9eeaa0fb",
   "metadata": {
    "ExecuteTime": {
     "end_time": "2022-10-13T14:23:28.730546Z",
     "start_time": "2022-10-13T14:22:50.549167Z"
    }
   },
   "outputs": [],
   "source": [
    "merged_ver_2_0 = pd.read_csv('./valiData/merged_ver_2_0.csv',index_col=0)"
   ]
  },
  {
   "cell_type": "markdown",
   "id": "fcde5ad0",
   "metadata": {},
   "source": [
    "# 의미를 부여하여 결측치 처리하기"
   ]
  },
  {
   "cell_type": "markdown",
   "id": "296055cb",
   "metadata": {},
   "source": [
    "## 데이터 확인"
   ]
  },
  {
   "cell_type": "code",
   "execution_count": 8,
   "id": "9b7ef823",
   "metadata": {
    "ExecuteTime": {
     "end_time": "2022-10-13T14:23:37.285270Z",
     "start_time": "2022-10-13T14:23:37.280582Z"
    }
   },
   "outputs": [
    {
     "data": {
      "text/plain": [
       "(13527250, 23)"
      ]
     },
     "execution_count": 8,
     "metadata": {},
     "output_type": "execute_result"
    }
   ],
   "source": [
    "merged_ver_2_0.shape"
   ]
  },
  {
   "cell_type": "code",
   "execution_count": 9,
   "id": "dd36a433",
   "metadata": {
    "ExecuteTime": {
     "end_time": "2022-10-13T14:23:52.402541Z",
     "start_time": "2022-10-13T14:23:45.947383Z"
    }
   },
   "outputs": [
    {
     "data": {
      "text/plain": [
       "birth_year                               108227\n",
       "gender                                   108227\n",
       "credit_score                            1311773\n",
       "company_enter_month                      306537\n",
       "personal_rehabilitation_yn              2934375\n",
       "personal_rehabilitation_complete_yn    11162940\n",
       "existing_loan_cnt                       2685709\n",
       "existing_loan_amt                       3890163\n",
       "loan_limit                                   10\n",
       "loan_rate                                    10\n",
       "is_applied                              3257239\n",
       "dtype: int64"
      ]
     },
     "execution_count": 9,
     "metadata": {},
     "output_type": "execute_result"
    }
   ],
   "source": [
    "(merged_ver_2_0.isnull().sum())[merged_ver_2_0.isnull().sum()!=0]"
   ]
  },
  {
   "cell_type": "code",
   "execution_count": 10,
   "id": "98923751",
   "metadata": {
    "ExecuteTime": {
     "end_time": "2022-10-13T14:24:03.611147Z",
     "start_time": "2022-10-13T14:24:00.921319Z"
    }
   },
   "outputs": [
    {
     "data": {
      "text/plain": [
       "birth_year                               30960\n",
       "gender                                   30960\n",
       "credit_score                            256483\n",
       "company_enter_month                      75881\n",
       "personal_rehabilitation_yn               14664\n",
       "personal_rehabilitation_complete_yn    2538395\n",
       "existing_loan_cnt                       541898\n",
       "existing_loan_amt                       846023\n",
       "loan_limit                                   2\n",
       "loan_rate                                    2\n",
       "is_applied                             3257239\n",
       "dtype: int64"
      ]
     },
     "execution_count": 10,
     "metadata": {},
     "output_type": "execute_result"
    }
   ],
   "source": [
    "(merged_ver_2_0[merged_ver_2_0['is_applied'].isnull()==True].isnull().sum())[merged_ver_2_0[merged_ver_2_0['is_applied'].isnull()==True].isnull().sum()!=0]"
   ]
  },
  {
   "cell_type": "code",
   "execution_count": 13,
   "id": "6b7c2639",
   "metadata": {
    "ExecuteTime": {
     "end_time": "2022-10-13T14:25:23.811195Z",
     "start_time": "2022-10-13T14:25:23.700329Z"
    }
   },
   "outputs": [
    {
     "data": {
      "text/plain": [
       "3257239"
      ]
     },
     "execution_count": 13,
     "metadata": {},
     "output_type": "execute_result"
    }
   ],
   "source": [
    "len(loan_df[loan_df['is_applied'].isnull()==True])"
   ]
  },
  {
   "cell_type": "markdown",
   "id": "2584e4df",
   "metadata": {},
   "source": [
    "## existing_loan_cnt & existing_loan_amt"
   ]
  },
  {
   "cell_type": "code",
   "execution_count": 15,
   "id": "ee641e35",
   "metadata": {
    "ExecuteTime": {
     "end_time": "2022-10-13T14:25:47.557134Z",
     "start_time": "2022-10-13T14:25:46.713376Z"
    }
   },
   "outputs": [
    {
     "data": {
      "text/plain": [
       "1.0    1204454\n",
       "Name: existing_loan_cnt, dtype: int64"
      ]
     },
     "execution_count": 15,
     "metadata": {},
     "output_type": "execute_result"
    }
   ],
   "source": [
    "merged_ver_2_0[(merged_ver_2_0['existing_loan_amt'].isnull()==True)]['existing_loan_cnt'].value_counts()"
   ]
  },
  {
   "cell_type": "code",
   "execution_count": 16,
   "id": "1ead676e",
   "metadata": {
    "ExecuteTime": {
     "end_time": "2022-10-13T14:26:13.468216Z",
     "start_time": "2022-10-13T14:26:12.413141Z"
    }
   },
   "outputs": [],
   "source": [
    "merged_ver_2_0.loc[merged_ver_2_0[(merged_ver_2_0['existing_loan_amt'].isnull()==True) & (merged_ver_2_0['existing_loan_cnt']==1)].index, 'existing_loan_amt'] = -100"
   ]
  },
  {
   "cell_type": "code",
   "execution_count": 17,
   "id": "9b1e5b3e",
   "metadata": {
    "ExecuteTime": {
     "end_time": "2022-10-13T14:26:27.457010Z",
     "start_time": "2022-10-13T14:26:22.310963Z"
    }
   },
   "outputs": [
    {
     "data": {
      "text/plain": [
       "birth_year                               108227\n",
       "gender                                   108227\n",
       "credit_score                            1311773\n",
       "company_enter_month                      306537\n",
       "personal_rehabilitation_yn              2934375\n",
       "personal_rehabilitation_complete_yn    11162940\n",
       "existing_loan_cnt                       2685709\n",
       "existing_loan_amt                       2685709\n",
       "loan_limit                                   10\n",
       "loan_rate                                    10\n",
       "is_applied                              3257239\n",
       "dtype: int64"
      ]
     },
     "execution_count": 17,
     "metadata": {},
     "output_type": "execute_result"
    }
   ],
   "source": [
    "(merged_ver_2_0.isnull().sum())[merged_ver_2_0.isnull().sum()!=0]"
   ]
  },
  {
   "cell_type": "code",
   "execution_count": 18,
   "id": "9c176a39",
   "metadata": {
    "ExecuteTime": {
     "end_time": "2022-10-13T14:26:38.129089Z",
     "start_time": "2022-10-13T14:26:36.284160Z"
    }
   },
   "outputs": [
    {
     "data": {
      "text/plain": [
       "True"
      ]
     },
     "execution_count": 18,
     "metadata": {},
     "output_type": "execute_result"
    }
   ],
   "source": [
    "set(merged_ver_2_0[merged_ver_2_0['existing_loan_amt'].isnull()==True].index) ==\\\n",
    "set(merged_ver_2_0[merged_ver_2_0['existing_loan_cnt'].isnull()==True].index)"
   ]
  },
  {
   "cell_type": "code",
   "execution_count": 19,
   "id": "7db75662",
   "metadata": {
    "ExecuteTime": {
     "end_time": "2022-10-13T14:26:47.672498Z",
     "start_time": "2022-10-13T14:26:46.935251Z"
    }
   },
   "outputs": [],
   "source": [
    "merged_ver_2_0.loc[merged_ver_2_0[merged_ver_2_0['existing_loan_amt'].isnull()==True].index, ['existing_loan_amt', 'existing_loan_cnt']]=0"
   ]
  },
  {
   "cell_type": "code",
   "execution_count": 20,
   "id": "1bae51b9",
   "metadata": {
    "ExecuteTime": {
     "end_time": "2022-10-13T14:27:01.252696Z",
     "start_time": "2022-10-13T14:26:56.498602Z"
    }
   },
   "outputs": [
    {
     "data": {
      "text/plain": [
       "birth_year                               108227\n",
       "gender                                   108227\n",
       "credit_score                            1311773\n",
       "company_enter_month                      306537\n",
       "personal_rehabilitation_yn              2934375\n",
       "personal_rehabilitation_complete_yn    11162940\n",
       "loan_limit                                   10\n",
       "loan_rate                                    10\n",
       "is_applied                              3257239\n",
       "dtype: int64"
      ]
     },
     "execution_count": 20,
     "metadata": {},
     "output_type": "execute_result"
    }
   ],
   "source": [
    "(merged_ver_2_0.isnull().sum())[merged_ver_2_0.isnull().sum()!=0]"
   ]
  },
  {
   "cell_type": "markdown",
   "id": "15e091e0",
   "metadata": {},
   "source": [
    "## personal_rehabilitation_yn & personal_rehabilitation_complete_yn"
   ]
  },
  {
   "cell_type": "code",
   "execution_count": 21,
   "id": "b453e40d",
   "metadata": {
    "ExecuteTime": {
     "end_time": "2022-10-13T14:27:12.548389Z",
     "start_time": "2022-10-13T14:27:10.078412Z"
    }
   },
   "outputs": [
    {
     "data": {
      "text/plain": [
       "0.0    8228565\n",
       "Name: personal_rehabilitation_yn, dtype: int64"
      ]
     },
     "execution_count": 21,
     "metadata": {},
     "output_type": "execute_result"
    }
   ],
   "source": [
    "merged_ver_2_0[(merged_ver_2_0['personal_rehabilitation_complete_yn'].isnull()==True)]['personal_rehabilitation_yn'].value_counts()"
   ]
  },
  {
   "cell_type": "code",
   "execution_count": 24,
   "id": "c3c38fb7",
   "metadata": {
    "ExecuteTime": {
     "end_time": "2022-10-13T14:27:47.537378Z",
     "start_time": "2022-10-13T14:27:44.655320Z"
    }
   },
   "outputs": [],
   "source": [
    "merged_ver_2_0.loc[merged_ver_2_0[(merged_ver_2_0['personal_rehabilitation_yn']==0)].index, 'personal_rehabilitation_complete_yn'] = -1"
   ]
  },
  {
   "cell_type": "code",
   "execution_count": 25,
   "id": "17f4610c",
   "metadata": {
    "ExecuteTime": {
     "end_time": "2022-10-13T14:27:58.444186Z",
     "start_time": "2022-10-13T14:27:56.365718Z"
    }
   },
   "outputs": [
    {
     "data": {
      "text/plain": [
       "True"
      ]
     },
     "execution_count": 25,
     "metadata": {},
     "output_type": "execute_result"
    }
   ],
   "source": [
    "set(merged_ver_2_0[merged_ver_2_0['personal_rehabilitation_yn'].isnull()==True].index)\\\n",
    "== set(merged_ver_2_0[merged_ver_2_0['personal_rehabilitation_complete_yn'].isnull()==True].index)"
   ]
  },
  {
   "cell_type": "code",
   "execution_count": 26,
   "id": "51bf7103",
   "metadata": {
    "ExecuteTime": {
     "end_time": "2022-10-13T14:28:07.829365Z",
     "start_time": "2022-10-13T14:28:07.112613Z"
    }
   },
   "outputs": [],
   "source": [
    "merged_ver_2_0.loc[merged_ver_2_0[merged_ver_2_0['personal_rehabilitation_yn'].isnull()==True].index, 'personal_rehabilitation_yn']=0"
   ]
  },
  {
   "cell_type": "code",
   "execution_count": 27,
   "id": "3eb4023d",
   "metadata": {
    "ExecuteTime": {
     "end_time": "2022-10-13T14:28:17.230060Z",
     "start_time": "2022-10-13T14:28:16.514072Z"
    }
   },
   "outputs": [],
   "source": [
    "merged_ver_2_0.loc[merged_ver_2_0[merged_ver_2_0['personal_rehabilitation_complete_yn'].isnull()==True].index, 'personal_rehabilitation_complete_yn']=-1"
   ]
  },
  {
   "cell_type": "code",
   "execution_count": 28,
   "id": "d2e40873",
   "metadata": {
    "ExecuteTime": {
     "end_time": "2022-10-13T14:28:30.511353Z",
     "start_time": "2022-10-13T14:28:25.884552Z"
    }
   },
   "outputs": [
    {
     "data": {
      "text/plain": [
       "birth_year              108227\n",
       "gender                  108227\n",
       "credit_score           1311773\n",
       "company_enter_month     306537\n",
       "loan_limit                  10\n",
       "loan_rate                   10\n",
       "is_applied             3257239\n",
       "dtype: int64"
      ]
     },
     "execution_count": 28,
     "metadata": {},
     "output_type": "execute_result"
    }
   ],
   "source": [
    "(merged_ver_2_0.isnull().sum())[merged_ver_2_0.isnull().sum()!=0] # personal_rehabilitation_complete_yn  잘못표기됨"
   ]
  },
  {
   "cell_type": "markdown",
   "id": "a1d921c0",
   "metadata": {},
   "source": [
    "## company_enter_month     "
   ]
  },
  {
   "cell_type": "code",
   "execution_count": 29,
   "id": "b3a4a3af",
   "metadata": {
    "ExecuteTime": {
     "end_time": "2022-10-13T14:28:39.276955Z",
     "start_time": "2022-10-13T14:28:39.272145Z"
    }
   },
   "outputs": [
    {
     "data": {
      "text/plain": [
       "0           202201.0\n",
       "1           202201.0\n",
       "2           202201.0\n",
       "3           202201.0\n",
       "4           202201.0\n",
       "              ...   \n",
       "13527245    202204.0\n",
       "13527246    202204.0\n",
       "13527247    202204.0\n",
       "13527248    202204.0\n",
       "13527249    202204.0\n",
       "Name: company_enter_month, Length: 13527250, dtype: float64"
      ]
     },
     "execution_count": 29,
     "metadata": {},
     "output_type": "execute_result"
    }
   ],
   "source": [
    "merged_ver_2_0['company_enter_month']"
   ]
  },
  {
   "cell_type": "code",
   "execution_count": 30,
   "id": "b9bd86f9",
   "metadata": {
    "ExecuteTime": {
     "end_time": "2022-10-13T14:28:48.382357Z",
     "start_time": "2022-10-13T14:28:47.953192Z"
    }
   },
   "outputs": [
    {
     "data": {
      "text/plain": [
       "array(['EARNEDINCOME', 'OTHERINCOME', 'EARNEDINCOME2', 'FREELANCER',\n",
       "       'PRIVATEBUSINESS', 'PRACTITIONER'], dtype=object)"
      ]
     },
     "execution_count": 30,
     "metadata": {},
     "output_type": "execute_result"
    }
   ],
   "source": [
    "merged_ver_2_0['income_type'].unique()"
   ]
  },
  {
   "cell_type": "code",
   "execution_count": 31,
   "id": "64263bb4",
   "metadata": {
    "ExecuteTime": {
     "end_time": "2022-10-13T14:29:03.414295Z",
     "start_time": "2022-10-13T14:28:57.176947Z"
    }
   },
   "outputs": [
    {
     "name": "stdout",
     "output_type": "stream",
     "text": [
      "EARNEDINCOME 55\n",
      "OTHERINCOME 306459\n",
      "EARNEDINCOME2 0\n",
      "FREELANCER 0\n",
      "PRIVATEBUSINESS 23\n",
      "PRACTITIONER 0\n"
     ]
    }
   ],
   "source": [
    "for income_type in merged_ver_2_0['income_type'].unique():\n",
    "    print(income_type, merged_ver_2_0[merged_ver_2_0['income_type']==income_type]['company_enter_month'].isnull().sum())"
   ]
  },
  {
   "cell_type": "code",
   "execution_count": 32,
   "id": "0a2d673c",
   "metadata": {
    "ExecuteTime": {
     "end_time": "2022-10-13T14:29:37.301271Z",
     "start_time": "2022-10-13T14:29:32.806925Z"
    }
   },
   "outputs": [
    {
     "name": "stdout",
     "output_type": "stream",
     "text": [
      "EARNEDINCOME 23\n",
      "FREELANCER 0\n",
      "OTHERINCOME 75858\n",
      "PRACTITIONER 0\n",
      "EARNEDINCOME2 0\n",
      "PRIVATEBUSINESS 0\n"
     ]
    }
   ],
   "source": [
    "for income_type in merged_ver_2_0[merged_ver_2_0['is_applied'].isnull()==True]['income_type'].unique():\n",
    "    print(income_type, merged_ver_2_0[(merged_ver_2_0['is_applied'].isnull()==True) & (merged_ver_2_0['income_type']==income_type)]\\\n",
    "          ['company_enter_month'].isnull().sum())"
   ]
  },
  {
   "cell_type": "code",
   "execution_count": 33,
   "id": "6bc59f63",
   "metadata": {
    "ExecuteTime": {
     "end_time": "2022-10-13T14:29:46.656276Z",
     "start_time": "2022-10-13T14:29:46.101884Z"
    }
   },
   "outputs": [
    {
     "data": {
      "text/plain": [
       "202201.0      6119\n",
       "202203.0      6017\n",
       "202204.0      5121\n",
       "202205.0      4153\n",
       "202202.0      3403\n",
       "              ... \n",
       "20210620.0       1\n",
       "20180611.0       1\n",
       "20180623.0       1\n",
       "20120328.0       1\n",
       "201010.0         1\n",
       "Name: company_enter_month, Length: 833, dtype: int64"
      ]
     },
     "execution_count": 33,
     "metadata": {},
     "output_type": "execute_result"
    }
   ],
   "source": [
    "merged_ver_2_0[merged_ver_2_0['income_type']=='OTHERINCOME']['company_enter_month'].value_counts()"
   ]
  },
  {
   "cell_type": "code",
   "execution_count": 34,
   "id": "a326666b",
   "metadata": {
    "ExecuteTime": {
     "end_time": "2022-10-13T14:30:02.849038Z",
     "start_time": "2022-10-13T14:29:57.857784Z"
    }
   },
   "outputs": [],
   "source": [
    "merged_ver_2_0.loc[merged_ver_2_0[merged_ver_2_0['company_enter_month']<1_00_00_00].index, 'company_enter_month']= merged_ver_2_0[merged_ver_2_0['company_enter_month']<1_00_00_00]['company_enter_month'].copy()*100+1"
   ]
  },
  {
   "cell_type": "code",
   "execution_count": 35,
   "id": "8726461c",
   "metadata": {
    "ExecuteTime": {
     "end_time": "2022-10-13T14:30:11.602619Z",
     "start_time": "2022-10-13T14:30:11.598334Z"
    }
   },
   "outputs": [
    {
     "data": {
      "text/plain": [
       "Index(['application_id', 'user_id', 'birth_year', 'gender', 'insert_time',\n",
       "       'credit_score', 'yearly_income', 'income_type', 'company_enter_month',\n",
       "       'employment_type', 'houseown_type', 'desired_amount', 'purpose',\n",
       "       'personal_rehabilitation_yn', 'personal_rehabilitation_complete_yn',\n",
       "       'existing_loan_cnt', 'existing_loan_amt', 'loanapply_insert_time',\n",
       "       'bank_id', 'product_id', 'loan_limit', 'loan_rate', 'is_applied'],\n",
       "      dtype='object')"
      ]
     },
     "execution_count": 35,
     "metadata": {},
     "output_type": "execute_result"
    }
   ],
   "source": [
    "merged_ver_2_0.columns"
   ]
  },
  {
   "cell_type": "code",
   "execution_count": 36,
   "id": "216f344e",
   "metadata": {
    "ExecuteTime": {
     "end_time": "2022-10-13T14:31:21.854206Z",
     "start_time": "2022-10-13T14:31:18.082714Z"
    }
   },
   "outputs": [],
   "source": [
    "merged_ver_2_0['loanapply_insert_day']=pd.to_datetime(merged_ver_2_0['loanapply_insert_time'])"
   ]
  },
  {
   "cell_type": "code",
   "execution_count": 38,
   "id": "24532bee",
   "metadata": {
    "ExecuteTime": {
     "end_time": "2022-10-13T14:31:43.156329Z",
     "start_time": "2022-10-13T14:31:41.859644Z"
    }
   },
   "outputs": [],
   "source": [
    "merged_ver_2_0['company_enter_month']=pd.to_datetime(merged_ver_2_0['company_enter_month'], format='%Y%m%d')"
   ]
  },
  {
   "cell_type": "code",
   "execution_count": 39,
   "id": "0f81aa63",
   "metadata": {
    "ExecuteTime": {
     "end_time": "2022-10-13T14:31:52.827066Z",
     "start_time": "2022-10-13T14:31:52.060246Z"
    }
   },
   "outputs": [],
   "source": [
    "merged_ver_2_0['work_days']=(merged_ver_2_0['loanapply_insert_day']-merged_ver_2_0['company_enter_month']).dt.days"
   ]
  },
  {
   "cell_type": "code",
   "execution_count": 40,
   "id": "878afbb4",
   "metadata": {
    "ExecuteTime": {
     "end_time": "2022-10-13T14:32:13.135214Z",
     "start_time": "2022-10-13T14:32:07.537322Z"
    }
   },
   "outputs": [],
   "source": [
    "merged_ver_2_0.drop(['loanapply_insert_day'],inplace=True,axis=1)"
   ]
  },
  {
   "cell_type": "code",
   "execution_count": 41,
   "id": "5610d78a",
   "metadata": {
    "ExecuteTime": {
     "end_time": "2022-10-13T14:32:24.693860Z",
     "start_time": "2022-10-13T14:32:22.035795Z"
    }
   },
   "outputs": [],
   "source": [
    "merged_ver_2_0.drop(['company_enter_month'],inplace=True,axis=1)"
   ]
  },
  {
   "cell_type": "code",
   "execution_count": 42,
   "id": "d6ac6383",
   "metadata": {
    "ExecuteTime": {
     "end_time": "2022-10-13T14:32:33.708553Z",
     "start_time": "2022-10-13T14:32:33.550684Z"
    }
   },
   "outputs": [],
   "source": [
    "merged_ver_2_0.loc[merged_ver_2_0[merged_ver_2_0['work_days'].isnull()==True].index, 'work_days']=0"
   ]
  },
  {
   "cell_type": "code",
   "execution_count": 43,
   "id": "e8ad72bb",
   "metadata": {
    "ExecuteTime": {
     "end_time": "2022-10-13T14:32:48.457307Z",
     "start_time": "2022-10-13T14:32:42.469670Z"
    },
    "scrolled": true
   },
   "outputs": [
    {
     "data": {
      "text/plain": [
       "birth_year       108227\n",
       "gender           108227\n",
       "credit_score    1311773\n",
       "loan_limit           10\n",
       "loan_rate            10\n",
       "is_applied      3257239\n",
       "dtype: int64"
      ]
     },
     "execution_count": 43,
     "metadata": {},
     "output_type": "execute_result"
    }
   ],
   "source": [
    "(merged_ver_2_0.isnull().sum())[merged_ver_2_0.isnull().sum()!=0]"
   ]
  },
  {
   "cell_type": "code",
   "execution_count": 45,
   "id": "d7959814",
   "metadata": {
    "ExecuteTime": {
     "end_time": "2022-10-13T14:37:42.969587Z",
     "start_time": "2022-10-13T14:37:40.361119Z"
    }
   },
   "outputs": [
    {
     "data": {
      "text/plain": [
       "birth_year        30960\n",
       "gender            30960\n",
       "credit_score     256483\n",
       "loan_limit            2\n",
       "loan_rate             2\n",
       "is_applied      3257239\n",
       "dtype: int64"
      ]
     },
     "execution_count": 45,
     "metadata": {},
     "output_type": "execute_result"
    }
   ],
   "source": [
    "(merged_ver_2_0[merged_ver_2_0['is_applied'].isnull()==True].isnull().sum())[merged_ver_2_0[merged_ver_2_0['is_applied'].isnull()==True].isnull().sum()!=0]"
   ]
  },
  {
   "cell_type": "code",
   "execution_count": 44,
   "id": "ab2f0e4e",
   "metadata": {
    "ExecuteTime": {
     "end_time": "2022-10-13T14:37:13.296873Z",
     "start_time": "2022-10-13T14:35:40.578387Z"
    }
   },
   "outputs": [],
   "source": [
    "merged_ver_2_0.to_csv('./valiData/merged_ver_3_0.csv')"
   ]
  },
  {
   "cell_type": "code",
   "execution_count": null,
   "id": "187f71f9",
   "metadata": {},
   "outputs": [],
   "source": []
  },
  {
   "cell_type": "code",
   "execution_count": null,
   "id": "5ee65db2",
   "metadata": {},
   "outputs": [],
   "source": []
  },
  {
   "cell_type": "markdown",
   "id": "2a13d12e",
   "metadata": {},
   "source": [
    "# 버전업"
   ]
  },
  {
   "cell_type": "markdown",
   "id": "a1a829c0",
   "metadata": {},
   "source": [
    "## merged_ver_3_1"
   ]
  },
  {
   "cell_type": "code",
   "execution_count": 2,
   "id": "6b881017",
   "metadata": {
    "ExecuteTime": {
     "end_time": "2022-10-13T15:24:35.688249Z",
     "start_time": "2022-10-13T15:23:52.597378Z"
    }
   },
   "outputs": [],
   "source": [
    "merged_ver_3_0=pd.read_csv('./valiData/merged_ver_3_0.csv',index_col=0)"
   ]
  },
  {
   "cell_type": "code",
   "execution_count": 3,
   "id": "11c2f3df",
   "metadata": {
    "ExecuteTime": {
     "end_time": "2022-10-13T15:25:28.730056Z",
     "start_time": "2022-10-13T15:24:53.530665Z"
    }
   },
   "outputs": [],
   "source": [
    "merged_df = pd.read_csv('./customData/merged_user_loan.csv',index_col=0)"
   ]
  },
  {
   "cell_type": "code",
   "execution_count": 4,
   "id": "a4fc4f27",
   "metadata": {
    "ExecuteTime": {
     "end_time": "2022-10-13T15:26:03.776443Z",
     "start_time": "2022-10-13T15:26:03.769950Z"
    }
   },
   "outputs": [
    {
     "data": {
      "text/plain": [
       "((13527250, 23), (13527250, 23))"
      ]
     },
     "execution_count": 4,
     "metadata": {},
     "output_type": "execute_result"
    }
   ],
   "source": [
    "merged_ver_3_0.shape, merged_df.shape, "
   ]
  },
  {
   "cell_type": "code",
   "execution_count": 5,
   "id": "726fcb37",
   "metadata": {
    "ExecuteTime": {
     "end_time": "2022-10-13T15:26:39.087672Z",
     "start_time": "2022-10-13T15:26:39.006146Z"
    }
   },
   "outputs": [],
   "source": [
    "merged_ver_3_0['loan_limit'] = merged_df['loan_limit']\n",
    "merged_ver_3_0['loan_rate'] = merged_df['loan_rate']"
   ]
  },
  {
   "cell_type": "code",
   "execution_count": 6,
   "id": "05274009",
   "metadata": {
    "ExecuteTime": {
     "end_time": "2022-10-13T15:28:44.576674Z",
     "start_time": "2022-10-13T15:27:13.434131Z"
    }
   },
   "outputs": [],
   "source": [
    "merged_ver_3_0.to_csv('./expermData/merged_ver_3_1.csv')"
   ]
  },
  {
   "cell_type": "code",
   "execution_count": 7,
   "id": "525dd590",
   "metadata": {
    "ExecuteTime": {
     "end_time": "2022-10-13T15:29:21.073886Z",
     "start_time": "2022-10-13T15:29:18.620737Z"
    }
   },
   "outputs": [
    {
     "data": {
      "text/plain": [
       "application_id                               0\n",
       "user_id                                      0\n",
       "birth_year                              108227\n",
       "gender                                  108227\n",
       "insert_time                                  0\n",
       "credit_score                           1311773\n",
       "yearly_income                                0\n",
       "income_type                                  0\n",
       "employment_type                              0\n",
       "houseown_type                                0\n",
       "desired_amount                               0\n",
       "purpose                                      0\n",
       "personal_rehabilitation_yn                   0\n",
       "personal_rehabilitation_complete_yn          0\n",
       "existing_loan_cnt                            0\n",
       "existing_loan_amt                            0\n",
       "loanapply_insert_time                        0\n",
       "bank_id                                      0\n",
       "product_id                                   0\n",
       "loan_limit                                7382\n",
       "loan_rate                                 7382\n",
       "is_applied                             3257239\n",
       "work_days                                    0\n",
       "dtype: int64"
      ]
     },
     "execution_count": 7,
     "metadata": {},
     "output_type": "execute_result"
    }
   ],
   "source": [
    "merged_ver_3_0.isnull().sum()"
   ]
  },
  {
   "cell_type": "markdown",
   "id": "f4078042",
   "metadata": {},
   "source": [
    "## merged_ver_3_2"
   ]
  },
  {
   "cell_type": "code",
   "execution_count": 3,
   "id": "4db0d777",
   "metadata": {
    "ExecuteTime": {
     "end_time": "2022-10-13T16:57:07.341825Z",
     "start_time": "2022-10-13T16:56:23.878770Z"
    }
   },
   "outputs": [],
   "source": [
    "merged_ver_3_1=pd.read_csv('./expermData/merged_ver_3_1.csv',index_col=0)"
   ]
  },
  {
   "cell_type": "code",
   "execution_count": 4,
   "id": "541a439d",
   "metadata": {
    "ExecuteTime": {
     "end_time": "2022-10-13T16:58:06.594239Z",
     "start_time": "2022-10-13T16:58:06.566933Z"
    }
   },
   "outputs": [],
   "source": [
    "merged_ver_3_1['loan_limit'].fillna(0, inplace=True)\n",
    "merged_ver_3_1['loan_rate'].fillna(0, inplace=True)"
   ]
  },
  {
   "cell_type": "code",
   "execution_count": 5,
   "id": "693261a8",
   "metadata": {
    "ExecuteTime": {
     "end_time": "2022-10-13T16:58:32.737814Z",
     "start_time": "2022-10-13T16:58:30.486537Z"
    }
   },
   "outputs": [
    {
     "data": {
      "text/plain": [
       "application_id                               0\n",
       "user_id                                      0\n",
       "birth_year                              108227\n",
       "gender                                  108227\n",
       "insert_time                                  0\n",
       "credit_score                           1311773\n",
       "yearly_income                                0\n",
       "income_type                                  0\n",
       "employment_type                              0\n",
       "houseown_type                                0\n",
       "desired_amount                               0\n",
       "purpose                                      0\n",
       "personal_rehabilitation_yn                   0\n",
       "personal_rehabilitation_complete_yn          0\n",
       "existing_loan_cnt                            0\n",
       "existing_loan_amt                            0\n",
       "loanapply_insert_time                        0\n",
       "bank_id                                      0\n",
       "product_id                                   0\n",
       "loan_limit                                   0\n",
       "loan_rate                                    0\n",
       "is_applied                             3257239\n",
       "work_days                                    0\n",
       "dtype: int64"
      ]
     },
     "execution_count": 5,
     "metadata": {},
     "output_type": "execute_result"
    }
   ],
   "source": [
    "merged_ver_3_1.isnull().sum()"
   ]
  },
  {
   "cell_type": "code",
   "execution_count": 6,
   "id": "7f0816d4",
   "metadata": {
    "ExecuteTime": {
     "end_time": "2022-10-13T17:00:36.560831Z",
     "start_time": "2022-10-13T16:58:54.854763Z"
    }
   },
   "outputs": [],
   "source": [
    "merged_ver_3_1.to_csv('./expermData/merged_ver_3_2.csv')"
   ]
  },
  {
   "cell_type": "markdown",
   "id": "732ecee3",
   "metadata": {},
   "source": [
    "## merged_ver_3_3"
   ]
  },
  {
   "cell_type": "code",
   "execution_count": 7,
   "id": "1e4d2957",
   "metadata": {
    "ExecuteTime": {
     "end_time": "2022-10-13T17:02:19.693410Z",
     "start_time": "2022-10-13T17:02:03.186846Z"
    }
   },
   "outputs": [],
   "source": [
    "merged_ver_3_1.replace('LIVING', '생활비', inplace=True)\n",
    "merged_ver_3_1.replace('BUSINESS','사업자금', inplace=True)\n",
    "merged_ver_3_1.replace('SWITCHLOAN','대환대출', inplace=True)\n",
    "merged_ver_3_1.replace('ETC','기타', inplace=True)\n",
    "merged_ver_3_1.replace('BUYCAR','자동차구입', inplace=True)\n",
    "merged_ver_3_1.replace('INVEST','투자', inplace=True)\n",
    "merged_ver_3_1.replace('HOUSEDEPOSIT','전월세보증금', inplace=True)\n",
    "merged_ver_3_1.replace('BUYHOUSE','주택구입', inplace=True)"
   ]
  },
  {
   "cell_type": "code",
   "execution_count": 8,
   "id": "7cbb36bc",
   "metadata": {
    "ExecuteTime": {
     "end_time": "2022-10-13T17:04:18.054490Z",
     "start_time": "2022-10-13T17:02:41.307386Z"
    }
   },
   "outputs": [],
   "source": [
    "merged_ver_3_1.to_csv('./expermData/merged_ver_3_3.csv')"
   ]
  },
  {
   "cell_type": "markdown",
   "id": "e47ddaad",
   "metadata": {},
   "source": [
    "## merged_ver_4"
   ]
  },
  {
   "cell_type": "code",
   "execution_count": 3,
   "id": "8bd09514",
   "metadata": {
    "ExecuteTime": {
     "end_time": "2022-10-13T18:44:34.819427Z",
     "start_time": "2022-10-13T18:43:59.526392Z"
    }
   },
   "outputs": [],
   "source": [
    "merged_ver_3_3 = pd.read_csv('./expermData/merged_ver_3_3.csv')"
   ]
  },
  {
   "cell_type": "code",
   "execution_count": 4,
   "id": "a4ebae63",
   "metadata": {
    "ExecuteTime": {
     "end_time": "2022-10-13T18:44:58.704686Z",
     "start_time": "2022-10-13T18:44:56.843220Z"
    }
   },
   "outputs": [],
   "source": [
    "merged_ver_3_3['gender'].replace('0', 'F', inplace=True)\n",
    "merged_ver_3_3['gender'].replace('1', 'M', inplace=True)\n",
    "merged_ver_3_3['gender'].fillna('A', inplace=True)"
   ]
  },
  {
   "cell_type": "code",
   "execution_count": 6,
   "id": "daeb5df9",
   "metadata": {
    "ExecuteTime": {
     "end_time": "2022-10-13T18:45:38.127622Z",
     "start_time": "2022-10-13T18:45:38.065025Z"
    }
   },
   "outputs": [],
   "source": [
    "merged_ver_3_3['birth_year'].fillna(merged_ver_3_3['birth_year'].min(),\\\n",
    "inplace=True)"
   ]
  },
  {
   "cell_type": "code",
   "execution_count": 7,
   "id": "7a91cdd6",
   "metadata": {
    "ExecuteTime": {
     "end_time": "2022-10-13T18:47:56.713754Z",
     "start_time": "2022-10-13T18:46:20.869826Z"
    }
   },
   "outputs": [],
   "source": [
    "merged_ver_3_3.to_csv('./expermData/merged_ver_4_0.csv')"
   ]
  },
  {
   "cell_type": "code",
   "execution_count": null,
   "id": "d8ca4a95",
   "metadata": {},
   "outputs": [],
   "source": []
  }
 ],
 "metadata": {
  "kernelspec": {
   "display_name": "Python 3 (ipykernel)",
   "language": "python",
   "name": "python3"
  },
  "language_info": {
   "codemirror_mode": {
    "name": "ipython",
    "version": 3
   },
   "file_extension": ".py",
   "mimetype": "text/x-python",
   "name": "python",
   "nbconvert_exporter": "python",
   "pygments_lexer": "ipython3",
   "version": "3.8.10"
  },
  "toc": {
   "base_numbering": 1,
   "nav_menu": {},
   "number_sections": true,
   "sideBar": true,
   "skip_h1_title": false,
   "title_cell": "Table of Contents",
   "title_sidebar": "Contents",
   "toc_cell": false,
   "toc_position": {},
   "toc_section_display": true,
   "toc_window_display": false
  },
  "varInspector": {
   "cols": {
    "lenName": 16,
    "lenType": 16,
    "lenVar": 40
   },
   "kernels_config": {
    "python": {
     "delete_cmd_postfix": "",
     "delete_cmd_prefix": "del ",
     "library": "var_list.py",
     "varRefreshCmd": "print(var_dic_list())"
    },
    "r": {
     "delete_cmd_postfix": ") ",
     "delete_cmd_prefix": "rm(",
     "library": "var_list.r",
     "varRefreshCmd": "cat(var_dic_list()) "
    }
   },
   "types_to_exclude": [
    "module",
    "function",
    "builtin_function_or_method",
    "instance",
    "_Feature"
   ],
   "window_display": false
  }
 },
 "nbformat": 4,
 "nbformat_minor": 5
}
