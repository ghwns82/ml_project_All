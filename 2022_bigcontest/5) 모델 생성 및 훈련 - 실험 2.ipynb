{
 "cells": [
  {
   "cell_type": "markdown",
   "id": "c01a0dde",
   "metadata": {},
   "source": [
    "version\n",
    "* 1.0 : 앞뒤로 null 제거됨\n",
    "* 2.0 : isapllied 오류해결\n",
    "* 3.0 : 의미로 null 제거됨\n",
    "* 3.1 : loan_limit, rate = null\n",
    "* 3.2 : loan_limit, rate = 0\n",
    "* 3.3 : purpose label 한영 통일\n",
    "* 4.0 : gender 원핫인코딩(null은 A), birth_year 는 min으로 결측값 제거"
   ]
  },
  {
   "cell_type": "code",
   "execution_count": 3,
   "id": "c3562b2a",
   "metadata": {
    "ExecuteTime": {
     "end_time": "2022-10-13T23:16:06.073670Z",
     "start_time": "2022-10-13T23:16:04.936797Z"
    }
   },
   "outputs": [],
   "source": [
    "import pandas as pd\n",
    "import numpy as np\n",
    "import os\n",
    "import random\n",
    "from copy import deepcopy\n",
    "import math\n",
    "from itertools import product\n",
    "import pickle\n",
    "import joblib\n",
    "from tqdm import tqdm\n",
    "\n",
    "import matplotlib.pyplot as plt\n",
    "import seaborn as sb\n",
    "\n",
    "from sklearn.ensemble import RandomForestClassifier\n",
    "from sklearn.model_selection import train_test_split\n",
    "from sklearn.metrics import f1_score, confusion_matrix, ConfusionMatrixDisplay"
   ]
  },
  {
   "cell_type": "markdown",
   "id": "6e5d0c98",
   "metadata": {},
   "source": [
    "# 기본실험"
   ]
  },
  {
   "cell_type": "markdown",
   "id": "6b6aa2bb",
   "metadata": {},
   "source": [
    "## 기본실험 전처리"
   ]
  },
  {
   "cell_type": "code",
   "execution_count": 2,
   "id": "aeb2b87b",
   "metadata": {
    "ExecuteTime": {
     "end_time": "2022-10-13T16:52:35.477512Z",
     "start_time": "2022-10-13T16:51:48.620044Z"
    }
   },
   "outputs": [],
   "source": [
    "merged_ver_3_0 = pd.read_csv('./valiData/merged_ver_3_0.csv', index_col=0)"
   ]
  },
  {
   "cell_type": "code",
   "execution_count": null,
   "id": "1ee3f508",
   "metadata": {
    "ExecuteTime": {
     "start_time": "2022-10-13T15:26:00.988Z"
    }
   },
   "outputs": [],
   "source": [
    "merged_ver_3_0.shape"
   ]
  },
  {
   "cell_type": "code",
   "execution_count": null,
   "id": "fc6ad9d0",
   "metadata": {
    "ExecuteTime": {
     "start_time": "2022-10-13T15:26:01.292Z"
    }
   },
   "outputs": [],
   "source": [
    "merged_ver_3_0.columns"
   ]
  },
  {
   "cell_type": "code",
   "execution_count": null,
   "id": "80fefb4e",
   "metadata": {
    "ExecuteTime": {
     "start_time": "2022-10-13T15:26:01.609Z"
    }
   },
   "outputs": [],
   "source": [
    "droped_merged_ver_3_0=merged_ver_3_0.drop(\n",
    "    ['application_id', 'user_id','insert_time','loanapply_insert_time', \n",
    "     'bank_id', 'product_id'],axis=1)"
   ]
  },
  {
   "cell_type": "code",
   "execution_count": null,
   "id": "428ea071",
   "metadata": {
    "ExecuteTime": {
     "start_time": "2022-10-13T15:26:02.715Z"
    }
   },
   "outputs": [],
   "source": [
    "droped_merged_ver_3_0.shape, \\\n",
    "droped_merged_ver_3_0[droped_merged_ver_3_0['is_applied']==1].shape"
   ]
  },
  {
   "cell_type": "code",
   "execution_count": null,
   "id": "f1de0920",
   "metadata": {
    "ExecuteTime": {
     "start_time": "2022-10-13T15:26:03.325Z"
    }
   },
   "outputs": [],
   "source": [
    "cate_list = [\n",
    "    'income_type',\n",
    "    'employment_type',\n",
    "    'houseown_type',\n",
    "    'purpose',]"
   ]
  },
  {
   "cell_type": "code",
   "execution_count": null,
   "id": "409c3d3b",
   "metadata": {
    "ExecuteTime": {
     "start_time": "2022-10-13T15:26:03.935Z"
    }
   },
   "outputs": [],
   "source": [
    "for cate in cate_list:\n",
    "    droped_merged_ver_3_0 = pd.get_dummies\\\n",
    "    (data = droped_merged_ver_3_0, columns=[cate], prefix=cate)"
   ]
  },
  {
   "cell_type": "markdown",
   "id": "1cd371d8",
   "metadata": {},
   "source": [
    "## 기본실험"
   ]
  },
  {
   "cell_type": "code",
   "execution_count": 28,
   "id": "1a95d712",
   "metadata": {
    "ExecuteTime": {
     "end_time": "2022-10-13T15:09:50.700159Z",
     "start_time": "2022-10-13T15:09:45.335983Z"
    }
   },
   "outputs": [],
   "source": [
    "tmp = droped_merged_ver_3_0.dropna()"
   ]
  },
  {
   "cell_type": "code",
   "execution_count": 29,
   "id": "a2a524d8",
   "metadata": {
    "ExecuteTime": {
     "end_time": "2022-10-13T15:10:24.004440Z",
     "start_time": "2022-10-13T15:10:21.327758Z"
    }
   },
   "outputs": [],
   "source": [
    "tmp =pd.concat\\\n",
    "([tmp[tmp['is_applied']==0].sample(10_0000, random_state=42), tmp[tmp['is_applied']==1].sample(10_0000, random_state=42)])\n"
   ]
  },
  {
   "cell_type": "code",
   "execution_count": 31,
   "id": "68dc1176",
   "metadata": {
    "ExecuteTime": {
     "end_time": "2022-10-13T15:11:00.993523Z",
     "start_time": "2022-10-13T15:11:00.920029Z"
    }
   },
   "outputs": [],
   "source": [
    "X,y =tmp.loc[:, tmp.columns !='is_applied'] ,tmp['is_applied']\n",
    "X_train, X_test, y_train, y_test=train_test_split(X,y,test_size=0.2, random_state=42)"
   ]
  },
  {
   "cell_type": "code",
   "execution_count": 32,
   "id": "45626996",
   "metadata": {
    "ExecuteTime": {
     "end_time": "2022-10-13T15:11:34.189003Z",
     "start_time": "2022-10-13T15:11:15.817871Z"
    },
    "scrolled": true
   },
   "outputs": [
    {
     "data": {
      "text/plain": [
       "0.7869"
      ]
     },
     "execution_count": 32,
     "metadata": {},
     "output_type": "execute_result"
    }
   ],
   "source": [
    "model = RandomForestClassifier(random_state=42)\n",
    "model.fit(X_train, y_train)\n",
    "model.score(X_test,y_test)"
   ]
  },
  {
   "cell_type": "code",
   "execution_count": 33,
   "id": "12574042",
   "metadata": {
    "ExecuteTime": {
     "end_time": "2022-10-13T15:11:48.423837Z",
     "start_time": "2022-10-13T15:11:47.481503Z"
    }
   },
   "outputs": [
    {
     "data": {
      "text/plain": [
       "0.793827399380805"
      ]
     },
     "execution_count": 33,
     "metadata": {},
     "output_type": "execute_result"
    }
   ],
   "source": [
    "y_pred = model.predict(X_test)\n",
    "f1_score(y_test, y_pred)"
   ]
  },
  {
   "cell_type": "code",
   "execution_count": 34,
   "id": "03b39d46",
   "metadata": {
    "ExecuteTime": {
     "end_time": "2022-10-13T15:12:01.537036Z",
     "start_time": "2022-10-13T15:12:01.513624Z"
    }
   },
   "outputs": [
    {
     "data": {
      "text/plain": [
       "array([[15066,  4927],\n",
       "       [ 3597, 16410]])"
      ]
     },
     "execution_count": 34,
     "metadata": {},
     "output_type": "execute_result"
    }
   ],
   "source": [
    "confusion_matrix(y_test, y_pred)"
   ]
  },
  {
   "cell_type": "code",
   "execution_count": 35,
   "id": "f6a983ae",
   "metadata": {
    "ExecuteTime": {
     "end_time": "2022-10-13T15:12:14.722038Z",
     "start_time": "2022-10-13T15:12:14.657887Z"
    },
    "scrolled": true
   },
   "outputs": [
    {
     "name": "stdout",
     "output_type": "stream",
     "text": [
      "(0.17839443368070892, 'credit_score')\n",
      "(0.1436211695671614, 'loan_rate')\n",
      "(0.09464072701871801, 'work_days')\n",
      "(0.09252408251598689, 'loan_limit')\n",
      "(0.09130523677339775, 'desired_amount')\n",
      "(0.07246581328554809, 'birth_year')\n",
      "(0.07139222469271646, 'yearly_income')\n",
      "(0.07136817830972811, 'existing_loan_amt')\n",
      "(0.05253856914865007, 'existing_loan_cnt')\n",
      "(0.02002253181871006, 'income_type_EARNEDINCOME')\n",
      "(0.012223362247392839, 'purpose_생활비')\n",
      "(0.012031598424555404, 'gender')\n",
      "(0.010395540762559392, 'employment_type_기타')\n",
      "(0.00899595871356596, 'houseown_type_전월세')\n",
      "(0.008810836448469996, 'employment_type_정규직')\n",
      "(0.008335213871443443, 'houseown_type_기타가족소유')\n",
      "(0.007386205997437072, 'houseown_type_자가')\n",
      "(0.006962595856575358, 'purpose_대환대출')\n",
      "(0.004447358875730672, 'income_type_PRIVATEBUSINESS')\n",
      "(0.004400883357221721, 'employment_type_계약직')\n",
      "(0.0039538371301764946, 'income_type_EARNEDINCOME2')\n",
      "(0.003366932638196653, 'purpose_주택구입')\n",
      "(0.0025993912189062715, 'purpose_사업자금')\n",
      "(0.0024964964553419633, 'purpose_전월세보증금')\n",
      "(0.002309824803809433, 'income_type_OTHERINCOME')\n",
      "(0.0022954837640907005, 'purpose_기타')\n",
      "(0.0020328229024810665, 'income_type_FREELANCER')\n",
      "(0.0016927424096033054, 'employment_type_일용직')\n",
      "(0.001650832686684107, 'income_type_PRACTITIONER')\n",
      "(0.001472800586933998, 'purpose_투자')\n",
      "(0.0009722232900595589, 'purpose_LIVING')\n",
      "(0.0007270493300661613, 'personal_rehabilitation_complete_yn')\n",
      "(0.0006661822342428939, 'personal_rehabilitation_yn')\n",
      "(0.0006156699748802948, 'purpose_자동차구입')\n",
      "(0.00038942749009049425, 'purpose_SWITCHLOAN')\n",
      "(0.00014369349287366557, 'houseown_type_배우자')\n",
      "(0.00010108064481263509, 'purpose_BUSINESS')\n",
      "(8.418354947848026e-05, 'purpose_INVEST')\n",
      "(6.457299664983631e-05, 'purpose_ETC')\n",
      "(5.38460656416326e-05, 'purpose_HOUSEDEPOSIT')\n",
      "(3.587512380199482e-05, 'purpose_BUYHOUSE')\n",
      "(1.2509844900656679e-05, 'purpose_BUYCAR')\n"
     ]
    }
   ],
   "source": [
    "print(*sorted(zip(model.feature_importances_, X_test.columns), reverse=True), sep='\\n')"
   ]
  },
  {
   "cell_type": "markdown",
   "id": "988070e1",
   "metadata": {},
   "source": [
    "# loan_limit, rate 실험"
   ]
  },
  {
   "cell_type": "markdown",
   "id": "53545c47",
   "metadata": {},
   "source": [
    "## 전처리"
   ]
  },
  {
   "cell_type": "code",
   "execution_count": 2,
   "id": "1f0a7a06",
   "metadata": {
    "ExecuteTime": {
     "end_time": "2022-10-13T16:53:43.947113Z",
     "start_time": "2022-10-13T16:52:56.850917Z"
    }
   },
   "outputs": [],
   "source": [
    "merged_ver_3_1 = pd.read_csv('./expermData/merged_ver_3_1.csv', index_col=0)"
   ]
  },
  {
   "cell_type": "code",
   "execution_count": 3,
   "id": "07bec05a",
   "metadata": {
    "ExecuteTime": {
     "end_time": "2022-10-13T15:30:53.536634Z",
     "start_time": "2022-10-13T15:30:53.529195Z"
    }
   },
   "outputs": [
    {
     "data": {
      "text/plain": [
       "(13527250, 23)"
      ]
     },
     "execution_count": 3,
     "metadata": {},
     "output_type": "execute_result"
    }
   ],
   "source": [
    "merged_ver_3_1.shape"
   ]
  },
  {
   "cell_type": "code",
   "execution_count": 4,
   "id": "5c9bf1fb",
   "metadata": {
    "ExecuteTime": {
     "end_time": "2022-10-13T15:31:11.516462Z",
     "start_time": "2022-10-13T15:31:11.512729Z"
    }
   },
   "outputs": [
    {
     "data": {
      "text/plain": [
       "Index(['application_id', 'user_id', 'birth_year', 'gender', 'insert_time',\n",
       "       'credit_score', 'yearly_income', 'income_type', 'employment_type',\n",
       "       'houseown_type', 'desired_amount', 'purpose',\n",
       "       'personal_rehabilitation_yn', 'personal_rehabilitation_complete_yn',\n",
       "       'existing_loan_cnt', 'existing_loan_amt', 'loanapply_insert_time',\n",
       "       'bank_id', 'product_id', 'loan_limit', 'loan_rate', 'is_applied',\n",
       "       'work_days'],\n",
       "      dtype='object')"
      ]
     },
     "execution_count": 4,
     "metadata": {},
     "output_type": "execute_result"
    }
   ],
   "source": [
    "merged_ver_3_1.columns"
   ]
  },
  {
   "cell_type": "code",
   "execution_count": 5,
   "id": "54e17341",
   "metadata": {
    "ExecuteTime": {
     "end_time": "2022-10-13T15:31:31.377022Z",
     "start_time": "2022-10-13T15:31:29.586902Z"
    }
   },
   "outputs": [],
   "source": [
    "droped_merged_ver_3_1=merged_ver_3_1.drop(\n",
    "    ['application_id', 'user_id','insert_time','loanapply_insert_time', \n",
    "     'bank_id', 'product_id'],axis=1)"
   ]
  },
  {
   "cell_type": "code",
   "execution_count": 6,
   "id": "040aea33",
   "metadata": {
    "ExecuteTime": {
     "end_time": "2022-10-13T15:34:08.047558Z",
     "start_time": "2022-10-13T15:34:07.934408Z"
    }
   },
   "outputs": [
    {
     "data": {
      "text/plain": [
       "((13527250, 17), (560336, 17))"
      ]
     },
     "execution_count": 6,
     "metadata": {},
     "output_type": "execute_result"
    }
   ],
   "source": [
    "droped_merged_ver_3_1.shape, \\\n",
    "droped_merged_ver_3_1[droped_merged_ver_3_1['is_applied']==1].shape"
   ]
  },
  {
   "cell_type": "code",
   "execution_count": 7,
   "id": "484f03dd",
   "metadata": {
    "ExecuteTime": {
     "end_time": "2022-10-13T15:34:25.895403Z",
     "start_time": "2022-10-13T15:34:25.893205Z"
    }
   },
   "outputs": [],
   "source": [
    "cate_list = [\n",
    "    'income_type',\n",
    "    'employment_type',\n",
    "    'houseown_type',\n",
    "    'purpose',]"
   ]
  },
  {
   "cell_type": "code",
   "execution_count": 8,
   "id": "234206dd",
   "metadata": {
    "ExecuteTime": {
     "end_time": "2022-10-13T15:35:07.590515Z",
     "start_time": "2022-10-13T15:34:40.341917Z"
    }
   },
   "outputs": [],
   "source": [
    "for cate in cate_list:\n",
    "    droped_merged_ver_3_1 = pd.get_dummies\\\n",
    "    (data = droped_merged_ver_3_1, columns=[cate], prefix=cate)"
   ]
  },
  {
   "cell_type": "code",
   "execution_count": 9,
   "id": "07187500",
   "metadata": {
    "ExecuteTime": {
     "end_time": "2022-10-13T15:36:03.173910Z",
     "start_time": "2022-10-13T15:36:01.617055Z"
    }
   },
   "outputs": [],
   "source": [
    "droped_merged_ver_3_1.loc[droped_merged_ver_3_1[\\\n",
    "(droped_merged_ver_3_1['loan_limit'].isnull()==True)].index,\n",
    "'loan_limit'] = 0"
   ]
  },
  {
   "cell_type": "code",
   "execution_count": 10,
   "id": "7297297f",
   "metadata": {
    "ExecuteTime": {
     "end_time": "2022-10-13T15:36:39.379678Z",
     "start_time": "2022-10-13T15:36:39.304225Z"
    }
   },
   "outputs": [],
   "source": [
    "droped_merged_ver_3_1.loc[droped_merged_ver_3_1[\\\n",
    "(droped_merged_ver_3_1['loan_rate'].isnull()==True)].index,\n",
    "'loan_rate'] = 0"
   ]
  },
  {
   "cell_type": "markdown",
   "id": "55294d9a",
   "metadata": {},
   "source": [
    "## 실험 loan_limit, rate=0"
   ]
  },
  {
   "cell_type": "code",
   "execution_count": 11,
   "id": "e50c63e4",
   "metadata": {
    "ExecuteTime": {
     "end_time": "2022-10-13T15:37:27.089304Z",
     "start_time": "2022-10-13T15:37:22.385093Z"
    }
   },
   "outputs": [],
   "source": [
    "tmp = droped_merged_ver_3_1.dropna()"
   ]
  },
  {
   "cell_type": "code",
   "execution_count": 12,
   "id": "1e3f4ccc",
   "metadata": {
    "ExecuteTime": {
     "end_time": "2022-10-13T15:38:17.284515Z",
     "start_time": "2022-10-13T15:38:14.705103Z"
    }
   },
   "outputs": [],
   "source": [
    "tmp =pd.concat\\\n",
    "([tmp[tmp['is_applied']==0].sample(10_0000, random_state=42), tmp[tmp['is_applied']==1].sample(10_0000, random_state=42)])\n"
   ]
  },
  {
   "cell_type": "code",
   "execution_count": 13,
   "id": "13c1bd38",
   "metadata": {
    "ExecuteTime": {
     "end_time": "2022-10-13T15:57:43.938409Z",
     "start_time": "2022-10-13T15:57:43.891927Z"
    }
   },
   "outputs": [],
   "source": [
    "X,y =tmp.loc[:, tmp.columns !='is_applied'] ,tmp['is_applied']\n",
    "X_train, X_test, y_train, y_test=train_test_split(X,y,test_size=0.2, random_state=42)"
   ]
  },
  {
   "cell_type": "code",
   "execution_count": 14,
   "id": "426941bc",
   "metadata": {
    "ExecuteTime": {
     "end_time": "2022-10-13T15:58:30.473790Z",
     "start_time": "2022-10-13T15:58:12.651988Z"
    }
   },
   "outputs": [
    {
     "data": {
      "text/plain": [
       "0.788925"
      ]
     },
     "execution_count": 14,
     "metadata": {},
     "output_type": "execute_result"
    }
   ],
   "source": [
    "model = RandomForestClassifier(random_state=42)\n",
    "model.fit(X_train, y_train)\n",
    "model.score(X_test,y_test)"
   ]
  },
  {
   "cell_type": "code",
   "execution_count": 15,
   "id": "53219c80",
   "metadata": {
    "ExecuteTime": {
     "end_time": "2022-10-13T15:59:00.188361Z",
     "start_time": "2022-10-13T15:58:59.147134Z"
    }
   },
   "outputs": [
    {
     "data": {
      "text/plain": [
       "0.7960184581189147"
      ]
     },
     "execution_count": 15,
     "metadata": {},
     "output_type": "execute_result"
    }
   ],
   "source": [
    "y_pred = model.predict(X_test)\n",
    "f1_score(y_test, y_pred)"
   ]
  },
  {
   "cell_type": "code",
   "execution_count": 16,
   "id": "11dd1f63",
   "metadata": {
    "ExecuteTime": {
     "end_time": "2022-10-13T15:59:28.894013Z",
     "start_time": "2022-10-13T15:59:28.872403Z"
    },
    "scrolled": true
   },
   "outputs": [
    {
     "data": {
      "text/plain": [
       "array([[15083,  4910],\n",
       "       [ 3533, 16474]])"
      ]
     },
     "execution_count": 16,
     "metadata": {},
     "output_type": "execute_result"
    }
   ],
   "source": [
    "confusion_matrix(y_test, y_pred)"
   ]
  },
  {
   "cell_type": "code",
   "execution_count": 17,
   "id": "23e904b0",
   "metadata": {
    "ExecuteTime": {
     "end_time": "2022-10-13T15:59:57.732589Z",
     "start_time": "2022-10-13T15:59:57.673987Z"
    },
    "scrolled": true
   },
   "outputs": [
    {
     "name": "stdout",
     "output_type": "stream",
     "text": [
      "(0.17797150348559201, 'credit_score')\n",
      "(0.14616328231665682, 'loan_rate')\n",
      "(0.09484462815771962, 'work_days')\n",
      "(0.09145006808631105, 'loan_limit')\n",
      "(0.0909561450633737, 'desired_amount')\n",
      "(0.0721808593365446, 'birth_year')\n",
      "(0.07128421222492334, 'yearly_income')\n",
      "(0.07080026772419709, 'existing_loan_amt')\n",
      "(0.05265038577662984, 'existing_loan_cnt')\n",
      "(0.02123480349639912, 'income_type_EARNEDINCOME')\n",
      "(0.012118478796338017, 'purpose_생활비')\n",
      "(0.011923167020370022, 'gender')\n",
      "(0.009422627687504334, 'employment_type_기타')\n",
      "(0.009367933711858543, 'employment_type_정규직')\n",
      "(0.008860728963390354, 'houseown_type_전월세')\n",
      "(0.008281659541318813, 'houseown_type_기타가족소유')\n",
      "(0.0074181777703710705, 'houseown_type_자가')\n",
      "(0.0067672942519031365, 'purpose_대환대출')\n",
      "(0.004402056710156144, 'employment_type_계약직')\n",
      "(0.004289564589410357, 'income_type_PRIVATEBUSINESS')\n",
      "(0.0037157357540004254, 'income_type_EARNEDINCOME2')\n",
      "(0.0031663138509691806, 'purpose_주택구입')\n",
      "(0.002622867014219127, 'purpose_사업자금')\n",
      "(0.002617146905524058, 'purpose_전월세보증금')\n",
      "(0.0024992736928866853, 'income_type_OTHERINCOME')\n",
      "(0.0022084993389274157, 'purpose_기타')\n",
      "(0.0019453073685815358, 'income_type_FREELANCER')\n",
      "(0.0017299457991352596, 'employment_type_일용직')\n",
      "(0.001691247522649955, 'income_type_PRACTITIONER')\n",
      "(0.0014416028817220293, 'purpose_투자')\n",
      "(0.0010451141572095687, 'purpose_LIVING')\n",
      "(0.0007483477878461672, 'personal_rehabilitation_complete_yn')\n",
      "(0.0006731134474283877, 'personal_rehabilitation_yn')\n",
      "(0.0006203159800716461, 'purpose_자동차구입')\n",
      "(0.00039954777040642923, 'purpose_SWITCHLOAN')\n",
      "(0.00017241103329759623, 'houseown_type_배우자')\n",
      "(0.00010650918104034609, 'purpose_BUSINESS')\n",
      "(6.15004588452043e-05, 'purpose_INVEST')\n",
      "(5.750734125528076e-05, 'purpose_ETC')\n",
      "(4.2042032186563976e-05, 'purpose_BUYHOUSE')\n",
      "(3.705046547986883e-05, 'purpose_HOUSEDEPOSIT')\n",
      "(1.075550534949723e-05, 'purpose_BUYCAR')\n"
     ]
    }
   ],
   "source": [
    "print(*sorted(zip(model.feature_importances_, X_test.columns), reverse=True), sep='\\n')"
   ]
  },
  {
   "cell_type": "markdown",
   "id": "7921bed2",
   "metadata": {},
   "source": [
    "좋앗다~~\n"
   ]
  },
  {
   "cell_type": "markdown",
   "id": "b647399d",
   "metadata": {},
   "source": [
    "# credit_score 실험"
   ]
  },
  {
   "cell_type": "markdown",
   "id": "40156581",
   "metadata": {},
   "source": [
    "## 전처리"
   ]
  },
  {
   "cell_type": "code",
   "execution_count": 21,
   "id": "f8e1b8d8",
   "metadata": {
    "ExecuteTime": {
     "end_time": "2022-10-13T15:50:26.406957Z",
     "start_time": "2022-10-13T15:50:21.710792Z"
    }
   },
   "outputs": [
    {
     "data": {
      "text/plain": [
       "birth_year       108227\n",
       "gender           108227\n",
       "credit_score    1311773\n",
       "loan_limit         7382\n",
       "loan_rate          7382\n",
       "is_applied      3257239\n",
       "dtype: int64"
      ]
     },
     "execution_count": 21,
     "metadata": {},
     "output_type": "execute_result"
    }
   ],
   "source": [
    "(merged_ver_3_1.isnull().sum())[merged_ver_3_1.isnull().sum()!=0]"
   ]
  },
  {
   "cell_type": "code",
   "execution_count": 20,
   "id": "9cbb4fe3",
   "metadata": {
    "ExecuteTime": {
     "end_time": "2022-10-13T15:49:54.007924Z",
     "start_time": "2022-10-13T15:49:51.144700Z"
    }
   },
   "outputs": [
    {
     "data": {
      "text/plain": [
       "birth_year        30960\n",
       "gender            30960\n",
       "credit_score     256483\n",
       "loan_limit         1757\n",
       "loan_rate          1757\n",
       "is_applied      3257239\n",
       "dtype: int64"
      ]
     },
     "execution_count": 20,
     "metadata": {},
     "output_type": "execute_result"
    }
   ],
   "source": [
    "(merged_ver_3_1[merged_ver_3_1['is_applied'].isnull()==True]\\\n",
    " .isnull().sum())[merged_ver_3_1[merged_ver_3_1['is_applied'].isnull()==True].isnull().sum()!=0]\n"
   ]
  },
  {
   "cell_type": "markdown",
   "id": "64cda095",
   "metadata": {},
   "source": [
    "전처리는 필요없음"
   ]
  },
  {
   "cell_type": "markdown",
   "id": "08d2a570",
   "metadata": {},
   "source": [
    "## 실험"
   ]
  },
  {
   "cell_type": "code",
   "execution_count": 22,
   "id": "1c3d02c9",
   "metadata": {
    "ExecuteTime": {
     "end_time": "2022-10-13T15:52:55.356991Z",
     "start_time": "2022-10-13T15:52:50.340847Z"
    }
   },
   "outputs": [],
   "source": [
    "tmp = droped_merged_ver_3_1.dropna()"
   ]
  },
  {
   "cell_type": "code",
   "execution_count": 24,
   "id": "e95eb4a2",
   "metadata": {
    "ExecuteTime": {
     "end_time": "2022-10-13T15:54:47.588695Z",
     "start_time": "2022-10-13T15:54:40.751323Z"
    }
   },
   "outputs": [],
   "source": [
    "tmp2 =droped_merged_ver_3_1.drop(['credit_score'],axis=1).dropna()"
   ]
  },
  {
   "cell_type": "code",
   "execution_count": 25,
   "id": "ab4c48ce",
   "metadata": {
    "ExecuteTime": {
     "end_time": "2022-10-13T15:55:36.618910Z",
     "start_time": "2022-10-13T15:55:36.104088Z"
    }
   },
   "outputs": [],
   "source": [
    "tmp3 = droped_merged_ver_3_1[droped_merged_ver_3_1['credit_score'].isnull()==True]\\\n",
    ".drop(['credit_score'],axis=1).dropna()"
   ]
  },
  {
   "cell_type": "code",
   "execution_count": 26,
   "id": "896a0cb6",
   "metadata": {
    "ExecuteTime": {
     "end_time": "2022-10-13T15:56:21.664748Z",
     "start_time": "2022-10-13T15:56:19.019312Z"
    }
   },
   "outputs": [],
   "source": [
    "tmp =pd.concat\\\n",
    "([tmp[tmp['is_applied']==0].sample(10_0000, random_state=42), tmp[tmp['is_applied']==1].sample(10_0000, random_state=42)])\n"
   ]
  },
  {
   "cell_type": "code",
   "execution_count": 27,
   "id": "bd000cfb",
   "metadata": {
    "ExecuteTime": {
     "end_time": "2022-10-13T15:57:00.396948Z",
     "start_time": "2022-10-13T15:56:57.522234Z"
    }
   },
   "outputs": [],
   "source": [
    "tmp2 =pd.concat\\\n",
    "([tmp2[tmp2['is_applied']==0].sample(10_0000, random_state=42), \\\n",
    "  tmp2[tmp2['is_applied']==1].sample(10_0000, random_state=42)])\n"
   ]
  },
  {
   "cell_type": "code",
   "execution_count": 34,
   "id": "c53aeb94",
   "metadata": {
    "ExecuteTime": {
     "end_time": "2022-10-13T16:00:26.700476Z",
     "start_time": "2022-10-13T16:00:26.667155Z"
    }
   },
   "outputs": [
    {
     "data": {
      "text/plain": [
       "(42217, 42)"
      ]
     },
     "execution_count": 34,
     "metadata": {},
     "output_type": "execute_result"
    }
   ],
   "source": [
    "tmp3[tmp3['is_applied']==1].shape"
   ]
  },
  {
   "cell_type": "code",
   "execution_count": 40,
   "id": "06f52751",
   "metadata": {
    "ExecuteTime": {
     "end_time": "2022-10-13T16:03:51.133968Z",
     "start_time": "2022-10-13T16:03:50.893030Z"
    }
   },
   "outputs": [],
   "source": [
    "tmp3 =pd.concat\\\n",
    "([tmp3[tmp3['is_applied']==0].sample(42217, random_state=42), \\\n",
    "  tmp3[tmp3['is_applied']==1].sample(42217, random_state=42)])\n"
   ]
  },
  {
   "cell_type": "markdown",
   "id": "6ae96ae0",
   "metadata": {},
   "source": [
    "### 실험 1"
   ]
  },
  {
   "cell_type": "code",
   "execution_count": 29,
   "id": "7f19f459",
   "metadata": {
    "ExecuteTime": {
     "end_time": "2022-10-13T15:57:43.938409Z",
     "start_time": "2022-10-13T15:57:43.891927Z"
    }
   },
   "outputs": [],
   "source": [
    "X,y =tmp.loc[:, tmp.columns !='is_applied'] ,tmp['is_applied']\n",
    "X_train, X_test, y_train, y_test=train_test_split(X,y,test_size=0.2, random_state=42)"
   ]
  },
  {
   "cell_type": "code",
   "execution_count": 30,
   "id": "8bbe4393",
   "metadata": {
    "ExecuteTime": {
     "end_time": "2022-10-13T15:58:30.473790Z",
     "start_time": "2022-10-13T15:58:12.651988Z"
    }
   },
   "outputs": [
    {
     "data": {
      "text/plain": [
       "0.788925"
      ]
     },
     "execution_count": 30,
     "metadata": {},
     "output_type": "execute_result"
    }
   ],
   "source": [
    "model = RandomForestClassifier(random_state=42)\n",
    "model.fit(X_train, y_train)\n",
    "model.score(X_test,y_test)"
   ]
  },
  {
   "cell_type": "code",
   "execution_count": 31,
   "id": "f910099f",
   "metadata": {
    "ExecuteTime": {
     "end_time": "2022-10-13T15:59:00.188361Z",
     "start_time": "2022-10-13T15:58:59.147134Z"
    }
   },
   "outputs": [
    {
     "data": {
      "text/plain": [
       "0.7960184581189147"
      ]
     },
     "execution_count": 31,
     "metadata": {},
     "output_type": "execute_result"
    }
   ],
   "source": [
    "y_pred = model.predict(X_test)\n",
    "f1_score(y_test, y_pred)"
   ]
  },
  {
   "cell_type": "code",
   "execution_count": 32,
   "id": "e1a3d067",
   "metadata": {
    "ExecuteTime": {
     "end_time": "2022-10-13T15:59:28.894013Z",
     "start_time": "2022-10-13T15:59:28.872403Z"
    }
   },
   "outputs": [
    {
     "data": {
      "text/plain": [
       "array([[15083,  4910],\n",
       "       [ 3533, 16474]])"
      ]
     },
     "execution_count": 32,
     "metadata": {},
     "output_type": "execute_result"
    }
   ],
   "source": [
    "confusion_matrix(y_test, y_pred)"
   ]
  },
  {
   "cell_type": "code",
   "execution_count": 33,
   "id": "e939337c",
   "metadata": {
    "ExecuteTime": {
     "end_time": "2022-10-13T15:59:57.732589Z",
     "start_time": "2022-10-13T15:59:57.673987Z"
    },
    "scrolled": true
   },
   "outputs": [
    {
     "name": "stdout",
     "output_type": "stream",
     "text": [
      "(0.17797150348559201, 'credit_score')\n",
      "(0.14616328231665682, 'loan_rate')\n",
      "(0.09484462815771962, 'work_days')\n",
      "(0.09145006808631105, 'loan_limit')\n",
      "(0.0909561450633737, 'desired_amount')\n",
      "(0.0721808593365446, 'birth_year')\n",
      "(0.07128421222492334, 'yearly_income')\n",
      "(0.07080026772419709, 'existing_loan_amt')\n",
      "(0.05265038577662984, 'existing_loan_cnt')\n",
      "(0.02123480349639912, 'income_type_EARNEDINCOME')\n",
      "(0.012118478796338017, 'purpose_생활비')\n",
      "(0.011923167020370022, 'gender')\n",
      "(0.009422627687504334, 'employment_type_기타')\n",
      "(0.009367933711858543, 'employment_type_정규직')\n",
      "(0.008860728963390354, 'houseown_type_전월세')\n",
      "(0.008281659541318813, 'houseown_type_기타가족소유')\n",
      "(0.0074181777703710705, 'houseown_type_자가')\n",
      "(0.0067672942519031365, 'purpose_대환대출')\n",
      "(0.004402056710156144, 'employment_type_계약직')\n",
      "(0.004289564589410357, 'income_type_PRIVATEBUSINESS')\n",
      "(0.0037157357540004254, 'income_type_EARNEDINCOME2')\n",
      "(0.0031663138509691806, 'purpose_주택구입')\n",
      "(0.002622867014219127, 'purpose_사업자금')\n",
      "(0.002617146905524058, 'purpose_전월세보증금')\n",
      "(0.0024992736928866853, 'income_type_OTHERINCOME')\n",
      "(0.0022084993389274157, 'purpose_기타')\n",
      "(0.0019453073685815358, 'income_type_FREELANCER')\n",
      "(0.0017299457991352596, 'employment_type_일용직')\n",
      "(0.001691247522649955, 'income_type_PRACTITIONER')\n",
      "(0.0014416028817220293, 'purpose_투자')\n",
      "(0.0010451141572095687, 'purpose_LIVING')\n",
      "(0.0007483477878461672, 'personal_rehabilitation_complete_yn')\n",
      "(0.0006731134474283877, 'personal_rehabilitation_yn')\n",
      "(0.0006203159800716461, 'purpose_자동차구입')\n",
      "(0.00039954777040642923, 'purpose_SWITCHLOAN')\n",
      "(0.00017241103329759623, 'houseown_type_배우자')\n",
      "(0.00010650918104034609, 'purpose_BUSINESS')\n",
      "(6.15004588452043e-05, 'purpose_INVEST')\n",
      "(5.750734125528076e-05, 'purpose_ETC')\n",
      "(4.2042032186563976e-05, 'purpose_BUYHOUSE')\n",
      "(3.705046547986883e-05, 'purpose_HOUSEDEPOSIT')\n",
      "(1.075550534949723e-05, 'purpose_BUYCAR')\n"
     ]
    }
   ],
   "source": [
    "print(*sorted(zip(model.feature_importances_, X_test.columns), reverse=True), sep='\\n')"
   ]
  },
  {
   "cell_type": "markdown",
   "id": "49252526",
   "metadata": {},
   "source": [
    "### 실험 2"
   ]
  },
  {
   "cell_type": "code",
   "execution_count": 35,
   "id": "949dd545",
   "metadata": {
    "ExecuteTime": {
     "end_time": "2022-10-13T16:37:08.897183Z",
     "start_time": "2022-10-13T16:37:08.583469Z"
    }
   },
   "outputs": [],
   "source": [
    "X,y =tmp2.loc[:, tmp2.columns !='is_applied'] ,tmp2['is_applied']\n",
    "X_train, X_test, y_train, y_test=train_test_split(X,y,test_size=0.2, random_state=42)"
   ]
  },
  {
   "cell_type": "code",
   "execution_count": 36,
   "id": "23d74089",
   "metadata": {
    "ExecuteTime": {
     "end_time": "2022-10-13T16:37:55.981719Z",
     "start_time": "2022-10-13T16:37:38.218521Z"
    }
   },
   "outputs": [
    {
     "data": {
      "text/plain": [
       "0.74605"
      ]
     },
     "execution_count": 36,
     "metadata": {},
     "output_type": "execute_result"
    }
   ],
   "source": [
    "model = RandomForestClassifier(random_state=42)\n",
    "model.fit(X_train, y_train)\n",
    "model.score(X_test,y_test)"
   ]
  },
  {
   "cell_type": "code",
   "execution_count": 37,
   "id": "70e36e30",
   "metadata": {
    "ExecuteTime": {
     "end_time": "2022-10-13T16:38:26.217069Z",
     "start_time": "2022-10-13T16:38:25.227738Z"
    }
   },
   "outputs": [
    {
     "data": {
      "text/plain": [
       "0.747124719940254"
      ]
     },
     "execution_count": 37,
     "metadata": {},
     "output_type": "execute_result"
    }
   ],
   "source": [
    "y_pred = model.predict(X_test)\n",
    "f1_score(y_test, y_pred)"
   ]
  },
  {
   "cell_type": "code",
   "execution_count": 38,
   "id": "6a2fdf30",
   "metadata": {
    "ExecuteTime": {
     "end_time": "2022-10-13T16:38:55.810680Z",
     "start_time": "2022-10-13T16:38:55.781313Z"
    }
   },
   "outputs": [
    {
     "data": {
      "text/plain": [
       "array([[14836,  5157],\n",
       "       [ 5001, 15006]])"
      ]
     },
     "execution_count": 38,
     "metadata": {},
     "output_type": "execute_result"
    }
   ],
   "source": [
    "confusion_matrix(y_test, y_pred)"
   ]
  },
  {
   "cell_type": "code",
   "execution_count": 39,
   "id": "cb935929",
   "metadata": {
    "ExecuteTime": {
     "end_time": "2022-10-13T16:39:25.869046Z",
     "start_time": "2022-10-13T16:39:25.797977Z"
    },
    "scrolled": true
   },
   "outputs": [
    {
     "name": "stdout",
     "output_type": "stream",
     "text": [
      "(0.15107687768564718, 'loan_rate')\n",
      "(0.12393065020727541, 'work_days')\n",
      "(0.11805079634282013, 'desired_amount')\n",
      "(0.11262390293990325, 'loan_limit')\n",
      "(0.094267982793778, 'birth_year')\n",
      "(0.0938797001665162, 'yearly_income')\n",
      "(0.08903165594038284, 'existing_loan_amt')\n",
      "(0.0672133717694632, 'existing_loan_cnt')\n",
      "(0.024341972288206146, 'income_type_EARNEDINCOME')\n",
      "(0.01606382885761118, 'purpose_생활비')\n",
      "(0.014558416907771217, 'gender')\n",
      "(0.009610127523452751, 'employment_type_기타')\n",
      "(0.009540368040447982, 'employment_type_정규직')\n",
      "(0.008950559160281863, 'houseown_type_전월세')\n",
      "(0.008521570391566355, 'houseown_type_기타가족소유')\n",
      "(0.007832502256640563, 'houseown_type_자가')\n",
      "(0.007363152613984208, 'purpose_대환대출')\n",
      "(0.004715371624028662, 'purpose_주택구입')\n",
      "(0.0046724118075063305, 'employment_type_계약직')\n",
      "(0.0042497608800680774, 'income_type_PRIVATEBUSINESS')\n",
      "(0.004218779499548439, 'income_type_EARNEDINCOME2')\n",
      "(0.003616043295418978, 'purpose_전월세보증금')\n",
      "(0.003074049571609652, 'purpose_사업자금')\n",
      "(0.0029809154022362393, 'income_type_OTHERINCOME')\n",
      "(0.0025333761425709546, 'purpose_기타')\n",
      "(0.002241117780646411, 'income_type_FREELANCER')\n",
      "(0.0018807336027340533, 'income_type_PRACTITIONER')\n",
      "(0.0018475628831100947, 'employment_type_일용직')\n",
      "(0.001798897485735174, 'purpose_투자')\n",
      "(0.0013462169083327995, 'purpose_LIVING')\n",
      "(0.0008564318266274859, 'personal_rehabilitation_complete_yn')\n",
      "(0.0008282989988193894, 'personal_rehabilitation_yn')\n",
      "(0.0007982424535427971, 'purpose_자동차구입')\n",
      "(0.0005656399017502303, 'purpose_SWITCHLOAN')\n",
      "(0.00022316374674780654, 'purpose_BUSINESS')\n",
      "(0.000210875530586761, 'houseown_type_배우자')\n",
      "(0.00016487377655643052, 'purpose_ETC')\n",
      "(0.00012847723300596855, 'purpose_HOUSEDEPOSIT')\n",
      "(8.16587881485983e-05, 'purpose_INVEST')\n",
      "(7.76574329418814e-05, 'purpose_BUYHOUSE')\n",
      "(3.200754197835445e-05, 'purpose_BUYCAR')\n"
     ]
    }
   ],
   "source": [
    "print(*sorted(zip(model.feature_importances_, X_test.columns), reverse=True), sep='\\n')"
   ]
  },
  {
   "cell_type": "markdown",
   "id": "014fdbb0",
   "metadata": {},
   "source": [
    "### 실험 3"
   ]
  },
  {
   "cell_type": "code",
   "execution_count": 41,
   "id": "c31e155f",
   "metadata": {
    "ExecuteTime": {
     "end_time": "2022-10-13T16:37:08.897183Z",
     "start_time": "2022-10-13T16:37:08.583469Z"
    }
   },
   "outputs": [],
   "source": [
    "X,y =tmp3.loc[:, tmp3.columns !='is_applied'] ,tmp3['is_applied']\n",
    "X_train, X_test, y_train, y_test=train_test_split(X,y,test_size=0.2, random_state=42)"
   ]
  },
  {
   "cell_type": "code",
   "execution_count": 42,
   "id": "4e3fbb09",
   "metadata": {
    "ExecuteTime": {
     "end_time": "2022-10-13T16:37:55.981719Z",
     "start_time": "2022-10-13T16:37:38.218521Z"
    }
   },
   "outputs": [
    {
     "data": {
      "text/plain": [
       "0.7968851779475336"
      ]
     },
     "execution_count": 42,
     "metadata": {},
     "output_type": "execute_result"
    }
   ],
   "source": [
    "model = RandomForestClassifier(random_state=42)\n",
    "model.fit(X_train, y_train)\n",
    "model.score(X_test,y_test)"
   ]
  },
  {
   "cell_type": "code",
   "execution_count": 43,
   "id": "5dca2ab3",
   "metadata": {
    "ExecuteTime": {
     "end_time": "2022-10-13T16:38:26.217069Z",
     "start_time": "2022-10-13T16:38:25.227738Z"
    }
   },
   "outputs": [
    {
     "data": {
      "text/plain": [
       "0.7992038402997308"
      ]
     },
     "execution_count": 43,
     "metadata": {},
     "output_type": "execute_result"
    }
   ],
   "source": [
    "y_pred = model.predict(X_test)\n",
    "f1_score(y_test, y_pred)"
   ]
  },
  {
   "cell_type": "code",
   "execution_count": 44,
   "id": "3ca9aae3",
   "metadata": {
    "ExecuteTime": {
     "end_time": "2022-10-13T16:38:55.810680Z",
     "start_time": "2022-10-13T16:38:55.781313Z"
    },
    "scrolled": true
   },
   "outputs": [
    {
     "data": {
      "text/plain": [
       "array([[6631, 1825],\n",
       "       [1605, 6826]])"
      ]
     },
     "execution_count": 44,
     "metadata": {},
     "output_type": "execute_result"
    }
   ],
   "source": [
    "confusion_matrix(y_test, y_pred)"
   ]
  },
  {
   "cell_type": "code",
   "execution_count": 45,
   "id": "2551aa2c",
   "metadata": {
    "ExecuteTime": {
     "end_time": "2022-10-13T16:39:25.869046Z",
     "start_time": "2022-10-13T16:39:25.797977Z"
    },
    "scrolled": true
   },
   "outputs": [
    {
     "name": "stdout",
     "output_type": "stream",
     "text": [
      "(0.1787443238182265, 'loan_rate')\n",
      "(0.12936711593767797, 'desired_amount')\n",
      "(0.12359961237794387, 'loan_limit')\n",
      "(0.12186481938146781, 'work_days')\n",
      "(0.10092328813118386, 'birth_year')\n",
      "(0.0943581147218599, 'yearly_income')\n",
      "(0.0374253186680348, 'income_type_EARNEDINCOME')\n",
      "(0.031877551850891084, 'purpose_생활비')\n",
      "(0.021767100035479946, 'existing_loan_amt')\n",
      "(0.020342808125763955, 'existing_loan_cnt')\n",
      "(0.015146607201868304, 'gender')\n",
      "(0.015082632388260943, 'employment_type_정규직')\n",
      "(0.00991171968026878, 'employment_type_기타')\n",
      "(0.009379431998946097, 'houseown_type_전월세')\n",
      "(0.009162118170184128, 'purpose_주택구입')\n",
      "(0.00904248484764218, 'houseown_type_자가')\n",
      "(0.008708609284710882, 'houseown_type_기타가족소유')\n",
      "(0.007731026876277425, 'purpose_대환대출')\n",
      "(0.007343278463957453, 'purpose_전월세보증금')\n",
      "(0.005970171079968286, 'income_type_PRIVATEBUSINESS')\n",
      "(0.004941903032274442, 'income_type_EARNEDINCOME2')\n",
      "(0.004911754771341773, 'purpose_사업자금')\n",
      "(0.004363368076764135, 'employment_type_계약직')\n",
      "(0.004064575388018548, 'income_type_OTHERINCOME')\n",
      "(0.003759852521522283, 'purpose_LIVING')\n",
      "(0.003071544513371372, 'purpose_기타')\n",
      "(0.002689141747670227, 'income_type_PRACTITIONER')\n",
      "(0.0024185152939959083, 'purpose_투자')\n",
      "(0.002381375678723356, 'income_type_FREELANCER')\n",
      "(0.0020194660189879355, 'purpose_SWITCHLOAN')\n",
      "(0.0014498217919714656, 'employment_type_일용직')\n",
      "(0.0011012093848924232, 'purpose_HOUSEDEPOSIT')\n",
      "(0.0009029239066394927, 'purpose_자동차구입')\n",
      "(0.0008023070543400225, 'personal_rehabilitation_complete_yn')\n",
      "(0.0007005198396736811, 'personal_rehabilitation_yn')\n",
      "(0.0006919180860557426, 'purpose_BUSINESS')\n",
      "(0.0006002483450639779, 'houseown_type_배우자')\n",
      "(0.0005608135260778671, 'purpose_BUYHOUSE')\n",
      "(0.0004168839752233058, 'purpose_ETC')\n",
      "(0.00022099804692449784, 'purpose_BUYCAR')\n",
      "(0.00018272595985334894, 'purpose_INVEST')\n"
     ]
    }
   ],
   "source": [
    "print(*sorted(zip(model.feature_importances_, X_test.columns), reverse=True), sep='\\n')"
   ]
  },
  {
   "cell_type": "markdown",
   "id": "ac2a67a6",
   "metadata": {},
   "source": [
    "null인 것과 나누는 것이 좋다"
   ]
  },
  {
   "cell_type": "markdown",
   "id": "5e1ed172",
   "metadata": {},
   "source": [
    "### 추가실험"
   ]
  },
  {
   "cell_type": "code",
   "execution_count": 56,
   "id": "85523aa8",
   "metadata": {
    "ExecuteTime": {
     "end_time": "2022-10-13T16:25:35.853230Z",
     "start_time": "2022-10-13T16:25:34.307217Z"
    }
   },
   "outputs": [],
   "source": [
    "tmp=droped_merged_ver_3_1.copy()"
   ]
  },
  {
   "cell_type": "code",
   "execution_count": 57,
   "id": "a228ac19",
   "metadata": {
    "ExecuteTime": {
     "end_time": "2022-10-13T16:26:12.640450Z",
     "start_time": "2022-10-13T16:26:12.620851Z"
    }
   },
   "outputs": [],
   "source": [
    "tmp['credit_score'].fillna(-100, inplace=True)"
   ]
  },
  {
   "cell_type": "code",
   "execution_count": 58,
   "id": "4203cb36",
   "metadata": {
    "ExecuteTime": {
     "end_time": "2022-10-13T16:26:54.564131Z",
     "start_time": "2022-10-13T16:26:49.233542Z"
    }
   },
   "outputs": [],
   "source": [
    "tmp.dropna(inplace=True)"
   ]
  },
  {
   "cell_type": "code",
   "execution_count": 61,
   "id": "32958099",
   "metadata": {
    "ExecuteTime": {
     "end_time": "2022-10-13T16:36:25.069578Z",
     "start_time": "2022-10-13T16:36:21.966812Z"
    }
   },
   "outputs": [],
   "source": [
    "tmp =pd.concat\\\n",
    "([tmp[tmp['is_applied']==0].sample(10_0000, random_state=42), tmp[tmp['is_applied']==1].sample(10_0000, random_state=42)])\n"
   ]
  },
  {
   "cell_type": "code",
   "execution_count": 62,
   "id": "72263d03",
   "metadata": {
    "ExecuteTime": {
     "end_time": "2022-10-13T16:37:08.897183Z",
     "start_time": "2022-10-13T16:37:08.583469Z"
    }
   },
   "outputs": [],
   "source": [
    "X,y =tmp.loc[:, tmp.columns !='is_applied'] ,tmp['is_applied']\n",
    "X_train, X_test, y_train, y_test=train_test_split(X,y,test_size=0.2, random_state=42)"
   ]
  },
  {
   "cell_type": "code",
   "execution_count": 63,
   "id": "482738bd",
   "metadata": {
    "ExecuteTime": {
     "end_time": "2022-10-13T16:37:55.981719Z",
     "start_time": "2022-10-13T16:37:38.218521Z"
    }
   },
   "outputs": [
    {
     "data": {
      "text/plain": [
       "0.785475"
      ]
     },
     "execution_count": 63,
     "metadata": {},
     "output_type": "execute_result"
    }
   ],
   "source": [
    "model = RandomForestClassifier(random_state=42)\n",
    "model.fit(X_train, y_train)\n",
    "model.score(X_test,y_test)"
   ]
  },
  {
   "cell_type": "code",
   "execution_count": 64,
   "id": "951edc36",
   "metadata": {
    "ExecuteTime": {
     "end_time": "2022-10-13T16:38:26.217069Z",
     "start_time": "2022-10-13T16:38:25.227738Z"
    }
   },
   "outputs": [
    {
     "data": {
      "text/plain": [
       "0.7912114649991483"
      ]
     },
     "execution_count": 64,
     "metadata": {},
     "output_type": "execute_result"
    }
   ],
   "source": [
    "y_pred = model.predict(X_test)\n",
    "f1_score(y_test, y_pred)"
   ]
  },
  {
   "cell_type": "code",
   "execution_count": 65,
   "id": "de8e5d0e",
   "metadata": {
    "ExecuteTime": {
     "end_time": "2022-10-13T16:38:55.810680Z",
     "start_time": "2022-10-13T16:38:55.781313Z"
    }
   },
   "outputs": [
    {
     "data": {
      "text/plain": [
       "array([[15160,  4833],\n",
       "       [ 3748, 16259]])"
      ]
     },
     "execution_count": 65,
     "metadata": {},
     "output_type": "execute_result"
    }
   ],
   "source": [
    "confusion_matrix(y_test, y_pred)"
   ]
  },
  {
   "cell_type": "code",
   "execution_count": 66,
   "id": "e09c1d7b",
   "metadata": {
    "ExecuteTime": {
     "end_time": "2022-10-13T16:39:25.869046Z",
     "start_time": "2022-10-13T16:39:25.797977Z"
    },
    "scrolled": true
   },
   "outputs": [
    {
     "name": "stdout",
     "output_type": "stream",
     "text": [
      "(0.16018533651184086, 'credit_score')\n",
      "(0.14615326922011523, 'loan_rate')\n",
      "(0.09783747523057147, 'work_days')\n",
      "(0.09696348962489053, 'desired_amount')\n",
      "(0.09283601745407662, 'loan_limit')\n",
      "(0.07474338107342292, 'birth_year')\n",
      "(0.07339598787540225, 'yearly_income')\n",
      "(0.06850335291850879, 'existing_loan_amt')\n",
      "(0.05142414441373968, 'existing_loan_cnt')\n",
      "(0.021488903917886534, 'income_type_EARNEDINCOME')\n",
      "(0.013204884802119767, 'purpose_생활비')\n",
      "(0.012551350083321158, 'gender')\n",
      "(0.01019410013887805, 'employment_type_기타')\n",
      "(0.009267128610911547, 'employment_type_정규직')\n",
      "(0.00894778096252075, 'houseown_type_전월세')\n",
      "(0.008316588677987406, 'houseown_type_기타가족소유')\n",
      "(0.007583617646825401, 'houseown_type_자가')\n",
      "(0.006891416046068154, 'purpose_대환대출')\n",
      "(0.0046671218858219295, 'income_type_PRIVATEBUSINESS')\n",
      "(0.00449641305297949, 'employment_type_계약직')\n",
      "(0.00422052527920902, 'income_type_EARNEDINCOME2')\n",
      "(0.0037254521104504775, 'purpose_주택구입')\n",
      "(0.00301821975380785, 'purpose_전월세보증금')\n",
      "(0.0028220216840337342, 'purpose_사업자금')\n",
      "(0.0023842248672922748, 'income_type_OTHERINCOME')\n",
      "(0.0023343486306671526, 'purpose_기타')\n",
      "(0.0021010140897144832, 'income_type_FREELANCER')\n",
      "(0.0016454814448647625, 'income_type_PRACTITIONER')\n",
      "(0.0016068360878008028, 'employment_type_일용직')\n",
      "(0.0015149618111658571, 'purpose_투자')\n",
      "(0.0013702651880913947, 'purpose_LIVING')\n",
      "(0.0007393719224031142, 'personal_rehabilitation_complete_yn')\n",
      "(0.0006909257849836947, 'purpose_자동차구입')\n",
      "(0.0006869247369973441, 'personal_rehabilitation_yn')\n",
      "(0.000598267435498149, 'purpose_SWITCHLOAN')\n",
      "(0.00020575162388649683, 'houseown_type_배우자')\n",
      "(0.0001954031507126272, 'purpose_BUSINESS')\n",
      "(0.00016183409120486036, 'purpose_ETC')\n",
      "(0.00013846379924728337, 'purpose_HOUSEDEPOSIT')\n",
      "(9.107159110376742e-05, 'purpose_BUYHOUSE')\n",
      "(6.796067544744775e-05, 'purpose_INVEST')\n",
      "(2.891409352886679e-05, 'purpose_BUYCAR')\n"
     ]
    }
   ],
   "source": [
    "print(*sorted(zip(model.feature_importances_, X_test.columns), reverse=True), sep='\\n')"
   ]
  },
  {
   "cell_type": "markdown",
   "id": "82f8c259",
   "metadata": {},
   "source": [
    "# 중간정리"
   ]
  },
  {
   "cell_type": "markdown",
   "id": "85f0bde4",
   "metadata": {},
   "source": [
    "## 전처리"
   ]
  },
  {
   "cell_type": "code",
   "execution_count": 2,
   "id": "958d63cd",
   "metadata": {
    "ExecuteTime": {
     "end_time": "2022-10-13T17:05:58.993155Z",
     "start_time": "2022-10-13T17:05:16.928086Z"
    }
   },
   "outputs": [],
   "source": [
    "merged_ver_3_3 = pd.read_csv('./expermData/merged_ver_3_3.csv', index_col=0)"
   ]
  },
  {
   "cell_type": "code",
   "execution_count": 4,
   "id": "2a9896d2",
   "metadata": {
    "ExecuteTime": {
     "end_time": "2022-10-13T17:07:04.966978Z",
     "start_time": "2022-10-13T17:07:04.959737Z"
    }
   },
   "outputs": [
    {
     "data": {
      "text/plain": [
       "(13527250, 23)"
      ]
     },
     "execution_count": 4,
     "metadata": {},
     "output_type": "execute_result"
    }
   ],
   "source": [
    "merged_ver_3_3.shape"
   ]
  },
  {
   "cell_type": "code",
   "execution_count": 5,
   "id": "4bb6eeb8",
   "metadata": {
    "ExecuteTime": {
     "end_time": "2022-10-13T17:08:03.444266Z",
     "start_time": "2022-10-13T17:08:03.440895Z"
    }
   },
   "outputs": [
    {
     "data": {
      "text/plain": [
       "Index(['application_id', 'user_id', 'birth_year', 'gender', 'insert_time',\n",
       "       'credit_score', 'yearly_income', 'income_type', 'employment_type',\n",
       "       'houseown_type', 'desired_amount', 'purpose',\n",
       "       'personal_rehabilitation_yn', 'personal_rehabilitation_complete_yn',\n",
       "       'existing_loan_cnt', 'existing_loan_amt', 'loanapply_insert_time',\n",
       "       'bank_id', 'product_id', 'loan_limit', 'loan_rate', 'is_applied',\n",
       "       'work_days'],\n",
       "      dtype='object')"
      ]
     },
     "execution_count": 5,
     "metadata": {},
     "output_type": "execute_result"
    }
   ],
   "source": [
    "merged_ver_3_3.columns"
   ]
  },
  {
   "cell_type": "code",
   "execution_count": 6,
   "id": "27dfaabc",
   "metadata": {
    "ExecuteTime": {
     "end_time": "2022-10-13T17:08:35.558787Z",
     "start_time": "2022-10-13T17:08:33.792384Z"
    }
   },
   "outputs": [],
   "source": [
    "droped_merged_ver_3_3=merged_ver_3_3.drop(\n",
    "    ['application_id', 'user_id','insert_time','loanapply_insert_time', \n",
    "     'bank_id', 'product_id'],axis=1)"
   ]
  },
  {
   "cell_type": "code",
   "execution_count": 7,
   "id": "16849e42",
   "metadata": {
    "ExecuteTime": {
     "end_time": "2022-10-13T17:09:05.535072Z",
     "start_time": "2022-10-13T17:09:05.421156Z"
    }
   },
   "outputs": [
    {
     "data": {
      "text/plain": [
       "((13527250, 17), (560336, 17))"
      ]
     },
     "execution_count": 7,
     "metadata": {},
     "output_type": "execute_result"
    }
   ],
   "source": [
    "droped_merged_ver_3_3.shape, \\\n",
    "droped_merged_ver_3_3[droped_merged_ver_3_3['is_applied']==1].shape"
   ]
  },
  {
   "cell_type": "code",
   "execution_count": 8,
   "id": "aa194787",
   "metadata": {
    "ExecuteTime": {
     "end_time": "2022-10-13T17:09:35.581010Z",
     "start_time": "2022-10-13T17:09:35.578556Z"
    }
   },
   "outputs": [],
   "source": [
    "cate_list = [\n",
    "    'income_type',\n",
    "    'employment_type',\n",
    "    'houseown_type',\n",
    "    'purpose',]"
   ]
  },
  {
   "cell_type": "code",
   "execution_count": 10,
   "id": "b9f59ea8",
   "metadata": {
    "ExecuteTime": {
     "end_time": "2022-10-13T17:10:36.245468Z",
     "start_time": "2022-10-13T17:10:12.736079Z"
    }
   },
   "outputs": [],
   "source": [
    "for cate in cate_list:\n",
    "    droped_merged_ver_3_3 = pd.get_dummies\\\n",
    "    (data = droped_merged_ver_3_3, columns=[cate], prefix=cate)"
   ]
  },
  {
   "cell_type": "markdown",
   "id": "82fb65e6",
   "metadata": {},
   "source": [
    "## 실험"
   ]
  },
  {
   "cell_type": "markdown",
   "id": "32a6dc3b",
   "metadata": {},
   "source": [
    "비교는 credit_csore 실험의 실험 1을 보셈"
   ]
  },
  {
   "cell_type": "code",
   "execution_count": 11,
   "id": "03ef5cae",
   "metadata": {
    "ExecuteTime": {
     "end_time": "2022-10-13T17:13:35.150942Z",
     "start_time": "2022-10-13T17:13:31.542006Z"
    }
   },
   "outputs": [],
   "source": [
    "tmp = droped_merged_ver_3_3.dropna()"
   ]
  },
  {
   "cell_type": "code",
   "execution_count": 12,
   "id": "ea383992",
   "metadata": {
    "ExecuteTime": {
     "end_time": "2022-10-13T17:14:33.058652Z",
     "start_time": "2022-10-13T17:14:31.060448Z"
    }
   },
   "outputs": [],
   "source": [
    "tmp =pd.concat\\\n",
    "([tmp[tmp['is_applied']==0].sample(10_0000, random_state=42), tmp[tmp['is_applied']==1].sample(10_0000, random_state=42)])\n"
   ]
  },
  {
   "cell_type": "code",
   "execution_count": 13,
   "id": "dc52e191",
   "metadata": {
    "ExecuteTime": {
     "end_time": "2022-10-13T17:15:17.693120Z",
     "start_time": "2022-10-13T17:15:17.648075Z"
    }
   },
   "outputs": [],
   "source": [
    "X,y =tmp.loc[:, tmp.columns !='is_applied'] ,tmp['is_applied']\n",
    "X_train, X_test, y_train, y_test=train_test_split(X,y,test_size=0.2, random_state=42)"
   ]
  },
  {
   "cell_type": "code",
   "execution_count": 14,
   "id": "9ab15612",
   "metadata": {
    "ExecuteTime": {
     "end_time": "2022-10-13T17:16:18.739583Z",
     "start_time": "2022-10-13T17:16:01.743762Z"
    }
   },
   "outputs": [
    {
     "data": {
      "text/plain": [
       "0.789275"
      ]
     },
     "execution_count": 14,
     "metadata": {},
     "output_type": "execute_result"
    }
   ],
   "source": [
    "model = RandomForestClassifier(random_state=42)\n",
    "model.fit(X_train, y_train)\n",
    "model.score(X_test,y_test)"
   ]
  },
  {
   "cell_type": "code",
   "execution_count": 15,
   "id": "31c7b87c",
   "metadata": {
    "ExecuteTime": {
     "end_time": "2022-10-13T17:17:04.874010Z",
     "start_time": "2022-10-13T17:17:03.934580Z"
    }
   },
   "outputs": [
    {
     "data": {
      "text/plain": [
       "0.7963468554446833"
      ]
     },
     "execution_count": 15,
     "metadata": {},
     "output_type": "execute_result"
    }
   ],
   "source": [
    "y_pred = model.predict(X_test)\n",
    "f1_score(y_test, y_pred)"
   ]
  },
  {
   "cell_type": "code",
   "execution_count": 16,
   "id": "7ee08dc6",
   "metadata": {
    "ExecuteTime": {
     "end_time": "2022-10-13T17:17:50.236683Z",
     "start_time": "2022-10-13T17:17:50.211845Z"
    }
   },
   "outputs": [
    {
     "data": {
      "text/plain": [
       "array([[15091,  4902],\n",
       "       [ 3527, 16480]])"
      ]
     },
     "execution_count": 16,
     "metadata": {},
     "output_type": "execute_result"
    }
   ],
   "source": [
    "confusion_matrix(y_test, y_pred)"
   ]
  },
  {
   "cell_type": "code",
   "execution_count": 17,
   "id": "315f67dc",
   "metadata": {
    "ExecuteTime": {
     "end_time": "2022-10-13T17:18:35.438797Z",
     "start_time": "2022-10-13T17:18:35.361206Z"
    },
    "scrolled": false
   },
   "outputs": [
    {
     "name": "stdout",
     "output_type": "stream",
     "text": [
      "(0.1796537505497196, 'credit_score')\n",
      "(0.1465656126449938, 'loan_rate')\n",
      "(0.0952119758971926, 'work_days')\n",
      "(0.0910997168284669, 'loan_limit')\n",
      "(0.09087849002534662, 'desired_amount')\n",
      "(0.07217670846946472, 'birth_year')\n",
      "(0.0711426069413473, 'yearly_income')\n",
      "(0.07089902671103351, 'existing_loan_amt')\n",
      "(0.05225155404943067, 'existing_loan_cnt')\n",
      "(0.020573348238798448, 'income_type_EARNEDINCOME')\n",
      "(0.012586793119750098, 'purpose_생활비')\n",
      "(0.012051531653140735, 'gender')\n",
      "(0.009095328103286974, 'houseown_type_전월세')\n",
      "(0.008933656665943713, 'employment_type_기타')\n",
      "(0.008461511784262412, 'houseown_type_기타가족소유')\n",
      "(0.008447711842180345, 'employment_type_정규직')\n",
      "(0.007518595759630928, 'houseown_type_자가')\n",
      "(0.006786432634475322, 'purpose_대환대출')\n",
      "(0.004617241262317684, 'income_type_PRIVATEBUSINESS')\n",
      "(0.004390953477422594, 'employment_type_계약직')\n",
      "(0.0037668492417464216, 'income_type_EARNEDINCOME2')\n",
      "(0.00334696955138854, 'purpose_주택구입')\n",
      "(0.003130454129386017, 'income_type_OTHERINCOME')\n",
      "(0.002642421982083296, 'purpose_사업자금')\n",
      "(0.0025144202285543615, 'purpose_전월세보증금')\n",
      "(0.002143541131903137, 'purpose_기타')\n",
      "(0.002118409724707688, 'income_type_FREELANCER')\n",
      "(0.0017897391406967824, 'employment_type_일용직')\n",
      "(0.0016829154348384737, 'income_type_PRACTITIONER')\n",
      "(0.0013275260792303429, 'purpose_투자')\n",
      "(0.0007068290487973693, 'personal_rehabilitation_complete_yn')\n",
      "(0.0006674755258623364, 'personal_rehabilitation_yn')\n",
      "(0.0006061692309691499, 'purpose_자동차구입')\n",
      "(0.00021373289163105776, 'houseown_type_배우자')\n"
     ]
    }
   ],
   "source": [
    "print(*sorted(zip(model.feature_importances_, X_test.columns), reverse=True), sep='\\n')"
   ]
  },
  {
   "cell_type": "markdown",
   "id": "4b2d4ed2",
   "metadata": {},
   "source": [
    "# birth year & gender"
   ]
  },
  {
   "cell_type": "markdown",
   "id": "b4e094a1",
   "metadata": {},
   "source": [
    "## 전처리\n",
    "* birth year = median\n",
    "* gender은 원핫인코딩"
   ]
  },
  {
   "cell_type": "code",
   "execution_count": 18,
   "id": "b0ecad71",
   "metadata": {
    "ExecuteTime": {
     "end_time": "2022-10-13T17:20:49.832567Z",
     "start_time": "2022-10-13T17:20:47.986150Z"
    }
   },
   "outputs": [],
   "source": [
    "droped_merged_ver_3_3=merged_ver_3_3.drop(\n",
    "    ['application_id', 'user_id','insert_time','loanapply_insert_time', \n",
    "     'bank_id', 'product_id'],axis=1)"
   ]
  },
  {
   "cell_type": "code",
   "execution_count": 19,
   "id": "0fc658f7",
   "metadata": {
    "ExecuteTime": {
     "end_time": "2022-10-13T17:21:21.171250Z",
     "start_time": "2022-10-13T17:21:21.068504Z"
    }
   },
   "outputs": [
    {
     "data": {
      "text/plain": [
       "((13527250, 17), (560336, 17))"
      ]
     },
     "execution_count": 19,
     "metadata": {},
     "output_type": "execute_result"
    }
   ],
   "source": [
    "droped_merged_ver_3_3.shape, \\\n",
    "droped_merged_ver_3_3[droped_merged_ver_3_3['is_applied']==1].shape"
   ]
  },
  {
   "cell_type": "code",
   "execution_count": 20,
   "id": "9b4ca95d",
   "metadata": {
    "ExecuteTime": {
     "end_time": "2022-10-13T17:23:40.572952Z",
     "start_time": "2022-10-13T17:23:38.698588Z"
    }
   },
   "outputs": [],
   "source": [
    "droped_merged_ver_3_3['gender'].replace('0', 'F', inplace=True)\n",
    "droped_merged_ver_3_3['gender'].replace('1', 'M', inplace=True)\n",
    "droped_merged_ver_3_3['gender'].fillna('A', inplace=True)"
   ]
  },
  {
   "cell_type": "code",
   "execution_count": 21,
   "id": "fe4fd77b",
   "metadata": {
    "ExecuteTime": {
     "end_time": "2022-10-13T17:24:17.095699Z",
     "start_time": "2022-10-13T17:24:17.093353Z"
    }
   },
   "outputs": [],
   "source": [
    "cate_list = [\n",
    "    'income_type',\n",
    "    'employment_type',\n",
    "    'houseown_type',\n",
    "    'purpose',\n",
    "    'gender']"
   ]
  },
  {
   "cell_type": "code",
   "execution_count": 22,
   "id": "d434ddc9",
   "metadata": {
    "ExecuteTime": {
     "end_time": "2022-10-13T17:25:22.492877Z",
     "start_time": "2022-10-13T17:24:48.745273Z"
    }
   },
   "outputs": [],
   "source": [
    "for cate in cate_list:\n",
    "    droped_merged_ver_3_3 = pd.get_dummies\\\n",
    "    (data = droped_merged_ver_3_3, columns=[cate], prefix=cate)"
   ]
  },
  {
   "cell_type": "code",
   "execution_count": 23,
   "id": "5448929e",
   "metadata": {
    "ExecuteTime": {
     "end_time": "2022-10-13T17:26:08.869323Z",
     "start_time": "2022-10-13T17:26:08.132408Z"
    }
   },
   "outputs": [
    {
     "data": {
      "text/plain": [
       "((13527250, 37), (560336, 37))"
      ]
     },
     "execution_count": 23,
     "metadata": {},
     "output_type": "execute_result"
    }
   ],
   "source": [
    "droped_merged_ver_3_3.shape, \\\n",
    "droped_merged_ver_3_3[droped_merged_ver_3_3['is_applied']==1].shape"
   ]
  },
  {
   "cell_type": "markdown",
   "id": "72740994",
   "metadata": {},
   "source": [
    "## 실험"
   ]
  },
  {
   "cell_type": "code",
   "execution_count": 24,
   "id": "5c63e7ff",
   "metadata": {
    "ExecuteTime": {
     "end_time": "2022-10-13T17:26:58.382599Z",
     "start_time": "2022-10-13T17:26:54.393543Z"
    }
   },
   "outputs": [],
   "source": [
    "tmp = droped_merged_ver_3_3.dropna()"
   ]
  },
  {
   "cell_type": "code",
   "execution_count": 48,
   "id": "e70f2f18",
   "metadata": {
    "ExecuteTime": {
     "end_time": "2022-10-13T18:04:54.317014Z",
     "start_time": "2022-10-13T18:04:52.922453Z"
    }
   },
   "outputs": [],
   "source": [
    "tmp2 = droped_merged_ver_3_3.copy()"
   ]
  },
  {
   "cell_type": "code",
   "execution_count": 39,
   "id": "fb7c6329",
   "metadata": {
    "ExecuteTime": {
     "end_time": "2022-10-13T17:56:51.510689Z",
     "start_time": "2022-10-13T17:56:51.360365Z"
    }
   },
   "outputs": [],
   "source": [
    "tmp2['birth_year'].fillna(tmp2['birth_year'].median(), inplace=True)"
   ]
  },
  {
   "cell_type": "code",
   "execution_count": 41,
   "id": "2d9eb24b",
   "metadata": {
    "ExecuteTime": {
     "end_time": "2022-10-13T17:58:03.122358Z",
     "start_time": "2022-10-13T17:57:58.954286Z"
    }
   },
   "outputs": [],
   "source": [
    "tmp2.dropna(inplace=True)"
   ]
  },
  {
   "cell_type": "code",
   "execution_count": 51,
   "id": "9a682e49",
   "metadata": {
    "ExecuteTime": {
     "end_time": "2022-10-13T18:10:14.708413Z",
     "start_time": "2022-10-13T18:10:09.032773Z"
    }
   },
   "outputs": [],
   "source": [
    "tmp3 = droped_merged_ver_3_3.copy()\n",
    "tmp3['birth_year'].fillna(tmp3['birth_year'].min(), inplace=True)\n",
    "tmp3.dropna(inplace=True)"
   ]
  },
  {
   "cell_type": "code",
   "execution_count": 52,
   "id": "3608ed39",
   "metadata": {
    "ExecuteTime": {
     "end_time": "2022-10-13T18:11:29.248135Z",
     "start_time": "2022-10-13T18:11:23.767467Z"
    }
   },
   "outputs": [],
   "source": [
    "tmp4 = droped_merged_ver_3_3.copy()\n",
    "tmp4['birth_year'].fillna(tmp4['birth_year'].max(), inplace=True)\n",
    "tmp4.dropna(inplace=True)"
   ]
  },
  {
   "cell_type": "markdown",
   "id": "777e84d1",
   "metadata": {},
   "source": [
    "### 실험 1"
   ]
  },
  {
   "cell_type": "code",
   "execution_count": null,
   "id": "703a6004",
   "metadata": {
    "ExecuteTime": {
     "end_time": "2022-10-13T17:27:55.932380Z",
     "start_time": "2022-10-13T17:27:53.639349Z"
    }
   },
   "outputs": [],
   "source": [
    "tmp =pd.concat\\\n",
    "([tmp[tmp['is_applied']==0].sample(10_0000, random_state=42), tmp[tmp['is_applied']==1].sample(10_0000, random_state=42)])\n"
   ]
  },
  {
   "cell_type": "code",
   "execution_count": 26,
   "id": "a4488d49",
   "metadata": {
    "ExecuteTime": {
     "end_time": "2022-10-13T17:28:41.370948Z",
     "start_time": "2022-10-13T17:28:41.317781Z"
    }
   },
   "outputs": [],
   "source": [
    "X,y =tmp.loc[:, tmp.columns !='is_applied'] ,tmp['is_applied']\n",
    "X_train, X_test, y_train, y_test=train_test_split(X,y,test_size=0.2, random_state=42)"
   ]
  },
  {
   "cell_type": "code",
   "execution_count": 27,
   "id": "6904730a",
   "metadata": {
    "ExecuteTime": {
     "end_time": "2022-10-13T17:29:45.404166Z",
     "start_time": "2022-10-13T17:29:26.795769Z"
    }
   },
   "outputs": [
    {
     "data": {
      "text/plain": [
       "0.7909"
      ]
     },
     "execution_count": 27,
     "metadata": {},
     "output_type": "execute_result"
    }
   ],
   "source": [
    "model = RandomForestClassifier(random_state=42)\n",
    "model.fit(X_train, y_train)\n",
    "model.score(X_test,y_test)"
   ]
  },
  {
   "cell_type": "code",
   "execution_count": 28,
   "id": "fb143453",
   "metadata": {
    "ExecuteTime": {
     "end_time": "2022-10-13T17:30:31.686781Z",
     "start_time": "2022-10-13T17:30:30.735804Z"
    },
    "scrolled": true
   },
   "outputs": [
    {
     "data": {
      "text/plain": [
       "0.7979417306856066"
      ]
     },
     "execution_count": 28,
     "metadata": {},
     "output_type": "execute_result"
    }
   ],
   "source": [
    "y_pred = model.predict(X_test)\n",
    "f1_score(y_test, y_pred)"
   ]
  },
  {
   "cell_type": "code",
   "execution_count": 29,
   "id": "d18847f5",
   "metadata": {
    "ExecuteTime": {
     "end_time": "2022-10-13T17:31:17.070016Z",
     "start_time": "2022-10-13T17:31:17.045207Z"
    }
   },
   "outputs": [
    {
     "data": {
      "text/plain": [
       "array([[15121,  4872],\n",
       "       [ 3492, 16515]])"
      ]
     },
     "execution_count": 29,
     "metadata": {},
     "output_type": "execute_result"
    }
   ],
   "source": [
    "confusion_matrix(y_test, y_pred)"
   ]
  },
  {
   "cell_type": "code",
   "execution_count": 30,
   "id": "9b591804",
   "metadata": {
    "ExecuteTime": {
     "end_time": "2022-10-13T17:32:02.861997Z",
     "start_time": "2022-10-13T17:32:02.791241Z"
    },
    "scrolled": true
   },
   "outputs": [
    {
     "name": "stdout",
     "output_type": "stream",
     "text": [
      "(0.180368048299661, 'credit_score')\n",
      "(0.14575630615255575, 'loan_rate')\n",
      "(0.09335029477073475, 'work_days')\n",
      "(0.09172743321486607, 'desired_amount')\n",
      "(0.09002603469201027, 'loan_limit')\n",
      "(0.07082338243545364, 'birth_year')\n",
      "(0.07001184192375745, 'existing_loan_amt')\n",
      "(0.07000114424687923, 'yearly_income')\n",
      "(0.05198196592228228, 'existing_loan_cnt')\n",
      "(0.022274439196809052, 'income_type_EARNEDINCOME')\n",
      "(0.011903638686506448, 'purpose_생활비')\n",
      "(0.0098403731652951, 'houseown_type_전월세')\n",
      "(0.009106197963960654, 'houseown_type_기타가족소유')\n",
      "(0.00891420265653503, 'employment_type_기타')\n",
      "(0.008617669157953804, 'employment_type_정규직')\n",
      "(0.008259197845227467, 'gender_0.0')\n",
      "(0.008253894449947912, 'gender_1.0')\n",
      "(0.007934551903430861, 'houseown_type_자가')\n",
      "(0.006824420367412049, 'purpose_대환대출')\n",
      "(0.00448650826744079, 'employment_type_계약직')\n",
      "(0.004308239590605819, 'income_type_PRIVATEBUSINESS')\n",
      "(0.0032972055923565307, 'income_type_EARNEDINCOME2')\n",
      "(0.003006562018630654, 'purpose_주택구입')\n",
      "(0.0027065663360577325, 'income_type_OTHERINCOME')\n",
      "(0.002629394062659641, 'purpose_사업자금')\n",
      "(0.0024580486801058393, 'purpose_전월세보증금')\n",
      "(0.0022565746568000873, 'purpose_기타')\n",
      "(0.0018154341059344842, 'income_type_FREELANCER')\n",
      "(0.0017665935789456313, 'income_type_PRACTITIONER')\n",
      "(0.00174611880976891, 'employment_type_일용직')\n",
      "(0.001357050573443896, 'purpose_투자')\n",
      "(0.0007208314299927857, 'personal_rehabilitation_complete_yn')\n",
      "(0.0006735550795160119, 'personal_rehabilitation_yn')\n",
      "(0.0005928841554489312, 'purpose_자동차구입')\n",
      "(0.00020339601101362898, 'houseown_type_배우자')\n",
      "(0.0, 'gender_A')\n"
     ]
    }
   ],
   "source": [
    "print(*sorted(zip(model.feature_importances_, X_test.columns), reverse=True), sep='\\n')"
   ]
  },
  {
   "cell_type": "markdown",
   "id": "853966be",
   "metadata": {},
   "source": [
    "### 실험 2"
   ]
  },
  {
   "cell_type": "code",
   "execution_count": 42,
   "id": "597622c7",
   "metadata": {
    "ExecuteTime": {
     "end_time": "2022-10-13T17:59:00.484708Z",
     "start_time": "2022-10-13T17:58:58.239319Z"
    }
   },
   "outputs": [],
   "source": [
    "tmp2 =pd.concat\\\n",
    "([tmp2[tmp2['is_applied']==0].sample(10_0000, random_state=42), tmp2[tmp2['is_applied']==1].sample(10_0000, random_state=42)])\n"
   ]
  },
  {
   "cell_type": "code",
   "execution_count": 43,
   "id": "5f39b605",
   "metadata": {
    "ExecuteTime": {
     "end_time": "2022-10-13T17:59:45.536036Z",
     "start_time": "2022-10-13T17:59:45.494327Z"
    }
   },
   "outputs": [],
   "source": [
    "X,y =tmp2.loc[:, tmp2.columns !='is_applied'] ,tmp2['is_applied']\n",
    "X_train, X_test, y_train, y_test=train_test_split(X,y,test_size=0.2, random_state=42)"
   ]
  },
  {
   "cell_type": "code",
   "execution_count": 44,
   "id": "f06f8973",
   "metadata": {
    "ExecuteTime": {
     "end_time": "2022-10-13T18:00:50.212784Z",
     "start_time": "2022-10-13T18:00:31.188547Z"
    }
   },
   "outputs": [
    {
     "data": {
      "text/plain": [
       "0.7897"
      ]
     },
     "execution_count": 44,
     "metadata": {},
     "output_type": "execute_result"
    }
   ],
   "source": [
    "model = RandomForestClassifier(random_state=42)\n",
    "model.fit(X_train, y_train)\n",
    "model.score(X_test,y_test)"
   ]
  },
  {
   "cell_type": "code",
   "execution_count": 45,
   "id": "4ee2fe8a",
   "metadata": {
    "ExecuteTime": {
     "end_time": "2022-10-13T18:01:35.424556Z",
     "start_time": "2022-10-13T18:01:34.475547Z"
    }
   },
   "outputs": [
    {
     "data": {
      "text/plain": [
       "0.7962998837659822"
      ]
     },
     "execution_count": 45,
     "metadata": {},
     "output_type": "execute_result"
    }
   ],
   "source": [
    "y_pred = model.predict(X_test)\n",
    "f1_score(y_test, y_pred)"
   ]
  },
  {
   "cell_type": "code",
   "execution_count": 46,
   "id": "0ca279ce",
   "metadata": {
    "ExecuteTime": {
     "end_time": "2022-10-13T18:02:20.920233Z",
     "start_time": "2022-10-13T18:02:20.893869Z"
    },
    "scrolled": true
   },
   "outputs": [
    {
     "data": {
      "text/plain": [
       "array([[15146,  4847],\n",
       "       [ 3565, 16442]])"
      ]
     },
     "execution_count": 46,
     "metadata": {},
     "output_type": "execute_result"
    }
   ],
   "source": [
    "confusion_matrix(y_test, y_pred)"
   ]
  },
  {
   "cell_type": "code",
   "execution_count": 47,
   "id": "f5357e21",
   "metadata": {
    "ExecuteTime": {
     "end_time": "2022-10-13T18:03:05.600138Z",
     "start_time": "2022-10-13T18:03:05.538132Z"
    },
    "scrolled": true
   },
   "outputs": [
    {
     "name": "stdout",
     "output_type": "stream",
     "text": [
      "(0.1854474747360775, 'credit_score')\n",
      "(0.14431822018624563, 'loan_rate')\n",
      "(0.092817602682772, 'work_days')\n",
      "(0.08982160821979354, 'loan_limit')\n",
      "(0.08852024739519998, 'desired_amount')\n",
      "(0.07015944564308596, 'birth_year')\n",
      "(0.06976951264055092, 'yearly_income')\n",
      "(0.06953038245380945, 'existing_loan_amt')\n",
      "(0.050328495504377055, 'existing_loan_cnt')\n",
      "(0.022871590625736845, 'income_type_EARNEDINCOME')\n",
      "(0.012805157637215738, 'purpose_생활비')\n",
      "(0.009824966278404085, 'houseown_type_전월세')\n",
      "(0.009308353699275457, 'houseown_type_기타가족소유')\n",
      "(0.009005261552930055, 'employment_type_기타')\n",
      "(0.008273044583935801, 'gender_1.0')\n",
      "(0.00822581999140221, 'gender_0.0')\n",
      "(0.008187002511617185, 'employment_type_정규직')\n",
      "(0.008047749422587867, 'houseown_type_자가')\n",
      "(0.006909503314851159, 'purpose_대환대출')\n",
      "(0.004560110042817969, 'employment_type_계약직')\n",
      "(0.004069267643444835, 'income_type_PRIVATEBUSINESS')\n",
      "(0.0035460800430757405, 'income_type_EARNEDINCOME2')\n",
      "(0.0030006211559421504, 'purpose_주택구입')\n",
      "(0.0027425408883084046, 'income_type_OTHERINCOME')\n",
      "(0.002620358867927695, 'purpose_사업자금')\n",
      "(0.0023743820424743135, 'income_type_FREELANCER')\n",
      "(0.0023401663757306283, 'purpose_전월세보증금')\n",
      "(0.0023160729441831125, 'purpose_기타')\n",
      "(0.0017588393643179826, 'income_type_PRACTITIONER')\n",
      "(0.0017090288913843919, 'employment_type_일용직')\n",
      "(0.0014077630102613716, 'purpose_투자')\n",
      "(0.0011295195164051728, 'gender_A')\n",
      "(0.0007396474731659983, 'personal_rehabilitation_complete_yn')\n",
      "(0.0006499980708515169, 'personal_rehabilitation_yn')\n",
      "(0.0006267160721425904, 'purpose_자동차구입')\n",
      "(0.00023744851769763546, 'houseown_type_배우자')\n"
     ]
    }
   ],
   "source": [
    "print(*sorted(zip(model.feature_importances_, X_test.columns), reverse=True), sep='\\n')"
   ]
  },
  {
   "cell_type": "markdown",
   "id": "373b3906",
   "metadata": {},
   "source": [
    "### 실험 3"
   ]
  },
  {
   "cell_type": "code",
   "execution_count": 53,
   "id": "e66bf66d",
   "metadata": {
    "ExecuteTime": {
     "end_time": "2022-10-13T18:19:03.612467Z",
     "start_time": "2022-10-13T18:19:01.270149Z"
    }
   },
   "outputs": [],
   "source": [
    "tmp3 =pd.concat\\\n",
    "([tmp3[tmp3['is_applied']==0].sample(10_0000, random_state=42), tmp3[tmp3['is_applied']==1].sample(10_0000, random_state=42)])\n"
   ]
  },
  {
   "cell_type": "code",
   "execution_count": 54,
   "id": "8287975f",
   "metadata": {
    "ExecuteTime": {
     "end_time": "2022-10-13T18:20:03.285798Z",
     "start_time": "2022-10-13T18:20:03.240019Z"
    }
   },
   "outputs": [],
   "source": [
    "X,y =tmp3.loc[:, tmp3.columns !='is_applied'] ,tmp3['is_applied']\n",
    "X_train, X_test, y_train, y_test=train_test_split(X,y,test_size=0.2, random_state=42)"
   ]
  },
  {
   "cell_type": "code",
   "execution_count": 55,
   "id": "2e9c93b0",
   "metadata": {
    "ExecuteTime": {
     "end_time": "2022-10-13T18:21:21.459479Z",
     "start_time": "2022-10-13T18:21:03.125869Z"
    }
   },
   "outputs": [
    {
     "data": {
      "text/plain": [
       "0.7903"
      ]
     },
     "execution_count": 55,
     "metadata": {},
     "output_type": "execute_result"
    }
   ],
   "source": [
    "model = RandomForestClassifier(random_state=42)\n",
    "model.fit(X_train, y_train)\n",
    "model.score(X_test,y_test)"
   ]
  },
  {
   "cell_type": "code",
   "execution_count": 56,
   "id": "859ca5a5",
   "metadata": {
    "ExecuteTime": {
     "end_time": "2022-10-13T18:22:21.981111Z",
     "start_time": "2022-10-13T18:22:21.036346Z"
    }
   },
   "outputs": [
    {
     "data": {
      "text/plain": [
       "0.796881053855095"
      ]
     },
     "execution_count": 56,
     "metadata": {},
     "output_type": "execute_result"
    }
   ],
   "source": [
    "y_pred = model.predict(X_test)\n",
    "f1_score(y_test, y_pred)"
   ]
  },
  {
   "cell_type": "code",
   "execution_count": 57,
   "id": "4f1aca7e",
   "metadata": {
    "ExecuteTime": {
     "end_time": "2022-10-13T18:23:21.451976Z",
     "start_time": "2022-10-13T18:23:21.425105Z"
    },
    "scrolled": true
   },
   "outputs": [
    {
     "data": {
      "text/plain": [
       "array([[15158,  4835],\n",
       "       [ 3553, 16454]])"
      ]
     },
     "execution_count": 57,
     "metadata": {},
     "output_type": "execute_result"
    }
   ],
   "source": [
    "confusion_matrix(y_test, y_pred)"
   ]
  },
  {
   "cell_type": "code",
   "execution_count": 58,
   "id": "2b12ad13",
   "metadata": {
    "ExecuteTime": {
     "end_time": "2022-10-13T18:24:21.209276Z",
     "start_time": "2022-10-13T18:24:21.149569Z"
    },
    "scrolled": true
   },
   "outputs": [
    {
     "name": "stdout",
     "output_type": "stream",
     "text": [
      "(0.18543420246349598, 'credit_score')\n",
      "(0.14457724676460518, 'loan_rate')\n",
      "(0.09308709803847773, 'work_days')\n",
      "(0.08997902397836428, 'desired_amount')\n",
      "(0.08967608958811345, 'loan_limit')\n",
      "(0.07043325388857552, 'birth_year')\n",
      "(0.06978731247099709, 'yearly_income')\n",
      "(0.06968760280109805, 'existing_loan_amt')\n",
      "(0.0500316929093677, 'existing_loan_cnt')\n",
      "(0.02274843418645898, 'income_type_EARNEDINCOME')\n",
      "(0.01202785530303554, 'purpose_생활비')\n",
      "(0.009726593567695315, 'houseown_type_전월세')\n",
      "(0.00939124435895142, 'houseown_type_기타가족소유')\n",
      "(0.009235245487438511, 'employment_type_기타')\n",
      "(0.00818305157463071, 'gender_0.0')\n",
      "(0.008171301741154035, 'gender_1.0')\n",
      "(0.008001352154595959, 'employment_type_정규직')\n",
      "(0.007985902397920167, 'houseown_type_자가')\n",
      "(0.006591430780876071, 'purpose_대환대출')\n",
      "(0.004556029610898176, 'employment_type_계약직')\n",
      "(0.00444095471673803, 'income_type_PRIVATEBUSINESS')\n",
      "(0.0035060752912522662, 'income_type_EARNEDINCOME2')\n",
      "(0.002831240930009369, 'income_type_OTHERINCOME')\n",
      "(0.002807638217875765, 'purpose_주택구입')\n",
      "(0.0025833974166829376, 'purpose_사업자금')\n",
      "(0.002271768644436154, 'purpose_전월세보증금')\n",
      "(0.0022193384496420757, 'purpose_기타')\n",
      "(0.00201657256122841, 'income_type_FREELANCER')\n",
      "(0.0017567513180893762, 'employment_type_일용직')\n",
      "(0.0017306031939672997, 'income_type_PRACTITIONER')\n",
      "(0.00141657309098932, 'purpose_투자')\n",
      "(0.0008267305051818368, 'gender_A')\n",
      "(0.0007359987620135843, 'personal_rehabilitation_complete_yn')\n",
      "(0.0006653302772852081, 'personal_rehabilitation_yn')\n",
      "(0.0006414031190943924, 'purpose_자동차구입')\n",
      "(0.000237659438764325, 'houseown_type_배우자')\n"
     ]
    }
   ],
   "source": [
    "print(*sorted(zip(model.feature_importances_, X_test.columns), reverse=True), sep='\\n')"
   ]
  },
  {
   "cell_type": "markdown",
   "id": "7dd4c57c",
   "metadata": {},
   "source": [
    "### 실험 4"
   ]
  },
  {
   "cell_type": "code",
   "execution_count": 59,
   "id": "e9271809",
   "metadata": {
    "ExecuteTime": {
     "end_time": "2022-10-13T18:19:03.612467Z",
     "start_time": "2022-10-13T18:19:01.270149Z"
    }
   },
   "outputs": [],
   "source": [
    "tmp4 =pd.concat\\\n",
    "([tmp4[tmp4['is_applied']==0].sample(10_0000, random_state=42), tmp4[tmp4['is_applied']==1].sample(10_0000, random_state=42)])\n"
   ]
  },
  {
   "cell_type": "code",
   "execution_count": 60,
   "id": "bfb02a8c",
   "metadata": {
    "ExecuteTime": {
     "end_time": "2022-10-13T18:20:03.285798Z",
     "start_time": "2022-10-13T18:20:03.240019Z"
    }
   },
   "outputs": [],
   "source": [
    "X,y =tmp4.loc[:, tmp4.columns !='is_applied'] ,tmp4['is_applied']\n",
    "X_train, X_test, y_train, y_test=train_test_split(X,y,test_size=0.2, random_state=42)"
   ]
  },
  {
   "cell_type": "code",
   "execution_count": 61,
   "id": "2d58d3d7",
   "metadata": {
    "ExecuteTime": {
     "end_time": "2022-10-13T18:21:21.459479Z",
     "start_time": "2022-10-13T18:21:03.125869Z"
    }
   },
   "outputs": [
    {
     "data": {
      "text/plain": [
       "0.789325"
      ]
     },
     "execution_count": 61,
     "metadata": {},
     "output_type": "execute_result"
    }
   ],
   "source": [
    "model = RandomForestClassifier(random_state=42)\n",
    "model.fit(X_train, y_train)\n",
    "model.score(X_test,y_test)"
   ]
  },
  {
   "cell_type": "code",
   "execution_count": 62,
   "id": "6ebb42bc",
   "metadata": {
    "ExecuteTime": {
     "end_time": "2022-10-13T18:22:21.981111Z",
     "start_time": "2022-10-13T18:22:21.036346Z"
    }
   },
   "outputs": [
    {
     "data": {
      "text/plain": [
       "0.7960304973980394"
      ]
     },
     "execution_count": 62,
     "metadata": {},
     "output_type": "execute_result"
    }
   ],
   "source": [
    "y_pred = model.predict(X_test)\n",
    "f1_score(y_test, y_pred)"
   ]
  },
  {
   "cell_type": "code",
   "execution_count": 63,
   "id": "b86737d4",
   "metadata": {
    "ExecuteTime": {
     "end_time": "2022-10-13T18:23:21.451976Z",
     "start_time": "2022-10-13T18:23:21.425105Z"
    },
    "scrolled": true
   },
   "outputs": [
    {
     "data": {
      "text/plain": [
       "array([[15129,  4864],\n",
       "       [ 3563, 16444]])"
      ]
     },
     "execution_count": 63,
     "metadata": {},
     "output_type": "execute_result"
    }
   ],
   "source": [
    "confusion_matrix(y_test, y_pred)"
   ]
  },
  {
   "cell_type": "code",
   "execution_count": 64,
   "id": "a86d39ef",
   "metadata": {
    "ExecuteTime": {
     "end_time": "2022-10-13T18:24:21.209276Z",
     "start_time": "2022-10-13T18:24:21.149569Z"
    },
    "scrolled": true
   },
   "outputs": [
    {
     "name": "stdout",
     "output_type": "stream",
     "text": [
      "(0.1822650129186153, 'credit_score')\n",
      "(0.14474442014487005, 'loan_rate')\n",
      "(0.09324110434200217, 'work_days')\n",
      "(0.09135877731180071, 'loan_limit')\n",
      "(0.08976680994477851, 'desired_amount')\n",
      "(0.07033858967500721, 'birth_year')\n",
      "(0.06982593570850532, 'existing_loan_amt')\n",
      "(0.06955958043498578, 'yearly_income')\n",
      "(0.05093509727353179, 'existing_loan_cnt')\n",
      "(0.022627458820920633, 'income_type_EARNEDINCOME')\n",
      "(0.012698794903312651, 'purpose_생활비')\n",
      "(0.00956050936460091, 'houseown_type_전월세')\n",
      "(0.009195763383477511, 'employment_type_기타')\n",
      "(0.009102104198534206, 'houseown_type_기타가족소유')\n",
      "(0.008670132865251326, 'employment_type_정규직')\n",
      "(0.008161681216762947, 'gender_1.0')\n",
      "(0.00807498038750933, 'gender_0.0')\n",
      "(0.007880146745546242, 'houseown_type_자가')\n",
      "(0.006749408628882011, 'purpose_대환대출')\n",
      "(0.004623065340611754, 'employment_type_계약직')\n",
      "(0.004124123689296935, 'income_type_PRIVATEBUSINESS')\n",
      "(0.0037499349912294, 'income_type_EARNEDINCOME2')\n",
      "(0.0030355577307841085, 'purpose_주택구입')\n",
      "(0.002767490550772998, 'income_type_OTHERINCOME')\n",
      "(0.002580827229738411, 'purpose_사업자금')\n",
      "(0.0022724120742884653, 'purpose_전월세보증금')\n",
      "(0.0022541764495287776, 'purpose_기타')\n",
      "(0.0019686374185794065, 'income_type_FREELANCER')\n",
      "(0.0017308323009765799, 'income_type_PRACTITIONER')\n",
      "(0.0016750889040822142, 'employment_type_일용직')\n",
      "(0.0014283895309690606, 'purpose_투자')\n",
      "(0.0007803054043943087, 'gender_A')\n",
      "(0.0007378061814189454, 'personal_rehabilitation_complete_yn')\n",
      "(0.0006555944416339133, 'personal_rehabilitation_yn')\n",
      "(0.000637956430945419, 'purpose_자동차구입')\n",
      "(0.00022149306185482358, 'houseown_type_배우자')\n"
     ]
    }
   ],
   "source": [
    "print(*sorted(zip(model.feature_importances_, X_test.columns), reverse=True), sep='\\n')"
   ]
  },
  {
   "cell_type": "markdown",
   "id": "4cf57928",
   "metadata": {},
   "source": [
    "min이 제일 좋다"
   ]
  },
  {
   "cell_type": "markdown",
   "id": "b0fd726e",
   "metadata": {},
   "source": [
    "# 새로운 변수 추가"
   ]
  },
  {
   "cell_type": "markdown",
   "id": "029a1c2b",
   "metadata": {},
   "source": [
    "## 전처리"
   ]
  },
  {
   "cell_type": "code",
   "execution_count": 4,
   "id": "f8ab3e06",
   "metadata": {
    "ExecuteTime": {
     "end_time": "2022-10-13T23:17:23.141440Z",
     "start_time": "2022-10-13T23:16:38.976861Z"
    }
   },
   "outputs": [],
   "source": [
    "merged_ver_4_0 = pd.read_csv('./expermData/merged_ver_4_0.csv', index_col=0)"
   ]
  },
  {
   "cell_type": "code",
   "execution_count": 5,
   "id": "b777f372",
   "metadata": {
    "ExecuteTime": {
     "end_time": "2022-10-13T23:17:34.249680Z",
     "start_time": "2022-10-13T23:17:34.242232Z"
    }
   },
   "outputs": [
    {
     "data": {
      "text/plain": [
       "Index(['Unnamed: 0.1', 'application_id', 'user_id', 'birth_year', 'gender',\n",
       "       'insert_time', 'credit_score', 'yearly_income', 'income_type',\n",
       "       'employment_type', 'houseown_type', 'desired_amount', 'purpose',\n",
       "       'personal_rehabilitation_yn', 'personal_rehabilitation_complete_yn',\n",
       "       'existing_loan_cnt', 'existing_loan_amt', 'loanapply_insert_time',\n",
       "       'bank_id', 'product_id', 'loan_limit', 'loan_rate', 'is_applied',\n",
       "       'work_days'],\n",
       "      dtype='object')"
      ]
     },
     "execution_count": 5,
     "metadata": {},
     "output_type": "execute_result"
    }
   ],
   "source": [
    "merged_ver_4_0.columns"
   ]
  },
  {
   "cell_type": "code",
   "execution_count": 6,
   "id": "c498457e",
   "metadata": {
    "ExecuteTime": {
     "end_time": "2022-10-13T23:17:47.999718Z",
     "start_time": "2022-10-13T23:17:45.360345Z"
    }
   },
   "outputs": [],
   "source": [
    "merged_ver_4_0.drop(['Unnamed: 0.1'], inplace=True, axis=1)"
   ]
  },
  {
   "cell_type": "code",
   "execution_count": 7,
   "id": "69028370",
   "metadata": {
    "ExecuteTime": {
     "end_time": "2022-10-13T23:18:04.332132Z",
     "start_time": "2022-10-13T23:17:59.559382Z"
    }
   },
   "outputs": [],
   "source": [
    "merged_ver_4_0.dropna(inplace=True)"
   ]
  },
  {
   "cell_type": "code",
   "execution_count": 8,
   "id": "b6a26f04",
   "metadata": {
    "ExecuteTime": {
     "end_time": "2022-10-13T23:18:13.384342Z",
     "start_time": "2022-10-13T23:18:11.941085Z"
    }
   },
   "outputs": [],
   "source": [
    "droped_merged_ver_4_0= merged_ver_4_0.drop(\n",
    "    ['application_id', 'user_id',\n",
    "     #'insert_time','loanapply_insert_time', \n",
    "     'bank_id', 'product_id'],axis=1)"
   ]
  },
  {
   "cell_type": "code",
   "execution_count": 9,
   "id": "9a2eda98",
   "metadata": {
    "ExecuteTime": {
     "end_time": "2022-10-13T23:18:20.833808Z",
     "start_time": "2022-10-13T23:18:20.831461Z"
    }
   },
   "outputs": [],
   "source": [
    "cate_list = [\n",
    "    'income_type',\n",
    "    'employment_type',\n",
    "    'houseown_type',\n",
    "    'purpose',\n",
    "    'gender'\n",
    "]"
   ]
  },
  {
   "cell_type": "code",
   "execution_count": 10,
   "id": "44efb87a",
   "metadata": {
    "ExecuteTime": {
     "end_time": "2022-10-13T23:18:51.544678Z",
     "start_time": "2022-10-13T23:18:28.497711Z"
    }
   },
   "outputs": [],
   "source": [
    "for cate in cate_list:\n",
    "    droped_merged_ver_4_0 = pd.get_dummies\\\n",
    "    (data = droped_merged_ver_4_0, columns=[cate], prefix=cate)"
   ]
  },
  {
   "cell_type": "markdown",
   "id": "8f3d9373",
   "metadata": {},
   "source": [
    "## 새로운 변수\n",
    "* ratio_EY : 기대출금액/연소득\n",
    "* ratio_DY : 대출희망금액/연소득\n",
    "* ratio_LY : 승인한도/연소득\n",
    "* ratio_LD : 승인한도/대출희망금액\n",
    "* perseonal_rehabilitation_n : 개인회생자아님\n",
    "* perseonal_rehabilitation_y : 개인회생자임\n",
    "* perseonal_rehabilitation_c : 개인회생납부함\n",
    "* time_interval : 한도조회 - 생성일시\n",
    "* link_account : 계좌 연결여부"
   ]
  },
  {
   "cell_type": "code",
   "execution_count": 11,
   "id": "edae408c",
   "metadata": {
    "ExecuteTime": {
     "end_time": "2022-10-13T23:19:08.507311Z",
     "start_time": "2022-10-13T23:19:03.374323Z"
    }
   },
   "outputs": [],
   "source": [
    "tmp = droped_merged_ver_4_0.copy()\n",
    "tmp =pd.concat\\\n",
    "([tmp[tmp['is_applied']==0].sample(10_0000, random_state=42), tmp[tmp['is_applied']==1].sample(10_0000, random_state=42)])\n",
    "tmp['yearly_income'].replace(0, 1, inplace=True)\n",
    "tmp['desired_amount'].replace(0, 1, inplace=True)\n",
    "tmp['ratio_EY'] = tmp['existing_loan_amt']/tmp['yearly_income']\n",
    "tmp['ratio_DY'] = tmp['desired_amount']/tmp['yearly_income']\n",
    "tmp['ratio_LY'] = tmp['loan_limit']/tmp['yearly_income']\n",
    "tmp['ratio_LD'] = tmp['loan_limit']/tmp['desired_amount']\n",
    "tmp['personal_rehabilitation_c'] = tmp['personal_rehabilitation_complete_yn']\n",
    "tmp['personal_rehabilitation_n'] = 0\n",
    "tmp['personal_rehabilitation_y'] = 0\n",
    "tmp.loc[tmp[tmp[\"personal_rehabilitation_yn\"]==0].index, 'personal_rehabilitation_n']=1\n",
    "tmp.loc[tmp[(tmp[\"personal_rehabilitation_yn\"]==1)&\n",
    "           (tmp[\"personal_rehabilitation_complete_yn\"]==0)\n",
    "           ].index, 'personal_rehabilitation_y']=1"
   ]
  },
  {
   "cell_type": "code",
   "execution_count": 12,
   "id": "ffa81058",
   "metadata": {
    "ExecuteTime": {
     "end_time": "2022-10-13T23:19:20.539559Z",
     "start_time": "2022-10-13T23:19:20.448225Z"
    }
   },
   "outputs": [],
   "source": [
    "tmp['time_interval'] = pd.to_datetime(tmp['loanapply_insert_time']) - pd.to_datetime(tmp['insert_time'])\n",
    "tmp['time_interval']=tmp['time_interval'].dt.total_seconds()"
   ]
  },
  {
   "cell_type": "code",
   "execution_count": 13,
   "id": "79ea94ac",
   "metadata": {
    "ExecuteTime": {
     "end_time": "2022-10-13T23:19:32.765241Z",
     "start_time": "2022-10-13T23:19:32.761217Z"
    }
   },
   "outputs": [],
   "source": [
    "tmp['age'] = 2022-tmp['birth_year']"
   ]
  },
  {
   "cell_type": "code",
   "execution_count": 14,
   "id": "7aeb065d",
   "metadata": {
    "ExecuteTime": {
     "end_time": "2022-10-13T23:19:44.848281Z",
     "start_time": "2022-10-13T23:19:44.824870Z"
    }
   },
   "outputs": [],
   "source": [
    "tmp.drop(['insert_time','loanapply_insert_time', 'birth_year',\n",
    "'personal_rehabilitation_yn','personal_rehabilitation_complete_yn']\n",
    "         ,axis=1,inplace=True)"
   ]
  },
  {
   "cell_type": "code",
   "execution_count": 15,
   "id": "ac275a73",
   "metadata": {
    "ExecuteTime": {
     "end_time": "2022-10-13T23:19:56.707531Z",
     "start_time": "2022-10-13T23:19:56.698780Z"
    }
   },
   "outputs": [],
   "source": [
    "tmp['link_account'] = 0\n",
    "tmp.loc[tmp[tmp[\"loan_rate\"]==0].index, 'link_account']=1"
   ]
  },
  {
   "cell_type": "code",
   "execution_count": 16,
   "id": "668ad0e4",
   "metadata": {
    "ExecuteTime": {
     "end_time": "2022-10-13T23:20:32.663202Z",
     "start_time": "2022-10-13T23:20:08.741250Z"
    },
    "scrolled": false
   },
   "outputs": [
    {
     "data": {
      "text/plain": [
       "0.7876"
      ]
     },
     "execution_count": 16,
     "metadata": {},
     "output_type": "execute_result"
    }
   ],
   "source": [
    "X,y =tmp.loc[:, tmp.columns !='is_applied'] ,tmp['is_applied']\n",
    "X_train, X_test, y_train, y_test=train_test_split(X,y,test_size=0.2, random_state=42)\n",
    "model = RandomForestClassifier(random_state=42)\n",
    "model.fit(X_train, y_train)\n",
    "model.score(X_test,y_test)"
   ]
  },
  {
   "cell_type": "code",
   "execution_count": 17,
   "id": "ed8d4e91",
   "metadata": {
    "ExecuteTime": {
     "end_time": "2022-10-13T23:20:45.711928Z",
     "start_time": "2022-10-13T23:20:44.744046Z"
    }
   },
   "outputs": [
    {
     "data": {
      "text/plain": [
       "0.7948519824214033"
      ]
     },
     "execution_count": 17,
     "metadata": {},
     "output_type": "execute_result"
    }
   ],
   "source": [
    "y_pred = model.predict(X_test)\n",
    "f1_score(y_test, y_pred)"
   ]
  },
  {
   "cell_type": "code",
   "execution_count": 18,
   "id": "77100772",
   "metadata": {
    "ExecuteTime": {
     "end_time": "2022-10-13T23:20:57.756698Z",
     "start_time": "2022-10-13T23:20:57.731623Z"
    }
   },
   "outputs": [
    {
     "data": {
      "text/plain": [
       "array([[15045,  4948],\n",
       "       [ 3548, 16459]])"
      ]
     },
     "execution_count": 18,
     "metadata": {},
     "output_type": "execute_result"
    }
   ],
   "source": [
    "confusion_matrix(y_test, y_pred)"
   ]
  },
  {
   "cell_type": "code",
   "execution_count": 19,
   "id": "75af9a26",
   "metadata": {
    "ExecuteTime": {
     "end_time": "2022-10-13T23:21:09.853536Z",
     "start_time": "2022-10-13T23:21:09.799611Z"
    },
    "scrolled": true
   },
   "outputs": [
    {
     "name": "stdout",
     "output_type": "stream",
     "text": [
      "(0.15799684932799607, 'credit_score')\n",
      "(0.11198828790899498, 'loan_rate')\n",
      "(0.07352963619851176, 'ratio_LD')\n",
      "(0.06459377445035742, 'work_days')\n",
      "(0.06100294907540637, 'ratio_DY')\n",
      "(0.05697538080314204, 'ratio_LY')\n",
      "(0.04979685131000594, 'ratio_EY')\n",
      "(0.04950674762745688, 'desired_amount')\n",
      "(0.04878127158815115, 'age')\n",
      "(0.04825171722668481, 'loan_limit')\n",
      "(0.04481578227534114, 'existing_loan_amt')\n",
      "(0.04358961691119696, 'yearly_income')\n",
      "(0.037027488229659095, 'existing_loan_cnt')\n",
      "(0.03412063179337328, 'time_interval')\n",
      "(0.019747752371167313, 'income_type_EARNEDINCOME')\n",
      "(0.009897090821147496, 'purpose_생활비')\n",
      "(0.00838551352258688, 'employment_type_기타')\n",
      "(0.007937833344148774, 'houseown_type_전월세')\n",
      "(0.007647047424413611, 'employment_type_정규직')\n",
      "(0.007627554864457305, 'houseown_type_기타가족소유')\n",
      "(0.00662532542814179, 'gender_1.0')\n",
      "(0.006591803184671249, 'gender_0.0')\n",
      "(0.006431612716661099, 'houseown_type_자가')\n",
      "(0.005892710590125872, 'purpose_대환대출')\n",
      "(0.004003871051153474, 'employment_type_계약직')\n",
      "(0.003938504735432222, 'income_type_PRIVATEBUSINESS')\n",
      "(0.003518971054112792, 'income_type_EARNEDINCOME2')\n",
      "(0.002745549688845994, 'income_type_OTHERINCOME')\n",
      "(0.002190198730016675, 'purpose_사업자금')\n",
      "(0.0019286160917316242, 'purpose_주택구입')\n",
      "(0.0018346790322008707, 'purpose_기타')\n",
      "(0.0018112178803590111, 'income_type_FREELANCER')\n",
      "(0.0017967618232025068, 'purpose_전월세보증금')\n",
      "(0.0014277989231926008, 'employment_type_일용직')\n",
      "(0.0013579490349748704, 'income_type_PRACTITIONER')\n",
      "(0.0011607053860557622, 'purpose_투자')\n",
      "(0.0008577182306194516, 'link_account')\n",
      "(0.0006796923680722346, 'gender_A')\n",
      "(0.0005190597547952394, 'purpose_자동차구입')\n",
      "(0.0004968564734022254, 'personal_rehabilitation_c')\n",
      "(0.00042969397487620085, 'personal_rehabilitation_n')\n",
      "(0.0003599906949060274, 'personal_rehabilitation_y')\n",
      "(0.00018093607825094715, 'houseown_type_배우자')\n"
     ]
    }
   ],
   "source": [
    "print(*sorted(zip(model.feature_importances_, X_test.columns), reverse=True), sep='\\n')"
   ]
  },
  {
   "cell_type": "code",
   "execution_count": 20,
   "id": "e6acfc99",
   "metadata": {
    "ExecuteTime": {
     "end_time": "2022-10-13T23:21:21.919211Z",
     "start_time": "2022-10-13T23:21:21.868914Z"
    }
   },
   "outputs": [],
   "source": [
    "feature_list=sorted(zip(model.feature_importances_, X_test.columns))"
   ]
  },
  {
   "cell_type": "markdown",
   "id": "692b09f7",
   "metadata": {},
   "source": [
    "# feature 버리기"
   ]
  },
  {
   "cell_type": "code",
   "execution_count": 56,
   "id": "ac81e5e8",
   "metadata": {
    "ExecuteTime": {
     "end_time": "2022-10-13T21:58:31.242739Z",
     "start_time": "2022-10-13T21:43:05.602543Z"
    },
    "scrolled": true
   },
   "outputs": [
    {
     "name": "stderr",
     "output_type": "stream",
     "text": [
      " 98%|█████████████████████████████████████████████████████████████████████████████████  | 42/43 [15:25<00:22, 22.04s/it]\n"
     ]
    },
    {
     "ename": "ValueError",
     "evalue": "at least one array or dtype is required",
     "output_type": "error",
     "traceback": [
      "\u001b[0;31m---------------------------------------------------------------------------\u001b[0m",
      "\u001b[0;31mValueError\u001b[0m                                Traceback (most recent call last)",
      "\u001b[0;32m/tmp/ipykernel_1141/1849871982.py\u001b[0m in \u001b[0;36m<module>\u001b[0;34m\u001b[0m\n\u001b[1;32m      5\u001b[0m     \u001b[0mX_test\u001b[0m\u001b[0;34m.\u001b[0m\u001b[0mdrop\u001b[0m\u001b[0;34m(\u001b[0m\u001b[0;34m[\u001b[0m\u001b[0mfeature\u001b[0m\u001b[0;34m]\u001b[0m\u001b[0;34m,\u001b[0m \u001b[0maxis\u001b[0m\u001b[0;34m=\u001b[0m\u001b[0;36m1\u001b[0m\u001b[0;34m,\u001b[0m \u001b[0minplace\u001b[0m\u001b[0;34m=\u001b[0m\u001b[0;32mTrue\u001b[0m\u001b[0;34m)\u001b[0m\u001b[0;34m\u001b[0m\u001b[0;34m\u001b[0m\u001b[0m\n\u001b[1;32m      6\u001b[0m     \u001b[0mmodel\u001b[0m \u001b[0;34m=\u001b[0m \u001b[0mRandomForestClassifier\u001b[0m\u001b[0;34m(\u001b[0m\u001b[0mrandom_state\u001b[0m\u001b[0;34m=\u001b[0m\u001b[0;36m42\u001b[0m\u001b[0;34m)\u001b[0m\u001b[0;34m\u001b[0m\u001b[0;34m\u001b[0m\u001b[0m\n\u001b[0;32m----> 7\u001b[0;31m     \u001b[0mmodel\u001b[0m\u001b[0;34m.\u001b[0m\u001b[0mfit\u001b[0m\u001b[0;34m(\u001b[0m\u001b[0mX_train\u001b[0m\u001b[0;34m,\u001b[0m \u001b[0my_train\u001b[0m\u001b[0;34m)\u001b[0m\u001b[0;34m\u001b[0m\u001b[0;34m\u001b[0m\u001b[0m\n\u001b[0m\u001b[1;32m      8\u001b[0m     \u001b[0macc_list\u001b[0m\u001b[0;34m.\u001b[0m\u001b[0mappend\u001b[0m\u001b[0;34m(\u001b[0m\u001b[0mmodel\u001b[0m\u001b[0;34m.\u001b[0m\u001b[0mscore\u001b[0m\u001b[0;34m(\u001b[0m\u001b[0mX_test\u001b[0m\u001b[0;34m,\u001b[0m\u001b[0my_test\u001b[0m\u001b[0;34m)\u001b[0m\u001b[0;34m)\u001b[0m\u001b[0;34m\u001b[0m\u001b[0;34m\u001b[0m\u001b[0m\n\u001b[1;32m      9\u001b[0m     \u001b[0mf1_list\u001b[0m\u001b[0;34m.\u001b[0m\u001b[0mappend\u001b[0m\u001b[0;34m(\u001b[0m\u001b[0mf1_score\u001b[0m\u001b[0;34m(\u001b[0m\u001b[0my_test\u001b[0m\u001b[0;34m,\u001b[0m \u001b[0mmodel\u001b[0m\u001b[0;34m.\u001b[0m\u001b[0mpredict\u001b[0m\u001b[0;34m(\u001b[0m\u001b[0mX_test\u001b[0m\u001b[0;34m)\u001b[0m\u001b[0;34m)\u001b[0m\u001b[0;34m)\u001b[0m\u001b[0;34m\u001b[0m\u001b[0;34m\u001b[0m\u001b[0m\n",
      "\u001b[0;32m~/.local/lib/python3.8/site-packages/sklearn/ensemble/_forest.py\u001b[0m in \u001b[0;36mfit\u001b[0;34m(self, X, y, sample_weight)\u001b[0m\n\u001b[1;32m    325\u001b[0m         \u001b[0;32mif\u001b[0m \u001b[0missparse\u001b[0m\u001b[0;34m(\u001b[0m\u001b[0my\u001b[0m\u001b[0;34m)\u001b[0m\u001b[0;34m:\u001b[0m\u001b[0;34m\u001b[0m\u001b[0;34m\u001b[0m\u001b[0m\n\u001b[1;32m    326\u001b[0m             \u001b[0;32mraise\u001b[0m \u001b[0mValueError\u001b[0m\u001b[0;34m(\u001b[0m\u001b[0;34m\"sparse multilabel-indicator for y is not supported.\"\u001b[0m\u001b[0;34m)\u001b[0m\u001b[0;34m\u001b[0m\u001b[0;34m\u001b[0m\u001b[0m\n\u001b[0;32m--> 327\u001b[0;31m         X, y = self._validate_data(\n\u001b[0m\u001b[1;32m    328\u001b[0m             \u001b[0mX\u001b[0m\u001b[0;34m,\u001b[0m \u001b[0my\u001b[0m\u001b[0;34m,\u001b[0m \u001b[0mmulti_output\u001b[0m\u001b[0;34m=\u001b[0m\u001b[0;32mTrue\u001b[0m\u001b[0;34m,\u001b[0m \u001b[0maccept_sparse\u001b[0m\u001b[0;34m=\u001b[0m\u001b[0;34m\"csc\"\u001b[0m\u001b[0;34m,\u001b[0m \u001b[0mdtype\u001b[0m\u001b[0;34m=\u001b[0m\u001b[0mDTYPE\u001b[0m\u001b[0;34m\u001b[0m\u001b[0;34m\u001b[0m\u001b[0m\n\u001b[1;32m    329\u001b[0m         )\n",
      "\u001b[0;32m~/.local/lib/python3.8/site-packages/sklearn/base.py\u001b[0m in \u001b[0;36m_validate_data\u001b[0;34m(self, X, y, reset, validate_separately, **check_params)\u001b[0m\n\u001b[1;32m    579\u001b[0m                 \u001b[0my\u001b[0m \u001b[0;34m=\u001b[0m \u001b[0mcheck_array\u001b[0m\u001b[0;34m(\u001b[0m\u001b[0my\u001b[0m\u001b[0;34m,\u001b[0m \u001b[0;34m**\u001b[0m\u001b[0mcheck_y_params\u001b[0m\u001b[0;34m)\u001b[0m\u001b[0;34m\u001b[0m\u001b[0;34m\u001b[0m\u001b[0m\n\u001b[1;32m    580\u001b[0m             \u001b[0;32melse\u001b[0m\u001b[0;34m:\u001b[0m\u001b[0;34m\u001b[0m\u001b[0;34m\u001b[0m\u001b[0m\n\u001b[0;32m--> 581\u001b[0;31m                 \u001b[0mX\u001b[0m\u001b[0;34m,\u001b[0m \u001b[0my\u001b[0m \u001b[0;34m=\u001b[0m \u001b[0mcheck_X_y\u001b[0m\u001b[0;34m(\u001b[0m\u001b[0mX\u001b[0m\u001b[0;34m,\u001b[0m \u001b[0my\u001b[0m\u001b[0;34m,\u001b[0m \u001b[0;34m**\u001b[0m\u001b[0mcheck_params\u001b[0m\u001b[0;34m)\u001b[0m\u001b[0;34m\u001b[0m\u001b[0;34m\u001b[0m\u001b[0m\n\u001b[0m\u001b[1;32m    582\u001b[0m             \u001b[0mout\u001b[0m \u001b[0;34m=\u001b[0m \u001b[0mX\u001b[0m\u001b[0;34m,\u001b[0m \u001b[0my\u001b[0m\u001b[0;34m\u001b[0m\u001b[0;34m\u001b[0m\u001b[0m\n\u001b[1;32m    583\u001b[0m \u001b[0;34m\u001b[0m\u001b[0m\n",
      "\u001b[0;32m~/.local/lib/python3.8/site-packages/sklearn/utils/validation.py\u001b[0m in \u001b[0;36mcheck_X_y\u001b[0;34m(X, y, accept_sparse, accept_large_sparse, dtype, order, copy, force_all_finite, ensure_2d, allow_nd, multi_output, ensure_min_samples, ensure_min_features, y_numeric, estimator)\u001b[0m\n\u001b[1;32m    962\u001b[0m         \u001b[0;32mraise\u001b[0m \u001b[0mValueError\u001b[0m\u001b[0;34m(\u001b[0m\u001b[0;34m\"y cannot be None\"\u001b[0m\u001b[0;34m)\u001b[0m\u001b[0;34m\u001b[0m\u001b[0;34m\u001b[0m\u001b[0m\n\u001b[1;32m    963\u001b[0m \u001b[0;34m\u001b[0m\u001b[0m\n\u001b[0;32m--> 964\u001b[0;31m     X = check_array(\n\u001b[0m\u001b[1;32m    965\u001b[0m         \u001b[0mX\u001b[0m\u001b[0;34m,\u001b[0m\u001b[0;34m\u001b[0m\u001b[0;34m\u001b[0m\u001b[0m\n\u001b[1;32m    966\u001b[0m         \u001b[0maccept_sparse\u001b[0m\u001b[0;34m=\u001b[0m\u001b[0maccept_sparse\u001b[0m\u001b[0;34m,\u001b[0m\u001b[0;34m\u001b[0m\u001b[0;34m\u001b[0m\u001b[0m\n",
      "\u001b[0;32m~/.local/lib/python3.8/site-packages/sklearn/utils/validation.py\u001b[0m in \u001b[0;36mcheck_array\u001b[0;34m(array, accept_sparse, accept_large_sparse, dtype, order, copy, force_all_finite, ensure_2d, allow_nd, ensure_min_samples, ensure_min_features, estimator)\u001b[0m\n\u001b[1;32m    663\u001b[0m \u001b[0;34m\u001b[0m\u001b[0m\n\u001b[1;32m    664\u001b[0m         \u001b[0;32mif\u001b[0m \u001b[0mall\u001b[0m\u001b[0;34m(\u001b[0m\u001b[0misinstance\u001b[0m\u001b[0;34m(\u001b[0m\u001b[0mdtype\u001b[0m\u001b[0;34m,\u001b[0m \u001b[0mnp\u001b[0m\u001b[0;34m.\u001b[0m\u001b[0mdtype\u001b[0m\u001b[0;34m)\u001b[0m \u001b[0;32mfor\u001b[0m \u001b[0mdtype\u001b[0m \u001b[0;32min\u001b[0m \u001b[0mdtypes_orig\u001b[0m\u001b[0;34m)\u001b[0m\u001b[0;34m:\u001b[0m\u001b[0;34m\u001b[0m\u001b[0;34m\u001b[0m\u001b[0m\n\u001b[0;32m--> 665\u001b[0;31m             \u001b[0mdtype_orig\u001b[0m \u001b[0;34m=\u001b[0m \u001b[0mnp\u001b[0m\u001b[0;34m.\u001b[0m\u001b[0mresult_type\u001b[0m\u001b[0;34m(\u001b[0m\u001b[0;34m*\u001b[0m\u001b[0mdtypes_orig\u001b[0m\u001b[0;34m)\u001b[0m\u001b[0;34m\u001b[0m\u001b[0;34m\u001b[0m\u001b[0m\n\u001b[0m\u001b[1;32m    666\u001b[0m \u001b[0;34m\u001b[0m\u001b[0m\n\u001b[1;32m    667\u001b[0m     \u001b[0;32mif\u001b[0m \u001b[0mdtype_numeric\u001b[0m\u001b[0;34m:\u001b[0m\u001b[0;34m\u001b[0m\u001b[0;34m\u001b[0m\u001b[0m\n",
      "\u001b[0;32m~/.local/lib/python3.8/site-packages/numpy/core/overrides.py\u001b[0m in \u001b[0;36mresult_type\u001b[0;34m(*args, **kwargs)\u001b[0m\n",
      "\u001b[0;31mValueError\u001b[0m: at least one array or dtype is required"
     ]
    }
   ],
   "source": [
    "acc_list=[]\n",
    "f1_list=[]\n",
    "for im, feature in tqdm(feature_list):\n",
    "    X_train.drop([feature], axis=1, inplace=True)\n",
    "    X_test.drop([feature], axis=1, inplace=True)\n",
    "    model = RandomForestClassifier(random_state=42)\n",
    "    model.fit(X_train, y_train)\n",
    "    acc_list.append(model.score(X_test,y_test))\n",
    "    f1_list.append(f1_score(y_test, model.predict(X_test)))"
   ]
  },
  {
   "cell_type": "code",
   "execution_count": 65,
   "id": "690977d4",
   "metadata": {
    "ExecuteTime": {
     "end_time": "2022-10-13T22:07:49.527334Z",
     "start_time": "2022-10-13T22:07:49.403502Z"
    },
    "scrolled": true
   },
   "outputs": [
    {
     "data": {
      "text/plain": [
       "([<matplotlib.axis.XTick at 0x7fcf839325b0>,\n",
       "  <matplotlib.axis.XTick at 0x7fcf83932580>,\n",
       "  <matplotlib.axis.XTick at 0x7fcf8392d2b0>,\n",
       "  <matplotlib.axis.XTick at 0x7fcf82a801c0>,\n",
       "  <matplotlib.axis.XTick at 0x7fcf82a80910>,\n",
       "  <matplotlib.axis.XTick at 0x7fcf82a80a00>,\n",
       "  <matplotlib.axis.XTick at 0x7fcf82329130>,\n",
       "  <matplotlib.axis.XTick at 0x7fcf82329880>,\n",
       "  <matplotlib.axis.XTick at 0x7fcf823250a0>,\n",
       "  <matplotlib.axis.XTick at 0x7fcf82325760>,\n",
       "  <matplotlib.axis.XTick at 0x7fcf8232f040>,\n",
       "  <matplotlib.axis.XTick at 0x7fcf8232f640>,\n",
       "  <matplotlib.axis.XTick at 0x7fcf82325850>,\n",
       "  <matplotlib.axis.XTick at 0x7fcf82329520>,\n",
       "  <matplotlib.axis.XTick at 0x7fcf8232f1c0>,\n",
       "  <matplotlib.axis.XTick at 0x7fcf823391c0>,\n",
       "  <matplotlib.axis.XTick at 0x7fcf82339910>,\n",
       "  <matplotlib.axis.XTick at 0x7fcf8233e0a0>,\n",
       "  <matplotlib.axis.XTick at 0x7fcf8233e7f0>,\n",
       "  <matplotlib.axis.XTick at 0x7fcf82339940>,\n",
       "  <matplotlib.axis.XTick at 0x7fcf82329100>],\n",
       " [Text(0, 0, ''),\n",
       "  Text(0, 0, ''),\n",
       "  Text(0, 0, ''),\n",
       "  Text(0, 0, ''),\n",
       "  Text(0, 0, ''),\n",
       "  Text(0, 0, ''),\n",
       "  Text(0, 0, ''),\n",
       "  Text(0, 0, ''),\n",
       "  Text(0, 0, ''),\n",
       "  Text(0, 0, ''),\n",
       "  Text(0, 0, ''),\n",
       "  Text(0, 0, ''),\n",
       "  Text(0, 0, ''),\n",
       "  Text(0, 0, ''),\n",
       "  Text(0, 0, ''),\n",
       "  Text(0, 0, ''),\n",
       "  Text(0, 0, ''),\n",
       "  Text(0, 0, ''),\n",
       "  Text(0, 0, ''),\n",
       "  Text(0, 0, ''),\n",
       "  Text(0, 0, '')])"
      ]
     },
     "execution_count": 65,
     "metadata": {},
     "output_type": "execute_result"
    },
    {
     "data": {
      "image/png": "[encoded data removed]",
      "text/plain": [
       "<Figure size 432x288 with 1 Axes>"
      ]
     },
     "metadata": {
      "needs_background": "light"
     },
     "output_type": "display_data"
    }
   ],
   "source": [
    "plt.plot(range(len(acc_list)), acc_list, label = 'accuracy')\n",
    "plt.plot(range(len(acc_list)), f1_list, label = 'f1-score')\n",
    "plt.legend()\n",
    "plt.xticks([i*2 for i in range(len(acc_list)//2)])"
   ]
  },
  {
   "cell_type": "code",
   "execution_count": 70,
   "id": "dafbe382",
   "metadata": {
    "ExecuteTime": {
     "end_time": "2022-10-13T22:38:28.618580Z",
     "start_time": "2022-10-13T22:38:28.612856Z"
    }
   },
   "outputs": [
    {
     "name": "stdout",
     "output_type": "stream",
     "text": [
      "((0, 0.7876), (0.00018093607825094715, 'houseown_type_배우자'))\n",
      "((1, 0.78775), (0.0003599906949060274, 'personal_rehabilitation_y'))\n",
      "((2, 0.788), (0.00042969397487620085, 'personal_rehabilitation_n'))\n",
      "((3, 0.7882), (0.0004968564734022254, 'personal_rehabilitation_c'))\n",
      "((4, 0.786375), (0.0005190597547952394, 'purpose_자동차구입'))\n",
      "((5, 0.78755), (0.0006796923680722346, 'gender_A'))\n",
      "((6, 0.7877), (0.0008577182306194516, 'link_account'))\n",
      "((7, 0.7867), (0.0011607053860557622, 'purpose_투자'))\n",
      "((8, 0.78635), (0.0013579490349748704, 'income_type_PRACTITIONER'))\n",
      "((9, 0.787625), (0.0014277989231926008, 'employment_type_일용직'))\n",
      "((10, 0.78655), (0.0017967618232025068, 'purpose_전월세보증금'))\n",
      "((11, 0.787075), (0.0018112178803590111, 'income_type_FREELANCER'))\n",
      "((12, 0.78685), (0.0018346790322008707, 'purpose_기타'))\n",
      "((13, 0.7874), (0.0019286160917316242, 'purpose_주택구입'))\n",
      "((14, 0.7857), (0.002190198730016675, 'purpose_사업자금'))\n",
      "((15, 0.7868), (0.002745549688845994, 'income_type_OTHERINCOME'))\n",
      "((16, 0.7885), (0.003518971054112792, 'income_type_EARNEDINCOME2'))\n",
      "((17, 0.787225), (0.003938504735432222, 'income_type_PRIVATEBUSINESS'))\n",
      "((18, 0.785975), (0.004003871051153474, 'employment_type_계약직'))\n",
      "((19, 0.7861), (0.005892710590125872, 'purpose_대환대출'))\n",
      "((20, 0.78595), (0.006431612716661099, 'houseown_type_자가'))\n",
      "((21, 0.785425), (0.006591803184671249, 'gender_0.0'))\n",
      "((22, 0.78555), (0.00662532542814179, 'gender_1.0'))\n",
      "((23, 0.78535), (0.007627554864457305, 'houseown_type_기타가족소유'))\n",
      "((24, 0.785275), (0.007647047424413611, 'employment_type_정규직'))\n",
      "((25, 0.786), (0.007937833344148774, 'houseown_type_전월세'))\n",
      "((26, 0.785075), (0.00838551352258688, 'employment_type_기타'))\n",
      "((27, 0.78425), (0.009897090821147496, 'purpose_생활비'))\n",
      "((28, 0.7757), (0.019747752371167313, 'income_type_EARNEDINCOME'))\n",
      "((29, 0.773875), (0.03412063179337328, 'time_interval'))\n",
      "((30, 0.770325), (0.037027488229659095, 'existing_loan_cnt'))\n",
      "((31, 0.7703), (0.04358961691119696, 'yearly_income'))\n",
      "((32, 0.76905), (0.04481578227534114, 'existing_loan_amt'))\n",
      "((33, 0.7661), (0.04825171722668481, 'loan_limit'))\n",
      "((34, 0.763975), (0.04878127158815115, 'age'))\n",
      "((35, 0.75945), (0.04950674762745688, 'desired_amount'))\n",
      "((36, 0.750575), (0.04979685131000594, 'ratio_EY'))\n",
      "((37, 0.750775), (0.05697538080314204, 'ratio_LY'))\n",
      "((38, 0.7348), (0.06100294907540637, 'ratio_DY'))\n",
      "((39, 0.70055), (0.06459377445035742, 'work_days'))\n",
      "((40, 0.7061), (0.07352963619851176, 'ratio_LD'))\n",
      "((41, 0.6691), (0.11198828790899498, 'loan_rate'))\n"
     ]
    }
   ],
   "source": [
    "print(*zip(enumerate(acc_list),feature_list), sep='\\n')"
   ]
  },
  {
   "cell_type": "code",
   "execution_count": 23,
   "id": "5c3e3a05",
   "metadata": {
    "ExecuteTime": {
     "end_time": "2022-10-13T22:59:56.113753Z",
     "start_time": "2022-10-13T22:59:56.062709Z"
    },
    "scrolled": true
   },
   "outputs": [],
   "source": [
    "# X_train, X_test, y_train, y_test=train_test_split(X,y,test_size=0.2, random_state=42)\n",
    "\n",
    "# X_train.drop([f for i,f in feature_list[:16]], axis=1, inplace=True)\n",
    "# X_test.drop([f for i,f in feature_list[:16]], axis=1, inplace=True)\n"
   ]
  },
  {
   "cell_type": "code",
   "execution_count": 24,
   "id": "db6bb387",
   "metadata": {
    "ExecuteTime": {
     "end_time": "2022-10-13T23:01:14.833166Z",
     "start_time": "2022-10-13T23:01:13.090635Z"
    }
   },
   "outputs": [],
   "source": [
    "# X_train.to_csv('./expermData/X_train.csv')\n",
    "# X_test.to_csv('./expermData/X_test.csv')\n",
    "# y_train.to_csv('./expermData/y_train.csv')\n",
    "# y_test.to_csv('./expermData/y_test.csv')"
   ]
  },
  {
   "cell_type": "code",
   "execution_count": 21,
   "id": "7e30cf95",
   "metadata": {
    "ExecuteTime": {
     "end_time": "2022-10-13T23:21:33.951270Z",
     "start_time": "2022-10-13T23:21:33.947183Z"
    }
   },
   "outputs": [
    {
     "data": {
      "text/plain": [
       "['houseown_type_배우자',\n",
       " 'personal_rehabilitation_y',\n",
       " 'personal_rehabilitation_n',\n",
       " 'personal_rehabilitation_c',\n",
       " 'purpose_자동차구입',\n",
       " 'gender_A',\n",
       " 'link_account',\n",
       " 'purpose_투자',\n",
       " 'income_type_PRACTITIONER',\n",
       " 'employment_type_일용직',\n",
       " 'purpose_전월세보증금',\n",
       " 'income_type_FREELANCER',\n",
       " 'purpose_기타',\n",
       " 'purpose_주택구입',\n",
       " 'purpose_사업자금',\n",
       " 'income_type_OTHERINCOME']"
      ]
     },
     "execution_count": 21,
     "metadata": {},
     "output_type": "execute_result"
    }
   ],
   "source": [
    "[f for i,f in feature_list[:16]]"
   ]
  }
 ],
 "metadata": {
  "kernelspec": {
   "display_name": "Python 3 (ipykernel)",
   "language": "python",
   "name": "python3"
  },
  "language_info": {
   "codemirror_mode": {
    "name": "ipython",
    "version": 3
   },
   "file_extension": ".py",
   "mimetype": "text/x-python",
   "name": "python",
   "nbconvert_exporter": "python",
   "pygments_lexer": "ipython3",
   "version": "3.8.10"
  },
  "toc": {
   "base_numbering": 1,
   "nav_menu": {},
   "number_sections": true,
   "sideBar": true,
   "skip_h1_title": false,
   "title_cell": "Table of Contents",
   "title_sidebar": "Contents",
   "toc_cell": false,
   "toc_position": {},
   "toc_section_display": true,
   "toc_window_display": false
  },
  "varInspector": {
   "cols": {
    "lenName": 16,
    "lenType": 16,
    "lenVar": 40
   },
   "kernels_config": {
    "python": {
     "delete_cmd_postfix": "",
     "delete_cmd_prefix": "del ",
     "library": "var_list.py",
     "varRefreshCmd": "print(var_dic_list())"
    },
    "r": {
     "delete_cmd_postfix": ") ",
     "delete_cmd_prefix": "rm(",
     "library": "var_list.r",
     "varRefreshCmd": "cat(var_dic_list()) "
    }
   },
   "types_to_exclude": [
    "module",
    "function",
    "builtin_function_or_method",
    "instance",
    "_Feature"
   ],
   "window_display": false
  }
 },
 "nbformat": 4,
 "nbformat_minor": 5
}
