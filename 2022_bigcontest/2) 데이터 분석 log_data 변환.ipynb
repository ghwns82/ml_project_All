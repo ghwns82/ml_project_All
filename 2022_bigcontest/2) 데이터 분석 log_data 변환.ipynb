{
 "cells": [
  {
   "cell_type": "markdown",
   "id": "7cdbcc9e",
   "metadata": {},
   "source": [
    "* is applied == 1, value_count\n",
    "* value_count, user_spec.features"
   ]
  },
  {
   "cell_type": "code",
   "execution_count": 1,
   "id": "8f07cd17",
   "metadata": {
    "ExecuteTime": {
     "end_time": "2022-10-13T11:38:48.621271Z",
     "start_time": "2022-10-13T11:38:46.512591Z"
    }
   },
   "outputs": [],
   "source": [
    "import pandas as pd\n",
    "import numpy as np\n",
    "import os\n",
    "import random\n",
    "from copy import deepcopy\n",
    "import math\n",
    "from itertools import product\n",
    "import pickle\n",
    "import joblib\n",
    "from tqdm import tqdm\n",
    "\n",
    "import matplotlib.pyplot as plt\n",
    "import seaborn as sb\n",
    "\n",
    "from sklearn.ensemble import RandomForestClassifier\n",
    "from sklearn.model_selection import train_test_split\n",
    "from sklearn.metrics import f1_score, confusion_matrix, ConfusionMatrixDisplay"
   ]
  },
  {
   "cell_type": "code",
   "execution_count": 2,
   "id": "6e47280f",
   "metadata": {
    "ExecuteTime": {
     "end_time": "2022-10-13T11:38:50.986401Z",
     "start_time": "2022-10-13T11:38:48.626406Z"
    }
   },
   "outputs": [],
   "source": [
    "user_spec = pd.read_csv('./data/user_spec.csv')"
   ]
  },
  {
   "cell_type": "code",
   "execution_count": 3,
   "id": "14d0f570",
   "metadata": {
    "ExecuteTime": {
     "end_time": "2022-10-13T11:38:57.907713Z",
     "start_time": "2022-10-13T11:38:51.007414Z"
    }
   },
   "outputs": [],
   "source": [
    "loan_df = pd.read_csv('./data/loan_result.csv')"
   ]
  },
  {
   "cell_type": "code",
   "execution_count": 4,
   "id": "872e7f8c",
   "metadata": {
    "ExecuteTime": {
     "end_time": "2022-10-13T11:39:10.238879Z",
     "start_time": "2022-10-13T11:38:57.925741Z"
    }
   },
   "outputs": [],
   "source": [
    "log_df = pd.read_csv('./data/log_data.csv')"
   ]
  },
  {
   "cell_type": "code",
   "execution_count": null,
   "id": "529c3c84",
   "metadata": {},
   "outputs": [],
   "source": []
  },
  {
   "cell_type": "markdown",
   "id": "1f282a22",
   "metadata": {},
   "source": [
    "# log 데이터 전처리"
   ]
  },
  {
   "cell_type": "code",
   "execution_count": 5,
   "id": "68a6b3d5",
   "metadata": {
    "ExecuteTime": {
     "end_time": "2022-10-13T11:39:38.099616Z",
     "start_time": "2022-10-13T11:39:10.264492Z"
    }
   },
   "outputs": [],
   "source": [
    "log_df = log_df.sort_values(by=['user_id','timestamp'])"
   ]
  },
  {
   "cell_type": "code",
   "execution_count": 6,
   "id": "0a2071f5",
   "metadata": {
    "ExecuteTime": {
     "end_time": "2022-10-13T11:39:42.707292Z",
     "start_time": "2022-10-13T11:39:38.119344Z"
    }
   },
   "outputs": [],
   "source": [
    "log_df = pd.get_dummies(data = log_df, columns=['event'])"
   ]
  },
  {
   "cell_type": "code",
   "execution_count": 7,
   "id": "99c30d91",
   "metadata": {
    "ExecuteTime": {
     "end_time": "2022-10-13T11:39:51.952566Z",
     "start_time": "2022-10-13T11:39:42.731233Z"
    }
   },
   "outputs": [],
   "source": [
    "result = log_df.groupby(by=['user_id','date_cd']).sum()"
   ]
  },
  {
   "cell_type": "code",
   "execution_count": 8,
   "id": "e0e1f2e1",
   "metadata": {
    "ExecuteTime": {
     "end_time": "2022-10-13T11:39:55.303096Z",
     "start_time": "2022-10-13T11:39:52.051565Z"
    }
   },
   "outputs": [],
   "source": [
    "result['n_events'] = log_df[['user_id','date_cd','event_CompleteIDCertification']].groupby(by=['user_id','date_cd']).count()"
   ]
  },
  {
   "cell_type": "code",
   "execution_count": 9,
   "id": "0f746afb",
   "metadata": {
    "ExecuteTime": {
     "end_time": "2022-10-13T11:39:55.400153Z",
     "start_time": "2022-10-13T11:39:55.330622Z"
    }
   },
   "outputs": [],
   "source": [
    "result.reset_index(inplace=True)"
   ]
  },
  {
   "cell_type": "code",
   "execution_count": 11,
   "id": "707f522f",
   "metadata": {
    "ExecuteTime": {
     "end_time": "2022-10-13T11:41:03.201427Z",
     "start_time": "2022-10-13T11:41:03.198138Z"
    }
   },
   "outputs": [
    {
     "data": {
      "text/plain": [
       "Index(['user_id', 'date_cd', 'event_CompleteIDCertification',\n",
       "       'event_EndLoanApply', 'event_GetCreditInfo', 'event_Login',\n",
       "       'event_OpenApp', 'event_SignUp', 'event_StartLoanApply',\n",
       "       'event_UseDSRCalc', 'event_UseLoanManage', 'event_UsePrepayCalc',\n",
       "       'event_ViewLoanApplyIntro', 'n_events'],\n",
       "      dtype='object')"
      ]
     },
     "execution_count": 11,
     "metadata": {},
     "output_type": "execute_result"
    }
   ],
   "source": [
    "result.columns"
   ]
  },
  {
   "cell_type": "code",
   "execution_count": 12,
   "id": "7d825d2e",
   "metadata": {
    "ExecuteTime": {
     "end_time": "2022-10-13T11:45:08.472399Z",
     "start_time": "2022-10-13T11:45:08.343347Z"
    }
   },
   "outputs": [],
   "source": [
    "result = result[['user_id', 'date_cd','n_events',\n",
    "#                 \n",
    "'event_SignUp','event_OpenApp', 'event_Login',\n",
    "'event_ViewLoanApplyIntro', 'event_StartLoanApply',\n",
    "'event_CompleteIDCertification','event_EndLoanApply',\n",
    "'event_UseLoanManage','event_UsePrepayCalc','event_UseDSRCalc',\n",
    "'event_GetCreditInfo'        ]]"
   ]
  },
  {
   "cell_type": "code",
   "execution_count": 13,
   "id": "657bdc71",
   "metadata": {
    "ExecuteTime": {
     "end_time": "2022-10-13T11:45:45.133525Z",
     "start_time": "2022-10-13T11:45:40.096226Z"
    }
   },
   "outputs": [],
   "source": [
    "result.to_csv('./customData/hj_log_data.csv')"
   ]
  },
  {
   "cell_type": "code",
   "execution_count": null,
   "id": "8ee84096",
   "metadata": {},
   "outputs": [],
   "source": []
  },
  {
   "cell_type": "code",
   "execution_count": null,
   "id": "3e88a5d7",
   "metadata": {},
   "outputs": [],
   "source": []
  },
  {
   "cell_type": "code",
   "execution_count": null,
   "id": "262dfa1d",
   "metadata": {},
   "outputs": [],
   "source": []
  },
  {
   "cell_type": "code",
   "execution_count": 30,
   "id": "9513d813",
   "metadata": {
    "ExecuteTime": {
     "end_time": "2022-10-13T07:08:53.840859Z",
     "start_time": "2022-10-13T07:08:53.836272Z"
    }
   },
   "outputs": [
    {
     "data": {
      "text/plain": [
       "0          2022-05-03\n",
       "1          2022-06-16\n",
       "2          2022-05-22\n",
       "3          2022-05-21\n",
       "4          2022-03-24\n",
       "              ...    \n",
       "2728148    2022-06-29\n",
       "2728149    2022-03-31\n",
       "2728150    2022-05-27\n",
       "2728151    2022-03-14\n",
       "2728152    2022-05-24\n",
       "Name: date_cd, Length: 2728153, dtype: object"
      ]
     },
     "execution_count": 30,
     "metadata": {},
     "output_type": "execute_result"
    }
   ],
   "source": [
    "result['date_cd']= pd.to_datetime(user_spec['insert_time']).dt.date"
   ]
  },
  {
   "cell_type": "code",
   "execution_count": 32,
   "id": "5ea41cce",
   "metadata": {
    "ExecuteTime": {
     "end_time": "2022-10-13T07:12:23.497771Z",
     "start_time": "2022-10-13T07:12:23.487536Z"
    }
   },
   "outputs": [
    {
     "data": {
      "text/html": [
       "<div>\n",
       "<style scoped>\n",
       "    .dataframe tbody tr th:only-of-type {\n",
       "        vertical-align: middle;\n",
       "    }\n",
       "\n",
       "    .dataframe tbody tr th {\n",
       "        vertical-align: top;\n",
       "    }\n",
       "\n",
       "    .dataframe thead th {\n",
       "        text-align: right;\n",
       "    }\n",
       "</style>\n",
       "<table border=\"1\" class=\"dataframe\">\n",
       "  <thead>\n",
       "    <tr style=\"text-align: right;\">\n",
       "      <th></th>\n",
       "      <th>user_id</th>\n",
       "      <th>date_cd</th>\n",
       "      <th>event_CompleteIDCertification</th>\n",
       "      <th>event_EndLoanApply</th>\n",
       "      <th>event_GetCreditInfo</th>\n",
       "      <th>event_Login</th>\n",
       "      <th>event_OpenApp</th>\n",
       "      <th>event_SignUp</th>\n",
       "      <th>event_StartLoanApply</th>\n",
       "      <th>event_UseDSRCalc</th>\n",
       "      <th>event_UseLoanManage</th>\n",
       "      <th>event_UsePrepayCalc</th>\n",
       "      <th>event_ViewLoanApplyIntro</th>\n",
       "      <th>n_events</th>\n",
       "    </tr>\n",
       "  </thead>\n",
       "  <tbody>\n",
       "    <tr>\n",
       "      <th>0</th>\n",
       "      <td>1</td>\n",
       "      <td>2022-05-03</td>\n",
       "      <td>0</td>\n",
       "      <td>0</td>\n",
       "      <td>2</td>\n",
       "      <td>0</td>\n",
       "      <td>0</td>\n",
       "      <td>0</td>\n",
       "      <td>0</td>\n",
       "      <td>0</td>\n",
       "      <td>0</td>\n",
       "      <td>0</td>\n",
       "      <td>0</td>\n",
       "      <td>2</td>\n",
       "    </tr>\n",
       "    <tr>\n",
       "      <th>1</th>\n",
       "      <td>1</td>\n",
       "      <td>2022-06-16</td>\n",
       "      <td>0</td>\n",
       "      <td>0</td>\n",
       "      <td>1</td>\n",
       "      <td>1</td>\n",
       "      <td>0</td>\n",
       "      <td>0</td>\n",
       "      <td>0</td>\n",
       "      <td>0</td>\n",
       "      <td>1</td>\n",
       "      <td>0</td>\n",
       "      <td>0</td>\n",
       "      <td>3</td>\n",
       "    </tr>\n",
       "    <tr>\n",
       "      <th>2</th>\n",
       "      <td>7</td>\n",
       "      <td>2022-05-22</td>\n",
       "      <td>0</td>\n",
       "      <td>0</td>\n",
       "      <td>1</td>\n",
       "      <td>0</td>\n",
       "      <td>0</td>\n",
       "      <td>0</td>\n",
       "      <td>0</td>\n",
       "      <td>0</td>\n",
       "      <td>0</td>\n",
       "      <td>0</td>\n",
       "      <td>0</td>\n",
       "      <td>1</td>\n",
       "    </tr>\n",
       "    <tr>\n",
       "      <th>3</th>\n",
       "      <td>9</td>\n",
       "      <td>2022-05-21</td>\n",
       "      <td>0</td>\n",
       "      <td>0</td>\n",
       "      <td>3</td>\n",
       "      <td>0</td>\n",
       "      <td>0</td>\n",
       "      <td>0</td>\n",
       "      <td>0</td>\n",
       "      <td>0</td>\n",
       "      <td>0</td>\n",
       "      <td>0</td>\n",
       "      <td>0</td>\n",
       "      <td>3</td>\n",
       "    </tr>\n",
       "    <tr>\n",
       "      <th>4</th>\n",
       "      <td>11</td>\n",
       "      <td>2022-03-24</td>\n",
       "      <td>1</td>\n",
       "      <td>1</td>\n",
       "      <td>3</td>\n",
       "      <td>0</td>\n",
       "      <td>1</td>\n",
       "      <td>0</td>\n",
       "      <td>1</td>\n",
       "      <td>0</td>\n",
       "      <td>3</td>\n",
       "      <td>1</td>\n",
       "      <td>1</td>\n",
       "      <td>12</td>\n",
       "    </tr>\n",
       "    <tr>\n",
       "      <th>...</th>\n",
       "      <td>...</td>\n",
       "      <td>...</td>\n",
       "      <td>...</td>\n",
       "      <td>...</td>\n",
       "      <td>...</td>\n",
       "      <td>...</td>\n",
       "      <td>...</td>\n",
       "      <td>...</td>\n",
       "      <td>...</td>\n",
       "      <td>...</td>\n",
       "      <td>...</td>\n",
       "      <td>...</td>\n",
       "      <td>...</td>\n",
       "      <td>...</td>\n",
       "    </tr>\n",
       "    <tr>\n",
       "      <th>2728148</th>\n",
       "      <td>879693</td>\n",
       "      <td>2022-06-29</td>\n",
       "      <td>0</td>\n",
       "      <td>0</td>\n",
       "      <td>0</td>\n",
       "      <td>0</td>\n",
       "      <td>1</td>\n",
       "      <td>0</td>\n",
       "      <td>0</td>\n",
       "      <td>0</td>\n",
       "      <td>0</td>\n",
       "      <td>0</td>\n",
       "      <td>0</td>\n",
       "      <td>1</td>\n",
       "    </tr>\n",
       "    <tr>\n",
       "      <th>2728149</th>\n",
       "      <td>879694</td>\n",
       "      <td>2022-03-31</td>\n",
       "      <td>1</td>\n",
       "      <td>3</td>\n",
       "      <td>0</td>\n",
       "      <td>0</td>\n",
       "      <td>0</td>\n",
       "      <td>0</td>\n",
       "      <td>1</td>\n",
       "      <td>0</td>\n",
       "      <td>0</td>\n",
       "      <td>0</td>\n",
       "      <td>1</td>\n",
       "      <td>6</td>\n",
       "    </tr>\n",
       "    <tr>\n",
       "      <th>2728150</th>\n",
       "      <td>879695</td>\n",
       "      <td>2022-05-27</td>\n",
       "      <td>1</td>\n",
       "      <td>1</td>\n",
       "      <td>0</td>\n",
       "      <td>0</td>\n",
       "      <td>0</td>\n",
       "      <td>0</td>\n",
       "      <td>1</td>\n",
       "      <td>0</td>\n",
       "      <td>0</td>\n",
       "      <td>0</td>\n",
       "      <td>1</td>\n",
       "      <td>4</td>\n",
       "    </tr>\n",
       "    <tr>\n",
       "      <th>2728151</th>\n",
       "      <td>879696</td>\n",
       "      <td>2022-03-14</td>\n",
       "      <td>1</td>\n",
       "      <td>1</td>\n",
       "      <td>3</td>\n",
       "      <td>2</td>\n",
       "      <td>1</td>\n",
       "      <td>0</td>\n",
       "      <td>0</td>\n",
       "      <td>0</td>\n",
       "      <td>2</td>\n",
       "      <td>0</td>\n",
       "      <td>1</td>\n",
       "      <td>11</td>\n",
       "    </tr>\n",
       "    <tr>\n",
       "      <th>2728152</th>\n",
       "      <td>879698</td>\n",
       "      <td>2022-05-24</td>\n",
       "      <td>0</td>\n",
       "      <td>0</td>\n",
       "      <td>0</td>\n",
       "      <td>0</td>\n",
       "      <td>1</td>\n",
       "      <td>0</td>\n",
       "      <td>1</td>\n",
       "      <td>0</td>\n",
       "      <td>0</td>\n",
       "      <td>0</td>\n",
       "      <td>1</td>\n",
       "      <td>3</td>\n",
       "    </tr>\n",
       "  </tbody>\n",
       "</table>\n",
       "<p>2728153 rows × 14 columns</p>\n",
       "</div>"
      ],
      "text/plain": [
       "         user_id     date_cd  event_CompleteIDCertification  \\\n",
       "0              1  2022-05-03                              0   \n",
       "1              1  2022-06-16                              0   \n",
       "2              7  2022-05-22                              0   \n",
       "3              9  2022-05-21                              0   \n",
       "4             11  2022-03-24                              1   \n",
       "...          ...         ...                            ...   \n",
       "2728148   879693  2022-06-29                              0   \n",
       "2728149   879694  2022-03-31                              1   \n",
       "2728150   879695  2022-05-27                              1   \n",
       "2728151   879696  2022-03-14                              1   \n",
       "2728152   879698  2022-05-24                              0   \n",
       "\n",
       "         event_EndLoanApply  event_GetCreditInfo  event_Login  event_OpenApp  \\\n",
       "0                         0                    2            0              0   \n",
       "1                         0                    1            1              0   \n",
       "2                         0                    1            0              0   \n",
       "3                         0                    3            0              0   \n",
       "4                         1                    3            0              1   \n",
       "...                     ...                  ...          ...            ...   \n",
       "2728148                   0                    0            0              1   \n",
       "2728149                   3                    0            0              0   \n",
       "2728150                   1                    0            0              0   \n",
       "2728151                   1                    3            2              1   \n",
       "2728152                   0                    0            0              1   \n",
       "\n",
       "         event_SignUp  event_StartLoanApply  event_UseDSRCalc  \\\n",
       "0                   0                     0                 0   \n",
       "1                   0                     0                 0   \n",
       "2                   0                     0                 0   \n",
       "3                   0                     0                 0   \n",
       "4                   0                     1                 0   \n",
       "...               ...                   ...               ...   \n",
       "2728148             0                     0                 0   \n",
       "2728149             0                     1                 0   \n",
       "2728150             0                     1                 0   \n",
       "2728151             0                     0                 0   \n",
       "2728152             0                     1                 0   \n",
       "\n",
       "         event_UseLoanManage  event_UsePrepayCalc  event_ViewLoanApplyIntro  \\\n",
       "0                          0                    0                         0   \n",
       "1                          1                    0                         0   \n",
       "2                          0                    0                         0   \n",
       "3                          0                    0                         0   \n",
       "4                          3                    1                         1   \n",
       "...                      ...                  ...                       ...   \n",
       "2728148                    0                    0                         0   \n",
       "2728149                    0                    0                         1   \n",
       "2728150                    0                    0                         1   \n",
       "2728151                    2                    0                         1   \n",
       "2728152                    0                    0                         1   \n",
       "\n",
       "         n_events  \n",
       "0               2  \n",
       "1               3  \n",
       "2               1  \n",
       "3               3  \n",
       "4              12  \n",
       "...           ...  \n",
       "2728148         1  \n",
       "2728149         6  \n",
       "2728150         4  \n",
       "2728151        11  \n",
       "2728152         3  \n",
       "\n",
       "[2728153 rows x 14 columns]"
      ]
     },
     "execution_count": 32,
     "metadata": {},
     "output_type": "execute_result"
    }
   ],
   "source": [
    "result"
   ]
  },
  {
   "cell_type": "code",
   "execution_count": 37,
   "id": "7f1c9c35",
   "metadata": {
    "ExecuteTime": {
     "end_time": "2022-10-13T07:16:55.637843Z",
     "start_time": "2022-10-13T07:16:55.628255Z"
    }
   },
   "outputs": [
    {
     "data": {
      "text/html": [
       "<div>\n",
       "<style scoped>\n",
       "    .dataframe tbody tr th:only-of-type {\n",
       "        vertical-align: middle;\n",
       "    }\n",
       "\n",
       "    .dataframe tbody tr th {\n",
       "        vertical-align: top;\n",
       "    }\n",
       "\n",
       "    .dataframe thead th {\n",
       "        text-align: right;\n",
       "    }\n",
       "</style>\n",
       "<table border=\"1\" class=\"dataframe\">\n",
       "  <thead>\n",
       "    <tr style=\"text-align: right;\">\n",
       "      <th></th>\n",
       "      <th>application_id</th>\n",
       "      <th>loanapply_insert_time</th>\n",
       "      <th>bank_id</th>\n",
       "      <th>product_id</th>\n",
       "      <th>loan_limit</th>\n",
       "      <th>loan_rate</th>\n",
       "      <th>is_applied</th>\n",
       "    </tr>\n",
       "  </thead>\n",
       "  <tbody>\n",
       "    <tr>\n",
       "      <th>0</th>\n",
       "      <td>1748340</td>\n",
       "      <td>2022-06-07 13:05:41</td>\n",
       "      <td>7</td>\n",
       "      <td>191</td>\n",
       "      <td>42000000.0</td>\n",
       "      <td>13.6</td>\n",
       "      <td>NaN</td>\n",
       "    </tr>\n",
       "    <tr>\n",
       "      <th>1</th>\n",
       "      <td>1748340</td>\n",
       "      <td>2022-06-07 13:05:41</td>\n",
       "      <td>25</td>\n",
       "      <td>169</td>\n",
       "      <td>24000000.0</td>\n",
       "      <td>17.9</td>\n",
       "      <td>NaN</td>\n",
       "    </tr>\n",
       "    <tr>\n",
       "      <th>2</th>\n",
       "      <td>1748340</td>\n",
       "      <td>2022-06-07 13:05:41</td>\n",
       "      <td>2</td>\n",
       "      <td>7</td>\n",
       "      <td>24000000.0</td>\n",
       "      <td>18.5</td>\n",
       "      <td>NaN</td>\n",
       "    </tr>\n",
       "    <tr>\n",
       "      <th>3</th>\n",
       "      <td>1748340</td>\n",
       "      <td>2022-06-07 13:05:41</td>\n",
       "      <td>4</td>\n",
       "      <td>268</td>\n",
       "      <td>29000000.0</td>\n",
       "      <td>10.8</td>\n",
       "      <td>NaN</td>\n",
       "    </tr>\n",
       "    <tr>\n",
       "      <th>4</th>\n",
       "      <td>1748340</td>\n",
       "      <td>2022-06-07 13:05:41</td>\n",
       "      <td>11</td>\n",
       "      <td>118</td>\n",
       "      <td>5000000.0</td>\n",
       "      <td>16.4</td>\n",
       "      <td>NaN</td>\n",
       "    </tr>\n",
       "    <tr>\n",
       "      <th>...</th>\n",
       "      <td>...</td>\n",
       "      <td>...</td>\n",
       "      <td>...</td>\n",
       "      <td>...</td>\n",
       "      <td>...</td>\n",
       "      <td>...</td>\n",
       "      <td>...</td>\n",
       "    </tr>\n",
       "    <tr>\n",
       "      <th>13527358</th>\n",
       "      <td>1428218</td>\n",
       "      <td>2022-06-03 12:01:58</td>\n",
       "      <td>62</td>\n",
       "      <td>200</td>\n",
       "      <td>3000000.0</td>\n",
       "      <td>14.8</td>\n",
       "      <td>NaN</td>\n",
       "    </tr>\n",
       "    <tr>\n",
       "      <th>13527359</th>\n",
       "      <td>1428218</td>\n",
       "      <td>2022-06-03 12:01:49</td>\n",
       "      <td>2</td>\n",
       "      <td>7</td>\n",
       "      <td>40000000.0</td>\n",
       "      <td>11.8</td>\n",
       "      <td>NaN</td>\n",
       "    </tr>\n",
       "    <tr>\n",
       "      <th>13527360</th>\n",
       "      <td>1428218</td>\n",
       "      <td>2022-06-03 12:01:48</td>\n",
       "      <td>32</td>\n",
       "      <td>257</td>\n",
       "      <td>15000000.0</td>\n",
       "      <td>7.2</td>\n",
       "      <td>NaN</td>\n",
       "    </tr>\n",
       "    <tr>\n",
       "      <th>13527361</th>\n",
       "      <td>1428218</td>\n",
       "      <td>2022-06-03 12:01:48</td>\n",
       "      <td>33</td>\n",
       "      <td>110</td>\n",
       "      <td>44000000.0</td>\n",
       "      <td>13.5</td>\n",
       "      <td>NaN</td>\n",
       "    </tr>\n",
       "    <tr>\n",
       "      <th>13527362</th>\n",
       "      <td>1428218</td>\n",
       "      <td>2022-06-03 12:01:48</td>\n",
       "      <td>5</td>\n",
       "      <td>194</td>\n",
       "      <td>44000000.0</td>\n",
       "      <td>9.7</td>\n",
       "      <td>NaN</td>\n",
       "    </tr>\n",
       "  </tbody>\n",
       "</table>\n",
       "<p>13527363 rows × 7 columns</p>\n",
       "</div>"
      ],
      "text/plain": [
       "          application_id loanapply_insert_time  bank_id  product_id  \\\n",
       "0                1748340   2022-06-07 13:05:41        7         191   \n",
       "1                1748340   2022-06-07 13:05:41       25         169   \n",
       "2                1748340   2022-06-07 13:05:41        2           7   \n",
       "3                1748340   2022-06-07 13:05:41        4         268   \n",
       "4                1748340   2022-06-07 13:05:41       11         118   \n",
       "...                  ...                   ...      ...         ...   \n",
       "13527358         1428218   2022-06-03 12:01:58       62         200   \n",
       "13527359         1428218   2022-06-03 12:01:49        2           7   \n",
       "13527360         1428218   2022-06-03 12:01:48       32         257   \n",
       "13527361         1428218   2022-06-03 12:01:48       33         110   \n",
       "13527362         1428218   2022-06-03 12:01:48        5         194   \n",
       "\n",
       "          loan_limit  loan_rate  is_applied  \n",
       "0         42000000.0       13.6         NaN  \n",
       "1         24000000.0       17.9         NaN  \n",
       "2         24000000.0       18.5         NaN  \n",
       "3         29000000.0       10.8         NaN  \n",
       "4          5000000.0       16.4         NaN  \n",
       "...              ...        ...         ...  \n",
       "13527358   3000000.0       14.8         NaN  \n",
       "13527359  40000000.0       11.8         NaN  \n",
       "13527360  15000000.0        7.2         NaN  \n",
       "13527361  44000000.0       13.5         NaN  \n",
       "13527362  44000000.0        9.7         NaN  \n",
       "\n",
       "[13527363 rows x 7 columns]"
      ]
     },
     "execution_count": 37,
     "metadata": {},
     "output_type": "execute_result"
    }
   ],
   "source": [
    "loan_df"
   ]
  },
  {
   "cell_type": "code",
   "execution_count": null,
   "id": "74a6617e",
   "metadata": {},
   "outputs": [],
   "source": []
  },
  {
   "cell_type": "code",
   "execution_count": null,
   "id": "af4c2c98",
   "metadata": {},
   "outputs": [],
   "source": []
  },
  {
   "cell_type": "code",
   "execution_count": 34,
   "id": "a0276b72",
   "metadata": {
    "ExecuteTime": {
     "end_time": "2022-10-13T07:15:08.313747Z",
     "start_time": "2022-10-13T07:15:08.292414Z"
    }
   },
   "outputs": [
    {
     "data": {
      "text/html": [
       "<div>\n",
       "<style scoped>\n",
       "    .dataframe tbody tr th:only-of-type {\n",
       "        vertical-align: middle;\n",
       "    }\n",
       "\n",
       "    .dataframe tbody tr th {\n",
       "        vertical-align: top;\n",
       "    }\n",
       "\n",
       "    .dataframe thead th {\n",
       "        text-align: right;\n",
       "    }\n",
       "</style>\n",
       "<table border=\"1\" class=\"dataframe\">\n",
       "  <thead>\n",
       "    <tr style=\"text-align: right;\">\n",
       "      <th></th>\n",
       "      <th>application_id</th>\n",
       "      <th>user_id</th>\n",
       "      <th>birth_year</th>\n",
       "      <th>gender</th>\n",
       "      <th>insert_time</th>\n",
       "      <th>credit_score</th>\n",
       "      <th>yearly_income</th>\n",
       "      <th>income_type</th>\n",
       "      <th>company_enter_month</th>\n",
       "      <th>employment_type</th>\n",
       "      <th>houseown_type</th>\n",
       "      <th>desired_amount</th>\n",
       "      <th>purpose</th>\n",
       "      <th>personal_rehabilitation_yn</th>\n",
       "      <th>personal_rehabilitation_complete_yn</th>\n",
       "      <th>existing_loan_cnt</th>\n",
       "      <th>existing_loan_amt</th>\n",
       "      <th>date_cd</th>\n",
       "    </tr>\n",
       "  </thead>\n",
       "  <tbody>\n",
       "    <tr>\n",
       "      <th>0</th>\n",
       "      <td>1249046</td>\n",
       "      <td>118218</td>\n",
       "      <td>1985.0</td>\n",
       "      <td>1.0</td>\n",
       "      <td>2022-06-07</td>\n",
       "      <td>660.0</td>\n",
       "      <td>108000000.0</td>\n",
       "      <td>PRIVATEBUSINESS</td>\n",
       "      <td>20151101.0</td>\n",
       "      <td>기타</td>\n",
       "      <td>자가</td>\n",
       "      <td>1000000.0</td>\n",
       "      <td>기타</td>\n",
       "      <td>0.0</td>\n",
       "      <td>NaN</td>\n",
       "      <td>4.0</td>\n",
       "      <td>162000000.0</td>\n",
       "      <td>2022-06-07</td>\n",
       "    </tr>\n",
       "    <tr>\n",
       "      <th>1</th>\n",
       "      <td>954900</td>\n",
       "      <td>553686</td>\n",
       "      <td>1968.0</td>\n",
       "      <td>1.0</td>\n",
       "      <td>2022-06-07</td>\n",
       "      <td>870.0</td>\n",
       "      <td>30000000.0</td>\n",
       "      <td>PRIVATEBUSINESS</td>\n",
       "      <td>20070201.0</td>\n",
       "      <td>정규직</td>\n",
       "      <td>기타가족소유</td>\n",
       "      <td>30000000.0</td>\n",
       "      <td>대환대출</td>\n",
       "      <td>0.0</td>\n",
       "      <td>NaN</td>\n",
       "      <td>1.0</td>\n",
       "      <td>27000000.0</td>\n",
       "      <td>2022-06-07</td>\n",
       "    </tr>\n",
       "    <tr>\n",
       "      <th>2</th>\n",
       "      <td>137274</td>\n",
       "      <td>59516</td>\n",
       "      <td>1997.0</td>\n",
       "      <td>1.0</td>\n",
       "      <td>2022-06-07</td>\n",
       "      <td>710.0</td>\n",
       "      <td>30000000.0</td>\n",
       "      <td>FREELANCER</td>\n",
       "      <td>20210901.0</td>\n",
       "      <td>기타</td>\n",
       "      <td>기타가족소유</td>\n",
       "      <td>10000000.0</td>\n",
       "      <td>생활비</td>\n",
       "      <td>0.0</td>\n",
       "      <td>NaN</td>\n",
       "      <td>5.0</td>\n",
       "      <td>15000000.0</td>\n",
       "      <td>2022-06-07</td>\n",
       "    </tr>\n",
       "    <tr>\n",
       "      <th>3</th>\n",
       "      <td>1570936</td>\n",
       "      <td>167320</td>\n",
       "      <td>1989.0</td>\n",
       "      <td>1.0</td>\n",
       "      <td>2022-06-07</td>\n",
       "      <td>820.0</td>\n",
       "      <td>62000000.0</td>\n",
       "      <td>EARNEDINCOME</td>\n",
       "      <td>20170101.0</td>\n",
       "      <td>정규직</td>\n",
       "      <td>자가</td>\n",
       "      <td>2000000.0</td>\n",
       "      <td>생활비</td>\n",
       "      <td>0.0</td>\n",
       "      <td>NaN</td>\n",
       "      <td>7.0</td>\n",
       "      <td>344000000.0</td>\n",
       "      <td>2022-06-07</td>\n",
       "    </tr>\n",
       "    <tr>\n",
       "      <th>4</th>\n",
       "      <td>967833</td>\n",
       "      <td>33400</td>\n",
       "      <td>2000.0</td>\n",
       "      <td>1.0</td>\n",
       "      <td>2022-06-07</td>\n",
       "      <td>630.0</td>\n",
       "      <td>36000000.0</td>\n",
       "      <td>EARNEDINCOME</td>\n",
       "      <td>20210901.0</td>\n",
       "      <td>정규직</td>\n",
       "      <td>기타가족소유</td>\n",
       "      <td>5000000.0</td>\n",
       "      <td>생활비</td>\n",
       "      <td>0.0</td>\n",
       "      <td>0.0</td>\n",
       "      <td>1.0</td>\n",
       "      <td>16000000.0</td>\n",
       "      <td>2022-06-07</td>\n",
       "    </tr>\n",
       "    <tr>\n",
       "      <th>...</th>\n",
       "      <td>...</td>\n",
       "      <td>...</td>\n",
       "      <td>...</td>\n",
       "      <td>...</td>\n",
       "      <td>...</td>\n",
       "      <td>...</td>\n",
       "      <td>...</td>\n",
       "      <td>...</td>\n",
       "      <td>...</td>\n",
       "      <td>...</td>\n",
       "      <td>...</td>\n",
       "      <td>...</td>\n",
       "      <td>...</td>\n",
       "      <td>...</td>\n",
       "      <td>...</td>\n",
       "      <td>...</td>\n",
       "      <td>...</td>\n",
       "      <td>...</td>\n",
       "    </tr>\n",
       "    <tr>\n",
       "      <th>1394211</th>\n",
       "      <td>1864587</td>\n",
       "      <td>489900</td>\n",
       "      <td>2000.0</td>\n",
       "      <td>1.0</td>\n",
       "      <td>2022-03-22</td>\n",
       "      <td>590.0</td>\n",
       "      <td>25000000.0</td>\n",
       "      <td>FREELANCER</td>\n",
       "      <td>202106.0</td>\n",
       "      <td>기타</td>\n",
       "      <td>기타가족소유</td>\n",
       "      <td>5000000.0</td>\n",
       "      <td>사업자금</td>\n",
       "      <td>NaN</td>\n",
       "      <td>NaN</td>\n",
       "      <td>NaN</td>\n",
       "      <td>NaN</td>\n",
       "      <td>2022-03-22</td>\n",
       "    </tr>\n",
       "    <tr>\n",
       "      <th>1394212</th>\n",
       "      <td>1327066</td>\n",
       "      <td>151422</td>\n",
       "      <td>1955.0</td>\n",
       "      <td>1.0</td>\n",
       "      <td>2022-03-22</td>\n",
       "      <td>980.0</td>\n",
       "      <td>20000000.0</td>\n",
       "      <td>OTHERINCOME</td>\n",
       "      <td>NaN</td>\n",
       "      <td>기타</td>\n",
       "      <td>자가</td>\n",
       "      <td>50000000.0</td>\n",
       "      <td>생활비</td>\n",
       "      <td>NaN</td>\n",
       "      <td>NaN</td>\n",
       "      <td>1.0</td>\n",
       "      <td>NaN</td>\n",
       "      <td>2022-03-22</td>\n",
       "    </tr>\n",
       "    <tr>\n",
       "      <th>1394213</th>\n",
       "      <td>1319606</td>\n",
       "      <td>173524</td>\n",
       "      <td>1983.0</td>\n",
       "      <td>1.0</td>\n",
       "      <td>2022-03-22</td>\n",
       "      <td>750.0</td>\n",
       "      <td>75000000.0</td>\n",
       "      <td>EARNEDINCOME</td>\n",
       "      <td>200908.0</td>\n",
       "      <td>정규직</td>\n",
       "      <td>자가</td>\n",
       "      <td>100000000.0</td>\n",
       "      <td>대환대출</td>\n",
       "      <td>NaN</td>\n",
       "      <td>NaN</td>\n",
       "      <td>8.0</td>\n",
       "      <td>200000000.0</td>\n",
       "      <td>2022-03-22</td>\n",
       "    </tr>\n",
       "    <tr>\n",
       "      <th>1394214</th>\n",
       "      <td>1482466</td>\n",
       "      <td>766546</td>\n",
       "      <td>1975.0</td>\n",
       "      <td>1.0</td>\n",
       "      <td>2022-03-22</td>\n",
       "      <td>640.0</td>\n",
       "      <td>50000000.0</td>\n",
       "      <td>EARNEDINCOME</td>\n",
       "      <td>201705.0</td>\n",
       "      <td>정규직</td>\n",
       "      <td>자가</td>\n",
       "      <td>10000000.0</td>\n",
       "      <td>대환대출</td>\n",
       "      <td>NaN</td>\n",
       "      <td>NaN</td>\n",
       "      <td>10.0</td>\n",
       "      <td>117000000.0</td>\n",
       "      <td>2022-03-22</td>\n",
       "    </tr>\n",
       "    <tr>\n",
       "      <th>1394215</th>\n",
       "      <td>816537</td>\n",
       "      <td>3864</td>\n",
       "      <td>1977.0</td>\n",
       "      <td>0.0</td>\n",
       "      <td>2022-03-22</td>\n",
       "      <td>NaN</td>\n",
       "      <td>35000000.0</td>\n",
       "      <td>FREELANCER</td>\n",
       "      <td>201103.0</td>\n",
       "      <td>기타</td>\n",
       "      <td>자가</td>\n",
       "      <td>20000000.0</td>\n",
       "      <td>생활비</td>\n",
       "      <td>NaN</td>\n",
       "      <td>NaN</td>\n",
       "      <td>NaN</td>\n",
       "      <td>NaN</td>\n",
       "      <td>2022-03-22</td>\n",
       "    </tr>\n",
       "  </tbody>\n",
       "</table>\n",
       "<p>1394216 rows × 18 columns</p>\n",
       "</div>"
      ],
      "text/plain": [
       "         application_id  user_id  birth_year  gender insert_time  \\\n",
       "0               1249046   118218      1985.0     1.0  2022-06-07   \n",
       "1                954900   553686      1968.0     1.0  2022-06-07   \n",
       "2                137274    59516      1997.0     1.0  2022-06-07   \n",
       "3               1570936   167320      1989.0     1.0  2022-06-07   \n",
       "4                967833    33400      2000.0     1.0  2022-06-07   \n",
       "...                 ...      ...         ...     ...         ...   \n",
       "1394211         1864587   489900      2000.0     1.0  2022-03-22   \n",
       "1394212         1327066   151422      1955.0     1.0  2022-03-22   \n",
       "1394213         1319606   173524      1983.0     1.0  2022-03-22   \n",
       "1394214         1482466   766546      1975.0     1.0  2022-03-22   \n",
       "1394215          816537     3864      1977.0     0.0  2022-03-22   \n",
       "\n",
       "         credit_score  yearly_income      income_type  company_enter_month  \\\n",
       "0               660.0    108000000.0  PRIVATEBUSINESS           20151101.0   \n",
       "1               870.0     30000000.0  PRIVATEBUSINESS           20070201.0   \n",
       "2               710.0     30000000.0       FREELANCER           20210901.0   \n",
       "3               820.0     62000000.0     EARNEDINCOME           20170101.0   \n",
       "4               630.0     36000000.0     EARNEDINCOME           20210901.0   \n",
       "...               ...            ...              ...                  ...   \n",
       "1394211         590.0     25000000.0       FREELANCER             202106.0   \n",
       "1394212         980.0     20000000.0      OTHERINCOME                  NaN   \n",
       "1394213         750.0     75000000.0     EARNEDINCOME             200908.0   \n",
       "1394214         640.0     50000000.0     EARNEDINCOME             201705.0   \n",
       "1394215           NaN     35000000.0       FREELANCER             201103.0   \n",
       "\n",
       "        employment_type houseown_type  desired_amount purpose  \\\n",
       "0                    기타            자가       1000000.0      기타   \n",
       "1                   정규직        기타가족소유      30000000.0    대환대출   \n",
       "2                    기타        기타가족소유      10000000.0     생활비   \n",
       "3                   정규직            자가       2000000.0     생활비   \n",
       "4                   정규직        기타가족소유       5000000.0     생활비   \n",
       "...                 ...           ...             ...     ...   \n",
       "1394211              기타        기타가족소유       5000000.0    사업자금   \n",
       "1394212              기타            자가      50000000.0     생활비   \n",
       "1394213             정규직            자가     100000000.0    대환대출   \n",
       "1394214             정규직            자가      10000000.0    대환대출   \n",
       "1394215              기타            자가      20000000.0     생활비   \n",
       "\n",
       "         personal_rehabilitation_yn  personal_rehabilitation_complete_yn  \\\n",
       "0                               0.0                                  NaN   \n",
       "1                               0.0                                  NaN   \n",
       "2                               0.0                                  NaN   \n",
       "3                               0.0                                  NaN   \n",
       "4                               0.0                                  0.0   \n",
       "...                             ...                                  ...   \n",
       "1394211                         NaN                                  NaN   \n",
       "1394212                         NaN                                  NaN   \n",
       "1394213                         NaN                                  NaN   \n",
       "1394214                         NaN                                  NaN   \n",
       "1394215                         NaN                                  NaN   \n",
       "\n",
       "         existing_loan_cnt  existing_loan_amt     date_cd  \n",
       "0                      4.0        162000000.0  2022-06-07  \n",
       "1                      1.0         27000000.0  2022-06-07  \n",
       "2                      5.0         15000000.0  2022-06-07  \n",
       "3                      7.0        344000000.0  2022-06-07  \n",
       "4                      1.0         16000000.0  2022-06-07  \n",
       "...                    ...                ...         ...  \n",
       "1394211                NaN                NaN  2022-03-22  \n",
       "1394212                1.0                NaN  2022-03-22  \n",
       "1394213                8.0        200000000.0  2022-03-22  \n",
       "1394214               10.0        117000000.0  2022-03-22  \n",
       "1394215                NaN                NaN  2022-03-22  \n",
       "\n",
       "[1394216 rows x 18 columns]"
      ]
     },
     "execution_count": 34,
     "metadata": {},
     "output_type": "execute_result"
    }
   ],
   "source": [
    "user_spec"
   ]
  },
  {
   "cell_type": "code",
   "execution_count": 20,
   "id": "657dd5de",
   "metadata": {
    "ExecuteTime": {
     "end_time": "2022-10-13T07:05:57.723108Z",
     "start_time": "2022-10-13T07:05:57.293140Z"
    }
   },
   "outputs": [],
   "source": [
    "user_spec['insert_time'] = pd.to_datetime(user_spec['insert_time']).dt.date"
   ]
  },
  {
   "cell_type": "code",
   "execution_count": 23,
   "id": "ab637879",
   "metadata": {
    "ExecuteTime": {
     "end_time": "2022-10-13T07:07:24.953235Z",
     "start_time": "2022-10-13T07:07:24.944585Z"
    }
   },
   "outputs": [],
   "source": [
    "user_spec['date_cd'] = user_spec['insert_time']"
   ]
  },
  {
   "cell_type": "code",
   "execution_count": 35,
   "id": "6bdb201f",
   "metadata": {
    "ExecuteTime": {
     "end_time": "2022-10-13T07:16:05.307885Z",
     "start_time": "2022-10-13T07:16:04.190982Z"
    }
   },
   "outputs": [
    {
     "data": {
      "text/html": [
       "<div>\n",
       "<style scoped>\n",
       "    .dataframe tbody tr th:only-of-type {\n",
       "        vertical-align: middle;\n",
       "    }\n",
       "\n",
       "    .dataframe tbody tr th {\n",
       "        vertical-align: top;\n",
       "    }\n",
       "\n",
       "    .dataframe thead th {\n",
       "        text-align: right;\n",
       "    }\n",
       "</style>\n",
       "<table border=\"1\" class=\"dataframe\">\n",
       "  <thead>\n",
       "    <tr style=\"text-align: right;\">\n",
       "      <th></th>\n",
       "      <th>user_id</th>\n",
       "      <th>date_cd</th>\n",
       "      <th>insert_time</th>\n",
       "      <th>event_CompleteIDCertification</th>\n",
       "      <th>event_EndLoanApply</th>\n",
       "      <th>event_GetCreditInfo</th>\n",
       "      <th>event_Login</th>\n",
       "      <th>event_OpenApp</th>\n",
       "      <th>event_SignUp</th>\n",
       "      <th>event_StartLoanApply</th>\n",
       "      <th>event_UseDSRCalc</th>\n",
       "      <th>event_UseLoanManage</th>\n",
       "      <th>event_UsePrepayCalc</th>\n",
       "      <th>event_ViewLoanApplyIntro</th>\n",
       "      <th>n_events</th>\n",
       "    </tr>\n",
       "  </thead>\n",
       "  <tbody>\n",
       "  </tbody>\n",
       "</table>\n",
       "</div>"
      ],
      "text/plain": [
       "Empty DataFrame\n",
       "Columns: [user_id, date_cd, insert_time, event_CompleteIDCertification, event_EndLoanApply, event_GetCreditInfo, event_Login, event_OpenApp, event_SignUp, event_StartLoanApply, event_UseDSRCalc, event_UseLoanManage, event_UsePrepayCalc, event_ViewLoanApplyIntro, n_events]\n",
       "Index: []"
      ]
     },
     "execution_count": 35,
     "metadata": {},
     "output_type": "execute_result"
    }
   ],
   "source": [
    "pd.merge(user_spec[['user_id','date_cd','insert_time']], result, on=['date_cd','user_id'])"
   ]
  },
  {
   "cell_type": "code",
   "execution_count": null,
   "id": "252db098",
   "metadata": {},
   "outputs": [],
   "source": []
  },
  {
   "cell_type": "code",
   "execution_count": null,
   "id": "bed3ce64",
   "metadata": {},
   "outputs": [],
   "source": []
  },
  {
   "cell_type": "code",
   "execution_count": 4,
   "id": "15baf914",
   "metadata": {
    "ExecuteTime": {
     "end_time": "2022-10-13T06:49:13.339910Z",
     "start_time": "2022-10-13T06:49:09.995029Z"
    }
   },
   "outputs": [],
   "source": [
    "log_df.fillna('N', inplace=True)"
   ]
  },
  {
   "cell_type": "code",
   "execution_count": 12,
   "id": "cfeb777b",
   "metadata": {
    "ExecuteTime": {
     "end_time": "2022-10-13T06:53:30.239559Z",
     "start_time": "2022-10-13T06:53:26.094037Z"
    }
   },
   "outputs": [],
   "source": [
    "log_df['mp']=log_df['mp_os'] +'-'+ log_df['mp_app_version']"
   ]
  },
  {
   "cell_type": "code",
   "execution_count": 6,
   "id": "c816305a",
   "metadata": {
    "ExecuteTime": {
     "end_time": "2022-10-13T06:50:15.130974Z",
     "start_time": "2022-10-13T06:49:40.254006Z"
    }
   },
   "outputs": [],
   "source": [
    "log_df = pd.get_dummies(data = log_df, columns=['event','mp'])"
   ]
  },
  {
   "cell_type": "code",
   "execution_count": 13,
   "id": "e8005d68",
   "metadata": {
    "ExecuteTime": {
     "end_time": "2022-10-13T06:54:17.402989Z",
     "start_time": "2022-10-13T06:53:50.132720Z"
    }
   },
   "outputs": [],
   "source": [
    "log_df.drop(['timestamp','mp_os','mp_app_version'],axis=1,inplace=True)"
   ]
  },
  {
   "cell_type": "code",
   "execution_count": null,
   "id": "241ff3eb",
   "metadata": {
    "ExecuteTime": {
     "start_time": "2022-10-13T06:54:32.604Z"
    }
   },
   "outputs": [],
   "source": [
    "log_df = log_df.groupby(by=['user_id','date_cd']).sum()"
   ]
  },
  {
   "cell_type": "code",
   "execution_count": 10,
   "id": "0ec0f141",
   "metadata": {
    "ExecuteTime": {
     "end_time": "2022-10-13T06:52:48.872531Z",
     "start_time": "2022-10-13T06:52:48.868962Z"
    }
   },
   "outputs": [
    {
     "data": {
      "text/plain": [
       "Index(['user_id', 'timestamp', 'mp_os', 'mp_app_version', 'date_cd',\n",
       "       'event_CompleteIDCertification', 'event_EndLoanApply',\n",
       "       'event_GetCreditInfo', 'event_Login', 'event_OpenApp',\n",
       "       ...\n",
       "       'mp_iPadOS-3.10.2', 'mp_iPadOS-3.12.0', 'mp_iPadOS-3.12.1',\n",
       "       'mp_iPadOS-3.13.0', 'mp_iPadOS-3.13.1', 'mp_iPadOS-3.6.0',\n",
       "       'mp_iPadOS-3.6.1', 'mp_iPadOS-3.7.0', 'mp_iPadOS-3.8.0', 'mp_iPadOS-N'],\n",
       "      dtype='object', length=325)"
      ]
     },
     "execution_count": 10,
     "metadata": {},
     "output_type": "execute_result"
    }
   ],
   "source": [
    "log_df.columns"
   ]
  },
  {
   "cell_type": "code",
   "execution_count": null,
   "id": "7fe7d820",
   "metadata": {},
   "outputs": [],
   "source": [
    "['user_id', 'timestamp'"
   ]
  },
  {
   "cell_type": "code",
   "execution_count": null,
   "id": "59a8f91d",
   "metadata": {},
   "outputs": [],
   "source": [
    "log_df = log_df.groupby(by=['user_id','date_cd']).sum()"
   ]
  },
  {
   "cell_type": "code",
   "execution_count": null,
   "id": "a19f1c61",
   "metadata": {},
   "outputs": [],
   "source": []
  },
  {
   "cell_type": "code",
   "execution_count": 9,
   "id": "090c14ba",
   "metadata": {
    "ExecuteTime": {
     "end_time": "2022-10-13T06:33:56.266649Z",
     "start_time": "2022-10-13T06:33:26.448222Z"
    }
   },
   "outputs": [],
   "source": [
    "df= pd.get_dummies(log_df['n_mp'])"
   ]
  },
  {
   "cell_type": "code",
   "execution_count": 16,
   "id": "542c1395",
   "metadata": {
    "ExecuteTime": {
     "end_time": "2022-10-13T06:39:22.975766Z",
     "start_time": "2022-10-13T06:39:17.086621Z"
    }
   },
   "outputs": [],
   "source": [
    "df=pd.concat([log_df[['user_id','date_cd']], df],axis=1)"
   ]
  },
  {
   "cell_type": "code",
   "execution_count": null,
   "id": "c9d95859",
   "metadata": {
    "ExecuteTime": {
     "start_time": "2022-10-13T06:41:26.904Z"
    }
   },
   "outputs": [],
   "source": [
    "df = df.groupby(by=['user_id','date_cd']).sum()"
   ]
  },
  {
   "cell_type": "code",
   "execution_count": null,
   "id": "3636dade",
   "metadata": {
    "ExecuteTime": {
     "start_time": "2022-10-13T06:41:30.307Z"
    }
   },
   "outputs": [],
   "source": [
    "df"
   ]
  },
  {
   "cell_type": "code",
   "execution_count": null,
   "id": "b863328e",
   "metadata": {},
   "outputs": [],
   "source": [
    "df = df.astype(bool)"
   ]
  },
  {
   "cell_type": "code",
   "execution_count": null,
   "id": "de4caac9",
   "metadata": {},
   "outputs": [],
   "source": [
    "df.sum()"
   ]
  },
  {
   "cell_type": "code",
   "execution_count": 14,
   "id": "96efcc91",
   "metadata": {
    "ExecuteTime": {
     "end_time": "2022-10-13T06:36:07.668018Z",
     "start_time": "2022-10-13T06:35:26.448503Z"
    }
   },
   "outputs": [
    {
     "data": {
      "text/plain": [
       "11709372    1\n",
       "11709374    1\n",
       "2451691     1\n",
       "2451693     1\n",
       "7071607     1\n",
       "           ..\n",
       "7298671     1\n",
       "7298672     1\n",
       "8248077     1\n",
       "8248080     1\n",
       "8248082     1\n",
       "Length: 17843993, dtype: int64"
      ]
     },
     "execution_count": 14,
     "metadata": {},
     "output_type": "execute_result"
    }
   ],
   "source": [
    "df.astype(bool).T.sum()"
   ]
  },
  {
   "cell_type": "code",
   "execution_count": 13,
   "id": "04317ca2",
   "metadata": {
    "ExecuteTime": {
     "end_time": "2022-10-13T06:35:25.575974Z",
     "start_time": "2022-10-13T06:34:54.423364Z"
    }
   },
   "outputs": [
    {
     "data": {
      "text/plain": [
       "11709372    1\n",
       "11709374    1\n",
       "2451691     1\n",
       "2451693     1\n",
       "7071607     1\n",
       "           ..\n",
       "7298671     1\n",
       "7298672     1\n",
       "8248077     1\n",
       "8248080     1\n",
       "8248082     1\n",
       "Length: 17843993, dtype: int64"
      ]
     },
     "execution_count": 13,
     "metadata": {},
     "output_type": "execute_result"
    }
   ],
   "source": [
    "df.T.sum()"
   ]
  },
  {
   "cell_type": "code",
   "execution_count": 15,
   "id": "0dba4826",
   "metadata": {
    "ExecuteTime": {
     "end_time": "2022-10-13T06:36:39.513786Z",
     "start_time": "2022-10-13T06:36:39.498029Z"
    }
   },
   "outputs": [
    {
     "data": {
      "text/html": [
       "<div>\n",
       "<style scoped>\n",
       "    .dataframe tbody tr th:only-of-type {\n",
       "        vertical-align: middle;\n",
       "    }\n",
       "\n",
       "    .dataframe tbody tr th {\n",
       "        vertical-align: top;\n",
       "    }\n",
       "\n",
       "    .dataframe thead th {\n",
       "        text-align: right;\n",
       "    }\n",
       "</style>\n",
       "<table border=\"1\" class=\"dataframe\">\n",
       "  <thead>\n",
       "    <tr style=\"text-align: right;\">\n",
       "      <th></th>\n",
       "      <th>user_id</th>\n",
       "      <th>timestamp</th>\n",
       "      <th>mp_os</th>\n",
       "      <th>mp_app_version</th>\n",
       "      <th>date_cd</th>\n",
       "      <th>event_CompleteIDCertification</th>\n",
       "      <th>event_EndLoanApply</th>\n",
       "      <th>event_GetCreditInfo</th>\n",
       "      <th>event_Login</th>\n",
       "      <th>event_OpenApp</th>\n",
       "      <th>event_SignUp</th>\n",
       "      <th>event_StartLoanApply</th>\n",
       "      <th>event_UseDSRCalc</th>\n",
       "      <th>event_UseLoanManage</th>\n",
       "      <th>event_UsePrepayCalc</th>\n",
       "      <th>event_ViewLoanApplyIntro</th>\n",
       "      <th>n_mp</th>\n",
       "    </tr>\n",
       "  </thead>\n",
       "  <tbody>\n",
       "    <tr>\n",
       "      <th>11709372</th>\n",
       "      <td>1</td>\n",
       "      <td>2022-05-03 14:52:28</td>\n",
       "      <td>android</td>\n",
       "      <td>464</td>\n",
       "      <td>2022-05-03</td>\n",
       "      <td>0</td>\n",
       "      <td>0</td>\n",
       "      <td>1</td>\n",
       "      <td>0</td>\n",
       "      <td>0</td>\n",
       "      <td>0</td>\n",
       "      <td>0</td>\n",
       "      <td>0</td>\n",
       "      <td>0</td>\n",
       "      <td>0</td>\n",
       "      <td>0</td>\n",
       "      <td>android-464</td>\n",
       "    </tr>\n",
       "    <tr>\n",
       "      <th>11709374</th>\n",
       "      <td>1</td>\n",
       "      <td>2022-05-03 14:52:35</td>\n",
       "      <td>android</td>\n",
       "      <td>464</td>\n",
       "      <td>2022-05-03</td>\n",
       "      <td>0</td>\n",
       "      <td>0</td>\n",
       "      <td>1</td>\n",
       "      <td>0</td>\n",
       "      <td>0</td>\n",
       "      <td>0</td>\n",
       "      <td>0</td>\n",
       "      <td>0</td>\n",
       "      <td>0</td>\n",
       "      <td>0</td>\n",
       "      <td>0</td>\n",
       "      <td>android-464</td>\n",
       "    </tr>\n",
       "    <tr>\n",
       "      <th>2451691</th>\n",
       "      <td>1</td>\n",
       "      <td>2022-06-16 23:58:41</td>\n",
       "      <td>Android</td>\n",
       "      <td>3.12.1</td>\n",
       "      <td>2022-06-16</td>\n",
       "      <td>0</td>\n",
       "      <td>0</td>\n",
       "      <td>0</td>\n",
       "      <td>0</td>\n",
       "      <td>0</td>\n",
       "      <td>0</td>\n",
       "      <td>0</td>\n",
       "      <td>0</td>\n",
       "      <td>1</td>\n",
       "      <td>0</td>\n",
       "      <td>0</td>\n",
       "      <td>Android-3.12.1</td>\n",
       "    </tr>\n",
       "    <tr>\n",
       "      <th>2451693</th>\n",
       "      <td>1</td>\n",
       "      <td>2022-06-16 23:58:41</td>\n",
       "      <td>Android</td>\n",
       "      <td>3.12.1</td>\n",
       "      <td>2022-06-16</td>\n",
       "      <td>0</td>\n",
       "      <td>0</td>\n",
       "      <td>0</td>\n",
       "      <td>1</td>\n",
       "      <td>0</td>\n",
       "      <td>0</td>\n",
       "      <td>0</td>\n",
       "      <td>0</td>\n",
       "      <td>0</td>\n",
       "      <td>0</td>\n",
       "      <td>0</td>\n",
       "      <td>Android-3.12.1</td>\n",
       "    </tr>\n",
       "    <tr>\n",
       "      <th>7071607</th>\n",
       "      <td>1</td>\n",
       "      <td>2022-06-16 23:58:42</td>\n",
       "      <td>android</td>\n",
       "      <td>464</td>\n",
       "      <td>2022-06-16</td>\n",
       "      <td>0</td>\n",
       "      <td>0</td>\n",
       "      <td>1</td>\n",
       "      <td>0</td>\n",
       "      <td>0</td>\n",
       "      <td>0</td>\n",
       "      <td>0</td>\n",
       "      <td>0</td>\n",
       "      <td>0</td>\n",
       "      <td>0</td>\n",
       "      <td>0</td>\n",
       "      <td>android-464</td>\n",
       "    </tr>\n",
       "    <tr>\n",
       "      <th>...</th>\n",
       "      <td>...</td>\n",
       "      <td>...</td>\n",
       "      <td>...</td>\n",
       "      <td>...</td>\n",
       "      <td>...</td>\n",
       "      <td>...</td>\n",
       "      <td>...</td>\n",
       "      <td>...</td>\n",
       "      <td>...</td>\n",
       "      <td>...</td>\n",
       "      <td>...</td>\n",
       "      <td>...</td>\n",
       "      <td>...</td>\n",
       "      <td>...</td>\n",
       "      <td>...</td>\n",
       "      <td>...</td>\n",
       "      <td>...</td>\n",
       "    </tr>\n",
       "    <tr>\n",
       "      <th>7298671</th>\n",
       "      <td>879696</td>\n",
       "      <td>2022-03-14 05:38:16</td>\n",
       "      <td>Android</td>\n",
       "      <td>3.8.2</td>\n",
       "      <td>2022-03-14</td>\n",
       "      <td>1</td>\n",
       "      <td>0</td>\n",
       "      <td>0</td>\n",
       "      <td>0</td>\n",
       "      <td>0</td>\n",
       "      <td>0</td>\n",
       "      <td>0</td>\n",
       "      <td>0</td>\n",
       "      <td>0</td>\n",
       "      <td>0</td>\n",
       "      <td>0</td>\n",
       "      <td>Android-3.8.2</td>\n",
       "    </tr>\n",
       "    <tr>\n",
       "      <th>7298672</th>\n",
       "      <td>879696</td>\n",
       "      <td>2022-03-14 05:42:14</td>\n",
       "      <td>Android</td>\n",
       "      <td>3.8.2</td>\n",
       "      <td>2022-03-14</td>\n",
       "      <td>0</td>\n",
       "      <td>1</td>\n",
       "      <td>0</td>\n",
       "      <td>0</td>\n",
       "      <td>0</td>\n",
       "      <td>0</td>\n",
       "      <td>0</td>\n",
       "      <td>0</td>\n",
       "      <td>0</td>\n",
       "      <td>0</td>\n",
       "      <td>0</td>\n",
       "      <td>Android-3.8.2</td>\n",
       "    </tr>\n",
       "    <tr>\n",
       "      <th>8248077</th>\n",
       "      <td>879698</td>\n",
       "      <td>2022-05-24 22:33:24</td>\n",
       "      <td>iOS</td>\n",
       "      <td>N</td>\n",
       "      <td>2022-05-24</td>\n",
       "      <td>0</td>\n",
       "      <td>0</td>\n",
       "      <td>0</td>\n",
       "      <td>0</td>\n",
       "      <td>1</td>\n",
       "      <td>0</td>\n",
       "      <td>0</td>\n",
       "      <td>0</td>\n",
       "      <td>0</td>\n",
       "      <td>0</td>\n",
       "      <td>0</td>\n",
       "      <td>iOS-N</td>\n",
       "    </tr>\n",
       "    <tr>\n",
       "      <th>8248080</th>\n",
       "      <td>879698</td>\n",
       "      <td>2022-05-24 22:33:32</td>\n",
       "      <td>iOS</td>\n",
       "      <td>N</td>\n",
       "      <td>2022-05-24</td>\n",
       "      <td>0</td>\n",
       "      <td>0</td>\n",
       "      <td>0</td>\n",
       "      <td>0</td>\n",
       "      <td>0</td>\n",
       "      <td>0</td>\n",
       "      <td>1</td>\n",
       "      <td>0</td>\n",
       "      <td>0</td>\n",
       "      <td>0</td>\n",
       "      <td>0</td>\n",
       "      <td>iOS-N</td>\n",
       "    </tr>\n",
       "    <tr>\n",
       "      <th>8248082</th>\n",
       "      <td>879698</td>\n",
       "      <td>2022-05-24 22:33:32</td>\n",
       "      <td>iOS</td>\n",
       "      <td>N</td>\n",
       "      <td>2022-05-24</td>\n",
       "      <td>0</td>\n",
       "      <td>0</td>\n",
       "      <td>0</td>\n",
       "      <td>0</td>\n",
       "      <td>0</td>\n",
       "      <td>0</td>\n",
       "      <td>0</td>\n",
       "      <td>0</td>\n",
       "      <td>0</td>\n",
       "      <td>0</td>\n",
       "      <td>1</td>\n",
       "      <td>iOS-N</td>\n",
       "    </tr>\n",
       "  </tbody>\n",
       "</table>\n",
       "<p>17843993 rows × 17 columns</p>\n",
       "</div>"
      ],
      "text/plain": [
       "          user_id            timestamp    mp_os mp_app_version     date_cd  \\\n",
       "11709372        1  2022-05-03 14:52:28  android            464  2022-05-03   \n",
       "11709374        1  2022-05-03 14:52:35  android            464  2022-05-03   \n",
       "2451691         1  2022-06-16 23:58:41  Android         3.12.1  2022-06-16   \n",
       "2451693         1  2022-06-16 23:58:41  Android         3.12.1  2022-06-16   \n",
       "7071607         1  2022-06-16 23:58:42  android            464  2022-06-16   \n",
       "...           ...                  ...      ...            ...         ...   \n",
       "7298671    879696  2022-03-14 05:38:16  Android          3.8.2  2022-03-14   \n",
       "7298672    879696  2022-03-14 05:42:14  Android          3.8.2  2022-03-14   \n",
       "8248077    879698  2022-05-24 22:33:24      iOS              N  2022-05-24   \n",
       "8248080    879698  2022-05-24 22:33:32      iOS              N  2022-05-24   \n",
       "8248082    879698  2022-05-24 22:33:32      iOS              N  2022-05-24   \n",
       "\n",
       "          event_CompleteIDCertification  event_EndLoanApply  \\\n",
       "11709372                              0                   0   \n",
       "11709374                              0                   0   \n",
       "2451691                               0                   0   \n",
       "2451693                               0                   0   \n",
       "7071607                               0                   0   \n",
       "...                                 ...                 ...   \n",
       "7298671                               1                   0   \n",
       "7298672                               0                   1   \n",
       "8248077                               0                   0   \n",
       "8248080                               0                   0   \n",
       "8248082                               0                   0   \n",
       "\n",
       "          event_GetCreditInfo  event_Login  event_OpenApp  event_SignUp  \\\n",
       "11709372                    1            0              0             0   \n",
       "11709374                    1            0              0             0   \n",
       "2451691                     0            0              0             0   \n",
       "2451693                     0            1              0             0   \n",
       "7071607                     1            0              0             0   \n",
       "...                       ...          ...            ...           ...   \n",
       "7298671                     0            0              0             0   \n",
       "7298672                     0            0              0             0   \n",
       "8248077                     0            0              1             0   \n",
       "8248080                     0            0              0             0   \n",
       "8248082                     0            0              0             0   \n",
       "\n",
       "          event_StartLoanApply  event_UseDSRCalc  event_UseLoanManage  \\\n",
       "11709372                     0                 0                    0   \n",
       "11709374                     0                 0                    0   \n",
       "2451691                      0                 0                    1   \n",
       "2451693                      0                 0                    0   \n",
       "7071607                      0                 0                    0   \n",
       "...                        ...               ...                  ...   \n",
       "7298671                      0                 0                    0   \n",
       "7298672                      0                 0                    0   \n",
       "8248077                      0                 0                    0   \n",
       "8248080                      1                 0                    0   \n",
       "8248082                      0                 0                    0   \n",
       "\n",
       "          event_UsePrepayCalc  event_ViewLoanApplyIntro            n_mp  \n",
       "11709372                    0                         0     android-464  \n",
       "11709374                    0                         0     android-464  \n",
       "2451691                     0                         0  Android-3.12.1  \n",
       "2451693                     0                         0  Android-3.12.1  \n",
       "7071607                     0                         0     android-464  \n",
       "...                       ...                       ...             ...  \n",
       "7298671                     0                         0   Android-3.8.2  \n",
       "7298672                     0                         0   Android-3.8.2  \n",
       "8248077                     0                         0           iOS-N  \n",
       "8248080                     0                         0           iOS-N  \n",
       "8248082                     0                         1           iOS-N  \n",
       "\n",
       "[17843993 rows x 17 columns]"
      ]
     },
     "execution_count": 15,
     "metadata": {},
     "output_type": "execute_result"
    }
   ],
   "source": [
    "log_df"
   ]
  },
  {
   "cell_type": "code",
   "execution_count": null,
   "id": "76009e19",
   "metadata": {},
   "outputs": [],
   "source": []
  },
  {
   "cell_type": "code",
   "execution_count": 24,
   "id": "e77cb98c",
   "metadata": {
    "ExecuteTime": {
     "end_time": "2022-10-13T06:19:30.443302Z",
     "start_time": "2022-10-13T06:18:31.374039Z"
    }
   },
   "outputs": [],
   "source": [
    "log_df = pd.get_dummies(data = log_df, columns=['n_mp'])"
   ]
  },
  {
   "cell_type": "code",
   "execution_count": null,
   "id": "7f4a18f3",
   "metadata": {
    "ExecuteTime": {
     "start_time": "2022-10-13T06:29:43.235Z"
    }
   },
   "outputs": [],
   "source": [
    "log_df=pd.concat([log_df.loc[:, log_df.columns[:16]], log_df.loc[:, log_df.columns[16:]]!=0], axis=1)"
   ]
  },
  {
   "cell_type": "code",
   "execution_count": null,
   "id": "e250d9d9",
   "metadata": {
    "ExecuteTime": {
     "end_time": "2022-10-13T06:28:48.841766Z",
     "start_time": "2022-10-13T06:28:48.841743Z"
    }
   },
   "outputs": [],
   "source": [
    "log_df"
   ]
  },
  {
   "cell_type": "code",
   "execution_count": null,
   "id": "ffba080f",
   "metadata": {
    "ExecuteTime": {
     "end_time": "2022-10-13T06:27:34.054929Z",
     "start_time": "2022-10-13T06:27:34.054910Z"
    }
   },
   "outputs": [],
   "source": [
    "log_df.groupby(by=['user_id','date_cd']).sum()"
   ]
  },
  {
   "cell_type": "code",
   "execution_count": null,
   "id": "1efddbfb",
   "metadata": {},
   "outputs": [],
   "source": []
  }
 ],
 "metadata": {
  "kernelspec": {
   "display_name": "Python 3 (ipykernel)",
   "language": "python",
   "name": "python3"
  },
  "language_info": {
   "codemirror_mode": {
    "name": "ipython",
    "version": 3
   },
   "file_extension": ".py",
   "mimetype": "text/x-python",
   "name": "python",
   "nbconvert_exporter": "python",
   "pygments_lexer": "ipython3",
   "version": "3.8.10"
  },
  "toc": {
   "base_numbering": 1,
   "nav_menu": {},
   "number_sections": true,
   "sideBar": true,
   "skip_h1_title": false,
   "title_cell": "Table of Contents",
   "title_sidebar": "Contents",
   "toc_cell": false,
   "toc_position": {},
   "toc_section_display": true,
   "toc_window_display": false
  },
  "varInspector": {
   "cols": {
    "lenName": 16,
    "lenType": 16,
    "lenVar": 40
   },
   "kernels_config": {
    "python": {
     "delete_cmd_postfix": "",
     "delete_cmd_prefix": "del ",
     "library": "var_list.py",
     "varRefreshCmd": "print(var_dic_list())"
    },
    "r": {
     "delete_cmd_postfix": ") ",
     "delete_cmd_prefix": "rm(",
     "library": "var_list.r",
     "varRefreshCmd": "cat(var_dic_list()) "
    }
   },
   "types_to_exclude": [
    "module",
    "function",
    "builtin_function_or_method",
    "instance",
    "_Feature"
   ],
   "window_display": false
  }
 },
 "nbformat": 4,
 "nbformat_minor": 5
}
