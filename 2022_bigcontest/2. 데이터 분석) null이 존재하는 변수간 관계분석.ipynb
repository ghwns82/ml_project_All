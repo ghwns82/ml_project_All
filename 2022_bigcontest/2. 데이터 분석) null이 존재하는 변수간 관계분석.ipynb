{
 "cells": [
  {
   "cell_type": "markdown",
   "id": "0bfc4ee5",
   "metadata": {},
   "source": [
    "## 요약 정리\n",
    "### 3가지 데이터의 null 값을 조사함\n",
    "1. User_spec\n",
    "    * 14개 컬럼에 null이 존재 \n",
    "2. loan_result\n",
    "    * 3개 컬럼에 null이 존재\n",
    "3. log_data\n",
    "    * 2개 컬럼에 null이 존재\n",
    "\n",
    "### null 값이 존재하는 컬럼간의 관계\n",
    "\n",
    "1. User_spec\n",
    "    * birth_year == gender\n",
    "    * income_type == employment_type == houseown_type == desired_amount == purpose\n",
    "    * personal_rehabilitation_yn ⊂ personal_rehabilitation_complete_yn\n",
    "    * existing_loan_cnt ⊂ existing_loan_amt\n",
    "    * income_type ⊂ yearly_income\n",
    "    * desired_amount ⊂ company_enter_month\n",
    "    * desired_amount ⊂ personal_rehabilitation_complete_yn\n",
    "    * desired_amount ⊂ personal_rehabilitation_complete_yn\n",
    "2. loan_result\n",
    "    * loan_limit == loan_rate\n",
    "3. log_data\n",
    "    * mp_os ⊂ mp_app_version"
   ]
  },
  {
   "cell_type": "code",
   "execution_count": 3,
   "id": "a7cb94e2",
   "metadata": {
    "ExecuteTime": {
     "end_time": "2022-10-06T07:17:43.141437Z",
     "start_time": "2022-10-06T07:17:43.138237Z"
    }
   },
   "outputs": [],
   "source": [
    "import pandas as pd\n",
    "import os\n",
    "import numpy as np"
   ]
  },
  {
   "cell_type": "code",
   "execution_count": 2,
   "id": "6b600228",
   "metadata": {
    "ExecuteTime": {
     "end_time": "2022-10-06T07:14:52.317641Z",
     "start_time": "2022-10-06T07:14:30.604085Z"
    }
   },
   "outputs": [],
   "source": [
    "user_df = pd.read_csv('./data/user_spec.csv')\n",
    "loan_df = pd.read_csv('./data/loan_result.csv')\n",
    "log_df = pd.read_csv('./data/log_data.csv')"
   ]
  },
  {
   "cell_type": "markdown",
   "id": "d1fcf471",
   "metadata": {},
   "source": [
    "# null 값 조사"
   ]
  },
  {
   "cell_type": "code",
   "execution_count": 4,
   "id": "f6f3d796",
   "metadata": {
    "ExecuteTime": {
     "end_time": "2022-10-06T07:18:32.184229Z",
     "start_time": "2022-10-06T07:18:32.179214Z"
    }
   },
   "outputs": [],
   "source": [
    "a = pd.DataFrame([\n",
    "    [1, np.NaN,0],\n",
    "    [np.NaN,3,1],\n",
    "    [0,2,np.NaN]\n",
    "])"
   ]
  },
  {
   "cell_type": "code",
   "execution_count": 7,
   "id": "517121b7",
   "metadata": {
    "ExecuteTime": {
     "end_time": "2022-10-06T07:18:51.346487Z",
     "start_time": "2022-10-06T07:18:51.340809Z"
    }
   },
   "outputs": [
    {
     "data": {
      "text/html": [
       "<div>\n",
       "<style scoped>\n",
       "    .dataframe tbody tr th:only-of-type {\n",
       "        vertical-align: middle;\n",
       "    }\n",
       "\n",
       "    .dataframe tbody tr th {\n",
       "        vertical-align: top;\n",
       "    }\n",
       "\n",
       "    .dataframe thead th {\n",
       "        text-align: right;\n",
       "    }\n",
       "</style>\n",
       "<table border=\"1\" class=\"dataframe\">\n",
       "  <thead>\n",
       "    <tr style=\"text-align: right;\">\n",
       "      <th></th>\n",
       "      <th>0</th>\n",
       "      <th>1</th>\n",
       "      <th>2</th>\n",
       "    </tr>\n",
       "  </thead>\n",
       "  <tbody>\n",
       "    <tr>\n",
       "      <th>0</th>\n",
       "      <td>False</td>\n",
       "      <td>True</td>\n",
       "      <td>False</td>\n",
       "    </tr>\n",
       "    <tr>\n",
       "      <th>1</th>\n",
       "      <td>True</td>\n",
       "      <td>False</td>\n",
       "      <td>False</td>\n",
       "    </tr>\n",
       "    <tr>\n",
       "      <th>2</th>\n",
       "      <td>False</td>\n",
       "      <td>False</td>\n",
       "      <td>True</td>\n",
       "    </tr>\n",
       "  </tbody>\n",
       "</table>\n",
       "</div>"
      ],
      "text/plain": [
       "       0      1      2\n",
       "0  False   True  False\n",
       "1   True  False  False\n",
       "2  False  False   True"
      ]
     },
     "execution_count": 7,
     "metadata": {},
     "output_type": "execute_result"
    }
   ],
   "source": [
    "a.isnull()"
   ]
  },
  {
   "cell_type": "code",
   "execution_count": 9,
   "id": "620bfa96",
   "metadata": {
    "ExecuteTime": {
     "end_time": "2022-10-06T07:19:16.767845Z",
     "start_time": "2022-10-06T07:19:16.764287Z"
    }
   },
   "outputs": [
    {
     "data": {
      "text/plain": [
       "3"
      ]
     },
     "execution_count": 9,
     "metadata": {},
     "output_type": "execute_result"
    }
   ],
   "source": [
    "sum(a.isnull())"
   ]
  },
  {
   "cell_type": "code",
   "execution_count": 12,
   "id": "4407c74b",
   "metadata": {
    "ExecuteTime": {
     "end_time": "2022-10-06T07:20:07.710159Z",
     "start_time": "2022-10-06T07:20:07.504700Z"
    }
   },
   "outputs": [
    {
     "data": {
      "text/plain": [
       "application_id                               0\n",
       "user_id                                      0\n",
       "birth_year                               12961\n",
       "gender                                   12961\n",
       "insert_time                                  0\n",
       "credit_score                            105115\n",
       "yearly_income                               90\n",
       "income_type                                 85\n",
       "company_enter_month                     171760\n",
       "employment_type                             85\n",
       "houseown_type                               85\n",
       "desired_amount                              85\n",
       "purpose                                     85\n",
       "personal_rehabilitation_yn              587461\n",
       "personal_rehabilitation_complete_yn    1203354\n",
       "existing_loan_cnt                       198556\n",
       "existing_loan_amt                       313774\n",
       "dtype: int64"
      ]
     },
     "execution_count": 12,
     "metadata": {},
     "output_type": "execute_result"
    }
   ],
   "source": [
    "user_df.isnull().sum()"
   ]
  },
  {
   "cell_type": "code",
   "execution_count": 13,
   "id": "a7c0b99b",
   "metadata": {
    "ExecuteTime": {
     "end_time": "2022-10-06T07:21:49.908830Z",
     "start_time": "2022-10-06T07:21:49.454364Z"
    }
   },
   "outputs": [
    {
     "data": {
      "text/plain": [
       "application_id                 0\n",
       "loanapply_insert_time          0\n",
       "bank_id                        0\n",
       "product_id                     0\n",
       "loan_limit                  7495\n",
       "loan_rate                   7495\n",
       "is_applied               3257239\n",
       "dtype: int64"
      ]
     },
     "execution_count": 13,
     "metadata": {},
     "output_type": "execute_result"
    }
   ],
   "source": [
    "loan_df.isnull().sum()"
   ]
  },
  {
   "cell_type": "code",
   "execution_count": 14,
   "id": "6b91b4cf",
   "metadata": {
    "ExecuteTime": {
     "end_time": "2022-10-06T07:22:21.949667Z",
     "start_time": "2022-10-06T07:22:19.556993Z"
    }
   },
   "outputs": [
    {
     "data": {
      "text/plain": [
       "user_id                0\n",
       "event                  0\n",
       "timestamp              0\n",
       "mp_os                980\n",
       "mp_app_version    660597\n",
       "date_cd                0\n",
       "dtype: int64"
      ]
     },
     "execution_count": 14,
     "metadata": {},
     "output_type": "execute_result"
    }
   ],
   "source": [
    "log_df.isnull().sum()"
   ]
  },
  {
   "cell_type": "markdown",
   "id": "4fcef9f4",
   "metadata": {},
   "source": [
    "# null 값인 column 분석"
   ]
  },
  {
   "cell_type": "markdown",
   "id": "caad8439",
   "metadata": {},
   "source": [
    "## user_spec"
   ]
  },
  {
   "cell_type": "code",
   "execution_count": 55,
   "id": "c4ca61c6",
   "metadata": {
    "ExecuteTime": {
     "end_time": "2022-10-06T08:07:51.976344Z",
     "start_time": "2022-10-06T08:07:51.558005Z"
    },
    "scrolled": false
   },
   "outputs": [
    {
     "name": "stdout",
     "output_type": "stream",
     "text": [
      "3-0 (85, 'desired_amount') (85, 'employment_type')\n",
      "3-1 (85, 'desired_amount') (85, 'houseown_type')\n",
      "3-2 (85, 'desired_amount') (85, 'income_type')\n",
      "3-3 (85, 'desired_amount') (85, 'purpose')\n",
      "3-4 (85, 'desired_amount') (90, 'yearly_income')\n",
      "3-5 (85, 'desired_amount') (12961, 'birth_year')\n",
      "3-6 (85, 'desired_amount') (12961, 'gender')\n",
      "3-7 (85, 'desired_amount') (105115, 'credit_score')\n",
      "3-8 (85, 'desired_amount') (171760, 'company_enter_month')\n",
      "3-9 (85, 'desired_amount') (198556, 'existing_loan_cnt')\n",
      "3-10 (85, 'desired_amount') (313774, 'existing_loan_amt')\n",
      "3-11 (85, 'desired_amount') (587461, 'personal_rehabilitation_yn')\n",
      "3-12 (85, 'desired_amount') (1203354, 'personal_rehabilitation_complete_yn')\n",
      "4-0 (85, 'employment_type') (85, 'houseown_type')\n",
      "4-1 (85, 'employment_type') (85, 'income_type')\n",
      "4-2 (85, 'employment_type') (85, 'purpose')\n",
      "4-3 (85, 'employment_type') (90, 'yearly_income')\n",
      "4-4 (85, 'employment_type') (12961, 'birth_year')\n",
      "4-5 (85, 'employment_type') (12961, 'gender')\n",
      "4-6 (85, 'employment_type') (105115, 'credit_score')\n",
      "4-7 (85, 'employment_type') (171760, 'company_enter_month')\n",
      "4-8 (85, 'employment_type') (198556, 'existing_loan_cnt')\n",
      "4-9 (85, 'employment_type') (313774, 'existing_loan_amt')\n",
      "4-10 (85, 'employment_type') (587461, 'personal_rehabilitation_yn')\n",
      "4-11 (85, 'employment_type') (1203354, 'personal_rehabilitation_complete_yn')\n",
      "5-0 (85, 'houseown_type') (85, 'income_type')\n",
      "5-1 (85, 'houseown_type') (85, 'purpose')\n",
      "5-2 (85, 'houseown_type') (90, 'yearly_income')\n",
      "5-3 (85, 'houseown_type') (12961, 'birth_year')\n",
      "5-4 (85, 'houseown_type') (12961, 'gender')\n",
      "5-5 (85, 'houseown_type') (105115, 'credit_score')\n",
      "5-6 (85, 'houseown_type') (171760, 'company_enter_month')\n",
      "5-7 (85, 'houseown_type') (198556, 'existing_loan_cnt')\n",
      "5-8 (85, 'houseown_type') (313774, 'existing_loan_amt')\n",
      "5-9 (85, 'houseown_type') (587461, 'personal_rehabilitation_yn')\n",
      "5-10 (85, 'houseown_type') (1203354, 'personal_rehabilitation_complete_yn')\n",
      "6-0 (85, 'income_type') (85, 'purpose')\n",
      "6-1 (85, 'income_type') (90, 'yearly_income')\n",
      "6-2 (85, 'income_type') (12961, 'birth_year')\n",
      "6-3 (85, 'income_type') (12961, 'gender')\n",
      "6-4 (85, 'income_type') (105115, 'credit_score')\n",
      "6-5 (85, 'income_type') (171760, 'company_enter_month')\n",
      "6-6 (85, 'income_type') (198556, 'existing_loan_cnt')\n",
      "6-7 (85, 'income_type') (313774, 'existing_loan_amt')\n",
      "6-8 (85, 'income_type') (587461, 'personal_rehabilitation_yn')\n",
      "6-9 (85, 'income_type') (1203354, 'personal_rehabilitation_complete_yn')\n",
      "7-0 (85, 'purpose') (90, 'yearly_income')\n",
      "7-1 (85, 'purpose') (12961, 'birth_year')\n",
      "7-2 (85, 'purpose') (12961, 'gender')\n",
      "7-3 (85, 'purpose') (105115, 'credit_score')\n",
      "7-4 (85, 'purpose') (171760, 'company_enter_month')\n",
      "7-5 (85, 'purpose') (198556, 'existing_loan_cnt')\n",
      "7-6 (85, 'purpose') (313774, 'existing_loan_amt')\n",
      "7-7 (85, 'purpose') (587461, 'personal_rehabilitation_yn')\n",
      "7-8 (85, 'purpose') (1203354, 'personal_rehabilitation_complete_yn')\n",
      "8-0 (90, 'yearly_income') (12961, 'birth_year')\n",
      "8-1 (90, 'yearly_income') (12961, 'gender')\n",
      "8-2 (90, 'yearly_income') (105115, 'credit_score')\n",
      "8-3 (90, 'yearly_income') (171760, 'company_enter_month')\n",
      "8-4 (90, 'yearly_income') (198556, 'existing_loan_cnt')\n",
      "8-5 (90, 'yearly_income') (313774, 'existing_loan_amt')\n",
      "8-6 (90, 'yearly_income') (587461, 'personal_rehabilitation_yn')\n",
      "8-7 (90, 'yearly_income') (1203354, 'personal_rehabilitation_complete_yn')\n",
      "9-0 (12961, 'birth_year') (12961, 'gender')\n",
      "9-1 (12961, 'birth_year') (105115, 'credit_score')\n",
      "9-2 (12961, 'birth_year') (171760, 'company_enter_month')\n",
      "9-3 (12961, 'birth_year') (198556, 'existing_loan_cnt')\n",
      "9-4 (12961, 'birth_year') (313774, 'existing_loan_amt')\n",
      "9-5 (12961, 'birth_year') (587461, 'personal_rehabilitation_yn')\n",
      "9-6 (12961, 'birth_year') (1203354, 'personal_rehabilitation_complete_yn')\n",
      "10-0 (12961, 'gender') (105115, 'credit_score')\n",
      "10-1 (12961, 'gender') (171760, 'company_enter_month')\n",
      "10-2 (12961, 'gender') (198556, 'existing_loan_cnt')\n",
      "10-3 (12961, 'gender') (313774, 'existing_loan_amt')\n",
      "10-4 (12961, 'gender') (587461, 'personal_rehabilitation_yn')\n",
      "10-5 (12961, 'gender') (1203354, 'personal_rehabilitation_complete_yn')\n",
      "11-0 (105115, 'credit_score') (171760, 'company_enter_month')\n",
      "11-1 (105115, 'credit_score') (198556, 'existing_loan_cnt')\n",
      "11-2 (105115, 'credit_score') (313774, 'existing_loan_amt')\n",
      "11-3 (105115, 'credit_score') (587461, 'personal_rehabilitation_yn')\n",
      "11-4 (105115, 'credit_score') (1203354, 'personal_rehabilitation_complete_yn')\n",
      "12-0 (171760, 'company_enter_month') (198556, 'existing_loan_cnt')\n",
      "12-1 (171760, 'company_enter_month') (313774, 'existing_loan_amt')\n",
      "12-2 (171760, 'company_enter_month') (587461, 'personal_rehabilitation_yn')\n",
      "12-3 (171760, 'company_enter_month') (1203354, 'personal_rehabilitation_complete_yn')\n",
      "13-0 (198556, 'existing_loan_cnt') (313774, 'existing_loan_amt')\n",
      "13-1 (198556, 'existing_loan_cnt') (587461, 'personal_rehabilitation_yn')\n",
      "13-2 (198556, 'existing_loan_cnt') (1203354, 'personal_rehabilitation_complete_yn')\n",
      "14-0 (313774, 'existing_loan_amt') (587461, 'personal_rehabilitation_yn')\n",
      "14-1 (313774, 'existing_loan_amt') (1203354, 'personal_rehabilitation_complete_yn')\n",
      "15-0 (587461, 'personal_rehabilitation_yn') (1203354, 'personal_rehabilitation_complete_yn')\n"
     ]
    }
   ],
   "source": [
    "# 분석할 항목\n",
    "a=sorted(list(zip(list(user_df.isnull().sum()), user_df.isnull().sum().index)))\n",
    "for i,v in enumerate(a):\n",
    "    if v[0]==0:\n",
    "        continue\n",
    "    for j,v2 in enumerate(a[i+1:]):\n",
    "        print(f'{i}-{j}', v, v2)"
   ]
  },
  {
   "cell_type": "markdown",
   "id": "45900110",
   "metadata": {},
   "source": [
    "### null인 속성들 중 수가 같은 경우, 서로 같은 개체인가?"
   ]
  },
  {
   "cell_type": "markdown",
   "id": "d96f9cd5",
   "metadata": {},
   "source": [
    "birth_year == gender"
   ]
  },
  {
   "cell_type": "markdown",
   "id": "a88e2fa4",
   "metadata": {},
   "source": [
    "income_type == employment_type == houseown_type == desired_amount == purpose"
   ]
  },
  {
   "cell_type": "code",
   "execution_count": 19,
   "id": "fa1aa2d1",
   "metadata": {
    "ExecuteTime": {
     "end_time": "2022-10-06T07:24:47.639689Z",
     "start_time": "2022-10-06T07:24:47.613063Z"
    }
   },
   "outputs": [
    {
     "data": {
      "text/plain": [
       "True"
      ]
     },
     "execution_count": 19,
     "metadata": {},
     "output_type": "execute_result"
    }
   ],
   "source": [
    "set(user_df[user_df['birth_year'].isnull()].index) == set(user_df[user_df['gender'].isnull()].index)"
   ]
  },
  {
   "cell_type": "code",
   "execution_count": 36,
   "id": "78ef5c04",
   "metadata": {
    "ExecuteTime": {
     "end_time": "2022-10-06T07:35:20.865575Z",
     "start_time": "2022-10-06T07:35:20.772548Z"
    }
   },
   "outputs": [
    {
     "data": {
      "text/plain": [
       "True"
      ]
     },
     "execution_count": 36,
     "metadata": {},
     "output_type": "execute_result"
    }
   ],
   "source": [
    "set(user_df[user_df['income_type'].isnull()].index) == set(user_df[user_df['employment_type'].isnull()].index)"
   ]
  },
  {
   "cell_type": "code",
   "execution_count": 37,
   "id": "f3886155",
   "metadata": {
    "ExecuteTime": {
     "end_time": "2022-10-06T07:37:23.163218Z",
     "start_time": "2022-10-06T07:37:23.088412Z"
    }
   },
   "outputs": [
    {
     "data": {
      "text/plain": [
       "True"
      ]
     },
     "execution_count": 37,
     "metadata": {},
     "output_type": "execute_result"
    }
   ],
   "source": [
    "set(user_df[user_df['employment_type'].isnull()].index) == set(user_df[user_df['houseown_type'].isnull()].index)"
   ]
  },
  {
   "cell_type": "code",
   "execution_count": 38,
   "id": "efba1d7b",
   "metadata": {
    "ExecuteTime": {
     "end_time": "2022-10-06T07:37:42.825581Z",
     "start_time": "2022-10-06T07:37:42.771448Z"
    }
   },
   "outputs": [
    {
     "data": {
      "text/plain": [
       "True"
      ]
     },
     "execution_count": 38,
     "metadata": {},
     "output_type": "execute_result"
    }
   ],
   "source": [
    "set(user_df[user_df['houseown_type'].isnull()].index) == set(user_df[user_df['desired_amount'].isnull()].index)"
   ]
  },
  {
   "cell_type": "code",
   "execution_count": 39,
   "id": "154ba1f5",
   "metadata": {
    "ExecuteTime": {
     "end_time": "2022-10-06T07:37:50.890747Z",
     "start_time": "2022-10-06T07:37:50.839583Z"
    }
   },
   "outputs": [
    {
     "data": {
      "text/plain": [
       "True"
      ]
     },
     "execution_count": 39,
     "metadata": {},
     "output_type": "execute_result"
    }
   ],
   "source": [
    "set(user_df[user_df['desired_amount'].isnull()].index) == set(user_df[user_df['purpose'].isnull()].index)"
   ]
  },
  {
   "cell_type": "markdown",
   "id": "8cf7c76d",
   "metadata": {},
   "source": [
    "### 수가 다르다면, 포함관계인가?"
   ]
  },
  {
   "cell_type": "markdown",
   "id": "93c3deac",
   "metadata": {},
   "source": [
    "personal_rehabilitation_yn ⊂ personal_rehabilitation_complete_yn\n",
    "\n",
    "existing_loan_cnt ⊂ existing_loan_amt\n",
    "\n",
    "income_type ⊂ yearly_income\n",
    "\n",
    "desired_amount ⊂ company_enter_month\n",
    "\n",
    "desired_amount ⊂ personal_rehabilitation_complete_yn\n",
    "\n",
    "desired_amount ⊂ personal_rehabilitation_complete_yn"
   ]
  },
  {
   "cell_type": "code",
   "execution_count": 40,
   "id": "25502d87",
   "metadata": {
    "ExecuteTime": {
     "end_time": "2022-10-06T07:38:29.870469Z",
     "start_time": "2022-10-06T07:38:29.866512Z"
    }
   },
   "outputs": [
    {
     "name": "stdout",
     "output_type": "stream",
     "text": [
      "True True True\n"
     ]
    }
   ],
   "source": [
    "# 포함 관계임을 나타내는 코드 3가지\n",
    "print(\n",
    "    set([1,2]) & set([1,2,3]) == set([1,2]), # True\n",
    "    set([1,2,3]).issuperset(set([1,2])),       # True \n",
    "    set([1,2]).issubset(set([1,2,3]))      # True \n",
    ")"
   ]
  },
  {
   "cell_type": "code",
   "execution_count": 97,
   "id": "7ee9bf6b",
   "metadata": {
    "ExecuteTime": {
     "end_time": "2022-10-06T08:28:49.782716Z",
     "start_time": "2022-10-06T08:28:49.778085Z"
    }
   },
   "outputs": [
    {
     "name": "stdout",
     "output_type": "stream",
     "text": [
      "False True\n"
     ]
    }
   ],
   "source": [
    "# 서로소임을 나타내는 코드\n",
    "print(\n",
    "    set([1,2,3]).isdisjoint(set([1,2])), # False\n",
    "    set([1,2,3]).isdisjoint(set([4,5])) # True\n",
    ")"
   ]
  },
  {
   "cell_type": "markdown",
   "id": "37df5588",
   "metadata": {},
   "source": [
    "특정 컬럼"
   ]
  },
  {
   "cell_type": "code",
   "execution_count": 34,
   "id": "ac879d98",
   "metadata": {
    "ExecuteTime": {
     "end_time": "2022-10-06T07:32:56.136337Z",
     "start_time": "2022-10-06T07:32:55.780562Z"
    }
   },
   "outputs": [
    {
     "data": {
      "text/plain": [
       "True"
      ]
     },
     "execution_count": 34,
     "metadata": {},
     "output_type": "execute_result"
    }
   ],
   "source": [
    "set(user_df[user_df['personal_rehabilitation_complete_yn'].isnull()].index).issuperset(\n",
    "    set(user_df[user_df['personal_rehabilitation_yn'].isnull()].index)\n",
    ")"
   ]
  },
  {
   "cell_type": "code",
   "execution_count": 35,
   "id": "252ef365",
   "metadata": {
    "ExecuteTime": {
     "end_time": "2022-10-06T07:34:04.602659Z",
     "start_time": "2022-10-06T07:34:04.462984Z"
    }
   },
   "outputs": [
    {
     "data": {
      "text/plain": [
       "True"
      ]
     },
     "execution_count": 35,
     "metadata": {},
     "output_type": "execute_result"
    }
   ],
   "source": [
    "set(user_df[user_df['existing_loan_amt'].isnull()].index).issuperset(\n",
    "    set(user_df[user_df['existing_loan_cnt'].isnull()].index)\n",
    ")"
   ]
  },
  {
   "cell_type": "code",
   "execution_count": 43,
   "id": "3c283acc",
   "metadata": {
    "ExecuteTime": {
     "end_time": "2022-10-06T07:57:19.512831Z",
     "start_time": "2022-10-06T07:57:19.462249Z"
    }
   },
   "outputs": [
    {
     "data": {
      "text/plain": [
       "True"
      ]
     },
     "execution_count": 43,
     "metadata": {},
     "output_type": "execute_result"
    }
   ],
   "source": [
    "set(user_df[user_df['yearly_income'].isnull()].index).issuperset(\n",
    "    set(user_df[user_df['income_type'].isnull()].index)\n",
    ")"
   ]
  },
  {
   "cell_type": "markdown",
   "id": "4cf35cc8",
   "metadata": {},
   "source": [
    "85 null(desired_amount, employment_type, houseown_type, income_type, purpose)"
   ]
  },
  {
   "cell_type": "code",
   "execution_count": 61,
   "id": "f1d01c55",
   "metadata": {
    "ExecuteTime": {
     "end_time": "2022-10-06T08:16:27.356387Z",
     "start_time": "2022-10-06T08:16:27.316580Z"
    }
   },
   "outputs": [
    {
     "name": "stdout",
     "output_type": "stream",
     "text": [
      "False False\n"
     ]
    }
   ],
   "source": [
    "print(\n",
    "    # 포함관계 파악\n",
    "    set(user_df[user_df['desired_amount'].isnull()].index).issubset(\n",
    "        set(user_df[user_df['birth_year'].isnull()].index)\n",
    "    )\n",
    "    ,\n",
    "    # 서로소 판단\n",
    "    set(user_df[user_df['desired_amount'].isnull()].index).isdisjoint(\n",
    "        set(user_df[user_df['birth_year'].isnull()].index)\n",
    "    )\n",
    ")"
   ]
  },
  {
   "cell_type": "code",
   "execution_count": 62,
   "id": "b0d1ab3a",
   "metadata": {
    "ExecuteTime": {
     "end_time": "2022-10-06T08:16:47.023025Z",
     "start_time": "2022-10-06T08:16:46.945172Z"
    }
   },
   "outputs": [
    {
     "name": "stdout",
     "output_type": "stream",
     "text": [
      "False False\n"
     ]
    }
   ],
   "source": [
    "print(\n",
    "    # 포함관계 파악\n",
    "    set(user_df[user_df['desired_amount'].isnull()].index).issubset(\n",
    "        set(user_df[user_df['credit_score'].isnull()].index)\n",
    "    )\n",
    "    ,\n",
    "    # 서로소 판단\n",
    "    set(user_df[user_df['desired_amount'].isnull()].index).isdisjoint(\n",
    "        set(user_df[user_df['credit_score'].isnull()].index)\n",
    "    )\n",
    ")"
   ]
  },
  {
   "cell_type": "code",
   "execution_count": 63,
   "id": "a5d0886f",
   "metadata": {
    "ExecuteTime": {
     "end_time": "2022-10-06T08:16:58.712070Z",
     "start_time": "2022-10-06T08:16:58.604463Z"
    }
   },
   "outputs": [
    {
     "name": "stdout",
     "output_type": "stream",
     "text": [
      "True False\n"
     ]
    }
   ],
   "source": [
    "print(\n",
    "    # 포함관계 파악\n",
    "    set(user_df[user_df['desired_amount'].isnull()].index).issubset(\n",
    "        set(user_df[user_df['company_enter_month'].isnull()].index)\n",
    "    )\n",
    "    ,\n",
    "    # 서로소 판단\n",
    "    set(user_df[user_df['desired_amount'].isnull()].index).isdisjoint(\n",
    "        set(user_df[user_df['company_enter_month'].isnull()].index)\n",
    "    )\n",
    ")"
   ]
  },
  {
   "cell_type": "code",
   "execution_count": 64,
   "id": "6dedbc7b",
   "metadata": {
    "ExecuteTime": {
     "end_time": "2022-10-06T08:17:23.026790Z",
     "start_time": "2022-10-06T08:17:22.912722Z"
    }
   },
   "outputs": [
    {
     "name": "stdout",
     "output_type": "stream",
     "text": [
      "False False\n"
     ]
    }
   ],
   "source": [
    "print(\n",
    "    # 포함관계 파악\n",
    "    set(user_df[user_df['desired_amount'].isnull()].index).issubset(\n",
    "        set(user_df[user_df['existing_loan_cnt'].isnull()].index)\n",
    "    )\n",
    "    ,\n",
    "    # 서로소 판단\n",
    "    set(user_df[user_df['desired_amount'].isnull()].index).isdisjoint(\n",
    "        set(user_df[user_df['existing_loan_cnt'].isnull()].index)\n",
    "    )\n",
    ")"
   ]
  },
  {
   "cell_type": "code",
   "execution_count": 65,
   "id": "c98a4d9f",
   "metadata": {
    "ExecuteTime": {
     "end_time": "2022-10-06T08:17:44.022348Z",
     "start_time": "2022-10-06T08:17:43.870072Z"
    }
   },
   "outputs": [
    {
     "name": "stdout",
     "output_type": "stream",
     "text": [
      "False False\n"
     ]
    }
   ],
   "source": [
    "print(\n",
    "    # 포함관계 파악\n",
    "    set(user_df[user_df['desired_amount'].isnull()].index).issubset(\n",
    "        set(user_df[user_df['existing_loan_amt'].isnull()].index)\n",
    "    )\n",
    "    ,\n",
    "    # 서로소 판단\n",
    "    set(user_df[user_df['desired_amount'].isnull()].index).isdisjoint(\n",
    "        set(user_df[user_df['existing_loan_amt'].isnull()].index)\n",
    "    )\n",
    ")"
   ]
  },
  {
   "cell_type": "code",
   "execution_count": 66,
   "id": "e2d8cfbf",
   "metadata": {
    "ExecuteTime": {
     "end_time": "2022-10-06T08:17:55.306103Z",
     "start_time": "2022-10-06T08:17:55.087149Z"
    }
   },
   "outputs": [
    {
     "name": "stdout",
     "output_type": "stream",
     "text": [
      "True False\n"
     ]
    }
   ],
   "source": [
    "print(\n",
    "    # 포함관계 파악\n",
    "    set(user_df[user_df['desired_amount'].isnull()].index).issubset(\n",
    "        set(user_df[user_df['personal_rehabilitation_yn'].isnull()].index)\n",
    "    )\n",
    "    ,\n",
    "    # 서로소 판단\n",
    "    set(user_df[user_df['desired_amount'].isnull()].index).isdisjoint(\n",
    "        set(user_df[user_df['personal_rehabilitation_yn'].isnull()].index)\n",
    "    )\n",
    ")"
   ]
  },
  {
   "cell_type": "code",
   "execution_count": 67,
   "id": "a772b7a6",
   "metadata": {
    "ExecuteTime": {
     "end_time": "2022-10-06T08:18:06.846846Z",
     "start_time": "2022-10-06T08:18:06.396372Z"
    }
   },
   "outputs": [
    {
     "name": "stdout",
     "output_type": "stream",
     "text": [
      "True False\n"
     ]
    }
   ],
   "source": [
    "print(\n",
    "    # 포함관계 파악\n",
    "    set(user_df[user_df['desired_amount'].isnull()].index).issubset(\n",
    "        set(user_df[user_df['personal_rehabilitation_complete_yn'].isnull()].index)\n",
    "    )\n",
    "    ,\n",
    "    # 서로소 판단\n",
    "    set(user_df[user_df['desired_amount'].isnull()].index).isdisjoint(\n",
    "        set(user_df[user_df['personal_rehabilitation_complete_yn'].isnull()].index)\n",
    "    )\n",
    ")"
   ]
  },
  {
   "cell_type": "markdown",
   "id": "c612f68a",
   "metadata": {},
   "source": [
    "90 null (yearly_income )"
   ]
  },
  {
   "cell_type": "code",
   "execution_count": 68,
   "id": "7b374925",
   "metadata": {
    "ExecuteTime": {
     "end_time": "2022-10-06T08:18:59.721863Z",
     "start_time": "2022-10-06T08:18:59.695822Z"
    }
   },
   "outputs": [
    {
     "name": "stdout",
     "output_type": "stream",
     "text": [
      "False False\n"
     ]
    }
   ],
   "source": [
    "print(\n",
    "    # 포함관계 파악\n",
    "    set(user_df[user_df['yearly_income'].isnull()].index).issubset(\n",
    "        set(user_df[user_df['birth_year'].isnull()].index)\n",
    "    )\n",
    "    ,\n",
    "    # 서로소 판단\n",
    "    set(user_df[user_df['yearly_income'].isnull()].index).isdisjoint(\n",
    "        set(user_df[user_df['birth_year'].isnull()].index)\n",
    "    )\n",
    ")"
   ]
  },
  {
   "cell_type": "code",
   "execution_count": 69,
   "id": "4c4a58f2",
   "metadata": {
    "ExecuteTime": {
     "end_time": "2022-10-06T08:19:20.983592Z",
     "start_time": "2022-10-06T08:19:20.905762Z"
    }
   },
   "outputs": [
    {
     "name": "stdout",
     "output_type": "stream",
     "text": [
      "False False\n"
     ]
    }
   ],
   "source": [
    "print(\n",
    "    # 포함관계 파악\n",
    "    set(user_df[user_df['yearly_income'].isnull()].index).issubset(\n",
    "        set(user_df[user_df['credit_score'].isnull()].index)\n",
    "    )\n",
    "    ,\n",
    "    # 서로소 판단\n",
    "    set(user_df[user_df['yearly_income'].isnull()].index).isdisjoint(\n",
    "        set(user_df[user_df['credit_score'].isnull()].index)\n",
    "    )\n",
    ")"
   ]
  },
  {
   "cell_type": "code",
   "execution_count": 70,
   "id": "7447b4b3",
   "metadata": {
    "ExecuteTime": {
     "end_time": "2022-10-06T08:19:30.863069Z",
     "start_time": "2022-10-06T08:19:30.763358Z"
    }
   },
   "outputs": [
    {
     "name": "stdout",
     "output_type": "stream",
     "text": [
      "False False\n"
     ]
    }
   ],
   "source": [
    "print(\n",
    "    # 포함관계 파악\n",
    "    set(user_df[user_df['yearly_income'].isnull()].index).issubset(\n",
    "        set(user_df[user_df['company_enter_month'].isnull()].index)\n",
    "    )\n",
    "    ,\n",
    "    # 서로소 판단\n",
    "    set(user_df[user_df['yearly_income'].isnull()].index).isdisjoint(\n",
    "        set(user_df[user_df['company_enter_month'].isnull()].index)\n",
    "    )\n",
    ")"
   ]
  },
  {
   "cell_type": "code",
   "execution_count": 72,
   "id": "3ef1511f",
   "metadata": {
    "ExecuteTime": {
     "end_time": "2022-10-06T08:19:41.558877Z",
     "start_time": "2022-10-06T08:19:41.450615Z"
    }
   },
   "outputs": [
    {
     "name": "stdout",
     "output_type": "stream",
     "text": [
      "False False\n"
     ]
    }
   ],
   "source": [
    "print(\n",
    "    # 포함관계 파악\n",
    "    set(user_df[user_df['yearly_income'].isnull()].index).issubset(\n",
    "        set(user_df[user_df['existing_loan_cnt'].isnull()].index)\n",
    "    )\n",
    "    ,\n",
    "    # 서로소 판단\n",
    "    set(user_df[user_df['yearly_income'].isnull()].index).isdisjoint(\n",
    "        set(user_df[user_df['existing_loan_cnt'].isnull()].index)\n",
    "    )\n",
    ")"
   ]
  },
  {
   "cell_type": "code",
   "execution_count": 73,
   "id": "76e60db2",
   "metadata": {
    "ExecuteTime": {
     "end_time": "2022-10-06T08:19:49.392050Z",
     "start_time": "2022-10-06T08:19:49.240873Z"
    }
   },
   "outputs": [
    {
     "name": "stdout",
     "output_type": "stream",
     "text": [
      "False False\n"
     ]
    }
   ],
   "source": [
    "print(\n",
    "    # 포함관계 파악\n",
    "    set(user_df[user_df['yearly_income'].isnull()].index).issubset(\n",
    "        set(user_df[user_df['existing_loan_amt'].isnull()].index)\n",
    "    )\n",
    "    ,\n",
    "    # 서로소 판단\n",
    "    set(user_df[user_df['yearly_income'].isnull()].index).isdisjoint(\n",
    "        set(user_df[user_df['existing_loan_amt'].isnull()].index)\n",
    "    )\n",
    ")"
   ]
  },
  {
   "cell_type": "code",
   "execution_count": 74,
   "id": "5662625b",
   "metadata": {
    "ExecuteTime": {
     "end_time": "2022-10-06T08:19:58.761564Z",
     "start_time": "2022-10-06T08:19:58.534081Z"
    }
   },
   "outputs": [
    {
     "name": "stdout",
     "output_type": "stream",
     "text": [
      "False False\n"
     ]
    }
   ],
   "source": [
    "print(\n",
    "    # 포함관계 파악\n",
    "    set(user_df[user_df['yearly_income'].isnull()].index).issubset(\n",
    "        set(user_df[user_df['personal_rehabilitation_yn'].isnull()].index)\n",
    "    )\n",
    "    ,\n",
    "    # 서로소 판단\n",
    "    set(user_df[user_df['yearly_income'].isnull()].index).isdisjoint(\n",
    "        set(user_df[user_df['personal_rehabilitation_yn'].isnull()].index)\n",
    "    )\n",
    ")"
   ]
  },
  {
   "cell_type": "code",
   "execution_count": 75,
   "id": "6fd0bf07",
   "metadata": {
    "ExecuteTime": {
     "end_time": "2022-10-06T08:20:05.262808Z",
     "start_time": "2022-10-06T08:20:04.814011Z"
    }
   },
   "outputs": [
    {
     "name": "stdout",
     "output_type": "stream",
     "text": [
      "False False\n"
     ]
    }
   ],
   "source": [
    "print(\n",
    "    # 포함관계 파악\n",
    "    set(user_df[user_df['yearly_income'].isnull()].index).issubset(\n",
    "        set(user_df[user_df['personal_rehabilitation_complete_yn'].isnull()].index)\n",
    "    )\n",
    "    ,\n",
    "    # 서로소 판단\n",
    "    set(user_df[user_df['yearly_income'].isnull()].index).isdisjoint(\n",
    "        set(user_df[user_df['personal_rehabilitation_complete_yn'].isnull()].index)\n",
    "    )\n",
    ")"
   ]
  },
  {
   "cell_type": "markdown",
   "id": "4d27e762",
   "metadata": {},
   "source": [
    "12961 null (birth_year, gender)"
   ]
  },
  {
   "cell_type": "code",
   "execution_count": 76,
   "id": "64b49e4d",
   "metadata": {
    "ExecuteTime": {
     "end_time": "2022-10-06T08:22:10.946858Z",
     "start_time": "2022-10-06T08:22:10.849166Z"
    }
   },
   "outputs": [
    {
     "name": "stdout",
     "output_type": "stream",
     "text": [
      "False False\n"
     ]
    }
   ],
   "source": [
    "print(\n",
    "    # 포함관계 파악\n",
    "    set(user_df[user_df['birth_year'].isnull()].index).issubset(\n",
    "        set(user_df[user_df['credit_score'].isnull()].index)\n",
    "    )\n",
    "    ,\n",
    "    # 서로소 판단\n",
    "    set(user_df[user_df['birth_year'].isnull()].index).isdisjoint(\n",
    "        set(user_df[user_df['credit_score'].isnull()].index)\n",
    "    )\n",
    ")"
   ]
  },
  {
   "cell_type": "code",
   "execution_count": 77,
   "id": "a4b3b800",
   "metadata": {
    "ExecuteTime": {
     "end_time": "2022-10-06T08:22:19.964755Z",
     "start_time": "2022-10-06T08:22:19.837924Z"
    }
   },
   "outputs": [
    {
     "name": "stdout",
     "output_type": "stream",
     "text": [
      "False False\n"
     ]
    }
   ],
   "source": [
    "print(\n",
    "    # 포함관계 파악\n",
    "    set(user_df[user_df['birth_year'].isnull()].index).issubset(\n",
    "        set(user_df[user_df['company_enter_month'].isnull()].index)\n",
    "    )\n",
    "    ,\n",
    "    # 서로소 판단\n",
    "    set(user_df[user_df['birth_year'].isnull()].index).isdisjoint(\n",
    "        set(user_df[user_df['company_enter_month'].isnull()].index)\n",
    "    )\n",
    ")"
   ]
  },
  {
   "cell_type": "code",
   "execution_count": 78,
   "id": "d09d6192",
   "metadata": {
    "ExecuteTime": {
     "end_time": "2022-10-06T08:22:28.981041Z",
     "start_time": "2022-10-06T08:22:28.846550Z"
    }
   },
   "outputs": [
    {
     "name": "stdout",
     "output_type": "stream",
     "text": [
      "False False\n"
     ]
    }
   ],
   "source": [
    "print(\n",
    "    # 포함관계 파악\n",
    "    set(user_df[user_df['birth_year'].isnull()].index).issubset(\n",
    "        set(user_df[user_df['existing_loan_cnt'].isnull()].index)\n",
    "    )\n",
    "    ,\n",
    "    # 서로소 판단\n",
    "    set(user_df[user_df['birth_year'].isnull()].index).isdisjoint(\n",
    "        set(user_df[user_df['existing_loan_cnt'].isnull()].index)\n",
    "    )\n",
    ")"
   ]
  },
  {
   "cell_type": "code",
   "execution_count": 79,
   "id": "b17e735c",
   "metadata": {
    "ExecuteTime": {
     "end_time": "2022-10-06T08:22:35.785974Z",
     "start_time": "2022-10-06T08:22:35.627683Z"
    }
   },
   "outputs": [
    {
     "name": "stdout",
     "output_type": "stream",
     "text": [
      "False False\n"
     ]
    }
   ],
   "source": [
    "print(\n",
    "    # 포함관계 파악\n",
    "    set(user_df[user_df['birth_year'].isnull()].index).issubset(\n",
    "        set(user_df[user_df['existing_loan_amt'].isnull()].index)\n",
    "    )\n",
    "    ,\n",
    "    # 서로소 판단\n",
    "    set(user_df[user_df['birth_year'].isnull()].index).isdisjoint(\n",
    "        set(user_df[user_df['existing_loan_amt'].isnull()].index)\n",
    "    )\n",
    ")"
   ]
  },
  {
   "cell_type": "code",
   "execution_count": 80,
   "id": "fdd63e41",
   "metadata": {
    "ExecuteTime": {
     "end_time": "2022-10-06T08:22:45.123366Z",
     "start_time": "2022-10-06T08:22:44.885719Z"
    }
   },
   "outputs": [
    {
     "name": "stdout",
     "output_type": "stream",
     "text": [
      "False False\n"
     ]
    }
   ],
   "source": [
    "print(\n",
    "    # 포함관계 파악\n",
    "    set(user_df[user_df['birth_year'].isnull()].index).issubset(\n",
    "        set(user_df[user_df['personal_rehabilitation_yn'].isnull()].index)\n",
    "    )\n",
    "    ,\n",
    "    # 서로소 판단\n",
    "    set(user_df[user_df['birth_year'].isnull()].index).isdisjoint(\n",
    "        set(user_df[user_df['personal_rehabilitation_yn'].isnull()].index)\n",
    "    )\n",
    ")"
   ]
  },
  {
   "cell_type": "code",
   "execution_count": 81,
   "id": "d25696a7",
   "metadata": {
    "ExecuteTime": {
     "end_time": "2022-10-06T08:22:51.917522Z",
     "start_time": "2022-10-06T08:22:51.456552Z"
    }
   },
   "outputs": [
    {
     "name": "stdout",
     "output_type": "stream",
     "text": [
      "False False\n"
     ]
    }
   ],
   "source": [
    "print(\n",
    "    # 포함관계 파악\n",
    "    set(user_df[user_df['birth_year'].isnull()].index).issubset(\n",
    "        set(user_df[user_df['personal_rehabilitation_complete_yn'].isnull()].index)\n",
    "    )\n",
    "    ,\n",
    "    # 서로소 판단\n",
    "    set(user_df[user_df['birth_year'].isnull()].index).isdisjoint(\n",
    "        set(user_df[user_df['personal_rehabilitation_complete_yn'].isnull()].index)\n",
    "    )\n",
    ")"
   ]
  },
  {
   "cell_type": "markdown",
   "id": "ebeb3c10",
   "metadata": {},
   "source": [
    "105115 null(credit_score)"
   ]
  },
  {
   "cell_type": "code",
   "execution_count": 82,
   "id": "7c6c9f0b",
   "metadata": {
    "ExecuteTime": {
     "end_time": "2022-10-06T08:23:29.792798Z",
     "start_time": "2022-10-06T08:23:29.628001Z"
    }
   },
   "outputs": [
    {
     "name": "stdout",
     "output_type": "stream",
     "text": [
      "False False\n"
     ]
    }
   ],
   "source": [
    "print(\n",
    "    # 포함관계 파악\n",
    "    set(user_df[user_df['credit_score'].isnull()].index).issubset(\n",
    "        set(user_df[user_df['company_enter_month'].isnull()].index)\n",
    "    )\n",
    "    ,\n",
    "    # 서로소 판단\n",
    "    set(user_df[user_df['credit_score'].isnull()].index).isdisjoint(\n",
    "        set(user_df[user_df['company_enter_month'].isnull()].index)\n",
    "    )\n",
    ")"
   ]
  },
  {
   "cell_type": "code",
   "execution_count": 83,
   "id": "0b557033",
   "metadata": {
    "ExecuteTime": {
     "end_time": "2022-10-06T08:23:40.993968Z",
     "start_time": "2022-10-06T08:23:40.820377Z"
    }
   },
   "outputs": [
    {
     "name": "stdout",
     "output_type": "stream",
     "text": [
      "False False\n"
     ]
    }
   ],
   "source": [
    "print(\n",
    "    # 포함관계 파악\n",
    "    set(user_df[user_df['credit_score'].isnull()].index).issubset(\n",
    "        set(user_df[user_df['existing_loan_cnt'].isnull()].index)\n",
    "    )\n",
    "    ,\n",
    "    # 서로소 판단\n",
    "    set(user_df[user_df['credit_score'].isnull()].index).isdisjoint(\n",
    "        set(user_df[user_df['existing_loan_cnt'].isnull()].index)\n",
    "    )\n",
    ")"
   ]
  },
  {
   "cell_type": "code",
   "execution_count": 84,
   "id": "45ddd377",
   "metadata": {
    "ExecuteTime": {
     "end_time": "2022-10-06T08:23:47.785521Z",
     "start_time": "2022-10-06T08:23:47.589170Z"
    }
   },
   "outputs": [
    {
     "name": "stdout",
     "output_type": "stream",
     "text": [
      "False False\n"
     ]
    }
   ],
   "source": [
    "print(\n",
    "    # 포함관계 파악\n",
    "    set(user_df[user_df['credit_score'].isnull()].index).issubset(\n",
    "        set(user_df[user_df['existing_loan_amt'].isnull()].index)\n",
    "    )\n",
    "    ,\n",
    "    # 서로소 판단\n",
    "    set(user_df[user_df['credit_score'].isnull()].index).isdisjoint(\n",
    "        set(user_df[user_df['existing_loan_amt'].isnull()].index)\n",
    "    )\n",
    ")"
   ]
  },
  {
   "cell_type": "code",
   "execution_count": 85,
   "id": "833c71d8",
   "metadata": {
    "ExecuteTime": {
     "end_time": "2022-10-06T08:23:57.247969Z",
     "start_time": "2022-10-06T08:23:56.970507Z"
    }
   },
   "outputs": [
    {
     "name": "stdout",
     "output_type": "stream",
     "text": [
      "False False\n"
     ]
    }
   ],
   "source": [
    "print(\n",
    "    # 포함관계 파악\n",
    "    set(user_df[user_df['credit_score'].isnull()].index).issubset(\n",
    "        set(user_df[user_df['personal_rehabilitation_yn'].isnull()].index)\n",
    "    )\n",
    "    ,\n",
    "    # 서로소 판단\n",
    "    set(user_df[user_df['credit_score'].isnull()].index).isdisjoint(\n",
    "        set(user_df[user_df['personal_rehabilitation_yn'].isnull()].index)\n",
    "    )\n",
    ")"
   ]
  },
  {
   "cell_type": "code",
   "execution_count": 86,
   "id": "1a83ce2d",
   "metadata": {
    "ExecuteTime": {
     "end_time": "2022-10-06T08:24:06.774923Z",
     "start_time": "2022-10-06T08:24:06.262588Z"
    }
   },
   "outputs": [
    {
     "name": "stdout",
     "output_type": "stream",
     "text": [
      "False False\n"
     ]
    }
   ],
   "source": [
    "print(\n",
    "    # 포함관계 파악\n",
    "    set(user_df[user_df['credit_score'].isnull()].index).issubset(\n",
    "        set(user_df[user_df['personal_rehabilitation_complete_yn'].isnull()].index)\n",
    "    )\n",
    "    ,\n",
    "    # 서로소 판단\n",
    "    set(user_df[user_df['credit_score'].isnull()].index).isdisjoint(\n",
    "        set(user_df[user_df['personal_rehabilitation_complete_yn'].isnull()].index)\n",
    "    )\n",
    ")"
   ]
  },
  {
   "cell_type": "markdown",
   "id": "55d86c95",
   "metadata": {},
   "source": [
    "171760 null(company_enter_month)"
   ]
  },
  {
   "cell_type": "code",
   "execution_count": 87,
   "id": "401251cc",
   "metadata": {
    "ExecuteTime": {
     "end_time": "2022-10-06T08:24:45.362641Z",
     "start_time": "2022-10-06T08:24:45.166273Z"
    }
   },
   "outputs": [
    {
     "name": "stdout",
     "output_type": "stream",
     "text": [
      "False False\n"
     ]
    }
   ],
   "source": [
    "print(\n",
    "    # 포함관계 파악\n",
    "    set(user_df[user_df['company_enter_month'].isnull()].index).issubset(\n",
    "        set(user_df[user_df['existing_loan_cnt'].isnull()].index)\n",
    "    )\n",
    "    ,\n",
    "    # 서로소 판단\n",
    "    set(user_df[user_df['company_enter_month'].isnull()].index).isdisjoint(\n",
    "        set(user_df[user_df['existing_loan_cnt'].isnull()].index)\n",
    "    )\n",
    ")"
   ]
  },
  {
   "cell_type": "code",
   "execution_count": 88,
   "id": "f29f1095",
   "metadata": {
    "ExecuteTime": {
     "end_time": "2022-10-06T08:24:58.800969Z",
     "start_time": "2022-10-06T08:24:58.581986Z"
    }
   },
   "outputs": [
    {
     "name": "stdout",
     "output_type": "stream",
     "text": [
      "False False\n"
     ]
    }
   ],
   "source": [
    "print(\n",
    "    # 포함관계 파악\n",
    "    set(user_df[user_df['company_enter_month'].isnull()].index).issubset(\n",
    "        set(user_df[user_df['existing_loan_amt'].isnull()].index)\n",
    "    )\n",
    "    ,\n",
    "    # 서로소 판단\n",
    "    set(user_df[user_df['company_enter_month'].isnull()].index).isdisjoint(\n",
    "        set(user_df[user_df['existing_loan_amt'].isnull()].index)\n",
    "    )\n",
    ")"
   ]
  },
  {
   "cell_type": "code",
   "execution_count": 89,
   "id": "4c93e48f",
   "metadata": {
    "ExecuteTime": {
     "end_time": "2022-10-06T08:25:17.680950Z",
     "start_time": "2022-10-06T08:25:17.388135Z"
    }
   },
   "outputs": [
    {
     "name": "stdout",
     "output_type": "stream",
     "text": [
      "False False\n"
     ]
    }
   ],
   "source": [
    "print(\n",
    "    # 포함관계 파악\n",
    "    set(user_df[user_df['company_enter_month'].isnull()].index).issubset(\n",
    "        set(user_df[user_df['personal_rehabilitation_yn'].isnull()].index)\n",
    "    )\n",
    "    ,\n",
    "    # 서로소 판단\n",
    "    set(user_df[user_df['company_enter_month'].isnull()].index).isdisjoint(\n",
    "        set(user_df[user_df['personal_rehabilitation_yn'].isnull()].index)\n",
    "    )\n",
    ")"
   ]
  },
  {
   "cell_type": "code",
   "execution_count": 90,
   "id": "9e19da2d",
   "metadata": {
    "ExecuteTime": {
     "end_time": "2022-10-06T08:25:24.920007Z",
     "start_time": "2022-10-06T08:25:24.397514Z"
    }
   },
   "outputs": [
    {
     "name": "stdout",
     "output_type": "stream",
     "text": [
      "False False\n"
     ]
    }
   ],
   "source": [
    "print(\n",
    "    # 포함관계 파악\n",
    "    set(user_df[user_df['company_enter_month'].isnull()].index).issubset(\n",
    "        set(user_df[user_df['personal_rehabilitation_complete_yn'].isnull()].index)\n",
    "    )\n",
    "    ,\n",
    "    # 서로소 판단\n",
    "    set(user_df[user_df['company_enter_month'].isnull()].index).isdisjoint(\n",
    "        set(user_df[user_df['personal_rehabilitation_complete_yn'].isnull()].index)\n",
    "    )\n",
    ")"
   ]
  },
  {
   "cell_type": "markdown",
   "id": "88019735",
   "metadata": {},
   "source": [
    "198556 null (existing_loan_cnt)"
   ]
  },
  {
   "cell_type": "code",
   "execution_count": 91,
   "id": "5563db32",
   "metadata": {
    "ExecuteTime": {
     "end_time": "2022-10-06T08:26:05.929474Z",
     "start_time": "2022-10-06T08:26:05.605508Z"
    }
   },
   "outputs": [
    {
     "name": "stdout",
     "output_type": "stream",
     "text": [
      "False False\n"
     ]
    }
   ],
   "source": [
    "print(\n",
    "    # 포함관계 파악\n",
    "    set(user_df[user_df['existing_loan_cnt'].isnull()].index).issubset(\n",
    "        set(user_df[user_df['personal_rehabilitation_yn'].isnull()].index)\n",
    "    )\n",
    "    ,\n",
    "    # 서로소 판단\n",
    "    set(user_df[user_df['existing_loan_cnt'].isnull()].index).isdisjoint(\n",
    "        set(user_df[user_df['personal_rehabilitation_yn'].isnull()].index)\n",
    "    )\n",
    ")"
   ]
  },
  {
   "cell_type": "code",
   "execution_count": 92,
   "id": "7c3cd854",
   "metadata": {
    "ExecuteTime": {
     "end_time": "2022-10-06T08:26:20.905255Z",
     "start_time": "2022-10-06T08:26:20.370686Z"
    }
   },
   "outputs": [
    {
     "name": "stdout",
     "output_type": "stream",
     "text": [
      "False False\n"
     ]
    }
   ],
   "source": [
    "print(\n",
    "    # 포함관계 파악\n",
    "    set(user_df[user_df['existing_loan_cnt'].isnull()].index).issubset(\n",
    "        set(user_df[user_df['personal_rehabilitation_complete_yn'].isnull()].index)\n",
    "    )\n",
    "    ,\n",
    "    # 서로소 판단\n",
    "    set(user_df[user_df['existing_loan_cnt'].isnull()].index).isdisjoint(\n",
    "        set(user_df[user_df['personal_rehabilitation_complete_yn'].isnull()].index)\n",
    "    )\n",
    ")"
   ]
  },
  {
   "cell_type": "markdown",
   "id": "654ec1d6",
   "metadata": {},
   "source": [
    "313774 null (existing_loan_amt)"
   ]
  },
  {
   "cell_type": "code",
   "execution_count": 94,
   "id": "7737dee4",
   "metadata": {
    "ExecuteTime": {
     "end_time": "2022-10-06T08:27:12.578106Z",
     "start_time": "2022-10-06T08:27:12.223086Z"
    }
   },
   "outputs": [
    {
     "name": "stdout",
     "output_type": "stream",
     "text": [
      "False False\n"
     ]
    }
   ],
   "source": [
    "print(\n",
    "    # 포함관계 파악\n",
    "    set(user_df[user_df['existing_loan_amt'].isnull()].index).issubset(\n",
    "        set(user_df[user_df['personal_rehabilitation_yn'].isnull()].index)\n",
    "    )\n",
    "    ,\n",
    "    # 서로소 판단\n",
    "    set(user_df[user_df['existing_loan_amt'].isnull()].index).isdisjoint(\n",
    "        set(user_df[user_df['personal_rehabilitation_yn'].isnull()].index)\n",
    "    )\n",
    ")"
   ]
  },
  {
   "cell_type": "code",
   "execution_count": 93,
   "id": "efd4668f",
   "metadata": {
    "ExecuteTime": {
     "end_time": "2022-10-06T08:27:00.749126Z",
     "start_time": "2022-10-06T08:27:00.155371Z"
    }
   },
   "outputs": [
    {
     "name": "stdout",
     "output_type": "stream",
     "text": [
      "False False\n"
     ]
    }
   ],
   "source": [
    "print(\n",
    "    # 포함관계 파악\n",
    "    set(user_df[user_df['existing_loan_amt'].isnull()].index).issubset(\n",
    "        set(user_df[user_df['personal_rehabilitation_complete_yn'].isnull()].index)\n",
    "    )\n",
    "    ,\n",
    "    # 서로소 판단\n",
    "    set(user_df[user_df['existing_loan_amt'].isnull()].index).isdisjoint(\n",
    "        set(user_df[user_df['personal_rehabilitation_complete_yn'].isnull()].index)\n",
    "    )\n",
    ")"
   ]
  },
  {
   "cell_type": "code",
   "execution_count": null,
   "id": "f37f9c8a",
   "metadata": {},
   "outputs": [],
   "source": []
  },
  {
   "cell_type": "code",
   "execution_count": null,
   "id": "38df45ad",
   "metadata": {},
   "outputs": [],
   "source": []
  },
  {
   "cell_type": "markdown",
   "id": "0165e298",
   "metadata": {},
   "source": [
    "## loan_result"
   ]
  },
  {
   "cell_type": "code",
   "execution_count": 98,
   "id": "44657f20",
   "metadata": {
    "ExecuteTime": {
     "end_time": "2022-10-06T08:32:00.832283Z",
     "start_time": "2022-10-06T08:31:59.916904Z"
    }
   },
   "outputs": [
    {
     "name": "stdout",
     "output_type": "stream",
     "text": [
      "4-0 (7495, 'loan_limit') (7495, 'loan_rate')\n",
      "4-1 (7495, 'loan_limit') (3257239, 'is_applied')\n",
      "5-0 (7495, 'loan_rate') (3257239, 'is_applied')\n"
     ]
    }
   ],
   "source": [
    "# 분석할 항목\n",
    "a=sorted(list(zip(list(loan_df.isnull().sum()), loan_df.isnull().sum().index)))\n",
    "for i,v in enumerate(a):\n",
    "    if v[0]==0:\n",
    "        continue\n",
    "    for j,v2 in enumerate(a[i+1:]):\n",
    "        print(f'{i}-{j}', v, v2)"
   ]
  },
  {
   "cell_type": "markdown",
   "id": "b2500ff2",
   "metadata": {},
   "source": [
    "### null 수가 같은 경우, 같은 개체일까?"
   ]
  },
  {
   "cell_type": "markdown",
   "id": "44ad82d7",
   "metadata": {},
   "source": [
    "loan_limit == loan_rate"
   ]
  },
  {
   "cell_type": "code",
   "execution_count": 99,
   "id": "ee5c40f5",
   "metadata": {
    "ExecuteTime": {
     "end_time": "2022-10-06T08:33:17.118480Z",
     "start_time": "2022-10-06T08:33:17.050047Z"
    }
   },
   "outputs": [
    {
     "data": {
      "text/plain": [
       "True"
      ]
     },
     "execution_count": 99,
     "metadata": {},
     "output_type": "execute_result"
    }
   ],
   "source": [
    "set(loan_df[loan_df['loan_limit'].isnull()].index) == set(loan_df[loan_df['loan_rate'].isnull()].index)"
   ]
  },
  {
   "cell_type": "markdown",
   "id": "dac26523",
   "metadata": {},
   "source": [
    "### null 수가 다르다면, 포함관계일까?"
   ]
  },
  {
   "cell_type": "code",
   "execution_count": 100,
   "id": "47a6cef1",
   "metadata": {
    "ExecuteTime": {
     "end_time": "2022-10-06T08:34:34.938830Z",
     "start_time": "2022-10-06T08:34:33.099563Z"
    }
   },
   "outputs": [
    {
     "name": "stdout",
     "output_type": "stream",
     "text": [
      "False False\n"
     ]
    }
   ],
   "source": [
    "print(\n",
    "    # 포함관계 파악\n",
    "    set(loan_df[loan_df['loan_limit'].isnull()].index).issubset(\n",
    "        set(loan_df[loan_df['is_applied'].isnull()].index)\n",
    "    )\n",
    "    ,\n",
    "    # 서로소 판단\n",
    "    set(loan_df[loan_df['loan_limit'].isnull()].index).isdisjoint(\n",
    "        set(loan_df[loan_df['is_applied'].isnull()].index)\n",
    "    )\n",
    ")"
   ]
  },
  {
   "cell_type": "markdown",
   "id": "3cd9ca6e",
   "metadata": {},
   "source": [
    "## log_data"
   ]
  },
  {
   "cell_type": "markdown",
   "id": "927abf7c",
   "metadata": {},
   "source": [
    "### null 수가 다르다면, 포함관계일까?\n"
   ]
  },
  {
   "cell_type": "markdown",
   "id": "98d43c48",
   "metadata": {},
   "source": [
    "mp_os ⊂ mp_app_version"
   ]
  },
  {
   "cell_type": "code",
   "execution_count": 102,
   "id": "342735aa",
   "metadata": {
    "ExecuteTime": {
     "end_time": "2022-10-06T08:36:25.676909Z",
     "start_time": "2022-10-06T08:36:23.654844Z"
    }
   },
   "outputs": [
    {
     "name": "stdout",
     "output_type": "stream",
     "text": [
      "True False\n"
     ]
    }
   ],
   "source": [
    "print(\n",
    "    # 포함관계 파악\n",
    "    set(log_df[log_df['mp_os'].isnull()].index).issubset(\n",
    "        set(log_df[log_df['mp_app_version'].isnull()].index)\n",
    "    )\n",
    "    ,\n",
    "    # 서로소 판단\n",
    "    set(log_df[log_df['mp_os'].isnull()].index).isdisjoint(\n",
    "        set(log_df[log_df['mp_app_version'].isnull()].index)\n",
    "    )\n",
    ")"
   ]
  },
  {
   "cell_type": "code",
   "execution_count": null,
   "id": "12c89c08",
   "metadata": {},
   "outputs": [],
   "source": []
  }
 ],
 "metadata": {
  "kernelspec": {
   "display_name": "Python 3 (ipykernel)",
   "language": "python",
   "name": "python3"
  },
  "language_info": {
   "codemirror_mode": {
    "name": "ipython",
    "version": 3
   },
   "file_extension": ".py",
   "mimetype": "text/x-python",
   "name": "python",
   "nbconvert_exporter": "python",
   "pygments_lexer": "ipython3",
   "version": "3.8.10"
  },
  "toc": {
   "base_numbering": 1,
   "nav_menu": {},
   "number_sections": true,
   "sideBar": true,
   "skip_h1_title": false,
   "title_cell": "Table of Contents",
   "title_sidebar": "Contents",
   "toc_cell": false,
   "toc_position": {},
   "toc_section_display": true,
   "toc_window_display": false
  },
  "varInspector": {
   "cols": {
    "lenName": 16,
    "lenType": 16,
    "lenVar": 40
   },
   "kernels_config": {
    "python": {
     "delete_cmd_postfix": "",
     "delete_cmd_prefix": "del ",
     "library": "var_list.py",
     "varRefreshCmd": "print(var_dic_list())"
    },
    "r": {
     "delete_cmd_postfix": ") ",
     "delete_cmd_prefix": "rm(",
     "library": "var_list.r",
     "varRefreshCmd": "cat(var_dic_list()) "
    }
   },
   "types_to_exclude": [
    "module",
    "function",
    "builtin_function_or_method",
    "instance",
    "_Feature"
   ],
   "window_display": false
  }
 },
 "nbformat": 4,
 "nbformat_minor": 5
}
