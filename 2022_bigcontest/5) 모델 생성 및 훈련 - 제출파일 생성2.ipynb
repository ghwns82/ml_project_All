{
 "cells": [
  {
   "cell_type": "code",
   "execution_count": 1,
   "id": "22e53ced",
   "metadata": {
    "ExecuteTime": {
     "end_time": "2022-10-14T01:13:26.783162Z",
     "start_time": "2022-10-14T01:13:22.451949Z"
    }
   },
   "outputs": [],
   "source": [
    "import pandas as pd\n",
    "import numpy as np\n",
    "import os\n",
    "import random\n",
    "from copy import deepcopy\n",
    "import math\n",
    "from itertools import product\n",
    "import pickle\n",
    "\n",
    "import joblib\n",
    "from tqdm import tqdm\n",
    "\n",
    "import matplotlib.pyplot as plt\n",
    "import seaborn as sb\n",
    "\n",
    "from sklearn.ensemble import RandomForestClassifier\n",
    "from sklearn.model_selection import train_test_split\n",
    "from sklearn.metrics import f1_score, confusion_matrix, ConfusionMatrixDisplay\n",
    "from supervised.automl import AutoML"
   ]
  },
  {
   "cell_type": "markdown",
   "id": "f0323da4",
   "metadata": {},
   "source": [
    "# 데이터 분리"
   ]
  },
  {
   "cell_type": "code",
   "execution_count": 2,
   "id": "ea2ef3db",
   "metadata": {
    "ExecuteTime": {
     "end_time": "2022-10-14T01:14:22.464326Z",
     "start_time": "2022-10-14T01:13:39.063532Z"
    }
   },
   "outputs": [],
   "source": [
    "df=pd.read_csv('./valiData/merged_5_0.csv',index_col=0)"
   ]
  },
  {
   "cell_type": "code",
   "execution_count": 3,
   "id": "b703c95f",
   "metadata": {
    "ExecuteTime": {
     "end_time": "2022-10-14T01:14:28.772796Z",
     "start_time": "2022-10-14T01:14:25.593567Z"
    }
   },
   "outputs": [],
   "source": [
    "df.drop(['application_id', 'user_id','insert_time',\n",
    "               'loanapply_insert_time', 'bank_id', 'product_id',\n",
    "               ], axis=1, inplace=True)"
   ]
  },
  {
   "cell_type": "code",
   "execution_count": 4,
   "id": "52361cf1",
   "metadata": {
    "ExecuteTime": {
     "end_time": "2022-10-14T01:14:39.868389Z",
     "start_time": "2022-10-14T01:14:32.260081Z"
    }
   },
   "outputs": [],
   "source": [
    "model1_train_X = df[(df['is_applied'].isnull()==False)&((df['credit_score'].isnull()==False))].loc[:, df.columns !='is_applied']\n",
    "model1_train_y = df[(df['is_applied'].isnull()==False)&((df['credit_score'].isnull()==False))]['is_applied']\n",
    "model2_train_X = df[(df['is_applied'].isnull()==False)&((df['credit_score'].isnull()==True))].loc[:, df.columns !='is_applied']\n",
    "model2_train_X.drop(['credit_score'], axis=1,inplace=True)\n",
    "model2_train_y = df[(df['is_applied'].isnull()==False)&((df['credit_score'].isnull()==True))]['is_applied']\n",
    "\n",
    "model1_target= df[(df['is_applied'].isnull()==True)&((df['credit_score'].isnull()==False))].loc[:, df.columns !='is_applied']\n",
    "model2_target= df[(df['is_applied'].isnull()==True)&((df['credit_score'].isnull()==True))].loc[:, df.columns !='is_applied']\n",
    "model2_target.drop(['credit_score'], axis=1,inplace=True)"
   ]
  },
  {
   "cell_type": "code",
   "execution_count": 5,
   "id": "bd74420b",
   "metadata": {
    "ExecuteTime": {
     "end_time": "2022-10-14T01:14:46.214724Z",
     "start_time": "2022-10-14T01:14:45.312329Z"
    }
   },
   "outputs": [],
   "source": [
    "model1_train_X = model1_train_X.sample(20_0000, random_state=42)\n",
    "model1_train_y = model1_train_y.sample(20_0000, random_state=42)\n",
    "model2_train_X = model2_train_X.sample(10_0000, random_state=42)\n",
    "model2_train_y = model2_train_y.sample(10_0000, random_state=42)"
   ]
  },
  {
   "cell_type": "code",
   "execution_count": 6,
   "id": "29a0b728",
   "metadata": {
    "ExecuteTime": {
     "end_time": "2022-10-14T01:14:49.958341Z",
     "start_time": "2022-10-14T01:14:49.952109Z"
    }
   },
   "outputs": [
    {
     "data": {
      "text/plain": [
       "((200000, 30), (200000,))"
      ]
     },
     "execution_count": 6,
     "metadata": {},
     "output_type": "execute_result"
    }
   ],
   "source": [
    "model1_train_X.shape, model1_train_y.shape"
   ]
  },
  {
   "cell_type": "code",
   "execution_count": 7,
   "id": "d2eac33a",
   "metadata": {
    "ExecuteTime": {
     "end_time": "2022-10-14T01:14:53.538943Z",
     "start_time": "2022-10-14T01:14:53.535294Z"
    }
   },
   "outputs": [
    {
     "data": {
      "text/plain": [
       "((100000, 29), (100000,))"
      ]
     },
     "execution_count": 7,
     "metadata": {},
     "output_type": "execute_result"
    }
   ],
   "source": [
    "model2_train_X.shape, model2_train_y.shape"
   ]
  },
  {
   "cell_type": "code",
   "execution_count": 8,
   "id": "60cd1ad7",
   "metadata": {
    "ExecuteTime": {
     "end_time": "2022-10-14T01:14:57.190813Z",
     "start_time": "2022-10-14T01:14:57.187643Z"
    }
   },
   "outputs": [
    {
     "data": {
      "text/plain": [
       "((3000756, 30), (256483, 29))"
      ]
     },
     "execution_count": 8,
     "metadata": {},
     "output_type": "execute_result"
    }
   ],
   "source": [
    "model1_target.shape, model2_target.shape, "
   ]
  },
  {
   "cell_type": "code",
   "execution_count": 9,
   "id": "e1431873",
   "metadata": {
    "ExecuteTime": {
     "end_time": "2022-10-14T02:16:26.852775Z",
     "start_time": "2022-10-14T01:15:01.044466Z"
    },
    "scrolled": true
   },
   "outputs": [
    {
     "name": "stdout",
     "output_type": "stream",
     "text": [
      "Linear algorithm was disabled.\n",
      "AutoML directory: AutoML_7\n",
      "The task is binary_classification with evaluation metric logloss\n",
      "AutoML will use algorithms: ['Decision Tree', 'Random Forest', 'Extra Trees', 'LightGBM', 'Xgboost', 'CatBoost', 'Neural Network', 'Nearest Neighbors']\n",
      "AutoML will stack models\n",
      "AutoML will ensemble available models\n",
      "AutoML steps: ['adjust_validation', 'simple_algorithms', 'default_algorithms', 'not_so_random', 'golden_features', 'kmeans_features', 'insert_random_feature', 'features_selection', 'hill_climbing_1', 'hill_climbing_2', 'boost_on_errors', 'ensemble', 'stack', 'ensemble_stacked']\n",
      "* Step adjust_validation will try to check up to 1 model\n",
      "1_DecisionTree logloss 0.189277 trained in 3.04 seconds\n",
      "Adjust validation. Remove: 1_DecisionTree\n",
      "Validation strategy: 10-fold CV Shuffle,Stratify\n",
      "* Step simple_algorithms will try to check up to 3 models\n",
      "1_DecisionTree logloss 0.191747 trained in 27.57 seconds\n",
      "2_DecisionTree logloss 0.186139 trained in 28.53 seconds\n",
      "3_DecisionTree logloss 0.186205 trained in 28.64 seconds\n",
      "* Step default_algorithms will try to check up to 6 models\n",
      "4_Default_LightGBM logloss 0.164576 trained in 43.89 seconds\n",
      "5_Default_Xgboost logloss 0.164445 trained in 72.23 seconds\n",
      "6_Default_CatBoost logloss 0.164599 trained in 61.71 seconds\n",
      "7_Default_NeuralNetwork logloss 0.182791 trained in 413.45 seconds\n",
      "8_Default_RandomForest logloss 0.183364 trained in 197.48 seconds\n",
      "* Step not_so_random will try to check up to 54 models\n",
      "18_LightGBM logloss 0.164564 trained in 54.73 seconds\n",
      "9_Xgboost logloss 0.164669 trained in 68.01 seconds\n",
      "27_CatBoost logloss 0.164109 trained in 133.18 seconds\n",
      "36_RandomForest logloss 0.183005 trained in 128.78 seconds\n",
      "45_ExtraTrees logloss 0.194841 trained in 84.24 seconds\n",
      "54_NeuralNetwork logloss 0.182887 trained in 375.65 seconds\n",
      "19_LightGBM logloss 0.168295 trained in 36.44 seconds\n",
      "10_Xgboost logloss 0.165176 trained in 71.28 seconds\n",
      "* Step golden_features will try to check up to 3 models\n",
      "None 10\n",
      "Add Golden Feature: credit_score_diff_ratio_LD\n",
      "Add Golden Feature: ratio_DY_sum_credit_score\n",
      "Add Golden Feature: income_type_EARNEDINCOME2_sum_credit_score\n",
      "Add Golden Feature: credit_score_diff_houseown_type_전월세\n",
      "Add Golden Feature: employment_type_정규직_ratio_credit_score\n",
      "Add Golden Feature: credit_score_diff_employment_type_정규직\n",
      "Add Golden Feature: houseown_type_자가_sum_credit_score\n",
      "Add Golden Feature: income_type_EARNEDINCOME_multiply_credit_score\n",
      "Add Golden Feature: credit_score_ratio_income_type_EARNEDINCOME\n",
      "Add Golden Feature: credit_score_diff_income_type_EARNEDINCOME\n",
      "Created 10 Golden Features in 11.51 seconds.\n",
      "27_CatBoost_GoldenFeatures logloss 0.164331 trained in 202.64 seconds\n",
      "* Step kmeans_features will try to check up to 3 models\n",
      "27_CatBoost_KMeansFeatures logloss 0.164359 trained in 410.01 seconds\n",
      "Not enough time to perform features selection. Skip\n",
      "Time needed for features selection ~ 613.0 seconds\n",
      "Please increase total_time_limit to at least (6189 seconds) to have features selection\n",
      "Skip insert_random_feature because no parameters were generated.\n",
      "Skip features_selection because no parameters were generated.\n",
      "* Step hill_climbing_1 will try to check up to 26 models\n",
      "55_CatBoost logloss 0.163986 trained in 105.39 seconds\n",
      "56_CatBoost logloss 0.16411 trained in 248.78 seconds\n",
      "* Step hill_climbing_2 will try to check up to 18 models\n",
      "57_CatBoost logloss 0.164266 trained in 111.25 seconds\n",
      "* Step boost_on_errors will try to check up to 1 model\n",
      "55_CatBoost_BoostOnErrors logloss 0.164241 trained in 110.54 seconds\n",
      "* Step ensemble will try to check up to 1 model\n",
      "Ensemble logloss 0.163038 trained in 37.9 seconds\n",
      "* Step stack will try to check up to 18 models\n",
      "55_CatBoost_Stacked logloss 0.163199 trained in 89.73 seconds\n",
      "5_Default_Xgboost_Stacked logloss 0.163262 trained in 110.03 seconds\n",
      "18_LightGBM_Stacked logloss 0.163047 trained in 108.83 seconds\n",
      "7_Default_NeuralNetwork_Stacked not trained. Stop training after the first fold. Time needed to train on the first fold 68.0 seconds. The time estimate for training on all folds is larger than total_time_limit.\n",
      "36_RandomForest_Stacked not trained. Stop training after the first fold. Time needed to train on the first fold 20.0 seconds. The time estimate for training on all folds is larger than total_time_limit.\n",
      "45_ExtraTrees_Stacked not trained. Stop training after the first fold. Time needed to train on the first fold 24.0 seconds. The time estimate for training on all folds is larger than total_time_limit.\n",
      "27_CatBoost_Stacked logloss 0.163349 trained in 110.65 seconds\n",
      "* Step ensemble_stacked will try to check up to 1 model\n",
      "Ensemble_Stacked logloss 0.162849 trained in 44.99 seconds\n",
      "AutoML fit time: 3685.8 seconds\n",
      "AutoML best model: Ensemble_Stacked\n"
     ]
    },
    {
     "data": {
      "text/plain": [
       "AutoML(mode='Compete')"
      ]
     },
     "execution_count": 9,
     "metadata": {},
     "output_type": "execute_result"
    }
   ],
   "source": [
    "model1 = AutoML(mode='Compete')\n",
    "model1.fit(model1_train_X, model1_train_y)"
   ]
  },
  {
   "cell_type": "code",
   "execution_count": 10,
   "id": "ec423a4c",
   "metadata": {
    "ExecuteTime": {
     "end_time": "2022-10-14T03:47:18.868308Z",
     "start_time": "2022-10-14T02:16:32.112004Z"
    }
   },
   "outputs": [],
   "source": [
    "model1_target['predict']=model1.predict(model1_target)"
   ]
  },
  {
   "cell_type": "code",
   "execution_count": 11,
   "id": "a8ca8669",
   "metadata": {
    "ExecuteTime": {
     "end_time": "2022-10-14T04:50:31.762797Z",
     "start_time": "2022-10-14T03:47:23.583694Z"
    },
    "scrolled": true
   },
   "outputs": [
    {
     "name": "stdout",
     "output_type": "stream",
     "text": [
      "Linear algorithm was disabled.\n",
      "AutoML directory: AutoML_8\n",
      "The task is binary_classification with evaluation metric logloss\n",
      "AutoML will use algorithms: ['Decision Tree', 'Random Forest', 'Extra Trees', 'LightGBM', 'Xgboost', 'CatBoost', 'Neural Network', 'Nearest Neighbors']\n",
      "AutoML will stack models\n",
      "AutoML will ensemble available models\n",
      "AutoML steps: ['adjust_validation', 'simple_algorithms', 'default_algorithms', 'not_so_random', 'golden_features', 'kmeans_features', 'insert_random_feature', 'features_selection', 'hill_climbing_1', 'hill_climbing_2', 'boost_on_errors', 'ensemble', 'stack', 'ensemble_stacked']\n",
      "* Step adjust_validation will try to check up to 1 model\n",
      "1_DecisionTree logloss 0.147806 trained in 2.2 seconds\n",
      "Adjust validation. Remove: 1_DecisionTree\n",
      "Validation strategy: 10-fold CV Shuffle,Stratify\n",
      "* Step simple_algorithms will try to check up to 3 models\n",
      "1_DecisionTree logloss 0.149258 trained in 16.6 seconds\n",
      "2_DecisionTree logloss 0.145451 trained in 16.47 seconds\n",
      "3_DecisionTree logloss 0.145451 trained in 16.49 seconds\n",
      "* Step default_algorithms will try to check up to 7 models\n",
      "4_Default_LightGBM logloss 0.131571 trained in 23.62 seconds\n",
      "5_Default_Xgboost logloss 0.131284 trained in 38.24 seconds\n",
      "6_Default_CatBoost logloss 0.131752 trained in 34.93 seconds\n",
      "7_Default_NeuralNetwork logloss 0.146671 trained in 141.63 seconds\n",
      "8_Default_RandomForest logloss 0.141644 trained in 74.36 seconds\n",
      "9_Default_ExtraTrees logloss 0.148703 trained in 77.09 seconds\n",
      "10_Default_NearestNeighbors logloss 0.430962 trained in 29.21 seconds\n",
      "* Step not_so_random will try to check up to 61 models\n",
      "20_LightGBM logloss 0.131059 trained in 25.84 seconds\n",
      "11_Xgboost logloss 0.131842 trained in 36.18 seconds\n",
      "29_CatBoost logloss 0.13141 trained in 73.49 seconds\n",
      "38_RandomForest logloss 0.141185 trained in 63.85 seconds\n",
      "47_ExtraTrees logloss 0.149711 trained in 45.9 seconds\n",
      "56_NeuralNetwork logloss 0.145761 trained in 147.69 seconds\n",
      "65_NearestNeighbors logloss 0.398324 trained in 37.53 seconds\n",
      "21_LightGBM logloss 0.135802 trained in 19.87 seconds\n",
      "12_Xgboost logloss 0.132225 trained in 31.65 seconds\n",
      "30_CatBoost logloss 0.131965 trained in 40.23 seconds\n",
      "39_RandomForest logloss 0.135674 trained in 116.13 seconds\n",
      "48_ExtraTrees logloss 0.144701 trained in 67.6 seconds\n",
      "57_NeuralNetwork logloss 0.140953 trained in 440.79 seconds\n",
      "66_NearestNeighbors logloss 0.398772 trained in 38.08 seconds\n",
      "22_LightGBM logloss 0.131566 trained in 26.94 seconds\n",
      "13_Xgboost logloss 0.131073 trained in 39.31 seconds\n",
      "31_CatBoost logloss 0.131911 trained in 38.54 seconds\n",
      "40_RandomForest logloss 0.144683 trained in 67.89 seconds\n",
      "* Step golden_features will try to check up to 3 models\n",
      "None 10\n",
      "Add Golden Feature: age_multiply_ratio_LD\n",
      "Add Golden Feature: income_type_EARNEDINCOME_ratio_ratio_DY\n",
      "Add Golden Feature: loan_limit_ratio_ratio_LD\n",
      "Add Golden Feature: employment_type_정규직_ratio_loan_rate\n",
      "Add Golden Feature: loan_rate_diff_purpose_생활비\n",
      "Add Golden Feature: desired_amount_ratio_loan_limit\n",
      "Add Golden Feature: ratio_DY_ratio_ratio_LY\n",
      "Add Golden Feature: income_type_EARNEDINCOME_ratio_loan_rate\n",
      "Add Golden Feature: desired_amount_ratio_income_type_EARNEDINCOME\n",
      "Add Golden Feature: income_type_EARNEDINCOME_multiply_desired_amount\n",
      "Created 10 Golden Features in 15.77 seconds.\n",
      "20_LightGBM_GoldenFeatures logloss 0.131185 trained in 46.9 seconds\n",
      "13_Xgboost_GoldenFeatures logloss 0.131623 trained in 40.98 seconds\n",
      "* Step kmeans_features will try to check up to 3 models\n",
      "20_LightGBM_KMeansFeatures logloss 0.131654 trained in 42.66 seconds\n",
      "13_Xgboost_KMeansFeatures logloss 0.131781 trained in 51.42 seconds\n",
      "5_Default_Xgboost_KMeansFeatures logloss 0.131707 trained in 56.73 seconds\n",
      "Not enough time to perform features selection. Skip\n",
      "Time needed for features selection ~ 502.0 seconds\n",
      "Please increase total_time_limit to at least (5079 seconds) to have features selection\n",
      "Skip insert_random_feature because no parameters were generated.\n",
      "Skip features_selection because no parameters were generated.\n",
      "* Step hill_climbing_1 will try to check up to 30 models\n",
      "67_LightGBM logloss 0.131059 trained in 29.16 seconds\n",
      "68_Xgboost logloss 0.131174 trained in 37.9 seconds\n",
      "69_Xgboost logloss 0.13113 trained in 41.11 seconds\n",
      "70_LightGBM_GoldenFeatures logloss 0.131185 trained in 31.45 seconds\n",
      "71_Xgboost logloss 0.130989 trained in 69.89 seconds\n",
      "72_CatBoost logloss 0.131495 trained in 111.55 seconds\n",
      "73_CatBoost logloss 0.131962 trained in 50.61 seconds\n",
      "74_LightGBM logloss 0.131566 trained in 28.41 seconds\n",
      "75_Xgboost_GoldenFeatures logloss 0.131498 trained in 42.02 seconds\n",
      "76_Xgboost_GoldenFeatures logloss 0.131477 trained in 46.54 seconds\n",
      "77_CatBoost logloss 0.131639 trained in 54.05 seconds\n",
      "* Step hill_climbing_2 will try to check up to 34 models\n",
      "78_Xgboost logloss 0.130866 trained in 50.77 seconds\n",
      "79_Xgboost logloss 0.131101 trained in 42.49 seconds\n",
      "80_LightGBM logloss 0.131364 trained in 27.75 seconds\n",
      "81_LightGBM logloss 0.131364 trained in 26.97 seconds\n",
      "82_Xgboost logloss 0.130966 trained in 44.26 seconds\n",
      "83_Xgboost logloss 0.131075 trained in 42.91 seconds\n",
      "84_Xgboost logloss 0.131066 trained in 51.4 seconds\n",
      "* Step boost_on_errors will try to check up to 1 model\n",
      "78_Xgboost_BoostOnErrors logloss 0.131002 trained in 50.19 seconds\n",
      "* Step ensemble will try to check up to 1 model\n",
      "Ensemble logloss 0.129889 trained in 52.27 seconds\n",
      "* Step stack will try to check up to 36 models\n",
      "78_Xgboost_Stacked logloss 0.130719 trained in 47.6 seconds\n",
      "67_LightGBM_Stacked logloss 0.130487 trained in 33.03 seconds\n",
      "29_CatBoost_Stacked logloss 0.130299 trained in 122.66 seconds\n",
      "39_RandomForest_Stacked logloss 0.130288 trained in 437.91 seconds\n",
      "* Step ensemble_stacked will try to check up to 1 model\n",
      "Ensemble_Stacked logloss 0.129855 trained in 60.51 seconds\n",
      "AutoML fit time: 3788.16 seconds\n",
      "AutoML best model: Ensemble_Stacked\n"
     ]
    },
    {
     "data": {
      "text/plain": [
       "AutoML(mode='Compete')"
      ]
     },
     "execution_count": 11,
     "metadata": {},
     "output_type": "execute_result"
    }
   ],
   "source": [
    "model2 = AutoML(mode='Compete')\n",
    "model2.fit(model2_train_X, model2_train_y)"
   ]
  },
  {
   "cell_type": "code",
   "execution_count": 12,
   "id": "41aa78f8",
   "metadata": {
    "ExecuteTime": {
     "end_time": "2022-10-14T05:05:32.183101Z",
     "start_time": "2022-10-14T04:50:36.751150Z"
    }
   },
   "outputs": [],
   "source": [
    "model2_target['predict']=model2.predict(model2_target)"
   ]
  },
  {
   "cell_type": "code",
   "execution_count": 13,
   "id": "3a6b216e",
   "metadata": {
    "ExecuteTime": {
     "end_time": "2022-10-14T05:06:04.112833Z",
     "start_time": "2022-10-14T05:05:36.906644Z"
    }
   },
   "outputs": [],
   "source": [
    "pd.concat([model1_target, model2_target]).to_csv('./result/predict_result2.csv')"
   ]
  },
  {
   "cell_type": "code",
   "execution_count": null,
   "id": "5483de8d",
   "metadata": {},
   "outputs": [],
   "source": []
  },
  {
   "cell_type": "code",
   "execution_count": null,
   "id": "b79de6cd",
   "metadata": {},
   "outputs": [],
   "source": []
  },
  {
   "cell_type": "code",
   "execution_count": null,
   "id": "ecbf77a4",
   "metadata": {},
   "outputs": [],
   "source": []
  }
 ],
 "metadata": {
  "kernelspec": {
   "display_name": "Python 3 (ipykernel)",
   "language": "python",
   "name": "python3"
  },
  "language_info": {
   "codemirror_mode": {
    "name": "ipython",
    "version": 3
   },
   "file_extension": ".py",
   "mimetype": "text/x-python",
   "name": "python",
   "nbconvert_exporter": "python",
   "pygments_lexer": "ipython3",
   "version": "3.8.10"
  },
  "toc": {
   "base_numbering": 1,
   "nav_menu": {},
   "number_sections": true,
   "sideBar": true,
   "skip_h1_title": false,
   "title_cell": "Table of Contents",
   "title_sidebar": "Contents",
   "toc_cell": false,
   "toc_position": {},
   "toc_section_display": true,
   "toc_window_display": false
  },
  "varInspector": {
   "cols": {
    "lenName": 16,
    "lenType": 16,
    "lenVar": 40
   },
   "kernels_config": {
    "python": {
     "delete_cmd_postfix": "",
     "delete_cmd_prefix": "del ",
     "library": "var_list.py",
     "varRefreshCmd": "print(var_dic_list())"
    },
    "r": {
     "delete_cmd_postfix": ") ",
     "delete_cmd_prefix": "rm(",
     "library": "var_list.r",
     "varRefreshCmd": "cat(var_dic_list()) "
    }
   },
   "types_to_exclude": [
    "module",
    "function",
    "builtin_function_or_method",
    "instance",
    "_Feature"
   ],
   "window_display": false
  }
 },
 "nbformat": 4,
 "nbformat_minor": 5
}
