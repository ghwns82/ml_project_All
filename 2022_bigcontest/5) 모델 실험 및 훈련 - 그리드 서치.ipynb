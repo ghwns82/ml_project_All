{
 "cells": [
  {
   "cell_type": "code",
   "execution_count": 33,
   "id": "fea67f54",
   "metadata": {
    "ExecuteTime": {
     "end_time": "2022-10-10T05:09:48.874978Z",
     "start_time": "2022-10-10T05:09:48.870596Z"
    }
   },
   "outputs": [],
   "source": [
    "import pandas as pd\n",
    "import numpy as np\n",
    "import os\n",
    "import random\n",
    "from copy import deepcopy\n",
    "import math\n",
    "from itertools import product\n",
    "import pickle\n",
    "import joblib\n",
    "\n",
    "import matplotlib.pyplot as plt\n",
    "import seaborn as sb\n",
    "\n",
    "from sklearn.ensemble import RandomForestClassifier\n",
    "from sklearn.model_selection import train_test_split\n",
    "from sklearn.metrics import f1_score, confusion_matrix, ConfusionMatrixDisplay"
   ]
  },
  {
   "cell_type": "code",
   "execution_count": 23,
   "id": "15ee6d0d",
   "metadata": {
    "ExecuteTime": {
     "end_time": "2022-10-10T05:02:57.819232Z",
     "start_time": "2022-10-10T05:02:47.602588Z"
    }
   },
   "outputs": [],
   "source": [
    "# user_df = pd.read_csv('./data/user_spec.csv')\n",
    "loan_df = pd.read_csv('./data/loan_result.csv')\n",
    "# log_df = pd.read_csv('./data/log_data.csv' )"
   ]
  },
  {
   "cell_type": "code",
   "execution_count": 40,
   "id": "40c875e2",
   "metadata": {
    "ExecuteTime": {
     "end_time": "2022-10-10T05:18:17.774896Z",
     "start_time": "2022-10-10T05:18:17.768267Z"
    }
   },
   "outputs": [
    {
     "data": {
      "text/plain": [
       "[672, 668, 254, 413, 923]"
      ]
     },
     "execution_count": 40,
     "metadata": {},
     "output_type": "execute_result"
    }
   ],
   "source": [
    "random_list = [ random.randint(1,1000) for i in range(5)]\n",
    "random_list"
   ]
  },
  {
   "cell_type": "markdown",
   "id": "20582529",
   "metadata": {},
   "source": [
    "# loan_df 전처리"
   ]
  },
  {
   "cell_type": "code",
   "execution_count": 24,
   "id": "0c4afd16",
   "metadata": {
    "ExecuteTime": {
     "end_time": "2022-10-10T05:02:57.828220Z",
     "start_time": "2022-10-10T05:02:57.821566Z"
    }
   },
   "outputs": [
    {
     "data": {
      "text/plain": [
       "(13527363, 7)"
      ]
     },
     "execution_count": 24,
     "metadata": {},
     "output_type": "execute_result"
    }
   ],
   "source": [
    "loan_df.shape"
   ]
  },
  {
   "cell_type": "code",
   "execution_count": 25,
   "id": "de15c2fb",
   "metadata": {
    "ExecuteTime": {
     "end_time": "2022-10-10T05:02:58.037252Z",
     "start_time": "2022-10-10T05:02:57.832287Z"
    }
   },
   "outputs": [
    {
     "data": {
      "text/plain": [
       "Int64Index([   13284,    13285,    13286,    13287,    13288,    13289,\n",
       "               13290,    13291,    13292,    13293,\n",
       "            ...\n",
       "            13519629, 13519630, 13519631, 13519632, 13519633, 13519634,\n",
       "            13519635, 13519636, 13519637, 13519638],\n",
       "           dtype='int64', length=10270124)"
      ]
     },
     "execution_count": 25,
     "metadata": {},
     "output_type": "execute_result"
    }
   ],
   "source": [
    "loan_df['is_applied'].dropna(axis=0).index"
   ]
  },
  {
   "cell_type": "code",
   "execution_count": 26,
   "id": "be533669",
   "metadata": {
    "ExecuteTime": {
     "end_time": "2022-10-10T05:03:00.882316Z",
     "start_time": "2022-10-10T05:02:58.039958Z"
    }
   },
   "outputs": [],
   "source": [
    "loan_df = loan_df.loc[loan_df['is_applied'].dropna(axis=0).index]\n",
    "loan_df.drop(['loanapply_insert_time'], axis=1, inplace=True)"
   ]
  },
  {
   "cell_type": "code",
   "execution_count": 41,
   "id": "1b8b1c06",
   "metadata": {
    "ExecuteTime": {
     "end_time": "2022-10-10T05:18:18.707194Z",
     "start_time": "2022-10-10T05:18:18.702326Z"
    }
   },
   "outputs": [],
   "source": [
    "for mypath in ['./mydata','./model','./visual','./perf']:\n",
    "    if not os.path.isdir(mypath):\n",
    "        os.mkdir(mypath)"
   ]
  },
  {
   "cell_type": "code",
   "execution_count": 56,
   "id": "b8cafadd",
   "metadata": {
    "ExecuteTime": {
     "end_time": "2022-10-10T05:27:37.958244Z",
     "start_time": "2022-10-10T05:27:35.629695Z"
    }
   },
   "outputs": [
    {
     "data": {
      "text/plain": [
       "(9709675, 560449)"
      ]
     },
     "execution_count": 56,
     "metadata": {},
     "output_type": "execute_result"
    }
   ],
   "source": [
    "sum(tmp['is_applied']==0), sum(tmp['is_applied']==1)"
   ]
  },
  {
   "cell_type": "markdown",
   "id": "77e45ffd",
   "metadata": {},
   "source": [
    "# null 값 채우기"
   ]
  },
  {
   "cell_type": "markdown",
   "id": "3255d883",
   "metadata": {},
   "source": [
    "## zero fill"
   ]
  },
  {
   "cell_type": "code",
   "execution_count": 68,
   "id": "fbc0e962",
   "metadata": {
    "ExecuteTime": {
     "end_time": "2022-10-10T05:37:49.600189Z",
     "start_time": "2022-10-10T05:34:01.390505Z"
    }
   },
   "outputs": [
    {
     "name": "stdout",
     "output_type": "stream",
     "text": [
      "1 done\n",
      "2 done\n",
      "3 done\n",
      "4 done\n",
      "5 done\n"
     ]
    }
   ],
   "source": [
    "acc_list=[]\n",
    "f1_list=[]\n",
    "confusion_list=[]\n",
    "\n",
    "tmp = loan_df.fillna(0)\n",
    "for i, state in enumerate(random_list,1):\n",
    "    data_set = pd.concat([tmp[tmp['is_applied']==0].sample(100_000, random_state=state), tmp[tmp['is_applied']==1].sample(100_000, random_state=state)])\n",
    "    \n",
    "    X,y= data_set.loc[:, data_set.columns !='is_applied'] ,data_set['is_applied']\n",
    "    X_train, X_test, y_train, y_test= train_test_split(X,y, test_size=0.2, random_state=state)\n",
    "    model = RandomForestClassifier(random_state=state)\n",
    "    model.fit(X_train, y_train)\n",
    "    y_pred=model.predict(X_test)\n",
    "    \n",
    "    acc_list.append(model.score(X_test,y_test))\n",
    "    f1_list.append(f1_score(y_test,y_pred))\n",
    "    confusion_list.append(confusion_matrix(y_test,y_pred))\n",
    "    \n",
    "    with open(f'./mydata/zero_fill_index_{i}.txt','w') as f:\n",
    "        f.write('\\n'.join(map(str,data_set.index)))\n",
    "    saved_model = pickle.dumps(model)\n",
    "    \n",
    "    joblib.dump(model,f'./model/zero_fill_model_{i}.pkl')\n",
    "    print(i,'done')"
   ]
  },
  {
   "cell_type": "code",
   "execution_count": 71,
   "id": "6b637b2a",
   "metadata": {
    "ExecuteTime": {
     "end_time": "2022-10-10T05:38:04.206276Z",
     "start_time": "2022-10-10T05:38:04.200317Z"
    }
   },
   "outputs": [
    {
     "name": "stdout",
     "output_type": "stream",
     "text": [
      "(0.64925, 0.6451155967015734)\n",
      "(0.653375, 0.6509578833421443)\n",
      "(0.652575, 0.650205139822296)\n",
      "(0.6571, 0.6553768844221106)\n",
      "(0.6533, 0.6513300145823905)\n"
     ]
    }
   ],
   "source": [
    "print(*zip(acc_list, f1_list), sep='\\n')"
   ]
  },
  {
   "cell_type": "code",
   "execution_count": 72,
   "id": "56f42cf2",
   "metadata": {
    "ExecuteTime": {
     "end_time": "2022-10-10T05:38:13.828112Z",
     "start_time": "2022-10-10T05:38:12.193642Z"
    },
    "scrolled": true
   },
   "outputs": [
    {
     "data": {
      "image/png": "[encoded data removed]",
      "text/plain": [
       "<Figure size 144x144 with 2 Axes>"
      ]
     },
     "metadata": {
      "needs_background": "light"
     },
     "output_type": "display_data"
    },
    {
     "data": {
      "image/png": "[encoded data removed]",
      "text/plain": [
       "<Figure size 144x144 with 2 Axes>"
      ]
     },
     "metadata": {
      "needs_background": "light"
     },
     "output_type": "display_data"
    },
    {
     "data": {
      "image/png": "[encoded data removed]",
      "text/plain": [
       "<Figure size 144x144 with 2 Axes>"
      ]
     },
     "metadata": {
      "needs_background": "light"
     },
     "output_type": "display_data"
    },
    {
     "data": {
      "image/png": "[encoded data removed]",
      "text/plain": [
       "<Figure size 144x144 with 2 Axes>"
      ]
     },
     "metadata": {
      "needs_background": "light"
     },
     "output_type": "display_data"
    },
    {
     "data": {
      "image/png": "[encoded data removed]",
      "text/plain": [
       "<Figure size 144x144 with 2 Axes>"
      ]
     },
     "metadata": {
      "needs_background": "light"
     },
     "output_type": "display_data"
    }
   ],
   "source": [
    "for i, cm in enumerate(confusion_list):\n",
    "    d=ConfusionMatrixDisplay(cm,display_labels=[0,1])\n",
    "    fig,ax=plt.subplots(figsize=(2,2))\n",
    "    d.plot(cmap='Greys',ax=ax)\n",
    "    plt.title(f'Zero_fill_case_{i}')\n",
    "    plt.savefig(f'./visual/zero_fill_{i}.png')"
   ]
  },
  {
   "cell_type": "code",
   "execution_count": 73,
   "id": "e93484e9",
   "metadata": {
    "ExecuteTime": {
     "end_time": "2022-10-10T05:39:32.869171Z",
     "start_time": "2022-10-10T05:39:32.680311Z"
    }
   },
   "outputs": [
    {
     "data": {
      "text/plain": [
       "<sklearn.metrics._plot.confusion_matrix.ConfusionMatrixDisplay at 0x7f2a6736bbe0>"
      ]
     },
     "execution_count": 73,
     "metadata": {},
     "output_type": "execute_result"
    },
    {
     "data": {
      "image/png": "[encoded data removed]",
      "text/plain": [
       "<Figure size 144x144 with 2 Axes>"
      ]
     },
     "metadata": {
      "needs_background": "light"
     },
     "output_type": "display_data"
    }
   ],
   "source": [
    "new_cm = np.array([cm[0]/sum(cm[0])*100, cm[1]/sum(cm[1])*100])\n",
    "d=ConfusionMatrixDisplay(new_cm,display_labels=[0,1])\n",
    "fig,ax=plt.subplots(figsize=(2,2))\n",
    "d.plot(cmap='Greys',ax=ax)"
   ]
  },
  {
   "cell_type": "code",
   "execution_count": 52,
   "id": "80c430bc",
   "metadata": {
    "ExecuteTime": {
     "end_time": "2022-10-10T05:23:35.710670Z",
     "start_time": "2022-10-10T05:23:35.481521Z"
    }
   },
   "outputs": [
    {
     "data": {
      "text/plain": [
       "<sklearn.metrics._plot.confusion_matrix.ConfusionMatrixDisplay at 0x7f2a522229a0>"
      ]
     },
     "execution_count": 52,
     "metadata": {},
     "output_type": "execute_result"
    },
    {
     "data": {
      "image/png": "[encoded data removed]",
      "text/plain": [
       "<Figure size 144x144 with 2 Axes>"
      ]
     },
     "metadata": {
      "needs_background": "light"
     },
     "output_type": "display_data"
    }
   ],
   "source": [
    "new_cm = np.array([cm[0]/sum(cm[0])*100, cm[1]/sum(cm[1])*100])\n",
    "d=ConfusionMatrixDisplay(new_cm,display_labels=[0,1])\n",
    "fig,ax=plt.subplots(figsize=(2,2))\n",
    "d.plot(cmap='Greys',ax=ax)"
   ]
  },
  {
   "cell_type": "markdown",
   "id": "e490c89e",
   "metadata": {},
   "source": [
    "## 함수로 돌리기"
   ]
  },
  {
   "cell_type": "markdown",
   "id": "64d0a639",
   "metadata": {},
   "source": [
    "### 예제"
   ]
  },
  {
   "cell_type": "code",
   "execution_count": 80,
   "id": "33c8e959",
   "metadata": {
    "ExecuteTime": {
     "end_time": "2022-10-10T05:47:09.244372Z",
     "start_time": "2022-10-10T05:47:09.239455Z"
    }
   },
   "outputs": [],
   "source": [
    "a = pd.DataFrame([\n",
    "    [1, np.NaN,0],\n",
    "    [np.NaN,3,4],\n",
    "    [0,2,np.NaN]\n",
    "])\n",
    "a.index = ['i1','i2','i3']\n",
    "a.columns=['c1','c2','c3']"
   ]
  },
  {
   "cell_type": "code",
   "execution_count": 81,
   "id": "4857a776",
   "metadata": {
    "ExecuteTime": {
     "end_time": "2022-10-10T05:47:09.751962Z",
     "start_time": "2022-10-10T05:47:09.738943Z"
    }
   },
   "outputs": [
    {
     "data": {
      "text/html": [
       "<div>\n",
       "<style scoped>\n",
       "    .dataframe tbody tr th:only-of-type {\n",
       "        vertical-align: middle;\n",
       "    }\n",
       "\n",
       "    .dataframe tbody tr th {\n",
       "        vertical-align: top;\n",
       "    }\n",
       "\n",
       "    .dataframe thead th {\n",
       "        text-align: right;\n",
       "    }\n",
       "</style>\n",
       "<table border=\"1\" class=\"dataframe\">\n",
       "  <thead>\n",
       "    <tr style=\"text-align: right;\">\n",
       "      <th></th>\n",
       "      <th>c1</th>\n",
       "      <th>c2</th>\n",
       "      <th>c3</th>\n",
       "    </tr>\n",
       "  </thead>\n",
       "  <tbody>\n",
       "    <tr>\n",
       "      <th>i1</th>\n",
       "      <td>1.0</td>\n",
       "      <td>NaN</td>\n",
       "      <td>0.0</td>\n",
       "    </tr>\n",
       "    <tr>\n",
       "      <th>i2</th>\n",
       "      <td>NaN</td>\n",
       "      <td>3.0</td>\n",
       "      <td>4.0</td>\n",
       "    </tr>\n",
       "    <tr>\n",
       "      <th>i3</th>\n",
       "      <td>0.0</td>\n",
       "      <td>2.0</td>\n",
       "      <td>NaN</td>\n",
       "    </tr>\n",
       "  </tbody>\n",
       "</table>\n",
       "</div>"
      ],
      "text/plain": [
       "     c1   c2   c3\n",
       "i1  1.0  NaN  0.0\n",
       "i2  NaN  3.0  4.0\n",
       "i3  0.0  2.0  NaN"
      ]
     },
     "execution_count": 81,
     "metadata": {},
     "output_type": "execute_result"
    }
   ],
   "source": [
    "a"
   ]
  },
  {
   "cell_type": "code",
   "execution_count": 85,
   "id": "90ab11ee",
   "metadata": {
    "ExecuteTime": {
     "end_time": "2022-10-10T05:50:00.834477Z",
     "start_time": "2022-10-10T05:50:00.819801Z"
    }
   },
   "outputs": [
    {
     "data": {
      "text/plain": [
       "(c1    0.5\n",
       " c2    2.5\n",
       " c3    2.0\n",
       " dtype: float64,\n",
       " c1    0.5\n",
       " c2    2.5\n",
       " c3    2.0\n",
       " dtype: float64,\n",
       " c1    0.0\n",
       " c2    2.0\n",
       " c3    0.0\n",
       " dtype: float64,\n",
       " c1    1.0\n",
       " c2    3.0\n",
       " c3    4.0\n",
       " dtype: float64)"
      ]
     },
     "execution_count": 85,
     "metadata": {},
     "output_type": "execute_result"
    }
   ],
   "source": [
    "a.mean(), a.median(), a.min(), a.max()"
   ]
  },
  {
   "cell_type": "code",
   "execution_count": 163,
   "id": "ebc47e26",
   "metadata": {
    "ExecuteTime": {
     "end_time": "2022-10-10T07:12:42.674360Z",
     "start_time": "2022-10-10T07:12:42.654316Z"
    }
   },
   "outputs": [
    {
     "data": {
      "text/html": [
       "<div>\n",
       "<style scoped>\n",
       "    .dataframe tbody tr th:only-of-type {\n",
       "        vertical-align: middle;\n",
       "    }\n",
       "\n",
       "    .dataframe tbody tr th {\n",
       "        vertical-align: top;\n",
       "    }\n",
       "\n",
       "    .dataframe thead th {\n",
       "        text-align: right;\n",
       "    }\n",
       "</style>\n",
       "<table border=\"1\" class=\"dataframe\">\n",
       "  <thead>\n",
       "    <tr style=\"text-align: right;\">\n",
       "      <th></th>\n",
       "      <th>c1</th>\n",
       "      <th>c2</th>\n",
       "      <th>c3</th>\n",
       "    </tr>\n",
       "  </thead>\n",
       "  <tbody>\n",
       "    <tr>\n",
       "      <th>i1</th>\n",
       "      <td>1.0</td>\n",
       "      <td>0.0</td>\n",
       "      <td>0.0</td>\n",
       "    </tr>\n",
       "    <tr>\n",
       "      <th>i2</th>\n",
       "      <td>0.0</td>\n",
       "      <td>3.0</td>\n",
       "      <td>4.0</td>\n",
       "    </tr>\n",
       "    <tr>\n",
       "      <th>i3</th>\n",
       "      <td>0.0</td>\n",
       "      <td>2.0</td>\n",
       "      <td>NaN</td>\n",
       "    </tr>\n",
       "  </tbody>\n",
       "</table>\n",
       "</div>"
      ],
      "text/plain": [
       "     c1   c2   c3\n",
       "i1  1.0  0.0  0.0\n",
       "i2  0.0  3.0  4.0\n",
       "i3  0.0  2.0  NaN"
      ]
     },
     "execution_count": 163,
     "metadata": {},
     "output_type": "execute_result"
    }
   ],
   "source": [
    "a['c1']=a['c1'].fillna(0)\n",
    "a['c2']=a['c2'].fillna(0)\n",
    "a"
   ]
  },
  {
   "cell_type": "code",
   "execution_count": 183,
   "id": "7880a0a8",
   "metadata": {
    "ExecuteTime": {
     "end_time": "2022-10-10T07:24:07.442373Z",
     "start_time": "2022-10-10T07:24:07.428701Z"
    }
   },
   "outputs": [
    {
     "data": {
      "text/html": [
       "<div>\n",
       "<style scoped>\n",
       "    .dataframe tbody tr th:only-of-type {\n",
       "        vertical-align: middle;\n",
       "    }\n",
       "\n",
       "    .dataframe tbody tr th {\n",
       "        vertical-align: top;\n",
       "    }\n",
       "\n",
       "    .dataframe thead th {\n",
       "        text-align: right;\n",
       "    }\n",
       "</style>\n",
       "<table border=\"1\" class=\"dataframe\">\n",
       "  <thead>\n",
       "    <tr style=\"text-align: right;\">\n",
       "      <th></th>\n",
       "      <th>c2</th>\n",
       "      <th>c3</th>\n",
       "      <th>c1_0.0</th>\n",
       "      <th>c1_1.0</th>\n",
       "    </tr>\n",
       "  </thead>\n",
       "  <tbody>\n",
       "    <tr>\n",
       "      <th>i1</th>\n",
       "      <td>0.0</td>\n",
       "      <td>0.0</td>\n",
       "      <td>0</td>\n",
       "      <td>1</td>\n",
       "    </tr>\n",
       "    <tr>\n",
       "      <th>i2</th>\n",
       "      <td>3.0</td>\n",
       "      <td>4.0</td>\n",
       "      <td>1</td>\n",
       "      <td>0</td>\n",
       "    </tr>\n",
       "    <tr>\n",
       "      <th>i3</th>\n",
       "      <td>2.0</td>\n",
       "      <td>NaN</td>\n",
       "      <td>1</td>\n",
       "      <td>0</td>\n",
       "    </tr>\n",
       "  </tbody>\n",
       "</table>\n",
       "</div>"
      ],
      "text/plain": [
       "     c2   c3  c1_0.0  c1_1.0\n",
       "i1  0.0  0.0       0       1\n",
       "i2  3.0  4.0       1       0\n",
       "i3  2.0  NaN       1       0"
      ]
     },
     "execution_count": 183,
     "metadata": {},
     "output_type": "execute_result"
    }
   ],
   "source": [
    "pd.get_dummies(data = a, columns=['c1'], prefix='c1')"
   ]
  },
  {
   "cell_type": "code",
   "execution_count": 179,
   "id": "ac6e95d9",
   "metadata": {
    "ExecuteTime": {
     "end_time": "2022-10-10T07:22:41.900621Z",
     "start_time": "2022-10-10T07:22:39.899100Z"
    }
   },
   "outputs": [],
   "source": [
    "data_set = pd.concat([tmp[tmp['is_applied']==0].sample(100_000, random_state=random_list[i]), tmp[tmp['is_applied']==1].sample(100_000, random_state=random_list[i])])"
   ]
  },
  {
   "cell_type": "code",
   "execution_count": 187,
   "id": "475e97d5",
   "metadata": {
    "ExecuteTime": {
     "end_time": "2022-10-10T07:26:15.921597Z",
     "start_time": "2022-10-10T07:26:15.914809Z"
    }
   },
   "outputs": [],
   "source": [
    "data_set.drop(['bank_id','product_id'], axis=1, inplace=True)"
   ]
  },
  {
   "cell_type": "markdown",
   "id": "ceda116a",
   "metadata": {},
   "source": [
    "### 돌리기"
   ]
  },
  {
   "cell_type": "code",
   "execution_count": 119,
   "id": "eeec3682",
   "metadata": {
    "ExecuteTime": {
     "end_time": "2022-10-10T06:34:52.358452Z",
     "start_time": "2022-10-10T06:34:52.354621Z"
    }
   },
   "outputs": [],
   "source": [
    "null_feature = ['loan_limit','loan_rate']\n",
    "options = [0, 'min', 'max', 'mean', 'median']"
   ]
  },
  {
   "cell_type": "code",
   "execution_count": 120,
   "id": "24e34b00",
   "metadata": {
    "ExecuteTime": {
     "end_time": "2022-10-10T06:34:52.984170Z",
     "start_time": "2022-10-10T06:34:52.974519Z"
    }
   },
   "outputs": [
    {
     "data": {
      "text/plain": [
       "('min', 0)"
      ]
     },
     "execution_count": 120,
     "metadata": {},
     "output_type": "execute_result"
    }
   ],
   "source": [
    "list(product(options, repeat=len(null_feature)))[5]"
   ]
  },
  {
   "cell_type": "code",
   "execution_count": 166,
   "id": "4d145995",
   "metadata": {
    "ExecuteTime": {
     "end_time": "2022-10-10T07:13:27.350212Z",
     "start_time": "2022-10-10T07:13:27.342036Z"
    }
   },
   "outputs": [
    {
     "data": {
      "text/plain": [
       "Index(['application_id', 'bank_id', 'product_id', 'loan_limit', 'loan_rate',\n",
       "       'is_applied'],\n",
       "      dtype='object')"
      ]
     },
     "execution_count": 166,
     "metadata": {},
     "output_type": "execute_result"
    }
   ],
   "source": [
    "data_set.columns"
   ]
  },
  {
   "cell_type": "code",
   "execution_count": 111,
   "id": "256f0452",
   "metadata": {
    "ExecuteTime": {
     "end_time": "2022-10-10T05:59:06.662993Z",
     "start_time": "2022-10-10T05:59:06.651295Z"
    }
   },
   "outputs": [
    {
     "name": "stdout",
     "output_type": "stream",
     "text": [
      "624 175 680 460 125 26 888 643 106 998 122 487 484 465 565 212 85 732 591 204 336 989 105 220 607\n"
     ]
    }
   ],
   "source": [
    "my_options = product(options, repeat=len(null_feature))\n",
    "random_list = [ random.randint(1,1000) for i in range(len(list(my_options)))]\n",
    "print(*random_list)"
   ]
  },
  {
   "cell_type": "code",
   "execution_count": 189,
   "id": "204cb004",
   "metadata": {
    "ExecuteTime": {
     "end_time": "2022-10-10T07:29:45.429843Z",
     "start_time": "2022-10-10T07:28:45.296896Z"
    },
    "scrolled": true
   },
   "outputs": [
    {
     "name": "stdout",
     "output_type": "stream",
     "text": [
      "0 (0, 0) done\n"
     ]
    },
    {
     "ename": "KeyboardInterrupt",
     "evalue": "",
     "output_type": "error",
     "traceback": [
      "\u001b[0;31m---------------------------------------------------------------------------\u001b[0m",
      "\u001b[0;31mKeyboardInterrupt\u001b[0m                         Traceback (most recent call last)",
      "\u001b[0;32m/tmp/ipykernel_147/288178101.py\u001b[0m in \u001b[0;36m<module>\u001b[0;34m\u001b[0m\n\u001b[1;32m     21\u001b[0m     \u001b[0mX_train\u001b[0m\u001b[0;34m,\u001b[0m \u001b[0mX_test\u001b[0m\u001b[0;34m,\u001b[0m \u001b[0my_train\u001b[0m\u001b[0;34m,\u001b[0m \u001b[0my_test\u001b[0m\u001b[0;34m=\u001b[0m \u001b[0mtrain_test_split\u001b[0m\u001b[0;34m(\u001b[0m\u001b[0mX\u001b[0m\u001b[0;34m,\u001b[0m\u001b[0my\u001b[0m\u001b[0;34m,\u001b[0m \u001b[0mtest_size\u001b[0m\u001b[0;34m=\u001b[0m\u001b[0;36m0.2\u001b[0m\u001b[0;34m,\u001b[0m \u001b[0mrandom_state\u001b[0m\u001b[0;34m=\u001b[0m\u001b[0mrandom_list\u001b[0m\u001b[0;34m[\u001b[0m\u001b[0mi\u001b[0m\u001b[0;34m]\u001b[0m\u001b[0;34m)\u001b[0m\u001b[0;34m\u001b[0m\u001b[0;34m\u001b[0m\u001b[0m\n\u001b[1;32m     22\u001b[0m     \u001b[0mmodel\u001b[0m \u001b[0;34m=\u001b[0m \u001b[0mRandomForestClassifier\u001b[0m\u001b[0;34m(\u001b[0m\u001b[0mrandom_state\u001b[0m\u001b[0;34m=\u001b[0m\u001b[0mrandom_list\u001b[0m\u001b[0;34m[\u001b[0m\u001b[0mi\u001b[0m\u001b[0;34m]\u001b[0m\u001b[0;34m)\u001b[0m\u001b[0;34m\u001b[0m\u001b[0;34m\u001b[0m\u001b[0m\n\u001b[0;32m---> 23\u001b[0;31m     \u001b[0mmodel\u001b[0m\u001b[0;34m.\u001b[0m\u001b[0mfit\u001b[0m\u001b[0;34m(\u001b[0m\u001b[0mX_train\u001b[0m\u001b[0;34m,\u001b[0m \u001b[0my_train\u001b[0m\u001b[0;34m)\u001b[0m\u001b[0;34m\u001b[0m\u001b[0;34m\u001b[0m\u001b[0m\n\u001b[0m\u001b[1;32m     24\u001b[0m     \u001b[0my_pred\u001b[0m\u001b[0;34m=\u001b[0m\u001b[0mmodel\u001b[0m\u001b[0;34m.\u001b[0m\u001b[0mpredict\u001b[0m\u001b[0;34m(\u001b[0m\u001b[0mX_test\u001b[0m\u001b[0;34m)\u001b[0m\u001b[0;34m\u001b[0m\u001b[0;34m\u001b[0m\u001b[0m\n\u001b[1;32m     25\u001b[0m \u001b[0;34m\u001b[0m\u001b[0m\n",
      "\u001b[0;32m~/.local/lib/python3.8/site-packages/sklearn/ensemble/_forest.py\u001b[0m in \u001b[0;36mfit\u001b[0;34m(self, X, y, sample_weight)\u001b[0m\n\u001b[1;32m    385\u001b[0m             \u001b[0;31m# parallel_backend contexts set at a higher level,\u001b[0m\u001b[0;34m\u001b[0m\u001b[0;34m\u001b[0m\u001b[0;34m\u001b[0m\u001b[0m\n\u001b[1;32m    386\u001b[0m             \u001b[0;31m# since correctness does not rely on using threads.\u001b[0m\u001b[0;34m\u001b[0m\u001b[0;34m\u001b[0m\u001b[0;34m\u001b[0m\u001b[0m\n\u001b[0;32m--> 387\u001b[0;31m             trees = Parallel(n_jobs=self.n_jobs, verbose=self.verbose,\n\u001b[0m\u001b[1;32m    388\u001b[0m                              \u001b[0;34m**\u001b[0m\u001b[0m_joblib_parallel_args\u001b[0m\u001b[0;34m(\u001b[0m\u001b[0mprefer\u001b[0m\u001b[0;34m=\u001b[0m\u001b[0;34m'threads'\u001b[0m\u001b[0;34m)\u001b[0m\u001b[0;34m)\u001b[0m\u001b[0;34m(\u001b[0m\u001b[0;34m\u001b[0m\u001b[0;34m\u001b[0m\u001b[0m\n\u001b[1;32m    389\u001b[0m                 delayed(_parallel_build_trees)(\n",
      "\u001b[0;32m~/.local/lib/python3.8/site-packages/joblib/parallel.py\u001b[0m in \u001b[0;36m__call__\u001b[0;34m(self, iterable)\u001b[0m\n\u001b[1;32m   1042\u001b[0m                 \u001b[0mself\u001b[0m\u001b[0;34m.\u001b[0m\u001b[0m_iterating\u001b[0m \u001b[0;34m=\u001b[0m \u001b[0mself\u001b[0m\u001b[0;34m.\u001b[0m\u001b[0m_original_iterator\u001b[0m \u001b[0;32mis\u001b[0m \u001b[0;32mnot\u001b[0m \u001b[0;32mNone\u001b[0m\u001b[0;34m\u001b[0m\u001b[0;34m\u001b[0m\u001b[0m\n\u001b[1;32m   1043\u001b[0m \u001b[0;34m\u001b[0m\u001b[0m\n\u001b[0;32m-> 1044\u001b[0;31m             \u001b[0;32mwhile\u001b[0m \u001b[0mself\u001b[0m\u001b[0;34m.\u001b[0m\u001b[0mdispatch_one_batch\u001b[0m\u001b[0;34m(\u001b[0m\u001b[0miterator\u001b[0m\u001b[0;34m)\u001b[0m\u001b[0;34m:\u001b[0m\u001b[0;34m\u001b[0m\u001b[0;34m\u001b[0m\u001b[0m\n\u001b[0m\u001b[1;32m   1045\u001b[0m                 \u001b[0;32mpass\u001b[0m\u001b[0;34m\u001b[0m\u001b[0;34m\u001b[0m\u001b[0m\n\u001b[1;32m   1046\u001b[0m \u001b[0;34m\u001b[0m\u001b[0m\n",
      "\u001b[0;32m~/.local/lib/python3.8/site-packages/joblib/parallel.py\u001b[0m in \u001b[0;36mdispatch_one_batch\u001b[0;34m(self, iterator)\u001b[0m\n\u001b[1;32m    857\u001b[0m                 \u001b[0;32mreturn\u001b[0m \u001b[0;32mFalse\u001b[0m\u001b[0;34m\u001b[0m\u001b[0;34m\u001b[0m\u001b[0m\n\u001b[1;32m    858\u001b[0m             \u001b[0;32melse\u001b[0m\u001b[0;34m:\u001b[0m\u001b[0;34m\u001b[0m\u001b[0;34m\u001b[0m\u001b[0m\n\u001b[0;32m--> 859\u001b[0;31m                 \u001b[0mself\u001b[0m\u001b[0;34m.\u001b[0m\u001b[0m_dispatch\u001b[0m\u001b[0;34m(\u001b[0m\u001b[0mtasks\u001b[0m\u001b[0;34m)\u001b[0m\u001b[0;34m\u001b[0m\u001b[0;34m\u001b[0m\u001b[0m\n\u001b[0m\u001b[1;32m    860\u001b[0m                 \u001b[0;32mreturn\u001b[0m \u001b[0;32mTrue\u001b[0m\u001b[0;34m\u001b[0m\u001b[0;34m\u001b[0m\u001b[0m\n\u001b[1;32m    861\u001b[0m \u001b[0;34m\u001b[0m\u001b[0m\n",
      "\u001b[0;32m~/.local/lib/python3.8/site-packages/joblib/parallel.py\u001b[0m in \u001b[0;36m_dispatch\u001b[0;34m(self, batch)\u001b[0m\n\u001b[1;32m    775\u001b[0m         \u001b[0;32mwith\u001b[0m \u001b[0mself\u001b[0m\u001b[0;34m.\u001b[0m\u001b[0m_lock\u001b[0m\u001b[0;34m:\u001b[0m\u001b[0;34m\u001b[0m\u001b[0;34m\u001b[0m\u001b[0m\n\u001b[1;32m    776\u001b[0m             \u001b[0mjob_idx\u001b[0m \u001b[0;34m=\u001b[0m \u001b[0mlen\u001b[0m\u001b[0;34m(\u001b[0m\u001b[0mself\u001b[0m\u001b[0;34m.\u001b[0m\u001b[0m_jobs\u001b[0m\u001b[0;34m)\u001b[0m\u001b[0;34m\u001b[0m\u001b[0;34m\u001b[0m\u001b[0m\n\u001b[0;32m--> 777\u001b[0;31m             \u001b[0mjob\u001b[0m \u001b[0;34m=\u001b[0m \u001b[0mself\u001b[0m\u001b[0;34m.\u001b[0m\u001b[0m_backend\u001b[0m\u001b[0;34m.\u001b[0m\u001b[0mapply_async\u001b[0m\u001b[0;34m(\u001b[0m\u001b[0mbatch\u001b[0m\u001b[0;34m,\u001b[0m \u001b[0mcallback\u001b[0m\u001b[0;34m=\u001b[0m\u001b[0mcb\u001b[0m\u001b[0;34m)\u001b[0m\u001b[0;34m\u001b[0m\u001b[0;34m\u001b[0m\u001b[0m\n\u001b[0m\u001b[1;32m    778\u001b[0m             \u001b[0;31m# A job can complete so quickly than its callback is\u001b[0m\u001b[0;34m\u001b[0m\u001b[0;34m\u001b[0m\u001b[0;34m\u001b[0m\u001b[0m\n\u001b[1;32m    779\u001b[0m             \u001b[0;31m# called before we get here, causing self._jobs to\u001b[0m\u001b[0;34m\u001b[0m\u001b[0;34m\u001b[0m\u001b[0;34m\u001b[0m\u001b[0m\n",
      "\u001b[0;32m~/.local/lib/python3.8/site-packages/joblib/_parallel_backends.py\u001b[0m in \u001b[0;36mapply_async\u001b[0;34m(self, func, callback)\u001b[0m\n\u001b[1;32m    206\u001b[0m     \u001b[0;32mdef\u001b[0m \u001b[0mapply_async\u001b[0m\u001b[0;34m(\u001b[0m\u001b[0mself\u001b[0m\u001b[0;34m,\u001b[0m \u001b[0mfunc\u001b[0m\u001b[0;34m,\u001b[0m \u001b[0mcallback\u001b[0m\u001b[0;34m=\u001b[0m\u001b[0;32mNone\u001b[0m\u001b[0;34m)\u001b[0m\u001b[0;34m:\u001b[0m\u001b[0;34m\u001b[0m\u001b[0;34m\u001b[0m\u001b[0m\n\u001b[1;32m    207\u001b[0m         \u001b[0;34m\"\"\"Schedule a func to be run\"\"\"\u001b[0m\u001b[0;34m\u001b[0m\u001b[0;34m\u001b[0m\u001b[0m\n\u001b[0;32m--> 208\u001b[0;31m         \u001b[0mresult\u001b[0m \u001b[0;34m=\u001b[0m \u001b[0mImmediateResult\u001b[0m\u001b[0;34m(\u001b[0m\u001b[0mfunc\u001b[0m\u001b[0;34m)\u001b[0m\u001b[0;34m\u001b[0m\u001b[0;34m\u001b[0m\u001b[0m\n\u001b[0m\u001b[1;32m    209\u001b[0m         \u001b[0;32mif\u001b[0m \u001b[0mcallback\u001b[0m\u001b[0;34m:\u001b[0m\u001b[0;34m\u001b[0m\u001b[0;34m\u001b[0m\u001b[0m\n\u001b[1;32m    210\u001b[0m             \u001b[0mcallback\u001b[0m\u001b[0;34m(\u001b[0m\u001b[0mresult\u001b[0m\u001b[0;34m)\u001b[0m\u001b[0;34m\u001b[0m\u001b[0;34m\u001b[0m\u001b[0m\n",
      "\u001b[0;32m~/.local/lib/python3.8/site-packages/joblib/_parallel_backends.py\u001b[0m in \u001b[0;36m__init__\u001b[0;34m(self, batch)\u001b[0m\n\u001b[1;32m    570\u001b[0m         \u001b[0;31m# Don't delay the application, to avoid keeping the input\u001b[0m\u001b[0;34m\u001b[0m\u001b[0;34m\u001b[0m\u001b[0;34m\u001b[0m\u001b[0m\n\u001b[1;32m    571\u001b[0m         \u001b[0;31m# arguments in memory\u001b[0m\u001b[0;34m\u001b[0m\u001b[0;34m\u001b[0m\u001b[0;34m\u001b[0m\u001b[0m\n\u001b[0;32m--> 572\u001b[0;31m         \u001b[0mself\u001b[0m\u001b[0;34m.\u001b[0m\u001b[0mresults\u001b[0m \u001b[0;34m=\u001b[0m \u001b[0mbatch\u001b[0m\u001b[0;34m(\u001b[0m\u001b[0;34m)\u001b[0m\u001b[0;34m\u001b[0m\u001b[0;34m\u001b[0m\u001b[0m\n\u001b[0m\u001b[1;32m    573\u001b[0m \u001b[0;34m\u001b[0m\u001b[0m\n\u001b[1;32m    574\u001b[0m     \u001b[0;32mdef\u001b[0m \u001b[0mget\u001b[0m\u001b[0;34m(\u001b[0m\u001b[0mself\u001b[0m\u001b[0;34m)\u001b[0m\u001b[0;34m:\u001b[0m\u001b[0;34m\u001b[0m\u001b[0;34m\u001b[0m\u001b[0m\n",
      "\u001b[0;32m~/.local/lib/python3.8/site-packages/joblib/parallel.py\u001b[0m in \u001b[0;36m__call__\u001b[0;34m(self)\u001b[0m\n\u001b[1;32m    260\u001b[0m         \u001b[0;31m# change the default number of processes to -1\u001b[0m\u001b[0;34m\u001b[0m\u001b[0;34m\u001b[0m\u001b[0;34m\u001b[0m\u001b[0m\n\u001b[1;32m    261\u001b[0m         \u001b[0;32mwith\u001b[0m \u001b[0mparallel_backend\u001b[0m\u001b[0;34m(\u001b[0m\u001b[0mself\u001b[0m\u001b[0;34m.\u001b[0m\u001b[0m_backend\u001b[0m\u001b[0;34m,\u001b[0m \u001b[0mn_jobs\u001b[0m\u001b[0;34m=\u001b[0m\u001b[0mself\u001b[0m\u001b[0;34m.\u001b[0m\u001b[0m_n_jobs\u001b[0m\u001b[0;34m)\u001b[0m\u001b[0;34m:\u001b[0m\u001b[0;34m\u001b[0m\u001b[0;34m\u001b[0m\u001b[0m\n\u001b[0;32m--> 262\u001b[0;31m             return [func(*args, **kwargs)\n\u001b[0m\u001b[1;32m    263\u001b[0m                     for func, args, kwargs in self.items]\n\u001b[1;32m    264\u001b[0m \u001b[0;34m\u001b[0m\u001b[0m\n",
      "\u001b[0;32m~/.local/lib/python3.8/site-packages/joblib/parallel.py\u001b[0m in \u001b[0;36m<listcomp>\u001b[0;34m(.0)\u001b[0m\n\u001b[1;32m    260\u001b[0m         \u001b[0;31m# change the default number of processes to -1\u001b[0m\u001b[0;34m\u001b[0m\u001b[0;34m\u001b[0m\u001b[0;34m\u001b[0m\u001b[0m\n\u001b[1;32m    261\u001b[0m         \u001b[0;32mwith\u001b[0m \u001b[0mparallel_backend\u001b[0m\u001b[0;34m(\u001b[0m\u001b[0mself\u001b[0m\u001b[0;34m.\u001b[0m\u001b[0m_backend\u001b[0m\u001b[0;34m,\u001b[0m \u001b[0mn_jobs\u001b[0m\u001b[0;34m=\u001b[0m\u001b[0mself\u001b[0m\u001b[0;34m.\u001b[0m\u001b[0m_n_jobs\u001b[0m\u001b[0;34m)\u001b[0m\u001b[0;34m:\u001b[0m\u001b[0;34m\u001b[0m\u001b[0;34m\u001b[0m\u001b[0m\n\u001b[0;32m--> 262\u001b[0;31m             return [func(*args, **kwargs)\n\u001b[0m\u001b[1;32m    263\u001b[0m                     for func, args, kwargs in self.items]\n\u001b[1;32m    264\u001b[0m \u001b[0;34m\u001b[0m\u001b[0m\n",
      "\u001b[0;32m~/.local/lib/python3.8/site-packages/sklearn/utils/fixes.py\u001b[0m in \u001b[0;36m__call__\u001b[0;34m(self, *args, **kwargs)\u001b[0m\n\u001b[1;32m    220\u001b[0m     \u001b[0;32mdef\u001b[0m \u001b[0m__call__\u001b[0m\u001b[0;34m(\u001b[0m\u001b[0mself\u001b[0m\u001b[0;34m,\u001b[0m \u001b[0;34m*\u001b[0m\u001b[0margs\u001b[0m\u001b[0;34m,\u001b[0m \u001b[0;34m**\u001b[0m\u001b[0mkwargs\u001b[0m\u001b[0;34m)\u001b[0m\u001b[0;34m:\u001b[0m\u001b[0;34m\u001b[0m\u001b[0;34m\u001b[0m\u001b[0m\n\u001b[1;32m    221\u001b[0m         \u001b[0;32mwith\u001b[0m \u001b[0mconfig_context\u001b[0m\u001b[0;34m(\u001b[0m\u001b[0;34m**\u001b[0m\u001b[0mself\u001b[0m\u001b[0;34m.\u001b[0m\u001b[0mconfig\u001b[0m\u001b[0;34m)\u001b[0m\u001b[0;34m:\u001b[0m\u001b[0;34m\u001b[0m\u001b[0;34m\u001b[0m\u001b[0m\n\u001b[0;32m--> 222\u001b[0;31m             \u001b[0;32mreturn\u001b[0m \u001b[0mself\u001b[0m\u001b[0;34m.\u001b[0m\u001b[0mfunction\u001b[0m\u001b[0;34m(\u001b[0m\u001b[0;34m*\u001b[0m\u001b[0margs\u001b[0m\u001b[0;34m,\u001b[0m \u001b[0;34m**\u001b[0m\u001b[0mkwargs\u001b[0m\u001b[0;34m)\u001b[0m\u001b[0;34m\u001b[0m\u001b[0;34m\u001b[0m\u001b[0m\n\u001b[0m",
      "\u001b[0;32m~/.local/lib/python3.8/site-packages/sklearn/ensemble/_forest.py\u001b[0m in \u001b[0;36m_parallel_build_trees\u001b[0;34m(tree, forest, X, y, sample_weight, tree_idx, n_trees, verbose, class_weight, n_samples_bootstrap)\u001b[0m\n\u001b[1;32m    167\u001b[0m                                                         indices=indices)\n\u001b[1;32m    168\u001b[0m \u001b[0;34m\u001b[0m\u001b[0m\n\u001b[0;32m--> 169\u001b[0;31m         \u001b[0mtree\u001b[0m\u001b[0;34m.\u001b[0m\u001b[0mfit\u001b[0m\u001b[0;34m(\u001b[0m\u001b[0mX\u001b[0m\u001b[0;34m,\u001b[0m \u001b[0my\u001b[0m\u001b[0;34m,\u001b[0m \u001b[0msample_weight\u001b[0m\u001b[0;34m=\u001b[0m\u001b[0mcurr_sample_weight\u001b[0m\u001b[0;34m,\u001b[0m \u001b[0mcheck_input\u001b[0m\u001b[0;34m=\u001b[0m\u001b[0;32mFalse\u001b[0m\u001b[0;34m)\u001b[0m\u001b[0;34m\u001b[0m\u001b[0;34m\u001b[0m\u001b[0m\n\u001b[0m\u001b[1;32m    170\u001b[0m     \u001b[0;32melse\u001b[0m\u001b[0;34m:\u001b[0m\u001b[0;34m\u001b[0m\u001b[0;34m\u001b[0m\u001b[0m\n\u001b[1;32m    171\u001b[0m         \u001b[0mtree\u001b[0m\u001b[0;34m.\u001b[0m\u001b[0mfit\u001b[0m\u001b[0;34m(\u001b[0m\u001b[0mX\u001b[0m\u001b[0;34m,\u001b[0m \u001b[0my\u001b[0m\u001b[0;34m,\u001b[0m \u001b[0msample_weight\u001b[0m\u001b[0;34m=\u001b[0m\u001b[0msample_weight\u001b[0m\u001b[0;34m,\u001b[0m \u001b[0mcheck_input\u001b[0m\u001b[0;34m=\u001b[0m\u001b[0;32mFalse\u001b[0m\u001b[0;34m)\u001b[0m\u001b[0;34m\u001b[0m\u001b[0;34m\u001b[0m\u001b[0m\n",
      "\u001b[0;32m~/.local/lib/python3.8/site-packages/sklearn/tree/_classes.py\u001b[0m in \u001b[0;36mfit\u001b[0;34m(self, X, y, sample_weight, check_input, X_idx_sorted)\u001b[0m\n\u001b[1;32m    901\u001b[0m         \"\"\"\n\u001b[1;32m    902\u001b[0m \u001b[0;34m\u001b[0m\u001b[0m\n\u001b[0;32m--> 903\u001b[0;31m         super().fit(\n\u001b[0m\u001b[1;32m    904\u001b[0m             \u001b[0mX\u001b[0m\u001b[0;34m,\u001b[0m \u001b[0my\u001b[0m\u001b[0;34m,\u001b[0m\u001b[0;34m\u001b[0m\u001b[0;34m\u001b[0m\u001b[0m\n\u001b[1;32m    905\u001b[0m             \u001b[0msample_weight\u001b[0m\u001b[0;34m=\u001b[0m\u001b[0msample_weight\u001b[0m\u001b[0;34m,\u001b[0m\u001b[0;34m\u001b[0m\u001b[0;34m\u001b[0m\u001b[0m\n",
      "\u001b[0;32m~/.local/lib/python3.8/site-packages/sklearn/tree/_classes.py\u001b[0m in \u001b[0;36mfit\u001b[0;34m(self, X, y, sample_weight, check_input, X_idx_sorted)\u001b[0m\n\u001b[1;32m    392\u001b[0m                                            min_impurity_split)\n\u001b[1;32m    393\u001b[0m \u001b[0;34m\u001b[0m\u001b[0m\n\u001b[0;32m--> 394\u001b[0;31m         \u001b[0mbuilder\u001b[0m\u001b[0;34m.\u001b[0m\u001b[0mbuild\u001b[0m\u001b[0;34m(\u001b[0m\u001b[0mself\u001b[0m\u001b[0;34m.\u001b[0m\u001b[0mtree_\u001b[0m\u001b[0;34m,\u001b[0m \u001b[0mX\u001b[0m\u001b[0;34m,\u001b[0m \u001b[0my\u001b[0m\u001b[0;34m,\u001b[0m \u001b[0msample_weight\u001b[0m\u001b[0;34m)\u001b[0m\u001b[0;34m\u001b[0m\u001b[0;34m\u001b[0m\u001b[0m\n\u001b[0m\u001b[1;32m    395\u001b[0m \u001b[0;34m\u001b[0m\u001b[0m\n\u001b[1;32m    396\u001b[0m         \u001b[0;32mif\u001b[0m \u001b[0mself\u001b[0m\u001b[0;34m.\u001b[0m\u001b[0mn_outputs_\u001b[0m \u001b[0;34m==\u001b[0m \u001b[0;36m1\u001b[0m \u001b[0;32mand\u001b[0m \u001b[0mis_classifier\u001b[0m\u001b[0;34m(\u001b[0m\u001b[0mself\u001b[0m\u001b[0;34m)\u001b[0m\u001b[0;34m:\u001b[0m\u001b[0;34m\u001b[0m\u001b[0;34m\u001b[0m\u001b[0m\n",
      "\u001b[0;31mKeyboardInterrupt\u001b[0m: "
     ]
    }
   ],
   "source": [
    "model_list = []\n",
    "acc_list = []\n",
    "f1_list = []\n",
    "confusion_list = []\n",
    "for i, option_group in enumerate(product(options, repeat=len(null_feature))):\n",
    "    \n",
    "    tmp = deepcopy(loan_df)\n",
    "    \n",
    "    data_set = pd.concat([tmp[tmp['is_applied']==0].sample(100_000, random_state=random_list[i]), tmp[tmp['is_applied']==1].sample(100_000, random_state=random_list[i])])\n",
    "    pd.get_dummies(data = data_set, columns=['bank_id'], prefix='bank')\n",
    "    pd.get_dummies(data = data_set, columns=['product_id'], prefix='product')\n",
    "    data_set.drop(['bank_id','product_id'], axis=1, inplace=True)\n",
    "    \n",
    "    for column_name, option in zip(null_feature, list(product(options, repeat=len(null_feature)))[5]):\n",
    "        if option == 0:\n",
    "            data_set[column_name].fillna(0, inplace=True)\n",
    "        else:\n",
    "            eval(f'data_set[\"{column_name}\"].fillna(data_set[\"{column_name}\"].{option}(), inplace=True)')\n",
    "\n",
    "    X,y= data_set.loc[:, data_set.columns !='is_applied'] ,data_set['is_applied']\n",
    "    X_train, X_test, y_train, y_test= train_test_split(X,y, test_size=0.2, random_state=random_list[i])\n",
    "    model = RandomForestClassifier(random_state=random_list[i])\n",
    "    model.fit(X_train, y_train)\n",
    "    y_pred=model.predict(X_test)\n",
    "    \n",
    "    model_list.append(model)\n",
    "    acc_list.append(model.score(X_test,y_test))\n",
    "    f1_list.append(f1_score(y_test,y_pred))\n",
    "    confusion_list.append(confusion_matrix(y_test,y_pred))\n",
    "    \n",
    "    with open(f'./mydata/{option_group[0]}_{option_group[1]}.txt','w') as f:\n",
    "        f.write('\\n'.join(map(str,data_set.index)))\n",
    "    saved_model = pickle.dumps(model)\n",
    "    joblib.dump(model,f'./model/{option_group[0]}_{option_group[1]}.pkl')\n",
    "    print(i, option_group, 'done')"
   ]
  },
  {
   "cell_type": "code",
   "execution_count": null,
   "id": "57e1a70e",
   "metadata": {},
   "outputs": [],
   "source": []
  },
  {
   "cell_type": "code",
   "execution_count": null,
   "id": "0af3fb59",
   "metadata": {},
   "outputs": [],
   "source": []
  },
  {
   "cell_type": "code",
   "execution_count": null,
   "id": "1fe1056d",
   "metadata": {},
   "outputs": [],
   "source": []
  },
  {
   "cell_type": "code",
   "execution_count": null,
   "id": "f20d1ec1",
   "metadata": {},
   "outputs": [],
   "source": [
    "sum()"
   ]
  }
 ],
 "metadata": {
  "kernelspec": {
   "display_name": "Python 3 (ipykernel)",
   "language": "python",
   "name": "python3"
  },
  "language_info": {
   "codemirror_mode": {
    "name": "ipython",
    "version": 3
   },
   "file_extension": ".py",
   "mimetype": "text/x-python",
   "name": "python",
   "nbconvert_exporter": "python",
   "pygments_lexer": "ipython3",
   "version": "3.8.10"
  }
 },
 "nbformat": 4,
 "nbformat_minor": 5
}
