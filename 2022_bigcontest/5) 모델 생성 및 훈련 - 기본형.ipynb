{
 "cells": [
  {
   "cell_type": "code",
   "execution_count": 1,
   "id": "f29de982",
   "metadata": {
    "ExecuteTime": {
     "end_time": "2022-10-10T17:52:48.943972Z",
     "start_time": "2022-10-10T17:52:47.641388Z"
    }
   },
   "outputs": [],
   "source": [
    "import pandas as pd\n",
    "import numpy as np\n",
    "import os\n",
    "import random\n",
    "from copy import deepcopy\n",
    "import math\n",
    "from itertools import product\n",
    "import pickle\n",
    "import joblib\n",
    "\n",
    "import matplotlib.pyplot as plt\n",
    "import seaborn as sb\n",
    "\n",
    "from sklearn.ensemble import RandomForestClassifier\n",
    "from sklearn.model_selection import train_test_split\n",
    "from sklearn.metrics import f1_score, confusion_matrix, ConfusionMatrixDisplay"
   ]
  },
  {
   "cell_type": "code",
   "execution_count": 2,
   "id": "e6483498",
   "metadata": {
    "ExecuteTime": {
     "end_time": "2022-10-10T17:52:58.782917Z",
     "start_time": "2022-10-10T17:52:49.503509Z"
    }
   },
   "outputs": [],
   "source": [
    "user_df = pd.read_csv('./data/user_spec.csv')\n",
    "loan_df = pd.read_csv('./data/loan_result.csv')\n",
    "# log_df = pd.read_csv('./data/log_data.csv' )"
   ]
  },
  {
   "cell_type": "code",
   "execution_count": 3,
   "id": "f457ad28",
   "metadata": {
    "ExecuteTime": {
     "end_time": "2022-10-10T17:52:58.839668Z",
     "start_time": "2022-10-10T17:52:58.833798Z"
    }
   },
   "outputs": [
    {
     "data": {
      "text/plain": [
       "((1394216, 17), (13527363, 7))"
      ]
     },
     "execution_count": 3,
     "metadata": {},
     "output_type": "execute_result"
    }
   ],
   "source": [
    "user_df.shape, loan_df.shape"
   ]
  },
  {
   "cell_type": "code",
   "execution_count": 4,
   "id": "973dcc8d",
   "metadata": {
    "ExecuteTime": {
     "end_time": "2022-10-10T17:53:00.710116Z",
     "start_time": "2022-10-10T17:52:58.886659Z"
    }
   },
   "outputs": [],
   "source": [
    "loan_df = loan_df.loc[loan_df['is_applied'].dropna(axis=0).index]"
   ]
  },
  {
   "cell_type": "code",
   "execution_count": 5,
   "id": "5ce6f813",
   "metadata": {
    "ExecuteTime": {
     "end_time": "2022-10-10T17:53:11.441285Z",
     "start_time": "2022-10-10T17:53:00.759903Z"
    }
   },
   "outputs": [],
   "source": [
    "merged_df=pd.merge(user_df, loan_df, on='application_id')"
   ]
  },
  {
   "cell_type": "code",
   "execution_count": 6,
   "id": "e45d41c2",
   "metadata": {
    "ExecuteTime": {
     "end_time": "2022-10-10T17:53:22.006786Z",
     "start_time": "2022-10-10T17:53:22.003592Z"
    }
   },
   "outputs": [
    {
     "data": {
      "text/plain": [
       "(10270011, 23)"
      ]
     },
     "execution_count": 6,
     "metadata": {},
     "output_type": "execute_result"
    }
   ],
   "source": [
    "merged_df.shape"
   ]
  },
  {
   "cell_type": "code",
   "execution_count": 7,
   "id": "daa80305",
   "metadata": {
    "ExecuteTime": {
     "end_time": "2022-10-10T17:53:32.403108Z",
     "start_time": "2022-10-10T17:53:32.399489Z"
    }
   },
   "outputs": [
    {
     "data": {
      "text/plain": [
       "Index(['application_id', 'user_id', 'birth_year', 'gender', 'insert_time',\n",
       "       'credit_score', 'yearly_income', 'income_type', 'company_enter_month',\n",
       "       'employment_type', 'houseown_type', 'desired_amount', 'purpose',\n",
       "       'personal_rehabilitation_yn', 'personal_rehabilitation_complete_yn',\n",
       "       'existing_loan_cnt', 'existing_loan_amt', 'loanapply_insert_time',\n",
       "       'bank_id', 'product_id', 'loan_limit', 'loan_rate', 'is_applied'],\n",
       "      dtype='object')"
      ]
     },
     "execution_count": 7,
     "metadata": {},
     "output_type": "execute_result"
    }
   ],
   "source": [
    "merged_df.columns"
   ]
  },
  {
   "cell_type": "code",
   "execution_count": 8,
   "id": "c81095a8",
   "metadata": {
    "ExecuteTime": {
     "end_time": "2022-10-10T17:53:44.662078Z",
     "start_time": "2022-10-10T17:53:42.764725Z"
    }
   },
   "outputs": [
    {
     "data": {
      "text/plain": [
       "application_id                               0\n",
       "user_id                                      0\n",
       "birth_year                               91626\n",
       "gender                                   91626\n",
       "insert_time                                  0\n",
       "credit_score                           1243812\n",
       "yearly_income                                0\n",
       "income_type                                  0\n",
       "company_enter_month                     303568\n",
       "employment_type                              0\n",
       "houseown_type                                0\n",
       "desired_amount                               0\n",
       "purpose                                      0\n",
       "personal_rehabilitation_yn             5873229\n",
       "personal_rehabilitation_complete_yn    9232232\n",
       "existing_loan_cnt                      2143811\n",
       "existing_loan_amt                      3044140\n",
       "loanapply_insert_time                        0\n",
       "bank_id                                      0\n",
       "product_id                                   0\n",
       "loan_limit                                5625\n",
       "loan_rate                                 5625\n",
       "is_applied                                   0\n",
       "dtype: int64"
      ]
     },
     "execution_count": 8,
     "metadata": {},
     "output_type": "execute_result"
    }
   ],
   "source": [
    "merged_df.isnull().sum()"
   ]
  },
  {
   "cell_type": "code",
   "execution_count": 9,
   "id": "f0c17040",
   "metadata": {
    "ExecuteTime": {
     "end_time": "2022-10-10T17:54:00.599984Z",
     "start_time": "2022-10-10T17:53:55.064251Z"
    }
   },
   "outputs": [],
   "source": [
    "merged_df['age'] = 2022 - merged_df['birth_year']\n",
    "merged_df.drop([\n",
    "    'application_id','user_id','birth_year','insert_time',\n",
    "    'loanapply_insert_time', 'bank_id','product_id',\n",
    "    'personal_rehabilitation_yn', 'personal_rehabilitation_complete_yn',\n",
    "    ]\n",
    "    , axis=1, inplace=True)"
   ]
  },
  {
   "cell_type": "markdown",
   "id": "fd5c7113",
   "metadata": {},
   "source": [
    "## 기본형 분석 + drop"
   ]
  },
  {
   "cell_type": "code",
   "execution_count": 10,
   "id": "5e9bc68f",
   "metadata": {
    "ExecuteTime": {
     "end_time": "2022-10-10T15:05:04.735303Z",
     "start_time": "2022-10-10T15:05:03.618100Z"
    }
   },
   "outputs": [],
   "source": [
    "data_set=merged_df.copy()"
   ]
  },
  {
   "cell_type": "code",
   "execution_count": 11,
   "id": "cd8d56cf",
   "metadata": {
    "ExecuteTime": {
     "end_time": "2022-10-10T15:05:05.855794Z",
     "start_time": "2022-10-10T15:05:04.886933Z"
    }
   },
   "outputs": [],
   "source": [
    "data_set.drop([\n",
    "    'income_type',\n",
    "    'employment_type',\n",
    "    'houseown_type',\n",
    "    'purpose',\n",
    "]\n",
    "    , axis=1, inplace=True)"
   ]
  },
  {
   "cell_type": "code",
   "execution_count": 12,
   "id": "430a8700",
   "metadata": {
    "ExecuteTime": {
     "end_time": "2022-10-10T15:05:07.343162Z",
     "start_time": "2022-10-10T15:05:05.999307Z"
    }
   },
   "outputs": [],
   "source": [
    "data_set.dropna(inplace=True)"
   ]
  },
  {
   "cell_type": "code",
   "execution_count": 13,
   "id": "71f6fd7f",
   "metadata": {
    "ExecuteTime": {
     "end_time": "2022-10-10T15:05:07.507034Z",
     "start_time": "2022-10-10T15:05:07.503478Z"
    }
   },
   "outputs": [
    {
     "data": {
      "text/plain": [
       "(6718484, 11)"
      ]
     },
     "execution_count": 13,
     "metadata": {},
     "output_type": "execute_result"
    }
   ],
   "source": [
    "data_set.shape"
   ]
  },
  {
   "cell_type": "code",
   "execution_count": 14,
   "id": "6d848bf3",
   "metadata": {
    "ExecuteTime": {
     "end_time": "2022-10-10T15:05:08.760166Z",
     "start_time": "2022-10-10T15:05:07.660712Z"
    }
   },
   "outputs": [],
   "source": [
    "data_set = pd.concat([data_set[data_set['is_applied']==0].sample(100_000, random_state=42), data_set[data_set['is_applied']==1].sample(100_000, random_state=42)])"
   ]
  },
  {
   "cell_type": "code",
   "execution_count": 15,
   "id": "b272db69",
   "metadata": {
    "ExecuteTime": {
     "end_time": "2022-10-10T15:05:08.943575Z",
     "start_time": "2022-10-10T15:05:08.911609Z"
    }
   },
   "outputs": [],
   "source": [
    "X,y= data_set.loc[:, data_set.columns !='is_applied'] ,data_set['is_applied']\n",
    "X_train, X_test, y_train, y_test= train_test_split(X,y, test_size=0.2, random_state=42)"
   ]
  },
  {
   "cell_type": "code",
   "execution_count": 16,
   "id": "7f61ab38",
   "metadata": {
    "ExecuteTime": {
     "end_time": "2022-10-10T15:05:29.887484Z",
     "start_time": "2022-10-10T15:05:09.175445Z"
    }
   },
   "outputs": [
    {
     "data": {
      "text/plain": [
       "RandomForestClassifier(random_state=42)"
      ]
     },
     "execution_count": 16,
     "metadata": {},
     "output_type": "execute_result"
    }
   ],
   "source": [
    "model = RandomForestClassifier(random_state=42)\n",
    "model.fit(X_train, y_train)"
   ]
  },
  {
   "cell_type": "code",
   "execution_count": 17,
   "id": "88c980cb",
   "metadata": {
    "ExecuteTime": {
     "end_time": "2022-10-10T15:05:31.238353Z",
     "start_time": "2022-10-10T15:05:30.268405Z"
    }
   },
   "outputs": [
    {
     "data": {
      "text/plain": [
       "0.7777"
      ]
     },
     "execution_count": 17,
     "metadata": {},
     "output_type": "execute_result"
    }
   ],
   "source": [
    "model.score(X_test, y_test)"
   ]
  },
  {
   "cell_type": "code",
   "execution_count": 18,
   "id": "d62acfb1",
   "metadata": {
    "ExecuteTime": {
     "end_time": "2022-10-10T15:05:32.712892Z",
     "start_time": "2022-10-10T15:05:31.700598Z"
    }
   },
   "outputs": [
    {
     "data": {
      "text/plain": [
       "0.7849784785026843"
      ]
     },
     "execution_count": 18,
     "metadata": {},
     "output_type": "execute_result"
    }
   ],
   "source": [
    "y_pred = model.predict(X_test)\n",
    "f1_score(y_test, y_pred)"
   ]
  },
  {
   "cell_type": "code",
   "execution_count": 19,
   "id": "98b3d928",
   "metadata": {
    "ExecuteTime": {
     "end_time": "2022-10-10T15:05:33.116588Z",
     "start_time": "2022-10-10T15:05:33.075148Z"
    }
   },
   "outputs": [
    {
     "data": {
      "text/plain": [
       "array([[14877,  5116],\n",
       "       [ 3776, 16231]])"
      ]
     },
     "execution_count": 19,
     "metadata": {},
     "output_type": "execute_result"
    }
   ],
   "source": [
    "confusion_matrix(y_test, y_pred)"
   ]
  },
  {
   "cell_type": "code",
   "execution_count": 20,
   "id": "7d9d29de",
   "metadata": {
    "ExecuteTime": {
     "end_time": "2022-10-10T15:05:33.524764Z",
     "start_time": "2022-10-10T15:05:33.473342Z"
    }
   },
   "outputs": [
    {
     "name": "stdout",
     "output_type": "stream",
     "text": [
      "(0.19228858270096455, 'credit_score')\n",
      "(0.16373669266424057, 'loan_rate')\n",
      "(0.10545242117031779, 'loan_limit')\n",
      "(0.10043875308038004, 'desired_amount')\n",
      "(0.09979546862152754, 'existing_loan_amt')\n",
      "(0.09312046012778558, 'company_enter_month')\n",
      "(0.08820785104862722, 'yearly_income')\n",
      "(0.0859836324978241, 'age')\n",
      "(0.05713868792678408, 'existing_loan_cnt')\n",
      "(0.013837450161548548, 'gender')\n"
     ]
    }
   ],
   "source": [
    "print(*sorted(zip(model.feature_importances_, X_test.columns), reverse=True), sep='\\n')"
   ]
  },
  {
   "cell_type": "markdown",
   "id": "1fdc1afd",
   "metadata": {},
   "source": [
    "## get_dummy + drop"
   ]
  },
  {
   "cell_type": "code",
   "execution_count": 46,
   "id": "515652f8",
   "metadata": {
    "ExecuteTime": {
     "end_time": "2022-10-10T15:13:51.474370Z",
     "start_time": "2022-10-10T15:13:50.313115Z"
    }
   },
   "outputs": [],
   "source": [
    "data_set=merged_df.copy()"
   ]
  },
  {
   "cell_type": "code",
   "execution_count": 47,
   "id": "7ae308d1",
   "metadata": {
    "ExecuteTime": {
     "end_time": "2022-10-10T15:13:54.917721Z",
     "start_time": "2022-10-10T15:13:51.756151Z"
    }
   },
   "outputs": [],
   "source": [
    "data_set.dropna(inplace=True)"
   ]
  },
  {
   "cell_type": "code",
   "execution_count": 48,
   "id": "b79dc241",
   "metadata": {
    "ExecuteTime": {
     "end_time": "2022-10-10T15:13:56.694773Z",
     "start_time": "2022-10-10T15:13:55.187177Z"
    }
   },
   "outputs": [],
   "source": [
    "data_set = pd.concat([data_set[data_set['is_applied']==0].sample(100_000, random_state=42), data_set[data_set['is_applied']==1].sample(100_000, random_state=42)])"
   ]
  },
  {
   "cell_type": "code",
   "execution_count": 49,
   "id": "9f992518",
   "metadata": {
    "ExecuteTime": {
     "end_time": "2022-10-10T15:13:57.085816Z",
     "start_time": "2022-10-10T15:13:57.082165Z"
    }
   },
   "outputs": [
    {
     "data": {
      "text/plain": [
       "(200000, 15)"
      ]
     },
     "execution_count": 49,
     "metadata": {},
     "output_type": "execute_result"
    }
   ],
   "source": [
    "data_set.shape"
   ]
  },
  {
   "cell_type": "code",
   "execution_count": 10,
   "id": "cd476d66",
   "metadata": {
    "ExecuteTime": {
     "end_time": "2022-10-10T17:54:00.672856Z",
     "start_time": "2022-10-10T17:54:00.670352Z"
    }
   },
   "outputs": [],
   "source": [
    "cate_list = [\n",
    "    'income_type',\n",
    "    'employment_type',\n",
    "    'houseown_type',\n",
    "    'purpose',\n",
    "#     'personal_rehabilitation_yn',\n",
    "#     'personal_rehabilitation_complete_yn',\n",
    "]"
   ]
  },
  {
   "cell_type": "code",
   "execution_count": 51,
   "id": "cfefa280",
   "metadata": {
    "ExecuteTime": {
     "end_time": "2022-10-10T15:13:57.756764Z",
     "start_time": "2022-10-10T15:13:57.624639Z"
    }
   },
   "outputs": [],
   "source": [
    "for cate in cate_list:\n",
    "    data_set = pd.get_dummies(data = data_set, columns=[cate], prefix=cate)"
   ]
  },
  {
   "cell_type": "code",
   "execution_count": 52,
   "id": "f98b1aae",
   "metadata": {
    "ExecuteTime": {
     "end_time": "2022-10-10T15:14:02.827776Z",
     "start_time": "2022-10-10T15:14:02.820458Z"
    }
   },
   "outputs": [
    {
     "data": {
      "text/plain": [
       "Index(['gender', 'credit_score', 'yearly_income', 'company_enter_month',\n",
       "       'desired_amount', 'existing_loan_cnt', 'existing_loan_amt',\n",
       "       'loan_limit', 'loan_rate', 'is_applied', 'age',\n",
       "       'income_type_EARNEDINCOME', 'income_type_EARNEDINCOME2',\n",
       "       'income_type_FREELANCER', 'income_type_OTHERINCOME',\n",
       "       'income_type_PRACTITIONER', 'income_type_PRIVATEBUSINESS',\n",
       "       'employment_type_계약직', 'employment_type_기타', 'employment_type_일용직',\n",
       "       'employment_type_정규직', 'houseown_type_기타가족소유', 'houseown_type_배우자',\n",
       "       'houseown_type_자가', 'houseown_type_전월세', 'purpose_BUSINESS',\n",
       "       'purpose_BUYCAR', 'purpose_BUYHOUSE', 'purpose_ETC',\n",
       "       'purpose_HOUSEDEPOSIT', 'purpose_INVEST', 'purpose_LIVING',\n",
       "       'purpose_SWITCHLOAN', 'purpose_기타', 'purpose_대환대출', 'purpose_사업자금',\n",
       "       'purpose_생활비', 'purpose_자동차구입', 'purpose_전월세보증금', 'purpose_주택구입',\n",
       "       'purpose_투자'],\n",
       "      dtype='object')"
      ]
     },
     "execution_count": 52,
     "metadata": {},
     "output_type": "execute_result"
    }
   ],
   "source": [
    "data_set.columns"
   ]
  },
  {
   "cell_type": "code",
   "execution_count": 53,
   "id": "d3c88d5c",
   "metadata": {
    "ExecuteTime": {
     "end_time": "2022-10-10T15:14:08.327994Z",
     "start_time": "2022-10-10T15:14:08.276650Z"
    }
   },
   "outputs": [],
   "source": [
    "X,y= data_set.loc[:, data_set.columns !='is_applied'] ,data_set['is_applied']\n",
    "X_train, X_test, y_train, y_test= train_test_split(X,y, test_size=0.2, random_state=42)"
   ]
  },
  {
   "cell_type": "code",
   "execution_count": 54,
   "id": "d421a8c9",
   "metadata": {
    "ExecuteTime": {
     "end_time": "2022-10-10T15:14:28.033733Z",
     "start_time": "2022-10-10T15:14:08.687987Z"
    }
   },
   "outputs": [
    {
     "data": {
      "text/plain": [
       "RandomForestClassifier(random_state=42)"
      ]
     },
     "execution_count": 54,
     "metadata": {},
     "output_type": "execute_result"
    }
   ],
   "source": [
    "model = RandomForestClassifier(random_state=42)\n",
    "model.fit(X_train, y_train)"
   ]
  },
  {
   "cell_type": "code",
   "execution_count": 55,
   "id": "19a882a2",
   "metadata": {
    "ExecuteTime": {
     "end_time": "2022-10-10T15:14:29.384862Z",
     "start_time": "2022-10-10T15:14:28.378252Z"
    }
   },
   "outputs": [
    {
     "data": {
      "text/plain": [
       "0.787425"
      ]
     },
     "execution_count": 55,
     "metadata": {},
     "output_type": "execute_result"
    }
   ],
   "source": [
    "model.score(X_test, y_test)"
   ]
  },
  {
   "cell_type": "code",
   "execution_count": 56,
   "id": "8b99fa83",
   "metadata": {
    "ExecuteTime": {
     "end_time": "2022-10-10T15:14:30.741295Z",
     "start_time": "2022-10-10T15:14:29.702293Z"
    }
   },
   "outputs": [
    {
     "data": {
      "text/plain": [
       "0.7940214626583658"
      ]
     },
     "execution_count": 56,
     "metadata": {},
     "output_type": "execute_result"
    }
   ],
   "source": [
    "y_pred = model.predict(X_test)\n",
    "f1_score(y_test, y_pred)"
   ]
  },
  {
   "cell_type": "code",
   "execution_count": 57,
   "id": "547584a7",
   "metadata": {
    "ExecuteTime": {
     "end_time": "2022-10-10T15:14:31.195371Z",
     "start_time": "2022-10-10T15:14:31.150523Z"
    }
   },
   "outputs": [
    {
     "data": {
      "text/plain": [
       "array([[15108,  4885],\n",
       "       [ 3618, 16389]])"
      ]
     },
     "execution_count": 57,
     "metadata": {},
     "output_type": "execute_result"
    }
   ],
   "source": [
    "confusion_matrix(y_test, y_pred)"
   ]
  },
  {
   "cell_type": "code",
   "execution_count": 58,
   "id": "c054ae12",
   "metadata": {
    "ExecuteTime": {
     "end_time": "2022-10-10T15:14:31.860212Z",
     "start_time": "2022-10-10T15:14:31.763717Z"
    },
    "scrolled": true
   },
   "outputs": [
    {
     "name": "stdout",
     "output_type": "stream",
     "text": [
      "(0.17717951451829048, 'credit_score')\n",
      "(0.1536787724427905, 'loan_rate')\n",
      "(0.09940527040932981, 'loan_limit')\n",
      "(0.09150185835829833, 'desired_amount')\n",
      "(0.08173739386260723, 'existing_loan_amt')\n",
      "(0.07890960552409164, 'company_enter_month')\n",
      "(0.07288739553121247, 'yearly_income')\n",
      "(0.07248563232373308, 'age')\n",
      "(0.05698642301275427, 'existing_loan_cnt')\n",
      "(0.016614355908840542, 'income_type_EARNEDINCOME')\n",
      "(0.011803254927539617, 'gender')\n",
      "(0.010866493381125261, 'purpose_생활비')\n",
      "(0.008828559093822418, 'houseown_type_전월세')\n",
      "(0.008432704437602802, 'houseown_type_기타가족소유')\n",
      "(0.007702812564903346, 'houseown_type_자가')\n",
      "(0.007003873207271149, 'purpose_대환대출')\n",
      "(0.006642881257334032, 'employment_type_정규직')\n",
      "(0.0056735095298231985, 'employment_type_기타')\n",
      "(0.004990439672428415, 'income_type_PRIVATEBUSINESS')\n",
      "(0.004801543741054417, 'employment_type_계약직')\n",
      "(0.0038961058688042477, 'income_type_EARNEDINCOME2')\n",
      "(0.002470783405348363, 'purpose_사업자금')\n",
      "(0.0023778252501610564, 'purpose_주택구입')\n",
      "(0.002243420745427083, 'income_type_FREELANCER')\n",
      "(0.0021659145523528363, 'purpose_기타')\n",
      "(0.001983940549149226, 'employment_type_일용직')\n",
      "(0.0017883109468921612, 'purpose_전월세보증금')\n",
      "(0.001334820862975121, 'purpose_투자')\n",
      "(0.001316258897672709, 'income_type_PRACTITIONER')\n",
      "(0.0009362003197100012, 'purpose_LIVING')\n",
      "(0.00052696672357397, 'purpose_자동차구입')\n",
      "(0.0003212348108836775, 'purpose_SWITCHLOAN')\n",
      "(0.0001602646210566301, 'houseown_type_배우자')\n",
      "(9.234789647867913e-05, 'income_type_OTHERINCOME')\n",
      "(8.967390321721308e-05, 'purpose_BUSINESS')\n",
      "(5.9147591188697736e-05, 'purpose_ETC')\n",
      "(4.8450951580955314e-05, 'purpose_HOUSEDEPOSIT')\n",
      "(2.9620501244130326e-05, 'purpose_BUYHOUSE')\n",
      "(2.4808640966773195e-05, 'purpose_INVEST')\n",
      "(1.609256463547925e-06, 'purpose_BUYCAR')\n"
     ]
    }
   ],
   "source": [
    "print(*sorted(zip(model.feature_importances_, X_test.columns), reverse=True), sep='\\n')"
   ]
  },
  {
   "cell_type": "markdown",
   "id": "e94d1371",
   "metadata": {},
   "source": [
    "## get_dummies + remove_duplicate + drop"
   ]
  },
  {
   "cell_type": "code",
   "execution_count": 11,
   "id": "7b6b29fd",
   "metadata": {
    "ExecuteTime": {
     "end_time": "2022-10-10T17:54:20.157628Z",
     "start_time": "2022-10-10T17:54:00.739259Z"
    }
   },
   "outputs": [],
   "source": [
    "for cate in cate_list:\n",
    "    merged_df = pd.get_dummies(data = merged_df, columns=[cate], prefix=cate)"
   ]
  },
  {
   "cell_type": "code",
   "execution_count": 12,
   "id": "42d2d04c",
   "metadata": {
    "ExecuteTime": {
     "end_time": "2022-10-10T16:50:25.537079Z",
     "start_time": "2022-10-10T16:50:25.532752Z"
    }
   },
   "outputs": [
    {
     "data": {
      "text/plain": [
       "['purpose_BUSINESS',\n",
       " 'purpose_BUYCAR',\n",
       " 'purpose_BUYHOUSE',\n",
       " 'purpose_ETC',\n",
       " 'purpose_HOUSEDEPOSIT',\n",
       " 'purpose_INVEST',\n",
       " 'purpose_LIVING',\n",
       " 'purpose_SWITCHLOAN',\n",
       " 'purpose_기타',\n",
       " 'purpose_대환대출',\n",
       " 'purpose_사업자금',\n",
       " 'purpose_생활비',\n",
       " 'purpose_자동차구입',\n",
       " 'purpose_전월세보증금',\n",
       " 'purpose_주택구입',\n",
       " 'purpose_투자']"
      ]
     },
     "execution_count": 12,
     "metadata": {},
     "output_type": "execute_result"
    }
   ],
   "source": [
    "[i for i in merged_df.columns if 'purpose' in i]"
   ]
  },
  {
   "cell_type": "code",
   "execution_count": 12,
   "id": "662f7e6c",
   "metadata": {
    "ExecuteTime": {
     "end_time": "2022-10-10T17:54:27.607422Z",
     "start_time": "2022-10-10T17:54:25.687778Z"
    }
   },
   "outputs": [],
   "source": [
    "merged_df[ 'purpose_주택구입'] += merged_df[ 'purpose_BUYHOUSE']\n",
    "merged_df[ 'purpose_자동차구입'] += merged_df[ 'purpose_BUYCAR']\n",
    "merged_df[ 'purpose_사업자금'] += merged_df[ 'purpose_BUSINESS']\n",
    "merged_df[ 'purpose_기타'] += merged_df[ 'purpose_ETC']\n",
    "merged_df[ 'purpose_전월세보증금'] += merged_df[ 'purpose_HOUSEDEPOSIT']\n",
    "merged_df[ 'purpose_투자'] += merged_df[ 'purpose_INVEST']\n",
    "merged_df[ 'purpose_생활비'] += merged_df[ 'purpose_LIVING']\n",
    "merged_df[ 'purpose_대환대출'] += merged_df[ 'purpose_SWITCHLOAN']\n",
    "merged_df.drop(['purpose_BUYHOUSE','purpose_BUYCAR','purpose_BUSINESS','purpose_ETC','purpose_HOUSEDEPOSIT',\n",
    "               'purpose_INVEST','purpose_LIVING','purpose_SWITCHLOAN'], axis=1, inplace=True)"
   ]
  },
  {
   "cell_type": "code",
   "execution_count": 15,
   "id": "6bc0c5c0",
   "metadata": {
    "ExecuteTime": {
     "end_time": "2022-10-10T16:23:34.951988Z",
     "start_time": "2022-10-10T16:23:33.996157Z"
    }
   },
   "outputs": [],
   "source": [
    "data_set=merged_df.copy()"
   ]
  },
  {
   "cell_type": "code",
   "execution_count": 16,
   "id": "cd355a09",
   "metadata": {
    "ExecuteTime": {
     "end_time": "2022-10-10T16:23:41.369070Z",
     "start_time": "2022-10-10T16:23:38.314054Z"
    }
   },
   "outputs": [],
   "source": [
    "data_set.dropna(inplace=True)"
   ]
  },
  {
   "cell_type": "code",
   "execution_count": 17,
   "id": "de0644e0",
   "metadata": {
    "ExecuteTime": {
     "end_time": "2022-10-10T16:23:45.967779Z",
     "start_time": "2022-10-10T16:23:44.290616Z"
    }
   },
   "outputs": [],
   "source": [
    "data_set = pd.concat([data_set[data_set['is_applied']==0].sample(100_000, random_state=42), data_set[data_set['is_applied']==1].sample(100_000, random_state=42)])"
   ]
  },
  {
   "cell_type": "code",
   "execution_count": 18,
   "id": "81c2f8fc",
   "metadata": {
    "ExecuteTime": {
     "end_time": "2022-10-10T16:23:47.752651Z",
     "start_time": "2022-10-10T16:23:47.749083Z"
    }
   },
   "outputs": [
    {
     "data": {
      "text/plain": [
       "(200000, 33)"
      ]
     },
     "execution_count": 18,
     "metadata": {},
     "output_type": "execute_result"
    }
   ],
   "source": [
    "data_set.shape"
   ]
  },
  {
   "cell_type": "code",
   "execution_count": 19,
   "id": "ee267720",
   "metadata": {
    "ExecuteTime": {
     "end_time": "2022-10-10T16:23:49.539804Z",
     "start_time": "2022-10-10T16:23:49.535801Z"
    }
   },
   "outputs": [
    {
     "data": {
      "text/plain": [
       "Index(['gender', 'credit_score', 'yearly_income', 'company_enter_month',\n",
       "       'desired_amount', 'existing_loan_cnt', 'existing_loan_amt',\n",
       "       'loan_limit', 'loan_rate', 'is_applied', 'age',\n",
       "       'income_type_EARNEDINCOME', 'income_type_EARNEDINCOME2',\n",
       "       'income_type_FREELANCER', 'income_type_OTHERINCOME',\n",
       "       'income_type_PRACTITIONER', 'income_type_PRIVATEBUSINESS',\n",
       "       'employment_type_계약직', 'employment_type_기타', 'employment_type_일용직',\n",
       "       'employment_type_정규직', 'houseown_type_기타가족소유', 'houseown_type_배우자',\n",
       "       'houseown_type_자가', 'houseown_type_전월세', 'purpose_기타', 'purpose_대환대출',\n",
       "       'purpose_사업자금', 'purpose_생활비', 'purpose_자동차구입', 'purpose_전월세보증금',\n",
       "       'purpose_주택구입', 'purpose_투자'],\n",
       "      dtype='object')"
      ]
     },
     "execution_count": 19,
     "metadata": {},
     "output_type": "execute_result"
    }
   ],
   "source": [
    "data_set.columns"
   ]
  },
  {
   "cell_type": "code",
   "execution_count": 20,
   "id": "a4d28de1",
   "metadata": {
    "ExecuteTime": {
     "end_time": "2022-10-10T16:23:51.355432Z",
     "start_time": "2022-10-10T16:23:51.319851Z"
    }
   },
   "outputs": [],
   "source": [
    "X,y= data_set.loc[:, data_set.columns !='is_applied'] ,data_set['is_applied']\n",
    "X_train, X_test, y_train, y_test= train_test_split(X,y, test_size=0.2, random_state=42)"
   ]
  },
  {
   "cell_type": "code",
   "execution_count": 21,
   "id": "621a8efa",
   "metadata": {
    "ExecuteTime": {
     "end_time": "2022-10-10T16:24:08.753537Z",
     "start_time": "2022-10-10T16:23:53.183692Z"
    }
   },
   "outputs": [
    {
     "data": {
      "text/plain": [
       "RandomForestClassifier(random_state=42)"
      ]
     },
     "execution_count": 21,
     "metadata": {},
     "output_type": "execute_result"
    }
   ],
   "source": [
    "model = RandomForestClassifier(random_state=42)\n",
    "model.fit(X_train, y_train)"
   ]
  },
  {
   "cell_type": "code",
   "execution_count": 22,
   "id": "a3bcc4b7",
   "metadata": {
    "ExecuteTime": {
     "end_time": "2022-10-10T16:24:11.446802Z",
     "start_time": "2022-10-10T16:24:10.525444Z"
    }
   },
   "outputs": [
    {
     "data": {
      "text/plain": [
       "0.78925"
      ]
     },
     "execution_count": 22,
     "metadata": {},
     "output_type": "execute_result"
    }
   ],
   "source": [
    "model.score(X_test, y_test)"
   ]
  },
  {
   "cell_type": "code",
   "execution_count": 23,
   "id": "70e3dced",
   "metadata": {
    "ExecuteTime": {
     "end_time": "2022-10-10T16:24:14.142236Z",
     "start_time": "2022-10-10T16:24:13.210541Z"
    }
   },
   "outputs": [
    {
     "data": {
      "text/plain": [
       "0.7959331880900509"
      ]
     },
     "execution_count": 23,
     "metadata": {},
     "output_type": "execute_result"
    }
   ],
   "source": [
    "y_pred = model.predict(X_test)\n",
    "f1_score(y_test, y_pred)"
   ]
  },
  {
   "cell_type": "code",
   "execution_count": 24,
   "id": "d053f7f9",
   "metadata": {
    "ExecuteTime": {
     "end_time": "2022-10-10T16:24:15.943486Z",
     "start_time": "2022-10-10T16:24:15.919454Z"
    }
   },
   "outputs": [
    {
     "data": {
      "text/plain": [
       "array([[15130,  4863],\n",
       "       [ 3567, 16440]])"
      ]
     },
     "execution_count": 24,
     "metadata": {},
     "output_type": "execute_result"
    }
   ],
   "source": [
    "confusion_matrix(y_test, y_pred)"
   ]
  },
  {
   "cell_type": "code",
   "execution_count": 25,
   "id": "cbcfa032",
   "metadata": {
    "ExecuteTime": {
     "end_time": "2022-10-10T16:24:17.814140Z",
     "start_time": "2022-10-10T16:24:17.754387Z"
    },
    "scrolled": true
   },
   "outputs": [
    {
     "name": "stdout",
     "output_type": "stream",
     "text": [
      "(0.17840107245459003, 'credit_score')\n",
      "(0.1530654975230667, 'loan_rate')\n",
      "(0.09873250904273409, 'loan_limit')\n",
      "(0.08911375637957228, 'desired_amount')\n",
      "(0.08145241822926808, 'existing_loan_amt')\n",
      "(0.07917246715567108, 'company_enter_month')\n",
      "(0.07316431410498936, 'age')\n",
      "(0.07297254060600435, 'yearly_income')\n",
      "(0.0574061379256571, 'existing_loan_cnt')\n",
      "(0.017014337764825374, 'income_type_EARNEDINCOME')\n",
      "(0.01219894977686387, 'gender')\n",
      "(0.011140343328215379, 'purpose_생활비')\n",
      "(0.009176220776415412, 'houseown_type_전월세')\n",
      "(0.00867786753832694, 'houseown_type_기타가족소유')\n",
      "(0.007808819126192054, 'houseown_type_자가')\n",
      "(0.007566391772735274, 'purpose_대환대출')\n",
      "(0.00702038104674273, 'employment_type_정규직')\n",
      "(0.0053873570762820455, 'employment_type_기타')\n",
      "(0.005043456602135085, 'income_type_PRIVATEBUSINESS')\n",
      "(0.0049492906454045235, 'employment_type_계약직')\n",
      "(0.004043020177306242, 'income_type_EARNEDINCOME2')\n",
      "(0.002524264520563109, 'income_type_FREELANCER')\n",
      "(0.0025106787942271638, 'purpose_사업자금')\n",
      "(0.0021847375239532605, 'purpose_기타')\n",
      "(0.0020905573968621493, 'employment_type_일용직')\n",
      "(0.001863691496575416, 'purpose_전월세보증금')\n",
      "(0.0017829287842803868, 'purpose_주택구입')\n",
      "(0.0013824339615108147, 'income_type_PRACTITIONER')\n",
      "(0.0013306046817721123, 'purpose_투자')\n",
      "(0.0005222570919382287, 'purpose_자동차구입')\n",
      "(0.00020277847354769946, 'houseown_type_배우자')\n",
      "(9.79182217716179e-05, 'income_type_OTHERINCOME')\n"
     ]
    }
   ],
   "source": [
    "print(*sorted(zip(model.feature_importances_, X_test.columns), reverse=True), sep='\\n')"
   ]
  },
  {
   "cell_type": "markdown",
   "id": "aaba03ec",
   "metadata": {},
   "source": [
    "# 돌려보기"
   ]
  },
  {
   "cell_type": "markdown",
   "id": "24de55f7",
   "metadata": {},
   "source": [
    "편의를 위해서 gender과 age null은 drop"
   ]
  },
  {
   "cell_type": "code",
   "execution_count": 13,
   "id": "b4820a6b",
   "metadata": {
    "ExecuteTime": {
     "end_time": "2022-10-10T17:54:33.080053Z",
     "start_time": "2022-10-10T17:54:33.076433Z"
    }
   },
   "outputs": [
    {
     "data": {
      "text/plain": [
       "Index(['gender', 'credit_score', 'yearly_income', 'company_enter_month',\n",
       "       'desired_amount', 'existing_loan_cnt', 'existing_loan_amt',\n",
       "       'loan_limit', 'loan_rate', 'is_applied', 'age',\n",
       "       'income_type_EARNEDINCOME', 'income_type_EARNEDINCOME2',\n",
       "       'income_type_FREELANCER', 'income_type_OTHERINCOME',\n",
       "       'income_type_PRACTITIONER', 'income_type_PRIVATEBUSINESS',\n",
       "       'employment_type_계약직', 'employment_type_기타', 'employment_type_일용직',\n",
       "       'employment_type_정규직', 'houseown_type_기타가족소유', 'houseown_type_배우자',\n",
       "       'houseown_type_자가', 'houseown_type_전월세', 'purpose_기타', 'purpose_대환대출',\n",
       "       'purpose_사업자금', 'purpose_생활비', 'purpose_자동차구입', 'purpose_전월세보증금',\n",
       "       'purpose_주택구입', 'purpose_투자'],\n",
       "      dtype='object')"
      ]
     },
     "execution_count": 13,
     "metadata": {},
     "output_type": "execute_result"
    }
   ],
   "source": [
    "merged_df.columns"
   ]
  },
  {
   "cell_type": "code",
   "execution_count": 14,
   "id": "39a9034c",
   "metadata": {
    "ExecuteTime": {
     "end_time": "2022-10-10T17:54:41.669562Z",
     "start_time": "2022-10-10T17:54:38.568268Z"
    }
   },
   "outputs": [],
   "source": [
    "merged_df = merged_df.loc[merged_df['gender'].dropna(axis=0).index]"
   ]
  },
  {
   "cell_type": "code",
   "execution_count": 15,
   "id": "17c190e3",
   "metadata": {
    "ExecuteTime": {
     "end_time": "2022-10-10T17:54:48.223356Z",
     "start_time": "2022-10-10T17:54:47.078934Z"
    }
   },
   "outputs": [
    {
     "data": {
      "text/plain": [
       "credit_score           1229941\n",
       "company_enter_month     299731\n",
       "existing_loan_cnt      2101116\n",
       "existing_loan_amt      2994214\n",
       "loan_limit                5584\n",
       "loan_rate                 5584\n",
       "dtype: int64"
      ]
     },
     "execution_count": 15,
     "metadata": {},
     "output_type": "execute_result"
    }
   ],
   "source": [
    "merged_df.isnull().sum()[merged_df.isnull().sum()!=0]"
   ]
  },
  {
   "cell_type": "code",
   "execution_count": 16,
   "id": "cdadeab4",
   "metadata": {
    "ExecuteTime": {
     "end_time": "2022-10-10T17:54:53.615933Z",
     "start_time": "2022-10-10T17:54:53.610021Z"
    }
   },
   "outputs": [
    {
     "data": {
      "text/plain": [
       "4096"
      ]
     },
     "execution_count": 16,
     "metadata": {},
     "output_type": "execute_result"
    }
   ],
   "source": [
    "# null_feature = merged_df.isnull().sum()[merged_df.isnull().sum()!=0].index\n",
    "null_feature = ['existing_loan_cnt', 'company_enter_month', 'existing_loan_amt',\n",
    "       'loan_limit', 'loan_rate', 'credit_score']\n",
    "options = [0, 'min', 'max', 'median']\n",
    "random_list = [random.randint(1,1000) for i in range(len(options)**len(null_feature))]\n",
    "len(random_list)"
   ]
  },
  {
   "cell_type": "code",
   "execution_count": 17,
   "id": "cc3ca0cf",
   "metadata": {
    "ExecuteTime": {
     "end_time": "2022-10-10T22:01:11.281706Z",
     "start_time": "2022-10-10T17:54:59.014427Z"
    },
    "scrolled": true
   },
   "outputs": [
    {
     "name": "stdout",
     "output_type": "stream",
     "text": [
      "0.785 0.7921500386697603 /// index: 0 (0, 0, 0, 0, 0, 0) done\n",
      "0.791625 0.797019214377907 /// index: 1 (0, 0, 0, 0, 0, 'min') done\n",
      "0.7851 0.7919147906076011 /// index: 2 (0, 0, 0, 0, 0, 'max') done\n",
      "0.79085 0.7954923242397575 /// index: 3 (0, 0, 0, 0, 0, 'median') done\n",
      "0.786925 0.7919443427316002 /// index: 4 (0, 0, 0, 0, 'min', 0) done\n",
      "0.78795 0.793725680933852 /// index: 5 (0, 0, 0, 0, 'min', 'min') done\n",
      "0.784575 0.7901619383903568 /// index: 6 (0, 0, 0, 0, 'min', 'max') done\n",
      "0.78075 0.7863476905086726 /// index: 7 (0, 0, 0, 0, 'min', 'median') done\n",
      "0.785575 0.7918153353236729 /// index: 8 (0, 0, 0, 0, 'max', 0) done\n",
      "0.784 0.7912337505436621 /// index: 9 (0, 0, 0, 0, 'max', 'min') done\n",
      "0.784425 0.7906784803981064 /// index: 10 (0, 0, 0, 0, 'max', 'max') done\n",
      "0.78575 0.7902183491628317 /// index: 11 (0, 0, 0, 0, 'max', 'median') done\n",
      "0.78325 0.7907818532818534 /// index: 12 (0, 0, 0, 0, 'median', 0) done\n",
      "0.783 0.7893510653788284 /// index: 13 (0, 0, 0, 0, 'median', 'min') done\n",
      "0.787575 0.7928217882134933 /// index: 14 (0, 0, 0, 0, 'median', 'max') done\n",
      "0.785475 0.7898925099777185 /// index: 15 (0, 0, 0, 0, 'median', 'median') done\n",
      "0.7834 0.7895861666990479 /// index: 16 (0, 0, 0, 'min', 0, 0) done\n",
      "0.78615 0.7922576258014377 /// index: 17 (0, 0, 0, 'min', 0, 'min') done\n",
      "0.783975 0.790088667557391 /// index: 18 (0, 0, 0, 'min', 0, 'max') done\n",
      "0.785275 0.7923807682080786 /// index: 19 (0, 0, 0, 'min', 0, 'median') done\n",
      "0.784025 0.7901576428866379 /// index: 20 (0, 0, 0, 'min', 'min', 0) done\n",
      "0.7855 0.7915958222006315 /// index: 21 (0, 0, 0, 'min', 'min', 'min') done\n",
      "0.783775 0.7889406769320871 /// index: 22 (0, 0, 0, 'min', 'min', 'max') done\n",
      "0.785825 0.7917547825664213 /// index: 23 (0, 0, 0, 'min', 'min', 'median') done\n",
      "0.78565 0.7915795614760077 /// index: 24 (0, 0, 0, 'min', 'max', 0) done\n",
      "0.783175 0.7907750946855476 /// index: 25 (0, 0, 0, 'min', 'max', 'min') done\n",
      "0.785075 0.7910153876072634 /// index: 26 (0, 0, 0, 'min', 'max', 'max') done\n",
      "0.785975 0.7919815332280403 /// index: 27 (0, 0, 0, 'min', 'max', 'median') done\n",
      "0.786375 0.7924207457791814 /// index: 28 (0, 0, 0, 'min', 'median', 0) done\n",
      "0.78915 0.7943227820318978 /// index: 29 (0, 0, 0, 'min', 'median', 'min') done\n",
      "0.78595 0.7919016138440599 /// index: 30 (0, 0, 0, 'min', 'median', 'max') done\n",
      "0.78435 0.7899581182429142 /// index: 31 (0, 0, 0, 'min', 'median', 'median') done\n",
      "0.7852 0.7922228670922808 /// index: 32 (0, 0, 0, 'max', 0, 0) done\n",
      "0.780825 0.786405165062736 /// index: 33 (0, 0, 0, 'max', 0, 'min') done\n",
      "0.78355 0.7893533161403338 /// index: 34 (0, 0, 0, 'max', 0, 'max') done\n",
      "0.78585 0.7912869743189903 /// index: 35 (0, 0, 0, 'max', 0, 'median') done\n",
      "0.785275 0.7914531989802113 /// index: 36 (0, 0, 0, 'max', 'min', 0) done\n",
      "0.78395 0.7906999273431823 /// index: 37 (0, 0, 0, 'max', 'min', 'min') done\n",
      "0.786075 0.7905109310353269 /// index: 38 (0, 0, 0, 'max', 'min', 'max') done\n",
      "0.787075 0.793432126312726 /// index: 39 (0, 0, 0, 'max', 'min', 'median') done\n",
      "0.7881 0.7939317319848294 /// index: 40 (0, 0, 0, 'max', 'max', 0) done\n",
      "0.784675 0.7916999201915403 /// index: 41 (0, 0, 0, 'max', 'max', 'min') done\n",
      "0.781975 0.7880319860000486 /// index: 42 (0, 0, 0, 'max', 'max', 'max') done\n",
      "0.785825 0.7924409448818898 /// index: 43 (0, 0, 0, 'max', 'max', 'median') done\n",
      "0.7877 0.793392049048708 /// index: 44 (0, 0, 0, 'max', 'median', 0) done\n",
      "0.785225 0.7915767000655037 /// index: 45 (0, 0, 0, 'max', 'median', 'min') done\n",
      "0.783725 0.7898457427426211 /// index: 46 (0, 0, 0, 'max', 'median', 'max') done\n",
      "0.787925 0.7939368911992615 /// index: 47 (0, 0, 0, 'max', 'median', 'median') done\n",
      "0.782725 0.7890892324119689 /// index: 48 (0, 0, 0, 'median', 0, 0) done\n",
      "0.785175 0.7904299685388874 /// index: 49 (0, 0, 0, 'median', 0, 'min') done\n",
      "0.787175 0.7938391494926502 /// index: 50 (0, 0, 0, 'median', 0, 'max') done\n",
      "0.782 0.7877932444271392 /// index: 51 (0, 0, 0, 'median', 0, 'median') done\n",
      "0.78415 0.7904063698596883 /// index: 52 (0, 0, 0, 'median', 'min', 0) done\n",
      "0.786125 0.7918339538165803 /// index: 53 (0, 0, 0, 'median', 'min', 'min') done\n",
      "0.785225 0.7913945074423911 /// index: 54 (0, 0, 0, 'median', 'min', 'max') done\n",
      "0.7845 0.7920084933886691 /// index: 55 (0, 0, 0, 'median', 'min', 'median') done\n",
      "0.78835 0.794254884806066 /// index: 56 (0, 0, 0, 'median', 'max', 0) done\n",
      "0.783925 0.7900604824018073 /// index: 57 (0, 0, 0, 'median', 'max', 'min') done\n",
      "0.787775 0.7944900380080859 /// index: 58 (0, 0, 0, 'median', 'max', 'max') done\n",
      "0.7864 0.7914571637783744 /// index: 59 (0, 0, 0, 'median', 'max', 'median') done\n",
      "0.788425 0.7942927979387959 /// index: 60 (0, 0, 0, 'median', 'median', 0) done\n",
      "0.7861 0.7923200155347347 /// index: 61 (0, 0, 0, 'median', 'median', 'min') done\n",
      "0.7812 0.7879639499951546 /// index: 62 (0, 0, 0, 'median', 'median', 'max') done\n",
      "0.781 0.7869442552777508 /// index: 63 (0, 0, 0, 'median', 'median', 'median') done\n",
      "0.78585 0.7918650986490426 /// index: 64 (0, 0, 'min', 0, 0, 0) done\n",
      "0.78495 0.7907768643284526 /// index: 65 (0, 0, 'min', 0, 0, 'min') done\n",
      "0.78515 0.7911137037577172 /// index: 66 (0, 0, 'min', 0, 0, 'max') done\n",
      "0.786625 0.791854651871723 /// index: 67 (0, 0, 'min', 0, 0, 'median') done\n",
      "0.783675 0.7900827248247253 /// index: 68 (0, 0, 'min', 0, 'min', 0) done\n",
      "0.785 0.7918078822504114 /// index: 69 (0, 0, 'min', 0, 'min', 'min') done\n",
      "0.78795 0.793313514303816 /// index: 70 (0, 0, 'min', 0, 'min', 'max') done\n",
      "0.782125 0.787381980531362 /// index: 71 (0, 0, 'min', 0, 'min', 'median') done\n",
      "0.78655 0.7917662553046193 /// index: 72 (0, 0, 'min', 0, 'max', 0) done\n",
      "0.788475 0.7940510673514594 /// index: 73 (0, 0, 'min', 0, 'max', 'min') done\n",
      "0.7807 0.7853577371048254 /// index: 74 (0, 0, 'min', 0, 'max', 'max') done\n",
      "0.7817 0.7855599214145382 /// index: 75 (0, 0, 'min', 0, 'max', 'median') done\n",
      "0.786 0.7921623852765503 /// index: 76 (0, 0, 'min', 0, 'median', 0) done\n",
      "0.783175 0.7885304659498207 /// index: 77 (0, 0, 'min', 0, 'median', 'min') done\n",
      "0.783225 0.7908132493787846 /// index: 78 (0, 0, 'min', 0, 'median', 'max') done\n",
      "0.784425 0.7897700953263281 /// index: 79 (0, 0, 'min', 0, 'median', 'median') done\n",
      "0.78575 0.7927348360259262 /// index: 80 (0, 0, 'min', 'min', 0, 0) done\n",
      "0.787725 0.7941426043106166 /// index: 81 (0, 0, 'min', 'min', 0, 'min') done\n",
      "0.785175 0.7909906842118065 /// index: 82 (0, 0, 'min', 'min', 0, 'max') done\n",
      "0.78485 0.7905165279197702 /// index: 83 (0, 0, 'min', 'min', 0, 'median') done\n",
      "0.784625 0.7911970721539543 /// index: 84 (0, 0, 'min', 'min', 'min', 0) done\n",
      "0.785 0.7924910722903193 /// index: 85 (0, 0, 'min', 'min', 'min', 'min') done\n",
      "0.78435 0.790549728049728 /// index: 86 (0, 0, 'min', 'min', 'min', 'max') done\n",
      "0.785325 0.7914713810437359 /// index: 87 (0, 0, 'min', 'min', 'min', 'median') done\n",
      "0.785675 0.7923458883371686 /// index: 88 (0, 0, 'min', 'min', 'max', 0) done\n",
      "0.78465 0.7906886329396899 /// index: 89 (0, 0, 'min', 'min', 'max', 'min') done\n",
      "0.784375 0.7901919287747209 /// index: 90 (0, 0, 'min', 'min', 'max', 'max') done\n",
      "0.784925 0.7921127032839572 /// index: 91 (0, 0, 'min', 'min', 'max', 'median') done\n",
      "0.784075 0.7891511852159265 /// index: 92 (0, 0, 'min', 'min', 'median', 0) done\n",
      "0.78425 0.7909905546137079 /// index: 93 (0, 0, 'min', 'min', 'median', 'min') done\n",
      "0.781125 0.7874742080349557 /// index: 94 (0, 0, 'min', 'min', 'median', 'max') done\n",
      "0.787425 0.7937916818236935 /// index: 95 (0, 0, 'min', 'min', 'median', 'median') done\n",
      "0.78625 0.7922538633492078 /// index: 96 (0, 0, 'min', 'max', 0, 0) done\n",
      "0.78385 0.7897168985309855 /// index: 97 (0, 0, 'min', 'max', 0, 'min') done\n",
      "0.783925 0.7889841060572768 /// index: 98 (0, 0, 'min', 'max', 0, 'max') done\n",
      "0.78495 0.7901746511854815 /// index: 99 (0, 0, 'min', 'max', 0, 'median') done\n",
      "0.7838 0.7904226444358278 /// index: 100 (0, 0, 'min', 'max', 'min', 0) done\n",
      "0.78465 0.7909324790058734 /// index: 101 (0, 0, 'min', 'max', 'min', 'min') done\n",
      "0.78275 0.7888932076571762 /// index: 102 (0, 0, 'min', 'max', 'min', 'max') done\n",
      "0.781975 0.7869236971340615 /// index: 103 (0, 0, 'min', 'max', 'min', 'median') done\n",
      "0.784925 0.7914677008847413 /// index: 104 (0, 0, 'min', 'max', 'max', 0) done\n",
      "0.786225 0.792537059950991 /// index: 105 (0, 0, 'min', 'max', 'max', 'min') done\n",
      "0.7847 0.7896947496947497 /// index: 106 (0, 0, 'min', 'max', 'max', 'max') done\n"
     ]
    },
    {
     "name": "stdout",
     "output_type": "stream",
     "text": [
      "0.787325 0.7923653315759929 /// index: 107 (0, 0, 'min', 'max', 'max', 'median') done\n",
      "0.787875 0.795152217474228 /// index: 108 (0, 0, 'min', 'max', 'median', 0) done\n",
      "0.787475 0.7941197839722943 /// index: 109 (0, 0, 'min', 'max', 'median', 'min') done\n",
      "0.78685 0.7931185091720857 /// index: 110 (0, 0, 'min', 'max', 'median', 'max') done\n",
      "0.786075 0.7927434785767916 /// index: 111 (0, 0, 'min', 'max', 'median', 'median') done\n",
      "0.78645 0.793252008906961 /// index: 112 (0, 0, 'min', 'median', 0, 0) done\n",
      "0.7875 0.7939294026377036 /// index: 113 (0, 0, 'min', 'median', 0, 'min') done\n",
      "0.786475 0.792356502078623 /// index: 114 (0, 0, 'min', 'median', 0, 'max') done\n",
      "0.7874 0.7933715618621829 /// index: 115 (0, 0, 'min', 'median', 0, 'median') done\n",
      "0.786625 0.7933364003971041 /// index: 116 (0, 0, 'min', 'median', 'min', 0) done\n",
      "0.7854 0.7923661167819651 /// index: 117 (0, 0, 'min', 'median', 'min', 'min') done\n",
      "0.785225 0.7913945074423911 /// index: 118 (0, 0, 'min', 'median', 'min', 'max') done\n",
      "0.7859 0.791832766164317 /// index: 119 (0, 0, 'min', 'median', 'min', 'median') done\n",
      "0.7831 0.7897237033446438 /// index: 120 (0, 0, 'min', 'median', 'max', 0) done\n",
      "0.78475 0.7914446274585796 /// index: 121 (0, 0, 'min', 'median', 'max', 'min') done\n",
      "0.78345 0.7894301828082458 /// index: 122 (0, 0, 'min', 'median', 'max', 'max') done\n",
      "0.782375 0.7891383862606884 /// index: 123 (0, 0, 'min', 'median', 'max', 'median') done\n",
      "0.787375 0.7934526556087136 /// index: 124 (0, 0, 'min', 'median', 'median', 0) done\n",
      "0.7861 0.7923603358734164 /// index: 125 (0, 0, 'min', 'median', 'median', 'min') done\n",
      "0.7872 0.791902992372384 /// index: 126 (0, 0, 'min', 'median', 'median', 'max') done\n",
      "0.784 0.7895147144806081 /// index: 127 (0, 0, 'min', 'median', 'median', 'median') done\n",
      "0.785275 0.7920590727514829 /// index: 128 (0, 0, 'max', 0, 0, 0) done\n",
      "0.784775 0.7902545986112802 /// index: 129 (0, 0, 'max', 0, 0, 'min') done\n",
      "0.786525 0.7923546433869124 /// index: 130 (0, 0, 'max', 0, 0, 'max') done\n",
      "0.7856 0.7911043990841331 /// index: 131 (0, 0, 'max', 0, 0, 'median') done\n",
      "0.788275 0.7947356940303933 /// index: 132 (0, 0, 'max', 0, 'min', 0) done\n",
      "0.784175 0.7901198551041743 /// index: 133 (0, 0, 'max', 0, 'min', 'min') done\n",
      "0.786875 0.7931678676274353 /// index: 134 (0, 0, 'max', 0, 'min', 'max') done\n",
      "0.78475 0.7915456130156886 /// index: 135 (0, 0, 'max', 0, 'min', 'median') done\n",
      "0.78585 0.7915206386292835 /// index: 136 (0, 0, 'max', 0, 'max', 0) done\n",
      "0.78465 0.7921332046332045 /// index: 137 (0, 0, 'max', 0, 'max', 'min') done\n",
      "0.7838 0.7897500729359136 /// index: 138 (0, 0, 'max', 0, 'max', 'max') done\n",
      "0.785925 0.7920036920984236 /// index: 139 (0, 0, 'max', 0, 'max', 'median') done\n",
      "0.784075 0.7903589892958566 /// index: 140 (0, 0, 'max', 0, 'median', 0) done\n",
      "0.7859 0.791345872721957 /// index: 141 (0, 0, 'max', 0, 'median', 'min') done\n",
      "0.78635 0.7908160767611495 /// index: 142 (0, 0, 'max', 0, 'median', 'max') done\n",
      "0.785075 0.7925784737134172 /// index: 143 (0, 0, 'max', 0, 'median', 'median') done\n",
      "0.789325 0.7956446880228921 /// index: 144 (0, 0, 'max', 'min', 0, 0) done\n",
      "0.7861 0.7923300970873788 /// index: 145 (0, 0, 'max', 'min', 0, 'min') done\n",
      "0.787 0.792428007601228 /// index: 146 (0, 0, 'max', 'min', 0, 'max') done\n",
      "0.78755 0.7920825993345078 /// index: 147 (0, 0, 'max', 'min', 0, 'median') done\n",
      "0.78455 0.7900404424304438 /// index: 148 (0, 0, 'max', 'min', 'min', 0) done\n",
      "0.78295 0.7893332039211879 /// index: 149 (0, 0, 'max', 'min', 'min', 'min') done\n",
      "0.785 0.7901210464662242 /// index: 150 (0, 0, 'max', 'min', 'min', 'max') done\n",
      "0.787325 0.7938146828570736 /// index: 151 (0, 0, 'max', 'min', 'min', 'median') done\n",
      "0.78495 0.7908480840303443 /// index: 152 (0, 0, 'max', 'min', 'max', 0) done\n",
      "0.78555 0.792531321046776 /// index: 153 (0, 0, 'max', 'min', 'max', 'min') done\n",
      "0.7838 0.7897500729359136 /// index: 154 (0, 0, 'max', 'min', 'max', 'max') done\n",
      "0.787225 0.7928138464909078 /// index: 155 (0, 0, 'max', 'min', 'max', 'median') done\n",
      "0.7832 0.7898817600310138 /// index: 156 (0, 0, 'max', 'min', 'median', 0) done\n",
      "0.783925 0.7905285863163762 /// index: 157 (0, 0, 'max', 'min', 'median', 'min') done\n",
      "0.78755 0.79326618985063 /// index: 158 (0, 0, 'max', 'min', 'median', 'max') done\n",
      "0.7812 0.7875006070023794 /// index: 159 (0, 0, 'max', 'min', 'median', 'median') done\n",
      "0.784875 0.7914899803726767 /// index: 160 (0, 0, 'max', 'max', 0, 0) done\n",
      "0.7877 0.7939735067203648 /// index: 161 (0, 0, 'max', 'max', 0, 'min') done\n",
      "0.785525 0.791756681311746 /// index: 162 (0, 0, 'max', 'max', 0, 'max') done\n",
      "0.78435 0.7905090343889644 /// index: 163 (0, 0, 'max', 'max', 0, 'median') done\n",
      "0.7846 0.7900482479653004 /// index: 164 (0, 0, 'max', 'max', 'min', 0) done\n",
      "0.78105 0.7878494258999079 /// index: 165 (0, 0, 'max', 'max', 'min', 'min') done\n",
      "0.7867 0.7911280846063454 /// index: 166 (0, 0, 'max', 'max', 'min', 'max') done\n",
      "0.781775 0.7860172088348492 /// index: 167 (0, 0, 'max', 'max', 'min', 'median') done\n",
      "0.786925 0.7934369016747049 /// index: 168 (0, 0, 'max', 'max', 'max', 0) done\n",
      "0.784275 0.7913129700839198 /// index: 169 (0, 0, 'max', 'max', 'max', 'min') done\n",
      "0.782775 0.7886762166500474 /// index: 170 (0, 0, 'max', 'max', 'max', 'max') done\n",
      "0.787225 0.7941268958177112 /// index: 171 (0, 0, 'max', 'max', 'max', 'median') done\n",
      "0.784975 0.7908469712812781 /// index: 172 (0, 0, 'max', 'max', 'median', 0) done\n",
      "0.784125 0.7904278814649419 /// index: 173 (0, 0, 'max', 'max', 'median', 'min') done\n",
      "0.785675 0.7915278554580161 /// index: 174 (0, 0, 'max', 'max', 'median', 'max') done\n",
      "0.786525 0.7923344439310294 /// index: 175 (0, 0, 'max', 'max', 'median', 'median') done\n",
      "0.7884 0.7950009688044952 /// index: 176 (0, 0, 'max', 'median', 0, 0) done\n",
      "0.786125 0.7929022731123967 /// index: 177 (0, 0, 'max', 'median', 0, 'min') done\n",
      "0.7855 0.7906908665105387 /// index: 178 (0, 0, 'max', 'median', 0, 'max') done\n",
      "0.78665 0.7921476935067465 /// index: 179 (0, 0, 'max', 'median', 0, 'median') done\n",
      "0.790925 0.7965553312087965 /// index: 180 (0, 0, 'max', 'median', 'min', 0) done\n",
      "0.786225 0.7927884265878303 /// index: 181 (0, 0, 'max', 'median', 'min', 'min') done\n",
      "0.7888 0.7933564894085416 /// index: 182 (0, 0, 'max', 'median', 'min', 'max') done\n",
      "0.7856 0.7921372824664308 /// index: 183 (0, 0, 'max', 'median', 'min', 'median') done\n",
      "0.784125 0.7906615917961648 /// index: 184 (0, 0, 'max', 'median', 'max', 0) done\n",
      "0.78375 0.7897934386391251 /// index: 185 (0, 0, 'max', 'median', 'max', 'min') done\n",
      "0.784225 0.7891638371155679 /// index: 186 (0, 0, 'max', 'median', 'max', 'max') done\n",
      "0.781225 0.7879830405814658 /// index: 187 (0, 0, 'max', 'median', 'max', 'median') done\n",
      "0.785675 0.7911113276966936 /// index: 188 (0, 0, 'max', 'median', 'median', 0) done\n",
      "0.78335 0.790088169750993 /// index: 189 (0, 0, 'max', 'median', 'median', 'min') done\n",
      "0.784725 0.791192802929266 /// index: 190 (0, 0, 'max', 'median', 'median', 'max') done\n",
      "0.78075 0.7883789392403842 /// index: 191 (0, 0, 'max', 'median', 'median', 'median') done\n",
      "0.787525 0.7930656667721749 /// index: 192 (0, 0, 'median', 0, 0, 0) done\n",
      "0.782675 0.7898160013539979 /// index: 193 (0, 0, 'median', 0, 0, 'min') done\n",
      "0.786225 0.7920324926429458 /// index: 194 (0, 0, 'median', 0, 0, 'max') done\n",
      "0.78775 0.7942915293661562 /// index: 195 (0, 0, 'median', 0, 0, 'median') done\n",
      "0.7873 0.7928213120342863 /// index: 196 (0, 0, 'median', 0, 'min', 0) done\n",
      "0.786625 0.79307586006255 /// index: 197 (0, 0, 'median', 0, 'min', 'min') done\n",
      "0.784175 0.7890634544432771 /// index: 198 (0, 0, 'median', 0, 'min', 'max') done\n",
      "0.7876 0.7939064622549972 /// index: 199 (0, 0, 'median', 0, 'min', 'median') done\n",
      "0.7844 0.7906694499732996 /// index: 200 (0, 0, 'median', 0, 'max', 0) done\n",
      "0.7828 0.788510223953262 /// index: 201 (0, 0, 'median', 0, 'max', 'min') done\n",
      "0.785025 0.7908243936850812 /// index: 202 (0, 0, 'median', 0, 'max', 'max') done\n",
      "0.782825 0.7897068435449902 /// index: 203 (0, 0, 'median', 0, 'max', 'median') done\n",
      "0.782525 0.7901174994571379 /// index: 204 (0, 0, 'median', 0, 'median', 0) done\n",
      "0.781 0.7885283893395134 /// index: 205 (0, 0, 'median', 0, 'median', 'min') done\n",
      "0.784675 0.7913163569403725 /// index: 206 (0, 0, 'median', 0, 'median', 'max') done\n",
      "0.7898 0.7951965703707313 /// index: 207 (0, 0, 'median', 0, 'median', 'median') done\n"
     ]
    },
    {
     "name": "stdout",
     "output_type": "stream",
     "text": [
      "0.782775 0.789270729755293 /// index: 208 (0, 0, 'median', 'min', 0, 0) done\n",
      "0.789825 0.7951560634487465 /// index: 209 (0, 0, 'median', 'min', 0, 'min') done\n",
      "0.7832 0.78914608052908 /// index: 210 (0, 0, 'median', 'min', 0, 'max') done\n",
      "0.78395 0.7909024921364627 /// index: 211 (0, 0, 'median', 'min', 0, 'median') done\n",
      "0.788175 0.7951451850777302 /// index: 212 (0, 0, 'median', 'min', 'min', 0) done\n",
      "0.78725 0.7945932898865555 /// index: 213 (0, 0, 'median', 'min', 'min', 'min') done\n",
      "0.784575 0.7906106480693994 /// index: 214 (0, 0, 'median', 'min', 'min', 'max') done\n",
      "0.7828 0.7898098417767456 /// index: 215 (0, 0, 'median', 'min', 'min', 'median') done\n",
      "0.785275 0.7914835765094316 /// index: 216 (0, 0, 'median', 'min', 'max', 0) done\n",
      "0.791125 0.7985339152660896 /// index: 217 (0, 0, 'median', 'min', 'max', 'min') done\n",
      "0.78665 0.7913651476628202 /// index: 218 (0, 0, 'median', 'min', 'max', 'max') done\n",
      "0.789 0.7939654330631774 /// index: 219 (0, 0, 'median', 'min', 'max', 'median') done\n",
      "0.78555 0.7928219495700898 /// index: 220 (0, 0, 'median', 'min', 'median', 0) done\n",
      "0.78325 0.7889175634221162 /// index: 221 (0, 0, 'median', 'min', 'median', 'min') done\n",
      "0.785225 0.792502958722798 /// index: 222 (0, 0, 'median', 'min', 'median', 'max') done\n",
      "0.78535 0.7902169663799845 /// index: 223 (0, 0, 'median', 'min', 'median', 'median') done\n",
      "0.78705 0.7942611468045022 /// index: 224 (0, 0, 'median', 'max', 0, 0) done\n",
      "0.783075 0.7892960345790533 /// index: 225 (0, 0, 'median', 'max', 0, 'min') done\n",
      "0.7849 0.7905957943925234 /// index: 226 (0, 0, 'median', 'max', 0, 'max') done\n",
      "0.786425 0.791140014179889 /// index: 227 (0, 0, 'median', 'max', 0, 'median') done\n",
      "0.78535 0.7922272771270933 /// index: 228 (0, 0, 'median', 'max', 'min', 0) done\n",
      "0.785675 0.7929977061451164 /// index: 229 (0, 0, 'median', 'max', 'min', 'min') done\n",
      "0.7838 0.7898420413122721 /// index: 230 (0, 0, 'median', 'max', 'min', 'max') done\n",
      "0.787975 0.7950013294336613 /// index: 231 (0, 0, 'median', 'max', 'min', 'median') done\n",
      "0.78465 0.7910947276519377 /// index: 232 (0, 0, 'median', 'max', 'max', 0) done\n",
      "0.7826 0.7898806359638525 /// index: 233 (0, 0, 'median', 'max', 'max', 'min') done\n",
      "0.787225 0.7929851871670761 /// index: 234 (0, 0, 'median', 'max', 'max', 'max') done\n",
      "0.782625 0.79024437314549 /// index: 235 (0, 0, 'median', 'max', 'max', 'median') done\n",
      "0.786925 0.7920965971459933 /// index: 236 (0, 0, 'median', 'max', 'median', 0) done\n",
      "0.7857 0.7909880035111675 /// index: 237 (0, 0, 'median', 'max', 'median', 'min') done\n",
      "0.783275 0.790446953032464 /// index: 238 (0, 0, 'median', 'max', 'median', 'max') done\n",
      "0.785575 0.7922892499939458 /// index: 239 (0, 0, 'median', 'max', 'median', 'median') done\n",
      "0.78265 0.7880029261155814 /// index: 240 (0, 0, 'median', 'median', 0, 0) done\n",
      "0.786125 0.7924903582603632 /// index: 241 (0, 0, 'median', 'median', 0, 'min') done\n",
      "0.787025 0.793142801641454 /// index: 242 (0, 0, 'median', 'median', 0, 'max') done\n",
      "0.7891 0.7956890288205376 /// index: 243 (0, 0, 'median', 'median', 0, 'median') done\n",
      "0.784675 0.7911341756189828 /// index: 244 (0, 0, 'median', 'median', 'min', 0) done\n",
      "0.785525 0.7915441623132062 /// index: 245 (0, 0, 'median', 'median', 'min', 'min') done\n",
      "0.7884 0.7954171903702988 /// index: 246 (0, 0, 'median', 'median', 'min', 'max') done\n",
      "0.78535 0.7915007285089849 /// index: 247 (0, 0, 'median', 'median', 'min', 'median') done\n",
      "0.787675 0.7935836675173168 /// index: 248 (0, 0, 'median', 'median', 'max', 0) done\n",
      "0.786275 0.7941636770760601 /// index: 249 (0, 0, 'median', 'median', 'max', 'min') done\n",
      "0.785275 0.790619438824017 /// index: 250 (0, 0, 'median', 'median', 'max', 'max') done\n",
      "0.783375 0.7900666262870989 /// index: 251 (0, 0, 'median', 'median', 'max', 'median') done\n",
      "0.7829 0.7910088563727379 /// index: 252 (0, 0, 'median', 'median', 'median', 0) done\n",
      "0.786975 0.7938351358544434 /// index: 253 (0, 0, 'median', 'median', 'median', 'min') done\n",
      "0.78365 0.7890708784244906 /// index: 254 (0, 0, 'median', 'median', 'median', 'max') done\n",
      "0.788025 0.7951289052117815 /// index: 255 (0, 0, 'median', 'median', 'median', 'median') done\n",
      "0.786325 0.7938146816876945 /// index: 256 (0, 'min', 0, 0, 0, 0) done\n",
      "0.782825 0.7902552092136079 /// index: 257 (0, 'min', 0, 0, 0, 'min') done\n",
      "0.784325 0.7893850247796684 /// index: 258 (0, 'min', 0, 0, 0, 'max') done\n",
      "0.7869 0.7928856059869763 /// index: 259 (0, 'min', 0, 0, 0, 'median') done\n",
      "0.784625 0.7903535882023703 /// index: 260 (0, 'min', 0, 0, 'min', 0) done\n",
      "0.786325 0.7935656836461126 /// index: 261 (0, 'min', 0, 0, 'min', 'min') done\n",
      "0.78735 0.7933631328345156 /// index: 262 (0, 'min', 0, 0, 'min', 'max') done\n",
      "0.788125 0.7939309942373625 /// index: 263 (0, 'min', 0, 0, 'min', 'median') done\n",
      "0.7844 0.7909738717339668 /// index: 264 (0, 'min', 0, 0, 'max', 0) done\n",
      "0.7866 0.7930164888457807 /// index: 265 (0, 'min', 0, 0, 'max', 'min') done\n",
      "0.784675 0.7912151843502291 /// index: 266 (0, 'min', 0, 0, 'max', 'max') done\n",
      "0.7865 0.7932703945775841 /// index: 267 (0, 'min', 0, 0, 'max', 'median') done\n",
      "0.784725 0.7904713239409202 /// index: 268 (0, 'min', 0, 0, 'median', 0) done\n",
      "0.785475 0.7913941898626474 /// index: 269 (0, 'min', 0, 0, 'median', 'min') done\n",
      "0.787325 0.792101468755346 /// index: 270 (0, 'min', 0, 0, 'median', 'max') done\n",
      "0.78755 0.7942572147975984 /// index: 271 (0, 'min', 0, 0, 'median', 'median') done\n",
      "0.784325 0.7899900192312374 /// index: 272 (0, 'min', 0, 'min', 0, 0) done\n",
      "0.784775 0.7912919101069117 /// index: 273 (0, 'min', 0, 'min', 0, 'min') done\n",
      "0.786 0.7914839715482802 /// index: 274 (0, 'min', 0, 'min', 0, 'max') done\n",
      "0.786225 0.7915457936179031 /// index: 275 (0, 'min', 0, 'min', 0, 'median') done\n",
      "0.7841 0.7899703292961721 /// index: 276 (0, 'min', 0, 'min', 'min', 0) done\n",
      "0.78495 0.7918400929242088 /// index: 277 (0, 'min', 0, 'min', 'min', 'min') done\n",
      "0.7843 0.7887261863950242 /// index: 278 (0, 'min', 0, 'min', 'min', 'max') done\n",
      "0.788625 0.7930891026111642 /// index: 279 (0, 'min', 0, 'min', 'min', 'median') done\n",
      "0.7857 0.7923248376780695 /// index: 280 (0, 'min', 0, 'min', 'max', 0) done\n",
      "0.7849 0.7917614598964131 /// index: 281 (0, 'min', 0, 'min', 'max', 'min') done\n",
      "0.7869 0.7921381193913383 /// index: 282 (0, 'min', 0, 'min', 'max', 'max') done\n",
      "0.784675 0.7910531040003881 /// index: 283 (0, 'min', 0, 'min', 'max', 'median') done\n",
      "0.7811 0.7858016537012573 /// index: 284 (0, 'min', 0, 'min', 'median', 0) done\n",
      "0.785125 0.7922256871419247 /// index: 285 (0, 'min', 0, 'min', 'median', 'min') done\n",
      "0.7819 0.789000145116819 /// index: 286 (0, 'min', 0, 'min', 'median', 'max') done\n",
      "0.7847 0.7914567996900427 /// index: 287 (0, 'min', 0, 'min', 'median', 'median') done\n",
      "0.785375 0.7920652990045293 /// index: 288 (0, 'min', 0, 'max', 0, 0) done\n",
      "0.7876 0.7947627790124651 /// index: 289 (0, 'min', 0, 'max', 0, 'min') done\n",
      "0.781875 0.7873248019500304 /// index: 290 (0, 'min', 0, 'max', 0, 'max') done\n",
      "0.78255 0.7890984918287184 /// index: 291 (0, 'min', 0, 'max', 0, 'median') done\n",
      "0.786125 0.7918643408023746 /// index: 292 (0, 'min', 0, 'max', 'min', 0) done\n",
      "0.786125 0.7928521271701493 /// index: 293 (0, 'min', 0, 'max', 'min', 'min') done\n",
      "0.784725 0.7896112780668962 /// index: 294 (0, 'min', 0, 'max', 'min', 'max') done\n",
      "0.786225 0.7917894275487594 /// index: 295 (0, 'min', 0, 'max', 'min', 'median') done\n",
      "0.7893 0.7960309777347532 /// index: 296 (0, 'min', 0, 'max', 'max', 0) done\n",
      "0.784225 0.7905147933302591 /// index: 297 (0, 'min', 0, 'max', 'max', 'min') done\n",
      "0.78455 0.7909064440993789 /// index: 298 (0, 'min', 0, 'max', 'max', 'max') done\n",
      "0.785575 0.7913900036483036 /// index: 299 (0, 'min', 0, 'max', 'max', 'median') done\n",
      "0.7855 0.7919697410532441 /// index: 300 (0, 'min', 0, 'max', 'median', 0) done\n",
      "0.788225 0.7939079872515389 /// index: 301 (0, 'min', 0, 'max', 'median', 'min') done\n",
      "0.78725 0.7934566283190135 /// index: 302 (0, 'min', 0, 'max', 'median', 'max') done\n",
      "0.78795 0.7935449323337553 /// index: 303 (0, 'min', 0, 'max', 'median', 'median') done\n",
      "0.7881 0.795137042587132 /// index: 304 (0, 'min', 0, 'median', 0, 0) done\n",
      "0.7861 0.7913476076671707 /// index: 305 (0, 'min', 0, 'median', 0, 'min') done\n",
      "0.7869 0.7919554817924437 /// index: 306 (0, 'min', 0, 'median', 0, 'max') done\n"
     ]
    },
    {
     "name": "stdout",
     "output_type": "stream",
     "text": [
      "0.781575 0.7881990739618434 /// index: 307 (0, 'min', 0, 'median', 0, 'median') done\n",
      "0.7849 0.7915697674418604 /// index: 308 (0, 'min', 0, 'median', 'min', 0) done\n",
      "0.782825 0.7892067651840529 /// index: 309 (0, 'min', 0, 'median', 'min', 'min') done\n",
      "0.7839 0.7897246278096721 /// index: 310 (0, 'min', 0, 'median', 'min', 'max') done\n",
      "0.78785 0.7938089221498689 /// index: 311 (0, 'min', 0, 'median', 'min', 'median') done\n",
      "0.7839 0.7910260129581279 /// index: 312 (0, 'min', 0, 'median', 'max', 0) done\n",
      "0.78225 0.7887665518746665 /// index: 313 (0, 'min', 0, 'median', 'max', 'min') done\n",
      "0.78585 0.7917537803277095 /// index: 314 (0, 'min', 0, 'median', 'max', 'max') done\n",
      "0.786875 0.7926749191371386 /// index: 315 (0, 'min', 0, 'median', 'max', 'median') done\n",
      "0.78465 0.7925537038820923 /// index: 316 (0, 'min', 0, 'median', 'median', 0) done\n",
      "0.7853 0.7920983828798295 /// index: 317 (0, 'min', 0, 'median', 'median', 'min') done\n",
      "0.78265 0.7887036406941136 /// index: 318 (0, 'min', 0, 'median', 'median', 'max') done\n",
      "0.787475 0.7947758491659224 /// index: 319 (0, 'min', 0, 'median', 'median', 'median') done\n",
      "0.787975 0.7943052557541656 /// index: 320 (0, 'min', 'min', 0, 0, 0) done\n",
      "0.78535 0.7920058139534883 /// index: 321 (0, 'min', 'min', 0, 0, 'min') done\n",
      "0.789475 0.7940622630896774 /// index: 322 (0, 'min', 'min', 0, 0, 'max') done\n",
      "0.78135 0.7876153472559495 /// index: 323 (0, 'min', 'min', 0, 0, 'median') done\n",
      "0.783625 0.7899118867878728 /// index: 324 (0, 'min', 'min', 0, 'min', 0) done\n",
      "0.780725 0.7857020694373182 /// index: 325 (0, 'min', 'min', 0, 'min', 'min') done\n",
      "0.78515 0.7897440915985712 /// index: 326 (0, 'min', 'min', 0, 'min', 'max') done\n",
      "0.7812 0.7863385576876128 /// index: 327 (0, 'min', 'min', 0, 'min', 'median') done\n",
      "0.783825 0.7894621509094009 /// index: 328 (0, 'min', 'min', 0, 'max', 0) done\n",
      "0.785175 0.7910516717325228 /// index: 329 (0, 'min', 'min', 0, 'max', 'min') done\n",
      "0.784775 0.7909269737960513 /// index: 330 (0, 'min', 'min', 0, 'max', 'max') done\n",
      "0.7874 0.7942215554372549 /// index: 331 (0, 'min', 'min', 0, 'max', 'median') done\n",
      "0.78575 0.7920205795272532 /// index: 332 (0, 'min', 'min', 0, 'median', 0) done\n",
      "0.7829 0.7897234732916848 /// index: 333 (0, 'min', 'min', 0, 'median', 'min') done\n",
      "0.783825 0.7883904754912757 /// index: 334 (0, 'min', 'min', 0, 'median', 'max') done\n",
      "0.7847 0.7914466992783455 /// index: 335 (0, 'min', 'min', 0, 'median', 'median') done\n",
      "0.78415 0.7903758376226087 /// index: 336 (0, 'min', 'min', 'min', 0, 0) done\n",
      "0.78505 0.7906297180149028 /// index: 337 (0, 'min', 'min', 'min', 0, 'min') done\n",
      "0.785625 0.7907362666861898 /// index: 338 (0, 'min', 'min', 'min', 0, 'max') done\n",
      "0.787775 0.7936006224318607 /// index: 339 (0, 'min', 'min', 'min', 0, 'median') done\n",
      "0.786725 0.792982115557281 /// index: 340 (0, 'min', 'min', 'min', 'min', 0) done\n",
      "0.7844 0.7910447761194029 /// index: 341 (0, 'min', 'min', 'min', 'min', 'min') done\n",
      "0.785275 0.7901487942534633 /// index: 342 (0, 'min', 'min', 'min', 'min', 'max') done\n",
      "0.7862 0.7917600077919548 /// index: 343 (0, 'min', 'min', 'min', 'min', 'median') done\n",
      "0.785225 0.7927332384375979 /// index: 344 (0, 'min', 'min', 'min', 'max', 0) done\n",
      "0.784625 0.7912577839160669 /// index: 345 (0, 'min', 'min', 'min', 'max', 'min') done\n",
      "0.7829 0.7901300207839916 /// index: 346 (0, 'min', 'min', 'min', 'max', 'max') done\n",
      "0.784775 0.7914637986580433 /// index: 347 (0, 'min', 'min', 'min', 'max', 'median') done\n",
      "0.78635 0.7920782443676706 /// index: 348 (0, 'min', 'min', 'min', 'median', 0) done\n",
      "0.784475 0.7895623306563819 /// index: 349 (0, 'min', 'min', 'min', 'median', 'min') done\n",
      "0.786175 0.7927700918275872 /// index: 350 (0, 'min', 'min', 'min', 'median', 'max') done\n",
      "0.78485 0.7910455008983635 /// index: 351 (0, 'min', 'min', 'min', 'median', 'median') done\n",
      "0.788125 0.7945404737084535 /// index: 352 (0, 'min', 'min', 'max', 0, 0) done\n",
      "0.785275 0.79002566923359 /// index: 353 (0, 'min', 'min', 'max', 0, 'min') done\n",
      "0.7829 0.7892335323527984 /// index: 354 (0, 'min', 'min', 'max', 0, 'max') done\n",
      "0.785825 0.7914506195379636 /// index: 355 (0, 'min', 'min', 'max', 0, 'median') done\n",
      "0.7835 0.7890274800233872 /// index: 356 (0, 'min', 'min', 'max', 'min', 0) done\n",
      "0.7847 0.7898589624713288 /// index: 357 (0, 'min', 'min', 'max', 'min', 'min') done\n",
      "0.78225 0.7870103193622537 /// index: 358 (0, 'min', 'min', 'max', 'min', 'max') done\n",
      "0.784325 0.7910986270189119 /// index: 359 (0, 'min', 'min', 'max', 'min', 'median') done\n",
      "0.788075 0.7948699334543254 /// index: 360 (0, 'min', 'min', 'max', 'max', 0) done\n",
      "0.78475 0.7901944539207564 /// index: 361 (0, 'min', 'min', 'max', 'max', 'min') done\n",
      "0.784475 0.7899622365696187 /// index: 362 (0, 'min', 'min', 'max', 'max', 'max') done\n",
      "0.7822 0.7893209518282066 /// index: 363 (0, 'min', 'min', 'max', 'max', 'median') done\n",
      "0.787175 0.7926844117575432 /// index: 364 (0, 'min', 'min', 'max', 'median', 0) done\n",
      "0.783475 0.7900821638915145 /// index: 365 (0, 'min', 'min', 'max', 'median', 'min') done\n",
      "0.783075 0.7896229846041944 /// index: 366 (0, 'min', 'min', 'max', 'median', 'max') done\n",
      "0.786025 0.7915641818668875 /// index: 367 (0, 'min', 'min', 'max', 'median', 'median') done\n",
      "0.785825 0.7915723913096366 /// index: 368 (0, 'min', 'min', 'median', 0, 0) done\n",
      "0.786 0.7930067224452291 /// index: 369 (0, 'min', 'min', 'median', 0, 'min') done\n",
      "0.787125 0.793550733422233 /// index: 370 (0, 'min', 'min', 'median', 0, 'max') done\n",
      "0.7849 0.7914384059727543 /// index: 371 (0, 'min', 'min', 'median', 0, 'median') done\n",
      "0.7874 0.7912616593028964 /// index: 372 (0, 'min', 'min', 'median', 'min', 0) done\n",
      "0.785325 0.7922382715153273 /// index: 373 (0, 'min', 'min', 'median', 'min', 'min') done\n",
      "0.784825 0.7902522237114659 /// index: 374 (0, 'min', 'min', 'median', 'min', 'max') done\n",
      "0.788525 0.794729306704846 /// index: 375 (0, 'min', 'min', 'median', 'min', 'median') done\n",
      "0.78095 0.7871130764371447 /// index: 376 (0, 'min', 'min', 'median', 'max', 0) done\n",
      "0.787525 0.7941482791193354 /// index: 377 (0, 'min', 'min', 'median', 'max', 'min') done\n",
      "0.785825 0.7927321994532214 /// index: 378 (0, 'min', 'min', 'median', 'max', 'max') done\n",
      "0.784525 0.7904907751768394 /// index: 379 (0, 'min', 'min', 'median', 'max', 'median') done\n",
      "0.78575 0.7926445681103313 /// index: 380 (0, 'min', 'min', 'median', 'median', 0) done\n",
      "0.7843 0.7908160791349464 /// index: 381 (0, 'min', 'min', 'median', 'median', 'min') done\n",
      "0.78575 0.7902594224180127 /// index: 382 (0, 'min', 'min', 'median', 'median', 'max') done\n",
      "0.783575 0.7891467959178703 /// index: 383 (0, 'min', 'min', 'median', 'median', 'median') done\n",
      "0.784925 0.7908593655038288 /// index: 384 (0, 'min', 'max', 0, 0, 0) done\n",
      "0.7834 0.7887962556676904 /// index: 385 (0, 'min', 'max', 0, 0, 'min') done\n",
      "0.784525 0.7891995010639077 /// index: 386 (0, 'min', 'max', 0, 0, 'max') done\n",
      "0.78825 0.792939911015499 /// index: 387 (0, 'min', 'max', 0, 0, 'median') done\n",
      "0.78485 0.7904042864101315 /// index: 388 (0, 'min', 'max', 0, 'min', 0) done\n",
      "0.78445 0.7919200695047784 /// index: 389 (0, 'min', 'max', 0, 'min', 'min') done\n",
      "0.78785 0.7930243902439024 /// index: 390 (0, 'min', 'max', 0, 'min', 'max') done\n",
      "0.7846 0.7900175472801716 /// index: 391 (0, 'min', 'max', 0, 'min', 'median') done\n",
      "0.7842 0.7889176896366216 /// index: 392 (0, 'min', 'max', 0, 'max', 0) done\n",
      "0.78475 0.7917069866460228 /// index: 393 (0, 'min', 'max', 0, 'max', 'min') done\n",
      "0.78445 0.7897380871092036 /// index: 394 (0, 'min', 'max', 0, 'max', 'max') done\n",
      "0.789225 0.7940795740419607 /// index: 395 (0, 'min', 'max', 0, 'max', 'median') done\n",
      "0.78645 0.7931017778423678 /// index: 396 (0, 'min', 'max', 0, 'median', 0) done\n",
      "0.782875 0.7885163269778654 /// index: 397 (0, 'min', 'max', 0, 'median', 'min') done\n",
      "0.784475 0.7906965451941053 /// index: 398 (0, 'min', 'max', 0, 'median', 'max') done\n",
      "0.785525 0.7921602829663009 /// index: 399 (0, 'min', 'max', 0, 'median', 'median') done\n",
      "0.78275 0.7885850525496302 /// index: 400 (0, 'min', 'max', 'min', 0, 0) done\n",
      "0.786075 0.7923713391405625 /// index: 401 (0, 'min', 'max', 'min', 0, 'min') done\n",
      "0.785075 0.790873044832032 /// index: 402 (0, 'min', 'max', 'min', 0, 'max') done\n",
      "0.784925 0.7896216956447314 /// index: 403 (0, 'min', 'max', 'min', 0, 'median') done\n"
     ]
    },
    {
     "name": "stdout",
     "output_type": "stream",
     "text": [
      "0.783975 0.790078468527561 /// index: 404 (0, 'min', 'max', 'min', 'min', 0) done\n",
      "0.782675 0.7897244865871652 /// index: 405 (0, 'min', 'max', 'min', 'min', 'min') done\n",
      "0.784625 0.7898114036157807 /// index: 406 (0, 'min', 'max', 'min', 'min', 'max') done\n",
      "0.787925 0.7947545425951464 /// index: 407 (0, 'min', 'max', 'min', 'min', 'median') done\n",
      "0.785925 0.7929792326475352 /// index: 408 (0, 'min', 'max', 'min', 'max', 0) done\n",
      "0.784225 0.7902806463370184 /// index: 409 (0, 'min', 'max', 'min', 'max', 'min') done\n",
      "0.782825 0.7881064468131815 /// index: 410 (0, 'min', 'max', 'min', 'max', 'max') done\n",
      "0.7874 0.7937824336776759 /// index: 411 (0, 'min', 'max', 'min', 'max', 'median') done\n",
      "0.78025 0.7866401281615613 /// index: 412 (0, 'min', 'max', 'min', 'median', 0) done\n",
      "0.7867 0.7929126213592232 /// index: 413 (0, 'min', 'max', 'min', 'median', 'min') done\n",
      "0.78415 0.7886827549072397 /// index: 414 (0, 'min', 'max', 'min', 'median', 'max') done\n",
      "0.7856 0.7915714771788266 /// index: 415 (0, 'min', 'max', 'min', 'median', 'median') done\n",
      "0.78825 0.7950839502588667 /// index: 416 (0, 'min', 'max', 'max', 0, 0) done\n",
      "0.7864 0.792560940079635 /// index: 417 (0, 'min', 'max', 'max', 0, 'min') done\n",
      "0.7871 0.7914176545507985 /// index: 418 (0, 'min', 'max', 'max', 0, 'max') done\n",
      "0.788675 0.7947553721014933 /// index: 419 (0, 'min', 'max', 'max', 0, 'median') done\n",
      "0.785975 0.7912816637004169 /// index: 420 (0, 'min', 'max', 'max', 'min', 0) done\n",
      "0.784075 0.7901348560320738 /// index: 421 (0, 'min', 'max', 'max', 'min', 'min') done\n",
      "0.78515 0.7904004682698406 /// index: 422 (0, 'min', 'max', 'max', 'min', 'max') done\n",
      "0.78565 0.7919336051252184 /// index: 423 (0, 'min', 'max', 'max', 'min', 'median') done\n",
      "0.78655 0.7923941059183971 /// index: 424 (0, 'min', 'max', 'max', 'max', 0) done\n",
      "0.7858 0.7922002328288708 /// index: 425 (0, 'min', 'max', 'max', 'max', 'min') done\n",
      "0.785075 0.7906693613187562 /// index: 426 (0, 'min', 'max', 'max', 'max', 'max') done\n",
      "0.783875 0.7903378361991609 /// index: 427 (0, 'min', 'max', 'max', 'max', 'median') done\n",
      "0.7812 0.7887011105746016 /// index: 428 (0, 'min', 'max', 'max', 'median', 0) done\n",
      "0.784125 0.791107240486731 /// index: 429 (0, 'min', 'max', 'max', 'median', 'min') done\n",
      "0.787275 0.7933555140005342 /// index: 430 (0, 'min', 'max', 'max', 'median', 'max') done\n",
      "0.78505 0.7912397416597874 /// index: 431 (0, 'min', 'max', 'max', 'median', 'median') done\n",
      "0.785375 0.791732369423352 /// index: 432 (0, 'min', 'max', 'median', 0, 0) done\n",
      "0.7858 0.7908305258532299 /// index: 433 (0, 'min', 'max', 'median', 0, 'min') done\n",
      "0.780475 0.7858344918416624 /// index: 434 (0, 'min', 'max', 'median', 0, 'max') done\n",
      "0.7875 0.7932778831655236 /// index: 435 (0, 'min', 'max', 'median', 0, 'median') done\n",
      "0.789175 0.7955884135256333 /// index: 436 (0, 'min', 'max', 'median', 'min', 0) done\n",
      "0.7872 0.7935283558919128 /// index: 437 (0, 'min', 'max', 'median', 'min', 'min') done\n",
      "0.781325 0.7866637399087828 /// index: 438 (0, 'min', 'max', 'median', 'min', 'max') done\n",
      "0.78685 0.7922717084104863 /// index: 439 (0, 'min', 'max', 'median', 'min', 'median') done\n",
      "0.7841 0.7907337404284192 /// index: 440 (0, 'min', 'max', 'median', 'max', 0) done\n",
      "0.7811 0.78749635957674 /// index: 441 (0, 'min', 'max', 'median', 'max', 'min') done\n",
      "0.78485 0.7900975609756097 /// index: 442 (0, 'min', 'max', 'median', 'max', 'max') done\n",
      "0.7853 0.7902910724750929 /// index: 443 (0, 'min', 'max', 'median', 'max', 'median') done\n",
      "0.782225 0.7881720691583785 /// index: 444 (0, 'min', 'max', 'median', 'median', 0) done\n",
      "0.7842 0.7915177277557724 /// index: 445 (0, 'min', 'max', 'median', 'median', 'min') done\n",
      "0.78425 0.7900958311037601 /// index: 446 (0, 'min', 'max', 'median', 'median', 'max') done\n",
      "0.78695 0.7930146701641893 /// index: 447 (0, 'min', 'max', 'median', 'median', 'median') done\n",
      "0.785925 0.7916190105370744 /// index: 448 (0, 'min', 'median', 0, 0, 0) done\n",
      "0.7843 0.7896840873634946 /// index: 449 (0, 'min', 'median', 0, 0, 'min') done\n",
      "0.7865 0.7921635434412266 /// index: 450 (0, 'min', 'median', 0, 0, 'max') done\n",
      "0.78215 0.7881454828357484 /// index: 451 (0, 'min', 'median', 0, 0, 'median') done\n",
      "0.784175 0.788038007316654 /// index: 452 (0, 'min', 'median', 0, 'min', 0) done\n",
      "0.78415 0.7910050348567003 /// index: 453 (0, 'min', 'median', 0, 'min', 'min') done\n",
      "0.7852 0.790867490994061 /// index: 454 (0, 'min', 'median', 0, 'min', 'max') done\n",
      "0.782 0.788174707282709 /// index: 455 (0, 'min', 'median', 0, 'min', 'median') done\n",
      "0.783875 0.7888424806428764 /// index: 456 (0, 'min', 'median', 0, 'max', 0) done\n",
      "0.783375 0.7914912048511682 /// index: 457 (0, 'min', 'median', 0, 'max', 'min') done\n",
      "0.789025 0.795065445979747 /// index: 458 (0, 'min', 'median', 0, 'max', 'max') done\n",
      "0.786875 0.7932982566738598 /// index: 459 (0, 'min', 'median', 0, 'max', 'median') done\n",
      "0.7854 0.792717086834734 /// index: 460 (0, 'min', 'median', 0, 'median', 0) done\n",
      "0.787925 0.7942767066812174 /// index: 461 (0, 'min', 'median', 0, 'median', 'min') done\n",
      "0.784375 0.7915206303932706 /// index: 462 (0, 'min', 'median', 0, 'median', 'max') done\n",
      "0.785125 0.7908301087829452 /// index: 463 (0, 'min', 'median', 0, 'median', 'median') done\n",
      "0.7861 0.7926622401008094 /// index: 464 (0, 'min', 'median', 'min', 0, 0) done\n",
      "0.78565 0.7902949664921979 /// index: 465 (0, 'min', 'median', 'min', 0, 'min') done\n",
      "0.781725 0.7867418968759924 /// index: 466 (0, 'min', 'median', 'min', 0, 'max') done\n",
      "0.780425 0.7854717764588066 /// index: 467 (0, 'min', 'median', 'min', 0, 'median') done\n",
      "0.78655 0.7928876382689696 /// index: 468 (0, 'min', 'median', 'min', 'min', 0) done\n",
      "0.788875 0.7956245008591273 /// index: 469 (0, 'min', 'median', 'min', 'min', 'min') done\n",
      "0.784625 0.7897498474679683 /// index: 470 (0, 'min', 'median', 'min', 'min', 'max') done\n",
      "0.788725 0.7951719624809134 /// index: 471 (0, 'min', 'median', 'min', 'min', 'median') done\n",
      "0.786175 0.7933508903331804 /// index: 472 (0, 'min', 'median', 'min', 'max', 0) done\n",
      "0.78255 0.7894048714347974 /// index: 473 (0, 'min', 'median', 'min', 'max', 'min') done\n",
      "0.78785 0.7931656429755288 /// index: 474 (0, 'min', 'median', 'min', 'max', 'max') done\n",
      "0.788325 0.7946049535453508 /// index: 475 (0, 'min', 'median', 'min', 'max', 'median') done\n",
      "0.785275 0.7914835765094316 /// index: 476 (0, 'min', 'median', 'min', 'median', 0) done\n",
      "0.787925 0.7946750574851748 /// index: 477 (0, 'min', 'median', 'min', 'median', 'min') done\n",
      "0.782425 0.7869053157366372 /// index: 478 (0, 'min', 'median', 'min', 'median', 'max') done\n",
      "0.785225 0.7909478038690839 /// index: 479 (0, 'min', 'median', 'min', 'median', 'median') done\n",
      "0.786175 0.793799271920731 /// index: 480 (0, 'min', 'median', 'max', 0, 0) done\n",
      "0.784475 0.7910820307766873 /// index: 481 (0, 'min', 'median', 'max', 0, 'min') done\n",
      "0.786825 0.790958789929151 /// index: 482 (0, 'min', 'median', 'max', 0, 'max') done\n",
      "0.78525 0.790324155438391 /// index: 483 (0, 'min', 'median', 'max', 0, 'median') done\n",
      "0.788375 0.7936422807830136 /// index: 484 (0, 'min', 'median', 'max', 'min', 0) done\n",
      "0.78765 0.7933534449202024 /// index: 485 (0, 'min', 'median', 'max', 'min', 'min') done\n",
      "0.785275 0.7912098597369763 /// index: 486 (0, 'min', 'median', 'max', 'min', 'max') done\n",
      "0.787675 0.794701346418816 /// index: 487 (0, 'min', 'median', 'max', 'min', 'median') done\n",
      "0.785325 0.7907498111460389 /// index: 488 (0, 'min', 'median', 'max', 'max', 0) done\n",
      "0.78765 0.7945828295042322 /// index: 489 (0, 'min', 'median', 'max', 'max', 'min') done\n",
      "0.786525 0.7925060141423469 /// index: 490 (0, 'min', 'median', 'max', 'max', 'max') done\n",
      "0.78205 0.7879244915831468 /// index: 491 (0, 'min', 'median', 'max', 'max', 'median') done\n",
      "0.7859 0.7912950236389337 /// index: 492 (0, 'min', 'median', 'max', 'median', 0) done\n",
      "0.78515 0.7921242320158677 /// index: 493 (0, 'min', 'median', 'max', 'median', 'min') done\n",
      "0.7883 0.7954194047158871 /// index: 494 (0, 'min', 'median', 'max', 'median', 'max') done\n",
      "0.782825 0.7886631796618416 /// index: 495 (0, 'min', 'median', 'max', 'median', 'median') done\n",
      "0.786925 0.7938665441265389 /// index: 496 (0, 'min', 'median', 'median', 0, 0) done\n",
      "0.7838 0.7896989446038616 /// index: 497 (0, 'min', 'median', 'median', 0, 'min') done\n",
      "0.787475 0.7930875015212364 /// index: 498 (0, 'min', 'median', 'median', 0, 'max') done\n"
     ]
    },
    {
     "name": "stdout",
     "output_type": "stream",
     "text": [
      "0.7824 0.790204396451986 /// index: 499 (0, 'min', 'median', 'median', 0, 'median') done\n",
      "0.786075 0.7925927721356375 /// index: 500 (0, 'min', 'median', 'median', 'min', 0) done\n",
      "0.7866 0.7928255909907286 /// index: 501 (0, 'min', 'median', 'median', 'min', 'min') done\n",
      "0.78615 0.792136469673406 /// index: 502 (0, 'min', 'median', 'median', 'min', 'max') done\n",
      "0.7862 0.791047693510555 /// index: 503 (0, 'min', 'median', 'median', 'min', 'median') done\n",
      "0.786125 0.7924601538050994 /// index: 504 (0, 'min', 'median', 'median', 'max', 0) done\n",
      "0.784275 0.7903394319313848 /// index: 505 (0, 'min', 'median', 'median', 'max', 'min') done\n",
      "0.7859 0.7893856672077124 /// index: 506 (0, 'min', 'median', 'median', 'max', 'max') done\n",
      "0.7839 0.7900412922030605 /// index: 507 (0, 'min', 'median', 'median', 'max', 'median') done\n",
      "0.782775 0.7875394283199257 /// index: 508 (0, 'min', 'median', 'median', 'median', 0) done\n",
      "0.785675 0.792627173991921 /// index: 509 (0, 'min', 'median', 'median', 'median', 'min') done\n",
      "0.78325 0.7898283719577233 /// index: 510 (0, 'min', 'median', 'median', 'median', 'max') done\n",
      "0.785825 0.7910334902553846 /// index: 511 (0, 'min', 'median', 'median', 'median', 'median') done\n",
      "0.7847 0.791375968992248 /// index: 512 (0, 'max', 0, 0, 0, 0) done\n",
      "0.784675 0.7902184767518328 /// index: 513 (0, 'max', 0, 0, 0, 'min') done\n",
      "0.783825 0.7892877159636427 /// index: 514 (0, 'max', 0, 0, 0, 'max') done\n",
      "0.784375 0.7910357359176258 /// index: 515 (0, 'max', 0, 0, 0, 'median') done\n",
      "0.78655 0.7920806545879603 /// index: 516 (0, 'max', 0, 0, 'min', 0) done\n",
      "0.78735 0.793573751395428 /// index: 517 (0, 'max', 0, 0, 'min', 'min') done\n",
      "0.7853 0.7911478599221791 /// index: 518 (0, 'max', 0, 0, 'min', 'max') done\n",
      "0.785925 0.791405812282283 /// index: 519 (0, 'max', 0, 0, 'min', 'median') done\n",
      "0.785875 0.7915196066499526 /// index: 520 (0, 'max', 0, 0, 'max', 0) done\n",
      "0.785225 0.7911307772726167 /// index: 521 (0, 'max', 0, 0, 'max', 'min') done\n",
      "0.782375 0.7870023734370794 /// index: 522 (0, 'max', 0, 0, 'max', 'max') done\n",
      "0.7849 0.7909316226855225 /// index: 523 (0, 'max', 0, 0, 'max', 'median') done\n",
      "0.785175 0.792914809013134 /// index: 524 (0, 'max', 0, 0, 'median', 0) done\n",
      "0.788625 0.7940968755327179 /// index: 525 (0, 'max', 0, 0, 'median', 'min') done\n",
      "0.786475 0.7918707507858762 /// index: 526 (0, 'max', 0, 0, 'median', 'max') done\n",
      "0.781775 0.787248044066392 /// index: 527 (0, 'max', 0, 0, 'median', 'median') done\n",
      "0.784925 0.7929432717995619 /// index: 528 (0, 'max', 0, 'min', 0, 0) done\n",
      "0.78785 0.7946471783951214 /// index: 529 (0, 'max', 0, 'min', 0, 'min') done\n",
      "0.786125 0.7922182012483909 /// index: 530 (0, 'max', 0, 'min', 0, 'max') done\n",
      "0.7885 0.7932551319648096 /// index: 531 (0, 'max', 0, 'min', 0, 'median') done\n",
      "0.7856 0.791642371234208 /// index: 532 (0, 'max', 0, 'min', 'min', 0) done\n",
      "0.786125 0.7912956502646922 /// index: 533 (0, 'max', 0, 'min', 'min', 'min') done\n",
      "0.788375 0.794434056193691 /// index: 534 (0, 'max', 0, 'min', 'min', 'max') done\n",
      "0.78675 0.7933223492924986 /// index: 535 (0, 'max', 0, 'min', 'min', 'median') done\n",
      "0.7826 0.7878610460577674 /// index: 536 (0, 'max', 0, 'min', 'max', 0) done\n",
      "0.78595 0.7933680857225601 /// index: 537 (0, 'max', 0, 'min', 'max', 'min') done\n",
      "0.783475 0.7898682582429581 /// index: 538 (0, 'max', 0, 'min', 'max', 'max') done\n",
      "0.78705 0.7915830682652313 /// index: 539 (0, 'max', 0, 'min', 'max', 'median') done\n",
      "0.785025 0.7908752644762761 /// index: 540 (0, 'max', 0, 'min', 'median', 0) done\n",
      "0.7847 0.7912343643944536 /// index: 541 (0, 'max', 0, 'min', 'median', 'min') done\n",
      "0.785025 0.7900788516466078 /// index: 542 (0, 'max', 0, 'min', 'median', 'max') done\n",
      "0.789275 0.793725375033649 /// index: 543 (0, 'max', 0, 'min', 'median', 'median') done\n",
      "0.784625 0.7910350013340771 /// index: 544 (0, 'max', 0, 'max', 0, 0) done\n",
      "0.7848 0.7896999902276948 /// index: 545 (0, 'max', 0, 'max', 0, 'min') done\n",
      "0.786775 0.7918385278109974 /// index: 546 (0, 'max', 0, 'max', 0, 'max') done\n",
      "0.785075 0.7902403318287178 /// index: 547 (0, 'max', 0, 'max', 0, 'median') done\n",
      "0.787175 0.7941283161229474 /// index: 548 (0, 'max', 0, 'max', 'min', 0) done\n",
      "0.789475 0.7966678739587106 /// index: 549 (0, 'max', 0, 'max', 'min', 'min') done\n",
      "0.7853 0.7898086054138725 /// index: 550 (0, 'max', 0, 'max', 'min', 'max') done\n",
      "0.7869 0.792573125030418 /// index: 551 (0, 'max', 0, 'max', 'min', 'median') done\n",
      "0.782225 0.7905052788533223 /// index: 552 (0, 'max', 0, 'max', 'max', 0) done\n",
      "0.783275 0.7906695965035133 /// index: 553 (0, 'max', 0, 'max', 'max', 'min') done\n",
      "0.785275 0.791037150572951 /// index: 554 (0, 'max', 0, 'max', 'max', 'max') done\n",
      "0.786275 0.792242824856011 /// index: 555 (0, 'max', 0, 'max', 'max', 'median') done\n",
      "0.78525 0.7917878611595889 /// index: 556 (0, 'max', 0, 'max', 'median', 0) done\n",
      "0.78225 0.7886332750922151 /// index: 557 (0, 'max', 0, 'max', 'median', 'min') done\n",
      "0.7858 0.7915125559665175 /// index: 558 (0, 'max', 0, 'max', 'median', 'max') done\n",
      "0.78635 0.7931551941136606 /// index: 559 (0, 'max', 0, 'max', 'median', 'median') done\n",
      "0.78875 0.7958542713567839 /// index: 560 (0, 'max', 0, 'median', 0, 0) done\n",
      "0.782875 0.789326864766525 /// index: 561 (0, 'max', 0, 'median', 0, 'min') done\n",
      "0.785625 0.7905215585684622 /// index: 562 (0, 'max', 0, 'median', 0, 'max') done\n",
      "0.785225 0.7904071824147942 /// index: 563 (0, 'max', 0, 'median', 0, 'median') done\n",
      "0.784475 0.789921290542681 /// index: 564 (0, 'max', 0, 'median', 'min', 0) done\n",
      "0.785 0.7897721717023564 /// index: 565 (0, 'max', 0, 'median', 'min', 'min') done\n",
      "0.785875 0.7933305986535725 /// index: 566 (0, 'max', 0, 'median', 'min', 'max') done\n",
      "0.78785 0.7941690113515086 /// index: 567 (0, 'max', 0, 'median', 'min', 'median') done\n",
      "0.786075 0.7926932674370716 /// index: 568 (0, 'max', 0, 'median', 'max', 0) done\n",
      "0.7854 0.7913973268529769 /// index: 569 (0, 'max', 0, 'median', 'max', 'min') done\n",
      "0.783825 0.7885457168708581 /// index: 570 (0, 'max', 0, 'median', 'max', 'max') done\n",
      "0.785075 0.792748487259227 /// index: 571 (0, 'max', 0, 'median', 'max', 'median') done\n",
      "0.78415 0.7920019272464467 /// index: 572 (0, 'max', 0, 'median', 'median', 0) done\n",
      "0.78755 0.7939878787878788 /// index: 573 (0, 'max', 0, 'median', 'median', 'min') done\n",
      "0.785125 0.7896115340366681 /// index: 574 (0, 'max', 0, 'median', 'median', 'max') done\n",
      "0.784475 0.7907778182259435 /// index: 575 (0, 'max', 0, 'median', 'median', 'median') done\n",
      "0.788975 0.7954341662021666 /// index: 576 (0, 'max', 'min', 0, 0, 0) done\n",
      "0.788125 0.7933985032056753 /// index: 577 (0, 'max', 'min', 0, 0, 'min') done\n",
      "0.7864 0.7923189110354886 /// index: 578 (0, 'max', 'min', 0, 0, 'max') done\n",
      "0.7865 0.792102828764789 /// index: 579 (0, 'max', 'min', 0, 0, 'median') done\n",
      "0.78415 0.7903045611308106 /// index: 580 (0, 'max', 'min', 0, 'min', 0) done\n",
      "0.788225 0.7941583845649163 /// index: 581 (0, 'max', 'min', 0, 'min', 'min') done\n",
      "0.7893 0.7932489451476793 /// index: 582 (0, 'max', 'min', 0, 'min', 'max') done\n",
      "0.7861 0.7913984786424809 /// index: 583 (0, 'max', 'min', 0, 'min', 'median') done\n",
      "0.783575 0.7896284415931569 /// index: 584 (0, 'max', 'min', 0, 'max', 0) done\n",
      "0.78375 0.7897321211531917 /// index: 585 (0, 'max', 'min', 0, 'max', 'min') done\n",
      "0.78715 0.7928265524625268 /// index: 586 (0, 'max', 'min', 0, 'max', 'max') done\n",
      "0.78275 0.7891800097040271 /// index: 587 (0, 'max', 'min', 0, 'max', 'median') done\n",
      "0.78465 0.7912870711378175 /// index: 588 (0, 'max', 'min', 0, 'median', 0) done\n",
      "0.78355 0.789394307954269 /// index: 589 (0, 'max', 'min', 0, 'median', 'min') done\n",
      "0.78515 0.7898571987480437 /// index: 590 (0, 'max', 'min', 0, 'median', 'max') done\n",
      "0.78555 0.7893728821882826 /// index: 591 (0, 'max', 'min', 0, 'median', 'median') done\n",
      "0.7848 0.7901409137451851 /// index: 592 (0, 'max', 'min', 'min', 0, 0) done\n",
      "0.7842 0.7902614442608612 /// index: 593 (0, 'max', 'min', 'min', 0, 'min') done\n",
      "0.7846 0.7895970695970697 /// index: 594 (0, 'max', 'min', 'min', 0, 'max') done\n",
      "0.7833 0.7885028303728284 /// index: 595 (0, 'max', 'min', 'min', 0, 'median') done\n",
      "0.783825 0.7901671964862045 /// index: 596 (0, 'max', 'min', 'min', 'min', 0) done\n",
      "0.7854 0.7915897834320675 /// index: 597 (0, 'max', 'min', 'min', 'min', 'min') done\n"
     ]
    },
    {
     "name": "stdout",
     "output_type": "stream",
     "text": [
      "0.784175 0.7895262939756686 /// index: 598 (0, 'max', 'min', 'min', 'min', 'max') done\n",
      "0.789375 0.7948274602440153 /// index: 599 (0, 'max', 'min', 'min', 'min', 'median') done\n",
      "0.78475 0.7906026557711949 /// index: 600 (0, 'max', 'min', 'min', 'max', 0) done\n",
      "0.782925 0.7892526880415525 /// index: 601 (0, 'max', 'min', 'min', 'max', 'min') done\n",
      "0.788925 0.7945592135679003 /// index: 602 (0, 'max', 'min', 'min', 'max', 'max') done\n",
      "0.784375 0.7906197654941373 /// index: 603 (0, 'max', 'min', 'min', 'max', 'median') done\n",
      "0.78255 0.7880604288499026 /// index: 604 (0, 'max', 'min', 'min', 'median', 0) done\n",
      "0.785075 0.7902914989632882 /// index: 605 (0, 'max', 'min', 'min', 'median', 'min') done\n",
      "0.7815 0.7881930981000388 /// index: 606 (0, 'max', 'min', 'min', 'median', 'max') done\n",
      "0.786 0.7927160015497869 /// index: 607 (0, 'max', 'min', 'min', 'median', 'median') done\n",
      "0.7862 0.7925681575628215 /// index: 608 (0, 'max', 'min', 'max', 0, 0) done\n",
      "0.786625 0.7926334459049054 /// index: 609 (0, 'max', 'min', 'max', 0, 'min') done\n",
      "0.787825 0.794399089125221 /// index: 610 (0, 'max', 'min', 'max', 0, 'max') done\n",
      "0.784125 0.7904482248161719 /// index: 611 (0, 'max', 'min', 'max', 0, 'median') done\n",
      "0.7855 0.7926734970036731 /// index: 612 (0, 'max', 'min', 'max', 'min', 0) done\n",
      "0.78335 0.7887269003851968 /// index: 613 (0, 'max', 'min', 'max', 'min', 'min') done\n",
      "0.78455 0.7912710714977718 /// index: 614 (0, 'max', 'min', 'max', 'min', 'max') done\n",
      "0.786725 0.793323158175255 /// index: 615 (0, 'max', 'min', 'max', 'min', 'median') done\n",
      "0.7865 0.7921230709313082 /// index: 616 (0, 'max', 'min', 'max', 'max', 0) done\n",
      "0.7866 0.7911119812059516 /// index: 617 (0, 'max', 'min', 'max', 'max', 'min') done\n",
      "0.78755 0.7932762479322759 /// index: 618 (0, 'max', 'min', 'max', 'max', 'max') done\n",
      "0.7851 0.7908922837403912 /// index: 619 (0, 'max', 'min', 'max', 'max', 'median') done\n",
      "0.788125 0.7939510344995259 /// index: 620 (0, 'max', 'min', 'max', 'median', 0) done\n",
      "0.787975 0.7946638258722126 /// index: 621 (0, 'max', 'min', 'max', 'median', 'min') done\n",
      "0.7871 0.7916727824257548 /// index: 622 (0, 'max', 'min', 'max', 'median', 'max') done\n",
      "0.785275 0.7911590925669268 /// index: 623 (0, 'max', 'min', 'max', 'median', 'median') done\n",
      "0.786475 0.7926690132297608 /// index: 624 (0, 'max', 'min', 'median', 0, 0) done\n",
      "0.786975 0.7929132136000194 /// index: 625 (0, 'max', 'min', 'median', 0, 'min') done\n",
      "0.786975 0.7926208961035799 /// index: 626 (0, 'max', 'min', 'median', 0, 'max') done\n",
      "0.785875 0.7911026560327798 /// index: 627 (0, 'max', 'min', 'median', 0, 'median') done\n",
      "0.7858 0.7909326045580987 /// index: 628 (0, 'max', 'min', 'median', 'min', 0) done\n",
      "0.78655 0.7927166788055354 /// index: 629 (0, 'max', 'min', 'median', 'min', 'min') done\n",
      "0.78565 0.7904589667139157 /// index: 630 (0, 'max', 'min', 'median', 'min', 'max') done\n",
      "0.7871 0.7918662625867631 /// index: 631 (0, 'max', 'min', 'median', 'min', 'median') done\n",
      "0.7832 0.7895758516936815 /// index: 632 (0, 'max', 'min', 'median', 'max', 0) done\n",
      "0.78405 0.7903398058252427 /// index: 633 (0, 'max', 'min', 'median', 'max', 'min') done\n",
      "0.782175 0.7884423940755129 /// index: 634 (0, 'max', 'min', 'median', 'max', 'max') done\n",
      "0.786075 0.7928137333236485 /// index: 635 (0, 'max', 'min', 'median', 'max', 'median') done\n",
      "0.785675 0.7924564843731087 /// index: 636 (0, 'max', 'min', 'median', 'median', 0) done\n",
      "0.7868 0.7932205033703507 /// index: 637 (0, 'max', 'min', 'median', 'median', 'min') done\n",
      "0.7858 0.7915227018346392 /// index: 638 (0, 'max', 'min', 'median', 'median', 'max') done\n",
      "0.785575 0.7913189460110461 /// index: 639 (0, 'max', 'min', 'median', 'median', 'median') done\n",
      "0.7864 0.7927622004462986 /// index: 640 (0, 'max', 'max', 0, 0, 0) done\n",
      "0.787125 0.7925144374862935 /// index: 641 (0, 'max', 'max', 0, 0, 'min') done\n",
      "0.785575 0.791562370896012 /// index: 642 (0, 'max', 'max', 0, 0, 'max') done\n",
      "0.7879 0.7924962089712859 /// index: 643 (0, 'max', 'max', 0, 0, 'median') done\n",
      "0.786925 0.7926125994598145 /// index: 644 (0, 'max', 'max', 0, 'min', 0) done\n",
      "0.7876 0.7931437475652514 /// index: 645 (0, 'max', 'max', 0, 'min', 'min') done\n",
      "0.78675 0.7922653548292826 /// index: 646 (0, 'max', 'max', 0, 'min', 'max') done\n",
      "0.788375 0.7946036444811103 /// index: 647 (0, 'max', 'max', 0, 'min', 'median') done\n",
      "0.7843 0.7916847747356223 /// index: 648 (0, 'max', 'max', 0, 'max', 0) done\n",
      "0.784725 0.7911928029292661 /// index: 649 (0, 'max', 'max', 0, 'max', 'min') done\n",
      "0.78545 0.7923240731778144 /// index: 650 (0, 'max', 'max', 0, 'max', 'max') done\n",
      "0.784625 0.790882831274122 /// index: 651 (0, 'max', 'max', 0, 'max', 'median') done\n",
      "0.7828 0.7893613926198904 /// index: 652 (0, 'max', 'max', 0, 'median', 0) done\n",
      "0.78525 0.7912109280054446 /// index: 653 (0, 'max', 'max', 0, 'median', 'min') done\n",
      "0.785675 0.7912232423349487 /// index: 654 (0, 'max', 'max', 0, 'median', 'max') done\n",
      "0.788075 0.7936917423154616 /// index: 655 (0, 'max', 'max', 0, 'median', 'median') done\n",
      "0.783825 0.7888864474230329 /// index: 656 (0, 'max', 'max', 'min', 0, 0) done\n",
      "0.786175 0.7937097513325777 /// index: 657 (0, 'max', 'max', 'min', 0, 'min') done\n",
      "0.785425 0.7909797140978496 /// index: 658 (0, 'max', 'max', 'min', 0, 'max') done\n",
      "0.78755 0.7926609086029377 /// index: 659 (0, 'max', 'max', 'min', 0, 'median') done\n",
      "0.7844 0.7914187587674745 /// index: 660 (0, 'max', 'max', 'min', 'min', 0) done\n",
      "0.785675 0.7919427253974033 /// index: 661 (0, 'max', 'max', 'min', 'min', 'min') done\n",
      "0.7867 0.7925500875316086 /// index: 662 (0, 'max', 'max', 'min', 'min', 'max') done\n",
      "0.78655 0.793158583264693 /// index: 663 (0, 'max', 'max', 'min', 'min', 'median') done\n",
      "0.78555 0.7929919397654328 /// index: 664 (0, 'max', 'max', 'min', 'max', 0) done\n",
      "0.7865 0.7913612821264536 /// index: 665 (0, 'max', 'max', 'min', 'max', 'min') done\n",
      "0.785675 0.791019671891378 /// index: 666 (0, 'max', 'max', 'min', 'max', 'max') done\n",
      "0.78405 0.7899012501824195 /// index: 667 (0, 'max', 'max', 'min', 'max', 'median') done\n",
      "0.785825 0.7928624966754516 /// index: 668 (0, 'max', 'max', 'min', 'median', 0) done\n",
      "0.780175 0.78823784408641 /// index: 669 (0, 'max', 'max', 'min', 'median', 'min') done\n",
      "0.783225 0.7888880773257372 /// index: 670 (0, 'max', 'max', 'min', 'median', 'max') done\n",
      "0.78635 0.7921692607003891 /// index: 671 (0, 'max', 'max', 'min', 'median', 'median') done\n",
      "0.7868 0.7935508860269197 /// index: 672 (0, 'max', 'max', 'max', 0, 0) done\n",
      "0.78855 0.7961239936364073 /// index: 673 (0, 'max', 'max', 'max', 0, 'min') done\n",
      "0.78355 0.7900276470873551 /// index: 674 (0, 'max', 'max', 'max', 0, 'max') done\n",
      "0.78615 0.7919747081712063 /// index: 675 (0, 'max', 'max', 'max', 0, 'median') done\n",
      "0.78425 0.7896455906010824 /// index: 676 (0, 'max', 'max', 'max', 'min', 0) done\n",
      "0.784625 0.7903433841960528 /// index: 677 (0, 'max', 'max', 'max', 'min', 'min') done\n",
      "0.784275 0.7905226616172651 /// index: 678 (0, 'max', 'max', 'max', 'min', 'max') done\n"
     ]
    },
    {
     "ename": "KeyboardInterrupt",
     "evalue": "",
     "output_type": "error",
     "traceback": [
      "\u001b[0;31m---------------------------------------------------------------------------\u001b[0m",
      "\u001b[0;31mKeyboardInterrupt\u001b[0m                         Traceback (most recent call last)",
      "\u001b[0;32m/tmp/ipykernel_325/1370087761.py\u001b[0m in \u001b[0;36m<module>\u001b[0;34m\u001b[0m\n\u001b[1;32m     21\u001b[0m \u001b[0;34m\u001b[0m\u001b[0m\n\u001b[1;32m     22\u001b[0m \u001b[0;31m#     model_list.append(model)\u001b[0m\u001b[0;34m\u001b[0m\u001b[0;34m\u001b[0m\u001b[0;34m\u001b[0m\u001b[0m\n\u001b[0;32m---> 23\u001b[0;31m     \u001b[0macc_list\u001b[0m\u001b[0;34m.\u001b[0m\u001b[0mappend\u001b[0m\u001b[0;34m(\u001b[0m\u001b[0mmodel\u001b[0m\u001b[0;34m.\u001b[0m\u001b[0mscore\u001b[0m\u001b[0;34m(\u001b[0m\u001b[0mX_test\u001b[0m\u001b[0;34m,\u001b[0m\u001b[0my_test\u001b[0m\u001b[0;34m)\u001b[0m\u001b[0;34m)\u001b[0m\u001b[0;34m\u001b[0m\u001b[0;34m\u001b[0m\u001b[0m\n\u001b[0m\u001b[1;32m     24\u001b[0m     \u001b[0mf1_list\u001b[0m\u001b[0;34m.\u001b[0m\u001b[0mappend\u001b[0m\u001b[0;34m(\u001b[0m\u001b[0mf1_score\u001b[0m\u001b[0;34m(\u001b[0m\u001b[0my_test\u001b[0m\u001b[0;34m,\u001b[0m\u001b[0my_pred\u001b[0m\u001b[0;34m)\u001b[0m\u001b[0;34m)\u001b[0m\u001b[0;34m\u001b[0m\u001b[0;34m\u001b[0m\u001b[0m\n\u001b[1;32m     25\u001b[0m     \u001b[0mconfusion_list\u001b[0m\u001b[0;34m.\u001b[0m\u001b[0mappend\u001b[0m\u001b[0;34m(\u001b[0m\u001b[0mconfusion_matrix\u001b[0m\u001b[0;34m(\u001b[0m\u001b[0my_test\u001b[0m\u001b[0;34m,\u001b[0m\u001b[0my_pred\u001b[0m\u001b[0;34m)\u001b[0m\u001b[0;34m)\u001b[0m\u001b[0;34m\u001b[0m\u001b[0;34m\u001b[0m\u001b[0m\n",
      "\u001b[0;32m~/.local/lib/python3.8/site-packages/sklearn/base.py\u001b[0m in \u001b[0;36mscore\u001b[0;34m(self, X, y, sample_weight)\u001b[0m\n\u001b[1;32m    649\u001b[0m         \u001b[0;32mfrom\u001b[0m \u001b[0;34m.\u001b[0m\u001b[0mmetrics\u001b[0m \u001b[0;32mimport\u001b[0m \u001b[0maccuracy_score\u001b[0m\u001b[0;34m\u001b[0m\u001b[0;34m\u001b[0m\u001b[0m\n\u001b[1;32m    650\u001b[0m \u001b[0;34m\u001b[0m\u001b[0m\n\u001b[0;32m--> 651\u001b[0;31m         \u001b[0;32mreturn\u001b[0m \u001b[0maccuracy_score\u001b[0m\u001b[0;34m(\u001b[0m\u001b[0my\u001b[0m\u001b[0;34m,\u001b[0m \u001b[0mself\u001b[0m\u001b[0;34m.\u001b[0m\u001b[0mpredict\u001b[0m\u001b[0;34m(\u001b[0m\u001b[0mX\u001b[0m\u001b[0;34m)\u001b[0m\u001b[0;34m,\u001b[0m \u001b[0msample_weight\u001b[0m\u001b[0;34m=\u001b[0m\u001b[0msample_weight\u001b[0m\u001b[0;34m)\u001b[0m\u001b[0;34m\u001b[0m\u001b[0;34m\u001b[0m\u001b[0m\n\u001b[0m\u001b[1;32m    652\u001b[0m \u001b[0;34m\u001b[0m\u001b[0m\n\u001b[1;32m    653\u001b[0m     \u001b[0;32mdef\u001b[0m \u001b[0m_more_tags\u001b[0m\u001b[0;34m(\u001b[0m\u001b[0mself\u001b[0m\u001b[0;34m)\u001b[0m\u001b[0;34m:\u001b[0m\u001b[0;34m\u001b[0m\u001b[0;34m\u001b[0m\u001b[0m\n",
      "\u001b[0;32m~/.local/lib/python3.8/site-packages/sklearn/ensemble/_forest.py\u001b[0m in \u001b[0;36mpredict\u001b[0;34m(self, X)\u001b[0m\n\u001b[1;32m    806\u001b[0m             \u001b[0mThe\u001b[0m \u001b[0mpredicted\u001b[0m \u001b[0mclasses\u001b[0m\u001b[0;34m.\u001b[0m\u001b[0;34m\u001b[0m\u001b[0;34m\u001b[0m\u001b[0m\n\u001b[1;32m    807\u001b[0m         \"\"\"\n\u001b[0;32m--> 808\u001b[0;31m         \u001b[0mproba\u001b[0m \u001b[0;34m=\u001b[0m \u001b[0mself\u001b[0m\u001b[0;34m.\u001b[0m\u001b[0mpredict_proba\u001b[0m\u001b[0;34m(\u001b[0m\u001b[0mX\u001b[0m\u001b[0;34m)\u001b[0m\u001b[0;34m\u001b[0m\u001b[0;34m\u001b[0m\u001b[0m\n\u001b[0m\u001b[1;32m    809\u001b[0m \u001b[0;34m\u001b[0m\u001b[0m\n\u001b[1;32m    810\u001b[0m         \u001b[0;32mif\u001b[0m \u001b[0mself\u001b[0m\u001b[0;34m.\u001b[0m\u001b[0mn_outputs_\u001b[0m \u001b[0;34m==\u001b[0m \u001b[0;36m1\u001b[0m\u001b[0;34m:\u001b[0m\u001b[0;34m\u001b[0m\u001b[0;34m\u001b[0m\u001b[0m\n",
      "\u001b[0;32m~/.local/lib/python3.8/site-packages/sklearn/ensemble/_forest.py\u001b[0m in \u001b[0;36mpredict_proba\u001b[0;34m(self, X)\u001b[0m\n\u001b[1;32m    859\u001b[0m         ]\n\u001b[1;32m    860\u001b[0m         \u001b[0mlock\u001b[0m \u001b[0;34m=\u001b[0m \u001b[0mthreading\u001b[0m\u001b[0;34m.\u001b[0m\u001b[0mLock\u001b[0m\u001b[0;34m(\u001b[0m\u001b[0;34m)\u001b[0m\u001b[0;34m\u001b[0m\u001b[0;34m\u001b[0m\u001b[0m\n\u001b[0;32m--> 861\u001b[0;31m         Parallel(\n\u001b[0m\u001b[1;32m    862\u001b[0m             \u001b[0mn_jobs\u001b[0m\u001b[0;34m=\u001b[0m\u001b[0mn_jobs\u001b[0m\u001b[0;34m,\u001b[0m\u001b[0;34m\u001b[0m\u001b[0;34m\u001b[0m\u001b[0m\n\u001b[1;32m    863\u001b[0m             \u001b[0mverbose\u001b[0m\u001b[0;34m=\u001b[0m\u001b[0mself\u001b[0m\u001b[0;34m.\u001b[0m\u001b[0mverbose\u001b[0m\u001b[0;34m,\u001b[0m\u001b[0;34m\u001b[0m\u001b[0;34m\u001b[0m\u001b[0m\n",
      "\u001b[0;32m~/.local/lib/python3.8/site-packages/joblib/parallel.py\u001b[0m in \u001b[0;36m__call__\u001b[0;34m(self, iterable)\u001b[0m\n\u001b[1;32m   1044\u001b[0m                 \u001b[0mself\u001b[0m\u001b[0;34m.\u001b[0m\u001b[0m_iterating\u001b[0m \u001b[0;34m=\u001b[0m \u001b[0mself\u001b[0m\u001b[0;34m.\u001b[0m\u001b[0m_original_iterator\u001b[0m \u001b[0;32mis\u001b[0m \u001b[0;32mnot\u001b[0m \u001b[0;32mNone\u001b[0m\u001b[0;34m\u001b[0m\u001b[0;34m\u001b[0m\u001b[0m\n\u001b[1;32m   1045\u001b[0m \u001b[0;34m\u001b[0m\u001b[0m\n\u001b[0;32m-> 1046\u001b[0;31m             \u001b[0;32mwhile\u001b[0m \u001b[0mself\u001b[0m\u001b[0;34m.\u001b[0m\u001b[0mdispatch_one_batch\u001b[0m\u001b[0;34m(\u001b[0m\u001b[0miterator\u001b[0m\u001b[0;34m)\u001b[0m\u001b[0;34m:\u001b[0m\u001b[0;34m\u001b[0m\u001b[0;34m\u001b[0m\u001b[0m\n\u001b[0m\u001b[1;32m   1047\u001b[0m                 \u001b[0;32mpass\u001b[0m\u001b[0;34m\u001b[0m\u001b[0;34m\u001b[0m\u001b[0m\n\u001b[1;32m   1048\u001b[0m \u001b[0;34m\u001b[0m\u001b[0m\n",
      "\u001b[0;32m~/.local/lib/python3.8/site-packages/joblib/parallel.py\u001b[0m in \u001b[0;36mdispatch_one_batch\u001b[0;34m(self, iterator)\u001b[0m\n\u001b[1;32m    859\u001b[0m                 \u001b[0;32mreturn\u001b[0m \u001b[0;32mFalse\u001b[0m\u001b[0;34m\u001b[0m\u001b[0;34m\u001b[0m\u001b[0m\n\u001b[1;32m    860\u001b[0m             \u001b[0;32melse\u001b[0m\u001b[0;34m:\u001b[0m\u001b[0;34m\u001b[0m\u001b[0;34m\u001b[0m\u001b[0m\n\u001b[0;32m--> 861\u001b[0;31m                 \u001b[0mself\u001b[0m\u001b[0;34m.\u001b[0m\u001b[0m_dispatch\u001b[0m\u001b[0;34m(\u001b[0m\u001b[0mtasks\u001b[0m\u001b[0;34m)\u001b[0m\u001b[0;34m\u001b[0m\u001b[0;34m\u001b[0m\u001b[0m\n\u001b[0m\u001b[1;32m    862\u001b[0m                 \u001b[0;32mreturn\u001b[0m \u001b[0;32mTrue\u001b[0m\u001b[0;34m\u001b[0m\u001b[0;34m\u001b[0m\u001b[0m\n\u001b[1;32m    863\u001b[0m \u001b[0;34m\u001b[0m\u001b[0m\n",
      "\u001b[0;32m~/.local/lib/python3.8/site-packages/joblib/parallel.py\u001b[0m in \u001b[0;36m_dispatch\u001b[0;34m(self, batch)\u001b[0m\n\u001b[1;32m    777\u001b[0m         \u001b[0;32mwith\u001b[0m \u001b[0mself\u001b[0m\u001b[0;34m.\u001b[0m\u001b[0m_lock\u001b[0m\u001b[0;34m:\u001b[0m\u001b[0;34m\u001b[0m\u001b[0;34m\u001b[0m\u001b[0m\n\u001b[1;32m    778\u001b[0m             \u001b[0mjob_idx\u001b[0m \u001b[0;34m=\u001b[0m \u001b[0mlen\u001b[0m\u001b[0;34m(\u001b[0m\u001b[0mself\u001b[0m\u001b[0;34m.\u001b[0m\u001b[0m_jobs\u001b[0m\u001b[0;34m)\u001b[0m\u001b[0;34m\u001b[0m\u001b[0;34m\u001b[0m\u001b[0m\n\u001b[0;32m--> 779\u001b[0;31m             \u001b[0mjob\u001b[0m \u001b[0;34m=\u001b[0m \u001b[0mself\u001b[0m\u001b[0;34m.\u001b[0m\u001b[0m_backend\u001b[0m\u001b[0;34m.\u001b[0m\u001b[0mapply_async\u001b[0m\u001b[0;34m(\u001b[0m\u001b[0mbatch\u001b[0m\u001b[0;34m,\u001b[0m \u001b[0mcallback\u001b[0m\u001b[0;34m=\u001b[0m\u001b[0mcb\u001b[0m\u001b[0;34m)\u001b[0m\u001b[0;34m\u001b[0m\u001b[0;34m\u001b[0m\u001b[0m\n\u001b[0m\u001b[1;32m    780\u001b[0m             \u001b[0;31m# A job can complete so quickly than its callback is\u001b[0m\u001b[0;34m\u001b[0m\u001b[0;34m\u001b[0m\u001b[0;34m\u001b[0m\u001b[0m\n\u001b[1;32m    781\u001b[0m             \u001b[0;31m# called before we get here, causing self._jobs to\u001b[0m\u001b[0;34m\u001b[0m\u001b[0;34m\u001b[0m\u001b[0;34m\u001b[0m\u001b[0m\n",
      "\u001b[0;32m~/.local/lib/python3.8/site-packages/joblib/_parallel_backends.py\u001b[0m in \u001b[0;36mapply_async\u001b[0;34m(self, func, callback)\u001b[0m\n\u001b[1;32m    206\u001b[0m     \u001b[0;32mdef\u001b[0m \u001b[0mapply_async\u001b[0m\u001b[0;34m(\u001b[0m\u001b[0mself\u001b[0m\u001b[0;34m,\u001b[0m \u001b[0mfunc\u001b[0m\u001b[0;34m,\u001b[0m \u001b[0mcallback\u001b[0m\u001b[0;34m=\u001b[0m\u001b[0;32mNone\u001b[0m\u001b[0;34m)\u001b[0m\u001b[0;34m:\u001b[0m\u001b[0;34m\u001b[0m\u001b[0;34m\u001b[0m\u001b[0m\n\u001b[1;32m    207\u001b[0m         \u001b[0;34m\"\"\"Schedule a func to be run\"\"\"\u001b[0m\u001b[0;34m\u001b[0m\u001b[0;34m\u001b[0m\u001b[0m\n\u001b[0;32m--> 208\u001b[0;31m         \u001b[0mresult\u001b[0m \u001b[0;34m=\u001b[0m \u001b[0mImmediateResult\u001b[0m\u001b[0;34m(\u001b[0m\u001b[0mfunc\u001b[0m\u001b[0;34m)\u001b[0m\u001b[0;34m\u001b[0m\u001b[0;34m\u001b[0m\u001b[0m\n\u001b[0m\u001b[1;32m    209\u001b[0m         \u001b[0;32mif\u001b[0m \u001b[0mcallback\u001b[0m\u001b[0;34m:\u001b[0m\u001b[0;34m\u001b[0m\u001b[0;34m\u001b[0m\u001b[0m\n\u001b[1;32m    210\u001b[0m             \u001b[0mcallback\u001b[0m\u001b[0;34m(\u001b[0m\u001b[0mresult\u001b[0m\u001b[0;34m)\u001b[0m\u001b[0;34m\u001b[0m\u001b[0;34m\u001b[0m\u001b[0m\n",
      "\u001b[0;32m~/.local/lib/python3.8/site-packages/joblib/_parallel_backends.py\u001b[0m in \u001b[0;36m__init__\u001b[0;34m(self, batch)\u001b[0m\n\u001b[1;32m    570\u001b[0m         \u001b[0;31m# Don't delay the application, to avoid keeping the input\u001b[0m\u001b[0;34m\u001b[0m\u001b[0;34m\u001b[0m\u001b[0;34m\u001b[0m\u001b[0m\n\u001b[1;32m    571\u001b[0m         \u001b[0;31m# arguments in memory\u001b[0m\u001b[0;34m\u001b[0m\u001b[0;34m\u001b[0m\u001b[0;34m\u001b[0m\u001b[0m\n\u001b[0;32m--> 572\u001b[0;31m         \u001b[0mself\u001b[0m\u001b[0;34m.\u001b[0m\u001b[0mresults\u001b[0m \u001b[0;34m=\u001b[0m \u001b[0mbatch\u001b[0m\u001b[0;34m(\u001b[0m\u001b[0;34m)\u001b[0m\u001b[0;34m\u001b[0m\u001b[0;34m\u001b[0m\u001b[0m\n\u001b[0m\u001b[1;32m    573\u001b[0m \u001b[0;34m\u001b[0m\u001b[0m\n\u001b[1;32m    574\u001b[0m     \u001b[0;32mdef\u001b[0m \u001b[0mget\u001b[0m\u001b[0;34m(\u001b[0m\u001b[0mself\u001b[0m\u001b[0;34m)\u001b[0m\u001b[0;34m:\u001b[0m\u001b[0;34m\u001b[0m\u001b[0;34m\u001b[0m\u001b[0m\n",
      "\u001b[0;32m~/.local/lib/python3.8/site-packages/joblib/parallel.py\u001b[0m in \u001b[0;36m__call__\u001b[0;34m(self)\u001b[0m\n\u001b[1;32m    260\u001b[0m         \u001b[0;31m# change the default number of processes to -1\u001b[0m\u001b[0;34m\u001b[0m\u001b[0;34m\u001b[0m\u001b[0;34m\u001b[0m\u001b[0m\n\u001b[1;32m    261\u001b[0m         \u001b[0;32mwith\u001b[0m \u001b[0mparallel_backend\u001b[0m\u001b[0;34m(\u001b[0m\u001b[0mself\u001b[0m\u001b[0;34m.\u001b[0m\u001b[0m_backend\u001b[0m\u001b[0;34m,\u001b[0m \u001b[0mn_jobs\u001b[0m\u001b[0;34m=\u001b[0m\u001b[0mself\u001b[0m\u001b[0;34m.\u001b[0m\u001b[0m_n_jobs\u001b[0m\u001b[0;34m)\u001b[0m\u001b[0;34m:\u001b[0m\u001b[0;34m\u001b[0m\u001b[0;34m\u001b[0m\u001b[0m\n\u001b[0;32m--> 262\u001b[0;31m             return [func(*args, **kwargs)\n\u001b[0m\u001b[1;32m    263\u001b[0m                     for func, args, kwargs in self.items]\n\u001b[1;32m    264\u001b[0m \u001b[0;34m\u001b[0m\u001b[0m\n",
      "\u001b[0;32m~/.local/lib/python3.8/site-packages/joblib/parallel.py\u001b[0m in \u001b[0;36m<listcomp>\u001b[0;34m(.0)\u001b[0m\n\u001b[1;32m    260\u001b[0m         \u001b[0;31m# change the default number of processes to -1\u001b[0m\u001b[0;34m\u001b[0m\u001b[0;34m\u001b[0m\u001b[0;34m\u001b[0m\u001b[0m\n\u001b[1;32m    261\u001b[0m         \u001b[0;32mwith\u001b[0m \u001b[0mparallel_backend\u001b[0m\u001b[0;34m(\u001b[0m\u001b[0mself\u001b[0m\u001b[0;34m.\u001b[0m\u001b[0m_backend\u001b[0m\u001b[0;34m,\u001b[0m \u001b[0mn_jobs\u001b[0m\u001b[0;34m=\u001b[0m\u001b[0mself\u001b[0m\u001b[0;34m.\u001b[0m\u001b[0m_n_jobs\u001b[0m\u001b[0;34m)\u001b[0m\u001b[0;34m:\u001b[0m\u001b[0;34m\u001b[0m\u001b[0;34m\u001b[0m\u001b[0m\n\u001b[0;32m--> 262\u001b[0;31m             return [func(*args, **kwargs)\n\u001b[0m\u001b[1;32m    263\u001b[0m                     for func, args, kwargs in self.items]\n\u001b[1;32m    264\u001b[0m \u001b[0;34m\u001b[0m\u001b[0m\n",
      "\u001b[0;32m~/.local/lib/python3.8/site-packages/sklearn/utils/fixes.py\u001b[0m in \u001b[0;36m__call__\u001b[0;34m(self, *args, **kwargs)\u001b[0m\n\u001b[1;32m    214\u001b[0m     \u001b[0;32mdef\u001b[0m \u001b[0m__call__\u001b[0m\u001b[0;34m(\u001b[0m\u001b[0mself\u001b[0m\u001b[0;34m,\u001b[0m \u001b[0;34m*\u001b[0m\u001b[0margs\u001b[0m\u001b[0;34m,\u001b[0m \u001b[0;34m**\u001b[0m\u001b[0mkwargs\u001b[0m\u001b[0;34m)\u001b[0m\u001b[0;34m:\u001b[0m\u001b[0;34m\u001b[0m\u001b[0;34m\u001b[0m\u001b[0m\n\u001b[1;32m    215\u001b[0m         \u001b[0;32mwith\u001b[0m \u001b[0mconfig_context\u001b[0m\u001b[0;34m(\u001b[0m\u001b[0;34m**\u001b[0m\u001b[0mself\u001b[0m\u001b[0;34m.\u001b[0m\u001b[0mconfig\u001b[0m\u001b[0;34m)\u001b[0m\u001b[0;34m:\u001b[0m\u001b[0;34m\u001b[0m\u001b[0;34m\u001b[0m\u001b[0m\n\u001b[0;32m--> 216\u001b[0;31m             \u001b[0;32mreturn\u001b[0m \u001b[0mself\u001b[0m\u001b[0;34m.\u001b[0m\u001b[0mfunction\u001b[0m\u001b[0;34m(\u001b[0m\u001b[0;34m*\u001b[0m\u001b[0margs\u001b[0m\u001b[0;34m,\u001b[0m \u001b[0;34m**\u001b[0m\u001b[0mkwargs\u001b[0m\u001b[0;34m)\u001b[0m\u001b[0;34m\u001b[0m\u001b[0;34m\u001b[0m\u001b[0m\n\u001b[0m\u001b[1;32m    217\u001b[0m \u001b[0;34m\u001b[0m\u001b[0m\n\u001b[1;32m    218\u001b[0m \u001b[0;34m\u001b[0m\u001b[0m\n",
      "\u001b[0;32m~/.local/lib/python3.8/site-packages/sklearn/ensemble/_forest.py\u001b[0m in \u001b[0;36m_accumulate_prediction\u001b[0;34m(predict, X, out, lock)\u001b[0m\n\u001b[1;32m    638\u001b[0m     \u001b[0mcomplains\u001b[0m \u001b[0mthat\u001b[0m \u001b[0mit\u001b[0m \u001b[0mcannot\u001b[0m \u001b[0mpickle\u001b[0m \u001b[0mit\u001b[0m \u001b[0mwhen\u001b[0m \u001b[0mplaced\u001b[0m \u001b[0mthere\u001b[0m\u001b[0;34m.\u001b[0m\u001b[0;34m\u001b[0m\u001b[0;34m\u001b[0m\u001b[0m\n\u001b[1;32m    639\u001b[0m     \"\"\"\n\u001b[0;32m--> 640\u001b[0;31m     \u001b[0mprediction\u001b[0m \u001b[0;34m=\u001b[0m \u001b[0mpredict\u001b[0m\u001b[0;34m(\u001b[0m\u001b[0mX\u001b[0m\u001b[0;34m,\u001b[0m \u001b[0mcheck_input\u001b[0m\u001b[0;34m=\u001b[0m\u001b[0;32mFalse\u001b[0m\u001b[0;34m)\u001b[0m\u001b[0;34m\u001b[0m\u001b[0;34m\u001b[0m\u001b[0m\n\u001b[0m\u001b[1;32m    641\u001b[0m     \u001b[0;32mwith\u001b[0m \u001b[0mlock\u001b[0m\u001b[0;34m:\u001b[0m\u001b[0;34m\u001b[0m\u001b[0;34m\u001b[0m\u001b[0m\n\u001b[1;32m    642\u001b[0m         \u001b[0;32mif\u001b[0m \u001b[0mlen\u001b[0m\u001b[0;34m(\u001b[0m\u001b[0mout\u001b[0m\u001b[0;34m)\u001b[0m \u001b[0;34m==\u001b[0m \u001b[0;36m1\u001b[0m\u001b[0;34m:\u001b[0m\u001b[0;34m\u001b[0m\u001b[0;34m\u001b[0m\u001b[0m\n",
      "\u001b[0;32m~/.local/lib/python3.8/site-packages/sklearn/tree/_classes.py\u001b[0m in \u001b[0;36mpredict_proba\u001b[0;34m(self, X, check_input)\u001b[0m\n\u001b[1;32m    970\u001b[0m         \u001b[0mcheck_is_fitted\u001b[0m\u001b[0;34m(\u001b[0m\u001b[0mself\u001b[0m\u001b[0;34m)\u001b[0m\u001b[0;34m\u001b[0m\u001b[0;34m\u001b[0m\u001b[0m\n\u001b[1;32m    971\u001b[0m         \u001b[0mX\u001b[0m \u001b[0;34m=\u001b[0m \u001b[0mself\u001b[0m\u001b[0;34m.\u001b[0m\u001b[0m_validate_X_predict\u001b[0m\u001b[0;34m(\u001b[0m\u001b[0mX\u001b[0m\u001b[0;34m,\u001b[0m \u001b[0mcheck_input\u001b[0m\u001b[0;34m)\u001b[0m\u001b[0;34m\u001b[0m\u001b[0;34m\u001b[0m\u001b[0m\n\u001b[0;32m--> 972\u001b[0;31m         \u001b[0mproba\u001b[0m \u001b[0;34m=\u001b[0m \u001b[0mself\u001b[0m\u001b[0;34m.\u001b[0m\u001b[0mtree_\u001b[0m\u001b[0;34m.\u001b[0m\u001b[0mpredict\u001b[0m\u001b[0;34m(\u001b[0m\u001b[0mX\u001b[0m\u001b[0;34m)\u001b[0m\u001b[0;34m\u001b[0m\u001b[0;34m\u001b[0m\u001b[0m\n\u001b[0m\u001b[1;32m    973\u001b[0m \u001b[0;34m\u001b[0m\u001b[0m\n\u001b[1;32m    974\u001b[0m         \u001b[0;32mif\u001b[0m \u001b[0mself\u001b[0m\u001b[0;34m.\u001b[0m\u001b[0mn_outputs_\u001b[0m \u001b[0;34m==\u001b[0m \u001b[0;36m1\u001b[0m\u001b[0;34m:\u001b[0m\u001b[0;34m\u001b[0m\u001b[0;34m\u001b[0m\u001b[0m\n",
      "\u001b[0;31mKeyboardInterrupt\u001b[0m: "
     ]
    }
   ],
   "source": [
    "# model_list = []\n",
    "acc_list = []\n",
    "f1_list = []\n",
    "confusion_list = []\n",
    "my_options=list(product(options, repeat=len(null_feature)))\n",
    "for i, option_group in enumerate(my_options):\n",
    "    tmp = deepcopy(merged_df)\n",
    "    data_set = pd.concat([tmp[tmp['is_applied']==0].sample(100_000, random_state=random_list[i]), tmp[tmp['is_applied']==1].sample(100_000, random_state=random_list[i])])\n",
    "    \n",
    "    for column_name, option in zip(null_feature, option_group):\n",
    "        if option == 0:\n",
    "            data_set[column_name].fillna(0, inplace=True)\n",
    "        else:\n",
    "            eval(f'data_set[\"{column_name}\"].fillna(data_set[\"{column_name}\"].{option}(), inplace=True)')\n",
    "\n",
    "    X,y= data_set.loc[:, data_set.columns !='is_applied'] ,data_set['is_applied']\n",
    "    X_train, X_test, y_train, y_test= train_test_split(X,y, test_size=0.2, random_state=random_list[i])\n",
    "    model = RandomForestClassifier(random_state=random_list[i])\n",
    "    model.fit(X_train, y_train)\n",
    "    y_pred=model.predict(X_test)\n",
    "    \n",
    "#     model_list.append(model)\n",
    "    acc_list.append(model.score(X_test,y_test))\n",
    "    f1_list.append(f1_score(y_test,y_pred))\n",
    "    confusion_list.append(confusion_matrix(y_test,y_pred))\n",
    "    \n",
    "#     with open(f'./mydata/m_{option_group}.txt','w') as f:\n",
    "#         f.write('\\n'.join(map(str,data_set.index)))\n",
    "#     saved_model = pickle.dumps(model)\n",
    "#     joblib.dump(model,f'./model/m_m_{option_group}.pkl')\n",
    "    print(acc_list[-1], f1_list[-1], \"/// index:\",i, option_group, 'done', )"
   ]
  },
  {
   "cell_type": "code",
   "execution_count": null,
   "id": "7b4ef615",
   "metadata": {
    "ExecuteTime": {
     "end_time": "2022-10-10T16:46:02.137145Z",
     "start_time": "2022-10-10T16:46:02.137134Z"
    }
   },
   "outputs": [],
   "source": [
    "print(*sorted(list(zip(acc_list,f1_list, my_options)[:30]))), sep='\\n')"
   ]
  },
  {
   "cell_type": "code",
   "execution_count": null,
   "id": "3a8550c9",
   "metadata": {},
   "outputs": [],
   "source": []
  }
 ],
 "metadata": {
  "kernelspec": {
   "display_name": "Python 3 (ipykernel)",
   "language": "python",
   "name": "python3"
  },
  "language_info": {
   "codemirror_mode": {
    "name": "ipython",
    "version": 3
   },
   "file_extension": ".py",
   "mimetype": "text/x-python",
   "name": "python",
   "nbconvert_exporter": "python",
   "pygments_lexer": "ipython3",
   "version": "3.8.10"
  },
  "toc": {
   "base_numbering": 1,
   "nav_menu": {},
   "number_sections": true,
   "sideBar": true,
   "skip_h1_title": false,
   "title_cell": "Table of Contents",
   "title_sidebar": "Contents",
   "toc_cell": false,
   "toc_position": {},
   "toc_section_display": true,
   "toc_window_display": false
  },
  "varInspector": {
   "cols": {
    "lenName": 16,
    "lenType": 16,
    "lenVar": 40
   },
   "kernels_config": {
    "python": {
     "delete_cmd_postfix": "",
     "delete_cmd_prefix": "del ",
     "library": "var_list.py",
     "varRefreshCmd": "print(var_dic_list())"
    },
    "r": {
     "delete_cmd_postfix": ") ",
     "delete_cmd_prefix": "rm(",
     "library": "var_list.r",
     "varRefreshCmd": "cat(var_dic_list()) "
    }
   },
   "types_to_exclude": [
    "module",
    "function",
    "builtin_function_or_method",
    "instance",
    "_Feature"
   ],
   "window_display": false
  }
 },
 "nbformat": 4,
 "nbformat_minor": 5
}
