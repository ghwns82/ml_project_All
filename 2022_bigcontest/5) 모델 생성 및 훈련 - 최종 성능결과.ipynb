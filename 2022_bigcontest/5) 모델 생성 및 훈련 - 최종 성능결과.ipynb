{
 "cells": [
  {
   "cell_type": "code",
   "execution_count": 7,
   "id": "dd83ea7a",
   "metadata": {
    "ExecuteTime": {
     "end_time": "2022-10-13T23:40:21.016557Z",
     "start_time": "2022-10-13T23:40:21.013285Z"
    }
   },
   "outputs": [],
   "source": [
    "import pandas as pd\n",
    "import numpy as np\n",
    "import os\n",
    "import random\n",
    "from copy import deepcopy\n",
    "import math\n",
    "from itertools import product\n",
    "import pickle\n",
    "import joblib\n",
    "from tqdm import tqdm\n",
    "\n",
    "import matplotlib.pyplot as plt\n",
    "import seaborn as sb\n",
    "\n",
    "from sklearn.ensemble import RandomForestClassifier\n",
    "from sklearn.model_selection import train_test_split\n",
    "from sklearn.metrics import f1_score, confusion_matrix, ConfusionMatrixDisplay"
   ]
  },
  {
   "cell_type": "code",
   "execution_count": 2,
   "id": "93aded89",
   "metadata": {
    "ExecuteTime": {
     "end_time": "2022-10-13T22:56:04.915442Z",
     "start_time": "2022-10-13T22:55:58.902998Z"
    }
   },
   "outputs": [],
   "source": [
    "from supervised.automl import AutoML"
   ]
  },
  {
   "cell_type": "code",
   "execution_count": 3,
   "id": "87a238ff",
   "metadata": {
    "ExecuteTime": {
     "end_time": "2022-10-13T23:02:27.094432Z",
     "start_time": "2022-10-13T23:02:26.582280Z"
    }
   },
   "outputs": [],
   "source": [
    "X_train= pd.read_csv('./expermData/X_train.csv',index_col=0)\n",
    "X_test=pd.read_csv('./expermData/X_test.csv',index_col=0)\n",
    "y_train=pd.read_csv('./expermData/y_train.csv',index_col=0)\n",
    "y_test=pd.read_csv('./expermData/y_test.csv', index_col=0)"
   ]
  },
  {
   "cell_type": "code",
   "execution_count": 4,
   "id": "13057b35",
   "metadata": {
    "ExecuteTime": {
     "end_time": "2022-10-13T23:02:36.665319Z",
     "start_time": "2022-10-13T23:02:36.663239Z"
    }
   },
   "outputs": [],
   "source": [
    "model = AutoML()"
   ]
  },
  {
   "cell_type": "code",
   "execution_count": 5,
   "id": "eea25882",
   "metadata": {
    "ExecuteTime": {
     "end_time": "2022-10-13T23:07:21.146603Z",
     "start_time": "2022-10-13T23:02:48.505570Z"
    }
   },
   "outputs": [
    {
     "name": "stdout",
     "output_type": "stream",
     "text": [
      "Linear algorithm was disabled.\n",
      "AutoML directory: AutoML_1\n",
      "The task is binary_classification with evaluation metric logloss\n",
      "AutoML will use algorithms: ['Baseline', 'Decision Tree', 'Random Forest', 'Xgboost', 'Neural Network']\n",
      "AutoML will ensemble available models\n",
      "AutoML steps: ['simple_algorithms', 'default_algorithms', 'ensemble']\n",
      "* Step simple_algorithms will try to check up to 2 models\n",
      "1_Baseline logloss 0.693147 trained in 0.78 seconds\n"
     ]
    },
    {
     "name": "stderr",
     "output_type": "stream",
     "text": [
      "Glyph 45824 (\\N{HANGUL SYLLABLE DAE}) missing from current font.\n",
      "Glyph 54872 (\\N{HANGUL SYLLABLE HWAN}) missing from current font.\n",
      "Glyph 52636 (\\N{HANGUL SYLLABLE CUL}) missing from current font.\n",
      "Glyph 51204 (\\N{HANGUL SYLLABLE JEON}) missing from current font.\n",
      "Glyph 50900 (\\N{HANGUL SYLLABLE WEOL}) missing from current font.\n",
      "Glyph 49464 (\\N{HANGUL SYLLABLE SE}) missing from current font.\n",
      "Glyph 51088 (\\N{HANGUL SYLLABLE JA}) missing from current font.\n",
      "Glyph 44032 (\\N{HANGUL SYLLABLE GA}) missing from current font.\n",
      "Glyph 44592 (\\N{HANGUL SYLLABLE GI}) missing from current font.\n",
      "Glyph 53440 (\\N{HANGUL SYLLABLE TA}) missing from current font.\n",
      "Glyph 51313 (\\N{HANGUL SYLLABLE JOG}) missing from current font.\n",
      "Glyph 49548 (\\N{HANGUL SYLLABLE SO}) missing from current font.\n",
      "Glyph 50976 (\\N{HANGUL SYLLABLE YU}) missing from current font.\n",
      "Glyph 44228 (\\N{HANGUL SYLLABLE GYE}) missing from current font.\n",
      "Glyph 50557 (\\N{HANGUL SYLLABLE YAG}) missing from current font.\n",
      "Glyph 51649 (\\N{HANGUL SYLLABLE JIG}) missing from current font.\n",
      "Glyph 45824 (\\N{HANGUL SYLLABLE DAE}) missing from current font.\n",
      "Glyph 54872 (\\N{HANGUL SYLLABLE HWAN}) missing from current font.\n",
      "Glyph 52636 (\\N{HANGUL SYLLABLE CUL}) missing from current font.\n",
      "Glyph 51204 (\\N{HANGUL SYLLABLE JEON}) missing from current font.\n",
      "Glyph 50900 (\\N{HANGUL SYLLABLE WEOL}) missing from current font.\n",
      "Glyph 49464 (\\N{HANGUL SYLLABLE SE}) missing from current font.\n",
      "Glyph 51088 (\\N{HANGUL SYLLABLE JA}) missing from current font.\n",
      "Glyph 44032 (\\N{HANGUL SYLLABLE GA}) missing from current font.\n",
      "Glyph 44592 (\\N{HANGUL SYLLABLE GI}) missing from current font.\n",
      "Glyph 53440 (\\N{HANGUL SYLLABLE TA}) missing from current font.\n",
      "Glyph 51313 (\\N{HANGUL SYLLABLE JOG}) missing from current font.\n",
      "Glyph 49548 (\\N{HANGUL SYLLABLE SO}) missing from current font.\n",
      "Glyph 50976 (\\N{HANGUL SYLLABLE YU}) missing from current font.\n",
      "Glyph 44228 (\\N{HANGUL SYLLABLE GYE}) missing from current font.\n",
      "Glyph 50557 (\\N{HANGUL SYLLABLE YAG}) missing from current font.\n",
      "Glyph 51649 (\\N{HANGUL SYLLABLE JIG}) missing from current font.\n",
      "Glyph 45824 (\\N{HANGUL SYLLABLE DAE}) missing from current font.\n",
      "Glyph 54872 (\\N{HANGUL SYLLABLE HWAN}) missing from current font.\n",
      "Glyph 52636 (\\N{HANGUL SYLLABLE CUL}) missing from current font.\n",
      "Glyph 51204 (\\N{HANGUL SYLLABLE JEON}) missing from current font.\n",
      "Glyph 50900 (\\N{HANGUL SYLLABLE WEOL}) missing from current font.\n",
      "Glyph 49464 (\\N{HANGUL SYLLABLE SE}) missing from current font.\n",
      "Glyph 51088 (\\N{HANGUL SYLLABLE JA}) missing from current font.\n",
      "Glyph 44032 (\\N{HANGUL SYLLABLE GA}) missing from current font.\n",
      "Glyph 44592 (\\N{HANGUL SYLLABLE GI}) missing from current font.\n",
      "Glyph 53440 (\\N{HANGUL SYLLABLE TA}) missing from current font.\n",
      "Glyph 51313 (\\N{HANGUL SYLLABLE JOG}) missing from current font.\n",
      "Glyph 49548 (\\N{HANGUL SYLLABLE SO}) missing from current font.\n",
      "Glyph 50976 (\\N{HANGUL SYLLABLE YU}) missing from current font.\n",
      "Glyph 44228 (\\N{HANGUL SYLLABLE GYE}) missing from current font.\n",
      "Glyph 50557 (\\N{HANGUL SYLLABLE YAG}) missing from current font.\n",
      "Glyph 51649 (\\N{HANGUL SYLLABLE JIG}) missing from current font.\n",
      "Glyph 45824 (\\N{HANGUL SYLLABLE DAE}) missing from current font.\n",
      "Glyph 54872 (\\N{HANGUL SYLLABLE HWAN}) missing from current font.\n",
      "Glyph 52636 (\\N{HANGUL SYLLABLE CUL}) missing from current font.\n",
      "Glyph 51204 (\\N{HANGUL SYLLABLE JEON}) missing from current font.\n",
      "Glyph 50900 (\\N{HANGUL SYLLABLE WEOL}) missing from current font.\n",
      "Glyph 49464 (\\N{HANGUL SYLLABLE SE}) missing from current font.\n",
      "Glyph 51088 (\\N{HANGUL SYLLABLE JA}) missing from current font.\n",
      "Glyph 44032 (\\N{HANGUL SYLLABLE GA}) missing from current font.\n",
      "Glyph 44592 (\\N{HANGUL SYLLABLE GI}) missing from current font.\n",
      "Glyph 53440 (\\N{HANGUL SYLLABLE TA}) missing from current font.\n",
      "Glyph 51313 (\\N{HANGUL SYLLABLE JOG}) missing from current font.\n",
      "Glyph 49548 (\\N{HANGUL SYLLABLE SO}) missing from current font.\n",
      "Glyph 50976 (\\N{HANGUL SYLLABLE YU}) missing from current font.\n",
      "Glyph 44228 (\\N{HANGUL SYLLABLE GYE}) missing from current font.\n",
      "Glyph 50557 (\\N{HANGUL SYLLABLE YAG}) missing from current font.\n",
      "Glyph 51649 (\\N{HANGUL SYLLABLE JIG}) missing from current font.\n",
      "Glyph 45824 (\\N{HANGUL SYLLABLE DAE}) missing from current font.\n",
      "Glyph 54872 (\\N{HANGUL SYLLABLE HWAN}) missing from current font.\n",
      "Glyph 52636 (\\N{HANGUL SYLLABLE CUL}) missing from current font.\n",
      "Glyph 51204 (\\N{HANGUL SYLLABLE JEON}) missing from current font.\n",
      "Glyph 50900 (\\N{HANGUL SYLLABLE WEOL}) missing from current font.\n",
      "Glyph 49464 (\\N{HANGUL SYLLABLE SE}) missing from current font.\n",
      "Glyph 51088 (\\N{HANGUL SYLLABLE JA}) missing from current font.\n",
      "Glyph 44032 (\\N{HANGUL SYLLABLE GA}) missing from current font.\n",
      "Glyph 44592 (\\N{HANGUL SYLLABLE GI}) missing from current font.\n",
      "Glyph 53440 (\\N{HANGUL SYLLABLE TA}) missing from current font.\n",
      "Glyph 51313 (\\N{HANGUL SYLLABLE JOG}) missing from current font.\n",
      "Glyph 49548 (\\N{HANGUL SYLLABLE SO}) missing from current font.\n",
      "Glyph 50976 (\\N{HANGUL SYLLABLE YU}) missing from current font.\n",
      "Glyph 44228 (\\N{HANGUL SYLLABLE GYE}) missing from current font.\n",
      "Glyph 50557 (\\N{HANGUL SYLLABLE YAG}) missing from current font.\n",
      "Glyph 51649 (\\N{HANGUL SYLLABLE JIG}) missing from current font.\n",
      "Glyph 45824 (\\N{HANGUL SYLLABLE DAE}) missing from current font.\n",
      "Glyph 54872 (\\N{HANGUL SYLLABLE HWAN}) missing from current font.\n",
      "Glyph 52636 (\\N{HANGUL SYLLABLE CUL}) missing from current font.\n",
      "Glyph 51204 (\\N{HANGUL SYLLABLE JEON}) missing from current font.\n",
      "Glyph 50900 (\\N{HANGUL SYLLABLE WEOL}) missing from current font.\n",
      "Glyph 49464 (\\N{HANGUL SYLLABLE SE}) missing from current font.\n",
      "Glyph 51088 (\\N{HANGUL SYLLABLE JA}) missing from current font.\n",
      "Glyph 44032 (\\N{HANGUL SYLLABLE GA}) missing from current font.\n",
      "Glyph 44592 (\\N{HANGUL SYLLABLE GI}) missing from current font.\n",
      "Glyph 53440 (\\N{HANGUL SYLLABLE TA}) missing from current font.\n",
      "Glyph 51313 (\\N{HANGUL SYLLABLE JOG}) missing from current font.\n",
      "Glyph 49548 (\\N{HANGUL SYLLABLE SO}) missing from current font.\n",
      "Glyph 50976 (\\N{HANGUL SYLLABLE YU}) missing from current font.\n",
      "Glyph 44228 (\\N{HANGUL SYLLABLE GYE}) missing from current font.\n",
      "Glyph 50557 (\\N{HANGUL SYLLABLE YAG}) missing from current font.\n",
      "Glyph 51649 (\\N{HANGUL SYLLABLE JIG}) missing from current font.\n"
     ]
    },
    {
     "name": "stdout",
     "output_type": "stream",
     "text": [
      "2_DecisionTree logloss 0.567623 trained in 24.51 seconds\n"
     ]
    },
    {
     "name": "stderr",
     "output_type": "stream",
     "text": [
      "Glyph 44592 (\\N{HANGUL SYLLABLE GI}) missing from current font.\n",
      "Glyph 53440 (\\N{HANGUL SYLLABLE TA}) missing from current font.\n",
      "Glyph 51221 (\\N{HANGUL SYLLABLE JEONG}) missing from current font.\n",
      "Glyph 44508 (\\N{HANGUL SYLLABLE GYU}) missing from current font.\n",
      "Glyph 51649 (\\N{HANGUL SYLLABLE JIG}) missing from current font.\n",
      "Glyph 44032 (\\N{HANGUL SYLLABLE GA}) missing from current font.\n",
      "Glyph 51313 (\\N{HANGUL SYLLABLE JOG}) missing from current font.\n",
      "Glyph 49548 (\\N{HANGUL SYLLABLE SO}) missing from current font.\n",
      "Glyph 50976 (\\N{HANGUL SYLLABLE YU}) missing from current font.\n",
      "Glyph 51088 (\\N{HANGUL SYLLABLE JA}) missing from current font.\n",
      "Glyph 51204 (\\N{HANGUL SYLLABLE JEON}) missing from current font.\n",
      "Glyph 50900 (\\N{HANGUL SYLLABLE WEOL}) missing from current font.\n",
      "Glyph 49464 (\\N{HANGUL SYLLABLE SE}) missing from current font.\n",
      "Glyph 45824 (\\N{HANGUL SYLLABLE DAE}) missing from current font.\n",
      "Glyph 54872 (\\N{HANGUL SYLLABLE HWAN}) missing from current font.\n",
      "Glyph 52636 (\\N{HANGUL SYLLABLE CUL}) missing from current font.\n",
      "Glyph 49373 (\\N{HANGUL SYLLABLE SAENG}) missing from current font.\n",
      "Glyph 54876 (\\N{HANGUL SYLLABLE HWAL}) missing from current font.\n",
      "Glyph 48708 (\\N{HANGUL SYLLABLE BI}) missing from current font.\n",
      "Glyph 44592 (\\N{HANGUL SYLLABLE GI}) missing from current font.\n",
      "Glyph 53440 (\\N{HANGUL SYLLABLE TA}) missing from current font.\n",
      "Glyph 51221 (\\N{HANGUL SYLLABLE JEONG}) missing from current font.\n",
      "Glyph 44508 (\\N{HANGUL SYLLABLE GYU}) missing from current font.\n",
      "Glyph 51649 (\\N{HANGUL SYLLABLE JIG}) missing from current font.\n",
      "Glyph 44032 (\\N{HANGUL SYLLABLE GA}) missing from current font.\n",
      "Glyph 51313 (\\N{HANGUL SYLLABLE JOG}) missing from current font.\n",
      "Glyph 49548 (\\N{HANGUL SYLLABLE SO}) missing from current font.\n",
      "Glyph 50976 (\\N{HANGUL SYLLABLE YU}) missing from current font.\n",
      "Glyph 51088 (\\N{HANGUL SYLLABLE JA}) missing from current font.\n",
      "Glyph 51204 (\\N{HANGUL SYLLABLE JEON}) missing from current font.\n",
      "Glyph 50900 (\\N{HANGUL SYLLABLE WEOL}) missing from current font.\n",
      "Glyph 49464 (\\N{HANGUL SYLLABLE SE}) missing from current font.\n",
      "Glyph 45824 (\\N{HANGUL SYLLABLE DAE}) missing from current font.\n",
      "Glyph 54872 (\\N{HANGUL SYLLABLE HWAN}) missing from current font.\n",
      "Glyph 52636 (\\N{HANGUL SYLLABLE CUL}) missing from current font.\n",
      "Glyph 49373 (\\N{HANGUL SYLLABLE SAENG}) missing from current font.\n",
      "Glyph 54876 (\\N{HANGUL SYLLABLE HWAL}) missing from current font.\n",
      "Glyph 48708 (\\N{HANGUL SYLLABLE BI}) missing from current font.\n",
      "Glyph 44592 (\\N{HANGUL SYLLABLE GI}) missing from current font.\n",
      "Glyph 53440 (\\N{HANGUL SYLLABLE TA}) missing from current font.\n",
      "Glyph 44032 (\\N{HANGUL SYLLABLE GA}) missing from current font.\n",
      "Glyph 51313 (\\N{HANGUL SYLLABLE JOG}) missing from current font.\n",
      "Glyph 49548 (\\N{HANGUL SYLLABLE SO}) missing from current font.\n",
      "Glyph 50976 (\\N{HANGUL SYLLABLE YU}) missing from current font.\n",
      "Glyph 44228 (\\N{HANGUL SYLLABLE GYE}) missing from current font.\n",
      "Glyph 50557 (\\N{HANGUL SYLLABLE YAG}) missing from current font.\n",
      "Glyph 51649 (\\N{HANGUL SYLLABLE JIG}) missing from current font.\n",
      "Glyph 45824 (\\N{HANGUL SYLLABLE DAE}) missing from current font.\n",
      "Glyph 54872 (\\N{HANGUL SYLLABLE HWAN}) missing from current font.\n",
      "Glyph 52636 (\\N{HANGUL SYLLABLE CUL}) missing from current font.\n",
      "Glyph 51221 (\\N{HANGUL SYLLABLE JEONG}) missing from current font.\n",
      "Glyph 44508 (\\N{HANGUL SYLLABLE GYU}) missing from current font.\n",
      "Glyph 51204 (\\N{HANGUL SYLLABLE JEON}) missing from current font.\n",
      "Glyph 50900 (\\N{HANGUL SYLLABLE WEOL}) missing from current font.\n",
      "Glyph 49464 (\\N{HANGUL SYLLABLE SE}) missing from current font.\n",
      "Glyph 49373 (\\N{HANGUL SYLLABLE SAENG}) missing from current font.\n",
      "Glyph 54876 (\\N{HANGUL SYLLABLE HWAL}) missing from current font.\n",
      "Glyph 48708 (\\N{HANGUL SYLLABLE BI}) missing from current font.\n",
      "Glyph 44592 (\\N{HANGUL SYLLABLE GI}) missing from current font.\n",
      "Glyph 53440 (\\N{HANGUL SYLLABLE TA}) missing from current font.\n",
      "Glyph 44032 (\\N{HANGUL SYLLABLE GA}) missing from current font.\n",
      "Glyph 51313 (\\N{HANGUL SYLLABLE JOG}) missing from current font.\n",
      "Glyph 49548 (\\N{HANGUL SYLLABLE SO}) missing from current font.\n",
      "Glyph 50976 (\\N{HANGUL SYLLABLE YU}) missing from current font.\n",
      "Glyph 44228 (\\N{HANGUL SYLLABLE GYE}) missing from current font.\n",
      "Glyph 50557 (\\N{HANGUL SYLLABLE YAG}) missing from current font.\n",
      "Glyph 51649 (\\N{HANGUL SYLLABLE JIG}) missing from current font.\n",
      "Glyph 45824 (\\N{HANGUL SYLLABLE DAE}) missing from current font.\n",
      "Glyph 54872 (\\N{HANGUL SYLLABLE HWAN}) missing from current font.\n",
      "Glyph 52636 (\\N{HANGUL SYLLABLE CUL}) missing from current font.\n",
      "Glyph 51221 (\\N{HANGUL SYLLABLE JEONG}) missing from current font.\n",
      "Glyph 44508 (\\N{HANGUL SYLLABLE GYU}) missing from current font.\n",
      "Glyph 51204 (\\N{HANGUL SYLLABLE JEON}) missing from current font.\n",
      "Glyph 50900 (\\N{HANGUL SYLLABLE WEOL}) missing from current font.\n",
      "Glyph 49464 (\\N{HANGUL SYLLABLE SE}) missing from current font.\n",
      "Glyph 49373 (\\N{HANGUL SYLLABLE SAENG}) missing from current font.\n",
      "Glyph 54876 (\\N{HANGUL SYLLABLE HWAL}) missing from current font.\n",
      "Glyph 48708 (\\N{HANGUL SYLLABLE BI}) missing from current font.\n"
     ]
    },
    {
     "name": "stdout",
     "output_type": "stream",
     "text": [
      "* Step default_algorithms will try to check up to 3 models\n"
     ]
    },
    {
     "name": "stderr",
     "output_type": "stream",
     "text": [
      "Glyph 44592 (\\N{HANGUL SYLLABLE GI}) missing from current font.\n",
      "Glyph 53440 (\\N{HANGUL SYLLABLE TA}) missing from current font.\n",
      "Glyph 44032 (\\N{HANGUL SYLLABLE GA}) missing from current font.\n",
      "Glyph 51313 (\\N{HANGUL SYLLABLE JOG}) missing from current font.\n",
      "Glyph 49548 (\\N{HANGUL SYLLABLE SO}) missing from current font.\n",
      "Glyph 50976 (\\N{HANGUL SYLLABLE YU}) missing from current font.\n",
      "Glyph 45824 (\\N{HANGUL SYLLABLE DAE}) missing from current font.\n",
      "Glyph 54872 (\\N{HANGUL SYLLABLE HWAN}) missing from current font.\n",
      "Glyph 52636 (\\N{HANGUL SYLLABLE CUL}) missing from current font.\n",
      "Glyph 49373 (\\N{HANGUL SYLLABLE SAENG}) missing from current font.\n",
      "Glyph 54876 (\\N{HANGUL SYLLABLE HWAL}) missing from current font.\n",
      "Glyph 48708 (\\N{HANGUL SYLLABLE BI}) missing from current font.\n",
      "Glyph 44592 (\\N{HANGUL SYLLABLE GI}) missing from current font.\n",
      "Glyph 53440 (\\N{HANGUL SYLLABLE TA}) missing from current font.\n",
      "Glyph 44032 (\\N{HANGUL SYLLABLE GA}) missing from current font.\n",
      "Glyph 51313 (\\N{HANGUL SYLLABLE JOG}) missing from current font.\n",
      "Glyph 49548 (\\N{HANGUL SYLLABLE SO}) missing from current font.\n",
      "Glyph 50976 (\\N{HANGUL SYLLABLE YU}) missing from current font.\n",
      "Glyph 45824 (\\N{HANGUL SYLLABLE DAE}) missing from current font.\n",
      "Glyph 54872 (\\N{HANGUL SYLLABLE HWAN}) missing from current font.\n",
      "Glyph 52636 (\\N{HANGUL SYLLABLE CUL}) missing from current font.\n",
      "Glyph 49373 (\\N{HANGUL SYLLABLE SAENG}) missing from current font.\n",
      "Glyph 54876 (\\N{HANGUL SYLLABLE HWAL}) missing from current font.\n",
      "Glyph 48708 (\\N{HANGUL SYLLABLE BI}) missing from current font.\n"
     ]
    },
    {
     "name": "stdout",
     "output_type": "stream",
     "text": [
      "Exception while producing SHAP explanations. Passing parameters norm and vmin/vmax simultaneously is not supported. Please pass vmin/vmax directly to the norm when creating it.\n",
      "Continuing ...\n",
      "3_Default_Xgboost logloss 0.448804 trained in 61.65 seconds\n"
     ]
    },
    {
     "name": "stderr",
     "output_type": "stream",
     "text": [
      "Glyph 49373 (\\N{HANGUL SYLLABLE SAENG}) missing from current font.\n",
      "Glyph 54876 (\\N{HANGUL SYLLABLE HWAL}) missing from current font.\n",
      "Glyph 48708 (\\N{HANGUL SYLLABLE BI}) missing from current font.\n",
      "Glyph 44592 (\\N{HANGUL SYLLABLE GI}) missing from current font.\n",
      "Glyph 53440 (\\N{HANGUL SYLLABLE TA}) missing from current font.\n",
      "Glyph 45824 (\\N{HANGUL SYLLABLE DAE}) missing from current font.\n",
      "Glyph 54872 (\\N{HANGUL SYLLABLE HWAN}) missing from current font.\n",
      "Glyph 52636 (\\N{HANGUL SYLLABLE CUL}) missing from current font.\n",
      "Glyph 51088 (\\N{HANGUL SYLLABLE JA}) missing from current font.\n",
      "Glyph 44032 (\\N{HANGUL SYLLABLE GA}) missing from current font.\n",
      "Glyph 51313 (\\N{HANGUL SYLLABLE JOG}) missing from current font.\n",
      "Glyph 49548 (\\N{HANGUL SYLLABLE SO}) missing from current font.\n",
      "Glyph 50976 (\\N{HANGUL SYLLABLE YU}) missing from current font.\n",
      "Glyph 44228 (\\N{HANGUL SYLLABLE GYE}) missing from current font.\n",
      "Glyph 50557 (\\N{HANGUL SYLLABLE YAG}) missing from current font.\n",
      "Glyph 51649 (\\N{HANGUL SYLLABLE JIG}) missing from current font.\n",
      "Glyph 49373 (\\N{HANGUL SYLLABLE SAENG}) missing from current font.\n",
      "Glyph 54876 (\\N{HANGUL SYLLABLE HWAL}) missing from current font.\n",
      "Glyph 48708 (\\N{HANGUL SYLLABLE BI}) missing from current font.\n",
      "Glyph 44592 (\\N{HANGUL SYLLABLE GI}) missing from current font.\n",
      "Glyph 53440 (\\N{HANGUL SYLLABLE TA}) missing from current font.\n",
      "Glyph 45824 (\\N{HANGUL SYLLABLE DAE}) missing from current font.\n",
      "Glyph 54872 (\\N{HANGUL SYLLABLE HWAN}) missing from current font.\n",
      "Glyph 52636 (\\N{HANGUL SYLLABLE CUL}) missing from current font.\n",
      "Glyph 51088 (\\N{HANGUL SYLLABLE JA}) missing from current font.\n",
      "Glyph 44032 (\\N{HANGUL SYLLABLE GA}) missing from current font.\n",
      "Glyph 51313 (\\N{HANGUL SYLLABLE JOG}) missing from current font.\n",
      "Glyph 49548 (\\N{HANGUL SYLLABLE SO}) missing from current font.\n",
      "Glyph 50976 (\\N{HANGUL SYLLABLE YU}) missing from current font.\n",
      "Glyph 44228 (\\N{HANGUL SYLLABLE GYE}) missing from current font.\n",
      "Glyph 50557 (\\N{HANGUL SYLLABLE YAG}) missing from current font.\n",
      "Glyph 51649 (\\N{HANGUL SYLLABLE JIG}) missing from current font.\n",
      "Glyph 49373 (\\N{HANGUL SYLLABLE SAENG}) missing from current font.\n",
      "Glyph 54876 (\\N{HANGUL SYLLABLE HWAL}) missing from current font.\n",
      "Glyph 48708 (\\N{HANGUL SYLLABLE BI}) missing from current font.\n",
      "Glyph 44592 (\\N{HANGUL SYLLABLE GI}) missing from current font.\n",
      "Glyph 53440 (\\N{HANGUL SYLLABLE TA}) missing from current font.\n",
      "Glyph 45824 (\\N{HANGUL SYLLABLE DAE}) missing from current font.\n",
      "Glyph 54872 (\\N{HANGUL SYLLABLE HWAN}) missing from current font.\n",
      "Glyph 52636 (\\N{HANGUL SYLLABLE CUL}) missing from current font.\n",
      "Glyph 44032 (\\N{HANGUL SYLLABLE GA}) missing from current font.\n",
      "Glyph 51313 (\\N{HANGUL SYLLABLE JOG}) missing from current font.\n",
      "Glyph 49548 (\\N{HANGUL SYLLABLE SO}) missing from current font.\n",
      "Glyph 50976 (\\N{HANGUL SYLLABLE YU}) missing from current font.\n",
      "Glyph 51088 (\\N{HANGUL SYLLABLE JA}) missing from current font.\n",
      "Glyph 51221 (\\N{HANGUL SYLLABLE JEONG}) missing from current font.\n",
      "Glyph 44508 (\\N{HANGUL SYLLABLE GYU}) missing from current font.\n",
      "Glyph 51649 (\\N{HANGUL SYLLABLE JIG}) missing from current font.\n",
      "Glyph 44228 (\\N{HANGUL SYLLABLE GYE}) missing from current font.\n",
      "Glyph 50557 (\\N{HANGUL SYLLABLE YAG}) missing from current font.\n",
      "Glyph 49373 (\\N{HANGUL SYLLABLE SAENG}) missing from current font.\n",
      "Glyph 54876 (\\N{HANGUL SYLLABLE HWAL}) missing from current font.\n",
      "Glyph 48708 (\\N{HANGUL SYLLABLE BI}) missing from current font.\n",
      "Glyph 44592 (\\N{HANGUL SYLLABLE GI}) missing from current font.\n",
      "Glyph 53440 (\\N{HANGUL SYLLABLE TA}) missing from current font.\n",
      "Glyph 45824 (\\N{HANGUL SYLLABLE DAE}) missing from current font.\n",
      "Glyph 54872 (\\N{HANGUL SYLLABLE HWAN}) missing from current font.\n",
      "Glyph 52636 (\\N{HANGUL SYLLABLE CUL}) missing from current font.\n",
      "Glyph 44032 (\\N{HANGUL SYLLABLE GA}) missing from current font.\n",
      "Glyph 51313 (\\N{HANGUL SYLLABLE JOG}) missing from current font.\n",
      "Glyph 49548 (\\N{HANGUL SYLLABLE SO}) missing from current font.\n",
      "Glyph 50976 (\\N{HANGUL SYLLABLE YU}) missing from current font.\n",
      "Glyph 51088 (\\N{HANGUL SYLLABLE JA}) missing from current font.\n",
      "Glyph 51221 (\\N{HANGUL SYLLABLE JEONG}) missing from current font.\n",
      "Glyph 44508 (\\N{HANGUL SYLLABLE GYU}) missing from current font.\n",
      "Glyph 51649 (\\N{HANGUL SYLLABLE JIG}) missing from current font.\n",
      "Glyph 44228 (\\N{HANGUL SYLLABLE GYE}) missing from current font.\n",
      "Glyph 50557 (\\N{HANGUL SYLLABLE YAG}) missing from current font.\n"
     ]
    },
    {
     "name": "stdout",
     "output_type": "stream",
     "text": [
      "4_Default_NeuralNetwork logloss 0.484242 trained in 157.21 seconds\n"
     ]
    },
    {
     "name": "stderr",
     "output_type": "stream",
     "text": [
      "Glyph 49373 (\\N{HANGUL SYLLABLE SAENG}) missing from current font.\n",
      "Glyph 54876 (\\N{HANGUL SYLLABLE HWAL}) missing from current font.\n",
      "Glyph 48708 (\\N{HANGUL SYLLABLE BI}) missing from current font.\n",
      "Glyph 45824 (\\N{HANGUL SYLLABLE DAE}) missing from current font.\n",
      "Glyph 54872 (\\N{HANGUL SYLLABLE HWAN}) missing from current font.\n",
      "Glyph 52636 (\\N{HANGUL SYLLABLE CUL}) missing from current font.\n",
      "Glyph 44592 (\\N{HANGUL SYLLABLE GI}) missing from current font.\n",
      "Glyph 53440 (\\N{HANGUL SYLLABLE TA}) missing from current font.\n",
      "Glyph 51221 (\\N{HANGUL SYLLABLE JEONG}) missing from current font.\n",
      "Glyph 44508 (\\N{HANGUL SYLLABLE GYU}) missing from current font.\n",
      "Glyph 51649 (\\N{HANGUL SYLLABLE JIG}) missing from current font.\n",
      "Glyph 44032 (\\N{HANGUL SYLLABLE GA}) missing from current font.\n",
      "Glyph 51313 (\\N{HANGUL SYLLABLE JOG}) missing from current font.\n",
      "Glyph 49548 (\\N{HANGUL SYLLABLE SO}) missing from current font.\n",
      "Glyph 50976 (\\N{HANGUL SYLLABLE YU}) missing from current font.\n",
      "Glyph 51204 (\\N{HANGUL SYLLABLE JEON}) missing from current font.\n",
      "Glyph 50900 (\\N{HANGUL SYLLABLE WEOL}) missing from current font.\n",
      "Glyph 49464 (\\N{HANGUL SYLLABLE SE}) missing from current font.\n",
      "Glyph 51088 (\\N{HANGUL SYLLABLE JA}) missing from current font.\n",
      "Glyph 44228 (\\N{HANGUL SYLLABLE GYE}) missing from current font.\n",
      "Glyph 50557 (\\N{HANGUL SYLLABLE YAG}) missing from current font.\n",
      "Glyph 49373 (\\N{HANGUL SYLLABLE SAENG}) missing from current font.\n",
      "Glyph 54876 (\\N{HANGUL SYLLABLE HWAL}) missing from current font.\n",
      "Glyph 48708 (\\N{HANGUL SYLLABLE BI}) missing from current font.\n",
      "Glyph 45824 (\\N{HANGUL SYLLABLE DAE}) missing from current font.\n",
      "Glyph 54872 (\\N{HANGUL SYLLABLE HWAN}) missing from current font.\n",
      "Glyph 52636 (\\N{HANGUL SYLLABLE CUL}) missing from current font.\n",
      "Glyph 44592 (\\N{HANGUL SYLLABLE GI}) missing from current font.\n",
      "Glyph 53440 (\\N{HANGUL SYLLABLE TA}) missing from current font.\n",
      "Glyph 51221 (\\N{HANGUL SYLLABLE JEONG}) missing from current font.\n",
      "Glyph 44508 (\\N{HANGUL SYLLABLE GYU}) missing from current font.\n",
      "Glyph 51649 (\\N{HANGUL SYLLABLE JIG}) missing from current font.\n",
      "Glyph 44032 (\\N{HANGUL SYLLABLE GA}) missing from current font.\n",
      "Glyph 51313 (\\N{HANGUL SYLLABLE JOG}) missing from current font.\n",
      "Glyph 49548 (\\N{HANGUL SYLLABLE SO}) missing from current font.\n",
      "Glyph 50976 (\\N{HANGUL SYLLABLE YU}) missing from current font.\n",
      "Glyph 51204 (\\N{HANGUL SYLLABLE JEON}) missing from current font.\n",
      "Glyph 50900 (\\N{HANGUL SYLLABLE WEOL}) missing from current font.\n",
      "Glyph 49464 (\\N{HANGUL SYLLABLE SE}) missing from current font.\n",
      "Glyph 51088 (\\N{HANGUL SYLLABLE JA}) missing from current font.\n",
      "Glyph 44228 (\\N{HANGUL SYLLABLE GYE}) missing from current font.\n",
      "Glyph 50557 (\\N{HANGUL SYLLABLE YAG}) missing from current font.\n",
      "Glyph 45824 (\\N{HANGUL SYLLABLE DAE}) missing from current font.\n",
      "Glyph 54872 (\\N{HANGUL SYLLABLE HWAN}) missing from current font.\n",
      "Glyph 52636 (\\N{HANGUL SYLLABLE CUL}) missing from current font.\n",
      "Glyph 51204 (\\N{HANGUL SYLLABLE JEON}) missing from current font.\n",
      "Glyph 50900 (\\N{HANGUL SYLLABLE WEOL}) missing from current font.\n",
      "Glyph 49464 (\\N{HANGUL SYLLABLE SE}) missing from current font.\n",
      "Glyph 51088 (\\N{HANGUL SYLLABLE JA}) missing from current font.\n",
      "Glyph 44032 (\\N{HANGUL SYLLABLE GA}) missing from current font.\n",
      "Glyph 44592 (\\N{HANGUL SYLLABLE GI}) missing from current font.\n",
      "Glyph 53440 (\\N{HANGUL SYLLABLE TA}) missing from current font.\n",
      "Glyph 51313 (\\N{HANGUL SYLLABLE JOG}) missing from current font.\n",
      "Glyph 49548 (\\N{HANGUL SYLLABLE SO}) missing from current font.\n",
      "Glyph 50976 (\\N{HANGUL SYLLABLE YU}) missing from current font.\n",
      "Glyph 44228 (\\N{HANGUL SYLLABLE GYE}) missing from current font.\n",
      "Glyph 50557 (\\N{HANGUL SYLLABLE YAG}) missing from current font.\n",
      "Glyph 51649 (\\N{HANGUL SYLLABLE JIG}) missing from current font.\n",
      "Glyph 45824 (\\N{HANGUL SYLLABLE DAE}) missing from current font.\n",
      "Glyph 54872 (\\N{HANGUL SYLLABLE HWAN}) missing from current font.\n",
      "Glyph 52636 (\\N{HANGUL SYLLABLE CUL}) missing from current font.\n",
      "Glyph 51204 (\\N{HANGUL SYLLABLE JEON}) missing from current font.\n",
      "Glyph 50900 (\\N{HANGUL SYLLABLE WEOL}) missing from current font.\n",
      "Glyph 49464 (\\N{HANGUL SYLLABLE SE}) missing from current font.\n",
      "Glyph 51088 (\\N{HANGUL SYLLABLE JA}) missing from current font.\n",
      "Glyph 44032 (\\N{HANGUL SYLLABLE GA}) missing from current font.\n",
      "Glyph 44592 (\\N{HANGUL SYLLABLE GI}) missing from current font.\n",
      "Glyph 53440 (\\N{HANGUL SYLLABLE TA}) missing from current font.\n",
      "Glyph 51313 (\\N{HANGUL SYLLABLE JOG}) missing from current font.\n",
      "Glyph 49548 (\\N{HANGUL SYLLABLE SO}) missing from current font.\n",
      "Glyph 50976 (\\N{HANGUL SYLLABLE YU}) missing from current font.\n",
      "Glyph 44228 (\\N{HANGUL SYLLABLE GYE}) missing from current font.\n",
      "Glyph 50557 (\\N{HANGUL SYLLABLE YAG}) missing from current font.\n",
      "Glyph 51649 (\\N{HANGUL SYLLABLE JIG}) missing from current font.\n"
     ]
    },
    {
     "name": "stdout",
     "output_type": "stream",
     "text": [
      "Exception while producing SHAP explanations. Passing parameters norm and vmin/vmax simultaneously is not supported. Please pass vmin/vmax directly to the norm when creating it.\n",
      "Continuing ...\n",
      "5_Default_RandomForest logloss 0.534264 trained in 17.15 seconds\n"
     ]
    },
    {
     "name": "stderr",
     "output_type": "stream",
     "text": [
      "Glyph 44592 (\\N{HANGUL SYLLABLE GI}) missing from current font.\n",
      "Glyph 53440 (\\N{HANGUL SYLLABLE TA}) missing from current font.\n",
      "Glyph 51221 (\\N{HANGUL SYLLABLE JEONG}) missing from current font.\n",
      "Glyph 44508 (\\N{HANGUL SYLLABLE GYU}) missing from current font.\n",
      "Glyph 51649 (\\N{HANGUL SYLLABLE JIG}) missing from current font.\n",
      "Glyph 44032 (\\N{HANGUL SYLLABLE GA}) missing from current font.\n",
      "Glyph 51313 (\\N{HANGUL SYLLABLE JOG}) missing from current font.\n",
      "Glyph 49548 (\\N{HANGUL SYLLABLE SO}) missing from current font.\n",
      "Glyph 50976 (\\N{HANGUL SYLLABLE YU}) missing from current font.\n",
      "Glyph 51088 (\\N{HANGUL SYLLABLE JA}) missing from current font.\n",
      "Glyph 51204 (\\N{HANGUL SYLLABLE JEON}) missing from current font.\n",
      "Glyph 50900 (\\N{HANGUL SYLLABLE WEOL}) missing from current font.\n",
      "Glyph 49464 (\\N{HANGUL SYLLABLE SE}) missing from current font.\n",
      "Glyph 45824 (\\N{HANGUL SYLLABLE DAE}) missing from current font.\n",
      "Glyph 54872 (\\N{HANGUL SYLLABLE HWAN}) missing from current font.\n",
      "Glyph 52636 (\\N{HANGUL SYLLABLE CUL}) missing from current font.\n",
      "Glyph 49373 (\\N{HANGUL SYLLABLE SAENG}) missing from current font.\n",
      "Glyph 54876 (\\N{HANGUL SYLLABLE HWAL}) missing from current font.\n",
      "Glyph 48708 (\\N{HANGUL SYLLABLE BI}) missing from current font.\n",
      "Glyph 44592 (\\N{HANGUL SYLLABLE GI}) missing from current font.\n",
      "Glyph 53440 (\\N{HANGUL SYLLABLE TA}) missing from current font.\n",
      "Glyph 51221 (\\N{HANGUL SYLLABLE JEONG}) missing from current font.\n",
      "Glyph 44508 (\\N{HANGUL SYLLABLE GYU}) missing from current font.\n",
      "Glyph 51649 (\\N{HANGUL SYLLABLE JIG}) missing from current font.\n",
      "Glyph 44032 (\\N{HANGUL SYLLABLE GA}) missing from current font.\n",
      "Glyph 51313 (\\N{HANGUL SYLLABLE JOG}) missing from current font.\n",
      "Glyph 49548 (\\N{HANGUL SYLLABLE SO}) missing from current font.\n",
      "Glyph 50976 (\\N{HANGUL SYLLABLE YU}) missing from current font.\n",
      "Glyph 51088 (\\N{HANGUL SYLLABLE JA}) missing from current font.\n",
      "Glyph 51204 (\\N{HANGUL SYLLABLE JEON}) missing from current font.\n",
      "Glyph 50900 (\\N{HANGUL SYLLABLE WEOL}) missing from current font.\n",
      "Glyph 49464 (\\N{HANGUL SYLLABLE SE}) missing from current font.\n",
      "Glyph 45824 (\\N{HANGUL SYLLABLE DAE}) missing from current font.\n",
      "Glyph 54872 (\\N{HANGUL SYLLABLE HWAN}) missing from current font.\n",
      "Glyph 52636 (\\N{HANGUL SYLLABLE CUL}) missing from current font.\n",
      "Glyph 49373 (\\N{HANGUL SYLLABLE SAENG}) missing from current font.\n",
      "Glyph 54876 (\\N{HANGUL SYLLABLE HWAL}) missing from current font.\n",
      "Glyph 48708 (\\N{HANGUL SYLLABLE BI}) missing from current font.\n",
      "Glyph 44592 (\\N{HANGUL SYLLABLE GI}) missing from current font.\n",
      "Glyph 53440 (\\N{HANGUL SYLLABLE TA}) missing from current font.\n",
      "Glyph 44228 (\\N{HANGUL SYLLABLE GYE}) missing from current font.\n",
      "Glyph 50557 (\\N{HANGUL SYLLABLE YAG}) missing from current font.\n",
      "Glyph 51649 (\\N{HANGUL SYLLABLE JIG}) missing from current font.\n",
      "Glyph 51204 (\\N{HANGUL SYLLABLE JEON}) missing from current font.\n",
      "Glyph 50900 (\\N{HANGUL SYLLABLE WEOL}) missing from current font.\n",
      "Glyph 49464 (\\N{HANGUL SYLLABLE SE}) missing from current font.\n",
      "Glyph 44032 (\\N{HANGUL SYLLABLE GA}) missing from current font.\n",
      "Glyph 51313 (\\N{HANGUL SYLLABLE JOG}) missing from current font.\n",
      "Glyph 49548 (\\N{HANGUL SYLLABLE SO}) missing from current font.\n",
      "Glyph 50976 (\\N{HANGUL SYLLABLE YU}) missing from current font.\n",
      "Glyph 51088 (\\N{HANGUL SYLLABLE JA}) missing from current font.\n",
      "Glyph 51221 (\\N{HANGUL SYLLABLE JEONG}) missing from current font.\n",
      "Glyph 44508 (\\N{HANGUL SYLLABLE GYU}) missing from current font.\n",
      "Glyph 49373 (\\N{HANGUL SYLLABLE SAENG}) missing from current font.\n",
      "Glyph 54876 (\\N{HANGUL SYLLABLE HWAL}) missing from current font.\n",
      "Glyph 48708 (\\N{HANGUL SYLLABLE BI}) missing from current font.\n",
      "Glyph 45824 (\\N{HANGUL SYLLABLE DAE}) missing from current font.\n",
      "Glyph 54872 (\\N{HANGUL SYLLABLE HWAN}) missing from current font.\n",
      "Glyph 52636 (\\N{HANGUL SYLLABLE CUL}) missing from current font.\n",
      "Glyph 44592 (\\N{HANGUL SYLLABLE GI}) missing from current font.\n",
      "Glyph 53440 (\\N{HANGUL SYLLABLE TA}) missing from current font.\n",
      "Glyph 44228 (\\N{HANGUL SYLLABLE GYE}) missing from current font.\n",
      "Glyph 50557 (\\N{HANGUL SYLLABLE YAG}) missing from current font.\n",
      "Glyph 51649 (\\N{HANGUL SYLLABLE JIG}) missing from current font.\n",
      "Glyph 51204 (\\N{HANGUL SYLLABLE JEON}) missing from current font.\n",
      "Glyph 50900 (\\N{HANGUL SYLLABLE WEOL}) missing from current font.\n",
      "Glyph 49464 (\\N{HANGUL SYLLABLE SE}) missing from current font.\n",
      "Glyph 44032 (\\N{HANGUL SYLLABLE GA}) missing from current font.\n",
      "Glyph 51313 (\\N{HANGUL SYLLABLE JOG}) missing from current font.\n",
      "Glyph 49548 (\\N{HANGUL SYLLABLE SO}) missing from current font.\n",
      "Glyph 50976 (\\N{HANGUL SYLLABLE YU}) missing from current font.\n",
      "Glyph 51088 (\\N{HANGUL SYLLABLE JA}) missing from current font.\n",
      "Glyph 51221 (\\N{HANGUL SYLLABLE JEONG}) missing from current font.\n",
      "Glyph 44508 (\\N{HANGUL SYLLABLE GYU}) missing from current font.\n",
      "Glyph 49373 (\\N{HANGUL SYLLABLE SAENG}) missing from current font.\n",
      "Glyph 54876 (\\N{HANGUL SYLLABLE HWAL}) missing from current font.\n",
      "Glyph 48708 (\\N{HANGUL SYLLABLE BI}) missing from current font.\n",
      "Glyph 45824 (\\N{HANGUL SYLLABLE DAE}) missing from current font.\n",
      "Glyph 54872 (\\N{HANGUL SYLLABLE HWAN}) missing from current font.\n",
      "Glyph 52636 (\\N{HANGUL SYLLABLE CUL}) missing from current font.\n"
     ]
    },
    {
     "name": "stdout",
     "output_type": "stream",
     "text": [
      "* Step ensemble will try to check up to 1 model\n",
      "Ensemble logloss 0.448736 trained in 5.14 seconds\n"
     ]
    },
    {
     "name": "stderr",
     "output_type": "stream",
     "text": [
      "Glyph 49373 (\\N{HANGUL SYLLABLE SAENG}) missing from current font.\n",
      "Glyph 54876 (\\N{HANGUL SYLLABLE HWAL}) missing from current font.\n",
      "Glyph 48708 (\\N{HANGUL SYLLABLE BI}) missing from current font.\n",
      "Glyph 44592 (\\N{HANGUL SYLLABLE GI}) missing from current font.\n",
      "Glyph 53440 (\\N{HANGUL SYLLABLE TA}) missing from current font.\n",
      "Glyph 45824 (\\N{HANGUL SYLLABLE DAE}) missing from current font.\n",
      "Glyph 54872 (\\N{HANGUL SYLLABLE HWAN}) missing from current font.\n",
      "Glyph 52636 (\\N{HANGUL SYLLABLE CUL}) missing from current font.\n",
      "Glyph 44032 (\\N{HANGUL SYLLABLE GA}) missing from current font.\n",
      "Glyph 51313 (\\N{HANGUL SYLLABLE JOG}) missing from current font.\n",
      "Glyph 49548 (\\N{HANGUL SYLLABLE SO}) missing from current font.\n",
      "Glyph 50976 (\\N{HANGUL SYLLABLE YU}) missing from current font.\n",
      "Glyph 51221 (\\N{HANGUL SYLLABLE JEONG}) missing from current font.\n",
      "Glyph 44508 (\\N{HANGUL SYLLABLE GYU}) missing from current font.\n",
      "Glyph 51649 (\\N{HANGUL SYLLABLE JIG}) missing from current font.\n",
      "Glyph 51088 (\\N{HANGUL SYLLABLE JA}) missing from current font.\n",
      "Glyph 49373 (\\N{HANGUL SYLLABLE SAENG}) missing from current font.\n",
      "Glyph 54876 (\\N{HANGUL SYLLABLE HWAL}) missing from current font.\n",
      "Glyph 48708 (\\N{HANGUL SYLLABLE BI}) missing from current font.\n",
      "Glyph 44592 (\\N{HANGUL SYLLABLE GI}) missing from current font.\n",
      "Glyph 53440 (\\N{HANGUL SYLLABLE TA}) missing from current font.\n",
      "Glyph 45824 (\\N{HANGUL SYLLABLE DAE}) missing from current font.\n",
      "Glyph 54872 (\\N{HANGUL SYLLABLE HWAN}) missing from current font.\n",
      "Glyph 52636 (\\N{HANGUL SYLLABLE CUL}) missing from current font.\n",
      "Glyph 44032 (\\N{HANGUL SYLLABLE GA}) missing from current font.\n",
      "Glyph 51313 (\\N{HANGUL SYLLABLE JOG}) missing from current font.\n",
      "Glyph 49548 (\\N{HANGUL SYLLABLE SO}) missing from current font.\n",
      "Glyph 50976 (\\N{HANGUL SYLLABLE YU}) missing from current font.\n",
      "Glyph 51221 (\\N{HANGUL SYLLABLE JEONG}) missing from current font.\n",
      "Glyph 44508 (\\N{HANGUL SYLLABLE GYU}) missing from current font.\n",
      "Glyph 51649 (\\N{HANGUL SYLLABLE JIG}) missing from current font.\n",
      "Glyph 51088 (\\N{HANGUL SYLLABLE JA}) missing from current font.\n"
     ]
    },
    {
     "name": "stdout",
     "output_type": "stream",
     "text": [
      "AutoML fit time: 272.63 seconds\n",
      "AutoML best model: Ensemble\n"
     ]
    },
    {
     "data": {
      "text/plain": [
       "AutoML()"
      ]
     },
     "execution_count": 5,
     "metadata": {},
     "output_type": "execute_result"
    }
   ],
   "source": [
    "model.fit(X_train, y_train)"
   ]
  },
  {
   "cell_type": "code",
   "execution_count": 6,
   "id": "10be013e",
   "metadata": {
    "ExecuteTime": {
     "end_time": "2022-10-13T23:07:21.529121Z",
     "start_time": "2022-10-13T23:07:21.211528Z"
    }
   },
   "outputs": [
    {
     "data": {
      "text/plain": [
       "0.78925"
      ]
     },
     "execution_count": 6,
     "metadata": {},
     "output_type": "execute_result"
    }
   ],
   "source": [
    "model.score(X_test, y_test)"
   ]
  },
  {
   "cell_type": "code",
   "execution_count": 8,
   "id": "32e9647e",
   "metadata": {
    "ExecuteTime": {
     "end_time": "2022-10-13T23:40:33.966502Z",
     "start_time": "2022-10-13T23:40:33.675707Z"
    }
   },
   "outputs": [
    {
     "data": {
      "text/plain": [
       "array([1, 1, 1, ..., 1, 1, 0])"
      ]
     },
     "execution_count": 8,
     "metadata": {},
     "output_type": "execute_result"
    }
   ],
   "source": [
    "model.predict(X_test)"
   ]
  }
 ],
 "metadata": {
  "kernelspec": {
   "display_name": "Python 3 (ipykernel)",
   "language": "python",
   "name": "python3"
  },
  "language_info": {
   "codemirror_mode": {
    "name": "ipython",
    "version": 3
   },
   "file_extension": ".py",
   "mimetype": "text/x-python",
   "name": "python",
   "nbconvert_exporter": "python",
   "pygments_lexer": "ipython3",
   "version": "3.8.10"
  },
  "varInspector": {
   "cols": {
    "lenName": 16,
    "lenType": 16,
    "lenVar": 40
   },
   "kernels_config": {
    "python": {
     "delete_cmd_postfix": "",
     "delete_cmd_prefix": "del ",
     "library": "var_list.py",
     "varRefreshCmd": "print(var_dic_list())"
    },
    "r": {
     "delete_cmd_postfix": ") ",
     "delete_cmd_prefix": "rm(",
     "library": "var_list.r",
     "varRefreshCmd": "cat(var_dic_list()) "
    }
   },
   "types_to_exclude": [
    "module",
    "function",
    "builtin_function_or_method",
    "instance",
    "_Feature"
   ],
   "window_display": false
  }
 },
 "nbformat": 4,
 "nbformat_minor": 5
}
