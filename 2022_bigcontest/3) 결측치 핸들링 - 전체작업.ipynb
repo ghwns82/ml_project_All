{
 "cells": [
  {
   "cell_type": "code",
   "execution_count": 1,
   "id": "f0505225",
   "metadata": {
    "ExecuteTime": {
     "end_time": "2022-10-13T07:51:15.182361Z",
     "start_time": "2022-10-13T07:51:13.952154Z"
    }
   },
   "outputs": [],
   "source": [
    "import pandas as pd\n",
    "import numpy as np\n",
    "import os\n",
    "import random\n",
    "from copy import deepcopy\n",
    "import math\n",
    "from itertools import product\n",
    "import pickle\n",
    "import joblib\n",
    "from tqdm import tqdm\n",
    "\n",
    "import matplotlib.pyplot as plt\n",
    "import seaborn as sb\n",
    "\n",
    "from sklearn.ensemble import RandomForestClassifier\n",
    "from sklearn.model_selection import train_test_split\n",
    "from sklearn.metrics import f1_score, confusion_matrix, ConfusionMatrixDisplay"
   ]
  },
  {
   "cell_type": "markdown",
   "id": "a89e025a",
   "metadata": {},
   "source": [
    "# 전후 값 기반 null 대체"
   ]
  },
  {
   "cell_type": "markdown",
   "id": "b822bbe4",
   "metadata": {},
   "source": [
    "## 준비"
   ]
  },
  {
   "cell_type": "code",
   "execution_count": 6,
   "id": "192f7596",
   "metadata": {
    "ExecuteTime": {
     "end_time": "2022-10-13T07:24:37.364504Z",
     "start_time": "2022-10-13T07:24:00.012726Z"
    }
   },
   "outputs": [],
   "source": [
    "merged_df = pd.read_csv('./customData/merged_user_loan.csv', index_col=0)"
   ]
  },
  {
   "cell_type": "code",
   "execution_count": 3,
   "id": "5652bf85",
   "metadata": {
    "ExecuteTime": {
     "end_time": "2022-10-12T12:37:29.246677Z",
     "start_time": "2022-10-12T12:37:29.237710Z"
    }
   },
   "outputs": [
    {
     "data": {
      "text/plain": [
       "Index(['application_id', 'user_id', 'birth_year', 'gender', 'insert_time',\n",
       "       'credit_score', 'yearly_income', 'income_type', 'company_enter_month',\n",
       "       'employment_type', 'houseown_type', 'desired_amount', 'purpose',\n",
       "       'personal_rehabilitation_yn', 'personal_rehabilitation_complete_yn',\n",
       "       'existing_loan_cnt', 'existing_loan_amt', 'loanapply_insert_time',\n",
       "       'bank_id', 'product_id', 'loan_limit', 'loan_rate', 'is_applied'],\n",
       "      dtype='object')"
      ]
     },
     "execution_count": 3,
     "metadata": {},
     "output_type": "execute_result"
    }
   ],
   "source": [
    "merged_df.columns"
   ]
  },
  {
   "cell_type": "markdown",
   "id": "de48f4dd",
   "metadata": {},
   "source": [
    "초기 null 상태"
   ]
  },
  {
   "cell_type": "code",
   "execution_count": 11,
   "id": "b3e26fae",
   "metadata": {
    "ExecuteTime": {
     "end_time": "2022-10-12T16:01:51.762176Z",
     "start_time": "2022-10-12T16:01:46.917917Z"
    }
   },
   "outputs": [
    {
     "data": {
      "text/plain": [
       "birth_year                               128096\n",
       "gender                                   128096\n",
       "credit_score                            1509276\n",
       "yearly_income                                 6\n",
       "company_enter_month                      400337\n",
       "personal_rehabilitation_yn              5888701\n",
       "personal_rehabilitation_complete_yn    11793977\n",
       "existing_loan_cnt                       2685709\n",
       "existing_loan_amt                       3890163\n",
       "loan_limit                                 7382\n",
       "loan_rate                                  7382\n",
       "is_applied                              3257239\n",
       "dtype: int64"
      ]
     },
     "execution_count": 11,
     "metadata": {},
     "output_type": "execute_result"
    }
   ],
   "source": [
    "(merged_df.isnull().sum())[merged_df.isnull().sum()!=0]"
   ]
  },
  {
   "cell_type": "code",
   "execution_count": 4,
   "id": "5af09874",
   "metadata": {
    "ExecuteTime": {
     "end_time": "2022-10-12T12:37:55.996091Z",
     "start_time": "2022-10-12T12:37:45.929043Z"
    }
   },
   "outputs": [],
   "source": [
    "merged_df=merged_df.sort_values(by=['user_id', 'loanapply_insert_time'])"
   ]
  },
  {
   "cell_type": "code",
   "execution_count": 5,
   "id": "6701bbb4",
   "metadata": {
    "ExecuteTime": {
     "end_time": "2022-10-12T12:38:16.879555Z",
     "start_time": "2022-10-12T12:38:15.894963Z"
    }
   },
   "outputs": [],
   "source": [
    "user_id_list = list(merged_df['user_id'])"
   ]
  },
  {
   "cell_type": "code",
   "execution_count": 6,
   "id": "986c35a5",
   "metadata": {
    "ExecuteTime": {
     "end_time": "2022-10-12T15:59:51.704333Z",
     "start_time": "2022-10-12T12:38:39.802198Z"
    }
   },
   "outputs": [
    {
     "name": "stderr",
     "output_type": "stream",
     "text": [
      "100%|█████████████████████████████████████████████████████████████████████████| 317467/317467 [3:21:11<00:00, 26.30it/s]\n"
     ]
    }
   ],
   "source": [
    "idx_uid_list=[]\n",
    "for uid in tqdm(set(user_id_list)):\n",
    "    idx_uid_list.append((user_id_list.index(uid),uid))"
   ]
  },
  {
   "cell_type": "code",
   "execution_count": 7,
   "id": "392a2517",
   "metadata": {
    "ExecuteTime": {
     "end_time": "2022-10-12T16:00:15.175877Z",
     "start_time": "2022-10-12T16:00:15.166150Z"
    }
   },
   "outputs": [],
   "source": [
    "idx_uid_list.sort()"
   ]
  },
  {
   "cell_type": "code",
   "execution_count": 8,
   "id": "ec88fcd7",
   "metadata": {
    "ExecuteTime": {
     "end_time": "2022-10-12T16:00:38.499690Z",
     "start_time": "2022-10-12T16:00:38.497066Z"
    }
   },
   "outputs": [],
   "source": [
    "# idx_uid_list"
   ]
  },
  {
   "cell_type": "code",
   "execution_count": 9,
   "id": "debfec9a",
   "metadata": {
    "ExecuteTime": {
     "end_time": "2022-10-12T16:01:01.855265Z",
     "start_time": "2022-10-12T16:01:01.840819Z"
    }
   },
   "outputs": [],
   "source": [
    "merged_df.reset_index(inplace=True)"
   ]
  },
  {
   "cell_type": "markdown",
   "id": "99f84cc3",
   "metadata": {},
   "source": [
    "실습"
   ]
  },
  {
   "cell_type": "code",
   "execution_count": 28,
   "id": "c8e09c9d",
   "metadata": {
    "ExecuteTime": {
     "end_time": "2022-10-12T08:06:50.653941Z",
     "start_time": "2022-10-12T08:06:50.651053Z"
    }
   },
   "outputs": [],
   "source": [
    "a=pd.DataFrame([\n",
    "    list(range(1,10)),\n",
    "    list(range(8,17)),\n",
    "    [0]*9,\n",
    "    list(range(31, 13, -2))\n",
    "])"
   ]
  },
  {
   "cell_type": "code",
   "execution_count": 37,
   "id": "f8cb64fd",
   "metadata": {
    "ExecuteTime": {
     "end_time": "2022-10-12T09:07:14.189549Z",
     "start_time": "2022-10-12T09:07:14.186410Z"
    }
   },
   "outputs": [],
   "source": [
    "a.iloc[:,0]=np.NaN"
   ]
  },
  {
   "cell_type": "code",
   "execution_count": 35,
   "id": "f08f02f6",
   "metadata": {
    "ExecuteTime": {
     "end_time": "2022-10-12T09:04:55.842677Z",
     "start_time": "2022-10-12T09:04:55.828283Z"
    }
   },
   "outputs": [],
   "source": [
    "a.iloc[0,0] = 1\n",
    "a.iloc[0,3] = 2"
   ]
  },
  {
   "cell_type": "code",
   "execution_count": 46,
   "id": "bec1027d",
   "metadata": {
    "ExecuteTime": {
     "end_time": "2022-10-12T09:22:38.223430Z",
     "start_time": "2022-10-12T09:22:38.212924Z"
    }
   },
   "outputs": [
    {
     "data": {
      "text/html": [
       "<div>\n",
       "<style scoped>\n",
       "    .dataframe tbody tr th:only-of-type {\n",
       "        vertical-align: middle;\n",
       "    }\n",
       "\n",
       "    .dataframe tbody tr th {\n",
       "        vertical-align: top;\n",
       "    }\n",
       "\n",
       "    .dataframe thead th {\n",
       "        text-align: right;\n",
       "    }\n",
       "</style>\n",
       "<table border=\"1\" class=\"dataframe\">\n",
       "  <thead>\n",
       "    <tr style=\"text-align: right;\">\n",
       "      <th></th>\n",
       "      <th>0</th>\n",
       "      <th>1</th>\n",
       "      <th>2</th>\n",
       "      <th>3</th>\n",
       "      <th>4</th>\n",
       "      <th>5</th>\n",
       "      <th>6</th>\n",
       "      <th>7</th>\n",
       "      <th>8</th>\n",
       "    </tr>\n",
       "  </thead>\n",
       "  <tbody>\n",
       "    <tr>\n",
       "      <th>0</th>\n",
       "      <td>NaN</td>\n",
       "      <td>9.0</td>\n",
       "      <td>10.0</td>\n",
       "      <td>2.0</td>\n",
       "      <td>12.0</td>\n",
       "      <td>13.0</td>\n",
       "      <td>14.0</td>\n",
       "      <td>15.0</td>\n",
       "      <td>16.0</td>\n",
       "    </tr>\n",
       "    <tr>\n",
       "      <th>1</th>\n",
       "      <td>NaN</td>\n",
       "      <td>9.0</td>\n",
       "      <td>10.0</td>\n",
       "      <td>11.0</td>\n",
       "      <td>12.0</td>\n",
       "      <td>13.0</td>\n",
       "      <td>14.0</td>\n",
       "      <td>15.0</td>\n",
       "      <td>16.0</td>\n",
       "    </tr>\n",
       "    <tr>\n",
       "      <th>2</th>\n",
       "      <td>NaN</td>\n",
       "      <td>0.0</td>\n",
       "      <td>0.0</td>\n",
       "      <td>0.0</td>\n",
       "      <td>0.0</td>\n",
       "      <td>0.0</td>\n",
       "      <td>0.0</td>\n",
       "      <td>0.0</td>\n",
       "      <td>0.0</td>\n",
       "    </tr>\n",
       "    <tr>\n",
       "      <th>3</th>\n",
       "      <td>NaN</td>\n",
       "      <td>29.0</td>\n",
       "      <td>27.0</td>\n",
       "      <td>25.0</td>\n",
       "      <td>23.0</td>\n",
       "      <td>21.0</td>\n",
       "      <td>19.0</td>\n",
       "      <td>17.0</td>\n",
       "      <td>15.0</td>\n",
       "    </tr>\n",
       "  </tbody>\n",
       "</table>\n",
       "</div>"
      ],
      "text/plain": [
       "    0     1     2     3     4     5     6     7     8\n",
       "0 NaN   9.0  10.0   2.0  12.0  13.0  14.0  15.0  16.0\n",
       "1 NaN   9.0  10.0  11.0  12.0  13.0  14.0  15.0  16.0\n",
       "2 NaN   0.0   0.0   0.0   0.0   0.0   0.0   0.0   0.0\n",
       "3 NaN  29.0  27.0  25.0  23.0  21.0  19.0  17.0  15.0"
      ]
     },
     "execution_count": 46,
     "metadata": {},
     "output_type": "execute_result"
    }
   ],
   "source": [
    "a.fillna(method='bfill')"
   ]
  },
  {
   "cell_type": "code",
   "execution_count": 42,
   "id": "e95cc2e9",
   "metadata": {
    "ExecuteTime": {
     "end_time": "2022-10-12T09:10:10.241699Z",
     "start_time": "2022-10-12T09:10:10.223279Z"
    }
   },
   "outputs": [
    {
     "data": {
      "text/plain": [
       "0    4\n",
       "1    1\n",
       "2    1\n",
       "3    0\n",
       "4    1\n",
       "5    1\n",
       "6    1\n",
       "7    1\n",
       "8    1\n",
       "dtype: int64"
      ]
     },
     "execution_count": 42,
     "metadata": {},
     "output_type": "execute_result"
    }
   ],
   "source": [
    "a.fillna(method='ffill').isnull().sum()"
   ]
  },
  {
   "cell_type": "markdown",
   "id": "040fc510",
   "metadata": {},
   "source": [
    "## 앞뒤값으로 null 채우기"
   ]
  },
  {
   "cell_type": "code",
   "execution_count": 10,
   "id": "e909c9c1",
   "metadata": {
    "ExecuteTime": {
     "end_time": "2022-10-12T16:01:24.359513Z",
     "start_time": "2022-10-12T16:01:24.355668Z"
    }
   },
   "outputs": [
    {
     "data": {
      "text/plain": [
       "317467"
      ]
     },
     "execution_count": 10,
     "metadata": {},
     "output_type": "execute_result"
    }
   ],
   "source": [
    "len(idx_uid_list) # 61148"
   ]
  },
  {
   "cell_type": "code",
   "execution_count": 12,
   "id": "08e997c6",
   "metadata": {
    "ExecuteTime": {
     "end_time": "2022-10-13T05:16:41.759506Z",
     "start_time": "2022-10-12T16:02:14.250543Z"
    },
    "scrolled": true
   },
   "outputs": [
    {
     "name": "stderr",
     "output_type": "stream",
     "text": [
      "163665it [13:14:27,  3.43it/s]\n"
     ]
    },
    {
     "ename": "KeyboardInterrupt",
     "evalue": "",
     "output_type": "error",
     "traceback": [
      "\u001b[0;31m---------------------------------------------------------------------------\u001b[0m",
      "\u001b[0;31mKeyboardInterrupt\u001b[0m                         Traceback (most recent call last)",
      "\u001b[0;32m/tmp/ipykernel_390/228634478.py\u001b[0m in \u001b[0;36m<module>\u001b[0;34m\u001b[0m\n\u001b[1;32m      2\u001b[0m \u001b[0;32mfor\u001b[0m \u001b[0mi\u001b[0m\u001b[0;34m,\u001b[0m \u001b[0mv\u001b[0m \u001b[0;32min\u001b[0m \u001b[0mtqdm\u001b[0m\u001b[0;34m(\u001b[0m\u001b[0menumerate\u001b[0m\u001b[0;34m(\u001b[0m\u001b[0midx_uid_list\u001b[0m\u001b[0;34m[\u001b[0m\u001b[0;34m:\u001b[0m\u001b[0;34m-\u001b[0m\u001b[0;36m1\u001b[0m\u001b[0;34m]\u001b[0m\u001b[0;34m)\u001b[0m\u001b[0;34m)\u001b[0m\u001b[0;34m:\u001b[0m\u001b[0;34m\u001b[0m\u001b[0;34m\u001b[0m\u001b[0m\n\u001b[1;32m      3\u001b[0m     \u001b[0midx\u001b[0m\u001b[0;34m=\u001b[0m\u001b[0mv\u001b[0m\u001b[0;34m[\u001b[0m\u001b[0;36m0\u001b[0m\u001b[0;34m]\u001b[0m\u001b[0;34m\u001b[0m\u001b[0;34m\u001b[0m\u001b[0m\n\u001b[0;32m----> 4\u001b[0;31m     \u001b[0mresult\u001b[0m\u001b[0;34m=\u001b[0m \u001b[0mpd\u001b[0m\u001b[0;34m.\u001b[0m\u001b[0mconcat\u001b[0m\u001b[0;34m(\u001b[0m\u001b[0;34m[\u001b[0m\u001b[0mresult\u001b[0m\u001b[0;34m,\u001b[0m \u001b[0mmerged_df\u001b[0m\u001b[0;34m.\u001b[0m\u001b[0miloc\u001b[0m\u001b[0;34m[\u001b[0m\u001b[0midx\u001b[0m\u001b[0;34m:\u001b[0m\u001b[0midx_uid_list\u001b[0m\u001b[0;34m[\u001b[0m\u001b[0mi\u001b[0m\u001b[0;34m+\u001b[0m\u001b[0;36m1\u001b[0m\u001b[0;34m]\u001b[0m\u001b[0;34m[\u001b[0m\u001b[0;36m0\u001b[0m\u001b[0;34m]\u001b[0m\u001b[0;34m]\u001b[0m\u001b[0;34m.\u001b[0m\u001b[0mfillna\u001b[0m\u001b[0;34m(\u001b[0m\u001b[0mmethod\u001b[0m\u001b[0;34m=\u001b[0m\u001b[0;34m'ffill'\u001b[0m\u001b[0;34m)\u001b[0m\u001b[0;34m.\u001b[0m\u001b[0mfillna\u001b[0m\u001b[0;34m(\u001b[0m\u001b[0mmethod\u001b[0m\u001b[0;34m=\u001b[0m\u001b[0;34m'bfill'\u001b[0m\u001b[0;34m)\u001b[0m\u001b[0;34m]\u001b[0m\u001b[0;34m)\u001b[0m\u001b[0;34m\u001b[0m\u001b[0;34m\u001b[0m\u001b[0m\n\u001b[0m",
      "\u001b[0;32m~/.local/lib/python3.8/site-packages/pandas/util/_decorators.py\u001b[0m in \u001b[0;36mwrapper\u001b[0;34m(*args, **kwargs)\u001b[0m\n\u001b[1;32m    309\u001b[0m                     \u001b[0mstacklevel\u001b[0m\u001b[0;34m=\u001b[0m\u001b[0mstacklevel\u001b[0m\u001b[0;34m,\u001b[0m\u001b[0;34m\u001b[0m\u001b[0;34m\u001b[0m\u001b[0m\n\u001b[1;32m    310\u001b[0m                 )\n\u001b[0;32m--> 311\u001b[0;31m             \u001b[0;32mreturn\u001b[0m \u001b[0mfunc\u001b[0m\u001b[0;34m(\u001b[0m\u001b[0;34m*\u001b[0m\u001b[0margs\u001b[0m\u001b[0;34m,\u001b[0m \u001b[0;34m**\u001b[0m\u001b[0mkwargs\u001b[0m\u001b[0;34m)\u001b[0m\u001b[0;34m\u001b[0m\u001b[0;34m\u001b[0m\u001b[0m\n\u001b[0m\u001b[1;32m    312\u001b[0m \u001b[0;34m\u001b[0m\u001b[0m\n\u001b[1;32m    313\u001b[0m         \u001b[0;32mreturn\u001b[0m \u001b[0mwrapper\u001b[0m\u001b[0;34m\u001b[0m\u001b[0;34m\u001b[0m\u001b[0m\n",
      "\u001b[0;32m~/.local/lib/python3.8/site-packages/pandas/core/reshape/concat.py\u001b[0m in \u001b[0;36mconcat\u001b[0;34m(objs, axis, join, ignore_index, keys, levels, names, verify_integrity, sort, copy)\u001b[0m\n\u001b[1;32m    305\u001b[0m     )\n\u001b[1;32m    306\u001b[0m \u001b[0;34m\u001b[0m\u001b[0m\n\u001b[0;32m--> 307\u001b[0;31m     \u001b[0;32mreturn\u001b[0m \u001b[0mop\u001b[0m\u001b[0;34m.\u001b[0m\u001b[0mget_result\u001b[0m\u001b[0;34m(\u001b[0m\u001b[0;34m)\u001b[0m\u001b[0;34m\u001b[0m\u001b[0;34m\u001b[0m\u001b[0m\n\u001b[0m\u001b[1;32m    308\u001b[0m \u001b[0;34m\u001b[0m\u001b[0m\n\u001b[1;32m    309\u001b[0m \u001b[0;34m\u001b[0m\u001b[0m\n",
      "\u001b[0;32m~/.local/lib/python3.8/site-packages/pandas/core/reshape/concat.py\u001b[0m in \u001b[0;36mget_result\u001b[0;34m(self)\u001b[0m\n\u001b[1;32m    530\u001b[0m                 \u001b[0mmgrs_indexers\u001b[0m\u001b[0;34m.\u001b[0m\u001b[0mappend\u001b[0m\u001b[0;34m(\u001b[0m\u001b[0;34m(\u001b[0m\u001b[0mobj\u001b[0m\u001b[0;34m.\u001b[0m\u001b[0m_mgr\u001b[0m\u001b[0;34m,\u001b[0m \u001b[0mindexers\u001b[0m\u001b[0;34m)\u001b[0m\u001b[0;34m)\u001b[0m\u001b[0;34m\u001b[0m\u001b[0;34m\u001b[0m\u001b[0m\n\u001b[1;32m    531\u001b[0m \u001b[0;34m\u001b[0m\u001b[0m\n\u001b[0;32m--> 532\u001b[0;31m             new_data = concatenate_managers(\n\u001b[0m\u001b[1;32m    533\u001b[0m                 \u001b[0mmgrs_indexers\u001b[0m\u001b[0;34m,\u001b[0m \u001b[0mself\u001b[0m\u001b[0;34m.\u001b[0m\u001b[0mnew_axes\u001b[0m\u001b[0;34m,\u001b[0m \u001b[0mconcat_axis\u001b[0m\u001b[0;34m=\u001b[0m\u001b[0mself\u001b[0m\u001b[0;34m.\u001b[0m\u001b[0mbm_axis\u001b[0m\u001b[0;34m,\u001b[0m \u001b[0mcopy\u001b[0m\u001b[0;34m=\u001b[0m\u001b[0mself\u001b[0m\u001b[0;34m.\u001b[0m\u001b[0mcopy\u001b[0m\u001b[0;34m\u001b[0m\u001b[0;34m\u001b[0m\u001b[0m\n\u001b[1;32m    534\u001b[0m             )\n",
      "\u001b[0;32m~/.local/lib/python3.8/site-packages/pandas/core/internals/concat.py\u001b[0m in \u001b[0;36mconcatenate_managers\u001b[0;34m(mgrs_indexers, axes, concat_axis, copy)\u001b[0m\n\u001b[1;32m    224\u001b[0m             \u001b[0mfastpath\u001b[0m \u001b[0;34m=\u001b[0m \u001b[0mblk\u001b[0m\u001b[0;34m.\u001b[0m\u001b[0mvalues\u001b[0m\u001b[0;34m.\u001b[0m\u001b[0mdtype\u001b[0m \u001b[0;34m==\u001b[0m \u001b[0mvalues\u001b[0m\u001b[0;34m.\u001b[0m\u001b[0mdtype\u001b[0m\u001b[0;34m\u001b[0m\u001b[0;34m\u001b[0m\u001b[0m\n\u001b[1;32m    225\u001b[0m         \u001b[0;32melse\u001b[0m\u001b[0;34m:\u001b[0m\u001b[0;34m\u001b[0m\u001b[0;34m\u001b[0m\u001b[0m\n\u001b[0;32m--> 226\u001b[0;31m             \u001b[0mvalues\u001b[0m \u001b[0;34m=\u001b[0m \u001b[0m_concatenate_join_units\u001b[0m\u001b[0;34m(\u001b[0m\u001b[0mjoin_units\u001b[0m\u001b[0;34m,\u001b[0m \u001b[0mconcat_axis\u001b[0m\u001b[0;34m,\u001b[0m \u001b[0mcopy\u001b[0m\u001b[0;34m=\u001b[0m\u001b[0mcopy\u001b[0m\u001b[0;34m)\u001b[0m\u001b[0;34m\u001b[0m\u001b[0;34m\u001b[0m\u001b[0m\n\u001b[0m\u001b[1;32m    227\u001b[0m             \u001b[0mfastpath\u001b[0m \u001b[0;34m=\u001b[0m \u001b[0;32mFalse\u001b[0m\u001b[0;34m\u001b[0m\u001b[0;34m\u001b[0m\u001b[0m\n\u001b[1;32m    228\u001b[0m \u001b[0;34m\u001b[0m\u001b[0m\n",
      "\u001b[0;32m~/.local/lib/python3.8/site-packages/pandas/core/internals/concat.py\u001b[0m in \u001b[0;36m_concatenate_join_units\u001b[0;34m(join_units, concat_axis, copy)\u001b[0m\n\u001b[1;32m    521\u001b[0m \u001b[0;34m\u001b[0m\u001b[0m\n\u001b[1;32m    522\u001b[0m     \u001b[0;32melse\u001b[0m\u001b[0;34m:\u001b[0m\u001b[0;34m\u001b[0m\u001b[0;34m\u001b[0m\u001b[0m\n\u001b[0;32m--> 523\u001b[0;31m         \u001b[0mconcat_values\u001b[0m \u001b[0;34m=\u001b[0m \u001b[0mconcat_compat\u001b[0m\u001b[0;34m(\u001b[0m\u001b[0mto_concat\u001b[0m\u001b[0;34m,\u001b[0m \u001b[0maxis\u001b[0m\u001b[0;34m=\u001b[0m\u001b[0mconcat_axis\u001b[0m\u001b[0;34m)\u001b[0m\u001b[0;34m\u001b[0m\u001b[0;34m\u001b[0m\u001b[0m\n\u001b[0m\u001b[1;32m    524\u001b[0m \u001b[0;34m\u001b[0m\u001b[0m\n\u001b[1;32m    525\u001b[0m     \u001b[0;32mreturn\u001b[0m \u001b[0mconcat_values\u001b[0m\u001b[0;34m\u001b[0m\u001b[0;34m\u001b[0m\u001b[0m\n",
      "\u001b[0;32m~/.local/lib/python3.8/site-packages/pandas/core/dtypes/concat.py\u001b[0m in \u001b[0;36mconcat_compat\u001b[0;34m(to_concat, axis, ea_compat_axis)\u001b[0m\n\u001b[1;32m    149\u001b[0m                 \u001b[0mto_concat\u001b[0m \u001b[0;34m=\u001b[0m \u001b[0;34m[\u001b[0m\u001b[0mx\u001b[0m\u001b[0;34m.\u001b[0m\u001b[0mastype\u001b[0m\u001b[0;34m(\u001b[0m\u001b[0;34m\"object\"\u001b[0m\u001b[0;34m)\u001b[0m \u001b[0;32mfor\u001b[0m \u001b[0mx\u001b[0m \u001b[0;32min\u001b[0m \u001b[0mto_concat\u001b[0m\u001b[0;34m]\u001b[0m\u001b[0;34m\u001b[0m\u001b[0;34m\u001b[0m\u001b[0m\n\u001b[1;32m    150\u001b[0m \u001b[0;34m\u001b[0m\u001b[0m\n\u001b[0;32m--> 151\u001b[0;31m     \u001b[0;32mreturn\u001b[0m \u001b[0mnp\u001b[0m\u001b[0;34m.\u001b[0m\u001b[0mconcatenate\u001b[0m\u001b[0;34m(\u001b[0m\u001b[0mto_concat\u001b[0m\u001b[0;34m,\u001b[0m \u001b[0maxis\u001b[0m\u001b[0;34m=\u001b[0m\u001b[0maxis\u001b[0m\u001b[0;34m)\u001b[0m\u001b[0;34m\u001b[0m\u001b[0;34m\u001b[0m\u001b[0m\n\u001b[0m\u001b[1;32m    152\u001b[0m \u001b[0;34m\u001b[0m\u001b[0m\n\u001b[1;32m    153\u001b[0m \u001b[0;34m\u001b[0m\u001b[0m\n",
      "\u001b[0;32m~/.local/lib/python3.8/site-packages/numpy/core/overrides.py\u001b[0m in \u001b[0;36mconcatenate\u001b[0;34m(*args, **kwargs)\u001b[0m\n",
      "\u001b[0;31mKeyboardInterrupt\u001b[0m: "
     ]
    }
   ],
   "source": [
    "result = pd.DataFrame()\n",
    "for i, v in tqdm(enumerate(idx_uid_list[:-1])):\n",
    "    idx=v[0]\n",
    "    result= pd.concat([result, merged_df.iloc[idx:idx_uid_list[i+1][0]].fillna(method='ffill').fillna(method='bfill')])"
   ]
  },
  {
   "cell_type": "code",
   "execution_count": 13,
   "id": "6356c0b6",
   "metadata": {
    "ExecuteTime": {
     "end_time": "2022-10-13T05:17:55.550138Z",
     "start_time": "2022-10-13T05:17:07.693926Z"
    }
   },
   "outputs": [],
   "source": [
    "result.to_csv('./customData/imcompleted_merged_ver0_5.csv')"
   ]
  },
  {
   "cell_type": "code",
   "execution_count": 19,
   "id": "a045d046",
   "metadata": {
    "ExecuteTime": {
     "end_time": "2022-10-13T05:24:43.236833Z",
     "start_time": "2022-10-13T05:24:42.800164Z"
    }
   },
   "outputs": [],
   "source": [
    "pd.DataFrame(idx_uid_list).to_csv('./customData/idx.csv')"
   ]
  },
  {
   "cell_type": "code",
   "execution_count": 18,
   "id": "e7b8ddb0",
   "metadata": {
    "ExecuteTime": {
     "end_time": "2022-10-13T05:22:54.896046Z",
     "start_time": "2022-10-13T05:21:24.457486Z"
    }
   },
   "outputs": [],
   "source": [
    "merged_df.to_csv('./customData/work_target.csv')"
   ]
  },
  {
   "cell_type": "code",
   "execution_count": null,
   "id": "3cc215b1",
   "metadata": {},
   "outputs": [],
   "source": []
  },
  {
   "cell_type": "markdown",
   "id": "780344e3",
   "metadata": {},
   "source": [
    "## 분할 작업 합치기"
   ]
  },
  {
   "cell_type": "code",
   "execution_count": 3,
   "id": "ae3aea89",
   "metadata": {
    "ExecuteTime": {
     "end_time": "2022-10-13T07:22:22.604583Z",
     "start_time": "2022-10-13T07:21:46.587947Z"
    }
   },
   "outputs": [],
   "source": [
    "final=pd.concat([pd.read_csv('./customData/imcompleted_merged_ver0_5.csv'), pd.read_csv('./customData/result1.csv'), \n",
    "                 pd.read_csv('./customData/result2.csv'), pd.read_csv('./customData/result3.csv'), \n",
    "                 pd.read_csv('./customData/result4.csv')])"
   ]
  },
  {
   "cell_type": "code",
   "execution_count": 4,
   "id": "486da5a5",
   "metadata": {
    "ExecuteTime": {
     "end_time": "2022-10-13T07:22:35.501371Z",
     "start_time": "2022-10-13T07:22:30.892488Z"
    }
   },
   "outputs": [
    {
     "data": {
      "text/plain": [
       "birth_year                               108227\n",
       "gender                                   108227\n",
       "credit_score                            1311773\n",
       "company_enter_month                      306537\n",
       "personal_rehabilitation_yn              2934375\n",
       "personal_rehabilitation_complete_yn    11162940\n",
       "existing_loan_cnt                       2685709\n",
       "existing_loan_amt                       3890163\n",
       "loan_limit                                   10\n",
       "loan_rate                                    10\n",
       "is_applied                              1454013\n",
       "dtype: int64"
      ]
     },
     "execution_count": 4,
     "metadata": {},
     "output_type": "execute_result"
    }
   ],
   "source": [
    "(final.isnull().sum())[final.isnull().sum()!=0]"
   ]
  },
  {
   "cell_type": "code",
   "execution_count": 7,
   "id": "56d1db56",
   "metadata": {
    "ExecuteTime": {
     "end_time": "2022-10-13T07:24:54.728903Z",
     "start_time": "2022-10-13T07:24:53.612291Z"
    }
   },
   "outputs": [],
   "source": [
    "final['is_applied']=merged_df['is_applied']"
   ]
  },
  {
   "cell_type": "code",
   "execution_count": 14,
   "id": "1f35ee5c",
   "metadata": {
    "ExecuteTime": {
     "end_time": "2022-10-13T07:31:33.084818Z",
     "start_time": "2022-10-13T07:31:30.378536Z"
    }
   },
   "outputs": [],
   "source": [
    "final.drop(['Unnamed: 0'], axis=1,inplace=True)"
   ]
  },
  {
   "cell_type": "code",
   "execution_count": 8,
   "id": "d8952e4f",
   "metadata": {
    "ExecuteTime": {
     "end_time": "2022-10-13T07:26:48.161047Z",
     "start_time": "2022-10-13T07:25:10.612301Z"
    }
   },
   "outputs": [],
   "source": [
    "final.to_csv('./customData/merged_ver0_5.csv')"
   ]
  },
  {
   "cell_type": "code",
   "execution_count": 15,
   "id": "399671ca",
   "metadata": {
    "ExecuteTime": {
     "end_time": "2022-10-13T07:31:49.223510Z",
     "start_time": "2022-10-13T07:31:49.202446Z"
    }
   },
   "outputs": [],
   "source": [
    "final['index'] = final.index"
   ]
  },
  {
   "cell_type": "code",
   "execution_count": 16,
   "id": "ee33f40b",
   "metadata": {
    "ExecuteTime": {
     "end_time": "2022-10-13T07:33:39.084442Z",
     "start_time": "2022-10-13T07:32:05.328791Z"
    }
   },
   "outputs": [],
   "source": [
    "final.to_csv('./customData/merged_ver1_0.csv')"
   ]
  },
  {
   "cell_type": "markdown",
   "id": "fcde5ad0",
   "metadata": {},
   "source": [
    "# 의미를 부여하여 결측치 처리하기"
   ]
  },
  {
   "cell_type": "markdown",
   "id": "296055cb",
   "metadata": {},
   "source": [
    "## 데이터 확인"
   ]
  },
  {
   "cell_type": "code",
   "execution_count": 9,
   "id": "dd36a433",
   "metadata": {
    "ExecuteTime": {
     "end_time": "2022-10-13T07:27:08.383331Z",
     "start_time": "2022-10-13T07:27:03.826655Z"
    }
   },
   "outputs": [
    {
     "data": {
      "text/plain": [
       "birth_year                               108227\n",
       "gender                                   108227\n",
       "credit_score                            1311773\n",
       "company_enter_month                      306537\n",
       "personal_rehabilitation_yn              2934375\n",
       "personal_rehabilitation_complete_yn    11162940\n",
       "existing_loan_cnt                       2685709\n",
       "existing_loan_amt                       3890163\n",
       "loan_limit                                   10\n",
       "loan_rate                                    10\n",
       "is_applied                              3322044\n",
       "dtype: int64"
      ]
     },
     "execution_count": 9,
     "metadata": {},
     "output_type": "execute_result"
    }
   ],
   "source": [
    "(final.isnull().sum())[final.isnull().sum()!=0]"
   ]
  },
  {
   "cell_type": "code",
   "execution_count": 10,
   "id": "98923751",
   "metadata": {
    "ExecuteTime": {
     "end_time": "2022-10-13T07:27:37.862597Z",
     "start_time": "2022-10-13T07:27:30.905268Z"
    }
   },
   "outputs": [
    {
     "data": {
      "text/plain": [
       "birth_year                               25987\n",
       "gender                                   25987\n",
       "credit_score                            321957\n",
       "company_enter_month                      77123\n",
       "personal_rehabilitation_yn              718426\n",
       "personal_rehabilitation_complete_yn    2719745\n",
       "existing_loan_cnt                       661561\n",
       "existing_loan_amt                       956118\n",
       "loan_limit                                   1\n",
       "loan_rate                                    1\n",
       "is_applied                             3322044\n",
       "dtype: int64"
      ]
     },
     "execution_count": 10,
     "metadata": {},
     "output_type": "execute_result"
    }
   ],
   "source": [
    "(final[final['is_applied'].isnull()==True].isnull().sum())[final[final['is_applied'].isnull()==True].isnull().sum()!=0]"
   ]
  },
  {
   "cell_type": "code",
   "execution_count": 11,
   "id": "3c7d19c4",
   "metadata": {
    "ExecuteTime": {
     "end_time": "2022-10-13T07:28:57.182027Z",
     "start_time": "2022-10-13T07:28:51.251747Z"
    }
   },
   "outputs": [],
   "source": [
    "loan_df=pd.read_csv('./data/loan_result.csv')"
   ]
  },
  {
   "cell_type": "code",
   "execution_count": 12,
   "id": "a63f75c2",
   "metadata": {
    "ExecuteTime": {
     "end_time": "2022-10-13T07:29:13.572711Z",
     "start_time": "2022-10-13T07:29:13.193303Z"
    }
   },
   "outputs": [
    {
     "data": {
      "text/plain": [
       "loan_limit       1757\n",
       "loan_rate        1757\n",
       "is_applied    3257239\n",
       "dtype: int64"
      ]
     },
     "execution_count": 12,
     "metadata": {},
     "output_type": "execute_result"
    }
   ],
   "source": [
    "(loan_df[loan_df['is_applied'].isnull()==True].isnull().sum())[loan_df[loan_df['is_applied'].isnull()==True].isnull().sum()!=0]"
   ]
  },
  {
   "cell_type": "markdown",
   "id": "2584e4df",
   "metadata": {},
   "source": [
    "## existing_loan_cnt & existing_loan_amt"
   ]
  },
  {
   "cell_type": "code",
   "execution_count": 17,
   "id": "4a380ce5",
   "metadata": {
    "ExecuteTime": {
     "end_time": "2022-10-13T07:43:33.358800Z",
     "start_time": "2022-10-13T07:42:55.949368Z"
    }
   },
   "outputs": [],
   "source": [
    "merged_df =pd.read_csv('./customData/merged_ver1_0.csv', index_col=0)"
   ]
  },
  {
   "cell_type": "code",
   "execution_count": null,
   "id": "d70a7363",
   "metadata": {},
   "outputs": [],
   "source": [
    "merged_df.reset_index(inplace=True)"
   ]
  },
  {
   "cell_type": "code",
   "execution_count": 28,
   "id": "45ec9692",
   "metadata": {
    "ExecuteTime": {
     "end_time": "2022-10-13T07:49:22.390567Z",
     "start_time": "2022-10-13T07:49:18.860289Z"
    },
    "scrolled": true
   },
   "outputs": [],
   "source": [
    "merged_df.drop(['index','level_0'],axis=1, inplace=True)"
   ]
  },
  {
   "cell_type": "code",
   "execution_count": 2,
   "id": "501f4266",
   "metadata": {
    "ExecuteTime": {
     "end_time": "2022-10-13T07:51:35.963375Z",
     "start_time": "2022-10-13T07:51:35.955647Z"
    }
   },
   "outputs": [
    {
     "ename": "NameError",
     "evalue": "name 'merged_df' is not defined",
     "output_type": "error",
     "traceback": [
      "\u001b[0;31m---------------------------------------------------------------------------\u001b[0m",
      "\u001b[0;31mNameError\u001b[0m                                 Traceback (most recent call last)",
      "\u001b[0;32m/tmp/ipykernel_493/2920317814.py\u001b[0m in \u001b[0;36m<module>\u001b[0;34m\u001b[0m\n\u001b[0;32m----> 1\u001b[0;31m \u001b[0mmerged_df\u001b[0m\u001b[0;34m.\u001b[0m\u001b[0mto_csv\u001b[0m\u001b[0;34m(\u001b[0m\u001b[0;34m'./customData/merged_ver1_0.csv'\u001b[0m\u001b[0;34m)\u001b[0m\u001b[0;34m\u001b[0m\u001b[0;34m\u001b[0m\u001b[0m\n\u001b[0m",
      "\u001b[0;31mNameError\u001b[0m: name 'merged_df' is not defined"
     ]
    }
   ],
   "source": [
    "merged_df.to_csv('./customData/merged_ver1_0.csv')"
   ]
  },
  {
   "cell_type": "code",
   "execution_count": 3,
   "id": "5eee5472",
   "metadata": {
    "ExecuteTime": {
     "end_time": "2022-10-13T07:52:20.982575Z",
     "start_time": "2022-10-13T07:51:40.983889Z"
    }
   },
   "outputs": [],
   "source": [
    "merged_df =pd.read_csv('./customData/merged_ver1_0.csv', index_col=0)"
   ]
  },
  {
   "cell_type": "code",
   "execution_count": 4,
   "id": "189e99d0",
   "metadata": {
    "ExecuteTime": {
     "end_time": "2022-10-13T07:52:48.928131Z",
     "start_time": "2022-10-13T07:52:40.946759Z"
    }
   },
   "outputs": [
    {
     "data": {
      "text/html": [
       "<div>\n",
       "<style scoped>\n",
       "    .dataframe tbody tr th:only-of-type {\n",
       "        vertical-align: middle;\n",
       "    }\n",
       "\n",
       "    .dataframe tbody tr th {\n",
       "        vertical-align: top;\n",
       "    }\n",
       "\n",
       "    .dataframe thead th {\n",
       "        text-align: right;\n",
       "    }\n",
       "</style>\n",
       "<table border=\"1\" class=\"dataframe\">\n",
       "  <thead>\n",
       "    <tr style=\"text-align: right;\">\n",
       "      <th></th>\n",
       "      <th>application_id</th>\n",
       "      <th>user_id</th>\n",
       "      <th>birth_year</th>\n",
       "      <th>gender</th>\n",
       "      <th>insert_time</th>\n",
       "      <th>credit_score</th>\n",
       "      <th>yearly_income</th>\n",
       "      <th>income_type</th>\n",
       "      <th>company_enter_month</th>\n",
       "      <th>employment_type</th>\n",
       "      <th>...</th>\n",
       "      <th>personal_rehabilitation_yn</th>\n",
       "      <th>personal_rehabilitation_complete_yn</th>\n",
       "      <th>existing_loan_cnt</th>\n",
       "      <th>existing_loan_amt</th>\n",
       "      <th>loanapply_insert_time</th>\n",
       "      <th>bank_id</th>\n",
       "      <th>product_id</th>\n",
       "      <th>loan_limit</th>\n",
       "      <th>loan_rate</th>\n",
       "      <th>is_applied</th>\n",
       "    </tr>\n",
       "  </thead>\n",
       "  <tbody>\n",
       "    <tr>\n",
       "      <th>0</th>\n",
       "      <td>248576</td>\n",
       "      <td>9</td>\n",
       "      <td>1996.0</td>\n",
       "      <td>1.0</td>\n",
       "      <td>2022-05-21 23:41:09</td>\n",
       "      <td>810.0</td>\n",
       "      <td>29000000.0</td>\n",
       "      <td>EARNEDINCOME</td>\n",
       "      <td>202201.0</td>\n",
       "      <td>계약직</td>\n",
       "      <td>...</td>\n",
       "      <td>0.0</td>\n",
       "      <td>NaN</td>\n",
       "      <td>1.0</td>\n",
       "      <td>NaN</td>\n",
       "      <td>2022-05-21 23:41:09</td>\n",
       "      <td>38</td>\n",
       "      <td>134</td>\n",
       "      <td>16000000.0</td>\n",
       "      <td>7.5</td>\n",
       "      <td>NaN</td>\n",
       "    </tr>\n",
       "    <tr>\n",
       "      <th>1</th>\n",
       "      <td>248576</td>\n",
       "      <td>9</td>\n",
       "      <td>1996.0</td>\n",
       "      <td>1.0</td>\n",
       "      <td>2022-05-21 23:41:09</td>\n",
       "      <td>810.0</td>\n",
       "      <td>29000000.0</td>\n",
       "      <td>EARNEDINCOME</td>\n",
       "      <td>202201.0</td>\n",
       "      <td>계약직</td>\n",
       "      <td>...</td>\n",
       "      <td>0.0</td>\n",
       "      <td>NaN</td>\n",
       "      <td>1.0</td>\n",
       "      <td>NaN</td>\n",
       "      <td>2022-05-21 23:41:09</td>\n",
       "      <td>59</td>\n",
       "      <td>150</td>\n",
       "      <td>20000000.0</td>\n",
       "      <td>15.0</td>\n",
       "      <td>NaN</td>\n",
       "    </tr>\n",
       "    <tr>\n",
       "      <th>2</th>\n",
       "      <td>248576</td>\n",
       "      <td>9</td>\n",
       "      <td>1996.0</td>\n",
       "      <td>1.0</td>\n",
       "      <td>2022-05-21 23:41:09</td>\n",
       "      <td>810.0</td>\n",
       "      <td>29000000.0</td>\n",
       "      <td>EARNEDINCOME</td>\n",
       "      <td>202201.0</td>\n",
       "      <td>계약직</td>\n",
       "      <td>...</td>\n",
       "      <td>0.0</td>\n",
       "      <td>NaN</td>\n",
       "      <td>1.0</td>\n",
       "      <td>NaN</td>\n",
       "      <td>2022-05-21 23:41:09</td>\n",
       "      <td>59</td>\n",
       "      <td>251</td>\n",
       "      <td>16000000.0</td>\n",
       "      <td>6.5</td>\n",
       "      <td>NaN</td>\n",
       "    </tr>\n",
       "    <tr>\n",
       "      <th>3</th>\n",
       "      <td>248576</td>\n",
       "      <td>9</td>\n",
       "      <td>1996.0</td>\n",
       "      <td>1.0</td>\n",
       "      <td>2022-05-21 23:41:09</td>\n",
       "      <td>810.0</td>\n",
       "      <td>29000000.0</td>\n",
       "      <td>EARNEDINCOME</td>\n",
       "      <td>202201.0</td>\n",
       "      <td>계약직</td>\n",
       "      <td>...</td>\n",
       "      <td>0.0</td>\n",
       "      <td>NaN</td>\n",
       "      <td>1.0</td>\n",
       "      <td>NaN</td>\n",
       "      <td>2022-05-21 23:41:09</td>\n",
       "      <td>27</td>\n",
       "      <td>148</td>\n",
       "      <td>16000000.0</td>\n",
       "      <td>7.0</td>\n",
       "      <td>NaN</td>\n",
       "    </tr>\n",
       "    <tr>\n",
       "      <th>4</th>\n",
       "      <td>248576</td>\n",
       "      <td>9</td>\n",
       "      <td>1996.0</td>\n",
       "      <td>1.0</td>\n",
       "      <td>2022-05-21 23:41:09</td>\n",
       "      <td>810.0</td>\n",
       "      <td>29000000.0</td>\n",
       "      <td>EARNEDINCOME</td>\n",
       "      <td>202201.0</td>\n",
       "      <td>계약직</td>\n",
       "      <td>...</td>\n",
       "      <td>0.0</td>\n",
       "      <td>NaN</td>\n",
       "      <td>1.0</td>\n",
       "      <td>NaN</td>\n",
       "      <td>2022-05-21 23:41:10</td>\n",
       "      <td>35</td>\n",
       "      <td>168</td>\n",
       "      <td>28000000.0</td>\n",
       "      <td>16.8</td>\n",
       "      <td>NaN</td>\n",
       "    </tr>\n",
       "    <tr>\n",
       "      <th>...</th>\n",
       "      <td>...</td>\n",
       "      <td>...</td>\n",
       "      <td>...</td>\n",
       "      <td>...</td>\n",
       "      <td>...</td>\n",
       "      <td>...</td>\n",
       "      <td>...</td>\n",
       "      <td>...</td>\n",
       "      <td>...</td>\n",
       "      <td>...</td>\n",
       "      <td>...</td>\n",
       "      <td>...</td>\n",
       "      <td>...</td>\n",
       "      <td>...</td>\n",
       "      <td>...</td>\n",
       "      <td>...</td>\n",
       "      <td>...</td>\n",
       "      <td>...</td>\n",
       "      <td>...</td>\n",
       "      <td>...</td>\n",
       "      <td>...</td>\n",
       "    </tr>\n",
       "    <tr>\n",
       "      <th>13527245</th>\n",
       "      <td>1543548</td>\n",
       "      <td>879697</td>\n",
       "      <td>1962.0</td>\n",
       "      <td>1.0</td>\n",
       "      <td>2022-05-10 20:40:52</td>\n",
       "      <td>NaN</td>\n",
       "      <td>70000000.0</td>\n",
       "      <td>EARNEDINCOME</td>\n",
       "      <td>202204.0</td>\n",
       "      <td>계약직</td>\n",
       "      <td>...</td>\n",
       "      <td>0.0</td>\n",
       "      <td>NaN</td>\n",
       "      <td>NaN</td>\n",
       "      <td>NaN</td>\n",
       "      <td>2022-05-10 20:40:55</td>\n",
       "      <td>64</td>\n",
       "      <td>254</td>\n",
       "      <td>28000000.0</td>\n",
       "      <td>6.9</td>\n",
       "      <td>0.0</td>\n",
       "    </tr>\n",
       "    <tr>\n",
       "      <th>13527246</th>\n",
       "      <td>1543548</td>\n",
       "      <td>879697</td>\n",
       "      <td>1962.0</td>\n",
       "      <td>1.0</td>\n",
       "      <td>2022-05-10 20:40:52</td>\n",
       "      <td>NaN</td>\n",
       "      <td>70000000.0</td>\n",
       "      <td>EARNEDINCOME</td>\n",
       "      <td>202204.0</td>\n",
       "      <td>계약직</td>\n",
       "      <td>...</td>\n",
       "      <td>0.0</td>\n",
       "      <td>NaN</td>\n",
       "      <td>NaN</td>\n",
       "      <td>NaN</td>\n",
       "      <td>2022-05-10 20:40:55</td>\n",
       "      <td>12</td>\n",
       "      <td>35</td>\n",
       "      <td>23000000.0</td>\n",
       "      <td>9.2</td>\n",
       "      <td>0.0</td>\n",
       "    </tr>\n",
       "    <tr>\n",
       "      <th>13527247</th>\n",
       "      <td>1543548</td>\n",
       "      <td>879697</td>\n",
       "      <td>1962.0</td>\n",
       "      <td>1.0</td>\n",
       "      <td>2022-05-10 20:40:52</td>\n",
       "      <td>NaN</td>\n",
       "      <td>70000000.0</td>\n",
       "      <td>EARNEDINCOME</td>\n",
       "      <td>202204.0</td>\n",
       "      <td>계약직</td>\n",
       "      <td>...</td>\n",
       "      <td>0.0</td>\n",
       "      <td>NaN</td>\n",
       "      <td>NaN</td>\n",
       "      <td>NaN</td>\n",
       "      <td>2022-05-10 20:41:07</td>\n",
       "      <td>52</td>\n",
       "      <td>187</td>\n",
       "      <td>3000000.0</td>\n",
       "      <td>5.4</td>\n",
       "      <td>0.0</td>\n",
       "    </tr>\n",
       "    <tr>\n",
       "      <th>13527248</th>\n",
       "      <td>1543548</td>\n",
       "      <td>879697</td>\n",
       "      <td>1962.0</td>\n",
       "      <td>1.0</td>\n",
       "      <td>2022-05-10 20:40:52</td>\n",
       "      <td>NaN</td>\n",
       "      <td>70000000.0</td>\n",
       "      <td>EARNEDINCOME</td>\n",
       "      <td>202204.0</td>\n",
       "      <td>계약직</td>\n",
       "      <td>...</td>\n",
       "      <td>0.0</td>\n",
       "      <td>NaN</td>\n",
       "      <td>NaN</td>\n",
       "      <td>NaN</td>\n",
       "      <td>2022-05-10 20:41:10</td>\n",
       "      <td>55</td>\n",
       "      <td>186</td>\n",
       "      <td>50000000.0</td>\n",
       "      <td>10.6</td>\n",
       "      <td>0.0</td>\n",
       "    </tr>\n",
       "    <tr>\n",
       "      <th>13527249</th>\n",
       "      <td>1543548</td>\n",
       "      <td>879697</td>\n",
       "      <td>1962.0</td>\n",
       "      <td>1.0</td>\n",
       "      <td>2022-05-10 20:40:52</td>\n",
       "      <td>NaN</td>\n",
       "      <td>70000000.0</td>\n",
       "      <td>EARNEDINCOME</td>\n",
       "      <td>202204.0</td>\n",
       "      <td>계약직</td>\n",
       "      <td>...</td>\n",
       "      <td>0.0</td>\n",
       "      <td>NaN</td>\n",
       "      <td>NaN</td>\n",
       "      <td>NaN</td>\n",
       "      <td>2022-05-10 20:41:11</td>\n",
       "      <td>34</td>\n",
       "      <td>215</td>\n",
       "      <td>34000000.0</td>\n",
       "      <td>11.9</td>\n",
       "      <td>0.0</td>\n",
       "    </tr>\n",
       "  </tbody>\n",
       "</table>\n",
       "<p>13527250 rows × 23 columns</p>\n",
       "</div>"
      ],
      "text/plain": [
       "          application_id  user_id  birth_year  gender          insert_time  \\\n",
       "0                 248576        9      1996.0     1.0  2022-05-21 23:41:09   \n",
       "1                 248576        9      1996.0     1.0  2022-05-21 23:41:09   \n",
       "2                 248576        9      1996.0     1.0  2022-05-21 23:41:09   \n",
       "3                 248576        9      1996.0     1.0  2022-05-21 23:41:09   \n",
       "4                 248576        9      1996.0     1.0  2022-05-21 23:41:09   \n",
       "...                  ...      ...         ...     ...                  ...   \n",
       "13527245         1543548   879697      1962.0     1.0  2022-05-10 20:40:52   \n",
       "13527246         1543548   879697      1962.0     1.0  2022-05-10 20:40:52   \n",
       "13527247         1543548   879697      1962.0     1.0  2022-05-10 20:40:52   \n",
       "13527248         1543548   879697      1962.0     1.0  2022-05-10 20:40:52   \n",
       "13527249         1543548   879697      1962.0     1.0  2022-05-10 20:40:52   \n",
       "\n",
       "          credit_score  yearly_income   income_type  company_enter_month  \\\n",
       "0                810.0     29000000.0  EARNEDINCOME             202201.0   \n",
       "1                810.0     29000000.0  EARNEDINCOME             202201.0   \n",
       "2                810.0     29000000.0  EARNEDINCOME             202201.0   \n",
       "3                810.0     29000000.0  EARNEDINCOME             202201.0   \n",
       "4                810.0     29000000.0  EARNEDINCOME             202201.0   \n",
       "...                ...            ...           ...                  ...   \n",
       "13527245           NaN     70000000.0  EARNEDINCOME             202204.0   \n",
       "13527246           NaN     70000000.0  EARNEDINCOME             202204.0   \n",
       "13527247           NaN     70000000.0  EARNEDINCOME             202204.0   \n",
       "13527248           NaN     70000000.0  EARNEDINCOME             202204.0   \n",
       "13527249           NaN     70000000.0  EARNEDINCOME             202204.0   \n",
       "\n",
       "         employment_type  ... personal_rehabilitation_yn  \\\n",
       "0                    계약직  ...                        0.0   \n",
       "1                    계약직  ...                        0.0   \n",
       "2                    계약직  ...                        0.0   \n",
       "3                    계약직  ...                        0.0   \n",
       "4                    계약직  ...                        0.0   \n",
       "...                  ...  ...                        ...   \n",
       "13527245             계약직  ...                        0.0   \n",
       "13527246             계약직  ...                        0.0   \n",
       "13527247             계약직  ...                        0.0   \n",
       "13527248             계약직  ...                        0.0   \n",
       "13527249             계약직  ...                        0.0   \n",
       "\n",
       "          personal_rehabilitation_complete_yn existing_loan_cnt  \\\n",
       "0                                         NaN               1.0   \n",
       "1                                         NaN               1.0   \n",
       "2                                         NaN               1.0   \n",
       "3                                         NaN               1.0   \n",
       "4                                         NaN               1.0   \n",
       "...                                       ...               ...   \n",
       "13527245                                  NaN               NaN   \n",
       "13527246                                  NaN               NaN   \n",
       "13527247                                  NaN               NaN   \n",
       "13527248                                  NaN               NaN   \n",
       "13527249                                  NaN               NaN   \n",
       "\n",
       "          existing_loan_amt  loanapply_insert_time  bank_id  product_id  \\\n",
       "0                       NaN    2022-05-21 23:41:09       38         134   \n",
       "1                       NaN    2022-05-21 23:41:09       59         150   \n",
       "2                       NaN    2022-05-21 23:41:09       59         251   \n",
       "3                       NaN    2022-05-21 23:41:09       27         148   \n",
       "4                       NaN    2022-05-21 23:41:10       35         168   \n",
       "...                     ...                    ...      ...         ...   \n",
       "13527245                NaN    2022-05-10 20:40:55       64         254   \n",
       "13527246                NaN    2022-05-10 20:40:55       12          35   \n",
       "13527247                NaN    2022-05-10 20:41:07       52         187   \n",
       "13527248                NaN    2022-05-10 20:41:10       55         186   \n",
       "13527249                NaN    2022-05-10 20:41:11       34         215   \n",
       "\n",
       "          loan_limit  loan_rate  is_applied  \n",
       "0         16000000.0        7.5         NaN  \n",
       "1         20000000.0       15.0         NaN  \n",
       "2         16000000.0        6.5         NaN  \n",
       "3         16000000.0        7.0         NaN  \n",
       "4         28000000.0       16.8         NaN  \n",
       "...              ...        ...         ...  \n",
       "13527245  28000000.0        6.9         0.0  \n",
       "13527246  23000000.0        9.2         0.0  \n",
       "13527247   3000000.0        5.4         0.0  \n",
       "13527248  50000000.0       10.6         0.0  \n",
       "13527249  34000000.0       11.9         0.0  \n",
       "\n",
       "[13527250 rows x 23 columns]"
      ]
     },
     "execution_count": 4,
     "metadata": {},
     "output_type": "execute_result"
    }
   ],
   "source": [
    "merged_df"
   ]
  },
  {
   "cell_type": "code",
   "execution_count": 11,
   "id": "7f1047d6",
   "metadata": {
    "ExecuteTime": {
     "end_time": "2022-10-13T07:40:49.018259Z",
     "start_time": "2022-10-13T07:40:44.798964Z"
    }
   },
   "outputs": [
    {
     "data": {
      "text/plain": [
       "birth_year                               108227\n",
       "gender                                   108227\n",
       "credit_score                            1311773\n",
       "company_enter_month                      306537\n",
       "personal_rehabilitation_yn              2934375\n",
       "personal_rehabilitation_complete_yn    11162940\n",
       "existing_loan_cnt                       2685709\n",
       "existing_loan_amt                       3890163\n",
       "loan_limit                                   10\n",
       "loan_rate                                    10\n",
       "is_applied                              3322044\n",
       "dtype: int64"
      ]
     },
     "execution_count": 11,
     "metadata": {},
     "output_type": "execute_result"
    }
   ],
   "source": [
    "(merged_df.isnull().sum())[merged_df.isnull().sum()!=0]"
   ]
  },
  {
   "cell_type": "code",
   "execution_count": 5,
   "id": "ee641e35",
   "metadata": {
    "ExecuteTime": {
     "end_time": "2022-10-13T07:36:36.822154Z",
     "start_time": "2022-10-13T07:36:36.146456Z"
    }
   },
   "outputs": [
    {
     "data": {
      "text/plain": [
       "1.0    1204454\n",
       "Name: existing_loan_cnt, dtype: int64"
      ]
     },
     "execution_count": 5,
     "metadata": {},
     "output_type": "execute_result"
    }
   ],
   "source": [
    "merged_df[(merged_df['existing_loan_amt'].isnull()==True)]['existing_loan_cnt'].value_counts()"
   ]
  },
  {
   "cell_type": "code",
   "execution_count": 5,
   "id": "1ead676e",
   "metadata": {
    "ExecuteTime": {
     "end_time": "2022-10-13T07:53:10.369582Z",
     "start_time": "2022-10-13T07:53:09.321024Z"
    }
   },
   "outputs": [],
   "source": [
    "merged_df.loc[merged_df[(merged_df['existing_loan_amt'].isnull()==True) & (merged_df['existing_loan_cnt']==1)].index, 'existing_loan_amt'] = -100"
   ]
  },
  {
   "cell_type": "code",
   "execution_count": 6,
   "id": "9b1e5b3e",
   "metadata": {
    "ExecuteTime": {
     "end_time": "2022-10-13T07:53:35.151185Z",
     "start_time": "2022-10-13T07:53:30.643363Z"
    }
   },
   "outputs": [
    {
     "data": {
      "text/plain": [
       "birth_year                               108227\n",
       "gender                                   108227\n",
       "credit_score                            1311773\n",
       "company_enter_month                      306537\n",
       "personal_rehabilitation_yn              2934375\n",
       "personal_rehabilitation_complete_yn    11162940\n",
       "existing_loan_cnt                       2685709\n",
       "existing_loan_amt                       2685709\n",
       "loan_limit                                   10\n",
       "loan_rate                                    10\n",
       "is_applied                              3322044\n",
       "dtype: int64"
      ]
     },
     "execution_count": 6,
     "metadata": {},
     "output_type": "execute_result"
    }
   ],
   "source": [
    "(merged_df.isnull().sum())[merged_df.isnull().sum()!=0]"
   ]
  },
  {
   "cell_type": "code",
   "execution_count": 7,
   "id": "9c176a39",
   "metadata": {
    "ExecuteTime": {
     "end_time": "2022-10-13T07:53:56.729060Z",
     "start_time": "2022-10-13T07:53:55.063160Z"
    }
   },
   "outputs": [
    {
     "data": {
      "text/plain": [
       "True"
      ]
     },
     "execution_count": 7,
     "metadata": {},
     "output_type": "execute_result"
    }
   ],
   "source": [
    "set(merged_df[merged_df['existing_loan_amt'].isnull()==True].index) ==\\\n",
    "set(merged_df[merged_df['existing_loan_cnt'].isnull()==True].index)"
   ]
  },
  {
   "cell_type": "code",
   "execution_count": 8,
   "id": "7db75662",
   "metadata": {
    "ExecuteTime": {
     "end_time": "2022-10-13T07:54:29.738830Z",
     "start_time": "2022-10-13T07:54:29.058845Z"
    }
   },
   "outputs": [],
   "source": [
    "merged_df.loc[merged_df[merged_df['existing_loan_amt'].isnull()==True].index, ['existing_loan_amt', 'existing_loan_cnt']]=0"
   ]
  },
  {
   "cell_type": "code",
   "execution_count": 9,
   "id": "1bae51b9",
   "metadata": {
    "ExecuteTime": {
     "end_time": "2022-10-13T07:54:54.125157Z",
     "start_time": "2022-10-13T07:54:49.771542Z"
    }
   },
   "outputs": [
    {
     "data": {
      "text/plain": [
       "birth_year                               108227\n",
       "gender                                   108227\n",
       "credit_score                            1311773\n",
       "company_enter_month                      306537\n",
       "personal_rehabilitation_yn              2934375\n",
       "personal_rehabilitation_complete_yn    11162940\n",
       "loan_limit                                   10\n",
       "loan_rate                                    10\n",
       "is_applied                              3322044\n",
       "dtype: int64"
      ]
     },
     "execution_count": 9,
     "metadata": {},
     "output_type": "execute_result"
    }
   ],
   "source": [
    "(merged_df.isnull().sum())[merged_df.isnull().sum()!=0]"
   ]
  },
  {
   "cell_type": "markdown",
   "id": "15e091e0",
   "metadata": {},
   "source": [
    "## personal_rehabilitation_yn & personal_rehabilitation_complete_yn"
   ]
  },
  {
   "cell_type": "code",
   "execution_count": 11,
   "id": "b453e40d",
   "metadata": {
    "ExecuteTime": {
     "end_time": "2022-10-13T07:57:16.773233Z",
     "start_time": "2022-10-13T07:57:14.421855Z"
    }
   },
   "outputs": [
    {
     "data": {
      "text/plain": [
       "0.0    8228565\n",
       "Name: personal_rehabilitation_yn, dtype: int64"
      ]
     },
     "execution_count": 11,
     "metadata": {},
     "output_type": "execute_result"
    }
   ],
   "source": [
    "merged_df[(merged_df['personal_rehabilitation_complete_yn'].isnull()==True)]['personal_rehabilitation_yn'].value_counts()"
   ]
  },
  {
   "cell_type": "code",
   "execution_count": 12,
   "id": "c3c38fb7",
   "metadata": {
    "ExecuteTime": {
     "end_time": "2022-10-13T08:01:04.662045Z",
     "start_time": "2022-10-13T08:01:01.844105Z"
    }
   },
   "outputs": [],
   "source": [
    "merged_df.loc[merged_df[(merged_df['personal_rehabilitation_yn']==0)].index, 'personal_rehabilitation_complete_yn'] = -1"
   ]
  },
  {
   "cell_type": "code",
   "execution_count": 13,
   "id": "17f4610c",
   "metadata": {
    "ExecuteTime": {
     "end_time": "2022-10-13T08:01:26.352014Z",
     "start_time": "2022-10-13T08:01:24.570708Z"
    }
   },
   "outputs": [
    {
     "data": {
      "text/plain": [
       "True"
      ]
     },
     "execution_count": 13,
     "metadata": {},
     "output_type": "execute_result"
    }
   ],
   "source": [
    "set(merged_df[merged_df['personal_rehabilitation_yn'].isnull()==True].index)\\\n",
    "== set(merged_df[merged_df['personal_rehabilitation_complete_yn'].isnull()==True].index)"
   ]
  },
  {
   "cell_type": "code",
   "execution_count": 14,
   "id": "51bf7103",
   "metadata": {
    "ExecuteTime": {
     "end_time": "2022-10-13T08:01:47.175752Z",
     "start_time": "2022-10-13T08:01:46.413758Z"
    }
   },
   "outputs": [],
   "source": [
    "merged_df.loc[merged_df[merged_df['personal_rehabilitation_yn'].isnull()==True].index, 'personal_rehabilitation_yn']=0"
   ]
  },
  {
   "cell_type": "code",
   "execution_count": 55,
   "id": "3eb4023d",
   "metadata": {
    "ExecuteTime": {
     "end_time": "2022-10-13T09:02:22.569310Z",
     "start_time": "2022-10-13T09:02:21.482628Z"
    }
   },
   "outputs": [],
   "source": [
    "merged_df.loc[merged_df[merged_df['personal_rehabilitation_complete_yn'].isnull()==True].index, 'personal_rehabilitation_complete_yn']=-1"
   ]
  },
  {
   "cell_type": "code",
   "execution_count": 16,
   "id": "d2e40873",
   "metadata": {
    "ExecuteTime": {
     "end_time": "2022-10-13T08:02:31.590154Z",
     "start_time": "2022-10-13T08:02:27.217617Z"
    }
   },
   "outputs": [
    {
     "data": {
      "text/plain": [
       "birth_year                              108227\n",
       "gender                                  108227\n",
       "credit_score                           1311773\n",
       "company_enter_month                     306537\n",
       "personal_rehabilitation_complete_yn    2934375\n",
       "loan_limit                                  10\n",
       "loan_rate                                   10\n",
       "is_applied                             3322044\n",
       "dtype: int64"
      ]
     },
     "execution_count": 16,
     "metadata": {},
     "output_type": "execute_result"
    }
   ],
   "source": [
    "(merged_df.isnull().sum())[merged_df.isnull().sum()!=0] # personal_rehabilitation_complete_yn  잘못표기됨"
   ]
  },
  {
   "cell_type": "markdown",
   "id": "a1d921c0",
   "metadata": {},
   "source": [
    "## company_enter_month     "
   ]
  },
  {
   "cell_type": "code",
   "execution_count": 17,
   "id": "b3a4a3af",
   "metadata": {
    "ExecuteTime": {
     "end_time": "2022-10-13T08:02:51.347950Z",
     "start_time": "2022-10-13T08:02:51.342592Z"
    }
   },
   "outputs": [
    {
     "data": {
      "text/plain": [
       "0           202201.0\n",
       "1           202201.0\n",
       "2           202201.0\n",
       "3           202201.0\n",
       "4           202201.0\n",
       "              ...   \n",
       "13527245    202204.0\n",
       "13527246    202204.0\n",
       "13527247    202204.0\n",
       "13527248    202204.0\n",
       "13527249    202204.0\n",
       "Name: company_enter_month, Length: 13527250, dtype: float64"
      ]
     },
     "execution_count": 17,
     "metadata": {},
     "output_type": "execute_result"
    }
   ],
   "source": [
    "merged_df['company_enter_month']"
   ]
  },
  {
   "cell_type": "code",
   "execution_count": 18,
   "id": "b9bd86f9",
   "metadata": {
    "ExecuteTime": {
     "end_time": "2022-10-13T08:03:11.740968Z",
     "start_time": "2022-10-13T08:03:11.261536Z"
    }
   },
   "outputs": [
    {
     "data": {
      "text/plain": [
       "array(['EARNEDINCOME', 'OTHERINCOME', 'EARNEDINCOME2', 'FREELANCER',\n",
       "       'PRIVATEBUSINESS', 'PRACTITIONER'], dtype=object)"
      ]
     },
     "execution_count": 18,
     "metadata": {},
     "output_type": "execute_result"
    }
   ],
   "source": [
    "merged_df['income_type'].unique()"
   ]
  },
  {
   "cell_type": "code",
   "execution_count": 19,
   "id": "64263bb4",
   "metadata": {
    "ExecuteTime": {
     "end_time": "2022-10-13T08:03:37.655707Z",
     "start_time": "2022-10-13T08:03:31.544152Z"
    }
   },
   "outputs": [
    {
     "name": "stdout",
     "output_type": "stream",
     "text": [
      "EARNEDINCOME 55\n",
      "OTHERINCOME 306459\n",
      "EARNEDINCOME2 0\n",
      "FREELANCER 0\n",
      "PRIVATEBUSINESS 23\n",
      "PRACTITIONER 0\n"
     ]
    }
   ],
   "source": [
    "for income_type in merged_df['income_type'].unique():\n",
    "    print(income_type, merged_df[merged_df['income_type']==income_type]['company_enter_month'].isnull().sum())"
   ]
  },
  {
   "cell_type": "code",
   "execution_count": 22,
   "id": "0a2d673c",
   "metadata": {
    "ExecuteTime": {
     "end_time": "2022-10-13T08:08:10.673826Z",
     "start_time": "2022-10-13T08:08:05.834702Z"
    }
   },
   "outputs": [
    {
     "name": "stdout",
     "output_type": "stream",
     "text": [
      "EARNEDINCOME 4\n",
      "OTHERINCOME 77119\n",
      "EARNEDINCOME2 0\n",
      "FREELANCER 0\n",
      "PRIVATEBUSINESS 0\n",
      "PRACTITIONER 0\n"
     ]
    }
   ],
   "source": [
    "for income_type in merged_df[merged_df['is_applied'].isnull()==True]['income_type'].unique():\n",
    "    print(income_type, merged_df[(merged_df['is_applied'].isnull()==True) & (merged_df['income_type']==income_type)]\\\n",
    "          ['company_enter_month'].isnull().sum())"
   ]
  },
  {
   "cell_type": "code",
   "execution_count": 30,
   "id": "6bc59f63",
   "metadata": {
    "ExecuteTime": {
     "end_time": "2022-10-13T08:50:47.972755Z",
     "start_time": "2022-10-13T08:50:47.300753Z"
    }
   },
   "outputs": [
    {
     "data": {
      "text/plain": [
       "202201.0      6119\n",
       "202203.0      6017\n",
       "202204.0      5121\n",
       "202205.0      4153\n",
       "202202.0      3403\n",
       "              ... \n",
       "20210620.0       1\n",
       "20180611.0       1\n",
       "20180623.0       1\n",
       "20120328.0       1\n",
       "201010.0         1\n",
       "Name: company_enter_month, Length: 833, dtype: int64"
      ]
     },
     "execution_count": 30,
     "metadata": {},
     "output_type": "execute_result"
    }
   ],
   "source": [
    "merged_df[merged_df['income_type']=='OTHERINCOME']['company_enter_month'].value_counts()"
   ]
  },
  {
   "cell_type": "code",
   "execution_count": 40,
   "id": "a326666b",
   "metadata": {
    "ExecuteTime": {
     "end_time": "2022-10-13T08:56:49.329497Z",
     "start_time": "2022-10-13T08:56:43.481718Z"
    }
   },
   "outputs": [],
   "source": [
    "merged_df.loc[merged_df[merged_df['company_enter_month']<1_00_00_00].index, 'company_enter_month']= merged_df[merged_df['company_enter_month']<1_00_00_00]['company_enter_month'].copy()*100+1"
   ]
  },
  {
   "cell_type": "code",
   "execution_count": 37,
   "id": "8726461c",
   "metadata": {
    "ExecuteTime": {
     "end_time": "2022-10-13T08:55:29.810049Z",
     "start_time": "2022-10-13T08:55:29.806165Z"
    }
   },
   "outputs": [
    {
     "data": {
      "text/plain": [
       "Index(['application_id', 'user_id', 'birth_year', 'gender', 'insert_time',\n",
       "       'credit_score', 'yearly_income', 'income_type', 'company_enter_month',\n",
       "       'employment_type', 'houseown_type', 'desired_amount', 'purpose',\n",
       "       'personal_rehabilitation_yn', 'personal_rehabilitation_complete_yn',\n",
       "       'existing_loan_cnt', 'existing_loan_amt', 'loanapply_insert_time',\n",
       "       'bank_id', 'product_id', 'loan_limit', 'loan_rate', 'is_applied'],\n",
       "      dtype='object')"
      ]
     },
     "execution_count": 37,
     "metadata": {},
     "output_type": "execute_result"
    }
   ],
   "source": [
    "merged_df.columnsumns"
   ]
  },
  {
   "cell_type": "code",
   "execution_count": 47,
   "id": "216f344e",
   "metadata": {
    "ExecuteTime": {
     "end_time": "2022-10-13T08:58:58.772599Z",
     "start_time": "2022-10-13T08:58:54.661214Z"
    }
   },
   "outputs": [],
   "source": [
    "merged_df['loanapply_insert_day']=pd.to_datetime(merged_df['loanapply_insert_time'])"
   ]
  },
  {
   "cell_type": "code",
   "execution_count": 43,
   "id": "24532bee",
   "metadata": {
    "ExecuteTime": {
     "end_time": "2022-10-13T08:57:41.669108Z",
     "start_time": "2022-10-13T08:57:40.177617Z"
    }
   },
   "outputs": [],
   "source": [
    "merged_df['company_enter_month']=pd.to_datetime(merged_df['company_enter_month'], format='%Y%m%d')"
   ]
  },
  {
   "cell_type": "code",
   "execution_count": 52,
   "id": "0f81aa63",
   "metadata": {
    "ExecuteTime": {
     "end_time": "2022-10-13T09:00:45.035937Z",
     "start_time": "2022-10-13T09:00:44.102317Z"
    }
   },
   "outputs": [],
   "source": [
    "merged_df['work_days']=(merged_df['loanapply_insert_day']-merged_df['company_enter_month']).dt.days"
   ]
  },
  {
   "cell_type": "code",
   "execution_count": 53,
   "id": "878afbb4",
   "metadata": {
    "ExecuteTime": {
     "end_time": "2022-10-13T09:01:12.562154Z",
     "start_time": "2022-10-13T09:01:07.328258Z"
    }
   },
   "outputs": [],
   "source": [
    "merged_df.drop(['loanapply_insert_day'],inplace=True,axis=1)"
   ]
  },
  {
   "cell_type": "code",
   "execution_count": 57,
   "id": "5610d78a",
   "metadata": {
    "ExecuteTime": {
     "end_time": "2022-10-13T09:03:35.096708Z",
     "start_time": "2022-10-13T09:03:32.489994Z"
    }
   },
   "outputs": [],
   "source": [
    "merged_df.drop(['company_enter_month'],inplace=True,axis=1)"
   ]
  },
  {
   "cell_type": "code",
   "execution_count": 59,
   "id": "d6ac6383",
   "metadata": {
    "ExecuteTime": {
     "end_time": "2022-10-13T09:04:51.790109Z",
     "start_time": "2022-10-13T09:04:51.444498Z"
    }
   },
   "outputs": [],
   "source": [
    "merged_df.loc[merged_df[merged_df['work_days'].isnull()==True].index, 'work_days']=0"
   ]
  },
  {
   "cell_type": "code",
   "execution_count": 60,
   "id": "e8ad72bb",
   "metadata": {
    "ExecuteTime": {
     "end_time": "2022-10-13T09:05:19.096661Z",
     "start_time": "2022-10-13T09:05:14.248655Z"
    },
    "scrolled": true
   },
   "outputs": [
    {
     "data": {
      "text/plain": [
       "birth_year       108227\n",
       "gender           108227\n",
       "credit_score    1311773\n",
       "loan_limit           10\n",
       "loan_rate            10\n",
       "is_applied      3322044\n",
       "dtype: int64"
      ]
     },
     "execution_count": 60,
     "metadata": {},
     "output_type": "execute_result"
    }
   ],
   "source": [
    "(merged_df.isnull().sum())[merged_df.isnull().sum()!=0]"
   ]
  },
  {
   "cell_type": "code",
   "execution_count": 61,
   "id": "667dc8fe",
   "metadata": {
    "ExecuteTime": {
     "end_time": "2022-10-13T09:08:25.810944Z",
     "start_time": "2022-10-13T09:08:18.929445Z"
    }
   },
   "outputs": [],
   "source": [
    "loan_df = pd.read_csv('./data/loan_result.csv')"
   ]
  },
  {
   "cell_type": "code",
   "execution_count": 64,
   "id": "90636bcc",
   "metadata": {
    "ExecuteTime": {
     "end_time": "2022-10-13T09:10:23.468530Z",
     "start_time": "2022-10-13T09:10:23.465058Z"
    }
   },
   "outputs": [
    {
     "data": {
      "text/plain": [
       "((13527363, 7), (13527250, 23))"
      ]
     },
     "execution_count": 64,
     "metadata": {},
     "output_type": "execute_result"
    }
   ],
   "source": [
    "loan_df.shape, merged_df.shape"
   ]
  },
  {
   "cell_type": "code",
   "execution_count": 67,
   "id": "8e0fd2ed",
   "metadata": {
    "ExecuteTime": {
     "end_time": "2022-10-13T09:13:08.159727Z",
     "start_time": "2022-10-13T09:13:07.845309Z"
    }
   },
   "outputs": [
    {
     "data": {
      "text/plain": [
       "3257239"
      ]
     },
     "execution_count": 67,
     "metadata": {},
     "output_type": "execute_result"
    }
   ],
   "source": [
    "len(loan_df[loan_df['is_applied'].isnull()==True])"
   ]
  },
  {
   "cell_type": "code",
   "execution_count": 70,
   "id": "89bc9280",
   "metadata": {
    "ExecuteTime": {
     "end_time": "2022-10-13T09:15:42.437591Z",
     "start_time": "2022-10-13T09:14:50.349664Z"
    }
   },
   "outputs": [],
   "source": [
    "tmp = pd.read_csv('./customData/merged_ver0_5.csv')"
   ]
  },
  {
   "cell_type": "code",
   "execution_count": 71,
   "id": "421b39d4",
   "metadata": {
    "ExecuteTime": {
     "end_time": "2022-10-13T09:16:27.536197Z",
     "start_time": "2022-10-13T09:16:26.602795Z"
    }
   },
   "outputs": [
    {
     "data": {
      "text/plain": [
       "3322044"
      ]
     },
     "execution_count": 71,
     "metadata": {},
     "output_type": "execute_result"
    }
   ],
   "source": [
    "len(tmp[tmp['is_applied'].isnull()==True])"
   ]
  },
  {
   "cell_type": "code",
   "execution_count": null,
   "id": "2ae42425",
   "metadata": {},
   "outputs": [],
   "source": []
  },
  {
   "cell_type": "code",
   "execution_count": 68,
   "id": "635156de",
   "metadata": {
    "ExecuteTime": {
     "end_time": "2022-10-13T09:13:41.941076Z",
     "start_time": "2022-10-13T09:13:41.937482Z"
    }
   },
   "outputs": [
    {
     "data": {
      "text/plain": [
       "(6968274, 25)"
      ]
     },
     "execution_count": 68,
     "metadata": {},
     "output_type": "execute_result"
    }
   ],
   "source": [
    "tmp.shape"
   ]
  },
  {
   "cell_type": "code",
   "execution_count": null,
   "id": "147f5951",
   "metadata": {
    "ExecuteTime": {
     "end_time": "2022-10-13T09:08:48.696898Z",
     "start_time": "2022-10-13T09:08:48.696885Z"
    }
   },
   "outputs": [],
   "source": [
    "merged_df.shape()"
   ]
  },
  {
   "cell_type": "code",
   "execution_count": null,
   "id": "8ea8aaea",
   "metadata": {},
   "outputs": [],
   "source": []
  },
  {
   "cell_type": "code",
   "execution_count": 103,
   "id": "29dc3267",
   "metadata": {
    "ExecuteTime": {
     "end_time": "2022-10-12T12:33:45.392641Z",
     "start_time": "2022-10-12T12:33:45.370977Z"
    }
   },
   "outputs": [
    {
     "data": {
      "text/plain": [
       "3257239"
      ]
     },
     "execution_count": 103,
     "metadata": {},
     "output_type": "execute_result"
    }
   ],
   "source": [
    "tmp['is_applied'].isnull().sum()"
   ]
  },
  {
   "cell_type": "code",
   "execution_count": 104,
   "id": "7330dc61",
   "metadata": {
    "ExecuteTime": {
     "end_time": "2022-10-12T12:35:06.958666Z",
     "start_time": "2022-10-12T12:35:06.955174Z"
    }
   },
   "outputs": [
    {
     "data": {
      "text/plain": [
       "(2586455, 24)"
      ]
     },
     "execution_count": 104,
     "metadata": {},
     "output_type": "execute_result"
    }
   ],
   "source": [
    "merged_df.shape"
   ]
  },
  {
   "cell_type": "markdown",
   "id": "47a1f858",
   "metadata": {},
   "source": [
    "## loan_limit & loan_rate"
   ]
  },
  {
   "cell_type": "code",
   "execution_count": null,
   "id": "a2708bf4",
   "metadata": {
    "ExecuteTime": {
     "end_time": "2022-10-13T05:16:41.822611Z",
     "start_time": "2022-10-13T05:16:41.822600Z"
    }
   },
   "outputs": [],
   "source": [
    "merged_df=pd.read_csv('./customData/merged_ver1_0.csv',index_col=0)"
   ]
  },
  {
   "cell_type": "code",
   "execution_count": null,
   "id": "053e1985",
   "metadata": {
    "ExecuteTime": {
     "end_time": "2022-10-13T05:16:41.828365Z",
     "start_time": "2022-10-13T05:16:41.828354Z"
    }
   },
   "outputs": [],
   "source": [
    "(merged_df.isnull().sum())[merged_df.isnull().sum()!=0]"
   ]
  },
  {
   "cell_type": "code",
   "execution_count": 40,
   "id": "00915a62",
   "metadata": {
    "ExecuteTime": {
     "end_time": "2022-10-12T11:41:39.450135Z",
     "start_time": "2022-10-12T11:41:38.938208Z"
    }
   },
   "outputs": [],
   "source": [
    "merged_df.drop(merged_df[merged_df['loan_limit'].isnull()==True].index, inplace=True)"
   ]
  },
  {
   "cell_type": "code",
   "execution_count": 41,
   "id": "aa178953",
   "metadata": {
    "ExecuteTime": {
     "end_time": "2022-10-12T11:41:42.684561Z",
     "start_time": "2022-10-12T11:41:41.815471Z"
    },
    "scrolled": true
   },
   "outputs": [
    {
     "data": {
      "text/plain": [
       "birth_year                              20771\n",
       "gender                                  20771\n",
       "credit_score                           249504\n",
       "company_enter_month                     58008\n",
       "personal_rehabilitation_yn             562201\n",
       "personal_rehabilitation_complete_yn    562201\n",
       "existing_loan_cnt                      514053\n",
       "existing_loan_amt                      744017\n",
       "is_applied                             619682\n",
       "dtype: int64"
      ]
     },
     "execution_count": 41,
     "metadata": {},
     "output_type": "execute_result"
    }
   ],
   "source": [
    "(merged_df.isnull().sum())[merged_df.isnull().sum()!=0]"
   ]
  },
  {
   "cell_type": "code",
   "execution_count": null,
   "id": "873dad3a",
   "metadata": {},
   "outputs": [],
   "source": []
  },
  {
   "cell_type": "code",
   "execution_count": null,
   "id": "5871fb63",
   "metadata": {},
   "outputs": [],
   "source": []
  },
  {
   "cell_type": "code",
   "execution_count": null,
   "id": "2891362c",
   "metadata": {},
   "outputs": [],
   "source": []
  },
  {
   "cell_type": "code",
   "execution_count": null,
   "id": "fef02e82",
   "metadata": {},
   "outputs": [],
   "source": []
  },
  {
   "cell_type": "code",
   "execution_count": null,
   "id": "0db3d021",
   "metadata": {},
   "outputs": [],
   "source": []
  },
  {
   "cell_type": "code",
   "execution_count": null,
   "id": "522582e5",
   "metadata": {},
   "outputs": [],
   "source": []
  },
  {
   "cell_type": "code",
   "execution_count": 99,
   "id": "3ff567ce",
   "metadata": {
    "ExecuteTime": {
     "end_time": "2022-10-12T12:18:17.379367Z",
     "start_time": "2022-10-12T12:18:17.157813Z"
    }
   },
   "outputs": [
    {
     "data": {
      "text/plain": [
       "array(['2022-06', '2022-05'], dtype=object)"
      ]
     },
     "execution_count": 99,
     "metadata": {},
     "output_type": "execute_result"
    }
   ],
   "source": [
    "merged_df[merged_df['is_applied'].isnull()==True]['insert_time'].str[:7].unique()"
   ]
  },
  {
   "cell_type": "code",
   "execution_count": 84,
   "id": "fcb99fe5",
   "metadata": {
    "ExecuteTime": {
     "end_time": "2022-10-12T12:14:02.946046Z",
     "start_time": "2022-10-12T12:14:02.895318Z"
    }
   },
   "outputs": [
    {
     "data": {
      "text/html": [
       "<div>\n",
       "<style scoped>\n",
       "    .dataframe tbody tr th:only-of-type {\n",
       "        vertical-align: middle;\n",
       "    }\n",
       "\n",
       "    .dataframe tbody tr th {\n",
       "        vertical-align: top;\n",
       "    }\n",
       "\n",
       "    .dataframe thead th {\n",
       "        text-align: right;\n",
       "    }\n",
       "</style>\n",
       "<table border=\"1\" class=\"dataframe\">\n",
       "  <thead>\n",
       "    <tr style=\"text-align: right;\">\n",
       "      <th></th>\n",
       "      <th>income_type</th>\n",
       "      <th>company_enter_month</th>\n",
       "    </tr>\n",
       "  </thead>\n",
       "  <tbody>\n",
       "    <tr>\n",
       "      <th>0</th>\n",
       "      <td>EARNEDINCOME</td>\n",
       "      <td>202201.0</td>\n",
       "    </tr>\n",
       "    <tr>\n",
       "      <th>1</th>\n",
       "      <td>EARNEDINCOME</td>\n",
       "      <td>202201.0</td>\n",
       "    </tr>\n",
       "    <tr>\n",
       "      <th>2</th>\n",
       "      <td>EARNEDINCOME</td>\n",
       "      <td>202201.0</td>\n",
       "    </tr>\n",
       "    <tr>\n",
       "      <th>3</th>\n",
       "      <td>EARNEDINCOME</td>\n",
       "      <td>202201.0</td>\n",
       "    </tr>\n",
       "    <tr>\n",
       "      <th>4</th>\n",
       "      <td>EARNEDINCOME</td>\n",
       "      <td>202201.0</td>\n",
       "    </tr>\n",
       "    <tr>\n",
       "      <th>...</th>\n",
       "      <td>...</td>\n",
       "      <td>...</td>\n",
       "    </tr>\n",
       "    <tr>\n",
       "      <th>2586454</th>\n",
       "      <td>PRACTITIONER</td>\n",
       "      <td>201803.0</td>\n",
       "    </tr>\n",
       "    <tr>\n",
       "      <th>2586455</th>\n",
       "      <td>PRACTITIONER</td>\n",
       "      <td>201803.0</td>\n",
       "    </tr>\n",
       "    <tr>\n",
       "      <th>2586456</th>\n",
       "      <td>PRACTITIONER</td>\n",
       "      <td>201803.0</td>\n",
       "    </tr>\n",
       "    <tr>\n",
       "      <th>2586457</th>\n",
       "      <td>PRACTITIONER</td>\n",
       "      <td>201803.0</td>\n",
       "    </tr>\n",
       "    <tr>\n",
       "      <th>2586458</th>\n",
       "      <td>PRACTITIONER</td>\n",
       "      <td>201803.0</td>\n",
       "    </tr>\n",
       "  </tbody>\n",
       "</table>\n",
       "<p>2586455 rows × 2 columns</p>\n",
       "</div>"
      ],
      "text/plain": [
       "          income_type  company_enter_month\n",
       "0        EARNEDINCOME             202201.0\n",
       "1        EARNEDINCOME             202201.0\n",
       "2        EARNEDINCOME             202201.0\n",
       "3        EARNEDINCOME             202201.0\n",
       "4        EARNEDINCOME             202201.0\n",
       "...               ...                  ...\n",
       "2586454  PRACTITIONER             201803.0\n",
       "2586455  PRACTITIONER             201803.0\n",
       "2586456  PRACTITIONER             201803.0\n",
       "2586457  PRACTITIONER             201803.0\n",
       "2586458  PRACTITIONER             201803.0\n",
       "\n",
       "[2586455 rows x 2 columns]"
      ]
     },
     "execution_count": 84,
     "metadata": {},
     "output_type": "execute_result"
    }
   ],
   "source": [
    "merged_df[['income_type','company_enter_month']]"
   ]
  },
  {
   "cell_type": "code",
   "execution_count": 79,
   "id": "29c29f69",
   "metadata": {
    "ExecuteTime": {
     "end_time": "2022-10-12T12:09:35.339387Z",
     "start_time": "2022-10-12T12:09:35.320296Z"
    }
   },
   "outputs": [],
   "source": [
    "df = merged_df[merged_df['company_enter_month'].isnull()==True]"
   ]
  },
  {
   "cell_type": "code",
   "execution_count": 80,
   "id": "fd35142f",
   "metadata": {
    "ExecuteTime": {
     "end_time": "2022-10-12T12:09:43.042258Z",
     "start_time": "2022-10-12T12:09:42.981251Z"
    }
   },
   "outputs": [
    {
     "data": {
      "text/html": [
       "<div>\n",
       "<style scoped>\n",
       "    .dataframe tbody tr th:only-of-type {\n",
       "        vertical-align: middle;\n",
       "    }\n",
       "\n",
       "    .dataframe tbody tr th {\n",
       "        vertical-align: top;\n",
       "    }\n",
       "\n",
       "    .dataframe thead th {\n",
       "        text-align: right;\n",
       "    }\n",
       "</style>\n",
       "<table border=\"1\" class=\"dataframe\">\n",
       "  <thead>\n",
       "    <tr style=\"text-align: right;\">\n",
       "      <th></th>\n",
       "      <th>index</th>\n",
       "      <th>application_id</th>\n",
       "      <th>user_id</th>\n",
       "      <th>birth_year</th>\n",
       "      <th>gender</th>\n",
       "      <th>credit_score</th>\n",
       "      <th>yearly_income</th>\n",
       "      <th>company_enter_month</th>\n",
       "      <th>desired_amount</th>\n",
       "      <th>personal_rehabilitation_yn</th>\n",
       "      <th>personal_rehabilitation_complete_yn</th>\n",
       "      <th>existing_loan_cnt</th>\n",
       "      <th>existing_loan_amt</th>\n",
       "      <th>bank_id</th>\n",
       "      <th>product_id</th>\n",
       "      <th>loan_limit</th>\n",
       "      <th>loan_rate</th>\n",
       "      <th>is_applied</th>\n",
       "    </tr>\n",
       "  </thead>\n",
       "  <tbody>\n",
       "    <tr>\n",
       "      <th>count</th>\n",
       "      <td>5.800800e+04</td>\n",
       "      <td>5.800800e+04</td>\n",
       "      <td>58008.000000</td>\n",
       "      <td>56798.000000</td>\n",
       "      <td>56798.000000</td>\n",
       "      <td>49190.000000</td>\n",
       "      <td>5.800800e+04</td>\n",
       "      <td>0.0</td>\n",
       "      <td>5.800800e+04</td>\n",
       "      <td>58008.000000</td>\n",
       "      <td>58008.000000</td>\n",
       "      <td>58008.000000</td>\n",
       "      <td>5.800800e+04</td>\n",
       "      <td>58008.000000</td>\n",
       "      <td>58008.000000</td>\n",
       "      <td>5.800800e+04</td>\n",
       "      <td>58008.000000</td>\n",
       "      <td>43739.000000</td>\n",
       "    </tr>\n",
       "    <tr>\n",
       "      <th>mean</th>\n",
       "      <td>1.271071e+06</td>\n",
       "      <td>1.089368e+06</td>\n",
       "      <td>83087.060233</td>\n",
       "      <td>1978.565812</td>\n",
       "      <td>0.465192</td>\n",
       "      <td>753.692417</td>\n",
       "      <td>3.021876e+07</td>\n",
       "      <td>NaN</td>\n",
       "      <td>3.656842e+07</td>\n",
       "      <td>0.006206</td>\n",
       "      <td>0.000793</td>\n",
       "      <td>2.618104</td>\n",
       "      <td>3.150799e+07</td>\n",
       "      <td>27.789701</td>\n",
       "      <td>133.035685</td>\n",
       "      <td>1.574021e+07</td>\n",
       "      <td>14.355304</td>\n",
       "      <td>0.152244</td>\n",
       "    </tr>\n",
       "    <tr>\n",
       "      <th>std</th>\n",
       "      <td>7.507544e+05</td>\n",
       "      <td>6.230613e+05</td>\n",
       "      <td>49054.084103</td>\n",
       "      <td>12.111764</td>\n",
       "      <td>0.498791</td>\n",
       "      <td>118.077797</td>\n",
       "      <td>1.426775e+08</td>\n",
       "      <td>NaN</td>\n",
       "      <td>2.130780e+08</td>\n",
       "      <td>0.078534</td>\n",
       "      <td>0.028149</td>\n",
       "      <td>3.365334</td>\n",
       "      <td>6.137719e+07</td>\n",
       "      <td>17.243293</td>\n",
       "      <td>85.697828</td>\n",
       "      <td>1.560359e+07</td>\n",
       "      <td>3.577931</td>\n",
       "      <td>0.359261</td>\n",
       "    </tr>\n",
       "    <tr>\n",
       "      <th>min</th>\n",
       "      <td>1.620000e+02</td>\n",
       "      <td>1.240000e+02</td>\n",
       "      <td>19.000000</td>\n",
       "      <td>1933.000000</td>\n",
       "      <td>0.000000</td>\n",
       "      <td>300.000000</td>\n",
       "      <td>0.000000e+00</td>\n",
       "      <td>NaN</td>\n",
       "      <td>0.000000e+00</td>\n",
       "      <td>0.000000</td>\n",
       "      <td>0.000000</td>\n",
       "      <td>0.000000</td>\n",
       "      <td>-1.000000e+02</td>\n",
       "      <td>1.000000</td>\n",
       "      <td>1.000000</td>\n",
       "      <td>0.000000e+00</td>\n",
       "      <td>3.000000</td>\n",
       "      <td>0.000000</td>\n",
       "    </tr>\n",
       "    <tr>\n",
       "      <th>25%</th>\n",
       "      <td>5.999858e+05</td>\n",
       "      <td>5.488585e+05</td>\n",
       "      <td>39372.000000</td>\n",
       "      <td>1970.000000</td>\n",
       "      <td>0.000000</td>\n",
       "      <td>660.000000</td>\n",
       "      <td>1.000000e+07</td>\n",
       "      <td>NaN</td>\n",
       "      <td>5.000000e+06</td>\n",
       "      <td>0.000000</td>\n",
       "      <td>0.000000</td>\n",
       "      <td>0.000000</td>\n",
       "      <td>0.000000e+00</td>\n",
       "      <td>13.000000</td>\n",
       "      <td>56.000000</td>\n",
       "      <td>5.000000e+06</td>\n",
       "      <td>11.900000</td>\n",
       "      <td>0.000000</td>\n",
       "    </tr>\n",
       "    <tr>\n",
       "      <th>50%</th>\n",
       "      <td>1.234714e+06</td>\n",
       "      <td>1.097743e+06</td>\n",
       "      <td>80197.000000</td>\n",
       "      <td>1980.000000</td>\n",
       "      <td>0.000000</td>\n",
       "      <td>740.000000</td>\n",
       "      <td>2.300000e+07</td>\n",
       "      <td>NaN</td>\n",
       "      <td>1.300000e+07</td>\n",
       "      <td>0.000000</td>\n",
       "      <td>0.000000</td>\n",
       "      <td>2.000000</td>\n",
       "      <td>1.100000e+07</td>\n",
       "      <td>29.000000</td>\n",
       "      <td>123.000000</td>\n",
       "      <td>1.000000e+07</td>\n",
       "      <td>14.800000</td>\n",
       "      <td>0.000000</td>\n",
       "    </tr>\n",
       "    <tr>\n",
       "      <th>75%</th>\n",
       "      <td>1.918823e+06</td>\n",
       "      <td>1.625669e+06</td>\n",
       "      <td>125733.000000</td>\n",
       "      <td>1988.000000</td>\n",
       "      <td>1.000000</td>\n",
       "      <td>850.000000</td>\n",
       "      <td>3.500000e+07</td>\n",
       "      <td>NaN</td>\n",
       "      <td>3.000000e+07</td>\n",
       "      <td>0.000000</td>\n",
       "      <td>0.000000</td>\n",
       "      <td>4.000000</td>\n",
       "      <td>3.400000e+07</td>\n",
       "      <td>38.000000</td>\n",
       "      <td>205.000000</td>\n",
       "      <td>2.400000e+07</td>\n",
       "      <td>16.900000</td>\n",
       "      <td>0.000000</td>\n",
       "    </tr>\n",
       "    <tr>\n",
       "      <th>max</th>\n",
       "      <td>2.586231e+06</td>\n",
       "      <td>2.167709e+06</td>\n",
       "      <td>169182.000000</td>\n",
       "      <td>2002.000000</td>\n",
       "      <td>1.000000</td>\n",
       "      <td>1000.000000</td>\n",
       "      <td>8.000000e+09</td>\n",
       "      <td>NaN</td>\n",
       "      <td>1.000000e+10</td>\n",
       "      <td>1.000000</td>\n",
       "      <td>1.000000</td>\n",
       "      <td>76.000000</td>\n",
       "      <td>1.109000e+09</td>\n",
       "      <td>64.000000</td>\n",
       "      <td>270.000000</td>\n",
       "      <td>2.000000e+08</td>\n",
       "      <td>20.000000</td>\n",
       "      <td>1.000000</td>\n",
       "    </tr>\n",
       "  </tbody>\n",
       "</table>\n",
       "</div>"
      ],
      "text/plain": [
       "              index  application_id        user_id    birth_year  \\\n",
       "count  5.800800e+04    5.800800e+04   58008.000000  56798.000000   \n",
       "mean   1.271071e+06    1.089368e+06   83087.060233   1978.565812   \n",
       "std    7.507544e+05    6.230613e+05   49054.084103     12.111764   \n",
       "min    1.620000e+02    1.240000e+02      19.000000   1933.000000   \n",
       "25%    5.999858e+05    5.488585e+05   39372.000000   1970.000000   \n",
       "50%    1.234714e+06    1.097743e+06   80197.000000   1980.000000   \n",
       "75%    1.918823e+06    1.625669e+06  125733.000000   1988.000000   \n",
       "max    2.586231e+06    2.167709e+06  169182.000000   2002.000000   \n",
       "\n",
       "             gender  credit_score  yearly_income  company_enter_month  \\\n",
       "count  56798.000000  49190.000000   5.800800e+04                  0.0   \n",
       "mean       0.465192    753.692417   3.021876e+07                  NaN   \n",
       "std        0.498791    118.077797   1.426775e+08                  NaN   \n",
       "min        0.000000    300.000000   0.000000e+00                  NaN   \n",
       "25%        0.000000    660.000000   1.000000e+07                  NaN   \n",
       "50%        0.000000    740.000000   2.300000e+07                  NaN   \n",
       "75%        1.000000    850.000000   3.500000e+07                  NaN   \n",
       "max        1.000000   1000.000000   8.000000e+09                  NaN   \n",
       "\n",
       "       desired_amount  personal_rehabilitation_yn  \\\n",
       "count    5.800800e+04                58008.000000   \n",
       "mean     3.656842e+07                    0.006206   \n",
       "std      2.130780e+08                    0.078534   \n",
       "min      0.000000e+00                    0.000000   \n",
       "25%      5.000000e+06                    0.000000   \n",
       "50%      1.300000e+07                    0.000000   \n",
       "75%      3.000000e+07                    0.000000   \n",
       "max      1.000000e+10                    1.000000   \n",
       "\n",
       "       personal_rehabilitation_complete_yn  existing_loan_cnt  \\\n",
       "count                         58008.000000       58008.000000   \n",
       "mean                              0.000793           2.618104   \n",
       "std                               0.028149           3.365334   \n",
       "min                               0.000000           0.000000   \n",
       "25%                               0.000000           0.000000   \n",
       "50%                               0.000000           2.000000   \n",
       "75%                               0.000000           4.000000   \n",
       "max                               1.000000          76.000000   \n",
       "\n",
       "       existing_loan_amt       bank_id    product_id    loan_limit  \\\n",
       "count       5.800800e+04  58008.000000  58008.000000  5.800800e+04   \n",
       "mean        3.150799e+07     27.789701    133.035685  1.574021e+07   \n",
       "std         6.137719e+07     17.243293     85.697828  1.560359e+07   \n",
       "min        -1.000000e+02      1.000000      1.000000  0.000000e+00   \n",
       "25%         0.000000e+00     13.000000     56.000000  5.000000e+06   \n",
       "50%         1.100000e+07     29.000000    123.000000  1.000000e+07   \n",
       "75%         3.400000e+07     38.000000    205.000000  2.400000e+07   \n",
       "max         1.109000e+09     64.000000    270.000000  2.000000e+08   \n",
       "\n",
       "          loan_rate    is_applied  \n",
       "count  58008.000000  43739.000000  \n",
       "mean      14.355304      0.152244  \n",
       "std        3.577931      0.359261  \n",
       "min        3.000000      0.000000  \n",
       "25%       11.900000      0.000000  \n",
       "50%       14.800000      0.000000  \n",
       "75%       16.900000      0.000000  \n",
       "max       20.000000      1.000000  "
      ]
     },
     "execution_count": 80,
     "metadata": {},
     "output_type": "execute_result"
    }
   ],
   "source": [
    "df.describe()"
   ]
  },
  {
   "cell_type": "code",
   "execution_count": 81,
   "id": "e401831d",
   "metadata": {
    "ExecuteTime": {
     "end_time": "2022-10-12T12:10:21.987666Z",
     "start_time": "2022-10-12T12:10:21.984311Z"
    }
   },
   "outputs": [
    {
     "data": {
      "text/plain": [
       "44"
      ]
     },
     "execution_count": 81,
     "metadata": {},
     "output_type": "execute_result"
    }
   ],
   "source": [
    "2022-1978"
   ]
  },
  {
   "cell_type": "code",
   "execution_count": null,
   "id": "1de6298d",
   "metadata": {},
   "outputs": [],
   "source": []
  },
  {
   "cell_type": "code",
   "execution_count": 45,
   "id": "7a547cf7",
   "metadata": {
    "ExecuteTime": {
     "end_time": "2022-10-12T11:49:15.762072Z",
     "start_time": "2022-10-12T11:49:15.700159Z"
    }
   },
   "outputs": [],
   "source": [
    "df = merged_df[merged_df['existing_loan_amt'].isnull()==True]"
   ]
  },
  {
   "cell_type": "code",
   "execution_count": 46,
   "id": "c0caa740",
   "metadata": {
    "ExecuteTime": {
     "end_time": "2022-10-12T11:49:18.702061Z",
     "start_time": "2022-10-12T11:49:18.694323Z"
    }
   },
   "outputs": [
    {
     "data": {
      "text/plain": [
       "array([ 1., nan])"
      ]
     },
     "execution_count": 46,
     "metadata": {},
     "output_type": "execute_result"
    }
   ],
   "source": [
    "df['existing_loan_cnt'].unique()"
   ]
  },
  {
   "cell_type": "code",
   "execution_count": 50,
   "id": "40f53f86",
   "metadata": {
    "ExecuteTime": {
     "end_time": "2022-10-12T11:50:08.229592Z",
     "start_time": "2022-10-12T11:50:08.222665Z"
    }
   },
   "outputs": [
    {
     "data": {
      "text/plain": [
       "21372"
      ]
     },
     "execution_count": 50,
     "metadata": {},
     "output_type": "execute_result"
    }
   ],
   "source": [
    "len(df['user_id'].unique())"
   ]
  },
  {
   "cell_type": "code",
   "execution_count": 51,
   "id": "5107826f",
   "metadata": {
    "ExecuteTime": {
     "end_time": "2022-10-12T11:50:58.351969Z",
     "start_time": "2022-10-12T11:50:58.214914Z"
    }
   },
   "outputs": [],
   "source": [
    "x_test = merged_df[merged_df['is_applied'].isnull()==True]"
   ]
  },
  {
   "cell_type": "code",
   "execution_count": 55,
   "id": "9a2f15a9",
   "metadata": {
    "ExecuteTime": {
     "end_time": "2022-10-12T11:52:07.362039Z",
     "start_time": "2022-10-12T11:52:07.320867Z"
    }
   },
   "outputs": [],
   "source": [
    "df2 = x_test[x_test['existing_loan_amt'].isnull()==True]"
   ]
  },
  {
   "cell_type": "code",
   "execution_count": 56,
   "id": "e31ef403",
   "metadata": {
    "ExecuteTime": {
     "end_time": "2022-10-12T11:52:11.276859Z",
     "start_time": "2022-10-12T11:52:11.272361Z"
    }
   },
   "outputs": [
    {
     "data": {
      "text/plain": [
       "array([nan,  1.])"
      ]
     },
     "execution_count": 56,
     "metadata": {},
     "output_type": "execute_result"
    }
   ],
   "source": [
    "df2['existing_loan_cnt'].unique()"
   ]
  },
  {
   "cell_type": "code",
   "execution_count": 57,
   "id": "9f143752",
   "metadata": {
    "ExecuteTime": {
     "end_time": "2022-10-12T11:52:15.163805Z",
     "start_time": "2022-10-12T11:52:15.159662Z"
    }
   },
   "outputs": [
    {
     "data": {
      "text/plain": [
       "6137"
      ]
     },
     "execution_count": 57,
     "metadata": {},
     "output_type": "execute_result"
    }
   ],
   "source": [
    "len(df2['user_id'].unique())"
   ]
  },
  {
   "cell_type": "code",
   "execution_count": null,
   "id": "8f798d49",
   "metadata": {},
   "outputs": [],
   "source": []
  },
  {
   "cell_type": "code",
   "execution_count": 32,
   "id": "53b61ca3",
   "metadata": {
    "ExecuteTime": {
     "end_time": "2022-10-12T11:36:08.087051Z",
     "start_time": "2022-10-12T11:36:07.566940Z"
    }
   },
   "outputs": [
    {
     "data": {
      "image/png": "[encoded data removed]",
      "text/plain": [
       "<Figure size 432x288 with 1 Axes>"
      ]
     },
     "metadata": {
      "needs_background": "light"
     },
     "output_type": "display_data"
    }
   ],
   "source": [
    "box=plt.boxplot(merged_df[merged_df['existing_loan_amt'].isnull()==False]['existing_loan_amt'], )\n",
    "plt.ylim(0,2.05e+08)\n",
    "plt.show()"
   ]
  },
  {
   "cell_type": "code",
   "execution_count": 30,
   "id": "ae652bba",
   "metadata": {
    "ExecuteTime": {
     "end_time": "2022-10-12T11:35:48.439255Z",
     "start_time": "2022-10-12T11:35:48.435079Z"
    }
   },
   "outputs": [
    {
     "data": {
      "text/plain": [
       "array([9.70e+07, 2.05e+08])"
      ]
     },
     "execution_count": 30,
     "metadata": {},
     "output_type": "execute_result"
    }
   ],
   "source": [
    "box['whiskers'][1].get_ydata()"
   ]
  },
  {
   "cell_type": "code",
   "execution_count": 44,
   "id": "8fc9215e",
   "metadata": {
    "ExecuteTime": {
     "end_time": "2022-10-12T11:46:14.370438Z",
     "start_time": "2022-10-12T11:46:14.367120Z"
    }
   },
   "outputs": [
    {
     "data": {
      "text/plain": [
       "(97000000.0, 205000000.0)"
      ]
     },
     "execution_count": 44,
     "metadata": {},
     "output_type": "execute_result"
    }
   ],
   "source": [
    "9.70e+07, 2.05e+08"
   ]
  },
  {
   "cell_type": "code",
   "execution_count": 27,
   "id": "547a8e55",
   "metadata": {
    "ExecuteTime": {
     "end_time": "2022-10-12T11:29:13.355523Z",
     "start_time": "2022-10-12T11:29:13.351569Z"
    }
   },
   "outputs": [
    {
     "data": {
      "text/plain": [
       "array([49000000., 49000000.])"
      ]
     },
     "execution_count": 27,
     "metadata": {},
     "output_type": "execute_result"
    }
   ],
   "source": [
    "box['medians'][0].get_ydata()"
   ]
  },
  {
   "cell_type": "code",
   "execution_count": null,
   "id": "b39190d0",
   "metadata": {},
   "outputs": [],
   "source": [
    "old_id = user_id_list[0]\n",
    "cnt=0\n",
    "for uid in user_id_list:\n",
    "    if uid != old_id:\n",
    "        "
   ]
  },
  {
   "cell_type": "code",
   "execution_count": null,
   "id": "74713ae6",
   "metadata": {},
   "outputs": [],
   "source": []
  }
 ],
 "metadata": {
  "kernelspec": {
   "display_name": "Python 3 (ipykernel)",
   "language": "python",
   "name": "python3"
  },
  "language_info": {
   "codemirror_mode": {
    "name": "ipython",
    "version": 3
   },
   "file_extension": ".py",
   "mimetype": "text/x-python",
   "name": "python",
   "nbconvert_exporter": "python",
   "pygments_lexer": "ipython3",
   "version": "3.8.10"
  },
  "toc": {
   "base_numbering": 1,
   "nav_menu": {},
   "number_sections": true,
   "sideBar": true,
   "skip_h1_title": false,
   "title_cell": "Table of Contents",
   "title_sidebar": "Contents",
   "toc_cell": false,
   "toc_position": {
    "height": "calc(100% - 180px)",
    "left": "10px",
    "top": "150px",
    "width": "153.275px"
   },
   "toc_section_display": true,
   "toc_window_display": false
  },
  "varInspector": {
   "cols": {
    "lenName": 16,
    "lenType": 16,
    "lenVar": 40
   },
   "kernels_config": {
    "python": {
     "delete_cmd_postfix": "",
     "delete_cmd_prefix": "del ",
     "library": "var_list.py",
     "varRefreshCmd": "print(var_dic_list())"
    },
    "r": {
     "delete_cmd_postfix": ") ",
     "delete_cmd_prefix": "rm(",
     "library": "var_list.r",
     "varRefreshCmd": "cat(var_dic_list()) "
    }
   },
   "types_to_exclude": [
    "module",
    "function",
    "builtin_function_or_method",
    "instance",
    "_Feature"
   ],
   "window_display": false
  }
 },
 "nbformat": 4,
 "nbformat_minor": 5
}
