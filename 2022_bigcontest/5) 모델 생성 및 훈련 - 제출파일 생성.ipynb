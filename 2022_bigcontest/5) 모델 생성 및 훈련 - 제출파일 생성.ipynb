{
 "cells": [
  {
   "cell_type": "code",
   "execution_count": 1,
   "id": "22e53ced",
   "metadata": {
    "ExecuteTime": {
     "end_time": "2022-10-14T01:36:14.480871Z",
     "start_time": "2022-10-14T01:36:12.389510Z"
    }
   },
   "outputs": [],
   "source": [
    "import pandas as pd\n",
    "import numpy as np\n",
    "import os\n",
    "import random\n",
    "from copy import deepcopy\n",
    "import math\n",
    "from itertools import product\n",
    "import pickle\n",
    "\n",
    "import joblib\n",
    "from tqdm import tqdm\n",
    "\n",
    "import matplotlib.pyplot as plt\n",
    "import seaborn as sb\n",
    "\n",
    "from sklearn.ensemble import RandomForestClassifier\n",
    "from sklearn.model_selection import train_test_split\n",
    "from sklearn.metrics import f1_score, confusion_matrix, ConfusionMatrixDisplay\n",
    "from supervised.automl import AutoML"
   ]
  },
  {
   "cell_type": "code",
   "execution_count": 7,
   "id": "cb7b9744",
   "metadata": {
    "ExecuteTime": {
     "end_time": "2022-10-13T23:13:06.032767Z",
     "start_time": "2022-10-13T23:12:24.462669Z"
    }
   },
   "outputs": [],
   "source": [
    "tmp = pd.read_csv('./expermData/merged_ver_4_0.csv', index_col=0)\n",
    "tmp.drop(['Unnamed: 0.1'], inplace=True, axis=1)"
   ]
  },
  {
   "cell_type": "code",
   "execution_count": 8,
   "id": "e717d04a",
   "metadata": {
    "ExecuteTime": {
     "end_time": "2022-10-13T23:13:19.563799Z",
     "start_time": "2022-10-13T23:13:19.561669Z"
    }
   },
   "outputs": [],
   "source": [
    "cate_list = [\n",
    "    'income_type',\n",
    "    'employment_type',\n",
    "    'houseown_type',\n",
    "    'purpose',\n",
    "    'gender'\n",
    "]"
   ]
  },
  {
   "cell_type": "code",
   "execution_count": 9,
   "id": "8fd22ab9",
   "metadata": {
    "ExecuteTime": {
     "end_time": "2022-10-13T23:14:20.285315Z",
     "start_time": "2022-10-13T23:13:33.035223Z"
    }
   },
   "outputs": [],
   "source": [
    "for cate in cate_list:\n",
    "    tmp = pd.get_dummies\\\n",
    "    (data = tmp, columns=[cate], prefix=cate)"
   ]
  },
  {
   "cell_type": "code",
   "execution_count": 10,
   "id": "7688391b",
   "metadata": {
    "ExecuteTime": {
     "end_time": "2022-10-13T23:14:45.064259Z",
     "start_time": "2022-10-13T23:14:26.545856Z"
    }
   },
   "outputs": [],
   "source": [
    "tmp['yearly_income'].replace(0, 1, inplace=True)\n",
    "tmp['desired_amount'].replace(0, 1, inplace=True)\n",
    "tmp['ratio_EY'] = tmp['existing_loan_amt']/tmp['yearly_income']\n",
    "tmp['ratio_DY'] = tmp['desired_amount']/tmp['yearly_income']\n",
    "tmp['ratio_LY'] = tmp['loan_limit']/tmp['yearly_income']\n",
    "tmp['ratio_LD'] = tmp['loan_limit']/tmp['desired_amount']\n",
    "tmp['personal_rehabilitation_c'] = tmp['personal_rehabilitation_complete_yn']\n",
    "tmp['personal_rehabilitation_n'] = 0\n",
    "tmp['personal_rehabilitation_y'] = 0\n",
    "tmp.loc[tmp[tmp[\"personal_rehabilitation_yn\"]==0].index, 'personal_rehabilitation_n']=1\n",
    "tmp.loc[tmp[(tmp[\"personal_rehabilitation_yn\"]==1)&\n",
    "           (tmp[\"personal_rehabilitation_complete_yn\"]==0)\n",
    "           ].index, 'personal_rehabilitation_y']=1\n",
    "tmp['time_interval'] = pd.to_datetime(tmp['loanapply_insert_time']) - pd.to_datetime(tmp['insert_time'])\n",
    "tmp['time_interval']=tmp['time_interval'].dt.total_seconds()"
   ]
  },
  {
   "cell_type": "code",
   "execution_count": 11,
   "id": "2c934f6b",
   "metadata": {
    "ExecuteTime": {
     "end_time": "2022-10-13T23:14:55.834248Z",
     "start_time": "2022-10-13T23:14:55.679635Z"
    }
   },
   "outputs": [],
   "source": [
    "tmp['age'] = 2022-tmp['birth_year']"
   ]
  },
  {
   "cell_type": "code",
   "execution_count": 12,
   "id": "b676eedf",
   "metadata": {
    "ExecuteTime": {
     "end_time": "2022-10-13T23:15:12.018398Z",
     "start_time": "2022-10-13T23:15:07.103383Z"
    }
   },
   "outputs": [],
   "source": [
    "tmp['link_account'] = 0\n",
    "tmp.loc[tmp[tmp[\"loan_rate\"]==0].index, 'link_account']=1"
   ]
  },
  {
   "cell_type": "code",
   "execution_count": 13,
   "id": "4f3b3407",
   "metadata": {
    "ExecuteTime": {
     "end_time": "2022-10-13T23:15:23.890597Z",
     "start_time": "2022-10-13T23:15:23.883748Z"
    }
   },
   "outputs": [
    {
     "data": {
      "text/plain": [
       "Index(['application_id', 'user_id', 'birth_year', 'insert_time',\n",
       "       'credit_score', 'yearly_income', 'desired_amount',\n",
       "       'personal_rehabilitation_yn', 'personal_rehabilitation_complete_yn',\n",
       "       'existing_loan_cnt', 'existing_loan_amt', 'loanapply_insert_time',\n",
       "       'bank_id', 'product_id', 'loan_limit', 'loan_rate', 'is_applied',\n",
       "       'work_days', 'income_type_EARNEDINCOME', 'income_type_EARNEDINCOME2',\n",
       "       'income_type_FREELANCER', 'income_type_OTHERINCOME',\n",
       "       'income_type_PRACTITIONER', 'income_type_PRIVATEBUSINESS',\n",
       "       'employment_type_계약직', 'employment_type_기타', 'employment_type_일용직',\n",
       "       'employment_type_정규직', 'houseown_type_기타가족소유', 'houseown_type_배우자',\n",
       "       'houseown_type_자가', 'houseown_type_전월세', 'purpose_기타', 'purpose_대환대출',\n",
       "       'purpose_사업자금', 'purpose_생활비', 'purpose_자동차구입', 'purpose_전월세보증금',\n",
       "       'purpose_주택구입', 'purpose_투자', 'gender_0.0', 'gender_1.0', 'gender_A',\n",
       "       'ratio_EY', 'ratio_DY', 'ratio_LY', 'ratio_LD',\n",
       "       'personal_rehabilitation_c', 'personal_rehabilitation_n',\n",
       "       'personal_rehabilitation_y', 'time_interval', 'age', 'link_account'],\n",
       "      dtype='object')"
      ]
     },
     "execution_count": 13,
     "metadata": {},
     "output_type": "execute_result"
    }
   ],
   "source": [
    "tmp.columns"
   ]
  },
  {
   "cell_type": "code",
   "execution_count": 14,
   "id": "cc8bdfa3",
   "metadata": {
    "ExecuteTime": {
     "end_time": "2022-10-13T23:22:02.354313Z",
     "start_time": "2022-10-13T23:21:59.343151Z"
    }
   },
   "outputs": [],
   "source": [
    "tmp.drop(['houseown_type_배우자',\n",
    " 'personal_rehabilitation_y',\n",
    " 'personal_rehabilitation_n',\n",
    " 'personal_rehabilitation_c',\n",
    " 'purpose_자동차구입',\n",
    " 'gender_A',\n",
    " 'link_account',\n",
    " 'purpose_투자',\n",
    " 'income_type_PRACTITIONER',\n",
    " 'employment_type_일용직',\n",
    " 'purpose_전월세보증금',\n",
    " 'income_type_FREELANCER',\n",
    " 'purpose_기타',\n",
    " 'purpose_주택구입',\n",
    " 'purpose_사업자금',\n",
    " 'income_type_OTHERINCOME'] ,inplace=True,axis=1)"
   ]
  },
  {
   "cell_type": "code",
   "execution_count": 15,
   "id": "9775f34d",
   "metadata": {
    "ExecuteTime": {
     "end_time": "2022-10-13T23:24:27.900653Z",
     "start_time": "2022-10-13T23:22:11.676964Z"
    }
   },
   "outputs": [],
   "source": [
    "tmp.to_csv('./valiData/merged_5_0.csv')"
   ]
  },
  {
   "cell_type": "code",
   "execution_count": null,
   "id": "954e859b",
   "metadata": {},
   "outputs": [],
   "source": []
  },
  {
   "cell_type": "markdown",
   "id": "f0323da4",
   "metadata": {},
   "source": [
    "# 데이터 분리"
   ]
  },
  {
   "cell_type": "code",
   "execution_count": 2,
   "id": "ea2ef3db",
   "metadata": {
    "ExecuteTime": {
     "end_time": "2022-10-14T00:54:30.574844Z",
     "start_time": "2022-10-14T00:53:42.468590Z"
    }
   },
   "outputs": [],
   "source": [
    "df=pd.read_csv('./valiData/merged_5_0.csv',index_col=0)"
   ]
  },
  {
   "cell_type": "code",
   "execution_count": 3,
   "id": "afc573a6",
   "metadata": {
    "ExecuteTime": {
     "end_time": "2022-10-14T00:54:57.136822Z",
     "start_time": "2022-10-14T00:54:57.129359Z"
    }
   },
   "outputs": [
    {
     "data": {
      "text/plain": [
       "Index(['application_id', 'user_id', 'birth_year', 'insert_time',\n",
       "       'credit_score', 'yearly_income', 'desired_amount',\n",
       "       'personal_rehabilitation_yn', 'personal_rehabilitation_complete_yn',\n",
       "       'existing_loan_cnt', 'existing_loan_amt', 'loanapply_insert_time',\n",
       "       'bank_id', 'product_id', 'loan_limit', 'loan_rate', 'is_applied',\n",
       "       'work_days', 'income_type_EARNEDINCOME', 'income_type_EARNEDINCOME2',\n",
       "       'income_type_PRIVATEBUSINESS', 'employment_type_계약직',\n",
       "       'employment_type_기타', 'employment_type_정규직', 'houseown_type_기타가족소유',\n",
       "       'houseown_type_자가', 'houseown_type_전월세', 'purpose_대환대출', 'purpose_생활비',\n",
       "       'gender_0.0', 'gender_1.0', 'ratio_EY', 'ratio_DY', 'ratio_LY',\n",
       "       'ratio_LD', 'time_interval', 'age'],\n",
       "      dtype='object')"
      ]
     },
     "execution_count": 3,
     "metadata": {},
     "output_type": "execute_result"
    }
   ],
   "source": [
    "df.columns"
   ]
  },
  {
   "cell_type": "code",
   "execution_count": 4,
   "id": "bcacd040",
   "metadata": {
    "ExecuteTime": {
     "end_time": "2022-10-14T00:55:23.272222Z",
     "start_time": "2022-10-14T00:55:23.268785Z"
    }
   },
   "outputs": [
    {
     "data": {
      "text/plain": [
       "(13527250, 37)"
      ]
     },
     "execution_count": 4,
     "metadata": {},
     "output_type": "execute_result"
    }
   ],
   "source": [
    "df.shape"
   ]
  },
  {
   "cell_type": "code",
   "execution_count": 5,
   "id": "b703c95f",
   "metadata": {
    "ExecuteTime": {
     "end_time": "2022-10-14T00:55:52.891353Z",
     "start_time": "2022-10-14T00:55:49.478315Z"
    }
   },
   "outputs": [],
   "source": [
    "df.drop(['application_id', 'user_id','insert_time',\n",
    "               'loanapply_insert_time', 'bank_id', 'product_id',\n",
    "               ], axis=1, inplace=True)"
   ]
  },
  {
   "cell_type": "code",
   "execution_count": 6,
   "id": "ce191ceb",
   "metadata": {
    "ExecuteTime": {
     "end_time": "2022-10-14T00:56:20.052124Z",
     "start_time": "2022-10-14T00:56:20.048302Z"
    }
   },
   "outputs": [
    {
     "data": {
      "text/plain": [
       "Index(['birth_year', 'credit_score', 'yearly_income', 'desired_amount',\n",
       "       'personal_rehabilitation_yn', 'personal_rehabilitation_complete_yn',\n",
       "       'existing_loan_cnt', 'existing_loan_amt', 'loan_limit', 'loan_rate',\n",
       "       'is_applied', 'work_days', 'income_type_EARNEDINCOME',\n",
       "       'income_type_EARNEDINCOME2', 'income_type_PRIVATEBUSINESS',\n",
       "       'employment_type_계약직', 'employment_type_기타', 'employment_type_정규직',\n",
       "       'houseown_type_기타가족소유', 'houseown_type_자가', 'houseown_type_전월세',\n",
       "       'purpose_대환대출', 'purpose_생활비', 'gender_0.0', 'gender_1.0', 'ratio_EY',\n",
       "       'ratio_DY', 'ratio_LY', 'ratio_LD', 'time_interval', 'age'],\n",
       "      dtype='object')"
      ]
     },
     "execution_count": 6,
     "metadata": {},
     "output_type": "execute_result"
    }
   ],
   "source": [
    "df.columns"
   ]
  },
  {
   "cell_type": "code",
   "execution_count": 7,
   "id": "52361cf1",
   "metadata": {
    "ExecuteTime": {
     "end_time": "2022-10-14T00:57:00.316620Z",
     "start_time": "2022-10-14T00:56:52.191757Z"
    }
   },
   "outputs": [],
   "source": [
    "model1_train_X = df[(df['is_applied'].isnull()==False)&((df['credit_score'].isnull()==False))].loc[:, df.columns !='is_applied']\n",
    "model1_train_y = df[(df['is_applied'].isnull()==False)&((df['credit_score'].isnull()==False))]['is_applied']\n",
    "model2_train_X = df[(df['is_applied'].isnull()==False)&((df['credit_score'].isnull()==True))].loc[:, df.columns !='is_applied']\n",
    "model2_train_X.drop(['credit_score'], axis=1,inplace=True)\n",
    "model2_train_y = df[(df['is_applied'].isnull()==False)&((df['credit_score'].isnull()==True))]['is_applied']\n",
    "\n",
    "model1_target= df[(df['is_applied'].isnull()==True)&((df['credit_score'].isnull()==False))].loc[:, df.columns !='is_applied']\n",
    "model2_target= df[(df['is_applied'].isnull()==True)&((df['credit_score'].isnull()==True))].loc[:, df.columns !='is_applied']\n",
    "model2_target.drop(['credit_score'], axis=1,inplace=True)"
   ]
  },
  {
   "cell_type": "code",
   "execution_count": 8,
   "id": "bd74420b",
   "metadata": {
    "ExecuteTime": {
     "end_time": "2022-10-14T00:57:52.875963Z",
     "start_time": "2022-10-14T00:57:52.007802Z"
    }
   },
   "outputs": [],
   "source": [
    "model1_train_X = model1_train_X.sample(20_0000, random_state=42)\n",
    "model1_train_y = model1_train_y.sample(20_0000, random_state=42)\n",
    "model2_train_X = model2_train_X.sample(10_0000, random_state=42)\n",
    "model2_train_y = model2_train_y.sample(10_0000, random_state=42)"
   ]
  },
  {
   "cell_type": "code",
   "execution_count": 9,
   "id": "29a0b728",
   "metadata": {
    "ExecuteTime": {
     "end_time": "2022-10-14T00:58:26.390358Z",
     "start_time": "2022-10-14T00:58:26.386948Z"
    }
   },
   "outputs": [
    {
     "data": {
      "text/plain": [
       "((200000, 30), (200000,))"
      ]
     },
     "execution_count": 9,
     "metadata": {},
     "output_type": "execute_result"
    }
   ],
   "source": [
    "model1_train_X.shape, model1_train_y.shape"
   ]
  },
  {
   "cell_type": "code",
   "execution_count": 10,
   "id": "d2eac33a",
   "metadata": {
    "ExecuteTime": {
     "end_time": "2022-10-14T00:58:59.806192Z",
     "start_time": "2022-10-14T00:58:59.801934Z"
    }
   },
   "outputs": [
    {
     "data": {
      "text/plain": [
       "((100000, 29), (100000,))"
      ]
     },
     "execution_count": 10,
     "metadata": {},
     "output_type": "execute_result"
    }
   ],
   "source": [
    "model2_train_X.shape, model2_train_y.shape"
   ]
  },
  {
   "cell_type": "code",
   "execution_count": 11,
   "id": "60cd1ad7",
   "metadata": {
    "ExecuteTime": {
     "end_time": "2022-10-14T00:59:33.180913Z",
     "start_time": "2022-10-14T00:59:33.177152Z"
    }
   },
   "outputs": [
    {
     "data": {
      "text/plain": [
       "((3000756, 30), (256483, 29))"
      ]
     },
     "execution_count": 11,
     "metadata": {},
     "output_type": "execute_result"
    }
   ],
   "source": [
    "model1_target.shape, model2_target.shape, "
   ]
  },
  {
   "cell_type": "code",
   "execution_count": 12,
   "id": "e1431873",
   "metadata": {
    "ExecuteTime": {
     "end_time": "2022-10-14T01:02:21.632121Z",
     "start_time": "2022-10-14T00:59:53.191760Z"
    },
    "scrolled": true
   },
   "outputs": [
    {
     "name": "stdout",
     "output_type": "stream",
     "text": [
      "Linear algorithm was disabled.\n",
      "AutoML directory: AutoML_5\n",
      "The task is binary_classification with evaluation metric logloss\n",
      "AutoML will use algorithms: ['Baseline', 'Decision Tree', 'Random Forest', 'Xgboost', 'Neural Network']\n",
      "AutoML will ensemble available models\n",
      "AutoML steps: ['simple_algorithms', 'default_algorithms', 'ensemble']\n",
      "* Step simple_algorithms will try to check up to 2 models\n",
      "1_Baseline logloss 0.216889 trained in 0.87 seconds\n"
     ]
    },
    {
     "name": "stderr",
     "output_type": "stream",
     "text": [
      "Glyph 44592 (\\N{HANGUL SYLLABLE GI}) missing from current font.\n",
      "Glyph 53440 (\\N{HANGUL SYLLABLE TA}) missing from current font.\n",
      "Glyph 44032 (\\N{HANGUL SYLLABLE GA}) missing from current font.\n",
      "Glyph 51313 (\\N{HANGUL SYLLABLE JOG}) missing from current font.\n",
      "Glyph 49548 (\\N{HANGUL SYLLABLE SO}) missing from current font.\n",
      "Glyph 50976 (\\N{HANGUL SYLLABLE YU}) missing from current font.\n",
      "Glyph 51221 (\\N{HANGUL SYLLABLE JEONG}) missing from current font.\n",
      "Glyph 44508 (\\N{HANGUL SYLLABLE GYU}) missing from current font.\n",
      "Glyph 51649 (\\N{HANGUL SYLLABLE JIG}) missing from current font.\n",
      "Glyph 44228 (\\N{HANGUL SYLLABLE GYE}) missing from current font.\n",
      "Glyph 50557 (\\N{HANGUL SYLLABLE YAG}) missing from current font.\n",
      "Glyph 44592 (\\N{HANGUL SYLLABLE GI}) missing from current font.\n",
      "Glyph 53440 (\\N{HANGUL SYLLABLE TA}) missing from current font.\n",
      "Glyph 44032 (\\N{HANGUL SYLLABLE GA}) missing from current font.\n",
      "Glyph 51313 (\\N{HANGUL SYLLABLE JOG}) missing from current font.\n",
      "Glyph 49548 (\\N{HANGUL SYLLABLE SO}) missing from current font.\n",
      "Glyph 50976 (\\N{HANGUL SYLLABLE YU}) missing from current font.\n",
      "Glyph 51221 (\\N{HANGUL SYLLABLE JEONG}) missing from current font.\n",
      "Glyph 44508 (\\N{HANGUL SYLLABLE GYU}) missing from current font.\n",
      "Glyph 51649 (\\N{HANGUL SYLLABLE JIG}) missing from current font.\n",
      "Glyph 44228 (\\N{HANGUL SYLLABLE GYE}) missing from current font.\n",
      "Glyph 50557 (\\N{HANGUL SYLLABLE YAG}) missing from current font.\n",
      "Glyph 44592 (\\N{HANGUL SYLLABLE GI}) missing from current font.\n",
      "Glyph 53440 (\\N{HANGUL SYLLABLE TA}) missing from current font.\n",
      "Glyph 44032 (\\N{HANGUL SYLLABLE GA}) missing from current font.\n",
      "Glyph 51313 (\\N{HANGUL SYLLABLE JOG}) missing from current font.\n",
      "Glyph 49548 (\\N{HANGUL SYLLABLE SO}) missing from current font.\n",
      "Glyph 50976 (\\N{HANGUL SYLLABLE YU}) missing from current font.\n",
      "Glyph 51221 (\\N{HANGUL SYLLABLE JEONG}) missing from current font.\n",
      "Glyph 44508 (\\N{HANGUL SYLLABLE GYU}) missing from current font.\n",
      "Glyph 51649 (\\N{HANGUL SYLLABLE JIG}) missing from current font.\n",
      "Glyph 44228 (\\N{HANGUL SYLLABLE GYE}) missing from current font.\n",
      "Glyph 50557 (\\N{HANGUL SYLLABLE YAG}) missing from current font.\n",
      "Glyph 44592 (\\N{HANGUL SYLLABLE GI}) missing from current font.\n",
      "Glyph 53440 (\\N{HANGUL SYLLABLE TA}) missing from current font.\n",
      "Glyph 44032 (\\N{HANGUL SYLLABLE GA}) missing from current font.\n",
      "Glyph 51313 (\\N{HANGUL SYLLABLE JOG}) missing from current font.\n",
      "Glyph 49548 (\\N{HANGUL SYLLABLE SO}) missing from current font.\n",
      "Glyph 50976 (\\N{HANGUL SYLLABLE YU}) missing from current font.\n",
      "Glyph 51221 (\\N{HANGUL SYLLABLE JEONG}) missing from current font.\n",
      "Glyph 44508 (\\N{HANGUL SYLLABLE GYU}) missing from current font.\n",
      "Glyph 51649 (\\N{HANGUL SYLLABLE JIG}) missing from current font.\n",
      "Glyph 44228 (\\N{HANGUL SYLLABLE GYE}) missing from current font.\n",
      "Glyph 50557 (\\N{HANGUL SYLLABLE YAG}) missing from current font.\n",
      "Glyph 44592 (\\N{HANGUL SYLLABLE GI}) missing from current font.\n",
      "Glyph 53440 (\\N{HANGUL SYLLABLE TA}) missing from current font.\n",
      "Glyph 44032 (\\N{HANGUL SYLLABLE GA}) missing from current font.\n",
      "Glyph 51313 (\\N{HANGUL SYLLABLE JOG}) missing from current font.\n",
      "Glyph 49548 (\\N{HANGUL SYLLABLE SO}) missing from current font.\n",
      "Glyph 50976 (\\N{HANGUL SYLLABLE YU}) missing from current font.\n",
      "Glyph 51221 (\\N{HANGUL SYLLABLE JEONG}) missing from current font.\n",
      "Glyph 44508 (\\N{HANGUL SYLLABLE GYU}) missing from current font.\n",
      "Glyph 51649 (\\N{HANGUL SYLLABLE JIG}) missing from current font.\n",
      "Glyph 44228 (\\N{HANGUL SYLLABLE GYE}) missing from current font.\n",
      "Glyph 50557 (\\N{HANGUL SYLLABLE YAG}) missing from current font.\n",
      "Glyph 44592 (\\N{HANGUL SYLLABLE GI}) missing from current font.\n",
      "Glyph 53440 (\\N{HANGUL SYLLABLE TA}) missing from current font.\n",
      "Glyph 44032 (\\N{HANGUL SYLLABLE GA}) missing from current font.\n",
      "Glyph 51313 (\\N{HANGUL SYLLABLE JOG}) missing from current font.\n",
      "Glyph 49548 (\\N{HANGUL SYLLABLE SO}) missing from current font.\n",
      "Glyph 50976 (\\N{HANGUL SYLLABLE YU}) missing from current font.\n",
      "Glyph 51221 (\\N{HANGUL SYLLABLE JEONG}) missing from current font.\n",
      "Glyph 44508 (\\N{HANGUL SYLLABLE GYU}) missing from current font.\n",
      "Glyph 51649 (\\N{HANGUL SYLLABLE JIG}) missing from current font.\n",
      "Glyph 44228 (\\N{HANGUL SYLLABLE GYE}) missing from current font.\n",
      "Glyph 50557 (\\N{HANGUL SYLLABLE YAG}) missing from current font.\n"
     ]
    },
    {
     "name": "stdout",
     "output_type": "stream",
     "text": [
      "2_DecisionTree logloss 0.191461 trained in 36.52 seconds\n"
     ]
    },
    {
     "name": "stderr",
     "output_type": "stream",
     "text": [
      "Glyph 44228 (\\N{HANGUL SYLLABLE GYE}) missing from current font.\n",
      "Glyph 50557 (\\N{HANGUL SYLLABLE YAG}) missing from current font.\n",
      "Glyph 51649 (\\N{HANGUL SYLLABLE JIG}) missing from current font.\n",
      "Glyph 44592 (\\N{HANGUL SYLLABLE GI}) missing from current font.\n",
      "Glyph 53440 (\\N{HANGUL SYLLABLE TA}) missing from current font.\n",
      "Glyph 51221 (\\N{HANGUL SYLLABLE JEONG}) missing from current font.\n",
      "Glyph 44508 (\\N{HANGUL SYLLABLE GYU}) missing from current font.\n",
      "Glyph 44032 (\\N{HANGUL SYLLABLE GA}) missing from current font.\n",
      "Glyph 51313 (\\N{HANGUL SYLLABLE JOG}) missing from current font.\n",
      "Glyph 49548 (\\N{HANGUL SYLLABLE SO}) missing from current font.\n",
      "Glyph 50976 (\\N{HANGUL SYLLABLE YU}) missing from current font.\n",
      "Glyph 51088 (\\N{HANGUL SYLLABLE JA}) missing from current font.\n",
      "Glyph 51204 (\\N{HANGUL SYLLABLE JEON}) missing from current font.\n",
      "Glyph 50900 (\\N{HANGUL SYLLABLE WEOL}) missing from current font.\n",
      "Glyph 49464 (\\N{HANGUL SYLLABLE SE}) missing from current font.\n",
      "Glyph 45824 (\\N{HANGUL SYLLABLE DAE}) missing from current font.\n",
      "Glyph 54872 (\\N{HANGUL SYLLABLE HWAN}) missing from current font.\n",
      "Glyph 52636 (\\N{HANGUL SYLLABLE CUL}) missing from current font.\n",
      "Glyph 49373 (\\N{HANGUL SYLLABLE SAENG}) missing from current font.\n",
      "Glyph 54876 (\\N{HANGUL SYLLABLE HWAL}) missing from current font.\n",
      "Glyph 48708 (\\N{HANGUL SYLLABLE BI}) missing from current font.\n",
      "Glyph 44228 (\\N{HANGUL SYLLABLE GYE}) missing from current font.\n",
      "Glyph 50557 (\\N{HANGUL SYLLABLE YAG}) missing from current font.\n",
      "Glyph 51649 (\\N{HANGUL SYLLABLE JIG}) missing from current font.\n",
      "Glyph 44592 (\\N{HANGUL SYLLABLE GI}) missing from current font.\n",
      "Glyph 53440 (\\N{HANGUL SYLLABLE TA}) missing from current font.\n",
      "Glyph 51221 (\\N{HANGUL SYLLABLE JEONG}) missing from current font.\n",
      "Glyph 44508 (\\N{HANGUL SYLLABLE GYU}) missing from current font.\n",
      "Glyph 44032 (\\N{HANGUL SYLLABLE GA}) missing from current font.\n",
      "Glyph 51313 (\\N{HANGUL SYLLABLE JOG}) missing from current font.\n",
      "Glyph 49548 (\\N{HANGUL SYLLABLE SO}) missing from current font.\n",
      "Glyph 50976 (\\N{HANGUL SYLLABLE YU}) missing from current font.\n",
      "Glyph 51088 (\\N{HANGUL SYLLABLE JA}) missing from current font.\n",
      "Glyph 51204 (\\N{HANGUL SYLLABLE JEON}) missing from current font.\n",
      "Glyph 50900 (\\N{HANGUL SYLLABLE WEOL}) missing from current font.\n",
      "Glyph 49464 (\\N{HANGUL SYLLABLE SE}) missing from current font.\n",
      "Glyph 45824 (\\N{HANGUL SYLLABLE DAE}) missing from current font.\n",
      "Glyph 54872 (\\N{HANGUL SYLLABLE HWAN}) missing from current font.\n",
      "Glyph 52636 (\\N{HANGUL SYLLABLE CUL}) missing from current font.\n",
      "Glyph 49373 (\\N{HANGUL SYLLABLE SAENG}) missing from current font.\n",
      "Glyph 54876 (\\N{HANGUL SYLLABLE HWAL}) missing from current font.\n",
      "Glyph 48708 (\\N{HANGUL SYLLABLE BI}) missing from current font.\n",
      "Glyph 44228 (\\N{HANGUL SYLLABLE GYE}) missing from current font.\n",
      "Glyph 50557 (\\N{HANGUL SYLLABLE YAG}) missing from current font.\n",
      "Glyph 51649 (\\N{HANGUL SYLLABLE JIG}) missing from current font.\n",
      "Glyph 44592 (\\N{HANGUL SYLLABLE GI}) missing from current font.\n",
      "Glyph 53440 (\\N{HANGUL SYLLABLE TA}) missing from current font.\n",
      "Glyph 51221 (\\N{HANGUL SYLLABLE JEONG}) missing from current font.\n",
      "Glyph 44508 (\\N{HANGUL SYLLABLE GYU}) missing from current font.\n",
      "Glyph 51088 (\\N{HANGUL SYLLABLE JA}) missing from current font.\n",
      "Glyph 44032 (\\N{HANGUL SYLLABLE GA}) missing from current font.\n",
      "Glyph 51313 (\\N{HANGUL SYLLABLE JOG}) missing from current font.\n",
      "Glyph 49548 (\\N{HANGUL SYLLABLE SO}) missing from current font.\n",
      "Glyph 50976 (\\N{HANGUL SYLLABLE YU}) missing from current font.\n",
      "Glyph 49373 (\\N{HANGUL SYLLABLE SAENG}) missing from current font.\n",
      "Glyph 54876 (\\N{HANGUL SYLLABLE HWAL}) missing from current font.\n",
      "Glyph 48708 (\\N{HANGUL SYLLABLE BI}) missing from current font.\n",
      "Glyph 44228 (\\N{HANGUL SYLLABLE GYE}) missing from current font.\n",
      "Glyph 50557 (\\N{HANGUL SYLLABLE YAG}) missing from current font.\n",
      "Glyph 51649 (\\N{HANGUL SYLLABLE JIG}) missing from current font.\n",
      "Glyph 44592 (\\N{HANGUL SYLLABLE GI}) missing from current font.\n",
      "Glyph 53440 (\\N{HANGUL SYLLABLE TA}) missing from current font.\n",
      "Glyph 51221 (\\N{HANGUL SYLLABLE JEONG}) missing from current font.\n",
      "Glyph 44508 (\\N{HANGUL SYLLABLE GYU}) missing from current font.\n",
      "Glyph 51088 (\\N{HANGUL SYLLABLE JA}) missing from current font.\n",
      "Glyph 44032 (\\N{HANGUL SYLLABLE GA}) missing from current font.\n",
      "Glyph 51313 (\\N{HANGUL SYLLABLE JOG}) missing from current font.\n",
      "Glyph 49548 (\\N{HANGUL SYLLABLE SO}) missing from current font.\n",
      "Glyph 50976 (\\N{HANGUL SYLLABLE YU}) missing from current font.\n",
      "Glyph 49373 (\\N{HANGUL SYLLABLE SAENG}) missing from current font.\n",
      "Glyph 54876 (\\N{HANGUL SYLLABLE HWAL}) missing from current font.\n",
      "Glyph 48708 (\\N{HANGUL SYLLABLE BI}) missing from current font.\n"
     ]
    },
    {
     "name": "stdout",
     "output_type": "stream",
     "text": [
      "* Step default_algorithms will try to check up to 3 models\n"
     ]
    },
    {
     "name": "stderr",
     "output_type": "stream",
     "text": [
      "Glyph 51088 (\\N{HANGUL SYLLABLE JA}) missing from current font.\n",
      "Glyph 44032 (\\N{HANGUL SYLLABLE GA}) missing from current font.\n",
      "Glyph 44592 (\\N{HANGUL SYLLABLE GI}) missing from current font.\n",
      "Glyph 53440 (\\N{HANGUL SYLLABLE TA}) missing from current font.\n",
      "Glyph 49373 (\\N{HANGUL SYLLABLE SAENG}) missing from current font.\n",
      "Glyph 54876 (\\N{HANGUL SYLLABLE HWAL}) missing from current font.\n",
      "Glyph 48708 (\\N{HANGUL SYLLABLE BI}) missing from current font.\n",
      "Glyph 51088 (\\N{HANGUL SYLLABLE JA}) missing from current font.\n",
      "Glyph 44032 (\\N{HANGUL SYLLABLE GA}) missing from current font.\n",
      "Glyph 44592 (\\N{HANGUL SYLLABLE GI}) missing from current font.\n",
      "Glyph 53440 (\\N{HANGUL SYLLABLE TA}) missing from current font.\n",
      "Glyph 49373 (\\N{HANGUL SYLLABLE SAENG}) missing from current font.\n",
      "Glyph 54876 (\\N{HANGUL SYLLABLE HWAL}) missing from current font.\n",
      "Glyph 48708 (\\N{HANGUL SYLLABLE BI}) missing from current font.\n"
     ]
    },
    {
     "name": "stdout",
     "output_type": "stream",
     "text": [
      "Exception while producing SHAP explanations. Passing parameters norm and vmin/vmax simultaneously is not supported. Please pass vmin/vmax directly to the norm when creating it.\n",
      "Continuing ...\n",
      "3_Default_Xgboost logloss 0.16543 trained in 41.23 seconds\n"
     ]
    },
    {
     "name": "stderr",
     "output_type": "stream",
     "text": [
      "Glyph 49373 (\\N{HANGUL SYLLABLE SAENG}) missing from current font.\n",
      "Glyph 54876 (\\N{HANGUL SYLLABLE HWAL}) missing from current font.\n",
      "Glyph 48708 (\\N{HANGUL SYLLABLE BI}) missing from current font.\n",
      "Glyph 44592 (\\N{HANGUL SYLLABLE GI}) missing from current font.\n",
      "Glyph 53440 (\\N{HANGUL SYLLABLE TA}) missing from current font.\n",
      "Glyph 51088 (\\N{HANGUL SYLLABLE JA}) missing from current font.\n",
      "Glyph 44032 (\\N{HANGUL SYLLABLE GA}) missing from current font.\n",
      "Glyph 51313 (\\N{HANGUL SYLLABLE JOG}) missing from current font.\n",
      "Glyph 49548 (\\N{HANGUL SYLLABLE SO}) missing from current font.\n",
      "Glyph 50976 (\\N{HANGUL SYLLABLE YU}) missing from current font.\n",
      "Glyph 45824 (\\N{HANGUL SYLLABLE DAE}) missing from current font.\n",
      "Glyph 54872 (\\N{HANGUL SYLLABLE HWAN}) missing from current font.\n",
      "Glyph 52636 (\\N{HANGUL SYLLABLE CUL}) missing from current font.\n",
      "Glyph 51221 (\\N{HANGUL SYLLABLE JEONG}) missing from current font.\n",
      "Glyph 44508 (\\N{HANGUL SYLLABLE GYU}) missing from current font.\n",
      "Glyph 51649 (\\N{HANGUL SYLLABLE JIG}) missing from current font.\n",
      "Glyph 49373 (\\N{HANGUL SYLLABLE SAENG}) missing from current font.\n",
      "Glyph 54876 (\\N{HANGUL SYLLABLE HWAL}) missing from current font.\n",
      "Glyph 48708 (\\N{HANGUL SYLLABLE BI}) missing from current font.\n",
      "Glyph 44592 (\\N{HANGUL SYLLABLE GI}) missing from current font.\n",
      "Glyph 53440 (\\N{HANGUL SYLLABLE TA}) missing from current font.\n",
      "Glyph 51088 (\\N{HANGUL SYLLABLE JA}) missing from current font.\n",
      "Glyph 44032 (\\N{HANGUL SYLLABLE GA}) missing from current font.\n",
      "Glyph 51313 (\\N{HANGUL SYLLABLE JOG}) missing from current font.\n",
      "Glyph 49548 (\\N{HANGUL SYLLABLE SO}) missing from current font.\n",
      "Glyph 50976 (\\N{HANGUL SYLLABLE YU}) missing from current font.\n",
      "Glyph 45824 (\\N{HANGUL SYLLABLE DAE}) missing from current font.\n",
      "Glyph 54872 (\\N{HANGUL SYLLABLE HWAN}) missing from current font.\n",
      "Glyph 52636 (\\N{HANGUL SYLLABLE CUL}) missing from current font.\n",
      "Glyph 51221 (\\N{HANGUL SYLLABLE JEONG}) missing from current font.\n",
      "Glyph 44508 (\\N{HANGUL SYLLABLE GYU}) missing from current font.\n",
      "Glyph 51649 (\\N{HANGUL SYLLABLE JIG}) missing from current font.\n",
      "Glyph 49373 (\\N{HANGUL SYLLABLE SAENG}) missing from current font.\n",
      "Glyph 54876 (\\N{HANGUL SYLLABLE HWAL}) missing from current font.\n",
      "Glyph 48708 (\\N{HANGUL SYLLABLE BI}) missing from current font.\n",
      "Glyph 44592 (\\N{HANGUL SYLLABLE GI}) missing from current font.\n",
      "Glyph 53440 (\\N{HANGUL SYLLABLE TA}) missing from current font.\n",
      "Glyph 51088 (\\N{HANGUL SYLLABLE JA}) missing from current font.\n",
      "Glyph 44032 (\\N{HANGUL SYLLABLE GA}) missing from current font.\n",
      "Glyph 51313 (\\N{HANGUL SYLLABLE JOG}) missing from current font.\n",
      "Glyph 49548 (\\N{HANGUL SYLLABLE SO}) missing from current font.\n",
      "Glyph 50976 (\\N{HANGUL SYLLABLE YU}) missing from current font.\n",
      "Glyph 45824 (\\N{HANGUL SYLLABLE DAE}) missing from current font.\n",
      "Glyph 54872 (\\N{HANGUL SYLLABLE HWAN}) missing from current font.\n",
      "Glyph 52636 (\\N{HANGUL SYLLABLE CUL}) missing from current font.\n",
      "Glyph 44228 (\\N{HANGUL SYLLABLE GYE}) missing from current font.\n",
      "Glyph 50557 (\\N{HANGUL SYLLABLE YAG}) missing from current font.\n",
      "Glyph 51649 (\\N{HANGUL SYLLABLE JIG}) missing from current font.\n",
      "Glyph 51221 (\\N{HANGUL SYLLABLE JEONG}) missing from current font.\n",
      "Glyph 44508 (\\N{HANGUL SYLLABLE GYU}) missing from current font.\n",
      "Glyph 49373 (\\N{HANGUL SYLLABLE SAENG}) missing from current font.\n",
      "Glyph 54876 (\\N{HANGUL SYLLABLE HWAL}) missing from current font.\n",
      "Glyph 48708 (\\N{HANGUL SYLLABLE BI}) missing from current font.\n",
      "Glyph 44592 (\\N{HANGUL SYLLABLE GI}) missing from current font.\n",
      "Glyph 53440 (\\N{HANGUL SYLLABLE TA}) missing from current font.\n",
      "Glyph 51088 (\\N{HANGUL SYLLABLE JA}) missing from current font.\n",
      "Glyph 44032 (\\N{HANGUL SYLLABLE GA}) missing from current font.\n",
      "Glyph 51313 (\\N{HANGUL SYLLABLE JOG}) missing from current font.\n",
      "Glyph 49548 (\\N{HANGUL SYLLABLE SO}) missing from current font.\n",
      "Glyph 50976 (\\N{HANGUL SYLLABLE YU}) missing from current font.\n",
      "Glyph 45824 (\\N{HANGUL SYLLABLE DAE}) missing from current font.\n",
      "Glyph 54872 (\\N{HANGUL SYLLABLE HWAN}) missing from current font.\n",
      "Glyph 52636 (\\N{HANGUL SYLLABLE CUL}) missing from current font.\n",
      "Glyph 44228 (\\N{HANGUL SYLLABLE GYE}) missing from current font.\n",
      "Glyph 50557 (\\N{HANGUL SYLLABLE YAG}) missing from current font.\n",
      "Glyph 51649 (\\N{HANGUL SYLLABLE JIG}) missing from current font.\n",
      "Glyph 51221 (\\N{HANGUL SYLLABLE JEONG}) missing from current font.\n",
      "Glyph 44508 (\\N{HANGUL SYLLABLE GYU}) missing from current font.\n"
     ]
    },
    {
     "name": "stdout",
     "output_type": "stream",
     "text": [
      "4_Default_NeuralNetwork logloss 0.181073 trained in 36.5 seconds\n"
     ]
    },
    {
     "name": "stderr",
     "output_type": "stream",
     "text": [
      "Glyph 51204 (\\N{HANGUL SYLLABLE JEON}) missing from current font.\n",
      "Glyph 50900 (\\N{HANGUL SYLLABLE WEOL}) missing from current font.\n",
      "Glyph 49464 (\\N{HANGUL SYLLABLE SE}) missing from current font.\n",
      "Glyph 51088 (\\N{HANGUL SYLLABLE JA}) missing from current font.\n",
      "Glyph 44032 (\\N{HANGUL SYLLABLE GA}) missing from current font.\n",
      "Glyph 44592 (\\N{HANGUL SYLLABLE GI}) missing from current font.\n",
      "Glyph 53440 (\\N{HANGUL SYLLABLE TA}) missing from current font.\n",
      "Glyph 51313 (\\N{HANGUL SYLLABLE JOG}) missing from current font.\n",
      "Glyph 49548 (\\N{HANGUL SYLLABLE SO}) missing from current font.\n",
      "Glyph 50976 (\\N{HANGUL SYLLABLE YU}) missing from current font.\n",
      "Glyph 49373 (\\N{HANGUL SYLLABLE SAENG}) missing from current font.\n",
      "Glyph 54876 (\\N{HANGUL SYLLABLE HWAL}) missing from current font.\n",
      "Glyph 48708 (\\N{HANGUL SYLLABLE BI}) missing from current font.\n",
      "Glyph 51221 (\\N{HANGUL SYLLABLE JEONG}) missing from current font.\n",
      "Glyph 44508 (\\N{HANGUL SYLLABLE GYU}) missing from current font.\n",
      "Glyph 51649 (\\N{HANGUL SYLLABLE JIG}) missing from current font.\n",
      "Glyph 44228 (\\N{HANGUL SYLLABLE GYE}) missing from current font.\n",
      "Glyph 50557 (\\N{HANGUL SYLLABLE YAG}) missing from current font.\n",
      "Glyph 51204 (\\N{HANGUL SYLLABLE JEON}) missing from current font.\n",
      "Glyph 50900 (\\N{HANGUL SYLLABLE WEOL}) missing from current font.\n",
      "Glyph 49464 (\\N{HANGUL SYLLABLE SE}) missing from current font.\n",
      "Glyph 51088 (\\N{HANGUL SYLLABLE JA}) missing from current font.\n",
      "Glyph 44032 (\\N{HANGUL SYLLABLE GA}) missing from current font.\n",
      "Glyph 44592 (\\N{HANGUL SYLLABLE GI}) missing from current font.\n",
      "Glyph 53440 (\\N{HANGUL SYLLABLE TA}) missing from current font.\n",
      "Glyph 51313 (\\N{HANGUL SYLLABLE JOG}) missing from current font.\n",
      "Glyph 49548 (\\N{HANGUL SYLLABLE SO}) missing from current font.\n",
      "Glyph 50976 (\\N{HANGUL SYLLABLE YU}) missing from current font.\n",
      "Glyph 49373 (\\N{HANGUL SYLLABLE SAENG}) missing from current font.\n",
      "Glyph 54876 (\\N{HANGUL SYLLABLE HWAL}) missing from current font.\n",
      "Glyph 48708 (\\N{HANGUL SYLLABLE BI}) missing from current font.\n",
      "Glyph 51221 (\\N{HANGUL SYLLABLE JEONG}) missing from current font.\n",
      "Glyph 44508 (\\N{HANGUL SYLLABLE GYU}) missing from current font.\n",
      "Glyph 51649 (\\N{HANGUL SYLLABLE JIG}) missing from current font.\n",
      "Glyph 44228 (\\N{HANGUL SYLLABLE GYE}) missing from current font.\n",
      "Glyph 50557 (\\N{HANGUL SYLLABLE YAG}) missing from current font.\n",
      "Glyph 44228 (\\N{HANGUL SYLLABLE GYE}) missing from current font.\n",
      "Glyph 50557 (\\N{HANGUL SYLLABLE YAG}) missing from current font.\n",
      "Glyph 51649 (\\N{HANGUL SYLLABLE JIG}) missing from current font.\n",
      "Glyph 44592 (\\N{HANGUL SYLLABLE GI}) missing from current font.\n",
      "Glyph 53440 (\\N{HANGUL SYLLABLE TA}) missing from current font.\n",
      "Glyph 44228 (\\N{HANGUL SYLLABLE GYE}) missing from current font.\n",
      "Glyph 50557 (\\N{HANGUL SYLLABLE YAG}) missing from current font.\n",
      "Glyph 51649 (\\N{HANGUL SYLLABLE JIG}) missing from current font.\n",
      "Glyph 44592 (\\N{HANGUL SYLLABLE GI}) missing from current font.\n",
      "Glyph 53440 (\\N{HANGUL SYLLABLE TA}) missing from current font.\n",
      "Glyph 44228 (\\N{HANGUL SYLLABLE GYE}) missing from current font.\n",
      "Glyph 50557 (\\N{HANGUL SYLLABLE YAG}) missing from current font.\n",
      "Glyph 51649 (\\N{HANGUL SYLLABLE JIG}) missing from current font.\n",
      "Glyph 44592 (\\N{HANGUL SYLLABLE GI}) missing from current font.\n",
      "Glyph 53440 (\\N{HANGUL SYLLABLE TA}) missing from current font.\n",
      "Glyph 44228 (\\N{HANGUL SYLLABLE GYE}) missing from current font.\n",
      "Glyph 50557 (\\N{HANGUL SYLLABLE YAG}) missing from current font.\n",
      "Glyph 51649 (\\N{HANGUL SYLLABLE JIG}) missing from current font.\n",
      "Glyph 44592 (\\N{HANGUL SYLLABLE GI}) missing from current font.\n",
      "Glyph 53440 (\\N{HANGUL SYLLABLE TA}) missing from current font.\n",
      "Glyph 44228 (\\N{HANGUL SYLLABLE GYE}) missing from current font.\n",
      "Glyph 50557 (\\N{HANGUL SYLLABLE YAG}) missing from current font.\n",
      "Glyph 51649 (\\N{HANGUL SYLLABLE JIG}) missing from current font.\n",
      "Glyph 44592 (\\N{HANGUL SYLLABLE GI}) missing from current font.\n",
      "Glyph 53440 (\\N{HANGUL SYLLABLE TA}) missing from current font.\n",
      "Glyph 44228 (\\N{HANGUL SYLLABLE GYE}) missing from current font.\n",
      "Glyph 50557 (\\N{HANGUL SYLLABLE YAG}) missing from current font.\n",
      "Glyph 51649 (\\N{HANGUL SYLLABLE JIG}) missing from current font.\n",
      "Glyph 44592 (\\N{HANGUL SYLLABLE GI}) missing from current font.\n",
      "Glyph 53440 (\\N{HANGUL SYLLABLE TA}) missing from current font.\n"
     ]
    },
    {
     "name": "stdout",
     "output_type": "stream",
     "text": [
      "5_Default_RandomForest logloss 0.182692 trained in 20.65 seconds\n"
     ]
    },
    {
     "name": "stderr",
     "output_type": "stream",
     "text": [
      "Glyph 44592 (\\N{HANGUL SYLLABLE GI}) missing from current font.\n",
      "Glyph 53440 (\\N{HANGUL SYLLABLE TA}) missing from current font.\n",
      "Glyph 44228 (\\N{HANGUL SYLLABLE GYE}) missing from current font.\n",
      "Glyph 50557 (\\N{HANGUL SYLLABLE YAG}) missing from current font.\n",
      "Glyph 51649 (\\N{HANGUL SYLLABLE JIG}) missing from current font.\n",
      "Glyph 51221 (\\N{HANGUL SYLLABLE JEONG}) missing from current font.\n",
      "Glyph 44508 (\\N{HANGUL SYLLABLE GYU}) missing from current font.\n",
      "Glyph 44032 (\\N{HANGUL SYLLABLE GA}) missing from current font.\n",
      "Glyph 51313 (\\N{HANGUL SYLLABLE JOG}) missing from current font.\n",
      "Glyph 49548 (\\N{HANGUL SYLLABLE SO}) missing from current font.\n",
      "Glyph 50976 (\\N{HANGUL SYLLABLE YU}) missing from current font.\n",
      "Glyph 51088 (\\N{HANGUL SYLLABLE JA}) missing from current font.\n",
      "Glyph 51204 (\\N{HANGUL SYLLABLE JEON}) missing from current font.\n",
      "Glyph 50900 (\\N{HANGUL SYLLABLE WEOL}) missing from current font.\n",
      "Glyph 49464 (\\N{HANGUL SYLLABLE SE}) missing from current font.\n",
      "Glyph 44592 (\\N{HANGUL SYLLABLE GI}) missing from current font.\n",
      "Glyph 53440 (\\N{HANGUL SYLLABLE TA}) missing from current font.\n",
      "Glyph 44228 (\\N{HANGUL SYLLABLE GYE}) missing from current font.\n",
      "Glyph 50557 (\\N{HANGUL SYLLABLE YAG}) missing from current font.\n",
      "Glyph 51649 (\\N{HANGUL SYLLABLE JIG}) missing from current font.\n",
      "Glyph 51221 (\\N{HANGUL SYLLABLE JEONG}) missing from current font.\n",
      "Glyph 44508 (\\N{HANGUL SYLLABLE GYU}) missing from current font.\n",
      "Glyph 44032 (\\N{HANGUL SYLLABLE GA}) missing from current font.\n",
      "Glyph 51313 (\\N{HANGUL SYLLABLE JOG}) missing from current font.\n",
      "Glyph 49548 (\\N{HANGUL SYLLABLE SO}) missing from current font.\n",
      "Glyph 50976 (\\N{HANGUL SYLLABLE YU}) missing from current font.\n",
      "Glyph 51088 (\\N{HANGUL SYLLABLE JA}) missing from current font.\n",
      "Glyph 51204 (\\N{HANGUL SYLLABLE JEON}) missing from current font.\n",
      "Glyph 50900 (\\N{HANGUL SYLLABLE WEOL}) missing from current font.\n",
      "Glyph 49464 (\\N{HANGUL SYLLABLE SE}) missing from current font.\n",
      "Glyph 44592 (\\N{HANGUL SYLLABLE GI}) missing from current font.\n",
      "Glyph 53440 (\\N{HANGUL SYLLABLE TA}) missing from current font.\n",
      "Glyph 51221 (\\N{HANGUL SYLLABLE JEONG}) missing from current font.\n",
      "Glyph 44508 (\\N{HANGUL SYLLABLE GYU}) missing from current font.\n",
      "Glyph 51649 (\\N{HANGUL SYLLABLE JIG}) missing from current font.\n",
      "Glyph 44228 (\\N{HANGUL SYLLABLE GYE}) missing from current font.\n",
      "Glyph 50557 (\\N{HANGUL SYLLABLE YAG}) missing from current font.\n",
      "Glyph 49373 (\\N{HANGUL SYLLABLE SAENG}) missing from current font.\n",
      "Glyph 54876 (\\N{HANGUL SYLLABLE HWAL}) missing from current font.\n",
      "Glyph 48708 (\\N{HANGUL SYLLABLE BI}) missing from current font.\n",
      "Glyph 44032 (\\N{HANGUL SYLLABLE GA}) missing from current font.\n",
      "Glyph 51313 (\\N{HANGUL SYLLABLE JOG}) missing from current font.\n",
      "Glyph 49548 (\\N{HANGUL SYLLABLE SO}) missing from current font.\n",
      "Glyph 50976 (\\N{HANGUL SYLLABLE YU}) missing from current font.\n",
      "Glyph 51204 (\\N{HANGUL SYLLABLE JEON}) missing from current font.\n",
      "Glyph 50900 (\\N{HANGUL SYLLABLE WEOL}) missing from current font.\n",
      "Glyph 49464 (\\N{HANGUL SYLLABLE SE}) missing from current font.\n",
      "Glyph 45824 (\\N{HANGUL SYLLABLE DAE}) missing from current font.\n",
      "Glyph 54872 (\\N{HANGUL SYLLABLE HWAN}) missing from current font.\n",
      "Glyph 52636 (\\N{HANGUL SYLLABLE CUL}) missing from current font.\n",
      "Glyph 44592 (\\N{HANGUL SYLLABLE GI}) missing from current font.\n",
      "Glyph 53440 (\\N{HANGUL SYLLABLE TA}) missing from current font.\n",
      "Glyph 51221 (\\N{HANGUL SYLLABLE JEONG}) missing from current font.\n",
      "Glyph 44508 (\\N{HANGUL SYLLABLE GYU}) missing from current font.\n",
      "Glyph 51649 (\\N{HANGUL SYLLABLE JIG}) missing from current font.\n",
      "Glyph 44228 (\\N{HANGUL SYLLABLE GYE}) missing from current font.\n",
      "Glyph 50557 (\\N{HANGUL SYLLABLE YAG}) missing from current font.\n",
      "Glyph 49373 (\\N{HANGUL SYLLABLE SAENG}) missing from current font.\n",
      "Glyph 54876 (\\N{HANGUL SYLLABLE HWAL}) missing from current font.\n",
      "Glyph 48708 (\\N{HANGUL SYLLABLE BI}) missing from current font.\n",
      "Glyph 44032 (\\N{HANGUL SYLLABLE GA}) missing from current font.\n",
      "Glyph 51313 (\\N{HANGUL SYLLABLE JOG}) missing from current font.\n",
      "Glyph 49548 (\\N{HANGUL SYLLABLE SO}) missing from current font.\n",
      "Glyph 50976 (\\N{HANGUL SYLLABLE YU}) missing from current font.\n",
      "Glyph 51204 (\\N{HANGUL SYLLABLE JEON}) missing from current font.\n",
      "Glyph 50900 (\\N{HANGUL SYLLABLE WEOL}) missing from current font.\n",
      "Glyph 49464 (\\N{HANGUL SYLLABLE SE}) missing from current font.\n",
      "Glyph 45824 (\\N{HANGUL SYLLABLE DAE}) missing from current font.\n",
      "Glyph 54872 (\\N{HANGUL SYLLABLE HWAN}) missing from current font.\n",
      "Glyph 52636 (\\N{HANGUL SYLLABLE CUL}) missing from current font.\n"
     ]
    },
    {
     "name": "stdout",
     "output_type": "stream",
     "text": [
      "* Step ensemble will try to check up to 1 model\n",
      "Ensemble logloss 0.16543 trained in 6.26 seconds\n"
     ]
    },
    {
     "name": "stderr",
     "output_type": "stream",
     "text": [
      "Glyph 51204 (\\N{HANGUL SYLLABLE JEON}) missing from current font.\n",
      "Glyph 50900 (\\N{HANGUL SYLLABLE WEOL}) missing from current font.\n",
      "Glyph 49464 (\\N{HANGUL SYLLABLE SE}) missing from current font.\n",
      "Glyph 51088 (\\N{HANGUL SYLLABLE JA}) missing from current font.\n",
      "Glyph 44032 (\\N{HANGUL SYLLABLE GA}) missing from current font.\n",
      "Glyph 49373 (\\N{HANGUL SYLLABLE SAENG}) missing from current font.\n",
      "Glyph 54876 (\\N{HANGUL SYLLABLE HWAL}) missing from current font.\n",
      "Glyph 48708 (\\N{HANGUL SYLLABLE BI}) missing from current font.\n",
      "Glyph 44592 (\\N{HANGUL SYLLABLE GI}) missing from current font.\n",
      "Glyph 53440 (\\N{HANGUL SYLLABLE TA}) missing from current font.\n",
      "Glyph 51313 (\\N{HANGUL SYLLABLE JOG}) missing from current font.\n",
      "Glyph 49548 (\\N{HANGUL SYLLABLE SO}) missing from current font.\n",
      "Glyph 50976 (\\N{HANGUL SYLLABLE YU}) missing from current font.\n",
      "Glyph 51221 (\\N{HANGUL SYLLABLE JEONG}) missing from current font.\n",
      "Glyph 44508 (\\N{HANGUL SYLLABLE GYU}) missing from current font.\n",
      "Glyph 51649 (\\N{HANGUL SYLLABLE JIG}) missing from current font.\n",
      "Glyph 51204 (\\N{HANGUL SYLLABLE JEON}) missing from current font.\n",
      "Glyph 50900 (\\N{HANGUL SYLLABLE WEOL}) missing from current font.\n",
      "Glyph 49464 (\\N{HANGUL SYLLABLE SE}) missing from current font.\n",
      "Glyph 51088 (\\N{HANGUL SYLLABLE JA}) missing from current font.\n",
      "Glyph 44032 (\\N{HANGUL SYLLABLE GA}) missing from current font.\n",
      "Glyph 49373 (\\N{HANGUL SYLLABLE SAENG}) missing from current font.\n",
      "Glyph 54876 (\\N{HANGUL SYLLABLE HWAL}) missing from current font.\n",
      "Glyph 48708 (\\N{HANGUL SYLLABLE BI}) missing from current font.\n",
      "Glyph 44592 (\\N{HANGUL SYLLABLE GI}) missing from current font.\n",
      "Glyph 53440 (\\N{HANGUL SYLLABLE TA}) missing from current font.\n",
      "Glyph 51313 (\\N{HANGUL SYLLABLE JOG}) missing from current font.\n",
      "Glyph 49548 (\\N{HANGUL SYLLABLE SO}) missing from current font.\n",
      "Glyph 50976 (\\N{HANGUL SYLLABLE YU}) missing from current font.\n",
      "Glyph 51221 (\\N{HANGUL SYLLABLE JEONG}) missing from current font.\n",
      "Glyph 44508 (\\N{HANGUL SYLLABLE GYU}) missing from current font.\n",
      "Glyph 51649 (\\N{HANGUL SYLLABLE JIG}) missing from current font.\n"
     ]
    },
    {
     "name": "stdout",
     "output_type": "stream",
     "text": [
      "AutoML fit time: 148.43 seconds\n",
      "AutoML best model: 3_Default_Xgboost\n"
     ]
    },
    {
     "data": {
      "text/plain": [
       "AutoML()"
      ]
     },
     "execution_count": 12,
     "metadata": {},
     "output_type": "execute_result"
    }
   ],
   "source": [
    "model1 = AutoML()\n",
    "model1.fit(model1_train_X, model1_train_y)"
   ]
  },
  {
   "cell_type": "code",
   "execution_count": 13,
   "id": "ec423a4c",
   "metadata": {
    "ExecuteTime": {
     "end_time": "2022-10-14T01:03:02.672124Z",
     "start_time": "2022-10-14T01:02:52.793795Z"
    }
   },
   "outputs": [],
   "source": [
    "model1_target['predict']=model1.predict(model1_target)"
   ]
  },
  {
   "cell_type": "code",
   "execution_count": 14,
   "id": "a8ca8669",
   "metadata": {
    "ExecuteTime": {
     "end_time": "2022-10-14T01:04:30.823224Z",
     "start_time": "2022-10-14T01:03:33.178170Z"
    }
   },
   "outputs": [
    {
     "name": "stdout",
     "output_type": "stream",
     "text": [
      "Linear algorithm was disabled.\n",
      "AutoML directory: AutoML_6\n",
      "The task is binary_classification with evaluation metric logloss\n",
      "AutoML will use algorithms: ['Baseline', 'Decision Tree', 'Random Forest', 'Xgboost', 'Neural Network']\n",
      "AutoML will ensemble available models\n",
      "AutoML steps: ['simple_algorithms', 'default_algorithms', 'ensemble']\n",
      "* Step simple_algorithms will try to check up to 2 models\n",
      "1_Baseline logloss 0.165777 trained in 0.66 seconds\n"
     ]
    },
    {
     "name": "stderr",
     "output_type": "stream",
     "text": [
      "Glyph 51204 (\\N{HANGUL SYLLABLE JEON}) missing from current font.\n",
      "Glyph 50900 (\\N{HANGUL SYLLABLE WEOL}) missing from current font.\n",
      "Glyph 49464 (\\N{HANGUL SYLLABLE SE}) missing from current font.\n",
      "Glyph 51088 (\\N{HANGUL SYLLABLE JA}) missing from current font.\n",
      "Glyph 44032 (\\N{HANGUL SYLLABLE GA}) missing from current font.\n",
      "Glyph 44592 (\\N{HANGUL SYLLABLE GI}) missing from current font.\n",
      "Glyph 53440 (\\N{HANGUL SYLLABLE TA}) missing from current font.\n",
      "Glyph 51313 (\\N{HANGUL SYLLABLE JOG}) missing from current font.\n",
      "Glyph 49548 (\\N{HANGUL SYLLABLE SO}) missing from current font.\n",
      "Glyph 50976 (\\N{HANGUL SYLLABLE YU}) missing from current font.\n",
      "Glyph 51221 (\\N{HANGUL SYLLABLE JEONG}) missing from current font.\n",
      "Glyph 44508 (\\N{HANGUL SYLLABLE GYU}) missing from current font.\n",
      "Glyph 51649 (\\N{HANGUL SYLLABLE JIG}) missing from current font.\n",
      "Glyph 44228 (\\N{HANGUL SYLLABLE GYE}) missing from current font.\n",
      "Glyph 50557 (\\N{HANGUL SYLLABLE YAG}) missing from current font.\n",
      "Glyph 51204 (\\N{HANGUL SYLLABLE JEON}) missing from current font.\n",
      "Glyph 50900 (\\N{HANGUL SYLLABLE WEOL}) missing from current font.\n",
      "Glyph 49464 (\\N{HANGUL SYLLABLE SE}) missing from current font.\n",
      "Glyph 51088 (\\N{HANGUL SYLLABLE JA}) missing from current font.\n",
      "Glyph 44032 (\\N{HANGUL SYLLABLE GA}) missing from current font.\n",
      "Glyph 44592 (\\N{HANGUL SYLLABLE GI}) missing from current font.\n",
      "Glyph 53440 (\\N{HANGUL SYLLABLE TA}) missing from current font.\n",
      "Glyph 51313 (\\N{HANGUL SYLLABLE JOG}) missing from current font.\n",
      "Glyph 49548 (\\N{HANGUL SYLLABLE SO}) missing from current font.\n",
      "Glyph 50976 (\\N{HANGUL SYLLABLE YU}) missing from current font.\n",
      "Glyph 51221 (\\N{HANGUL SYLLABLE JEONG}) missing from current font.\n",
      "Glyph 44508 (\\N{HANGUL SYLLABLE GYU}) missing from current font.\n",
      "Glyph 51649 (\\N{HANGUL SYLLABLE JIG}) missing from current font.\n",
      "Glyph 44228 (\\N{HANGUL SYLLABLE GYE}) missing from current font.\n",
      "Glyph 50557 (\\N{HANGUL SYLLABLE YAG}) missing from current font.\n",
      "Glyph 51204 (\\N{HANGUL SYLLABLE JEON}) missing from current font.\n",
      "Glyph 50900 (\\N{HANGUL SYLLABLE WEOL}) missing from current font.\n",
      "Glyph 49464 (\\N{HANGUL SYLLABLE SE}) missing from current font.\n",
      "Glyph 51088 (\\N{HANGUL SYLLABLE JA}) missing from current font.\n",
      "Glyph 44032 (\\N{HANGUL SYLLABLE GA}) missing from current font.\n",
      "Glyph 44592 (\\N{HANGUL SYLLABLE GI}) missing from current font.\n",
      "Glyph 53440 (\\N{HANGUL SYLLABLE TA}) missing from current font.\n",
      "Glyph 51313 (\\N{HANGUL SYLLABLE JOG}) missing from current font.\n",
      "Glyph 49548 (\\N{HANGUL SYLLABLE SO}) missing from current font.\n",
      "Glyph 50976 (\\N{HANGUL SYLLABLE YU}) missing from current font.\n",
      "Glyph 51221 (\\N{HANGUL SYLLABLE JEONG}) missing from current font.\n",
      "Glyph 44508 (\\N{HANGUL SYLLABLE GYU}) missing from current font.\n",
      "Glyph 51649 (\\N{HANGUL SYLLABLE JIG}) missing from current font.\n",
      "Glyph 44228 (\\N{HANGUL SYLLABLE GYE}) missing from current font.\n",
      "Glyph 50557 (\\N{HANGUL SYLLABLE YAG}) missing from current font.\n",
      "Glyph 51204 (\\N{HANGUL SYLLABLE JEON}) missing from current font.\n",
      "Glyph 50900 (\\N{HANGUL SYLLABLE WEOL}) missing from current font.\n",
      "Glyph 49464 (\\N{HANGUL SYLLABLE SE}) missing from current font.\n",
      "Glyph 51088 (\\N{HANGUL SYLLABLE JA}) missing from current font.\n",
      "Glyph 44032 (\\N{HANGUL SYLLABLE GA}) missing from current font.\n",
      "Glyph 44592 (\\N{HANGUL SYLLABLE GI}) missing from current font.\n",
      "Glyph 53440 (\\N{HANGUL SYLLABLE TA}) missing from current font.\n",
      "Glyph 51313 (\\N{HANGUL SYLLABLE JOG}) missing from current font.\n",
      "Glyph 49548 (\\N{HANGUL SYLLABLE SO}) missing from current font.\n",
      "Glyph 50976 (\\N{HANGUL SYLLABLE YU}) missing from current font.\n",
      "Glyph 51221 (\\N{HANGUL SYLLABLE JEONG}) missing from current font.\n",
      "Glyph 44508 (\\N{HANGUL SYLLABLE GYU}) missing from current font.\n",
      "Glyph 51649 (\\N{HANGUL SYLLABLE JIG}) missing from current font.\n",
      "Glyph 44228 (\\N{HANGUL SYLLABLE GYE}) missing from current font.\n",
      "Glyph 50557 (\\N{HANGUL SYLLABLE YAG}) missing from current font.\n",
      "Glyph 51204 (\\N{HANGUL SYLLABLE JEON}) missing from current font.\n",
      "Glyph 50900 (\\N{HANGUL SYLLABLE WEOL}) missing from current font.\n",
      "Glyph 49464 (\\N{HANGUL SYLLABLE SE}) missing from current font.\n",
      "Glyph 51088 (\\N{HANGUL SYLLABLE JA}) missing from current font.\n",
      "Glyph 44032 (\\N{HANGUL SYLLABLE GA}) missing from current font.\n",
      "Glyph 44592 (\\N{HANGUL SYLLABLE GI}) missing from current font.\n",
      "Glyph 53440 (\\N{HANGUL SYLLABLE TA}) missing from current font.\n",
      "Glyph 51313 (\\N{HANGUL SYLLABLE JOG}) missing from current font.\n",
      "Glyph 49548 (\\N{HANGUL SYLLABLE SO}) missing from current font.\n",
      "Glyph 50976 (\\N{HANGUL SYLLABLE YU}) missing from current font.\n",
      "Glyph 51221 (\\N{HANGUL SYLLABLE JEONG}) missing from current font.\n",
      "Glyph 44508 (\\N{HANGUL SYLLABLE GYU}) missing from current font.\n",
      "Glyph 51649 (\\N{HANGUL SYLLABLE JIG}) missing from current font.\n",
      "Glyph 44228 (\\N{HANGUL SYLLABLE GYE}) missing from current font.\n",
      "Glyph 50557 (\\N{HANGUL SYLLABLE YAG}) missing from current font.\n",
      "Glyph 51204 (\\N{HANGUL SYLLABLE JEON}) missing from current font.\n",
      "Glyph 50900 (\\N{HANGUL SYLLABLE WEOL}) missing from current font.\n",
      "Glyph 49464 (\\N{HANGUL SYLLABLE SE}) missing from current font.\n",
      "Glyph 51088 (\\N{HANGUL SYLLABLE JA}) missing from current font.\n",
      "Glyph 44032 (\\N{HANGUL SYLLABLE GA}) missing from current font.\n",
      "Glyph 44592 (\\N{HANGUL SYLLABLE GI}) missing from current font.\n",
      "Glyph 53440 (\\N{HANGUL SYLLABLE TA}) missing from current font.\n",
      "Glyph 51313 (\\N{HANGUL SYLLABLE JOG}) missing from current font.\n",
      "Glyph 49548 (\\N{HANGUL SYLLABLE SO}) missing from current font.\n",
      "Glyph 50976 (\\N{HANGUL SYLLABLE YU}) missing from current font.\n",
      "Glyph 51221 (\\N{HANGUL SYLLABLE JEONG}) missing from current font.\n",
      "Glyph 44508 (\\N{HANGUL SYLLABLE GYU}) missing from current font.\n",
      "Glyph 51649 (\\N{HANGUL SYLLABLE JIG}) missing from current font.\n",
      "Glyph 44228 (\\N{HANGUL SYLLABLE GYE}) missing from current font.\n",
      "Glyph 50557 (\\N{HANGUL SYLLABLE YAG}) missing from current font.\n"
     ]
    },
    {
     "name": "stdout",
     "output_type": "stream",
     "text": [
      "2_DecisionTree logloss 0.149589 trained in 13.38 seconds\n"
     ]
    },
    {
     "name": "stderr",
     "output_type": "stream",
     "text": [
      "Glyph 44228 (\\N{HANGUL SYLLABLE GYE}) missing from current font.\n",
      "Glyph 50557 (\\N{HANGUL SYLLABLE YAG}) missing from current font.\n",
      "Glyph 51649 (\\N{HANGUL SYLLABLE JIG}) missing from current font.\n",
      "Glyph 51221 (\\N{HANGUL SYLLABLE JEONG}) missing from current font.\n",
      "Glyph 44508 (\\N{HANGUL SYLLABLE GYU}) missing from current font.\n",
      "Glyph 44592 (\\N{HANGUL SYLLABLE GI}) missing from current font.\n",
      "Glyph 53440 (\\N{HANGUL SYLLABLE TA}) missing from current font.\n",
      "Glyph 44032 (\\N{HANGUL SYLLABLE GA}) missing from current font.\n",
      "Glyph 51313 (\\N{HANGUL SYLLABLE JOG}) missing from current font.\n",
      "Glyph 49548 (\\N{HANGUL SYLLABLE SO}) missing from current font.\n",
      "Glyph 50976 (\\N{HANGUL SYLLABLE YU}) missing from current font.\n",
      "Glyph 51088 (\\N{HANGUL SYLLABLE JA}) missing from current font.\n",
      "Glyph 51204 (\\N{HANGUL SYLLABLE JEON}) missing from current font.\n",
      "Glyph 50900 (\\N{HANGUL SYLLABLE WEOL}) missing from current font.\n",
      "Glyph 49464 (\\N{HANGUL SYLLABLE SE}) missing from current font.\n",
      "Glyph 45824 (\\N{HANGUL SYLLABLE DAE}) missing from current font.\n",
      "Glyph 54872 (\\N{HANGUL SYLLABLE HWAN}) missing from current font.\n",
      "Glyph 52636 (\\N{HANGUL SYLLABLE CUL}) missing from current font.\n",
      "Glyph 49373 (\\N{HANGUL SYLLABLE SAENG}) missing from current font.\n",
      "Glyph 54876 (\\N{HANGUL SYLLABLE HWAL}) missing from current font.\n",
      "Glyph 48708 (\\N{HANGUL SYLLABLE BI}) missing from current font.\n",
      "Glyph 44228 (\\N{HANGUL SYLLABLE GYE}) missing from current font.\n",
      "Glyph 50557 (\\N{HANGUL SYLLABLE YAG}) missing from current font.\n",
      "Glyph 51649 (\\N{HANGUL SYLLABLE JIG}) missing from current font.\n",
      "Glyph 51221 (\\N{HANGUL SYLLABLE JEONG}) missing from current font.\n",
      "Glyph 44508 (\\N{HANGUL SYLLABLE GYU}) missing from current font.\n",
      "Glyph 44592 (\\N{HANGUL SYLLABLE GI}) missing from current font.\n",
      "Glyph 53440 (\\N{HANGUL SYLLABLE TA}) missing from current font.\n",
      "Glyph 44032 (\\N{HANGUL SYLLABLE GA}) missing from current font.\n",
      "Glyph 51313 (\\N{HANGUL SYLLABLE JOG}) missing from current font.\n",
      "Glyph 49548 (\\N{HANGUL SYLLABLE SO}) missing from current font.\n",
      "Glyph 50976 (\\N{HANGUL SYLLABLE YU}) missing from current font.\n",
      "Glyph 51088 (\\N{HANGUL SYLLABLE JA}) missing from current font.\n",
      "Glyph 51204 (\\N{HANGUL SYLLABLE JEON}) missing from current font.\n",
      "Glyph 50900 (\\N{HANGUL SYLLABLE WEOL}) missing from current font.\n",
      "Glyph 49464 (\\N{HANGUL SYLLABLE SE}) missing from current font.\n",
      "Glyph 45824 (\\N{HANGUL SYLLABLE DAE}) missing from current font.\n",
      "Glyph 54872 (\\N{HANGUL SYLLABLE HWAN}) missing from current font.\n",
      "Glyph 52636 (\\N{HANGUL SYLLABLE CUL}) missing from current font.\n",
      "Glyph 49373 (\\N{HANGUL SYLLABLE SAENG}) missing from current font.\n",
      "Glyph 54876 (\\N{HANGUL SYLLABLE HWAL}) missing from current font.\n",
      "Glyph 48708 (\\N{HANGUL SYLLABLE BI}) missing from current font.\n",
      "Glyph 44592 (\\N{HANGUL SYLLABLE GI}) missing from current font.\n",
      "Glyph 53440 (\\N{HANGUL SYLLABLE TA}) missing from current font.\n",
      "Glyph 44228 (\\N{HANGUL SYLLABLE GYE}) missing from current font.\n",
      "Glyph 50557 (\\N{HANGUL SYLLABLE YAG}) missing from current font.\n",
      "Glyph 51649 (\\N{HANGUL SYLLABLE JIG}) missing from current font.\n",
      "Glyph 51221 (\\N{HANGUL SYLLABLE JEONG}) missing from current font.\n",
      "Glyph 44508 (\\N{HANGUL SYLLABLE GYU}) missing from current font.\n",
      "Glyph 51204 (\\N{HANGUL SYLLABLE JEON}) missing from current font.\n",
      "Glyph 50900 (\\N{HANGUL SYLLABLE WEOL}) missing from current font.\n",
      "Glyph 49464 (\\N{HANGUL SYLLABLE SE}) missing from current font.\n",
      "Glyph 51088 (\\N{HANGUL SYLLABLE JA}) missing from current font.\n",
      "Glyph 44032 (\\N{HANGUL SYLLABLE GA}) missing from current font.\n",
      "Glyph 45824 (\\N{HANGUL SYLLABLE DAE}) missing from current font.\n",
      "Glyph 54872 (\\N{HANGUL SYLLABLE HWAN}) missing from current font.\n",
      "Glyph 52636 (\\N{HANGUL SYLLABLE CUL}) missing from current font.\n",
      "Glyph 49373 (\\N{HANGUL SYLLABLE SAENG}) missing from current font.\n",
      "Glyph 54876 (\\N{HANGUL SYLLABLE HWAL}) missing from current font.\n",
      "Glyph 48708 (\\N{HANGUL SYLLABLE BI}) missing from current font.\n",
      "Glyph 44592 (\\N{HANGUL SYLLABLE GI}) missing from current font.\n",
      "Glyph 53440 (\\N{HANGUL SYLLABLE TA}) missing from current font.\n",
      "Glyph 44228 (\\N{HANGUL SYLLABLE GYE}) missing from current font.\n",
      "Glyph 50557 (\\N{HANGUL SYLLABLE YAG}) missing from current font.\n",
      "Glyph 51649 (\\N{HANGUL SYLLABLE JIG}) missing from current font.\n",
      "Glyph 51221 (\\N{HANGUL SYLLABLE JEONG}) missing from current font.\n",
      "Glyph 44508 (\\N{HANGUL SYLLABLE GYU}) missing from current font.\n",
      "Glyph 51204 (\\N{HANGUL SYLLABLE JEON}) missing from current font.\n",
      "Glyph 50900 (\\N{HANGUL SYLLABLE WEOL}) missing from current font.\n",
      "Glyph 49464 (\\N{HANGUL SYLLABLE SE}) missing from current font.\n",
      "Glyph 51088 (\\N{HANGUL SYLLABLE JA}) missing from current font.\n",
      "Glyph 44032 (\\N{HANGUL SYLLABLE GA}) missing from current font.\n",
      "Glyph 45824 (\\N{HANGUL SYLLABLE DAE}) missing from current font.\n",
      "Glyph 54872 (\\N{HANGUL SYLLABLE HWAN}) missing from current font.\n",
      "Glyph 52636 (\\N{HANGUL SYLLABLE CUL}) missing from current font.\n",
      "Glyph 49373 (\\N{HANGUL SYLLABLE SAENG}) missing from current font.\n",
      "Glyph 54876 (\\N{HANGUL SYLLABLE HWAL}) missing from current font.\n",
      "Glyph 48708 (\\N{HANGUL SYLLABLE BI}) missing from current font.\n"
     ]
    },
    {
     "name": "stdout",
     "output_type": "stream",
     "text": [
      "* Step default_algorithms will try to check up to 3 models\n"
     ]
    },
    {
     "name": "stderr",
     "output_type": "stream",
     "text": [
      "Glyph 51221 (\\N{HANGUL SYLLABLE JEONG}) missing from current font.\n",
      "Glyph 44508 (\\N{HANGUL SYLLABLE GYU}) missing from current font.\n",
      "Glyph 51649 (\\N{HANGUL SYLLABLE JIG}) missing from current font.\n",
      "Glyph 51088 (\\N{HANGUL SYLLABLE JA}) missing from current font.\n",
      "Glyph 44032 (\\N{HANGUL SYLLABLE GA}) missing from current font.\n",
      "Glyph 44592 (\\N{HANGUL SYLLABLE GI}) missing from current font.\n",
      "Glyph 53440 (\\N{HANGUL SYLLABLE TA}) missing from current font.\n",
      "Glyph 51313 (\\N{HANGUL SYLLABLE JOG}) missing from current font.\n",
      "Glyph 49548 (\\N{HANGUL SYLLABLE SO}) missing from current font.\n",
      "Glyph 50976 (\\N{HANGUL SYLLABLE YU}) missing from current font.\n",
      "Glyph 45824 (\\N{HANGUL SYLLABLE DAE}) missing from current font.\n",
      "Glyph 54872 (\\N{HANGUL SYLLABLE HWAN}) missing from current font.\n",
      "Glyph 52636 (\\N{HANGUL SYLLABLE CUL}) missing from current font.\n",
      "Glyph 49373 (\\N{HANGUL SYLLABLE SAENG}) missing from current font.\n",
      "Glyph 54876 (\\N{HANGUL SYLLABLE HWAL}) missing from current font.\n",
      "Glyph 48708 (\\N{HANGUL SYLLABLE BI}) missing from current font.\n",
      "Glyph 51221 (\\N{HANGUL SYLLABLE JEONG}) missing from current font.\n",
      "Glyph 44508 (\\N{HANGUL SYLLABLE GYU}) missing from current font.\n",
      "Glyph 51649 (\\N{HANGUL SYLLABLE JIG}) missing from current font.\n",
      "Glyph 51088 (\\N{HANGUL SYLLABLE JA}) missing from current font.\n",
      "Glyph 44032 (\\N{HANGUL SYLLABLE GA}) missing from current font.\n",
      "Glyph 44592 (\\N{HANGUL SYLLABLE GI}) missing from current font.\n",
      "Glyph 53440 (\\N{HANGUL SYLLABLE TA}) missing from current font.\n",
      "Glyph 51313 (\\N{HANGUL SYLLABLE JOG}) missing from current font.\n",
      "Glyph 49548 (\\N{HANGUL SYLLABLE SO}) missing from current font.\n",
      "Glyph 50976 (\\N{HANGUL SYLLABLE YU}) missing from current font.\n",
      "Glyph 45824 (\\N{HANGUL SYLLABLE DAE}) missing from current font.\n",
      "Glyph 54872 (\\N{HANGUL SYLLABLE HWAN}) missing from current font.\n",
      "Glyph 52636 (\\N{HANGUL SYLLABLE CUL}) missing from current font.\n",
      "Glyph 49373 (\\N{HANGUL SYLLABLE SAENG}) missing from current font.\n",
      "Glyph 54876 (\\N{HANGUL SYLLABLE HWAL}) missing from current font.\n",
      "Glyph 48708 (\\N{HANGUL SYLLABLE BI}) missing from current font.\n"
     ]
    },
    {
     "name": "stdout",
     "output_type": "stream",
     "text": [
      "Exception while producing SHAP explanations. Passing parameters norm and vmin/vmax simultaneously is not supported. Please pass vmin/vmax directly to the norm when creating it.\n",
      "Continuing ...\n",
      "3_Default_Xgboost logloss 0.132478 trained in 9.86 seconds\n"
     ]
    },
    {
     "name": "stderr",
     "output_type": "stream",
     "text": [
      "Glyph 49373 (\\N{HANGUL SYLLABLE SAENG}) missing from current font.\n",
      "Glyph 54876 (\\N{HANGUL SYLLABLE HWAL}) missing from current font.\n",
      "Glyph 48708 (\\N{HANGUL SYLLABLE BI}) missing from current font.\n",
      "Glyph 44592 (\\N{HANGUL SYLLABLE GI}) missing from current font.\n",
      "Glyph 53440 (\\N{HANGUL SYLLABLE TA}) missing from current font.\n",
      "Glyph 45824 (\\N{HANGUL SYLLABLE DAE}) missing from current font.\n",
      "Glyph 54872 (\\N{HANGUL SYLLABLE HWAN}) missing from current font.\n",
      "Glyph 52636 (\\N{HANGUL SYLLABLE CUL}) missing from current font.\n",
      "Glyph 51088 (\\N{HANGUL SYLLABLE JA}) missing from current font.\n",
      "Glyph 44032 (\\N{HANGUL SYLLABLE GA}) missing from current font.\n",
      "Glyph 51313 (\\N{HANGUL SYLLABLE JOG}) missing from current font.\n",
      "Glyph 49548 (\\N{HANGUL SYLLABLE SO}) missing from current font.\n",
      "Glyph 50976 (\\N{HANGUL SYLLABLE YU}) missing from current font.\n",
      "Glyph 51221 (\\N{HANGUL SYLLABLE JEONG}) missing from current font.\n",
      "Glyph 44508 (\\N{HANGUL SYLLABLE GYU}) missing from current font.\n",
      "Glyph 51649 (\\N{HANGUL SYLLABLE JIG}) missing from current font.\n",
      "Glyph 51204 (\\N{HANGUL SYLLABLE JEON}) missing from current font.\n",
      "Glyph 50900 (\\N{HANGUL SYLLABLE WEOL}) missing from current font.\n",
      "Glyph 49464 (\\N{HANGUL SYLLABLE SE}) missing from current font.\n",
      "Glyph 49373 (\\N{HANGUL SYLLABLE SAENG}) missing from current font.\n",
      "Glyph 54876 (\\N{HANGUL SYLLABLE HWAL}) missing from current font.\n",
      "Glyph 48708 (\\N{HANGUL SYLLABLE BI}) missing from current font.\n",
      "Glyph 44592 (\\N{HANGUL SYLLABLE GI}) missing from current font.\n",
      "Glyph 53440 (\\N{HANGUL SYLLABLE TA}) missing from current font.\n",
      "Glyph 45824 (\\N{HANGUL SYLLABLE DAE}) missing from current font.\n",
      "Glyph 54872 (\\N{HANGUL SYLLABLE HWAN}) missing from current font.\n",
      "Glyph 52636 (\\N{HANGUL SYLLABLE CUL}) missing from current font.\n",
      "Glyph 51088 (\\N{HANGUL SYLLABLE JA}) missing from current font.\n",
      "Glyph 44032 (\\N{HANGUL SYLLABLE GA}) missing from current font.\n",
      "Glyph 51313 (\\N{HANGUL SYLLABLE JOG}) missing from current font.\n",
      "Glyph 49548 (\\N{HANGUL SYLLABLE SO}) missing from current font.\n",
      "Glyph 50976 (\\N{HANGUL SYLLABLE YU}) missing from current font.\n",
      "Glyph 51221 (\\N{HANGUL SYLLABLE JEONG}) missing from current font.\n",
      "Glyph 44508 (\\N{HANGUL SYLLABLE GYU}) missing from current font.\n",
      "Glyph 51649 (\\N{HANGUL SYLLABLE JIG}) missing from current font.\n",
      "Glyph 51204 (\\N{HANGUL SYLLABLE JEON}) missing from current font.\n",
      "Glyph 50900 (\\N{HANGUL SYLLABLE WEOL}) missing from current font.\n",
      "Glyph 49464 (\\N{HANGUL SYLLABLE SE}) missing from current font.\n",
      "Glyph 49373 (\\N{HANGUL SYLLABLE SAENG}) missing from current font.\n",
      "Glyph 54876 (\\N{HANGUL SYLLABLE HWAL}) missing from current font.\n",
      "Glyph 48708 (\\N{HANGUL SYLLABLE BI}) missing from current font.\n",
      "Glyph 45824 (\\N{HANGUL SYLLABLE DAE}) missing from current font.\n",
      "Glyph 54872 (\\N{HANGUL SYLLABLE HWAN}) missing from current font.\n",
      "Glyph 52636 (\\N{HANGUL SYLLABLE CUL}) missing from current font.\n",
      "Glyph 44592 (\\N{HANGUL SYLLABLE GI}) missing from current font.\n",
      "Glyph 53440 (\\N{HANGUL SYLLABLE TA}) missing from current font.\n",
      "Glyph 44032 (\\N{HANGUL SYLLABLE GA}) missing from current font.\n",
      "Glyph 51313 (\\N{HANGUL SYLLABLE JOG}) missing from current font.\n",
      "Glyph 49548 (\\N{HANGUL SYLLABLE SO}) missing from current font.\n",
      "Glyph 50976 (\\N{HANGUL SYLLABLE YU}) missing from current font.\n",
      "Glyph 51088 (\\N{HANGUL SYLLABLE JA}) missing from current font.\n",
      "Glyph 51221 (\\N{HANGUL SYLLABLE JEONG}) missing from current font.\n",
      "Glyph 44508 (\\N{HANGUL SYLLABLE GYU}) missing from current font.\n",
      "Glyph 51649 (\\N{HANGUL SYLLABLE JIG}) missing from current font.\n",
      "Glyph 51204 (\\N{HANGUL SYLLABLE JEON}) missing from current font.\n",
      "Glyph 50900 (\\N{HANGUL SYLLABLE WEOL}) missing from current font.\n",
      "Glyph 49464 (\\N{HANGUL SYLLABLE SE}) missing from current font.\n",
      "Glyph 49373 (\\N{HANGUL SYLLABLE SAENG}) missing from current font.\n",
      "Glyph 54876 (\\N{HANGUL SYLLABLE HWAL}) missing from current font.\n",
      "Glyph 48708 (\\N{HANGUL SYLLABLE BI}) missing from current font.\n",
      "Glyph 45824 (\\N{HANGUL SYLLABLE DAE}) missing from current font.\n",
      "Glyph 54872 (\\N{HANGUL SYLLABLE HWAN}) missing from current font.\n",
      "Glyph 52636 (\\N{HANGUL SYLLABLE CUL}) missing from current font.\n",
      "Glyph 44592 (\\N{HANGUL SYLLABLE GI}) missing from current font.\n",
      "Glyph 53440 (\\N{HANGUL SYLLABLE TA}) missing from current font.\n",
      "Glyph 44032 (\\N{HANGUL SYLLABLE GA}) missing from current font.\n",
      "Glyph 51313 (\\N{HANGUL SYLLABLE JOG}) missing from current font.\n",
      "Glyph 49548 (\\N{HANGUL SYLLABLE SO}) missing from current font.\n",
      "Glyph 50976 (\\N{HANGUL SYLLABLE YU}) missing from current font.\n",
      "Glyph 51088 (\\N{HANGUL SYLLABLE JA}) missing from current font.\n",
      "Glyph 51221 (\\N{HANGUL SYLLABLE JEONG}) missing from current font.\n",
      "Glyph 44508 (\\N{HANGUL SYLLABLE GYU}) missing from current font.\n",
      "Glyph 51649 (\\N{HANGUL SYLLABLE JIG}) missing from current font.\n",
      "Glyph 51204 (\\N{HANGUL SYLLABLE JEON}) missing from current font.\n",
      "Glyph 50900 (\\N{HANGUL SYLLABLE WEOL}) missing from current font.\n",
      "Glyph 49464 (\\N{HANGUL SYLLABLE SE}) missing from current font.\n"
     ]
    },
    {
     "name": "stdout",
     "output_type": "stream",
     "text": [
      "4_Default_NeuralNetwork logloss 0.144856 trained in 14.61 seconds\n"
     ]
    },
    {
     "name": "stderr",
     "output_type": "stream",
     "text": [
      "Glyph 51088 (\\N{HANGUL SYLLABLE JA}) missing from current font.\n",
      "Glyph 44032 (\\N{HANGUL SYLLABLE GA}) missing from current font.\n",
      "Glyph 49373 (\\N{HANGUL SYLLABLE SAENG}) missing from current font.\n",
      "Glyph 54876 (\\N{HANGUL SYLLABLE HWAL}) missing from current font.\n",
      "Glyph 48708 (\\N{HANGUL SYLLABLE BI}) missing from current font.\n",
      "Glyph 51204 (\\N{HANGUL SYLLABLE JEON}) missing from current font.\n",
      "Glyph 50900 (\\N{HANGUL SYLLABLE WEOL}) missing from current font.\n",
      "Glyph 49464 (\\N{HANGUL SYLLABLE SE}) missing from current font.\n",
      "Glyph 51221 (\\N{HANGUL SYLLABLE JEONG}) missing from current font.\n",
      "Glyph 44508 (\\N{HANGUL SYLLABLE GYU}) missing from current font.\n",
      "Glyph 51649 (\\N{HANGUL SYLLABLE JIG}) missing from current font.\n",
      "Glyph 44592 (\\N{HANGUL SYLLABLE GI}) missing from current font.\n",
      "Glyph 53440 (\\N{HANGUL SYLLABLE TA}) missing from current font.\n",
      "Glyph 51313 (\\N{HANGUL SYLLABLE JOG}) missing from current font.\n",
      "Glyph 49548 (\\N{HANGUL SYLLABLE SO}) missing from current font.\n",
      "Glyph 50976 (\\N{HANGUL SYLLABLE YU}) missing from current font.\n",
      "Glyph 45824 (\\N{HANGUL SYLLABLE DAE}) missing from current font.\n",
      "Glyph 54872 (\\N{HANGUL SYLLABLE HWAN}) missing from current font.\n",
      "Glyph 52636 (\\N{HANGUL SYLLABLE CUL}) missing from current font.\n",
      "Glyph 44228 (\\N{HANGUL SYLLABLE GYE}) missing from current font.\n",
      "Glyph 50557 (\\N{HANGUL SYLLABLE YAG}) missing from current font.\n",
      "Glyph 51088 (\\N{HANGUL SYLLABLE JA}) missing from current font.\n",
      "Glyph 44032 (\\N{HANGUL SYLLABLE GA}) missing from current font.\n",
      "Glyph 49373 (\\N{HANGUL SYLLABLE SAENG}) missing from current font.\n",
      "Glyph 54876 (\\N{HANGUL SYLLABLE HWAL}) missing from current font.\n",
      "Glyph 48708 (\\N{HANGUL SYLLABLE BI}) missing from current font.\n",
      "Glyph 51204 (\\N{HANGUL SYLLABLE JEON}) missing from current font.\n",
      "Glyph 50900 (\\N{HANGUL SYLLABLE WEOL}) missing from current font.\n",
      "Glyph 49464 (\\N{HANGUL SYLLABLE SE}) missing from current font.\n",
      "Glyph 51221 (\\N{HANGUL SYLLABLE JEONG}) missing from current font.\n",
      "Glyph 44508 (\\N{HANGUL SYLLABLE GYU}) missing from current font.\n",
      "Glyph 51649 (\\N{HANGUL SYLLABLE JIG}) missing from current font.\n",
      "Glyph 44592 (\\N{HANGUL SYLLABLE GI}) missing from current font.\n",
      "Glyph 53440 (\\N{HANGUL SYLLABLE TA}) missing from current font.\n",
      "Glyph 51313 (\\N{HANGUL SYLLABLE JOG}) missing from current font.\n",
      "Glyph 49548 (\\N{HANGUL SYLLABLE SO}) missing from current font.\n",
      "Glyph 50976 (\\N{HANGUL SYLLABLE YU}) missing from current font.\n",
      "Glyph 45824 (\\N{HANGUL SYLLABLE DAE}) missing from current font.\n",
      "Glyph 54872 (\\N{HANGUL SYLLABLE HWAN}) missing from current font.\n",
      "Glyph 52636 (\\N{HANGUL SYLLABLE CUL}) missing from current font.\n",
      "Glyph 44228 (\\N{HANGUL SYLLABLE GYE}) missing from current font.\n",
      "Glyph 50557 (\\N{HANGUL SYLLABLE YAG}) missing from current font.\n",
      "Glyph 51204 (\\N{HANGUL SYLLABLE JEON}) missing from current font.\n",
      "Glyph 50900 (\\N{HANGUL SYLLABLE WEOL}) missing from current font.\n",
      "Glyph 49464 (\\N{HANGUL SYLLABLE SE}) missing from current font.\n",
      "Glyph 51088 (\\N{HANGUL SYLLABLE JA}) missing from current font.\n",
      "Glyph 44032 (\\N{HANGUL SYLLABLE GA}) missing from current font.\n",
      "Glyph 45824 (\\N{HANGUL SYLLABLE DAE}) missing from current font.\n",
      "Glyph 54872 (\\N{HANGUL SYLLABLE HWAN}) missing from current font.\n",
      "Glyph 52636 (\\N{HANGUL SYLLABLE CUL}) missing from current font.\n",
      "Glyph 49373 (\\N{HANGUL SYLLABLE SAENG}) missing from current font.\n",
      "Glyph 54876 (\\N{HANGUL SYLLABLE HWAL}) missing from current font.\n",
      "Glyph 48708 (\\N{HANGUL SYLLABLE BI}) missing from current font.\n",
      "Glyph 44592 (\\N{HANGUL SYLLABLE GI}) missing from current font.\n",
      "Glyph 53440 (\\N{HANGUL SYLLABLE TA}) missing from current font.\n",
      "Glyph 51204 (\\N{HANGUL SYLLABLE JEON}) missing from current font.\n",
      "Glyph 50900 (\\N{HANGUL SYLLABLE WEOL}) missing from current font.\n",
      "Glyph 49464 (\\N{HANGUL SYLLABLE SE}) missing from current font.\n",
      "Glyph 51088 (\\N{HANGUL SYLLABLE JA}) missing from current font.\n",
      "Glyph 44032 (\\N{HANGUL SYLLABLE GA}) missing from current font.\n",
      "Glyph 45824 (\\N{HANGUL SYLLABLE DAE}) missing from current font.\n",
      "Glyph 54872 (\\N{HANGUL SYLLABLE HWAN}) missing from current font.\n",
      "Glyph 52636 (\\N{HANGUL SYLLABLE CUL}) missing from current font.\n",
      "Glyph 49373 (\\N{HANGUL SYLLABLE SAENG}) missing from current font.\n",
      "Glyph 54876 (\\N{HANGUL SYLLABLE HWAL}) missing from current font.\n",
      "Glyph 48708 (\\N{HANGUL SYLLABLE BI}) missing from current font.\n",
      "Glyph 44592 (\\N{HANGUL SYLLABLE GI}) missing from current font.\n",
      "Glyph 53440 (\\N{HANGUL SYLLABLE TA}) missing from current font.\n"
     ]
    },
    {
     "name": "stdout",
     "output_type": "stream",
     "text": [
      "Exception while producing SHAP explanations. Passing parameters norm and vmin/vmax simultaneously is not supported. Please pass vmin/vmax directly to the norm when creating it.\n",
      "Continuing ...\n",
      "5_Default_RandomForest logloss 0.142654 trained in 10.05 seconds\n"
     ]
    },
    {
     "name": "stderr",
     "output_type": "stream",
     "text": [
      "Glyph 44592 (\\N{HANGUL SYLLABLE GI}) missing from current font.\n",
      "Glyph 53440 (\\N{HANGUL SYLLABLE TA}) missing from current font.\n",
      "Glyph 49373 (\\N{HANGUL SYLLABLE SAENG}) missing from current font.\n",
      "Glyph 54876 (\\N{HANGUL SYLLABLE HWAL}) missing from current font.\n",
      "Glyph 48708 (\\N{HANGUL SYLLABLE BI}) missing from current font.\n",
      "Glyph 45824 (\\N{HANGUL SYLLABLE DAE}) missing from current font.\n",
      "Glyph 54872 (\\N{HANGUL SYLLABLE HWAN}) missing from current font.\n",
      "Glyph 52636 (\\N{HANGUL SYLLABLE CUL}) missing from current font.\n",
      "Glyph 51204 (\\N{HANGUL SYLLABLE JEON}) missing from current font.\n",
      "Glyph 50900 (\\N{HANGUL SYLLABLE WEOL}) missing from current font.\n",
      "Glyph 49464 (\\N{HANGUL SYLLABLE SE}) missing from current font.\n",
      "Glyph 51221 (\\N{HANGUL SYLLABLE JEONG}) missing from current font.\n",
      "Glyph 44508 (\\N{HANGUL SYLLABLE GYU}) missing from current font.\n",
      "Glyph 51649 (\\N{HANGUL SYLLABLE JIG}) missing from current font.\n",
      "Glyph 44228 (\\N{HANGUL SYLLABLE GYE}) missing from current font.\n",
      "Glyph 50557 (\\N{HANGUL SYLLABLE YAG}) missing from current font.\n",
      "Glyph 51088 (\\N{HANGUL SYLLABLE JA}) missing from current font.\n",
      "Glyph 44032 (\\N{HANGUL SYLLABLE GA}) missing from current font.\n",
      "Glyph 44592 (\\N{HANGUL SYLLABLE GI}) missing from current font.\n",
      "Glyph 53440 (\\N{HANGUL SYLLABLE TA}) missing from current font.\n",
      "Glyph 49373 (\\N{HANGUL SYLLABLE SAENG}) missing from current font.\n",
      "Glyph 54876 (\\N{HANGUL SYLLABLE HWAL}) missing from current font.\n",
      "Glyph 48708 (\\N{HANGUL SYLLABLE BI}) missing from current font.\n",
      "Glyph 45824 (\\N{HANGUL SYLLABLE DAE}) missing from current font.\n",
      "Glyph 54872 (\\N{HANGUL SYLLABLE HWAN}) missing from current font.\n",
      "Glyph 52636 (\\N{HANGUL SYLLABLE CUL}) missing from current font.\n",
      "Glyph 51204 (\\N{HANGUL SYLLABLE JEON}) missing from current font.\n",
      "Glyph 50900 (\\N{HANGUL SYLLABLE WEOL}) missing from current font.\n",
      "Glyph 49464 (\\N{HANGUL SYLLABLE SE}) missing from current font.\n",
      "Glyph 51221 (\\N{HANGUL SYLLABLE JEONG}) missing from current font.\n",
      "Glyph 44508 (\\N{HANGUL SYLLABLE GYU}) missing from current font.\n",
      "Glyph 51649 (\\N{HANGUL SYLLABLE JIG}) missing from current font.\n",
      "Glyph 44228 (\\N{HANGUL SYLLABLE GYE}) missing from current font.\n",
      "Glyph 50557 (\\N{HANGUL SYLLABLE YAG}) missing from current font.\n",
      "Glyph 51088 (\\N{HANGUL SYLLABLE JA}) missing from current font.\n",
      "Glyph 44032 (\\N{HANGUL SYLLABLE GA}) missing from current font.\n",
      "Glyph 44592 (\\N{HANGUL SYLLABLE GI}) missing from current font.\n",
      "Glyph 53440 (\\N{HANGUL SYLLABLE TA}) missing from current font.\n",
      "Glyph 49373 (\\N{HANGUL SYLLABLE SAENG}) missing from current font.\n",
      "Glyph 54876 (\\N{HANGUL SYLLABLE HWAL}) missing from current font.\n",
      "Glyph 48708 (\\N{HANGUL SYLLABLE BI}) missing from current font.\n",
      "Glyph 45824 (\\N{HANGUL SYLLABLE DAE}) missing from current font.\n",
      "Glyph 54872 (\\N{HANGUL SYLLABLE HWAN}) missing from current font.\n",
      "Glyph 52636 (\\N{HANGUL SYLLABLE CUL}) missing from current font.\n",
      "Glyph 44228 (\\N{HANGUL SYLLABLE GYE}) missing from current font.\n",
      "Glyph 50557 (\\N{HANGUL SYLLABLE YAG}) missing from current font.\n",
      "Glyph 51649 (\\N{HANGUL SYLLABLE JIG}) missing from current font.\n",
      "Glyph 51204 (\\N{HANGUL SYLLABLE JEON}) missing from current font.\n",
      "Glyph 50900 (\\N{HANGUL SYLLABLE WEOL}) missing from current font.\n",
      "Glyph 49464 (\\N{HANGUL SYLLABLE SE}) missing from current font.\n",
      "Glyph 44592 (\\N{HANGUL SYLLABLE GI}) missing from current font.\n",
      "Glyph 53440 (\\N{HANGUL SYLLABLE TA}) missing from current font.\n",
      "Glyph 49373 (\\N{HANGUL SYLLABLE SAENG}) missing from current font.\n",
      "Glyph 54876 (\\N{HANGUL SYLLABLE HWAL}) missing from current font.\n",
      "Glyph 48708 (\\N{HANGUL SYLLABLE BI}) missing from current font.\n",
      "Glyph 45824 (\\N{HANGUL SYLLABLE DAE}) missing from current font.\n",
      "Glyph 54872 (\\N{HANGUL SYLLABLE HWAN}) missing from current font.\n",
      "Glyph 52636 (\\N{HANGUL SYLLABLE CUL}) missing from current font.\n",
      "Glyph 44228 (\\N{HANGUL SYLLABLE GYE}) missing from current font.\n",
      "Glyph 50557 (\\N{HANGUL SYLLABLE YAG}) missing from current font.\n",
      "Glyph 51649 (\\N{HANGUL SYLLABLE JIG}) missing from current font.\n",
      "Glyph 51204 (\\N{HANGUL SYLLABLE JEON}) missing from current font.\n",
      "Glyph 50900 (\\N{HANGUL SYLLABLE WEOL}) missing from current font.\n",
      "Glyph 49464 (\\N{HANGUL SYLLABLE SE}) missing from current font.\n"
     ]
    },
    {
     "name": "stdout",
     "output_type": "stream",
     "text": [
      "* Step ensemble will try to check up to 1 model\n",
      "Ensemble logloss 0.132395 trained in 2.97 seconds\n"
     ]
    },
    {
     "name": "stderr",
     "output_type": "stream",
     "text": [
      "Glyph 49373 (\\N{HANGUL SYLLABLE SAENG}) missing from current font.\n",
      "Glyph 54876 (\\N{HANGUL SYLLABLE HWAL}) missing from current font.\n",
      "Glyph 48708 (\\N{HANGUL SYLLABLE BI}) missing from current font.\n",
      "Glyph 51088 (\\N{HANGUL SYLLABLE JA}) missing from current font.\n",
      "Glyph 44032 (\\N{HANGUL SYLLABLE GA}) missing from current font.\n",
      "Glyph 51204 (\\N{HANGUL SYLLABLE JEON}) missing from current font.\n",
      "Glyph 50900 (\\N{HANGUL SYLLABLE WEOL}) missing from current font.\n",
      "Glyph 49464 (\\N{HANGUL SYLLABLE SE}) missing from current font.\n",
      "Glyph 51221 (\\N{HANGUL SYLLABLE JEONG}) missing from current font.\n",
      "Glyph 44508 (\\N{HANGUL SYLLABLE GYU}) missing from current font.\n",
      "Glyph 51649 (\\N{HANGUL SYLLABLE JIG}) missing from current font.\n",
      "Glyph 44592 (\\N{HANGUL SYLLABLE GI}) missing from current font.\n",
      "Glyph 53440 (\\N{HANGUL SYLLABLE TA}) missing from current font.\n",
      "Glyph 45824 (\\N{HANGUL SYLLABLE DAE}) missing from current font.\n",
      "Glyph 54872 (\\N{HANGUL SYLLABLE HWAN}) missing from current font.\n",
      "Glyph 52636 (\\N{HANGUL SYLLABLE CUL}) missing from current font.\n",
      "Glyph 51313 (\\N{HANGUL SYLLABLE JOG}) missing from current font.\n",
      "Glyph 49548 (\\N{HANGUL SYLLABLE SO}) missing from current font.\n",
      "Glyph 50976 (\\N{HANGUL SYLLABLE YU}) missing from current font.\n",
      "Glyph 44228 (\\N{HANGUL SYLLABLE GYE}) missing from current font.\n",
      "Glyph 50557 (\\N{HANGUL SYLLABLE YAG}) missing from current font.\n",
      "Glyph 49373 (\\N{HANGUL SYLLABLE SAENG}) missing from current font.\n",
      "Glyph 54876 (\\N{HANGUL SYLLABLE HWAL}) missing from current font.\n",
      "Glyph 48708 (\\N{HANGUL SYLLABLE BI}) missing from current font.\n",
      "Glyph 51088 (\\N{HANGUL SYLLABLE JA}) missing from current font.\n",
      "Glyph 44032 (\\N{HANGUL SYLLABLE GA}) missing from current font.\n",
      "Glyph 51204 (\\N{HANGUL SYLLABLE JEON}) missing from current font.\n",
      "Glyph 50900 (\\N{HANGUL SYLLABLE WEOL}) missing from current font.\n",
      "Glyph 49464 (\\N{HANGUL SYLLABLE SE}) missing from current font.\n",
      "Glyph 51221 (\\N{HANGUL SYLLABLE JEONG}) missing from current font.\n",
      "Glyph 44508 (\\N{HANGUL SYLLABLE GYU}) missing from current font.\n",
      "Glyph 51649 (\\N{HANGUL SYLLABLE JIG}) missing from current font.\n",
      "Glyph 44592 (\\N{HANGUL SYLLABLE GI}) missing from current font.\n",
      "Glyph 53440 (\\N{HANGUL SYLLABLE TA}) missing from current font.\n",
      "Glyph 45824 (\\N{HANGUL SYLLABLE DAE}) missing from current font.\n",
      "Glyph 54872 (\\N{HANGUL SYLLABLE HWAN}) missing from current font.\n",
      "Glyph 52636 (\\N{HANGUL SYLLABLE CUL}) missing from current font.\n",
      "Glyph 51313 (\\N{HANGUL SYLLABLE JOG}) missing from current font.\n",
      "Glyph 49548 (\\N{HANGUL SYLLABLE SO}) missing from current font.\n",
      "Glyph 50976 (\\N{HANGUL SYLLABLE YU}) missing from current font.\n",
      "Glyph 44228 (\\N{HANGUL SYLLABLE GYE}) missing from current font.\n",
      "Glyph 50557 (\\N{HANGUL SYLLABLE YAG}) missing from current font.\n"
     ]
    },
    {
     "name": "stdout",
     "output_type": "stream",
     "text": [
      "AutoML fit time: 57.63 seconds\n",
      "AutoML best model: Ensemble\n"
     ]
    },
    {
     "data": {
      "text/plain": [
       "AutoML()"
      ]
     },
     "execution_count": 14,
     "metadata": {},
     "output_type": "execute_result"
    }
   ],
   "source": [
    "model2 = AutoML()\n",
    "model2.fit(model2_train_X, model2_train_y)"
   ]
  },
  {
   "cell_type": "code",
   "execution_count": 16,
   "id": "41aa78f8",
   "metadata": {
    "ExecuteTime": {
     "end_time": "2022-10-14T01:05:51.942815Z",
     "start_time": "2022-10-14T01:05:50.627214Z"
    }
   },
   "outputs": [],
   "source": [
    "model2_target['predict']=model2.predict(model2_target)"
   ]
  },
  {
   "cell_type": "code",
   "execution_count": 17,
   "id": "39fd1ae1",
   "metadata": {
    "ExecuteTime": {
     "end_time": "2022-10-14T01:06:20.928293Z",
     "start_time": "2022-10-14T01:06:20.924196Z"
    }
   },
   "outputs": [],
   "source": [
    "os.mkdir('./result')"
   ]
  },
  {
   "cell_type": "code",
   "execution_count": 18,
   "id": "3a6b216e",
   "metadata": {
    "ExecuteTime": {
     "end_time": "2022-10-14T01:07:29.626106Z",
     "start_time": "2022-10-14T01:06:59.111361Z"
    }
   },
   "outputs": [],
   "source": [
    "pd.concat([model1_target, model2_target]).to_csv('./result/predict_result.csv')"
   ]
  },
  {
   "cell_type": "code",
   "execution_count": null,
   "id": "5483de8d",
   "metadata": {},
   "outputs": [],
   "source": []
  },
  {
   "cell_type": "code",
   "execution_count": null,
   "id": "b79de6cd",
   "metadata": {},
   "outputs": [],
   "source": []
  },
  {
   "cell_type": "markdown",
   "id": "972f4b98",
   "metadata": {},
   "source": [
    "# loan_result와 결합"
   ]
  },
  {
   "cell_type": "code",
   "execution_count": 51,
   "id": "fdbbadcb",
   "metadata": {
    "ExecuteTime": {
     "end_time": "2022-10-14T02:09:29.404903Z",
     "start_time": "2022-10-14T02:08:35.225659Z"
    }
   },
   "outputs": [],
   "source": [
    "df=pd.read_csv('./valiData/merged_5_0.csv',index_col=0)"
   ]
  },
  {
   "cell_type": "code",
   "execution_count": 52,
   "id": "b3483feb",
   "metadata": {
    "ExecuteTime": {
     "end_time": "2022-10-14T02:09:40.184865Z",
     "start_time": "2022-10-14T02:09:40.181350Z"
    }
   },
   "outputs": [
    {
     "data": {
      "text/plain": [
       "(13527250, 37)"
      ]
     },
     "execution_count": 52,
     "metadata": {},
     "output_type": "execute_result"
    }
   ],
   "source": [
    "df.shape"
   ]
  },
  {
   "cell_type": "code",
   "execution_count": 53,
   "id": "34a5abf5",
   "metadata": {
    "ExecuteTime": {
     "end_time": "2022-10-14T02:10:01.126167Z",
     "start_time": "2022-10-14T02:09:51.828476Z"
    }
   },
   "outputs": [],
   "source": [
    "predict_result=pd.read_csv('./result/predict_result.csv',index_col=0)"
   ]
  },
  {
   "cell_type": "code",
   "execution_count": 54,
   "id": "2759d70f",
   "metadata": {
    "ExecuteTime": {
     "end_time": "2022-10-14T02:10:13.667334Z",
     "start_time": "2022-10-14T02:10:13.659786Z"
    }
   },
   "outputs": [
    {
     "data": {
      "text/plain": [
       "(3257239, 31)"
      ]
     },
     "execution_count": 54,
     "metadata": {},
     "output_type": "execute_result"
    }
   ],
   "source": [
    "predict_result.shape"
   ]
  },
  {
   "cell_type": "code",
   "execution_count": 55,
   "id": "15c26e92",
   "metadata": {
    "ExecuteTime": {
     "end_time": "2022-10-14T02:10:27.596776Z",
     "start_time": "2022-10-14T02:10:26.217891Z"
    }
   },
   "outputs": [],
   "source": [
    "df=df.loc[predict_result.index,['application_id','loanapply_insert_time','bank_id','product_id','loan_limit','loan_rate']]"
   ]
  },
  {
   "cell_type": "code",
   "execution_count": 56,
   "id": "4d00a425",
   "metadata": {
    "ExecuteTime": {
     "end_time": "2022-10-14T02:10:28.364926Z",
     "start_time": "2022-10-14T02:10:28.361185Z"
    }
   },
   "outputs": [
    {
     "data": {
      "text/plain": [
       "(3257239, 6)"
      ]
     },
     "execution_count": 56,
     "metadata": {},
     "output_type": "execute_result"
    }
   ],
   "source": [
    "df.shape"
   ]
  },
  {
   "cell_type": "code",
   "execution_count": 57,
   "id": "c413ea98",
   "metadata": {
    "ExecuteTime": {
     "end_time": "2022-10-14T02:10:41.794204Z",
     "start_time": "2022-10-14T02:10:28.840380Z"
    }
   },
   "outputs": [],
   "source": [
    "predict_result['myindex'] = df['application_id'].astype(str) + df['loanapply_insert_time']+\\\n",
    "df['bank_id'].astype(str)+ df['product_id'].astype(str)\n",
    "predict_result.sort_values(by='myindex',inplace=True)\n",
    "predict_result.reset_index(inplace=True)"
   ]
  },
  {
   "cell_type": "code",
   "execution_count": 58,
   "id": "08a03ac0",
   "metadata": {
    "ExecuteTime": {
     "end_time": "2022-10-14T02:10:50.088898Z",
     "start_time": "2022-10-14T02:10:42.981297Z"
    }
   },
   "outputs": [
    {
     "data": {
      "text/plain": [
       "(3257239, 7)"
      ]
     },
     "execution_count": 58,
     "metadata": {},
     "output_type": "execute_result"
    }
   ],
   "source": [
    "loan_df = pd.read_csv('./data/loan_result.csv')\n",
    "loan_df=loan_df[loan_df['is_applied'].isna()]\n",
    "loan_df.shape"
   ]
  },
  {
   "cell_type": "code",
   "execution_count": 59,
   "id": "16cb8a57",
   "metadata": {
    "ExecuteTime": {
     "end_time": "2022-10-14T02:11:03.373587Z",
     "start_time": "2022-10-14T02:10:51.244651Z"
    }
   },
   "outputs": [],
   "source": [
    "loan_df['myindex'] = loan_df['application_id'].astype(str) + loan_df['loanapply_insert_time']+\\\n",
    "loan_df['bank_id'].astype(str)+ loan_df['product_id'].astype(str)\n",
    "loan_df.sort_values(by='myindex',inplace=True)\n",
    "loan_df.reset_index(inplace=True)"
   ]
  },
  {
   "cell_type": "code",
   "execution_count": 60,
   "id": "bfb5a9e1",
   "metadata": {
    "ExecuteTime": {
     "end_time": "2022-10-14T02:11:05.285759Z",
     "start_time": "2022-10-14T02:11:04.630588Z"
    }
   },
   "outputs": [
    {
     "data": {
      "text/html": [
       "<div>\n",
       "<style scoped>\n",
       "    .dataframe tbody tr th:only-of-type {\n",
       "        vertical-align: middle;\n",
       "    }\n",
       "\n",
       "    .dataframe tbody tr th {\n",
       "        vertical-align: top;\n",
       "    }\n",
       "\n",
       "    .dataframe thead th {\n",
       "        text-align: right;\n",
       "    }\n",
       "</style>\n",
       "<table border=\"1\" class=\"dataframe\">\n",
       "  <thead>\n",
       "    <tr style=\"text-align: right;\">\n",
       "      <th></th>\n",
       "      <th>index</th>\n",
       "      <th>birth_year</th>\n",
       "      <th>credit_score</th>\n",
       "      <th>yearly_income</th>\n",
       "      <th>desired_amount</th>\n",
       "      <th>personal_rehabilitation_yn</th>\n",
       "      <th>personal_rehabilitation_complete_yn</th>\n",
       "      <th>existing_loan_cnt</th>\n",
       "      <th>existing_loan_amt</th>\n",
       "      <th>loan_limit</th>\n",
       "      <th>...</th>\n",
       "      <th>gender_0.0</th>\n",
       "      <th>gender_1.0</th>\n",
       "      <th>ratio_EY</th>\n",
       "      <th>ratio_DY</th>\n",
       "      <th>ratio_LY</th>\n",
       "      <th>ratio_LD</th>\n",
       "      <th>time_interval</th>\n",
       "      <th>age</th>\n",
       "      <th>predict</th>\n",
       "      <th>myindex</th>\n",
       "    </tr>\n",
       "  </thead>\n",
       "  <tbody>\n",
       "    <tr>\n",
       "      <th>0</th>\n",
       "      <td>2285974</td>\n",
       "      <td>1994.0</td>\n",
       "      <td>930.0</td>\n",
       "      <td>29000000.0</td>\n",
       "      <td>25000000.0</td>\n",
       "      <td>0.0</td>\n",
       "      <td>-1.0</td>\n",
       "      <td>2.0</td>\n",
       "      <td>20000000.0</td>\n",
       "      <td>26000000.0</td>\n",
       "      <td>...</td>\n",
       "      <td>0</td>\n",
       "      <td>1</td>\n",
       "      <td>0.689655</td>\n",
       "      <td>0.862069</td>\n",
       "      <td>0.896552</td>\n",
       "      <td>1.040000</td>\n",
       "      <td>2.0</td>\n",
       "      <td>28.0</td>\n",
       "      <td>0</td>\n",
       "      <td>10000042022-04-08 14:55:2213123</td>\n",
       "    </tr>\n",
       "    <tr>\n",
       "      <th>1</th>\n",
       "      <td>2285975</td>\n",
       "      <td>1994.0</td>\n",
       "      <td>930.0</td>\n",
       "      <td>29000000.0</td>\n",
       "      <td>25000000.0</td>\n",
       "      <td>0.0</td>\n",
       "      <td>-1.0</td>\n",
       "      <td>2.0</td>\n",
       "      <td>20000000.0</td>\n",
       "      <td>26000000.0</td>\n",
       "      <td>...</td>\n",
       "      <td>0</td>\n",
       "      <td>1</td>\n",
       "      <td>0.689655</td>\n",
       "      <td>0.862069</td>\n",
       "      <td>0.896552</td>\n",
       "      <td>1.040000</td>\n",
       "      <td>2.0</td>\n",
       "      <td>28.0</td>\n",
       "      <td>0</td>\n",
       "      <td>10000042022-04-08 14:55:2214197</td>\n",
       "    </tr>\n",
       "    <tr>\n",
       "      <th>2</th>\n",
       "      <td>2285976</td>\n",
       "      <td>1994.0</td>\n",
       "      <td>930.0</td>\n",
       "      <td>29000000.0</td>\n",
       "      <td>25000000.0</td>\n",
       "      <td>0.0</td>\n",
       "      <td>-1.0</td>\n",
       "      <td>2.0</td>\n",
       "      <td>20000000.0</td>\n",
       "      <td>13000000.0</td>\n",
       "      <td>...</td>\n",
       "      <td>0</td>\n",
       "      <td>1</td>\n",
       "      <td>0.689655</td>\n",
       "      <td>0.862069</td>\n",
       "      <td>0.448276</td>\n",
       "      <td>0.520000</td>\n",
       "      <td>2.0</td>\n",
       "      <td>28.0</td>\n",
       "      <td>0</td>\n",
       "      <td>10000042022-04-08 14:55:242130</td>\n",
       "    </tr>\n",
       "    <tr>\n",
       "      <th>3</th>\n",
       "      <td>1794083</td>\n",
       "      <td>1987.0</td>\n",
       "      <td>590.0</td>\n",
       "      <td>23000000.0</td>\n",
       "      <td>7000000.0</td>\n",
       "      <td>0.0</td>\n",
       "      <td>-1.0</td>\n",
       "      <td>4.0</td>\n",
       "      <td>65000000.0</td>\n",
       "      <td>17000000.0</td>\n",
       "      <td>...</td>\n",
       "      <td>1</td>\n",
       "      <td>0</td>\n",
       "      <td>2.826087</td>\n",
       "      <td>0.304348</td>\n",
       "      <td>0.739130</td>\n",
       "      <td>2.428571</td>\n",
       "      <td>20.0</td>\n",
       "      <td>35.0</td>\n",
       "      <td>1</td>\n",
       "      <td>1000012022-05-27 20:32:2058175</td>\n",
       "    </tr>\n",
       "    <tr>\n",
       "      <th>4</th>\n",
       "      <td>1794084</td>\n",
       "      <td>1987.0</td>\n",
       "      <td>590.0</td>\n",
       "      <td>23000000.0</td>\n",
       "      <td>7000000.0</td>\n",
       "      <td>0.0</td>\n",
       "      <td>-1.0</td>\n",
       "      <td>4.0</td>\n",
       "      <td>65000000.0</td>\n",
       "      <td>17000000.0</td>\n",
       "      <td>...</td>\n",
       "      <td>1</td>\n",
       "      <td>0</td>\n",
       "      <td>2.826087</td>\n",
       "      <td>0.304348</td>\n",
       "      <td>0.739130</td>\n",
       "      <td>2.428571</td>\n",
       "      <td>24.0</td>\n",
       "      <td>35.0</td>\n",
       "      <td>0</td>\n",
       "      <td>1000012022-05-27 20:32:2419127</td>\n",
       "    </tr>\n",
       "    <tr>\n",
       "      <th>...</th>\n",
       "      <td>...</td>\n",
       "      <td>...</td>\n",
       "      <td>...</td>\n",
       "      <td>...</td>\n",
       "      <td>...</td>\n",
       "      <td>...</td>\n",
       "      <td>...</td>\n",
       "      <td>...</td>\n",
       "      <td>...</td>\n",
       "      <td>...</td>\n",
       "      <td>...</td>\n",
       "      <td>...</td>\n",
       "      <td>...</td>\n",
       "      <td>...</td>\n",
       "      <td>...</td>\n",
       "      <td>...</td>\n",
       "      <td>...</td>\n",
       "      <td>...</td>\n",
       "      <td>...</td>\n",
       "      <td>...</td>\n",
       "      <td>...</td>\n",
       "    </tr>\n",
       "    <tr>\n",
       "      <th>3257234</th>\n",
       "      <td>533850</td>\n",
       "      <td>1992.0</td>\n",
       "      <td>820.0</td>\n",
       "      <td>50000000.0</td>\n",
       "      <td>40000000.0</td>\n",
       "      <td>0.0</td>\n",
       "      <td>-1.0</td>\n",
       "      <td>3.0</td>\n",
       "      <td>33000000.0</td>\n",
       "      <td>50000000.0</td>\n",
       "      <td>...</td>\n",
       "      <td>1</td>\n",
       "      <td>0</td>\n",
       "      <td>0.660000</td>\n",
       "      <td>0.800000</td>\n",
       "      <td>1.000000</td>\n",
       "      <td>1.250000</td>\n",
       "      <td>2.0</td>\n",
       "      <td>30.0</td>\n",
       "      <td>0</td>\n",
       "      <td>9999792022-05-27 16:21:3827176</td>\n",
       "    </tr>\n",
       "    <tr>\n",
       "      <th>3257235</th>\n",
       "      <td>533851</td>\n",
       "      <td>1992.0</td>\n",
       "      <td>820.0</td>\n",
       "      <td>50000000.0</td>\n",
       "      <td>40000000.0</td>\n",
       "      <td>0.0</td>\n",
       "      <td>-1.0</td>\n",
       "      <td>3.0</td>\n",
       "      <td>33000000.0</td>\n",
       "      <td>39000000.0</td>\n",
       "      <td>...</td>\n",
       "      <td>1</td>\n",
       "      <td>0</td>\n",
       "      <td>0.660000</td>\n",
       "      <td>0.800000</td>\n",
       "      <td>0.780000</td>\n",
       "      <td>0.975000</td>\n",
       "      <td>2.0</td>\n",
       "      <td>30.0</td>\n",
       "      <td>0</td>\n",
       "      <td>9999792022-05-27 16:21:4622164</td>\n",
       "    </tr>\n",
       "    <tr>\n",
       "      <th>3257236</th>\n",
       "      <td>533853</td>\n",
       "      <td>1992.0</td>\n",
       "      <td>820.0</td>\n",
       "      <td>50000000.0</td>\n",
       "      <td>40000000.0</td>\n",
       "      <td>0.0</td>\n",
       "      <td>-1.0</td>\n",
       "      <td>3.0</td>\n",
       "      <td>33000000.0</td>\n",
       "      <td>50000000.0</td>\n",
       "      <td>...</td>\n",
       "      <td>1</td>\n",
       "      <td>0</td>\n",
       "      <td>0.660000</td>\n",
       "      <td>0.800000</td>\n",
       "      <td>1.000000</td>\n",
       "      <td>1.250000</td>\n",
       "      <td>3.0</td>\n",
       "      <td>30.0</td>\n",
       "      <td>0</td>\n",
       "      <td>9999792022-05-27 16:22:2049136</td>\n",
       "    </tr>\n",
       "    <tr>\n",
       "      <th>3257237</th>\n",
       "      <td>533852</td>\n",
       "      <td>1992.0</td>\n",
       "      <td>820.0</td>\n",
       "      <td>50000000.0</td>\n",
       "      <td>40000000.0</td>\n",
       "      <td>0.0</td>\n",
       "      <td>-1.0</td>\n",
       "      <td>3.0</td>\n",
       "      <td>33000000.0</td>\n",
       "      <td>31000000.0</td>\n",
       "      <td>...</td>\n",
       "      <td>1</td>\n",
       "      <td>0</td>\n",
       "      <td>0.660000</td>\n",
       "      <td>0.800000</td>\n",
       "      <td>0.620000</td>\n",
       "      <td>0.775000</td>\n",
       "      <td>2.0</td>\n",
       "      <td>30.0</td>\n",
       "      <td>0</td>\n",
       "      <td>9999792022-05-27 16:22:204939</td>\n",
       "    </tr>\n",
       "    <tr>\n",
       "      <th>3257238</th>\n",
       "      <td>2482501</td>\n",
       "      <td>1991.0</td>\n",
       "      <td>620.0</td>\n",
       "      <td>45000000.0</td>\n",
       "      <td>50000000.0</td>\n",
       "      <td>0.0</td>\n",
       "      <td>-1.0</td>\n",
       "      <td>1.0</td>\n",
       "      <td>-100.0</td>\n",
       "      <td>15000000.0</td>\n",
       "      <td>...</td>\n",
       "      <td>0</td>\n",
       "      <td>1</td>\n",
       "      <td>-0.000002</td>\n",
       "      <td>1.111111</td>\n",
       "      <td>0.333333</td>\n",
       "      <td>0.300000</td>\n",
       "      <td>0.0</td>\n",
       "      <td>31.0</td>\n",
       "      <td>0</td>\n",
       "      <td>9999852022-03-22 12:53:4743246</td>\n",
       "    </tr>\n",
       "  </tbody>\n",
       "</table>\n",
       "<p>3257239 rows × 33 columns</p>\n",
       "</div>"
      ],
      "text/plain": [
       "           index  birth_year  credit_score  yearly_income  desired_amount  \\\n",
       "0        2285974      1994.0         930.0     29000000.0      25000000.0   \n",
       "1        2285975      1994.0         930.0     29000000.0      25000000.0   \n",
       "2        2285976      1994.0         930.0     29000000.0      25000000.0   \n",
       "3        1794083      1987.0         590.0     23000000.0       7000000.0   \n",
       "4        1794084      1987.0         590.0     23000000.0       7000000.0   \n",
       "...          ...         ...           ...            ...             ...   \n",
       "3257234   533850      1992.0         820.0     50000000.0      40000000.0   \n",
       "3257235   533851      1992.0         820.0     50000000.0      40000000.0   \n",
       "3257236   533853      1992.0         820.0     50000000.0      40000000.0   \n",
       "3257237   533852      1992.0         820.0     50000000.0      40000000.0   \n",
       "3257238  2482501      1991.0         620.0     45000000.0      50000000.0   \n",
       "\n",
       "         personal_rehabilitation_yn  personal_rehabilitation_complete_yn  \\\n",
       "0                               0.0                                 -1.0   \n",
       "1                               0.0                                 -1.0   \n",
       "2                               0.0                                 -1.0   \n",
       "3                               0.0                                 -1.0   \n",
       "4                               0.0                                 -1.0   \n",
       "...                             ...                                  ...   \n",
       "3257234                         0.0                                 -1.0   \n",
       "3257235                         0.0                                 -1.0   \n",
       "3257236                         0.0                                 -1.0   \n",
       "3257237                         0.0                                 -1.0   \n",
       "3257238                         0.0                                 -1.0   \n",
       "\n",
       "         existing_loan_cnt  existing_loan_amt  loan_limit  ...  gender_0.0  \\\n",
       "0                      2.0         20000000.0  26000000.0  ...           0   \n",
       "1                      2.0         20000000.0  26000000.0  ...           0   \n",
       "2                      2.0         20000000.0  13000000.0  ...           0   \n",
       "3                      4.0         65000000.0  17000000.0  ...           1   \n",
       "4                      4.0         65000000.0  17000000.0  ...           1   \n",
       "...                    ...                ...         ...  ...         ...   \n",
       "3257234                3.0         33000000.0  50000000.0  ...           1   \n",
       "3257235                3.0         33000000.0  39000000.0  ...           1   \n",
       "3257236                3.0         33000000.0  50000000.0  ...           1   \n",
       "3257237                3.0         33000000.0  31000000.0  ...           1   \n",
       "3257238                1.0             -100.0  15000000.0  ...           0   \n",
       "\n",
       "         gender_1.0  ratio_EY  ratio_DY  ratio_LY  ratio_LD  time_interval  \\\n",
       "0                 1  0.689655  0.862069  0.896552  1.040000            2.0   \n",
       "1                 1  0.689655  0.862069  0.896552  1.040000            2.0   \n",
       "2                 1  0.689655  0.862069  0.448276  0.520000            2.0   \n",
       "3                 0  2.826087  0.304348  0.739130  2.428571           20.0   \n",
       "4                 0  2.826087  0.304348  0.739130  2.428571           24.0   \n",
       "...             ...       ...       ...       ...       ...            ...   \n",
       "3257234           0  0.660000  0.800000  1.000000  1.250000            2.0   \n",
       "3257235           0  0.660000  0.800000  0.780000  0.975000            2.0   \n",
       "3257236           0  0.660000  0.800000  1.000000  1.250000            3.0   \n",
       "3257237           0  0.660000  0.800000  0.620000  0.775000            2.0   \n",
       "3257238           1 -0.000002  1.111111  0.333333  0.300000            0.0   \n",
       "\n",
       "          age  predict                          myindex  \n",
       "0        28.0        0  10000042022-04-08 14:55:2213123  \n",
       "1        28.0        0  10000042022-04-08 14:55:2214197  \n",
       "2        28.0        0   10000042022-04-08 14:55:242130  \n",
       "3        35.0        1   1000012022-05-27 20:32:2058175  \n",
       "4        35.0        0   1000012022-05-27 20:32:2419127  \n",
       "...       ...      ...                              ...  \n",
       "3257234  30.0        0   9999792022-05-27 16:21:3827176  \n",
       "3257235  30.0        0   9999792022-05-27 16:21:4622164  \n",
       "3257236  30.0        0   9999792022-05-27 16:22:2049136  \n",
       "3257237  30.0        0    9999792022-05-27 16:22:204939  \n",
       "3257238  31.0        0   9999852022-03-22 12:53:4743246  \n",
       "\n",
       "[3257239 rows x 33 columns]"
      ]
     },
     "execution_count": 60,
     "metadata": {},
     "output_type": "execute_result"
    }
   ],
   "source": [
    "predict_result"
   ]
  },
  {
   "cell_type": "code",
   "execution_count": 61,
   "id": "829969c6",
   "metadata": {
    "ExecuteTime": {
     "end_time": "2022-10-14T02:11:06.413238Z",
     "start_time": "2022-10-14T02:11:06.403231Z"
    }
   },
   "outputs": [
    {
     "data": {
      "text/html": [
       "<div>\n",
       "<style scoped>\n",
       "    .dataframe tbody tr th:only-of-type {\n",
       "        vertical-align: middle;\n",
       "    }\n",
       "\n",
       "    .dataframe tbody tr th {\n",
       "        vertical-align: top;\n",
       "    }\n",
       "\n",
       "    .dataframe thead th {\n",
       "        text-align: right;\n",
       "    }\n",
       "</style>\n",
       "<table border=\"1\" class=\"dataframe\">\n",
       "  <thead>\n",
       "    <tr style=\"text-align: right;\">\n",
       "      <th></th>\n",
       "      <th>index</th>\n",
       "      <th>application_id</th>\n",
       "      <th>loanapply_insert_time</th>\n",
       "      <th>bank_id</th>\n",
       "      <th>product_id</th>\n",
       "      <th>loan_limit</th>\n",
       "      <th>loan_rate</th>\n",
       "      <th>is_applied</th>\n",
       "      <th>myindex</th>\n",
       "    </tr>\n",
       "  </thead>\n",
       "  <tbody>\n",
       "    <tr>\n",
       "      <th>0</th>\n",
       "      <td>9361839</td>\n",
       "      <td>1000000</td>\n",
       "      <td>2022-06-09 05:06:10</td>\n",
       "      <td>63</td>\n",
       "      <td>226</td>\n",
       "      <td>30000000.0</td>\n",
       "      <td>15.6</td>\n",
       "      <td>NaN</td>\n",
       "      <td>10000002022-06-09 05:06:1063226</td>\n",
       "    </tr>\n",
       "    <tr>\n",
       "      <th>1</th>\n",
       "      <td>2493135</td>\n",
       "      <td>1000005</td>\n",
       "      <td>2022-06-09 15:54:46</td>\n",
       "      <td>13</td>\n",
       "      <td>262</td>\n",
       "      <td>14000000.0</td>\n",
       "      <td>16.4</td>\n",
       "      <td>NaN</td>\n",
       "      <td>10000052022-06-09 15:54:4613262</td>\n",
       "    </tr>\n",
       "    <tr>\n",
       "      <th>2</th>\n",
       "      <td>2493136</td>\n",
       "      <td>1000005</td>\n",
       "      <td>2022-06-09 15:54:46</td>\n",
       "      <td>24</td>\n",
       "      <td>70</td>\n",
       "      <td>3000000.0</td>\n",
       "      <td>13.0</td>\n",
       "      <td>NaN</td>\n",
       "      <td>10000052022-06-09 15:54:462470</td>\n",
       "    </tr>\n",
       "    <tr>\n",
       "      <th>3</th>\n",
       "      <td>2493134</td>\n",
       "      <td>1000005</td>\n",
       "      <td>2022-06-09 15:54:46</td>\n",
       "      <td>29</td>\n",
       "      <td>265</td>\n",
       "      <td>23000000.0</td>\n",
       "      <td>6.4</td>\n",
       "      <td>NaN</td>\n",
       "      <td>10000052022-06-09 15:54:4629265</td>\n",
       "    </tr>\n",
       "    <tr>\n",
       "      <th>4</th>\n",
       "      <td>2493128</td>\n",
       "      <td>1000005</td>\n",
       "      <td>2022-06-09 15:54:46</td>\n",
       "      <td>35</td>\n",
       "      <td>29</td>\n",
       "      <td>5000000.0</td>\n",
       "      <td>10.6</td>\n",
       "      <td>NaN</td>\n",
       "      <td>10000052022-06-09 15:54:463529</td>\n",
       "    </tr>\n",
       "    <tr>\n",
       "      <th>...</th>\n",
       "      <td>...</td>\n",
       "      <td>...</td>\n",
       "      <td>...</td>\n",
       "      <td>...</td>\n",
       "      <td>...</td>\n",
       "      <td>...</td>\n",
       "      <td>...</td>\n",
       "      <td>...</td>\n",
       "      <td>...</td>\n",
       "    </tr>\n",
       "    <tr>\n",
       "      <th>3257234</th>\n",
       "      <td>9371589</td>\n",
       "      <td>999999</td>\n",
       "      <td>2022-06-08 00:14:31</td>\n",
       "      <td>59</td>\n",
       "      <td>150</td>\n",
       "      <td>17000000.0</td>\n",
       "      <td>17.7</td>\n",
       "      <td>NaN</td>\n",
       "      <td>9999992022-06-08 00:14:3159150</td>\n",
       "    </tr>\n",
       "    <tr>\n",
       "      <th>3257235</th>\n",
       "      <td>9371590</td>\n",
       "      <td>999999</td>\n",
       "      <td>2022-06-08 00:14:32</td>\n",
       "      <td>25</td>\n",
       "      <td>169</td>\n",
       "      <td>22000000.0</td>\n",
       "      <td>19.9</td>\n",
       "      <td>NaN</td>\n",
       "      <td>9999992022-06-08 00:14:3225169</td>\n",
       "    </tr>\n",
       "    <tr>\n",
       "      <th>3257236</th>\n",
       "      <td>9371591</td>\n",
       "      <td>999999</td>\n",
       "      <td>2022-06-08 00:14:32</td>\n",
       "      <td>33</td>\n",
       "      <td>110</td>\n",
       "      <td>15000000.0</td>\n",
       "      <td>15.6</td>\n",
       "      <td>NaN</td>\n",
       "      <td>9999992022-06-08 00:14:3233110</td>\n",
       "    </tr>\n",
       "    <tr>\n",
       "      <th>3257237</th>\n",
       "      <td>9371588</td>\n",
       "      <td>999999</td>\n",
       "      <td>2022-06-08 00:14:38</td>\n",
       "      <td>18</td>\n",
       "      <td>78</td>\n",
       "      <td>1000000.0</td>\n",
       "      <td>10.5</td>\n",
       "      <td>NaN</td>\n",
       "      <td>9999992022-06-08 00:14:381878</td>\n",
       "    </tr>\n",
       "    <tr>\n",
       "      <th>3257238</th>\n",
       "      <td>9371593</td>\n",
       "      <td>999999</td>\n",
       "      <td>2022-06-08 00:14:51</td>\n",
       "      <td>8</td>\n",
       "      <td>31</td>\n",
       "      <td>20000000.0</td>\n",
       "      <td>15.0</td>\n",
       "      <td>NaN</td>\n",
       "      <td>9999992022-06-08 00:14:51831</td>\n",
       "    </tr>\n",
       "  </tbody>\n",
       "</table>\n",
       "<p>3257239 rows × 9 columns</p>\n",
       "</div>"
      ],
      "text/plain": [
       "           index  application_id loanapply_insert_time  bank_id  product_id  \\\n",
       "0        9361839         1000000   2022-06-09 05:06:10       63         226   \n",
       "1        2493135         1000005   2022-06-09 15:54:46       13         262   \n",
       "2        2493136         1000005   2022-06-09 15:54:46       24          70   \n",
       "3        2493134         1000005   2022-06-09 15:54:46       29         265   \n",
       "4        2493128         1000005   2022-06-09 15:54:46       35          29   \n",
       "...          ...             ...                   ...      ...         ...   \n",
       "3257234  9371589          999999   2022-06-08 00:14:31       59         150   \n",
       "3257235  9371590          999999   2022-06-08 00:14:32       25         169   \n",
       "3257236  9371591          999999   2022-06-08 00:14:32       33         110   \n",
       "3257237  9371588          999999   2022-06-08 00:14:38       18          78   \n",
       "3257238  9371593          999999   2022-06-08 00:14:51        8          31   \n",
       "\n",
       "         loan_limit  loan_rate  is_applied                          myindex  \n",
       "0        30000000.0       15.6         NaN  10000002022-06-09 05:06:1063226  \n",
       "1        14000000.0       16.4         NaN  10000052022-06-09 15:54:4613262  \n",
       "2         3000000.0       13.0         NaN   10000052022-06-09 15:54:462470  \n",
       "3        23000000.0        6.4         NaN  10000052022-06-09 15:54:4629265  \n",
       "4         5000000.0       10.6         NaN   10000052022-06-09 15:54:463529  \n",
       "...             ...        ...         ...                              ...  \n",
       "3257234  17000000.0       17.7         NaN   9999992022-06-08 00:14:3159150  \n",
       "3257235  22000000.0       19.9         NaN   9999992022-06-08 00:14:3225169  \n",
       "3257236  15000000.0       15.6         NaN   9999992022-06-08 00:14:3233110  \n",
       "3257237   1000000.0       10.5         NaN    9999992022-06-08 00:14:381878  \n",
       "3257238  20000000.0       15.0         NaN     9999992022-06-08 00:14:51831  \n",
       "\n",
       "[3257239 rows x 9 columns]"
      ]
     },
     "execution_count": 61,
     "metadata": {},
     "output_type": "execute_result"
    }
   ],
   "source": [
    "loan_df"
   ]
  },
  {
   "cell_type": "code",
   "execution_count": 66,
   "id": "fd862d18",
   "metadata": {
    "ExecuteTime": {
     "end_time": "2022-10-14T02:16:15.468842Z",
     "start_time": "2022-10-14T02:16:15.181408Z"
    }
   },
   "outputs": [],
   "source": [
    "my_df=pd.concat([loan_df,predict_result[['myindex','predict']]],axis=1)"
   ]
  },
  {
   "cell_type": "code",
   "execution_count": 67,
   "id": "bcdbe180",
   "metadata": {
    "ExecuteTime": {
     "end_time": "2022-10-14T02:16:16.364461Z",
     "start_time": "2022-10-14T02:16:16.360886Z"
    }
   },
   "outputs": [
    {
     "data": {
      "text/plain": [
       "(3257239, 11)"
      ]
     },
     "execution_count": 67,
     "metadata": {},
     "output_type": "execute_result"
    }
   ],
   "source": [
    "my_df.shape"
   ]
  },
  {
   "cell_type": "code",
   "execution_count": 68,
   "id": "726bd2f7",
   "metadata": {
    "ExecuteTime": {
     "end_time": "2022-10-14T02:16:19.215099Z",
     "start_time": "2022-10-14T02:16:18.850625Z"
    }
   },
   "outputs": [],
   "source": [
    "my_df['is_applied']=my_df['predict']"
   ]
  },
  {
   "cell_type": "code",
   "execution_count": 69,
   "id": "bd15fb26",
   "metadata": {
    "ExecuteTime": {
     "end_time": "2022-10-14T02:16:20.634560Z",
     "start_time": "2022-10-14T02:16:20.473196Z"
    }
   },
   "outputs": [],
   "source": [
    "my_df.drop(['myindex','predict'],axis=1,inplace=True)"
   ]
  },
  {
   "cell_type": "code",
   "execution_count": 70,
   "id": "878db47f",
   "metadata": {
    "ExecuteTime": {
     "end_time": "2022-10-14T02:16:29.371005Z",
     "start_time": "2022-10-14T02:16:21.520522Z"
    }
   },
   "outputs": [],
   "source": [
    "my_df.to_csv('./result/androzoo_predict_result.csv')"
   ]
  },
  {
   "cell_type": "code",
   "execution_count": 71,
   "id": "c81281de",
   "metadata": {
    "ExecuteTime": {
     "end_time": "2022-10-14T02:16:30.228771Z",
     "start_time": "2022-10-14T02:16:30.215216Z"
    }
   },
   "outputs": [
    {
     "data": {
      "text/plain": [
       "0    3160237\n",
       "1      97002\n",
       "Name: is_applied, dtype: int64"
      ]
     },
     "execution_count": 71,
     "metadata": {},
     "output_type": "execute_result"
    }
   ],
   "source": [
    "my_df['is_applied'].value_counts()"
   ]
  },
  {
   "cell_type": "code",
   "execution_count": 72,
   "id": "16f1bab9",
   "metadata": {
    "ExecuteTime": {
     "end_time": "2022-10-14T02:16:31.138706Z",
     "start_time": "2022-10-14T02:16:31.132095Z"
    }
   },
   "outputs": [
    {
     "data": {
      "text/html": [
       "<div>\n",
       "<style scoped>\n",
       "    .dataframe tbody tr th:only-of-type {\n",
       "        vertical-align: middle;\n",
       "    }\n",
       "\n",
       "    .dataframe tbody tr th {\n",
       "        vertical-align: top;\n",
       "    }\n",
       "\n",
       "    .dataframe thead th {\n",
       "        text-align: right;\n",
       "    }\n",
       "</style>\n",
       "<table border=\"1\" class=\"dataframe\">\n",
       "  <thead>\n",
       "    <tr style=\"text-align: right;\">\n",
       "      <th></th>\n",
       "      <th>index</th>\n",
       "      <th>application_id</th>\n",
       "      <th>loanapply_insert_time</th>\n",
       "      <th>bank_id</th>\n",
       "      <th>product_id</th>\n",
       "      <th>loan_limit</th>\n",
       "      <th>loan_rate</th>\n",
       "      <th>is_applied</th>\n",
       "    </tr>\n",
       "  </thead>\n",
       "  <tbody>\n",
       "    <tr>\n",
       "      <th>0</th>\n",
       "      <td>9361839</td>\n",
       "      <td>1000000</td>\n",
       "      <td>2022-06-09 05:06:10</td>\n",
       "      <td>63</td>\n",
       "      <td>226</td>\n",
       "      <td>30000000.0</td>\n",
       "      <td>15.6</td>\n",
       "      <td>0</td>\n",
       "    </tr>\n",
       "    <tr>\n",
       "      <th>1</th>\n",
       "      <td>2493135</td>\n",
       "      <td>1000005</td>\n",
       "      <td>2022-06-09 15:54:46</td>\n",
       "      <td>13</td>\n",
       "      <td>262</td>\n",
       "      <td>14000000.0</td>\n",
       "      <td>16.4</td>\n",
       "      <td>0</td>\n",
       "    </tr>\n",
       "    <tr>\n",
       "      <th>2</th>\n",
       "      <td>2493136</td>\n",
       "      <td>1000005</td>\n",
       "      <td>2022-06-09 15:54:46</td>\n",
       "      <td>24</td>\n",
       "      <td>70</td>\n",
       "      <td>3000000.0</td>\n",
       "      <td>13.0</td>\n",
       "      <td>0</td>\n",
       "    </tr>\n",
       "    <tr>\n",
       "      <th>3</th>\n",
       "      <td>2493134</td>\n",
       "      <td>1000005</td>\n",
       "      <td>2022-06-09 15:54:46</td>\n",
       "      <td>29</td>\n",
       "      <td>265</td>\n",
       "      <td>23000000.0</td>\n",
       "      <td>6.4</td>\n",
       "      <td>1</td>\n",
       "    </tr>\n",
       "    <tr>\n",
       "      <th>4</th>\n",
       "      <td>2493128</td>\n",
       "      <td>1000005</td>\n",
       "      <td>2022-06-09 15:54:46</td>\n",
       "      <td>35</td>\n",
       "      <td>29</td>\n",
       "      <td>5000000.0</td>\n",
       "      <td>10.6</td>\n",
       "      <td>0</td>\n",
       "    </tr>\n",
       "  </tbody>\n",
       "</table>\n",
       "</div>"
      ],
      "text/plain": [
       "     index  application_id loanapply_insert_time  bank_id  product_id  \\\n",
       "0  9361839         1000000   2022-06-09 05:06:10       63         226   \n",
       "1  2493135         1000005   2022-06-09 15:54:46       13         262   \n",
       "2  2493136         1000005   2022-06-09 15:54:46       24          70   \n",
       "3  2493134         1000005   2022-06-09 15:54:46       29         265   \n",
       "4  2493128         1000005   2022-06-09 15:54:46       35          29   \n",
       "\n",
       "   loan_limit  loan_rate  is_applied  \n",
       "0  30000000.0       15.6           0  \n",
       "1  14000000.0       16.4           0  \n",
       "2   3000000.0       13.0           0  \n",
       "3  23000000.0        6.4           1  \n",
       "4   5000000.0       10.6           0  "
      ]
     },
     "execution_count": 72,
     "metadata": {},
     "output_type": "execute_result"
    }
   ],
   "source": [
    "my_df.head()"
   ]
  },
  {
   "cell_type": "code",
   "execution_count": null,
   "id": "1c769c72",
   "metadata": {},
   "outputs": [],
   "source": []
  }
 ],
 "metadata": {
  "kernelspec": {
   "display_name": "Python 3 (ipykernel)",
   "language": "python",
   "name": "python3"
  },
  "language_info": {
   "codemirror_mode": {
    "name": "ipython",
    "version": 3
   },
   "file_extension": ".py",
   "mimetype": "text/x-python",
   "name": "python",
   "nbconvert_exporter": "python",
   "pygments_lexer": "ipython3",
   "version": "3.8.10"
  },
  "toc": {
   "base_numbering": 1,
   "nav_menu": {},
   "number_sections": true,
   "sideBar": true,
   "skip_h1_title": false,
   "title_cell": "Table of Contents",
   "title_sidebar": "Contents",
   "toc_cell": false,
   "toc_position": {},
   "toc_section_display": true,
   "toc_window_display": false
  },
  "varInspector": {
   "cols": {
    "lenName": 16,
    "lenType": 16,
    "lenVar": 40
   },
   "kernels_config": {
    "python": {
     "delete_cmd_postfix": "",
     "delete_cmd_prefix": "del ",
     "library": "var_list.py",
     "varRefreshCmd": "print(var_dic_list())"
    },
    "r": {
     "delete_cmd_postfix": ") ",
     "delete_cmd_prefix": "rm(",
     "library": "var_list.r",
     "varRefreshCmd": "cat(var_dic_list()) "
    }
   },
   "types_to_exclude": [
    "module",
    "function",
    "builtin_function_or_method",
    "instance",
    "_Feature"
   ],
   "window_display": false
  }
 },
 "nbformat": 4,
 "nbformat_minor": 5
}
