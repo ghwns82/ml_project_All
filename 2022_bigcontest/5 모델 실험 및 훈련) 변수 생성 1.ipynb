{
 "cells": [
  {
   "cell_type": "code",
   "execution_count": 1,
   "id": "0a43298f",
   "metadata": {
    "ExecuteTime": {
     "end_time": "2022-10-12T18:56:56.820023Z",
     "start_time": "2022-10-12T18:56:55.347133Z"
    }
   },
   "outputs": [],
   "source": [
    "import pandas as pd\n",
    "import numpy as np\n",
    "import os\n",
    "import random\n",
    "from copy import deepcopy\n",
    "import math\n",
    "from itertools import product\n",
    "import pickle\n",
    "import joblib\n",
    "\n",
    "import matplotlib.pyplot as plt\n",
    "import seaborn as sb\n",
    "\n",
    "from sklearn.ensemble import RandomForestClassifier\n",
    "from sklearn.model_selection import train_test_split\n",
    "from sklearn.metrics import f1_score, confusion_matrix, ConfusionMatrixDisplay"
   ]
  },
  {
   "cell_type": "code",
   "execution_count": 73,
   "id": "0ac18203",
   "metadata": {
    "ExecuteTime": {
     "end_time": "2022-10-12T17:21:11.357682Z",
     "start_time": "2022-10-12T17:21:11.350645Z"
    }
   },
   "outputs": [],
   "source": [
    "from supervised.automl import AutoML"
   ]
  },
  {
   "cell_type": "code",
   "execution_count": 2,
   "id": "976710a3",
   "metadata": {
    "ExecuteTime": {
     "end_time": "2022-10-12T18:34:58.845089Z",
     "start_time": "2022-10-12T18:34:43.868359Z"
    }
   },
   "outputs": [],
   "source": [
    "user_df = pd.read_csv('./data/user_spec.csv')\n",
    "loan_df = pd.read_csv('./data/loan_result.csv')"
   ]
  },
  {
   "cell_type": "code",
   "execution_count": 3,
   "id": "8cfd6f14",
   "metadata": {
    "ExecuteTime": {
     "end_time": "2022-10-12T18:35:18.775530Z",
     "start_time": "2022-10-12T18:34:58.851108Z"
    }
   },
   "outputs": [],
   "source": [
    "log_df = pd.read_csv('./data/log_data.csv')"
   ]
  },
  {
   "cell_type": "code",
   "execution_count": 3,
   "id": "66e7a945",
   "metadata": {
    "ExecuteTime": {
     "end_time": "2022-10-12T16:29:31.745440Z",
     "start_time": "2022-10-12T16:29:06.826811Z"
    }
   },
   "outputs": [],
   "source": [
    "merged_df = pd.merge(user_df, loan_df, on='application_id')"
   ]
  },
  {
   "cell_type": "code",
   "execution_count": 4,
   "id": "06626d91",
   "metadata": {
    "ExecuteTime": {
     "end_time": "2022-10-12T16:32:12.665194Z",
     "start_time": "2022-10-12T16:29:31.752773Z"
    }
   },
   "outputs": [],
   "source": [
    "merged_df.to_csv('./customData/merged_user_loan.csv')"
   ]
  },
  {
   "cell_type": "code",
   "execution_count": null,
   "id": "7982a930",
   "metadata": {},
   "outputs": [],
   "source": []
  },
  {
   "cell_type": "code",
   "execution_count": 2,
   "id": "7b8bed33",
   "metadata": {
    "ExecuteTime": {
     "end_time": "2022-10-12T18:58:03.552047Z",
     "start_time": "2022-10-12T18:56:58.221318Z"
    }
   },
   "outputs": [],
   "source": [
    "merged_df = pd.read_csv('./customData/merged_user_loan.csv', index_col=0)"
   ]
  },
  {
   "cell_type": "code",
   "execution_count": 3,
   "id": "735c03b6",
   "metadata": {
    "ExecuteTime": {
     "end_time": "2022-10-12T18:58:03.565933Z",
     "start_time": "2022-10-12T18:58:03.555182Z"
    }
   },
   "outputs": [
    {
     "data": {
      "text/plain": [
       "Index(['application_id', 'user_id', 'birth_year', 'gender', 'insert_time',\n",
       "       'credit_score', 'yearly_income', 'income_type', 'company_enter_month',\n",
       "       'employment_type', 'houseown_type', 'desired_amount', 'purpose',\n",
       "       'personal_rehabilitation_yn', 'personal_rehabilitation_complete_yn',\n",
       "       'existing_loan_cnt', 'existing_loan_amt', 'loanapply_insert_time',\n",
       "       'bank_id', 'product_id', 'loan_limit', 'loan_rate', 'is_applied'],\n",
       "      dtype='object')"
      ]
     },
     "execution_count": 3,
     "metadata": {},
     "output_type": "execute_result"
    }
   ],
   "source": [
    "merged_df.columns"
   ]
  },
  {
   "cell_type": "code",
   "execution_count": 4,
   "id": "127b9634",
   "metadata": {
    "ExecuteTime": {
     "end_time": "2022-10-12T18:58:18.972492Z",
     "start_time": "2022-10-12T18:58:03.568586Z"
    }
   },
   "outputs": [],
   "source": [
    "merged_df.sort_values(['user_id','loanapply_insert_time'], inplace=True)"
   ]
  },
  {
   "cell_type": "code",
   "execution_count": 5,
   "id": "8d893707",
   "metadata": {
    "ExecuteTime": {
     "end_time": "2022-10-12T18:58:24.340803Z",
     "start_time": "2022-10-12T18:58:18.975332Z"
    }
   },
   "outputs": [],
   "source": [
    "merged_df.dropna(inplace=True)"
   ]
  },
  {
   "cell_type": "code",
   "execution_count": 6,
   "id": "82f9ddbc",
   "metadata": {
    "ExecuteTime": {
     "end_time": "2022-10-12T18:58:24.350818Z",
     "start_time": "2022-10-12T18:58:24.343137Z"
    }
   },
   "outputs": [
    {
     "data": {
      "text/plain": [
       "(594841, 23)"
      ]
     },
     "execution_count": 6,
     "metadata": {},
     "output_type": "execute_result"
    }
   ],
   "source": [
    "merged_df.shape"
   ]
  },
  {
   "cell_type": "code",
   "execution_count": 7,
   "id": "a364b4dc",
   "metadata": {
    "ExecuteTime": {
     "end_time": "2022-10-12T18:58:24.366305Z",
     "start_time": "2022-10-12T18:58:24.355123Z"
    }
   },
   "outputs": [
    {
     "data": {
      "text/plain": [
       "35872"
      ]
     },
     "execution_count": 7,
     "metadata": {},
     "output_type": "execute_result"
    }
   ],
   "source": [
    "(merged_df['is_applied']==1).sum()"
   ]
  },
  {
   "cell_type": "code",
   "execution_count": 8,
   "id": "0421cc6b",
   "metadata": {
    "ExecuteTime": {
     "end_time": "2022-10-12T18:58:24.375255Z",
     "start_time": "2022-10-12T18:58:24.369488Z"
    }
   },
   "outputs": [],
   "source": [
    "merged_df.reset_index(inplace=True)"
   ]
  },
  {
   "cell_type": "code",
   "execution_count": 9,
   "id": "bfff5d2f",
   "metadata": {
    "ExecuteTime": {
     "end_time": "2022-10-12T18:58:24.385196Z",
     "start_time": "2022-10-12T18:58:24.378932Z"
    }
   },
   "outputs": [],
   "source": [
    "merged_df['index']=merged_df.index"
   ]
  },
  {
   "cell_type": "code",
   "execution_count": 10,
   "id": "cf4dc97b",
   "metadata": {
    "ExecuteTime": {
     "end_time": "2022-10-12T18:58:24.396034Z",
     "start_time": "2022-10-12T18:58:24.388963Z"
    }
   },
   "outputs": [
    {
     "data": {
      "text/plain": [
       "Index(['index', 'application_id', 'user_id', 'birth_year', 'gender',\n",
       "       'insert_time', 'credit_score', 'yearly_income', 'income_type',\n",
       "       'company_enter_month', 'employment_type', 'houseown_type',\n",
       "       'desired_amount', 'purpose', 'personal_rehabilitation_yn',\n",
       "       'personal_rehabilitation_complete_yn', 'existing_loan_cnt',\n",
       "       'existing_loan_amt', 'loanapply_insert_time', 'bank_id', 'product_id',\n",
       "       'loan_limit', 'loan_rate', 'is_applied'],\n",
       "      dtype='object')"
      ]
     },
     "execution_count": 10,
     "metadata": {},
     "output_type": "execute_result"
    }
   ],
   "source": [
    "merged_df.columns"
   ]
  },
  {
   "cell_type": "code",
   "execution_count": 11,
   "id": "525dae23",
   "metadata": {
    "ExecuteTime": {
     "end_time": "2022-10-12T18:58:24.469578Z",
     "start_time": "2022-10-12T18:58:24.405019Z"
    }
   },
   "outputs": [],
   "source": [
    "tmp=merged_df.drop(['application_id', 'user_id','insert_time','index','loanapply_insert_time', 'bank_id', 'product_id'],axis=1)"
   ]
  },
  {
   "cell_type": "code",
   "execution_count": 12,
   "id": "b6928f98",
   "metadata": {
    "ExecuteTime": {
     "end_time": "2022-10-12T18:58:24.475744Z",
     "start_time": "2022-10-12T18:58:24.471968Z"
    }
   },
   "outputs": [],
   "source": [
    "cate_list = [\n",
    "    'income_type',\n",
    "    'employment_type',\n",
    "    'houseown_type',\n",
    "    'purpose',]"
   ]
  },
  {
   "cell_type": "code",
   "execution_count": 13,
   "id": "d12bbe84",
   "metadata": {
    "ExecuteTime": {
     "end_time": "2022-10-12T18:58:24.501610Z",
     "start_time": "2022-10-12T18:58:24.478628Z"
    }
   },
   "outputs": [
    {
     "data": {
      "text/plain": [
       "((594841, 17), (35872, 17))"
      ]
     },
     "execution_count": 13,
     "metadata": {},
     "output_type": "execute_result"
    }
   ],
   "source": [
    "tmp.shape, tmp[tmp['is_applied']==1].shape"
   ]
  },
  {
   "cell_type": "code",
   "execution_count": 14,
   "id": "7524602d",
   "metadata": {
    "ExecuteTime": {
     "end_time": "2022-10-12T18:58:25.032429Z",
     "start_time": "2022-10-12T18:58:24.506075Z"
    }
   },
   "outputs": [],
   "source": [
    "for cate in cate_list:\n",
    "    tmp = pd.get_dummies(data = tmp, columns=[cate], prefix=cate)"
   ]
  },
  {
   "cell_type": "code",
   "execution_count": 15,
   "id": "7c33ed08",
   "metadata": {
    "ExecuteTime": {
     "end_time": "2022-10-12T18:58:25.162014Z",
     "start_time": "2022-10-12T18:58:25.034855Z"
    }
   },
   "outputs": [],
   "source": [
    "tmp =pd.concat([tmp[tmp['is_applied']==0].sample(35872, random_state=42), tmp[tmp['is_applied']==1].sample(35872, random_state=42)])"
   ]
  },
  {
   "cell_type": "code",
   "execution_count": 16,
   "id": "bf249cd7",
   "metadata": {
    "ExecuteTime": {
     "end_time": "2022-10-12T18:58:25.171302Z",
     "start_time": "2022-10-12T18:58:25.164094Z"
    }
   },
   "outputs": [],
   "source": [
    "X,y =tmp.loc[:, tmp.columns !='is_applied'] ,tmp['is_applied']"
   ]
  },
  {
   "cell_type": "code",
   "execution_count": 17,
   "id": "5b20bf72",
   "metadata": {
    "ExecuteTime": {
     "end_time": "2022-10-12T18:58:25.198907Z",
     "start_time": "2022-10-12T18:58:25.174065Z"
    }
   },
   "outputs": [],
   "source": [
    "X_train, X_test, y_train, y_test=train_test_split(X,y,test_size=0.2, random_state=42)"
   ]
  },
  {
   "cell_type": "code",
   "execution_count": 18,
   "id": "5726daff",
   "metadata": {
    "ExecuteTime": {
     "end_time": "2022-10-12T18:58:25.205438Z",
     "start_time": "2022-10-12T18:58:25.200885Z"
    }
   },
   "outputs": [],
   "source": [
    "model = RandomForestClassifier(random_state=42)"
   ]
  },
  {
   "cell_type": "code",
   "execution_count": 19,
   "id": "2696ff5e",
   "metadata": {
    "ExecuteTime": {
     "end_time": "2022-10-12T18:58:32.181190Z",
     "start_time": "2022-10-12T18:58:25.208655Z"
    }
   },
   "outputs": [
    {
     "data": {
      "text/plain": [
       "RandomForestClassifier(random_state=42)"
      ]
     },
     "execution_count": 19,
     "metadata": {},
     "output_type": "execute_result"
    }
   ],
   "source": [
    "model.fit(X_train, y_train)"
   ]
  },
  {
   "cell_type": "code",
   "execution_count": 20,
   "id": "96a32034",
   "metadata": {
    "ExecuteTime": {
     "end_time": "2022-10-12T18:58:32.601297Z",
     "start_time": "2022-10-12T18:58:32.183424Z"
    }
   },
   "outputs": [
    {
     "data": {
      "text/plain": [
       "0.8149696842985574"
      ]
     },
     "execution_count": 20,
     "metadata": {},
     "output_type": "execute_result"
    }
   ],
   "source": [
    "model.score(X_test,y_test)"
   ]
  },
  {
   "cell_type": "code",
   "execution_count": 21,
   "id": "6e59141b",
   "metadata": {
    "ExecuteTime": {
     "end_time": "2022-10-12T18:58:32.996768Z",
     "start_time": "2022-10-12T18:58:32.603513Z"
    }
   },
   "outputs": [
    {
     "data": {
      "text/plain": [
       "0.8174630457201788"
      ]
     },
     "execution_count": 21,
     "metadata": {},
     "output_type": "execute_result"
    }
   ],
   "source": [
    "y_pred = model.predict(X_test)\n",
    "f1_score(y_test, y_pred)"
   ]
  },
  {
   "cell_type": "code",
   "execution_count": 22,
   "id": "0c819b0b",
   "metadata": {
    "ExecuteTime": {
     "end_time": "2022-10-12T18:58:33.018446Z",
     "start_time": "2022-10-12T18:58:32.999087Z"
    }
   },
   "outputs": [
    {
     "data": {
      "text/plain": [
       "array([[5749, 1446],\n",
       "       [1209, 5945]])"
      ]
     },
     "execution_count": 22,
     "metadata": {},
     "output_type": "execute_result"
    }
   ],
   "source": [
    "confusion_matrix(y_test, y_pred)"
   ]
  },
  {
   "cell_type": "code",
   "execution_count": 23,
   "id": "441a3dc5",
   "metadata": {
    "ExecuteTime": {
     "end_time": "2022-10-12T18:58:33.078438Z",
     "start_time": "2022-10-12T18:58:33.020967Z"
    },
    "scrolled": true
   },
   "outputs": [
    {
     "name": "stdout",
     "output_type": "stream",
     "text": [
      "(0.17669453178641592, 'credit_score')\n",
      "(0.17422555789441435, 'loan_rate')\n",
      "(0.10966848362038831, 'loan_limit')\n",
      "(0.0911802331985813, 'desired_amount')\n",
      "(0.07316401850252927, 'company_enter_month')\n",
      "(0.07020765954422956, 'existing_loan_amt')\n",
      "(0.0650954087485928, 'yearly_income')\n",
      "(0.06452869709823061, 'birth_year')\n",
      "(0.05049083989721915, 'existing_loan_cnt')\n",
      "(0.01720350127681259, 'income_type_EARNEDINCOME')\n",
      "(0.01273285867218163, 'purpose_생활비')\n",
      "(0.012394416368376814, 'gender')\n",
      "(0.009566323806808422, 'houseown_type_전월세')\n",
      "(0.009199760277871151, 'houseown_type_기타가족소유')\n",
      "(0.007593612652192456, 'purpose_대환대출')\n",
      "(0.007558039525775338, 'employment_type_정규직')\n",
      "(0.006493953851784805, 'houseown_type_자가')\n",
      "(0.0064693852902628956, 'employment_type_기타')\n",
      "(0.006194119056616814, 'income_type_EARNEDINCOME2')\n",
      "(0.005152871447833591, 'employment_type_계약직')\n",
      "(0.004292445194494787, 'income_type_PRIVATEBUSINESS')\n",
      "(0.0037845460118602005, 'personal_rehabilitation_yn')\n",
      "(0.002934464607936977, 'income_type_PRACTITIONER')\n",
      "(0.002419690622326713, 'purpose_주택구입')\n",
      "(0.002384610362477958, 'purpose_전월세보증금')\n",
      "(0.002383384234654357, 'purpose_사업자금')\n",
      "(0.001993995041650202, 'income_type_FREELANCER')\n",
      "(0.0019205363390958625, 'purpose_기타')\n",
      "(0.001183301117487533, 'purpose_투자')\n",
      "(0.0005384704796837606, 'personal_rehabilitation_complete_yn')\n",
      "(0.00018077023636526245, 'employment_type_일용직')\n",
      "(0.00016951323484867167, 'purpose_자동차구입')\n"
     ]
    }
   ],
   "source": [
    "print(*sorted(zip(model.feature_importances_, X_test.columns), reverse=True), sep='\\n')"
   ]
  },
  {
   "cell_type": "code",
   "execution_count": 74,
   "id": "3bb2f4c5",
   "metadata": {
    "ExecuteTime": {
     "end_time": "2022-10-12T17:21:37.767406Z",
     "start_time": "2022-10-12T17:21:37.763860Z"
    }
   },
   "outputs": [],
   "source": [
    "rf =AutoML()"
   ]
  },
  {
   "cell_type": "code",
   "execution_count": 75,
   "id": "d59132d7",
   "metadata": {
    "ExecuteTime": {
     "end_time": "2022-10-12T17:24:46.658055Z",
     "start_time": "2022-10-12T17:21:48.759857Z"
    }
   },
   "outputs": [
    {
     "name": "stdout",
     "output_type": "stream",
     "text": [
      "Linear algorithm was disabled.\n",
      "AutoML directory: AutoML_1\n",
      "The task is binary_classification with evaluation metric logloss\n",
      "AutoML will use algorithms: ['Baseline', 'Decision Tree', 'Random Forest', 'Xgboost', 'Neural Network']\n",
      "AutoML will ensemble available models\n"
     ]
    },
    {
     "name": "stderr",
     "output_type": "stream",
     "text": [
      "Glyph 44228 missing from current font.\n",
      "Glyph 50557 missing from current font.\n",
      "Glyph 51649 missing from current font.\n",
      "Glyph 44228 missing from current font.\n",
      "Glyph 50557 missing from current font.\n",
      "Glyph 51649 missing from current font.\n",
      "Glyph 44592 missing from current font.\n",
      "Glyph 53440 missing from current font.\n",
      "Glyph 44592 missing from current font.\n",
      "Glyph 53440 missing from current font.\n",
      "Glyph 51068 missing from current font.\n",
      "Glyph 50857 missing from current font.\n",
      "Glyph 51649 missing from current font.\n",
      "Glyph 51068 missing from current font.\n",
      "Glyph 50857 missing from current font.\n",
      "Glyph 51649 missing from current font.\n",
      "Glyph 51221 missing from current font.\n",
      "Glyph 44508 missing from current font.\n",
      "Glyph 51649 missing from current font.\n",
      "Glyph 51221 missing from current font.\n",
      "Glyph 44508 missing from current font.\n",
      "Glyph 51649 missing from current font.\n",
      "Glyph 44592 missing from current font.\n",
      "Glyph 53440 missing from current font.\n",
      "Glyph 44032 missing from current font.\n",
      "Glyph 51313 missing from current font.\n",
      "Glyph 49548 missing from current font.\n",
      "Glyph 50976 missing from current font.\n",
      "Glyph 44592 missing from current font.\n",
      "Glyph 53440 missing from current font.\n",
      "Glyph 44032 missing from current font.\n",
      "Glyph 51313 missing from current font.\n",
      "Glyph 49548 missing from current font.\n",
      "Glyph 50976 missing from current font.\n",
      "Glyph 51088 missing from current font.\n",
      "Glyph 44032 missing from current font.\n",
      "Glyph 51088 missing from current font.\n",
      "Glyph 44032 missing from current font.\n",
      "Glyph 51204 missing from current font.\n",
      "Glyph 50900 missing from current font.\n",
      "Glyph 49464 missing from current font.\n",
      "Glyph 51204 missing from current font.\n",
      "Glyph 50900 missing from current font.\n",
      "Glyph 49464 missing from current font.\n",
      "Glyph 44592 missing from current font.\n",
      "Glyph 53440 missing from current font.\n",
      "Glyph 44592 missing from current font.\n",
      "Glyph 53440 missing from current font.\n",
      "Glyph 45824 missing from current font.\n",
      "Glyph 54872 missing from current font.\n",
      "Glyph 52636 missing from current font.\n",
      "Glyph 45824 missing from current font.\n",
      "Glyph 54872 missing from current font.\n",
      "Glyph 52636 missing from current font.\n",
      "Glyph 49324 missing from current font.\n",
      "Glyph 50629 missing from current font.\n",
      "Glyph 51088 missing from current font.\n",
      "Glyph 44552 missing from current font.\n",
      "Glyph 49324 missing from current font.\n",
      "Glyph 50629 missing from current font.\n",
      "Glyph 51088 missing from current font.\n",
      "Glyph 44552 missing from current font.\n",
      "Glyph 49373 missing from current font.\n",
      "Glyph 54876 missing from current font.\n",
      "Glyph 48708 missing from current font.\n",
      "Glyph 49373 missing from current font.\n",
      "Glyph 54876 missing from current font.\n",
      "Glyph 48708 missing from current font.\n",
      "Glyph 51088 missing from current font.\n",
      "Glyph 46041 missing from current font.\n",
      "Glyph 52264 missing from current font.\n",
      "Glyph 44396 missing from current font.\n",
      "Glyph 51077 missing from current font.\n",
      "Glyph 51088 missing from current font.\n",
      "Glyph 46041 missing from current font.\n",
      "Glyph 52264 missing from current font.\n",
      "Glyph 44396 missing from current font.\n",
      "Glyph 51077 missing from current font.\n",
      "Glyph 51204 missing from current font.\n",
      "Glyph 50900 missing from current font.\n",
      "Glyph 49464 missing from current font.\n",
      "Glyph 48372 missing from current font.\n",
      "Glyph 51613 missing from current font.\n",
      "Glyph 44552 missing from current font.\n",
      "Glyph 51204 missing from current font.\n",
      "Glyph 50900 missing from current font.\n",
      "Glyph 49464 missing from current font.\n",
      "Glyph 48372 missing from current font.\n",
      "Glyph 51613 missing from current font.\n",
      "Glyph 44552 missing from current font.\n",
      "Glyph 51452 missing from current font.\n",
      "Glyph 53469 missing from current font.\n",
      "Glyph 44396 missing from current font.\n",
      "Glyph 51077 missing from current font.\n",
      "Glyph 51452 missing from current font.\n",
      "Glyph 53469 missing from current font.\n",
      "Glyph 44396 missing from current font.\n",
      "Glyph 51077 missing from current font.\n",
      "Glyph 53804 missing from current font.\n",
      "Glyph 51088 missing from current font.\n",
      "Glyph 53804 missing from current font.\n",
      "Glyph 51088 missing from current font.\n"
     ]
    },
    {
     "name": "stdout",
     "output_type": "stream",
     "text": [
      "AutoML steps: ['simple_algorithms', 'default_algorithms', 'ensemble']\n",
      "* Step simple_algorithms will try to check up to 2 models\n",
      "1_Baseline logloss 0.693147 trained in 1.29 seconds\n"
     ]
    },
    {
     "name": "stderr",
     "output_type": "stream",
     "text": [
      "Glyph 44592 missing from current font.\n",
      "Glyph 53440 missing from current font.\n",
      "Glyph 44228 missing from current font.\n",
      "Glyph 50557 missing from current font.\n",
      "Glyph 51649 missing from current font.\n",
      "Glyph 51452 missing from current font.\n",
      "Glyph 53469 missing from current font.\n",
      "Glyph 44396 missing from current font.\n",
      "Glyph 51077 missing from current font.\n",
      "Glyph 53804 missing from current font.\n",
      "Glyph 51088 missing from current font.\n",
      "Glyph 44592 missing from current font.\n",
      "Glyph 53440 missing from current font.\n",
      "Glyph 44228 missing from current font.\n",
      "Glyph 50557 missing from current font.\n",
      "Glyph 51649 missing from current font.\n",
      "Glyph 51452 missing from current font.\n",
      "Glyph 53469 missing from current font.\n",
      "Glyph 44396 missing from current font.\n",
      "Glyph 51077 missing from current font.\n",
      "Glyph 53804 missing from current font.\n",
      "Glyph 51088 missing from current font.\n",
      "Glyph 44592 missing from current font.\n",
      "Glyph 53440 missing from current font.\n",
      "Glyph 44228 missing from current font.\n",
      "Glyph 50557 missing from current font.\n",
      "Glyph 51649 missing from current font.\n",
      "Glyph 51452 missing from current font.\n",
      "Glyph 53469 missing from current font.\n",
      "Glyph 44396 missing from current font.\n",
      "Glyph 51077 missing from current font.\n",
      "Glyph 53804 missing from current font.\n",
      "Glyph 51088 missing from current font.\n",
      "Glyph 44592 missing from current font.\n",
      "Glyph 53440 missing from current font.\n",
      "Glyph 44228 missing from current font.\n",
      "Glyph 50557 missing from current font.\n",
      "Glyph 51649 missing from current font.\n",
      "Glyph 51452 missing from current font.\n",
      "Glyph 53469 missing from current font.\n",
      "Glyph 44396 missing from current font.\n",
      "Glyph 51077 missing from current font.\n",
      "Glyph 53804 missing from current font.\n",
      "Glyph 51088 missing from current font.\n",
      "Glyph 44592 missing from current font.\n",
      "Glyph 53440 missing from current font.\n",
      "Glyph 44228 missing from current font.\n",
      "Glyph 50557 missing from current font.\n",
      "Glyph 51649 missing from current font.\n",
      "Glyph 51452 missing from current font.\n",
      "Glyph 53469 missing from current font.\n",
      "Glyph 44396 missing from current font.\n",
      "Glyph 51077 missing from current font.\n",
      "Glyph 53804 missing from current font.\n",
      "Glyph 51088 missing from current font.\n",
      "Glyph 44592 missing from current font.\n",
      "Glyph 53440 missing from current font.\n",
      "Glyph 44228 missing from current font.\n",
      "Glyph 50557 missing from current font.\n",
      "Glyph 51649 missing from current font.\n",
      "Glyph 51452 missing from current font.\n",
      "Glyph 53469 missing from current font.\n",
      "Glyph 44396 missing from current font.\n",
      "Glyph 51077 missing from current font.\n",
      "Glyph 53804 missing from current font.\n",
      "Glyph 51088 missing from current font.\n",
      "Glyph 44592 missing from current font.\n",
      "Glyph 53440 missing from current font.\n",
      "Glyph 44228 missing from current font.\n",
      "Glyph 50557 missing from current font.\n",
      "Glyph 51649 missing from current font.\n",
      "Glyph 51452 missing from current font.\n",
      "Glyph 53469 missing from current font.\n",
      "Glyph 44396 missing from current font.\n",
      "Glyph 51077 missing from current font.\n",
      "Glyph 53804 missing from current font.\n",
      "Glyph 51088 missing from current font.\n",
      "Glyph 44592 missing from current font.\n",
      "Glyph 53440 missing from current font.\n",
      "Glyph 44228 missing from current font.\n",
      "Glyph 50557 missing from current font.\n",
      "Glyph 51649 missing from current font.\n",
      "Glyph 51452 missing from current font.\n",
      "Glyph 53469 missing from current font.\n",
      "Glyph 44396 missing from current font.\n",
      "Glyph 51077 missing from current font.\n",
      "Glyph 53804 missing from current font.\n",
      "Glyph 51088 missing from current font.\n",
      "Glyph 44592 missing from current font.\n",
      "Glyph 53440 missing from current font.\n",
      "Glyph 44228 missing from current font.\n",
      "Glyph 50557 missing from current font.\n",
      "Glyph 51649 missing from current font.\n",
      "Glyph 51452 missing from current font.\n",
      "Glyph 53469 missing from current font.\n",
      "Glyph 44396 missing from current font.\n",
      "Glyph 51077 missing from current font.\n",
      "Glyph 53804 missing from current font.\n",
      "Glyph 51088 missing from current font.\n",
      "Glyph 44592 missing from current font.\n",
      "Glyph 53440 missing from current font.\n",
      "Glyph 44228 missing from current font.\n",
      "Glyph 50557 missing from current font.\n",
      "Glyph 51649 missing from current font.\n",
      "Glyph 51452 missing from current font.\n",
      "Glyph 53469 missing from current font.\n",
      "Glyph 44396 missing from current font.\n",
      "Glyph 51077 missing from current font.\n",
      "Glyph 53804 missing from current font.\n",
      "Glyph 51088 missing from current font.\n"
     ]
    },
    {
     "name": "stdout",
     "output_type": "stream",
     "text": [
      "2_DecisionTree logloss 0.57226 trained in 26.41 seconds\n"
     ]
    },
    {
     "name": "stderr",
     "output_type": "stream",
     "text": [
      "Glyph 51204 missing from current font.\n",
      "Glyph 50900 missing from current font.\n",
      "Glyph 49464 missing from current font.\n",
      "Glyph 48372 missing from current font.\n",
      "Glyph 51613 missing from current font.\n",
      "Glyph 44552 missing from current font.\n",
      "Glyph 53804 missing from current font.\n",
      "Glyph 51088 missing from current font.\n",
      "Glyph 51452 missing from current font.\n",
      "Glyph 53469 missing from current font.\n",
      "Glyph 44396 missing from current font.\n",
      "Glyph 51077 missing from current font.\n",
      "Glyph 44228 missing from current font.\n",
      "Glyph 50557 missing from current font.\n",
      "Glyph 51649 missing from current font.\n",
      "Glyph 44592 missing from current font.\n",
      "Glyph 53440 missing from current font.\n",
      "Glyph 51068 missing from current font.\n",
      "Glyph 50857 missing from current font.\n",
      "Glyph 51221 missing from current font.\n",
      "Glyph 44508 missing from current font.\n",
      "Glyph 44032 missing from current font.\n",
      "Glyph 51313 missing from current font.\n",
      "Glyph 49548 missing from current font.\n",
      "Glyph 50976 missing from current font.\n",
      "Glyph 51204 missing from current font.\n",
      "Glyph 50900 missing from current font.\n",
      "Glyph 49464 missing from current font.\n",
      "Glyph 48372 missing from current font.\n",
      "Glyph 51613 missing from current font.\n",
      "Glyph 44552 missing from current font.\n",
      "Glyph 53804 missing from current font.\n",
      "Glyph 51088 missing from current font.\n",
      "Glyph 51452 missing from current font.\n",
      "Glyph 53469 missing from current font.\n",
      "Glyph 44396 missing from current font.\n",
      "Glyph 51077 missing from current font.\n",
      "Glyph 44228 missing from current font.\n",
      "Glyph 50557 missing from current font.\n",
      "Glyph 51649 missing from current font.\n",
      "Glyph 44592 missing from current font.\n",
      "Glyph 53440 missing from current font.\n",
      "Glyph 51068 missing from current font.\n",
      "Glyph 50857 missing from current font.\n",
      "Glyph 51221 missing from current font.\n",
      "Glyph 44508 missing from current font.\n",
      "Glyph 44032 missing from current font.\n",
      "Glyph 51313 missing from current font.\n",
      "Glyph 49548 missing from current font.\n",
      "Glyph 50976 missing from current font.\n",
      "Glyph 46041 missing from current font.\n",
      "Glyph 52264 missing from current font.\n",
      "Glyph 49373 missing from current font.\n",
      "Glyph 54876 missing from current font.\n",
      "Glyph 48708 missing from current font.\n",
      "Glyph 45824 missing from current font.\n",
      "Glyph 54872 missing from current font.\n",
      "Glyph 52636 missing from current font.\n",
      "Glyph 49324 missing from current font.\n",
      "Glyph 50629 missing from current font.\n",
      "Glyph 46041 missing from current font.\n",
      "Glyph 52264 missing from current font.\n",
      "Glyph 49373 missing from current font.\n",
      "Glyph 54876 missing from current font.\n",
      "Glyph 48708 missing from current font.\n",
      "Glyph 45824 missing from current font.\n",
      "Glyph 54872 missing from current font.\n",
      "Glyph 52636 missing from current font.\n",
      "Glyph 49324 missing from current font.\n",
      "Glyph 50629 missing from current font.\n"
     ]
    },
    {
     "name": "stdout",
     "output_type": "stream",
     "text": [
      "* Step default_algorithms will try to check up to 3 models\n"
     ]
    },
    {
     "name": "stderr",
     "output_type": "stream",
     "text": [
      "Glyph 51088 missing from current font.\n",
      "Glyph 44032 missing from current font.\n",
      "Glyph 51204 missing from current font.\n",
      "Glyph 50900 missing from current font.\n",
      "Glyph 49464 missing from current font.\n",
      "Glyph 45824 missing from current font.\n",
      "Glyph 54872 missing from current font.\n",
      "Glyph 52636 missing from current font.\n",
      "Glyph 44592 missing from current font.\n",
      "Glyph 53440 missing from current font.\n",
      "Glyph 51313 missing from current font.\n",
      "Glyph 49548 missing from current font.\n",
      "Glyph 50976 missing from current font.\n",
      "Glyph 49373 missing from current font.\n",
      "Glyph 54876 missing from current font.\n",
      "Glyph 48708 missing from current font.\n",
      "Glyph 51088 missing from current font.\n",
      "Glyph 44032 missing from current font.\n",
      "Glyph 51204 missing from current font.\n",
      "Glyph 50900 missing from current font.\n",
      "Glyph 49464 missing from current font.\n",
      "Glyph 45824 missing from current font.\n",
      "Glyph 54872 missing from current font.\n",
      "Glyph 52636 missing from current font.\n",
      "Glyph 44592 missing from current font.\n",
      "Glyph 53440 missing from current font.\n",
      "Glyph 51313 missing from current font.\n",
      "Glyph 49548 missing from current font.\n",
      "Glyph 50976 missing from current font.\n",
      "Glyph 49373 missing from current font.\n",
      "Glyph 54876 missing from current font.\n",
      "Glyph 48708 missing from current font.\n",
      "Glyph 51204 missing from current font.\n",
      "Glyph 50900 missing from current font.\n",
      "Glyph 49464 missing from current font.\n",
      "Glyph 44592 missing from current font.\n",
      "Glyph 53440 missing from current font.\n",
      "Glyph 44032 missing from current font.\n",
      "Glyph 51313 missing from current font.\n",
      "Glyph 49548 missing from current font.\n",
      "Glyph 50976 missing from current font.\n",
      "Glyph 45824 missing from current font.\n",
      "Glyph 54872 missing from current font.\n",
      "Glyph 52636 missing from current font.\n",
      "Glyph 51088 missing from current font.\n",
      "Glyph 49373 missing from current font.\n",
      "Glyph 54876 missing from current font.\n",
      "Glyph 48708 missing from current font.\n",
      "Glyph 51204 missing from current font.\n",
      "Glyph 50900 missing from current font.\n",
      "Glyph 49464 missing from current font.\n",
      "Glyph 44592 missing from current font.\n",
      "Glyph 53440 missing from current font.\n",
      "Glyph 44032 missing from current font.\n",
      "Glyph 51313 missing from current font.\n",
      "Glyph 49548 missing from current font.\n",
      "Glyph 50976 missing from current font.\n",
      "Glyph 45824 missing from current font.\n",
      "Glyph 54872 missing from current font.\n",
      "Glyph 52636 missing from current font.\n",
      "Glyph 51088 missing from current font.\n",
      "Glyph 49373 missing from current font.\n",
      "Glyph 54876 missing from current font.\n",
      "Glyph 48708 missing from current font.\n",
      "Glyph 51204 missing from current font.\n",
      "Glyph 50900 missing from current font.\n",
      "Glyph 49464 missing from current font.\n",
      "Glyph 45824 missing from current font.\n",
      "Glyph 54872 missing from current font.\n",
      "Glyph 52636 missing from current font.\n",
      "Glyph 44592 missing from current font.\n",
      "Glyph 53440 missing from current font.\n",
      "Glyph 44032 missing from current font.\n",
      "Glyph 51313 missing from current font.\n",
      "Glyph 49548 missing from current font.\n",
      "Glyph 50976 missing from current font.\n",
      "Glyph 51088 missing from current font.\n",
      "Glyph 51452 missing from current font.\n",
      "Glyph 53469 missing from current font.\n",
      "Glyph 44396 missing from current font.\n",
      "Glyph 51077 missing from current font.\n",
      "Glyph 48372 missing from current font.\n",
      "Glyph 51613 missing from current font.\n",
      "Glyph 44552 missing from current font.\n",
      "Glyph 49373 missing from current font.\n",
      "Glyph 54876 missing from current font.\n",
      "Glyph 48708 missing from current font.\n",
      "Glyph 51204 missing from current font.\n",
      "Glyph 50900 missing from current font.\n",
      "Glyph 49464 missing from current font.\n",
      "Glyph 45824 missing from current font.\n",
      "Glyph 54872 missing from current font.\n",
      "Glyph 52636 missing from current font.\n",
      "Glyph 44592 missing from current font.\n",
      "Glyph 53440 missing from current font.\n",
      "Glyph 44032 missing from current font.\n",
      "Glyph 51313 missing from current font.\n",
      "Glyph 49548 missing from current font.\n",
      "Glyph 50976 missing from current font.\n",
      "Glyph 51088 missing from current font.\n",
      "Glyph 51452 missing from current font.\n",
      "Glyph 53469 missing from current font.\n",
      "Glyph 44396 missing from current font.\n",
      "Glyph 51077 missing from current font.\n",
      "Glyph 48372 missing from current font.\n",
      "Glyph 51613 missing from current font.\n",
      "Glyph 44552 missing from current font.\n",
      "Glyph 49373 missing from current font.\n",
      "Glyph 54876 missing from current font.\n",
      "Glyph 48708 missing from current font.\n",
      "Glyph 51204 missing from current font.\n",
      "Glyph 50900 missing from current font.\n",
      "Glyph 49464 missing from current font.\n",
      "Glyph 48372 missing from current font.\n",
      "Glyph 51613 missing from current font.\n",
      "Glyph 44552 missing from current font.\n",
      "Glyph 45824 missing from current font.\n",
      "Glyph 54872 missing from current font.\n",
      "Glyph 52636 missing from current font.\n",
      "Glyph 49324 missing from current font.\n",
      "Glyph 50629 missing from current font.\n",
      "Glyph 51088 missing from current font.\n",
      "Glyph 44592 missing from current font.\n",
      "Glyph 53440 missing from current font.\n",
      "Glyph 44032 missing from current font.\n",
      "Glyph 51313 missing from current font.\n",
      "Glyph 49548 missing from current font.\n",
      "Glyph 50976 missing from current font.\n",
      "Glyph 49373 missing from current font.\n",
      "Glyph 54876 missing from current font.\n",
      "Glyph 48708 missing from current font.\n",
      "Glyph 51204 missing from current font.\n",
      "Glyph 50900 missing from current font.\n",
      "Glyph 49464 missing from current font.\n",
      "Glyph 48372 missing from current font.\n",
      "Glyph 51613 missing from current font.\n",
      "Glyph 44552 missing from current font.\n",
      "Glyph 45824 missing from current font.\n",
      "Glyph 54872 missing from current font.\n",
      "Glyph 52636 missing from current font.\n",
      "Glyph 49324 missing from current font.\n",
      "Glyph 50629 missing from current font.\n",
      "Glyph 51088 missing from current font.\n",
      "Glyph 44592 missing from current font.\n",
      "Glyph 53440 missing from current font.\n",
      "Glyph 44032 missing from current font.\n",
      "Glyph 51313 missing from current font.\n",
      "Glyph 49548 missing from current font.\n",
      "Glyph 50976 missing from current font.\n",
      "Glyph 49373 missing from current font.\n",
      "Glyph 54876 missing from current font.\n",
      "Glyph 48708 missing from current font.\n",
      "Glyph 44592 missing from current font.\n",
      "Glyph 53440 missing from current font.\n",
      "Glyph 44032 missing from current font.\n",
      "Glyph 51313 missing from current font.\n",
      "Glyph 49548 missing from current font.\n",
      "Glyph 50976 missing from current font.\n",
      "Glyph 51088 missing from current font.\n",
      "Glyph 49324 missing from current font.\n",
      "Glyph 50629 missing from current font.\n",
      "Glyph 44552 missing from current font.\n",
      "Glyph 51204 missing from current font.\n",
      "Glyph 50900 missing from current font.\n",
      "Glyph 49464 missing from current font.\n",
      "Glyph 49373 missing from current font.\n",
      "Glyph 54876 missing from current font.\n",
      "Glyph 48708 missing from current font.\n",
      "Glyph 44592 missing from current font.\n",
      "Glyph 53440 missing from current font.\n",
      "Glyph 44032 missing from current font.\n",
      "Glyph 51313 missing from current font.\n",
      "Glyph 49548 missing from current font.\n",
      "Glyph 50976 missing from current font.\n",
      "Glyph 51088 missing from current font.\n",
      "Glyph 49324 missing from current font.\n",
      "Glyph 50629 missing from current font.\n",
      "Glyph 44552 missing from current font.\n",
      "Glyph 51204 missing from current font.\n",
      "Glyph 50900 missing from current font.\n",
      "Glyph 49464 missing from current font.\n",
      "Glyph 49373 missing from current font.\n",
      "Glyph 54876 missing from current font.\n",
      "Glyph 48708 missing from current font.\n"
     ]
    },
    {
     "name": "stdout",
     "output_type": "stream",
     "text": [
      "3_Default_Xgboost logloss 0.422665 trained in 51.44 seconds\n"
     ]
    },
    {
     "name": "stderr",
     "output_type": "stream",
     "text": [
      "Glyph 49373 missing from current font.\n",
      "Glyph 54876 missing from current font.\n",
      "Glyph 48708 missing from current font.\n",
      "Glyph 44592 missing from current font.\n",
      "Glyph 53440 missing from current font.\n",
      "Glyph 44032 missing from current font.\n",
      "Glyph 51313 missing from current font.\n",
      "Glyph 49548 missing from current font.\n",
      "Glyph 50976 missing from current font.\n",
      "Glyph 45824 missing from current font.\n",
      "Glyph 54872 missing from current font.\n",
      "Glyph 52636 missing from current font.\n",
      "Glyph 51452 missing from current font.\n",
      "Glyph 53469 missing from current font.\n",
      "Glyph 44396 missing from current font.\n",
      "Glyph 51077 missing from current font.\n",
      "Glyph 49324 missing from current font.\n",
      "Glyph 50629 missing from current font.\n",
      "Glyph 51088 missing from current font.\n",
      "Glyph 44552 missing from current font.\n",
      "Glyph 51204 missing from current font.\n",
      "Glyph 50900 missing from current font.\n",
      "Glyph 49464 missing from current font.\n",
      "Glyph 44228 missing from current font.\n",
      "Glyph 50557 missing from current font.\n",
      "Glyph 51649 missing from current font.\n",
      "Glyph 48372 missing from current font.\n",
      "Glyph 51613 missing from current font.\n",
      "Glyph 49373 missing from current font.\n",
      "Glyph 54876 missing from current font.\n",
      "Glyph 48708 missing from current font.\n",
      "Glyph 44592 missing from current font.\n",
      "Glyph 53440 missing from current font.\n",
      "Glyph 44032 missing from current font.\n",
      "Glyph 51313 missing from current font.\n",
      "Glyph 49548 missing from current font.\n",
      "Glyph 50976 missing from current font.\n",
      "Glyph 45824 missing from current font.\n",
      "Glyph 54872 missing from current font.\n",
      "Glyph 52636 missing from current font.\n",
      "Glyph 51452 missing from current font.\n",
      "Glyph 53469 missing from current font.\n",
      "Glyph 44396 missing from current font.\n",
      "Glyph 51077 missing from current font.\n",
      "Glyph 49324 missing from current font.\n",
      "Glyph 50629 missing from current font.\n",
      "Glyph 51088 missing from current font.\n",
      "Glyph 44552 missing from current font.\n",
      "Glyph 51204 missing from current font.\n",
      "Glyph 50900 missing from current font.\n",
      "Glyph 49464 missing from current font.\n",
      "Glyph 44228 missing from current font.\n",
      "Glyph 50557 missing from current font.\n",
      "Glyph 51649 missing from current font.\n",
      "Glyph 48372 missing from current font.\n",
      "Glyph 51613 missing from current font.\n"
     ]
    },
    {
     "name": "stdout",
     "output_type": "stream",
     "text": [
      "4_Default_NeuralNetwork logloss 0.484598 trained in 33.4 seconds\n"
     ]
    },
    {
     "name": "stderr",
     "output_type": "stream",
     "text": [
      "Glyph 51204 missing from current font.\n",
      "Glyph 50900 missing from current font.\n",
      "Glyph 49464 missing from current font.\n",
      "Glyph 44592 missing from current font.\n",
      "Glyph 53440 missing from current font.\n",
      "Glyph 44032 missing from current font.\n",
      "Glyph 51313 missing from current font.\n",
      "Glyph 49548 missing from current font.\n",
      "Glyph 50976 missing from current font.\n",
      "Glyph 51088 missing from current font.\n",
      "Glyph 49373 missing from current font.\n",
      "Glyph 54876 missing from current font.\n",
      "Glyph 48708 missing from current font.\n",
      "Glyph 51221 missing from current font.\n",
      "Glyph 44508 missing from current font.\n",
      "Glyph 51649 missing from current font.\n",
      "Glyph 45824 missing from current font.\n",
      "Glyph 54872 missing from current font.\n",
      "Glyph 52636 missing from current font.\n",
      "Glyph 44228 missing from current font.\n",
      "Glyph 50557 missing from current font.\n",
      "Glyph 48372 missing from current font.\n",
      "Glyph 51613 missing from current font.\n",
      "Glyph 44552 missing from current font.\n",
      "Glyph 51452 missing from current font.\n",
      "Glyph 53469 missing from current font.\n",
      "Glyph 44396 missing from current font.\n",
      "Glyph 51077 missing from current font.\n",
      "Glyph 51204 missing from current font.\n",
      "Glyph 50900 missing from current font.\n",
      "Glyph 49464 missing from current font.\n",
      "Glyph 44592 missing from current font.\n",
      "Glyph 53440 missing from current font.\n",
      "Glyph 44032 missing from current font.\n",
      "Glyph 51313 missing from current font.\n",
      "Glyph 49548 missing from current font.\n",
      "Glyph 50976 missing from current font.\n",
      "Glyph 51088 missing from current font.\n",
      "Glyph 49373 missing from current font.\n",
      "Glyph 54876 missing from current font.\n",
      "Glyph 48708 missing from current font.\n",
      "Glyph 51221 missing from current font.\n",
      "Glyph 44508 missing from current font.\n",
      "Glyph 51649 missing from current font.\n",
      "Glyph 45824 missing from current font.\n",
      "Glyph 54872 missing from current font.\n",
      "Glyph 52636 missing from current font.\n",
      "Glyph 44228 missing from current font.\n",
      "Glyph 50557 missing from current font.\n",
      "Glyph 48372 missing from current font.\n",
      "Glyph 51613 missing from current font.\n",
      "Glyph 44552 missing from current font.\n",
      "Glyph 51452 missing from current font.\n",
      "Glyph 53469 missing from current font.\n",
      "Glyph 44396 missing from current font.\n",
      "Glyph 51077 missing from current font.\n",
      "Glyph 51452 missing from current font.\n",
      "Glyph 53469 missing from current font.\n",
      "Glyph 44396 missing from current font.\n",
      "Glyph 51077 missing from current font.\n",
      "Glyph 53804 missing from current font.\n",
      "Glyph 51088 missing from current font.\n",
      "Glyph 45824 missing from current font.\n",
      "Glyph 54872 missing from current font.\n",
      "Glyph 52636 missing from current font.\n",
      "Glyph 44592 missing from current font.\n",
      "Glyph 53440 missing from current font.\n",
      "Glyph 51452 missing from current font.\n",
      "Glyph 53469 missing from current font.\n",
      "Glyph 44396 missing from current font.\n",
      "Glyph 51077 missing from current font.\n",
      "Glyph 53804 missing from current font.\n",
      "Glyph 51088 missing from current font.\n",
      "Glyph 45824 missing from current font.\n",
      "Glyph 54872 missing from current font.\n",
      "Glyph 52636 missing from current font.\n",
      "Glyph 44592 missing from current font.\n",
      "Glyph 53440 missing from current font.\n",
      "Glyph 51452 missing from current font.\n",
      "Glyph 53469 missing from current font.\n",
      "Glyph 44396 missing from current font.\n",
      "Glyph 51077 missing from current font.\n",
      "Glyph 53804 missing from current font.\n",
      "Glyph 51088 missing from current font.\n",
      "Glyph 44592 missing from current font.\n",
      "Glyph 53440 missing from current font.\n",
      "Glyph 45824 missing from current font.\n",
      "Glyph 54872 missing from current font.\n",
      "Glyph 52636 missing from current font.\n",
      "Glyph 51452 missing from current font.\n",
      "Glyph 53469 missing from current font.\n",
      "Glyph 44396 missing from current font.\n",
      "Glyph 51077 missing from current font.\n",
      "Glyph 53804 missing from current font.\n",
      "Glyph 51088 missing from current font.\n",
      "Glyph 44592 missing from current font.\n",
      "Glyph 53440 missing from current font.\n",
      "Glyph 45824 missing from current font.\n",
      "Glyph 54872 missing from current font.\n",
      "Glyph 52636 missing from current font.\n",
      "Glyph 51452 missing from current font.\n",
      "Glyph 53469 missing from current font.\n",
      "Glyph 44396 missing from current font.\n",
      "Glyph 51077 missing from current font.\n",
      "Glyph 53804 missing from current font.\n",
      "Glyph 51088 missing from current font.\n",
      "Glyph 45824 missing from current font.\n",
      "Glyph 54872 missing from current font.\n",
      "Glyph 52636 missing from current font.\n",
      "Glyph 44592 missing from current font.\n",
      "Glyph 53440 missing from current font.\n",
      "Glyph 51452 missing from current font.\n",
      "Glyph 53469 missing from current font.\n",
      "Glyph 44396 missing from current font.\n",
      "Glyph 51077 missing from current font.\n",
      "Glyph 53804 missing from current font.\n",
      "Glyph 51088 missing from current font.\n",
      "Glyph 45824 missing from current font.\n",
      "Glyph 54872 missing from current font.\n",
      "Glyph 52636 missing from current font.\n",
      "Glyph 44592 missing from current font.\n",
      "Glyph 53440 missing from current font.\n",
      "Glyph 51452 missing from current font.\n",
      "Glyph 53469 missing from current font.\n",
      "Glyph 44396 missing from current font.\n",
      "Glyph 51077 missing from current font.\n",
      "Glyph 53804 missing from current font.\n",
      "Glyph 51088 missing from current font.\n",
      "Glyph 45824 missing from current font.\n",
      "Glyph 54872 missing from current font.\n",
      "Glyph 52636 missing from current font.\n",
      "Glyph 44592 missing from current font.\n",
      "Glyph 53440 missing from current font.\n",
      "Glyph 51452 missing from current font.\n",
      "Glyph 53469 missing from current font.\n",
      "Glyph 44396 missing from current font.\n",
      "Glyph 51077 missing from current font.\n",
      "Glyph 53804 missing from current font.\n",
      "Glyph 51088 missing from current font.\n",
      "Glyph 45824 missing from current font.\n",
      "Glyph 54872 missing from current font.\n",
      "Glyph 52636 missing from current font.\n",
      "Glyph 44592 missing from current font.\n",
      "Glyph 53440 missing from current font.\n",
      "Glyph 51452 missing from current font.\n",
      "Glyph 53469 missing from current font.\n",
      "Glyph 44396 missing from current font.\n",
      "Glyph 51077 missing from current font.\n",
      "Glyph 53804 missing from current font.\n",
      "Glyph 51088 missing from current font.\n",
      "Glyph 45824 missing from current font.\n",
      "Glyph 54872 missing from current font.\n",
      "Glyph 52636 missing from current font.\n",
      "Glyph 44592 missing from current font.\n",
      "Glyph 53440 missing from current font.\n",
      "Glyph 51452 missing from current font.\n",
      "Glyph 53469 missing from current font.\n",
      "Glyph 44396 missing from current font.\n",
      "Glyph 51077 missing from current font.\n",
      "Glyph 53804 missing from current font.\n",
      "Glyph 51088 missing from current font.\n",
      "Glyph 45824 missing from current font.\n",
      "Glyph 54872 missing from current font.\n",
      "Glyph 52636 missing from current font.\n",
      "Glyph 44592 missing from current font.\n",
      "Glyph 53440 missing from current font.\n"
     ]
    },
    {
     "name": "stdout",
     "output_type": "stream",
     "text": [
      "5_Default_RandomForest logloss 0.541137 trained in 18.93 seconds\n"
     ]
    },
    {
     "name": "stderr",
     "output_type": "stream",
     "text": [
      "Glyph 44592 missing from current font.\n",
      "Glyph 53440 missing from current font.\n",
      "Glyph 45824 missing from current font.\n",
      "Glyph 54872 missing from current font.\n",
      "Glyph 52636 missing from current font.\n",
      "Glyph 51204 missing from current font.\n",
      "Glyph 50900 missing from current font.\n",
      "Glyph 49464 missing from current font.\n",
      "Glyph 48372 missing from current font.\n",
      "Glyph 51613 missing from current font.\n",
      "Glyph 44552 missing from current font.\n",
      "Glyph 53804 missing from current font.\n",
      "Glyph 51088 missing from current font.\n",
      "Glyph 51452 missing from current font.\n",
      "Glyph 53469 missing from current font.\n",
      "Glyph 44396 missing from current font.\n",
      "Glyph 51077 missing from current font.\n",
      "Glyph 44228 missing from current font.\n",
      "Glyph 50557 missing from current font.\n",
      "Glyph 51649 missing from current font.\n",
      "Glyph 51068 missing from current font.\n",
      "Glyph 50857 missing from current font.\n",
      "Glyph 51221 missing from current font.\n",
      "Glyph 44508 missing from current font.\n",
      "Glyph 44032 missing from current font.\n",
      "Glyph 51313 missing from current font.\n",
      "Glyph 49548 missing from current font.\n",
      "Glyph 50976 missing from current font.\n",
      "Glyph 44592 missing from current font.\n",
      "Glyph 53440 missing from current font.\n",
      "Glyph 45824 missing from current font.\n",
      "Glyph 54872 missing from current font.\n",
      "Glyph 52636 missing from current font.\n",
      "Glyph 51204 missing from current font.\n",
      "Glyph 50900 missing from current font.\n",
      "Glyph 49464 missing from current font.\n",
      "Glyph 48372 missing from current font.\n",
      "Glyph 51613 missing from current font.\n",
      "Glyph 44552 missing from current font.\n",
      "Glyph 53804 missing from current font.\n",
      "Glyph 51088 missing from current font.\n",
      "Glyph 51452 missing from current font.\n",
      "Glyph 53469 missing from current font.\n",
      "Glyph 44396 missing from current font.\n",
      "Glyph 51077 missing from current font.\n",
      "Glyph 44228 missing from current font.\n",
      "Glyph 50557 missing from current font.\n",
      "Glyph 51649 missing from current font.\n",
      "Glyph 51068 missing from current font.\n",
      "Glyph 50857 missing from current font.\n",
      "Glyph 51221 missing from current font.\n",
      "Glyph 44508 missing from current font.\n",
      "Glyph 44032 missing from current font.\n",
      "Glyph 51313 missing from current font.\n",
      "Glyph 49548 missing from current font.\n",
      "Glyph 50976 missing from current font.\n"
     ]
    },
    {
     "name": "stdout",
     "output_type": "stream",
     "text": [
      "* Step ensemble will try to check up to 1 model\n",
      "Ensemble logloss 0.421308 trained in 4.37 seconds\n"
     ]
    },
    {
     "name": "stderr",
     "output_type": "stream",
     "text": [
      "Glyph 51204 missing from current font.\n",
      "Glyph 50900 missing from current font.\n",
      "Glyph 49464 missing from current font.\n",
      "Glyph 44592 missing from current font.\n",
      "Glyph 53440 missing from current font.\n",
      "Glyph 44032 missing from current font.\n",
      "Glyph 51313 missing from current font.\n",
      "Glyph 49548 missing from current font.\n",
      "Glyph 50976 missing from current font.\n",
      "Glyph 51088 missing from current font.\n",
      "Glyph 49373 missing from current font.\n",
      "Glyph 54876 missing from current font.\n",
      "Glyph 48708 missing from current font.\n",
      "Glyph 45824 missing from current font.\n",
      "Glyph 54872 missing from current font.\n",
      "Glyph 52636 missing from current font.\n",
      "Glyph 51221 missing from current font.\n",
      "Glyph 44508 missing from current font.\n",
      "Glyph 51649 missing from current font.\n",
      "Glyph 44228 missing from current font.\n",
      "Glyph 50557 missing from current font.\n",
      "Glyph 51452 missing from current font.\n",
      "Glyph 53469 missing from current font.\n",
      "Glyph 44396 missing from current font.\n",
      "Glyph 51077 missing from current font.\n",
      "Glyph 49324 missing from current font.\n",
      "Glyph 50629 missing from current font.\n",
      "Glyph 44552 missing from current font.\n",
      "Glyph 51204 missing from current font.\n",
      "Glyph 50900 missing from current font.\n",
      "Glyph 49464 missing from current font.\n",
      "Glyph 44592 missing from current font.\n",
      "Glyph 53440 missing from current font.\n",
      "Glyph 44032 missing from current font.\n",
      "Glyph 51313 missing from current font.\n",
      "Glyph 49548 missing from current font.\n",
      "Glyph 50976 missing from current font.\n",
      "Glyph 51088 missing from current font.\n",
      "Glyph 49373 missing from current font.\n",
      "Glyph 54876 missing from current font.\n",
      "Glyph 48708 missing from current font.\n",
      "Glyph 45824 missing from current font.\n",
      "Glyph 54872 missing from current font.\n",
      "Glyph 52636 missing from current font.\n",
      "Glyph 51221 missing from current font.\n",
      "Glyph 44508 missing from current font.\n",
      "Glyph 51649 missing from current font.\n",
      "Glyph 44228 missing from current font.\n",
      "Glyph 50557 missing from current font.\n",
      "Glyph 51452 missing from current font.\n",
      "Glyph 53469 missing from current font.\n",
      "Glyph 44396 missing from current font.\n",
      "Glyph 51077 missing from current font.\n",
      "Glyph 49324 missing from current font.\n",
      "Glyph 50629 missing from current font.\n",
      "Glyph 44552 missing from current font.\n"
     ]
    },
    {
     "name": "stdout",
     "output_type": "stream",
     "text": [
      "AutoML fit time: 177.88 seconds\n",
      "AutoML best model: Ensemble\n"
     ]
    },
    {
     "data": {
      "text/plain": [
       "AutoML()"
      ]
     },
     "execution_count": 75,
     "metadata": {},
     "output_type": "execute_result"
    }
   ],
   "source": [
    "rf.fit(X_train,y_train)"
   ]
  },
  {
   "cell_type": "code",
   "execution_count": 76,
   "id": "dc39aa52",
   "metadata": {
    "ExecuteTime": {
     "end_time": "2022-10-12T17:24:50.803624Z",
     "start_time": "2022-10-12T17:24:50.505820Z"
    }
   },
   "outputs": [
    {
     "data": {
      "text/plain": [
       "0.8098822217576138"
      ]
     },
     "execution_count": 76,
     "metadata": {},
     "output_type": "execute_result"
    }
   ],
   "source": [
    "rf.score(X_test, y_test)"
   ]
  },
  {
   "cell_type": "markdown",
   "id": "f5649d2e",
   "metadata": {},
   "source": [
    "## 변수만들기"
   ]
  },
  {
   "cell_type": "markdown",
   "id": "74c2e540",
   "metadata": {},
   "source": [
    "### 기대출금액 / 연수입 = 변수 A"
   ]
  },
  {
   "cell_type": "code",
   "execution_count": 24,
   "id": "5efa24a6",
   "metadata": {
    "ExecuteTime": {
     "end_time": "2022-10-12T18:58:33.090325Z",
     "start_time": "2022-10-12T18:58:33.084302Z"
    }
   },
   "outputs": [],
   "source": [
    "tmp2=tmp.copy()"
   ]
  },
  {
   "cell_type": "code",
   "execution_count": 26,
   "id": "cf196735",
   "metadata": {
    "ExecuteTime": {
     "end_time": "2022-10-12T19:06:27.056328Z",
     "start_time": "2022-10-12T19:06:27.050874Z"
    }
   },
   "outputs": [],
   "source": [
    "tmp2['yearly_income'].replace(0,1 , inplace=True)"
   ]
  },
  {
   "cell_type": "code",
   "execution_count": 27,
   "id": "f3e1f598",
   "metadata": {
    "ExecuteTime": {
     "end_time": "2022-10-12T19:06:32.504635Z",
     "start_time": "2022-10-12T19:06:32.498865Z"
    }
   },
   "outputs": [],
   "source": [
    "tmp2['A']=tmp2['existing_loan_amt']/tmp2['yearly_income']"
   ]
  },
  {
   "cell_type": "code",
   "execution_count": 28,
   "id": "bb360457",
   "metadata": {
    "ExecuteTime": {
     "end_time": "2022-10-12T19:06:33.069879Z",
     "start_time": "2022-10-12T19:06:33.056787Z"
    }
   },
   "outputs": [],
   "source": [
    "X,y =tmp2.loc[:, tmp2.columns !='is_applied'] ,tmp2['is_applied']"
   ]
  },
  {
   "cell_type": "code",
   "execution_count": 29,
   "id": "61ff5549",
   "metadata": {
    "ExecuteTime": {
     "end_time": "2022-10-12T19:06:33.783632Z",
     "start_time": "2022-10-12T19:06:33.756916Z"
    }
   },
   "outputs": [],
   "source": [
    "X_train, X_test, y_train, y_test=train_test_split(X,y,test_size=0.2, random_state=42)"
   ]
  },
  {
   "cell_type": "code",
   "execution_count": 30,
   "id": "7e78da78",
   "metadata": {
    "ExecuteTime": {
     "end_time": "2022-10-12T19:06:34.284014Z",
     "start_time": "2022-10-12T19:06:34.280399Z"
    }
   },
   "outputs": [],
   "source": [
    "model2 = RandomForestClassifier(random_state=42)"
   ]
  },
  {
   "cell_type": "code",
   "execution_count": 31,
   "id": "8a430655",
   "metadata": {
    "ExecuteTime": {
     "end_time": "2022-10-12T19:06:42.989789Z",
     "start_time": "2022-10-12T19:06:34.818893Z"
    }
   },
   "outputs": [
    {
     "data": {
      "text/plain": [
       "RandomForestClassifier(random_state=42)"
      ]
     },
     "execution_count": 31,
     "metadata": {},
     "output_type": "execute_result"
    }
   ],
   "source": [
    "model2.fit(X_train, y_train)"
   ]
  },
  {
   "cell_type": "code",
   "execution_count": 32,
   "id": "9e59ce1d",
   "metadata": {
    "ExecuteTime": {
     "end_time": "2022-10-12T19:06:43.492845Z",
     "start_time": "2022-10-12T19:06:42.993000Z"
    }
   },
   "outputs": [
    {
     "data": {
      "text/plain": [
       "0.8160150533138197"
      ]
     },
     "execution_count": 32,
     "metadata": {},
     "output_type": "execute_result"
    }
   ],
   "source": [
    "model2.score(X_test,y_test)"
   ]
  },
  {
   "cell_type": "code",
   "execution_count": 33,
   "id": "8776c61f",
   "metadata": {
    "ExecuteTime": {
     "end_time": "2022-10-12T19:06:43.975949Z",
     "start_time": "2022-10-12T19:06:43.495707Z"
    }
   },
   "outputs": [
    {
     "data": {
      "text/plain": [
       "0.8186813186813187"
      ]
     },
     "execution_count": 33,
     "metadata": {},
     "output_type": "execute_result"
    }
   ],
   "source": [
    "y_pred = model2.predict(X_test)\n",
    "f1_score(y_test, y_pred)"
   ]
  },
  {
   "cell_type": "code",
   "execution_count": 34,
   "id": "fa445366",
   "metadata": {
    "ExecuteTime": {
     "end_time": "2022-10-12T19:06:44.004625Z",
     "start_time": "2022-10-12T19:06:43.979677Z"
    }
   },
   "outputs": [
    {
     "data": {
      "text/plain": [
       "array([[5749, 1446],\n",
       "       [1194, 5960]])"
      ]
     },
     "execution_count": 34,
     "metadata": {},
     "output_type": "execute_result"
    }
   ],
   "source": [
    "confusion_matrix(y_test, y_pred)"
   ]
  },
  {
   "cell_type": "code",
   "execution_count": 35,
   "id": "f5067717",
   "metadata": {
    "ExecuteTime": {
     "end_time": "2022-10-12T19:06:44.073756Z",
     "start_time": "2022-10-12T19:06:44.008308Z"
    },
    "scrolled": true
   },
   "outputs": [
    {
     "name": "stdout",
     "output_type": "stream",
     "text": [
      "(0.1706646680147164, 'loan_rate')\n",
      "(0.16931082586456053, 'credit_score')\n",
      "(0.10591272697919905, 'loan_limit')\n",
      "(0.08678997692726435, 'desired_amount')\n",
      "(0.0670553800108292, 'company_enter_month')\n",
      "(0.0634408219995224, 'A')\n",
      "(0.05925351299359998, 'existing_loan_amt')\n",
      "(0.056780642664284516, 'birth_year')\n",
      "(0.056434872234600066, 'yearly_income')\n",
      "(0.04652808469607241, 'existing_loan_cnt')\n",
      "(0.016450141845757563, 'income_type_EARNEDINCOME')\n",
      "(0.012040431277164759, 'purpose_생활비')\n",
      "(0.011087111802238415, 'gender')\n",
      "(0.008890655895734996, 'houseown_type_전월세')\n",
      "(0.008596586271937939, 'houseown_type_기타가족소유')\n",
      "(0.00783640077019819, 'purpose_대환대출')\n",
      "(0.0072375067912345235, 'employment_type_정규직')\n",
      "(0.006350162004686491, 'employment_type_기타')\n",
      "(0.005899700054536761, 'houseown_type_자가')\n",
      "(0.0057738012009717985, 'income_type_EARNEDINCOME2')\n",
      "(0.004593191117614816, 'employment_type_계약직')\n",
      "(0.0043137508996639925, 'income_type_PRIVATEBUSINESS')\n",
      "(0.003508031704107431, 'personal_rehabilitation_yn')\n",
      "(0.0025916792891103944, 'income_type_PRACTITIONER')\n",
      "(0.002337037288108088, 'purpose_사업자금')\n",
      "(0.0023348783772033786, 'purpose_전월세보증금')\n",
      "(0.0022000031787049405, 'purpose_주택구입')\n",
      "(0.0021609387256367276, 'income_type_FREELANCER')\n",
      "(0.001690067798928048, 'purpose_기타')\n",
      "(0.0011057428892698672, 'purpose_투자')\n",
      "(0.0005460092735418503, 'personal_rehabilitation_complete_yn')\n",
      "(0.0001428268946121497, 'employment_type_일용직')\n",
      "(0.0001418322643879879, 'purpose_자동차구입')\n"
     ]
    }
   ],
   "source": [
    "print(*sorted(zip(model2.feature_importances_, X_test.columns), reverse=True), sep='\\n')"
   ]
  },
  {
   "cell_type": "code",
   "execution_count": 36,
   "id": "1df56cad",
   "metadata": {
    "ExecuteTime": {
     "end_time": "2022-10-12T19:07:31.849708Z",
     "start_time": "2022-10-12T19:07:31.842649Z"
    }
   },
   "outputs": [],
   "source": [
    "tmp2['A']=tmp2['existing_loan_amt']<tmp2['yearly_income']"
   ]
  },
  {
   "cell_type": "code",
   "execution_count": 37,
   "id": "51247aaa",
   "metadata": {
    "ExecuteTime": {
     "end_time": "2022-10-12T19:07:32.958505Z",
     "start_time": "2022-10-12T19:07:32.950197Z"
    }
   },
   "outputs": [],
   "source": [
    "X,y =tmp2.loc[:, tmp2.columns !='is_applied'] ,tmp2['is_applied']"
   ]
  },
  {
   "cell_type": "code",
   "execution_count": 38,
   "id": "3748b056",
   "metadata": {
    "ExecuteTime": {
     "end_time": "2022-10-12T19:07:33.353301Z",
     "start_time": "2022-10-12T19:07:33.324190Z"
    }
   },
   "outputs": [],
   "source": [
    "X_train, X_test, y_train, y_test=train_test_split(X,y,test_size=0.2, random_state=42)"
   ]
  },
  {
   "cell_type": "code",
   "execution_count": 39,
   "id": "bd5447bc",
   "metadata": {
    "ExecuteTime": {
     "end_time": "2022-10-12T19:07:33.644915Z",
     "start_time": "2022-10-12T19:07:33.641143Z"
    }
   },
   "outputs": [],
   "source": [
    "model2 = RandomForestClassifier(random_state=42)"
   ]
  },
  {
   "cell_type": "code",
   "execution_count": 40,
   "id": "cbad7d41",
   "metadata": {
    "ExecuteTime": {
     "end_time": "2022-10-12T19:07:42.363305Z",
     "start_time": "2022-10-12T19:07:33.963427Z"
    }
   },
   "outputs": [
    {
     "data": {
      "text/plain": [
       "RandomForestClassifier(random_state=42)"
      ]
     },
     "execution_count": 40,
     "metadata": {},
     "output_type": "execute_result"
    }
   ],
   "source": [
    "model2.fit(X_train, y_train)"
   ]
  },
  {
   "cell_type": "code",
   "execution_count": 41,
   "id": "97a8469d",
   "metadata": {
    "ExecuteTime": {
     "end_time": "2022-10-12T19:07:42.979351Z",
     "start_time": "2022-10-12T19:07:42.366447Z"
    }
   },
   "outputs": [
    {
     "data": {
      "text/plain": [
       "0.8144818454247683"
      ]
     },
     "execution_count": 41,
     "metadata": {},
     "output_type": "execute_result"
    }
   ],
   "source": [
    "model2.score(X_test,y_test)"
   ]
  },
  {
   "cell_type": "code",
   "execution_count": 42,
   "id": "0939cc72",
   "metadata": {
    "ExecuteTime": {
     "end_time": "2022-10-12T19:07:43.536511Z",
     "start_time": "2022-10-12T19:07:42.983121Z"
    }
   },
   "outputs": [
    {
     "data": {
      "text/plain": [
       "0.816944024205749"
      ]
     },
     "execution_count": 42,
     "metadata": {},
     "output_type": "execute_result"
    }
   ],
   "source": [
    "y_pred = model2.predict(X_test)\n",
    "f1_score(y_test, y_pred)"
   ]
  },
  {
   "cell_type": "code",
   "execution_count": 43,
   "id": "dafc988f",
   "metadata": {
    "ExecuteTime": {
     "end_time": "2022-10-12T19:07:43.562930Z",
     "start_time": "2022-10-12T19:07:43.540233Z"
    }
   },
   "outputs": [
    {
     "data": {
      "text/plain": [
       "array([[5747, 1448],\n",
       "       [1214, 5940]])"
      ]
     },
     "execution_count": 43,
     "metadata": {},
     "output_type": "execute_result"
    }
   ],
   "source": [
    "confusion_matrix(y_test, y_pred)"
   ]
  },
  {
   "cell_type": "code",
   "execution_count": 44,
   "id": "2b42cac4",
   "metadata": {
    "ExecuteTime": {
     "end_time": "2022-10-12T19:07:43.636508Z",
     "start_time": "2022-10-12T19:07:43.565385Z"
    },
    "scrolled": true
   },
   "outputs": [
    {
     "name": "stdout",
     "output_type": "stream",
     "text": [
      "(0.17704261139845667, 'credit_score')\n",
      "(0.1731567517758771, 'loan_rate')\n",
      "(0.10997616491755391, 'loan_limit')\n",
      "(0.0919432124236878, 'desired_amount')\n",
      "(0.07158757282330541, 'company_enter_month')\n",
      "(0.06724449779611907, 'existing_loan_amt')\n",
      "(0.06408588995871643, 'yearly_income')\n",
      "(0.06245197636192024, 'birth_year')\n",
      "(0.04957863353093072, 'existing_loan_cnt')\n",
      "(0.016961269048716057, 'income_type_EARNEDINCOME')\n",
      "(0.013092553150543222, 'purpose_생활비')\n",
      "(0.012376678246457355, 'gender')\n",
      "(0.009645866179345791, 'houseown_type_전월세')\n",
      "(0.00924064819741152, 'A')\n",
      "(0.009133339041354941, 'houseown_type_기타가족소유')\n",
      "(0.007901904557804623, 'employment_type_정규직')\n",
      "(0.007535927514530602, 'purpose_대환대출')\n",
      "(0.006309086677597124, 'houseown_type_자가')\n",
      "(0.006253272815096527, 'employment_type_기타')\n",
      "(0.005575537616327484, 'income_type_EARNEDINCOME2')\n",
      "(0.004722560937530729, 'employment_type_계약직')\n",
      "(0.0043708471638263776, 'income_type_PRIVATEBUSINESS')\n",
      "(0.0038627495016206837, 'personal_rehabilitation_yn')\n",
      "(0.0028755377278252454, 'income_type_PRACTITIONER')\n",
      "(0.0023843510807659823, 'purpose_주택구입')\n",
      "(0.00238071820619251, 'purpose_사업자금')\n",
      "(0.002317446454774623, 'purpose_전월세보증금')\n",
      "(0.002005315740331824, 'income_type_FREELANCER')\n",
      "(0.0019235085186272757, 'purpose_기타')\n",
      "(0.001161007523272364, 'purpose_투자')\n",
      "(0.0005369463191064559, 'personal_rehabilitation_complete_yn')\n",
      "(0.00020430601640601418, 'employment_type_일용직')\n",
      "(0.00016131077796728606, 'purpose_자동차구입')\n"
     ]
    }
   ],
   "source": [
    "print(*sorted(zip(model2.feature_importances_, X_test.columns), reverse=True), sep='\\n')"
   ]
  },
  {
   "cell_type": "markdown",
   "id": "10b4d531",
   "metadata": {},
   "source": [
    "## personal_rehabilitation"
   ]
  },
  {
   "cell_type": "code",
   "execution_count": 197,
   "id": "620161f1",
   "metadata": {
    "ExecuteTime": {
     "end_time": "2022-10-12T17:44:32.459563Z",
     "start_time": "2022-10-12T17:44:32.454649Z"
    }
   },
   "outputs": [],
   "source": [
    "tmp2=tmp.copy()"
   ]
  },
  {
   "cell_type": "code",
   "execution_count": 198,
   "id": "4487aa0f",
   "metadata": {
    "ExecuteTime": {
     "end_time": "2022-10-12T17:44:55.055173Z",
     "start_time": "2022-10-12T17:44:55.049241Z"
    }
   },
   "outputs": [],
   "source": [
    "tmp2['pers'] = tmp2['personal_rehabilitation_yn']"
   ]
  },
  {
   "cell_type": "code",
   "execution_count": 208,
   "id": "2899d8eb",
   "metadata": {
    "ExecuteTime": {
     "end_time": "2022-10-12T17:50:05.218190Z",
     "start_time": "2022-10-12T17:50:05.183099Z"
    }
   },
   "outputs": [],
   "source": [
    "tmp2.loc[tmp2[(tmp2['personal_rehabilitation_yn']==0)&(tmp2['personal_rehabilitation_complete_yn']==0)].index, 'pers']=1\n",
    "tmp2.loc[tmp2[(tmp2['personal_rehabilitation_yn']==1)&(tmp2['personal_rehabilitation_complete_yn']==1)].index, 'pers']=0\n",
    "tmp2.loc[tmp2[(tmp2['personal_rehabilitation_yn']==1)&(tmp2['personal_rehabilitation_complete_yn']==0)].index, 'pers']=-1\n"
   ]
  },
  {
   "cell_type": "code",
   "execution_count": 210,
   "id": "ef9e571f",
   "metadata": {
    "ExecuteTime": {
     "end_time": "2022-10-12T17:50:11.948540Z",
     "start_time": "2022-10-12T17:50:11.940370Z"
    }
   },
   "outputs": [
    {
     "data": {
      "text/plain": [
       " 1.0    69333\n",
       "-1.0     2184\n",
       " 0.0      227\n",
       "Name: pers, dtype: int64"
      ]
     },
     "execution_count": 210,
     "metadata": {},
     "output_type": "execute_result"
    }
   ],
   "source": [
    "tmp2['pers'].value_counts()"
   ]
  },
  {
   "cell_type": "code",
   "execution_count": 211,
   "id": "a89c01c8",
   "metadata": {
    "ExecuteTime": {
     "end_time": "2022-10-12T17:50:30.884000Z",
     "start_time": "2022-10-12T17:50:30.875432Z"
    }
   },
   "outputs": [],
   "source": [
    "X,y =tmp2.loc[:, tmp2.columns !='is_applied'] ,tmp2['is_applied']"
   ]
  },
  {
   "cell_type": "code",
   "execution_count": 212,
   "id": "18740af9",
   "metadata": {
    "ExecuteTime": {
     "end_time": "2022-10-12T17:50:31.188793Z",
     "start_time": "2022-10-12T17:50:31.160428Z"
    }
   },
   "outputs": [],
   "source": [
    "X_train, X_test, y_train, y_test=train_test_split(X,y,test_size=0.2, random_state=42)"
   ]
  },
  {
   "cell_type": "code",
   "execution_count": 213,
   "id": "95eed0e6",
   "metadata": {
    "ExecuteTime": {
     "end_time": "2022-10-12T17:50:31.543679Z",
     "start_time": "2022-10-12T17:50:31.539944Z"
    }
   },
   "outputs": [],
   "source": [
    "model2 = RandomForestClassifier(random_state=42)"
   ]
  },
  {
   "cell_type": "code",
   "execution_count": 214,
   "id": "05d9ec18",
   "metadata": {
    "ExecuteTime": {
     "end_time": "2022-10-12T17:50:38.932357Z",
     "start_time": "2022-10-12T17:50:32.097419Z"
    }
   },
   "outputs": [
    {
     "data": {
      "text/plain": [
       "RandomForestClassifier(random_state=42)"
      ]
     },
     "execution_count": 214,
     "metadata": {},
     "output_type": "execute_result"
    }
   ],
   "source": [
    "model2.fit(X_train, y_train)"
   ]
  },
  {
   "cell_type": "code",
   "execution_count": 215,
   "id": "4ace400e",
   "metadata": {
    "ExecuteTime": {
     "end_time": "2022-10-12T17:50:39.414436Z",
     "start_time": "2022-10-12T17:50:38.935627Z"
    }
   },
   "outputs": [
    {
     "data": {
      "text/plain": [
       "0.8159453620461357"
      ]
     },
     "execution_count": 215,
     "metadata": {},
     "output_type": "execute_result"
    }
   ],
   "source": [
    "model2.score(X_test,y_test)"
   ]
  },
  {
   "cell_type": "code",
   "execution_count": 216,
   "id": "6f1da457",
   "metadata": {
    "ExecuteTime": {
     "end_time": "2022-10-12T17:50:39.864692Z",
     "start_time": "2022-10-12T17:50:39.417120Z"
    }
   },
   "outputs": [
    {
     "data": {
      "text/plain": [
       "0.8183006535947713"
      ]
     },
     "execution_count": 216,
     "metadata": {},
     "output_type": "execute_result"
    }
   ],
   "source": [
    "y_pred = model2.predict(X_test)\n",
    "f1_score(y_test, y_pred)"
   ]
  },
  {
   "cell_type": "code",
   "execution_count": 217,
   "id": "d8505e8e",
   "metadata": {
    "ExecuteTime": {
     "end_time": "2022-10-12T17:50:39.897102Z",
     "start_time": "2022-10-12T17:50:39.869203Z"
    }
   },
   "outputs": [
    {
     "data": {
      "text/plain": [
       "array([[5761, 1434],\n",
       "       [1207, 5947]])"
      ]
     },
     "execution_count": 217,
     "metadata": {},
     "output_type": "execute_result"
    }
   ],
   "source": [
    "confusion_matrix(y_test, y_pred)"
   ]
  },
  {
   "cell_type": "code",
   "execution_count": 218,
   "id": "b3d1cb8b",
   "metadata": {
    "ExecuteTime": {
     "end_time": "2022-10-12T17:50:39.966642Z",
     "start_time": "2022-10-12T17:50:39.900335Z"
    },
    "scrolled": true
   },
   "outputs": [
    {
     "name": "stdout",
     "output_type": "stream",
     "text": [
      "(0.17607202835506378, 'credit_score')\n",
      "(0.1737791495409477, 'loan_rate')\n",
      "(0.11050867012881256, 'loan_limit')\n",
      "(0.09277573139560569, 'desired_amount')\n",
      "(0.07323431519296913, 'company_enter_month')\n",
      "(0.0700886683512557, 'existing_loan_amt')\n",
      "(0.06478802447185428, 'yearly_income')\n",
      "(0.06336892580482573, 'birth_year')\n",
      "(0.05045346682370731, 'existing_loan_cnt')\n",
      "(0.015469163090721777, 'income_type_EARNEDINCOME')\n",
      "(0.012434961242003816, 'purpose_생활비')\n",
      "(0.012321881760688913, 'gender')\n",
      "(0.009450741154601087, 'houseown_type_전월세')\n",
      "(0.009177444150704385, 'houseown_type_기타가족소유')\n",
      "(0.00811433734209577, 'purpose_대환대출')\n",
      "(0.007711769590127578, 'employment_type_정규직')\n",
      "(0.0067709958935250475, 'employment_type_기타')\n",
      "(0.006583040294698614, 'houseown_type_자가')\n",
      "(0.005865024860047986, 'income_type_EARNEDINCOME2')\n",
      "(0.004912301455855815, 'employment_type_계약직')\n",
      "(0.00480060015968881, 'income_type_PRIVATEBUSINESS')\n",
      "(0.0028746837335653533, 'income_type_PRACTITIONER')\n",
      "(0.0027730029194562014, 'pers')\n",
      "(0.002497379263814644, 'personal_rehabilitation_yn')\n",
      "(0.002459729645184286, 'purpose_사업자금')\n",
      "(0.0023955765174362926, 'purpose_주택구입')\n",
      "(0.002375157151966463, 'purpose_전월세보증금')\n",
      "(0.00204887157964198, 'income_type_FREELANCER')\n",
      "(0.0018946523420775218, 'purpose_기타')\n",
      "(0.0012432481805044742, 'purpose_투자')\n",
      "(0.0004312265131350333, 'personal_rehabilitation_complete_yn')\n",
      "(0.00017279644733928204, 'employment_type_일용직')\n",
      "(0.0001524346460771063, 'purpose_자동차구입')\n"
     ]
    }
   ],
   "source": [
    "print(*sorted(zip(model2.feature_importances_, X_test.columns), reverse=True), sep='\\n')"
   ]
  },
  {
   "cell_type": "markdown",
   "id": "68199bf1",
   "metadata": {},
   "source": [
    "## 조회"
   ]
  },
  {
   "cell_type": "code",
   "execution_count": 48,
   "id": "d42fb9a6",
   "metadata": {
    "ExecuteTime": {
     "end_time": "2022-10-12T19:10:11.703737Z",
     "start_time": "2022-10-12T19:10:11.699330Z"
    }
   },
   "outputs": [],
   "source": [
    "tmp3=tmp.copy()"
   ]
  },
  {
   "cell_type": "code",
   "execution_count": 54,
   "id": "09dfa1d9",
   "metadata": {
    "ExecuteTime": {
     "end_time": "2022-10-12T19:11:18.559910Z",
     "start_time": "2022-10-12T19:11:18.553687Z"
    }
   },
   "outputs": [],
   "source": [
    "tmp3['loan_limit'].replace(0,1 , inplace=True)"
   ]
  },
  {
   "cell_type": "code",
   "execution_count": 55,
   "id": "85511544",
   "metadata": {
    "ExecuteTime": {
     "end_time": "2022-10-12T19:11:19.739610Z",
     "start_time": "2022-10-12T19:11:19.733668Z"
    }
   },
   "outputs": [],
   "source": [
    "tmp3['A'] = tmp3['desired_amount']/tmp3['loan_limit']"
   ]
  },
  {
   "cell_type": "code",
   "execution_count": 56,
   "id": "0d8a5a7d",
   "metadata": {
    "ExecuteTime": {
     "end_time": "2022-10-12T19:11:20.850417Z",
     "start_time": "2022-10-12T19:11:20.842811Z"
    }
   },
   "outputs": [],
   "source": [
    "X,y =tmp3.loc[:, tmp3.columns !='is_applied'] ,tmp3['is_applied']"
   ]
  },
  {
   "cell_type": "code",
   "execution_count": 57,
   "id": "621b7164",
   "metadata": {
    "ExecuteTime": {
     "end_time": "2022-10-12T19:11:21.432100Z",
     "start_time": "2022-10-12T19:11:21.403720Z"
    }
   },
   "outputs": [],
   "source": [
    "X_train, X_test, y_train, y_test=train_test_split(X,y,test_size=0.2, random_state=42)"
   ]
  },
  {
   "cell_type": "code",
   "execution_count": 58,
   "id": "d6ddba3a",
   "metadata": {
    "ExecuteTime": {
     "end_time": "2022-10-12T19:11:21.950637Z",
     "start_time": "2022-10-12T19:11:21.946620Z"
    }
   },
   "outputs": [],
   "source": [
    "model2 = RandomForestClassifier(random_state=42)"
   ]
  },
  {
   "cell_type": "code",
   "execution_count": 59,
   "id": "a0d5432d",
   "metadata": {
    "ExecuteTime": {
     "end_time": "2022-10-12T19:11:32.942907Z",
     "start_time": "2022-10-12T19:11:22.637530Z"
    }
   },
   "outputs": [
    {
     "data": {
      "text/plain": [
       "RandomForestClassifier(random_state=42)"
      ]
     },
     "execution_count": 59,
     "metadata": {},
     "output_type": "execute_result"
    }
   ],
   "source": [
    "model2.fit(X_train, y_train)"
   ]
  },
  {
   "cell_type": "code",
   "execution_count": 60,
   "id": "8bfb862a",
   "metadata": {
    "ExecuteTime": {
     "end_time": "2022-10-12T19:11:33.664236Z",
     "start_time": "2022-10-12T19:11:32.945428Z"
    }
   },
   "outputs": [
    {
     "data": {
      "text/plain": [
       "0.8144818454247683"
      ]
     },
     "execution_count": 60,
     "metadata": {},
     "output_type": "execute_result"
    }
   ],
   "source": [
    "model2.score(X_test,y_test)"
   ]
  },
  {
   "cell_type": "code",
   "execution_count": 61,
   "id": "17d1082b",
   "metadata": {
    "ExecuteTime": {
     "end_time": "2022-10-12T19:11:34.266977Z",
     "start_time": "2022-10-12T19:11:33.667644Z"
    }
   },
   "outputs": [
    {
     "data": {
      "text/plain": [
       "0.817371020856202"
      ]
     },
     "execution_count": 61,
     "metadata": {},
     "output_type": "execute_result"
    }
   ],
   "source": [
    "y_pred = model2.predict(X_test)\n",
    "f1_score(y_test, y_pred)"
   ]
  },
  {
   "cell_type": "code",
   "execution_count": 62,
   "id": "4a8e7786",
   "metadata": {
    "ExecuteTime": {
     "end_time": "2022-10-12T19:11:34.303238Z",
     "start_time": "2022-10-12T19:11:34.271051Z"
    }
   },
   "outputs": [
    {
     "data": {
      "text/plain": [
       "array([[5730, 1465],\n",
       "       [1197, 5957]])"
      ]
     },
     "execution_count": 62,
     "metadata": {},
     "output_type": "execute_result"
    }
   ],
   "source": [
    "confusion_matrix(y_test, y_pred)"
   ]
  },
  {
   "cell_type": "code",
   "execution_count": 63,
   "id": "e34f8148",
   "metadata": {
    "ExecuteTime": {
     "end_time": "2022-10-12T19:11:34.374824Z",
     "start_time": "2022-10-12T19:11:34.305745Z"
    },
    "scrolled": true
   },
   "outputs": [
    {
     "name": "stdout",
     "output_type": "stream",
     "text": [
      "(0.1729830166386107, 'credit_score')\n",
      "(0.15319359908058533, 'loan_rate')\n",
      "(0.10747446871523053, 'A')\n",
      "(0.0771352701055816, 'loan_limit')\n",
      "(0.06800675349630046, 'desired_amount')\n",
      "(0.06785747489574616, 'company_enter_month')\n",
      "(0.0660145735877039, 'existing_loan_amt')\n",
      "(0.060837656288421915, 'yearly_income')\n",
      "(0.05966416931371473, 'birth_year')\n",
      "(0.04800551880994246, 'existing_loan_cnt')\n",
      "(0.0159403575133643, 'income_type_EARNEDINCOME')\n",
      "(0.011880895162463347, 'gender')\n",
      "(0.01140914351513626, 'purpose_생활비')\n",
      "(0.009312245041722872, 'houseown_type_전월세')\n",
      "(0.008881776676473682, 'houseown_type_기타가족소유')\n",
      "(0.007832389842049125, 'purpose_대환대출')\n",
      "(0.007530879907263376, 'employment_type_정규직')\n",
      "(0.006405566368046321, 'employment_type_기타')\n",
      "(0.006228985198209362, 'houseown_type_자가')\n",
      "(0.005482190679360312, 'income_type_EARNEDINCOME2')\n",
      "(0.004882892766614126, 'employment_type_계약직')\n",
      "(0.00474915020469728, 'income_type_PRIVATEBUSINESS')\n",
      "(0.003467642394527222, 'personal_rehabilitation_yn')\n",
      "(0.0025957144916574347, 'income_type_PRACTITIONER')\n",
      "(0.002354186723194519, 'purpose_사업자금')\n",
      "(0.00218786900916749, 'purpose_전월세보증금')\n",
      "(0.002128292009318343, 'income_type_FREELANCER')\n",
      "(0.00181858865929798, 'purpose_기타')\n",
      "(0.0017317831478661518, 'purpose_주택구입')\n",
      "(0.0011237892988774747, 'purpose_투자')\n",
      "(0.0005807959947702274, 'personal_rehabilitation_complete_yn')\n",
      "(0.00015605728578296804, 'purpose_자동차구입')\n",
      "(0.00014630717830201734, 'employment_type_일용직')\n"
     ]
    }
   ],
   "source": [
    "print(*sorted(zip(model2.feature_importances_, X_test.columns), reverse=True), sep='\\n')"
   ]
  },
  {
   "cell_type": "markdown",
   "id": "c9df8cc9",
   "metadata": {},
   "source": [
    "## 근속보기"
   ]
  },
  {
   "cell_type": "code",
   "execution_count": 78,
   "id": "81d8da0e",
   "metadata": {
    "ExecuteTime": {
     "end_time": "2022-10-12T19:22:56.020292Z",
     "start_time": "2022-10-12T19:22:56.003343Z"
    }
   },
   "outputs": [],
   "source": [
    "tmp3 = tmp[tmp['company_enter_month']>201100]"
   ]
  },
  {
   "cell_type": "code",
   "execution_count": 79,
   "id": "daed5891",
   "metadata": {
    "ExecuteTime": {
     "end_time": "2022-10-12T19:23:05.105257Z",
     "start_time": "2022-10-12T19:23:05.093053Z"
    },
    "scrolled": true
   },
   "outputs": [
    {
     "name": "stderr",
     "output_type": "stream",
     "text": [
      "/home/ghwns82/.local/lib/python3.8/site-packages/pandas/core/indexing.py:1667: SettingWithCopyWarning: \n",
      "A value is trying to be set on a copy of a slice from a DataFrame.\n",
      "Try using .loc[row_indexer,col_indexer] = value instead\n",
      "\n",
      "See the caveats in the documentation: https://pandas.pydata.org/pandas-docs/stable/user_guide/indexing.html#returning-a-view-versus-a-copy\n",
      "  self.obj[key] = value\n"
     ]
    }
   ],
   "source": [
    "tmp3.loc[:,'work_days']=(pd.to_datetime('202205',format='%Y%m')- pd.to_datetime(tmp3['company_enter_month'],format='%Y%m'))"
   ]
  },
  {
   "cell_type": "code",
   "execution_count": 86,
   "id": "eeb32783",
   "metadata": {
    "ExecuteTime": {
     "end_time": "2022-10-12T19:23:56.493746Z",
     "start_time": "2022-10-12T19:23:56.487206Z"
    }
   },
   "outputs": [
    {
     "name": "stderr",
     "output_type": "stream",
     "text": [
      "/tmp/ipykernel_2392/458345094.py:1: SettingWithCopyWarning: \n",
      "A value is trying to be set on a copy of a slice from a DataFrame.\n",
      "Try using .loc[row_indexer,col_indexer] = value instead\n",
      "\n",
      "See the caveats in the documentation: https://pandas.pydata.org/pandas-docs/stable/user_guide/indexing.html#returning-a-view-versus-a-copy\n",
      "  tmp3['work_days'] = tmp3['work_days'].dt.days\n"
     ]
    }
   ],
   "source": [
    "tmp3['work_days'] = tmp3['work_days'].dt.days"
   ]
  },
  {
   "cell_type": "code",
   "execution_count": 95,
   "id": "ab192c99",
   "metadata": {
    "ExecuteTime": {
     "end_time": "2022-10-12T19:28:09.833322Z",
     "start_time": "2022-10-12T19:28:09.826110Z"
    }
   },
   "outputs": [
    {
     "name": "stderr",
     "output_type": "stream",
     "text": [
      "/tmp/ipykernel_2392/2828773600.py:1: SettingWithCopyWarning: \n",
      "A value is trying to be set on a copy of a slice from a DataFrame.\n",
      "Try using .loc[row_indexer,col_indexer] = value instead\n",
      "\n",
      "See the caveats in the documentation: https://pandas.pydata.org/pandas-docs/stable/user_guide/indexing.html#returning-a-view-versus-a-copy\n",
      "  tmp3['work_days'] = tmp3['work_days'] >180\n"
     ]
    }
   ],
   "source": [
    "tmp3['work_days'] = tmp3['work_days'] >180"
   ]
  },
  {
   "cell_type": "code",
   "execution_count": 96,
   "id": "c411d2b1",
   "metadata": {
    "ExecuteTime": {
     "end_time": "2022-10-12T19:28:21.008069Z",
     "start_time": "2022-10-12T19:28:20.999320Z"
    }
   },
   "outputs": [],
   "source": [
    "X,y =tmp3.loc[:, tmp3.columns !='is_applied'] ,tmp3['is_applied']"
   ]
  },
  {
   "cell_type": "code",
   "execution_count": 97,
   "id": "c61a8eaf",
   "metadata": {
    "ExecuteTime": {
     "end_time": "2022-10-12T19:28:21.795906Z",
     "start_time": "2022-10-12T19:28:21.770491Z"
    }
   },
   "outputs": [],
   "source": [
    "X_train, X_test, y_train, y_test=train_test_split(X,y,test_size=0.2, random_state=42)"
   ]
  },
  {
   "cell_type": "code",
   "execution_count": 98,
   "id": "0b5c236b",
   "metadata": {
    "ExecuteTime": {
     "end_time": "2022-10-12T19:28:22.207661Z",
     "start_time": "2022-10-12T19:28:22.203437Z"
    }
   },
   "outputs": [],
   "source": [
    "model2 = RandomForestClassifier(random_state=42)"
   ]
  },
  {
   "cell_type": "code",
   "execution_count": 99,
   "id": "b1a5ccd2",
   "metadata": {
    "ExecuteTime": {
     "end_time": "2022-10-12T19:28:28.660319Z",
     "start_time": "2022-10-12T19:28:22.605006Z"
    }
   },
   "outputs": [
    {
     "data": {
      "text/plain": [
       "RandomForestClassifier(random_state=42)"
      ]
     },
     "execution_count": 99,
     "metadata": {},
     "output_type": "execute_result"
    }
   ],
   "source": [
    "model2.fit(X_train, y_train)"
   ]
  },
  {
   "cell_type": "code",
   "execution_count": 100,
   "id": "a2fbd76f",
   "metadata": {
    "ExecuteTime": {
     "end_time": "2022-10-12T19:28:29.104560Z",
     "start_time": "2022-10-12T19:28:28.663359Z"
    }
   },
   "outputs": [
    {
     "data": {
      "text/plain": [
       "0.8070021881838074"
      ]
     },
     "execution_count": 100,
     "metadata": {},
     "output_type": "execute_result"
    }
   ],
   "source": [
    "model2.score(X_test,y_test)"
   ]
  },
  {
   "cell_type": "code",
   "execution_count": 101,
   "id": "f9326e16",
   "metadata": {
    "ExecuteTime": {
     "end_time": "2022-10-12T19:28:29.548421Z",
     "start_time": "2022-10-12T19:28:29.107165Z"
    }
   },
   "outputs": [
    {
     "data": {
      "text/plain": [
       "0.8125265693637523"
      ]
     },
     "execution_count": 101,
     "metadata": {},
     "output_type": "execute_result"
    }
   ],
   "source": [
    "y_pred = model2.predict(X_test)\n",
    "f1_score(y_test, y_pred)"
   ]
  },
  {
   "cell_type": "code",
   "execution_count": 102,
   "id": "c36f9d53",
   "metadata": {
    "ExecuteTime": {
     "end_time": "2022-10-12T19:28:29.575974Z",
     "start_time": "2022-10-12T19:28:29.552632Z"
    }
   },
   "outputs": [
    {
     "data": {
      "text/plain": [
       "array([[5330, 1411],\n",
       "       [1235, 5734]])"
      ]
     },
     "execution_count": 102,
     "metadata": {},
     "output_type": "execute_result"
    }
   ],
   "source": [
    "confusion_matrix(y_test, y_pred)"
   ]
  },
  {
   "cell_type": "code",
   "execution_count": 103,
   "id": "789d20db",
   "metadata": {
    "ExecuteTime": {
     "end_time": "2022-10-12T19:28:29.639736Z",
     "start_time": "2022-10-12T19:28:29.579446Z"
    },
    "scrolled": true
   },
   "outputs": [
    {
     "name": "stdout",
     "output_type": "stream",
     "text": [
      "(0.175386844371066, 'loan_rate')\n",
      "(0.17339965014847747, 'credit_score')\n",
      "(0.10987349594043318, 'loan_limit')\n",
      "(0.09046915512984725, 'desired_amount')\n",
      "(0.07006316708699631, 'existing_loan_amt')\n",
      "(0.0675838331021847, 'company_enter_month')\n",
      "(0.06466437427266407, 'yearly_income')\n",
      "(0.06257259982396148, 'birth_year')\n",
      "(0.05090739494954989, 'existing_loan_cnt')\n",
      "(0.01654799122275527, 'income_type_EARNEDINCOME')\n",
      "(0.012584557089080253, 'gender')\n",
      "(0.012497888383384897, 'purpose_생활비')\n",
      "(0.009733151439482115, 'work_days')\n",
      "(0.009655814973746018, 'houseown_type_전월세')\n",
      "(0.009331579411714797, 'houseown_type_기타가족소유')\n",
      "(0.00817213801730867, 'purpose_대환대출')\n",
      "(0.008067715320050222, 'employment_type_정규직')\n",
      "(0.006491356966021686, 'houseown_type_자가')\n",
      "(0.006222516341041553, 'employment_type_기타')\n",
      "(0.006066107446501584, 'income_type_EARNEDINCOME2')\n",
      "(0.005257718316386755, 'income_type_PRIVATEBUSINESS')\n",
      "(0.004963478351727098, 'employment_type_계약직')\n",
      "(0.003517545012601579, 'personal_rehabilitation_yn')\n",
      "(0.002634051419118912, 'purpose_사업자금')\n",
      "(0.0025357012568815894, 'income_type_PRACTITIONER')\n",
      "(0.0024020526987132075, 'purpose_전월세보증금')\n",
      "(0.0023730318058602694, 'income_type_FREELANCER')\n",
      "(0.0019526470218030189, 'purpose_주택구입')\n",
      "(0.0018327649317313585, 'purpose_기타')\n",
      "(0.001342633710031375, 'purpose_투자')\n",
      "(0.000553907934312205, 'personal_rehabilitation_complete_yn')\n",
      "(0.00017895768222896146, 'employment_type_일용직')\n",
      "(0.00016417842233635308, 'purpose_자동차구입')\n"
     ]
    }
   ],
   "source": [
    "print(*sorted(zip(model2.feature_importances_, X_test.columns), reverse=True), sep='\\n')"
   ]
  },
  {
   "cell_type": "code",
   "execution_count": 129,
   "id": "53c6172f",
   "metadata": {
    "ExecuteTime": {
     "end_time": "2022-10-12T19:49:04.073861Z",
     "start_time": "2022-10-12T19:48:57.284051Z"
    }
   },
   "outputs": [
    {
     "data": {
      "image/png": "[encoded data removed]",
      "text/plain": [
       "<Figure size 432x288 with 1 Axes>"
      ]
     },
     "metadata": {
      "needs_background": "light"
     },
     "output_type": "display_data"
    },
    {
     "data": {
      "image/png": "[encoded data removed]",
      "text/plain": [
       "<Figure size 432x288 with 1 Axes>"
      ]
     },
     "metadata": {
      "needs_background": "light"
     },
     "output_type": "display_data"
    },
    {
     "data": {
      "image/png": "[encoded data removed]",
      "text/plain": [
       "<Figure size 432x288 with 1 Axes>"
      ]
     },
     "metadata": {
      "needs_background": "light"
     },
     "output_type": "display_data"
    },
    {
     "data": {
      "image/png": "[encoded data removed]",
      "text/plain": [
       "<Figure size 432x288 with 1 Axes>"
      ]
     },
     "metadata": {
      "needs_background": "light"
     },
     "output_type": "display_data"
    },
    {
     "data": {
      "image/png": "[encoded data removed]",
      "text/plain": [
       "<Figure size 432x288 with 1 Axes>"
      ]
     },
     "metadata": {
      "needs_background": "light"
     },
     "output_type": "display_data"
    },
    {
     "data": {
      "image/png": "[encoded data removed]",
      "text/plain": [
       "<Figure size 432x288 with 1 Axes>"
      ]
     },
     "metadata": {
      "needs_background": "light"
     },
     "output_type": "display_data"
    },
    {
     "data": {
      "image/png": "[encoded data removed]",
      "text/plain": [
       "<Figure size 432x288 with 1 Axes>"
      ]
     },
     "metadata": {
      "needs_background": "light"
     },
     "output_type": "display_data"
    },
    {
     "data": {
      "image/png": "[encoded data removed]",
      "text/plain": [
       "<Figure size 432x288 with 1 Axes>"
      ]
     },
     "metadata": {
      "needs_background": "light"
     },
     "output_type": "display_data"
    },
    {
     "data": {
      "image/png": "[encoded data removed]",
      "text/plain": [
       "<Figure size 432x288 with 1 Axes>"
      ]
     },
     "metadata": {
      "needs_background": "light"
     },
     "output_type": "display_data"
    },
    {
     "data": {
      "image/png": "[encoded data removed]",
      "text/plain": [
       "<Figure size 432x288 with 1 Axes>"
      ]
     },
     "metadata": {
      "needs_background": "light"
     },
     "output_type": "display_data"
    },
    {
     "data": {
      "image/png": "[encoded data removed]",
      "text/plain": [
       "<Figure size 432x288 with 1 Axes>"
      ]
     },
     "metadata": {
      "needs_background": "light"
     },
     "output_type": "display_data"
    },
    {
     "data": {
      "image/png": "[encoded data removed]",
      "text/plain": [
       "<Figure size 432x288 with 1 Axes>"
      ]
     },
     "metadata": {
      "needs_background": "light"
     },
     "output_type": "display_data"
    },
    {
     "data": {
      "image/png": "[encoded data removed]",
      "text/plain": [
       "<Figure size 432x288 with 1 Axes>"
      ]
     },
     "metadata": {
      "needs_background": "light"
     },
     "output_type": "display_data"
    },
    {
     "data": {
      "image/png": "[encoded data removed]",
      "text/plain": [
       "<Figure size 432x288 with 1 Axes>"
      ]
     },
     "metadata": {
      "needs_background": "light"
     },
     "output_type": "display_data"
    },
    {
     "data": {
      "image/png": "[encoded data removed]",
      "text/plain": [
       "<Figure size 432x288 with 1 Axes>"
      ]
     },
     "metadata": {
      "needs_background": "light"
     },
     "output_type": "display_data"
    },
    {
     "data": {
      "image/png": "[encoded data removed]",
      "text/plain": [
       "<Figure size 432x288 with 1 Axes>"
      ]
     },
     "metadata": {
      "needs_background": "light"
     },
     "output_type": "display_data"
    },
    {
     "data": {
      "image/png": "[encoded data removed]",
      "text/plain": [
       "<Figure size 432x288 with 1 Axes>"
      ]
     },
     "metadata": {
      "needs_background": "light"
     },
     "output_type": "display_data"
    },
    {
     "data": {
      "image/png": "[encoded data removed]",
      "text/plain": [
       "<Figure size 432x288 with 1 Axes>"
      ]
     },
     "metadata": {
      "needs_background": "light"
     },
     "output_type": "display_data"
    },
    {
     "data": {
      "image/png": "[encoded data removed]",
      "text/plain": [
       "<Figure size 432x288 with 1 Axes>"
      ]
     },
     "metadata": {
      "needs_background": "light"
     },
     "output_type": "display_data"
    },
    {
     "data": {
      "image/png": "[encoded data removed]",
      "text/plain": [
       "<Figure size 432x288 with 1 Axes>"
      ]
     },
     "metadata": {
      "needs_background": "light"
     },
     "output_type": "display_data"
    },
    {
     "data": {
      "image/png": "[encoded data removed]",
      "text/plain": [
       "<Figure size 432x288 with 1 Axes>"
      ]
     },
     "metadata": {
      "needs_background": "light"
     },
     "output_type": "display_data"
    },
    {
     "data": {
      "image/png": "[encoded data removed]",
      "text/plain": [
       "<Figure size 432x288 with 1 Axes>"
      ]
     },
     "metadata": {
      "needs_background": "light"
     },
     "output_type": "display_data"
    },
    {
     "data": {
      "image/png": "[encoded data removed]",
      "text/plain": [
       "<Figure size 432x288 with 1 Axes>"
      ]
     },
     "metadata": {
      "needs_background": "light"
     },
     "output_type": "display_data"
    },
    {
     "data": {
      "image/png": "[encoded data removed]",
      "text/plain": [
       "<Figure size 432x288 with 1 Axes>"
      ]
     },
     "metadata": {
      "needs_background": "light"
     },
     "output_type": "display_data"
    },
    {
     "data": {
      "image/png": "[encoded data removed]",
      "text/plain": [
       "<Figure size 432x288 with 1 Axes>"
      ]
     },
     "metadata": {
      "needs_background": "light"
     },
     "output_type": "display_data"
    },
    {
     "data": {
      "image/png": "[encoded data removed]",
      "text/plain": [
       "<Figure size 432x288 with 1 Axes>"
      ]
     },
     "metadata": {
      "needs_background": "light"
     },
     "output_type": "display_data"
    },
    {
     "data": {
      "image/png": "[encoded data removed]",
      "text/plain": [
       "<Figure size 432x288 with 1 Axes>"
      ]
     },
     "metadata": {
      "needs_background": "light"
     },
     "output_type": "display_data"
    },
    {
     "data": {
      "image/png": "[encoded data removed]",
      "text/plain": [
       "<Figure size 432x288 with 1 Axes>"
      ]
     },
     "metadata": {
      "needs_background": "light"
     },
     "output_type": "display_data"
    },
    {
     "data": {
      "image/png": "[encoded data removed]",
      "text/plain": [
       "<Figure size 432x288 with 1 Axes>"
      ]
     },
     "metadata": {
      "needs_background": "light"
     },
     "output_type": "display_data"
    },
    {
     "data": {
      "image/png": "[encoded data removed]",
      "text/plain": [
       "<Figure size 432x288 with 1 Axes>"
      ]
     },
     "metadata": {
      "needs_background": "light"
     },
     "output_type": "display_data"
    },
    {
     "data": {
      "image/png": "[encoded data removed]",
      "text/plain": [
       "<Figure size 432x288 with 1 Axes>"
      ]
     },
     "metadata": {
      "needs_background": "light"
     },
     "output_type": "display_data"
    },
    {
     "data": {
      "image/png": "[encoded data removed]",
      "text/plain": [
       "<Figure size 432x288 with 1 Axes>"
      ]
     },
     "metadata": {
      "needs_background": "light"
     },
     "output_type": "display_data"
    },
    {
     "data": {
      "image/png": "[encoded data removed]",
      "text/plain": [
       "<Figure size 432x288 with 1 Axes>"
      ]
     },
     "metadata": {
      "needs_background": "light"
     },
     "output_type": "display_data"
    },
    {
     "data": {
      "image/png": "[encoded data removed]",
      "text/plain": [
       "<Figure size 432x288 with 1 Axes>"
      ]
     },
     "metadata": {
      "needs_background": "light"
     },
     "output_type": "display_data"
    },
    {
     "data": {
      "image/png": "[encoded data removed]",
      "text/plain": [
       "<Figure size 432x288 with 1 Axes>"
      ]
     },
     "metadata": {
      "needs_background": "light"
     },
     "output_type": "display_data"
    },
    {
     "data": {
      "image/png": "[encoded data removed]",
      "text/plain": [
       "<Figure size 432x288 with 1 Axes>"
      ]
     },
     "metadata": {
      "needs_background": "light"
     },
     "output_type": "display_data"
    },
    {
     "data": {
      "image/png": "[encoded data removed]",
      "text/plain": [
       "<Figure size 432x288 with 1 Axes>"
      ]
     },
     "metadata": {
      "needs_background": "light"
     },
     "output_type": "display_data"
    },
    {
     "data": {
      "image/png": "[encoded data removed]",
      "text/plain": [
       "<Figure size 432x288 with 1 Axes>"
      ]
     },
     "metadata": {
      "needs_background": "light"
     },
     "output_type": "display_data"
    },
    {
     "data": {
      "image/png": "[encoded data removed]",
      "text/plain": [
       "<Figure size 432x288 with 1 Axes>"
      ]
     },
     "metadata": {
      "needs_background": "light"
     },
     "output_type": "display_data"
    },
    {
     "data": {
      "image/png": "[encoded data removed]",
      "text/plain": [
       "<Figure size 432x288 with 1 Axes>"
      ]
     },
     "metadata": {
      "needs_background": "light"
     },
     "output_type": "display_data"
    },
    {
     "data": {
      "image/png": "[encoded data removed]",
      "text/plain": [
       "<Figure size 432x288 with 1 Axes>"
      ]
     },
     "metadata": {
      "needs_background": "light"
     },
     "output_type": "display_data"
    },
    {
     "data": {
      "image/png": "[encoded data removed]",
      "text/plain": [
       "<Figure size 432x288 with 1 Axes>"
      ]
     },
     "metadata": {
      "needs_background": "light"
     },
     "output_type": "display_data"
    },
    {
     "data": {
      "image/png": "[encoded data removed]",
      "text/plain": [
       "<Figure size 432x288 with 1 Axes>"
      ]
     },
     "metadata": {
      "needs_background": "light"
     },
     "output_type": "display_data"
    },
    {
     "data": {
      "image/png": "[encoded data removed]",
      "text/plain": [
       "<Figure size 432x288 with 1 Axes>"
      ]
     },
     "metadata": {
      "needs_background": "light"
     },
     "output_type": "display_data"
    },
    {
     "data": {
      "image/png": "[encoded data removed]",
      "text/plain": [
       "<Figure size 432x288 with 1 Axes>"
      ]
     },
     "metadata": {
      "needs_background": "light"
     },
     "output_type": "display_data"
    },
    {
     "data": {
      "image/png": "[encoded data removed]",
      "text/plain": [
       "<Figure size 432x288 with 1 Axes>"
      ]
     },
     "metadata": {
      "needs_background": "light"
     },
     "output_type": "display_data"
    },
    {
     "data": {
      "image/png": "[encoded data removed]",
      "text/plain": [
       "<Figure size 432x288 with 1 Axes>"
      ]
     },
     "metadata": {
      "needs_background": "light"
     },
     "output_type": "display_data"
    },
    {
     "data": {
      "image/png": "[encoded data removed]",
      "text/plain": [
       "<Figure size 432x288 with 1 Axes>"
      ]
     },
     "metadata": {
      "needs_background": "light"
     },
     "output_type": "display_data"
    },
    {
     "data": {
      "image/png": "[encoded data removed]",
      "text/plain": [
       "<Figure size 432x288 with 1 Axes>"
      ]
     },
     "metadata": {
      "needs_background": "light"
     },
     "output_type": "display_data"
    },
    {
     "data": {
      "image/png": "[encoded data removed]",
      "text/plain": [
       "<Figure size 432x288 with 1 Axes>"
      ]
     },
     "metadata": {
      "needs_background": "light"
     },
     "output_type": "display_data"
    }
   ],
   "source": [
    "for i in range(1,50):\n",
    "    plt.boxplot(merged_df[merged_df['bank_id']==i]['loan_rate'])\n",
    "    plt.title(f'bank{i}')\n",
    "    plt.show()\n",
    "    plt.plot()\n",
    "    "
   ]
  },
  {
   "cell_type": "code",
   "execution_count": 123,
   "id": "2515768b",
   "metadata": {
    "ExecuteTime": {
     "end_time": "2022-10-12T19:43:42.847026Z",
     "start_time": "2022-10-12T19:43:42.820266Z"
    }
   },
   "outputs": [
    {
     "data": {
      "text/html": [
       "<div>\n",
       "<style scoped>\n",
       "    .dataframe tbody tr th:only-of-type {\n",
       "        vertical-align: middle;\n",
       "    }\n",
       "\n",
       "    .dataframe tbody tr th {\n",
       "        vertical-align: top;\n",
       "    }\n",
       "\n",
       "    .dataframe thead th {\n",
       "        text-align: right;\n",
       "    }\n",
       "</style>\n",
       "<table border=\"1\" class=\"dataframe\">\n",
       "  <thead>\n",
       "    <tr style=\"text-align: right;\">\n",
       "      <th></th>\n",
       "      <th>loan_rate</th>\n",
       "    </tr>\n",
       "    <tr>\n",
       "      <th>bank_id</th>\n",
       "      <th></th>\n",
       "    </tr>\n",
       "  </thead>\n",
       "  <tbody>\n",
       "    <tr>\n",
       "      <th>45</th>\n",
       "      <td>5.246861</td>\n",
       "    </tr>\n",
       "    <tr>\n",
       "      <th>60</th>\n",
       "      <td>5.420094</td>\n",
       "    </tr>\n",
       "    <tr>\n",
       "      <th>9</th>\n",
       "      <td>5.620396</td>\n",
       "    </tr>\n",
       "    <tr>\n",
       "      <th>52</th>\n",
       "      <td>7.051724</td>\n",
       "    </tr>\n",
       "    <tr>\n",
       "      <th>8</th>\n",
       "      <td>7.396120</td>\n",
       "    </tr>\n",
       "    <tr>\n",
       "      <th>20</th>\n",
       "      <td>8.155436</td>\n",
       "    </tr>\n",
       "    <tr>\n",
       "      <th>29</th>\n",
       "      <td>8.407755</td>\n",
       "    </tr>\n",
       "    <tr>\n",
       "      <th>4</th>\n",
       "      <td>8.661834</td>\n",
       "    </tr>\n",
       "    <tr>\n",
       "      <th>18</th>\n",
       "      <td>9.114181</td>\n",
       "    </tr>\n",
       "    <tr>\n",
       "      <th>40</th>\n",
       "      <td>9.642580</td>\n",
       "    </tr>\n",
       "    <tr>\n",
       "      <th>43</th>\n",
       "      <td>9.818967</td>\n",
       "    </tr>\n",
       "    <tr>\n",
       "      <th>62</th>\n",
       "      <td>9.925451</td>\n",
       "    </tr>\n",
       "    <tr>\n",
       "      <th>27</th>\n",
       "      <td>10.086246</td>\n",
       "    </tr>\n",
       "    <tr>\n",
       "      <th>49</th>\n",
       "      <td>10.659571</td>\n",
       "    </tr>\n",
       "    <tr>\n",
       "      <th>21</th>\n",
       "      <td>10.813804</td>\n",
       "    </tr>\n",
       "    <tr>\n",
       "      <th>39</th>\n",
       "      <td>10.858974</td>\n",
       "    </tr>\n",
       "    <tr>\n",
       "      <th>59</th>\n",
       "      <td>11.150255</td>\n",
       "    </tr>\n",
       "    <tr>\n",
       "      <th>47</th>\n",
       "      <td>11.482223</td>\n",
       "    </tr>\n",
       "    <tr>\n",
       "      <th>19</th>\n",
       "      <td>11.557477</td>\n",
       "    </tr>\n",
       "    <tr>\n",
       "      <th>64</th>\n",
       "      <td>11.869790</td>\n",
       "    </tr>\n",
       "    <tr>\n",
       "      <th>33</th>\n",
       "      <td>11.901245</td>\n",
       "    </tr>\n",
       "    <tr>\n",
       "      <th>1</th>\n",
       "      <td>11.995626</td>\n",
       "    </tr>\n",
       "    <tr>\n",
       "      <th>36</th>\n",
       "      <td>12.149005</td>\n",
       "    </tr>\n",
       "    <tr>\n",
       "      <th>61</th>\n",
       "      <td>12.319381</td>\n",
       "    </tr>\n",
       "    <tr>\n",
       "      <th>38</th>\n",
       "      <td>12.432602</td>\n",
       "    </tr>\n",
       "    <tr>\n",
       "      <th>5</th>\n",
       "      <td>12.466915</td>\n",
       "    </tr>\n",
       "    <tr>\n",
       "      <th>23</th>\n",
       "      <td>12.522968</td>\n",
       "    </tr>\n",
       "    <tr>\n",
       "      <th>16</th>\n",
       "      <td>12.600000</td>\n",
       "    </tr>\n",
       "    <tr>\n",
       "      <th>57</th>\n",
       "      <td>12.665212</td>\n",
       "    </tr>\n",
       "    <tr>\n",
       "      <th>42</th>\n",
       "      <td>12.672826</td>\n",
       "    </tr>\n",
       "    <tr>\n",
       "      <th>58</th>\n",
       "      <td>12.749551</td>\n",
       "    </tr>\n",
       "    <tr>\n",
       "      <th>24</th>\n",
       "      <td>12.762802</td>\n",
       "    </tr>\n",
       "    <tr>\n",
       "      <th>44</th>\n",
       "      <td>12.832086</td>\n",
       "    </tr>\n",
       "    <tr>\n",
       "      <th>31</th>\n",
       "      <td>12.858633</td>\n",
       "    </tr>\n",
       "    <tr>\n",
       "      <th>26</th>\n",
       "      <td>12.996541</td>\n",
       "    </tr>\n",
       "    <tr>\n",
       "      <th>46</th>\n",
       "      <td>13.068759</td>\n",
       "    </tr>\n",
       "    <tr>\n",
       "      <th>32</th>\n",
       "      <td>13.113093</td>\n",
       "    </tr>\n",
       "    <tr>\n",
       "      <th>12</th>\n",
       "      <td>13.141525</td>\n",
       "    </tr>\n",
       "    <tr>\n",
       "      <th>63</th>\n",
       "      <td>13.203031</td>\n",
       "    </tr>\n",
       "    <tr>\n",
       "      <th>7</th>\n",
       "      <td>13.558387</td>\n",
       "    </tr>\n",
       "    <tr>\n",
       "      <th>54</th>\n",
       "      <td>13.599431</td>\n",
       "    </tr>\n",
       "    <tr>\n",
       "      <th>22</th>\n",
       "      <td>13.677192</td>\n",
       "    </tr>\n",
       "    <tr>\n",
       "      <th>50</th>\n",
       "      <td>13.910208</td>\n",
       "    </tr>\n",
       "    <tr>\n",
       "      <th>41</th>\n",
       "      <td>13.974989</td>\n",
       "    </tr>\n",
       "    <tr>\n",
       "      <th>10</th>\n",
       "      <td>14.063233</td>\n",
       "    </tr>\n",
       "    <tr>\n",
       "      <th>17</th>\n",
       "      <td>14.288811</td>\n",
       "    </tr>\n",
       "    <tr>\n",
       "      <th>55</th>\n",
       "      <td>14.346116</td>\n",
       "    </tr>\n",
       "    <tr>\n",
       "      <th>14</th>\n",
       "      <td>14.445614</td>\n",
       "    </tr>\n",
       "    <tr>\n",
       "      <th>2</th>\n",
       "      <td>14.623244</td>\n",
       "    </tr>\n",
       "    <tr>\n",
       "      <th>35</th>\n",
       "      <td>14.633461</td>\n",
       "    </tr>\n",
       "    <tr>\n",
       "      <th>30</th>\n",
       "      <td>14.832378</td>\n",
       "    </tr>\n",
       "    <tr>\n",
       "      <th>34</th>\n",
       "      <td>15.107503</td>\n",
       "    </tr>\n",
       "    <tr>\n",
       "      <th>51</th>\n",
       "      <td>15.314704</td>\n",
       "    </tr>\n",
       "    <tr>\n",
       "      <th>11</th>\n",
       "      <td>15.567929</td>\n",
       "    </tr>\n",
       "    <tr>\n",
       "      <th>25</th>\n",
       "      <td>16.307982</td>\n",
       "    </tr>\n",
       "    <tr>\n",
       "      <th>15</th>\n",
       "      <td>16.514508</td>\n",
       "    </tr>\n",
       "    <tr>\n",
       "      <th>3</th>\n",
       "      <td>16.819467</td>\n",
       "    </tr>\n",
       "    <tr>\n",
       "      <th>56</th>\n",
       "      <td>16.922857</td>\n",
       "    </tr>\n",
       "    <tr>\n",
       "      <th>6</th>\n",
       "      <td>17.092645</td>\n",
       "    </tr>\n",
       "    <tr>\n",
       "      <th>13</th>\n",
       "      <td>17.260818</td>\n",
       "    </tr>\n",
       "  </tbody>\n",
       "</table>\n",
       "</div>"
      ],
      "text/plain": [
       "         loan_rate\n",
       "bank_id           \n",
       "45        5.246861\n",
       "60        5.420094\n",
       "9         5.620396\n",
       "52        7.051724\n",
       "8         7.396120\n",
       "20        8.155436\n",
       "29        8.407755\n",
       "4         8.661834\n",
       "18        9.114181\n",
       "40        9.642580\n",
       "43        9.818967\n",
       "62        9.925451\n",
       "27       10.086246\n",
       "49       10.659571\n",
       "21       10.813804\n",
       "39       10.858974\n",
       "59       11.150255\n",
       "47       11.482223\n",
       "19       11.557477\n",
       "64       11.869790\n",
       "33       11.901245\n",
       "1        11.995626\n",
       "36       12.149005\n",
       "61       12.319381\n",
       "38       12.432602\n",
       "5        12.466915\n",
       "23       12.522968\n",
       "16       12.600000\n",
       "57       12.665212\n",
       "42       12.672826\n",
       "58       12.749551\n",
       "24       12.762802\n",
       "44       12.832086\n",
       "31       12.858633\n",
       "26       12.996541\n",
       "46       13.068759\n",
       "32       13.113093\n",
       "12       13.141525\n",
       "63       13.203031\n",
       "7        13.558387\n",
       "54       13.599431\n",
       "22       13.677192\n",
       "50       13.910208\n",
       "41       13.974989\n",
       "10       14.063233\n",
       "17       14.288811\n",
       "55       14.346116\n",
       "14       14.445614\n",
       "2        14.623244\n",
       "35       14.633461\n",
       "30       14.832378\n",
       "34       15.107503\n",
       "51       15.314704\n",
       "11       15.567929\n",
       "25       16.307982\n",
       "15       16.514508\n",
       "3        16.819467\n",
       "56       16.922857\n",
       "6        17.092645\n",
       "13       17.260818"
      ]
     },
     "execution_count": 123,
     "metadata": {},
     "output_type": "execute_result"
    }
   ],
   "source": [
    "merged_df[['bank_id','loan_rate']].groupby(by='bank_id').mean().sort_values(by='loan_rate').head(60)"
   ]
  },
  {
   "cell_type": "code",
   "execution_count": null,
   "id": "b7f02989",
   "metadata": {},
   "outputs": [],
   "source": [
    "df.sort_values()"
   ]
  },
  {
   "cell_type": "code",
   "execution_count": null,
   "id": "006541b1",
   "metadata": {},
   "outputs": [],
   "source": []
  },
  {
   "cell_type": "code",
   "execution_count": null,
   "id": "d636fd29",
   "metadata": {},
   "outputs": [],
   "source": []
  },
  {
   "cell_type": "code",
   "execution_count": 4,
   "id": "e2958483",
   "metadata": {
    "ExecuteTime": {
     "end_time": "2022-10-12T18:36:05.281684Z",
     "start_time": "2022-10-12T18:35:18.797634Z"
    }
   },
   "outputs": [],
   "source": [
    "log_df.replace('SignUp','a',inplace=True)\n",
    "log_df.replace('OpenApp','b',inplace=True)\n",
    "log_df.replace('Login','c',inplace=True)\n",
    "log_df.replace('ViewLoanApplyIntro','d',inplace=True)\n",
    "log_df.replace('StartLoanApply','e',inplace=True)\n",
    "log_df.replace('CompleteIDCertification','f',inplace=True)\n",
    "log_df.replace('EndLoanApply','g',inplace=True)\n",
    "log_df.replace('UseLoanManage','h',inplace=True)\n",
    "log_df.replace('UsePrepayCalc','i',inplace=True)\n",
    "log_df.replace('UseDSRCalc','j',inplace=True)\n",
    "log_df.replace('GetCreditInfo','k',inplace=True)"
   ]
  },
  {
   "cell_type": "code",
   "execution_count": 5,
   "id": "c62b321f",
   "metadata": {
    "ExecuteTime": {
     "end_time": "2022-10-12T18:36:15.361494Z",
     "start_time": "2022-10-12T18:36:05.283460Z"
    }
   },
   "outputs": [],
   "source": [
    "df=log_df[['user_id','event','timestamp']].groupby(['user_id','event']).count()"
   ]
  },
  {
   "cell_type": "code",
   "execution_count": 6,
   "id": "403fe229",
   "metadata": {
    "ExecuteTime": {
     "end_time": "2022-10-12T18:36:15.496658Z",
     "start_time": "2022-10-12T18:36:15.364149Z"
    }
   },
   "outputs": [],
   "source": [
    "df=df.reset_index()"
   ]
  },
  {
   "cell_type": "code",
   "execution_count": 7,
   "id": "4702ea2e",
   "metadata": {
    "ExecuteTime": {
     "end_time": "2022-10-12T18:36:16.354393Z",
     "start_time": "2022-10-12T18:36:15.499626Z"
    }
   },
   "outputs": [],
   "source": [
    "df = pd.get_dummies(data = df, columns=['event'], prefix='event')"
   ]
  },
  {
   "cell_type": "code",
   "execution_count": 24,
   "id": "2bd4a5f7",
   "metadata": {
    "ExecuteTime": {
     "end_time": "2022-10-12T18:40:46.198763Z",
     "start_time": "2022-10-12T18:40:46.127063Z"
    }
   },
   "outputs": [],
   "source": [
    "df2 = df.copy()"
   ]
  },
  {
   "cell_type": "code",
   "execution_count": 25,
   "id": "f6f05cda",
   "metadata": {
    "ExecuteTime": {
     "end_time": "2022-10-12T18:41:23.139310Z",
     "start_time": "2022-10-12T18:41:22.739859Z"
    }
   },
   "outputs": [],
   "source": [
    "df2['event_a']*=df2['timestamp']\n",
    "df2['event_b']*=df2['timestamp']\n",
    "df2['event_c']*=df2['timestamp']\n",
    "df2['event_d']*=df2['timestamp']\n",
    "df2['event_e']*=df2['timestamp']\n",
    "df2['event_f']*=df2['timestamp']\n",
    "df2['event_g']*=df2['timestamp']\n",
    "df2['event_h']*=df2['timestamp']\n",
    "df2['event_i']*=df2['timestamp']\n",
    "df2['event_j']*=df2['timestamp']\n",
    "df2['event_k']*=df2['timestamp']"
   ]
  },
  {
   "cell_type": "code",
   "execution_count": 27,
   "id": "92b7861a",
   "metadata": {
    "ExecuteTime": {
     "end_time": "2022-10-12T18:42:26.181897Z",
     "start_time": "2022-10-12T18:42:25.099181Z"
    }
   },
   "outputs": [],
   "source": [
    "df2.drop(['timestamp'], axis=1, inplace=True)"
   ]
  },
  {
   "cell_type": "code",
   "execution_count": 28,
   "id": "8582204a",
   "metadata": {
    "ExecuteTime": {
     "end_time": "2022-10-12T18:42:48.433667Z",
     "start_time": "2022-10-12T18:42:41.872653Z"
    }
   },
   "outputs": [],
   "source": [
    "df2.to_csv('./customData/log_count.csv')"
   ]
  },
  {
   "cell_type": "code",
   "execution_count": 30,
   "id": "2255507f",
   "metadata": {
    "ExecuteTime": {
     "end_time": "2022-10-12T18:42:59.425408Z",
     "start_time": "2022-10-12T18:42:59.410655Z"
    }
   },
   "outputs": [
    {
     "data": {
      "text/html": [
       "<div>\n",
       "<style scoped>\n",
       "    .dataframe tbody tr th:only-of-type {\n",
       "        vertical-align: middle;\n",
       "    }\n",
       "\n",
       "    .dataframe tbody tr th {\n",
       "        vertical-align: top;\n",
       "    }\n",
       "\n",
       "    .dataframe thead th {\n",
       "        text-align: right;\n",
       "    }\n",
       "</style>\n",
       "<table border=\"1\" class=\"dataframe\">\n",
       "  <thead>\n",
       "    <tr style=\"text-align: right;\">\n",
       "      <th></th>\n",
       "      <th>user_id</th>\n",
       "      <th>event_a</th>\n",
       "      <th>event_b</th>\n",
       "      <th>event_c</th>\n",
       "      <th>event_d</th>\n",
       "      <th>event_e</th>\n",
       "      <th>event_f</th>\n",
       "      <th>event_g</th>\n",
       "      <th>event_h</th>\n",
       "      <th>event_i</th>\n",
       "      <th>event_j</th>\n",
       "      <th>event_k</th>\n",
       "    </tr>\n",
       "  </thead>\n",
       "  <tbody>\n",
       "    <tr>\n",
       "      <th>0</th>\n",
       "      <td>1</td>\n",
       "      <td>0</td>\n",
       "      <td>0</td>\n",
       "      <td>1</td>\n",
       "      <td>0</td>\n",
       "      <td>0</td>\n",
       "      <td>0</td>\n",
       "      <td>0</td>\n",
       "      <td>0</td>\n",
       "      <td>0</td>\n",
       "      <td>0</td>\n",
       "      <td>0</td>\n",
       "    </tr>\n",
       "    <tr>\n",
       "      <th>1</th>\n",
       "      <td>1</td>\n",
       "      <td>0</td>\n",
       "      <td>0</td>\n",
       "      <td>0</td>\n",
       "      <td>0</td>\n",
       "      <td>0</td>\n",
       "      <td>0</td>\n",
       "      <td>0</td>\n",
       "      <td>1</td>\n",
       "      <td>0</td>\n",
       "      <td>0</td>\n",
       "      <td>0</td>\n",
       "    </tr>\n",
       "    <tr>\n",
       "      <th>2</th>\n",
       "      <td>1</td>\n",
       "      <td>0</td>\n",
       "      <td>0</td>\n",
       "      <td>0</td>\n",
       "      <td>0</td>\n",
       "      <td>0</td>\n",
       "      <td>0</td>\n",
       "      <td>0</td>\n",
       "      <td>0</td>\n",
       "      <td>0</td>\n",
       "      <td>0</td>\n",
       "      <td>3</td>\n",
       "    </tr>\n",
       "    <tr>\n",
       "      <th>3</th>\n",
       "      <td>7</td>\n",
       "      <td>0</td>\n",
       "      <td>0</td>\n",
       "      <td>0</td>\n",
       "      <td>0</td>\n",
       "      <td>0</td>\n",
       "      <td>0</td>\n",
       "      <td>0</td>\n",
       "      <td>0</td>\n",
       "      <td>0</td>\n",
       "      <td>0</td>\n",
       "      <td>1</td>\n",
       "    </tr>\n",
       "    <tr>\n",
       "      <th>4</th>\n",
       "      <td>9</td>\n",
       "      <td>0</td>\n",
       "      <td>0</td>\n",
       "      <td>0</td>\n",
       "      <td>0</td>\n",
       "      <td>0</td>\n",
       "      <td>0</td>\n",
       "      <td>0</td>\n",
       "      <td>0</td>\n",
       "      <td>0</td>\n",
       "      <td>0</td>\n",
       "      <td>3</td>\n",
       "    </tr>\n",
       "    <tr>\n",
       "      <th>...</th>\n",
       "      <td>...</td>\n",
       "      <td>...</td>\n",
       "      <td>...</td>\n",
       "      <td>...</td>\n",
       "      <td>...</td>\n",
       "      <td>...</td>\n",
       "      <td>...</td>\n",
       "      <td>...</td>\n",
       "      <td>...</td>\n",
       "      <td>...</td>\n",
       "      <td>...</td>\n",
       "      <td>...</td>\n",
       "    </tr>\n",
       "    <tr>\n",
       "      <th>2860122</th>\n",
       "      <td>879696</td>\n",
       "      <td>0</td>\n",
       "      <td>0</td>\n",
       "      <td>0</td>\n",
       "      <td>0</td>\n",
       "      <td>0</td>\n",
       "      <td>0</td>\n",
       "      <td>0</td>\n",
       "      <td>2</td>\n",
       "      <td>0</td>\n",
       "      <td>0</td>\n",
       "      <td>0</td>\n",
       "    </tr>\n",
       "    <tr>\n",
       "      <th>2860123</th>\n",
       "      <td>879696</td>\n",
       "      <td>0</td>\n",
       "      <td>0</td>\n",
       "      <td>0</td>\n",
       "      <td>0</td>\n",
       "      <td>0</td>\n",
       "      <td>0</td>\n",
       "      <td>0</td>\n",
       "      <td>0</td>\n",
       "      <td>0</td>\n",
       "      <td>0</td>\n",
       "      <td>3</td>\n",
       "    </tr>\n",
       "    <tr>\n",
       "      <th>2860124</th>\n",
       "      <td>879698</td>\n",
       "      <td>0</td>\n",
       "      <td>1</td>\n",
       "      <td>0</td>\n",
       "      <td>0</td>\n",
       "      <td>0</td>\n",
       "      <td>0</td>\n",
       "      <td>0</td>\n",
       "      <td>0</td>\n",
       "      <td>0</td>\n",
       "      <td>0</td>\n",
       "      <td>0</td>\n",
       "    </tr>\n",
       "    <tr>\n",
       "      <th>2860125</th>\n",
       "      <td>879698</td>\n",
       "      <td>0</td>\n",
       "      <td>0</td>\n",
       "      <td>0</td>\n",
       "      <td>1</td>\n",
       "      <td>0</td>\n",
       "      <td>0</td>\n",
       "      <td>0</td>\n",
       "      <td>0</td>\n",
       "      <td>0</td>\n",
       "      <td>0</td>\n",
       "      <td>0</td>\n",
       "    </tr>\n",
       "    <tr>\n",
       "      <th>2860126</th>\n",
       "      <td>879698</td>\n",
       "      <td>0</td>\n",
       "      <td>0</td>\n",
       "      <td>0</td>\n",
       "      <td>0</td>\n",
       "      <td>1</td>\n",
       "      <td>0</td>\n",
       "      <td>0</td>\n",
       "      <td>0</td>\n",
       "      <td>0</td>\n",
       "      <td>0</td>\n",
       "      <td>0</td>\n",
       "    </tr>\n",
       "  </tbody>\n",
       "</table>\n",
       "<p>2860127 rows × 12 columns</p>\n",
       "</div>"
      ],
      "text/plain": [
       "         user_id  event_a  event_b  event_c  event_d  event_e  event_f  \\\n",
       "0              1        0        0        1        0        0        0   \n",
       "1              1        0        0        0        0        0        0   \n",
       "2              1        0        0        0        0        0        0   \n",
       "3              7        0        0        0        0        0        0   \n",
       "4              9        0        0        0        0        0        0   \n",
       "...          ...      ...      ...      ...      ...      ...      ...   \n",
       "2860122   879696        0        0        0        0        0        0   \n",
       "2860123   879696        0        0        0        0        0        0   \n",
       "2860124   879698        0        1        0        0        0        0   \n",
       "2860125   879698        0        0        0        1        0        0   \n",
       "2860126   879698        0        0        0        0        1        0   \n",
       "\n",
       "         event_g  event_h  event_i  event_j  event_k  \n",
       "0              0        0        0        0        0  \n",
       "1              0        1        0        0        0  \n",
       "2              0        0        0        0        3  \n",
       "3              0        0        0        0        1  \n",
       "4              0        0        0        0        3  \n",
       "...          ...      ...      ...      ...      ...  \n",
       "2860122        0        2        0        0        0  \n",
       "2860123        0        0        0        0        3  \n",
       "2860124        0        0        0        0        0  \n",
       "2860125        0        0        0        0        0  \n",
       "2860126        0        0        0        0        0  \n",
       "\n",
       "[2860127 rows x 12 columns]"
      ]
     },
     "execution_count": 30,
     "metadata": {},
     "output_type": "execute_result"
    }
   ],
   "source": [
    "df2"
   ]
  },
  {
   "cell_type": "code",
   "execution_count": 253,
   "id": "d7970c5a",
   "metadata": {
    "ExecuteTime": {
     "end_time": "2022-10-12T18:13:54.250318Z",
     "start_time": "2022-10-12T18:13:54.239971Z"
    }
   },
   "outputs": [
    {
     "data": {
      "text/plain": [
       "Index(['index', 'application_id', 'user_id', 'birth_year', 'gender',\n",
       "       'insert_time', 'credit_score', 'yearly_income', 'income_type',\n",
       "       'company_enter_month', 'employment_type', 'houseown_type',\n",
       "       'desired_amount', 'purpose', 'personal_rehabilitation_yn',\n",
       "       'personal_rehabilitation_complete_yn', 'existing_loan_cnt',\n",
       "       'existing_loan_amt', 'loanapply_insert_time', 'bank_id', 'product_id',\n",
       "       'loan_limit', 'loan_rate', 'is_applied', 'event'],\n",
       "      dtype='object')"
      ]
     },
     "execution_count": 253,
     "metadata": {},
     "output_type": "execute_result"
    }
   ],
   "source": [
    "new_merged_df.columns"
   ]
  },
  {
   "cell_type": "code",
   "execution_count": 250,
   "id": "60aeeb81",
   "metadata": {
    "ExecuteTime": {
     "end_time": "2022-10-12T18:13:00.739948Z",
     "start_time": "2022-10-12T18:12:59.728001Z"
    },
    "scrolled": true
   },
   "outputs": [],
   "source": [
    "new_merged_df.dropna(inplace=True)"
   ]
  },
  {
   "cell_type": "code",
   "execution_count": 254,
   "id": "13896863",
   "metadata": {
    "ExecuteTime": {
     "end_time": "2022-10-12T18:15:19.390077Z",
     "start_time": "2022-10-12T18:15:19.300343Z"
    }
   },
   "outputs": [],
   "source": [
    "tmp3=new_merged_df.drop(['application_id', 'user_id','insert_time','index','loanapply_insert_time', 'bank_id', 'product_id'],axis=1)"
   ]
  },
  {
   "cell_type": "code",
   "execution_count": 255,
   "id": "cd519770",
   "metadata": {
    "ExecuteTime": {
     "end_time": "2022-10-12T18:15:30.493682Z",
     "start_time": "2022-10-12T18:15:29.018711Z"
    }
   },
   "outputs": [],
   "source": [
    "for cate in cate_list:\n",
    "    tmp3 = pd.get_dummies(data = tmp3, columns=[cate], prefix=cate)"
   ]
  },
  {
   "cell_type": "code",
   "execution_count": 256,
   "id": "f571bbeb",
   "metadata": {
    "ExecuteTime": {
     "end_time": "2022-10-12T18:15:54.045765Z",
     "start_time": "2022-10-12T18:15:53.829927Z"
    }
   },
   "outputs": [],
   "source": [
    "tmp3 =pd.concat([tmp3[tmp3['is_applied']==0].sample(35872, random_state=42), tmp3[tmp3['is_applied']==1].sample(35872, random_state=42)])"
   ]
  },
  {
   "cell_type": "code",
   "execution_count": 258,
   "id": "afbce4fe",
   "metadata": {
    "ExecuteTime": {
     "end_time": "2022-10-12T18:16:31.542547Z",
     "start_time": "2022-10-12T18:16:31.530373Z"
    }
   },
   "outputs": [],
   "source": [
    "X,y =tmp3.loc[:, tmp3.columns !='is_applied'] ,tmp3['is_applied']"
   ]
  },
  {
   "cell_type": "code",
   "execution_count": 259,
   "id": "82ff525f",
   "metadata": {
    "ExecuteTime": {
     "end_time": "2022-10-12T18:16:33.849920Z",
     "start_time": "2022-10-12T18:16:33.809794Z"
    }
   },
   "outputs": [],
   "source": [
    "X_train, X_test, y_train, y_test=train_test_split(X,y,test_size=0.2, random_state=42)"
   ]
  },
  {
   "cell_type": "code",
   "execution_count": 260,
   "id": "c7540bee",
   "metadata": {
    "ExecuteTime": {
     "end_time": "2022-10-12T18:16:42.372718Z",
     "start_time": "2022-10-12T18:16:42.368366Z"
    }
   },
   "outputs": [],
   "source": [
    "model3 = RandomForestClassifier(random_state=42)"
   ]
  },
  {
   "cell_type": "code",
   "execution_count": 261,
   "id": "71b1366a",
   "metadata": {
    "ExecuteTime": {
     "end_time": "2022-10-12T18:16:45.813970Z",
     "start_time": "2022-10-12T18:16:45.643861Z"
    }
   },
   "outputs": [
    {
     "ename": "ValueError",
     "evalue": "could not convert string to float: 'kkhedfg'",
     "output_type": "error",
     "traceback": [
      "\u001b[0;31m---------------------------------------------------------------------------\u001b[0m",
      "\u001b[0;31mValueError\u001b[0m                                Traceback (most recent call last)",
      "\u001b[0;32m/tmp/ipykernel_417/4066069464.py\u001b[0m in \u001b[0;36m<module>\u001b[0;34m\u001b[0m\n\u001b[0;32m----> 1\u001b[0;31m \u001b[0mmodel3\u001b[0m\u001b[0;34m.\u001b[0m\u001b[0mfit\u001b[0m\u001b[0;34m(\u001b[0m\u001b[0mX_train\u001b[0m\u001b[0;34m,\u001b[0m \u001b[0my_train\u001b[0m\u001b[0;34m)\u001b[0m\u001b[0;34m\u001b[0m\u001b[0;34m\u001b[0m\u001b[0m\n\u001b[0m",
      "\u001b[0;32m~/.local/lib/python3.8/site-packages/sklearn/ensemble/_forest.py\u001b[0m in \u001b[0;36mfit\u001b[0;34m(self, X, y, sample_weight)\u001b[0m\n\u001b[1;32m    302\u001b[0m                 \u001b[0;34m\"sparse multilabel-indicator for y is not supported.\"\u001b[0m\u001b[0;34m\u001b[0m\u001b[0;34m\u001b[0m\u001b[0m\n\u001b[1;32m    303\u001b[0m             )\n\u001b[0;32m--> 304\u001b[0;31m         X, y = self._validate_data(X, y, multi_output=True,\n\u001b[0m\u001b[1;32m    305\u001b[0m                                    accept_sparse=\"csc\", dtype=DTYPE)\n\u001b[1;32m    306\u001b[0m         \u001b[0;32mif\u001b[0m \u001b[0msample_weight\u001b[0m \u001b[0;32mis\u001b[0m \u001b[0;32mnot\u001b[0m \u001b[0;32mNone\u001b[0m\u001b[0;34m:\u001b[0m\u001b[0;34m\u001b[0m\u001b[0;34m\u001b[0m\u001b[0m\n",
      "\u001b[0;32m~/.local/lib/python3.8/site-packages/sklearn/base.py\u001b[0m in \u001b[0;36m_validate_data\u001b[0;34m(self, X, y, reset, validate_separately, **check_params)\u001b[0m\n\u001b[1;32m    431\u001b[0m                 \u001b[0my\u001b[0m \u001b[0;34m=\u001b[0m \u001b[0mcheck_array\u001b[0m\u001b[0;34m(\u001b[0m\u001b[0my\u001b[0m\u001b[0;34m,\u001b[0m \u001b[0;34m**\u001b[0m\u001b[0mcheck_y_params\u001b[0m\u001b[0;34m)\u001b[0m\u001b[0;34m\u001b[0m\u001b[0;34m\u001b[0m\u001b[0m\n\u001b[1;32m    432\u001b[0m             \u001b[0;32melse\u001b[0m\u001b[0;34m:\u001b[0m\u001b[0;34m\u001b[0m\u001b[0;34m\u001b[0m\u001b[0m\n\u001b[0;32m--> 433\u001b[0;31m                 \u001b[0mX\u001b[0m\u001b[0;34m,\u001b[0m \u001b[0my\u001b[0m \u001b[0;34m=\u001b[0m \u001b[0mcheck_X_y\u001b[0m\u001b[0;34m(\u001b[0m\u001b[0mX\u001b[0m\u001b[0;34m,\u001b[0m \u001b[0my\u001b[0m\u001b[0;34m,\u001b[0m \u001b[0;34m**\u001b[0m\u001b[0mcheck_params\u001b[0m\u001b[0;34m)\u001b[0m\u001b[0;34m\u001b[0m\u001b[0;34m\u001b[0m\u001b[0m\n\u001b[0m\u001b[1;32m    434\u001b[0m             \u001b[0mout\u001b[0m \u001b[0;34m=\u001b[0m \u001b[0mX\u001b[0m\u001b[0;34m,\u001b[0m \u001b[0my\u001b[0m\u001b[0;34m\u001b[0m\u001b[0;34m\u001b[0m\u001b[0m\n\u001b[1;32m    435\u001b[0m \u001b[0;34m\u001b[0m\u001b[0m\n",
      "\u001b[0;32m~/.local/lib/python3.8/site-packages/sklearn/utils/validation.py\u001b[0m in \u001b[0;36minner_f\u001b[0;34m(*args, **kwargs)\u001b[0m\n\u001b[1;32m     61\u001b[0m             \u001b[0mextra_args\u001b[0m \u001b[0;34m=\u001b[0m \u001b[0mlen\u001b[0m\u001b[0;34m(\u001b[0m\u001b[0margs\u001b[0m\u001b[0;34m)\u001b[0m \u001b[0;34m-\u001b[0m \u001b[0mlen\u001b[0m\u001b[0;34m(\u001b[0m\u001b[0mall_args\u001b[0m\u001b[0;34m)\u001b[0m\u001b[0;34m\u001b[0m\u001b[0;34m\u001b[0m\u001b[0m\n\u001b[1;32m     62\u001b[0m             \u001b[0;32mif\u001b[0m \u001b[0mextra_args\u001b[0m \u001b[0;34m<=\u001b[0m \u001b[0;36m0\u001b[0m\u001b[0;34m:\u001b[0m\u001b[0;34m\u001b[0m\u001b[0;34m\u001b[0m\u001b[0m\n\u001b[0;32m---> 63\u001b[0;31m                 \u001b[0;32mreturn\u001b[0m \u001b[0mf\u001b[0m\u001b[0;34m(\u001b[0m\u001b[0;34m*\u001b[0m\u001b[0margs\u001b[0m\u001b[0;34m,\u001b[0m \u001b[0;34m**\u001b[0m\u001b[0mkwargs\u001b[0m\u001b[0;34m)\u001b[0m\u001b[0;34m\u001b[0m\u001b[0;34m\u001b[0m\u001b[0m\n\u001b[0m\u001b[1;32m     64\u001b[0m \u001b[0;34m\u001b[0m\u001b[0m\n\u001b[1;32m     65\u001b[0m             \u001b[0;31m# extra_args > 0\u001b[0m\u001b[0;34m\u001b[0m\u001b[0;34m\u001b[0m\u001b[0;34m\u001b[0m\u001b[0m\n",
      "\u001b[0;32m~/.local/lib/python3.8/site-packages/sklearn/utils/validation.py\u001b[0m in \u001b[0;36mcheck_X_y\u001b[0;34m(X, y, accept_sparse, accept_large_sparse, dtype, order, copy, force_all_finite, ensure_2d, allow_nd, multi_output, ensure_min_samples, ensure_min_features, y_numeric, estimator)\u001b[0m\n\u001b[1;32m    869\u001b[0m         \u001b[0;32mraise\u001b[0m \u001b[0mValueError\u001b[0m\u001b[0;34m(\u001b[0m\u001b[0;34m\"y cannot be None\"\u001b[0m\u001b[0;34m)\u001b[0m\u001b[0;34m\u001b[0m\u001b[0;34m\u001b[0m\u001b[0m\n\u001b[1;32m    870\u001b[0m \u001b[0;34m\u001b[0m\u001b[0m\n\u001b[0;32m--> 871\u001b[0;31m     X = check_array(X, accept_sparse=accept_sparse,\n\u001b[0m\u001b[1;32m    872\u001b[0m                     \u001b[0maccept_large_sparse\u001b[0m\u001b[0;34m=\u001b[0m\u001b[0maccept_large_sparse\u001b[0m\u001b[0;34m,\u001b[0m\u001b[0;34m\u001b[0m\u001b[0;34m\u001b[0m\u001b[0m\n\u001b[1;32m    873\u001b[0m                     \u001b[0mdtype\u001b[0m\u001b[0;34m=\u001b[0m\u001b[0mdtype\u001b[0m\u001b[0;34m,\u001b[0m \u001b[0morder\u001b[0m\u001b[0;34m=\u001b[0m\u001b[0morder\u001b[0m\u001b[0;34m,\u001b[0m \u001b[0mcopy\u001b[0m\u001b[0;34m=\u001b[0m\u001b[0mcopy\u001b[0m\u001b[0;34m,\u001b[0m\u001b[0;34m\u001b[0m\u001b[0;34m\u001b[0m\u001b[0m\n",
      "\u001b[0;32m~/.local/lib/python3.8/site-packages/sklearn/utils/validation.py\u001b[0m in \u001b[0;36minner_f\u001b[0;34m(*args, **kwargs)\u001b[0m\n\u001b[1;32m     61\u001b[0m             \u001b[0mextra_args\u001b[0m \u001b[0;34m=\u001b[0m \u001b[0mlen\u001b[0m\u001b[0;34m(\u001b[0m\u001b[0margs\u001b[0m\u001b[0;34m)\u001b[0m \u001b[0;34m-\u001b[0m \u001b[0mlen\u001b[0m\u001b[0;34m(\u001b[0m\u001b[0mall_args\u001b[0m\u001b[0;34m)\u001b[0m\u001b[0;34m\u001b[0m\u001b[0;34m\u001b[0m\u001b[0m\n\u001b[1;32m     62\u001b[0m             \u001b[0;32mif\u001b[0m \u001b[0mextra_args\u001b[0m \u001b[0;34m<=\u001b[0m \u001b[0;36m0\u001b[0m\u001b[0;34m:\u001b[0m\u001b[0;34m\u001b[0m\u001b[0;34m\u001b[0m\u001b[0m\n\u001b[0;32m---> 63\u001b[0;31m                 \u001b[0;32mreturn\u001b[0m \u001b[0mf\u001b[0m\u001b[0;34m(\u001b[0m\u001b[0;34m*\u001b[0m\u001b[0margs\u001b[0m\u001b[0;34m,\u001b[0m \u001b[0;34m**\u001b[0m\u001b[0mkwargs\u001b[0m\u001b[0;34m)\u001b[0m\u001b[0;34m\u001b[0m\u001b[0;34m\u001b[0m\u001b[0m\n\u001b[0m\u001b[1;32m     64\u001b[0m \u001b[0;34m\u001b[0m\u001b[0m\n\u001b[1;32m     65\u001b[0m             \u001b[0;31m# extra_args > 0\u001b[0m\u001b[0;34m\u001b[0m\u001b[0;34m\u001b[0m\u001b[0;34m\u001b[0m\u001b[0m\n",
      "\u001b[0;32m~/.local/lib/python3.8/site-packages/sklearn/utils/validation.py\u001b[0m in \u001b[0;36mcheck_array\u001b[0;34m(array, accept_sparse, accept_large_sparse, dtype, order, copy, force_all_finite, ensure_2d, allow_nd, ensure_min_samples, ensure_min_features, estimator)\u001b[0m\n\u001b[1;32m    671\u001b[0m                     \u001b[0marray\u001b[0m \u001b[0;34m=\u001b[0m \u001b[0marray\u001b[0m\u001b[0;34m.\u001b[0m\u001b[0mastype\u001b[0m\u001b[0;34m(\u001b[0m\u001b[0mdtype\u001b[0m\u001b[0;34m,\u001b[0m \u001b[0mcasting\u001b[0m\u001b[0;34m=\u001b[0m\u001b[0;34m\"unsafe\"\u001b[0m\u001b[0;34m,\u001b[0m \u001b[0mcopy\u001b[0m\u001b[0;34m=\u001b[0m\u001b[0;32mFalse\u001b[0m\u001b[0;34m)\u001b[0m\u001b[0;34m\u001b[0m\u001b[0;34m\u001b[0m\u001b[0m\n\u001b[1;32m    672\u001b[0m                 \u001b[0;32melse\u001b[0m\u001b[0;34m:\u001b[0m\u001b[0;34m\u001b[0m\u001b[0;34m\u001b[0m\u001b[0m\n\u001b[0;32m--> 673\u001b[0;31m                     \u001b[0marray\u001b[0m \u001b[0;34m=\u001b[0m \u001b[0mnp\u001b[0m\u001b[0;34m.\u001b[0m\u001b[0masarray\u001b[0m\u001b[0;34m(\u001b[0m\u001b[0marray\u001b[0m\u001b[0;34m,\u001b[0m \u001b[0morder\u001b[0m\u001b[0;34m=\u001b[0m\u001b[0morder\u001b[0m\u001b[0;34m,\u001b[0m \u001b[0mdtype\u001b[0m\u001b[0;34m=\u001b[0m\u001b[0mdtype\u001b[0m\u001b[0;34m)\u001b[0m\u001b[0;34m\u001b[0m\u001b[0;34m\u001b[0m\u001b[0m\n\u001b[0m\u001b[1;32m    674\u001b[0m             \u001b[0;32mexcept\u001b[0m \u001b[0mComplexWarning\u001b[0m \u001b[0;32mas\u001b[0m \u001b[0mcomplex_warning\u001b[0m\u001b[0;34m:\u001b[0m\u001b[0;34m\u001b[0m\u001b[0;34m\u001b[0m\u001b[0m\n\u001b[1;32m    675\u001b[0m                 raise ValueError(\"Complex data not supported\\n\"\n",
      "\u001b[0;32m~/.local/lib/python3.8/site-packages/pandas/core/generic.py\u001b[0m in \u001b[0;36m__array__\u001b[0;34m(self, dtype)\u001b[0m\n\u001b[1;32m   1991\u001b[0m \u001b[0;34m\u001b[0m\u001b[0m\n\u001b[1;32m   1992\u001b[0m     \u001b[0;32mdef\u001b[0m \u001b[0m__array__\u001b[0m\u001b[0;34m(\u001b[0m\u001b[0mself\u001b[0m\u001b[0;34m,\u001b[0m \u001b[0mdtype\u001b[0m\u001b[0;34m:\u001b[0m \u001b[0mNpDtype\u001b[0m \u001b[0;34m|\u001b[0m \u001b[0;32mNone\u001b[0m \u001b[0;34m=\u001b[0m \u001b[0;32mNone\u001b[0m\u001b[0;34m)\u001b[0m \u001b[0;34m->\u001b[0m \u001b[0mnp\u001b[0m\u001b[0;34m.\u001b[0m\u001b[0mndarray\u001b[0m\u001b[0;34m:\u001b[0m\u001b[0;34m\u001b[0m\u001b[0;34m\u001b[0m\u001b[0m\n\u001b[0;32m-> 1993\u001b[0;31m         \u001b[0;32mreturn\u001b[0m \u001b[0mnp\u001b[0m\u001b[0;34m.\u001b[0m\u001b[0masarray\u001b[0m\u001b[0;34m(\u001b[0m\u001b[0mself\u001b[0m\u001b[0;34m.\u001b[0m\u001b[0m_values\u001b[0m\u001b[0;34m,\u001b[0m \u001b[0mdtype\u001b[0m\u001b[0;34m=\u001b[0m\u001b[0mdtype\u001b[0m\u001b[0;34m)\u001b[0m\u001b[0;34m\u001b[0m\u001b[0;34m\u001b[0m\u001b[0m\n\u001b[0m\u001b[1;32m   1994\u001b[0m \u001b[0;34m\u001b[0m\u001b[0m\n\u001b[1;32m   1995\u001b[0m     def __array_wrap__(\n",
      "\u001b[0;31mValueError\u001b[0m: could not convert string to float: 'kkhedfg'"
     ]
    }
   ],
   "source": [
    "model3.fit(X_train, y_train)"
   ]
  },
  {
   "cell_type": "code",
   "execution_count": 66,
   "id": "23e5889c",
   "metadata": {
    "ExecuteTime": {
     "end_time": "2022-10-12T17:17:30.562339Z",
     "start_time": "2022-10-12T17:17:29.999560Z"
    }
   },
   "outputs": [
    {
     "data": {
      "text/plain": [
       "0.8149696842985574"
      ]
     },
     "execution_count": 66,
     "metadata": {},
     "output_type": "execute_result"
    }
   ],
   "source": [
    "model.score(X_test,y_test)"
   ]
  },
  {
   "cell_type": "code",
   "execution_count": 67,
   "id": "46a8056d",
   "metadata": {
    "ExecuteTime": {
     "end_time": "2022-10-12T17:17:31.052169Z",
     "start_time": "2022-10-12T17:17:30.565386Z"
    }
   },
   "outputs": [
    {
     "data": {
      "text/plain": [
       "0.8174630457201788"
      ]
     },
     "execution_count": 67,
     "metadata": {},
     "output_type": "execute_result"
    }
   ],
   "source": [
    "y_pred = model.predict(X_test)\n",
    "f1_score(y_test, y_pred)"
   ]
  },
  {
   "cell_type": "code",
   "execution_count": 68,
   "id": "84d13b93",
   "metadata": {
    "ExecuteTime": {
     "end_time": "2022-10-12T17:17:31.080116Z",
     "start_time": "2022-10-12T17:17:31.055734Z"
    }
   },
   "outputs": [
    {
     "data": {
      "text/plain": [
       "array([[5749, 1446],\n",
       "       [1209, 5945]])"
      ]
     },
     "execution_count": 68,
     "metadata": {},
     "output_type": "execute_result"
    }
   ],
   "source": [
    "confusion_matrix(y_test, y_pred)"
   ]
  },
  {
   "cell_type": "code",
   "execution_count": 72,
   "id": "5bd62ffe",
   "metadata": {
    "ExecuteTime": {
     "end_time": "2022-10-12T17:19:06.469130Z",
     "start_time": "2022-10-12T17:19:06.411442Z"
    },
    "scrolled": true
   },
   "outputs": [
    {
     "name": "stdout",
     "output_type": "stream",
     "text": [
      "(0.17669453178641592, 'credit_score')\n",
      "(0.17422555789441435, 'loan_rate')\n",
      "(0.10966848362038831, 'loan_limit')\n",
      "(0.0911802331985813, 'desired_amount')\n",
      "(0.07316401850252927, 'company_enter_month')\n",
      "(0.07020765954422956, 'existing_loan_amt')\n",
      "(0.0650954087485928, 'yearly_income')\n",
      "(0.06452869709823061, 'birth_year')\n",
      "(0.05049083989721915, 'existing_loan_cnt')\n",
      "(0.01720350127681259, 'income_type_EARNEDINCOME')\n",
      "(0.01273285867218163, 'purpose_생활비')\n",
      "(0.012394416368376814, 'gender')\n",
      "(0.009566323806808422, 'houseown_type_전월세')\n",
      "(0.009199760277871151, 'houseown_type_기타가족소유')\n",
      "(0.007593612652192456, 'purpose_대환대출')\n",
      "(0.007558039525775338, 'employment_type_정규직')\n",
      "(0.006493953851784805, 'houseown_type_자가')\n",
      "(0.0064693852902628956, 'employment_type_기타')\n",
      "(0.006194119056616814, 'income_type_EARNEDINCOME2')\n",
      "(0.005152871447833591, 'employment_type_계약직')\n",
      "(0.004292445194494787, 'income_type_PRIVATEBUSINESS')\n",
      "(0.0037845460118602005, 'personal_rehabilitation_yn')\n",
      "(0.002934464607936977, 'income_type_PRACTITIONER')\n",
      "(0.002419690622326713, 'purpose_주택구입')\n",
      "(0.002384610362477958, 'purpose_전월세보증금')\n",
      "(0.002383384234654357, 'purpose_사업자금')\n",
      "(0.001993995041650202, 'income_type_FREELANCER')\n",
      "(0.0019205363390958625, 'purpose_기타')\n",
      "(0.001183301117487533, 'purpose_투자')\n",
      "(0.0005384704796837606, 'personal_rehabilitation_complete_yn')\n",
      "(0.00018077023636526245, 'employment_type_일용직')\n",
      "(0.00016951323484867167, 'purpose_자동차구입')\n"
     ]
    }
   ],
   "source": [
    "print(*sorted(zip(model.feature_importances_, X_test.columns), reverse=True), sep='\\n')"
   ]
  },
  {
   "cell_type": "code",
   "execution_count": null,
   "id": "30063391",
   "metadata": {},
   "outputs": [],
   "source": []
  },
  {
   "cell_type": "code",
   "execution_count": null,
   "id": "cb7cee5e",
   "metadata": {},
   "outputs": [],
   "source": []
  },
  {
   "cell_type": "code",
   "execution_count": null,
   "id": "56b9964b",
   "metadata": {},
   "outputs": [],
   "source": []
  }
 ],
 "metadata": {
  "kernelspec": {
   "display_name": "Python 3 (ipykernel)",
   "language": "python",
   "name": "python3"
  },
  "language_info": {
   "codemirror_mode": {
    "name": "ipython",
    "version": 3
   },
   "file_extension": ".py",
   "mimetype": "text/x-python",
   "name": "python",
   "nbconvert_exporter": "python",
   "pygments_lexer": "ipython3",
   "version": "3.8.10"
  },
  "toc": {
   "base_numbering": 1,
   "nav_menu": {},
   "number_sections": true,
   "sideBar": true,
   "skip_h1_title": false,
   "title_cell": "Table of Contents",
   "title_sidebar": "Contents",
   "toc_cell": false,
   "toc_position": {},
   "toc_section_display": true,
   "toc_window_display": false
  }
 },
 "nbformat": 4,
 "nbformat_minor": 5
}
