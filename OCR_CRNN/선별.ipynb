{
 "cells": [
  {
   "cell_type": "code",
   "execution_count": 1,
   "id": "0b4b4c27",
   "metadata": {
    "ExecuteTime": {
     "end_time": "2022-12-19T06:14:50.201566Z",
     "start_time": "2022-12-19T06:14:50.199178Z"
    }
   },
   "outputs": [],
   "source": [
    "import os, shutil"
   ]
  },
  {
   "cell_type": "code",
   "execution_count": 8,
   "id": "a298a87e",
   "metadata": {
    "ExecuteTime": {
     "end_time": "2022-12-19T06:22:26.252482Z",
     "start_time": "2022-12-19T06:22:26.093586Z"
    }
   },
   "outputs": [],
   "source": [
    "i_dir = './CRNNKerasmaster/DB/train_padding/'\n",
    "for file in os.listdir(i_dir):\n",
    "    name, ext = os.path.splitext(file)\n",
    "    if ' ' in name:\n",
    "        continue\n",
    "    shutil.copy(i_dir+file, './CRNNKerasmaster/DB/train_9/'+file)"
   ]
  },
  {
   "cell_type": "code",
   "execution_count": 9,
   "id": "9517a1f9",
   "metadata": {
    "ExecuteTime": {
     "end_time": "2022-12-19T06:22:42.039237Z",
     "start_time": "2022-12-19T06:22:41.934812Z"
    }
   },
   "outputs": [],
   "source": [
    "i_dir = './CRNNKerasmaster/DB/test_padding/'\n",
    "for file in os.listdir(i_dir):\n",
    "    name, ext = os.path.splitext(file)\n",
    "    if ' ' in name:\n",
    "        continue\n",
    "    shutil.copy(i_dir+file, './CRNNKerasmaster/DB/test_9/'+file)"
   ]
  },
  {
   "cell_type": "code",
   "execution_count": 10,
   "id": "5260e115",
   "metadata": {
    "ExecuteTime": {
     "end_time": "2022-12-19T06:24:30.588775Z",
     "start_time": "2022-12-19T06:24:30.577949Z"
    }
   },
   "outputs": [
    {
     "data": {
      "text/plain": [
       "9"
      ]
     },
     "execution_count": 10,
     "metadata": {},
     "output_type": "execute_result"
    }
   ],
   "source": [
    "len(os.listdir('./CRNNKerasmaster/DB/test_9/'))"
   ]
  },
  {
   "cell_type": "code",
   "execution_count": 11,
   "id": "6ddd48cf",
   "metadata": {
    "ExecuteTime": {
     "end_time": "2022-12-19T06:24:35.919451Z",
     "start_time": "2022-12-19T06:24:35.915329Z"
    }
   },
   "outputs": [
    {
     "data": {
      "text/plain": [
       "61"
      ]
     },
     "execution_count": 11,
     "metadata": {},
     "output_type": "execute_result"
    }
   ],
   "source": [
    "len(os.listdir('./CRNNKerasmaster/DB/train_9/'))"
   ]
  }
 ],
 "metadata": {
  "kernelspec": {
   "display_name": "Python 3 (ipykernel)",
   "language": "python",
   "name": "python3"
  },
  "language_info": {
   "codemirror_mode": {
    "name": "ipython",
    "version": 3
   },
   "file_extension": ".py",
   "mimetype": "text/x-python",
   "name": "python",
   "nbconvert_exporter": "python",
   "pygments_lexer": "ipython3",
   "version": "3.8.10"
  },
  "toc": {
   "base_numbering": 1,
   "nav_menu": {},
   "number_sections": true,
   "sideBar": true,
   "skip_h1_title": false,
   "title_cell": "Table of Contents",
   "title_sidebar": "Contents",
   "toc_cell": false,
   "toc_position": {},
   "toc_section_display": true,
   "toc_window_display": false
  },
  "varInspector": {
   "cols": {
    "lenName": 16,
    "lenType": 16,
    "lenVar": 40
   },
   "kernels_config": {
    "python": {
     "delete_cmd_postfix": "",
     "delete_cmd_prefix": "del ",
     "library": "var_list.py",
     "varRefreshCmd": "print(var_dic_list())"
    },
    "r": {
     "delete_cmd_postfix": ") ",
     "delete_cmd_prefix": "rm(",
     "library": "var_list.r",
     "varRefreshCmd": "cat(var_dic_list()) "
    }
   },
   "types_to_exclude": [
    "module",
    "function",
    "builtin_function_or_method",
    "instance",
    "_Feature"
   ],
   "window_display": false
  }
 },
 "nbformat": 4,
 "nbformat_minor": 5
}
