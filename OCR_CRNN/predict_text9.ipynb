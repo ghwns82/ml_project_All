{
 "cells": [
  {
   "cell_type": "code",
   "execution_count": 1,
   "id": "16c9615a",
   "metadata": {
    "ExecuteTime": {
     "end_time": "2022-12-19T07:31:28.468100Z",
     "start_time": "2022-12-19T07:31:28.456283Z"
    }
   },
   "outputs": [],
   "source": [
    "import warnings\n",
    "warnings.filterwarnings(action=\"ignore\")"
   ]
  },
  {
   "cell_type": "code",
   "execution_count": 2,
   "id": "ada8fb42",
   "metadata": {
    "ExecuteTime": {
     "end_time": "2022-12-19T07:31:31.746613Z",
     "start_time": "2022-12-19T07:31:28.475485Z"
    }
   },
   "outputs": [
    {
     "name": "stderr",
     "output_type": "stream",
     "text": [
      "2022-12-19 16:31:28.487331: I tensorflow/core/platform/cpu_feature_guard.cc:193] This TensorFlow binary is optimized with oneAPI Deep Neural Network Library (oneDNN) to use the following CPU instructions in performance-critical operations:  AVX2 FMA\n",
      "To enable them in other operations, rebuild TensorFlow with the appropriate compiler flags.\n",
      "2022-12-19 16:31:28.828464: W tensorflow/compiler/xla/stream_executor/platform/default/dso_loader.cc:64] Could not load dynamic library 'libcudart.so.11.0'; dlerror: libcudart.so.11.0: cannot open shared object file: No such file or directory\n",
      "2022-12-19 16:31:28.828541: I tensorflow/compiler/xla/stream_executor/cuda/cudart_stub.cc:29] Ignore above cudart dlerror if you do not have a GPU set up on your machine.\n",
      "2022-12-19 16:31:29.982136: W tensorflow/compiler/xla/stream_executor/platform/default/dso_loader.cc:64] Could not load dynamic library 'libnvinfer.so.7'; dlerror: libnvinfer.so.7: cannot open shared object file: No such file or directory\n",
      "2022-12-19 16:31:29.982735: W tensorflow/compiler/xla/stream_executor/platform/default/dso_loader.cc:64] Could not load dynamic library 'libnvinfer_plugin.so.7'; dlerror: libnvinfer_plugin.so.7: cannot open shared object file: No such file or directory\n",
      "2022-12-19 16:31:29.982809: W tensorflow/compiler/tf2tensorrt/utils/py_utils.cc:38] TF-TRT Warning: Cannot dlopen some TensorRT libraries. If you would like to use Nvidia GPU with TensorRT, please make sure the missing libraries mentioned above are installed properly.\n"
     ]
    }
   ],
   "source": [
    "import tensorflow as tf\n",
    "from keras import backend as K\n",
    "from keras.optimizers import Adadelta\n",
    "from keras.callbacks import EarlyStopping, ModelCheckpoint\n",
    "\n",
    "# 경로 참 더럽네\n",
    "from CRNNKerasmaster.parameter import *\n",
    "from CRNNKerasmaster.Model import get_Model\n",
    "from CRNNKerasmaster.Image_Generator import TextImageGenerator\n",
    "\n",
    "import cv2\n",
    "import itertools, os, time\n",
    "import numpy as np\n",
    "import argparse\n",
    "import easydict\n",
    "from datetime import datetime\n",
    "\n",
    "K.set_learning_phase(0)"
   ]
  },
  {
   "cell_type": "code",
   "execution_count": 3,
   "id": "6d48baa8",
   "metadata": {
    "ExecuteTime": {
     "end_time": "2022-12-19T07:31:31.762887Z",
     "start_time": "2022-12-19T07:31:31.748758Z"
    }
   },
   "outputs": [],
   "source": [
    "def decode_label(out):\n",
    "    # out : (1, 32, 42)\n",
    "    out_best = list(np.argmax(out[0, 2:], axis=1))  # get max index -> len = 32\n",
    "    out_best = [k for k, g in itertools.groupby(out_best)]  # remove overlap value\n",
    "    outstr = ''\n",
    "    for i in out_best:\n",
    "        if i < len(letters):\n",
    "            outstr += letters[i]\n",
    "    return outstr"
   ]
  },
  {
   "cell_type": "code",
   "execution_count": 4,
   "id": "c10abf26",
   "metadata": {
    "ExecuteTime": {
     "end_time": "2022-12-19T07:31:31.786823Z",
     "start_time": "2022-12-19T07:31:31.775572Z"
    }
   },
   "outputs": [],
   "source": [
    "def label_to_text(label):  # eng -> hangul\n",
    "    res = ''\n",
    "    for i in label:\n",
    "        res+=letters[i]\n",
    "    return res"
   ]
  },
  {
   "cell_type": "code",
   "execution_count": 84,
   "id": "3a0feef9",
   "metadata": {
    "ExecuteTime": {
     "end_time": "2022-12-20T02:38:48.280994Z",
     "start_time": "2022-12-20T02:38:48.276537Z"
    }
   },
   "outputs": [
    {
     "data": {
      "text/plain": [
       "['LSTM+BN5--2022_12_19_14_22_52.hdf5',\n",
       " 'LSTM+BN5--2022_12_19_14_47_37.hdf5',\n",
       " 'LSTM+BN5--text9--1000--102.089.hdf5',\n",
       " 'LSTM+BN5--text9--1000--102.129.hdf5',\n",
       " 'LSTM+BN5--text9--1000--104.370.hdf5',\n",
       " 'LSTM+BN5--text9--1000--104.974.hdf5',\n",
       " 'LSTM+BN5--text9--1000--111.037.hdf5',\n",
       " 'LSTM+BN5--text9--1000--112.230.hdf5',\n",
       " 'LSTM+BN5--text9--1000--119.030.hdf5',\n",
       " 'LSTM+BN5--text9--1000--130.722.hdf5',\n",
       " 'LSTM+BN5--text9--1000--137.869.hdf5',\n",
       " 'LSTM+BN5--text9--1000--143.585.hdf5',\n",
       " 'LSTM+BN5--text9--1000--68.436.hdf5',\n",
       " 'LSTM+BN5--text9--1000--73.074.hdf5',\n",
       " 'LSTM+BN5--text9--1000--74.051.hdf5',\n",
       " 'LSTM+BN5--text9--1000--79.769.hdf5',\n",
       " 'LSTM+BN5--text9--1000--85.715.hdf5',\n",
       " 'LSTM+BN5--text9--1000--86.647.hdf5',\n",
       " 'LSTM+BN5--text9--1000--87.225.hdf5',\n",
       " 'LSTM+BN5--text9--1000--88.209.hdf5',\n",
       " 'LSTM+BN5--text9--1000--89.023.hdf5',\n",
       " 'LSTM+BN5--text9--1000--90.462.hdf5',\n",
       " 'LSTM+BN5--text9--1000--91.454.hdf5',\n",
       " 'LSTM+BN5--text9--1000--92.469.hdf5',\n",
       " 'LSTM+BN5--text9--1000--93.856.hdf5',\n",
       " 'LSTM+BN5--text9--1000--95.152.hdf5',\n",
       " 'LSTM+BN5--text9--1000--95.195.hdf5',\n",
       " 'LSTM+BN5--text9--1000--98.007.hdf5',\n",
       " 'LSTM+BN5--text9--2022_12_19_15_27_52.hdf5',\n",
       " 'LSTM+BN5.hdf5']"
      ]
     },
     "execution_count": 84,
     "metadata": {},
     "output_type": "execute_result"
    }
   ],
   "source": [
    "hdf=[i for i in os.listdir('./') if '.hdf5'in i]\n",
    "hdf"
   ]
  },
  {
   "cell_type": "code",
   "execution_count": 89,
   "id": "c76b5d98",
   "metadata": {
    "ExecuteTime": {
     "end_time": "2022-12-20T02:40:51.294355Z",
     "start_time": "2022-12-20T02:40:51.291091Z"
    }
   },
   "outputs": [
    {
     "data": {
      "text/plain": [
       "'LSTM+BN5--text9--1000--73.074.hdf5'"
      ]
     },
     "execution_count": 89,
     "metadata": {},
     "output_type": "execute_result"
    }
   ],
   "source": [
    "w_file = hdf[13]\n",
    "w_file"
   ]
  },
  {
   "cell_type": "code",
   "execution_count": null,
   "id": "bb8fa759",
   "metadata": {
    "ExecuteTime": {
     "start_time": "2022-12-20T02:45:08.690Z"
    },
    "scrolled": true
   },
   "outputs": [
    {
     "name": "stdout",
     "output_type": "stream",
     "text": [
      "...Previous weight data...\n",
      "1/1 [==============================] - 1s 896ms/step\n",
      "Predicted: 쪽868-등88380  /  True: 1588-1300\n",
      "1/1 [==============================] - 0s 36ms/step\n",
      "Predicted: T77273얘3532  /  True: T863-7737\n",
      "1/1 [==============================] - 0s 33ms/step\n",
      "Predicted: T4S7액4T듣T곳-툼-녕489  /  True: T864-1250\n",
      "Time :  0.41390490531921387\n",
      "ACC :  0.0\n",
      "letter ACC :  0.1282051282051282\n"
     ]
    }
   ],
   "source": [
    "res = []\n",
    "for iii in range(13, len(hdf)-2):\n",
    "    w_file = hdf[iii]\n",
    "    exec(cmd)\n",
    "    res.append([letter_acc / letter_total, iii,w_file])"
   ]
  },
  {
   "cell_type": "code",
   "execution_count": 95,
   "id": "6a082d4a",
   "metadata": {
    "ExecuteTime": {
     "end_time": "2022-12-20T02:43:56.839526Z",
     "start_time": "2022-12-20T02:43:56.836547Z"
    }
   },
   "outputs": [
    {
     "data": {
      "text/plain": [
       "[[8, 'LSTM+BN5--text9--1000--73.074.hdf5', 0.1282051282051282],\n",
       " [8, 'LSTM+BN5--text9--1000--74.051.hdf5', 0.1282051282051282],\n",
       " [8, 'LSTM+BN5--text9--1000--79.769.hdf5', 0.075],\n",
       " [8, 'LSTM+BN5--text9--1000--85.715.hdf5', 0.13157894736842105],\n",
       " [8, 'LSTM+BN5--text9--1000--86.647.hdf5', 0.06382978723404255],\n",
       " [8, 'LSTM+BN5--text9--1000--87.225.hdf5', 0.1282051282051282],\n",
       " [8, 'LSTM+BN5--text9--1000--88.209.hdf5', 0.10204081632653061],\n",
       " [8, 'LSTM+BN5--text9--1000--89.023.hdf5', 0.1282051282051282],\n",
       " [8, 'LSTM+BN5--text9--1000--90.462.hdf5', 0.10416666666666667],\n",
       " [8, 'LSTM+BN5--text9--1000--91.454.hdf5', 0.11904761904761904],\n",
       " [8, 'LSTM+BN5--text9--1000--92.469.hdf5', 0.11904761904761904],\n",
       " [8, 'LSTM+BN5--text9--1000--93.856.hdf5', 0.16666666666666666],\n",
       " [8, 'LSTM+BN5--text9--1000--95.152.hdf5', 0.041666666666666664],\n",
       " [8, 'LSTM+BN5--text9--1000--95.195.hdf5', 0.0975609756097561],\n",
       " [8, 'LSTM+BN5--text9--1000--98.007.hdf5', 0.07142857142857142]]"
      ]
     },
     "execution_count": 95,
     "metadata": {},
     "output_type": "execute_result"
    }
   ],
   "source": [
    "res"
   ]
  },
  {
   "cell_type": "code",
   "execution_count": 93,
   "id": "95138a65",
   "metadata": {
    "ExecuteTime": {
     "end_time": "2022-12-20T02:43:24.759708Z",
     "start_time": "2022-12-20T02:43:24.757031Z"
    }
   },
   "outputs": [],
   "source": [
    "cmd=\"\"\"args = easydict.EasyDict({\n",
    "    \"weight\":w_file,\n",
    "    \"test_img\":\"./CRNNKerasmaster/DB/test_9/\"\n",
    "})\n",
    "# Get CRNN model\n",
    "model = get_Model(training=False)\n",
    "\n",
    "try:\n",
    "    model.load_weights(args.weight)\n",
    "    print(\"...Previous weight data...\")\n",
    "except:\n",
    "    raise Exception(\"No weight file!\")\n",
    "test_dir =args.test_img\n",
    "test_imgs = os.listdir(args.test_img)\n",
    "total = 0\n",
    "acc = 0\n",
    "letter_total = 0\n",
    "letter_acc = 0\n",
    "start = time.time()\n",
    "for test_img in test_imgs:\n",
    "    img = cv2.imread(test_dir + test_img, cv2.IMREAD_GRAYSCALE)\n",
    "\n",
    "    img_pred = img.astype(np.float32)\n",
    "    img_pred = cv2.resize(img_pred, (128, 64))\n",
    "    img_pred = (img_pred / 255.0) * 2.0 - 1.0\n",
    "    img_pred = img_pred.T\n",
    "    img_pred = np.expand_dims(img_pred, axis=-1)\n",
    "    img_pred = np.expand_dims(img_pred, axis=0)\n",
    "\n",
    "    net_out_value = model.predict(img_pred)\n",
    "\n",
    "    pred_texts = decode_label(net_out_value)\n",
    "\n",
    "    for i in range(min(len(pred_texts), len(test_img[0:-4]))):\n",
    "        if pred_texts[i] == test_img[i]:\n",
    "            letter_acc += 1\n",
    "    letter_total += max(len(pred_texts), len(test_img[0:-4]))\n",
    "\n",
    "    if pred_texts == test_img[0:-4]:\n",
    "        acc += 1\n",
    "    total += 1\n",
    "    print('Predicted: %s  /  True: %s' % (pred_texts, test_img[0:-4]))\n",
    "    \n",
    "    # cv2.rectangle(img, (0,0), (150, 30), (0,0,0), -1)\n",
    "    # cv2.putText(img, pred_texts, (5, 20), cv2.FONT_HERSHEY_SIMPLEX, 0.8, (255,255,255),2)\n",
    "\n",
    "    #cv2.imshow(\"q\", img)\n",
    "    #if cv2.waitKey(0) == 27:\n",
    "    #   break\n",
    "    #cv2.destroyAllWindows()\n",
    "\n",
    "end = time.time()\n",
    "total_time = (end - start)\n",
    "print(\"Time : \",total_time / total)\n",
    "print(\"ACC : \", acc / total)\n",
    "print(\"letter ACC : \", letter_acc / letter_total)\"\"\""
   ]
  },
  {
   "cell_type": "code",
   "execution_count": null,
   "id": "875ea7f0",
   "metadata": {},
   "outputs": [],
   "source": []
  },
  {
   "cell_type": "code",
   "execution_count": 62,
   "id": "3534fbb3",
   "metadata": {
    "ExecuteTime": {
     "end_time": "2022-12-19T09:26:34.798952Z",
     "start_time": "2022-12-19T09:26:34.796761Z"
    }
   },
   "outputs": [],
   "source": [
    "args = easydict.EasyDict({\n",
    "    \"weight\":w_file,\n",
    "    \"test_img\":\"./CRNNKerasmaster/DB/train_9/\"\n",
    "})"
   ]
  },
  {
   "cell_type": "code",
   "execution_count": 63,
   "id": "7065f34a",
   "metadata": {
    "ExecuteTime": {
     "end_time": "2022-12-19T09:26:36.523828Z",
     "start_time": "2022-12-19T09:26:34.801146Z"
    }
   },
   "outputs": [
    {
     "name": "stdout",
     "output_type": "stream",
     "text": [
      "...Previous weight data...\n"
     ]
    }
   ],
   "source": [
    "# Get CRNN model\n",
    "model = get_Model(training=False)\n",
    "\n",
    "try:\n",
    "    model.load_weights(args.weight)\n",
    "    print(\"...Previous weight data...\")\n",
    "except:\n",
    "    raise Exception(\"No weight file!\")"
   ]
  },
  {
   "cell_type": "code",
   "execution_count": 64,
   "id": "793375f7",
   "metadata": {
    "ExecuteTime": {
     "end_time": "2022-12-19T09:26:36.528586Z",
     "start_time": "2022-12-19T09:26:36.525297Z"
    }
   },
   "outputs": [],
   "source": [
    "test_dir =args.test_img\n",
    "test_imgs = os.listdir(args.test_img)\n",
    "total = 0\n",
    "acc = 0\n",
    "letter_total = 0\n",
    "letter_acc = 0"
   ]
  },
  {
   "cell_type": "code",
   "execution_count": 65,
   "id": "2df27975",
   "metadata": {
    "ExecuteTime": {
     "end_time": "2022-12-19T09:26:42.936238Z",
     "start_time": "2022-12-19T09:26:36.972434Z"
    }
   },
   "outputs": [
    {
     "name": "stdout",
     "output_type": "stream",
     "text": [
      "1/1 [==============================] - 2s 2s/step\n",
      "Predicted: 1588-3772  /  True: 1588-3772\n",
      "1/1 [==============================] - 0s 157ms/step\n",
      "Predicted: since1957  /  True: since1957\n",
      "1/1 [==============================] - 0s 74ms/step\n",
      "Predicted: Since2008  /  True: Since2008\n",
      "1/1 [==============================] - 0s 69ms/step\n",
      "Predicted: SKTelecom  /  True: SKTelecom\n",
      "1/1 [==============================] - 0s 117ms/step\n",
      "Predicted: T322-7569  /  True: T322-7569\n",
      "1/1 [==============================] - 0s 83ms/step\n",
      "Predicted: T472-2882  /  True: T472-2882\n",
      "1/1 [==============================] - 0s 86ms/step\n",
      "Predicted: T477-0113  /  True: T477-0113\n",
      "1/1 [==============================] - 0s 76ms/step\n",
      "Predicted: T486-3176  /  True: T486-3176\n",
      "1/1 [==============================] - 0s 60ms/step\n",
      "Predicted: T486-5533  /  True: T486-5533\n",
      "1/1 [==============================] - 0s 33ms/step\n",
      "Predicted: T486-5535  /  True: T486-5535\n",
      "1/1 [==============================] - 0s 39ms/step\n",
      "Predicted: T489-1400  /  True: T489-1400\n",
      "1/1 [==============================] - 0s 32ms/step\n",
      "Predicted: T671-9119  /  True: T671-9119\n",
      "1/1 [==============================] - 0s 31ms/step\n",
      "Predicted: T822-2204  /  True: T822-2204\n",
      "1/1 [==============================] - 0s 34ms/step\n",
      "Predicted: T822-4549  /  True: T822-4549\n",
      "1/1 [==============================] - 0s 35ms/step\n",
      "Predicted: T822-4685  /  True: T822-4685\n",
      "1/1 [==============================] - 0s 39ms/step\n",
      "Predicted: T822-8356  /  True: T822-8356\n",
      "1/1 [==============================] - 0s 40ms/step\n",
      "Predicted: T822-9595  /  True: T822-9595\n",
      "1/1 [==============================] - 0s 127ms/step\n",
      "Predicted: T823-4300  /  True: T823-4300\n",
      "1/1 [==============================] - 0s 50ms/step\n",
      "Predicted: T823-8559  /  True: T823-8559\n",
      "1/1 [==============================] - 0s 59ms/step\n",
      "Predicted: T824-9171  /  True: T824-9171\n",
      "1/1 [==============================] - 0s 61ms/step\n",
      "Predicted: T825-3293  /  True: T825-3293\n",
      "1/1 [==============================] - 0s 109ms/step\n",
      "Predicted: T825-5830  /  True: T825-5830\n",
      "1/1 [==============================] - 0s 103ms/step\n",
      "Predicted: T825-6789  /  True: T825-6789\n",
      "1/1 [==============================] - 0s 84ms/step\n",
      "Predicted: T861-0212  /  True: T861-0212\n",
      "1/1 [==============================] - 0s 64ms/step\n",
      "Predicted: T861-2966  /  True: T861-2966\n",
      "1/1 [==============================] - 0s 52ms/step\n",
      "Predicted: T861-7453  /  True: T861-7453\n",
      "1/1 [==============================] - 0s 32ms/step\n",
      "Predicted: T861-8585  /  True: T861-8585\n",
      "1/1 [==============================] - 0s 34ms/step\n",
      "Predicted: T861-8861  /  True: T861-8861\n",
      "1/1 [==============================] - 0s 46ms/step\n",
      "Predicted: T862-0006  /  True: T862-0006\n",
      "1/1 [==============================] - 0s 33ms/step\n",
      "Predicted: T862-1212  /  True: T862-1212\n",
      "1/1 [==============================] - 0s 42ms/step\n",
      "Predicted: T862-8933  /  True: T862-8933\n",
      "1/1 [==============================] - 0s 36ms/step\n",
      "Predicted: T862-9220  /  True: T862-9220\n",
      "1/1 [==============================] - 0s 46ms/step\n",
      "Predicted: T863-0018  /  True: T863-0018\n",
      "1/1 [==============================] - 0s 126ms/step\n",
      "Predicted: T863-1881  /  True: T863-1881\n",
      "1/1 [==============================] - 0s 48ms/step\n",
      "Predicted: T863-5922  /  True: T863-5922\n",
      "1/1 [==============================] - 0s 72ms/step\n",
      "Predicted: T863-6153  /  True: T863-6153\n",
      "1/1 [==============================] - 0s 56ms/step\n",
      "Predicted: T863-7777  /  True: T863-7777\n",
      "1/1 [==============================] - 0s 121ms/step\n",
      "Predicted: T864-2345  /  True: T864-2345\n",
      "1/1 [==============================] - 0s 105ms/step\n",
      "Predicted: T864-2552  /  True: T864-2552\n",
      "Time :  0.15252036926073906\n",
      "ACC :  1.0\n",
      "letter ACC :  1.0\n"
     ]
    }
   ],
   "source": [
    "start = time.time()\n",
    "for test_img in test_imgs:\n",
    "    img = cv2.imread(test_dir + test_img, cv2.IMREAD_GRAYSCALE)\n",
    "\n",
    "    img_pred = img.astype(np.float32)\n",
    "    img_pred = cv2.resize(img_pred, (128, 64))\n",
    "    img_pred = (img_pred / 255.0) * 2.0 - 1.0\n",
    "    img_pred = img_pred.T\n",
    "    img_pred = np.expand_dims(img_pred, axis=-1)\n",
    "    img_pred = np.expand_dims(img_pred, axis=0)\n",
    "\n",
    "    net_out_value = model.predict(img_pred)\n",
    "\n",
    "    pred_texts = decode_label(net_out_value)\n",
    "\n",
    "    for i in range(min(len(pred_texts), len(test_img[0:-4]))):\n",
    "        if pred_texts[i] == test_img[i]:\n",
    "            letter_acc += 1\n",
    "    letter_total += max(len(pred_texts), len(test_img[0:-4]))\n",
    "\n",
    "    if pred_texts == test_img[0:-4]:\n",
    "        acc += 1\n",
    "    total += 1\n",
    "    print('Predicted: %s  /  True: %s' % (pred_texts, test_img[0:-4]))\n",
    "    \n",
    "    # cv2.rectangle(img, (0,0), (150, 30), (0,0,0), -1)\n",
    "    # cv2.putText(img, pred_texts, (5, 20), cv2.FONT_HERSHEY_SIMPLEX, 0.8, (255,255,255),2)\n",
    "\n",
    "    #cv2.imshow(\"q\", img)\n",
    "    #if cv2.waitKey(0) == 27:\n",
    "    #   break\n",
    "    #cv2.destroyAllWindows()\n",
    "\n",
    "end = time.time()\n",
    "total_time = (end - start)\n",
    "print(\"Time : \",total_time / total)\n",
    "print(\"ACC : \", acc / total)\n",
    "print(\"letter ACC : \", letter_acc / letter_total)"
   ]
  },
  {
   "cell_type": "code",
   "execution_count": null,
   "id": "708d785d",
   "metadata": {},
   "outputs": [],
   "source": []
  },
  {
   "cell_type": "code",
   "execution_count": null,
   "id": "c570437d",
   "metadata": {},
   "outputs": [],
   "source": []
  },
  {
   "cell_type": "code",
   "execution_count": null,
   "id": "60d06f0e",
   "metadata": {},
   "outputs": [],
   "source": []
  },
  {
   "cell_type": "code",
   "execution_count": null,
   "id": "e47479c9",
   "metadata": {},
   "outputs": [],
   "source": []
  }
 ],
 "metadata": {
  "kernelspec": {
   "display_name": "Python 3 (ipykernel)",
   "language": "python",
   "name": "python3"
  },
  "language_info": {
   "codemirror_mode": {
    "name": "ipython",
    "version": 3
   },
   "file_extension": ".py",
   "mimetype": "text/x-python",
   "name": "python",
   "nbconvert_exporter": "python",
   "pygments_lexer": "ipython3",
   "version": "3.8.10"
  },
  "toc": {
   "base_numbering": 1,
   "nav_menu": {},
   "number_sections": true,
   "sideBar": true,
   "skip_h1_title": false,
   "title_cell": "Table of Contents",
   "title_sidebar": "Contents",
   "toc_cell": false,
   "toc_position": {},
   "toc_section_display": true,
   "toc_window_display": false
  },
  "varInspector": {
   "cols": {
    "lenName": 16,
    "lenType": 16,
    "lenVar": 40
   },
   "kernels_config": {
    "python": {
     "delete_cmd_postfix": "",
     "delete_cmd_prefix": "del ",
     "library": "var_list.py",
     "varRefreshCmd": "print(var_dic_list())"
    },
    "r": {
     "delete_cmd_postfix": ") ",
     "delete_cmd_prefix": "rm(",
     "library": "var_list.r",
     "varRefreshCmd": "cat(var_dic_list()) "
    }
   },
   "types_to_exclude": [
    "module",
    "function",
    "builtin_function_or_method",
    "instance",
    "_Feature"
   ],
   "window_display": false
  }
 },
 "nbformat": 4,
 "nbformat_minor": 5
}
