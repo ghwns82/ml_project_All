{
 "cells": [
  {
   "cell_type": "code",
   "execution_count": 1,
   "id": "9a1e1530",
   "metadata": {
    "ExecuteTime": {
     "end_time": "2022-07-01T14:59:56.538068Z",
     "start_time": "2022-07-01T14:59:54.431150Z"
    }
   },
   "outputs": [],
   "source": [
    "from supervised.automl import BaseAutoML, AutoML\n",
    "\n",
    "from prophet import Prophet\n",
    "\n",
    "import pandas as pd\n",
    "\n",
    "import math"
   ]
  },
  {
   "cell_type": "code",
   "execution_count": 2,
   "id": "1b89edc4",
   "metadata": {
    "ExecuteTime": {
     "end_time": "2022-07-01T14:59:56.549191Z",
     "start_time": "2022-07-01T14:59:56.540002Z"
    }
   },
   "outputs": [],
   "source": [
    "train_df=pd.read_csv('./data/train.csv')\n",
    "test_df=pd.read_csv('./data/test.csv')"
   ]
  },
  {
   "cell_type": "code",
   "execution_count": 3,
   "id": "fab8558f",
   "metadata": {
    "ExecuteTime": {
     "end_time": "2022-07-01T15:00:00.242278Z",
     "start_time": "2022-07-01T14:59:56.550414Z"
    }
   },
   "outputs": [
    {
     "name": "stdout",
     "output_type": "stream",
     "text": [
      "Initial log joint probability = -73.9282\n",
      "    Iter      log prob        ||dx||      ||grad||       alpha      alpha0  # evals  Notes \n",
      "      99       1699.14   5.17586e-06       69.4858      0.7698      0.7698      133   \n",
      "    Iter      log prob        ||dx||      ||grad||       alpha      alpha0  # evals  Notes \n",
      "     110       1699.17   0.000410967       93.1272   3.446e-06       0.001      181  LS failed, Hessian reset \n",
      "     150       1699.19   3.83621e-05       77.7678   4.552e-07       0.001      266  LS failed, Hessian reset \n",
      "     177       1699.19    1.5188e-07       69.0376      0.2292           1      304   \n",
      "Optimization terminated normally: \n",
      "  Convergence detected: relative gradient magnitude is below tolerance\n"
     ]
    }
   ],
   "source": [
    "df=train_df[['date','rental']].copy()\n",
    "df.columns=['ds','y']\n",
    "m = Prophet()\n",
    "m.daily_seasonality=True\n",
    "m.weekly_seasonality=True\n",
    "m.yearly_seasonality=True\n",
    "m.fit(df)\n",
    "future=m.make_future_dataframe(365)\n",
    "forecast = m.predict(future)"
   ]
  },
  {
   "cell_type": "code",
   "execution_count": 4,
   "id": "0f659cdd",
   "metadata": {
    "ExecuteTime": {
     "end_time": "2022-07-01T15:00:00.247499Z",
     "start_time": "2022-07-01T15:00:00.244285Z"
    }
   },
   "outputs": [],
   "source": [
    "train_df['rental']=train_df['rental']/forecast[:-365]['trend']"
   ]
  },
  {
   "cell_type": "code",
   "execution_count": 5,
   "id": "dd07acd1",
   "metadata": {
    "ExecuteTime": {
     "end_time": "2022-07-01T15:00:00.259324Z",
     "start_time": "2022-07-01T15:00:00.249357Z"
    }
   },
   "outputs": [],
   "source": [
    "train_df['date']=pd.to_datetime(train_df['date'])\n",
    "train_df['year']=train_df['date'].dt.year\n",
    "train_df['month']=train_df['date'].dt.month\n",
    "train_df['day']=train_df['date'].dt.day\n",
    "train_df['weekday'] = train_df['date'].dt.dayofweek\n",
    "# train_df = pd.get_dummies(data = train_df, prefix=['year'], columns=['year'])\n",
    "# train_df['year']=train_df['date'].dt.year"
   ]
  },
  {
   "cell_type": "code",
   "execution_count": 6,
   "id": "fa93350b",
   "metadata": {
    "ExecuteTime": {
     "end_time": "2022-07-01T15:00:00.266919Z",
     "start_time": "2022-07-01T15:00:00.260744Z"
    }
   },
   "outputs": [
    {
     "data": {
      "text/plain": [
       "Index(['date', 'precipitation', 'temp_mean', 'temp_highest', 'temp_lowest',\n",
       "       'PM10', 'PM2.5', 'humidity', 'sunshine_sum', 'sunshine_rate',\n",
       "       'wind_mean', 'wind_max', 'rental', 'year', 'month', 'day', 'weekday'],\n",
       "      dtype='object')"
      ]
     },
     "execution_count": 6,
     "metadata": {},
     "output_type": "execute_result"
    }
   ],
   "source": [
    "train_df.columns"
   ]
  },
  {
   "cell_type": "code",
   "execution_count": 21,
   "id": "e125f739",
   "metadata": {
    "ExecuteTime": {
     "end_time": "2022-07-01T15:01:40.043493Z",
     "start_time": "2022-07-01T15:01:40.040595Z"
    }
   },
   "outputs": [],
   "source": [
    "train_df = train_df[['date', 'precipitation', 'temp_mean', 'temp_highest', 'temp_lowest',\n",
    "       'PM10', 'PM2.5', 'humidity', 'sunshine_sum', 'sunshine_rate',\n",
    "       'wind_mean', 'wind_max', 'year','month', 'day', 'weekday',\n",
    "        'rental']]"
   ]
  },
  {
   "cell_type": "code",
   "execution_count": 22,
   "id": "09975b32",
   "metadata": {
    "ExecuteTime": {
     "end_time": "2022-07-01T15:01:42.023479Z",
     "start_time": "2022-07-01T15:01:42.018362Z"
    }
   },
   "outputs": [],
   "source": [
    "test_df['date']=pd.to_datetime(test_df['date'])\n",
    "test_df['year']=test_df['date'].dt.year\n",
    "test_df['month']=test_df['date'].dt.month\n",
    "test_df['day']=test_df['date'].dt.day\n",
    "test_df['weekday'] = test_df['date'].dt.dayofweek"
   ]
  },
  {
   "cell_type": "code",
   "execution_count": 23,
   "id": "15d73a5c",
   "metadata": {
    "ExecuteTime": {
     "end_time": "2022-07-01T15:01:42.551309Z",
     "start_time": "2022-07-01T15:01:42.546572Z"
    }
   },
   "outputs": [],
   "source": [
    "# 옵션에 따라, 선택한 데이터프레임의 컬럼의 결측값을 채워주는 함수\n",
    "# option = 0, min, max, mean, median\n",
    "def cal(my_df, column_name, option):\n",
    "    df=my_df.copy()\n",
    "    df['date']=pd.to_datetime(df['date'])\n",
    "    df['month']=df['date'].dt.month\n",
    "    nn_df = df.iloc[df[column_name].dropna().index]\n",
    "    month_df_list=[nn_df[nn_df['month']==i] for i in range(1,13)]\n",
    "    \n",
    "    if option == 0:\n",
    "        replace_list=[0 for month_df in month_df_list]\n",
    "    elif option =='min':\n",
    "        replace_list=[month_df[column_name].min() for month_df in month_df_list]\n",
    "    elif option =='max':\n",
    "        replace_list=[month_df[column_name].max() for month_df in month_df_list]\n",
    "    elif option == 'mean':\n",
    "        replace_list=[month_df[column_name].mean() for month_df in month_df_list]\n",
    "    elif option == 'median':\n",
    "        replace_list=[month_df[column_name].median() for month_df in month_df_list]\n",
    "    \n",
    "    replace_list = ['']+ replace_list\n",
    "    \n",
    "    result=[]\n",
    "    for i in range(my_df.shape[0]):\n",
    "        n=my_df.iloc[i][column_name]\n",
    "        if math.isnan(n):\n",
    "            result.append(replace_list[df.loc[i]['month']])\n",
    "        else:\n",
    "            result.append(n)\n",
    "    my_df[column_name] = result"
   ]
  },
  {
   "cell_type": "code",
   "execution_count": 24,
   "id": "bc341ec7",
   "metadata": {
    "ExecuteTime": {
     "end_time": "2022-07-01T15:01:43.847003Z",
     "start_time": "2022-07-01T15:01:43.287713Z"
    }
   },
   "outputs": [],
   "source": [
    "null_feature = ['precipitation','PM10','PM2.5','sunshine_sum']\n",
    "best_option_group = ['min' , 'max' , 'median' , 'min']\n",
    "for column_name, option in zip(null_feature, best_option_group):\n",
    "    cal(train_df, column_name, option)\n",
    "for column_name, option in zip(null_feature, best_option_group):\n",
    "    cal(test_df, column_name, option)"
   ]
  },
  {
   "cell_type": "code",
   "execution_count": 25,
   "id": "e530508a",
   "metadata": {
    "ExecuteTime": {
     "end_time": "2022-07-01T15:01:44.061724Z",
     "start_time": "2022-07-01T15:01:44.041989Z"
    }
   },
   "outputs": [],
   "source": [
    "train_df.to_csv('./sss.csv')"
   ]
  },
  {
   "cell_type": "code",
   "execution_count": 26,
   "id": "251d09e0",
   "metadata": {
    "ExecuteTime": {
     "end_time": "2022-07-01T15:01:44.469856Z",
     "start_time": "2022-07-01T15:01:44.466211Z"
    }
   },
   "outputs": [],
   "source": [
    "X_train, y_train = train_df.iloc[:,1:-1].to_numpy(), train_df.iloc[:,-1].to_numpy()\n",
    "X_test = test_df.iloc[:,1:].to_numpy()"
   ]
  },
  {
   "cell_type": "code",
   "execution_count": 27,
   "id": "42a27089",
   "metadata": {
    "ExecuteTime": {
     "end_time": "2022-07-01T15:01:45.495121Z",
     "start_time": "2022-07-01T15:01:45.480048Z"
    }
   },
   "outputs": [
    {
     "data": {
      "text/html": [
       "<div>\n",
       "<style scoped>\n",
       "    .dataframe tbody tr th:only-of-type {\n",
       "        vertical-align: middle;\n",
       "    }\n",
       "\n",
       "    .dataframe tbody tr th {\n",
       "        vertical-align: top;\n",
       "    }\n",
       "\n",
       "    .dataframe thead th {\n",
       "        text-align: right;\n",
       "    }\n",
       "</style>\n",
       "<table border=\"1\" class=\"dataframe\">\n",
       "  <thead>\n",
       "    <tr style=\"text-align: right;\">\n",
       "      <th></th>\n",
       "      <th>precipitation</th>\n",
       "      <th>temp_mean</th>\n",
       "      <th>temp_highest</th>\n",
       "      <th>temp_lowest</th>\n",
       "      <th>PM10</th>\n",
       "      <th>PM2.5</th>\n",
       "      <th>humidity</th>\n",
       "      <th>sunshine_sum</th>\n",
       "      <th>sunshine_rate</th>\n",
       "      <th>wind_mean</th>\n",
       "      <th>wind_max</th>\n",
       "      <th>year</th>\n",
       "      <th>month</th>\n",
       "      <th>day</th>\n",
       "      <th>weekday</th>\n",
       "    </tr>\n",
       "  </thead>\n",
       "  <tbody>\n",
       "    <tr>\n",
       "      <th>0</th>\n",
       "      <td>0.0</td>\n",
       "      <td>-1.3</td>\n",
       "      <td>3.8</td>\n",
       "      <td>-5.1</td>\n",
       "      <td>34.0</td>\n",
       "      <td>17.0</td>\n",
       "      <td>39.1</td>\n",
       "      <td>8.3</td>\n",
       "      <td>86.5</td>\n",
       "      <td>1.4</td>\n",
       "      <td>3.8</td>\n",
       "      <td>2018</td>\n",
       "      <td>1</td>\n",
       "      <td>1</td>\n",
       "      <td>0</td>\n",
       "    </tr>\n",
       "    <tr>\n",
       "      <th>1</th>\n",
       "      <td>0.0</td>\n",
       "      <td>-1.8</td>\n",
       "      <td>1.8</td>\n",
       "      <td>-4.3</td>\n",
       "      <td>36.0</td>\n",
       "      <td>22.0</td>\n",
       "      <td>42.0</td>\n",
       "      <td>7.9</td>\n",
       "      <td>82.3</td>\n",
       "      <td>1.8</td>\n",
       "      <td>4.9</td>\n",
       "      <td>2018</td>\n",
       "      <td>1</td>\n",
       "      <td>2</td>\n",
       "      <td>1</td>\n",
       "    </tr>\n",
       "    <tr>\n",
       "      <th>2</th>\n",
       "      <td>0.0</td>\n",
       "      <td>-4.7</td>\n",
       "      <td>-0.4</td>\n",
       "      <td>-7.1</td>\n",
       "      <td>31.0</td>\n",
       "      <td>19.0</td>\n",
       "      <td>42.3</td>\n",
       "      <td>8.6</td>\n",
       "      <td>88.7</td>\n",
       "      <td>2.2</td>\n",
       "      <td>3.5</td>\n",
       "      <td>2018</td>\n",
       "      <td>1</td>\n",
       "      <td>3</td>\n",
       "      <td>2</td>\n",
       "    </tr>\n",
       "    <tr>\n",
       "      <th>3</th>\n",
       "      <td>0.0</td>\n",
       "      <td>-4.7</td>\n",
       "      <td>-0.7</td>\n",
       "      <td>-8.7</td>\n",
       "      <td>39.0</td>\n",
       "      <td>24.0</td>\n",
       "      <td>43.0</td>\n",
       "      <td>6.2</td>\n",
       "      <td>63.9</td>\n",
       "      <td>1.4</td>\n",
       "      <td>3.5</td>\n",
       "      <td>2018</td>\n",
       "      <td>1</td>\n",
       "      <td>4</td>\n",
       "      <td>3</td>\n",
       "    </tr>\n",
       "    <tr>\n",
       "      <th>4</th>\n",
       "      <td>0.0</td>\n",
       "      <td>-3.0</td>\n",
       "      <td>1.6</td>\n",
       "      <td>-5.6</td>\n",
       "      <td>51.0</td>\n",
       "      <td>35.0</td>\n",
       "      <td>48.4</td>\n",
       "      <td>8.2</td>\n",
       "      <td>84.5</td>\n",
       "      <td>1.7</td>\n",
       "      <td>3.6</td>\n",
       "      <td>2018</td>\n",
       "      <td>1</td>\n",
       "      <td>5</td>\n",
       "      <td>4</td>\n",
       "    </tr>\n",
       "    <tr>\n",
       "      <th>...</th>\n",
       "      <td>...</td>\n",
       "      <td>...</td>\n",
       "      <td>...</td>\n",
       "      <td>...</td>\n",
       "      <td>...</td>\n",
       "      <td>...</td>\n",
       "      <td>...</td>\n",
       "      <td>...</td>\n",
       "      <td>...</td>\n",
       "      <td>...</td>\n",
       "      <td>...</td>\n",
       "      <td>...</td>\n",
       "      <td>...</td>\n",
       "      <td>...</td>\n",
       "      <td>...</td>\n",
       "    </tr>\n",
       "    <tr>\n",
       "      <th>1090</th>\n",
       "      <td>0.0</td>\n",
       "      <td>5.8</td>\n",
       "      <td>10.0</td>\n",
       "      <td>1.4</td>\n",
       "      <td>70.0</td>\n",
       "      <td>42.0</td>\n",
       "      <td>62.9</td>\n",
       "      <td>5.9</td>\n",
       "      <td>61.5</td>\n",
       "      <td>1.8</td>\n",
       "      <td>2.8</td>\n",
       "      <td>2020</td>\n",
       "      <td>12</td>\n",
       "      <td>27</td>\n",
       "      <td>6</td>\n",
       "    </tr>\n",
       "    <tr>\n",
       "      <th>1091</th>\n",
       "      <td>1.3</td>\n",
       "      <td>6.7</td>\n",
       "      <td>11.4</td>\n",
       "      <td>4.2</td>\n",
       "      <td>66.0</td>\n",
       "      <td>44.0</td>\n",
       "      <td>72.1</td>\n",
       "      <td>8.0</td>\n",
       "      <td>83.3</td>\n",
       "      <td>1.4</td>\n",
       "      <td>3.1</td>\n",
       "      <td>2020</td>\n",
       "      <td>12</td>\n",
       "      <td>28</td>\n",
       "      <td>0</td>\n",
       "    </tr>\n",
       "    <tr>\n",
       "      <th>1092</th>\n",
       "      <td>0.2</td>\n",
       "      <td>0.1</td>\n",
       "      <td>4.3</td>\n",
       "      <td>-6.2</td>\n",
       "      <td>69.0</td>\n",
       "      <td>46.0</td>\n",
       "      <td>70.8</td>\n",
       "      <td>0.0</td>\n",
       "      <td>0.0</td>\n",
       "      <td>2.9</td>\n",
       "      <td>6.1</td>\n",
       "      <td>2020</td>\n",
       "      <td>12</td>\n",
       "      <td>29</td>\n",
       "      <td>1</td>\n",
       "    </tr>\n",
       "    <tr>\n",
       "      <th>1093</th>\n",
       "      <td>0.0</td>\n",
       "      <td>-10.9</td>\n",
       "      <td>-6.2</td>\n",
       "      <td>-12.9</td>\n",
       "      <td>39.0</td>\n",
       "      <td>15.0</td>\n",
       "      <td>55.5</td>\n",
       "      <td>8.3</td>\n",
       "      <td>86.5</td>\n",
       "      <td>4.1</td>\n",
       "      <td>6.2</td>\n",
       "      <td>2020</td>\n",
       "      <td>12</td>\n",
       "      <td>30</td>\n",
       "      <td>2</td>\n",
       "    </tr>\n",
       "    <tr>\n",
       "      <th>1094</th>\n",
       "      <td>0.0</td>\n",
       "      <td>-8.9</td>\n",
       "      <td>-5.0</td>\n",
       "      <td>-12.9</td>\n",
       "      <td>28.0</td>\n",
       "      <td>12.0</td>\n",
       "      <td>53.9</td>\n",
       "      <td>6.0</td>\n",
       "      <td>62.5</td>\n",
       "      <td>2.4</td>\n",
       "      <td>4.2</td>\n",
       "      <td>2020</td>\n",
       "      <td>12</td>\n",
       "      <td>31</td>\n",
       "      <td>3</td>\n",
       "    </tr>\n",
       "  </tbody>\n",
       "</table>\n",
       "<p>1095 rows × 15 columns</p>\n",
       "</div>"
      ],
      "text/plain": [
       "      precipitation  temp_mean  temp_highest  temp_lowest  PM10  PM2.5  \\\n",
       "0               0.0       -1.3           3.8         -5.1  34.0   17.0   \n",
       "1               0.0       -1.8           1.8         -4.3  36.0   22.0   \n",
       "2               0.0       -4.7          -0.4         -7.1  31.0   19.0   \n",
       "3               0.0       -4.7          -0.7         -8.7  39.0   24.0   \n",
       "4               0.0       -3.0           1.6         -5.6  51.0   35.0   \n",
       "...             ...        ...           ...          ...   ...    ...   \n",
       "1090            0.0        5.8          10.0          1.4  70.0   42.0   \n",
       "1091            1.3        6.7          11.4          4.2  66.0   44.0   \n",
       "1092            0.2        0.1           4.3         -6.2  69.0   46.0   \n",
       "1093            0.0      -10.9          -6.2        -12.9  39.0   15.0   \n",
       "1094            0.0       -8.9          -5.0        -12.9  28.0   12.0   \n",
       "\n",
       "      humidity  sunshine_sum  sunshine_rate  wind_mean  wind_max  year  month  \\\n",
       "0         39.1           8.3           86.5        1.4       3.8  2018      1   \n",
       "1         42.0           7.9           82.3        1.8       4.9  2018      1   \n",
       "2         42.3           8.6           88.7        2.2       3.5  2018      1   \n",
       "3         43.0           6.2           63.9        1.4       3.5  2018      1   \n",
       "4         48.4           8.2           84.5        1.7       3.6  2018      1   \n",
       "...        ...           ...            ...        ...       ...   ...    ...   \n",
       "1090      62.9           5.9           61.5        1.8       2.8  2020     12   \n",
       "1091      72.1           8.0           83.3        1.4       3.1  2020     12   \n",
       "1092      70.8           0.0            0.0        2.9       6.1  2020     12   \n",
       "1093      55.5           8.3           86.5        4.1       6.2  2020     12   \n",
       "1094      53.9           6.0           62.5        2.4       4.2  2020     12   \n",
       "\n",
       "      day  weekday  \n",
       "0       1        0  \n",
       "1       2        1  \n",
       "2       3        2  \n",
       "3       4        3  \n",
       "4       5        4  \n",
       "...   ...      ...  \n",
       "1090   27        6  \n",
       "1091   28        0  \n",
       "1092   29        1  \n",
       "1093   30        2  \n",
       "1094   31        3  \n",
       "\n",
       "[1095 rows x 15 columns]"
      ]
     },
     "execution_count": 27,
     "metadata": {},
     "output_type": "execute_result"
    }
   ],
   "source": [
    "train_df.iloc[:,1:-1]"
   ]
  },
  {
   "cell_type": "code",
   "execution_count": 28,
   "id": "bbbd45e9",
   "metadata": {
    "ExecuteTime": {
     "end_time": "2022-07-01T15:01:46.536863Z",
     "start_time": "2022-07-01T15:01:46.520293Z"
    }
   },
   "outputs": [
    {
     "data": {
      "text/html": [
       "<div>\n",
       "<style scoped>\n",
       "    .dataframe tbody tr th:only-of-type {\n",
       "        vertical-align: middle;\n",
       "    }\n",
       "\n",
       "    .dataframe tbody tr th {\n",
       "        vertical-align: top;\n",
       "    }\n",
       "\n",
       "    .dataframe thead th {\n",
       "        text-align: right;\n",
       "    }\n",
       "</style>\n",
       "<table border=\"1\" class=\"dataframe\">\n",
       "  <thead>\n",
       "    <tr style=\"text-align: right;\">\n",
       "      <th></th>\n",
       "      <th>precipitation</th>\n",
       "      <th>temp_mean</th>\n",
       "      <th>temp_highest</th>\n",
       "      <th>temp_lowest</th>\n",
       "      <th>PM10</th>\n",
       "      <th>PM2.5</th>\n",
       "      <th>humidity</th>\n",
       "      <th>sunshine_sum</th>\n",
       "      <th>sunshine_rate</th>\n",
       "      <th>wind_mean</th>\n",
       "      <th>wind_max</th>\n",
       "      <th>year</th>\n",
       "      <th>month</th>\n",
       "      <th>day</th>\n",
       "      <th>weekday</th>\n",
       "    </tr>\n",
       "  </thead>\n",
       "  <tbody>\n",
       "    <tr>\n",
       "      <th>0</th>\n",
       "      <td>0.0</td>\n",
       "      <td>-4.2</td>\n",
       "      <td>1.6</td>\n",
       "      <td>-9.8</td>\n",
       "      <td>30.0</td>\n",
       "      <td>17.0</td>\n",
       "      <td>64.0</td>\n",
       "      <td>6.5</td>\n",
       "      <td>67.7</td>\n",
       "      <td>2.0</td>\n",
       "      <td>4.1</td>\n",
       "      <td>2021</td>\n",
       "      <td>1</td>\n",
       "      <td>1</td>\n",
       "      <td>4</td>\n",
       "    </tr>\n",
       "    <tr>\n",
       "      <th>1</th>\n",
       "      <td>0.0</td>\n",
       "      <td>-5.0</td>\n",
       "      <td>-1.4</td>\n",
       "      <td>-8.4</td>\n",
       "      <td>34.0</td>\n",
       "      <td>12.0</td>\n",
       "      <td>38.5</td>\n",
       "      <td>9.0</td>\n",
       "      <td>93.8</td>\n",
       "      <td>2.6</td>\n",
       "      <td>5.4</td>\n",
       "      <td>2021</td>\n",
       "      <td>1</td>\n",
       "      <td>2</td>\n",
       "      <td>5</td>\n",
       "    </tr>\n",
       "    <tr>\n",
       "      <th>2</th>\n",
       "      <td>0.0</td>\n",
       "      <td>-5.6</td>\n",
       "      <td>-2.0</td>\n",
       "      <td>-9.1</td>\n",
       "      <td>39.0</td>\n",
       "      <td>14.0</td>\n",
       "      <td>45.0</td>\n",
       "      <td>5.5</td>\n",
       "      <td>56.7</td>\n",
       "      <td>2.0</td>\n",
       "      <td>4.5</td>\n",
       "      <td>2021</td>\n",
       "      <td>1</td>\n",
       "      <td>3</td>\n",
       "      <td>6</td>\n",
       "    </tr>\n",
       "    <tr>\n",
       "      <th>3</th>\n",
       "      <td>0.0</td>\n",
       "      <td>-3.5</td>\n",
       "      <td>0.3</td>\n",
       "      <td>-8.4</td>\n",
       "      <td>40.0</td>\n",
       "      <td>23.0</td>\n",
       "      <td>51.4</td>\n",
       "      <td>4.6</td>\n",
       "      <td>47.4</td>\n",
       "      <td>1.7</td>\n",
       "      <td>3.2</td>\n",
       "      <td>2021</td>\n",
       "      <td>1</td>\n",
       "      <td>4</td>\n",
       "      <td>0</td>\n",
       "    </tr>\n",
       "    <tr>\n",
       "      <th>4</th>\n",
       "      <td>0.0</td>\n",
       "      <td>-5.5</td>\n",
       "      <td>-2.1</td>\n",
       "      <td>-9.9</td>\n",
       "      <td>30.0</td>\n",
       "      <td>17.0</td>\n",
       "      <td>52.8</td>\n",
       "      <td>8.6</td>\n",
       "      <td>88.7</td>\n",
       "      <td>2.9</td>\n",
       "      <td>5.7</td>\n",
       "      <td>2021</td>\n",
       "      <td>1</td>\n",
       "      <td>5</td>\n",
       "      <td>1</td>\n",
       "    </tr>\n",
       "    <tr>\n",
       "      <th>...</th>\n",
       "      <td>...</td>\n",
       "      <td>...</td>\n",
       "      <td>...</td>\n",
       "      <td>...</td>\n",
       "      <td>...</td>\n",
       "      <td>...</td>\n",
       "      <td>...</td>\n",
       "      <td>...</td>\n",
       "      <td>...</td>\n",
       "      <td>...</td>\n",
       "      <td>...</td>\n",
       "      <td>...</td>\n",
       "      <td>...</td>\n",
       "      <td>...</td>\n",
       "      <td>...</td>\n",
       "    </tr>\n",
       "    <tr>\n",
       "      <th>360</th>\n",
       "      <td>0.0</td>\n",
       "      <td>-7.6</td>\n",
       "      <td>-3.9</td>\n",
       "      <td>-12.9</td>\n",
       "      <td>33.0</td>\n",
       "      <td>20.0</td>\n",
       "      <td>60.9</td>\n",
       "      <td>3.8</td>\n",
       "      <td>39.6</td>\n",
       "      <td>1.7</td>\n",
       "      <td>3.1</td>\n",
       "      <td>2021</td>\n",
       "      <td>12</td>\n",
       "      <td>27</td>\n",
       "      <td>0</td>\n",
       "    </tr>\n",
       "    <tr>\n",
       "      <th>361</th>\n",
       "      <td>0.0</td>\n",
       "      <td>-4.1</td>\n",
       "      <td>-0.9</td>\n",
       "      <td>-8.5</td>\n",
       "      <td>51.0</td>\n",
       "      <td>38.0</td>\n",
       "      <td>73.8</td>\n",
       "      <td>1.7</td>\n",
       "      <td>17.7</td>\n",
       "      <td>2.2</td>\n",
       "      <td>3.1</td>\n",
       "      <td>2021</td>\n",
       "      <td>12</td>\n",
       "      <td>28</td>\n",
       "      <td>1</td>\n",
       "    </tr>\n",
       "    <tr>\n",
       "      <th>362</th>\n",
       "      <td>0.2</td>\n",
       "      <td>0.4</td>\n",
       "      <td>5.9</td>\n",
       "      <td>-3.8</td>\n",
       "      <td>66.0</td>\n",
       "      <td>49.0</td>\n",
       "      <td>72.9</td>\n",
       "      <td>1.8</td>\n",
       "      <td>18.8</td>\n",
       "      <td>2.6</td>\n",
       "      <td>5.9</td>\n",
       "      <td>2021</td>\n",
       "      <td>12</td>\n",
       "      <td>29</td>\n",
       "      <td>2</td>\n",
       "    </tr>\n",
       "    <tr>\n",
       "      <th>363</th>\n",
       "      <td>0.0</td>\n",
       "      <td>-3.9</td>\n",
       "      <td>0.2</td>\n",
       "      <td>-6.8</td>\n",
       "      <td>30.0</td>\n",
       "      <td>17.0</td>\n",
       "      <td>48.5</td>\n",
       "      <td>7.3</td>\n",
       "      <td>76.0</td>\n",
       "      <td>3.3</td>\n",
       "      <td>6.6</td>\n",
       "      <td>2021</td>\n",
       "      <td>12</td>\n",
       "      <td>30</td>\n",
       "      <td>3</td>\n",
       "    </tr>\n",
       "    <tr>\n",
       "      <th>364</th>\n",
       "      <td>0.0</td>\n",
       "      <td>-6.7</td>\n",
       "      <td>-3.9</td>\n",
       "      <td>-8.8</td>\n",
       "      <td>23.0</td>\n",
       "      <td>7.0</td>\n",
       "      <td>35.9</td>\n",
       "      <td>9.0</td>\n",
       "      <td>93.8</td>\n",
       "      <td>3.5</td>\n",
       "      <td>5.4</td>\n",
       "      <td>2021</td>\n",
       "      <td>12</td>\n",
       "      <td>31</td>\n",
       "      <td>4</td>\n",
       "    </tr>\n",
       "  </tbody>\n",
       "</table>\n",
       "<p>365 rows × 15 columns</p>\n",
       "</div>"
      ],
      "text/plain": [
       "     precipitation  temp_mean  temp_highest  temp_lowest  PM10  PM2.5  \\\n",
       "0              0.0       -4.2           1.6         -9.8  30.0   17.0   \n",
       "1              0.0       -5.0          -1.4         -8.4  34.0   12.0   \n",
       "2              0.0       -5.6          -2.0         -9.1  39.0   14.0   \n",
       "3              0.0       -3.5           0.3         -8.4  40.0   23.0   \n",
       "4              0.0       -5.5          -2.1         -9.9  30.0   17.0   \n",
       "..             ...        ...           ...          ...   ...    ...   \n",
       "360            0.0       -7.6          -3.9        -12.9  33.0   20.0   \n",
       "361            0.0       -4.1          -0.9         -8.5  51.0   38.0   \n",
       "362            0.2        0.4           5.9         -3.8  66.0   49.0   \n",
       "363            0.0       -3.9           0.2         -6.8  30.0   17.0   \n",
       "364            0.0       -6.7          -3.9         -8.8  23.0    7.0   \n",
       "\n",
       "     humidity  sunshine_sum  sunshine_rate  wind_mean  wind_max  year  month  \\\n",
       "0        64.0           6.5           67.7        2.0       4.1  2021      1   \n",
       "1        38.5           9.0           93.8        2.6       5.4  2021      1   \n",
       "2        45.0           5.5           56.7        2.0       4.5  2021      1   \n",
       "3        51.4           4.6           47.4        1.7       3.2  2021      1   \n",
       "4        52.8           8.6           88.7        2.9       5.7  2021      1   \n",
       "..        ...           ...            ...        ...       ...   ...    ...   \n",
       "360      60.9           3.8           39.6        1.7       3.1  2021     12   \n",
       "361      73.8           1.7           17.7        2.2       3.1  2021     12   \n",
       "362      72.9           1.8           18.8        2.6       5.9  2021     12   \n",
       "363      48.5           7.3           76.0        3.3       6.6  2021     12   \n",
       "364      35.9           9.0           93.8        3.5       5.4  2021     12   \n",
       "\n",
       "     day  weekday  \n",
       "0      1        4  \n",
       "1      2        5  \n",
       "2      3        6  \n",
       "3      4        0  \n",
       "4      5        1  \n",
       "..   ...      ...  \n",
       "360   27        0  \n",
       "361   28        1  \n",
       "362   29        2  \n",
       "363   30        3  \n",
       "364   31        4  \n",
       "\n",
       "[365 rows x 15 columns]"
      ]
     },
     "execution_count": 28,
     "metadata": {},
     "output_type": "execute_result"
    }
   ],
   "source": [
    "test_df.iloc[:,1:]"
   ]
  },
  {
   "cell_type": "code",
   "execution_count": 35,
   "id": "221570c1",
   "metadata": {
    "ExecuteTime": {
     "end_time": "2022-07-01T15:03:01.857687Z",
     "start_time": "2022-07-01T15:02:44.778574Z"
    }
   },
   "outputs": [
    {
     "name": "stdout",
     "output_type": "stream",
     "text": [
      "AutoML directory: ./결과내기_explain2\n",
      "The task is regression with evaluation metric rmse\n",
      "AutoML will use algorithms: ['Baseline', 'Linear', 'Decision Tree', 'Random Forest', 'Xgboost', 'Neural Network']\n",
      "AutoML will ensemble available models\n",
      "AutoML steps: ['simple_algorithms', 'default_algorithms', 'ensemble']\n",
      "* Step simple_algorithms will try to check up to 3 models\n",
      "1_Baseline rmse 0.795498 trained in 0.19 seconds\n",
      "Exception while producing SHAP explanations. Passing parameters norm and vmin/vmax simultaneously is not supported. Please pass vmin/vmax directly to the norm when creating it.\n",
      "Continuing ...\n",
      "2_DecisionTree rmse 0.418362 trained in 7.09 seconds\n",
      "3_Linear rmse 0.416528 trained in 1.61 seconds\n",
      "* Step default_algorithms will try to check up to 3 models\n",
      "Exception while producing SHAP explanations. Passing parameters norm and vmin/vmax simultaneously is not supported. Please pass vmin/vmax directly to the norm when creating it.\n",
      "Continuing ...\n",
      "4_Default_Xgboost rmse 0.248067 trained in 2.42 seconds\n",
      "5_Default_NeuralNetwork rmse 0.267237 trained in 0.54 seconds\n",
      "Exception while producing SHAP explanations. Passing parameters norm and vmin/vmax simultaneously is not supported. Please pass vmin/vmax directly to the norm when creating it.\n",
      "Continuing ...\n",
      "6_Default_RandomForest rmse 0.322726 trained in 1.14 seconds\n",
      "* Step ensemble will try to check up to 1 model\n",
      "Ensemble rmse 0.242543 trained in 0.16 seconds\n",
      "AutoML fit time: 17.07 seconds\n",
      "AutoML best model: Ensemble\n"
     ]
    },
    {
     "data": {
      "text/plain": [
       "AutoML(results_path='./결과내기_explain2')"
      ]
     },
     "execution_count": 35,
     "metadata": {},
     "output_type": "execute_result"
    }
   ],
   "source": [
    "automl = AutoML(mode=\"Explain\", n_jobs=-1, results_path='./결과내기_explain2')\n",
    "automl.fit(X_train, y_train)"
   ]
  },
  {
   "cell_type": "code",
   "execution_count": 36,
   "id": "5a8b4f53",
   "metadata": {
    "ExecuteTime": {
     "end_time": "2022-07-01T15:03:02.054267Z",
     "start_time": "2022-07-01T15:03:02.052100Z"
    }
   },
   "outputs": [],
   "source": [
    "model=AutoML(results_path='./결과내기_explain2')"
   ]
  },
  {
   "cell_type": "code",
   "execution_count": 37,
   "id": "5d5f0b40",
   "metadata": {
    "ExecuteTime": {
     "end_time": "2022-07-01T15:03:02.248042Z",
     "start_time": "2022-07-01T15:03:02.245099Z"
    }
   },
   "outputs": [],
   "source": [
    "my_result_df = pd.DataFrame()"
   ]
  },
  {
   "cell_type": "code",
   "execution_count": 38,
   "id": "4bd84198",
   "metadata": {
    "ExecuteTime": {
     "end_time": "2022-07-01T15:03:02.432922Z",
     "start_time": "2022-07-01T15:03:02.429176Z"
    }
   },
   "outputs": [],
   "source": [
    "my_result_df['date'] = test_df['date']"
   ]
  },
  {
   "cell_type": "code",
   "execution_count": 39,
   "id": "a4932cfa",
   "metadata": {
    "ExecuteTime": {
     "end_time": "2022-07-01T15:03:02.653341Z",
     "start_time": "2022-07-01T15:03:02.618087Z"
    },
    "scrolled": false
   },
   "outputs": [
    {
     "name": "stderr",
     "output_type": "stream",
     "text": [
      "X has feature names, but StandardScaler was fitted without feature names\n"
     ]
    }
   ],
   "source": [
    "my_result_df['rental']=list( forecast[-365:]['trend'] * model.predict(X_test))"
   ]
  },
  {
   "cell_type": "code",
   "execution_count": 40,
   "id": "5b08868b",
   "metadata": {
    "ExecuteTime": {
     "end_time": "2022-07-01T15:03:06.207738Z",
     "start_time": "2022-07-01T15:03:06.204799Z"
    }
   },
   "outputs": [],
   "source": [
    "my_result_df.set_index('date', inplace=True)"
   ]
  },
  {
   "cell_type": "code",
   "execution_count": 41,
   "id": "c4017947",
   "metadata": {
    "ExecuteTime": {
     "end_time": "2022-07-01T15:03:07.606764Z",
     "start_time": "2022-07-01T15:03:07.600092Z"
    }
   },
   "outputs": [
    {
     "data": {
      "text/html": [
       "<div>\n",
       "<style scoped>\n",
       "    .dataframe tbody tr th:only-of-type {\n",
       "        vertical-align: middle;\n",
       "    }\n",
       "\n",
       "    .dataframe tbody tr th {\n",
       "        vertical-align: top;\n",
       "    }\n",
       "\n",
       "    .dataframe thead th {\n",
       "        text-align: right;\n",
       "    }\n",
       "</style>\n",
       "<table border=\"1\" class=\"dataframe\">\n",
       "  <thead>\n",
       "    <tr style=\"text-align: right;\">\n",
       "      <th></th>\n",
       "      <th>rental</th>\n",
       "    </tr>\n",
       "    <tr>\n",
       "      <th>date</th>\n",
       "      <th></th>\n",
       "    </tr>\n",
       "  </thead>\n",
       "  <tbody>\n",
       "    <tr>\n",
       "      <th>2021-01-01</th>\n",
       "      <td>27006.035017</td>\n",
       "    </tr>\n",
       "    <tr>\n",
       "      <th>2021-01-02</th>\n",
       "      <td>23358.848979</td>\n",
       "    </tr>\n",
       "    <tr>\n",
       "      <th>2021-01-03</th>\n",
       "      <td>20263.502042</td>\n",
       "    </tr>\n",
       "    <tr>\n",
       "      <th>2021-01-04</th>\n",
       "      <td>30143.865679</td>\n",
       "    </tr>\n",
       "    <tr>\n",
       "      <th>2021-01-05</th>\n",
       "      <td>23845.278262</td>\n",
       "    </tr>\n",
       "    <tr>\n",
       "      <th>...</th>\n",
       "      <td>...</td>\n",
       "    </tr>\n",
       "    <tr>\n",
       "      <th>2021-12-27</th>\n",
       "      <td>31393.953494</td>\n",
       "    </tr>\n",
       "    <tr>\n",
       "      <th>2021-12-28</th>\n",
       "      <td>36673.731701</td>\n",
       "    </tr>\n",
       "    <tr>\n",
       "      <th>2021-12-29</th>\n",
       "      <td>48101.616642</td>\n",
       "    </tr>\n",
       "    <tr>\n",
       "      <th>2021-12-30</th>\n",
       "      <td>47033.230175</td>\n",
       "    </tr>\n",
       "    <tr>\n",
       "      <th>2021-12-31</th>\n",
       "      <td>39653.120831</td>\n",
       "    </tr>\n",
       "  </tbody>\n",
       "</table>\n",
       "<p>365 rows × 1 columns</p>\n",
       "</div>"
      ],
      "text/plain": [
       "                  rental\n",
       "date                    \n",
       "2021-01-01  27006.035017\n",
       "2021-01-02  23358.848979\n",
       "2021-01-03  20263.502042\n",
       "2021-01-04  30143.865679\n",
       "2021-01-05  23845.278262\n",
       "...                  ...\n",
       "2021-12-27  31393.953494\n",
       "2021-12-28  36673.731701\n",
       "2021-12-29  48101.616642\n",
       "2021-12-30  47033.230175\n",
       "2021-12-31  39653.120831\n",
       "\n",
       "[365 rows x 1 columns]"
      ]
     },
     "execution_count": 41,
     "metadata": {},
     "output_type": "execute_result"
    }
   ],
   "source": [
    "my_result_df"
   ]
  },
  {
   "cell_type": "code",
   "execution_count": 42,
   "id": "acbe4872",
   "metadata": {
    "ExecuteTime": {
     "end_time": "2022-07-01T15:03:08.259205Z",
     "start_time": "2022-07-01T15:03:08.249612Z"
    }
   },
   "outputs": [],
   "source": [
    "my_result_df.to_csv('./final_explain.csv')"
   ]
  },
  {
   "cell_type": "code",
   "execution_count": 43,
   "id": "77d20d0a",
   "metadata": {
    "ExecuteTime": {
     "end_time": "2022-07-01T15:03:10.002794Z",
     "start_time": "2022-07-01T15:03:09.806930Z"
    }
   },
   "outputs": [
    {
     "data": {
      "text/plain": [
       "<AxesSubplot:xlabel='date'>"
      ]
     },
     "execution_count": 43,
     "metadata": {},
     "output_type": "execute_result"
    },
    {
     "data": {
      "image/png": "[encoded data removed]",
      "text/plain": [
       "<Figure size 432x288 with 1 Axes>"
      ]
     },
     "metadata": {
      "needs_background": "light"
     },
     "output_type": "display_data"
    }
   ],
   "source": [
    "my_result_df.plot()"
   ]
  },
  {
   "cell_type": "code",
   "execution_count": null,
   "id": "1898e860",
   "metadata": {},
   "outputs": [],
   "source": []
  }
 ],
 "metadata": {
  "kernelspec": {
   "display_name": "Python 3 (ipykernel)",
   "language": "python",
   "name": "python3"
  },
  "language_info": {
   "codemirror_mode": {
    "name": "ipython",
    "version": 3
   },
   "file_extension": ".py",
   "mimetype": "text/x-python",
   "name": "python",
   "nbconvert_exporter": "python",
   "pygments_lexer": "ipython3",
   "version": "3.8.10"
  },
  "toc": {
   "base_numbering": 1,
   "nav_menu": {},
   "number_sections": true,
   "sideBar": true,
   "skip_h1_title": false,
   "title_cell": "Table of Contents",
   "title_sidebar": "Contents",
   "toc_cell": false,
   "toc_position": {},
   "toc_section_display": true,
   "toc_window_display": false
  },
  "varInspector": {
   "cols": {
    "lenName": 16,
    "lenType": 16,
    "lenVar": 40
   },
   "kernels_config": {
    "python": {
     "delete_cmd_postfix": "",
     "delete_cmd_prefix": "del ",
     "library": "var_list.py",
     "varRefreshCmd": "print(var_dic_list())"
    },
    "r": {
     "delete_cmd_postfix": ") ",
     "delete_cmd_prefix": "rm(",
     "library": "var_list.r",
     "varRefreshCmd": "cat(var_dic_list()) "
    }
   },
   "types_to_exclude": [
    "module",
    "function",
    "builtin_function_or_method",
    "instance",
    "_Feature"
   ],
   "window_display": false
  }
 },
 "nbformat": 4,
 "nbformat_minor": 5
}
