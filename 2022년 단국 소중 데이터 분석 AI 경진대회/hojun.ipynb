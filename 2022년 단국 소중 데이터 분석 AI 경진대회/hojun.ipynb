{
 "cells": [
  {
   "cell_type": "markdown",
   "id": "f687f3b4",
   "metadata": {},
   "source": [
    "<h2> 분석 </h2>\n",
    "\n",
    "\n",
    "* 머신러닝 학습시 date는 인식이 안됨, NAN 도 안됨\n",
    "\n",
    "$\\Rightarrow$ null 값을 처리해야 함\n",
    "\n",
    "$\\Rightarrow$ 전혀 머신러닝 분석이 진행되지 않음\n",
    "\n",
    "<h2>null 값 제거하기</h2>\n",
    "\n",
    "\n",
    "* null 값을 제거할 때 column(세로)로 제거하면 중요도가 높은 강수량을 삭제하게 되어 성능이 떨어짐\n",
    "* null 값을 제거할 때 row(가로)로 제거하면 데이터 수가 너무 줄어들음\n",
    "\n",
    "$\\Rightarrow$ null 값은 제거가 아니라 조정을 해야함\n",
    "\n",
    "$\\Rightarrow$ 머신러닝 결과 null 값을 column으로 제거한 모델이 약 0.63 정도로 성능이 가장 높음\n",
    "\n",
    "\n",
    "<h2>null 값 조정하기</h2>\n",
    "\n",
    "\n",
    "* 0으로 변경하기\n",
    "* 평균값으로 변경하기\n",
    "* 중간값으로 변경하기\n",
    "\n",
    "$\\Rightarrow$ null 값을 조정한 결과 정확도가 향상되었으며 0으로 변경한 모델은 71% 정도로 성능이 가장 높았다.\n",
    "\n",
    "<h2>중간결과</h2>\n",
    "\n",
    "|옵션|성능|\n",
    "|---|---|\n",
    "|null인 column 제거| 0.636750  |\n",
    "|null인 row 제거| 0.57887  |\n",
    "|null을 0으로 변경|  0.7012665 |\n",
    "|null을 평균을 변경| 0.65259  |\n",
    "|null을 중간값으로 변경| 0.680691  |"
   ]
  },
  {
   "cell_type": "code",
   "execution_count": 1,
   "id": "8da63395",
   "metadata": {
    "ExecuteTime": {
     "end_time": "2022-06-29T03:51:35.064491Z",
     "start_time": "2022-06-29T03:51:29.015255Z"
    }
   },
   "outputs": [],
   "source": [
    "import pandas as pd\n",
    "\n",
    "from sklearn.ensemble import RandomForestRegressor\n",
    "from sklearn.metrics import mean_squared_error\n",
    "import random\n",
    "from sklearn.model_selection import train_test_split\n",
    "from sklearn.model_selection import KFold\n",
    "\n",
    "from copy import deepcopy"
   ]
  },
  {
   "cell_type": "markdown",
   "id": "b3f43ff4",
   "metadata": {},
   "source": [
    "#  데이터 가져오기"
   ]
  },
  {
   "cell_type": "code",
   "execution_count": 2,
   "id": "d1696e95",
   "metadata": {
    "ExecuteTime": {
     "end_time": "2022-06-29T03:52:00.869215Z",
     "start_time": "2022-06-29T03:52:00.838430Z"
    }
   },
   "outputs": [],
   "source": [
    "train_df=pd.read_csv('./data/train.csv')\n",
    "test_df=pd.read_csv('./data/test.csv')"
   ]
  },
  {
   "cell_type": "code",
   "execution_count": 3,
   "id": "f8a7a105",
   "metadata": {
    "ExecuteTime": {
     "end_time": "2022-06-29T03:52:01.149227Z",
     "start_time": "2022-06-29T03:52:01.141692Z"
    }
   },
   "outputs": [],
   "source": [
    "train_df_backup = deepcopy(train_df)\n",
    "test_df_backup = deepcopy(test_df)"
   ]
  },
  {
   "cell_type": "code",
   "execution_count": 4,
   "id": "0e9f7528",
   "metadata": {
    "ExecuteTime": {
     "end_time": "2022-06-29T03:52:01.599257Z",
     "start_time": "2022-06-29T03:52:01.586702Z"
    }
   },
   "outputs": [
    {
     "data": {
      "text/plain": [
       "Index(['date', 'precipitation', 'temp_mean', 'temp_highest', 'temp_lowest',\n",
       "       'PM10', 'PM2.5', 'humidity', 'sunshine_sum', 'sunshine_rate',\n",
       "       'wind_mean', 'wind_max', 'rental'],\n",
       "      dtype='object')"
      ]
     },
     "execution_count": 4,
     "metadata": {},
     "output_type": "execute_result"
    }
   ],
   "source": [
    "train_df.columns"
   ]
  },
  {
   "cell_type": "markdown",
   "id": "d0a77e2f",
   "metadata": {
    "ExecuteTime": {
     "end_time": "2022-06-26T11:20:25.208166Z",
     "start_time": "2022-06-26T11:20:25.204225Z"
    }
   },
   "source": [
    "* date: 날짜\n",
    "* precipitation: 강수량(mm)\n",
    "* temp_mean: 평균 기온(℃)\n",
    "* temp_highest: 최고 기온(℃)\n",
    "* temp_lowest: 최저 기온(℃)\n",
    "* PM10: 미세먼지(㎍/㎥)\n",
    "* PM2.5: 초미세먼지(㎍/㎥)\n",
    "* humidity: 습도(%rh)\n",
    "* sunshine_sum: 일조합\n",
    "* sunshine_rate: 일조율\n",
    "* wind_mean: 평균 풍속(m/s)\n",
    "* wind_max: 최대 풍속(m/s)\n",
    "* rentals : 따릉이 대여량"
   ]
  },
  {
   "cell_type": "code",
   "execution_count": 5,
   "id": "416df311",
   "metadata": {
    "ExecuteTime": {
     "end_time": "2022-06-29T03:52:02.608449Z",
     "start_time": "2022-06-29T03:52:02.594999Z"
    }
   },
   "outputs": [
    {
     "data": {
      "text/plain": [
       "date               0\n",
       "precipitation    678\n",
       "temp_mean          0\n",
       "temp_highest       0\n",
       "temp_lowest        0\n",
       "PM10              67\n",
       "PM2.5             68\n",
       "humidity           0\n",
       "sunshine_sum       5\n",
       "sunshine_rate      0\n",
       "wind_mean          0\n",
       "wind_max           0\n",
       "rental             0\n",
       "dtype: int64"
      ]
     },
     "execution_count": 5,
     "metadata": {},
     "output_type": "execute_result"
    }
   ],
   "source": [
    "train_df.isnull().sum()"
   ]
  },
  {
   "cell_type": "code",
   "execution_count": 6,
   "id": "a4be1570",
   "metadata": {
    "ExecuteTime": {
     "end_time": "2022-06-29T03:52:03.097639Z",
     "start_time": "2022-06-29T03:52:03.082349Z"
    }
   },
   "outputs": [
    {
     "data": {
      "text/plain": [
       "date               0\n",
       "precipitation    205\n",
       "temp_mean          0\n",
       "temp_highest       0\n",
       "temp_lowest        0\n",
       "PM10               0\n",
       "PM2.5              0\n",
       "humidity           0\n",
       "sunshine_sum       1\n",
       "sunshine_rate      0\n",
       "wind_mean          0\n",
       "wind_max           0\n",
       "dtype: int64"
      ]
     },
     "execution_count": 6,
     "metadata": {},
     "output_type": "execute_result"
    }
   ],
   "source": [
    "test_df.isnull().sum()"
   ]
  },
  {
   "cell_type": "code",
   "execution_count": 7,
   "id": "d2441ad3",
   "metadata": {
    "ExecuteTime": {
     "end_time": "2022-06-29T03:52:03.517366Z",
     "start_time": "2022-06-29T03:52:03.509583Z"
    }
   },
   "outputs": [
    {
     "data": {
      "text/plain": [
       "[93, 20, 6, 54, 59, 65, 10, 86, 88, 77]"
      ]
     },
     "execution_count": 7,
     "metadata": {},
     "output_type": "execute_result"
    }
   ],
   "source": [
    "random_state_list=[random.randint(0, 100) for _ in range(10)]\n",
    "random_state_list"
   ]
  },
  {
   "cell_type": "markdown",
   "id": "16cb799d",
   "metadata": {},
   "source": [
    "# null 제거"
   ]
  },
  {
   "cell_type": "markdown",
   "id": "a6574070",
   "metadata": {},
   "source": [
    "## 결측치 행 제거 후 학습진행"
   ]
  },
  {
   "cell_type": "code",
   "execution_count": 8,
   "id": "8fd7d597",
   "metadata": {
    "ExecuteTime": {
     "end_time": "2022-06-29T03:52:04.602153Z",
     "start_time": "2022-06-29T03:52:04.593692Z"
    }
   },
   "outputs": [],
   "source": [
    "train_df = deepcopy(train_df_backup)\n",
    "train_df.dropna(axis=0, inplace=True)"
   ]
  },
  {
   "cell_type": "code",
   "execution_count": 9,
   "id": "65fffd7e",
   "metadata": {
    "ExecuteTime": {
     "end_time": "2022-06-29T03:52:05.017962Z",
     "start_time": "2022-06-29T03:52:05.012104Z"
    }
   },
   "outputs": [],
   "source": [
    "X,y = train_df.iloc[:,1:-1].to_numpy(), train_df.iloc[:,-1].to_numpy()"
   ]
  },
  {
   "cell_type": "code",
   "execution_count": 10,
   "id": "8820628b",
   "metadata": {
    "ExecuteTime": {
     "end_time": "2022-06-29T03:52:05.459353Z",
     "start_time": "2022-06-29T03:52:05.448733Z"
    }
   },
   "outputs": [
    {
     "data": {
      "text/plain": [
       "((386, 11), (386,))"
      ]
     },
     "execution_count": 10,
     "metadata": {},
     "output_type": "execute_result"
    }
   ],
   "source": [
    "X.shape, y.shape"
   ]
  },
  {
   "cell_type": "code",
   "execution_count": 11,
   "id": "8078839c",
   "metadata": {
    "ExecuteTime": {
     "end_time": "2022-06-29T03:52:05.914684Z",
     "start_time": "2022-06-29T03:52:05.908510Z"
    }
   },
   "outputs": [],
   "source": [
    "X_train, X_test, y_train, y_test = train_test_split(X,y , test_size=0.2, random_state=123456)"
   ]
  },
  {
   "cell_type": "code",
   "execution_count": 12,
   "id": "71331d86",
   "metadata": {
    "ExecuteTime": {
     "end_time": "2022-06-29T03:52:08.940087Z",
     "start_time": "2022-06-29T03:52:06.419484Z"
    }
   },
   "outputs": [
    {
     "name": "stdout",
     "output_type": "stream",
     "text": [
      "1번째\n",
      "Score : 0.6367504903166681\n",
      "Oob_Score : 0.6516788633015427\n",
      "2번째\n",
      "Score : 0.6336329576037865\n",
      "Oob_Score : 0.6458057572676962\n",
      "3번째\n",
      "Score : 0.6430593432915341\n",
      "Oob_Score : 0.6406486652269996\n",
      "4번째\n",
      "Score : 0.6413284724852445\n",
      "Oob_Score : 0.6343480568232255\n",
      "5번째\n",
      "Score : 0.6344640091294422\n",
      "Oob_Score : 0.64614137497163\n",
      "6번째\n",
      "Score : 0.6401442747948944\n",
      "Oob_Score : 0.6457919952312761\n",
      "7번째\n",
      "Score : 0.6455456873657099\n",
      "Oob_Score : 0.6370225781984254\n",
      "8번째\n",
      "Score : 0.6198409431896846\n",
      "Oob_Score : 0.6419870590685898\n",
      "9번째\n",
      "Score : 0.6155096735203907\n",
      "Oob_Score : 0.6464987334508933\n",
      "10번째\n",
      "Score : 0.6247154534044148\n",
      "Oob_Score : 0.6540086571009925\n"
     ]
    }
   ],
   "source": [
    "for i, state in enumerate(random_state_list): \n",
    "    rf = RandomForestRegressor(oob_score=True, random_state=state)\n",
    "    rf.fit(X_train, y_train)\n",
    "    score=rf.score(X_test, y_test)\n",
    "    print(f'{i+1}번째')\n",
    "    print(f'Score : {score}')\n",
    "    print(f'Oob_Score : {rf.oob_score_}')"
   ]
  },
  {
   "cell_type": "code",
   "execution_count": 13,
   "id": "f40c2ed1",
   "metadata": {
    "ExecuteTime": {
     "end_time": "2022-06-29T03:52:09.457535Z",
     "start_time": "2022-06-29T03:52:09.437538Z"
    }
   },
   "outputs": [
    {
     "name": "stdout",
     "output_type": "stream",
     "text": [
      "\u001b[31mFeature importance\u001b[0m\n",
      "('temp_highest', 0.32360768580116955)\n",
      "('precipitation', 0.28586481432304534)\n",
      "('humidity', 0.06782735191597596)\n",
      "('temp_mean', 0.06589073464750762)\n",
      "('wind_mean', 0.05389977750129226)\n",
      "('sunshine_sum', 0.04746082164874536)\n",
      "('temp_lowest', 0.04208108337927266)\n",
      "('sunshine_rate', 0.03803043049372001)\n",
      "('wind_max', 0.02729710645038015)\n",
      "('PM10', 0.026389042358724465)\n",
      "('PM2.5', 0.021651151480166723)\n"
     ]
    }
   ],
   "source": [
    "print('\\033[31m'+'Feature importance'+'\\033[0m')\n",
    "print(*sorted(zip(train_df.iloc[:,1:-1].columns ,rf.feature_importances_), key=lambda x : x[1], reverse=True), sep='\\n')"
   ]
  },
  {
   "cell_type": "markdown",
   "id": "327aef99",
   "metadata": {},
   "source": [
    "교차검증시 데이터부족으로 인한 학습부진 발생, 교차검증 점수는 oob score로 대체"
   ]
  },
  {
   "cell_type": "markdown",
   "id": "4e187f69",
   "metadata": {
    "ExecuteTime": {
     "end_time": "2022-06-26T11:43:35.014683Z",
     "start_time": "2022-06-26T11:43:35.012503Z"
    }
   },
   "source": [
    "## 결측치 열 제거후 학습진행"
   ]
  },
  {
   "cell_type": "code",
   "execution_count": 14,
   "id": "82f7348f",
   "metadata": {
    "ExecuteTime": {
     "end_time": "2022-06-29T03:52:09.919505Z",
     "start_time": "2022-06-29T03:52:09.904230Z"
    }
   },
   "outputs": [
    {
     "data": {
      "text/plain": [
       "((1095, 7), (1095,))"
      ]
     },
     "execution_count": 14,
     "metadata": {},
     "output_type": "execute_result"
    }
   ],
   "source": [
    "train_df = deepcopy(train_df_backup)\n",
    "train_df.dropna(axis=1, inplace=True)\n",
    "X,y = train_df.iloc[:,1:-1].to_numpy(), train_df.iloc[:,-1].to_numpy()\n",
    "X.shape, y.shape"
   ]
  },
  {
   "cell_type": "code",
   "execution_count": 15,
   "id": "f0502fa4",
   "metadata": {
    "ExecuteTime": {
     "end_time": "2022-06-29T03:52:14.315231Z",
     "start_time": "2022-06-29T03:52:10.384369Z"
    }
   },
   "outputs": [
    {
     "name": "stdout",
     "output_type": "stream",
     "text": [
      "1번째\n",
      "Score : 0.5788748632898335\n",
      "Oob_Score : 0.5889070633734034\n",
      "2번째\n",
      "Score : 0.5692414347708896\n",
      "Oob_Score : 0.5899570726638563\n",
      "3번째\n",
      "Score : 0.5657883832797002\n",
      "Oob_Score : 0.5919857114415834\n",
      "4번째\n",
      "Score : 0.5748188575601721\n",
      "Oob_Score : 0.5905783596662164\n",
      "5번째\n",
      "Score : 0.5762625386139495\n",
      "Oob_Score : 0.5936226794748685\n",
      "6번째\n",
      "Score : 0.5725428318438057\n",
      "Oob_Score : 0.5882763793050098\n",
      "7번째\n",
      "Score : 0.5718618949505052\n",
      "Oob_Score : 0.5986665904702615\n",
      "8번째\n",
      "Score : 0.5655754841406344\n",
      "Oob_Score : 0.5847002792930165\n",
      "9번째\n",
      "Score : 0.5692939997224675\n",
      "Oob_Score : 0.5879207760226488\n",
      "10번째\n",
      "Score : 0.5741195911694021\n",
      "Oob_Score : 0.5900711981363265\n"
     ]
    }
   ],
   "source": [
    "X_train, X_test, y_train, y_test = train_test_split(X,y , test_size=0.2, random_state=123456)\n",
    "for i, state in enumerate(random_state_list): \n",
    "    rf = RandomForestRegressor(oob_score=True, random_state=state)\n",
    "    rf.fit(X_train, y_train)\n",
    "    score=rf.score(X_test, y_test)\n",
    "    print(f'{i+1}번째')\n",
    "    print(f'Score : {score}')\n",
    "    print(f'Oob_Score : {rf.oob_score_}')"
   ]
  },
  {
   "cell_type": "markdown",
   "id": "a58ea2ac",
   "metadata": {},
   "source": [
    "열 제거시 특징정보 부족으로 인한 성능저하"
   ]
  },
  {
   "cell_type": "code",
   "execution_count": 16,
   "id": "04ab1ee5",
   "metadata": {
    "ExecuteTime": {
     "end_time": "2022-06-29T03:52:14.765150Z",
     "start_time": "2022-06-29T03:52:14.739568Z"
    }
   },
   "outputs": [
    {
     "name": "stdout",
     "output_type": "stream",
     "text": [
      "\u001b[31mFeature importance\u001b[0m\n",
      "('temp_highest', 0.35640691036787103)\n",
      "('temp_mean', 0.167271463869861)\n",
      "('humidity', 0.15512559255709749)\n",
      "('sunshine_rate', 0.10145969715370509)\n",
      "('wind_mean', 0.09650547565027802)\n",
      "('temp_lowest', 0.07638779685776384)\n",
      "('wind_max', 0.04684306354342366)\n"
     ]
    }
   ],
   "source": [
    "print('\\033[31m'+'Feature importance'+'\\033[0m')\n",
    "print(*sorted(zip(train_df.iloc[:,1:-1].columns ,rf.feature_importances_), key=lambda x : x[1], reverse=True), sep='\\n')"
   ]
  },
  {
   "cell_type": "markdown",
   "id": "b5d698af",
   "metadata": {},
   "source": [
    "# Null 값 조정"
   ]
  },
  {
   "cell_type": "markdown",
   "id": "4ca2dfc9",
   "metadata": {
    "ExecuteTime": {
     "end_time": "2022-06-26T12:15:34.897140Z",
     "start_time": "2022-06-26T12:15:34.893051Z"
    }
   },
   "source": [
    "## 0으로 조정"
   ]
  },
  {
   "cell_type": "code",
   "execution_count": 17,
   "id": "8f65aa30",
   "metadata": {
    "ExecuteTime": {
     "end_time": "2022-06-29T03:52:15.216147Z",
     "start_time": "2022-06-29T03:52:15.206961Z"
    }
   },
   "outputs": [],
   "source": [
    "train_df = deepcopy(train_df_backup)\n",
    "train_df.fillna(0, inplace=True)"
   ]
  },
  {
   "cell_type": "code",
   "execution_count": 18,
   "id": "60e3607f",
   "metadata": {
    "ExecuteTime": {
     "end_time": "2022-06-29T03:52:15.670412Z",
     "start_time": "2022-06-29T03:52:15.660350Z"
    }
   },
   "outputs": [
    {
     "data": {
      "text/plain": [
       "((1095, 11), (1095,))"
      ]
     },
     "execution_count": 18,
     "metadata": {},
     "output_type": "execute_result"
    }
   ],
   "source": [
    "X,y = train_df.iloc[:,1:-1].to_numpy(), train_df.iloc[:,-1].to_numpy()\n",
    "X.shape, y.shape"
   ]
  },
  {
   "cell_type": "code",
   "execution_count": 19,
   "id": "8270e8f5",
   "metadata": {
    "ExecuteTime": {
     "end_time": "2022-06-29T03:52:20.853847Z",
     "start_time": "2022-06-29T03:52:16.092519Z"
    }
   },
   "outputs": [
    {
     "name": "stdout",
     "output_type": "stream",
     "text": [
      "1번째\n",
      "Score : 0.7012665826413871\n",
      "Oob_Score : 0.7257346536945285\n",
      "2번째\n",
      "Score : 0.7044820426987999\n",
      "Oob_Score : 0.7170893690727659\n",
      "3번째\n",
      "Score : 0.710298096543602\n",
      "Oob_Score : 0.7206832653786739\n",
      "4번째\n",
      "Score : 0.713289857423456\n",
      "Oob_Score : 0.717905363256758\n",
      "5번째\n",
      "Score : 0.7120642075615111\n",
      "Oob_Score : 0.7249620737302169\n",
      "6번째\n",
      "Score : 0.7141774268602189\n",
      "Oob_Score : 0.7198691394070217\n",
      "7번째\n",
      "Score : 0.7105683473416868\n",
      "Oob_Score : 0.7185902561016277\n",
      "8번째\n",
      "Score : 0.7043024834826039\n",
      "Oob_Score : 0.7225667538865868\n",
      "9번째\n",
      "Score : 0.7077973707295924\n",
      "Oob_Score : 0.7224219583863145\n",
      "10번째\n",
      "Score : 0.7069555690512074\n",
      "Oob_Score : 0.7236276392709369\n"
     ]
    }
   ],
   "source": [
    "X_train, X_test, y_train, y_test = train_test_split(X,y , test_size=0.2, random_state=123456)\n",
    "for i, state in enumerate(random_state_list): \n",
    "    rf = RandomForestRegressor(oob_score=True, random_state=state)\n",
    "    rf.fit(X_train, y_train)\n",
    "    score=rf.score(X_test, y_test)\n",
    "    print(f'{i+1}번째')\n",
    "    print(f'Score : {score}')\n",
    "    print(f'Oob_Score : {rf.oob_score_}')"
   ]
  },
  {
   "cell_type": "markdown",
   "id": "7eafa2ce",
   "metadata": {},
   "source": [
    "성능이 훨씬 개선됨"
   ]
  },
  {
   "cell_type": "markdown",
   "id": "b4528e06",
   "metadata": {},
   "source": [
    "## 평균으로 조정"
   ]
  },
  {
   "cell_type": "code",
   "execution_count": 20,
   "id": "b95adad5",
   "metadata": {
    "ExecuteTime": {
     "end_time": "2022-06-29T03:52:21.332358Z",
     "start_time": "2022-06-29T03:52:21.320185Z"
    }
   },
   "outputs": [
    {
     "name": "stderr",
     "output_type": "stream",
     "text": [
      "/tmp/ipykernel_846/4105978821.py:2: FutureWarning: Dropping of nuisance columns in DataFrame reductions (with 'numeric_only=None') is deprecated; in a future version this will raise TypeError.  Select only valid columns before calling the reduction.\n",
      "  train_df.fillna(train_df.mean(), inplace=True)\n"
     ]
    }
   ],
   "source": [
    "train_df = deepcopy(train_df_backup)\n",
    "train_df.fillna(train_df.mean(), inplace=True)"
   ]
  },
  {
   "cell_type": "code",
   "execution_count": 21,
   "id": "7388fcfa",
   "metadata": {
    "ExecuteTime": {
     "end_time": "2022-06-29T03:52:26.635932Z",
     "start_time": "2022-06-29T03:52:21.833602Z"
    }
   },
   "outputs": [
    {
     "name": "stdout",
     "output_type": "stream",
     "text": [
      "1번째\n",
      "Score : 0.652592922072871\n",
      "Oob_Score : 0.6769183265556656\n",
      "2번째\n",
      "Score : 0.6605055546733306\n",
      "Oob_Score : 0.676590314872101\n",
      "3번째\n",
      "Score : 0.6549938468263123\n",
      "Oob_Score : 0.6733812207991839\n",
      "4번째\n",
      "Score : 0.6544877914972129\n",
      "Oob_Score : 0.6782058191848656\n",
      "5번째\n",
      "Score : 0.6558501515771942\n",
      "Oob_Score : 0.681414873410253\n",
      "6번째\n",
      "Score : 0.6513389822513183\n",
      "Oob_Score : 0.6781367927695982\n",
      "7번째\n",
      "Score : 0.6606089255109857\n",
      "Oob_Score : 0.6789747414470613\n",
      "8번째\n",
      "Score : 0.6568190306994113\n",
      "Oob_Score : 0.6856706685752083\n",
      "9번째\n",
      "Score : 0.6572245720752512\n",
      "Oob_Score : 0.6768391127026268\n",
      "10번째\n",
      "Score : 0.658081012368641\n",
      "Oob_Score : 0.6748594710646043\n"
     ]
    }
   ],
   "source": [
    "X,y = train_df.iloc[:,1:-1].to_numpy(), train_df.iloc[:,-1].to_numpy()\n",
    "X_train, X_test, y_train, y_test = train_test_split(X,y , test_size=0.2, random_state=123456)\n",
    "for i, state in enumerate(random_state_list): \n",
    "    rf = RandomForestRegressor(oob_score=True, random_state=state)\n",
    "    rf.fit(X_train, y_train)\n",
    "    score=rf.score(X_test, y_test)\n",
    "    print(f'{i+1}번째')\n",
    "    print(f'Score : {score}')\n",
    "    print(f'Oob_Score : {rf.oob_score_}')"
   ]
  },
  {
   "cell_type": "markdown",
   "id": "9238e3e5",
   "metadata": {},
   "source": [
    "## 중간값으로 조정"
   ]
  },
  {
   "cell_type": "code",
   "execution_count": 22,
   "id": "98e43943",
   "metadata": {
    "ExecuteTime": {
     "end_time": "2022-06-29T03:52:27.049488Z",
     "start_time": "2022-06-29T03:52:27.037513Z"
    }
   },
   "outputs": [
    {
     "name": "stderr",
     "output_type": "stream",
     "text": [
      "/tmp/ipykernel_846/1783643082.py:2: FutureWarning: Dropping of nuisance columns in DataFrame reductions (with 'numeric_only=None') is deprecated; in a future version this will raise TypeError.  Select only valid columns before calling the reduction.\n",
      "  train_df.fillna(train_df.median(), inplace=True)\n"
     ]
    }
   ],
   "source": [
    "train_df = deepcopy(train_df_backup)\n",
    "train_df.fillna(train_df.median(), inplace=True)"
   ]
  },
  {
   "cell_type": "code",
   "execution_count": 23,
   "id": "42594b91",
   "metadata": {
    "ExecuteTime": {
     "end_time": "2022-06-29T03:52:32.190850Z",
     "start_time": "2022-06-29T03:52:27.483978Z"
    }
   },
   "outputs": [
    {
     "name": "stdout",
     "output_type": "stream",
     "text": [
      "1번째\n",
      "Score : 0.6806910898003065\n",
      "Oob_Score : 0.682289484592056\n",
      "2번째\n",
      "Score : 0.6804293019255908\n",
      "Oob_Score : 0.6724480589537025\n",
      "3번째\n",
      "Score : 0.6862484208653927\n",
      "Oob_Score : 0.6776414508300805\n",
      "4번째\n",
      "Score : 0.6814621219010213\n",
      "Oob_Score : 0.6737230163361949\n",
      "5번째\n",
      "Score : 0.6779468031058178\n",
      "Oob_Score : 0.6813946123095453\n",
      "6번째\n",
      "Score : 0.6792837444377166\n",
      "Oob_Score : 0.6771931641545716\n",
      "7번째\n",
      "Score : 0.6897729197928637\n",
      "Oob_Score : 0.6793574684815246\n",
      "8번째\n",
      "Score : 0.6731543568683227\n",
      "Oob_Score : 0.6784961982127113\n",
      "9번째\n",
      "Score : 0.6830733178521298\n",
      "Oob_Score : 0.6835965910831119\n",
      "10번째\n",
      "Score : 0.684809005476505\n",
      "Oob_Score : 0.6807492853093607\n"
     ]
    }
   ],
   "source": [
    "X,y = train_df.iloc[:,1:-1].to_numpy(), train_df.iloc[:,-1].to_numpy()\n",
    "X_train, X_test, y_train, y_test = train_test_split(X,y , test_size=0.2, random_state=123456)\n",
    "for i, state in enumerate(random_state_list): \n",
    "    rf = RandomForestRegressor(oob_score=True, random_state=state)\n",
    "    rf.fit(X_train, y_train)\n",
    "    score=rf.score(X_test, y_test)\n",
    "    print(f'{i+1}번째')\n",
    "    print(f'Score : {score}')\n",
    "    print(f'Oob_Score : {rf.oob_score_}')"
   ]
  },
  {
   "cell_type": "code",
   "execution_count": null,
   "id": "4f0e2649",
   "metadata": {},
   "outputs": [],
   "source": []
  },
  {
   "cell_type": "code",
   "execution_count": null,
   "id": "267c12cd",
   "metadata": {},
   "outputs": [],
   "source": []
  }
 ],
 "metadata": {
  "kernelspec": {
   "display_name": "Python 3 (ipykernel)",
   "language": "python",
   "name": "python3"
  },
  "language_info": {
   "codemirror_mode": {
    "name": "ipython",
    "version": 3
   },
   "file_extension": ".py",
   "mimetype": "text/x-python",
   "name": "python",
   "nbconvert_exporter": "python",
   "pygments_lexer": "ipython3",
   "version": "3.8.10"
  },
  "toc": {
   "base_numbering": 1,
   "nav_menu": {},
   "number_sections": true,
   "sideBar": true,
   "skip_h1_title": false,
   "title_cell": "Table of Contents",
   "title_sidebar": "Contents",
   "toc_cell": false,
   "toc_position": {},
   "toc_section_display": true,
   "toc_window_display": false
  },
  "varInspector": {
   "cols": {
    "lenName": 16,
    "lenType": 16,
    "lenVar": 40
   },
   "kernels_config": {
    "python": {
     "delete_cmd_postfix": "",
     "delete_cmd_prefix": "del ",
     "library": "var_list.py",
     "varRefreshCmd": "print(var_dic_list())"
    },
    "r": {
     "delete_cmd_postfix": ") ",
     "delete_cmd_prefix": "rm(",
     "library": "var_list.r",
     "varRefreshCmd": "cat(var_dic_list()) "
    }
   },
   "types_to_exclude": [
    "module",
    "function",
    "builtin_function_or_method",
    "instance",
    "_Feature"
   ],
   "window_display": false
  }
 },
 "nbformat": 4,
 "nbformat_minor": 5
}
