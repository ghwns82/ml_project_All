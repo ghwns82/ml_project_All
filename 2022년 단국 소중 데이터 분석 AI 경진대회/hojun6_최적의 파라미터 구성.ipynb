{
 "cells": [
  {
   "cell_type": "code",
   "execution_count": 1,
   "id": "72a384c6",
   "metadata": {
    "ExecuteTime": {
     "end_time": "2022-07-01T12:53:19.249698Z",
     "start_time": "2022-07-01T12:53:18.021260Z"
    }
   },
   "outputs": [],
   "source": [
    "from prophet import Prophet\n",
    "\n",
    "import pandas as pd\n",
    "\n",
    "from sklearn.ensemble import RandomForestRegressor\n",
    "from sklearn.model_selection import train_test_split\n",
    "\n",
    "import random\n",
    "from copy import deepcopy\n",
    "import math"
   ]
  },
  {
   "cell_type": "code",
   "execution_count": 2,
   "id": "09364c3b",
   "metadata": {
    "ExecuteTime": {
     "end_time": "2022-07-01T12:53:19.260108Z",
     "start_time": "2022-07-01T12:53:19.251021Z"
    }
   },
   "outputs": [],
   "source": [
    "train_df=pd.read_csv('./data/train.csv')\n",
    "test_df=pd.read_csv('./data/test.csv')"
   ]
  },
  {
   "cell_type": "code",
   "execution_count": 3,
   "id": "07f57365",
   "metadata": {
    "ExecuteTime": {
     "end_time": "2022-07-01T12:53:22.888122Z",
     "start_time": "2022-07-01T12:53:19.261162Z"
    }
   },
   "outputs": [
    {
     "name": "stdout",
     "output_type": "stream",
     "text": [
      "Initial log joint probability = -73.9282\n",
      "    Iter      log prob        ||dx||      ||grad||       alpha      alpha0  # evals  Notes \n",
      "      99       1699.14   5.17586e-06       69.4858      0.7698      0.7698      133   \n",
      "    Iter      log prob        ||dx||      ||grad||       alpha      alpha0  # evals  Notes \n",
      "     110       1699.17   0.000410967       93.1272   3.446e-06       0.001      181  LS failed, Hessian reset \n",
      "     150       1699.19   3.83621e-05       77.7678   4.552e-07       0.001      266  LS failed, Hessian reset \n",
      "     177       1699.19    1.5188e-07       69.0376      0.2292           1      304   \n",
      "Optimization terminated normally: \n",
      "  Convergence detected: relative gradient magnitude is below tolerance\n"
     ]
    }
   ],
   "source": [
    "df=train_df[['date','rental']].copy()\n",
    "df.columns=['ds','y']\n",
    "m = Prophet()\n",
    "m.daily_seasonality=True\n",
    "m.weekly_seasonality=True\n",
    "m.yearly_seasonality=True\n",
    "m.fit(df)\n",
    "future=m.make_future_dataframe(365)\n",
    "forecast = m.predict(future)"
   ]
  },
  {
   "cell_type": "code",
   "execution_count": 4,
   "id": "91e0739c",
   "metadata": {
    "ExecuteTime": {
     "end_time": "2022-07-01T12:53:22.892661Z",
     "start_time": "2022-07-01T12:53:22.889575Z"
    }
   },
   "outputs": [],
   "source": [
    "train_df['rental']=train_df['rental']/forecast[:-365]['trend']"
   ]
  },
  {
   "cell_type": "code",
   "execution_count": 5,
   "id": "33cde826",
   "metadata": {
    "ExecuteTime": {
     "end_time": "2022-07-01T12:53:22.905882Z",
     "start_time": "2022-07-01T12:53:22.894734Z"
    }
   },
   "outputs": [],
   "source": [
    "train_df['date']=pd.to_datetime(train_df['date'])\n",
    "train_df['year']=train_df['date'].dt.year\n",
    "train_df['month']=train_df['date'].dt.month\n",
    "train_df['day']=train_df['date'].dt.day\n",
    "train_df = train_df[['date', 'precipitation', 'temp_mean', 'temp_highest', 'temp_lowest',\n",
    "       'PM10', 'PM2.5', 'humidity', 'sunshine_sum', 'sunshine_rate',\n",
    "       'wind_mean', 'wind_max', 'year', 'month', 'day', 'rental']]"
   ]
  },
  {
   "cell_type": "code",
   "execution_count": 6,
   "id": "e2e4dadb",
   "metadata": {
    "ExecuteTime": {
     "end_time": "2022-07-01T12:53:22.912089Z",
     "start_time": "2022-07-01T12:53:22.906812Z"
    }
   },
   "outputs": [],
   "source": [
    "# 옵션에 따라, 선택한 데이터프레임의 컬럼의 결측값을 채워주는 함수\n",
    "# option = 0, min, max, mean, median\n",
    "def cal(my_df, column_name, option):\n",
    "    df=my_df.copy()\n",
    "    df['date']=pd.to_datetime(df['date'])\n",
    "    df['month']=df['date'].dt.month\n",
    "    nn_df = df.iloc[df[column_name].dropna().index]\n",
    "    month_df_list=[nn_df[nn_df['month']==i] for i in range(1,13)]\n",
    "    \n",
    "    if option == 0:\n",
    "        replace_list=[0 for month_df in month_df_list]\n",
    "    elif option =='min':\n",
    "        replace_list=[month_df[column_name].min() for month_df in month_df_list]\n",
    "    elif option =='max':\n",
    "        replace_list=[month_df[column_name].max() for month_df in month_df_list]\n",
    "    elif option == 'mean':\n",
    "        replace_list=[month_df[column_name].mean() for month_df in month_df_list]\n",
    "    elif option == 'median':\n",
    "        replace_list=[month_df[column_name].median() for month_df in month_df_list]\n",
    "    \n",
    "    replace_list = ['']+ replace_list\n",
    "    \n",
    "    result=[]\n",
    "    for i in range(my_df.shape[0]):\n",
    "        n=my_df.iloc[i][column_name]\n",
    "        if math.isnan(n):\n",
    "            result.append(replace_list[df.loc[i]['month']])\n",
    "        else:\n",
    "            result.append(n)\n",
    "    my_df[column_name] = result"
   ]
  },
  {
   "cell_type": "code",
   "execution_count": 7,
   "id": "bd9e38b8",
   "metadata": {
    "ExecuteTime": {
     "end_time": "2022-07-01T12:53:22.918829Z",
     "start_time": "2022-07-01T12:53:22.913355Z"
    }
   },
   "outputs": [],
   "source": [
    "null_feature = ['precipitation','PM10','PM2.5','sunshine_sum']\n",
    "best_option_group = ['min' , 'max' , 'median' , 'min']"
   ]
  },
  {
   "cell_type": "code",
   "execution_count": 8,
   "id": "da381f7f",
   "metadata": {
    "ExecuteTime": {
     "end_time": "2022-07-01T12:53:23.430179Z",
     "start_time": "2022-07-01T12:53:22.920622Z"
    }
   },
   "outputs": [],
   "source": [
    "for column_name, option in zip(null_feature, best_option_group):\n",
    "    cal(train_df, column_name, option)"
   ]
  },
  {
   "cell_type": "code",
   "execution_count": 9,
   "id": "d6135700",
   "metadata": {
    "ExecuteTime": {
     "end_time": "2022-07-01T12:53:23.437947Z",
     "start_time": "2022-07-01T12:53:23.431144Z"
    }
   },
   "outputs": [
    {
     "data": {
      "text/plain": [
       "[98, 19, 31, 100, 74, 60, 100, 18, 92, 80]"
      ]
     },
     "execution_count": 9,
     "metadata": {},
     "output_type": "execute_result"
    }
   ],
   "source": [
    "random_state_list=[random.randint(0, 100) for _ in range(10)]\n",
    "random_state_list"
   ]
  },
  {
   "cell_type": "code",
   "execution_count": 10,
   "id": "2c13d27e",
   "metadata": {
    "ExecuteTime": {
     "end_time": "2022-07-01T12:53:26.994052Z",
     "start_time": "2022-07-01T12:53:23.441186Z"
    }
   },
   "outputs": [
    {
     "name": "stdout",
     "output_type": "stream",
     "text": [
      "1번째\n",
      "Score : 0.9051765214418668\n",
      "Oob_Score : 0.915483623744452\n",
      "2번째\n",
      "Score : 0.9056748908810417\n",
      "Oob_Score : 0.9139581984199489\n",
      "3번째\n",
      "Score : 0.9056155186719743\n",
      "Oob_Score : 0.913500172432686\n",
      "4번째\n",
      "Score : 0.905986611913236\n",
      "Oob_Score : 0.914692024740952\n",
      "5번째\n",
      "Score : 0.9047391613538618\n",
      "Oob_Score : 0.9161476837128741\n",
      "6번째\n",
      "Score : 0.9058925282505335\n",
      "Oob_Score : 0.9158925810045763\n",
      "7번째\n",
      "Score : 0.905986611913236\n",
      "Oob_Score : 0.914692024740952\n",
      "8번째\n",
      "Score : 0.9055982715905576\n",
      "Oob_Score : 0.9146505780875567\n",
      "9번째\n",
      "Score : 0.9050981406055559\n",
      "Oob_Score : 0.9125181571846351\n",
      "10번째\n",
      "Score : 0.9069977710748123\n",
      "Oob_Score : 0.912468628174645\n"
     ]
    }
   ],
   "source": [
    "X,y = train_df.iloc[:,1:-1].to_numpy(), train_df.iloc[:,-1].to_numpy()\n",
    "X_train, X_test, y_train, y_test = train_test_split(X,y , test_size=0.2, random_state=123456)\n",
    "for i, state in enumerate(random_state_list): \n",
    "    rf = RandomForestRegressor(oob_score=True, random_state=state)\n",
    "    rf.fit(X_train, y_train)\n",
    "    score=rf.score(X_test, y_test)\n",
    "    print(f'{i+1}번째')\n",
    "    print(f'Score : {score}')\n",
    "    print(f'Oob_Score : {rf.oob_score_}')"
   ]
  },
  {
   "cell_type": "code",
   "execution_count": 12,
   "id": "e7e40f47",
   "metadata": {
    "ExecuteTime": {
     "end_time": "2022-07-01T12:54:01.240000Z",
     "start_time": "2022-07-01T12:54:01.220136Z"
    }
   },
   "outputs": [
    {
     "name": "stdout",
     "output_type": "stream",
     "text": [
      "('temp_highest', 0.5322309626586224)\n",
      "('year', 0.12294065387876452)\n",
      "('precipitation', 0.10075859565327158)\n",
      "('humidity', 0.06813271619735152)\n",
      "('temp_mean', 0.047766880332681366)\n",
      "('sunshine_rate', 0.03649684120954235)\n",
      "('temp_lowest', 0.01980265613211493)\n",
      "('sunshine_sum', 0.019625495341337888)\n",
      "('month', 0.014715043402780917)\n",
      "('PM10', 0.01016343683441076)\n",
      "('PM2.5', 0.008615190492803602)\n",
      "('day', 0.007567235420294856)\n",
      "('wind_max', 0.006165331680895891)\n",
      "('wind_mean', 0.005018960765127282)\n"
     ]
    }
   ],
   "source": [
    "print(*sorted(zip(train_df.iloc[:,1:-1].columns ,rf.feature_importances_), key=lambda x : x[1], reverse=True), sep='\\n')"
   ]
  }
 ],
 "metadata": {
  "kernelspec": {
   "display_name": "Python 3 (ipykernel)",
   "language": "python",
   "name": "python3"
  },
  "language_info": {
   "codemirror_mode": {
    "name": "ipython",
    "version": 3
   },
   "file_extension": ".py",
   "mimetype": "text/x-python",
   "name": "python",
   "nbconvert_exporter": "python",
   "pygments_lexer": "ipython3",
   "version": "3.8.10"
  },
  "toc": {
   "base_numbering": 1,
   "nav_menu": {},
   "number_sections": true,
   "sideBar": true,
   "skip_h1_title": false,
   "title_cell": "Table of Contents",
   "title_sidebar": "Contents",
   "toc_cell": false,
   "toc_position": {},
   "toc_section_display": true,
   "toc_window_display": false
  },
  "varInspector": {
   "cols": {
    "lenName": 16,
    "lenType": 16,
    "lenVar": 40
   },
   "kernels_config": {
    "python": {
     "delete_cmd_postfix": "",
     "delete_cmd_prefix": "del ",
     "library": "var_list.py",
     "varRefreshCmd": "print(var_dic_list())"
    },
    "r": {
     "delete_cmd_postfix": ") ",
     "delete_cmd_prefix": "rm(",
     "library": "var_list.r",
     "varRefreshCmd": "cat(var_dic_list()) "
    }
   },
   "types_to_exclude": [
    "module",
    "function",
    "builtin_function_or_method",
    "instance",
    "_Feature"
   ],
   "window_display": false
  }
 },
 "nbformat": 4,
 "nbformat_minor": 5
}
