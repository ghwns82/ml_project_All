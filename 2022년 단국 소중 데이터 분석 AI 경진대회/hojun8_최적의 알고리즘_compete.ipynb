{
 "cells": [
  {
   "cell_type": "code",
   "execution_count": 1,
   "id": "a14211f8",
   "metadata": {
    "ExecuteTime": {
     "end_time": "2022-07-01T11:02:31.638775Z",
     "start_time": "2022-07-01T11:02:29.521244Z"
    }
   },
   "outputs": [],
   "source": [
    "from supervised.automl import BaseAutoML, AutoML"
   ]
  },
  {
   "cell_type": "code",
   "execution_count": 2,
   "id": "c685debb",
   "metadata": {
    "ExecuteTime": {
     "end_time": "2022-07-01T11:02:31.703565Z",
     "start_time": "2022-07-01T11:02:31.639963Z"
    }
   },
   "outputs": [],
   "source": [
    "from prophet import Prophet\n",
    "\n",
    "import pandas as pd\n",
    "\n",
    "from sklearn.ensemble import RandomForestRegressor\n",
    "from sklearn.model_selection import train_test_split\n",
    "from sklearn.metrics import r2_score\n",
    "\n",
    "import random\n",
    "from copy import deepcopy\n",
    "import math"
   ]
  },
  {
   "cell_type": "code",
   "execution_count": 3,
   "id": "a25ae7ce",
   "metadata": {
    "ExecuteTime": {
     "end_time": "2022-07-01T11:02:31.734600Z",
     "start_time": "2022-07-01T11:02:31.706546Z"
    }
   },
   "outputs": [],
   "source": [
    "train_df=pd.read_csv('./data/train.csv')\n",
    "test_df=pd.read_csv('./data/test.csv')"
   ]
  },
  {
   "cell_type": "code",
   "execution_count": 4,
   "id": "1e99c09d",
   "metadata": {
    "ExecuteTime": {
     "end_time": "2022-07-01T11:02:35.467964Z",
     "start_time": "2022-07-01T11:02:31.735474Z"
    }
   },
   "outputs": [
    {
     "name": "stdout",
     "output_type": "stream",
     "text": [
      "Initial log joint probability = -73.9282\n",
      "    Iter      log prob        ||dx||      ||grad||       alpha      alpha0  # evals  Notes \n",
      "      99       1699.14   5.17586e-06       69.4858      0.7698      0.7698      133   \n",
      "    Iter      log prob        ||dx||      ||grad||       alpha      alpha0  # evals  Notes \n",
      "     110       1699.17   0.000410967       93.1272   3.446e-06       0.001      181  LS failed, Hessian reset \n",
      "     150       1699.19   3.83621e-05       77.7678   4.552e-07       0.001      266  LS failed, Hessian reset \n",
      "     177       1699.19    1.5188e-07       69.0376      0.2292           1      304   \n",
      "Optimization terminated normally: \n",
      "  Convergence detected: relative gradient magnitude is below tolerance\n"
     ]
    }
   ],
   "source": [
    "df=train_df[['date','rental']].copy()\n",
    "df.columns=['ds','y']\n",
    "m = Prophet()\n",
    "m.daily_seasonality=True\n",
    "m.weekly_seasonality=True\n",
    "m.yearly_seasonality=True\n",
    "m.fit(df)\n",
    "future=m.make_future_dataframe(365)\n",
    "forecast = m.predict(future)"
   ]
  },
  {
   "cell_type": "code",
   "execution_count": 5,
   "id": "99fbfb0d",
   "metadata": {
    "ExecuteTime": {
     "end_time": "2022-07-01T11:02:35.472279Z",
     "start_time": "2022-07-01T11:02:35.468951Z"
    }
   },
   "outputs": [],
   "source": [
    "train_df['rental']=train_df['rental']/forecast[:-365]['trend']"
   ]
  },
  {
   "cell_type": "code",
   "execution_count": 6,
   "id": "9b3425fc",
   "metadata": {
    "ExecuteTime": {
     "end_time": "2022-07-01T11:02:35.483374Z",
     "start_time": "2022-07-01T11:02:35.474038Z"
    }
   },
   "outputs": [],
   "source": [
    "train_df['date']=pd.to_datetime(train_df['date'])\n",
    "train_df['year']=train_df['date'].dt.year\n",
    "train_df['month']=train_df['date'].dt.month\n",
    "train_df['day']=train_df['date'].dt.day\n",
    "train_df = train_df[['date', 'precipitation', 'temp_mean', 'temp_highest', 'temp_lowest',\n",
    "       'PM10', 'PM2.5', 'humidity', 'sunshine_sum', 'sunshine_rate',\n",
    "       'wind_mean', 'wind_max', 'year', 'month', 'day', 'rental']]"
   ]
  },
  {
   "cell_type": "code",
   "execution_count": 7,
   "id": "c219ea49",
   "metadata": {
    "ExecuteTime": {
     "end_time": "2022-07-01T11:02:35.489953Z",
     "start_time": "2022-07-01T11:02:35.484980Z"
    }
   },
   "outputs": [],
   "source": [
    "# 옵션에 따라, 선택한 데이터프레임의 컬럼의 결측값을 채워주는 함수\n",
    "# option = 0, min, max, mean, median\n",
    "def cal(my_df, column_name, option):\n",
    "    df=my_df.copy()\n",
    "    df['date']=pd.to_datetime(df['date'])\n",
    "    df['month']=df['date'].dt.month\n",
    "    nn_df = df.iloc[df[column_name].dropna().index]\n",
    "    month_df_list=[nn_df[nn_df['month']==i] for i in range(1,13)]\n",
    "    \n",
    "    if option == 0:\n",
    "        replace_list=[0 for month_df in month_df_list]\n",
    "    elif option =='min':\n",
    "        replace_list=[month_df[column_name].min() for month_df in month_df_list]\n",
    "    elif option =='max':\n",
    "        replace_list=[month_df[column_name].max() for month_df in month_df_list]\n",
    "    elif option == 'mean':\n",
    "        replace_list=[month_df[column_name].mean() for month_df in month_df_list]\n",
    "    elif option == 'median':\n",
    "        replace_list=[month_df[column_name].median() for month_df in month_df_list]\n",
    "    \n",
    "    replace_list = ['']+ replace_list\n",
    "    \n",
    "    result=[]\n",
    "    for i in range(my_df.shape[0]):\n",
    "        n=my_df.iloc[i][column_name]\n",
    "        if math.isnan(n):\n",
    "            result.append(replace_list[df.loc[i]['month']])\n",
    "        else:\n",
    "            result.append(n)\n",
    "    my_df[column_name] = result"
   ]
  },
  {
   "cell_type": "code",
   "execution_count": 8,
   "id": "baf6814c",
   "metadata": {
    "ExecuteTime": {
     "end_time": "2022-07-01T11:02:36.000306Z",
     "start_time": "2022-07-01T11:02:35.491849Z"
    }
   },
   "outputs": [],
   "source": [
    "null_feature = ['precipitation','PM10','PM2.5','sunshine_sum']\n",
    "best_option_group = ['min' , 'max' , 'median' , 'min']\n",
    "for column_name, option in zip(null_feature, best_option_group):\n",
    "    cal(train_df, column_name, option)"
   ]
  },
  {
   "cell_type": "code",
   "execution_count": 9,
   "id": "a2f3cda7",
   "metadata": {
    "ExecuteTime": {
     "end_time": "2022-07-01T11:02:36.009912Z",
     "start_time": "2022-07-01T11:02:36.002806Z"
    }
   },
   "outputs": [
    {
     "data": {
      "text/plain": [
       "[0, 60, 56, 4, 20, 100, 90, 94, 30, 62]"
      ]
     },
     "execution_count": 9,
     "metadata": {},
     "output_type": "execute_result"
    }
   ],
   "source": [
    "random_state_list=[random.randint(0, 100) for _ in range(10)]\n",
    "random_state_list"
   ]
  },
  {
   "cell_type": "code",
   "execution_count": 10,
   "id": "5ba2f42a",
   "metadata": {
    "ExecuteTime": {
     "end_time": "2022-07-01T11:02:36.018365Z",
     "start_time": "2022-07-01T11:02:36.011939Z"
    }
   },
   "outputs": [],
   "source": [
    "X,y = train_df.iloc[:,1:-1].to_numpy(), train_df.iloc[:,-1].to_numpy()\n",
    "X_train, X_test, y_train, y_test = train_test_split(X,y , test_size=0.2, random_state=123456)"
   ]
  },
  {
   "cell_type": "code",
   "execution_count": 11,
   "id": "b6a637b0",
   "metadata": {
    "ExecuteTime": {
     "end_time": "2022-07-01T11:24:06.789614Z",
     "start_time": "2022-07-01T11:02:36.019582Z"
    }
   },
   "outputs": [
    {
     "name": "stdout",
     "output_type": "stream",
     "text": [
      "AutoML directory: ./hojun8_compete\n",
      "The task is regression with evaluation metric rmse\n",
      "AutoML will use algorithms: ['Decision Tree', 'Linear', 'Random Forest', 'Extra Trees', 'LightGBM', 'Xgboost', 'CatBoost', 'Neural Network', 'Nearest Neighbors']\n",
      "AutoML will stack models\n",
      "AutoML will ensemble available models\n",
      "AutoML steps: ['adjust_validation', 'simple_algorithms', 'default_algorithms', 'not_so_random', 'golden_features', 'kmeans_features', 'insert_random_feature', 'features_selection', 'hill_climbing_1', 'hill_climbing_2', 'boost_on_errors', 'ensemble', 'stack', 'ensemble_stacked']\n",
      "* Step adjust_validation will try to check up to 1 model\n",
      "1_DecisionTree rmse 0.457712 trained in 0.2 seconds\n",
      "Adjust validation. Remove: 1_DecisionTree\n",
      "Validation strategy: 10-fold CV Shuffle\n",
      "* Step simple_algorithms will try to check up to 4 models\n",
      "1_DecisionTree rmse 0.405359 trained in 1.0 seconds\n",
      "2_DecisionTree rmse 0.369951 trained in 0.89 seconds\n",
      "3_DecisionTree rmse 0.369951 trained in 0.94 seconds\n",
      "4_Linear rmse 0.411535 trained in 1.61 seconds\n",
      "* Step default_algorithms will try to check up to 7 models\n",
      "5_Default_LightGBM rmse 0.219083 trained in 4.84 seconds\n",
      "6_Default_Xgboost rmse 0.223117 trained in 17.76 seconds\n",
      "7_Default_CatBoost rmse 0.219178 trained in 3.37 seconds\n",
      "8_Default_NeuralNetwork rmse 0.262778 trained in 2.38 seconds\n",
      "9_Default_RandomForest rmse 0.304392 trained in 4.29 seconds\n",
      "10_Default_ExtraTrees rmse 0.320739 trained in 4.27 seconds\n",
      "11_Default_NearestNeighbors rmse 0.319304 trained in 1.86 seconds\n",
      "* Step not_so_random will try to check up to 61 models\n",
      "21_LightGBM rmse 0.234175 trained in 11.02 seconds\n",
      "12_Xgboost rmse 0.231515 trained in 250.93 seconds\n",
      "30_CatBoost rmse 0.217573 trained in 11.65 seconds\n",
      "39_RandomForest rmse 0.304885 trained in 4.64 seconds\n",
      "48_ExtraTrees rmse 0.359347 trained in 4.49 seconds\n",
      "57_NeuralNetwork rmse 0.271739 trained in 3.06 seconds\n",
      "66_NearestNeighbors rmse 0.310498 trained in 2.08 seconds\n",
      "22_LightGBM rmse 0.247451 trained in 3.66 seconds\n",
      "13_Xgboost rmse 0.243566 trained in 14.41 seconds\n",
      "31_CatBoost rmse 0.227277 trained in 6.78 seconds\n",
      "40_RandomForest rmse 0.350987 trained in 6.53 seconds\n",
      "49_ExtraTrees rmse 0.389118 trained in 4.49 seconds\n",
      "58_NeuralNetwork rmse 0.269345 trained in 3.55 seconds\n",
      "67_NearestNeighbors rmse 0.303765 trained in 2.59 seconds\n",
      "23_LightGBM rmse 0.219041 trained in 3.61 seconds\n",
      "14_Xgboost rmse 0.224479 trained in 13.83 seconds\n",
      "32_CatBoost rmse 0.217329 trained in 4.71 seconds\n",
      "41_RandomForest rmse 0.272264 trained in 7.63 seconds\n",
      "50_ExtraTrees rmse 0.272151 trained in 5.86 seconds\n",
      "59_NeuralNetwork rmse 0.269463 trained in 5.32 seconds\n",
      "68_NearestNeighbors rmse 0.303765 trained in 2.93 seconds\n",
      "24_LightGBM rmse 0.219019 trained in 5.06 seconds\n",
      "15_Xgboost rmse 0.255927 trained in 12.83 seconds\n",
      "33_CatBoost rmse 0.245448 trained in 5.05 seconds\n",
      "42_RandomForest rmse 0.277018 trained in 5.67 seconds\n",
      "51_ExtraTrees rmse 0.297084 trained in 6.39 seconds\n",
      "60_NeuralNetwork rmse 0.269039 trained in 4.15 seconds\n",
      "69_NearestNeighbors rmse 0.310498 trained in 3.25 seconds\n",
      "25_LightGBM rmse 0.233395 trained in 3.69 seconds\n",
      "16_Xgboost rmse 0.238829 trained in 16.94 seconds\n",
      "34_CatBoost rmse 0.223404 trained in 5.01 seconds\n",
      "43_RandomForest rmse 0.254361 trained in 7.52 seconds\n",
      "52_ExtraTrees rmse 0.267839 trained in 7.35 seconds\n",
      "61_NeuralNetwork rmse 0.257662 trained in 4.73 seconds\n",
      "70_NearestNeighbors rmse 0.327692 trained in 3.63 seconds\n",
      "26_LightGBM rmse 0.219627 trained in 4.87 seconds\n",
      "17_Xgboost rmse 0.227182 trained in 16.42 seconds\n",
      "35_CatBoost rmse 0.234365 trained in 5.04 seconds\n",
      "44_RandomForest rmse 0.266962 trained in 7.01 seconds\n",
      "53_ExtraTrees rmse 0.26379 trained in 6.34 seconds\n",
      "62_NeuralNetwork rmse 0.26404 trained in 5.2 seconds\n",
      "71_NearestNeighbors rmse 0.310498 trained in 4.03 seconds\n",
      "27_LightGBM rmse 0.220318 trained in 5.04 seconds\n",
      "18_Xgboost rmse 0.221451 trained in 25.29 seconds\n",
      "36_CatBoost rmse 0.224638 trained in 14.43 seconds\n",
      "45_RandomForest rmse 0.310651 trained in 7.43 seconds\n",
      "54_ExtraTrees rmse 0.333 trained in 6.27 seconds\n",
      "63_NeuralNetwork rmse 0.273273 trained in 5.51 seconds\n",
      "72_NearestNeighbors rmse 0.323245 trained in 4.77 seconds\n",
      "28_LightGBM rmse 0.224789 trained in 6.01 seconds\n",
      "19_Xgboost rmse 0.235881 trained in 16.97 seconds\n",
      "37_CatBoost rmse 0.227387 trained in 6.94 seconds\n",
      "46_RandomForest rmse 0.305585 trained in 7.63 seconds\n",
      "55_ExtraTrees rmse 0.34921 trained in 7.42 seconds\n",
      "64_NeuralNetwork rmse 0.381849 trained in 5.7 seconds\n",
      "29_LightGBM rmse 0.222123 trained in 6.56 seconds\n"
     ]
    },
    {
     "ename": "KeyboardInterrupt",
     "evalue": "",
     "output_type": "error",
     "traceback": [
      "\u001b[0;31m---------------------------------------------------------------------------\u001b[0m",
      "\u001b[0;31mKeyboardInterrupt\u001b[0m                         Traceback (most recent call last)",
      "\u001b[0;32m/tmp/ipykernel_18956/1132266916.py\u001b[0m in \u001b[0;36m<module>\u001b[0;34m\u001b[0m\n\u001b[1;32m      1\u001b[0m \u001b[0mautoml\u001b[0m \u001b[0;34m=\u001b[0m \u001b[0mAutoML\u001b[0m\u001b[0;34m(\u001b[0m\u001b[0mmode\u001b[0m\u001b[0;34m=\u001b[0m\u001b[0;34m\"Compete\"\u001b[0m\u001b[0;34m,\u001b[0m \u001b[0mn_jobs\u001b[0m\u001b[0;34m=\u001b[0m\u001b[0;34m-\u001b[0m\u001b[0;36m1\u001b[0m\u001b[0;34m,\u001b[0m \u001b[0mresults_path\u001b[0m\u001b[0;34m=\u001b[0m\u001b[0;34m'./hojun8_compete'\u001b[0m\u001b[0;34m)\u001b[0m\u001b[0;34m\u001b[0m\u001b[0;34m\u001b[0m\u001b[0m\n\u001b[0;32m----> 2\u001b[0;31m \u001b[0mautoml\u001b[0m\u001b[0;34m.\u001b[0m\u001b[0mfit\u001b[0m\u001b[0;34m(\u001b[0m\u001b[0mX_train\u001b[0m\u001b[0;34m,\u001b[0m \u001b[0my_train\u001b[0m\u001b[0;34m)\u001b[0m\u001b[0;34m\u001b[0m\u001b[0;34m\u001b[0m\u001b[0m\n\u001b[0m",
      "\u001b[0;32m~/.local/lib/python3.8/site-packages/supervised/automl.py\u001b[0m in \u001b[0;36mfit\u001b[0;34m(self, X, y, sample_weight, cv)\u001b[0m\n\u001b[1;32m    366\u001b[0m             \u001b[0mAutoML\u001b[0m \u001b[0mobject\u001b[0m\u001b[0;34m:\u001b[0m \u001b[0mReturns\u001b[0m\u001b[0;31m \u001b[0m\u001b[0;31m`\u001b[0m\u001b[0mself\u001b[0m\u001b[0;31m`\u001b[0m\u001b[0;34m\u001b[0m\u001b[0;34m\u001b[0m\u001b[0m\n\u001b[1;32m    367\u001b[0m         \"\"\"\n\u001b[0;32m--> 368\u001b[0;31m         \u001b[0;32mreturn\u001b[0m \u001b[0mself\u001b[0m\u001b[0;34m.\u001b[0m\u001b[0m_fit\u001b[0m\u001b[0;34m(\u001b[0m\u001b[0mX\u001b[0m\u001b[0;34m,\u001b[0m \u001b[0my\u001b[0m\u001b[0;34m,\u001b[0m \u001b[0msample_weight\u001b[0m\u001b[0;34m,\u001b[0m \u001b[0mcv\u001b[0m\u001b[0;34m)\u001b[0m\u001b[0;34m\u001b[0m\u001b[0;34m\u001b[0m\u001b[0m\n\u001b[0m\u001b[1;32m    369\u001b[0m \u001b[0;34m\u001b[0m\u001b[0m\n\u001b[1;32m    370\u001b[0m     \u001b[0;32mdef\u001b[0m \u001b[0mpredict\u001b[0m\u001b[0;34m(\u001b[0m\u001b[0mself\u001b[0m\u001b[0;34m,\u001b[0m \u001b[0mX\u001b[0m\u001b[0;34m:\u001b[0m \u001b[0mUnion\u001b[0m\u001b[0;34m[\u001b[0m\u001b[0mList\u001b[0m\u001b[0;34m,\u001b[0m \u001b[0mnumpy\u001b[0m\u001b[0;34m.\u001b[0m\u001b[0mndarray\u001b[0m\u001b[0;34m,\u001b[0m \u001b[0mpandas\u001b[0m\u001b[0;34m.\u001b[0m\u001b[0mDataFrame\u001b[0m\u001b[0;34m]\u001b[0m\u001b[0;34m)\u001b[0m \u001b[0;34m->\u001b[0m \u001b[0mnumpy\u001b[0m\u001b[0;34m.\u001b[0m\u001b[0mndarray\u001b[0m\u001b[0;34m:\u001b[0m\u001b[0;34m\u001b[0m\u001b[0;34m\u001b[0m\u001b[0m\n",
      "\u001b[0;32m~/.local/lib/python3.8/site-packages/supervised/base_automl.py\u001b[0m in \u001b[0;36m_fit\u001b[0;34m(self, X, y, sample_weight, cv)\u001b[0m\n\u001b[1;32m   1085\u001b[0m                             )\n\u001b[1;32m   1086\u001b[0m                         \u001b[0;32melse\u001b[0m\u001b[0;34m:\u001b[0m\u001b[0;34m\u001b[0m\u001b[0;34m\u001b[0m\u001b[0m\n\u001b[0;32m-> 1087\u001b[0;31m                             \u001b[0mtrained\u001b[0m \u001b[0;34m=\u001b[0m \u001b[0mself\u001b[0m\u001b[0;34m.\u001b[0m\u001b[0mtrain_model\u001b[0m\u001b[0;34m(\u001b[0m\u001b[0mparams\u001b[0m\u001b[0;34m)\u001b[0m\u001b[0;34m\u001b[0m\u001b[0;34m\u001b[0m\u001b[0m\n\u001b[0m\u001b[1;32m   1088\u001b[0m                         \u001b[0mparams\u001b[0m\u001b[0;34m[\u001b[0m\u001b[0;34m\"status\"\u001b[0m\u001b[0;34m]\u001b[0m \u001b[0;34m=\u001b[0m \u001b[0;34m\"trained\"\u001b[0m \u001b[0;32mif\u001b[0m \u001b[0mtrained\u001b[0m \u001b[0;32melse\u001b[0m \u001b[0;34m\"skipped\"\u001b[0m\u001b[0;34m\u001b[0m\u001b[0;34m\u001b[0m\u001b[0m\n\u001b[1;32m   1089\u001b[0m                         \u001b[0mparams\u001b[0m\u001b[0;34m[\u001b[0m\u001b[0;34m\"final_loss\"\u001b[0m\u001b[0;34m]\u001b[0m \u001b[0;34m=\u001b[0m \u001b[0mself\u001b[0m\u001b[0;34m.\u001b[0m\u001b[0m_models\u001b[0m\u001b[0;34m[\u001b[0m\u001b[0;34m-\u001b[0m\u001b[0;36m1\u001b[0m\u001b[0;34m]\u001b[0m\u001b[0;34m.\u001b[0m\u001b[0mget_final_loss\u001b[0m\u001b[0;34m(\u001b[0m\u001b[0;34m)\u001b[0m\u001b[0;34m\u001b[0m\u001b[0;34m\u001b[0m\u001b[0m\n",
      "\u001b[0;32m~/.local/lib/python3.8/site-packages/supervised/base_automl.py\u001b[0m in \u001b[0;36mtrain_model\u001b[0;34m(self, params)\u001b[0m\n\u001b[1;32m    370\u001b[0m             \u001b[0;34mf\"Train model #{len(self._models)+1} / Model name: {params['name']}\"\u001b[0m\u001b[0;34m\u001b[0m\u001b[0;34m\u001b[0m\u001b[0m\n\u001b[1;32m    371\u001b[0m         )\n\u001b[0;32m--> 372\u001b[0;31m         \u001b[0mmf\u001b[0m\u001b[0;34m.\u001b[0m\u001b[0mtrain\u001b[0m\u001b[0;34m(\u001b[0m\u001b[0mresults_path\u001b[0m\u001b[0;34m,\u001b[0m \u001b[0mmodel_subpath\u001b[0m\u001b[0;34m)\u001b[0m\u001b[0;34m\u001b[0m\u001b[0;34m\u001b[0m\u001b[0m\n\u001b[0m\u001b[1;32m    373\u001b[0m \u001b[0;34m\u001b[0m\u001b[0m\n\u001b[1;32m    374\u001b[0m         \u001b[0;31m# keep info about the model\u001b[0m\u001b[0;34m\u001b[0m\u001b[0;34m\u001b[0m\u001b[0;34m\u001b[0m\u001b[0m\n",
      "\u001b[0;32m~/.local/lib/python3.8/site-packages/supervised/model_framework.py\u001b[0m in \u001b[0;36mtrain\u001b[0;34m(self, results_path, model_subpath)\u001b[0m\n\u001b[1;32m    231\u001b[0m                     \u001b[0mself\u001b[0m\u001b[0;34m.\u001b[0m\u001b[0mcallbacks\u001b[0m\u001b[0;34m.\u001b[0m\u001b[0mon_iteration_start\u001b[0m\u001b[0;34m(\u001b[0m\u001b[0;34m)\u001b[0m\u001b[0;34m\u001b[0m\u001b[0;34m\u001b[0m\u001b[0m\n\u001b[1;32m    232\u001b[0m \u001b[0;34m\u001b[0m\u001b[0m\n\u001b[0;32m--> 233\u001b[0;31m                     learner.fit(\n\u001b[0m\u001b[1;32m    234\u001b[0m                         \u001b[0mX_train\u001b[0m\u001b[0;34m,\u001b[0m\u001b[0;34m\u001b[0m\u001b[0;34m\u001b[0m\u001b[0m\n\u001b[1;32m    235\u001b[0m                         \u001b[0my_train\u001b[0m\u001b[0;34m,\u001b[0m\u001b[0;34m\u001b[0m\u001b[0;34m\u001b[0m\u001b[0m\n",
      "\u001b[0;32m~/.local/lib/python3.8/site-packages/supervised/algorithms/xgboost.py\u001b[0m in \u001b[0;36mfit\u001b[0;34m(self, X, y, sample_weight, X_validation, y_validation, sample_weight_validation, log_to_file, max_time)\u001b[0m\n\u001b[1;32m    198\u001b[0m             \u001b[0;32mdel\u001b[0m \u001b[0mself\u001b[0m\u001b[0;34m.\u001b[0m\u001b[0mlearner_params\u001b[0m\u001b[0;34m[\u001b[0m\u001b[0;34m\"eval_metric\"\u001b[0m\u001b[0;34m]\u001b[0m\u001b[0;34m\u001b[0m\u001b[0;34m\u001b[0m\u001b[0m\n\u001b[1;32m    199\u001b[0m \u001b[0;34m\u001b[0m\u001b[0m\n\u001b[0;32m--> 200\u001b[0;31m         self.model = xgb.train(\n\u001b[0m\u001b[1;32m    201\u001b[0m             \u001b[0mself\u001b[0m\u001b[0;34m.\u001b[0m\u001b[0mlearner_params\u001b[0m\u001b[0;34m,\u001b[0m\u001b[0;34m\u001b[0m\u001b[0;34m\u001b[0m\u001b[0m\n\u001b[1;32m    202\u001b[0m             \u001b[0mdtrain\u001b[0m\u001b[0;34m,\u001b[0m\u001b[0;34m\u001b[0m\u001b[0;34m\u001b[0m\u001b[0m\n",
      "\u001b[0;32m~/.local/lib/python3.8/site-packages/xgboost/core.py\u001b[0m in \u001b[0;36minner_f\u001b[0;34m(*args, **kwargs)\u001b[0m\n\u001b[1;32m    530\u001b[0m         \u001b[0;32mfor\u001b[0m \u001b[0mk\u001b[0m\u001b[0;34m,\u001b[0m \u001b[0marg\u001b[0m \u001b[0;32min\u001b[0m \u001b[0mzip\u001b[0m\u001b[0;34m(\u001b[0m\u001b[0msig\u001b[0m\u001b[0;34m.\u001b[0m\u001b[0mparameters\u001b[0m\u001b[0;34m,\u001b[0m \u001b[0margs\u001b[0m\u001b[0;34m)\u001b[0m\u001b[0;34m:\u001b[0m\u001b[0;34m\u001b[0m\u001b[0;34m\u001b[0m\u001b[0m\n\u001b[1;32m    531\u001b[0m             \u001b[0mkwargs\u001b[0m\u001b[0;34m[\u001b[0m\u001b[0mk\u001b[0m\u001b[0;34m]\u001b[0m \u001b[0;34m=\u001b[0m \u001b[0marg\u001b[0m\u001b[0;34m\u001b[0m\u001b[0;34m\u001b[0m\u001b[0m\n\u001b[0;32m--> 532\u001b[0;31m         \u001b[0;32mreturn\u001b[0m \u001b[0mf\u001b[0m\u001b[0;34m(\u001b[0m\u001b[0;34m**\u001b[0m\u001b[0mkwargs\u001b[0m\u001b[0;34m)\u001b[0m\u001b[0;34m\u001b[0m\u001b[0;34m\u001b[0m\u001b[0m\n\u001b[0m\u001b[1;32m    533\u001b[0m \u001b[0;34m\u001b[0m\u001b[0m\n\u001b[1;32m    534\u001b[0m     \u001b[0;32mreturn\u001b[0m \u001b[0minner_f\u001b[0m\u001b[0;34m\u001b[0m\u001b[0;34m\u001b[0m\u001b[0m\n",
      "\u001b[0;32m~/.local/lib/python3.8/site-packages/xgboost/training.py\u001b[0m in \u001b[0;36mtrain\u001b[0;34m(params, dtrain, num_boost_round, evals, obj, feval, maximize, early_stopping_rounds, evals_result, verbose_eval, xgb_model, callbacks, custom_metric)\u001b[0m\n\u001b[1;32m    180\u001b[0m             \u001b[0;32mbreak\u001b[0m\u001b[0;34m\u001b[0m\u001b[0;34m\u001b[0m\u001b[0m\n\u001b[1;32m    181\u001b[0m         \u001b[0mbst\u001b[0m\u001b[0;34m.\u001b[0m\u001b[0mupdate\u001b[0m\u001b[0;34m(\u001b[0m\u001b[0mdtrain\u001b[0m\u001b[0;34m,\u001b[0m \u001b[0mi\u001b[0m\u001b[0;34m,\u001b[0m \u001b[0mobj\u001b[0m\u001b[0;34m)\u001b[0m\u001b[0;34m\u001b[0m\u001b[0;34m\u001b[0m\u001b[0m\n\u001b[0;32m--> 182\u001b[0;31m         \u001b[0;32mif\u001b[0m \u001b[0mcb_container\u001b[0m\u001b[0;34m.\u001b[0m\u001b[0mafter_iteration\u001b[0m\u001b[0;34m(\u001b[0m\u001b[0mbst\u001b[0m\u001b[0;34m,\u001b[0m \u001b[0mi\u001b[0m\u001b[0;34m,\u001b[0m \u001b[0mdtrain\u001b[0m\u001b[0;34m,\u001b[0m \u001b[0mevals\u001b[0m\u001b[0;34m)\u001b[0m\u001b[0;34m:\u001b[0m\u001b[0;34m\u001b[0m\u001b[0;34m\u001b[0m\u001b[0m\n\u001b[0m\u001b[1;32m    183\u001b[0m             \u001b[0;32mbreak\u001b[0m\u001b[0;34m\u001b[0m\u001b[0;34m\u001b[0m\u001b[0m\n\u001b[1;32m    184\u001b[0m \u001b[0;34m\u001b[0m\u001b[0m\n",
      "\u001b[0;32m~/.local/lib/python3.8/site-packages/xgboost/callback.py\u001b[0m in \u001b[0;36mafter_iteration\u001b[0;34m(self, model, epoch, dtrain, evals)\u001b[0m\n\u001b[1;32m    237\u001b[0m             \u001b[0;32mfor\u001b[0m \u001b[0m_\u001b[0m\u001b[0;34m,\u001b[0m \u001b[0mname\u001b[0m \u001b[0;32min\u001b[0m \u001b[0mevals\u001b[0m\u001b[0;34m:\u001b[0m\u001b[0;34m\u001b[0m\u001b[0;34m\u001b[0m\u001b[0m\n\u001b[1;32m    238\u001b[0m                 \u001b[0;32massert\u001b[0m \u001b[0mname\u001b[0m\u001b[0;34m.\u001b[0m\u001b[0mfind\u001b[0m\u001b[0;34m(\u001b[0m\u001b[0;34m'-'\u001b[0m\u001b[0;34m)\u001b[0m \u001b[0;34m==\u001b[0m \u001b[0;34m-\u001b[0m\u001b[0;36m1\u001b[0m\u001b[0;34m,\u001b[0m \u001b[0;34m'Dataset name should not contain `-`'\u001b[0m\u001b[0;34m\u001b[0m\u001b[0;34m\u001b[0m\u001b[0m\n\u001b[0;32m--> 239\u001b[0;31m             \u001b[0mscore\u001b[0m\u001b[0;34m:\u001b[0m \u001b[0mstr\u001b[0m \u001b[0;34m=\u001b[0m \u001b[0mmodel\u001b[0m\u001b[0;34m.\u001b[0m\u001b[0meval_set\u001b[0m\u001b[0;34m(\u001b[0m\u001b[0mevals\u001b[0m\u001b[0;34m,\u001b[0m \u001b[0mepoch\u001b[0m\u001b[0;34m,\u001b[0m \u001b[0mself\u001b[0m\u001b[0;34m.\u001b[0m\u001b[0mmetric\u001b[0m\u001b[0;34m,\u001b[0m \u001b[0mself\u001b[0m\u001b[0;34m.\u001b[0m\u001b[0m_output_margin\u001b[0m\u001b[0;34m)\u001b[0m\u001b[0;34m\u001b[0m\u001b[0;34m\u001b[0m\u001b[0m\n\u001b[0m\u001b[1;32m    240\u001b[0m             \u001b[0msplited\u001b[0m \u001b[0;34m=\u001b[0m \u001b[0mscore\u001b[0m\u001b[0;34m.\u001b[0m\u001b[0msplit\u001b[0m\u001b[0;34m(\u001b[0m\u001b[0;34m)\u001b[0m\u001b[0;34m[\u001b[0m\u001b[0;36m1\u001b[0m\u001b[0;34m:\u001b[0m\u001b[0;34m]\u001b[0m  \u001b[0;31m# into datasets\u001b[0m\u001b[0;34m\u001b[0m\u001b[0;34m\u001b[0m\u001b[0m\n\u001b[1;32m    241\u001b[0m             \u001b[0;31m# split up `test-error:0.1234`\u001b[0m\u001b[0;34m\u001b[0m\u001b[0;34m\u001b[0m\u001b[0;34m\u001b[0m\u001b[0m\n",
      "\u001b[0;32m~/.local/lib/python3.8/site-packages/xgboost/core.py\u001b[0m in \u001b[0;36meval_set\u001b[0;34m(self, evals, iteration, feval, output_margin)\u001b[0m\n\u001b[1;32m   1802\u001b[0m         \u001b[0mmsg\u001b[0m \u001b[0;34m=\u001b[0m \u001b[0mctypes\u001b[0m\u001b[0;34m.\u001b[0m\u001b[0mc_char_p\u001b[0m\u001b[0;34m(\u001b[0m\u001b[0;34m)\u001b[0m\u001b[0;34m\u001b[0m\u001b[0;34m\u001b[0m\u001b[0m\n\u001b[1;32m   1803\u001b[0m         _check_call(\n\u001b[0;32m-> 1804\u001b[0;31m             _LIB.XGBoosterEvalOneIter(\n\u001b[0m\u001b[1;32m   1805\u001b[0m                 \u001b[0mself\u001b[0m\u001b[0;34m.\u001b[0m\u001b[0mhandle\u001b[0m\u001b[0;34m,\u001b[0m\u001b[0;34m\u001b[0m\u001b[0;34m\u001b[0m\u001b[0m\n\u001b[1;32m   1806\u001b[0m                 \u001b[0mctypes\u001b[0m\u001b[0;34m.\u001b[0m\u001b[0mc_int\u001b[0m\u001b[0;34m(\u001b[0m\u001b[0miteration\u001b[0m\u001b[0;34m)\u001b[0m\u001b[0;34m,\u001b[0m\u001b[0;34m\u001b[0m\u001b[0;34m\u001b[0m\u001b[0m\n",
      "\u001b[0;31mKeyboardInterrupt\u001b[0m: "
     ]
    }
   ],
   "source": [
    "automl = AutoML(mode=\"Compete\", n_jobs=-1, results_path='./hojun8_compete')\n",
    "automl.fit(X_train, y_train)"
   ]
  },
  {
   "cell_type": "code",
   "execution_count": null,
   "id": "86beeaf9",
   "metadata": {
    "ExecuteTime": {
     "end_time": "2022-07-01T11:24:06.817808Z",
     "start_time": "2022-07-01T11:24:06.817796Z"
    }
   },
   "outputs": [],
   "source": [
    "model=AutoML(results_path=\"./hojun8_compete\")"
   ]
  },
  {
   "cell_type": "code",
   "execution_count": null,
   "id": "736bf412",
   "metadata": {
    "ExecuteTime": {
     "end_time": "2022-07-01T11:24:06.818321Z",
     "start_time": "2022-07-01T11:24:06.818310Z"
    }
   },
   "outputs": [],
   "source": [
    "r2_score(y_test, model.predict(X_test))"
   ]
  }
 ],
 "metadata": {
  "kernelspec": {
   "display_name": "Python 3 (ipykernel)",
   "language": "python",
   "name": "python3"
  },
  "language_info": {
   "codemirror_mode": {
    "name": "ipython",
    "version": 3
   },
   "file_extension": ".py",
   "mimetype": "text/x-python",
   "name": "python",
   "nbconvert_exporter": "python",
   "pygments_lexer": "ipython3",
   "version": "3.8.10"
  },
  "toc": {
   "base_numbering": 1,
   "nav_menu": {},
   "number_sections": true,
   "sideBar": true,
   "skip_h1_title": false,
   "title_cell": "Table of Contents",
   "title_sidebar": "Contents",
   "toc_cell": false,
   "toc_position": {},
   "toc_section_display": true,
   "toc_window_display": false
  },
  "varInspector": {
   "cols": {
    "lenName": 16,
    "lenType": 16,
    "lenVar": 40
   },
   "kernels_config": {
    "python": {
     "delete_cmd_postfix": "",
     "delete_cmd_prefix": "del ",
     "library": "var_list.py",
     "varRefreshCmd": "print(var_dic_list())"
    },
    "r": {
     "delete_cmd_postfix": ") ",
     "delete_cmd_prefix": "rm(",
     "library": "var_list.r",
     "varRefreshCmd": "cat(var_dic_list()) "
    }
   },
   "types_to_exclude": [
    "module",
    "function",
    "builtin_function_or_method",
    "instance",
    "_Feature"
   ],
   "window_display": false
  }
 },
 "nbformat": 4,
 "nbformat_minor": 5
}
