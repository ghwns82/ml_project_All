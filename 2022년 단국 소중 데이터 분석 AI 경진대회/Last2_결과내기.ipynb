{
 "cells": [
  {
   "cell_type": "code",
   "execution_count": 1,
   "id": "5de56f7f",
   "metadata": {
    "ExecuteTime": {
     "end_time": "2022-07-01T11:14:21.276140Z",
     "start_time": "2022-07-01T11:14:19.179208Z"
    }
   },
   "outputs": [],
   "source": [
    "from supervised.automl import BaseAutoML, AutoML\n",
    "\n",
    "from prophet import Prophet\n",
    "\n",
    "import pandas as pd\n",
    "\n",
    "import math"
   ]
  },
  {
   "cell_type": "code",
   "execution_count": 2,
   "id": "b197c8bb",
   "metadata": {
    "ExecuteTime": {
     "end_time": "2022-07-01T11:14:21.290818Z",
     "start_time": "2022-07-01T11:14:21.281119Z"
    }
   },
   "outputs": [],
   "source": [
    "train_df=pd.read_csv('./data/train.csv')\n",
    "test_df=pd.read_csv('./data/test.csv')"
   ]
  },
  {
   "cell_type": "code",
   "execution_count": 3,
   "id": "b45bfaee",
   "metadata": {
    "ExecuteTime": {
     "end_time": "2022-07-01T11:14:25.014482Z",
     "start_time": "2022-07-01T11:14:21.310778Z"
    }
   },
   "outputs": [
    {
     "name": "stdout",
     "output_type": "stream",
     "text": [
      "Initial log joint probability = -73.9282\n",
      "    Iter      log prob        ||dx||      ||grad||       alpha      alpha0  # evals  Notes \n",
      "      99       1699.14   5.17586e-06       69.4858      0.7698      0.7698      133   \n",
      "    Iter      log prob        ||dx||      ||grad||       alpha      alpha0  # evals  Notes \n",
      "     110       1699.17   0.000410967       93.1272   3.446e-06       0.001      181  LS failed, Hessian reset \n",
      "     150       1699.19   3.83621e-05       77.7678   4.552e-07       0.001      266  LS failed, Hessian reset \n",
      "     177       1699.19    1.5188e-07       69.0376      0.2292           1      304   \n",
      "Optimization terminated normally: \n",
      "  Convergence detected: relative gradient magnitude is below tolerance\n"
     ]
    }
   ],
   "source": [
    "df=train_df[['date','rental']].copy()\n",
    "df.columns=['ds','y']\n",
    "m = Prophet()\n",
    "m.daily_seasonality=True\n",
    "m.weekly_seasonality=True\n",
    "m.yearly_seasonality=True\n",
    "m.fit(df)\n",
    "future=m.make_future_dataframe(365)\n",
    "forecast = m.predict(future)"
   ]
  },
  {
   "cell_type": "code",
   "execution_count": 4,
   "id": "1d0b6ce7",
   "metadata": {
    "ExecuteTime": {
     "end_time": "2022-07-01T11:14:25.047603Z",
     "start_time": "2022-07-01T11:14:25.044137Z"
    }
   },
   "outputs": [],
   "source": [
    "train_df['rental']=train_df['rental']/forecast[:-365]['trend']"
   ]
  },
  {
   "cell_type": "code",
   "execution_count": 5,
   "id": "97d5b760",
   "metadata": {
    "ExecuteTime": {
     "end_time": "2022-07-01T11:14:25.095477Z",
     "start_time": "2022-07-01T11:14:25.085980Z"
    }
   },
   "outputs": [],
   "source": [
    "train_df['date']=pd.to_datetime(train_df['date'])\n",
    "train_df['year']=train_df['date'].dt.year\n",
    "train_df['month']=train_df['date'].dt.month\n",
    "train_df['day']=train_df['date'].dt.day\n",
    "train_df = train_df[['date', 'precipitation', 'temp_mean', 'temp_highest', 'temp_lowest',\n",
    "       'PM10', 'PM2.5', 'humidity', 'sunshine_sum', 'sunshine_rate',\n",
    "       'wind_mean', 'wind_max', 'year', 'month', 'day', 'rental']]"
   ]
  },
  {
   "cell_type": "code",
   "execution_count": 6,
   "id": "6c0100c2",
   "metadata": {
    "ExecuteTime": {
     "end_time": "2022-07-01T11:14:25.156845Z",
     "start_time": "2022-07-01T11:14:25.151552Z"
    }
   },
   "outputs": [],
   "source": [
    "test_df['date']=pd.to_datetime(test_df['date'])\n",
    "test_df['year']=test_df['date'].dt.year\n",
    "test_df['month']=test_df['date'].dt.month\n",
    "test_df['day']=test_df['date'].dt.day"
   ]
  },
  {
   "cell_type": "code",
   "execution_count": 7,
   "id": "137599e8",
   "metadata": {
    "ExecuteTime": {
     "end_time": "2022-07-01T11:14:25.192084Z",
     "start_time": "2022-07-01T11:14:25.187430Z"
    }
   },
   "outputs": [],
   "source": [
    "# 옵션에 따라, 선택한 데이터프레임의 컬럼의 결측값을 채워주는 함수\n",
    "# option = 0, min, max, mean, median\n",
    "def cal(my_df, column_name, option):\n",
    "    df=my_df.copy()\n",
    "    df['date']=pd.to_datetime(df['date'])\n",
    "    df['month']=df['date'].dt.month\n",
    "    nn_df = df.iloc[df[column_name].dropna().index]\n",
    "    month_df_list=[nn_df[nn_df['month']==i] for i in range(1,13)]\n",
    "    \n",
    "    if option == 0:\n",
    "        replace_list=[0 for month_df in month_df_list]\n",
    "    elif option =='min':\n",
    "        replace_list=[month_df[column_name].min() for month_df in month_df_list]\n",
    "    elif option =='max':\n",
    "        replace_list=[month_df[column_name].max() for month_df in month_df_list]\n",
    "    elif option == 'mean':\n",
    "        replace_list=[month_df[column_name].mean() for month_df in month_df_list]\n",
    "    elif option == 'median':\n",
    "        replace_list=[month_df[column_name].median() for month_df in month_df_list]\n",
    "    \n",
    "    replace_list = ['']+ replace_list\n",
    "    \n",
    "    result=[]\n",
    "    for i in range(my_df.shape[0]):\n",
    "        n=my_df.iloc[i][column_name]\n",
    "        if math.isnan(n):\n",
    "            result.append(replace_list[df.loc[i]['month']])\n",
    "        else:\n",
    "            result.append(n)\n",
    "    my_df[column_name] = result"
   ]
  },
  {
   "cell_type": "code",
   "execution_count": 8,
   "id": "aff597a6",
   "metadata": {
    "ExecuteTime": {
     "end_time": "2022-07-01T11:14:25.944952Z",
     "start_time": "2022-07-01T11:14:25.223098Z"
    }
   },
   "outputs": [],
   "source": [
    "null_feature = ['precipitation','PM10','PM2.5','sunshine_sum']\n",
    "best_option_group = ['min' , 'max' , 'median' , 'min']\n",
    "for column_name, option in zip(null_feature, best_option_group):\n",
    "    cal(train_df, column_name, option)\n",
    "for column_name, option in zip(null_feature, best_option_group):\n",
    "    cal(test_df, column_name, option)"
   ]
  },
  {
   "cell_type": "code",
   "execution_count": 9,
   "id": "2f7492ff",
   "metadata": {
    "ExecuteTime": {
     "end_time": "2022-07-01T11:14:25.978281Z",
     "start_time": "2022-07-01T11:14:25.974795Z"
    }
   },
   "outputs": [],
   "source": [
    "X_train, y_train = train_df.iloc[:,1:-1].to_numpy(), train_df.iloc[:,-1].to_numpy()\n",
    "X_test = test_df.iloc[:,1:].to_numpy()"
   ]
  },
  {
   "cell_type": "code",
   "execution_count": 10,
   "id": "f3228765",
   "metadata": {
    "ExecuteTime": {
     "end_time": "2022-07-01T12:08:33.588307Z",
     "start_time": "2022-07-01T11:14:35.592739Z"
    },
    "scrolled": false
   },
   "outputs": [
    {
     "name": "stdout",
     "output_type": "stream",
     "text": [
      "AutoML directory: ./결과내기_compete\n",
      "The task is regression with evaluation metric rmse\n",
      "AutoML will use algorithms: ['Decision Tree', 'Linear', 'Random Forest', 'Extra Trees', 'LightGBM', 'Xgboost', 'CatBoost', 'Neural Network', 'Nearest Neighbors']\n",
      "AutoML will stack models\n",
      "AutoML will ensemble available models\n",
      "AutoML steps: ['adjust_validation', 'simple_algorithms', 'default_algorithms', 'not_so_random', 'golden_features', 'kmeans_features', 'insert_random_feature', 'features_selection', 'hill_climbing_1', 'hill_climbing_2', 'boost_on_errors', 'ensemble', 'stack', 'ensemble_stacked']\n",
      "* Step adjust_validation will try to check up to 1 model\n",
      "1_DecisionTree rmse 0.452035 trained in 0.28 seconds\n",
      "Adjust validation. Remove: 1_DecisionTree\n",
      "Validation strategy: 10-fold CV Shuffle\n",
      "* Step simple_algorithms will try to check up to 4 models\n",
      "1_DecisionTree rmse 0.405521 trained in 1.26 seconds\n",
      "2_DecisionTree rmse 0.364658 trained in 1.09 seconds\n",
      "3_DecisionTree rmse 0.364705 trained in 1.34 seconds\n",
      "4_Linear rmse 0.413994 trained in 2.54 seconds\n",
      "* Step default_algorithms will try to check up to 7 models\n",
      "5_Default_LightGBM rmse 0.221269 trained in 565.06 seconds\n",
      "6_Default_Xgboost rmse 0.223234 trained in 17.63 seconds\n",
      "7_Default_CatBoost rmse 0.218155 trained in 3.75 seconds\n",
      "8_Default_NeuralNetwork rmse 0.265787 trained in 2.55 seconds\n",
      "9_Default_RandomForest rmse 0.304969 trained in 4.83 seconds\n",
      "10_Default_ExtraTrees rmse 0.326624 trained in 4.59 seconds\n",
      "11_Default_NearestNeighbors rmse 0.316651 trained in 1.78 seconds\n",
      "* Step not_so_random will try to check up to 61 models\n",
      "21_LightGBM rmse 0.228997 trained in 2.73 seconds\n",
      "12_Xgboost rmse 0.231998 trained in 21.99 seconds\n",
      "30_CatBoost rmse 0.221428 trained in 10.48 seconds\n",
      "39_RandomForest rmse 0.303814 trained in 5.27 seconds\n",
      "48_ExtraTrees rmse 0.364 trained in 4.83 seconds\n",
      "57_NeuralNetwork rmse 0.256988 trained in 3.25 seconds\n",
      "66_NearestNeighbors rmse 0.310286 trained in 2.24 seconds\n",
      "22_LightGBM rmse 0.245821 trained in 4.22 seconds\n",
      "13_Xgboost rmse 0.239028 trained in 20.99 seconds\n",
      "31_CatBoost rmse 0.227057 trained in 5.94 seconds\n",
      "40_RandomForest rmse 0.342983 trained in 5.27 seconds\n",
      "49_ExtraTrees rmse 0.389175 trained in 4.4 seconds\n",
      "58_NeuralNetwork rmse 0.261411 trained in 3.59 seconds\n",
      "67_NearestNeighbors rmse 0.303558 trained in 2.57 seconds\n",
      "23_LightGBM rmse 0.224737 trained in 4.0 seconds\n",
      "14_Xgboost rmse 0.224061 trained in 17.02 seconds\n",
      "32_CatBoost rmse 0.219422 trained in 5.3 seconds\n",
      "41_RandomForest rmse 0.268726 trained in 6.0 seconds\n",
      "50_ExtraTrees rmse 0.270782 trained in 5.94 seconds\n",
      "59_NeuralNetwork rmse 0.356307 trained in 5.3 seconds\n",
      "68_NearestNeighbors rmse 0.303558 trained in 2.96 seconds\n",
      "24_LightGBM rmse 0.224457 trained in 6.15 seconds\n",
      "15_Xgboost rmse 0.244387 trained in 16.8 seconds\n",
      "33_CatBoost rmse 0.233312 trained in 5.21 seconds\n",
      "42_RandomForest rmse 0.279529 trained in 6.92 seconds\n",
      "51_ExtraTrees rmse 0.295775 trained in 6.2 seconds\n",
      "60_NeuralNetwork rmse 0.259395 trained in 4.09 seconds\n",
      "69_NearestNeighbors rmse 0.310286 trained in 3.27 seconds\n",
      "25_LightGBM rmse 0.231872 trained in 3.87 seconds\n",
      "16_Xgboost rmse 0.229805 trained in 21.08 seconds\n",
      "34_CatBoost rmse 0.221438 trained in 4.99 seconds\n",
      "43_RandomForest rmse 0.255169 trained in 6.83 seconds\n",
      "52_ExtraTrees rmse 0.265686 trained in 7.14 seconds\n",
      "61_NeuralNetwork rmse 0.252572 trained in 4.53 seconds\n",
      "70_NearestNeighbors rmse 0.321305 trained in 3.69 seconds\n",
      "26_LightGBM rmse 0.223255 trained in 5.63 seconds\n",
      "17_Xgboost rmse 0.224862 trained in 17.4 seconds\n",
      "35_CatBoost rmse 0.230305 trained in 5.38 seconds\n",
      "44_RandomForest rmse 0.268168 trained in 7.4 seconds\n",
      "53_ExtraTrees rmse 0.262963 trained in 6.64 seconds\n",
      "62_NeuralNetwork rmse 0.259051 trained in 5.38 seconds\n",
      "71_NearestNeighbors rmse 0.310286 trained in 4.08 seconds\n",
      "27_LightGBM rmse 0.222612 trained in 5.09 seconds\n",
      "18_Xgboost rmse 0.214653 trained in 20.77 seconds\n",
      "36_CatBoost rmse 0.221452 trained in 12.93 seconds\n",
      "45_RandomForest rmse 0.308088 trained in 7.24 seconds\n",
      "54_ExtraTrees rmse 0.343538 trained in 6.54 seconds\n",
      "63_NeuralNetwork rmse 0.261396 trained in 5.58 seconds\n",
      "72_NearestNeighbors rmse 0.317477 trained in 4.42 seconds\n",
      "28_LightGBM rmse 0.220925 trained in 5.45 seconds\n",
      "19_Xgboost rmse 0.229935 trained in 18.49 seconds\n",
      "37_CatBoost rmse 0.223779 trained in 7.4 seconds\n",
      "46_RandomForest rmse 0.30433 trained in 7.31 seconds\n",
      "55_ExtraTrees rmse 0.345791 trained in 6.43 seconds\n",
      "64_NeuralNetwork rmse 0.266621 trained in 5.89 seconds\n",
      "29_LightGBM rmse 0.223679 trained in 5.44 seconds\n",
      "20_Xgboost rmse 0.224383 trained in 26.67 seconds\n",
      "38_CatBoost rmse 0.215203 trained in 12.54 seconds\n",
      "47_RandomForest rmse 0.241351 trained in 8.28 seconds\n",
      "56_ExtraTrees rmse 0.266997 trained in 7.88 seconds\n",
      "65_NeuralNetwork rmse 0.271285 trained in 5.96 seconds\n",
      "* Step golden_features will try to check up to 3 models\n",
      "None 10\n",
      "Add Golden Feature: feature_1_diff_feature_3\n",
      "Add Golden Feature: feature_8_multiply_feature_4\n",
      "Add Golden Feature: feature_1_diff_feature_2\n",
      "Add Golden Feature: feature_9_multiply_feature_4\n",
      "Add Golden Feature: feature_8_sum_feature_3\n",
      "Add Golden Feature: feature_8_multiply_feature_2\n",
      "Add Golden Feature: feature_7_ratio_feature_3\n",
      "Add Golden Feature: feature_1_diff_feature_13\n",
      "Add Golden Feature: feature_1_diff_feature_4\n",
      "Add Golden Feature: feature_8_sum_feature_2\n",
      "Created 10 Golden Features in 11.84 seconds.\n",
      "18_Xgboost_GoldenFeatures rmse 0.216154 trained in 37.26 seconds\n",
      "38_CatBoost_GoldenFeatures rmse 0.21707 trained in 32.78 seconds\n",
      "7_Default_CatBoost_GoldenFeatures rmse 0.212438 trained in 8.64 seconds\n",
      "* Step kmeans_features will try to check up to 3 models\n",
      "18_Xgboost_KMeansFeatures rmse 0.230574 trained in 25.65 seconds\n",
      "38_CatBoost_KMeansFeatures rmse 0.224179 trained in 69.47 seconds\n",
      "7_Default_CatBoost_KMeansFeatures rmse 0.227268 trained in 10.18 seconds\n",
      "* Step insert_random_feature will try to check up to 1 model\n",
      "7_Default_CatBoost_GoldenFeatures_RandomFeature rmse 0.219181 trained in 10.32 seconds\n",
      "Drop features ['feature_14', 'random_feature']\n",
      "* Step features_selection will try to check up to 6 models\n",
      "7_Default_CatBoost_GoldenFeatures_SelectedFeatures rmse 0.214851 trained in 8.24 seconds\n",
      "18_Xgboost_SelectedFeatures rmse 0.220443 trained in 25.65 seconds\n",
      "28_LightGBM_SelectedFeatures rmse 0.216727 trained in 6.61 seconds\n",
      "47_RandomForest_SelectedFeatures rmse 0.24001 trained in 8.94 seconds\n",
      "61_NeuralNetwork_SelectedFeatures rmse 0.246357 trained in 6.75 seconds\n",
      "53_ExtraTrees_SelectedFeatures rmse 0.262921 trained in 9.13 seconds\n",
      "* Step hill_climbing_1 will try to check up to 34 models\n",
      "73_CatBoost_GoldenFeatures rmse 0.213748 trained in 8.54 seconds\n",
      "74_CatBoost_GoldenFeatures rmse 0.215913 trained in 10.31 seconds\n",
      "75_Xgboost rmse 0.216529 trained in 25.02 seconds\n",
      "76_Xgboost rmse 0.216609 trained in 24.63 seconds\n",
      "77_CatBoost_GoldenFeatures_SelectedFeatures rmse 0.212075 trained in 8.25 seconds\n",
      "78_CatBoost_GoldenFeatures_SelectedFeatures rmse 0.217692 trained in 11.31 seconds\n",
      "79_CatBoost rmse 0.215785 trained in 11.3 seconds\n",
      "80_CatBoost rmse 0.219792 trained in 27.22 seconds\n",
      "81_Xgboost_GoldenFeatures rmse 0.215494 trained in 22.53 seconds\n",
      "82_Xgboost_GoldenFeatures rmse 0.215228 trained in 22.32 seconds\n",
      "83_LightGBM_SelectedFeatures rmse 0.218384 trained in 7.2 seconds\n",
      "84_Xgboost_SelectedFeatures rmse 0.21815 trained in 23.03 seconds\n",
      "85_Xgboost_SelectedFeatures rmse 0.219119 trained in 20.37 seconds\n",
      "86_LightGBM rmse 0.222349 trained in 9.25 seconds\n",
      "87_LightGBM rmse 0.228365 trained in 8.61 seconds\n",
      "88_LightGBM rmse 0.222846 trained in 9.42 seconds\n",
      "89_RandomForest_SelectedFeatures rmse 0.240559 trained in 9.82 seconds\n",
      "90_RandomForest rmse 0.243105 trained in 10.77 seconds\n",
      "91_NeuralNetwork_SelectedFeatures rmse 0.253434 trained in 8.1 seconds\n",
      "92_NeuralNetwork_SelectedFeatures rmse 0.24754 trained in 8.85 seconds\n",
      "93_NeuralNetwork rmse 0.25802 trained in 7.8 seconds\n",
      "94_NeuralNetwork rmse 0.254501 trained in 9.25 seconds\n",
      "95_RandomForest rmse 0.255755 trained in 11.39 seconds\n",
      "96_RandomForest rmse 0.255994 trained in 10.5 seconds\n",
      "97_NeuralNetwork rmse 0.269124 trained in 7.98 seconds\n",
      "98_ExtraTrees_SelectedFeatures rmse 0.262226 trained in 10.22 seconds\n",
      "99_ExtraTrees rmse 0.263334 trained in 9.68 seconds\n",
      "100_ExtraTrees rmse 0.27086 trained in 10.57 seconds\n"
     ]
    },
    {
     "name": "stdout",
     "output_type": "stream",
     "text": [
      "101_ExtraTrees rmse 0.259512 trained in 10.0 seconds\n",
      "102_NearestNeighbors rmse 0.309933 trained in 7.36 seconds\n",
      "103_NearestNeighbors rmse 0.309933 trained in 7.42 seconds\n",
      "104_DecisionTree rmse 0.364705 trained in 7.04 seconds\n",
      "105_DecisionTree rmse 0.364658 trained in 7.09 seconds\n",
      "106_DecisionTree rmse 0.405521 trained in 7.18 seconds\n",
      "* Step hill_climbing_2 will try to check up to 12 models\n",
      "107_CatBoost_GoldenFeatures_SelectedFeatures rmse 0.213091 trained in 11.57 seconds\n",
      "108_CatBoost_GoldenFeatures_SelectedFeatures rmse 0.221286 trained in 8.84 seconds\n",
      "109_CatBoost_GoldenFeatures rmse 0.212243 trained in 12.35 seconds\n",
      "110_CatBoost_GoldenFeatures rmse 0.217541 trained in 9.34 seconds\n",
      "111_CatBoost_GoldenFeatures rmse 0.213071 trained in 11.38 seconds\n",
      "112_CatBoost_GoldenFeatures rmse 0.217628 trained in 9.16 seconds\n",
      "113_Xgboost_GoldenFeatures rmse 0.21507 trained in 22.98 seconds\n",
      "114_Xgboost_GoldenFeatures rmse 0.215955 trained in 25.96 seconds\n",
      "115_LightGBM_SelectedFeatures rmse 0.224188 trained in 8.84 seconds\n",
      "116_RandomForest_SelectedFeatures rmse 0.241655 trained in 13.25 seconds\n",
      "117_ExtraTrees rmse 0.260201 trained in 11.14 seconds\n",
      "118_ExtraTrees_SelectedFeatures rmse 0.263312 trained in 10.33 seconds\n",
      "* Step boost_on_errors will try to check up to 1 model\n",
      "77_CatBoost_GoldenFeatures_SelectedFeatures_BoostOnErrors rmse 0.215372 trained in 10.25 seconds\n",
      "* Step ensemble will try to check up to 1 model\n",
      "Ensemble rmse 0.204291 trained in 25.04 seconds\n",
      "* Step stack will try to check up to 59 models\n",
      "77_CatBoost_GoldenFeatures_SelectedFeatures_Stacked rmse 0.215257 trained in 11.17 seconds\n",
      "18_Xgboost_Stacked rmse 0.221221 trained in 20.75 seconds\n",
      "28_LightGBM_SelectedFeatures_Stacked rmse 0.224938 trained in 9.39 seconds\n",
      "47_RandomForest_SelectedFeatures_Stacked rmse 0.212286 trained in 13.32 seconds\n",
      "61_NeuralNetwork_SelectedFeatures_Stacked rmse 0.228625 trained in 11.81 seconds\n",
      "101_ExtraTrees_Stacked rmse 0.208424 trained in 11.42 seconds\n",
      "109_CatBoost_GoldenFeatures_Stacked rmse 0.214552 trained in 16.54 seconds\n",
      "113_Xgboost_GoldenFeatures_Stacked rmse 0.223436 trained in 22.73 seconds\n",
      "83_LightGBM_SelectedFeatures_Stacked rmse 0.224295 trained in 9.67 seconds\n",
      "89_RandomForest_SelectedFeatures_Stacked rmse 0.211522 trained in 13.79 seconds\n",
      "92_NeuralNetwork_SelectedFeatures_Stacked rmse 0.22602 trained in 12.35 seconds\n",
      "117_ExtraTrees_Stacked rmse 0.209783 trained in 12.9 seconds\n",
      "7_Default_CatBoost_GoldenFeatures_Stacked rmse 0.21653 trained in 15.35 seconds\n",
      "82_Xgboost_GoldenFeatures_Stacked rmse 0.223866 trained in 23.23 seconds\n",
      "28_LightGBM_Stacked rmse 0.225073 trained in 10.33 seconds\n",
      "47_RandomForest_Stacked rmse 0.212288 trained in 14.72 seconds\n",
      "61_NeuralNetwork_Stacked rmse 0.229451 trained in 11.86 seconds\n",
      "98_ExtraTrees_SelectedFeatures_Stacked rmse 0.208886 trained in 12.65 seconds\n",
      "111_CatBoost_GoldenFeatures_Stacked rmse 0.212998 trained in 13.08 seconds\n",
      "81_Xgboost_GoldenFeatures_Stacked rmse 0.222929 trained in 23.63 seconds\n",
      "5_Default_LightGBM_Stacked rmse 0.228609 trained in 13.22 seconds\n",
      "116_RandomForest_SelectedFeatures_Stacked rmse 0.211905 trained in 16.7 seconds\n",
      "91_NeuralNetwork_SelectedFeatures_Stacked rmse 0.250876 trained in 13.32 seconds\n",
      "53_ExtraTrees_SelectedFeatures_Stacked rmse 0.209663 trained in 14.1 seconds\n",
      "107_CatBoost_GoldenFeatures_SelectedFeatures_Stacked rmse 0.211566 trained in 13.71 seconds\n",
      "114_Xgboost_GoldenFeatures_Stacked rmse 0.220953 trained in 23.75 seconds\n",
      "86_LightGBM_Stacked rmse 0.22604 trained in 10.69 seconds\n",
      "90_RandomForest_Stacked rmse 0.212119 trained in 15.37 seconds\n",
      "94_NeuralNetwork_Stacked rmse 0.224832 trained in 13.42 seconds\n",
      "53_ExtraTrees_Stacked rmse 0.208269 trained in 13.47 seconds\n",
      "73_CatBoost_GoldenFeatures_Stacked rmse 0.214091 trained in 12.47 seconds\n",
      "18_Xgboost_GoldenFeatures_Stacked rmse 0.222785 trained in 23.12 seconds\n",
      "27_LightGBM_Stacked rmse 0.222193 trained in 11.16 seconds\n",
      "43_RandomForest_Stacked rmse 0.21177 trained in 16.56 seconds\n",
      "57_NeuralNetwork_Stacked rmse 0.694043 trained in 12.4 seconds\n",
      "118_ExtraTrees_SelectedFeatures_Stacked rmse 0.208152 trained in 14.13 seconds\n",
      "7_Default_CatBoost_GoldenFeatures_SelectedFeatures_Stacked rmse 0.217063 trained in 16.43 seconds\n",
      "75_Xgboost_Stacked rmse 0.223257 trained in 22.92 seconds\n",
      "88_LightGBM_Stacked rmse 0.22621 trained in 12.47 seconds\n",
      "95_RandomForest_Stacked rmse 0.212415 trained in 17.78 seconds\n",
      "93_NeuralNetwork_Stacked rmse 0.253825 trained in 14.11 seconds\n",
      "99_ExtraTrees_Stacked rmse 0.211225 trained in 13.94 seconds\n",
      "38_CatBoost_Stacked rmse 0.213392 trained in 160.21 seconds\n",
      "76_Xgboost_Stacked rmse 0.222594 trained in 22.78 seconds\n",
      "26_LightGBM_Stacked rmse 0.224079 trained in 12.06 seconds\n",
      "96_RandomForest_Stacked rmse 0.211636 trained in 15.4 seconds\n",
      "62_NeuralNetwork_Stacked rmse 0.336566 trained in 16.18 seconds\n",
      "52_ExtraTrees_Stacked rmse 0.208829 trained in 14.64 seconds\n",
      "79_CatBoost_Stacked rmse 0.212572 trained in 83.42 seconds\n",
      "84_Xgboost_SelectedFeatures_Stacked rmse 0.221319 trained in 23.12 seconds\n",
      "29_LightGBM_Stacked rmse 0.22291 trained in 12.02 seconds\n",
      "44_RandomForest_Stacked rmse 0.212711 trained in 17.18 seconds\n",
      "60_NeuralNetwork_Stacked rmse 0.413939 trained in 14.29 seconds\n",
      "56_ExtraTrees_Stacked rmse 0.205975 trained in 15.29 seconds\n",
      "85_Xgboost_SelectedFeatures_Stacked rmse 0.223033 trained in 24.2 seconds\n",
      "115_LightGBM_SelectedFeatures_Stacked rmse 0.22572 trained in 12.23 seconds\n",
      "41_RandomForest_Stacked rmse 0.211187 trained in 16.18 seconds\n",
      "63_NeuralNetwork_Stacked rmse 0.217163 trained in 14.23 seconds\n",
      "50_ExtraTrees_Stacked rmse 0.209152 trained in 15.55 seconds\n",
      "* Step ensemble_stacked will try to check up to 1 model\n",
      "Ensemble_Stacked rmse 0.202287 trained in 52.86 seconds\n",
      "AutoML fit time: 3237.99 seconds\n",
      "AutoML best model: Ensemble_Stacked\n"
     ]
    },
    {
     "data": {
      "text/plain": [
       "AutoML(mode='Compete', results_path='./결과내기_compete')"
      ]
     },
     "execution_count": 10,
     "metadata": {},
     "output_type": "execute_result"
    }
   ],
   "source": [
    "automl = AutoML(mode=\"Compete\", n_jobs=-1, results_path='./결과내기_compete')\n",
    "automl.fit(X_train, y_train)"
   ]
  },
  {
   "cell_type": "code",
   "execution_count": 11,
   "id": "bc2ab914",
   "metadata": {
    "ExecuteTime": {
     "end_time": "2022-07-01T12:08:33.623975Z",
     "start_time": "2022-07-01T12:08:33.621631Z"
    }
   },
   "outputs": [],
   "source": [
    "model=AutoML(results_path='./결과내기_compete')"
   ]
  },
  {
   "cell_type": "code",
   "execution_count": 12,
   "id": "d2941d26",
   "metadata": {
    "ExecuteTime": {
     "end_time": "2022-07-01T12:08:33.656818Z",
     "start_time": "2022-07-01T12:08:33.654676Z"
    }
   },
   "outputs": [],
   "source": [
    "my_result_df = pd.DataFrame()"
   ]
  },
  {
   "cell_type": "code",
   "execution_count": 13,
   "id": "0a2c5a72",
   "metadata": {
    "ExecuteTime": {
     "end_time": "2022-07-01T12:08:33.690942Z",
     "start_time": "2022-07-01T12:08:33.688187Z"
    }
   },
   "outputs": [],
   "source": [
    "my_result_df['date'] = test_df['date']"
   ]
  },
  {
   "cell_type": "code",
   "execution_count": 14,
   "id": "692c654f",
   "metadata": {
    "ExecuteTime": {
     "end_time": "2022-07-01T12:08:54.733608Z",
     "start_time": "2022-07-01T12:08:33.724260Z"
    }
   },
   "outputs": [
    {
     "name": "stderr",
     "output_type": "stream",
     "text": [
      "X has feature names, but StandardScaler was fitted without feature names\n",
      "X has feature names, but StandardScaler was fitted without feature names\n",
      "X has feature names, but StandardScaler was fitted without feature names\n",
      "X has feature names, but StandardScaler was fitted without feature names\n",
      "X has feature names, but StandardScaler was fitted without feature names\n",
      "X has feature names, but StandardScaler was fitted without feature names\n",
      "X has feature names, but StandardScaler was fitted without feature names\n",
      "X has feature names, but StandardScaler was fitted without feature names\n",
      "X has feature names, but StandardScaler was fitted without feature names\n",
      "X has feature names, but StandardScaler was fitted without feature names\n",
      "X has feature names, but StandardScaler was fitted without feature names\n",
      "X has feature names, but StandardScaler was fitted without feature names\n",
      "X has feature names, but StandardScaler was fitted without feature names\n",
      "X has feature names, but StandardScaler was fitted without feature names\n",
      "X has feature names, but StandardScaler was fitted without feature names\n",
      "X has feature names, but StandardScaler was fitted without feature names\n",
      "X has feature names, but StandardScaler was fitted without feature names\n",
      "X has feature names, but StandardScaler was fitted without feature names\n",
      "X has feature names, but StandardScaler was fitted without feature names\n",
      "X has feature names, but StandardScaler was fitted without feature names\n",
      "X has feature names, but StandardScaler was fitted without feature names\n",
      "X has feature names, but StandardScaler was fitted without feature names\n",
      "X has feature names, but StandardScaler was fitted without feature names\n",
      "X has feature names, but StandardScaler was fitted without feature names\n",
      "X has feature names, but StandardScaler was fitted without feature names\n",
      "X has feature names, but StandardScaler was fitted without feature names\n",
      "X has feature names, but StandardScaler was fitted without feature names\n",
      "X has feature names, but StandardScaler was fitted without feature names\n",
      "X has feature names, but StandardScaler was fitted without feature names\n",
      "X has feature names, but StandardScaler was fitted without feature names\n",
      "X has feature names, but StandardScaler was fitted without feature names\n",
      "X has feature names, but StandardScaler was fitted without feature names\n",
      "X has feature names, but StandardScaler was fitted without feature names\n",
      "X has feature names, but StandardScaler was fitted without feature names\n",
      "X has feature names, but StandardScaler was fitted without feature names\n",
      "X has feature names, but StandardScaler was fitted without feature names\n",
      "X has feature names, but StandardScaler was fitted without feature names\n",
      "X has feature names, but StandardScaler was fitted without feature names\n",
      "X has feature names, but StandardScaler was fitted without feature names\n",
      "X has feature names, but StandardScaler was fitted without feature names\n",
      "X has feature names, but StandardScaler was fitted without feature names\n",
      "X has feature names, but StandardScaler was fitted without feature names\n",
      "X has feature names, but StandardScaler was fitted without feature names\n",
      "X has feature names, but StandardScaler was fitted without feature names\n",
      "X has feature names, but StandardScaler was fitted without feature names\n",
      "X has feature names, but StandardScaler was fitted without feature names\n",
      "X has feature names, but StandardScaler was fitted without feature names\n",
      "X has feature names, but StandardScaler was fitted without feature names\n",
      "X has feature names, but StandardScaler was fitted without feature names\n",
      "X has feature names, but StandardScaler was fitted without feature names\n",
      "X has feature names, but StandardScaler was fitted without feature names\n",
      "X has feature names, but StandardScaler was fitted without feature names\n",
      "X has feature names, but StandardScaler was fitted without feature names\n",
      "X has feature names, but StandardScaler was fitted without feature names\n",
      "X has feature names, but StandardScaler was fitted without feature names\n",
      "X has feature names, but StandardScaler was fitted without feature names\n",
      "X has feature names, but StandardScaler was fitted without feature names\n",
      "X has feature names, but StandardScaler was fitted without feature names\n",
      "X has feature names, but StandardScaler was fitted without feature names\n",
      "X has feature names, but StandardScaler was fitted without feature names\n",
      "X has feature names, but StandardScaler was fitted without feature names\n",
      "X has feature names, but StandardScaler was fitted without feature names\n",
      "X has feature names, but StandardScaler was fitted without feature names\n",
      "X has feature names, but StandardScaler was fitted without feature names\n",
      "X has feature names, but StandardScaler was fitted without feature names\n",
      "X has feature names, but StandardScaler was fitted without feature names\n",
      "X has feature names, but StandardScaler was fitted without feature names\n",
      "X has feature names, but StandardScaler was fitted without feature names\n",
      "X has feature names, but StandardScaler was fitted without feature names\n",
      "X has feature names, but StandardScaler was fitted without feature names\n",
      "X has feature names, but StandardScaler was fitted without feature names\n",
      "X has feature names, but StandardScaler was fitted without feature names\n",
      "X has feature names, but StandardScaler was fitted without feature names\n",
      "X has feature names, but StandardScaler was fitted without feature names\n",
      "X has feature names, but StandardScaler was fitted without feature names\n",
      "X has feature names, but StandardScaler was fitted without feature names\n",
      "X has feature names, but StandardScaler was fitted without feature names\n",
      "X has feature names, but StandardScaler was fitted without feature names\n",
      "X has feature names, but StandardScaler was fitted without feature names\n",
      "X has feature names, but StandardScaler was fitted without feature names\n",
      "X has feature names, but StandardScaler was fitted without feature names\n",
      "X has feature names, but StandardScaler was fitted without feature names\n",
      "X has feature names, but StandardScaler was fitted without feature names\n",
      "X has feature names, but StandardScaler was fitted without feature names\n",
      "X has feature names, but StandardScaler was fitted without feature names\n",
      "X has feature names, but StandardScaler was fitted without feature names\n",
      "X has feature names, but StandardScaler was fitted without feature names\n",
      "X has feature names, but StandardScaler was fitted without feature names\n",
      "X has feature names, but StandardScaler was fitted without feature names\n",
      "X has feature names, but StandardScaler was fitted without feature names\n",
      "X has feature names, but StandardScaler was fitted without feature names\n",
      "X has feature names, but StandardScaler was fitted without feature names\n",
      "X has feature names, but StandardScaler was fitted without feature names\n",
      "X has feature names, but StandardScaler was fitted without feature names\n",
      "X has feature names, but StandardScaler was fitted without feature names\n",
      "X has feature names, but StandardScaler was fitted without feature names\n",
      "X has feature names, but StandardScaler was fitted without feature names\n",
      "X has feature names, but StandardScaler was fitted without feature names\n",
      "X has feature names, but StandardScaler was fitted without feature names\n",
      "X has feature names, but StandardScaler was fitted without feature names\n",
      "X has feature names, but StandardScaler was fitted without feature names\n",
      "X has feature names, but StandardScaler was fitted without feature names\n",
      "X has feature names, but StandardScaler was fitted without feature names\n",
      "X has feature names, but StandardScaler was fitted without feature names\n",
      "X has feature names, but StandardScaler was fitted without feature names\n",
      "X has feature names, but StandardScaler was fitted without feature names\n",
      "X has feature names, but StandardScaler was fitted without feature names\n",
      "X has feature names, but StandardScaler was fitted without feature names\n",
      "X has feature names, but StandardScaler was fitted without feature names\n",
      "X has feature names, but StandardScaler was fitted without feature names\n",
      "X has feature names, but StandardScaler was fitted without feature names\n",
      "X has feature names, but StandardScaler was fitted without feature names\n",
      "X has feature names, but StandardScaler was fitted without feature names\n",
      "X has feature names, but StandardScaler was fitted without feature names\n",
      "X has feature names, but StandardScaler was fitted without feature names\n",
      "X has feature names, but StandardScaler was fitted without feature names\n",
      "X has feature names, but StandardScaler was fitted without feature names\n",
      "X has feature names, but StandardScaler was fitted without feature names\n",
      "X has feature names, but StandardScaler was fitted without feature names\n"
     ]
    },
    {
     "name": "stderr",
     "output_type": "stream",
     "text": [
      "X has feature names, but StandardScaler was fitted without feature names\n",
      "X has feature names, but StandardScaler was fitted without feature names\n",
      "X has feature names, but StandardScaler was fitted without feature names\n",
      "X has feature names, but StandardScaler was fitted without feature names\n",
      "X has feature names, but StandardScaler was fitted without feature names\n",
      "X has feature names, but StandardScaler was fitted without feature names\n",
      "X has feature names, but StandardScaler was fitted without feature names\n",
      "X has feature names, but StandardScaler was fitted without feature names\n",
      "X has feature names, but StandardScaler was fitted without feature names\n",
      "X has feature names, but StandardScaler was fitted without feature names\n",
      "X has feature names, but StandardScaler was fitted without feature names\n",
      "X has feature names, but StandardScaler was fitted without feature names\n",
      "X has feature names, but StandardScaler was fitted without feature names\n",
      "X has feature names, but StandardScaler was fitted without feature names\n",
      "X has feature names, but StandardScaler was fitted without feature names\n",
      "X has feature names, but StandardScaler was fitted without feature names\n",
      "X has feature names, but StandardScaler was fitted without feature names\n",
      "X has feature names, but StandardScaler was fitted without feature names\n",
      "X has feature names, but StandardScaler was fitted without feature names\n",
      "X has feature names, but StandardScaler was fitted without feature names\n",
      "X has feature names, but StandardScaler was fitted without feature names\n",
      "X has feature names, but StandardScaler was fitted without feature names\n",
      "X has feature names, but StandardScaler was fitted without feature names\n",
      "X has feature names, but StandardScaler was fitted without feature names\n",
      "X has feature names, but StandardScaler was fitted without feature names\n",
      "X has feature names, but StandardScaler was fitted without feature names\n",
      "X has feature names, but StandardScaler was fitted without feature names\n",
      "X has feature names, but StandardScaler was fitted without feature names\n",
      "X has feature names, but StandardScaler was fitted without feature names\n",
      "X has feature names, but StandardScaler was fitted without feature names\n",
      "X has feature names, but StandardScaler was fitted without feature names\n",
      "X has feature names, but StandardScaler was fitted without feature names\n",
      "X has feature names, but StandardScaler was fitted without feature names\n",
      "X has feature names, but StandardScaler was fitted without feature names\n",
      "X has feature names, but StandardScaler was fitted without feature names\n",
      "X has feature names, but StandardScaler was fitted without feature names\n",
      "X has feature names, but StandardScaler was fitted without feature names\n",
      "X has feature names, but StandardScaler was fitted without feature names\n",
      "X has feature names, but StandardScaler was fitted without feature names\n",
      "X has feature names, but StandardScaler was fitted without feature names\n",
      "X has feature names, but StandardScaler was fitted without feature names\n",
      "X has feature names, but StandardScaler was fitted without feature names\n",
      "X has feature names, but StandardScaler was fitted without feature names\n",
      "X has feature names, but StandardScaler was fitted without feature names\n",
      "X has feature names, but StandardScaler was fitted without feature names\n",
      "X has feature names, but StandardScaler was fitted without feature names\n",
      "X has feature names, but StandardScaler was fitted without feature names\n",
      "X has feature names, but StandardScaler was fitted without feature names\n",
      "X has feature names, but StandardScaler was fitted without feature names\n",
      "X has feature names, but StandardScaler was fitted without feature names\n",
      "X has feature names, but StandardScaler was fitted without feature names\n",
      "X has feature names, but StandardScaler was fitted without feature names\n",
      "X has feature names, but StandardScaler was fitted without feature names\n",
      "X has feature names, but StandardScaler was fitted without feature names\n",
      "X has feature names, but StandardScaler was fitted without feature names\n",
      "X has feature names, but StandardScaler was fitted without feature names\n",
      "X has feature names, but StandardScaler was fitted without feature names\n",
      "X has feature names, but StandardScaler was fitted without feature names\n",
      "X has feature names, but StandardScaler was fitted without feature names\n",
      "X has feature names, but StandardScaler was fitted without feature names\n",
      "X has feature names, but StandardScaler was fitted without feature names\n",
      "X has feature names, but StandardScaler was fitted without feature names\n",
      "X has feature names, but StandardScaler was fitted without feature names\n",
      "X has feature names, but StandardScaler was fitted without feature names\n",
      "X has feature names, but StandardScaler was fitted without feature names\n",
      "X has feature names, but StandardScaler was fitted without feature names\n",
      "X has feature names, but StandardScaler was fitted without feature names\n",
      "X has feature names, but StandardScaler was fitted without feature names\n",
      "X has feature names, but StandardScaler was fitted without feature names\n",
      "X has feature names, but StandardScaler was fitted without feature names\n",
      "X has feature names, but StandardScaler was fitted without feature names\n",
      "X has feature names, but StandardScaler was fitted without feature names\n",
      "X has feature names, but StandardScaler was fitted without feature names\n",
      "X has feature names, but StandardScaler was fitted without feature names\n",
      "X has feature names, but StandardScaler was fitted without feature names\n",
      "X has feature names, but StandardScaler was fitted without feature names\n",
      "X has feature names, but StandardScaler was fitted without feature names\n",
      "X has feature names, but StandardScaler was fitted without feature names\n",
      "X has feature names, but StandardScaler was fitted without feature names\n",
      "X has feature names, but StandardScaler was fitted without feature names\n",
      "X has feature names, but StandardScaler was fitted without feature names\n",
      "X has feature names, but StandardScaler was fitted without feature names\n",
      "X has feature names, but StandardScaler was fitted without feature names\n",
      "X has feature names, but StandardScaler was fitted without feature names\n",
      "X has feature names, but StandardScaler was fitted without feature names\n",
      "X has feature names, but StandardScaler was fitted without feature names\n",
      "X has feature names, but StandardScaler was fitted without feature names\n",
      "X has feature names, but StandardScaler was fitted without feature names\n",
      "X has feature names, but StandardScaler was fitted without feature names\n",
      "X has feature names, but StandardScaler was fitted without feature names\n",
      "X has feature names, but StandardScaler was fitted without feature names\n",
      "X has feature names, but StandardScaler was fitted without feature names\n",
      "X has feature names, but StandardScaler was fitted without feature names\n",
      "X has feature names, but StandardScaler was fitted without feature names\n",
      "X has feature names, but StandardScaler was fitted without feature names\n",
      "X has feature names, but StandardScaler was fitted without feature names\n",
      "X has feature names, but StandardScaler was fitted without feature names\n",
      "X has feature names, but StandardScaler was fitted without feature names\n",
      "X has feature names, but StandardScaler was fitted without feature names\n",
      "X has feature names, but StandardScaler was fitted without feature names\n",
      "X has feature names, but StandardScaler was fitted without feature names\n",
      "X has feature names, but StandardScaler was fitted without feature names\n",
      "X has feature names, but StandardScaler was fitted without feature names\n",
      "X has feature names, but StandardScaler was fitted without feature names\n",
      "X has feature names, but StandardScaler was fitted without feature names\n",
      "X has feature names, but StandardScaler was fitted without feature names\n",
      "X has feature names, but StandardScaler was fitted without feature names\n",
      "X has feature names, but StandardScaler was fitted without feature names\n",
      "X has feature names, but StandardScaler was fitted without feature names\n",
      "X has feature names, but StandardScaler was fitted without feature names\n",
      "X has feature names, but StandardScaler was fitted without feature names\n",
      "X has feature names, but StandardScaler was fitted without feature names\n",
      "X has feature names, but StandardScaler was fitted without feature names\n",
      "X has feature names, but StandardScaler was fitted without feature names\n"
     ]
    },
    {
     "name": "stderr",
     "output_type": "stream",
     "text": [
      "X has feature names, but StandardScaler was fitted without feature names\n",
      "X has feature names, but StandardScaler was fitted without feature names\n",
      "X has feature names, but StandardScaler was fitted without feature names\n",
      "X has feature names, but StandardScaler was fitted without feature names\n",
      "X has feature names, but StandardScaler was fitted without feature names\n",
      "X has feature names, but StandardScaler was fitted without feature names\n",
      "X has feature names, but StandardScaler was fitted without feature names\n",
      "X has feature names, but StandardScaler was fitted without feature names\n",
      "X has feature names, but StandardScaler was fitted without feature names\n",
      "X has feature names, but StandardScaler was fitted without feature names\n",
      "X has feature names, but StandardScaler was fitted without feature names\n",
      "X has feature names, but StandardScaler was fitted without feature names\n",
      "X has feature names, but StandardScaler was fitted without feature names\n",
      "X has feature names, but StandardScaler was fitted without feature names\n",
      "X has feature names, but StandardScaler was fitted without feature names\n",
      "X has feature names, but StandardScaler was fitted without feature names\n",
      "X has feature names, but StandardScaler was fitted without feature names\n",
      "X has feature names, but StandardScaler was fitted without feature names\n",
      "X has feature names, but StandardScaler was fitted without feature names\n",
      "X has feature names, but StandardScaler was fitted without feature names\n",
      "X has feature names, but StandardScaler was fitted without feature names\n",
      "X has feature names, but StandardScaler was fitted without feature names\n",
      "X has feature names, but StandardScaler was fitted without feature names\n",
      "X has feature names, but StandardScaler was fitted without feature names\n",
      "X has feature names, but StandardScaler was fitted without feature names\n",
      "X has feature names, but StandardScaler was fitted without feature names\n",
      "X has feature names, but StandardScaler was fitted without feature names\n",
      "X has feature names, but StandardScaler was fitted without feature names\n",
      "X has feature names, but StandardScaler was fitted without feature names\n",
      "X has feature names, but StandardScaler was fitted without feature names\n",
      "X has feature names, but StandardScaler was fitted without feature names\n",
      "X has feature names, but StandardScaler was fitted without feature names\n",
      "X has feature names, but StandardScaler was fitted without feature names\n",
      "X has feature names, but StandardScaler was fitted without feature names\n",
      "X has feature names, but StandardScaler was fitted without feature names\n",
      "X has feature names, but StandardScaler was fitted without feature names\n",
      "X has feature names, but StandardScaler was fitted without feature names\n",
      "X has feature names, but StandardScaler was fitted without feature names\n",
      "X has feature names, but StandardScaler was fitted without feature names\n",
      "X has feature names, but StandardScaler was fitted without feature names\n",
      "X has feature names, but StandardScaler was fitted without feature names\n",
      "X has feature names, but StandardScaler was fitted without feature names\n",
      "X has feature names, but StandardScaler was fitted without feature names\n",
      "X has feature names, but StandardScaler was fitted without feature names\n",
      "X has feature names, but StandardScaler was fitted without feature names\n",
      "X has feature names, but StandardScaler was fitted without feature names\n",
      "X has feature names, but StandardScaler was fitted without feature names\n",
      "X has feature names, but StandardScaler was fitted without feature names\n",
      "X has feature names, but StandardScaler was fitted without feature names\n",
      "X has feature names, but StandardScaler was fitted without feature names\n",
      "X has feature names, but StandardScaler was fitted without feature names\n",
      "X has feature names, but StandardScaler was fitted without feature names\n",
      "X has feature names, but StandardScaler was fitted without feature names\n",
      "X has feature names, but StandardScaler was fitted without feature names\n",
      "X has feature names, but StandardScaler was fitted without feature names\n",
      "X has feature names, but StandardScaler was fitted without feature names\n",
      "X has feature names, but StandardScaler was fitted without feature names\n",
      "X has feature names, but StandardScaler was fitted without feature names\n",
      "X has feature names, but StandardScaler was fitted without feature names\n",
      "X has feature names, but StandardScaler was fitted without feature names\n",
      "X has feature names, but StandardScaler was fitted without feature names\n",
      "X has feature names, but StandardScaler was fitted without feature names\n",
      "X has feature names, but StandardScaler was fitted without feature names\n",
      "X has feature names, but StandardScaler was fitted without feature names\n",
      "X has feature names, but StandardScaler was fitted without feature names\n",
      "X has feature names, but StandardScaler was fitted without feature names\n",
      "X has feature names, but StandardScaler was fitted without feature names\n",
      "X has feature names, but StandardScaler was fitted without feature names\n",
      "X has feature names, but StandardScaler was fitted without feature names\n",
      "X has feature names, but StandardScaler was fitted without feature names\n",
      "X has feature names, but StandardScaler was fitted without feature names\n",
      "X has feature names, but StandardScaler was fitted without feature names\n",
      "X has feature names, but StandardScaler was fitted without feature names\n",
      "X has feature names, but StandardScaler was fitted without feature names\n",
      "X has feature names, but StandardScaler was fitted without feature names\n",
      "X has feature names, but StandardScaler was fitted without feature names\n",
      "X has feature names, but StandardScaler was fitted without feature names\n",
      "X has feature names, but StandardScaler was fitted without feature names\n",
      "X has feature names, but StandardScaler was fitted without feature names\n",
      "X has feature names, but StandardScaler was fitted without feature names\n",
      "X has feature names, but StandardScaler was fitted without feature names\n",
      "X has feature names, but StandardScaler was fitted without feature names\n",
      "X has feature names, but StandardScaler was fitted without feature names\n",
      "X has feature names, but StandardScaler was fitted without feature names\n",
      "X has feature names, but StandardScaler was fitted without feature names\n",
      "X has feature names, but StandardScaler was fitted without feature names\n",
      "X has feature names, but StandardScaler was fitted without feature names\n",
      "X has feature names, but StandardScaler was fitted without feature names\n",
      "X has feature names, but StandardScaler was fitted without feature names\n",
      "X has feature names, but StandardScaler was fitted without feature names\n",
      "X has feature names, but StandardScaler was fitted without feature names\n",
      "X has feature names, but StandardScaler was fitted without feature names\n",
      "X has feature names, but StandardScaler was fitted without feature names\n",
      "X has feature names, but StandardScaler was fitted without feature names\n",
      "X has feature names, but StandardScaler was fitted without feature names\n",
      "X has feature names, but StandardScaler was fitted without feature names\n",
      "X has feature names, but StandardScaler was fitted without feature names\n",
      "X has feature names, but StandardScaler was fitted without feature names\n",
      "X has feature names, but StandardScaler was fitted without feature names\n",
      "X has feature names, but StandardScaler was fitted without feature names\n",
      "X has feature names, but StandardScaler was fitted without feature names\n",
      "X has feature names, but StandardScaler was fitted without feature names\n",
      "X has feature names, but StandardScaler was fitted without feature names\n",
      "X has feature names, but StandardScaler was fitted without feature names\n",
      "X has feature names, but StandardScaler was fitted without feature names\n",
      "X has feature names, but StandardScaler was fitted without feature names\n",
      "X has feature names, but StandardScaler was fitted without feature names\n"
     ]
    }
   ],
   "source": [
    "my_result_df['rental']=list( forecast[-365:]['trend'] * model.predict(X_test))"
   ]
  },
  {
   "cell_type": "code",
   "execution_count": 15,
   "id": "7dec1728",
   "metadata": {
    "ExecuteTime": {
     "end_time": "2022-07-01T12:08:54.799018Z",
     "start_time": "2022-07-01T12:08:54.796452Z"
    }
   },
   "outputs": [],
   "source": [
    "my_result_df.set_index('date', inplace=True)"
   ]
  },
  {
   "cell_type": "code",
   "execution_count": 16,
   "id": "55a9b99d",
   "metadata": {
    "ExecuteTime": {
     "end_time": "2022-07-01T12:08:54.836697Z",
     "start_time": "2022-07-01T12:08:54.830334Z"
    }
   },
   "outputs": [
    {
     "data": {
      "text/html": [
       "<div>\n",
       "<style scoped>\n",
       "    .dataframe tbody tr th:only-of-type {\n",
       "        vertical-align: middle;\n",
       "    }\n",
       "\n",
       "    .dataframe tbody tr th {\n",
       "        vertical-align: top;\n",
       "    }\n",
       "\n",
       "    .dataframe thead th {\n",
       "        text-align: right;\n",
       "    }\n",
       "</style>\n",
       "<table border=\"1\" class=\"dataframe\">\n",
       "  <thead>\n",
       "    <tr style=\"text-align: right;\">\n",
       "      <th></th>\n",
       "      <th>rental</th>\n",
       "    </tr>\n",
       "    <tr>\n",
       "      <th>date</th>\n",
       "      <th></th>\n",
       "    </tr>\n",
       "  </thead>\n",
       "  <tbody>\n",
       "    <tr>\n",
       "      <th>2021-01-01</th>\n",
       "      <td>30569.932846</td>\n",
       "    </tr>\n",
       "    <tr>\n",
       "      <th>2021-01-02</th>\n",
       "      <td>27180.574445</td>\n",
       "    </tr>\n",
       "    <tr>\n",
       "      <th>2021-01-03</th>\n",
       "      <td>24608.291338</td>\n",
       "    </tr>\n",
       "    <tr>\n",
       "      <th>2021-01-04</th>\n",
       "      <td>30855.289002</td>\n",
       "    </tr>\n",
       "    <tr>\n",
       "      <th>2021-01-05</th>\n",
       "      <td>25991.449293</td>\n",
       "    </tr>\n",
       "    <tr>\n",
       "      <th>...</th>\n",
       "      <td>...</td>\n",
       "    </tr>\n",
       "    <tr>\n",
       "      <th>2021-12-27</th>\n",
       "      <td>29644.226371</td>\n",
       "    </tr>\n",
       "    <tr>\n",
       "      <th>2021-12-28</th>\n",
       "      <td>33841.874735</td>\n",
       "    </tr>\n",
       "    <tr>\n",
       "      <th>2021-12-29</th>\n",
       "      <td>42969.317284</td>\n",
       "    </tr>\n",
       "    <tr>\n",
       "      <th>2021-12-30</th>\n",
       "      <td>38066.973422</td>\n",
       "    </tr>\n",
       "    <tr>\n",
       "      <th>2021-12-31</th>\n",
       "      <td>34334.081692</td>\n",
       "    </tr>\n",
       "  </tbody>\n",
       "</table>\n",
       "<p>365 rows × 1 columns</p>\n",
       "</div>"
      ],
      "text/plain": [
       "                  rental\n",
       "date                    \n",
       "2021-01-01  30569.932846\n",
       "2021-01-02  27180.574445\n",
       "2021-01-03  24608.291338\n",
       "2021-01-04  30855.289002\n",
       "2021-01-05  25991.449293\n",
       "...                  ...\n",
       "2021-12-27  29644.226371\n",
       "2021-12-28  33841.874735\n",
       "2021-12-29  42969.317284\n",
       "2021-12-30  38066.973422\n",
       "2021-12-31  34334.081692\n",
       "\n",
       "[365 rows x 1 columns]"
      ]
     },
     "execution_count": 16,
     "metadata": {},
     "output_type": "execute_result"
    }
   ],
   "source": [
    "my_result_df"
   ]
  },
  {
   "cell_type": "code",
   "execution_count": 17,
   "id": "d83a17f3",
   "metadata": {
    "ExecuteTime": {
     "end_time": "2022-07-01T12:08:54.882031Z",
     "start_time": "2022-07-01T12:08:54.871264Z"
    }
   },
   "outputs": [],
   "source": [
    "my_result_df.to_csv('./final_compete.csv')"
   ]
  },
  {
   "cell_type": "code",
   "execution_count": 18,
   "id": "7b7209e4",
   "metadata": {
    "ExecuteTime": {
     "end_time": "2022-07-01T12:08:55.109835Z",
     "start_time": "2022-07-01T12:08:54.916727Z"
    }
   },
   "outputs": [
    {
     "data": {
      "text/plain": [
       "<AxesSubplot:xlabel='date'>"
      ]
     },
     "execution_count": 18,
     "metadata": {},
     "output_type": "execute_result"
    },
    {
     "data": {
      "image/png": "[encoded data removed]",
      "text/plain": [
       "<Figure size 432x288 with 1 Axes>"
      ]
     },
     "metadata": {
      "needs_background": "light"
     },
     "output_type": "display_data"
    }
   ],
   "source": [
    "my_result_df.plot()"
   ]
  },
  {
   "cell_type": "code",
   "execution_count": null,
   "id": "0c274410",
   "metadata": {},
   "outputs": [],
   "source": []
  }
 ],
 "metadata": {
  "kernelspec": {
   "display_name": "Python 3 (ipykernel)",
   "language": "python",
   "name": "python3"
  },
  "language_info": {
   "codemirror_mode": {
    "name": "ipython",
    "version": 3
   },
   "file_extension": ".py",
   "mimetype": "text/x-python",
   "name": "python",
   "nbconvert_exporter": "python",
   "pygments_lexer": "ipython3",
   "version": "3.8.10"
  },
  "toc": {
   "base_numbering": 1,
   "nav_menu": {},
   "number_sections": true,
   "sideBar": true,
   "skip_h1_title": false,
   "title_cell": "Table of Contents",
   "title_sidebar": "Contents",
   "toc_cell": false,
   "toc_position": {},
   "toc_section_display": true,
   "toc_window_display": false
  },
  "varInspector": {
   "cols": {
    "lenName": 16,
    "lenType": 16,
    "lenVar": 40
   },
   "kernels_config": {
    "python": {
     "delete_cmd_postfix": "",
     "delete_cmd_prefix": "del ",
     "library": "var_list.py",
     "varRefreshCmd": "print(var_dic_list())"
    },
    "r": {
     "delete_cmd_postfix": ") ",
     "delete_cmd_prefix": "rm(",
     "library": "var_list.r",
     "varRefreshCmd": "cat(var_dic_list()) "
    }
   },
   "types_to_exclude": [
    "module",
    "function",
    "builtin_function_or_method",
    "instance",
    "_Feature"
   ],
   "window_display": false
  }
 },
 "nbformat": 4,
 "nbformat_minor": 5
}
