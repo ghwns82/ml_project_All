{
 "cells": [
  {
   "cell_type": "code",
   "execution_count": 96,
   "id": "347262c3",
   "metadata": {
    "ExecuteTime": {
     "end_time": "2022-07-01T14:02:02.222085Z",
     "start_time": "2022-07-01T14:02:02.218884Z"
    }
   },
   "outputs": [],
   "source": [
    "from prophet import Prophet\n",
    "\n",
    "import pandas as pd\n",
    "\n",
    "from sklearn.ensemble import RandomForestRegressor\n",
    "from sklearn.model_selection import train_test_split\n",
    "from sklearn.ensemble import RandomForestRegressor\n",
    "from sklearn.model_selection import train_test_split\n",
    "from sklearn.metrics import r2_score\n",
    "from sklearn.preprocessing import MinMaxScaler\n",
    "\n",
    "import random\n",
    "from copy import deepcopy\n",
    "import math"
   ]
  },
  {
   "cell_type": "code",
   "execution_count": 19,
   "id": "e9ae0ef1",
   "metadata": {
    "ExecuteTime": {
     "end_time": "2022-07-01T13:37:50.852463Z",
     "start_time": "2022-07-01T13:37:50.845698Z"
    }
   },
   "outputs": [],
   "source": [
    "train_df=pd.read_csv('./data/train.csv')\n",
    "test_df=pd.read_csv('./data/test.csv')"
   ]
  },
  {
   "cell_type": "code",
   "execution_count": 20,
   "id": "7a21d29e",
   "metadata": {
    "ExecuteTime": {
     "end_time": "2022-07-01T13:37:54.066160Z",
     "start_time": "2022-07-01T13:37:51.134554Z"
    }
   },
   "outputs": [
    {
     "name": "stdout",
     "output_type": "stream",
     "text": [
      "Initial log joint probability = -73.9282\n",
      "    Iter      log prob        ||dx||      ||grad||       alpha      alpha0  # evals  Notes \n",
      "      99       1699.14   5.17586e-06       69.4858      0.7698      0.7698      133   \n",
      "    Iter      log prob        ||dx||      ||grad||       alpha      alpha0  # evals  Notes \n",
      "     110       1699.17   0.000410967       93.1272   3.446e-06       0.001      181  LS failed, Hessian reset \n",
      "     150       1699.19   3.83621e-05       77.7678   4.552e-07       0.001      266  LS failed, Hessian reset \n",
      "     177       1699.19    1.5188e-07       69.0376      0.2292           1      304   \n",
      "Optimization terminated normally: \n",
      "  Convergence detected: relative gradient magnitude is below tolerance\n"
     ]
    }
   ],
   "source": [
    "df=train_df[['date','rental']].copy()\n",
    "df.columns=['ds','y']\n",
    "m = Prophet()\n",
    "m.daily_seasonality=True\n",
    "m.weekly_seasonality=True\n",
    "m.yearly_seasonality=True\n",
    "m.fit(df)\n",
    "future=m.make_future_dataframe(365)\n",
    "forecast = m.predict(future)"
   ]
  },
  {
   "cell_type": "code",
   "execution_count": 21,
   "id": "5a7f424a",
   "metadata": {
    "ExecuteTime": {
     "end_time": "2022-07-01T13:37:54.108362Z",
     "start_time": "2022-07-01T13:37:54.105340Z"
    }
   },
   "outputs": [],
   "source": [
    "train_df['rental']=train_df['rental']/forecast[:-365]['trend']"
   ]
  },
  {
   "cell_type": "code",
   "execution_count": 22,
   "id": "854b5801",
   "metadata": {
    "ExecuteTime": {
     "end_time": "2022-07-01T13:37:54.152675Z",
     "start_time": "2022-07-01T13:37:54.146611Z"
    }
   },
   "outputs": [],
   "source": [
    "train_df['date']=pd.to_datetime(train_df['date'])\n",
    "train_df['month']=train_df['date'].dt.month\n",
    "train_df['day']=train_df['date'].dt.day\n",
    "train_df = train_df[['date', 'precipitation', 'temp_mean', 'temp_highest', 'temp_lowest',\n",
    "       'PM10', 'PM2.5', 'humidity', 'sunshine_sum', 'sunshine_rate',\n",
    "       'wind_mean', 'wind_max', 'month', 'day', 'rental']]"
   ]
  },
  {
   "cell_type": "code",
   "execution_count": 23,
   "id": "e93c6102",
   "metadata": {
    "ExecuteTime": {
     "end_time": "2022-07-01T13:37:54.188884Z",
     "start_time": "2022-07-01T13:37:54.184736Z"
    }
   },
   "outputs": [],
   "source": [
    "# 옵션에 따라, 선택한 데이터프레임의 컬럼의 결측값을 채워주는 함수\n",
    "# option = 0, min, max, mean, median\n",
    "def cal(my_df, column_name, option):\n",
    "    df=my_df.copy()\n",
    "    df['date']=pd.to_datetime(df['date'])\n",
    "    df['month']=df['date'].dt.month\n",
    "    nn_df = df.iloc[df[column_name].dropna().index]\n",
    "    month_df_list=[nn_df[nn_df['month']==i] for i in range(1,13)]\n",
    "    \n",
    "    if option == 0:\n",
    "        replace_list=[0 for month_df in month_df_list]\n",
    "    elif option =='min':\n",
    "        replace_list=[month_df[column_name].min() for month_df in month_df_list]\n",
    "    elif option =='max':\n",
    "        replace_list=[month_df[column_name].max() for month_df in month_df_list]\n",
    "    elif option == 'mean':\n",
    "        replace_list=[month_df[column_name].mean() for month_df in month_df_list]\n",
    "    elif option == 'median':\n",
    "        replace_list=[month_df[column_name].median() for month_df in month_df_list]\n",
    "    \n",
    "    replace_list = ['']+ replace_list\n",
    "    \n",
    "    result=[]\n",
    "    for i in range(my_df.shape[0]):\n",
    "        n=my_df.iloc[i][column_name]\n",
    "        if math.isnan(n):\n",
    "            result.append(replace_list[df.loc[i]['month']])\n",
    "        else:\n",
    "            result.append(n)\n",
    "    my_df[column_name] = result"
   ]
  },
  {
   "cell_type": "code",
   "execution_count": 24,
   "id": "dac65ce7",
   "metadata": {
    "ExecuteTime": {
     "end_time": "2022-07-01T13:37:54.222439Z",
     "start_time": "2022-07-01T13:37:54.220362Z"
    }
   },
   "outputs": [],
   "source": [
    "null_feature = ['precipitation','PM10','PM2.5','sunshine_sum']\n",
    "best_option_group = ['min' , 'max' , 'median' , 'min']"
   ]
  },
  {
   "cell_type": "code",
   "execution_count": 25,
   "id": "2706c5d4",
   "metadata": {
    "ExecuteTime": {
     "end_time": "2022-07-01T13:37:54.774264Z",
     "start_time": "2022-07-01T13:37:54.260881Z"
    }
   },
   "outputs": [],
   "source": [
    "for column_name, option in zip(null_feature, best_option_group):\n",
    "    cal(train_df, column_name, option)"
   ]
  },
  {
   "cell_type": "code",
   "execution_count": 26,
   "id": "7f2452bd",
   "metadata": {
    "ExecuteTime": {
     "end_time": "2022-07-01T13:37:54.815442Z",
     "start_time": "2022-07-01T13:37:54.812006Z"
    }
   },
   "outputs": [
    {
     "data": {
      "text/plain": [
       "[54, 7, 55, 46, 76, 88, 61, 40, 32, 79]"
      ]
     },
     "execution_count": 26,
     "metadata": {},
     "output_type": "execute_result"
    }
   ],
   "source": [
    "random_state_list=[random.randint(0, 100) for _ in range(10)]\n",
    "random_state_list"
   ]
  },
  {
   "cell_type": "code",
   "execution_count": 27,
   "id": "0a651a3c",
   "metadata": {
    "ExecuteTime": {
     "end_time": "2022-07-01T13:38:06.126066Z",
     "start_time": "2022-07-01T13:38:02.941806Z"
    }
   },
   "outputs": [
    {
     "name": "stdout",
     "output_type": "stream",
     "text": [
      "1번째\n",
      "Score : 0.8084004537827776\n",
      "Oob_Score : 0.8207942599133378\n",
      "2번째\n",
      "Score : 0.8122548160499072\n",
      "Oob_Score : 0.8189813229694363\n",
      "3번째\n",
      "Score : 0.8131225546949846\n",
      "Oob_Score : 0.8179163807125548\n",
      "4번째\n",
      "Score : 0.8136614613967571\n",
      "Oob_Score : 0.8159725804364941\n",
      "5번째\n",
      "Score : 0.8106565647432986\n",
      "Oob_Score : 0.8179018738370605\n",
      "6번째\n",
      "Score : 0.8121106194322527\n",
      "Oob_Score : 0.8163139179317556\n",
      "7번째\n",
      "Score : 0.8122434131184917\n",
      "Oob_Score : 0.8179992110506122\n",
      "8번째\n",
      "Score : 0.8152912377808071\n",
      "Oob_Score : 0.8187398512807251\n",
      "9번째\n",
      "Score : 0.8115501586700198\n",
      "Oob_Score : 0.8150259114837362\n",
      "10번째\n",
      "Score : 0.8120317529883875\n",
      "Oob_Score : 0.8163940876027691\n"
     ]
    }
   ],
   "source": [
    "X,y = train_df.iloc[:,1:-1].to_numpy(), train_df.iloc[:,-1].to_numpy()\n",
    "X_train, X_test, y_train, y_test = train_test_split(X,y , test_size=0.33, random_state=False)\n",
    "for i, state in enumerate(random_state_list): \n",
    "    rf = RandomForestRegressor(oob_score=True, random_state=state)\n",
    "    rf.fit(X_train, y_train)\n",
    "    score=rf.score(X_test, y_test)\n",
    "    print(f'{i+1}번째')\n",
    "    print(f'Score : {score}')\n",
    "    print(f'Oob_Score : {rf.oob_score_}')"
   ]
  },
  {
   "cell_type": "code",
   "execution_count": null,
   "id": "1510e898",
   "metadata": {},
   "outputs": [],
   "source": []
  },
  {
   "cell_type": "code",
   "execution_count": 28,
   "id": "9f7d47c2",
   "metadata": {
    "ExecuteTime": {
     "end_time": "2022-07-01T13:39:13.991214Z",
     "start_time": "2022-07-01T13:39:13.984008Z"
    }
   },
   "outputs": [],
   "source": [
    "train_df=pd.read_csv('./data/train.csv')\n",
    "test_df=pd.read_csv('./data/test.csv')"
   ]
  },
  {
   "cell_type": "code",
   "execution_count": 29,
   "id": "25df183c",
   "metadata": {
    "ExecuteTime": {
     "end_time": "2022-07-01T13:39:17.233033Z",
     "start_time": "2022-07-01T13:39:14.286411Z"
    }
   },
   "outputs": [
    {
     "name": "stdout",
     "output_type": "stream",
     "text": [
      "Initial log joint probability = -73.9282\n",
      "    Iter      log prob        ||dx||      ||grad||       alpha      alpha0  # evals  Notes \n",
      "      99       1699.14   5.17586e-06       69.4858      0.7698      0.7698      133   \n",
      "    Iter      log prob        ||dx||      ||grad||       alpha      alpha0  # evals  Notes \n",
      "     110       1699.17   0.000410967       93.1272   3.446e-06       0.001      181  LS failed, Hessian reset \n",
      "     150       1699.19   3.83621e-05       77.7678   4.552e-07       0.001      266  LS failed, Hessian reset \n",
      "     177       1699.19    1.5188e-07       69.0376      0.2292           1      304   \n",
      "Optimization terminated normally: \n",
      "  Convergence detected: relative gradient magnitude is below tolerance\n"
     ]
    }
   ],
   "source": [
    "df=train_df[['date','rental']].copy()\n",
    "df.columns=['ds','y']\n",
    "m = Prophet()\n",
    "m.daily_seasonality=True\n",
    "m.weekly_seasonality=True\n",
    "m.yearly_seasonality=True\n",
    "m.fit(df)\n",
    "future=m.make_future_dataframe(365)\n",
    "forecast = m.predict(future)"
   ]
  },
  {
   "cell_type": "code",
   "execution_count": 30,
   "id": "9ef76b8a",
   "metadata": {
    "ExecuteTime": {
     "end_time": "2022-07-01T13:39:17.274476Z",
     "start_time": "2022-07-01T13:39:17.271822Z"
    }
   },
   "outputs": [],
   "source": [
    "train_df['rental']=train_df['rental']/forecast[:-365]['trend']"
   ]
  },
  {
   "cell_type": "code",
   "execution_count": 31,
   "id": "ba4310b1",
   "metadata": {
    "ExecuteTime": {
     "end_time": "2022-07-01T13:39:17.315908Z",
     "start_time": "2022-07-01T13:39:17.309723Z"
    }
   },
   "outputs": [],
   "source": [
    "train_df['date']=pd.to_datetime(train_df['date'])\n",
    "train_df['year']=train_df['date'].dt.year\n",
    "train_df['month']=train_df['date'].dt.month\n",
    "train_df['day']=train_df['date'].dt.day\n",
    "train_df = train_df[['date', 'precipitation', 'temp_mean', 'temp_highest', 'temp_lowest',\n",
    "       'PM10', 'PM2.5', 'humidity', 'sunshine_sum', 'sunshine_rate',\n",
    "       'wind_mean', 'wind_max', 'year', 'month', 'day', 'rental']]"
   ]
  },
  {
   "cell_type": "code",
   "execution_count": 32,
   "id": "df05a5ee",
   "metadata": {
    "ExecuteTime": {
     "end_time": "2022-07-01T13:39:23.659309Z",
     "start_time": "2022-07-01T13:39:23.654794Z"
    }
   },
   "outputs": [],
   "source": [
    "# 옵션에 따라, 선택한 데이터프레임의 컬럼의 결측값을 채워주는 함수\n",
    "# option = 0, min, max, mean, median\n",
    "def cal(my_df, column_name, option):\n",
    "    df=my_df.copy()\n",
    "    df['date']=pd.to_datetime(df['date'])\n",
    "    df['month']=df['date'].dt.month\n",
    "    nn_df = df.iloc[df[column_name].dropna().index]\n",
    "    month_df_list=[nn_df[nn_df['month']==i] for i in range(1,13)]\n",
    "    \n",
    "    if option == 0:\n",
    "        replace_list=[0 for month_df in month_df_list]\n",
    "    elif option =='min':\n",
    "        replace_list=[month_df[column_name].min() for month_df in month_df_list]\n",
    "    elif option =='max':\n",
    "        replace_list=[month_df[column_name].max() for month_df in month_df_list]\n",
    "    elif option == 'mean':\n",
    "        replace_list=[month_df[column_name].mean() for month_df in month_df_list]\n",
    "    elif option == 'median':\n",
    "        replace_list=[month_df[column_name].median() for month_df in month_df_list]\n",
    "    \n",
    "    replace_list = ['']+ replace_list\n",
    "    \n",
    "    result=[]\n",
    "    for i in range(my_df.shape[0]):\n",
    "        n=my_df.iloc[i][column_name]\n",
    "        if math.isnan(n):\n",
    "            result.append(replace_list[df.loc[i]['month']])\n",
    "        else:\n",
    "            result.append(n)\n",
    "    my_df[column_name] = result"
   ]
  },
  {
   "cell_type": "code",
   "execution_count": 33,
   "id": "51256228",
   "metadata": {
    "ExecuteTime": {
     "end_time": "2022-07-01T13:39:36.600912Z",
     "start_time": "2022-07-01T13:39:36.597741Z"
    }
   },
   "outputs": [],
   "source": [
    "null_feature = ['precipitation','PM10','PM2.5','sunshine_sum']\n",
    "best_option_group = ['min' , 'max' , 'median' , 'min']"
   ]
  },
  {
   "cell_type": "code",
   "execution_count": 34,
   "id": "f492fee0",
   "metadata": {
    "ExecuteTime": {
     "end_time": "2022-07-01T13:39:43.146315Z",
     "start_time": "2022-07-01T13:39:42.616120Z"
    }
   },
   "outputs": [],
   "source": [
    "for column_name, option in zip(null_feature, best_option_group):\n",
    "    cal(train_df, column_name, option)"
   ]
  },
  {
   "cell_type": "code",
   "execution_count": 35,
   "id": "b4aee67d",
   "metadata": {
    "ExecuteTime": {
     "end_time": "2022-07-01T13:39:48.959912Z",
     "start_time": "2022-07-01T13:39:48.955630Z"
    }
   },
   "outputs": [
    {
     "data": {
      "text/plain": [
       "[10, 12, 49, 96, 85, 78, 58, 0, 72, 15]"
      ]
     },
     "execution_count": 35,
     "metadata": {},
     "output_type": "execute_result"
    }
   ],
   "source": [
    "random_state_list=[random.randint(0, 100) for _ in range(10)]\n",
    "random_state_list"
   ]
  },
  {
   "cell_type": "code",
   "execution_count": 36,
   "id": "802fb40b",
   "metadata": {
    "ExecuteTime": {
     "end_time": "2022-07-01T13:39:59.071622Z",
     "start_time": "2022-07-01T13:39:55.936842Z"
    }
   },
   "outputs": [
    {
     "name": "stdout",
     "output_type": "stream",
     "text": [
      "1번째\n",
      "Score : 0.9005671394042061\n",
      "Oob_Score : 0.907286205250915\n",
      "2번째\n",
      "Score : 0.905411105656172\n",
      "Oob_Score : 0.9076086471471715\n",
      "3번째\n",
      "Score : 0.9053814014075534\n",
      "Oob_Score : 0.9071575176385851\n",
      "4번째\n",
      "Score : 0.9022160481419764\n",
      "Oob_Score : 0.905506108058991\n",
      "5번째\n",
      "Score : 0.9029218612393313\n",
      "Oob_Score : 0.9057274426533133\n",
      "6번째\n",
      "Score : 0.9045051471572381\n",
      "Oob_Score : 0.9036948552382839\n",
      "7번째\n",
      "Score : 0.9017862794865743\n",
      "Oob_Score : 0.90664721656037\n",
      "8번째\n",
      "Score : 0.9047378637168084\n",
      "Oob_Score : 0.9086901864732576\n",
      "9번째\n",
      "Score : 0.9019144951486288\n",
      "Oob_Score : 0.9112685461772113\n",
      "10번째\n",
      "Score : 0.9025770434085442\n",
      "Oob_Score : 0.9079712744580146\n"
     ]
    }
   ],
   "source": [
    "X,y = train_df.iloc[:,1:-1].to_numpy(), train_df.iloc[:,-1].to_numpy()\n",
    "X_train, X_test, y_train, y_test = train_test_split(X,y , test_size=0.33, random_state=False)\n",
    "for i, state in enumerate(random_state_list): \n",
    "    rf = RandomForestRegressor(oob_score=True, random_state=state)\n",
    "    rf.fit(X_train, y_train)\n",
    "    score=rf.score(X_test, y_test)\n",
    "    print(f'{i+1}번째')\n",
    "    print(f'Score : {score}')\n",
    "    print(f'Oob_Score : {rf.oob_score_}')"
   ]
  },
  {
   "cell_type": "code",
   "execution_count": 38,
   "id": "4ea2b690",
   "metadata": {
    "ExecuteTime": {
     "end_time": "2022-07-01T13:40:41.851397Z",
     "start_time": "2022-07-01T13:40:41.837930Z"
    }
   },
   "outputs": [
    {
     "name": "stdout",
     "output_type": "stream",
     "text": [
      "('temp_highest', 0.5465225671813158)\n",
      "('year', 0.11812816652396348)\n",
      "('humidity', 0.08821519125588559)\n",
      "('precipitation', 0.08671087213227834)\n",
      "('sunshine_sum', 0.030216469832044124)\n",
      "('temp_mean', 0.02902691484394027)\n",
      "('sunshine_rate', 0.024540564865326416)\n",
      "('temp_lowest', 0.02419288935508021)\n",
      "('month', 0.014811920291157082)\n",
      "('PM2.5', 0.009354495564610432)\n",
      "('PM10', 0.009329028255293878)\n",
      "('wind_max', 0.006580866104073585)\n",
      "('day', 0.006396008468677072)\n",
      "('wind_mean', 0.0059740453263537364)\n"
     ]
    }
   ],
   "source": [
    "print(*sorted(zip(train_df.iloc[:,1:-1].columns ,rf.feature_importances_), key=lambda x : x[1], reverse=True), sep='\\n')"
   ]
  },
  {
   "cell_type": "code",
   "execution_count": 40,
   "id": "5d22eaa7",
   "metadata": {
    "ExecuteTime": {
     "end_time": "2022-07-01T13:41:59.740959Z",
     "start_time": "2022-07-01T13:41:59.727910Z"
    }
   },
   "outputs": [
    {
     "data": {
      "text/plain": [
       "('temp_highest', 0.5465225671813158)"
      ]
     },
     "execution_count": 40,
     "metadata": {},
     "output_type": "execute_result"
    }
   ],
   "source": [
    "importance_list = sorted(zip(train_df.iloc[:,1:-1].columns ,rf.feature_importances_), key=lambda x : x[1], reverse=True)\n",
    "importance_list[0]"
   ]
  },
  {
   "cell_type": "code",
   "execution_count": 56,
   "id": "2ca8c929",
   "metadata": {
    "ExecuteTime": {
     "end_time": "2022-07-01T13:50:23.459000Z",
     "start_time": "2022-07-01T13:50:22.322839Z"
    }
   },
   "outputs": [
    {
     "name": "stdout",
     "output_type": "stream",
     "text": [
      "1 0.9007463645962364 (1095, 13)\n",
      "2 0.9019445365569001 (1095, 12)\n",
      "3 0.9038751581664527 (1095, 11)\n",
      "4 0.9040955714379885 (1095, 10)\n"
     ]
    }
   ],
   "source": [
    "for i in range(1, 10):\n",
    "    drop_train_df = train_df.drop([*[col for col, acc in importance_list[-i:]]], axis=1)\n",
    "    X,y = drop_train_df.iloc[:,1:-1].to_numpy(), drop_train_df.iloc[:,-1].to_numpy()\n",
    "    X_train, X_test, y_train, y_test = train_test_split(X,y , test_size=0.33, random_state=False)\n",
    "    rf = RandomForestRegressor(oob_score=True, random_state=state)\n",
    "    rf.fit(X_train, y_train)\n",
    "    score=rf.score(X_test, y_test)\n",
    "    print(i, score, X.shape)\n",
    "    if i ==4:\n",
    "        break"
   ]
  },
  {
   "cell_type": "code",
   "execution_count": 58,
   "id": "095e70d6",
   "metadata": {
    "ExecuteTime": {
     "end_time": "2022-07-01T13:54:16.880855Z",
     "start_time": "2022-07-01T13:54:15.727163Z"
    }
   },
   "outputs": [
    {
     "name": "stdout",
     "output_type": "stream",
     "text": [
      "1 0.802787187502729 (1095, 12)\n",
      "2 0.8023627531071444 (1095, 11)\n",
      "3 0.7837700053396297 (1095, 10)\n",
      "4 0.7778688962626799 (1095, 9)\n"
     ]
    }
   ],
   "source": [
    "for i in range(1, 10):\n",
    "    drop_train_df = train_df.drop([*[col for col, acc in importance_list[-i:]]], axis=1)\n",
    "    drop_train_df.drop(['year'], axis=1, inplace=True)\n",
    "    X,y = drop_train_df.iloc[:,1:-1].to_numpy(), drop_train_df.iloc[:,-1].to_numpy()\n",
    "    X_train, X_test, y_train, y_test = train_test_split(X,y , test_size=0.33, random_state=False)\n",
    "    rf = RandomForestRegressor(oob_score=True, random_state=state)\n",
    "    rf.fit(X_train, y_train)\n",
    "    score=rf.score(X_test, y_test)\n",
    "    print(i, score, X.shape)\n",
    "    if i ==4:\n",
    "        break"
   ]
  },
  {
   "cell_type": "code",
   "execution_count": 57,
   "id": "07875f62",
   "metadata": {
    "ExecuteTime": {
     "end_time": "2022-07-01T13:50:37.574492Z",
     "start_time": "2022-07-01T13:50:37.570705Z"
    }
   },
   "outputs": [
    {
     "data": {
      "text/plain": [
       "[('PM10', 0.009329028255293878),\n",
       " ('wind_max', 0.006580866104073585),\n",
       " ('day', 0.006396008468677072),\n",
       " ('wind_mean', 0.0059740453263537364)]"
      ]
     },
     "execution_count": 57,
     "metadata": {},
     "output_type": "execute_result"
    }
   ],
   "source": [
    "importance_list[-4:]"
   ]
  },
  {
   "cell_type": "code",
   "execution_count": 43,
   "id": "1a64a352",
   "metadata": {
    "ExecuteTime": {
     "end_time": "2022-07-01T13:43:22.341420Z",
     "start_time": "2022-07-01T13:43:22.338296Z"
    }
   },
   "outputs": [],
   "source": [
    "drop_train_df_1=train_df.drop([*[col for col, acc in importance_list[-3:]]], axis=1)"
   ]
  },
  {
   "cell_type": "code",
   "execution_count": null,
   "id": "2839b45c",
   "metadata": {},
   "outputs": [],
   "source": []
  },
  {
   "cell_type": "code",
   "execution_count": 166,
   "id": "736955e3",
   "metadata": {
    "ExecuteTime": {
     "end_time": "2022-07-01T14:48:59.894312Z",
     "start_time": "2022-07-01T14:48:59.891608Z"
    }
   },
   "outputs": [],
   "source": [
    "from supervised.automl import BaseAutoML, AutoML\n",
    "\n",
    "from prophet import Prophet\n",
    "\n",
    "import pandas as pd\n",
    "\n",
    "import math"
   ]
  },
  {
   "cell_type": "code",
   "execution_count": 167,
   "id": "1d8d846c",
   "metadata": {
    "ExecuteTime": {
     "end_time": "2022-07-01T14:49:00.271409Z",
     "start_time": "2022-07-01T14:49:00.264067Z"
    }
   },
   "outputs": [],
   "source": [
    "train_df=pd.read_csv('./data/train.csv')\n",
    "test_df=pd.read_csv('./data/test.csv')"
   ]
  },
  {
   "cell_type": "code",
   "execution_count": 168,
   "id": "4fc4fa19",
   "metadata": {
    "ExecuteTime": {
     "end_time": "2022-07-01T14:49:04.295642Z",
     "start_time": "2022-07-01T14:49:01.369328Z"
    }
   },
   "outputs": [
    {
     "name": "stdout",
     "output_type": "stream",
     "text": [
      "Initial log joint probability = -73.9282\n",
      "    Iter      log prob        ||dx||      ||grad||       alpha      alpha0  # evals  Notes \n",
      "      99       1699.14   5.17586e-06       69.4858      0.7698      0.7698      133   \n",
      "    Iter      log prob        ||dx||      ||grad||       alpha      alpha0  # evals  Notes \n",
      "     110       1699.17   0.000410967       93.1272   3.446e-06       0.001      181  LS failed, Hessian reset \n",
      "     150       1699.19   3.83621e-05       77.7678   4.552e-07       0.001      266  LS failed, Hessian reset \n",
      "     177       1699.19    1.5188e-07       69.0376      0.2292           1      304   \n",
      "Optimization terminated normally: \n",
      "  Convergence detected: relative gradient magnitude is below tolerance\n"
     ]
    }
   ],
   "source": [
    "df=train_df[['date','rental']].copy()\n",
    "df.columns=['ds','y']\n",
    "m = Prophet()\n",
    "m.daily_seasonality=True\n",
    "m.weekly_seasonality=True\n",
    "m.yearly_seasonality=True\n",
    "m.fit(df)\n",
    "future=m.make_future_dataframe(365)\n",
    "forecast = m.predict(future)"
   ]
  },
  {
   "cell_type": "code",
   "execution_count": 169,
   "id": "4fae4322",
   "metadata": {
    "ExecuteTime": {
     "end_time": "2022-07-01T14:49:04.384262Z",
     "start_time": "2022-07-01T14:49:04.381255Z"
    }
   },
   "outputs": [],
   "source": [
    "train_df['rental']=train_df['rental']/forecast[:-365]['trend']"
   ]
  },
  {
   "cell_type": "code",
   "execution_count": 170,
   "id": "89c7240a",
   "metadata": {
    "ExecuteTime": {
     "end_time": "2022-07-01T14:49:04.478225Z",
     "start_time": "2022-07-01T14:49:04.473370Z"
    }
   },
   "outputs": [],
   "source": [
    "train_df['date']=pd.to_datetime(train_df['date'])\n",
    "train_df['year']=train_df['date'].dt.year\n",
    "train_df['month']=train_df['date'].dt.month\n",
    "train_df['day']=train_df['date'].dt.day\n",
    "train_df['weekday'] = train_df['date'].dt.dayofweek\n",
    "train_df = pd.get_dummies(data = train_df, prefix=['year'], columns=['year'])\n",
    "train_df['year']=train_df['date'].dt.year"
   ]
  },
  {
   "cell_type": "code",
   "execution_count": 171,
   "id": "9b79e661",
   "metadata": {
    "ExecuteTime": {
     "end_time": "2022-07-01T14:49:04.571537Z",
     "start_time": "2022-07-01T14:49:04.568297Z"
    }
   },
   "outputs": [
    {
     "data": {
      "text/plain": [
       "Index(['date', 'precipitation', 'temp_mean', 'temp_highest', 'temp_lowest',\n",
       "       'PM10', 'PM2.5', 'humidity', 'sunshine_sum', 'sunshine_rate',\n",
       "       'wind_mean', 'wind_max', 'rental', 'year', 'month', 'day'],\n",
       "      dtype='object')"
      ]
     },
     "execution_count": 171,
     "metadata": {},
     "output_type": "execute_result"
    }
   ],
   "source": [
    "train_df.columns"
   ]
  },
  {
   "cell_type": "code",
   "execution_count": 172,
   "id": "de5bff45",
   "metadata": {
    "ExecuteTime": {
     "end_time": "2022-07-01T14:49:04.677391Z",
     "start_time": "2022-07-01T14:49:04.661226Z"
    }
   },
   "outputs": [
    {
     "data": {
      "text/html": [
       "<div>\n",
       "<style scoped>\n",
       "    .dataframe tbody tr th:only-of-type {\n",
       "        vertical-align: middle;\n",
       "    }\n",
       "\n",
       "    .dataframe tbody tr th {\n",
       "        vertical-align: top;\n",
       "    }\n",
       "\n",
       "    .dataframe thead th {\n",
       "        text-align: right;\n",
       "    }\n",
       "</style>\n",
       "<table border=\"1\" class=\"dataframe\">\n",
       "  <thead>\n",
       "    <tr style=\"text-align: right;\">\n",
       "      <th></th>\n",
       "      <th>date</th>\n",
       "      <th>precipitation</th>\n",
       "      <th>temp_mean</th>\n",
       "      <th>temp_highest</th>\n",
       "      <th>temp_lowest</th>\n",
       "      <th>PM10</th>\n",
       "      <th>PM2.5</th>\n",
       "      <th>humidity</th>\n",
       "      <th>sunshine_sum</th>\n",
       "      <th>sunshine_rate</th>\n",
       "      <th>wind_mean</th>\n",
       "      <th>wind_max</th>\n",
       "      <th>rental</th>\n",
       "      <th>year</th>\n",
       "      <th>month</th>\n",
       "      <th>day</th>\n",
       "    </tr>\n",
       "  </thead>\n",
       "  <tbody>\n",
       "    <tr>\n",
       "      <th>0</th>\n",
       "      <td>2018-01-01</td>\n",
       "      <td>NaN</td>\n",
       "      <td>-1.3</td>\n",
       "      <td>3.8</td>\n",
       "      <td>-5.1</td>\n",
       "      <td>34.0</td>\n",
       "      <td>17.0</td>\n",
       "      <td>39.1</td>\n",
       "      <td>8.3</td>\n",
       "      <td>86.5</td>\n",
       "      <td>1.4</td>\n",
       "      <td>3.8</td>\n",
       "      <td>0.599347</td>\n",
       "      <td>2018</td>\n",
       "      <td>1</td>\n",
       "      <td>1</td>\n",
       "    </tr>\n",
       "    <tr>\n",
       "      <th>1</th>\n",
       "      <td>2018-01-02</td>\n",
       "      <td>NaN</td>\n",
       "      <td>-1.8</td>\n",
       "      <td>1.8</td>\n",
       "      <td>-4.3</td>\n",
       "      <td>36.0</td>\n",
       "      <td>22.0</td>\n",
       "      <td>42.0</td>\n",
       "      <td>7.9</td>\n",
       "      <td>82.3</td>\n",
       "      <td>1.8</td>\n",
       "      <td>4.9</td>\n",
       "      <td>0.861322</td>\n",
       "      <td>2018</td>\n",
       "      <td>1</td>\n",
       "      <td>2</td>\n",
       "    </tr>\n",
       "    <tr>\n",
       "      <th>2</th>\n",
       "      <td>2018-01-03</td>\n",
       "      <td>NaN</td>\n",
       "      <td>-4.7</td>\n",
       "      <td>-0.4</td>\n",
       "      <td>-7.1</td>\n",
       "      <td>31.0</td>\n",
       "      <td>19.0</td>\n",
       "      <td>42.3</td>\n",
       "      <td>8.6</td>\n",
       "      <td>88.7</td>\n",
       "      <td>2.2</td>\n",
       "      <td>3.5</td>\n",
       "      <td>0.861039</td>\n",
       "      <td>2018</td>\n",
       "      <td>1</td>\n",
       "      <td>3</td>\n",
       "    </tr>\n",
       "    <tr>\n",
       "      <th>3</th>\n",
       "      <td>2018-01-04</td>\n",
       "      <td>NaN</td>\n",
       "      <td>-4.7</td>\n",
       "      <td>-0.7</td>\n",
       "      <td>-8.7</td>\n",
       "      <td>39.0</td>\n",
       "      <td>24.0</td>\n",
       "      <td>43.0</td>\n",
       "      <td>6.2</td>\n",
       "      <td>63.9</td>\n",
       "      <td>1.4</td>\n",
       "      <td>3.5</td>\n",
       "      <td>0.851881</td>\n",
       "      <td>2018</td>\n",
       "      <td>1</td>\n",
       "      <td>4</td>\n",
       "    </tr>\n",
       "    <tr>\n",
       "      <th>4</th>\n",
       "      <td>2018-01-05</td>\n",
       "      <td>NaN</td>\n",
       "      <td>-3.0</td>\n",
       "      <td>1.6</td>\n",
       "      <td>-5.6</td>\n",
       "      <td>51.0</td>\n",
       "      <td>35.0</td>\n",
       "      <td>48.4</td>\n",
       "      <td>8.2</td>\n",
       "      <td>84.5</td>\n",
       "      <td>1.7</td>\n",
       "      <td>3.6</td>\n",
       "      <td>0.921342</td>\n",
       "      <td>2018</td>\n",
       "      <td>1</td>\n",
       "      <td>5</td>\n",
       "    </tr>\n",
       "    <tr>\n",
       "      <th>...</th>\n",
       "      <td>...</td>\n",
       "      <td>...</td>\n",
       "      <td>...</td>\n",
       "      <td>...</td>\n",
       "      <td>...</td>\n",
       "      <td>...</td>\n",
       "      <td>...</td>\n",
       "      <td>...</td>\n",
       "      <td>...</td>\n",
       "      <td>...</td>\n",
       "      <td>...</td>\n",
       "      <td>...</td>\n",
       "      <td>...</td>\n",
       "      <td>...</td>\n",
       "      <td>...</td>\n",
       "      <td>...</td>\n",
       "    </tr>\n",
       "    <tr>\n",
       "      <th>1090</th>\n",
       "      <td>2020-12-27</td>\n",
       "      <td>0.0</td>\n",
       "      <td>5.8</td>\n",
       "      <td>10.0</td>\n",
       "      <td>1.4</td>\n",
       "      <td>70.0</td>\n",
       "      <td>42.0</td>\n",
       "      <td>62.9</td>\n",
       "      <td>5.9</td>\n",
       "      <td>61.5</td>\n",
       "      <td>1.8</td>\n",
       "      <td>2.8</td>\n",
       "      <td>0.631485</td>\n",
       "      <td>2020</td>\n",
       "      <td>12</td>\n",
       "      <td>27</td>\n",
       "    </tr>\n",
       "    <tr>\n",
       "      <th>1091</th>\n",
       "      <td>2020-12-28</td>\n",
       "      <td>1.3</td>\n",
       "      <td>6.7</td>\n",
       "      <td>11.4</td>\n",
       "      <td>4.2</td>\n",
       "      <td>66.0</td>\n",
       "      <td>44.0</td>\n",
       "      <td>72.1</td>\n",
       "      <td>8.0</td>\n",
       "      <td>83.3</td>\n",
       "      <td>1.4</td>\n",
       "      <td>3.1</td>\n",
       "      <td>0.797950</td>\n",
       "      <td>2020</td>\n",
       "      <td>12</td>\n",
       "      <td>28</td>\n",
       "    </tr>\n",
       "    <tr>\n",
       "      <th>1092</th>\n",
       "      <td>2020-12-29</td>\n",
       "      <td>0.2</td>\n",
       "      <td>0.1</td>\n",
       "      <td>4.3</td>\n",
       "      <td>-6.2</td>\n",
       "      <td>69.0</td>\n",
       "      <td>46.0</td>\n",
       "      <td>70.8</td>\n",
       "      <td>0.0</td>\n",
       "      <td>0.0</td>\n",
       "      <td>2.9</td>\n",
       "      <td>6.1</td>\n",
       "      <td>0.607672</td>\n",
       "      <td>2020</td>\n",
       "      <td>12</td>\n",
       "      <td>29</td>\n",
       "    </tr>\n",
       "    <tr>\n",
       "      <th>1093</th>\n",
       "      <td>2020-12-30</td>\n",
       "      <td>NaN</td>\n",
       "      <td>-10.9</td>\n",
       "      <td>-6.2</td>\n",
       "      <td>-12.9</td>\n",
       "      <td>39.0</td>\n",
       "      <td>15.0</td>\n",
       "      <td>55.5</td>\n",
       "      <td>8.3</td>\n",
       "      <td>86.5</td>\n",
       "      <td>4.1</td>\n",
       "      <td>6.2</td>\n",
       "      <td>0.382048</td>\n",
       "      <td>2020</td>\n",
       "      <td>12</td>\n",
       "      <td>30</td>\n",
       "    </tr>\n",
       "    <tr>\n",
       "      <th>1094</th>\n",
       "      <td>2020-12-31</td>\n",
       "      <td>0.0</td>\n",
       "      <td>-8.9</td>\n",
       "      <td>-5.0</td>\n",
       "      <td>-12.9</td>\n",
       "      <td>28.0</td>\n",
       "      <td>12.0</td>\n",
       "      <td>53.9</td>\n",
       "      <td>6.0</td>\n",
       "      <td>62.5</td>\n",
       "      <td>2.4</td>\n",
       "      <td>4.2</td>\n",
       "      <td>0.416573</td>\n",
       "      <td>2020</td>\n",
       "      <td>12</td>\n",
       "      <td>31</td>\n",
       "    </tr>\n",
       "  </tbody>\n",
       "</table>\n",
       "<p>1095 rows × 16 columns</p>\n",
       "</div>"
      ],
      "text/plain": [
       "           date  precipitation  temp_mean  temp_highest  temp_lowest  PM10  \\\n",
       "0    2018-01-01            NaN       -1.3           3.8         -5.1  34.0   \n",
       "1    2018-01-02            NaN       -1.8           1.8         -4.3  36.0   \n",
       "2    2018-01-03            NaN       -4.7          -0.4         -7.1  31.0   \n",
       "3    2018-01-04            NaN       -4.7          -0.7         -8.7  39.0   \n",
       "4    2018-01-05            NaN       -3.0           1.6         -5.6  51.0   \n",
       "...         ...            ...        ...           ...          ...   ...   \n",
       "1090 2020-12-27            0.0        5.8          10.0          1.4  70.0   \n",
       "1091 2020-12-28            1.3        6.7          11.4          4.2  66.0   \n",
       "1092 2020-12-29            0.2        0.1           4.3         -6.2  69.0   \n",
       "1093 2020-12-30            NaN      -10.9          -6.2        -12.9  39.0   \n",
       "1094 2020-12-31            0.0       -8.9          -5.0        -12.9  28.0   \n",
       "\n",
       "      PM2.5  humidity  sunshine_sum  sunshine_rate  wind_mean  wind_max  \\\n",
       "0      17.0      39.1           8.3           86.5        1.4       3.8   \n",
       "1      22.0      42.0           7.9           82.3        1.8       4.9   \n",
       "2      19.0      42.3           8.6           88.7        2.2       3.5   \n",
       "3      24.0      43.0           6.2           63.9        1.4       3.5   \n",
       "4      35.0      48.4           8.2           84.5        1.7       3.6   \n",
       "...     ...       ...           ...            ...        ...       ...   \n",
       "1090   42.0      62.9           5.9           61.5        1.8       2.8   \n",
       "1091   44.0      72.1           8.0           83.3        1.4       3.1   \n",
       "1092   46.0      70.8           0.0            0.0        2.9       6.1   \n",
       "1093   15.0      55.5           8.3           86.5        4.1       6.2   \n",
       "1094   12.0      53.9           6.0           62.5        2.4       4.2   \n",
       "\n",
       "        rental  year  month  day  \n",
       "0     0.599347  2018      1    1  \n",
       "1     0.861322  2018      1    2  \n",
       "2     0.861039  2018      1    3  \n",
       "3     0.851881  2018      1    4  \n",
       "4     0.921342  2018      1    5  \n",
       "...        ...   ...    ...  ...  \n",
       "1090  0.631485  2020     12   27  \n",
       "1091  0.797950  2020     12   28  \n",
       "1092  0.607672  2020     12   29  \n",
       "1093  0.382048  2020     12   30  \n",
       "1094  0.416573  2020     12   31  \n",
       "\n",
       "[1095 rows x 16 columns]"
      ]
     },
     "execution_count": 172,
     "metadata": {},
     "output_type": "execute_result"
    }
   ],
   "source": [
    "train_df"
   ]
  },
  {
   "cell_type": "code",
   "execution_count": 173,
   "id": "5f6556c4",
   "metadata": {
    "ExecuteTime": {
     "end_time": "2022-07-01T14:49:04.783938Z",
     "start_time": "2022-07-01T14:49:04.768163Z"
    }
   },
   "outputs": [
    {
     "ename": "KeyError",
     "evalue": "\"['weekday'] not in index\"",
     "output_type": "error",
     "traceback": [
      "\u001b[0;31m---------------------------------------------------------------------------\u001b[0m",
      "\u001b[0;31mKeyError\u001b[0m                                  Traceback (most recent call last)",
      "\u001b[0;32m/tmp/ipykernel_20475/3330683405.py\u001b[0m in \u001b[0;36m<module>\u001b[0;34m\u001b[0m\n\u001b[0;32m----> 1\u001b[0;31m train_df = train_df[['date', 'precipitation', 'temp_mean', 'temp_highest', 'temp_lowest',\n\u001b[0m\u001b[1;32m      2\u001b[0m        \u001b[0;34m'PM10'\u001b[0m\u001b[0;34m,\u001b[0m \u001b[0;34m'PM2.5'\u001b[0m\u001b[0;34m,\u001b[0m \u001b[0;34m'humidity'\u001b[0m\u001b[0;34m,\u001b[0m \u001b[0;34m'sunshine_sum'\u001b[0m\u001b[0;34m,\u001b[0m \u001b[0;34m'sunshine_rate'\u001b[0m\u001b[0;34m,\u001b[0m\u001b[0;34m\u001b[0m\u001b[0;34m\u001b[0m\u001b[0m\n\u001b[1;32m      3\u001b[0m        'wind_mean', 'wind_max', 'year', 'month', 'day', 'weekday', 'rental']]\n",
      "\u001b[0;32m~/.local/lib/python3.8/site-packages/pandas/core/frame.py\u001b[0m in \u001b[0;36m__getitem__\u001b[0;34m(self, key)\u001b[0m\n\u001b[1;32m   3462\u001b[0m             \u001b[0;32mif\u001b[0m \u001b[0mis_iterator\u001b[0m\u001b[0;34m(\u001b[0m\u001b[0mkey\u001b[0m\u001b[0;34m)\u001b[0m\u001b[0;34m:\u001b[0m\u001b[0;34m\u001b[0m\u001b[0;34m\u001b[0m\u001b[0m\n\u001b[1;32m   3463\u001b[0m                 \u001b[0mkey\u001b[0m \u001b[0;34m=\u001b[0m \u001b[0mlist\u001b[0m\u001b[0;34m(\u001b[0m\u001b[0mkey\u001b[0m\u001b[0;34m)\u001b[0m\u001b[0;34m\u001b[0m\u001b[0;34m\u001b[0m\u001b[0m\n\u001b[0;32m-> 3464\u001b[0;31m             \u001b[0mindexer\u001b[0m \u001b[0;34m=\u001b[0m \u001b[0mself\u001b[0m\u001b[0;34m.\u001b[0m\u001b[0mloc\u001b[0m\u001b[0;34m.\u001b[0m\u001b[0m_get_listlike_indexer\u001b[0m\u001b[0;34m(\u001b[0m\u001b[0mkey\u001b[0m\u001b[0;34m,\u001b[0m \u001b[0maxis\u001b[0m\u001b[0;34m=\u001b[0m\u001b[0;36m1\u001b[0m\u001b[0;34m)\u001b[0m\u001b[0;34m[\u001b[0m\u001b[0;36m1\u001b[0m\u001b[0;34m]\u001b[0m\u001b[0;34m\u001b[0m\u001b[0;34m\u001b[0m\u001b[0m\n\u001b[0m\u001b[1;32m   3465\u001b[0m \u001b[0;34m\u001b[0m\u001b[0m\n\u001b[1;32m   3466\u001b[0m         \u001b[0;31m# take() does not accept boolean indexers\u001b[0m\u001b[0;34m\u001b[0m\u001b[0;34m\u001b[0m\u001b[0;34m\u001b[0m\u001b[0m\n",
      "\u001b[0;32m~/.local/lib/python3.8/site-packages/pandas/core/indexing.py\u001b[0m in \u001b[0;36m_get_listlike_indexer\u001b[0;34m(self, key, axis)\u001b[0m\n\u001b[1;32m   1312\u001b[0m             \u001b[0mkeyarr\u001b[0m\u001b[0;34m,\u001b[0m \u001b[0mindexer\u001b[0m\u001b[0;34m,\u001b[0m \u001b[0mnew_indexer\u001b[0m \u001b[0;34m=\u001b[0m \u001b[0max\u001b[0m\u001b[0;34m.\u001b[0m\u001b[0m_reindex_non_unique\u001b[0m\u001b[0;34m(\u001b[0m\u001b[0mkeyarr\u001b[0m\u001b[0;34m)\u001b[0m\u001b[0;34m\u001b[0m\u001b[0;34m\u001b[0m\u001b[0m\n\u001b[1;32m   1313\u001b[0m \u001b[0;34m\u001b[0m\u001b[0m\n\u001b[0;32m-> 1314\u001b[0;31m         \u001b[0mself\u001b[0m\u001b[0;34m.\u001b[0m\u001b[0m_validate_read_indexer\u001b[0m\u001b[0;34m(\u001b[0m\u001b[0mkeyarr\u001b[0m\u001b[0;34m,\u001b[0m \u001b[0mindexer\u001b[0m\u001b[0;34m,\u001b[0m \u001b[0maxis\u001b[0m\u001b[0;34m)\u001b[0m\u001b[0;34m\u001b[0m\u001b[0;34m\u001b[0m\u001b[0m\n\u001b[0m\u001b[1;32m   1315\u001b[0m \u001b[0;34m\u001b[0m\u001b[0m\n\u001b[1;32m   1316\u001b[0m         if needs_i8_conversion(ax.dtype) or isinstance(\n",
      "\u001b[0;32m~/.local/lib/python3.8/site-packages/pandas/core/indexing.py\u001b[0m in \u001b[0;36m_validate_read_indexer\u001b[0;34m(self, key, indexer, axis)\u001b[0m\n\u001b[1;32m   1375\u001b[0m \u001b[0;34m\u001b[0m\u001b[0m\n\u001b[1;32m   1376\u001b[0m             \u001b[0mnot_found\u001b[0m \u001b[0;34m=\u001b[0m \u001b[0mlist\u001b[0m\u001b[0;34m(\u001b[0m\u001b[0mensure_index\u001b[0m\u001b[0;34m(\u001b[0m\u001b[0mkey\u001b[0m\u001b[0;34m)\u001b[0m\u001b[0;34m[\u001b[0m\u001b[0mmissing_mask\u001b[0m\u001b[0;34m.\u001b[0m\u001b[0mnonzero\u001b[0m\u001b[0;34m(\u001b[0m\u001b[0;34m)\u001b[0m\u001b[0;34m[\u001b[0m\u001b[0;36m0\u001b[0m\u001b[0;34m]\u001b[0m\u001b[0;34m]\u001b[0m\u001b[0;34m.\u001b[0m\u001b[0munique\u001b[0m\u001b[0;34m(\u001b[0m\u001b[0;34m)\u001b[0m\u001b[0;34m)\u001b[0m\u001b[0;34m\u001b[0m\u001b[0;34m\u001b[0m\u001b[0m\n\u001b[0;32m-> 1377\u001b[0;31m             \u001b[0;32mraise\u001b[0m \u001b[0mKeyError\u001b[0m\u001b[0;34m(\u001b[0m\u001b[0;34mf\"{not_found} not in index\"\u001b[0m\u001b[0;34m)\u001b[0m\u001b[0;34m\u001b[0m\u001b[0;34m\u001b[0m\u001b[0m\n\u001b[0m\u001b[1;32m   1378\u001b[0m \u001b[0;34m\u001b[0m\u001b[0m\n\u001b[1;32m   1379\u001b[0m \u001b[0;34m\u001b[0m\u001b[0m\n",
      "\u001b[0;31mKeyError\u001b[0m: \"['weekday'] not in index\""
     ]
    }
   ],
   "source": [
    "train_df = train_df[['date', 'precipitation', 'temp_mean', 'temp_highest', 'temp_lowest',\n",
    "       'PM10', 'PM2.5', 'humidity', 'sunshine_sum', 'sunshine_rate',\n",
    "       'wind_mean', 'wind_max', 'year', 'month', 'day', 'weekday', 'rental']]"
   ]
  },
  {
   "cell_type": "code",
   "execution_count": 174,
   "id": "64a8f673",
   "metadata": {
    "ExecuteTime": {
     "end_time": "2022-07-01T14:49:05.469542Z",
     "start_time": "2022-07-01T14:49:05.464846Z"
    }
   },
   "outputs": [],
   "source": [
    "# 옵션에 따라, 선택한 데이터프레임의 컬럼의 결측값을 채워주는 함수\n",
    "# option = 0, min, max, mean, median\n",
    "def cal(my_df, column_name, option):\n",
    "    df=my_df.copy()\n",
    "    df['date']=pd.to_datetime(df['date'])\n",
    "    df['month']=df['date'].dt.month\n",
    "    nn_df = df.iloc[df[column_name].dropna().index]\n",
    "    month_df_list=[nn_df[nn_df['month']==i] for i in range(1,13)]\n",
    "    \n",
    "    if option == 0:\n",
    "        replace_list=[0 for month_df in month_df_list]\n",
    "    elif option =='min':\n",
    "        replace_list=[month_df[column_name].min() for month_df in month_df_list]\n",
    "    elif option =='max':\n",
    "        replace_list=[month_df[column_name].max() for month_df in month_df_list]\n",
    "    elif option == 'mean':\n",
    "        replace_list=[month_df[column_name].mean() for month_df in month_df_list]\n",
    "    elif option == 'median':\n",
    "        replace_list=[month_df[column_name].median() for month_df in month_df_list]\n",
    "    \n",
    "    replace_list = ['']+ replace_list\n",
    "    \n",
    "    result=[]\n",
    "    for i in range(my_df.shape[0]):\n",
    "        n=my_df.iloc[i][column_name]\n",
    "        if math.isnan(n):\n",
    "            result.append(replace_list[df.loc[i]['month']])\n",
    "        else:\n",
    "            result.append(n)\n",
    "    my_df[column_name] = result"
   ]
  },
  {
   "cell_type": "code",
   "execution_count": 175,
   "id": "c9e6f272",
   "metadata": {
    "ExecuteTime": {
     "end_time": "2022-07-01T14:49:07.163862Z",
     "start_time": "2022-07-01T14:49:06.657960Z"
    }
   },
   "outputs": [],
   "source": [
    "null_feature = ['precipitation','PM10','PM2.5','sunshine_sum']\n",
    "best_option_group = ['min' , 'max' , 'median' , 'min']\n",
    "for column_name, option in zip(null_feature, best_option_group):\n",
    "    cal(train_df, column_name, option)"
   ]
  },
  {
   "cell_type": "code",
   "execution_count": 176,
   "id": "57463014",
   "metadata": {
    "ExecuteTime": {
     "end_time": "2022-07-01T14:49:08.333605Z",
     "start_time": "2022-07-01T14:49:08.329813Z"
    }
   },
   "outputs": [
    {
     "data": {
      "text/plain": [
       "[99, 14, 43, 61, 77, 34, 53, 94, 8, 8]"
      ]
     },
     "execution_count": 176,
     "metadata": {},
     "output_type": "execute_result"
    }
   ],
   "source": [
    "random_state_list=[random.randint(0, 100) for _ in range(10)]\n",
    "random_state_list"
   ]
  },
  {
   "cell_type": "code",
   "execution_count": 177,
   "id": "042474b3",
   "metadata": {
    "ExecuteTime": {
     "end_time": "2022-07-01T14:49:11.976618Z",
     "start_time": "2022-07-01T14:49:11.971825Z"
    }
   },
   "outputs": [],
   "source": [
    "# train_df.drop([*[col for col, acc in importance_list[-i:]]], axis=1, inplace=True)\n",
    "\n",
    "# train_df.drop(['year'], axis=1, inplace=True)\n",
    "\n",
    "X,y = train_df.iloc[:,1:-1].to_numpy(), train_df.iloc[:,-1].to_numpy()\n",
    "X_train, X_test, y_train, y_test = train_test_split(X,y , test_size=0.33, random_state=False)"
   ]
  },
  {
   "cell_type": "code",
   "execution_count": 179,
   "id": "be2783f0",
   "metadata": {
    "ExecuteTime": {
     "end_time": "2022-07-01T14:49:40.124171Z",
     "start_time": "2022-07-01T14:49:24.786167Z"
    }
   },
   "outputs": [
    {
     "name": "stdout",
     "output_type": "stream",
     "text": [
      "AutoML directory: ./hojun_a_explain5\n",
      "The task is regression with evaluation metric rmse\n",
      "AutoML will use algorithms: ['Baseline', 'Linear', 'Decision Tree', 'Random Forest', 'Xgboost', 'Neural Network']\n",
      "AutoML will ensemble available models\n",
      "AutoML steps: ['simple_algorithms', 'default_algorithms', 'ensemble']\n",
      "* Step simple_algorithms will try to check up to 3 models\n",
      "1_Baseline rmse 8.581645 trained in 0.48 seconds\n",
      "2_DecisionTree rmse 8.531719 trained in 2.95 seconds\n",
      "3_Linear rmse 9.467381 trained in 1.72 seconds\n",
      "* Step default_algorithms will try to check up to 3 models\n",
      "4_Default_Xgboost rmse 9.088538 trained in 2.52 seconds\n",
      "5_Default_NeuralNetwork rmse 9.475592 trained in 0.67 seconds\n",
      "6_Default_RandomForest rmse 9.26451 trained in 3.02 seconds\n",
      "* Step ensemble will try to check up to 1 model\n",
      "Ensemble rmse 8.486422 trained in 0.17 seconds\n",
      "AutoML fit time: 15.33 seconds\n",
      "AutoML best model: Ensemble\n"
     ]
    },
    {
     "data": {
      "text/plain": [
       "AutoML(results_path='./hojun_a_explain5')"
      ]
     },
     "execution_count": 179,
     "metadata": {},
     "output_type": "execute_result"
    }
   ],
   "source": [
    "automl = AutoML(mode=\"Explain\", n_jobs=-1, results_path='./hojun_a_explain5')\n",
    "automl.fit(X_train, y_train)"
   ]
  },
  {
   "cell_type": "code",
   "execution_count": 180,
   "id": "670c3972",
   "metadata": {
    "ExecuteTime": {
     "end_time": "2022-07-01T14:49:40.216253Z",
     "start_time": "2022-07-01T14:49:40.212976Z"
    }
   },
   "outputs": [],
   "source": [
    "model=AutoML(results_path='./hojun_a_explain5')"
   ]
  },
  {
   "cell_type": "code",
   "execution_count": 181,
   "id": "a20a3c2d",
   "metadata": {
    "ExecuteTime": {
     "end_time": "2022-07-01T14:49:40.324488Z",
     "start_time": "2022-07-01T14:49:40.307531Z"
    }
   },
   "outputs": [
    {
     "data": {
      "text/plain": [
       "-0.013420770636582757"
      ]
     },
     "execution_count": 181,
     "metadata": {},
     "output_type": "execute_result"
    }
   ],
   "source": [
    "r2_score(y_test, model.predict(X_test))"
   ]
  },
  {
   "cell_type": "code",
   "execution_count": 164,
   "id": "aecb5c61",
   "metadata": {
    "ExecuteTime": {
     "end_time": "2022-07-01T14:48:14.593133Z",
     "start_time": "2022-07-01T14:48:14.550596Z"
    }
   },
   "outputs": [
    {
     "name": "stderr",
     "output_type": "stream",
     "text": [
      "X has feature names, but StandardScaler was fitted without feature names\n"
     ]
    },
    {
     "data": {
      "text/plain": [
       "0.9177438607572415"
      ]
     },
     "execution_count": 164,
     "metadata": {},
     "output_type": "execute_result"
    }
   ],
   "source": [
    "r2_score(y_test, model.predict(X_test))"
   ]
  },
  {
   "cell_type": "code",
   "execution_count": null,
   "id": "ba1d5a14",
   "metadata": {},
   "outputs": [],
   "source": []
  },
  {
   "cell_type": "code",
   "execution_count": 150,
   "id": "2d6ce38d",
   "metadata": {
    "ExecuteTime": {
     "end_time": "2022-07-01T14:15:06.105529Z",
     "start_time": "2022-07-01T14:15:06.062002Z"
    }
   },
   "outputs": [
    {
     "name": "stderr",
     "output_type": "stream",
     "text": [
      "X has feature names, but StandardScaler was fitted without feature names\n"
     ]
    },
    {
     "data": {
      "text/plain": [
       "0.9127770445025871"
      ]
     },
     "execution_count": 150,
     "metadata": {},
     "output_type": "execute_result"
    }
   ],
   "source": [
    "r2_score(y_test, model.predict(X_test))"
   ]
  },
  {
   "cell_type": "code",
   "execution_count": null,
   "id": "408168e5",
   "metadata": {},
   "outputs": [],
   "source": []
  },
  {
   "cell_type": "code",
   "execution_count": 82,
   "id": "6aa3eb84",
   "metadata": {
    "ExecuteTime": {
     "end_time": "2022-07-01T13:57:36.853361Z",
     "start_time": "2022-07-01T13:57:36.814001Z"
    }
   },
   "outputs": [
    {
     "name": "stderr",
     "output_type": "stream",
     "text": [
      "X has feature names, but StandardScaler was fitted without feature names\n"
     ]
    },
    {
     "data": {
      "text/plain": [
       "0.917635727706018"
      ]
     },
     "execution_count": 82,
     "metadata": {},
     "output_type": "execute_result"
    }
   ],
   "source": [
    "r2_score(y_test, model.predict(X_test))"
   ]
  },
  {
   "cell_type": "markdown",
   "id": "2f74a539",
   "metadata": {},
   "source": []
  },
  {
   "cell_type": "code",
   "execution_count": 13,
   "id": "e02769d4",
   "metadata": {
    "ExecuteTime": {
     "end_time": "2022-07-01T13:33:35.600894Z",
     "start_time": "2022-07-01T13:33:35.553423Z"
    }
   },
   "outputs": [
    {
     "name": "stderr",
     "output_type": "stream",
     "text": [
      "X has feature names, but StandardScaler was fitted without feature names\n"
     ]
    },
    {
     "data": {
      "text/plain": [
       "0.9636881291772562"
      ]
     },
     "execution_count": 13,
     "metadata": {},
     "output_type": "execute_result"
    }
   ],
   "source": [
    "r2_score(y_test, model.predict(X_test))"
   ]
  },
  {
   "cell_type": "code",
   "execution_count": 98,
   "id": "fff78a5d",
   "metadata": {
    "ExecuteTime": {
     "end_time": "2022-07-01T14:02:45.204089Z",
     "start_time": "2022-07-01T14:02:45.198928Z"
    }
   },
   "outputs": [],
   "source": [
    "scaler = MinMaxScaler(feature_range=(0, 1))\n",
    "scaled = scaler.fit_transform(train_df.iloc[:,1:-1])"
   ]
  },
  {
   "cell_type": "code",
   "execution_count": 100,
   "id": "3d316126",
   "metadata": {
    "ExecuteTime": {
     "end_time": "2022-07-01T14:03:25.001934Z",
     "start_time": "2022-07-01T14:03:24.998525Z"
    }
   },
   "outputs": [
    {
     "data": {
      "text/plain": [
       "(1095, 13)"
      ]
     },
     "execution_count": 100,
     "metadata": {},
     "output_type": "execute_result"
    }
   ],
   "source": [
    "scaled.shape"
   ]
  },
  {
   "cell_type": "code",
   "execution_count": 102,
   "id": "77eae782",
   "metadata": {
    "ExecuteTime": {
     "end_time": "2022-07-01T14:03:53.842002Z",
     "start_time": "2022-07-01T14:03:53.838355Z"
    }
   },
   "outputs": [],
   "source": [
    "X,y = scaled, train_df.iloc[:,-1].to_numpy()\n",
    "X_train, X_test, y_train, y_test = train_test_split(X,y , test_size=0.33, random_state=False)"
   ]
  },
  {
   "cell_type": "code",
   "execution_count": 103,
   "id": "b69a96ff",
   "metadata": {
    "ExecuteTime": {
     "end_time": "2022-07-01T14:04:22.486956Z",
     "start_time": "2022-07-01T14:04:01.880736Z"
    }
   },
   "outputs": [
    {
     "name": "stdout",
     "output_type": "stream",
     "text": [
      "AutoML directory: ./hojun_a_explain2_scaled\n",
      "The task is regression with evaluation metric rmse\n",
      "AutoML will use algorithms: ['Baseline', 'Linear', 'Decision Tree', 'Random Forest', 'Xgboost', 'Neural Network']\n",
      "AutoML will ensemble available models\n",
      "AutoML steps: ['simple_algorithms', 'default_algorithms', 'ensemble']\n",
      "* Step simple_algorithms will try to check up to 3 models\n",
      "1_Baseline rmse 0.775359 trained in 0.41 seconds\n",
      "2_DecisionTree rmse 0.472874 trained in 8.62 seconds\n",
      "3_Linear rmse 0.478638 trained in 1.68 seconds\n",
      "* Step default_algorithms will try to check up to 3 models\n",
      "4_Default_Xgboost rmse 0.360609 trained in 2.62 seconds\n",
      "5_Default_NeuralNetwork rmse 0.383688 trained in 0.68 seconds\n",
      "6_Default_RandomForest rmse 0.403028 trained in 2.46 seconds\n",
      "* Step ensemble will try to check up to 1 model\n",
      "Ensemble rmse 0.348039 trained in 0.17 seconds\n",
      "AutoML fit time: 20.6 seconds\n",
      "AutoML best model: Ensemble\n"
     ]
    },
    {
     "data": {
      "text/plain": [
       "AutoML(results_path='./hojun_a_explain2_scaled')"
      ]
     },
     "execution_count": 103,
     "metadata": {},
     "output_type": "execute_result"
    }
   ],
   "source": [
    "automl = AutoML(mode=\"Explain\", n_jobs=-1, results_path='./hojun_a_explain2_scaled')\n",
    "automl.fit(X_train, y_train)"
   ]
  },
  {
   "cell_type": "code",
   "execution_count": 104,
   "id": "eb70b3bf",
   "metadata": {
    "ExecuteTime": {
     "end_time": "2022-07-01T14:04:22.547012Z",
     "start_time": "2022-07-01T14:04:22.543685Z"
    }
   },
   "outputs": [],
   "source": [
    "model=AutoML(results_path='./hojun_a_explain2_scaled')"
   ]
  },
  {
   "cell_type": "code",
   "execution_count": 105,
   "id": "029b68d7",
   "metadata": {
    "ExecuteTime": {
     "end_time": "2022-07-01T14:04:22.820301Z",
     "start_time": "2022-07-01T14:04:22.778977Z"
    }
   },
   "outputs": [
    {
     "name": "stderr",
     "output_type": "stream",
     "text": [
      "X has feature names, but StandardScaler was fitted without feature names\n"
     ]
    },
    {
     "data": {
      "text/plain": [
       "0.8091671317940039"
      ]
     },
     "execution_count": 105,
     "metadata": {},
     "output_type": "execute_result"
    }
   ],
   "source": [
    "r2_score(y_test, model.predict(X_test))"
   ]
  },
  {
   "cell_type": "code",
   "execution_count": null,
   "id": "59ddfae0",
   "metadata": {},
   "outputs": [],
   "source": [
    "ㅋ"
   ]
  }
 ],
 "metadata": {
  "kernelspec": {
   "display_name": "Python 3 (ipykernel)",
   "language": "python",
   "name": "python3"
  },
  "language_info": {
   "codemirror_mode": {
    "name": "ipython",
    "version": 3
   },
   "file_extension": ".py",
   "mimetype": "text/x-python",
   "name": "python",
   "nbconvert_exporter": "python",
   "pygments_lexer": "ipython3",
   "version": "3.8.10"
  },
  "toc": {
   "base_numbering": 1,
   "nav_menu": {},
   "number_sections": true,
   "sideBar": true,
   "skip_h1_title": false,
   "title_cell": "Table of Contents",
   "title_sidebar": "Contents",
   "toc_cell": false,
   "toc_position": {},
   "toc_section_display": true,
   "toc_window_display": false
  },
  "varInspector": {
   "cols": {
    "lenName": 16,
    "lenType": 16,
    "lenVar": 40
   },
   "kernels_config": {
    "python": {
     "delete_cmd_postfix": "",
     "delete_cmd_prefix": "del ",
     "library": "var_list.py",
     "varRefreshCmd": "print(var_dic_list())"
    },
    "r": {
     "delete_cmd_postfix": ") ",
     "delete_cmd_prefix": "rm(",
     "library": "var_list.r",
     "varRefreshCmd": "cat(var_dic_list()) "
    }
   },
   "types_to_exclude": [
    "module",
    "function",
    "builtin_function_or_method",
    "instance",
    "_Feature"
   ],
   "window_display": false
  }
 },
 "nbformat": 4,
 "nbformat_minor": 5
}
