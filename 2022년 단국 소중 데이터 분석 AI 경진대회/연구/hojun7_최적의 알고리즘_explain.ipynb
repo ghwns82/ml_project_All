{
 "cells": [
  {
   "cell_type": "code",
   "execution_count": 17,
   "id": "436e793b",
   "metadata": {
    "ExecuteTime": {
     "end_time": "2022-07-01T14:54:29.831676Z",
     "start_time": "2022-07-01T14:54:29.829645Z"
    }
   },
   "outputs": [],
   "source": [
    "from supervised.automl import BaseAutoML, AutoML"
   ]
  },
  {
   "cell_type": "code",
   "execution_count": 18,
   "id": "a13a0552",
   "metadata": {
    "ExecuteTime": {
     "end_time": "2022-07-01T14:54:30.291864Z",
     "start_time": "2022-07-01T14:54:30.289196Z"
    }
   },
   "outputs": [],
   "source": [
    "from prophet import Prophet\n",
    "\n",
    "import pandas as pd\n",
    "\n",
    "from sklearn.ensemble import RandomForestRegressor\n",
    "from sklearn.model_selection import train_test_split\n",
    "from sklearn.metrics import r2_score\n",
    "\n",
    "import random\n",
    "from copy import deepcopy\n",
    "import math"
   ]
  },
  {
   "cell_type": "code",
   "execution_count": 19,
   "id": "09a626a6",
   "metadata": {
    "ExecuteTime": {
     "end_time": "2022-07-01T14:54:30.744447Z",
     "start_time": "2022-07-01T14:54:30.737818Z"
    }
   },
   "outputs": [],
   "source": [
    "train_df=pd.read_csv('./data/train.csv')\n",
    "test_df=pd.read_csv('./data/test.csv')"
   ]
  },
  {
   "cell_type": "code",
   "execution_count": 20,
   "id": "b7b57471",
   "metadata": {
    "ExecuteTime": {
     "end_time": "2022-07-01T14:54:34.027237Z",
     "start_time": "2022-07-01T14:54:31.181656Z"
    }
   },
   "outputs": [
    {
     "name": "stdout",
     "output_type": "stream",
     "text": [
      "Initial log joint probability = -73.9282\n",
      "    Iter      log prob        ||dx||      ||grad||       alpha      alpha0  # evals  Notes \n",
      "      99       1699.14   5.17586e-06       69.4858      0.7698      0.7698      133   \n",
      "    Iter      log prob        ||dx||      ||grad||       alpha      alpha0  # evals  Notes \n",
      "     110       1699.17   0.000410967       93.1272   3.446e-06       0.001      181  LS failed, Hessian reset \n",
      "     150       1699.19   3.83621e-05       77.7678   4.552e-07       0.001      266  LS failed, Hessian reset \n",
      "     177       1699.19    1.5188e-07       69.0376      0.2292           1      304   \n",
      "Optimization terminated normally: \n",
      "  Convergence detected: relative gradient magnitude is below tolerance\n"
     ]
    }
   ],
   "source": [
    "df=train_df[['date','rental']].copy()\n",
    "df.columns=['ds','y']\n",
    "m = Prophet()\n",
    "m.daily_seasonality=True\n",
    "m.weekly_seasonality=True\n",
    "m.yearly_seasonality=True\n",
    "m.fit(df)\n",
    "future=m.make_future_dataframe(365)\n",
    "forecast = m.predict(future)"
   ]
  },
  {
   "cell_type": "code",
   "execution_count": 21,
   "id": "d2b8a823",
   "metadata": {
    "ExecuteTime": {
     "end_time": "2022-07-01T14:54:34.228452Z",
     "start_time": "2022-07-01T14:54:34.225874Z"
    }
   },
   "outputs": [],
   "source": [
    "train_df['rental']=train_df['rental']/forecast[:-365]['trend']"
   ]
  },
  {
   "cell_type": "code",
   "execution_count": 22,
   "id": "e2aa9157",
   "metadata": {
    "ExecuteTime": {
     "end_time": "2022-07-01T14:54:34.429540Z",
     "start_time": "2022-07-01T14:54:34.420159Z"
    }
   },
   "outputs": [],
   "source": [
    "train_df['date']=pd.to_datetime(train_df['date'])\n",
    "train_df['year']=train_df['date'].dt.year\n",
    "train_df['month']=train_df['date'].dt.month\n",
    "train_df['day']=train_df['date'].dt.day\n",
    "train_df['weekday'] = train_df['date'].dt.dayofweek\n",
    "train_df = pd.get_dummies(data = train_df, prefix=['year'], columns=['year'])\n",
    "train_df['year']=train_df['date'].dt.year"
   ]
  },
  {
   "cell_type": "code",
   "execution_count": 23,
   "id": "ab72cc9f",
   "metadata": {
    "ExecuteTime": {
     "end_time": "2022-07-01T14:54:34.627778Z",
     "start_time": "2022-07-01T14:54:34.624790Z"
    }
   },
   "outputs": [
    {
     "data": {
      "text/plain": [
       "Index(['date', 'precipitation', 'temp_mean', 'temp_highest', 'temp_lowest',\n",
       "       'PM10', 'PM2.5', 'humidity', 'sunshine_sum', 'sunshine_rate',\n",
       "       'wind_mean', 'wind_max', 'rental', 'month', 'day', 'weekday',\n",
       "       'year_2018', 'year_2019', 'year_2020', 'year'],\n",
       "      dtype='object')"
      ]
     },
     "execution_count": 23,
     "metadata": {},
     "output_type": "execute_result"
    }
   ],
   "source": [
    "train_df.columns"
   ]
  },
  {
   "cell_type": "code",
   "execution_count": 24,
   "id": "289d65f4",
   "metadata": {
    "ExecuteTime": {
     "end_time": "2022-07-01T14:54:50.652779Z",
     "start_time": "2022-07-01T14:54:50.648715Z"
    }
   },
   "outputs": [],
   "source": [
    "\n",
    "train_df = train_df[['date', 'precipitation', 'temp_mean', 'temp_highest', 'temp_lowest',\n",
    "       'PM10', 'PM2.5', 'humidity', 'sunshine_sum', 'sunshine_rate',\n",
    "       'wind_mean', 'wind_max', 'month', 'day', 'weekday',\n",
    "       'year_2018', 'year_2019', 'year_2020', 'year', 'rental']]"
   ]
  },
  {
   "cell_type": "code",
   "execution_count": 25,
   "id": "310349ab",
   "metadata": {
    "ExecuteTime": {
     "end_time": "2022-07-01T14:54:52.531664Z",
     "start_time": "2022-07-01T14:54:52.526840Z"
    }
   },
   "outputs": [],
   "source": [
    "# 옵션에 따라, 선택한 데이터프레임의 컬럼의 결측값을 채워주는 함수\n",
    "# option = 0, min, max, mean, median\n",
    "def cal(my_df, column_name, option):\n",
    "    df=my_df.copy()\n",
    "    df['date']=pd.to_datetime(df['date'])\n",
    "    df['month']=df['date'].dt.month\n",
    "    nn_df = df.iloc[df[column_name].dropna().index]\n",
    "    month_df_list=[nn_df[nn_df['month']==i] for i in range(1,13)]\n",
    "    \n",
    "    if option == 0:\n",
    "        replace_list=[0 for month_df in month_df_list]\n",
    "    elif option =='min':\n",
    "        replace_list=[month_df[column_name].min() for month_df in month_df_list]\n",
    "    elif option =='max':\n",
    "        replace_list=[month_df[column_name].max() for month_df in month_df_list]\n",
    "    elif option == 'mean':\n",
    "        replace_list=[month_df[column_name].mean() for month_df in month_df_list]\n",
    "    elif option == 'median':\n",
    "        replace_list=[month_df[column_name].median() for month_df in month_df_list]\n",
    "    \n",
    "    replace_list = ['']+ replace_list\n",
    "    \n",
    "    result=[]\n",
    "    for i in range(my_df.shape[0]):\n",
    "        n=my_df.iloc[i][column_name]\n",
    "        if math.isnan(n):\n",
    "            result.append(replace_list[df.loc[i]['month']])\n",
    "        else:\n",
    "            result.append(n)\n",
    "    my_df[column_name] = result"
   ]
  },
  {
   "cell_type": "code",
   "execution_count": 26,
   "id": "1acb057f",
   "metadata": {
    "ExecuteTime": {
     "end_time": "2022-07-01T14:54:53.670317Z",
     "start_time": "2022-07-01T14:54:53.156187Z"
    }
   },
   "outputs": [],
   "source": [
    "null_feature = ['precipitation','PM10','PM2.5','sunshine_sum']\n",
    "best_option_group = ['min' , 'max' , 'median' , 'min']\n",
    "for column_name, option in zip(null_feature, best_option_group):\n",
    "    cal(train_df, column_name, option)"
   ]
  },
  {
   "cell_type": "code",
   "execution_count": 27,
   "id": "28eb20ea",
   "metadata": {
    "ExecuteTime": {
     "end_time": "2022-07-01T14:55:03.824420Z",
     "start_time": "2022-07-01T14:55:03.820988Z"
    }
   },
   "outputs": [
    {
     "data": {
      "text/plain": [
       "[38, 72, 71, 2, 42, 73, 81, 66, 100, 36]"
      ]
     },
     "execution_count": 27,
     "metadata": {},
     "output_type": "execute_result"
    }
   ],
   "source": [
    "random_state_list=[random.randint(0, 100) for _ in range(10)]\n",
    "random_state_list"
   ]
  },
  {
   "cell_type": "code",
   "execution_count": 28,
   "id": "ff01a2e3",
   "metadata": {
    "ExecuteTime": {
     "end_time": "2022-07-01T14:55:04.256391Z",
     "start_time": "2022-07-01T14:55:04.235117Z"
    }
   },
   "outputs": [],
   "source": [
    "train_df.to_csv('./sss.csv')"
   ]
  },
  {
   "cell_type": "code",
   "execution_count": 29,
   "id": "c27464da",
   "metadata": {
    "ExecuteTime": {
     "end_time": "2022-07-01T14:55:04.790654Z",
     "start_time": "2022-07-01T14:55:04.786689Z"
    }
   },
   "outputs": [],
   "source": [
    "X,y = train_df.iloc[:,1:-1].to_numpy(), train_df.iloc[:,-1].to_numpy()\n",
    "X_train, X_test, y_train, y_test = train_test_split(X,y , test_size=0.33, random_state=False)"
   ]
  },
  {
   "cell_type": "code",
   "execution_count": 30,
   "id": "85578b87",
   "metadata": {
    "ExecuteTime": {
     "end_time": "2022-07-01T14:55:18.436930Z",
     "start_time": "2022-07-01T14:55:06.956847Z"
    }
   },
   "outputs": [
    {
     "name": "stdout",
     "output_type": "stream",
     "text": [
      "AutoML directory: ./hojun7_explain\n",
      "The task is regression with evaluation metric rmse\n",
      "AutoML will use algorithms: ['Baseline', 'Linear', 'Decision Tree', 'Random Forest', 'Xgboost', 'Neural Network']\n",
      "AutoML will ensemble available models\n",
      "AutoML steps: ['simple_algorithms', 'default_algorithms', 'ensemble']\n",
      "* Step simple_algorithms will try to check up to 3 models\n",
      "1_Baseline rmse 0.775359 trained in 0.21 seconds\n",
      "Exception while producing SHAP explanations. Passing parameters norm and vmin/vmax simultaneously is not supported. Please pass vmin/vmax directly to the norm when creating it.\n",
      "Continuing ...\n",
      "2_DecisionTree rmse 0.435331 trained in 1.75 seconds\n",
      "Exception while producing SHAP explanations. Passing parameters norm and vmin/vmax simultaneously is not supported. Please pass vmin/vmax directly to the norm when creating it.\n",
      "Continuing ...\n",
      "3_Linear rmse 0.422092 trained in 0.75 seconds\n",
      "* Step default_algorithms will try to check up to 3 models\n",
      "Exception while producing SHAP explanations. Passing parameters norm and vmin/vmax simultaneously is not supported. Please pass vmin/vmax directly to the norm when creating it.\n",
      "Continuing ...\n",
      "4_Default_Xgboost rmse 0.278409 trained in 2.48 seconds\n",
      "5_Default_NeuralNetwork rmse 0.284936 trained in 0.56 seconds\n",
      "Exception while producing SHAP explanations. Passing parameters norm and vmin/vmax simultaneously is not supported. Please pass vmin/vmax directly to the norm when creating it.\n",
      "Continuing ...\n",
      "6_Default_RandomForest rmse 0.344031 trained in 1.64 seconds\n",
      "* Step ensemble will try to check up to 1 model\n",
      "Ensemble rmse 0.250146 trained in 0.19 seconds\n",
      "AutoML fit time: 11.47 seconds\n",
      "AutoML best model: Ensemble\n"
     ]
    },
    {
     "data": {
      "text/plain": [
       "AutoML(results_path='./hojun7_explain')"
      ]
     },
     "execution_count": 30,
     "metadata": {},
     "output_type": "execute_result"
    }
   ],
   "source": [
    "automl = AutoML(mode=\"Explain\", n_jobs=-1, results_path='./hojun7_explain')\n",
    "automl.fit(X_train, y_train)"
   ]
  },
  {
   "cell_type": "code",
   "execution_count": 31,
   "id": "92d06ac3",
   "metadata": {
    "ExecuteTime": {
     "end_time": "2022-07-01T14:55:18.665496Z",
     "start_time": "2022-07-01T14:55:18.661185Z"
    }
   },
   "outputs": [],
   "source": [
    "model=AutoML(results_path='./hojun7_explain')"
   ]
  },
  {
   "cell_type": "code",
   "execution_count": 32,
   "id": "98043b75",
   "metadata": {
    "ExecuteTime": {
     "end_time": "2022-07-01T14:55:18.954982Z",
     "start_time": "2022-07-01T14:55:18.909024Z"
    }
   },
   "outputs": [
    {
     "name": "stderr",
     "output_type": "stream",
     "text": [
      "X has feature names, but StandardScaler was fitted without feature names\n"
     ]
    },
    {
     "data": {
      "text/plain": [
       "0.9186419971187139"
      ]
     },
     "execution_count": 32,
     "metadata": {},
     "output_type": "execute_result"
    }
   ],
   "source": [
    "r2_score(y_test, model.predict(X_test))"
   ]
  },
  {
   "cell_type": "code",
   "execution_count": 16,
   "id": "e02769d4",
   "metadata": {
    "ExecuteTime": {
     "end_time": "2022-07-01T14:53:10.364366Z",
     "start_time": "2022-07-01T14:53:10.318261Z"
    }
   },
   "outputs": [
    {
     "name": "stderr",
     "output_type": "stream",
     "text": [
      "X has feature names, but StandardScaler was fitted without feature names\n"
     ]
    },
    {
     "data": {
      "text/plain": [
       "0.9177438607572415"
      ]
     },
     "execution_count": 16,
     "metadata": {},
     "output_type": "execute_result"
    }
   ],
   "source": [
    "r2_score(y_test, model.predict(X_test))"
   ]
  },
  {
   "cell_type": "code",
   "execution_count": 14,
   "id": "97b209f7",
   "metadata": {
    "ExecuteTime": {
     "end_time": "2022-07-01T14:51:12.195944Z",
     "start_time": "2022-07-01T14:51:12.160066Z"
    }
   },
   "outputs": [
    {
     "name": "stderr",
     "output_type": "stream",
     "text": [
      "X has feature names, but StandardScaler was fitted without feature names\n"
     ]
    },
    {
     "data": {
      "text/plain": [
       "0.91211540497885"
      ]
     },
     "execution_count": 14,
     "metadata": {},
     "output_type": "execute_result"
    }
   ],
   "source": [
    "r2_score(y_test, model.predict(X_test))"
   ]
  }
 ],
 "metadata": {
  "kernelspec": {
   "display_name": "Python 3 (ipykernel)",
   "language": "python",
   "name": "python3"
  },
  "language_info": {
   "codemirror_mode": {
    "name": "ipython",
    "version": 3
   },
   "file_extension": ".py",
   "mimetype": "text/x-python",
   "name": "python",
   "nbconvert_exporter": "python",
   "pygments_lexer": "ipython3",
   "version": "3.8.10"
  },
  "toc": {
   "base_numbering": 1,
   "nav_menu": {},
   "number_sections": true,
   "sideBar": true,
   "skip_h1_title": false,
   "title_cell": "Table of Contents",
   "title_sidebar": "Contents",
   "toc_cell": false,
   "toc_position": {},
   "toc_section_display": true,
   "toc_window_display": false
  },
  "varInspector": {
   "cols": {
    "lenName": 16,
    "lenType": 16,
    "lenVar": 40
   },
   "kernels_config": {
    "python": {
     "delete_cmd_postfix": "",
     "delete_cmd_prefix": "del ",
     "library": "var_list.py",
     "varRefreshCmd": "print(var_dic_list())"
    },
    "r": {
     "delete_cmd_postfix": ") ",
     "delete_cmd_prefix": "rm(",
     "library": "var_list.r",
     "varRefreshCmd": "cat(var_dic_list()) "
    }
   },
   "types_to_exclude": [
    "module",
    "function",
    "builtin_function_or_method",
    "instance",
    "_Feature"
   ],
   "window_display": false
  }
 },
 "nbformat": 4,
 "nbformat_minor": 5
}
