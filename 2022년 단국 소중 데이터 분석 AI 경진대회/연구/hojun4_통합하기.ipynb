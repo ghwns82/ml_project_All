{
 "cells": [
  {
   "cell_type": "markdown",
   "id": "8813aacc",
   "metadata": {},
   "source": [
    "# null=0 + fbprophet Trend 적용 + year,month,day 변수 추가"
   ]
  },
  {
   "cell_type": "code",
   "execution_count": 1,
   "id": "4237bca3",
   "metadata": {
    "ExecuteTime": {
     "end_time": "2022-07-01T08:12:06.883109Z",
     "start_time": "2022-07-01T08:12:05.666037Z"
    }
   },
   "outputs": [],
   "source": [
    "from prophet import Prophet\n",
    "\n",
    "import pandas as pd\n",
    "\n",
    "from sklearn.ensemble import RandomForestRegressor\n",
    "from sklearn.model_selection import train_test_split\n",
    "\n",
    "import random\n",
    "from copy import deepcopy"
   ]
  },
  {
   "cell_type": "code",
   "execution_count": 2,
   "id": "fd1afd25",
   "metadata": {
    "ExecuteTime": {
     "end_time": "2022-07-01T08:12:06.894211Z",
     "start_time": "2022-07-01T08:12:06.884225Z"
    }
   },
   "outputs": [],
   "source": [
    "train_df=pd.read_csv('./data/train.csv')\n",
    "test_df=pd.read_csv('./data/test.csv')"
   ]
  },
  {
   "cell_type": "code",
   "execution_count": 3,
   "id": "46c497dd",
   "metadata": {
    "ExecuteTime": {
     "end_time": "2022-07-01T08:12:06.899685Z",
     "start_time": "2022-07-01T08:12:06.895349Z"
    }
   },
   "outputs": [],
   "source": [
    "train_df_backup = deepcopy(train_df)\n",
    "test_df_backup = deepcopy(test_df)"
   ]
  },
  {
   "cell_type": "code",
   "execution_count": 4,
   "id": "13dd1313",
   "metadata": {
    "ExecuteTime": {
     "end_time": "2022-07-01T08:12:06.906628Z",
     "start_time": "2022-07-01T08:12:06.903288Z"
    }
   },
   "outputs": [],
   "source": [
    "df=train_df[['date','rental']].copy()"
   ]
  },
  {
   "cell_type": "code",
   "execution_count": 5,
   "id": "10866e51",
   "metadata": {
    "ExecuteTime": {
     "end_time": "2022-07-01T08:12:06.911401Z",
     "start_time": "2022-07-01T08:12:06.908618Z"
    }
   },
   "outputs": [],
   "source": [
    "df.columns=['ds','y']"
   ]
  },
  {
   "cell_type": "code",
   "execution_count": 6,
   "id": "00602f95",
   "metadata": {
    "ExecuteTime": {
     "end_time": "2022-07-01T08:12:07.787706Z",
     "start_time": "2022-07-01T08:12:06.913327Z"
    }
   },
   "outputs": [
    {
     "name": "stdout",
     "output_type": "stream",
     "text": [
      "Initial log joint probability = -73.9282\n"
     ]
    },
    {
     "data": {
      "text/plain": [
       "<prophet.forecaster.Prophet at 0x7f6fbf3edca0>"
      ]
     },
     "execution_count": 6,
     "metadata": {},
     "output_type": "execute_result"
    }
   ],
   "source": [
    "m = Prophet()\n",
    "m.daily_seasonality=True\n",
    "m.weekly_seasonality=True\n",
    "m.yearly_seasonality=True\n",
    "m.fit(df)"
   ]
  },
  {
   "cell_type": "code",
   "execution_count": 7,
   "id": "6848e13c",
   "metadata": {
    "ExecuteTime": {
     "end_time": "2022-07-01T08:12:10.417620Z",
     "start_time": "2022-07-01T08:12:07.789595Z"
    }
   },
   "outputs": [
    {
     "name": "stdout",
     "output_type": "stream",
     "text": [
      "    Iter      log prob        ||dx||      ||grad||       alpha      alpha0  # evals  Notes \n",
      "      99       1699.14   5.17586e-06       69.4858      0.7698      0.7698      133   \n",
      "    Iter      log prob        ||dx||      ||grad||       alpha      alpha0  # evals  Notes \n",
      "     110       1699.17   0.000410967       93.1272   3.446e-06       0.001      181  LS failed, Hessian reset \n",
      "     150       1699.19   3.83621e-05       77.7678   4.552e-07       0.001      266  LS failed, Hessian reset \n",
      "     177       1699.19    1.5188e-07       69.0376      0.2292           1      304   \n",
      "Optimization terminated normally: \n",
      "  Convergence detected: relative gradient magnitude is below tolerance\n"
     ]
    }
   ],
   "source": [
    "future=m.make_future_dataframe(365)\n",
    "forecast = m.predict(future)"
   ]
  },
  {
   "cell_type": "code",
   "execution_count": 8,
   "id": "487bce21",
   "metadata": {
    "ExecuteTime": {
     "end_time": "2022-07-01T08:12:10.423005Z",
     "start_time": "2022-07-01T08:12:10.418639Z"
    }
   },
   "outputs": [
    {
     "data": {
      "text/plain": [
       "[74, 72, 88, 26, 30, 21, 72, 37, 95, 55]"
      ]
     },
     "execution_count": 8,
     "metadata": {},
     "output_type": "execute_result"
    }
   ],
   "source": [
    "random_state_list=[random.randint(0, 100) for _ in range(10)]\n",
    "random_state_list"
   ]
  },
  {
   "cell_type": "code",
   "execution_count": 9,
   "id": "fbefa4ab",
   "metadata": {
    "ExecuteTime": {
     "end_time": "2022-07-01T08:12:10.432903Z",
     "start_time": "2022-07-01T08:12:10.424675Z"
    }
   },
   "outputs": [],
   "source": [
    "train_df = deepcopy(train_df_backup)\n",
    "train_df.fillna(0, inplace=True)\n",
    "train_df['rental']=train_df['rental']/forecast[:-365]['trend']"
   ]
  },
  {
   "cell_type": "code",
   "execution_count": 10,
   "id": "cc5b27c9",
   "metadata": {
    "ExecuteTime": {
     "end_time": "2022-07-01T08:12:10.444428Z",
     "start_time": "2022-07-01T08:12:10.435932Z"
    }
   },
   "outputs": [],
   "source": [
    "train_df2 = train_df.copy()\n",
    "train_df2['date']=pd.to_datetime(train_df2['date'])\n",
    "train_df2['year']=train_df2['date'].dt.year\n",
    "train_df2['month']=train_df2['date'].dt.month\n",
    "train_df2['day']=train_df2['date'].dt.day\n",
    "train_df2 = train_df2[['date', 'precipitation', 'temp_mean', 'temp_highest', 'temp_lowest',\n",
    "       'PM10', 'PM2.5', 'humidity', 'sunshine_sum', 'sunshine_rate',\n",
    "       'wind_mean', 'wind_max', 'year', 'month', 'day', 'rental']]"
   ]
  },
  {
   "cell_type": "code",
   "execution_count": 11,
   "id": "ded91697",
   "metadata": {
    "ExecuteTime": {
     "end_time": "2022-07-01T08:12:10.450217Z",
     "start_time": "2022-07-01T08:12:10.445557Z"
    }
   },
   "outputs": [
    {
     "data": {
      "text/plain": [
       "Index(['date', 'precipitation', 'temp_mean', 'temp_highest', 'temp_lowest',\n",
       "       'PM10', 'PM2.5', 'humidity', 'sunshine_sum', 'sunshine_rate',\n",
       "       'wind_mean', 'wind_max', 'rental'],\n",
       "      dtype='object')"
      ]
     },
     "execution_count": 11,
     "metadata": {},
     "output_type": "execute_result"
    }
   ],
   "source": [
    "train_df.columns"
   ]
  },
  {
   "cell_type": "code",
   "execution_count": 12,
   "id": "75d2c99c",
   "metadata": {
    "ExecuteTime": {
     "end_time": "2022-07-01T08:12:10.455748Z",
     "start_time": "2022-07-01T08:12:10.451792Z"
    }
   },
   "outputs": [
    {
     "data": {
      "text/plain": [
       "Index(['date', 'precipitation', 'temp_mean', 'temp_highest', 'temp_lowest',\n",
       "       'PM10', 'PM2.5', 'humidity', 'sunshine_sum', 'sunshine_rate',\n",
       "       'wind_mean', 'wind_max', 'year', 'month', 'day', 'rental'],\n",
       "      dtype='object')"
      ]
     },
     "execution_count": 12,
     "metadata": {},
     "output_type": "execute_result"
    }
   ],
   "source": [
    "train_df2.columns"
   ]
  },
  {
   "cell_type": "code",
   "execution_count": 13,
   "id": "75089f7d",
   "metadata": {
    "ExecuteTime": {
     "end_time": "2022-07-01T08:12:10.462529Z",
     "start_time": "2022-07-01T08:12:10.457591Z"
    }
   },
   "outputs": [
    {
     "data": {
      "text/plain": [
       "((1095, 11), (1095,))"
      ]
     },
     "execution_count": 13,
     "metadata": {},
     "output_type": "execute_result"
    }
   ],
   "source": [
    "X,y = train_df.iloc[:,1:-1].to_numpy(), train_df.iloc[:,-1].to_numpy()\n",
    "X.shape, y.shape"
   ]
  },
  {
   "cell_type": "code",
   "execution_count": 14,
   "id": "fe891bb2",
   "metadata": {
    "ExecuteTime": {
     "end_time": "2022-07-01T08:12:13.841882Z",
     "start_time": "2022-07-01T08:12:10.464366Z"
    }
   },
   "outputs": [
    {
     "name": "stdout",
     "output_type": "stream",
     "text": [
      "1번째\n",
      "Score : 0.7894562704519024\n",
      "Oob_Score : 0.8139583472211821\n",
      "2번째\n",
      "Score : 0.7870634032105902\n",
      "Oob_Score : 0.8146219990319563\n",
      "3번째\n",
      "Score : 0.7908139752823177\n",
      "Oob_Score : 0.8142221927751937\n",
      "4번째\n",
      "Score : 0.7936947954173483\n",
      "Oob_Score : 0.8134374960854501\n",
      "5번째\n",
      "Score : 0.7966474454672765\n",
      "Oob_Score : 0.8147867179788962\n",
      "6번째\n",
      "Score : 0.7863357161285509\n",
      "Oob_Score : 0.8171190039026354\n",
      "7번째\n",
      "Score : 0.7870634032105902\n",
      "Oob_Score : 0.8146219990319563\n",
      "8번째\n",
      "Score : 0.7872070535901928\n",
      "Oob_Score : 0.8114850384188683\n",
      "9번째\n",
      "Score : 0.7915627816133148\n",
      "Oob_Score : 0.8129508819634605\n",
      "10번째\n",
      "Score : 0.7884326706451575\n",
      "Oob_Score : 0.8154358835338973\n"
     ]
    }
   ],
   "source": [
    "X_train, X_test, y_train, y_test = train_test_split(X,y , test_size=0.2, random_state=123456)\n",
    "for i, state in enumerate(random_state_list): \n",
    "    rf = RandomForestRegressor(oob_score=True, random_state=state)\n",
    "    rf.fit(X_train, y_train)\n",
    "    score=rf.score(X_test, y_test)\n",
    "    print(f'{i+1}번째')\n",
    "    print(f'Score : {score}')\n",
    "    print(f'Oob_Score : {rf.oob_score_}')"
   ]
  },
  {
   "cell_type": "code",
   "execution_count": 15,
   "id": "60083517",
   "metadata": {
    "ExecuteTime": {
     "end_time": "2022-07-01T08:12:13.848119Z",
     "start_time": "2022-07-01T08:12:13.842834Z"
    }
   },
   "outputs": [
    {
     "data": {
      "text/plain": [
       "((1095, 14), (1095,))"
      ]
     },
     "execution_count": 15,
     "metadata": {},
     "output_type": "execute_result"
    }
   ],
   "source": [
    "X,y = train_df2.iloc[:,1:-1].to_numpy(), train_df2.iloc[:,-1].to_numpy()\n",
    "X.shape, y.shape"
   ]
  },
  {
   "cell_type": "code",
   "execution_count": 16,
   "id": "2abd160b",
   "metadata": {
    "ExecuteTime": {
     "end_time": "2022-07-01T08:12:13.863109Z",
     "start_time": "2022-07-01T08:12:13.849826Z"
    }
   },
   "outputs": [
    {
     "name": "stdout",
     "output_type": "stream",
     "text": [
      "('temp_highest', 0.5630478885189943)\n",
      "('precipitation', 0.10519306431282438)\n",
      "('humidity', 0.08764142518903276)\n",
      "('PM2.5', 0.04556753592694212)\n",
      "('sunshine_sum', 0.041824841934523016)\n",
      "('sunshine_rate', 0.04121132019734954)\n",
      "('PM10', 0.030312790976585974)\n",
      "('temp_mean', 0.024137617306773607)\n",
      "('wind_mean', 0.022679812598662495)\n",
      "('wind_max', 0.02153847029388419)\n",
      "('temp_lowest', 0.016845232744427577)\n"
     ]
    }
   ],
   "source": [
    "print(*sorted(zip(train_df.iloc[:,1:-1].columns ,rf.feature_importances_), key=lambda x : x[1], reverse=True), sep='\\n')"
   ]
  },
  {
   "cell_type": "code",
   "execution_count": 17,
   "id": "dd2b598c",
   "metadata": {
    "ExecuteTime": {
     "end_time": "2022-07-01T08:12:17.404810Z",
     "start_time": "2022-07-01T08:12:13.864163Z"
    }
   },
   "outputs": [
    {
     "name": "stdout",
     "output_type": "stream",
     "text": [
      "1번째\n",
      "Score : 0.9042178133794752\n",
      "Oob_Score : 0.9180106245441485\n",
      "2번째\n",
      "Score : 0.9068163054344015\n",
      "Oob_Score : 0.9137115784438639\n",
      "3번째\n",
      "Score : 0.9079119210704482\n",
      "Oob_Score : 0.9158890874964585\n",
      "4번째\n",
      "Score : 0.9064376369743773\n",
      "Oob_Score : 0.9162837060307586\n",
      "5번째\n",
      "Score : 0.9058940483088813\n",
      "Oob_Score : 0.9157270042192932\n",
      "6번째\n",
      "Score : 0.9068724292845468\n",
      "Oob_Score : 0.9130976442404221\n",
      "7번째\n",
      "Score : 0.9068163054344015\n",
      "Oob_Score : 0.9137115784438639\n",
      "8번째\n",
      "Score : 0.9080071695668182\n",
      "Oob_Score : 0.9149211190195207\n",
      "9번째\n",
      "Score : 0.9032593262745735\n",
      "Oob_Score : 0.9153042841709284\n",
      "10번째\n",
      "Score : 0.9051269966897862\n",
      "Oob_Score : 0.9115581327472074\n"
     ]
    }
   ],
   "source": [
    "X_train, X_test, y_train, y_test = train_test_split(X,y , test_size=0.2, random_state=123456)\n",
    "for i, state in enumerate(random_state_list): \n",
    "    rf = RandomForestRegressor(oob_score=True, random_state=state)\n",
    "    rf.fit(X_train, y_train)\n",
    "    score=rf.score(X_test, y_test)\n",
    "    print(f'{i+1}번째')\n",
    "    print(f'Score : {score}')\n",
    "    print(f'Oob_Score : {rf.oob_score_}')"
   ]
  },
  {
   "cell_type": "code",
   "execution_count": 18,
   "id": "126787d9",
   "metadata": {
    "ExecuteTime": {
     "end_time": "2022-07-01T08:12:17.420080Z",
     "start_time": "2022-07-01T08:12:17.405762Z"
    }
   },
   "outputs": [
    {
     "name": "stdout",
     "output_type": "stream",
     "text": [
      "('temp_highest', 0.5403805451019141)\n",
      "('year', 0.12296218139327067)\n",
      "('precipitation', 0.10247848416327782)\n",
      "('humidity', 0.06777060759010575)\n",
      "('temp_mean', 0.04050351623265926)\n",
      "('sunshine_rate', 0.03455839587543247)\n",
      "('sunshine_sum', 0.021833683747155087)\n",
      "('temp_lowest', 0.017982006449004086)\n",
      "('month', 0.01486642051235831)\n",
      "('PM10', 0.008616209496355633)\n",
      "('PM2.5', 0.008213190583780311)\n",
      "('day', 0.007697831656042833)\n",
      "('wind_max', 0.006676440872589329)\n",
      "('wind_mean', 0.005460486326054206)\n"
     ]
    }
   ],
   "source": [
    "print(*sorted(zip(train_df2.iloc[:,1:-1].columns ,rf.feature_importances_), key=lambda x : x[1], reverse=True), sep='\\n')"
   ]
  }
 ],
 "metadata": {
  "kernelspec": {
   "display_name": "Python 3 (ipykernel)",
   "language": "python",
   "name": "python3"
  },
  "language_info": {
   "codemirror_mode": {
    "name": "ipython",
    "version": 3
   },
   "file_extension": ".py",
   "mimetype": "text/x-python",
   "name": "python",
   "nbconvert_exporter": "python",
   "pygments_lexer": "ipython3",
   "version": "3.8.10"
  },
  "toc": {
   "base_numbering": 1,
   "nav_menu": {},
   "number_sections": true,
   "sideBar": true,
   "skip_h1_title": false,
   "title_cell": "Table of Contents",
   "title_sidebar": "Contents",
   "toc_cell": false,
   "toc_position": {},
   "toc_section_display": true,
   "toc_window_display": false
  },
  "varInspector": {
   "cols": {
    "lenName": 16,
    "lenType": 16,
    "lenVar": 40
   },
   "kernels_config": {
    "python": {
     "delete_cmd_postfix": "",
     "delete_cmd_prefix": "del ",
     "library": "var_list.py",
     "varRefreshCmd": "print(var_dic_list())"
    },
    "r": {
     "delete_cmd_postfix": ") ",
     "delete_cmd_prefix": "rm(",
     "library": "var_list.r",
     "varRefreshCmd": "cat(var_dic_list()) "
    }
   },
   "types_to_exclude": [
    "module",
    "function",
    "builtin_function_or_method",
    "instance",
    "_Feature"
   ],
   "window_display": false
  }
 },
 "nbformat": 4,
 "nbformat_minor": 5
}
